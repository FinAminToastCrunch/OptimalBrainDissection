{
 "cells": [
  {
   "attachments": {},
   "cell_type": "markdown",
   "metadata": {},
   "source": [
    "# Import Libraries"
   ]
  },
  {
   "cell_type": "code",
   "execution_count": 1,
   "metadata": {
    "id": "qTo_HuQkGgAq"
   },
   "outputs": [],
   "source": [
    "import tensorflow as tf\n",
    "from tensorflow import keras\n",
    "from datetime import datetime\n",
    "import numpy as np\n",
    "import pandas as pd\n",
    "import matplotlib.pyplot as plt\n",
    "from keras_visualizer import visualizer \n",
    "\n",
    "from tensorflow.keras.layers import*\n",
    "import shap\n",
    "from keras.utils.vis_utils import plot_model\n",
    "# from keras.layers import Input\n",
    "# from keras.layers import Dense\n",
    "# from keras.layers import Conv1D\n",
    "# from keras.layers import Conv1DTranspose\n",
    "# from keras.layers import Flatten, Reshape\n",
    "\n",
    "import os\n",
    "from glob import glob\n",
    "from tqdm import tqdm\n",
    "from tensorflow.keras import losses\n",
    "from sklearn.preprocessing import StandardScaler\n",
    "from sklearn.preprocessing import MinMaxScaler"
   ]
  },
  {
   "cell_type": "code",
   "execution_count": 2,
   "metadata": {},
   "outputs": [
    {
     "data": {
      "text/plain": [
       "[PhysicalDevice(name='/physical_device:GPU:0', device_type='GPU')]"
      ]
     },
     "execution_count": 2,
     "metadata": {},
     "output_type": "execute_result"
    }
   ],
   "source": [
    "tf.config.list_physical_devices(\n",
    "    device_type=None\n",
    ")\n",
    "tf.config.list_physical_devices('GPU')"
   ]
  },
  {
   "cell_type": "code",
   "execution_count": 3,
   "metadata": {},
   "outputs": [
    {
     "data": {
      "text/plain": [
       "True"
      ]
     },
     "execution_count": 3,
     "metadata": {},
     "output_type": "execute_result"
    }
   ],
   "source": [
    "tf.executing_eagerly()"
   ]
  },
  {
   "cell_type": "code",
   "execution_count": 4,
   "metadata": {},
   "outputs": [],
   "source": [
    "import warnings\n",
    "warnings.filterwarnings('ignore')"
   ]
  },
  {
   "cell_type": "code",
   "execution_count": 5,
   "metadata": {},
   "outputs": [],
   "source": [
    "import matplotlib.pylab as pylab\n",
    "params = {'legend.fontsize': 'x-large',\n",
    "          'figure.figsize': (15, 5),\n",
    "         'axes.labelsize': 'x-large',\n",
    "         'axes.titlesize':'x-large',\n",
    "         'xtick.labelsize':'x-large',\n",
    "         'ytick.labelsize':'x-large'}\n",
    "pylab.rcParams.update(params)"
   ]
  },
  {
   "cell_type": "code",
   "execution_count": 6,
   "metadata": {},
   "outputs": [
    {
     "name": "stdout",
     "output_type": "stream",
     "text": [
      "1 Physical GPUs, 1 Logical GPUs\n"
     ]
    }
   ],
   "source": [
    "gpus = tf.config.list_physical_devices('GPU')\n",
    "if gpus:\n",
    "  try:\n",
    "    # Currently, memory growth needs to be the same across GPUs\n",
    "    for gpu in gpus:\n",
    "      tf.config.experimental.set_memory_growth(gpu, True)\n",
    "    logical_gpus = tf.config.list_logical_devices('GPU')\n",
    "    print(len(gpus), \"Physical GPUs,\", len(logical_gpus), \"Logical GPUs\")\n",
    "  except RuntimeError as e:\n",
    "    # Memory growth must be set before GPUs have been initialized\n",
    "    print(e)"
   ]
  },
  {
   "cell_type": "code",
   "execution_count": 7,
   "metadata": {},
   "outputs": [],
   "source": [
    "NUM_PARENTS = 7\n",
    "NUM_TARGETS = 372\n",
    "NUM_TIME_STEPS = 11\n",
    "NUM_REPLICATES = 4"
   ]
  },
  {
   "cell_type": "code",
   "execution_count": 8,
   "metadata": {
    "id": "gXpISOijEYqQ"
   },
   "outputs": [],
   "source": [
    "\n",
    "# matrix_path = \"regulator-gene-matrix.csv\"\n",
    "# data_path_syn = r\"C:\\Users\\Fin Amin\\Desktop\\StemCellResearch\\Fin_preProcessed\\synData\"\n",
    "# data_path_inter =  r\"C:\\Users\\Fin Amin\\Desktop\\StemCellResearch\\Fin_preProcessed\\interpolatedOnly\"\n",
    "# data_path_og_exp1 = r\"C:\\Users\\Fin Amin\\Desktop\\StemCellResearch\\Fin_preProcessed\\datasets\\exp1\"\n",
    "# data_path_testSet = r\"C:\\Users\\Fin Amin\\Desktop\\StemCellResearch\\testSetFixed\"\n",
    "# data_path_petal = r\"C:\\Users\\Fin Amin\\Desktop\\StemCellResearch\\petal_len.xlsx\""
   ]
  },
  {
   "cell_type": "code",
   "execution_count": 9,
   "metadata": {},
   "outputs": [],
   "source": [
    "dirty_RGM = r'Regulations_Control_Altona.csv'\n",
    "dirty_regulations = r'FullTable_Control.csv'"
   ]
  },
  {
   "cell_type": "code",
   "execution_count": 10,
   "metadata": {},
   "outputs": [
    {
     "data": {
      "text/plain": [
       "(372, 44)"
      ]
     },
     "execution_count": 10,
     "metadata": {},
     "output_type": "execute_result"
    }
   ],
   "source": [
    "dirtyRGM = pd.read_csv(dirty_RGM,  index_col = 0, )#on_bad_lines='skip')\n",
    "dirtyReg = pd.read_csv(dirty_regulations,  index_col = 0,)# on_bad_lines='skip')\n",
    "dirtyReg = dirtyReg.select_dtypes(include=np.number)\n",
    "dirtyReg = dirtyReg.to_numpy()\n",
    "dirtyReg.shape"
   ]
  },
  {
   "cell_type": "code",
   "execution_count": 11,
   "metadata": {},
   "outputs": [
    {
     "data": {
      "text/plain": [
       "(4, 11, 372)"
      ]
     },
     "execution_count": 11,
     "metadata": {},
     "output_type": "execute_result"
    }
   ],
   "source": [
    "def fix_dataset(dirtyR):\n",
    "    dataset = np.zeros(shape=(NUM_REPLICATES,NUM_TARGETS,NUM_TIME_STEPS))\n",
    "    ret = np.zeros(shape=(NUM_REPLICATES,NUM_TIME_STEPS,NUM_TARGETS))\n",
    "\n",
    "    for i in range(0,NUM_REPLICATES*NUM_TIME_STEPS,4):\n",
    "        for j in range(0, NUM_REPLICATES):\n",
    "            dataset[j][:,i//NUM_REPLICATES] = dirtyR[:,(i+j)]\n",
    "\n",
    "    dataset[dataset==0] = np.nan\n",
    "    for i in range(NUM_REPLICATES):\n",
    "        regScaled = MinMaxScaler().fit_transform(dataset[i].flatten().reshape((-1,1)))\n",
    "        regScaled = regScaled.reshape((NUM_TARGETS, NUM_TIME_STEPS))\n",
    "        regScaled = np.nan_to_num(regScaled, nan= -1)\n",
    "        ret[i] = regScaled.T\n",
    "    return ret\n",
    "\n",
    "dataset = fix_dataset(dirtyR=dirtyReg)\n",
    "dataset.shape"
   ]
  },
  {
   "cell_type": "code",
   "execution_count": 12,
   "metadata": {},
   "outputs": [
    {
     "name": "stdout",
     "output_type": "stream",
     "text": [
      "(3, 11, 372) (1, 11, 372)\n"
     ]
    }
   ],
   "source": [
    "beanIntensities = dataset[0:3]\n",
    "validation = np.array([dataset[3]])\n",
    "print(beanIntensities.shape, validation.shape)"
   ]
  },
  {
   "cell_type": "code",
   "execution_count": 13,
   "metadata": {},
   "outputs": [
    {
     "data": {
      "text/plain": [
       "(372, 372)"
      ]
     },
     "execution_count": 13,
     "metadata": {},
     "output_type": "execute_result"
    }
   ],
   "source": [
    "regulator_gene_matrix = np.load(\"soyBeanRGM.npy\")\n",
    "regulator_gene_matrix = regulator_gene_matrix.astype('float32')\n",
    "regulator_gene_matrix.shape"
   ]
  },
  {
   "attachments": {},
   "cell_type": "markdown",
   "metadata": {},
   "source": [
    "# Super Parent Matrix + Custom Loss"
   ]
  },
  {
   "cell_type": "code",
   "execution_count": 33,
   "metadata": {},
   "outputs": [
    {
     "name": "stdout",
     "output_type": "stream",
     "text": [
      "shape of parent index (7,)\n"
     ]
    }
   ],
   "source": [
    "superParent = regulator_gene_matrix.copy() #init the super parent with the ordinary RGM, and do forward passes with super parent\n",
    "#print(superParent.shape)\n",
    "\n",
    "ones = np.ones((NUM_TARGETS))\n",
    "parentIndex = []\n",
    "not_parentIndex = []\n",
    "for i in range(len(regulator_gene_matrix)):\n",
    "    if (np.isin(regulator_gene_matrix[i], [1])).any():\n",
    "        #print(i)\n",
    "        superParent[i] = ones \n",
    "        parentIndex.append(i)\n",
    "    else:\n",
    "        not_parentIndex.append(i)\n",
    "\n",
    "parentIndex = np.array(parentIndex)\n",
    "parentIndex = tf.convert_to_tensor(parentIndex)\n",
    "parent_idx = parentIndex.numpy()\n",
    "not_parentIndex = np.array(not_parentIndex)\n",
    "not_parentIndex = tf.convert_to_tensor(not_parentIndex)\n",
    "print(\"shape of parent index\", parentIndex.shape)\n",
    "\n",
    "def ignore_noParent_MSE_old(y_true, y_pred): \n",
    "    l = tf.keras.losses.MeanSquaredError()\n",
    "    y_true_pruned = tf.gather(y_true,parentIndex, axis =2) \n",
    "    #print(y_true_pruned.shape\n",
    "    y_pred_pruned = tf.gather(y_pred, parentIndex, axis =2)   \n",
    "    return l(y_true_pruned, y_pred_pruned)\n",
    "\n",
    "#this will not work if the entire dataset is -1 (degenerate)\n",
    "def ignore_noParent_MSE(y_true, y_pred): \n",
    "    l = tf.keras.losses.MeanSquaredError()\n",
    "    #print(y_true.shape) #(None, 44, 372)\n",
    "\n",
    "    #get the parents and flatten them\n",
    "    y_true_pruned = tf.gather(y_true, parentIndex, axis = 2) #axis 2 because batch, time, gene\n",
    "    y_true_pruned = tf.reshape(y_true_pruned, shape=([tf.size(y_true_pruned)] ) )\n",
    "    y_pred_pruned = tf.gather(y_pred, parentIndex, axis = 2) \n",
    "    y_pred_pruned = tf.reshape(y_pred_pruned, shape=([tf.size(y_pred_pruned)]) )\n",
    "\n",
    "    #get the index of the parents which are not -1\n",
    "    y_true_posID = tf.where(y_true_pruned >= 0) #gets args\n",
    "    y_true_posID = tf.squeeze(y_true_posID)\n",
    "    #get the idx of all the -1s \n",
    "    y_true_negID = tf.where(y_true_pruned < 0) \n",
    "    y_true_negID = tf.squeeze(y_true_negID)\n",
    "\n",
    "    #get all the -1s in the parents \n",
    "    y_true_neg = tf.gather(y_true_pruned, y_true_negID) #get all the -1s in y_true\n",
    "    y_pred_neg = tf.gather(y_pred_pruned, y_true_negID) #get the corresponding values for y_pred\n",
    "\n",
    "    #get the indexes where pred should be -1 but is not. get the corresponding index for ytrue\n",
    "    y_shouldBeNegButIsntID = tf.where(y_pred_neg >= 0)  \n",
    "    y_shouldBeNegButIsntID = tf.squeeze(y_shouldBeNegButIsntID) #get the idx which should be -1 for prediction but are not\n",
    "    y_true_wrong = tf.gather(y_true_pruned, y_shouldBeNegButIsntID) #get the same corresponding values from ypred\n",
    "    y_shouldBeNegButIsnt = tf.gather(y_pred_pruned, y_shouldBeNegButIsntID) #this has all the wrongly predicted values which should be -1 but are not\n",
    "\n",
    "    y_true_pos = tf.gather(y_true_pruned, y_true_posID)\n",
    "    y_pred_pos = tf.gather(y_pred_pruned, y_true_posID)\n",
    "\n",
    "    if tf.size(y_shouldBeNegButIsnt) == 0: #we can not concatenate if the size is 0. \n",
    "        return l(y_true_pos, y_pred_pos)\n",
    "\n",
    "    y_pred_total = tf.concat([y_pred_pos, y_shouldBeNegButIsnt], axis = 0) #concatenate for total mse\n",
    "    y_true_total = tf.concat([y_true_pos, y_true_wrong], axis = 0)\n",
    "\n",
    "    return l(y_true_total, y_pred_total)"
   ]
  },
  {
   "cell_type": "code",
   "execution_count": 15,
   "metadata": {},
   "outputs": [
    {
     "data": {
      "text/plain": [
       "<matplotlib.image.AxesImage at 0x1e3a0222430>"
      ]
     },
     "execution_count": 15,
     "metadata": {},
     "output_type": "execute_result"
    },
    {
     "data": {
      "image/png": "[encoded data removed]",
      "text/plain": [
       "<Figure size 1080x360 with 1 Axes>"
      ]
     },
     "metadata": {
      "needs_background": "light"
     },
     "output_type": "display_data"
    }
   ],
   "source": [
    "plt.imshow(superParent, cmap='hot')"
   ]
  },
  {
   "cell_type": "code",
   "execution_count": 16,
   "metadata": {},
   "outputs": [
    {
     "data": {
      "text/plain": [
       "<matplotlib.image.AxesImage at 0x1e3b6d41ee0>"
      ]
     },
     "execution_count": 16,
     "metadata": {},
     "output_type": "execute_result"
    },
    {
     "data": {
      "image/png": "[encoded data removed]",
      "text/plain": [
       "<Figure size 1080x360 with 1 Axes>"
      ]
     },
     "metadata": {
      "needs_background": "light"
     },
     "output_type": "display_data"
    }
   ],
   "source": [
    "\n",
    "plt.imshow(regulator_gene_matrix)"
   ]
  },
  {
   "cell_type": "markdown",
   "metadata": {},
   "source": [
    "# Ordinary Auto Encoder"
   ]
  },
  {
   "cell_type": "code",
   "execution_count": 17,
   "metadata": {
    "id": "1yhzyikoFncq"
   },
   "outputs": [],
   "source": [
    "class EncoderLinear(tf.keras.layers.Layer):\n",
    "    def __init__(self, rgm, input_dim=32, units=32):\n",
    "        super(EncoderLinear, self).__init__()\n",
    "        self.rgm = rgm\n",
    "        \n",
    "        def init_weights(shape, dtype=\"float32\"):\n",
    "\n",
    "            w_init = tf.random_normal_initializer()(shape=shape, dtype=dtype) * tf.convert_to_tensor(self.rgm, dtype=dtype)\n",
    "\n",
    "            return w_init\n",
    "        \n",
    "\n",
    "        self.w = tf.Variable(\n",
    "            initial_value=init_weights(shape=(input_dim, units), dtype=\"float32\"),\n",
    "            trainable=True,\n",
    "        )\n",
    "\n",
    "    def call(self, inputs):\n",
    "        X = inputs\n",
    "        return tf.matmul(X, tf.multiply(self.rgm, self.w))\n",
    "    #tf.matmul(inputs, self.w)"
   ]
  },
  {
   "cell_type": "code",
   "execution_count": 18,
   "metadata": {
    "id": "4uchxU-bmBDe"
   },
   "outputs": [],
   "source": [
    "class DecoderLinear(tf.keras.layers.Layer):\n",
    "    def __init__(self, rgm, input_dim=32, units=32):\n",
    "        super(DecoderLinear, self).__init__()\n",
    "        self.rgm = rgm\n",
    "\n",
    "        def init_weights(shape, dtype=\"float32\"):\n",
    "\n",
    "            w_init = tf.random_normal_initializer()(shape=shape, dtype=dtype) * tf.transpose(tf.convert_to_tensor(self.rgm, dtype=dtype))\n",
    "\n",
    "            return w_init\n",
    "    \n",
    "        \n",
    "        self.w = tf.Variable(\n",
    "            initial_value=init_weights(shape=(input_dim, units), dtype=\"float32\"),\n",
    "            trainable=True,\n",
    "        )\n",
    "\n",
    "    def call(self, inputs):\n",
    "        X = inputs\n",
    "        #return tf.matmul(X, tf.multiply((self.rgm), self.w))\n",
    "        X = tf.matmul(X, tf.multiply(tf.transpose(self.rgm), self.w)) \n",
    "        #return tf.matmul(inputs, self.w)\n",
    "        # v = tf.zeros_like(X)\n",
    "        # u = tf.ones_like(X)\n",
    "        # u = tf.math.scalar_mul(-3.0, u)\n",
    "        \n",
    "        return X#tf.where(tf.math.less(X, v), u, X) #where X is less than 0, return -1 \n",
    "        \n",
    "        "
   ]
  },
  {
   "cell_type": "code",
   "execution_count": 19,
   "metadata": {
    "id": "PQVz4BCpmNMd"
   },
   "outputs": [],
   "source": [
    "def encoder(parent_child_biological_association, num_hidden_units=21):\n",
    "    '''\n",
    "    Encoder structure\n",
    "    '''\n",
    "    '''\n",
    "    The data is time-series. Therefore, CNN to learn the temporal relationship between \n",
    "    the intensities for each gene.\n",
    "    '''\n",
    "    en_conv = Conv1D(490, 3, activation = \"relu\")(parent_child_biological_association) # 6*NUM_TARGETS Conv1D(32, 3, activation = \"relu\")(parent_child_biological_association)\n",
    "    en_dense = Flatten()(en_conv)\n",
    "    phenotype = Dense(num_hidden_units)(en_dense)\n",
    "    return phenotype\n",
    "\n",
    "def decoder(X, num_protein_gene, time_steps):\n",
    "    '''\n",
    "    Decoder structure\n",
    "    '''\n",
    "    de_dense = Dense(1024)(X)#Dense(128)(X)\n",
    "    de_dense = Reshape((1, 1024))(de_dense) #tf.reshape(de_dense, (self.batch_size,1,128))\n",
    "    de_deconv = Conv1DTranspose(num_protein_gene, time_steps, activation = \"relu\")(de_dense) #used to be transpose\n",
    "    #de_deconv = Conv1D(num_protein_gene, time_steps, activation = \"relu\")(de_dense) \n",
    "    # gene_reconstruction = self.decoder_biological_operation(de_deconv)\n",
    "    return de_deconv\n",
    "\n",
    "def model(rgm, num_protein_gene, time_steps, num_kinase_regulators, num_hidden_units = 32):\n",
    "    inp = Input(shape=(time_steps, num_kinase_regulators))\n",
    "    x = EncoderLinear(rgm, NUM_TARGETS, NUM_TARGETS)(inp)\n",
    "    enc = encoder(x, num_hidden_units)\n",
    "    dec = decoder(enc, num_protein_gene, time_steps)\n",
    "    out = DecoderLinear(rgm, NUM_TARGETS, NUM_TARGETS)(dec)\n",
    "\n",
    "    _model = tf.keras.Model(inputs=inp, outputs=out)\n",
    "\n",
    "    return _model"
   ]
  },
  {
   "cell_type": "code",
   "execution_count": 20,
   "metadata": {},
   "outputs": [],
   "source": [
    "ordinaryAE = model(regulator_gene_matrix, NUM_TARGETS, NUM_TIME_STEPS, NUM_TARGETS)\n",
    "ordinaryAE.compile(optimizer='adam', loss=ignore_noParent_MSE)"
   ]
  },
  {
   "cell_type": "code",
   "execution_count": 21,
   "metadata": {},
   "outputs": [
    {
     "name": "stdout",
     "output_type": "stream",
     "text": [
      "Epoch 1/200\n",
      "1/1 [==============================] - 6s 6s/step - loss: 0.2156 - val_loss: 0.4823\n",
      "Epoch 2/200\n",
      "1/1 [==============================] - 0s 33ms/step - loss: 0.2150 - val_loss: 0.4824\n",
      "Epoch 3/200\n",
      "1/1 [==============================] - 0s 34ms/step - loss: 0.2117 - val_loss: 0.4829\n",
      "Epoch 4/200\n",
      "1/1 [==============================] - 0s 38ms/step - loss: 0.2039 - val_loss: 0.4838\n",
      "Epoch 5/200\n",
      "1/1 [==============================] - 0s 29ms/step - loss: 0.1869 - val_loss: 0.4853\n",
      "Epoch 6/200\n",
      "1/1 [==============================] - 0s 28ms/step - loss: 0.1561 - val_loss: 0.4878\n",
      "Epoch 7/200\n",
      "1/1 [==============================] - 0s 34ms/step - loss: 0.1139 - val_loss: 0.4899\n",
      "Epoch 8/200\n",
      "1/1 [==============================] - 0s 35ms/step - loss: 0.0845 - val_loss: 0.4875\n",
      "Epoch 9/200\n",
      "1/1 [==============================] - 0s 33ms/step - loss: 0.0892 - val_loss: 0.4823\n",
      "Epoch 10/200\n",
      "1/1 [==============================] - 0s 35ms/step - loss: 0.0536 - val_loss: 0.4763\n",
      "Epoch 11/200\n",
      "1/1 [==============================] - 0s 33ms/step - loss: 0.0305 - val_loss: 0.4708\n",
      "Epoch 12/200\n",
      "1/1 [==============================] - 0s 33ms/step - loss: 0.0292 - val_loss: 0.4658\n",
      "Epoch 13/200\n",
      "1/1 [==============================] - 0s 32ms/step - loss: 0.0319 - val_loss: 0.4613\n",
      "Epoch 14/200\n",
      "1/1 [==============================] - 0s 32ms/step - loss: 0.0307 - val_loss: 0.4568\n",
      "Epoch 15/200\n",
      "1/1 [==============================] - 0s 37ms/step - loss: 0.0263 - val_loss: 0.4522\n",
      "Epoch 16/200\n",
      "1/1 [==============================] - 0s 32ms/step - loss: 0.0213 - val_loss: 0.4479\n",
      "Epoch 17/200\n",
      "1/1 [==============================] - 0s 31ms/step - loss: 0.0170 - val_loss: 0.4443\n",
      "Epoch 18/200\n",
      "1/1 [==============================] - 0s 30ms/step - loss: 0.0128 - val_loss: 0.4417\n",
      "Epoch 19/200\n",
      "1/1 [==============================] - 0s 30ms/step - loss: 0.0090 - val_loss: 0.4402\n",
      "Epoch 20/200\n",
      "1/1 [==============================] - 0s 30ms/step - loss: 0.0074 - val_loss: 0.4394\n",
      "Epoch 21/200\n",
      "1/1 [==============================] - 0s 30ms/step - loss: 0.0080 - val_loss: 0.4390\n",
      "Epoch 22/200\n",
      "1/1 [==============================] - 0s 33ms/step - loss: 0.0094 - val_loss: 0.4387\n",
      "Epoch 23/200\n",
      "1/1 [==============================] - 0s 31ms/step - loss: 0.0100 - val_loss: 0.4385\n",
      "Epoch 24/200\n",
      "1/1 [==============================] - 0s 30ms/step - loss: 0.0097 - val_loss: 0.4383\n",
      "Epoch 25/200\n",
      "1/1 [==============================] - 0s 49ms/step - loss: 0.0089 - val_loss: 0.4385\n",
      "Epoch 26/200\n",
      "1/1 [==============================] - 0s 35ms/step - loss: 0.0081 - val_loss: 0.4391\n",
      "Epoch 27/200\n",
      "1/1 [==============================] - 0s 31ms/step - loss: 0.0069 - val_loss: 0.4400\n",
      "Epoch 28/200\n",
      "1/1 [==============================] - 0s 32ms/step - loss: 0.0056 - val_loss: 0.4411\n",
      "Epoch 29/200\n",
      "1/1 [==============================] - 0s 55ms/step - loss: 0.0046 - val_loss: 0.4421\n",
      "Epoch 30/200\n",
      "1/1 [==============================] - 0s 35ms/step - loss: 0.0043 - val_loss: 0.4428\n",
      "Epoch 31/200\n",
      "1/1 [==============================] - 0s 29ms/step - loss: 0.0043 - val_loss: 0.4430\n",
      "Epoch 32/200\n",
      "1/1 [==============================] - 0s 27ms/step - loss: 0.0044 - val_loss: 0.4429\n",
      "Epoch 33/200\n",
      "1/1 [==============================] - 0s 27ms/step - loss: 0.0046 - val_loss: 0.4425\n",
      "Epoch 34/200\n",
      "1/1 [==============================] - 0s 39ms/step - loss: 0.0048 - val_loss: 0.4420\n",
      "Epoch 35/200\n",
      "1/1 [==============================] - 0s 39ms/step - loss: 0.0048 - val_loss: 0.4414\n",
      "Epoch 36/200\n",
      "1/1 [==============================] - 0s 36ms/step - loss: 0.0045 - val_loss: 0.4407\n",
      "Epoch 37/200\n",
      "1/1 [==============================] - 0s 33ms/step - loss: 0.0042 - val_loss: 0.4398\n",
      "Epoch 38/200\n",
      "1/1 [==============================] - 0s 35ms/step - loss: 0.0039 - val_loss: 0.4388\n",
      "Epoch 39/200\n",
      "1/1 [==============================] - 0s 35ms/step - loss: 0.0036 - val_loss: 0.4377\n",
      "Epoch 40/200\n",
      "1/1 [==============================] - 0s 34ms/step - loss: 0.0034 - val_loss: 0.4366\n",
      "Epoch 41/200\n",
      "1/1 [==============================] - 0s 35ms/step - loss: 0.0033 - val_loss: 0.4358\n",
      "Epoch 42/200\n",
      "1/1 [==============================] - 0s 31ms/step - loss: 0.0034 - val_loss: 0.4353\n",
      "Epoch 43/200\n",
      "1/1 [==============================] - 0s 34ms/step - loss: 0.0034 - val_loss: 0.4350\n",
      "Epoch 44/200\n",
      "1/1 [==============================] - 0s 33ms/step - loss: 0.0034 - val_loss: 0.4349\n",
      "Epoch 45/200\n",
      "1/1 [==============================] - 0s 35ms/step - loss: 0.0034 - val_loss: 0.4348\n",
      "Epoch 46/200\n",
      "1/1 [==============================] - 0s 34ms/step - loss: 0.0035 - val_loss: 0.4346\n",
      "Epoch 47/200\n",
      "1/1 [==============================] - 0s 33ms/step - loss: 0.0034 - val_loss: 0.4345\n",
      "Epoch 48/200\n",
      "1/1 [==============================] - 0s 34ms/step - loss: 0.0034 - val_loss: 0.4344\n",
      "Epoch 49/200\n",
      "1/1 [==============================] - 0s 54ms/step - loss: 0.0033 - val_loss: 0.4345\n",
      "Epoch 50/200\n",
      "1/1 [==============================] - 0s 35ms/step - loss: 0.0033 - val_loss: 0.4347\n",
      "Epoch 51/200\n",
      "1/1 [==============================] - 0s 50ms/step - loss: 0.0032 - val_loss: 0.4350\n",
      "Epoch 52/200\n",
      "1/1 [==============================] - 0s 39ms/step - loss: 0.0031 - val_loss: 0.4352\n",
      "Epoch 53/200\n",
      "1/1 [==============================] - 0s 32ms/step - loss: 0.0031 - val_loss: 0.4353\n",
      "Epoch 54/200\n",
      "1/1 [==============================] - 0s 35ms/step - loss: 0.0031 - val_loss: 0.4354\n",
      "Epoch 55/200\n",
      "1/1 [==============================] - 0s 33ms/step - loss: 0.0031 - val_loss: 0.4354\n",
      "Epoch 56/200\n",
      "1/1 [==============================] - 0s 35ms/step - loss: 0.0031 - val_loss: 0.4355\n",
      "Epoch 57/200\n",
      "1/1 [==============================] - 0s 35ms/step - loss: 0.0031 - val_loss: 0.4356\n",
      "Epoch 58/200\n",
      "1/1 [==============================] - 0s 29ms/step - loss: 0.0031 - val_loss: 0.4357\n",
      "Epoch 59/200\n",
      "1/1 [==============================] - 0s 31ms/step - loss: 0.0031 - val_loss: 0.4357\n",
      "Epoch 60/200\n",
      "1/1 [==============================] - 0s 42ms/step - loss: 0.0031 - val_loss: 0.4356\n",
      "Epoch 61/200\n",
      "1/1 [==============================] - 0s 39ms/step - loss: 0.0031 - val_loss: 0.4354\n",
      "Epoch 62/200\n",
      "1/1 [==============================] - 0s 37ms/step - loss: 0.0031 - val_loss: 0.4352\n",
      "Epoch 63/200\n",
      "1/1 [==============================] - 0s 35ms/step - loss: 0.0031 - val_loss: 0.4350\n",
      "Epoch 64/200\n",
      "1/1 [==============================] - 0s 35ms/step - loss: 0.0030 - val_loss: 0.4349\n",
      "Epoch 65/200\n",
      "1/1 [==============================] - 0s 37ms/step - loss: 0.0030 - val_loss: 0.4347\n",
      "Epoch 66/200\n",
      "1/1 [==============================] - 0s 33ms/step - loss: 0.0030 - val_loss: 0.4346\n",
      "Epoch 67/200\n",
      "1/1 [==============================] - 0s 35ms/step - loss: 0.0030 - val_loss: 0.4344\n",
      "Epoch 68/200\n",
      "1/1 [==============================] - 0s 34ms/step - loss: 0.0030 - val_loss: 0.4342\n",
      "Epoch 69/200\n",
      "1/1 [==============================] - 0s 34ms/step - loss: 0.0030 - val_loss: 0.4340\n",
      "Epoch 70/200\n",
      "1/1 [==============================] - 0s 36ms/step - loss: 0.0030 - val_loss: 0.4339\n",
      "Epoch 71/200\n",
      "1/1 [==============================] - 0s 34ms/step - loss: 0.0030 - val_loss: 0.4340\n",
      "Epoch 72/200\n",
      "1/1 [==============================] - 0s 33ms/step - loss: 0.0030 - val_loss: 0.4340\n",
      "Epoch 73/200\n",
      "1/1 [==============================] - 0s 36ms/step - loss: 0.0030 - val_loss: 0.4340\n",
      "Epoch 74/200\n",
      "1/1 [==============================] - 0s 34ms/step - loss: 0.0030 - val_loss: 0.4340\n",
      "Epoch 75/200\n",
      "1/1 [==============================] - 0s 40ms/step - loss: 0.0030 - val_loss: 0.4340\n",
      "Epoch 76/200\n",
      "1/1 [==============================] - 0s 45ms/step - loss: 0.0030 - val_loss: 0.4340\n",
      "Epoch 77/200\n",
      "1/1 [==============================] - 0s 34ms/step - loss: 0.0030 - val_loss: 0.4341\n",
      "Epoch 78/200\n",
      "1/1 [==============================] - 0s 35ms/step - loss: 0.0030 - val_loss: 0.4342\n",
      "Epoch 79/200\n",
      "1/1 [==============================] - 0s 35ms/step - loss: 0.0030 - val_loss: 0.4343\n",
      "Epoch 80/200\n",
      "1/1 [==============================] - 0s 46ms/step - loss: 0.0030 - val_loss: 0.4343\n",
      "Epoch 81/200\n",
      "1/1 [==============================] - 0s 37ms/step - loss: 0.0030 - val_loss: 0.4343\n",
      "Epoch 82/200\n",
      "1/1 [==============================] - 0s 30ms/step - loss: 0.0030 - val_loss: 0.4342\n",
      "Epoch 83/200\n",
      "1/1 [==============================] - 0s 31ms/step - loss: 0.0030 - val_loss: 0.4342\n",
      "Epoch 84/200\n",
      "1/1 [==============================] - 0s 41ms/step - loss: 0.0030 - val_loss: 0.4342\n",
      "Epoch 85/200\n",
      "1/1 [==============================] - 0s 40ms/step - loss: 0.0030 - val_loss: 0.4341\n",
      "Epoch 86/200\n",
      "1/1 [==============================] - 0s 38ms/step - loss: 0.0030 - val_loss: 0.4341\n",
      "Epoch 87/200\n",
      "1/1 [==============================] - 0s 38ms/step - loss: 0.0030 - val_loss: 0.4340\n",
      "Epoch 88/200\n",
      "1/1 [==============================] - 0s 39ms/step - loss: 0.0030 - val_loss: 0.4340\n",
      "Epoch 89/200\n",
      "1/1 [==============================] - 0s 36ms/step - loss: 0.0030 - val_loss: 0.4340\n",
      "Epoch 90/200\n",
      "1/1 [==============================] - 0s 35ms/step - loss: 0.0030 - val_loss: 0.4340\n",
      "Epoch 91/200\n",
      "1/1 [==============================] - 0s 36ms/step - loss: 0.0030 - val_loss: 0.4340\n",
      "Epoch 92/200\n",
      "1/1 [==============================] - 0s 35ms/step - loss: 0.0030 - val_loss: 0.4340\n",
      "Epoch 93/200\n",
      "1/1 [==============================] - 0s 34ms/step - loss: 0.0030 - val_loss: 0.4340\n",
      "Epoch 94/200\n",
      "1/1 [==============================] - 0s 33ms/step - loss: 0.0030 - val_loss: 0.4339\n",
      "Epoch 95/200\n",
      "1/1 [==============================] - 0s 33ms/step - loss: 0.0030 - val_loss: 0.4338\n",
      "Epoch 96/200\n",
      "1/1 [==============================] - 0s 34ms/step - loss: 0.0030 - val_loss: 0.4338\n",
      "Epoch 97/200\n",
      "1/1 [==============================] - 0s 47ms/step - loss: 0.0030 - val_loss: 0.4338\n",
      "Epoch 98/200\n",
      "1/1 [==============================] - 0s 34ms/step - loss: 0.0030 - val_loss: 0.4338\n",
      "Epoch 99/200\n",
      "1/1 [==============================] - 0s 34ms/step - loss: 0.0030 - val_loss: 0.4337\n",
      "Epoch 100/200\n",
      "1/1 [==============================] - 0s 52ms/step - loss: 0.0030 - val_loss: 0.4337\n",
      "Epoch 101/200\n",
      "1/1 [==============================] - 0s 41ms/step - loss: 0.0030 - val_loss: 0.4337\n",
      "Epoch 102/200\n",
      "1/1 [==============================] - 0s 38ms/step - loss: 0.0030 - val_loss: 0.4337\n",
      "Epoch 103/200\n",
      "1/1 [==============================] - 0s 37ms/step - loss: 0.0030 - val_loss: 0.4337\n",
      "Epoch 104/200\n",
      "1/1 [==============================] - 0s 34ms/step - loss: 0.0030 - val_loss: 0.4337\n",
      "Epoch 105/200\n",
      "1/1 [==============================] - 0s 33ms/step - loss: 0.0029 - val_loss: 0.4337\n",
      "Epoch 106/200\n",
      "1/1 [==============================] - 0s 31ms/step - loss: 0.0029 - val_loss: 0.4336\n",
      "Epoch 107/200\n",
      "1/1 [==============================] - 0s 27ms/step - loss: 0.0029 - val_loss: 0.4336\n",
      "Epoch 108/200\n",
      "1/1 [==============================] - 0s 38ms/step - loss: 0.0029 - val_loss: 0.4336\n",
      "Epoch 109/200\n",
      "1/1 [==============================] - 0s 36ms/step - loss: 0.0029 - val_loss: 0.4336\n",
      "Epoch 110/200\n",
      "1/1 [==============================] - 0s 34ms/step - loss: 0.0029 - val_loss: 0.4335\n",
      "Epoch 111/200\n",
      "1/1 [==============================] - 0s 35ms/step - loss: 0.0029 - val_loss: 0.4335\n",
      "Epoch 112/200\n",
      "1/1 [==============================] - 0s 38ms/step - loss: 0.0029 - val_loss: 0.4335\n",
      "Epoch 113/200\n",
      "1/1 [==============================] - 0s 36ms/step - loss: 0.0029 - val_loss: 0.4334\n",
      "Epoch 114/200\n",
      "1/1 [==============================] - 0s 36ms/step - loss: 0.0029 - val_loss: 0.4333\n",
      "Epoch 115/200\n",
      "1/1 [==============================] - 0s 34ms/step - loss: 0.0029 - val_loss: 0.4333\n",
      "Epoch 116/200\n",
      "1/1 [==============================] - 0s 53ms/step - loss: 0.0029 - val_loss: 0.4332\n",
      "Epoch 117/200\n",
      "1/1 [==============================] - 0s 34ms/step - loss: 0.0029 - val_loss: 0.4332\n",
      "Epoch 118/200\n",
      "1/1 [==============================] - 0s 34ms/step - loss: 0.0029 - val_loss: 0.4331\n",
      "Epoch 119/200\n",
      "1/1 [==============================] - 0s 32ms/step - loss: 0.0029 - val_loss: 0.4331\n",
      "Epoch 120/200\n",
      "1/1 [==============================] - 0s 34ms/step - loss: 0.0029 - val_loss: 0.4331\n",
      "Epoch 121/200\n",
      "1/1 [==============================] - 0s 35ms/step - loss: 0.0029 - val_loss: 0.4331\n",
      "Epoch 122/200\n",
      "1/1 [==============================] - 0s 35ms/step - loss: 0.0029 - val_loss: 0.4330\n",
      "Epoch 123/200\n",
      "1/1 [==============================] - 0s 33ms/step - loss: 0.0029 - val_loss: 0.4330\n",
      "Epoch 124/200\n",
      "1/1 [==============================] - 0s 34ms/step - loss: 0.0029 - val_loss: 0.4329\n",
      "Epoch 125/200\n",
      "1/1 [==============================] - 0s 47ms/step - loss: 0.0029 - val_loss: 0.4329\n",
      "Epoch 126/200\n",
      "1/1 [==============================] - 0s 36ms/step - loss: 0.0029 - val_loss: 0.4328\n",
      "Epoch 127/200\n",
      "1/1 [==============================] - 0s 43ms/step - loss: 0.0029 - val_loss: 0.4328\n",
      "Epoch 128/200\n",
      "1/1 [==============================] - 0s 45ms/step - loss: 0.0029 - val_loss: 0.4327\n",
      "Epoch 129/200\n",
      "1/1 [==============================] - 0s 38ms/step - loss: 0.0029 - val_loss: 0.4327\n",
      "Epoch 130/200\n",
      "1/1 [==============================] - 0s 35ms/step - loss: 0.0029 - val_loss: 0.4327\n",
      "Epoch 131/200\n",
      "1/1 [==============================] - 0s 31ms/step - loss: 0.0029 - val_loss: 0.4326\n",
      "Epoch 132/200\n",
      "1/1 [==============================] - 0s 31ms/step - loss: 0.0028 - val_loss: 0.4326\n",
      "Epoch 133/200\n",
      "1/1 [==============================] - 0s 41ms/step - loss: 0.0028 - val_loss: 0.4325\n",
      "Epoch 134/200\n",
      "1/1 [==============================] - 0s 37ms/step - loss: 0.0028 - val_loss: 0.4324\n",
      "Epoch 135/200\n",
      "1/1 [==============================] - 0s 37ms/step - loss: 0.0028 - val_loss: 0.4323\n",
      "Epoch 136/200\n",
      "1/1 [==============================] - 0s 39ms/step - loss: 0.0028 - val_loss: 0.4322\n",
      "Epoch 137/200\n",
      "1/1 [==============================] - 0s 38ms/step - loss: 0.0028 - val_loss: 0.4321\n",
      "Epoch 138/200\n",
      "1/1 [==============================] - 0s 38ms/step - loss: 0.0028 - val_loss: 0.4321\n",
      "Epoch 139/200\n",
      "1/1 [==============================] - 0s 34ms/step - loss: 0.0028 - val_loss: 0.4320\n",
      "Epoch 140/200\n",
      "1/1 [==============================] - 0s 34ms/step - loss: 0.0028 - val_loss: 0.4319\n",
      "Epoch 141/200\n",
      "1/1 [==============================] - 0s 37ms/step - loss: 0.0028 - val_loss: 0.4319\n",
      "Epoch 142/200\n",
      "1/1 [==============================] - 0s 33ms/step - loss: 0.0027 - val_loss: 0.4318\n",
      "Epoch 143/200\n",
      "1/1 [==============================] - 0s 36ms/step - loss: 0.0027 - val_loss: 0.4317\n",
      "Epoch 144/200\n",
      "1/1 [==============================] - 0s 35ms/step - loss: 0.0027 - val_loss: 0.4316\n",
      "Epoch 145/200\n",
      "1/1 [==============================] - 0s 35ms/step - loss: 0.0027 - val_loss: 0.4315\n",
      "Epoch 146/200\n",
      "1/1 [==============================] - 0s 32ms/step - loss: 0.0027 - val_loss: 0.4314\n",
      "Epoch 147/200\n",
      "1/1 [==============================] - 0s 45ms/step - loss: 0.0026 - val_loss: 0.4313\n",
      "Epoch 148/200\n",
      "1/1 [==============================] - 0s 42ms/step - loss: 0.0026 - val_loss: 0.4311\n",
      "Epoch 149/200\n",
      "1/1 [==============================] - 0s 48ms/step - loss: 0.0026 - val_loss: 0.4310\n",
      "Epoch 150/200\n",
      "1/1 [==============================] - 0s 36ms/step - loss: 0.0026 - val_loss: 0.4308\n",
      "Epoch 151/200\n",
      "1/1 [==============================] - 0s 34ms/step - loss: 0.0025 - val_loss: 0.4307\n",
      "Epoch 152/200\n",
      "1/1 [==============================] - 0s 35ms/step - loss: 0.0025 - val_loss: 0.4305\n",
      "Epoch 153/200\n",
      "1/1 [==============================] - 0s 37ms/step - loss: 0.0025 - val_loss: 0.4304\n",
      "Epoch 154/200\n",
      "1/1 [==============================] - 0s 35ms/step - loss: 0.0024 - val_loss: 0.4302\n",
      "Epoch 155/200\n",
      "1/1 [==============================] - 0s 31ms/step - loss: 0.0024 - val_loss: 0.4300\n",
      "Epoch 156/200\n",
      "1/1 [==============================] - 0s 32ms/step - loss: 0.0024 - val_loss: 0.4298\n",
      "Epoch 157/200\n",
      "1/1 [==============================] - 0s 38ms/step - loss: 0.0023 - val_loss: 0.4295\n",
      "Epoch 158/200\n",
      "1/1 [==============================] - 0s 37ms/step - loss: 0.0023 - val_loss: 0.4293\n",
      "Epoch 159/200\n",
      "1/1 [==============================] - 0s 37ms/step - loss: 0.0022 - val_loss: 0.4290\n",
      "Epoch 160/200\n",
      "1/1 [==============================] - 0s 40ms/step - loss: 0.0021 - val_loss: 0.4287\n",
      "Epoch 161/200\n",
      "1/1 [==============================] - 0s 37ms/step - loss: 0.0021 - val_loss: 0.4283\n",
      "Epoch 162/200\n",
      "1/1 [==============================] - 0s 38ms/step - loss: 0.0020 - val_loss: 0.4279\n",
      "Epoch 163/200\n",
      "1/1 [==============================] - 0s 35ms/step - loss: 0.0019 - val_loss: 0.4275\n",
      "Epoch 164/200\n",
      "1/1 [==============================] - 0s 34ms/step - loss: 0.0018 - val_loss: 0.4269\n",
      "Epoch 165/200\n",
      "1/1 [==============================] - 0s 41ms/step - loss: 0.0018 - val_loss: 0.4290\n",
      "Epoch 166/200\n",
      "1/1 [==============================] - 0s 34ms/step - loss: 0.0017 - val_loss: 0.4284\n",
      "Epoch 167/200\n",
      "1/1 [==============================] - 0s 35ms/step - loss: 0.0016 - val_loss: 0.4278\n",
      "Epoch 168/200\n",
      "1/1 [==============================] - 0s 35ms/step - loss: 0.0014 - val_loss: 0.4269\n",
      "Epoch 169/200\n",
      "1/1 [==============================] - 0s 35ms/step - loss: 0.0013 - val_loss: 0.4260\n",
      "Epoch 170/200\n",
      "1/1 [==============================] - 0s 35ms/step - loss: 0.0012 - val_loss: 0.4250\n",
      "Epoch 171/200\n",
      "1/1 [==============================] - 0s 35ms/step - loss: 0.0011 - val_loss: 0.4240\n",
      "Epoch 172/200\n",
      "1/1 [==============================] - 0s 47ms/step - loss: 0.0010 - val_loss: 0.4229\n",
      "Epoch 173/200\n",
      "1/1 [==============================] - 0s 38ms/step - loss: 9.1401e-04 - val_loss: 0.4240\n",
      "Epoch 174/200\n",
      "1/1 [==============================] - 0s 42ms/step - loss: 8.2685e-04 - val_loss: 0.4229\n",
      "Epoch 175/200\n",
      "1/1 [==============================] - 0s 35ms/step - loss: 7.5221e-04 - val_loss: 0.4248\n",
      "Epoch 176/200\n",
      "1/1 [==============================] - 0s 37ms/step - loss: 6.9543e-04 - val_loss: 0.4236\n",
      "Epoch 177/200\n",
      "1/1 [==============================] - 0s 36ms/step - loss: 6.5558e-04 - val_loss: 0.4224\n",
      "Epoch 178/200\n",
      "1/1 [==============================] - 0s 33ms/step - loss: 6.2984e-04 - val_loss: 0.4212\n",
      "Epoch 179/200\n",
      "1/1 [==============================] - 0s 31ms/step - loss: 6.1419e-04 - val_loss: 0.4199\n",
      "Epoch 180/200\n",
      "1/1 [==============================] - 0s 41ms/step - loss: 6.0455e-04 - val_loss: 0.4188\n",
      "Epoch 181/200\n",
      "1/1 [==============================] - 0s 38ms/step - loss: 5.9491e-04 - val_loss: 0.4177\n",
      "Epoch 182/200\n",
      "1/1 [==============================] - 0s 36ms/step - loss: 5.8233e-04 - val_loss: 0.4166\n",
      "Epoch 183/200\n",
      "1/1 [==============================] - 0s 38ms/step - loss: 5.6319e-04 - val_loss: 0.4157\n",
      "Epoch 184/200\n",
      "1/1 [==============================] - 0s 35ms/step - loss: 5.3583e-04 - val_loss: 0.4148\n",
      "Epoch 185/200\n",
      "1/1 [==============================] - 0s 36ms/step - loss: 5.0211e-04 - val_loss: 0.4140\n",
      "Epoch 186/200\n",
      "1/1 [==============================] - 0s 40ms/step - loss: 4.6787e-04 - val_loss: 0.4133\n",
      "Epoch 187/200\n",
      "1/1 [==============================] - 0s 34ms/step - loss: 4.4076e-04 - val_loss: 0.4127\n",
      "Epoch 188/200\n",
      "1/1 [==============================] - 0s 42ms/step - loss: 4.2371e-04 - val_loss: 0.4121\n",
      "Epoch 189/200\n",
      "1/1 [==============================] - 0s 35ms/step - loss: 4.1532e-04 - val_loss: 0.4117\n",
      "Epoch 190/200\n",
      "1/1 [==============================] - 0s 37ms/step - loss: 4.1154e-04 - val_loss: 0.4113\n",
      "Epoch 191/200\n",
      "1/1 [==============================] - 0s 37ms/step - loss: 4.0813e-04 - val_loss: 0.4109\n",
      "Epoch 192/200\n",
      "1/1 [==============================] - 0s 36ms/step - loss: 4.0330e-04 - val_loss: 0.4106\n",
      "Epoch 193/200\n",
      "1/1 [==============================] - 0s 37ms/step - loss: 3.9624e-04 - val_loss: 0.4104\n",
      "Epoch 194/200\n",
      "1/1 [==============================] - 0s 39ms/step - loss: 3.8769e-04 - val_loss: 0.4103\n",
      "Epoch 195/200\n",
      "1/1 [==============================] - 0s 54ms/step - loss: 3.7892e-04 - val_loss: 0.4102\n",
      "Epoch 196/200\n",
      "1/1 [==============================] - 0s 47ms/step - loss: 3.7106e-04 - val_loss: 0.4102\n",
      "Epoch 197/200\n",
      "1/1 [==============================] - 0s 39ms/step - loss: 3.6480e-04 - val_loss: 0.4103\n",
      "Epoch 198/200\n",
      "1/1 [==============================] - 0s 35ms/step - loss: 3.6064e-04 - val_loss: 0.4106\n",
      "Epoch 199/200\n",
      "1/1 [==============================] - 0s 33ms/step - loss: 3.5805e-04 - val_loss: 0.4109\n",
      "Epoch 200/200\n",
      "1/1 [==============================] - 0s 43ms/step - loss: 3.5607e-04 - val_loss: 0.4113\n"
     ]
    }
   ],
   "source": [
    "o = ordinaryAE.fit(beanIntensities, beanIntensities, epochs=200, verbose = True, validation_data=(validation, validation))\n",
    "#print(o.history['loss'][-1]) #the final loss "
   ]
  },
  {
   "attachments": {},
   "cell_type": "markdown",
   "metadata": {},
   "source": [
    "# Super Parent AutoEncoder"
   ]
  },
  {
   "cell_type": "code",
   "execution_count": 22,
   "metadata": {},
   "outputs": [],
   "source": [
    "class EncoderLinearSuperParent(tf.keras.layers.Layer):\n",
    "    def __init__(self, rgm, oldrgm, input_dim=32, units=32):\n",
    "        super(EncoderLinearSuperParent, self).__init__()\n",
    "        self.rgm = rgm\n",
    "        self.OGrgm = oldrgm\n",
    "        \n",
    "        def init_weights(shape, dtype=\"float32\"):\n",
    "\n",
    "            w_init = tf.random_normal_initializer()(shape=shape, dtype=dtype) * tf.convert_to_tensor(self.OGrgm, dtype=dtype)\n",
    "\n",
    "            return w_init\n",
    "        \n",
    "\n",
    "        self.w = tf.Variable(\n",
    "            initial_value=init_weights(shape=(input_dim, units), dtype=\"float32\"),\n",
    "            trainable=True,\n",
    "        )\n",
    "\n",
    "    def call(self, inputs):\n",
    "        X = inputs\n",
    "        return tf.matmul(X, tf.multiply(self.rgm, self.w))\n",
    "    #tf.matmul(inputs, self.w)\n",
    "\n",
    "class DecoderLinearSuperParent(tf.keras.layers.Layer):\n",
    "    def __init__(self, rgm, oldrgm, input_dim=32, units=32):\n",
    "        super(DecoderLinearSuperParent, self).__init__()\n",
    "        self.rgm = rgm\n",
    "        self.OGrgm = oldrgm\n",
    "\n",
    "        def init_weights(shape, dtype=\"float32\"):\n",
    "\n",
    "            w_init = tf.random_normal_initializer()(shape=shape, dtype=dtype) * tf.transpose(tf.convert_to_tensor(self.OGrgm, dtype=dtype))\n",
    "\n",
    "            return w_init\n",
    "    \n",
    "        \n",
    "        self.w = tf.Variable(\n",
    "            initial_value=init_weights(shape=(input_dim, units), dtype=\"float32\"),\n",
    "            trainable=True,\n",
    "        )\n",
    "\n",
    "    def call(self, inputs):\n",
    "        X = inputs\n",
    "        #return tf.matmul(X, tf.multiply((self.rgm), self.w))\n",
    "        X = tf.matmul(X, tf.multiply(tf.transpose(self.rgm), self.w)) \n",
    "        #return tf.matmul(inputs, self.w)\n",
    "        # v = tf.zeros_like(X)\n",
    "        # u = tf.ones_like(X)\n",
    "        # u = tf.math.scalar_mul(-3.0, u)\n",
    "        \n",
    "        return X#tf.where(tf.math.less(X, v), u, X) #where X is less than 0, return -1 \n",
    "        \n",
    "        \n",
    "def encoder(parent_child_biological_association, num_hidden_units=21):\n",
    "    '''\n",
    "    Encoder structure\n",
    "    '''\n",
    "    '''\n",
    "    The data is time-series. Therefore, CNN to learn the temporal relationship between \n",
    "    the intensities for each gene.\n",
    "    '''\n",
    "    en_conv = Conv1D(32, 3, activation = \"relu\")(parent_child_biological_association) # 6*NUM_TARGETS\n",
    "    en_dense = Flatten()(en_conv)\n",
    "    phenotype = Dense(num_hidden_units)(en_dense)\n",
    "    return phenotype\n",
    "\n",
    "def decoder(X, num_protein_gene, time_steps):\n",
    "    '''\n",
    "    Decoder structure\n",
    "    '''\n",
    "    de_dense = Dense(128)(X)\n",
    "    de_dense = Reshape((1, 128))(de_dense) #tf.reshape(de_dense, (self.batch_size,1,128))\n",
    "    de_deconv = Conv1DTranspose(num_protein_gene, time_steps, activation = \"relu\")(de_dense) #used to be transpose\n",
    "    #de_deconv = Conv1D(num_protein_gene, time_steps, activation = \"relu\")(de_dense) \n",
    "    # gene_reconstruction = self.decoder_biological_operation(de_deconv)\n",
    "    return de_deconv\n",
    "\n",
    "def modelSuperParent(rgm, oldRGM, num_protein_gene, time_steps, num_kinase_regulators, num_hidden_units = 21): #rgm is set to superparent, oldrgm is original rgm unmodified\n",
    "    inp = Input(shape=(time_steps, num_kinase_regulators))\n",
    "    x = EncoderLinearSuperParent(rgm, oldRGM, NUM_TARGETS, NUM_TARGETS)(inp)\n",
    "    enc = encoder(x, num_hidden_units)\n",
    "    dec = decoder(enc, num_protein_gene, time_steps)\n",
    "    out = DecoderLinearSuperParent(rgm, oldRGM, NUM_TARGETS, NUM_TARGETS)(dec)\n",
    "\n",
    "    _model = tf.keras.Model(inputs=inp, outputs=out)\n",
    "\n",
    "    return _model"
   ]
  },
  {
   "cell_type": "code",
   "execution_count": 23,
   "metadata": {},
   "outputs": [],
   "source": [
    "def modelSuperParentSequential(rgm, oldRGM, num_protein_gene, time_steps, num_kinase_regulators, num_hidden_units = 21): #rgm is set to superparent, oldrgm is original rgm unmodified\n",
    "    m = tf.keras.Sequential()\n",
    "    inp = Input(shape=(time_steps, num_kinase_regulators))\n",
    "    x = EncoderLinearSuperParent(rgm, oldRGM, NUM_TARGETS, NUM_TARGETS)(inp)\n",
    "    enc = encoder(x, num_hidden_units)\n",
    "    dec = decoder(enc, num_protein_gene, time_steps)\n",
    "    out = DecoderLinearSuperParent(rgm, oldRGM, NUM_TARGETS, NUM_TARGETS)(dec)\n",
    "\n",
    "    _model = tf.keras.Model(inputs=inp, outputs=out)\n",
    "\n",
    "    return _model"
   ]
  },
  {
   "cell_type": "code",
   "execution_count": 24,
   "metadata": {},
   "outputs": [
    {
     "name": "stdout",
     "output_type": "stream",
     "text": [
      "Epoch 1/200\n",
      "1/1 [==============================] - 3s 3s/step - loss: 0.2498 - val_loss: 0.4792\n",
      "Epoch 2/200\n",
      "1/1 [==============================] - 0s 32ms/step - loss: 0.2475 - val_loss: 0.4799\n",
      "Epoch 3/200\n",
      "1/1 [==============================] - 0s 45ms/step - loss: 0.2412 - val_loss: 0.4788\n",
      "Epoch 4/200\n",
      "1/1 [==============================] - 0s 42ms/step - loss: 0.2281 - val_loss: 0.4773\n",
      "Epoch 5/200\n",
      "1/1 [==============================] - 0s 40ms/step - loss: 0.2044 - val_loss: 0.4754\n",
      "Epoch 6/200\n",
      "1/1 [==============================] - 0s 33ms/step - loss: 0.1657 - val_loss: 0.4733\n",
      "Epoch 7/200\n",
      "1/1 [==============================] - 0s 33ms/step - loss: 0.1104 - val_loss: 0.4705\n",
      "Epoch 8/200\n",
      "1/1 [==============================] - 0s 30ms/step - loss: 0.0475 - val_loss: 0.4674\n",
      "Epoch 9/200\n",
      "1/1 [==============================] - 0s 32ms/step - loss: 0.0186 - val_loss: 0.4651\n",
      "Epoch 10/200\n",
      "1/1 [==============================] - 0s 25ms/step - loss: 0.0752 - val_loss: 0.4654\n",
      "Epoch 11/200\n",
      "1/1 [==============================] - 0s 26ms/step - loss: 0.0580 - val_loss: 0.4669\n",
      "Epoch 12/200\n",
      "1/1 [==============================] - 0s 27ms/step - loss: 0.0169 - val_loss: 0.4685\n",
      "Epoch 13/200\n",
      "1/1 [==============================] - 0s 40ms/step - loss: 0.0021 - val_loss: 0.4699\n",
      "Epoch 14/200\n",
      "1/1 [==============================] - 0s 32ms/step - loss: 0.0091 - val_loss: 0.4709\n",
      "Epoch 15/200\n",
      "1/1 [==============================] - 0s 36ms/step - loss: 0.0208 - val_loss: 0.4715\n",
      "Epoch 16/200\n",
      "1/1 [==============================] - 0s 35ms/step - loss: 0.0281 - val_loss: 0.4718\n",
      "Epoch 17/200\n",
      "1/1 [==============================] - 0s 32ms/step - loss: 0.0289 - val_loss: 0.4717\n",
      "Epoch 18/200\n",
      "1/1 [==============================] - 0s 33ms/step - loss: 0.0241 - val_loss: 0.4714\n",
      "Epoch 19/200\n",
      "1/1 [==============================] - 0s 29ms/step - loss: 0.0162 - val_loss: 0.4708\n",
      "Epoch 20/200\n",
      "1/1 [==============================] - 0s 30ms/step - loss: 0.0093 - val_loss: 0.4700\n",
      "Epoch 21/200\n",
      "1/1 [==============================] - 0s 30ms/step - loss: 0.0076 - val_loss: 0.4690\n",
      "Epoch 22/200\n",
      "1/1 [==============================] - 0s 30ms/step - loss: 0.0118 - val_loss: 0.4679\n",
      "Epoch 23/200\n",
      "1/1 [==============================] - 0s 31ms/step - loss: 0.0165 - val_loss: 0.4669\n",
      "Epoch 24/200\n",
      "1/1 [==============================] - 0s 30ms/step - loss: 0.0151 - val_loss: 0.4659\n",
      "Epoch 25/200\n",
      "1/1 [==============================] - 0s 37ms/step - loss: 0.0087 - val_loss: 0.4651\n",
      "Epoch 26/200\n",
      "1/1 [==============================] - 0s 32ms/step - loss: 0.0032 - val_loss: 0.4644\n",
      "Epoch 27/200\n",
      "1/1 [==============================] - 0s 31ms/step - loss: 0.0017 - val_loss: 0.4636\n",
      "Epoch 28/200\n",
      "1/1 [==============================] - 0s 29ms/step - loss: 0.0032 - val_loss: 0.4628\n",
      "Epoch 29/200\n",
      "1/1 [==============================] - 0s 34ms/step - loss: 0.0053 - val_loss: 0.4620\n",
      "Epoch 30/200\n",
      "1/1 [==============================] - 0s 46ms/step - loss: 0.0062 - val_loss: 0.4611\n",
      "Epoch 31/200\n",
      "1/1 [==============================] - 0s 36ms/step - loss: 0.0054 - val_loss: 0.4601\n",
      "Epoch 32/200\n",
      "1/1 [==============================] - 0s 34ms/step - loss: 0.0037 - val_loss: 0.4593\n",
      "Epoch 33/200\n",
      "1/1 [==============================] - 0s 30ms/step - loss: 0.0022 - val_loss: 0.4585\n",
      "Epoch 34/200\n",
      "1/1 [==============================] - 0s 31ms/step - loss: 0.0021 - val_loss: 0.4580\n",
      "Epoch 35/200\n",
      "1/1 [==============================] - 0s 32ms/step - loss: 0.0032 - val_loss: 0.4578\n",
      "Epoch 36/200\n",
      "1/1 [==============================] - 0s 28ms/step - loss: 0.0044 - val_loss: 0.4579\n",
      "Epoch 37/200\n",
      "1/1 [==============================] - 0s 25ms/step - loss: 0.0043 - val_loss: 0.4583\n",
      "Epoch 38/200\n",
      "1/1 [==============================] - 0s 29ms/step - loss: 0.0030 - val_loss: 0.4589\n",
      "Epoch 39/200\n",
      "1/1 [==============================] - 0s 35ms/step - loss: 0.0016 - val_loss: 0.4596\n",
      "Epoch 40/200\n",
      "1/1 [==============================] - 0s 36ms/step - loss: 0.0011 - val_loss: 0.4602\n",
      "Epoch 41/200\n",
      "1/1 [==============================] - 0s 36ms/step - loss: 0.0015 - val_loss: 0.4608\n",
      "Epoch 42/200\n",
      "1/1 [==============================] - 0s 36ms/step - loss: 0.0019 - val_loss: 0.4612\n",
      "Epoch 43/200\n",
      "1/1 [==============================] - 0s 34ms/step - loss: 0.0020 - val_loss: 0.4614\n",
      "Epoch 44/200\n",
      "1/1 [==============================] - 0s 36ms/step - loss: 0.0016 - val_loss: 0.4615\n",
      "Epoch 45/200\n",
      "1/1 [==============================] - 0s 33ms/step - loss: 0.0010 - val_loss: 0.4615\n",
      "Epoch 46/200\n",
      "1/1 [==============================] - 0s 35ms/step - loss: 7.1017e-04 - val_loss: 0.4614\n",
      "Epoch 47/200\n",
      "1/1 [==============================] - 0s 32ms/step - loss: 8.7669e-04 - val_loss: 0.4613\n",
      "Epoch 48/200\n",
      "1/1 [==============================] - 0s 33ms/step - loss: 0.0013 - val_loss: 0.4612\n",
      "Epoch 49/200\n",
      "1/1 [==============================] - 0s 33ms/step - loss: 0.0015 - val_loss: 0.4612\n",
      "Epoch 50/200\n",
      "1/1 [==============================] - 0s 32ms/step - loss: 0.0013 - val_loss: 0.4611\n",
      "Epoch 51/200\n",
      "1/1 [==============================] - 0s 37ms/step - loss: 8.9097e-04 - val_loss: 0.4610\n",
      "Epoch 52/200\n",
      "1/1 [==============================] - 0s 31ms/step - loss: 7.0700e-04 - val_loss: 0.4608\n",
      "Epoch 53/200\n",
      "1/1 [==============================] - 0s 32ms/step - loss: 7.9464e-04 - val_loss: 0.4606\n",
      "Epoch 54/200\n",
      "1/1 [==============================] - 0s 32ms/step - loss: 9.7329e-04 - val_loss: 0.4603\n",
      "Epoch 55/200\n",
      "1/1 [==============================] - 0s 43ms/step - loss: 0.0010 - val_loss: 0.4600\n",
      "Epoch 56/200\n",
      "1/1 [==============================] - 0s 45ms/step - loss: 8.8635e-04 - val_loss: 0.4596\n",
      "Epoch 57/200\n",
      "1/1 [==============================] - 0s 38ms/step - loss: 6.7551e-04 - val_loss: 0.4592\n",
      "Epoch 58/200\n",
      "1/1 [==============================] - 0s 35ms/step - loss: 5.6101e-04 - val_loss: 0.4589\n",
      "Epoch 59/200\n",
      "1/1 [==============================] - 0s 35ms/step - loss: 6.0671e-04 - val_loss: 0.4587\n",
      "Epoch 60/200\n",
      "1/1 [==============================] - 0s 33ms/step - loss: 7.1091e-04 - val_loss: 0.4586\n",
      "Epoch 61/200\n",
      "1/1 [==============================] - 0s 32ms/step - loss: 7.2948e-04 - val_loss: 0.4585\n",
      "Epoch 62/200\n",
      "1/1 [==============================] - 0s 32ms/step - loss: 6.3796e-04 - val_loss: 0.4586\n",
      "Epoch 63/200\n",
      "1/1 [==============================] - 0s 28ms/step - loss: 5.3389e-04 - val_loss: 0.4587\n",
      "Epoch 64/200\n",
      "1/1 [==============================] - 0s 43ms/step - loss: 5.1485e-04 - val_loss: 0.4589\n",
      "Epoch 65/200\n",
      "1/1 [==============================] - 0s 40ms/step - loss: 5.7605e-04 - val_loss: 0.4590\n",
      "Epoch 66/200\n",
      "1/1 [==============================] - 0s 45ms/step - loss: 6.3617e-04 - val_loss: 0.4591\n",
      "Epoch 67/200\n",
      "1/1 [==============================] - 0s 35ms/step - loss: 6.3350e-04 - val_loss: 0.4592\n",
      "Epoch 68/200\n",
      "1/1 [==============================] - 0s 37ms/step - loss: 5.7631e-04 - val_loss: 0.4592\n",
      "Epoch 69/200\n",
      "1/1 [==============================] - 0s 33ms/step - loss: 5.2500e-04 - val_loss: 0.4593\n",
      "Epoch 70/200\n",
      "1/1 [==============================] - 0s 37ms/step - loss: 5.2240e-04 - val_loss: 0.4593\n",
      "Epoch 71/200\n",
      "1/1 [==============================] - 0s 34ms/step - loss: 5.5276e-04 - val_loss: 0.4594\n",
      "Epoch 72/200\n",
      "1/1 [==============================] - 0s 38ms/step - loss: 5.6505e-04 - val_loss: 0.4594\n",
      "Epoch 73/200\n",
      "1/1 [==============================] - 0s 35ms/step - loss: 5.3708e-04 - val_loss: 0.4595\n",
      "Epoch 74/200\n",
      "1/1 [==============================] - 0s 39ms/step - loss: 4.9484e-04 - val_loss: 0.4596\n",
      "Epoch 75/200\n",
      "1/1 [==============================] - 0s 38ms/step - loss: 4.7848e-04 - val_loss: 0.4596\n",
      "Epoch 76/200\n",
      "1/1 [==============================] - 0s 35ms/step - loss: 4.9353e-04 - val_loss: 0.4596\n",
      "Epoch 77/200\n",
      "1/1 [==============================] - 0s 33ms/step - loss: 5.1604e-04 - val_loss: 0.4596\n",
      "Epoch 78/200\n",
      "1/1 [==============================] - 0s 38ms/step - loss: 5.1645e-04 - val_loss: 0.4595\n",
      "Epoch 79/200\n",
      "1/1 [==============================] - 0s 52ms/step - loss: 4.9905e-04 - val_loss: 0.4594\n",
      "Epoch 80/200\n",
      "1/1 [==============================] - 0s 43ms/step - loss: 4.8529e-04 - val_loss: 0.4593\n",
      "Epoch 81/200\n",
      "1/1 [==============================] - 0s 35ms/step - loss: 4.8887e-04 - val_loss: 0.4592\n",
      "Epoch 82/200\n",
      "1/1 [==============================] - 0s 33ms/step - loss: 5.0169e-04 - val_loss: 0.4592\n",
      "Epoch 83/200\n",
      "1/1 [==============================] - 0s 37ms/step - loss: 5.0505e-04 - val_loss: 0.4591\n",
      "Epoch 84/200\n",
      "1/1 [==============================] - 0s 31ms/step - loss: 4.9343e-04 - val_loss: 0.4591\n",
      "Epoch 85/200\n",
      "1/1 [==============================] - 0s 32ms/step - loss: 4.7966e-04 - val_loss: 0.4591\n",
      "Epoch 86/200\n",
      "1/1 [==============================] - 0s 32ms/step - loss: 4.7641e-04 - val_loss: 0.4591\n",
      "Epoch 87/200\n",
      "1/1 [==============================] - 0s 46ms/step - loss: 4.8214e-04 - val_loss: 0.4591\n",
      "Epoch 88/200\n",
      "1/1 [==============================] - 0s 41ms/step - loss: 4.8682e-04 - val_loss: 0.4591\n",
      "Epoch 89/200\n",
      "1/1 [==============================] - 0s 35ms/step - loss: 4.8257e-04 - val_loss: 0.4591\n",
      "Epoch 90/200\n",
      "1/1 [==============================] - 0s 33ms/step - loss: 4.7499e-04 - val_loss: 0.4591\n",
      "Epoch 91/200\n",
      "1/1 [==============================] - 0s 37ms/step - loss: 4.7294e-04 - val_loss: 0.4591\n",
      "Epoch 92/200\n",
      "1/1 [==============================] - 0s 37ms/step - loss: 4.7712e-04 - val_loss: 0.4591\n",
      "Epoch 93/200\n",
      "1/1 [==============================] - 0s 36ms/step - loss: 4.8117e-04 - val_loss: 0.4592\n",
      "Epoch 94/200\n",
      "1/1 [==============================] - 0s 34ms/step - loss: 4.7964e-04 - val_loss: 0.4592\n",
      "Epoch 95/200\n",
      "1/1 [==============================] - 0s 32ms/step - loss: 4.7540e-04 - val_loss: 0.4592\n",
      "Epoch 96/200\n",
      "1/1 [==============================] - 0s 33ms/step - loss: 4.7285e-04 - val_loss: 0.4593\n",
      "Epoch 97/200\n",
      "1/1 [==============================] - 0s 34ms/step - loss: 4.7450e-04 - val_loss: 0.4593\n",
      "Epoch 98/200\n",
      "1/1 [==============================] - 0s 34ms/step - loss: 4.7686e-04 - val_loss: 0.4593\n",
      "Epoch 99/200\n",
      "1/1 [==============================] - 0s 36ms/step - loss: 4.7611e-04 - val_loss: 0.4593\n",
      "Epoch 100/200\n",
      "1/1 [==============================] - 0s 33ms/step - loss: 4.7295e-04 - val_loss: 0.4593\n",
      "Epoch 101/200\n",
      "1/1 [==============================] - 0s 35ms/step - loss: 4.7112e-04 - val_loss: 0.4593\n",
      "Epoch 102/200\n",
      "1/1 [==============================] - 0s 43ms/step - loss: 4.7195e-04 - val_loss: 0.4592\n",
      "Epoch 103/200\n",
      "1/1 [==============================] - 0s 44ms/step - loss: 4.7345e-04 - val_loss: 0.4592\n",
      "Epoch 104/200\n",
      "1/1 [==============================] - 0s 44ms/step - loss: 4.7322e-04 - val_loss: 0.4592\n",
      "Epoch 105/200\n",
      "1/1 [==============================] - 0s 36ms/step - loss: 4.7163e-04 - val_loss: 0.4592\n",
      "Epoch 106/200\n",
      "1/1 [==============================] - 0s 32ms/step - loss: 4.7065e-04 - val_loss: 0.4592\n",
      "Epoch 107/200\n",
      "1/1 [==============================] - 0s 33ms/step - loss: 4.7138e-04 - val_loss: 0.4592\n",
      "Epoch 108/200\n",
      "1/1 [==============================] - 0s 29ms/step - loss: 4.7203e-04 - val_loss: 0.4592\n",
      "Epoch 109/200\n",
      "1/1 [==============================] - 0s 31ms/step - loss: 4.7198e-04 - val_loss: 0.4592\n",
      "Epoch 110/200\n",
      "1/1 [==============================] - 0s 33ms/step - loss: 4.7122e-04 - val_loss: 0.4592\n",
      "Epoch 111/200\n",
      "1/1 [==============================] - 0s 43ms/step - loss: 4.7044e-04 - val_loss: 0.4592\n",
      "Epoch 112/200\n",
      "1/1 [==============================] - 0s 40ms/step - loss: 4.7092e-04 - val_loss: 0.4592\n",
      "Epoch 113/200\n",
      "1/1 [==============================] - 0s 35ms/step - loss: 4.7137e-04 - val_loss: 0.4592\n",
      "Epoch 114/200\n",
      "1/1 [==============================] - 0s 33ms/step - loss: 4.7109e-04 - val_loss: 0.4592\n",
      "Epoch 115/200\n",
      "1/1 [==============================] - 0s 37ms/step - loss: 4.7042e-04 - val_loss: 0.4592\n",
      "Epoch 116/200\n",
      "1/1 [==============================] - 0s 36ms/step - loss: 4.7011e-04 - val_loss: 0.4593\n",
      "Epoch 117/200\n",
      "1/1 [==============================] - 0s 34ms/step - loss: 4.7024e-04 - val_loss: 0.4593\n",
      "Epoch 118/200\n",
      "1/1 [==============================] - 0s 33ms/step - loss: 4.7048e-04 - val_loss: 0.4593\n",
      "Epoch 119/200\n",
      "1/1 [==============================] - 0s 35ms/step - loss: 4.7041e-04 - val_loss: 0.4593\n",
      "Epoch 120/200\n",
      "1/1 [==============================] - 0s 38ms/step - loss: 4.7013e-04 - val_loss: 0.4593\n",
      "Epoch 121/200\n",
      "1/1 [==============================] - 0s 33ms/step - loss: 4.6992e-04 - val_loss: 0.4593\n",
      "Epoch 122/200\n",
      "1/1 [==============================] - 0s 36ms/step - loss: 4.7020e-04 - val_loss: 0.4593\n",
      "Epoch 123/200\n",
      "1/1 [==============================] - 0s 35ms/step - loss: 4.7036e-04 - val_loss: 0.4593\n",
      "Epoch 124/200\n",
      "1/1 [==============================] - 0s 32ms/step - loss: 4.7027e-04 - val_loss: 0.4593\n",
      "Epoch 125/200\n",
      "1/1 [==============================] - 0s 32ms/step - loss: 4.6981e-04 - val_loss: 0.4593\n",
      "Epoch 126/200\n",
      "1/1 [==============================] - 0s 55ms/step - loss: 4.6987e-04 - val_loss: 0.4593\n",
      "Epoch 127/200\n",
      "1/1 [==============================] - 0s 41ms/step - loss: 4.6992e-04 - val_loss: 0.4593\n",
      "Epoch 128/200\n",
      "1/1 [==============================] - 0s 36ms/step - loss: 4.6988e-04 - val_loss: 0.4593\n",
      "Epoch 129/200\n",
      "1/1 [==============================] - 0s 33ms/step - loss: 4.6987e-04 - val_loss: 0.4593\n",
      "Epoch 130/200\n",
      "1/1 [==============================] - 0s 32ms/step - loss: 4.6976e-04 - val_loss: 0.4593\n",
      "Epoch 131/200\n",
      "1/1 [==============================] - 0s 38ms/step - loss: 4.6958e-04 - val_loss: 0.4593\n",
      "Epoch 132/200\n",
      "1/1 [==============================] - 0s 31ms/step - loss: 4.6982e-04 - val_loss: 0.4593\n",
      "Epoch 133/200\n",
      "1/1 [==============================] - 0s 28ms/step - loss: 4.6981e-04 - val_loss: 0.4593\n",
      "Epoch 134/200\n",
      "1/1 [==============================] - 0s 36ms/step - loss: 4.6955e-04 - val_loss: 0.4593\n",
      "Epoch 135/200\n",
      "1/1 [==============================] - 0s 36ms/step - loss: 4.6942e-04 - val_loss: 0.4593\n",
      "Epoch 136/200\n",
      "1/1 [==============================] - 0s 36ms/step - loss: 4.6972e-04 - val_loss: 0.4593\n",
      "Epoch 137/200\n",
      "1/1 [==============================] - 0s 36ms/step - loss: 4.6971e-04 - val_loss: 0.4593\n",
      "Epoch 138/200\n",
      "1/1 [==============================] - 0s 35ms/step - loss: 4.6968e-04 - val_loss: 0.4593\n",
      "Epoch 139/200\n",
      "1/1 [==============================] - 0s 35ms/step - loss: 4.6935e-04 - val_loss: 0.4593\n",
      "Epoch 140/200\n",
      "1/1 [==============================] - 0s 37ms/step - loss: 4.6932e-04 - val_loss: 0.4593\n",
      "Epoch 141/200\n",
      "1/1 [==============================] - 0s 33ms/step - loss: 4.6952e-04 - val_loss: 0.4593\n",
      "Epoch 142/200\n",
      "1/1 [==============================] - 0s 36ms/step - loss: 4.6956e-04 - val_loss: 0.4593\n",
      "Epoch 143/200\n",
      "1/1 [==============================] - 0s 34ms/step - loss: 4.6943e-04 - val_loss: 0.4593\n",
      "Epoch 144/200\n",
      "1/1 [==============================] - 0s 35ms/step - loss: 4.6926e-04 - val_loss: 0.4593\n",
      "Epoch 145/200\n",
      "1/1 [==============================] - 0s 35ms/step - loss: 4.6928e-04 - val_loss: 0.4593\n",
      "Epoch 146/200\n",
      "1/1 [==============================] - 0s 33ms/step - loss: 4.6922e-04 - val_loss: 0.4593\n",
      "Epoch 147/200\n",
      "1/1 [==============================] - 0s 36ms/step - loss: 4.6921e-04 - val_loss: 0.4593\n",
      "Epoch 148/200\n",
      "1/1 [==============================] - 0s 32ms/step - loss: 4.6922e-04 - val_loss: 0.4593\n",
      "Epoch 149/200\n",
      "1/1 [==============================] - 0s 60ms/step - loss: 4.6921e-04 - val_loss: 0.4593\n",
      "Epoch 150/200\n",
      "1/1 [==============================] - 0s 49ms/step - loss: 4.6926e-04 - val_loss: 0.4593\n",
      "Epoch 151/200\n",
      "1/1 [==============================] - 0s 37ms/step - loss: 4.6931e-04 - val_loss: 0.4593\n",
      "Epoch 152/200\n",
      "1/1 [==============================] - 0s 38ms/step - loss: 4.6923e-04 - val_loss: 0.4593\n",
      "Epoch 153/200\n",
      "1/1 [==============================] - 0s 45ms/step - loss: 4.6911e-04 - val_loss: 0.4593\n",
      "Epoch 154/200\n",
      "1/1 [==============================] - 0s 38ms/step - loss: 4.6913e-04 - val_loss: 0.4593\n",
      "Epoch 155/200\n",
      "1/1 [==============================] - 0s 29ms/step - loss: 4.6910e-04 - val_loss: 0.4593\n",
      "Epoch 156/200\n",
      "1/1 [==============================] - 0s 34ms/step - loss: 4.6906e-04 - val_loss: 0.4593\n",
      "Epoch 157/200\n",
      "1/1 [==============================] - 0s 36ms/step - loss: 4.6895e-04 - val_loss: 0.4593\n",
      "Epoch 158/200\n",
      "1/1 [==============================] - 0s 39ms/step - loss: 4.6904e-04 - val_loss: 0.4593\n",
      "Epoch 159/200\n",
      "1/1 [==============================] - 0s 37ms/step - loss: 4.6904e-04 - val_loss: 0.4593\n",
      "Epoch 160/200\n",
      "1/1 [==============================] - 0s 37ms/step - loss: 4.6914e-04 - val_loss: 0.4593\n",
      "Epoch 161/200\n",
      "1/1 [==============================] - 0s 36ms/step - loss: 4.6917e-04 - val_loss: 0.4593\n",
      "Epoch 162/200\n",
      "1/1 [==============================] - 0s 39ms/step - loss: 4.6911e-04 - val_loss: 0.4593\n",
      "Epoch 163/200\n",
      "1/1 [==============================] - 0s 35ms/step - loss: 4.6897e-04 - val_loss: 0.4593\n",
      "Epoch 164/200\n",
      "1/1 [==============================] - 0s 38ms/step - loss: 4.6883e-04 - val_loss: 0.4593\n",
      "Epoch 165/200\n",
      "1/1 [==============================] - 0s 38ms/step - loss: 4.6882e-04 - val_loss: 0.4593\n",
      "Epoch 166/200\n",
      "1/1 [==============================] - 0s 42ms/step - loss: 4.6882e-04 - val_loss: 0.4593\n",
      "Epoch 167/200\n",
      "1/1 [==============================] - 0s 38ms/step - loss: 4.6891e-04 - val_loss: 0.4593\n",
      "Epoch 168/200\n",
      "1/1 [==============================] - 0s 39ms/step - loss: 4.6896e-04 - val_loss: 0.4594\n",
      "Epoch 169/200\n",
      "1/1 [==============================] - 0s 35ms/step - loss: 4.6892e-04 - val_loss: 0.4594\n",
      "Epoch 170/200\n",
      "1/1 [==============================] - 0s 41ms/step - loss: 4.6881e-04 - val_loss: 0.4594\n",
      "Epoch 171/200\n",
      "1/1 [==============================] - 0s 40ms/step - loss: 4.6875e-04 - val_loss: 0.4594\n",
      "Epoch 172/200\n",
      "1/1 [==============================] - 0s 39ms/step - loss: 4.6876e-04 - val_loss: 0.4594\n",
      "Epoch 173/200\n",
      "1/1 [==============================] - 0s 62ms/step - loss: 4.6871e-04 - val_loss: 0.4594\n",
      "Epoch 174/200\n",
      "1/1 [==============================] - 0s 47ms/step - loss: 4.6871e-04 - val_loss: 0.4594\n",
      "Epoch 175/200\n",
      "1/1 [==============================] - 0s 42ms/step - loss: 4.6879e-04 - val_loss: 0.4594\n",
      "Epoch 176/200\n",
      "1/1 [==============================] - 0s 41ms/step - loss: 4.6878e-04 - val_loss: 0.4594\n",
      "Epoch 177/200\n",
      "1/1 [==============================] - 0s 74ms/step - loss: 4.6877e-04 - val_loss: 0.4594\n",
      "Epoch 178/200\n",
      "1/1 [==============================] - 0s 32ms/step - loss: 4.6875e-04 - val_loss: 0.4594\n",
      "Epoch 179/200\n",
      "1/1 [==============================] - 0s 33ms/step - loss: 4.6874e-04 - val_loss: 0.4594\n",
      "Epoch 180/200\n",
      "1/1 [==============================] - 0s 48ms/step - loss: 4.6872e-04 - val_loss: 0.4594\n",
      "Epoch 181/200\n",
      "1/1 [==============================] - 0s 46ms/step - loss: 4.6869e-04 - val_loss: 0.4594\n",
      "Epoch 182/200\n",
      "1/1 [==============================] - 0s 50ms/step - loss: 4.6869e-04 - val_loss: 0.4594\n",
      "Epoch 183/200\n",
      "1/1 [==============================] - 0s 47ms/step - loss: 4.6867e-04 - val_loss: 0.4594\n",
      "Epoch 184/200\n",
      "1/1 [==============================] - 0s 40ms/step - loss: 4.6847e-04 - val_loss: 0.4594\n",
      "Epoch 185/200\n",
      "1/1 [==============================] - 0s 36ms/step - loss: 4.6847e-04 - val_loss: 0.4594\n",
      "Epoch 186/200\n",
      "1/1 [==============================] - 0s 38ms/step - loss: 4.6846e-04 - val_loss: 0.4594\n",
      "Epoch 187/200\n",
      "1/1 [==============================] - 0s 35ms/step - loss: 4.6844e-04 - val_loss: 0.4594\n",
      "Epoch 188/200\n",
      "1/1 [==============================] - 0s 39ms/step - loss: 4.6851e-04 - val_loss: 0.4594\n",
      "Epoch 189/200\n",
      "1/1 [==============================] - 0s 32ms/step - loss: 4.6843e-04 - val_loss: 0.4594\n",
      "Epoch 190/200\n",
      "1/1 [==============================] - 0s 36ms/step - loss: 4.6842e-04 - val_loss: 0.4594\n",
      "Epoch 191/200\n",
      "1/1 [==============================] - 0s 37ms/step - loss: 4.6828e-04 - val_loss: 0.4594\n",
      "Epoch 192/200\n",
      "1/1 [==============================] - 0s 40ms/step - loss: 4.6826e-04 - val_loss: 0.4594\n",
      "Epoch 193/200\n",
      "1/1 [==============================] - 0s 36ms/step - loss: 4.6831e-04 - val_loss: 0.4594\n",
      "Epoch 194/200\n",
      "1/1 [==============================] - 0s 45ms/step - loss: 4.6829e-04 - val_loss: 0.4594\n",
      "Epoch 195/200\n",
      "1/1 [==============================] - 0s 59ms/step - loss: 4.6828e-04 - val_loss: 0.4594\n",
      "Epoch 196/200\n",
      "1/1 [==============================] - 0s 46ms/step - loss: 4.6826e-04 - val_loss: 0.4594\n",
      "Epoch 197/200\n",
      "1/1 [==============================] - 0s 46ms/step - loss: 4.6826e-04 - val_loss: 0.4594\n",
      "Epoch 198/200\n",
      "1/1 [==============================] - 0s 43ms/step - loss: 4.6816e-04 - val_loss: 0.4594\n",
      "Epoch 199/200\n",
      "1/1 [==============================] - 0s 46ms/step - loss: 4.6819e-04 - val_loss: 0.4594\n",
      "Epoch 200/200\n",
      "1/1 [==============================] - 0s 35ms/step - loss: 4.6818e-04 - val_loss: 0.4594\n"
     ]
    }
   ],
   "source": [
    "looseParent = modelSuperParent(superParent, regulator_gene_matrix, NUM_TARGETS, NUM_TIME_STEPS, NUM_TARGETS, 21)\n",
    "looseParent.compile(optimizer='adam', loss=ignore_noParent_MSE)\n",
    "o = looseParent.fit(beanIntensities[1:], beanIntensities[1:], epochs=200, verbose = True,  validation_data=(validation, validation))\n",
    "#print(o.history['loss'][-1]) #the final loss "
   ]
  },
  {
   "cell_type": "markdown",
   "metadata": {},
   "source": [
    "# DenseNetAutoEncoder"
   ]
  },
  {
   "cell_type": "code",
   "execution_count": 25,
   "metadata": {},
   "outputs": [],
   "source": [
    "'''\n",
    "a second copy of the layers which will be modified to be a denseNET auto encoder\n",
    "'''\n",
    "#TODO: fix call to map to -1?\n",
    "class DenseEncoderLinear2(tf.keras.layers.Layer): #TODO: Fix the decoder to -1\n",
    "    def __init__(self, rgm, oldrgm, input_dim=32, units=32):\n",
    "        super(DenseEncoderLinear2, self).__init__()\n",
    "        self.rgm = rgm\n",
    "        self.oldrgm = oldrgm\n",
    "        \n",
    "        def init_weights(shape, dtype=\"float32\"):\n",
    "\n",
    "            w_init = tf.random_normal_initializer()(shape=shape, dtype=dtype) * tf.convert_to_tensor(self.oldrgm, dtype=dtype)\n",
    "\n",
    "            return w_init\n",
    "        \n",
    "\n",
    "        self.w = tf.Variable(\n",
    "            initial_value=init_weights(shape=(input_dim, units), dtype=\"float32\"),\n",
    "            trainable=True,\n",
    "        )\n",
    "\n",
    "    def call(self, inputs):\n",
    "        X = inputs\n",
    "        return tf.matmul(X, tf.multiply(self.rgm, self.w))\n",
    "    #tf.matmul(inputs, self.w)\n",
    "\n",
    "    def get_config(self):\n",
    "        config = super().get_config()\n",
    "        config.update({\n",
    "            \"rgm\": self.rgm,\n",
    "            \"oldrgm\": self.oldrgm,\n",
    "            'input_dim': 32,\n",
    "            'units' : 32\n",
    "        })\n",
    "\n",
    "class DenseDecoderLinear2(tf.keras.layers.Layer):\n",
    "    def __init__(self, rgm, oldrgm, input_dim=32, units=32):\n",
    "        super(DenseDecoderLinear2, self).__init__()\n",
    "        self.rgm = rgm\n",
    "        self.oldrgm = oldrgm\n",
    "\n",
    "        def init_weights(shape, dtype=\"float32\"):\n",
    "\n",
    "            w_init = tf.random_normal_initializer()(shape=shape, dtype=dtype) * tf.transpose(tf.convert_to_tensor(self.oldrgm, dtype=dtype))\n",
    "\n",
    "            return w_init\n",
    "\n",
    "        self.w = tf.Variable(\n",
    "            initial_value=init_weights(shape=(input_dim, units), dtype=\"float32\"),\n",
    "            trainable=True,\n",
    "        )\n",
    "\n",
    "    def call(self, inputs):\n",
    "        X = inputs\n",
    "        #return tf.matmul(X, tf.multiply((self.rgm), self.w))\n",
    "        return tf.matmul(X, tf.multiply(tf.transpose(self.rgm), self.w)) #used to have a transpose\n",
    "        #return tf.matmul(inputs, self.w)\n",
    "\n",
    "    def get_config(self):\n",
    "        config = super().get_config()\n",
    "        config.update({\n",
    "            \"rgm\": self.rgm,\n",
    "            \"oldrgm\": self.oldrgm,\n",
    "            'input_dim': 32,\n",
    "            'units' : 32\n",
    "        })\n",
    "        \n",
    "\n",
    "def denseencoder2(parent_child_biological_association, inp, num_hidden_units=21):\n",
    "    '''\n",
    "    Encoder structure\n",
    "    '''\n",
    "    '''\n",
    "    The data is time-series. Therefore, CNN to learn the temporal relationship between \n",
    "    the intensities for each gene.\n",
    "    '''\n",
    "    en_conv = Conv1D(490, 3, activation = \"tanh\")(parent_child_biological_association) # 6*NUM_TARGETS\n",
    "    en_dense = Flatten()(en_conv)\n",
    "    inp = Flatten()(inp)\n",
    "    #print(en_dense.shape, inp.shape)\n",
    "    d = Concatenate()([en_dense, inp]) #dense layer\n",
    "    o_d = Dense(1024, activation = 'tanh')(d) #added a layer\n",
    "    c = Concatenate()([o_d, d]) #TOTALY NEW LAYER\n",
    "    en_dense = Dense(128, activation = 'tanh')(c) #TOTALY NEW LAYER\n",
    "    \n",
    "    phenotype = Dense(num_hidden_units, activation=\"tanh\")(d)\n",
    "    return phenotype\n",
    "\n",
    "def densedecoder2(X, num_protein_gene, time_steps):\n",
    "    '''\n",
    "    Decoder structure\n",
    "    '''\n",
    "    de_dense = Dense(784, activation = 'tanh')(X)\n",
    "    de_dense = Dense(512, activation = 'tanh')(de_dense) #TOTALY NEW LAYER\n",
    "    de_dense = Dense(256, activation = 'tanh')(de_dense) #added a layer\n",
    "    de_dense = Reshape((1, 256))(de_dense) #tf.reshape(de_dense, (self.batch_size,1,128))\n",
    "    de_deconv = Conv1DTranspose(num_protein_gene, time_steps, activation = \"tanh\")(de_dense) #used to be transpose\n",
    "    #de_deconv = Conv1D(num_protein_gene, time_steps, activation = \"relu\")(de_dense) \n",
    "    # gene_reconstruction = self.decoder_biological_operation(de_deconv)\n",
    "    return de_deconv\n",
    "\n",
    "def modelDense2(rgm, oldrgm, num_protein_gene, time_steps, num_kinase_regulators, num_hidden_units = 21):\n",
    "    inp = Input(shape=(time_steps, num_kinase_regulators))\n",
    "    x = DenseEncoderLinear2(rgm, oldrgm, NUM_TARGETS, NUM_TARGETS)(inp)\n",
    "    #x = EncoderLinear2(x)\n",
    "    enc = denseencoder2(x, inp, num_hidden_units)\n",
    "    dec = densedecoder2(enc, num_protein_gene, time_steps)\n",
    "    out = DenseDecoderLinear2(rgm, oldrgm, NUM_TARGETS, NUM_TARGETS)(dec)\n",
    "\n",
    "    _model = tf.keras.Model(inputs=inp, outputs=out)\n",
    "\n",
    "    return _model"
   ]
  },
  {
   "cell_type": "code",
   "execution_count": 26,
   "metadata": {},
   "outputs": [
    {
     "name": "stdout",
     "output_type": "stream",
     "text": [
      "Epoch 1/200\n",
      "1/1 [==============================] - 3s 3s/step - loss: 0.2141 - val_loss: 0.4319\n",
      "Epoch 2/200\n",
      "1/1 [==============================] - 0s 33ms/step - loss: 0.1811 - val_loss: 0.4475\n",
      "Epoch 3/200\n",
      "1/1 [==============================] - 0s 33ms/step - loss: 0.0694 - val_loss: 0.4412\n",
      "Epoch 4/200\n",
      "1/1 [==============================] - 0s 35ms/step - loss: 0.0239 - val_loss: 0.4896\n",
      "Epoch 5/200\n",
      "1/1 [==============================] - 0s 33ms/step - loss: 0.0351 - val_loss: 0.4879\n",
      "Epoch 6/200\n",
      "1/1 [==============================] - 0s 30ms/step - loss: 0.0202 - val_loss: 0.4437\n",
      "Epoch 7/200\n",
      "1/1 [==============================] - 0s 37ms/step - loss: 0.0199 - val_loss: 0.4104\n",
      "Epoch 8/200\n",
      "1/1 [==============================] - 0s 31ms/step - loss: 0.0209 - val_loss: 0.4116\n",
      "Epoch 9/200\n",
      "1/1 [==============================] - 0s 32ms/step - loss: 0.0129 - val_loss: 0.4449\n",
      "Epoch 10/200\n",
      "1/1 [==============================] - 0s 31ms/step - loss: 0.0112 - val_loss: 0.4840\n",
      "Epoch 11/200\n",
      "1/1 [==============================] - 0s 31ms/step - loss: 0.0147 - val_loss: 0.5052\n",
      "Epoch 12/200\n",
      "1/1 [==============================] - 0s 32ms/step - loss: 0.0148 - val_loss: 0.5029\n",
      "Epoch 13/200\n",
      "1/1 [==============================] - 0s 33ms/step - loss: 0.0111 - val_loss: 0.4837\n",
      "Epoch 14/200\n",
      "1/1 [==============================] - 0s 32ms/step - loss: 0.0086 - val_loss: 0.4585\n",
      "Epoch 15/200\n",
      "1/1 [==============================] - 0s 42ms/step - loss: 0.0094 - val_loss: 0.4388\n",
      "Epoch 16/200\n",
      "1/1 [==============================] - 0s 41ms/step - loss: 0.0112 - val_loss: 0.4311\n",
      "Epoch 17/200\n",
      "1/1 [==============================] - 0s 35ms/step - loss: 0.0109 - val_loss: 0.4359\n",
      "Epoch 18/200\n",
      "1/1 [==============================] - 0s 36ms/step - loss: 0.0087 - val_loss: 0.4498\n",
      "Epoch 19/200\n",
      "1/1 [==============================] - 0s 32ms/step - loss: 0.0073 - val_loss: 0.4671\n",
      "Epoch 20/200\n",
      "1/1 [==============================] - 0s 34ms/step - loss: 0.0077 - val_loss: 0.4815\n",
      "Epoch 21/200\n",
      "1/1 [==============================] - 0s 32ms/step - loss: 0.0088 - val_loss: 0.4883\n",
      "Epoch 22/200\n",
      "1/1 [==============================] - 0s 27ms/step - loss: 0.0090 - val_loss: 0.4868\n",
      "Epoch 23/200\n",
      "1/1 [==============================] - 0s 27ms/step - loss: 0.0082 - val_loss: 0.4796\n",
      "Epoch 24/200\n",
      "1/1 [==============================] - 0s 32ms/step - loss: 0.0072 - val_loss: 0.4703\n",
      "Epoch 25/200\n",
      "1/1 [==============================] - 0s 37ms/step - loss: 0.0069 - val_loss: 0.4621\n",
      "Epoch 26/200\n",
      "1/1 [==============================] - 0s 34ms/step - loss: 0.0072 - val_loss: 0.4566\n",
      "Epoch 27/200\n",
      "1/1 [==============================] - 0s 38ms/step - loss: 0.0077 - val_loss: 0.4541\n",
      "Epoch 28/200\n",
      "1/1 [==============================] - 0s 34ms/step - loss: 0.0078 - val_loss: 0.4548\n",
      "Epoch 29/200\n",
      "1/1 [==============================] - 0s 35ms/step - loss: 0.0073 - val_loss: 0.4584\n",
      "Epoch 30/200\n",
      "1/1 [==============================] - 0s 34ms/step - loss: 0.0067 - val_loss: 0.4643\n",
      "Epoch 31/200\n",
      "1/1 [==============================] - 0s 32ms/step - loss: 0.0067 - val_loss: 0.4709\n",
      "Epoch 32/200\n",
      "1/1 [==============================] - 0s 36ms/step - loss: 0.0069 - val_loss: 0.4761\n",
      "Epoch 33/200\n",
      "1/1 [==============================] - 0s 32ms/step - loss: 0.0071 - val_loss: 0.4783\n",
      "Epoch 34/200\n",
      "1/1 [==============================] - 0s 33ms/step - loss: 0.0071 - val_loss: 0.4770\n",
      "Epoch 35/200\n",
      "1/1 [==============================] - 0s 32ms/step - loss: 0.0068 - val_loss: 0.4726\n",
      "Epoch 36/200\n",
      "1/1 [==============================] - 0s 33ms/step - loss: 0.0066 - val_loss: 0.4670\n",
      "Epoch 37/200\n",
      "1/1 [==============================] - 0s 29ms/step - loss: 0.0065 - val_loss: 0.4624\n",
      "Epoch 38/200\n",
      "1/1 [==============================] - 0s 30ms/step - loss: 0.0067 - val_loss: 0.4601\n",
      "Epoch 39/200\n",
      "1/1 [==============================] - 0s 30ms/step - loss: 0.0068 - val_loss: 0.4606\n",
      "Epoch 40/200\n",
      "1/1 [==============================] - 0s 38ms/step - loss: 0.0068 - val_loss: 0.4635\n",
      "Epoch 41/200\n",
      "1/1 [==============================] - 0s 39ms/step - loss: 0.0066 - val_loss: 0.4673\n",
      "Epoch 42/200\n",
      "1/1 [==============================] - 0s 45ms/step - loss: 0.0065 - val_loss: 0.4707\n",
      "Epoch 43/200\n",
      "1/1 [==============================] - 0s 37ms/step - loss: 0.0065 - val_loss: 0.4728\n",
      "Epoch 44/200\n",
      "1/1 [==============================] - 0s 33ms/step - loss: 0.0065 - val_loss: 0.4733\n",
      "Epoch 45/200\n",
      "1/1 [==============================] - 0s 41ms/step - loss: 0.0066 - val_loss: 0.4725\n",
      "Epoch 46/200\n",
      "1/1 [==============================] - 0s 36ms/step - loss: 0.0066 - val_loss: 0.4707\n",
      "Epoch 47/200\n",
      "1/1 [==============================] - 0s 34ms/step - loss: 0.0065 - val_loss: 0.4685\n",
      "Epoch 48/200\n",
      "1/1 [==============================] - 0s 28ms/step - loss: 0.0065 - val_loss: 0.4662\n",
      "Epoch 49/200\n",
      "1/1 [==============================] - 0s 27ms/step - loss: 0.0064 - val_loss: 0.4642\n",
      "Epoch 50/200\n",
      "1/1 [==============================] - 0s 29ms/step - loss: 0.0065 - val_loss: 0.4631\n",
      "Epoch 51/200\n",
      "1/1 [==============================] - 0s 39ms/step - loss: 0.0065 - val_loss: 0.4633\n",
      "Epoch 52/200\n",
      "1/1 [==============================] - 0s 37ms/step - loss: 0.0065 - val_loss: 0.4646\n",
      "Epoch 53/200\n",
      "1/1 [==============================] - 0s 37ms/step - loss: 0.0065 - val_loss: 0.4668\n",
      "Epoch 54/200\n",
      "1/1 [==============================] - 0s 34ms/step - loss: 0.0064 - val_loss: 0.4691\n",
      "Epoch 55/200\n",
      "1/1 [==============================] - 0s 36ms/step - loss: 0.0064 - val_loss: 0.4705\n",
      "Epoch 56/200\n",
      "1/1 [==============================] - 0s 35ms/step - loss: 0.0064 - val_loss: 0.4709\n",
      "Epoch 57/200\n",
      "1/1 [==============================] - 0s 34ms/step - loss: 0.0064 - val_loss: 0.4704\n",
      "Epoch 58/200\n",
      "1/1 [==============================] - 0s 29ms/step - loss: 0.0064 - val_loss: 0.4693\n",
      "Epoch 59/200\n",
      "1/1 [==============================] - 0s 41ms/step - loss: 0.0064 - val_loss: 0.4681\n",
      "Epoch 60/200\n",
      "1/1 [==============================] - 0s 31ms/step - loss: 0.0064 - val_loss: 0.4671\n",
      "Epoch 61/200\n",
      "1/1 [==============================] - 0s 30ms/step - loss: 0.0064 - val_loss: 0.4664\n",
      "Epoch 62/200\n",
      "1/1 [==============================] - 0s 35ms/step - loss: 0.0064 - val_loss: 0.4659\n",
      "Epoch 63/200\n",
      "1/1 [==============================] - 0s 31ms/step - loss: 0.0064 - val_loss: 0.4656\n",
      "Epoch 64/200\n",
      "1/1 [==============================] - 0s 35ms/step - loss: 0.0064 - val_loss: 0.4659\n",
      "Epoch 65/200\n",
      "1/1 [==============================] - 0s 33ms/step - loss: 0.0064 - val_loss: 0.4666\n",
      "Epoch 66/200\n",
      "1/1 [==============================] - 0s 32ms/step - loss: 0.0064 - val_loss: 0.4675\n",
      "Epoch 67/200\n",
      "1/1 [==============================] - 0s 58ms/step - loss: 0.0064 - val_loss: 0.4684\n",
      "Epoch 68/200\n",
      "1/1 [==============================] - 0s 35ms/step - loss: 0.0064 - val_loss: 0.4688\n",
      "Epoch 69/200\n",
      "1/1 [==============================] - 0s 35ms/step - loss: 0.0064 - val_loss: 0.4687\n",
      "Epoch 70/200\n",
      "1/1 [==============================] - 0s 35ms/step - loss: 0.0064 - val_loss: 0.4682\n",
      "Epoch 71/200\n",
      "1/1 [==============================] - 0s 35ms/step - loss: 0.0064 - val_loss: 0.4677\n",
      "Epoch 72/200\n",
      "1/1 [==============================] - 0s 35ms/step - loss: 0.0064 - val_loss: 0.4672\n",
      "Epoch 73/200\n",
      "1/1 [==============================] - 0s 40ms/step - loss: 0.0064 - val_loss: 0.4669\n",
      "Epoch 74/200\n",
      "1/1 [==============================] - 0s 29ms/step - loss: 0.0064 - val_loss: 0.4669\n",
      "Epoch 75/200\n",
      "1/1 [==============================] - 0s 30ms/step - loss: 0.0064 - val_loss: 0.4669\n",
      "Epoch 76/200\n",
      "1/1 [==============================] - 0s 42ms/step - loss: 0.0064 - val_loss: 0.4671\n",
      "Epoch 77/200\n",
      "1/1 [==============================] - 0s 34ms/step - loss: 0.0064 - val_loss: 0.4674\n",
      "Epoch 78/200\n",
      "1/1 [==============================] - 0s 35ms/step - loss: 0.0064 - val_loss: 0.4677\n",
      "Epoch 79/200\n",
      "1/1 [==============================] - 0s 36ms/step - loss: 0.0064 - val_loss: 0.4680\n",
      "Epoch 80/200\n",
      "1/1 [==============================] - 0s 36ms/step - loss: 0.0064 - val_loss: 0.4680\n",
      "Epoch 81/200\n",
      "1/1 [==============================] - 0s 34ms/step - loss: 0.0064 - val_loss: 0.4678\n",
      "Epoch 82/200\n",
      "1/1 [==============================] - 0s 34ms/step - loss: 0.0064 - val_loss: 0.4674\n",
      "Epoch 83/200\n",
      "1/1 [==============================] - 0s 34ms/step - loss: 0.0064 - val_loss: 0.4671\n",
      "Epoch 84/200\n",
      "1/1 [==============================] - 0s 33ms/step - loss: 0.0064 - val_loss: 0.4670\n",
      "Epoch 85/200\n",
      "1/1 [==============================] - 0s 34ms/step - loss: 0.0064 - val_loss: 0.4671\n",
      "Epoch 86/200\n",
      "1/1 [==============================] - 0s 33ms/step - loss: 0.0064 - val_loss: 0.4673\n",
      "Epoch 87/200\n",
      "1/1 [==============================] - 0s 33ms/step - loss: 0.0064 - val_loss: 0.4675\n",
      "Epoch 88/200\n",
      "1/1 [==============================] - 0s 33ms/step - loss: 0.0064 - val_loss: 0.4676\n",
      "Epoch 89/200\n",
      "1/1 [==============================] - 0s 35ms/step - loss: 0.0064 - val_loss: 0.4678\n",
      "Epoch 90/200\n",
      "1/1 [==============================] - 0s 42ms/step - loss: 0.0064 - val_loss: 0.4678\n",
      "Epoch 91/200\n",
      "1/1 [==============================] - 0s 43ms/step - loss: 0.0064 - val_loss: 0.4677\n",
      "Epoch 92/200\n",
      "1/1 [==============================] - 0s 51ms/step - loss: 0.0064 - val_loss: 0.4675\n",
      "Epoch 93/200\n",
      "1/1 [==============================] - 0s 41ms/step - loss: 0.0064 - val_loss: 0.4673\n",
      "Epoch 94/200\n",
      "1/1 [==============================] - 0s 43ms/step - loss: 0.0064 - val_loss: 0.4671\n",
      "Epoch 95/200\n",
      "1/1 [==============================] - 0s 39ms/step - loss: 0.0064 - val_loss: 0.4671\n",
      "Epoch 96/200\n",
      "1/1 [==============================] - 0s 44ms/step - loss: 0.0064 - val_loss: 0.4673\n",
      "Epoch 97/200\n",
      "1/1 [==============================] - 0s 34ms/step - loss: 0.0064 - val_loss: 0.4675\n",
      "Epoch 98/200\n",
      "1/1 [==============================] - 0s 34ms/step - loss: 0.0064 - val_loss: 0.4677\n",
      "Epoch 99/200\n",
      "1/1 [==============================] - 0s 34ms/step - loss: 0.0064 - val_loss: 0.4677\n",
      "Epoch 100/200\n",
      "1/1 [==============================] - 0s 35ms/step - loss: 0.0064 - val_loss: 0.4676\n",
      "Epoch 101/200\n",
      "1/1 [==============================] - 0s 44ms/step - loss: 0.0064 - val_loss: 0.4675\n",
      "Epoch 102/200\n",
      "1/1 [==============================] - 0s 40ms/step - loss: 0.0064 - val_loss: 0.4674\n",
      "Epoch 103/200\n",
      "1/1 [==============================] - 0s 38ms/step - loss: 0.0064 - val_loss: 0.4673\n",
      "Epoch 104/200\n",
      "1/1 [==============================] - 0s 38ms/step - loss: 0.0064 - val_loss: 0.4673\n",
      "Epoch 105/200\n",
      "1/1 [==============================] - 0s 39ms/step - loss: 0.0064 - val_loss: 0.4673\n",
      "Epoch 106/200\n",
      "1/1 [==============================] - 0s 36ms/step - loss: 0.0064 - val_loss: 0.4674\n",
      "Epoch 107/200\n",
      "1/1 [==============================] - 0s 54ms/step - loss: 0.0064 - val_loss: 0.4675\n",
      "Epoch 108/200\n",
      "1/1 [==============================] - 0s 39ms/step - loss: 0.0064 - val_loss: 0.4676\n",
      "Epoch 109/200\n",
      "1/1 [==============================] - 0s 36ms/step - loss: 0.0064 - val_loss: 0.4676\n",
      "Epoch 110/200\n",
      "1/1 [==============================] - 0s 36ms/step - loss: 0.0064 - val_loss: 0.4675\n",
      "Epoch 111/200\n",
      "1/1 [==============================] - 0s 34ms/step - loss: 0.0064 - val_loss: 0.4674\n",
      "Epoch 112/200\n",
      "1/1 [==============================] - 0s 45ms/step - loss: 0.0064 - val_loss: 0.4674\n",
      "Epoch 113/200\n",
      "1/1 [==============================] - 0s 35ms/step - loss: 0.0064 - val_loss: 0.4674\n",
      "Epoch 114/200\n",
      "1/1 [==============================] - 0s 34ms/step - loss: 0.0064 - val_loss: 0.4674\n",
      "Epoch 115/200\n",
      "1/1 [==============================] - 0s 33ms/step - loss: 0.0064 - val_loss: 0.4674\n",
      "Epoch 116/200\n",
      "1/1 [==============================] - 0s 42ms/step - loss: 0.0064 - val_loss: 0.4675\n",
      "Epoch 117/200\n",
      "1/1 [==============================] - 0s 49ms/step - loss: 0.0064 - val_loss: 0.4675\n",
      "Epoch 118/200\n",
      "1/1 [==============================] - 0s 45ms/step - loss: 0.0064 - val_loss: 0.4676\n",
      "Epoch 119/200\n",
      "1/1 [==============================] - 0s 42ms/step - loss: 0.0064 - val_loss: 0.4676\n",
      "Epoch 120/200\n",
      "1/1 [==============================] - 0s 37ms/step - loss: 0.0064 - val_loss: 0.4675\n",
      "Epoch 121/200\n",
      "1/1 [==============================] - 0s 37ms/step - loss: 0.0064 - val_loss: 0.4675\n",
      "Epoch 122/200\n",
      "1/1 [==============================] - 0s 35ms/step - loss: 0.0064 - val_loss: 0.4674\n",
      "Epoch 123/200\n",
      "1/1 [==============================] - 0s 30ms/step - loss: 0.0064 - val_loss: 0.4674\n",
      "Epoch 124/200\n",
      "1/1 [==============================] - 0s 30ms/step - loss: 0.0064 - val_loss: 0.4674\n",
      "Epoch 125/200\n",
      "1/1 [==============================] - 0s 42ms/step - loss: 0.0064 - val_loss: 0.4675\n",
      "Epoch 126/200\n",
      "1/1 [==============================] - 0s 52ms/step - loss: 0.0064 - val_loss: 0.4675\n",
      "Epoch 127/200\n",
      "1/1 [==============================] - 0s 44ms/step - loss: 0.0064 - val_loss: 0.4675\n",
      "Epoch 128/200\n",
      "1/1 [==============================] - 0s 47ms/step - loss: 0.0064 - val_loss: 0.4676\n",
      "Epoch 129/200\n",
      "1/1 [==============================] - 0s 46ms/step - loss: 0.0064 - val_loss: 0.4676\n",
      "Epoch 130/200\n",
      "1/1 [==============================] - 0s 41ms/step - loss: 0.0064 - val_loss: 0.4675\n",
      "Epoch 131/200\n",
      "1/1 [==============================] - 0s 45ms/step - loss: 0.0064 - val_loss: 0.4675\n",
      "Epoch 132/200\n",
      "1/1 [==============================] - 0s 41ms/step - loss: 0.0064 - val_loss: 0.4675\n",
      "Epoch 133/200\n",
      "1/1 [==============================] - 0s 40ms/step - loss: 0.0064 - val_loss: 0.4674\n",
      "Epoch 134/200\n",
      "1/1 [==============================] - 0s 40ms/step - loss: 0.0064 - val_loss: 0.4675\n",
      "Epoch 135/200\n",
      "1/1 [==============================] - 0s 43ms/step - loss: 0.0064 - val_loss: 0.4675\n",
      "Epoch 136/200\n",
      "1/1 [==============================] - 0s 46ms/step - loss: 0.0064 - val_loss: 0.4675\n",
      "Epoch 137/200\n",
      "1/1 [==============================] - 0s 46ms/step - loss: 0.0064 - val_loss: 0.4676\n",
      "Epoch 138/200\n",
      "1/1 [==============================] - 0s 55ms/step - loss: 0.0064 - val_loss: 0.4676\n",
      "Epoch 139/200\n",
      "1/1 [==============================] - 0s 44ms/step - loss: 0.0064 - val_loss: 0.4676\n",
      "Epoch 140/200\n",
      "1/1 [==============================] - 0s 40ms/step - loss: 0.0064 - val_loss: 0.4676\n",
      "Epoch 141/200\n",
      "1/1 [==============================] - 0s 47ms/step - loss: 0.0064 - val_loss: 0.4676\n",
      "Epoch 142/200\n",
      "1/1 [==============================] - 0s 42ms/step - loss: 0.0064 - val_loss: 0.4676\n",
      "Epoch 143/200\n",
      "1/1 [==============================] - 0s 36ms/step - loss: 0.0064 - val_loss: 0.4676\n",
      "Epoch 144/200\n",
      "1/1 [==============================] - 0s 42ms/step - loss: 0.0064 - val_loss: 0.4676\n",
      "Epoch 145/200\n",
      "1/1 [==============================] - 0s 45ms/step - loss: 0.0063 - val_loss: 0.4678\n",
      "Epoch 146/200\n",
      "1/1 [==============================] - 0s 45ms/step - loss: 0.0062 - val_loss: 0.4682\n",
      "Epoch 147/200\n",
      "1/1 [==============================] - 0s 47ms/step - loss: 0.0061 - val_loss: 0.4690\n",
      "Epoch 148/200\n",
      "1/1 [==============================] - 0s 45ms/step - loss: 0.0060 - val_loss: 0.4701\n",
      "Epoch 149/200\n",
      "1/1 [==============================] - 0s 41ms/step - loss: 0.0060 - val_loss: 0.4714\n",
      "Epoch 150/200\n",
      "1/1 [==============================] - 0s 40ms/step - loss: 0.0057 - val_loss: 0.4724\n",
      "Epoch 151/200\n",
      "1/1 [==============================] - 0s 42ms/step - loss: 0.0054 - val_loss: 0.4728\n",
      "Epoch 152/200\n",
      "1/1 [==============================] - 0s 44ms/step - loss: 0.0051 - val_loss: 0.4727\n",
      "Epoch 153/200\n",
      "1/1 [==============================] - 0s 40ms/step - loss: 0.0047 - val_loss: 0.4736\n",
      "Epoch 154/200\n",
      "1/1 [==============================] - 0s 41ms/step - loss: 0.0041 - val_loss: 0.4768\n",
      "Epoch 155/200\n",
      "1/1 [==============================] - 0s 42ms/step - loss: 0.0034 - val_loss: 0.4827\n",
      "Epoch 156/200\n",
      "1/1 [==============================] - 0s 43ms/step - loss: 0.0026 - val_loss: 0.4909\n",
      "Epoch 157/200\n",
      "1/1 [==============================] - 0s 57ms/step - loss: 0.0019 - val_loss: 0.5012\n",
      "Epoch 158/200\n",
      "1/1 [==============================] - 0s 51ms/step - loss: 0.0014 - val_loss: 0.5125\n",
      "Epoch 159/200\n",
      "1/1 [==============================] - 0s 46ms/step - loss: 0.0012 - val_loss: 0.5225\n",
      "Epoch 160/200\n",
      "1/1 [==============================] - 0s 41ms/step - loss: 0.0013 - val_loss: 0.5330\n",
      "Epoch 161/200\n",
      "1/1 [==============================] - 0s 40ms/step - loss: 0.0023 - val_loss: 0.5736\n",
      "Epoch 162/200\n",
      "1/1 [==============================] - 0s 39ms/step - loss: 0.0097 - val_loss: 0.5182\n",
      "Epoch 163/200\n",
      "1/1 [==============================] - 0s 41ms/step - loss: 0.0012 - val_loss: 0.4863\n",
      "Epoch 164/200\n",
      "1/1 [==============================] - 0s 36ms/step - loss: 0.0057 - val_loss: 0.5064\n",
      "Epoch 165/200\n",
      "1/1 [==============================] - 0s 46ms/step - loss: 0.0069 - val_loss: 0.4959\n",
      "Epoch 166/200\n",
      "1/1 [==============================] - 0s 50ms/step - loss: 0.0076 - val_loss: 0.4716\n",
      "Epoch 167/200\n",
      "1/1 [==============================] - 0s 45ms/step - loss: 0.0066 - val_loss: 0.4616\n",
      "Epoch 168/200\n",
      "1/1 [==============================] - 0s 44ms/step - loss: 0.0072 - val_loss: 0.4674\n",
      "Epoch 169/200\n",
      "1/1 [==============================] - 0s 44ms/step - loss: 0.0075 - val_loss: 0.4714\n",
      "Epoch 170/200\n",
      "1/1 [==============================] - 0s 42ms/step - loss: 0.0067 - val_loss: 0.4720\n",
      "Epoch 171/200\n",
      "1/1 [==============================] - 0s 38ms/step - loss: 0.0067 - val_loss: 0.4779\n",
      "Epoch 172/200\n",
      "1/1 [==============================] - 0s 48ms/step - loss: 0.0071 - val_loss: 0.4852\n",
      "Epoch 173/200\n",
      "1/1 [==============================] - 0s 40ms/step - loss: 0.0069 - val_loss: 0.4813\n",
      "Epoch 174/200\n",
      "1/1 [==============================] - 0s 41ms/step - loss: 0.0067 - val_loss: 0.4667\n",
      "Epoch 175/200\n",
      "1/1 [==============================] - 0s 40ms/step - loss: 0.0066 - val_loss: 0.4586\n",
      "Epoch 176/200\n",
      "1/1 [==============================] - 0s 40ms/step - loss: 0.0069 - val_loss: 0.4625\n",
      "Epoch 177/200\n",
      "1/1 [==============================] - 0s 41ms/step - loss: 0.0067 - val_loss: 0.4666\n",
      "Epoch 178/200\n",
      "1/1 [==============================] - 0s 55ms/step - loss: 0.0066 - val_loss: 0.4666\n",
      "Epoch 179/200\n",
      "1/1 [==============================] - 0s 41ms/step - loss: 0.0065 - val_loss: 0.4710\n",
      "Epoch 180/200\n",
      "1/1 [==============================] - 0s 41ms/step - loss: 0.0067 - val_loss: 0.4786\n",
      "Epoch 181/200\n",
      "1/1 [==============================] - 0s 38ms/step - loss: 0.0066 - val_loss: 0.4783\n",
      "Epoch 182/200\n",
      "1/1 [==============================] - 0s 41ms/step - loss: 0.0066 - val_loss: 0.4687\n",
      "Epoch 183/200\n",
      "1/1 [==============================] - 0s 42ms/step - loss: 0.0065 - val_loss: 0.4623\n",
      "Epoch 184/200\n",
      "1/1 [==============================] - 0s 34ms/step - loss: 0.0065 - val_loss: 0.4636\n",
      "Epoch 185/200\n",
      "1/1 [==============================] - 0s 44ms/step - loss: 0.0065 - val_loss: 0.4653\n",
      "Epoch 186/200\n",
      "1/1 [==============================] - 0s 45ms/step - loss: 0.0065 - val_loss: 0.4649\n",
      "Epoch 187/200\n",
      "1/1 [==============================] - 0s 39ms/step - loss: 0.0065 - val_loss: 0.4682\n",
      "Epoch 188/200\n",
      "1/1 [==============================] - 0s 45ms/step - loss: 0.0065 - val_loss: 0.4737\n",
      "Epoch 189/200\n",
      "1/1 [==============================] - 0s 43ms/step - loss: 0.0065 - val_loss: 0.4739\n",
      "Epoch 190/200\n",
      "1/1 [==============================] - 0s 44ms/step - loss: 0.0065 - val_loss: 0.4686\n",
      "Epoch 191/200\n",
      "1/1 [==============================] - 0s 41ms/step - loss: 0.0064 - val_loss: 0.4651\n",
      "Epoch 192/200\n",
      "1/1 [==============================] - 0s 42ms/step - loss: 0.0064 - val_loss: 0.4655\n",
      "Epoch 193/200\n",
      "1/1 [==============================] - 0s 44ms/step - loss: 0.0064 - val_loss: 0.4653\n",
      "Epoch 194/200\n",
      "1/1 [==============================] - 0s 43ms/step - loss: 0.0065 - val_loss: 0.4644\n",
      "Epoch 195/200\n",
      "1/1 [==============================] - 0s 38ms/step - loss: 0.0064 - val_loss: 0.4668\n",
      "Epoch 196/200\n",
      "1/1 [==============================] - 0s 43ms/step - loss: 0.0064 - val_loss: 0.4709\n",
      "Epoch 197/200\n",
      "1/1 [==============================] - 0s 55ms/step - loss: 0.0064 - val_loss: 0.4715\n",
      "Epoch 198/200\n",
      "1/1 [==============================] - 0s 53ms/step - loss: 0.0064 - val_loss: 0.4685\n",
      "Epoch 199/200\n",
      "1/1 [==============================] - 0s 47ms/step - loss: 0.0064 - val_loss: 0.4665\n",
      "Epoch 200/200\n",
      "1/1 [==============================] - 0s 42ms/step - loss: 0.0064 - val_loss: 0.4664\n"
     ]
    },
    {
     "data": {
      "text/plain": [
       "<keras.callbacks.History at 0x1e43038e130>"
      ]
     },
     "execution_count": 26,
     "metadata": {},
     "output_type": "execute_result"
    }
   ],
   "source": [
    "dense = modelDense2(superParent, regulator_gene_matrix, NUM_TARGETS, NUM_TIME_STEPS, NUM_TARGETS, 32)\n",
    "dense.compile(optimizer='adam', loss=ignore_noParent_MSE)\n",
    "dense.fit(beanIntensities, beanIntensities, epochs=200,  verbose=True, validation_data=(validation, validation))"
   ]
  },
  {
   "cell_type": "markdown",
   "metadata": {},
   "source": [
    "# Latent Space Size Experiment"
   ]
  },
  {
   "cell_type": "code",
   "execution_count": 28,
   "metadata": {},
   "outputs": [
    {
     "name": "stderr",
     "output_type": "stream",
     "text": [
      "100%|██████████| 40/40 [47:17<00:00, 70.93s/it]\n"
     ]
    }
   ],
   "source": [
    "N = 40\n",
    "hidden = np.arange(2,24, 1) #range(1,32)\n",
    "lossMatrix = []\n",
    "for i in tqdm(range(N)):\n",
    "    \n",
    "    losses = []\n",
    "    for value in (hidden):\n",
    "        dense = modelDense2(superParent, regulator_gene_matrix, NUM_TARGETS, NUM_TIME_STEPS, NUM_TARGETS, value)\n",
    "        dense.compile(optimizer='adam', loss=ignore_noParent_MSE)\n",
    "        dense.fit(beanIntensities, beanIntensities, epochs=70,  verbose=0)\n",
    "        test_hat = dense(validation) #, verbose = 0)\n",
    "        loss = ignore_noParent_MSE(validation, test_hat)\n",
    "        losses.append(loss)\n",
    "        tf.keras.backend.clear_session()\n",
    "    lossMatrix.append(losses)\n",
    "    \n",
    "lossMatrix = np.array(lossMatrix)\n",
    "#run 100 times "
   ]
  },
  {
   "cell_type": "code",
   "execution_count": 29,
   "metadata": {},
   "outputs": [
    {
     "data": {
      "image/png": "[encoded data removed]",
      "text/plain": [
       "<Figure size 1080x360 with 1 Axes>"
      ]
     },
     "metadata": {
      "needs_background": "light"
     },
     "output_type": "display_data"
    }
   ],
   "source": [
    "avgMSE = np.average(lossMatrix, axis = 0)\n",
    "plt.plot(hidden, avgMSE);\n",
    "plt.xlabel(\"Latent Space Size\");\n",
    "plt.ylabel(\"MSE\");\n",
    "plt.title(\"MSE of the AutoEncoder with Respect to the Latent Space Size\");"
   ]
  },
  {
   "cell_type": "code",
   "execution_count": 30,
   "metadata": {},
   "outputs": [],
   "source": [
    "lm = pd.DataFrame(lossMatrix)\n",
    "lm.to_csv(\"lossmatrix4lisa.csv\")"
   ]
  },
  {
   "cell_type": "code",
   "execution_count": 31,
   "metadata": {},
   "outputs": [
    {
     "name": "stdout",
     "output_type": "stream",
     "text": [
      "(40, 23)\n"
     ]
    }
   ],
   "source": [
    "temp = pd.read_csv(\"lossmatrix4lisa.csv\").to_numpy()\n",
    "print(temp.shape)\n",
    "avgMSE = np.average(lossMatrix, axis=0)"
   ]
  },
  {
   "cell_type": "code",
   "execution_count": 32,
   "metadata": {},
   "outputs": [
    {
     "data": {
      "text/plain": [
       "[<matplotlib.lines.Line2D at 0x1e6164dba60>]"
      ]
     },
     "execution_count": 32,
     "metadata": {},
     "output_type": "execute_result"
    },
    {
     "data": {
      "image/png": "[encoded data removed]",
      "text/plain": [
       "<Figure size 1080x360 with 1 Axes>"
      ]
     },
     "metadata": {
      "needs_background": "light"
     },
     "output_type": "display_data"
    }
   ],
   "source": [
    "plt.plot(hidden, avgMSE)"
   ]
  },
  {
   "cell_type": "markdown",
   "metadata": {},
   "source": [
    "# Lazy Kernels"
   ]
  },
  {
   "cell_type": "code",
   "execution_count": 34,
   "metadata": {},
   "outputs": [],
   "source": [
    "def do_lazy_train(epochs=60, hidden = 32):\n",
    "    ep = epochs\n",
    "    hidden = [hidden,] #range(1,32)\n",
    "    lossMatrix = []\n",
    "    lazy_weights = []\n",
    "    dense = modelDense2(superParent, regulator_gene_matrix, NUM_TARGETS, NUM_TIME_STEPS, NUM_TARGETS, num_hidden_units=32)\n",
    "    dense.compile(optimizer='adam', loss=ignore_noParent_MSE)\n",
    "\n",
    "    #for i in tqdm(range(ep)):\n",
    "    for i in range(ep):\n",
    "        dense.fit(beanIntensities, beanIntensities, validation_data=(validation, validation), epochs=1,  verbose=0)\n",
    "        lazy_weights.append(dense.get_weights())\n",
    "        test = dense(validation) #, verbose = 0)\n",
    "        loss = ignore_noParent_MSE(validation, test)\n",
    "        lossMatrix.append(loss)\n",
    "        \n",
    "    lossMatrix = np.array(lossMatrix)\n",
    "    lazy_weights = np.array(lazy_weights)\n",
    "\n",
    "    return lossMatrix, lazy_weights"
   ]
  },
  {
   "cell_type": "code",
   "execution_count": 35,
   "metadata": {},
   "outputs": [],
   "source": [
    "#https://proceedings.mlr.press/v162/rachwan22a/rachwan22a.pdf Winning the Lottery Ticket Ahead of Time:\n",
    "def lazyKernelRegime(w, parent_idx=parent_idx):\n",
    "\n",
    "    firstLayer = []\n",
    "    for i in range(len(w)):\n",
    "        firstLayer.append(w[i][0][parent_idx])\n",
    "\n",
    "    fL = np.array(firstLayer)    \n",
    "    d0 = np.square(fL[1] - fL[0])\n",
    "    kernelChange = []\n",
    "    for i in range(1,len(fL)):\n",
    "        dt = np.square(fL[i] - fL[0])\n",
    "        dt_minus1 = np.square(fL[i-1] - fL[0])   \n",
    "        d = np.abs(dt - dt_minus1)/d0                        #eq 11 from the paper\n",
    "        kernelChange.append(d)\n",
    "    \n",
    "    kernelChange = np.moveaxis(kernelChange, 0, 2)\n",
    "    # plt.plot(kernelChange[0][0]);\n",
    "    # plt.title(\"$|\\Delta W|$ vs Epoch\")\n",
    "    # plt.xlabel(\"Epoch\")\n",
    "    # plt.ylabel(\"$|\\Delta W|$\")\n",
    "\n",
    "    return np.array(  kernelChange)"
   ]
  },
  {
   "cell_type": "code",
   "execution_count": 37,
   "metadata": {},
   "outputs": [],
   "source": [
    "def compute_distrib(change, t = .05, raw = False): #raw means return the unshaped indicies. \n",
    "    stop = []\n",
    "\n",
    "    for parent in range(len(change)):\n",
    "        for child in range(len(change[0])):\n",
    "            try:\n",
    "                stop.append(np.min(np.argwhere(change[parent][child] < t)))\n",
    "            except ValueError:\n",
    "                stop.append(len(change))\n",
    "                # print(parent, child)\n",
    "                # plt.plot(change[parent][child])\n",
    "                # assert(False)\n",
    "    # print(change.shape)\n",
    "    # assert(False)\n",
    "    \n",
    "    stop = np.array(stop).flatten()\n",
    "    # print(stop.shape)\n",
    "    var = np.std(stop)\n",
    "    # print(var)\n",
    "    # assert(False)\n",
    "    mean = np.average(stop)\n",
    "    top_parents = np.argwhere(stop > mean + 2*var) #get the parents which take more than 2 stds to stop training\n",
    "    top_parent_child = []\n",
    "    for tp in top_parents:\n",
    "        top_parent_child.append(np.unravel_index(tp, shape = (NUM_PARENTS, NUM_TARGETS)))\n",
    "\n",
    "    if raw == False:\n",
    "        plt.hist(stop)\n",
    "        plt.xlabel(\"Epoch where regulator-target-weight began changing by at most \"+ str(t));\n",
    "        plt.ylabel(\"Number of parent-child-weights\");\n",
    "        plt.title(\"Histogram of weight stops\");\n",
    "        print(\"average stop: \", mean);\n",
    "\n",
    "    if raw == True:\n",
    "        return np.array(top_parents)\n",
    "\n",
    "    return np.array(top_parent_child)"
   ]
  },
  {
   "cell_type": "code",
   "execution_count": 38,
   "metadata": {},
   "outputs": [],
   "source": [
    "def lazyKernels(N=100):\n",
    "\n",
    "    candidates = []\n",
    "    final_w = []\n",
    "    for i in tqdm(range(N)):\n",
    "        lm, lazy_weights = do_lazy_train(epochs=80)\n",
    "        change = lazyKernelRegime(lazy_weights)\n",
    "        top_pr = np.squeeze(compute_distrib(change, t = 0.05, raw=True))\n",
    "        candidates.append(top_pr)\n",
    "        final_w.append(lazy_weights[-1])\n",
    "    \n",
    "    final_w = np.array(final_w)\n",
    "    firstLayer = []\n",
    "    for i in range(len(final_w)):\n",
    "        firstLayer.append(np.abs(final_w[i][0][parent_idx]))\n",
    "    fw = np.array(firstLayer)\n",
    "    #print(fw.shape)\n",
    "    fw_avg = np.average(fw, axis = 0)\n",
    "    #print(fw_avg.shape)\n",
    "    \n",
    "    candidates = np.hstack(candidates)\n",
    "    candidates = candidates.reshape(candidates.size)\n",
    "    #print(candidates.shape)\n",
    "\n",
    "    plt.hist(candidates, bins=np.arange(0, NUM_PARENTS*NUM_TARGETS))\n",
    "    plt.title(\"Parent-Child Regulator Histogram\")\n",
    "    plt.xlabel(\"Parent-Child Weight\")\n",
    "    plt.ylabel(\"Num-Times parent-child relationship trained for top 5% of time\")\n",
    "    return candidates, fw_avg\n",
    "\n"
   ]
  },
  {
   "cell_type": "code",
   "execution_count": 39,
   "metadata": {},
   "outputs": [
    {
     "name": "stderr",
     "output_type": "stream",
     "text": [
      "100%|██████████| 100/100 [25:26<00:00, 15.27s/it]\n"
     ]
    },
    {
     "data": {
      "image/png": "[encoded data removed]",
      "text/plain": [
       "<Figure size 1080x360 with 1 Axes>"
      ]
     },
     "metadata": {
      "needs_background": "light"
     },
     "output_type": "display_data"
    }
   ],
   "source": [
    "can, mag = lazyKernels()"
   ]
  },
  {
   "cell_type": "code",
   "execution_count": 40,
   "metadata": {},
   "outputs": [
    {
     "data": {
      "text/plain": [
       "(3408,)"
      ]
     },
     "execution_count": 40,
     "metadata": {},
     "output_type": "execute_result"
    }
   ],
   "source": [
    "can.shape"
   ]
  },
  {
   "cell_type": "code",
   "execution_count": 41,
   "metadata": {},
   "outputs": [
    {
     "data": {
      "text/plain": [
       "array([2, 3, 2, ..., 1, 3, 3], dtype=int64)"
      ]
     },
     "execution_count": 41,
     "metadata": {},
     "output_type": "execute_result"
    }
   ],
   "source": [
    "pdf, bins = np.histogram(can, np.arange(NUM_PARENTS*NUM_TARGETS))\n",
    "pdf"
   ]
  },
  {
   "cell_type": "code",
   "execution_count": 42,
   "metadata": {},
   "outputs": [
    {
     "data": {
      "text/plain": [
       "(7, 372)"
      ]
     },
     "execution_count": 42,
     "metadata": {},
     "output_type": "execute_result"
    }
   ],
   "source": [
    "mag.shape"
   ]
  },
  {
   "cell_type": "markdown",
   "metadata": {},
   "source": [
    "# Magnitudes After Training"
   ]
  },
  {
   "cell_type": "code",
   "execution_count": 43,
   "metadata": {},
   "outputs": [
    {
     "data": {
      "text/plain": [
       "2604"
      ]
     },
     "execution_count": 43,
     "metadata": {},
     "output_type": "execute_result"
    }
   ],
   "source": [
    "NUM_PARENTS*NUM_TARGETS"
   ]
  },
  {
   "cell_type": "code",
   "execution_count": 45,
   "metadata": {},
   "outputs": [
    {
     "ename": "ValueError",
     "evalue": "index 2604 is out of bounds for array with size 2604",
     "output_type": "error",
     "traceback": [
      "\u001b[1;31m---------------------------------------------------------------------------\u001b[0m",
      "\u001b[1;31mValueError\u001b[0m                                Traceback (most recent call last)",
      "\u001b[1;32mc:\\Users\\Fin Amin\\Desktop\\StemCellResearch\\beanEncoder\\BeanEncoderMain.ipynb Cell 49\u001b[0m in \u001b[0;36m<cell line: 1>\u001b[1;34m()\u001b[0m\n\u001b[1;32m----> <a href='vscode-notebook-cell:/c%3A/Users/Fin%20Amin/Desktop/StemCellResearch/beanEncoder/BeanEncoderMain.ipynb#Y103sZmlsZQ%3D%3D?line=0'>1</a>\u001b[0m np\u001b[39m.\u001b[39;49munravel_index(NUM_PARENTS\u001b[39m*\u001b[39;49mNUM_TARGETS, shape \u001b[39m=\u001b[39;49m (NUM_PARENTS, NUM_TARGETS))\n",
      "File \u001b[1;32m<__array_function__ internals>:5\u001b[0m, in \u001b[0;36munravel_index\u001b[1;34m(*args, **kwargs)\u001b[0m\n",
      "\u001b[1;31mValueError\u001b[0m: index 2604 is out of bounds for array with size 2604"
     ]
    }
   ],
   "source": [
    "np.unravel_index(NUM_PARENTS*NUM_TARGETS, shape = (NUM_PARENTS, NUM_TARGETS))"
   ]
  },
  {
   "cell_type": "code",
   "execution_count": 46,
   "metadata": {},
   "outputs": [],
   "source": [
    "def get_top_reg_targets(can, mag):\n",
    "    \n",
    "    pdf, bins = np.histogram(can, np.arange(0, NUM_PARENTS*NUM_TARGETS))\n",
    "    pdf2d = np.zeros(shape = (NUM_PARENTS,NUM_TARGETS))\n",
    "\n",
    "    for i in bins:\n",
    "      idx2d = np.unravel_index(i, shape = (NUM_PARENTS, NUM_TARGETS))\n",
    "      try:\n",
    "        pdf2d[idx2d] = pdf[i]\n",
    "      except IndexError:\n",
    "        print(i, idx2d, len(pdf), len(bins))\n",
    "    \n",
    "\n",
    "    importance = np.multiply(pdf2d, mag)\n",
    "    return importance"
   ]
  },
  {
   "cell_type": "code",
   "execution_count": 47,
   "metadata": {},
   "outputs": [
    {
     "name": "stdout",
     "output_type": "stream",
     "text": [
      "2603 (6, 371) 2603 2604\n"
     ]
    }
   ],
   "source": [
    "top = get_top_reg_targets(can, mag)"
   ]
  },
  {
   "cell_type": "code",
   "execution_count": 48,
   "metadata": {},
   "outputs": [
    {
     "data": {
      "text/plain": [
       "(7, 372)"
      ]
     },
     "execution_count": 48,
     "metadata": {},
     "output_type": "execute_result"
    }
   ],
   "source": [
    "top.shape"
   ]
  },
  {
   "cell_type": "code",
   "execution_count": 49,
   "metadata": {},
   "outputs": [
    {
     "data": {
      "text/plain": [
       "0.22968024015426636"
      ]
     },
     "execution_count": 49,
     "metadata": {},
     "output_type": "execute_result"
    }
   ],
   "source": [
    "np.max(top)"
   ]
  },
  {
   "cell_type": "code",
   "execution_count": 51,
   "metadata": {},
   "outputs": [
    {
     "data": {
      "text/plain": [
       "0.0753869116306305"
      ]
     },
     "execution_count": 51,
     "metadata": {},
     "output_type": "execute_result"
    }
   ],
   "source": [
    "top[6][122]"
   ]
  },
  {
   "cell_type": "code",
   "execution_count": 52,
   "metadata": {},
   "outputs": [
    {
     "data": {
      "image/png": "[encoded data removed]",
      "text/plain": [
       "<Figure size 1080x360 with 2 Axes>"
      ]
     },
     "metadata": {
      "needs_background": "light"
     },
     "output_type": "display_data"
    }
   ],
   "source": [
    "u = plt.imshow(top, cmap = 'inferno', vmin = 0, vmax = np.max(top));\n",
    "plt.colorbar(u ,fraction=0.0086, pad=0.02);\n",
    "plt.title(\"The Most Important Regulator-Target Combinations\");"
   ]
  },
  {
   "cell_type": "code",
   "execution_count": 53,
   "metadata": {},
   "outputs": [
    {
     "data": {
      "text/plain": [
       "array([[225, 363],\n",
       "       [350, 325],\n",
       "       [350, 204],\n",
       "       ...,\n",
       "       [164, 165],\n",
       "       [164, 164],\n",
       "       [350, 371]], dtype=int64)"
      ]
     },
     "execution_count": 53,
     "metadata": {},
     "output_type": "execute_result"
    }
   ],
   "source": [
    "topID = np.array(np.unravel_index(np.argsort(top, axis=None), top.shape))\n",
    "topID = np.flip(topID, axis=1)\n",
    "topID[0] = parent_idx[topID[0]]\n",
    "topID = topID.T\n",
    "topID"
   ]
  },
  {
   "cell_type": "code",
   "execution_count": 54,
   "metadata": {},
   "outputs": [],
   "source": [
    "# topR_T = pd.DataFrame(topID)\n",
    "# topR_T.to_csv(\"Top_reg_target_decendingOrder_firstColIsRegulator.csv\")"
   ]
  },
  {
   "cell_type": "code",
   "execution_count": 56,
   "metadata": {},
   "outputs": [
    {
     "data": {
      "text/plain": [
       "array([3.53878477, 3.15193048, 7.81376164, 7.2337574 , 5.4791325 ,\n",
       "       3.56639753, 4.91334931])"
      ]
     },
     "execution_count": 56,
     "metadata": {},
     "output_type": "execute_result"
    }
   ],
   "source": [
    "best = np.zeros(NUM_PARENTS)\n",
    "for i in range(NUM_PARENTS):\n",
    "    best[i] = np.sum(top[i])\n",
    "best"
   ]
  },
  {
   "cell_type": "code",
   "execution_count": 58,
   "metadata": {},
   "outputs": [
    {
     "data": {
      "image/png": "[encoded data removed]",
      "text/plain": [
       "<Figure size 1080x360 with 1 Axes>"
      ]
     },
     "metadata": {
      "needs_background": "light"
     },
     "output_type": "display_data"
    }
   ],
   "source": [
    "x = np.arange(0,NUM_PARENTS, dtype=int)\n",
    "plt.plot(x, best); "
   ]
  },
  {
   "cell_type": "code",
   "execution_count": null,
   "metadata": {},
   "outputs": [],
   "source": [
    "idx = np.flip(np.argsort(best))\n",
    "idx"
   ]
  },
  {
   "cell_type": "code",
   "execution_count": null,
   "metadata": {},
   "outputs": [],
   "source": [
    "parent_idx[idx] "
   ]
  },
  {
   "cell_type": "code",
   "execution_count": null,
   "metadata": {},
   "outputs": [],
   "source": [
    "np.unique(can).size"
   ]
  },
  {
   "cell_type": "markdown",
   "metadata": {},
   "source": [
    "# Inference on Petal Len"
   ]
  },
  {
   "cell_type": "code",
   "execution_count": null,
   "metadata": {},
   "outputs": [],
   "source": [
    "petal = pd.read_excel(data_path_petal)"
   ]
  },
  {
   "cell_type": "code",
   "execution_count": null,
   "metadata": {},
   "outputs": [],
   "source": [
    "petal_train = petal[petal[\"Line\"] == \"WT\"]\n",
    "petal_train = petal_train.drop(columns=['Line', 'ID', \"Treatment\"])\n",
    "petal_train.head(12)\n",
    "petal_train = petal_train.groupby(['Plate']).mean()\n",
    "petal_train.head()\n",
    "petal_train = petal_train.to_numpy()\n",
    "print(petal_train.shape)\n",
    "scaler1 = StandardScaler()\n",
    "scaler1.fit(petal_train)\n",
    "petal_train = scaler1.transform(petal_train)\n",
    "mm = MinMaxScaler()\n",
    "mm.fit(petal_train)\n",
    "petal_train = mm.transform(petal_train)\n",
    "petal_train"
   ]
  },
  {
   "cell_type": "code",
   "execution_count": null,
   "metadata": {},
   "outputs": [],
   "source": [
    "petal_test = petal[petal[\"Line\"] != \"WT\"]\n",
    "petal_test = petal_test.drop(columns=['Line', 'ID', \"Treatment\"])\n",
    "petal_test = petal_test.groupby(['Plate']).mean()\n",
    "petal_test.head()\n",
    "petal_test = petal_test.to_numpy()\n",
    "print(petal_test.shape)\n",
    "petal_test = scaler1.transform(petal_test)\n",
    "petal_test = mm.transform(petal_test)\n",
    "petal_test"
   ]
  },
  {
   "cell_type": "code",
   "execution_count": null,
   "metadata": {},
   "outputs": [],
   "source": [
    "experiment1.shape\n",
    "testCandidate.shape"
   ]
  },
  {
   "cell_type": "code",
   "execution_count": null,
   "metadata": {},
   "outputs": [],
   "source": [
    "densePredictor = modelDense2(superParent, regulator_gene_matrix, NUM_TARGETS, 6, NUM_TARGETS, 22)\n",
    "densePredictor.compile(optimizer='adam', loss=ignore_noParent_MSE)\n",
    "densePredictor.fit(beanIntensities, beanIntensities,validation_data=(experiment1, experiment1),  epochs=100,  verbose=1)\n",
    "test = densePredictor(testCandidate) #, verbose = 0)\n",
    "loss = ignore_noParent_MSE(testCandidate, test)\n",
    "print(loss)"
   ]
  },
  {
   "cell_type": "code",
   "execution_count": null,
   "metadata": {},
   "outputs": [],
   "source": [
    "rgm = superParent\n",
    "time_steps = 6\n",
    "num_kinase_regulators = NUM_TARGETS\n",
    "num_hidden_units = 22\n",
    "\n",
    "inp = Input(shape=(time_steps, num_kinase_regulators))\n",
    "x = DenseEncoderLinear2(rgm, regulator_gene_matrix, NUM_TARGETS, NUM_TARGETS)(inp)\n",
    "enc = denseencoder2(x, inp, num_hidden_units)\n",
    "denseP = tf.keras.Model(inputs=inp, outputs=enc)\n",
    "#set the weights of the encoder to the weights of auto encoder\n",
    "dw = densePredictor.get_weights()\n",
    "enc_w = dw[0:5]\n",
    "denseP.set_weights(enc_w)\n",
    "#add a dense layer  because we are ouputing 1 number\n",
    "l = Dense(32, activation = 'swish', use_bias=True, kernel_regularizer='l1_l2')(denseP.layers[-1].output)\n",
    "l = Dense(1, activation = 'linear', use_bias = True)(l)\n",
    "denseP = tf.keras.Model(denseP.inputs, l)\n",
    "#denseP.summary()"
   ]
  },
  {
   "cell_type": "code",
   "execution_count": null,
   "metadata": {},
   "outputs": [],
   "source": [
    "bp = np.concatenate([experiment1, experiment1, experiment1, experiment1])\n",
    "bp.shape\n",
    "#bigexperiment1.shape"
   ]
  },
  {
   "cell_type": "code",
   "execution_count": null,
   "metadata": {},
   "outputs": [],
   "source": [
    "a = petal_train[0]\n",
    "b = petal_train[1]\n",
    "c = petal_train[2]\n",
    "d = petal_train[3]\n",
    "\n",
    "petal_train1 = np.array([a,a,a,a, b,b,b,b, c,c,c,c, d,d,d,d]) #does this make sense? we are training network to predict .5\n",
    "petal_train1.shape"
   ]
  },
  {
   "cell_type": "code",
   "execution_count": null,
   "metadata": {},
   "outputs": [],
   "source": [
    "denseP.compile(optimizer='adam', loss=tf.keras.losses.MeanSquaredError())\n",
    "denseP.fit(experiment1, petal_train, epochs=500, verbose = 1)"
   ]
  },
  {
   "cell_type": "code",
   "execution_count": null,
   "metadata": {},
   "outputs": [],
   "source": [
    "testCandidate.shape"
   ]
  },
  {
   "cell_type": "code",
   "execution_count": null,
   "metadata": {},
   "outputs": [],
   "source": [
    "denseP(experiment1) #experiment1 is part of the training set."
   ]
  },
  {
   "cell_type": "code",
   "execution_count": null,
   "metadata": {},
   "outputs": [],
   "source": [
    "petal_train"
   ]
  },
  {
   "cell_type": "code",
   "execution_count": null,
   "metadata": {},
   "outputs": [],
   "source": [
    "print(denseP(testCandidate)) #model output"
   ]
  },
  {
   "cell_type": "code",
   "execution_count": null,
   "metadata": {},
   "outputs": [],
   "source": [
    "petal_test #true label"
   ]
  },
  {
   "cell_type": "code",
   "execution_count": null,
   "metadata": {},
   "outputs": [],
   "source": [
    "petal_train"
   ]
  },
  {
   "cell_type": "code",
   "execution_count": null,
   "metadata": {},
   "outputs": [],
   "source": [
    "denseP.evaluate(testCandidate, petal_test) #eval gave 1.3999 before"
   ]
  },
  {
   "cell_type": "markdown",
   "metadata": {},
   "source": [
    "# Junk"
   ]
  },
  {
   "cell_type": "markdown",
   "metadata": {},
   "source": [
    "# Load the test set and the synthetic dataset:\n"
   ]
  },
  {
   "cell_type": "code",
   "execution_count": null,
   "metadata": {},
   "outputs": [],
   "source": [
    "def loadTestSet(test_path):\n",
    "    testFiles = []\n",
    "    for np_name in glob(os.path.join(data_path_testSet,'*.np[yz]')):\n",
    "        k = np.load(os.path.join(data_path_testSet,np_name))\n",
    "        testFiles.append(k)\n",
    "#         print(np_name)\n",
    "#         print(k.shape)\n",
    "    return np.array(testFiles)"
   ]
  },
  {
   "cell_type": "code",
   "execution_count": null,
   "metadata": {
    "id": "_PKjzdFCMwFg"
   },
   "outputs": [],
   "source": [
    "def read_files(data_path):\n",
    "\n",
    "    #genes_intensities_data_matrix = pd.read_csv(file_path_intensities, index_col = 0)\n",
    "    #print(os.listdir(data_path))\n",
    "    replicate_files = os.listdir(data_path)\n",
    "    #print('replicate files:',replicate_files)\n",
    "    replicates = []\n",
    "    # i = 0\n",
    "    for file in replicate_files:\n",
    "        \n",
    "        try:\n",
    "            #print('file name:',file)\n",
    "            #print('value of i:',i)\n",
    "            genes_intensities_data_matrix = pd.read_csv(os.path.join(data_path , file), index_col = 0, on_bad_lines='skip')\n",
    "            #print('genes_intensities_data_matrix:',  genes_intensities_data_matrix.head())\n",
    "            replicates.append(np.array(genes_intensities_data_matrix.values, dtype = float))\n",
    "            # i+=1\n",
    "        except PermissionError:\n",
    "            print(\"Not a CSV: \", os.path.join(data_path , file))\n",
    "        \n",
    "    genes_intensities_data_matrix = genes_intensities_data_matrix.values\n",
    "    rgm = np.loadtxt(matrix_path)\n",
    "    rep = np.array(replicates).astype(np.float32)\n",
    "    \n",
    "    return rep, rgm.astype(np.float32)"
   ]
  },
  {
   "cell_type": "code",
   "execution_count": null,
   "metadata": {
    "id": "JCwo4LwlO_FF"
   },
   "outputs": [],
   "source": [
    "beanIntensities, regulator_gene_matrix= read_files(data_path_syn)\n",
    "matrix = regulator_gene_matrix\n",
    "replicates = beanIntensities"
   ]
  },
  {
   "cell_type": "code",
   "execution_count": null,
   "metadata": {},
   "outputs": [],
   "source": [
    "matrix.shape"
   ]
  },
  {
   "cell_type": "code",
   "execution_count": null,
   "metadata": {},
   "outputs": [],
   "source": [
    "replicates.shape"
   ]
  },
  {
   "cell_type": "code",
   "execution_count": null,
   "metadata": {},
   "outputs": [],
   "source": [
    "plt.imshow(matrix)"
   ]
  },
  {
   "cell_type": "code",
   "execution_count": null,
   "metadata": {},
   "outputs": [],
   "source": []
  },
  {
   "cell_type": "code",
   "execution_count": null,
   "metadata": {},
   "outputs": [],
   "source": [
    "d = np.zeros(shape = (3,6,8))\n",
    "id = np.unravel_index(3*6*8 - 1, shape = d.shape)\n",
    "d[id] = 1\n",
    "plt.imshow(d[2])"
   ]
  },
  {
   "cell_type": "code",
   "execution_count": null,
   "metadata": {},
   "outputs": [],
   "source": [
    "testCandidate[0][ : , parentIndex]"
   ]
  },
  {
   "cell_type": "code",
   "execution_count": null,
   "metadata": {},
   "outputs": [],
   "source": [
    "print(outSyn.shape)\n",
    "print(testCandidate.shape)\n",
    "syntheticLoss = ignore_noParent_MSE(np.array([testCandidate[0]]), np.array([outSyn[0]]) )\n",
    "syntheticLoss"
   ]
  },
  {
   "cell_type": "code",
   "execution_count": null,
   "metadata": {},
   "outputs": [],
   "source": [
    "dd"
   ]
  },
  {
   "cell_type": "code",
   "execution_count": null,
   "metadata": {},
   "outputs": [],
   "source": [
    "plt.plot(change[0][22])\n",
    "plt.xlabel(\"epoch\")\n",
    "plt.ylabel(\"change in weight\")"
   ]
  },
  {
   "cell_type": "code",
   "execution_count": null,
   "metadata": {},
   "outputs": [],
   "source": [
    "plt.plot(lossMatrix)\n",
    "plt.xlabel(\"epochs\")\n",
    "plt.ylabel(\"MSE\")"
   ]
  },
  {
   "cell_type": "code",
   "execution_count": null,
   "metadata": {},
   "outputs": [],
   "source": [
    "print(change.shape, lossMatrix.shape)"
   ]
  },
  {
   "cell_type": "code",
   "execution_count": null,
   "metadata": {},
   "outputs": [],
   "source": [
    "d = np.diff(change[0][22])\n",
    "plt.plot(d)\n",
    "d.shape"
   ]
  },
  {
   "cell_type": "code",
   "execution_count": null,
   "metadata": {},
   "outputs": [],
   "source": [
    "change[0][0].flatten()"
   ]
  },
  {
   "cell_type": "code",
   "execution_count": null,
   "metadata": {},
   "outputs": [],
   "source": [
    "top_pr.shape"
   ]
  },
  {
   "cell_type": "code",
   "execution_count": null,
   "metadata": {},
   "outputs": [],
   "source": [
    "plt.plot(d[0])"
   ]
  },
  {
   "cell_type": "code",
   "execution_count": null,
   "metadata": {},
   "outputs": [],
   "source": [
    "\n",
    "# def compute_tresh(change, stop = 0.05):\n",
    "#     diffs = []\n",
    "#     for parent in range(len(change)):\n",
    "#         for child in range(len(change[0])):\n",
    "#             diffs.append(np.diff(change[parent][child]))\n",
    "#     inflection = []\n",
    "\n",
    "\n",
    "#     try:\n",
    "#         for d in diffs:\n",
    "#             print(np.argwhere(np.abs(d) < stop))\n",
    "#             inflection.append(np.min(np.argwhere(np.abs(d) < stop))) #return where the second derivative is first 0. \n",
    "\n",
    "#     except ValueError:\n",
    "#         print(\"Stop value \", stop, \" is too high, trying stop = \", stop + 0.05)\n",
    "#         # s = stop + 0.05\n",
    "#         # return compute_tresh(change, stop = s)\n",
    "        \n",
    "\n",
    "#     return np.average(inflection)\n",
    "        \n",
    "# d = compute_tresh(change)\n",
    "# d.shape"
   ]
  },
  {
   "cell_type": "code",
   "execution_count": null,
   "metadata": {},
   "outputs": [],
   "source": [
    "#np.save(\"mse3.npy\", avgMSE) #mse2/3 is with -1 fix"
   ]
  },
  {
   "cell_type": "code",
   "execution_count": null,
   "metadata": {},
   "outputs": [],
   "source": [
    "#https://www.sciencedirect.com/science/article/pii/S0925231220314570?casa_token=lcEJANqO0JwAAAAA:uL3DGUZctPUZz_sPz1K1i2klMtb83TyKnc9CI3_N-uSOaM7VHL8GhM0jCGYfo25NmpDQQ9Cvlw"
   ]
  },
  {
   "cell_type": "code",
   "execution_count": null,
   "metadata": {},
   "outputs": [],
   "source": [
    "rshp = Flatten()(looseParent.layers[-1].output)\n",
    "\n",
    "modelTemp = tf.keras.Model(inputs=looseParent.input, outputs = [rshp])\n",
    "modelTemp.summary()\n",
    "type(modelTemp)\n",
    "explainer = shap.DeepExplainer(modelTemp, syntheticDataTrain)\n",
    "#shap.explainers._deep.deep_tf.op_handlers[\"AddV2\"] = shap.explainers._deep.deep_tf.passthrough #this solves the \"shap_ADDV2\" problem but another one will appear\n",
    "#shap.explainers._deep.deep_tf.op_handlers[\"FusedBatchNormV3\"] = shap.explainers._deep.deep_tf.passthrough #this solves the next problem which allows you to run the DeepExplainer.\n",
    "\n",
    "shap_values = explainer.shap_values(testCandidate[0:1])\n",
    "def f(x):\n",
    "    return modelTemp.predict(x)\n",
    "\n",
    "print(f(testCandidate))\n",
    "explainer = shap.KernelExplainer(f , testCandidate[0:1], link=\"logit\") #svm.predict_proba, X_train, link=\"logit\")\n",
    "shap_values = explainer.shap_values(testCandidate[0:1], nsamples=100)\n",
    "def map2layer(x, layer):\n",
    "    feed_dict = dict(zip([model.layers[0].input], [preprocess_input(x.copy())]))\n",
    "    return K.get_session().run(model.layers[layer].input, feed_dict)\n",
    "e = shap.GradientExplainer(\n",
    "    (model.layers[7].input, model.layers[-1].output),\n",
    "    map2layer(X, 7),\n",
    "    local_smoothing=0 # std dev of smoothing noise\n",
    ")\n",
    "from keras.applications.vgg16 import VGG16\n",
    "from keras.applications.vgg16 import preprocess_input\n",
    "import keras.backend as K\n",
    "import numpy as np\n",
    "import json\n",
    "import shap\n",
    "\n",
    "# load pre-trained model and choose two images to explain\n",
    "model = VGG16(weights='imagenet', include_top=True)\n",
    "X,y = shap.datasets.imagenet50()\n",
    "to_explain = X[[39,41]]\n",
    "\n",
    "# load the ImageNet class names\n",
    "url = \"https://s3.amazonaws.com/deep-learning-models/image-models/imagenet_class_index.json\"\n",
    "fname = shap.datasets.cache(url)\n",
    "with open(fname) as f:\n",
    "    class_names = json.load(f)\n",
    "\n",
    "# explain how the input to the 7th layer of the model explains the top two classes\n",
    "def map2layer(x, layer):\n",
    "    feed_dict = dict(zip([model.layers[0].input], [preprocess_input(x.copy())]))\n",
    "    return K.get_session().run(model.layers[layer].input, feed_dict)\n",
    "e = shap.GradientExplainer(\n",
    "    (model.layers[7].input, model.layers[-1].output),\n",
    "    map2layer(X, 7),\n",
    "    local_smoothing=0 # std dev of smoothing noise\n",
    ")\n",
    "shap_values,indexes = e.shap_values(map2layer(to_explain, 7), ranked_outputs=2)\n",
    "\n",
    "# get the names for the classes\n",
    "index_names = np.vectorize(lambda x: class_names[str(x)][1])(indexes)\n",
    "\n",
    "# plot the explanations\n",
    "shap.image_plot(shap_values, to_explain, index_names)"
   ]
  },
  {
   "cell_type": "code",
   "execution_count": null,
   "metadata": {},
   "outputs": [],
   "source": [
    "type(enc_dec_Synthetic)"
   ]
  },
  {
   "cell_type": "code",
   "execution_count": null,
   "metadata": {},
   "outputs": [],
   "source": [
    "a = [1,2,3]\n",
    "b = [5,6]\n",
    "u = tf.concat([a,b], axis = 0)\n",
    "u"
   ]
  },
  {
   "cell_type": "code",
   "execution_count": null,
   "metadata": {},
   "outputs": [],
   "source": [
    "newConnections = superParent - regulator_gene_matrix"
   ]
  },
  {
   "cell_type": "code",
   "execution_count": null,
   "metadata": {},
   "outputs": [],
   "source": [
    "plt.imshow(newConnections)"
   ]
  },
  {
   "cell_type": "code",
   "execution_count": null,
   "metadata": {},
   "outputs": [],
   "source": [
    "# nC = []\n",
    "# for i in range(len(newConnections[0])):\n",
    "#     for j in range(len(newConnections[1])):\n",
    "#         if newConnections[i][j] > 0:\n",
    "#             nC.append([i,j])\n",
    "# nC = np.array(nC)\n",
    "# nC = pd.DataFrame(nC)\n",
    "# nC.to_csv(\"new_connections_in_superParents.csv\")"
   ]
  },
  {
   "cell_type": "code",
   "execution_count": null,
   "metadata": {},
   "outputs": [],
   "source": []
  },
  {
   "cell_type": "code",
   "execution_count": null,
   "metadata": {},
   "outputs": [],
   "source": []
  },
  {
   "cell_type": "code",
   "execution_count": null,
   "metadata": {},
   "outputs": [],
   "source": [
    "###Code for testing loss function\n",
    "# print(outSyn.shape)\n",
    "# print(testCandidate.shape)\n",
    "# syntheticLoss = ignore_noParent_MSE(np.array([testCandidate[0]]), np.array([outSyn[0]]) )\n",
    "# syntheticLoss"
   ]
  },
  {
   "cell_type": "markdown",
   "metadata": {},
   "source": [
    "# Synthetic Dataset Auto Encoder\n",
    "Autoencoder has not been trained on synthetic version of experiement 1. We test on the original experiment 1. "
   ]
  },
  {
   "cell_type": "code",
   "execution_count": null,
   "metadata": {
    "id": "WrRuJ_bsrHll"
   },
   "outputs": [],
   "source": [
    "enc_dec_Synthetic.compile(optimizer='adam', loss=ignore_noParent_MSE)"
   ]
  },
  {
   "cell_type": "code",
   "execution_count": null,
   "metadata": {
    "id": "yAOZEEvRRVU4"
   },
   "outputs": [],
   "source": [
    "# enc_dec_Synthetic.compile(optimizer='adam',loss = keras.losses.SparseCategoricalCrossentropy(from_logits=True))"
   ]
  },
  {
   "cell_type": "code",
   "execution_count": null,
   "metadata": {},
   "outputs": [],
   "source": [
    "syntheticDataTrain = beanIntensities[1:]"
   ]
  },
  {
   "cell_type": "code",
   "execution_count": null,
   "metadata": {
    "colab": {
     "base_uri": "https://localhost:8080/"
    },
    "executionInfo": {
     "elapsed": 726,
     "status": "ok",
     "timestamp": 1649273035573,
     "user": {
      "displayName": "Sahil Anish Palarpwar",
      "userId": "17757512684560375750"
     },
     "user_tz": 240
    },
    "id": "EuNDZx5Ov34I",
    "outputId": "74597aa1-c71c-4491-b8c9-4fefed309325"
   },
   "outputs": [],
   "source": [
    "enc_dec_Synthetic.fit(syntheticDataTrain,syntheticDataTrain,epochs=1000)"
   ]
  },
  {
   "cell_type": "code",
   "execution_count": null,
   "metadata": {},
   "outputs": [],
   "source": [
    "test = enc_dec_Synthetic(testCandidate) #, verbose = 0)\n",
    "loss = ignore_noParent_MSE(testCandidate, test)\n",
    "loss"
   ]
  },
  {
   "cell_type": "code",
   "execution_count": null,
   "metadata": {},
   "outputs": [],
   "source": [
    "w = enc_dec_Synthetic.get_weights()"
   ]
  },
  {
   "cell_type": "code",
   "execution_count": null,
   "metadata": {},
   "outputs": [],
   "source": [
    "plt.imshow(w[0], cmap = \"hot\", vmin=0,vmax=0.02)"
   ]
  },
  {
   "cell_type": "code",
   "execution_count": null,
   "metadata": {
    "id": "SBzDmjqJViEw",
    "scrolled": true
   },
   "outputs": [],
   "source": [
    "#we do not need to use this function for the testset\n",
    "def getCSVs(data_path_head):\n",
    "    PATH = data_path_head\n",
    "    EXT = \"*.csv\"\n",
    "    all_csv_files = [file\n",
    "                     for path, subdir, files in os.walk(PATH)\n",
    "                     for file in glob(os.path.join(path, EXT))]\n",
    "    actual = []\n",
    "    for p in all_csv_files:\n",
    "        actual.append(pd.read_csv(p, index_col = 0).to_numpy())\n",
    "    return np.array(actual)\n",
    "    \n",
    "experiment1 = getCSVs(data_path_og_exp1)"
   ]
  },
  {
   "cell_type": "code",
   "execution_count": null,
   "metadata": {},
   "outputs": [],
   "source": [
    "testCandidate = test.numpy().astype(np.float)"
   ]
  },
  {
   "cell_type": "code",
   "execution_count": null,
   "metadata": {},
   "outputs": [],
   "source": [
    "testCandidate.dtype"
   ]
  },
  {
   "cell_type": "code",
   "execution_count": null,
   "metadata": {},
   "outputs": [],
   "source": [
    "np.array([beanIntensities[0]]).shape"
   ]
  },
  {
   "cell_type": "code",
   "execution_count": null,
   "metadata": {},
   "outputs": [],
   "source": [
    "testCandidate[0].shape"
   ]
  },
  {
   "cell_type": "code",
   "execution_count": null,
   "metadata": {},
   "outputs": [],
   "source": [
    "np.array([beanIntensities[0]]).shape"
   ]
  },
  {
   "cell_type": "code",
   "execution_count": null,
   "metadata": {},
   "outputs": [],
   "source": [
    "outSyn = enc_dec_Synthetic.predict(testCandidate)"
   ]
  },
  {
   "cell_type": "code",
   "execution_count": null,
   "metadata": {},
   "outputs": [],
   "source": [
    "def mymagn(A, B):\n",
    "    mse = (np.square(A - B)).mean(axis=None)\n",
    "    return mse"
   ]
  },
  {
   "cell_type": "code",
   "execution_count": null,
   "metadata": {},
   "outputs": [],
   "source": [
    "print(outSyn.shape)"
   ]
  },
  {
   "cell_type": "code",
   "execution_count": null,
   "metadata": {},
   "outputs": [],
   "source": [
    "syntheticLoss = ignore_noParent_MSE(testCandidate, outSyn )\n",
    "syntheticLoss"
   ]
  },
  {
   "cell_type": "code",
   "execution_count": null,
   "metadata": {},
   "outputs": [],
   "source": [
    "(outSyn-testCandidate).shape"
   ]
  },
  {
   "cell_type": "code",
   "execution_count": null,
   "metadata": {},
   "outputs": [],
   "source": [
    "#!pip3 install keras-visualizer\n",
    "#!pip install pydot\n",
    "#data_path_og_exp1 = data_path_testSet \n",
    "# !pip install pydot\n",
    "# !pip install pydotplus\n",
    "# !pip install graphviz"
   ]
  },
  {
   "cell_type": "code",
   "execution_count": null,
   "metadata": {},
   "outputs": [],
   "source": [
    "# test = loadTestSet(data_path_testSet)\n",
    "# testCandidate = test.astype(np.float)\n"
   ]
  },
  {
   "cell_type": "code",
   "execution_count": null,
   "metadata": {
    "id": "nPRV0OAMpKPH"
   },
   "outputs": [],
   "source": [
    "enc_dec_Synthetic = model(regulator_gene_matrix, NUM_TARGETS, NUM_TIME_STEPS, NUM_TARGETS) #we can just change the time steps to something higher"
   ]
  },
  {
   "cell_type": "code",
   "execution_count": null,
   "metadata": {
    "colab": {
     "base_uri": "https://localhost:8080/"
    },
    "executionInfo": {
     "elapsed": 13,
     "status": "ok",
     "timestamp": 1649273028683,
     "user": {
      "displayName": "Sahil Anish Palarpwar",
      "userId": "17757512684560375750"
     },
     "user_tz": 240
    },
    "id": "D6aPT5_cpKK0",
    "outputId": "c261d824-0f38-4eee-b139-f03a80f093e1"
   },
   "outputs": [],
   "source": [
    "enc_dec_Synthetic.summary()"
   ]
  },
  {
   "cell_type": "markdown",
   "metadata": {},
   "source": [
    "# Interpolated dataset Auto Encoder\n",
    "Once again, we do not train on any version of exp1"
   ]
  },
  {
   "cell_type": "code",
   "execution_count": null,
   "metadata": {},
   "outputs": [],
   "source": [
    "def read_filesV2(data_path):\n",
    "    '''\n",
    "    *Changed*\n",
    "    currently hardcoded for only one file. \n",
    "    change code a bit for reading multiple files.\n",
    "    '''\n",
    "    #genes_intensities_data_matrix = pd.read_csv(file_path_intensities, index_col = 0)\n",
    "    #print(os.listdir(data_path))\n",
    "    replicate_files = os.listdir(data_path)\n",
    "    #print('replicate files:',replicate_files)\n",
    "    replicates = []\n",
    "    # i = 0\n",
    "    for file in replicate_files:\n",
    "        \n",
    "        #print('file name:',file)\n",
    "        #print('value of i:',i)\n",
    "        genes_intensities_data_matrix = pd.read_csv(os.path.join(data_path , file), index_col = 0, on_bad_lines='skip')\n",
    "        #print('genes_intensities_data_matrix:',  genes_intensities_data_matrix.head())\n",
    "        replicates.append(genes_intensities_data_matrix.values)\n",
    "        # i+=1\n",
    "        \n",
    "    genes_intensities_data_matrix = genes_intensities_data_matrix.values\n",
    "    rgm = np.loadtxt(matrix_path)\n",
    "    \n",
    "    return np.asarray(replicates), rgm.astype(np.float32)"
   ]
  },
  {
   "cell_type": "code",
   "execution_count": null,
   "metadata": {},
   "outputs": [],
   "source": [
    "interpolated_genes, _ = read_filesV2(data_path_inter)"
   ]
  },
  {
   "cell_type": "code",
   "execution_count": null,
   "metadata": {},
   "outputs": [],
   "source": [
    "interpolated_genes.shape"
   ]
  },
  {
   "cell_type": "code",
   "execution_count": null,
   "metadata": {},
   "outputs": [],
   "source": [
    "pd.DataFrame(interpolated_genes[2]).head(5)"
   ]
  },
  {
   "cell_type": "code",
   "execution_count": null,
   "metadata": {},
   "outputs": [],
   "source": [
    "inter = []\n",
    "for k in range(len(interpolated_genes)):\n",
    "    #print(k)\n",
    "    if k == 2 or k == 3 or k == 4:\n",
    "        inter.append(np.reshape(interpolated_genes[k], (4,6,NUM_TARGETS)))\n",
    "    else: \n",
    "        inter.append(np.reshape(interpolated_genes[k], (5,6,NUM_TARGETS)))\n",
    "inter = np.vstack(inter)"
   ]
  },
  {
   "cell_type": "code",
   "execution_count": null,
   "metadata": {},
   "outputs": [],
   "source": [
    "inter.shape"
   ]
  },
  {
   "cell_type": "code",
   "execution_count": null,
   "metadata": {},
   "outputs": [],
   "source": [
    "beanIntensities[1:].shape"
   ]
  },
  {
   "cell_type": "code",
   "execution_count": null,
   "metadata": {},
   "outputs": [],
   "source": [
    "enc_dec_inter = model(regulator_gene_matrix, NUM_TARGETS, 6, NUM_TARGETS) \n",
    "enc_dec_inter.compile(optimizer='adam', loss=ignore_noParent_MSE)"
   ]
  },
  {
   "cell_type": "code",
   "execution_count": null,
   "metadata": {},
   "outputs": [],
   "source": [
    "enc_dec_inter.fit(inter, inter,epochs=1000);"
   ]
  },
  {
   "cell_type": "code",
   "execution_count": null,
   "metadata": {},
   "outputs": [],
   "source": [
    "outInter = enc_dec_inter.predict(testCandidate)\n",
    "interpolationLoss = ignore_noParent_MSE(testCandidate, outInter)"
   ]
  },
  {
   "cell_type": "code",
   "execution_count": null,
   "metadata": {},
   "outputs": [],
   "source": [
    "interpolationLoss #used to be 3.84 on broke ignore"
   ]
  },
  {
   "cell_type": "code",
   "execution_count": null,
   "metadata": {},
   "outputs": [],
   "source": [
    "outInter.shape"
   ]
  },
  {
   "cell_type": "code",
   "execution_count": null,
   "metadata": {},
   "outputs": [],
   "source": [
    "u = enc_dec_inter.history\n",
    "u"
   ]
  },
  {
   "cell_type": "markdown",
   "metadata": {},
   "source": [
    "# Comparisons between various outputs:"
   ]
  },
  {
   "cell_type": "code",
   "execution_count": null,
   "metadata": {},
   "outputs": [],
   "source": [
    "u = plt.imshow(np.reshape((np.abs(outSyn)), (24,NUM_TARGETS)), cmap = \"hot\", vmin=0,vmax=1.0 );"
   ]
  },
  {
   "cell_type": "code",
   "execution_count": null,
   "metadata": {},
   "outputs": [],
   "source": [
    "u = pd.DataFrame(outSyn[0])\n",
    "u.head(10)"
   ]
  },
  {
   "cell_type": "code",
   "execution_count": null,
   "metadata": {},
   "outputs": [],
   "source": [
    "u = pd.DataFrame(testCandidate[0])\n",
    "u.head(10)"
   ]
  },
  {
   "cell_type": "code",
   "execution_count": null,
   "metadata": {
    "scrolled": true
   },
   "outputs": [],
   "source": [
    "plt.figure(figsize=(50, 50))\n",
    "u = plt.imshow(np.reshape((np.abs(outSyn-outInter)), (24,NUM_TARGETS)), cmap = \"hot\")#, vmin=0,vmax=1.0 );\n",
    "plt.title(\"Difference Between the Outputs of Both Autoencoders\", fontsize = 40);\n",
    "plt.xlabel(\"Phosphopeptide\", fontsize = 30);\n",
    "plt.ylabel(\"Times Concatenated\", fontsize = 30);\n",
    "plt.colorbar(u ,fraction=0.0046, pad=0.02);\n",
    "#plt.savefig(\"DiffBetweenOut.png\")"
   ]
  },
  {
   "cell_type": "code",
   "execution_count": null,
   "metadata": {},
   "outputs": [],
   "source": [
    "plt.figure(figsize=(50, 50))\n",
    "u = plt.imshow(np.reshape(np.abs(outInter-experiment1), (24,NUM_TARGETS)) , cmap = \"hot\") #, vmin=0,vmax=1.0 )\n",
    "plt.title(\"Difference Between the Input and Output of the Autoencoder Trained on Interpolated Data\", fontsize = 40);\n",
    "plt.xlabel(\"Phosphopeptide\", fontsize = 30)\n",
    "plt.ylabel(\"Times Concatenated\", fontsize = 30);\n",
    "plt.colorbar(u ,fraction=0.0046, pad=0.02);\n",
    "#plt.savefig(\"InterDiffImage.png\")"
   ]
  },
  {
   "cell_type": "code",
   "execution_count": null,
   "metadata": {},
   "outputs": [],
   "source": [
    "plt.figure(figsize=(50, 50))\n",
    "u = plt.imshow(np.reshape(np.abs(outSyn-experiment1), (24,NUM_TARGETS)), cmap = \"hot\")#, vmin=0,vmax=1.0 )\n",
    "plt.title(\"Difference Between the Input and Output of the Autoencoder Trained on Synthetic Data\", fontsize = 40);\n",
    "plt.xlabel(\"Phosphopeptide\", fontsize = 30);\n",
    "plt.ylabel(\"Times Concatenated\", fontsize = 30);\n",
    "plt.colorbar(u ,fraction=0.0046, pad=0.02);\n",
    "#plt.savefig(\"SynDiffImage.png\");"
   ]
  },
  {
   "cell_type": "code",
   "execution_count": null,
   "metadata": {},
   "outputs": [],
   "source": [
    "parent_idx = parentIndex.numpy()\n",
    "#print(parent_idx)\n",
    "oSyn = (np.reshape((outSyn), (24,NUM_TARGETS)).T)[parent_idx]\n",
    "oSyn = oSyn.T\n",
    "oSyn.shape\n",
    "\n",
    "exp1_col = (np.reshape((experiment1), (24,NUM_TARGETS)).T)[parent_idx]\n",
    "exp1_col = exp1_col.T\n",
    "print(exp1_col.shape)\n",
    "\n",
    "u = plt.imshow(np.abs(oSyn - exp1_col), cmap = 'hot') #TODO use TF loss function instead of difference.\n",
    "ddff = oSyn-exp1_col\n",
    "plt.colorbar(u)\n",
    "plt.title(\"Difference Between the Input and Output of the Autoencoder Trained on Synthetic Data. Only parents.\");"
   ]
  },
  {
   "cell_type": "code",
   "execution_count": null,
   "metadata": {},
   "outputs": [],
   "source": [
    "pd.DataFrame(oSyn).head(24)"
   ]
  },
  {
   "cell_type": "code",
   "execution_count": null,
   "metadata": {},
   "outputs": [],
   "source": [
    "pd.DataFrame(exp1_col).head(24)\n"
   ]
  },
  {
   "cell_type": "code",
   "execution_count": null,
   "metadata": {},
   "outputs": [],
   "source": [
    "pd.DataFrame(ddff).head(24)\n"
   ]
  },
  {
   "cell_type": "code",
   "execution_count": null,
   "metadata": {},
   "outputs": [],
   "source": [
    "# np.save(\"interpolated_v2.npy\", inter) #the interpolated dataset\n",
    "# np.save(\"synthetic_v2.npy\", beanIntensities[1:]) # the synthetic dataset\n",
    "# np.save(\"synOut_v2.npy\", outSyn) #the output of the encoder trained on synthetic data with the input being exp1\n",
    "# np.save(\"interOut_v2.npy\", outInter) #the output of the encoder trained on interpolated data with the input being exp1"
   ]
  },
  {
   "cell_type": "code",
   "execution_count": null,
   "metadata": {},
   "outputs": [],
   "source": []
  }
 ],
 "metadata": {
  "colab": {
   "authorship_tag": "ABX9TyM6J5QSynTTgZ+lFOhgOtAG",
   "collapsed_sections": [],
   "name": "cnn-third.ipynb",
   "provenance": [
    {
     "file_id": "1mmRxO5jnBc5CdzxXj8sMtPpG0BQ0ulSs",
     "timestamp": 1648921397876
    },
    {
     "file_id": "10758zFj2UnTnwpQaSFIr5r9MqZWdiMsf",
     "timestamp": 1648674775255
    }
   ]
  },
  "kernelspec": {
   "display_name": "Python 3.9.12 ('base')",
   "language": "python",
   "name": "python3"
  },
  "language_info": {
   "codemirror_mode": {
    "name": "ipython",
    "version": 3
   },
   "file_extension": ".py",
   "mimetype": "text/x-python",
   "name": "python",
   "nbconvert_exporter": "python",
   "pygments_lexer": "ipython3",
   "version": "3.9.12"
  },
  "vscode": {
   "interpreter": {
    "hash": "ad2bdc8ecc057115af97d19610ffacc2b4e99fae6737bb82f5d7fb13d2f2c186"
   }
  }
 },
 "nbformat": 4,
 "nbformat_minor": 1
}
