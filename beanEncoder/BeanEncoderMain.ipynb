{
 "cells": [
  {
   "cell_type": "code",
   "execution_count": 34,
   "metadata": {},
   "outputs": [],
   "source": [
    "#!pip install synapseclient"
   ]
  },
  {
   "cell_type": "code",
   "execution_count": 35,
   "metadata": {},
   "outputs": [],
   "source": [
    "#!pip install synapseutils"
   ]
  },
  {
   "cell_type": "code",
   "execution_count": 36,
   "metadata": {},
   "outputs": [],
   "source": [
    "#  import synapseclient \n",
    "#  import synapseutils \n",
    " \n",
    "#  syn = synapseclient.Synapse() \n",
    "#  syn.login('finamintoastcrunch','1Hjldria!') \n",
    "#  files = synapseutils.syncFromSynapse(syn, ' syn2825306 ') "
   ]
  },
  {
   "attachments": {},
   "cell_type": "markdown",
   "metadata": {},
   "source": [
    "# Import Libraries"
   ]
  },
  {
   "cell_type": "code",
   "execution_count": 37,
   "metadata": {
    "id": "qTo_HuQkGgAq"
   },
   "outputs": [],
   "source": [
    "import tensorflow as tf\n",
    "from tensorflow import keras\n",
    "from datetime import datetime\n",
    "import numpy as np\n",
    "import pandas as pd\n",
    "import matplotlib.pyplot as plt\n",
    "from keras_visualizer import visualizer \n",
    "\n",
    "from tensorflow.keras.layers import*\n",
    "import shap\n",
    "from keras.utils.vis_utils import plot_model\n",
    "import tensorflow.keras.backend as K\n",
    "# from keras.layers import Input\n",
    "# from keras.layers import Dense\n",
    "# from keras.layers import Conv1D\n",
    "# from keras.layers import Conv1DTranspose\n",
    "# from keras.layers import Flatten, Reshape\n",
    "\n",
    "import os\n",
    "from glob import glob\n",
    "from tqdm import tqdm\n",
    "from tensorflow.keras import losses\n",
    "from sklearn.preprocessing import StandardScaler\n",
    "from sklearn.preprocessing import MinMaxScaler"
   ]
  },
  {
   "cell_type": "code",
   "execution_count": 38,
   "metadata": {},
   "outputs": [],
   "source": [
    "df = pd.DataFrame"
   ]
  },
  {
   "cell_type": "code",
   "execution_count": 39,
   "metadata": {},
   "outputs": [
    {
     "data": {
      "text/plain": [
       "[PhysicalDevice(name='/physical_device:GPU:0', device_type='GPU')]"
      ]
     },
     "execution_count": 39,
     "metadata": {},
     "output_type": "execute_result"
    }
   ],
   "source": [
    "tf.config.list_physical_devices(\n",
    "    device_type=None\n",
    ")\n",
    "tf.config.list_physical_devices('GPU')"
   ]
  },
  {
   "cell_type": "code",
   "execution_count": 40,
   "metadata": {},
   "outputs": [
    {
     "data": {
      "text/plain": [
       "True"
      ]
     },
     "execution_count": 40,
     "metadata": {},
     "output_type": "execute_result"
    }
   ],
   "source": [
    "tf.executing_eagerly()"
   ]
  },
  {
   "cell_type": "code",
   "execution_count": 41,
   "metadata": {},
   "outputs": [],
   "source": [
    "import warnings\n",
    "warnings.filterwarnings('ignore')"
   ]
  },
  {
   "cell_type": "code",
   "execution_count": 42,
   "metadata": {},
   "outputs": [],
   "source": [
    "import matplotlib.pylab as pylab\n",
    "params = {'legend.fontsize': 'x-large',\n",
    "          'figure.figsize': (15, 5),\n",
    "         'axes.labelsize': 'x-large',\n",
    "         'axes.titlesize':'x-large',\n",
    "         'xtick.labelsize':'x-large',\n",
    "         'ytick.labelsize':'x-large'}\n",
    "pylab.rcParams.update(params)"
   ]
  },
  {
   "cell_type": "code",
   "execution_count": 43,
   "metadata": {},
   "outputs": [
    {
     "name": "stdout",
     "output_type": "stream",
     "text": [
      "1 Physical GPUs, 1 Logical GPUs\n"
     ]
    }
   ],
   "source": [
    "gpus = tf.config.list_physical_devices('GPU')\n",
    "if gpus:\n",
    "  try:\n",
    "    # Currently, memory growth needs to be the same across GPUs\n",
    "    for gpu in gpus:\n",
    "      tf.config.experimental.set_memory_growth(gpu, True)\n",
    "    logical_gpus = tf.config.list_logical_devices('GPU')\n",
    "    print(len(gpus), \"Physical GPUs,\", len(logical_gpus), \"Logical GPUs\")\n",
    "  except RuntimeError as e:\n",
    "    # Memory growth must be set before GPUs have been initialized\n",
    "    print(e)"
   ]
  },
  {
   "cell_type": "code",
   "execution_count": 44,
   "metadata": {},
   "outputs": [],
   "source": [
    "NUM_PARENTS = 7\n",
    "NUM_TARGETS = 372\n",
    "NUM_TIME_STEPS = 11\n",
    "NUM_REPLICATES = 3 #used to be 4, but replicate 4 is trash"
   ]
  },
  {
   "cell_type": "code",
   "execution_count": 45,
   "metadata": {
    "id": "gXpISOijEYqQ"
   },
   "outputs": [],
   "source": [
    "\n",
    "# matrix_path = \"regulator-gene-matrix.csv\"\n",
    "# data_path_syn = r\"C:\\Users\\Fin Amin\\Desktop\\StemCellResearch\\Fin_preProcessed\\synData\"\n",
    "# data_path_inter =  r\"C:\\Users\\Fin Amin\\Desktop\\StemCellResearch\\Fin_preProcessed\\interpolatedOnly\"\n",
    "# data_path_og_exp1 = r\"C:\\Users\\Fin Amin\\Desktop\\StemCellResearch\\Fin_preProcessed\\datasets\\exp1\"\n",
    "# data_path_testSet = r\"C:\\Users\\Fin Amin\\Desktop\\StemCellResearch\\testSetFixed\"\n",
    "# data_path_petal = r\"C:\\Users\\Fin Amin\\Desktop\\StemCellResearch\\petal_len.xlsx\""
   ]
  },
  {
   "cell_type": "code",
   "execution_count": 46,
   "metadata": {},
   "outputs": [],
   "source": [
    "dirty_RGM = r'Regulations_Control_Altona.csv'\n",
    "dirty_regulations = r'FullTable_Control.csv'"
   ]
  },
  {
   "cell_type": "code",
   "execution_count": 47,
   "metadata": {},
   "outputs": [
    {
     "data": {
      "text/plain": [
       "(372, 44)"
      ]
     },
     "execution_count": 47,
     "metadata": {},
     "output_type": "execute_result"
    }
   ],
   "source": [
    "dirtyRGM = pd.read_csv(dirty_RGM,  index_col = 0, )#on_bad_lines='skip')\n",
    "dirtyReg = pd.read_csv(dirty_regulations,  index_col = 0,)# on_bad_lines='skip')\n",
    "dirtyReg = dirtyReg.select_dtypes(include=np.number)\n",
    "dirtyReg = dirtyReg.to_numpy()\n",
    "dirtyReg.shape"
   ]
  },
  {
   "cell_type": "code",
   "execution_count": 48,
   "metadata": {},
   "outputs": [
    {
     "data": {
      "text/plain": [
       "(3, 11, 372)"
      ]
     },
     "execution_count": 48,
     "metadata": {},
     "output_type": "execute_result"
    }
   ],
   "source": [
    "#TODO: Fix this. it puts nans where it should not. \n",
    "\n",
    "def fix_dataset(dirtyR):\n",
    "    dataset = np.zeros(shape=(NUM_REPLICATES,NUM_TARGETS, NUM_TIME_STEPS))\n",
    "    ret = np.zeros(shape=(NUM_REPLICATES,NUM_TIME_STEPS, NUM_TARGETS))\n",
    "\n",
    "    for i in range(0,NUM_REPLICATES*NUM_TIME_STEPS, 4):\n",
    "        for j in range(0, NUM_REPLICATES):\n",
    "            dataset[j][:,i//NUM_REPLICATES] = dirtyR[:,(i+j)]\n",
    "    \n",
    "    dataset[dataset==0] = np.nan\n",
    "\n",
    "\n",
    "    for i in range(NUM_REPLICATES):\n",
    "        regScaled = MinMaxScaler().fit_transform(dataset[i].flatten().reshape((-1,1)))\n",
    "        regScaled = regScaled.reshape((NUM_TARGETS, NUM_TIME_STEPS))\n",
    "        regScaled = np.nan_to_num(regScaled, nan= -1.0)\n",
    "        ret[i] = regScaled.T\n",
    "    return ret\n",
    "\n",
    "dataset = fix_dataset(dirtyR=dirtyReg)\n",
    "dataset.shape"
   ]
  },
  {
   "cell_type": "code",
   "execution_count": 49,
   "metadata": {},
   "outputs": [
    {
     "name": "stdout",
     "output_type": "stream",
     "text": [
      "(2, 11, 372) (1, 11, 372)\n"
     ]
    }
   ],
   "source": [
    "beanIntensities = dataset[0:2]\n",
    "validation = np.array([dataset[2]])\n",
    "print(beanIntensities.shape, validation.shape)"
   ]
  },
  {
   "cell_type": "code",
   "execution_count": 50,
   "metadata": {},
   "outputs": [],
   "source": [
    "#the third replicate is trash. we will not use it. \n",
    "# df(dataset[3]).head(11) "
   ]
  },
  {
   "cell_type": "code",
   "execution_count": 51,
   "metadata": {},
   "outputs": [
    {
     "data": {
      "text/plain": [
       "(372, 372)"
      ]
     },
     "execution_count": 51,
     "metadata": {},
     "output_type": "execute_result"
    }
   ],
   "source": [
    "regulator_gene_matrix = np.load(\"soyBeanRGM.npy\")\n",
    "regulator_gene_matrix = regulator_gene_matrix.astype('float32')\n",
    "regulator_gene_matrix.shape"
   ]
  },
  {
   "attachments": {},
   "cell_type": "markdown",
   "metadata": {},
   "source": [
    "# Super Parent Matrix + Custom Loss"
   ]
  },
  {
   "cell_type": "code",
   "execution_count": 52,
   "metadata": {},
   "outputs": [
    {
     "name": "stdout",
     "output_type": "stream",
     "text": [
      "shape of parent index (7,)\n"
     ]
    }
   ],
   "source": [
    "superParent = regulator_gene_matrix.copy() #init the super parent with the ordinary RGM, and do forward passes with super parent\n",
    "#print(superParent.shape)\n",
    "\n",
    "ones = np.ones((NUM_TARGETS))\n",
    "parentIndex = []\n",
    "not_parentIndex = []\n",
    "for i in range(len(regulator_gene_matrix)):\n",
    "    if (np.isin(regulator_gene_matrix[i], [1])).any():\n",
    "        #print(i)\n",
    "        superParent[i] = ones \n",
    "        parentIndex.append(i)\n",
    "    else:\n",
    "        not_parentIndex.append(i)\n",
    "\n",
    "parentIndex = np.array(parentIndex)\n",
    "parentIndex = tf.convert_to_tensor(parentIndex)\n",
    "parent_idx = parentIndex.numpy()\n",
    "not_parentIndex = np.array(not_parentIndex)\n",
    "not_parentIndex = tf.convert_to_tensor(not_parentIndex)\n",
    "print(\"shape of parent index\", parentIndex.shape)\n",
    "\n",
    "def ignore_noParent_MSE_old(y_true, y_pred): \n",
    "    l = tf.keras.losses.MeanSquaredError()\n",
    "    y_true_pruned = tf.gather(y_true,parentIndex, axis =2) \n",
    "    #print(y_true_pruned.shape\n",
    "    y_pred_pruned = tf.gather(y_pred, parentIndex, axis =2)   \n",
    "    return l(y_true_pruned, y_pred_pruned)\n",
    "\n",
    "#this will not work if the entire dataset is -1 (degenerate), or has only one actual value (also degen)\n",
    "def ignore_noParent_MSE(y_true, y_pred): \n",
    "    l = tf.keras.losses.MeanSquaredError()\n",
    "   # print(y_true.shape) #(None, 44, 372)\n",
    "\n",
    "    #get the parents and flatten them\n",
    "    y_true_pruned = tf.gather(y_true, parentIndex, axis = 2) #axis 2 because batch, time, gene\n",
    "    y_true_pruned = tf.reshape(y_true_pruned, shape=([tf.size(y_true_pruned)] ) )\n",
    "\n",
    "   # print(y_true_pruned.shape)\n",
    "   # print(\"tf size\", tf.size(y_true_pruned))\n",
    "\n",
    "    y_pred_pruned = tf.gather(y_pred, parentIndex, axis = 2) \n",
    "    y_pred_pruned = tf.reshape(y_pred_pruned, shape=([tf.size(y_pred_pruned)]) )\n",
    "\n",
    "    #get the index of the parents which are not -1\n",
    "    y_true_posID = tf.where(y_true_pruned >= 0) #gets args\n",
    "    y_true_posID = tf.squeeze(y_true_posID)\n",
    "    #get the idx of all the -1s \n",
    "    y_true_negID = tf.where(y_true_pruned < 0) \n",
    "    y_true_negID = tf.squeeze(y_true_negID)\n",
    "\n",
    "    #get all the -1s in the parents \n",
    "    y_true_neg = tf.gather(y_true_pruned, y_true_negID) #get all the -1s in y_true\n",
    "    y_pred_neg = tf.gather(y_pred_pruned, y_true_negID) #get the corresponding values for y_pred\n",
    "\n",
    "    #get the indexes where pred should be -1 but is not. get the corresponding index for ytrue\n",
    "    y_shouldBeNegButIsntID = tf.where(y_pred_neg >= 0)  \n",
    "    y_shouldBeNegButIsntID = tf.squeeze(y_shouldBeNegButIsntID) #get the idx which should be -1 for prediction but are not\n",
    "    y_true_wrong = tf.gather(y_true_pruned, y_shouldBeNegButIsntID) #get the same corresponding values from ytrue\n",
    "    y_shouldBeNegButIsnt = tf.gather(y_pred_pruned, y_shouldBeNegButIsntID) #this has all the wrongly predicted values which should be -1 but are not\n",
    "\n",
    "    y_true_pos = tf.gather(y_true_pruned, y_true_posID)\n",
    "    y_pred_pos = tf.gather(y_pred_pruned, y_true_posID)\n",
    "\n",
    "    if tf.size(y_shouldBeNegButIsnt) == 0: #we can not concatenate if the size is 0. \n",
    "        return l(y_true_pos, y_pred_pos)\n",
    "\n",
    "    if tf.size(y_shouldBeNegButIsnt) == 1: #dim goes away if size = 1. \n",
    "        y_shouldBeNegButIsnt = tf.expand_dims(y_shouldBeNegButIsnt, axis = 0) #should all be flattened\n",
    "        y_true_wrong = tf.expand_dims(y_true_wrong, axis=0)\n",
    "\n",
    "    #print(\"y_pred\", (y_pred_pos), \"y_true\", (y_shouldBeNegButIsnt))\n",
    "    try:\n",
    "        y_pred_total = tf.concat([y_pred_pos, y_shouldBeNegButIsnt], axis = 0) #concatenate for total mse\n",
    "        y_true_total = tf.concat([y_true_pos, y_true_wrong], axis = 0)\n",
    "    except Exception as e:\n",
    "        print(y_pred_pos.shape, y_shouldBeNegButIsnt.shape, tf.size(y_shouldBeNegButIsnt))\n",
    "        return l(y_true_pos, y_pred_pos)\n",
    "\n",
    "    return l(y_true_total, y_pred_total)"
   ]
  },
  {
   "cell_type": "code",
   "execution_count": 53,
   "metadata": {},
   "outputs": [
    {
     "data": {
      "text/plain": [
       "array([117, 131, 164, 225, 259, 334, 350])"
      ]
     },
     "execution_count": 53,
     "metadata": {},
     "output_type": "execute_result"
    }
   ],
   "source": [
    "parent_idx"
   ]
  },
  {
   "cell_type": "code",
   "execution_count": 67,
   "metadata": {},
   "outputs": [
    {
     "data": {
      "image/png": "[encoded data removed]",
      "text/plain": [
       "<Figure size 1080x360 with 1 Axes>"
      ]
     },
     "metadata": {
      "needs_background": "light"
     },
     "output_type": "display_data"
    }
   ],
   "source": [
    "plt.imshow(superParent, cmap='hot');\n",
    "plt.xlabel(\"Substrate\");\n",
    "plt.ylabel(\"Regulator\");"
   ]
  },
  {
   "cell_type": "code",
   "execution_count": 68,
   "metadata": {},
   "outputs": [
    {
     "data": {
      "image/png": "[encoded data removed]",
      "text/plain": [
       "<Figure size 1080x360 with 1 Axes>"
      ]
     },
     "metadata": {
      "needs_background": "light"
     },
     "output_type": "display_data"
    }
   ],
   "source": [
    "plt.imshow(regulator_gene_matrix, cmap='hot');\n",
    "plt.xlabel(\"Substrate\");\n",
    "plt.ylabel(\"Regulator\");"
   ]
  },
  {
   "cell_type": "markdown",
   "metadata": {},
   "source": [
    "# Ordinary Auto Encoder"
   ]
  },
  {
   "cell_type": "code",
   "execution_count": 56,
   "metadata": {
    "id": "1yhzyikoFncq"
   },
   "outputs": [],
   "source": [
    "class EncoderLinear(tf.keras.layers.Layer):\n",
    "    def __init__(self, rgm, input_dim=32, units=32):\n",
    "        super(EncoderLinear, self).__init__()\n",
    "        self.rgm = rgm\n",
    "        \n",
    "        def init_weights(shape, dtype=\"float32\"):\n",
    "\n",
    "            w_init = tf.random_normal_initializer()(shape=shape, dtype=dtype) * tf.convert_to_tensor(self.rgm, dtype=dtype)\n",
    "\n",
    "            return w_init\n",
    "        \n",
    "\n",
    "        self.w = tf.Variable(\n",
    "            initial_value=init_weights(shape=(input_dim, units), dtype=\"float32\"),\n",
    "            trainable=True,\n",
    "        )\n",
    "\n",
    "    def call(self, inputs):\n",
    "        X = inputs\n",
    "        return tf.matmul(X, tf.multiply(self.rgm, self.w))\n",
    "    #tf.matmul(inputs, self.w)"
   ]
  },
  {
   "cell_type": "code",
   "execution_count": 57,
   "metadata": {
    "id": "4uchxU-bmBDe"
   },
   "outputs": [],
   "source": [
    "class DecoderLinear(tf.keras.layers.Layer):\n",
    "    def __init__(self, rgm, input_dim=32, units=32):\n",
    "        super(DecoderLinear, self).__init__()\n",
    "        self.rgm = rgm\n",
    "\n",
    "        def init_weights(shape, dtype=\"float32\"):\n",
    "\n",
    "            w_init = tf.random_normal_initializer()(shape=shape, dtype=dtype) * tf.transpose(tf.convert_to_tensor(self.rgm, dtype=dtype))\n",
    "\n",
    "            return w_init\n",
    "    \n",
    "        \n",
    "        self.w = tf.Variable(\n",
    "            initial_value=init_weights(shape=(input_dim, units), dtype=\"float32\"),\n",
    "            trainable=True,\n",
    "        )\n",
    "\n",
    "    def call(self, inputs):\n",
    "        X = inputs\n",
    "        #return tf.matmul(X, tf.multiply((self.rgm), self.w))\n",
    "        X = tf.matmul(X, tf.multiply(tf.transpose(self.rgm), self.w)) \n",
    "        #return tf.matmul(inputs, self.w)\n",
    "        # v = tf.zeros_like(X)\n",
    "        # u = tf.ones_like(X)\n",
    "        # u = tf.math.scalar_mul(-3.0, u)\n",
    "        \n",
    "        return X#tf.where(tf.math.less(X, v), u, X) #where X is less than 0, return -1 \n",
    "        \n",
    "        "
   ]
  },
  {
   "cell_type": "code",
   "execution_count": 58,
   "metadata": {
    "id": "PQVz4BCpmNMd"
   },
   "outputs": [],
   "source": [
    "def encoder(parent_child_biological_association, num_hidden_units=21):\n",
    "    '''\n",
    "    Encoder structure\n",
    "    '''\n",
    "    '''\n",
    "    The data is time-series. Therefore, CNN to learn the temporal relationship between \n",
    "    the intensities for each gene.\n",
    "    '''\n",
    "    en_conv = Conv1D(490, 3, activation = \"relu\")(parent_child_biological_association) # 6*NUM_TARGETS Conv1D(32, 3, activation = \"relu\")(parent_child_biological_association)\n",
    "    en_dense = Flatten()(en_conv)\n",
    "    phenotype = Dense(num_hidden_units)(en_dense)\n",
    "    return phenotype\n",
    "\n",
    "def decoder(X, num_protein_gene, time_steps):\n",
    "    '''\n",
    "    Decoder structure\n",
    "    '''\n",
    "    de_dense = Dense(1024)(X)#Dense(128)(X)\n",
    "    de_dense = Reshape((1, 1024))(de_dense) #tf.reshape(de_dense, (self.batch_size,1,128))\n",
    "    de_deconv = Conv1DTranspose(num_protein_gene, time_steps, activation = \"relu\")(de_dense) #used to be transpose\n",
    "    #de_deconv = Conv1D(num_protein_gene, time_steps, activation = \"relu\")(de_dense) \n",
    "    # gene_reconstruction = self.decoder_biological_operation(de_deconv)\n",
    "    return de_deconv\n",
    "\n",
    "def model(rgm, num_protein_gene, time_steps, num_kinase_regulators, num_hidden_units = 32):\n",
    "    inp = Input(shape=(time_steps, num_kinase_regulators))\n",
    "    x = EncoderLinear(rgm, NUM_TARGETS, NUM_TARGETS)(inp)\n",
    "    enc = encoder(x, num_hidden_units)\n",
    "    dec = decoder(enc, num_protein_gene, time_steps)\n",
    "    out = DecoderLinear(rgm, NUM_TARGETS, NUM_TARGETS)(dec)\n",
    "\n",
    "    _model = tf.keras.Model(inputs=inp, outputs=out)\n",
    "\n",
    "    return _model"
   ]
  },
  {
   "cell_type": "code",
   "execution_count": 59,
   "metadata": {},
   "outputs": [],
   "source": [
    "ordinaryAE = model(regulator_gene_matrix, NUM_TARGETS, NUM_TIME_STEPS, NUM_TARGETS)\n",
    "ordinaryAE.compile(optimizer='adam', loss=ignore_noParent_MSE)"
   ]
  },
  {
   "cell_type": "code",
   "execution_count": 60,
   "metadata": {},
   "outputs": [
    {
     "name": "stdout",
     "output_type": "stream",
     "text": [
      "Epoch 1/200\n",
      "1/1 [==============================] - 3s 3s/step - loss: 0.2169 - val_loss: 0.2494\n",
      "Epoch 2/200\n",
      "1/1 [==============================] - 0s 146ms/step - loss: 0.2152 - val_loss: 0.2335\n",
      "Epoch 3/200\n",
      "1/1 [==============================] - 0s 46ms/step - loss: 0.2078 - val_loss: 0.2017\n",
      "Epoch 4/200\n",
      "1/1 [==============================] - 0s 48ms/step - loss: 0.1826 - val_loss: 0.1552\n",
      "Epoch 5/200\n",
      "1/1 [==============================] - 0s 46ms/step - loss: 0.1467 - val_loss: 0.1210\n",
      "Epoch 6/200\n",
      "1/1 [==============================] - 0s 45ms/step - loss: 0.1240 - val_loss: 0.1147\n",
      "Epoch 7/200\n",
      "1/1 [==============================] - 0s 29ms/step - loss: 0.1211 - val_loss: 0.0770\n",
      "Epoch 8/200\n",
      "1/1 [==============================] - 0s 28ms/step - loss: 0.0865 - val_loss: 0.0515\n",
      "Epoch 9/200\n",
      "1/1 [==============================] - 0s 28ms/step - loss: 0.0588 - val_loss: 0.0410\n",
      "Epoch 10/200\n",
      "1/1 [==============================] - 0s 29ms/step - loss: 0.0523 - val_loss: 0.0329\n",
      "Epoch 11/200\n",
      "1/1 [==============================] - 0s 29ms/step - loss: 0.0422 - val_loss: 0.0295\n",
      "Epoch 12/200\n",
      "1/1 [==============================] - 0s 30ms/step - loss: 0.0378 - val_loss: 0.0369\n",
      "Epoch 13/200\n",
      "1/1 [==============================] - 0s 29ms/step - loss: 0.0440 - val_loss: 0.0401\n",
      "Epoch 14/200\n",
      "1/1 [==============================] - 0s 28ms/step - loss: 0.0490 - val_loss: 0.0297\n",
      "Epoch 15/200\n",
      "1/1 [==============================] - 0s 28ms/step - loss: 0.0375 - val_loss: 0.0223\n",
      "Epoch 16/200\n",
      "1/1 [==============================] - 0s 29ms/step - loss: 0.0283 - val_loss: 0.0214\n",
      "Epoch 17/200\n",
      "1/1 [==============================] - 0s 29ms/step - loss: 0.0262 - val_loss: 0.0203\n",
      "Epoch 18/200\n",
      "1/1 [==============================] - 0s 29ms/step - loss: 0.0251 - val_loss: 0.0156\n",
      "Epoch 19/200\n",
      "1/1 [==============================] - 0s 30ms/step - loss: 0.0240 - val_loss: 0.0099\n",
      "Epoch 20/200\n",
      "1/1 [==============================] - 0s 29ms/step - loss: 0.0178 - val_loss: 0.0082\n",
      "Epoch 21/200\n",
      "1/1 [==============================] - 0s 29ms/step - loss: 0.0175 - val_loss: 0.0101\n",
      "Epoch 22/200\n",
      "1/1 [==============================] - 0s 28ms/step - loss: 0.0212 - val_loss: 0.0103\n",
      "Epoch 23/200\n",
      "1/1 [==============================] - 0s 29ms/step - loss: 0.0205 - val_loss: 0.0085\n",
      "Epoch 24/200\n",
      "1/1 [==============================] - 0s 29ms/step - loss: 0.0174 - val_loss: 0.0085\n",
      "Epoch 25/200\n",
      "1/1 [==============================] - 0s 29ms/step - loss: 0.0133 - val_loss: 0.0104\n",
      "Epoch 26/200\n",
      "1/1 [==============================] - 0s 29ms/step - loss: 0.0158 - val_loss: 0.0113\n",
      "Epoch 27/200\n",
      "1/1 [==============================] - 0s 29ms/step - loss: 0.0153 - val_loss: 0.0101\n",
      "Epoch 28/200\n",
      "1/1 [==============================] - 0s 29ms/step - loss: 0.0111 - val_loss: 0.0085\n",
      "Epoch 29/200\n",
      "1/1 [==============================] - 0s 28ms/step - loss: 0.0098 - val_loss: 0.0079\n",
      "Epoch 30/200\n",
      "1/1 [==============================] - 0s 28ms/step - loss: 0.0100 - val_loss: 0.0080\n",
      "Epoch 31/200\n",
      "1/1 [==============================] - 0s 30ms/step - loss: 0.0103 - val_loss: 0.0074\n",
      "Epoch 32/200\n",
      "1/1 [==============================] - 0s 27ms/step - loss: 0.0088 - val_loss: 0.0070\n",
      "Epoch 33/200\n",
      "1/1 [==============================] - 0s 29ms/step - loss: 0.0080 - val_loss: 0.0071\n",
      "Epoch 34/200\n",
      "1/1 [==============================] - 0s 31ms/step - loss: 0.0077 - val_loss: 0.0077\n",
      "Epoch 35/200\n",
      "1/1 [==============================] - 0s 27ms/step - loss: 0.0076 - val_loss: 0.0081\n",
      "Epoch 36/200\n",
      "1/1 [==============================] - 0s 29ms/step - loss: 0.0085 - val_loss: 0.0071\n",
      "Epoch 37/200\n",
      "1/1 [==============================] - 0s 28ms/step - loss: 0.0071 - val_loss: 0.0060\n",
      "Epoch 38/200\n",
      "1/1 [==============================] - 0s 29ms/step - loss: 0.0067 - val_loss: 0.0052\n",
      "Epoch 39/200\n",
      "1/1 [==============================] - 0s 28ms/step - loss: 0.0066 - val_loss: 0.0048\n",
      "Epoch 40/200\n",
      "1/1 [==============================] - 0s 29ms/step - loss: 0.0064 - val_loss: 0.0047\n",
      "Epoch 41/200\n",
      "1/1 [==============================] - 0s 28ms/step - loss: 0.0062 - val_loss: 0.0046\n",
      "Epoch 42/200\n",
      "1/1 [==============================] - 0s 28ms/step - loss: 0.0059 - val_loss: 0.0045\n",
      "Epoch 43/200\n",
      "1/1 [==============================] - 0s 29ms/step - loss: 0.0058 - val_loss: 0.0050\n",
      "Epoch 44/200\n",
      "1/1 [==============================] - 0s 27ms/step - loss: 0.0055 - val_loss: 0.0056\n",
      "Epoch 45/200\n",
      "1/1 [==============================] - 0s 29ms/step - loss: 0.0057 - val_loss: 0.0054\n",
      "Epoch 46/200\n",
      "1/1 [==============================] - 0s 28ms/step - loss: 0.0049 - val_loss: 0.0050\n",
      "Epoch 47/200\n",
      "1/1 [==============================] - 0s 27ms/step - loss: 0.0049 - val_loss: 0.0045\n",
      "Epoch 48/200\n",
      "1/1 [==============================] - 0s 28ms/step - loss: 0.0049 - val_loss: 0.0043\n",
      "Epoch 49/200\n",
      "1/1 [==============================] - 0s 29ms/step - loss: 0.0048 - val_loss: 0.0045\n",
      "Epoch 50/200\n",
      "1/1 [==============================] - 0s 28ms/step - loss: 0.0043 - val_loss: 0.0051\n",
      "Epoch 51/200\n",
      "1/1 [==============================] - 0s 27ms/step - loss: 0.0048 - val_loss: 0.0050\n",
      "Epoch 52/200\n",
      "1/1 [==============================] - 0s 27ms/step - loss: 0.0039 - val_loss: 0.0047\n",
      "Epoch 53/200\n",
      "1/1 [==============================] - 0s 29ms/step - loss: 0.0037 - val_loss: 0.0043\n",
      "Epoch 54/200\n",
      "1/1 [==============================] - 0s 28ms/step - loss: 0.0036 - val_loss: 0.0041\n",
      "Epoch 55/200\n",
      "1/1 [==============================] - 0s 28ms/step - loss: 0.0036 - val_loss: 0.0041\n",
      "Epoch 56/200\n",
      "1/1 [==============================] - 0s 29ms/step - loss: 0.0047 - val_loss: 0.0039\n",
      "Epoch 57/200\n",
      "1/1 [==============================] - 0s 27ms/step - loss: 0.0047 - val_loss: 0.0039\n",
      "Epoch 58/200\n",
      "1/1 [==============================] - 0s 27ms/step - loss: 0.0038 - val_loss: 0.0040\n",
      "Epoch 59/200\n",
      "1/1 [==============================] - 0s 28ms/step - loss: 0.0037 - val_loss: 0.0045\n",
      "Epoch 60/200\n",
      "1/1 [==============================] - 0s 29ms/step - loss: 0.0048 - val_loss: 0.0047\n",
      "Epoch 61/200\n",
      "1/1 [==============================] - 0s 28ms/step - loss: 0.0035 - val_loss: 0.0048\n",
      "Epoch 62/200\n",
      "1/1 [==============================] - 0s 29ms/step - loss: 0.0048 - val_loss: 0.0044\n",
      "Epoch 63/200\n",
      "1/1 [==============================] - 0s 27ms/step - loss: 0.0036 - val_loss: 0.0042\n",
      "Epoch 64/200\n",
      "1/1 [==============================] - 0s 28ms/step - loss: 0.0037 - val_loss: 0.0042\n",
      "Epoch 65/200\n",
      "1/1 [==============================] - 0s 27ms/step - loss: 0.0036 - val_loss: 0.0045\n",
      "Epoch 66/200\n",
      "1/1 [==============================] - 0s 27ms/step - loss: 0.0035 - val_loss: 0.0048\n",
      "Epoch 67/200\n",
      "1/1 [==============================] - 0s 29ms/step - loss: 0.0049 - val_loss: 0.0042\n",
      "Epoch 68/200\n",
      "1/1 [==============================] - 0s 30ms/step - loss: 0.0045 - val_loss: 0.0037\n",
      "Epoch 69/200\n",
      "1/1 [==============================] - 0s 28ms/step - loss: 0.0042 - val_loss: 0.0039\n",
      "Epoch 70/200\n",
      "1/1 [==============================] - 0s 29ms/step - loss: 0.0048 - val_loss: 0.0038\n",
      "Epoch 71/200\n",
      "1/1 [==============================] - 0s 28ms/step - loss: 0.0041 - val_loss: 0.0046\n",
      "Epoch 72/200\n",
      "1/1 [==============================] - 0s 29ms/step - loss: 0.0035 - val_loss: 0.0064\n",
      "Epoch 73/200\n",
      "1/1 [==============================] - 0s 29ms/step - loss: 0.0041 - val_loss: 0.0067\n",
      "Epoch 74/200\n",
      "1/1 [==============================] - 0s 30ms/step - loss: 0.0059 - val_loss: 0.0047\n",
      "Epoch 75/200\n",
      "1/1 [==============================] - 0s 29ms/step - loss: 0.0033 - val_loss: 0.0040\n",
      "Epoch 76/200\n",
      "1/1 [==============================] - 0s 29ms/step - loss: 0.0040 - val_loss: 0.0043\n",
      "Epoch 77/200\n",
      "1/1 [==============================] - 0s 30ms/step - loss: 0.0045 - val_loss: 0.0043\n",
      "Epoch 78/200\n",
      "1/1 [==============================] - 0s 28ms/step - loss: 0.0052 - val_loss: 0.0041\n",
      "Epoch 79/200\n",
      "1/1 [==============================] - 0s 29ms/step - loss: 0.0034 - val_loss: 0.0063\n",
      "Epoch 80/200\n",
      "1/1 [==============================] - 0s 29ms/step - loss: 0.0039 - val_loss: 0.0079\n",
      "Epoch 81/200\n",
      "1/1 [==============================] - 0s 29ms/step - loss: 0.0048 - val_loss: 0.0064\n",
      "Epoch 82/200\n",
      "1/1 [==============================] - 0s 29ms/step - loss: 0.0039 - val_loss: 0.0041\n",
      "Epoch 83/200\n",
      "1/1 [==============================] - 0s 29ms/step - loss: 0.0041 - val_loss: 0.0040\n",
      "Epoch 84/200\n",
      "1/1 [==============================] - 0s 28ms/step - loss: 0.0045 - val_loss: 0.0041\n",
      "Epoch 85/200\n",
      "1/1 [==============================] - 0s 29ms/step - loss: 0.0045 - val_loss: 0.0035\n",
      "Epoch 86/200\n",
      "1/1 [==============================] - 0s 29ms/step - loss: 0.0039 - val_loss: 0.0037\n",
      "Epoch 87/200\n",
      "1/1 [==============================] - 0s 28ms/step - loss: 0.0029 - val_loss: 0.0050\n",
      "Epoch 88/200\n",
      "1/1 [==============================] - 0s 28ms/step - loss: 0.0031 - val_loss: 0.0058\n",
      "Epoch 89/200\n",
      "1/1 [==============================] - 0s 29ms/step - loss: 0.0035 - val_loss: 0.0050\n",
      "Epoch 90/200\n",
      "1/1 [==============================] - 0s 30ms/step - loss: 0.0030 - val_loss: 0.0036\n",
      "Epoch 91/200\n",
      "1/1 [==============================] - 0s 30ms/step - loss: 0.0026 - val_loss: 0.0032\n",
      "Epoch 92/200\n",
      "1/1 [==============================] - 0s 30ms/step - loss: 0.0034 - val_loss: 0.0034\n",
      "Epoch 93/200\n",
      "1/1 [==============================] - 0s 29ms/step - loss: 0.0035 - val_loss: 0.0034\n",
      "Epoch 94/200\n",
      "1/1 [==============================] - 0s 30ms/step - loss: 0.0033 - val_loss: 0.0033\n",
      "Epoch 95/200\n",
      "1/1 [==============================] - 0s 31ms/step - loss: 0.0027 - val_loss: 0.0040\n",
      "Epoch 96/200\n",
      "1/1 [==============================] - 0s 29ms/step - loss: 0.0032 - val_loss: 0.0045\n",
      "Epoch 97/200\n",
      "1/1 [==============================] - 0s 30ms/step - loss: 0.0033 - val_loss: 0.0037\n",
      "Epoch 98/200\n",
      "1/1 [==============================] - 0s 30ms/step - loss: 0.0024 - val_loss: 0.0030\n",
      "Epoch 99/200\n",
      "1/1 [==============================] - 0s 30ms/step - loss: 0.0030 - val_loss: 0.0029\n",
      "Epoch 100/200\n",
      "1/1 [==============================] - 0s 29ms/step - loss: 0.0018 - val_loss: 0.0028\n",
      "Epoch 101/200\n",
      "1/1 [==============================] - 0s 28ms/step - loss: 0.0015 - val_loss: 0.0030\n",
      "Epoch 102/200\n",
      "1/1 [==============================] - 0s 31ms/step - loss: 0.0021 - val_loss: 0.0038\n",
      "Epoch 103/200\n",
      "1/1 [==============================] - 0s 30ms/step - loss: 0.0019 - val_loss: 0.0044\n",
      "Epoch 104/200\n",
      "1/1 [==============================] - 0s 30ms/step - loss: 0.0020 - val_loss: 0.0035\n",
      "Epoch 105/200\n",
      "1/1 [==============================] - 0s 31ms/step - loss: 0.0014 - val_loss: 0.0028\n",
      "Epoch 106/200\n",
      "1/1 [==============================] - 0s 30ms/step - loss: 0.0013 - val_loss: 0.0027\n",
      "Epoch 107/200\n",
      "1/1 [==============================] - 0s 29ms/step - loss: 0.0010 - val_loss: 0.0026\n",
      "Epoch 108/200\n",
      "1/1 [==============================] - 0s 29ms/step - loss: 9.4031e-04 - val_loss: 0.0025\n",
      "Epoch 109/200\n",
      "1/1 [==============================] - 0s 28ms/step - loss: 9.1484e-04 - val_loss: 0.0026\n",
      "Epoch 110/200\n",
      "1/1 [==============================] - 0s 28ms/step - loss: 9.8498e-04 - val_loss: 0.0029\n",
      "Epoch 111/200\n",
      "1/1 [==============================] - 0s 29ms/step - loss: 8.9587e-04 - val_loss: 0.0031\n",
      "Epoch 112/200\n",
      "1/1 [==============================] - 0s 31ms/step - loss: 8.5098e-04 - val_loss: 0.0031\n",
      "Epoch 113/200\n",
      "1/1 [==============================] - 0s 33ms/step - loss: 7.8063e-04 - val_loss: 0.0028\n",
      "Epoch 114/200\n",
      "1/1 [==============================] - 0s 29ms/step - loss: 6.7255e-04 - val_loss: 0.0026\n",
      "Epoch 115/200\n",
      "1/1 [==============================] - 0s 29ms/step - loss: 6.0612e-04 - val_loss: 0.0025\n",
      "Epoch 116/200\n",
      "1/1 [==============================] - 0s 29ms/step - loss: 5.8356e-04 - val_loss: 0.0025\n",
      "Epoch 117/200\n",
      "1/1 [==============================] - 0s 29ms/step - loss: 4.7398e-04 - val_loss: 0.0024\n",
      "Epoch 118/200\n",
      "1/1 [==============================] - 0s 30ms/step - loss: 4.1680e-04 - val_loss: 0.0025\n",
      "Epoch 119/200\n",
      "1/1 [==============================] - 0s 28ms/step - loss: 4.5637e-04 - val_loss: 0.0025\n",
      "Epoch 120/200\n",
      "1/1 [==============================] - 0s 29ms/step - loss: 3.9000e-04 - val_loss: 0.0026\n",
      "Epoch 121/200\n",
      "1/1 [==============================] - 0s 31ms/step - loss: 3.8537e-04 - val_loss: 0.0026\n",
      "Epoch 122/200\n",
      "1/1 [==============================] - 0s 30ms/step - loss: 3.7184e-04 - val_loss: 0.0023\n",
      "Epoch 123/200\n",
      "1/1 [==============================] - 0s 30ms/step - loss: 2.8849e-04 - val_loss: 0.0022\n",
      "Epoch 124/200\n",
      "1/1 [==============================] - 0s 30ms/step - loss: 3.0385e-04 - val_loss: 0.0022\n",
      "Epoch 125/200\n",
      "1/1 [==============================] - 0s 28ms/step - loss: 3.1069e-04 - val_loss: 0.0022\n",
      "Epoch 126/200\n",
      "1/1 [==============================] - 0s 29ms/step - loss: 2.8928e-04 - val_loss: 0.0024\n",
      "Epoch 127/200\n",
      "1/1 [==============================] - 0s 30ms/step - loss: 2.7428e-04 - val_loss: 0.0024\n",
      "Epoch 128/200\n",
      "1/1 [==============================] - 0s 29ms/step - loss: 2.9987e-04 - val_loss: 0.0023\n",
      "Epoch 129/200\n",
      "1/1 [==============================] - 0s 29ms/step - loss: 2.3675e-04 - val_loss: 0.0022\n",
      "Epoch 130/200\n",
      "1/1 [==============================] - 0s 28ms/step - loss: 2.1270e-04 - val_loss: 0.0021\n",
      "Epoch 131/200\n",
      "1/1 [==============================] - 0s 29ms/step - loss: 2.0206e-04 - val_loss: 0.0020\n",
      "Epoch 132/200\n",
      "1/1 [==============================] - 0s 29ms/step - loss: 1.8481e-04 - val_loss: 0.0021\n",
      "Epoch 133/200\n",
      "1/1 [==============================] - 0s 29ms/step - loss: 1.6749e-04 - val_loss: 0.0021\n",
      "Epoch 134/200\n",
      "1/1 [==============================] - 0s 29ms/step - loss: 1.6003e-04 - val_loss: 0.0022\n",
      "Epoch 135/200\n",
      "1/1 [==============================] - 0s 30ms/step - loss: 1.3821e-04 - val_loss: 0.0021\n",
      "Epoch 136/200\n",
      "1/1 [==============================] - 0s 30ms/step - loss: 1.3856e-04 - val_loss: 0.0021\n",
      "Epoch 137/200\n",
      "1/1 [==============================] - 0s 31ms/step - loss: 1.1361e-04 - val_loss: 0.0020\n",
      "Epoch 138/200\n",
      "1/1 [==============================] - 0s 30ms/step - loss: 1.1340e-04 - val_loss: 0.0020\n",
      "Epoch 139/200\n",
      "1/1 [==============================] - 0s 30ms/step - loss: 1.1925e-04 - val_loss: 0.0020\n",
      "Epoch 140/200\n",
      "1/1 [==============================] - 0s 29ms/step - loss: 9.4126e-05 - val_loss: 0.0020\n",
      "Epoch 141/200\n",
      "1/1 [==============================] - 0s 29ms/step - loss: 8.0335e-05 - val_loss: 0.0020\n",
      "Epoch 142/200\n",
      "1/1 [==============================] - 0s 30ms/step - loss: 8.3861e-05 - val_loss: 0.0020\n",
      "Epoch 143/200\n",
      "1/1 [==============================] - 0s 30ms/step - loss: 7.3886e-05 - val_loss: 0.0019\n",
      "Epoch 144/200\n",
      "1/1 [==============================] - 0s 31ms/step - loss: 7.3046e-05 - val_loss: 0.0019\n",
      "Epoch 145/200\n",
      "1/1 [==============================] - 0s 30ms/step - loss: 7.6168e-05 - val_loss: 0.0019\n",
      "Epoch 146/200\n",
      "1/1 [==============================] - 0s 30ms/step - loss: 6.8337e-05 - val_loss: 0.0019\n",
      "Epoch 147/200\n",
      "1/1 [==============================] - 0s 31ms/step - loss: 5.8025e-05 - val_loss: 0.0019\n",
      "Epoch 148/200\n",
      "1/1 [==============================] - 0s 31ms/step - loss: 5.3265e-05 - val_loss: 0.0019\n",
      "Epoch 149/200\n",
      "1/1 [==============================] - 0s 29ms/step - loss: 4.8843e-05 - val_loss: 0.0019\n",
      "Epoch 150/200\n",
      "1/1 [==============================] - 0s 29ms/step - loss: 5.5234e-05 - val_loss: 0.0019\n",
      "Epoch 151/200\n",
      "1/1 [==============================] - 0s 31ms/step - loss: 4.7827e-05 - val_loss: 0.0019\n",
      "Epoch 152/200\n",
      "1/1 [==============================] - 0s 32ms/step - loss: 4.0937e-05 - val_loss: 0.0018\n",
      "Epoch 153/200\n",
      "1/1 [==============================] - 0s 29ms/step - loss: 5.2277e-05 - val_loss: 0.0019\n",
      "Epoch 154/200\n",
      "1/1 [==============================] - 0s 30ms/step - loss: 3.2409e-05 - val_loss: 0.0019\n",
      "Epoch 155/200\n",
      "1/1 [==============================] - 0s 29ms/step - loss: 3.1128e-05 - val_loss: 0.0019\n",
      "Epoch 156/200\n",
      "1/1 [==============================] - 0s 29ms/step - loss: 3.1870e-05 - val_loss: 0.0019\n",
      "Epoch 157/200\n",
      "1/1 [==============================] - 0s 38ms/step - loss: 2.9619e-05 - val_loss: 0.0019\n",
      "Epoch 158/200\n",
      "1/1 [==============================] - 0s 30ms/step - loss: 2.1355e-05 - val_loss: 0.0019\n",
      "Epoch 159/200\n",
      "1/1 [==============================] - 0s 30ms/step - loss: 2.2549e-05 - val_loss: 0.0019\n",
      "Epoch 160/200\n",
      "1/1 [==============================] - 0s 33ms/step - loss: 1.8834e-05 - val_loss: 0.0019\n",
      "Epoch 161/200\n",
      "1/1 [==============================] - 0s 30ms/step - loss: 2.5158e-05 - val_loss: 0.0019\n",
      "Epoch 162/200\n",
      "1/1 [==============================] - 0s 32ms/step - loss: 2.6187e-05 - val_loss: 0.0019\n",
      "Epoch 163/200\n",
      "1/1 [==============================] - 0s 31ms/step - loss: 1.4853e-05 - val_loss: 0.0019\n",
      "Epoch 164/200\n",
      "1/1 [==============================] - 0s 31ms/step - loss: 1.2216e-05 - val_loss: 0.0019\n",
      "Epoch 165/200\n",
      "1/1 [==============================] - 0s 31ms/step - loss: 1.1984e-05 - val_loss: 0.0019\n",
      "Epoch 166/200\n",
      "1/1 [==============================] - 0s 29ms/step - loss: 1.1256e-05 - val_loss: 0.0019\n",
      "Epoch 167/200\n",
      "1/1 [==============================] - 0s 30ms/step - loss: 9.7783e-06 - val_loss: 0.0019\n",
      "Epoch 168/200\n",
      "1/1 [==============================] - 0s 31ms/step - loss: 1.7320e-05 - val_loss: 0.0019\n",
      "Epoch 169/200\n",
      "1/1 [==============================] - 0s 30ms/step - loss: 9.5535e-06 - val_loss: 0.0019\n",
      "Epoch 170/200\n",
      "1/1 [==============================] - 0s 31ms/step - loss: 1.5713e-05 - val_loss: 0.0019\n",
      "Epoch 171/200\n",
      "1/1 [==============================] - 0s 32ms/step - loss: 6.8103e-06 - val_loss: 0.0019\n",
      "Epoch 172/200\n",
      "1/1 [==============================] - 0s 31ms/step - loss: 1.3523e-05 - val_loss: 0.0019\n",
      "Epoch 173/200\n",
      "1/1 [==============================] - 0s 32ms/step - loss: 6.1067e-06 - val_loss: 0.0019\n",
      "Epoch 174/200\n",
      "1/1 [==============================] - 0s 29ms/step - loss: 1.0391e-05 - val_loss: 0.0019\n",
      "Epoch 175/200\n",
      "1/1 [==============================] - 0s 30ms/step - loss: 5.2362e-06 - val_loss: 0.0019\n",
      "Epoch 176/200\n",
      "1/1 [==============================] - 0s 32ms/step - loss: 5.5194e-06 - val_loss: 0.0019\n",
      "Epoch 177/200\n",
      "1/1 [==============================] - 0s 28ms/step - loss: 4.6703e-06 - val_loss: 0.0019\n",
      "Epoch 178/200\n",
      "1/1 [==============================] - 0s 30ms/step - loss: 4.2055e-06 - val_loss: 0.0019\n",
      "Epoch 179/200\n",
      "1/1 [==============================] - 0s 31ms/step - loss: 6.7033e-06 - val_loss: 0.0019\n",
      "Epoch 180/200\n",
      "1/1 [==============================] - 0s 32ms/step - loss: 3.7533e-06 - val_loss: 0.0019\n",
      "Epoch 181/200\n",
      "1/1 [==============================] - 0s 30ms/step - loss: 3.4261e-06 - val_loss: 0.0019\n",
      "Epoch 182/200\n",
      "1/1 [==============================] - 0s 31ms/step - loss: 3.6108e-06 - val_loss: 0.0019\n",
      "Epoch 183/200\n",
      "1/1 [==============================] - 0s 31ms/step - loss: 4.1450e-06 - val_loss: 0.0019\n",
      "Epoch 184/200\n",
      "1/1 [==============================] - 0s 30ms/step - loss: 3.6651e-06 - val_loss: 0.0019\n",
      "Epoch 185/200\n",
      "1/1 [==============================] - 0s 30ms/step - loss: 2.7419e-06 - val_loss: 0.0019\n",
      "Epoch 186/200\n",
      "1/1 [==============================] - 0s 31ms/step - loss: 2.4514e-06 - val_loss: 0.0019\n",
      "Epoch 187/200\n",
      "1/1 [==============================] - 0s 31ms/step - loss: 2.8838e-06 - val_loss: 0.0019\n",
      "Epoch 188/200\n",
      "1/1 [==============================] - 0s 30ms/step - loss: 2.4187e-06 - val_loss: 0.0019\n",
      "Epoch 189/200\n",
      "1/1 [==============================] - 0s 31ms/step - loss: 2.2394e-06 - val_loss: 0.0019\n",
      "Epoch 190/200\n",
      "1/1 [==============================] - 0s 33ms/step - loss: 1.9530e-06 - val_loss: 0.0019\n",
      "Epoch 191/200\n",
      "1/1 [==============================] - 0s 33ms/step - loss: 1.4972e-06 - val_loss: 0.0019\n",
      "Epoch 192/200\n",
      "1/1 [==============================] - 0s 31ms/step - loss: 1.9977e-06 - val_loss: 0.0019\n",
      "Epoch 193/200\n",
      "1/1 [==============================] - 0s 32ms/step - loss: 2.1040e-06 - val_loss: 0.0019\n",
      "Epoch 194/200\n",
      "1/1 [==============================] - 0s 30ms/step - loss: 1.9293e-06 - val_loss: 0.0019\n",
      "Epoch 195/200\n",
      "1/1 [==============================] - 0s 33ms/step - loss: 1.7830e-06 - val_loss: 0.0019\n",
      "Epoch 196/200\n",
      "1/1 [==============================] - 0s 30ms/step - loss: 1.6810e-06 - val_loss: 0.0019\n",
      "Epoch 197/200\n",
      "1/1 [==============================] - 0s 29ms/step - loss: 8.1924e-07 - val_loss: 0.0019\n",
      "Epoch 198/200\n",
      "1/1 [==============================] - 0s 30ms/step - loss: 7.7494e-07 - val_loss: 0.0019\n",
      "Epoch 199/200\n",
      "1/1 [==============================] - 0s 31ms/step - loss: 6.8717e-07 - val_loss: 0.0019\n",
      "Epoch 200/200\n",
      "1/1 [==============================] - 0s 30ms/step - loss: 6.3753e-07 - val_loss: 0.0019\n"
     ]
    }
   ],
   "source": [
    "o = ordinaryAE.fit(beanIntensities, beanIntensities, epochs=200, verbose = True, validation_data=(validation, validation))\n",
    "#print(o.history['loss'][-1]) #the final loss "
   ]
  },
  {
   "attachments": {},
   "cell_type": "markdown",
   "metadata": {},
   "source": [
    "# Super Parent AutoEncoder"
   ]
  },
  {
   "cell_type": "code",
   "execution_count": 61,
   "metadata": {},
   "outputs": [],
   "source": [
    "class EncoderLinearSuperParent(tf.keras.layers.Layer):\n",
    "    def __init__(self, rgm, oldrgm, input_dim=32, units=32):\n",
    "        super(EncoderLinearSuperParent, self).__init__()\n",
    "        self.rgm = rgm\n",
    "        self.OGrgm = oldrgm\n",
    "        \n",
    "        def init_weights(shape, dtype=\"float32\"):\n",
    "\n",
    "            w_init = tf.random_normal_initializer()(shape=shape, dtype=dtype) * tf.convert_to_tensor(self.OGrgm, dtype=dtype)\n",
    "\n",
    "            return w_init\n",
    "        \n",
    "\n",
    "        self.w = tf.Variable(\n",
    "            initial_value=init_weights(shape=(input_dim, units), dtype=\"float32\"),\n",
    "            trainable=True,\n",
    "        )\n",
    "\n",
    "    def call(self, inputs):\n",
    "        X = inputs\n",
    "        return tf.matmul(X, tf.multiply(self.rgm, self.w))\n",
    "    #tf.matmul(inputs, self.w)\n",
    "\n",
    "class DecoderLinearSuperParent(tf.keras.layers.Layer):\n",
    "    def __init__(self, rgm, oldrgm, input_dim=32, units=32):\n",
    "        super(DecoderLinearSuperParent, self).__init__()\n",
    "        self.rgm = rgm\n",
    "        self.OGrgm = oldrgm\n",
    "\n",
    "        def init_weights(shape, dtype=\"float32\"):\n",
    "\n",
    "            w_init = tf.random_normal_initializer()(shape=shape, dtype=dtype) * tf.transpose(tf.convert_to_tensor(self.rgm, dtype=dtype))\n",
    "\n",
    "            return w_init\n",
    "    \n",
    "        \n",
    "        self.w = tf.Variable(\n",
    "            initial_value=init_weights(shape=(input_dim, units), dtype=\"float32\"),\n",
    "            trainable=True,\n",
    "        )\n",
    "\n",
    "    def call(self, inputs):\n",
    "        X = inputs\n",
    "        #return tf.matmul(X, tf.multiply((self.rgm), self.w))\n",
    "        X = tf.matmul(X, tf.multiply(tf.transpose(self.rgm), self.w)) \n",
    "        #return tf.matmul(inputs, self.w)\n",
    "        # v = tf.zeros_like(X)\n",
    "        # u = tf.ones_like(X)\n",
    "        # u = tf.math.scalar_mul(-3.0, u)\n",
    "        \n",
    "        return X#tf.where(tf.math.less(X, v), u, X) #where X is less than 0, return -1 \n",
    "        \n",
    "        \n",
    "def encoder(parent_child_biological_association, num_hidden_units=21):\n",
    "    '''\n",
    "    Encoder structure\n",
    "    '''\n",
    "    '''\n",
    "    The data is time-series. Therefore, CNN to learn the temporal relationship between \n",
    "    the intensities for each gene.\n",
    "    '''\n",
    "    en_conv = Conv1D(32, 3, activation = \"relu\")(parent_child_biological_association) # 6*NUM_TARGETS\n",
    "    en_dense = Flatten()(en_conv)\n",
    "    phenotype = Dense(num_hidden_units)(en_dense)\n",
    "    return phenotype\n",
    "\n",
    "def decoder(X, num_protein_gene, time_steps):\n",
    "    '''\n",
    "    Decoder structure\n",
    "    '''\n",
    "    de_dense = Dense(128)(X)\n",
    "    de_dense = Reshape((1, 128))(de_dense) #tf.reshape(de_dense, (self.batch_size,1,128))\n",
    "    de_deconv = Conv1DTranspose(num_protein_gene, time_steps, activation = \"relu\")(de_dense) #used to be transpose\n",
    "    #de_deconv = Conv1D(num_protein_gene, time_steps, activation = \"relu\")(de_dense) \n",
    "    # gene_reconstruction = self.decoder_biological_operation(de_deconv)\n",
    "    return de_deconv\n",
    "\n",
    "def modelSuperParent(rgm, oldRGM, num_protein_gene, time_steps, num_kinase_regulators, num_hidden_units = 21): #rgm is set to superparent, oldrgm is original rgm unmodified\n",
    "    inp = Input(shape=(time_steps, num_kinase_regulators))\n",
    "    x = EncoderLinearSuperParent(rgm, oldRGM, NUM_TARGETS, NUM_TARGETS)(inp)\n",
    "    enc = encoder(x, num_hidden_units)\n",
    "    dec = decoder(enc, num_protein_gene, time_steps)\n",
    "    out = DecoderLinearSuperParent(rgm, oldRGM, NUM_TARGETS, NUM_TARGETS)(dec)\n",
    "\n",
    "    _model = tf.keras.Model(inputs=inp, outputs=out)\n",
    "\n",
    "    return _model"
   ]
  },
  {
   "cell_type": "code",
   "execution_count": 62,
   "metadata": {},
   "outputs": [],
   "source": [
    "def modelSuperParentSequential(rgm, oldRGM, num_protein_gene, time_steps, num_kinase_regulators, num_hidden_units = 21): #rgm is set to superparent, oldrgm is original rgm unmodified\n",
    "    m = tf.keras.Sequential()\n",
    "    inp = Input(shape=(time_steps, num_kinase_regulators))\n",
    "    x = EncoderLinearSuperParent(rgm, oldRGM, NUM_TARGETS, NUM_TARGETS)(inp)\n",
    "    enc = encoder(x, num_hidden_units)\n",
    "    dec = decoder(enc, num_protein_gene, time_steps)\n",
    "    out = DecoderLinearSuperParent(rgm, oldRGM, NUM_TARGETS, NUM_TARGETS)(dec)\n",
    "\n",
    "    _model = tf.keras.Model(inputs=inp, outputs=out)\n",
    "\n",
    "    return _model"
   ]
  },
  {
   "cell_type": "code",
   "execution_count": 63,
   "metadata": {},
   "outputs": [
    {
     "name": "stdout",
     "output_type": "stream",
     "text": [
      "Epoch 1/200\n",
      "1/1 [==============================] - 2s 2s/step - loss: 0.2108 - val_loss: 0.2467\n",
      "Epoch 2/200\n",
      "1/1 [==============================] - 0s 34ms/step - loss: 0.2181 - val_loss: 0.2314\n",
      "Epoch 3/200\n",
      "1/1 [==============================] - 0s 35ms/step - loss: 0.2112 - val_loss: 0.2045\n",
      "Epoch 4/200\n",
      "1/1 [==============================] - 0s 35ms/step - loss: 0.1955 - val_loss: 0.1648\n",
      "Epoch 5/200\n",
      "1/1 [==============================] - 0s 35ms/step - loss: 0.1609 - val_loss: 0.1099\n",
      "Epoch 6/200\n",
      "1/1 [==============================] - 0s 34ms/step - loss: 0.1178 - val_loss: 0.0488\n",
      "Epoch 7/200\n",
      "1/1 [==============================] - 0s 33ms/step - loss: 0.0698 - val_loss: 0.0124\n",
      "Epoch 8/200\n",
      "1/1 [==============================] - 0s 33ms/step - loss: 0.0414 - val_loss: 0.0483\n",
      "Epoch 9/200\n",
      "1/1 [==============================] - 0s 34ms/step - loss: 0.0764 - val_loss: 0.0477\n",
      "Epoch 10/200\n",
      "1/1 [==============================] - 0s 29ms/step - loss: 0.0718 - val_loss: 0.0182\n",
      "Epoch 11/200\n",
      "1/1 [==============================] - 0s 29ms/step - loss: 0.0413 - val_loss: 0.0040\n",
      "Epoch 12/200\n",
      "1/1 [==============================] - 0s 34ms/step - loss: 0.0232 - val_loss: 0.0096\n",
      "Epoch 13/200\n",
      "1/1 [==============================] - 0s 29ms/step - loss: 0.0187 - val_loss: 0.0214\n",
      "Epoch 14/200\n",
      "1/1 [==============================] - 0s 33ms/step - loss: 0.0275 - val_loss: 0.0298\n",
      "Epoch 15/200\n",
      "1/1 [==============================] - 0s 33ms/step - loss: 0.0272 - val_loss: 0.0316\n",
      "Epoch 16/200\n",
      "1/1 [==============================] - 0s 30ms/step - loss: 0.0256 - val_loss: 0.0279\n",
      "Epoch 17/200\n",
      "1/1 [==============================] - 0s 28ms/step - loss: 0.0229 - val_loss: 0.0212\n",
      "Epoch 18/200\n",
      "1/1 [==============================] - 0s 28ms/step - loss: 0.0154 - val_loss: 0.0146\n",
      "Epoch 19/200\n",
      "1/1 [==============================] - 0s 29ms/step - loss: 0.0095 - val_loss: 0.0106\n",
      "Epoch 20/200\n",
      "1/1 [==============================] - 0s 36ms/step - loss: 0.0104 - val_loss: 0.0096\n",
      "Epoch 21/200\n",
      "1/1 [==============================] - 0s 29ms/step - loss: 0.0100 - val_loss: 0.0092\n",
      "Epoch 22/200\n",
      "1/1 [==============================] - 0s 33ms/step - loss: 0.0183 - val_loss: 0.0073\n",
      "Epoch 23/200\n",
      "1/1 [==============================] - 0s 30ms/step - loss: 0.0099 - val_loss: 0.0055\n",
      "Epoch 24/200\n",
      "1/1 [==============================] - 0s 31ms/step - loss: 0.0068 - val_loss: 0.0056\n",
      "Epoch 25/200\n",
      "1/1 [==============================] - 0s 29ms/step - loss: 0.0084 - val_loss: 0.0078\n",
      "Epoch 26/200\n",
      "1/1 [==============================] - 0s 29ms/step - loss: 0.0067 - val_loss: 0.0111\n",
      "Epoch 27/200\n",
      "1/1 [==============================] - 0s 50ms/step - loss: 0.0065 - val_loss: 0.0134\n",
      "Epoch 28/200\n",
      "1/1 [==============================] - 0s 35ms/step - loss: 0.0082 - val_loss: 0.0135\n",
      "Epoch 29/200\n",
      "1/1 [==============================] - 0s 38ms/step - loss: 0.0088 - val_loss: 0.0114\n",
      "Epoch 30/200\n",
      "1/1 [==============================] - 0s 32ms/step - loss: 0.0081 - val_loss: 0.0083\n",
      "Epoch 31/200\n",
      "1/1 [==============================] - 0s 36ms/step - loss: 0.0058 - val_loss: 0.0055\n",
      "Epoch 32/200\n",
      "1/1 [==============================] - 0s 28ms/step - loss: 0.0049 - val_loss: 0.0038\n",
      "Epoch 33/200\n",
      "1/1 [==============================] - 0s 31ms/step - loss: 0.0051 - val_loss: 0.0034\n",
      "Epoch 34/200\n",
      "1/1 [==============================] - 0s 33ms/step - loss: 0.0055 - val_loss: 0.0037\n",
      "Epoch 35/200\n",
      "1/1 [==============================] - 0s 28ms/step - loss: 0.0061 - val_loss: 0.0040\n",
      "Epoch 36/200\n",
      "1/1 [==============================] - 0s 29ms/step - loss: 0.0060 - val_loss: 0.0040\n",
      "Epoch 37/200\n",
      "1/1 [==============================] - 0s 29ms/step - loss: 0.0056 - val_loss: 0.0042\n",
      "Epoch 38/200\n",
      "1/1 [==============================] - 0s 31ms/step - loss: 0.0044 - val_loss: 0.0051\n",
      "Epoch 39/200\n",
      "1/1 [==============================] - 0s 30ms/step - loss: 0.0042 - val_loss: 0.0065\n",
      "Epoch 40/200\n",
      "1/1 [==============================] - 0s 29ms/step - loss: 0.0039 - val_loss: 0.0079\n",
      "Epoch 41/200\n",
      "1/1 [==============================] - 0s 29ms/step - loss: 0.0043 - val_loss: 0.0086\n",
      "Epoch 42/200\n",
      "1/1 [==============================] - 0s 31ms/step - loss: 0.0045 - val_loss: 0.0085\n",
      "Epoch 43/200\n",
      "1/1 [==============================] - 0s 28ms/step - loss: 0.0044 - val_loss: 0.0077\n",
      "Epoch 44/200\n",
      "1/1 [==============================] - 0s 29ms/step - loss: 0.0041 - val_loss: 0.0065\n",
      "Epoch 45/200\n",
      "1/1 [==============================] - 0s 29ms/step - loss: 0.0037 - val_loss: 0.0054\n",
      "Epoch 46/200\n",
      "1/1 [==============================] - 0s 28ms/step - loss: 0.0034 - val_loss: 0.0045\n",
      "Epoch 47/200\n",
      "1/1 [==============================] - 0s 29ms/step - loss: 0.0034 - val_loss: 0.0040\n",
      "Epoch 48/200\n",
      "1/1 [==============================] - 0s 27ms/step - loss: 0.0038 - val_loss: 0.0037\n",
      "Epoch 49/200\n",
      "1/1 [==============================] - 0s 29ms/step - loss: 0.0034 - val_loss: 0.0035\n",
      "Epoch 50/200\n",
      "1/1 [==============================] - 0s 29ms/step - loss: 0.0039 - val_loss: 0.0034\n",
      "Epoch 51/200\n",
      "1/1 [==============================] - 0s 28ms/step - loss: 0.0037 - val_loss: 0.0035\n",
      "Epoch 52/200\n",
      "1/1 [==============================] - 0s 28ms/step - loss: 0.0029 - val_loss: 0.0037\n",
      "Epoch 53/200\n",
      "1/1 [==============================] - 0s 29ms/step - loss: 0.0027 - val_loss: 0.0040\n",
      "Epoch 54/200\n",
      "1/1 [==============================] - 0s 29ms/step - loss: 0.0027 - val_loss: 0.0043\n",
      "Epoch 55/200\n",
      "1/1 [==============================] - 0s 32ms/step - loss: 0.0027 - val_loss: 0.0044\n",
      "Epoch 56/200\n",
      "1/1 [==============================] - 0s 29ms/step - loss: 0.0038 - val_loss: 0.0040\n",
      "Epoch 57/200\n",
      "1/1 [==============================] - 0s 29ms/step - loss: 0.0025 - val_loss: 0.0035\n",
      "Epoch 58/200\n",
      "1/1 [==============================] - 0s 28ms/step - loss: 0.0023 - val_loss: 0.0031\n",
      "Epoch 59/200\n",
      "1/1 [==============================] - 0s 28ms/step - loss: 0.0030 - val_loss: 0.0029\n",
      "Epoch 60/200\n",
      "1/1 [==============================] - 0s 30ms/step - loss: 0.0023 - val_loss: 0.0028\n",
      "Epoch 61/200\n",
      "1/1 [==============================] - 0s 28ms/step - loss: 0.0023 - val_loss: 0.0029\n",
      "Epoch 62/200\n",
      "1/1 [==============================] - 0s 29ms/step - loss: 0.0025 - val_loss: 0.0030\n",
      "Epoch 63/200\n",
      "1/1 [==============================] - 0s 28ms/step - loss: 0.0020 - val_loss: 0.0032\n",
      "Epoch 64/200\n",
      "1/1 [==============================] - 0s 29ms/step - loss: 0.0018 - val_loss: 0.0034\n",
      "Epoch 65/200\n",
      "1/1 [==============================] - 0s 29ms/step - loss: 0.0016 - val_loss: 0.0035\n",
      "Epoch 66/200\n",
      "1/1 [==============================] - 0s 30ms/step - loss: 0.0015 - val_loss: 0.0034\n",
      "Epoch 67/200\n",
      "1/1 [==============================] - 0s 29ms/step - loss: 0.0014 - val_loss: 0.0031\n",
      "Epoch 68/200\n",
      "1/1 [==============================] - 0s 28ms/step - loss: 0.0013 - val_loss: 0.0028\n",
      "Epoch 69/200\n",
      "1/1 [==============================] - 0s 29ms/step - loss: 0.0011 - val_loss: 0.0025\n",
      "Epoch 70/200\n",
      "1/1 [==============================] - 0s 28ms/step - loss: 0.0023 - val_loss: 0.0024\n",
      "Epoch 71/200\n",
      "1/1 [==============================] - 0s 28ms/step - loss: 0.0020 - val_loss: 0.0025\n",
      "Epoch 72/200\n",
      "1/1 [==============================] - 0s 29ms/step - loss: 9.7521e-04 - val_loss: 0.0026\n",
      "Epoch 73/200\n",
      "1/1 [==============================] - 0s 28ms/step - loss: 0.0014 - val_loss: 0.0027\n",
      "Epoch 74/200\n",
      "1/1 [==============================] - 0s 29ms/step - loss: 0.0012 - val_loss: 0.0028\n",
      "Epoch 75/200\n",
      "1/1 [==============================] - 0s 28ms/step - loss: 0.0012 - val_loss: 0.0025\n",
      "Epoch 76/200\n",
      "1/1 [==============================] - 0s 29ms/step - loss: 7.0548e-04 - val_loss: 0.0023\n",
      "Epoch 77/200\n",
      "1/1 [==============================] - 0s 29ms/step - loss: 7.2742e-04 - val_loss: 0.0024\n",
      "Epoch 78/200\n",
      "1/1 [==============================] - 0s 28ms/step - loss: 5.7082e-04 - val_loss: 0.0026\n",
      "Epoch 79/200\n",
      "1/1 [==============================] - 0s 29ms/step - loss: 7.0907e-04 - val_loss: 0.0027\n",
      "Epoch 80/200\n",
      "1/1 [==============================] - 0s 36ms/step - loss: 6.4632e-04 - val_loss: 0.0025\n",
      "Epoch 81/200\n",
      "1/1 [==============================] - 0s 36ms/step - loss: 6.3012e-04 - val_loss: 0.0023\n",
      "Epoch 82/200\n",
      "1/1 [==============================] - 0s 35ms/step - loss: 2.8926e-04 - val_loss: 0.0021\n",
      "Epoch 83/200\n",
      "1/1 [==============================] - 0s 34ms/step - loss: 1.9746e-04 - val_loss: 0.0021\n",
      "Epoch 84/200\n",
      "1/1 [==============================] - 0s 29ms/step - loss: 1.8356e-04 - val_loss: 0.0021\n",
      "Epoch 85/200\n",
      "1/1 [==============================] - 0s 31ms/step - loss: 2.3324e-04 - val_loss: 0.0023\n",
      "Epoch 86/200\n",
      "1/1 [==============================] - 0s 26ms/step - loss: 2.6465e-04 - val_loss: 0.0023\n",
      "Epoch 87/200\n",
      "1/1 [==============================] - 0s 29ms/step - loss: 2.0223e-04 - val_loss: 0.0022\n",
      "Epoch 88/200\n",
      "1/1 [==============================] - 0s 29ms/step - loss: 5.9442e-04 - val_loss: 0.0023\n",
      "Epoch 89/200\n",
      "1/1 [==============================] - 0s 31ms/step - loss: 3.4870e-04 - val_loss: 0.0025\n",
      "Epoch 90/200\n",
      "1/1 [==============================] - 0s 26ms/step - loss: 3.0730e-04 - val_loss: 0.0027\n",
      "Epoch 91/200\n",
      "1/1 [==============================] - 0s 28ms/step - loss: 5.6398e-04 - val_loss: 0.0025\n",
      "Epoch 92/200\n",
      "1/1 [==============================] - 0s 29ms/step - loss: 2.6582e-04 - val_loss: 0.0022\n",
      "Epoch 93/200\n",
      "1/1 [==============================] - 0s 28ms/step - loss: 2.9061e-04 - val_loss: 0.0019\n",
      "Epoch 94/200\n",
      "1/1 [==============================] - 0s 30ms/step - loss: 4.0360e-05 - val_loss: 0.0019\n",
      "Epoch 95/200\n",
      "1/1 [==============================] - 0s 29ms/step - loss: 1.6340e-04 - val_loss: 0.0019\n",
      "Epoch 96/200\n",
      "1/1 [==============================] - 0s 29ms/step - loss: 2.4884e-04 - val_loss: 0.0018\n",
      "Epoch 97/200\n",
      "1/1 [==============================] - 0s 29ms/step - loss: 2.8297e-04 - val_loss: 0.0018\n",
      "Epoch 98/200\n",
      "1/1 [==============================] - 0s 28ms/step - loss: 2.1403e-04 - val_loss: 0.0018\n",
      "Epoch 99/200\n",
      "1/1 [==============================] - 0s 28ms/step - loss: 4.4626e-05 - val_loss: 0.0019\n",
      "Epoch 100/200\n",
      "1/1 [==============================] - 0s 31ms/step - loss: 6.5986e-05 - val_loss: 0.0020\n",
      "Epoch 101/200\n",
      "1/1 [==============================] - 0s 27ms/step - loss: 9.1233e-05 - val_loss: 0.0020\n",
      "Epoch 102/200\n",
      "1/1 [==============================] - 0s 29ms/step - loss: 1.7427e-04 - val_loss: 0.0019\n",
      "Epoch 103/200\n",
      "1/1 [==============================] - 0s 28ms/step - loss: 8.6484e-05 - val_loss: 0.0018\n",
      "Epoch 104/200\n",
      "1/1 [==============================] - 0s 30ms/step - loss: 3.0896e-05 - val_loss: 0.0018\n",
      "Epoch 105/200\n",
      "1/1 [==============================] - 0s 28ms/step - loss: 5.2298e-05 - val_loss: 0.0018\n",
      "Epoch 106/200\n",
      "1/1 [==============================] - 0s 30ms/step - loss: 1.8822e-04 - val_loss: 0.0018\n",
      "Epoch 107/200\n",
      "1/1 [==============================] - 0s 26ms/step - loss: 1.4615e-04 - val_loss: 0.0019\n",
      "Epoch 108/200\n",
      "1/1 [==============================] - 0s 28ms/step - loss: 3.6297e-05 - val_loss: 0.0020\n",
      "Epoch 109/200\n",
      "1/1 [==============================] - 0s 28ms/step - loss: 7.2327e-05 - val_loss: 0.0021\n",
      "Epoch 110/200\n",
      "1/1 [==============================] - 0s 28ms/step - loss: 8.3444e-05 - val_loss: 0.0020\n",
      "Epoch 111/200\n",
      "1/1 [==============================] - 0s 29ms/step - loss: 9.5654e-05 - val_loss: 0.0019\n",
      "Epoch 112/200\n",
      "1/1 [==============================] - 0s 30ms/step - loss: 6.2941e-05 - val_loss: 0.0018\n",
      "Epoch 113/200\n",
      "1/1 [==============================] - 0s 29ms/step - loss: 1.8875e-05 - val_loss: 0.0018\n",
      "Epoch 114/200\n",
      "1/1 [==============================] - 0s 30ms/step - loss: 1.9822e-05 - val_loss: 0.0018\n",
      "Epoch 115/200\n",
      "1/1 [==============================] - 0s 28ms/step - loss: 4.6908e-05 - val_loss: 0.0017\n",
      "Epoch 116/200\n",
      "1/1 [==============================] - 0s 31ms/step - loss: 4.5807e-05 - val_loss: 0.0017\n",
      "Epoch 117/200\n",
      "1/1 [==============================] - 0s 33ms/step - loss: 2.3026e-05 - val_loss: 0.0017\n",
      "Epoch 118/200\n",
      "1/1 [==============================] - 0s 29ms/step - loss: 1.3429e-05 - val_loss: 0.0018\n",
      "Epoch 119/200\n",
      "1/1 [==============================] - 0s 29ms/step - loss: 2.7984e-05 - val_loss: 0.0018\n",
      "Epoch 120/200\n",
      "1/1 [==============================] - 0s 29ms/step - loss: 3.7230e-05 - val_loss: 0.0018\n",
      "Epoch 121/200\n",
      "1/1 [==============================] - 0s 29ms/step - loss: 3.0648e-05 - val_loss: 0.0018\n",
      "Epoch 122/200\n",
      "1/1 [==============================] - 0s 28ms/step - loss: 1.3740e-05 - val_loss: 0.0018\n",
      "Epoch 123/200\n",
      "1/1 [==============================] - 0s 28ms/step - loss: 8.8655e-06 - val_loss: 0.0018\n",
      "Epoch 124/200\n",
      "1/1 [==============================] - 0s 29ms/step - loss: 1.4876e-05 - val_loss: 0.0018\n",
      "Epoch 125/200\n",
      "1/1 [==============================] - 0s 28ms/step - loss: 2.2939e-05 - val_loss: 0.0018\n",
      "Epoch 126/200\n",
      "1/1 [==============================] - 0s 28ms/step - loss: 1.4109e-05 - val_loss: 0.0018\n",
      "Epoch 127/200\n",
      "1/1 [==============================] - 0s 29ms/step - loss: 5.1686e-06 - val_loss: 0.0018\n",
      "Epoch 128/200\n",
      "1/1 [==============================] - 0s 29ms/step - loss: 8.1002e-06 - val_loss: 0.0019\n",
      "Epoch 129/200\n",
      "1/1 [==============================] - 0s 29ms/step - loss: 1.4622e-05 - val_loss: 0.0019\n",
      "Epoch 130/200\n",
      "1/1 [==============================] - 0s 29ms/step - loss: 1.5524e-05 - val_loss: 0.0018\n",
      "Epoch 131/200\n",
      "1/1 [==============================] - 0s 31ms/step - loss: 9.1419e-06 - val_loss: 0.0018\n",
      "Epoch 132/200\n",
      "1/1 [==============================] - 0s 32ms/step - loss: 3.7598e-06 - val_loss: 0.0018\n",
      "Epoch 133/200\n",
      "1/1 [==============================] - 0s 29ms/step - loss: 6.9765e-06 - val_loss: 0.0018\n",
      "Epoch 134/200\n",
      "1/1 [==============================] - 0s 28ms/step - loss: 1.0643e-05 - val_loss: 0.0018\n",
      "Epoch 135/200\n",
      "1/1 [==============================] - 0s 30ms/step - loss: 6.8419e-06 - val_loss: 0.0018\n",
      "Epoch 136/200\n",
      "1/1 [==============================] - 0s 41ms/step - loss: 2.3517e-06 - val_loss: 0.0018\n",
      "Epoch 137/200\n",
      "1/1 [==============================] - 0s 41ms/step - loss: 2.4196e-06 - val_loss: 0.0018\n",
      "Epoch 138/200\n",
      "1/1 [==============================] - 0s 41ms/step - loss: 7.1030e-06 - val_loss: 0.0018\n",
      "Epoch 139/200\n",
      "1/1 [==============================] - 0s 46ms/step - loss: 7.3380e-06 - val_loss: 0.0018\n",
      "Epoch 140/200\n",
      "1/1 [==============================] - 0s 35ms/step - loss: 3.8338e-06 - val_loss: 0.0018\n",
      "Epoch 141/200\n",
      "1/1 [==============================] - 0s 27ms/step - loss: 1.7409e-06 - val_loss: 0.0018\n",
      "Epoch 142/200\n",
      "1/1 [==============================] - 0s 28ms/step - loss: 3.5524e-06 - val_loss: 0.0018\n",
      "Epoch 143/200\n",
      "1/1 [==============================] - 0s 28ms/step - loss: 5.0859e-06 - val_loss: 0.0018\n",
      "Epoch 144/200\n",
      "1/1 [==============================] - 0s 29ms/step - loss: 3.0103e-06 - val_loss: 0.0018\n",
      "Epoch 145/200\n",
      "1/1 [==============================] - 0s 29ms/step - loss: 9.7987e-07 - val_loss: 0.0018\n",
      "Epoch 146/200\n",
      "1/1 [==============================] - 0s 29ms/step - loss: 1.4887e-06 - val_loss: 0.0018\n",
      "Epoch 147/200\n",
      "1/1 [==============================] - 0s 33ms/step - loss: 2.8826e-06 - val_loss: 0.0018\n",
      "Epoch 148/200\n",
      "1/1 [==============================] - 0s 29ms/step - loss: 2.7399e-06 - val_loss: 0.0018\n",
      "Epoch 149/200\n",
      "1/1 [==============================] - 0s 30ms/step - loss: 1.3360e-06 - val_loss: 0.0018\n",
      "Epoch 150/200\n",
      "1/1 [==============================] - 0s 28ms/step - loss: 7.3335e-07 - val_loss: 0.0018\n",
      "Epoch 151/200\n",
      "1/1 [==============================] - 0s 29ms/step - loss: 1.4372e-06 - val_loss: 0.0018\n",
      "Epoch 152/200\n",
      "1/1 [==============================] - 0s 29ms/step - loss: 1.9632e-06 - val_loss: 0.0018\n",
      "Epoch 153/200\n",
      "1/1 [==============================] - 0s 28ms/step - loss: 1.0167e-06 - val_loss: 0.0018\n",
      "Epoch 154/200\n",
      "1/1 [==============================] - 0s 27ms/step - loss: 3.0786e-07 - val_loss: 0.0018\n",
      "Epoch 155/200\n",
      "1/1 [==============================] - 0s 28ms/step - loss: 5.2361e-07 - val_loss: 0.0018\n",
      "Epoch 156/200\n",
      "1/1 [==============================] - 0s 28ms/step - loss: 9.6293e-07 - val_loss: 0.0018\n",
      "Epoch 157/200\n",
      "1/1 [==============================] - 0s 30ms/step - loss: 1.0008e-06 - val_loss: 0.0018\n",
      "Epoch 158/200\n",
      "1/1 [==============================] - 0s 29ms/step - loss: 5.0583e-07 - val_loss: 0.0018\n",
      "Epoch 159/200\n",
      "1/1 [==============================] - 0s 29ms/step - loss: 3.0779e-07 - val_loss: 0.0018\n",
      "Epoch 160/200\n",
      "1/1 [==============================] - 0s 28ms/step - loss: 7.2261e-07 - val_loss: 0.0018\n",
      "Epoch 161/200\n",
      "1/1 [==============================] - 0s 29ms/step - loss: 7.8994e-07 - val_loss: 0.0018\n",
      "Epoch 162/200\n",
      "1/1 [==============================] - 0s 29ms/step - loss: 5.1011e-07 - val_loss: 0.0018\n",
      "Epoch 163/200\n",
      "1/1 [==============================] - 0s 28ms/step - loss: 1.3708e-07 - val_loss: 0.0018\n",
      "Epoch 164/200\n",
      "1/1 [==============================] - 0s 29ms/step - loss: 3.8974e-07 - val_loss: 0.0018\n",
      "Epoch 165/200\n",
      "1/1 [==============================] - 0s 28ms/step - loss: 4.4160e-07 - val_loss: 0.0018\n",
      "Epoch 166/200\n",
      "1/1 [==============================] - 0s 31ms/step - loss: 4.8453e-07 - val_loss: 0.0018\n",
      "Epoch 167/200\n",
      "1/1 [==============================] - 0s 27ms/step - loss: 2.0070e-07 - val_loss: 0.0018\n",
      "Epoch 168/200\n",
      "1/1 [==============================] - 0s 29ms/step - loss: 1.6033e-07 - val_loss: 0.0018\n",
      "Epoch 169/200\n",
      "1/1 [==============================] - 0s 30ms/step - loss: 3.4900e-07 - val_loss: 0.0018\n",
      "Epoch 170/200\n",
      "1/1 [==============================] - 0s 27ms/step - loss: 6.6363e-07 - val_loss: 0.0018\n",
      "Epoch 171/200\n",
      "1/1 [==============================] - 0s 29ms/step - loss: 1.1545e-07 - val_loss: 0.0018\n",
      "Epoch 172/200\n",
      "1/1 [==============================] - 0s 29ms/step - loss: 2.0266e-07 - val_loss: 0.0018\n",
      "Epoch 173/200\n",
      "1/1 [==============================] - 0s 30ms/step - loss: 2.7820e-07 - val_loss: 0.0018\n",
      "Epoch 174/200\n",
      "1/1 [==============================] - 0s 27ms/step - loss: 3.2142e-07 - val_loss: 0.0018\n",
      "Epoch 175/200\n",
      "1/1 [==============================] - 0s 29ms/step - loss: 2.2905e-07 - val_loss: 0.0018\n",
      "Epoch 176/200\n",
      "1/1 [==============================] - 0s 30ms/step - loss: 5.3551e-08 - val_loss: 0.0018\n",
      "Epoch 177/200\n",
      "1/1 [==============================] - 0s 28ms/step - loss: 1.1424e-07 - val_loss: 0.0018\n",
      "Epoch 178/200\n",
      "1/1 [==============================] - 0s 30ms/step - loss: 4.0273e-07 - val_loss: 0.0018\n",
      "Epoch 179/200\n",
      "1/1 [==============================] - 0s 28ms/step - loss: 2.2666e-07 - val_loss: 0.0018\n",
      "Epoch 180/200\n",
      "1/1 [==============================] - 0s 28ms/step - loss: 4.4865e-08 - val_loss: 0.0018\n",
      "Epoch 181/200\n",
      "1/1 [==============================] - 0s 30ms/step - loss: 1.1557e-07 - val_loss: 0.0018\n",
      "Epoch 182/200\n",
      "1/1 [==============================] - 0s 28ms/step - loss: 2.2475e-07 - val_loss: 0.0018\n",
      "Epoch 183/200\n",
      "1/1 [==============================] - 0s 29ms/step - loss: 1.3638e-07 - val_loss: 0.0018\n",
      "Epoch 184/200\n",
      "1/1 [==============================] - 0s 28ms/step - loss: 5.2722e-08 - val_loss: 0.0018\n",
      "Epoch 185/200\n",
      "1/1 [==============================] - 0s 29ms/step - loss: 6.7283e-08 - val_loss: 0.0018\n",
      "Epoch 186/200\n",
      "1/1 [==============================] - 0s 30ms/step - loss: 1.1479e-07 - val_loss: 0.0018\n",
      "Epoch 187/200\n",
      "1/1 [==============================] - 0s 31ms/step - loss: 1.1872e-07 - val_loss: 0.0018\n",
      "Epoch 188/200\n",
      "1/1 [==============================] - 0s 40ms/step - loss: 4.6976e-08 - val_loss: 0.0018\n",
      "Epoch 189/200\n",
      "1/1 [==============================] - 0s 28ms/step - loss: 2.8262e-08 - val_loss: 0.0018\n",
      "Epoch 190/200\n",
      "1/1 [==============================] - 0s 29ms/step - loss: 4.2106e-08 - val_loss: 0.0018\n",
      "Epoch 191/200\n",
      "1/1 [==============================] - 0s 29ms/step - loss: 8.6864e-08 - val_loss: 0.0018\n",
      "Epoch 192/200\n",
      "1/1 [==============================] - 0s 29ms/step - loss: 1.1219e-07 - val_loss: 0.0018\n",
      "Epoch 193/200\n",
      "1/1 [==============================] - 0s 30ms/step - loss: 7.0832e-08 - val_loss: 0.0018\n",
      "Epoch 194/200\n",
      "1/1 [==============================] - 0s 27ms/step - loss: 7.2986e-08 - val_loss: 0.0018\n",
      "Epoch 195/200\n",
      "1/1 [==============================] - 0s 31ms/step - loss: 8.7754e-08 - val_loss: 0.0018\n",
      "Epoch 196/200\n",
      "1/1 [==============================] - 0s 26ms/step - loss: 7.4034e-08 - val_loss: 0.0018\n",
      "Epoch 197/200\n",
      "1/1 [==============================] - 0s 30ms/step - loss: 4.0732e-08 - val_loss: 0.0018\n",
      "Epoch 198/200\n",
      "1/1 [==============================] - 0s 29ms/step - loss: 2.7363e-08 - val_loss: 0.0018\n",
      "Epoch 199/200\n",
      "1/1 [==============================] - 0s 34ms/step - loss: 5.4668e-08 - val_loss: 0.0018\n",
      "Epoch 200/200\n",
      "1/1 [==============================] - 0s 30ms/step - loss: 6.4498e-08 - val_loss: 0.0018\n"
     ]
    }
   ],
   "source": [
    "looseParent = modelSuperParent(superParent, regulator_gene_matrix, NUM_TARGETS, NUM_TIME_STEPS, NUM_TARGETS, 32)\n",
    "looseParent.compile(optimizer='adam', loss=ignore_noParent_MSE)\n",
    "o = looseParent.fit(beanIntensities, beanIntensities, epochs=200, verbose = True,  validation_data=(validation, validation))\n",
    "#print(o.history['loss'][-1]) #the final loss "
   ]
  },
  {
   "cell_type": "markdown",
   "metadata": {},
   "source": [
    "# DenseNetAutoEncoder"
   ]
  },
  {
   "cell_type": "code",
   "execution_count": 64,
   "metadata": {},
   "outputs": [],
   "source": [
    "'''\n",
    "a second copy of the layers which will be modified to be a denseNET auto encoder\n",
    "'''\n",
    "#TODO: fix call to map to -1?\n",
    "class DenseEncoderLinear2(tf.keras.layers.Layer): #TODO: Fix the decoder to -1\n",
    "    def __init__(self, rgm, oldrgm, input_dim=32, units=32):\n",
    "        super(DenseEncoderLinear2, self).__init__()\n",
    "        self.rgm = rgm\n",
    "        self.oldrgm = oldrgm\n",
    "        \n",
    "        def init_weights(shape, dtype=\"float32\"):\n",
    "\n",
    "            w_init = tf.random_normal_initializer()(shape=shape, dtype=dtype) * tf.convert_to_tensor(self.oldrgm, dtype=dtype)\n",
    "\n",
    "            return w_init\n",
    "        \n",
    "\n",
    "        self.w = tf.Variable(\n",
    "            initial_value=init_weights(shape=(input_dim, units), dtype=\"float32\"),\n",
    "            trainable=True,\n",
    "        )\n",
    "\n",
    "    def call(self, inputs):\n",
    "        X = inputs\n",
    "        return tf.matmul(X, tf.multiply(self.rgm, self.w))\n",
    "    #tf.matmul(inputs, self.w)\n",
    "\n",
    "    def get_config(self):\n",
    "        config = super().get_config()\n",
    "        config.update({\n",
    "            \"rgm\": self.rgm,\n",
    "            \"oldrgm\": self.oldrgm,\n",
    "            'input_dim': 32,\n",
    "            'units' : 32\n",
    "        })\n",
    "\n",
    "class DenseDecoderLinear2(tf.keras.layers.Layer):\n",
    "    def __init__(self, rgm, oldrgm, input_dim=32, units=32):\n",
    "        super(DenseDecoderLinear2, self).__init__()\n",
    "        self.rgm = rgm\n",
    "        self.oldrgm = oldrgm\n",
    "\n",
    "        def init_weights(shape, dtype=\"float32\"):\n",
    "\n",
    "            w_init = tf.random_normal_initializer()(shape=shape, dtype=dtype) * tf.transpose(tf.convert_to_tensor(self.oldrgm, dtype=dtype))\n",
    "\n",
    "            return w_init\n",
    "\n",
    "        self.w = tf.Variable(\n",
    "            initial_value=init_weights(shape=(input_dim, units), dtype=\"float32\"),\n",
    "            trainable=True,\n",
    "        )\n",
    "\n",
    "    def call(self, inputs):\n",
    "        X = inputs\n",
    "        #return tf.matmul(X, tf.multiply((self.rgm), self.w))\n",
    "        return tf.matmul(X, tf.multiply(tf.transpose(self.rgm), self.w)) #used to have a transpose\n",
    "        #return tf.matmul(inputs, self.w)\n",
    "\n",
    "    def get_config(self):\n",
    "        config = super().get_config()\n",
    "        config.update({\n",
    "            \"rgm\": self.rgm,\n",
    "            \"oldrgm\": self.oldrgm,\n",
    "            'input_dim': 32,\n",
    "            'units' : 32\n",
    "        })\n",
    "        \n",
    "\n",
    "def denseencoder2(parent_child_biological_association, inp, num_hidden_units=21):\n",
    "    '''\n",
    "    Encoder structure\n",
    "    '''\n",
    "    '''\n",
    "    The data is time-series. Therefore, CNN to learn the temporal relationship between \n",
    "    the intensities for each gene.\n",
    "    '''\n",
    "    en_conv = Conv1D(490, 3, activation = \"tanh\")(parent_child_biological_association) # 6*NUM_TARGETS\n",
    "    en_dense = Flatten()(en_conv)\n",
    "    inp = Flatten()(inp)\n",
    "    #print(en_dense.shape, inp.shape)\n",
    "    d = Concatenate()([en_dense, inp]) #dense layer\n",
    "    o_d = Dense(1024, activation = 'tanh')(d) #added a layer\n",
    "    c = Concatenate()([o_d, d]) #TOTALY NEW LAYER\n",
    "    en_dense = Dense(128, activation = 'tanh')(c) #TOTALY NEW LAYER\n",
    "    \n",
    "    phenotype = Dense(num_hidden_units, activation=\"tanh\")(d)\n",
    "    return phenotype\n",
    "\n",
    "def densedecoder2(X, num_protein_gene, time_steps):\n",
    "    '''\n",
    "    Decoder structure\n",
    "    '''\n",
    "    de_dense = Dense(784, activation = 'tanh')(X)\n",
    "    de_dense = Dense(512, activation = 'tanh')(de_dense) #TOTALY NEW LAYER\n",
    "    de_dense = Dense(256, activation = 'tanh')(de_dense) #added a layer\n",
    "    de_dense = Reshape((1, 256))(de_dense) #tf.reshape(de_dense, (self.batch_size,1,128))\n",
    "    de_deconv = Conv1DTranspose(num_protein_gene, time_steps, activation = \"tanh\")(de_dense) #used to be transpose\n",
    "    #de_deconv = Conv1D(num_protein_gene, time_steps, activation = \"relu\")(de_dense) \n",
    "    # gene_reconstruction = self.decoder_biological_operation(de_deconv)\n",
    "    return de_deconv\n",
    "\n",
    "def modelDense2(rgm, oldrgm, num_protein_gene, time_steps, num_kinase_regulators, num_hidden_units = 21):\n",
    "    inp = Input(shape=(time_steps, num_kinase_regulators))\n",
    "    x = DenseEncoderLinear2(rgm, oldrgm, NUM_TARGETS, NUM_TARGETS)(inp)\n",
    "    #x = EncoderLinear2(x)\n",
    "    enc = denseencoder2(x, inp, num_hidden_units)\n",
    "    dec = densedecoder2(enc, num_protein_gene, time_steps)\n",
    "    out = DenseDecoderLinear2(rgm, oldrgm, NUM_TARGETS, NUM_TARGETS)(dec)\n",
    "\n",
    "    _model = tf.keras.Model(inputs=inp, outputs=out)\n",
    "\n",
    "    return _model"
   ]
  },
  {
   "cell_type": "code",
   "execution_count": 65,
   "metadata": {},
   "outputs": [
    {
     "name": "stdout",
     "output_type": "stream",
     "text": [
      "Epoch 1/200\n",
      "1/1 [==============================] - 2s 2s/step - loss: 0.2003 - val_loss: 0.2348\n",
      "Epoch 2/200\n",
      "1/1 [==============================] - 0s 84ms/step - loss: 0.2112 - val_loss: 0.0961\n",
      "Epoch 3/200\n",
      "1/1 [==============================] - 0s 139ms/step - loss: 0.0855 - val_loss: 0.0284\n",
      "Epoch 4/200\n",
      "1/1 [==============================] - 0s 27ms/step - loss: 0.0424 - val_loss: 0.0107\n",
      "Epoch 5/200\n",
      "1/1 [==============================] - 0s 28ms/step - loss: 0.0287 - val_loss: 0.0286\n",
      "Epoch 6/200\n",
      "1/1 [==============================] - 0s 27ms/step - loss: 0.0271 - val_loss: 0.0395\n",
      "Epoch 7/200\n",
      "1/1 [==============================] - 0s 29ms/step - loss: 0.0241 - val_loss: 0.0293\n",
      "Epoch 8/200\n",
      "1/1 [==============================] - 0s 27ms/step - loss: 0.0157 - val_loss: 0.0146\n",
      "Epoch 9/200\n",
      "1/1 [==============================] - 0s 28ms/step - loss: 0.0137 - val_loss: 0.0125\n",
      "Epoch 10/200\n",
      "1/1 [==============================] - 0s 28ms/step - loss: 0.0196 - val_loss: 0.0113\n",
      "Epoch 11/200\n",
      "1/1 [==============================] - 0s 29ms/step - loss: 0.0152 - val_loss: 0.0146\n",
      "Epoch 12/200\n",
      "1/1 [==============================] - 0s 27ms/step - loss: 0.0105 - val_loss: 0.0183\n",
      "Epoch 13/200\n",
      "1/1 [==============================] - 0s 30ms/step - loss: 0.0108 - val_loss: 0.0173\n",
      "Epoch 14/200\n",
      "1/1 [==============================] - 0s 27ms/step - loss: 0.0128 - val_loss: 0.0152\n",
      "Epoch 15/200\n",
      "1/1 [==============================] - 0s 29ms/step - loss: 0.0133 - val_loss: 0.0133\n",
      "Epoch 16/200\n",
      "1/1 [==============================] - 0s 26ms/step - loss: 0.0133 - val_loss: 0.0159\n",
      "Epoch 17/200\n",
      "1/1 [==============================] - 0s 27ms/step - loss: 0.0115 - val_loss: 0.0142\n",
      "Epoch 18/200\n",
      "1/1 [==============================] - 0s 29ms/step - loss: 0.0114 - val_loss: 0.0101\n",
      "Epoch 19/200\n",
      "1/1 [==============================] - 0s 28ms/step - loss: 0.0110 - val_loss: 0.0087\n",
      "Epoch 20/200\n",
      "1/1 [==============================] - 0s 28ms/step - loss: 0.0112 - val_loss: 0.0098\n",
      "Epoch 21/200\n",
      "1/1 [==============================] - 0s 26ms/step - loss: 0.0093 - val_loss: 0.0121\n",
      "Epoch 22/200\n",
      "1/1 [==============================] - 0s 29ms/step - loss: 0.0089 - val_loss: 0.0118\n",
      "Epoch 23/200\n",
      "1/1 [==============================] - 0s 27ms/step - loss: 0.0087 - val_loss: 0.0105\n",
      "Epoch 24/200\n",
      "1/1 [==============================] - 0s 28ms/step - loss: 0.0091 - val_loss: 0.0108\n",
      "Epoch 25/200\n",
      "1/1 [==============================] - 0s 27ms/step - loss: 0.0094 - val_loss: 0.0123\n",
      "Epoch 26/200\n",
      "1/1 [==============================] - 0s 25ms/step - loss: 0.0087 - val_loss: 0.0134\n",
      "Epoch 27/200\n",
      "1/1 [==============================] - 0s 28ms/step - loss: 0.0083 - val_loss: 0.0113\n",
      "Epoch 28/200\n",
      "1/1 [==============================] - 0s 25ms/step - loss: 0.0077 - val_loss: 0.0082\n",
      "Epoch 29/200\n",
      "1/1 [==============================] - 0s 27ms/step - loss: 0.0078 - val_loss: 0.0081\n",
      "Epoch 30/200\n",
      "1/1 [==============================] - 0s 25ms/step - loss: 0.0082 - val_loss: 0.0104\n",
      "Epoch 31/200\n",
      "1/1 [==============================] - 0s 26ms/step - loss: 0.0080 - val_loss: 0.0126\n",
      "Epoch 32/200\n",
      "1/1 [==============================] - 0s 28ms/step - loss: 0.0079 - val_loss: 0.0118\n",
      "Epoch 33/200\n",
      "1/1 [==============================] - 0s 28ms/step - loss: 0.0076 - val_loss: 0.0098\n",
      "Epoch 34/200\n",
      "1/1 [==============================] - 0s 26ms/step - loss: 0.0072 - val_loss: 0.0098\n",
      "Epoch 35/200\n",
      "1/1 [==============================] - 0s 27ms/step - loss: 0.0072 - val_loss: 0.0112\n",
      "Epoch 36/200\n",
      "1/1 [==============================] - 0s 27ms/step - loss: 0.0072 - val_loss: 0.0120\n",
      "Epoch 37/200\n",
      "1/1 [==============================] - 0s 26ms/step - loss: 0.0075 - val_loss: 0.0106\n",
      "Epoch 38/200\n",
      "1/1 [==============================] - 0s 28ms/step - loss: 0.0075 - val_loss: 0.0088\n",
      "Epoch 39/200\n",
      "1/1 [==============================] - 0s 26ms/step - loss: 0.0074 - val_loss: 0.0082\n",
      "Epoch 40/200\n",
      "1/1 [==============================] - 0s 25ms/step - loss: 0.0073 - val_loss: 0.0091\n",
      "Epoch 41/200\n",
      "1/1 [==============================] - 0s 30ms/step - loss: 0.0071 - val_loss: 0.0099\n",
      "Epoch 42/200\n",
      "1/1 [==============================] - 0s 27ms/step - loss: 0.0071 - val_loss: 0.0094\n",
      "Epoch 43/200\n",
      "1/1 [==============================] - 0s 28ms/step - loss: 0.0071 - val_loss: 0.0087\n",
      "Epoch 44/200\n",
      "1/1 [==============================] - 0s 27ms/step - loss: 0.0071 - val_loss: 0.0090\n",
      "Epoch 45/200\n",
      "1/1 [==============================] - 0s 30ms/step - loss: 0.0070 - val_loss: 0.0100\n",
      "Epoch 46/200\n",
      "1/1 [==============================] - 0s 27ms/step - loss: 0.0070 - val_loss: 0.0105\n",
      "Epoch 47/200\n",
      "1/1 [==============================] - 0s 27ms/step - loss: 0.0069 - val_loss: 0.0102\n",
      "Epoch 48/200\n",
      "1/1 [==============================] - 0s 29ms/step - loss: 0.0069 - val_loss: 0.0097\n",
      "Epoch 49/200\n",
      "1/1 [==============================] - 0s 26ms/step - loss: 0.0070 - val_loss: 0.0098\n",
      "Epoch 50/200\n",
      "1/1 [==============================] - 0s 28ms/step - loss: 0.0070 - val_loss: 0.0102\n",
      "Epoch 51/200\n",
      "1/1 [==============================] - 0s 28ms/step - loss: 0.0070 - val_loss: 0.0101\n",
      "Epoch 52/200\n",
      "1/1 [==============================] - 0s 27ms/step - loss: 0.0069 - val_loss: 0.0093\n",
      "Epoch 53/200\n",
      "1/1 [==============================] - 0s 26ms/step - loss: 0.0069 - val_loss: 0.0087\n",
      "Epoch 54/200\n",
      "1/1 [==============================] - 0s 26ms/step - loss: 0.0069 - val_loss: 0.0089\n",
      "Epoch 55/200\n",
      "1/1 [==============================] - 0s 28ms/step - loss: 0.0069 - val_loss: 0.0097\n",
      "Epoch 56/200\n",
      "1/1 [==============================] - 0s 27ms/step - loss: 0.0069 - val_loss: 0.0096\n",
      "Epoch 57/200\n",
      "1/1 [==============================] - 0s 29ms/step - loss: 0.0068 - val_loss: 0.0091\n",
      "Epoch 58/200\n",
      "1/1 [==============================] - 0s 26ms/step - loss: 0.0069 - val_loss: 0.0091\n",
      "Epoch 59/200\n",
      "1/1 [==============================] - 0s 28ms/step - loss: 0.0069 - val_loss: 0.0097\n",
      "Epoch 60/200\n",
      "1/1 [==============================] - 0s 27ms/step - loss: 0.0069 - val_loss: 0.0098\n",
      "Epoch 61/200\n",
      "1/1 [==============================] - 0s 27ms/step - loss: 0.0068 - val_loss: 0.0096\n",
      "Epoch 62/200\n",
      "1/1 [==============================] - 0s 28ms/step - loss: 0.0068 - val_loss: 0.0095\n",
      "Epoch 63/200\n",
      "1/1 [==============================] - 0s 27ms/step - loss: 0.0068 - val_loss: 0.0096\n",
      "Epoch 64/200\n",
      "1/1 [==============================] - 0s 26ms/step - loss: 0.0068 - val_loss: 0.0097\n",
      "Epoch 65/200\n",
      "1/1 [==============================] - 0s 27ms/step - loss: 0.0068 - val_loss: 0.0097\n",
      "Epoch 66/200\n",
      "1/1 [==============================] - 0s 29ms/step - loss: 0.0068 - val_loss: 0.0094\n",
      "Epoch 67/200\n",
      "1/1 [==============================] - 0s 28ms/step - loss: 0.0068 - val_loss: 0.0091\n",
      "Epoch 68/200\n",
      "1/1 [==============================] - 0s 27ms/step - loss: 0.0068 - val_loss: 0.0095\n",
      "Epoch 69/200\n",
      "1/1 [==============================] - 0s 29ms/step - loss: 0.0068 - val_loss: 0.0096\n",
      "Epoch 70/200\n",
      "1/1 [==============================] - 0s 27ms/step - loss: 0.0068 - val_loss: 0.0095\n",
      "Epoch 71/200\n",
      "1/1 [==============================] - 0s 26ms/step - loss: 0.0068 - val_loss: 0.0094\n",
      "Epoch 72/200\n",
      "1/1 [==============================] - 0s 31ms/step - loss: 0.0068 - val_loss: 0.0096\n",
      "Epoch 73/200\n",
      "1/1 [==============================] - 0s 29ms/step - loss: 0.0068 - val_loss: 0.0095\n",
      "Epoch 74/200\n",
      "1/1 [==============================] - 0s 28ms/step - loss: 0.0068 - val_loss: 0.0096\n",
      "Epoch 75/200\n",
      "1/1 [==============================] - 0s 29ms/step - loss: 0.0068 - val_loss: 0.0094\n",
      "Epoch 76/200\n",
      "1/1 [==============================] - 0s 28ms/step - loss: 0.0068 - val_loss: 0.0093\n",
      "Epoch 77/200\n",
      "1/1 [==============================] - 0s 28ms/step - loss: 0.0068 - val_loss: 0.0094\n",
      "Epoch 78/200\n",
      "1/1 [==============================] - 0s 28ms/step - loss: 0.0068 - val_loss: 0.0097\n",
      "Epoch 79/200\n",
      "1/1 [==============================] - 0s 30ms/step - loss: 0.0068 - val_loss: 0.0096\n",
      "Epoch 80/200\n",
      "1/1 [==============================] - 0s 27ms/step - loss: 0.0068 - val_loss: 0.0092\n",
      "Epoch 81/200\n",
      "1/1 [==============================] - 0s 29ms/step - loss: 0.0068 - val_loss: 0.0092\n",
      "Epoch 82/200\n",
      "1/1 [==============================] - 0s 27ms/step - loss: 0.0068 - val_loss: 0.0096\n",
      "Epoch 83/200\n",
      "1/1 [==============================] - 0s 27ms/step - loss: 0.0068 - val_loss: 0.0096\n",
      "Epoch 84/200\n",
      "1/1 [==============================] - 0s 27ms/step - loss: 0.0068 - val_loss: 0.0092\n",
      "Epoch 85/200\n",
      "1/1 [==============================] - 0s 28ms/step - loss: 0.0068 - val_loss: 0.0092\n",
      "Epoch 86/200\n",
      "1/1 [==============================] - 0s 31ms/step - loss: 0.0068 - val_loss: 0.0095\n",
      "Epoch 87/200\n",
      "1/1 [==============================] - 0s 26ms/step - loss: 0.0068 - val_loss: 0.0095\n",
      "Epoch 88/200\n",
      "1/1 [==============================] - 0s 29ms/step - loss: 0.0068 - val_loss: 0.0094\n",
      "Epoch 89/200\n",
      "1/1 [==============================] - 0s 27ms/step - loss: 0.0068 - val_loss: 0.0094\n",
      "Epoch 90/200\n",
      "1/1 [==============================] - 0s 27ms/step - loss: 0.0068 - val_loss: 0.0096\n",
      "Epoch 91/200\n",
      "1/1 [==============================] - 0s 29ms/step - loss: 0.0068 - val_loss: 0.0097\n",
      "Epoch 92/200\n",
      "1/1 [==============================] - 0s 28ms/step - loss: 0.0068 - val_loss: 0.0094\n",
      "Epoch 93/200\n",
      "1/1 [==============================] - 0s 27ms/step - loss: 0.0068 - val_loss: 0.0096\n",
      "Epoch 94/200\n",
      "1/1 [==============================] - 0s 28ms/step - loss: 0.0068 - val_loss: 0.0098\n",
      "Epoch 95/200\n",
      "1/1 [==============================] - 0s 29ms/step - loss: 0.0068 - val_loss: 0.0096\n",
      "Epoch 96/200\n",
      "1/1 [==============================] - 0s 29ms/step - loss: 0.0068 - val_loss: 0.0093\n",
      "Epoch 97/200\n",
      "1/1 [==============================] - 0s 27ms/step - loss: 0.0068 - val_loss: 0.0093\n",
      "Epoch 98/200\n",
      "1/1 [==============================] - 0s 27ms/step - loss: 0.0068 - val_loss: 0.0097\n",
      "Epoch 99/200\n",
      "1/1 [==============================] - 0s 27ms/step - loss: 0.0068 - val_loss: 0.0097\n",
      "Epoch 100/200\n",
      "1/1 [==============================] - 0s 27ms/step - loss: 0.0068 - val_loss: 0.0093\n",
      "Epoch 101/200\n",
      "1/1 [==============================] - 0s 32ms/step - loss: 0.0068 - val_loss: 0.0092\n",
      "Epoch 102/200\n",
      "1/1 [==============================] - 0s 30ms/step - loss: 0.0068 - val_loss: 0.0098\n",
      "Epoch 103/200\n",
      "1/1 [==============================] - 0s 31ms/step - loss: 0.0068 - val_loss: 0.0096\n",
      "Epoch 104/200\n",
      "1/1 [==============================] - 0s 27ms/step - loss: 0.0068 - val_loss: 0.0093\n",
      "Epoch 105/200\n",
      "1/1 [==============================] - 0s 29ms/step - loss: 0.0068 - val_loss: 0.0093\n",
      "Epoch 106/200\n",
      "1/1 [==============================] - 0s 25ms/step - loss: 0.0068 - val_loss: 0.0095\n",
      "Epoch 107/200\n",
      "1/1 [==============================] - 0s 29ms/step - loss: 0.0068 - val_loss: 0.0097\n",
      "Epoch 108/200\n",
      "1/1 [==============================] - 0s 26ms/step - loss: 0.0068 - val_loss: 0.0094\n",
      "Epoch 109/200\n",
      "1/1 [==============================] - 0s 28ms/step - loss: 0.0068 - val_loss: 0.0094\n",
      "Epoch 110/200\n",
      "1/1 [==============================] - 0s 32ms/step - loss: 0.0068 - val_loss: 0.0097\n",
      "Epoch 111/200\n",
      "1/1 [==============================] - 0s 30ms/step - loss: 0.0068 - val_loss: 0.0095\n",
      "Epoch 112/200\n",
      "1/1 [==============================] - 0s 28ms/step - loss: 0.0068 - val_loss: 0.0095\n",
      "Epoch 113/200\n",
      "1/1 [==============================] - 0s 28ms/step - loss: 0.0068 - val_loss: 0.0097\n",
      "Epoch 114/200\n",
      "1/1 [==============================] - 0s 28ms/step - loss: 0.0068 - val_loss: 0.0094\n",
      "Epoch 115/200\n",
      "1/1 [==============================] - 0s 29ms/step - loss: 0.0068 - val_loss: 0.0095\n",
      "Epoch 116/200\n",
      "1/1 [==============================] - 0s 32ms/step - loss: 0.0068 - val_loss: 0.0095\n",
      "Epoch 117/200\n",
      "1/1 [==============================] - 0s 30ms/step - loss: 0.0068 - val_loss: 0.0093\n",
      "Epoch 118/200\n",
      "1/1 [==============================] - 0s 30ms/step - loss: 0.0068 - val_loss: 0.0096\n",
      "Epoch 119/200\n",
      "1/1 [==============================] - 0s 27ms/step - loss: 0.0068 - val_loss: 0.0094\n",
      "Epoch 120/200\n",
      "1/1 [==============================] - 0s 29ms/step - loss: 0.0068 - val_loss: 0.0094\n",
      "Epoch 121/200\n",
      "1/1 [==============================] - 0s 30ms/step - loss: 0.0068 - val_loss: 0.0096\n",
      "Epoch 122/200\n",
      "1/1 [==============================] - 0s 28ms/step - loss: 0.0068 - val_loss: 0.0093\n",
      "Epoch 123/200\n",
      "1/1 [==============================] - 0s 29ms/step - loss: 0.0068 - val_loss: 0.0092\n",
      "Epoch 124/200\n",
      "1/1 [==============================] - 0s 28ms/step - loss: 0.0068 - val_loss: 0.0096\n",
      "Epoch 125/200\n",
      "1/1 [==============================] - 0s 30ms/step - loss: 0.0068 - val_loss: 0.0097\n",
      "Epoch 126/200\n",
      "1/1 [==============================] - 0s 29ms/step - loss: 0.0068 - val_loss: 0.0094\n",
      "Epoch 127/200\n",
      "1/1 [==============================] - 0s 28ms/step - loss: 0.0068 - val_loss: 0.0092\n",
      "Epoch 128/200\n",
      "1/1 [==============================] - 0s 28ms/step - loss: 0.0068 - val_loss: 0.0098\n",
      "Epoch 129/200\n",
      "1/1 [==============================] - 0s 28ms/step - loss: 0.0068 - val_loss: 0.0095\n",
      "Epoch 130/200\n",
      "1/1 [==============================] - 0s 29ms/step - loss: 0.0068 - val_loss: 0.0090\n",
      "Epoch 131/200\n",
      "1/1 [==============================] - 0s 40ms/step - loss: 0.0068 - val_loss: 0.0097\n",
      "Epoch 132/200\n",
      "1/1 [==============================] - 0s 37ms/step - loss: 0.0068 - val_loss: 0.0096\n",
      "Epoch 133/200\n",
      "1/1 [==============================] - 0s 29ms/step - loss: 0.0068 - val_loss: 0.0090\n",
      "Epoch 134/200\n",
      "1/1 [==============================] - 0s 31ms/step - loss: 0.0068 - val_loss: 0.0093\n",
      "Epoch 135/200\n",
      "1/1 [==============================] - 0s 28ms/step - loss: 0.0068 - val_loss: 0.0097\n",
      "Epoch 136/200\n",
      "1/1 [==============================] - 0s 30ms/step - loss: 0.0068 - val_loss: 0.0095\n",
      "Epoch 137/200\n",
      "1/1 [==============================] - 0s 29ms/step - loss: 0.0068 - val_loss: 0.0090\n",
      "Epoch 138/200\n",
      "1/1 [==============================] - 0s 31ms/step - loss: 0.0068 - val_loss: 0.0094\n",
      "Epoch 139/200\n",
      "1/1 [==============================] - 0s 29ms/step - loss: 0.0068 - val_loss: 0.0097\n",
      "Epoch 140/200\n",
      "1/1 [==============================] - 0s 28ms/step - loss: 0.0068 - val_loss: 0.0095\n",
      "Epoch 141/200\n",
      "1/1 [==============================] - 0s 29ms/step - loss: 0.0068 - val_loss: 0.0091\n",
      "Epoch 142/200\n",
      "1/1 [==============================] - 0s 28ms/step - loss: 0.0068 - val_loss: 0.0098\n",
      "Epoch 143/200\n",
      "1/1 [==============================] - 0s 28ms/step - loss: 0.0068 - val_loss: 0.0095\n",
      "Epoch 144/200\n",
      "1/1 [==============================] - 0s 30ms/step - loss: 0.0068 - val_loss: 0.0091\n",
      "Epoch 145/200\n",
      "1/1 [==============================] - 0s 29ms/step - loss: 0.0068 - val_loss: 0.0097\n",
      "Epoch 146/200\n",
      "1/1 [==============================] - 0s 26ms/step - loss: 0.0068 - val_loss: 0.0098\n",
      "Epoch 147/200\n",
      "1/1 [==============================] - 0s 30ms/step - loss: 0.0068 - val_loss: 0.0092\n",
      "Epoch 148/200\n",
      "1/1 [==============================] - 0s 29ms/step - loss: 0.0068 - val_loss: 0.0095\n",
      "Epoch 149/200\n",
      "1/1 [==============================] - 0s 28ms/step - loss: 0.0068 - val_loss: 0.0099\n",
      "Epoch 150/200\n",
      "1/1 [==============================] - 0s 29ms/step - loss: 0.0068 - val_loss: 0.0095\n",
      "Epoch 151/200\n",
      "1/1 [==============================] - 0s 39ms/step - loss: 0.0068 - val_loss: 0.0090\n",
      "Epoch 152/200\n",
      "1/1 [==============================] - 0s 43ms/step - loss: 0.0068 - val_loss: 0.0099\n",
      "Epoch 153/200\n",
      "1/1 [==============================] - 0s 41ms/step - loss: 0.0068 - val_loss: 0.0095\n",
      "Epoch 154/200\n",
      "1/1 [==============================] - 0s 46ms/step - loss: 0.0068 - val_loss: 0.0089\n",
      "Epoch 155/200\n",
      "1/1 [==============================] - 0s 45ms/step - loss: 0.0068 - val_loss: 0.0098\n",
      "Epoch 156/200\n",
      "1/1 [==============================] - 0s 29ms/step - loss: 0.0068 - val_loss: 0.0098\n",
      "Epoch 157/200\n",
      "1/1 [==============================] - 0s 29ms/step - loss: 0.0068 - val_loss: 0.0088\n",
      "Epoch 158/200\n",
      "1/1 [==============================] - 0s 26ms/step - loss: 0.0068 - val_loss: 0.0093\n",
      "Epoch 159/200\n",
      "1/1 [==============================] - 0s 30ms/step - loss: 0.0068 - val_loss: 0.0103\n",
      "Epoch 160/200\n",
      "1/1 [==============================] - 0s 28ms/step - loss: 0.0068 - val_loss: 0.0090\n",
      "Epoch 161/200\n",
      "1/1 [==============================] - 0s 29ms/step - loss: 0.0068 - val_loss: 0.0092\n",
      "Epoch 162/200\n",
      "1/1 [==============================] - 0s 28ms/step - loss: 0.0068 - val_loss: 0.0103\n",
      "Epoch 163/200\n",
      "1/1 [==============================] - 0s 28ms/step - loss: 0.0068 - val_loss: 0.0095\n",
      "Epoch 164/200\n",
      "1/1 [==============================] - 0s 31ms/step - loss: 0.0068 - val_loss: 0.0087\n",
      "Epoch 165/200\n",
      "1/1 [==============================] - 0s 28ms/step - loss: 0.0068 - val_loss: 0.0098\n",
      "Epoch 166/200\n",
      "1/1 [==============================] - 0s 29ms/step - loss: 0.0068 - val_loss: 0.0098\n",
      "Epoch 167/200\n",
      "1/1 [==============================] - 0s 30ms/step - loss: 0.0068 - val_loss: 0.0088\n",
      "Epoch 168/200\n",
      "1/1 [==============================] - 0s 30ms/step - loss: 0.0069 - val_loss: 0.0096\n",
      "Epoch 169/200\n",
      "1/1 [==============================] - 0s 27ms/step - loss: 0.0068 - val_loss: 0.0101\n",
      "Epoch 170/200\n",
      "1/1 [==============================] - 0s 29ms/step - loss: 0.0068 - val_loss: 0.0088\n",
      "Epoch 171/200\n",
      "1/1 [==============================] - 0s 26ms/step - loss: 0.0068 - val_loss: 0.0094\n",
      "Epoch 172/200\n",
      "1/1 [==============================] - 0s 28ms/step - loss: 0.0068 - val_loss: 0.0100\n",
      "Epoch 173/200\n",
      "1/1 [==============================] - 0s 27ms/step - loss: 0.0068 - val_loss: 0.0091\n",
      "Epoch 174/200\n",
      "1/1 [==============================] - 0s 29ms/step - loss: 0.0068 - val_loss: 0.0091\n",
      "Epoch 175/200\n",
      "1/1 [==============================] - 0s 27ms/step - loss: 0.0068 - val_loss: 0.0099\n",
      "Epoch 176/200\n",
      "1/1 [==============================] - 0s 27ms/step - loss: 0.0068 - val_loss: 0.0097\n",
      "Epoch 177/200\n",
      "1/1 [==============================] - 0s 29ms/step - loss: 0.0068 - val_loss: 0.0089\n",
      "Epoch 178/200\n",
      "1/1 [==============================] - 0s 27ms/step - loss: 0.0068 - val_loss: 0.0097\n",
      "Epoch 179/200\n",
      "1/1 [==============================] - 0s 30ms/step - loss: 0.0068 - val_loss: 0.0098\n",
      "Epoch 180/200\n",
      "1/1 [==============================] - 0s 29ms/step - loss: 0.0068 - val_loss: 0.0090\n",
      "Epoch 181/200\n",
      "1/1 [==============================] - 0s 26ms/step - loss: 0.0068 - val_loss: 0.0093\n",
      "Epoch 182/200\n",
      "1/1 [==============================] - 0s 28ms/step - loss: 0.0068 - val_loss: 0.0101\n",
      "Epoch 183/200\n",
      "1/1 [==============================] - 0s 29ms/step - loss: 0.0068 - val_loss: 0.0093\n",
      "Epoch 184/200\n",
      "1/1 [==============================] - 0s 29ms/step - loss: 0.0068 - val_loss: 0.0091\n",
      "Epoch 185/200\n",
      "1/1 [==============================] - 0s 28ms/step - loss: 0.0068 - val_loss: 0.0100\n",
      "Epoch 186/200\n",
      "1/1 [==============================] - 0s 27ms/step - loss: 0.0068 - val_loss: 0.0097\n",
      "Epoch 187/200\n",
      "1/1 [==============================] - 0s 26ms/step - loss: 0.0068 - val_loss: 0.0091\n",
      "Epoch 188/200\n",
      "1/1 [==============================] - 0s 28ms/step - loss: 0.0068 - val_loss: 0.0097\n",
      "Epoch 189/200\n",
      "1/1 [==============================] - 0s 26ms/step - loss: 0.0068 - val_loss: 0.0097\n",
      "Epoch 190/200\n",
      "1/1 [==============================] - 0s 29ms/step - loss: 0.0068 - val_loss: 0.0091\n",
      "Epoch 191/200\n",
      "1/1 [==============================] - 0s 29ms/step - loss: 0.0068 - val_loss: 0.0096\n",
      "Epoch 192/200\n",
      "1/1 [==============================] - 0s 28ms/step - loss: 0.0068 - val_loss: 0.0098\n",
      "Epoch 193/200\n",
      "1/1 [==============================] - 0s 29ms/step - loss: 0.0068 - val_loss: 0.0090\n",
      "Epoch 194/200\n",
      "1/1 [==============================] - 0s 29ms/step - loss: 0.0068 - val_loss: 0.0093\n",
      "Epoch 195/200\n",
      "1/1 [==============================] - 0s 28ms/step - loss: 0.0068 - val_loss: 0.0098\n",
      "Epoch 196/200\n",
      "1/1 [==============================] - 0s 29ms/step - loss: 0.0068 - val_loss: 0.0092\n",
      "Epoch 197/200\n",
      "1/1 [==============================] - 0s 30ms/step - loss: 0.0068 - val_loss: 0.0093\n",
      "Epoch 198/200\n",
      "1/1 [==============================] - 0s 28ms/step - loss: 0.0068 - val_loss: 0.0099\n",
      "Epoch 199/200\n",
      "1/1 [==============================] - 0s 29ms/step - loss: 0.0068 - val_loss: 0.0095\n",
      "Epoch 200/200\n",
      "1/1 [==============================] - 0s 27ms/step - loss: 0.0068 - val_loss: 0.0093\n"
     ]
    },
    {
     "data": {
      "text/plain": [
       "<keras.callbacks.History at 0x1eaf05b3b20>"
      ]
     },
     "execution_count": 65,
     "metadata": {},
     "output_type": "execute_result"
    }
   ],
   "source": [
    "dense = modelDense2(superParent, regulator_gene_matrix, NUM_TARGETS, NUM_TIME_STEPS, NUM_TARGETS, 32)\n",
    "dense.compile(optimizer='adam', loss=ignore_noParent_MSE)\n",
    "dense.fit(beanIntensities, beanIntensities, epochs=200,  verbose=True, validation_data=(validation, validation))"
   ]
  },
  {
   "cell_type": "code",
   "execution_count": 66,
   "metadata": {},
   "outputs": [
    {
     "name": "stdout",
     "output_type": "stream",
     "text": [
      "Model: \"model_5\"\n",
      "__________________________________________________________________________________________________\n",
      " Layer (type)                   Output Shape         Param #     Connected to                     \n",
      "==================================================================================================\n",
      " input_6 (InputLayer)           [(None, 11, 372)]    0           []                               \n",
      "                                                                                                  \n",
      " dense_encoder_linear2_1 (Dense  (None, 11, 372)     138384      ['input_6[0][0]']                \n",
      " EncoderLinear2)                                                                                  \n",
      "                                                                                                  \n",
      " conv1d_5 (Conv1D)              (None, 9, 490)       547330      ['dense_encoder_linear2_1[0][0]']\n",
      "                                                                                                  \n",
      " flatten_6 (Flatten)            (None, 4410)         0           ['conv1d_5[0][0]']               \n",
      "                                                                                                  \n",
      " flatten_7 (Flatten)            (None, 4092)         0           ['input_6[0][0]']                \n",
      "                                                                                                  \n",
      " concatenate_2 (Concatenate)    (None, 8502)         0           ['flatten_6[0][0]',              \n",
      "                                                                  'flatten_7[0][0]']              \n",
      "                                                                                                  \n",
      " dense_16 (Dense)               (None, 32)           272096      ['concatenate_2[0][0]']          \n",
      "                                                                                                  \n",
      " dense_17 (Dense)               (None, 784)          25872       ['dense_16[0][0]']               \n",
      "                                                                                                  \n",
      " dense_18 (Dense)               (None, 512)          401920      ['dense_17[0][0]']               \n",
      "                                                                                                  \n",
      " dense_19 (Dense)               (None, 256)          131328      ['dense_18[0][0]']               \n",
      "                                                                                                  \n",
      " reshape_5 (Reshape)            (None, 1, 256)       0           ['dense_19[0][0]']               \n",
      "                                                                                                  \n",
      " conv1d_transpose_5 (Conv1DTran  (None, 11, 372)     1047924     ['reshape_5[0][0]']              \n",
      " spose)                                                                                           \n",
      "                                                                                                  \n",
      " dense_decoder_linear2_1 (Dense  (None, 11, 372)     138384      ['conv1d_transpose_5[0][0]']     \n",
      " DecoderLinear2)                                                                                  \n",
      "                                                                                                  \n",
      "==================================================================================================\n",
      "Total params: 2,703,238\n",
      "Trainable params: 2,703,238\n",
      "Non-trainable params: 0\n",
      "__________________________________________________________________________________________________\n"
     ]
    }
   ],
   "source": [
    "dense.summary()"
   ]
  },
  {
   "attachments": {},
   "cell_type": "markdown",
   "metadata": {},
   "source": [
    "# Reconstruction"
   ]
  },
  {
   "cell_type": "code",
   "execution_count": null,
   "metadata": {},
   "outputs": [
    {
     "name": "stdout",
     "output_type": "stream",
     "text": [
      "1/1 [==============================] - 0s 134ms/step\n"
     ]
    },
    {
     "data": {
      "text/plain": [
       "(1, 11, 372)"
      ]
     },
     "execution_count": 30,
     "metadata": {},
     "output_type": "execute_result"
    }
   ],
   "source": [
    "o = dense.predict(validation)\n",
    "o.shape"
   ]
  },
  {
   "cell_type": "code",
   "execution_count": null,
   "metadata": {},
   "outputs": [],
   "source": [
    "r = pd.DataFrame(o.reshape(11,372))\n",
    "v = pd.DataFrame(validation.reshape(11,372))"
   ]
  },
  {
   "cell_type": "code",
   "execution_count": null,
   "metadata": {},
   "outputs": [
    {
     "data": {
      "text/html": [
       "<div>\n",
       "<style scoped>\n",
       "    .dataframe tbody tr th:only-of-type {\n",
       "        vertical-align: middle;\n",
       "    }\n",
       "\n",
       "    .dataframe tbody tr th {\n",
       "        vertical-align: top;\n",
       "    }\n",
       "\n",
       "    .dataframe thead th {\n",
       "        text-align: right;\n",
       "    }\n",
       "</style>\n",
       "<table border=\"1\" class=\"dataframe\">\n",
       "  <thead>\n",
       "    <tr style=\"text-align: right;\">\n",
       "      <th></th>\n",
       "      <th>117</th>\n",
       "      <th>131</th>\n",
       "      <th>164</th>\n",
       "      <th>225</th>\n",
       "      <th>259</th>\n",
       "      <th>334</th>\n",
       "      <th>350</th>\n",
       "    </tr>\n",
       "  </thead>\n",
       "  <tbody>\n",
       "    <tr>\n",
       "      <th>0</th>\n",
       "      <td>0.362516</td>\n",
       "      <td>0.496475</td>\n",
       "      <td>0.372111</td>\n",
       "      <td>0.430475</td>\n",
       "      <td>0.520153</td>\n",
       "      <td>0.435315</td>\n",
       "      <td>0.486603</td>\n",
       "    </tr>\n",
       "    <tr>\n",
       "      <th>1</th>\n",
       "      <td>0.350683</td>\n",
       "      <td>0.473706</td>\n",
       "      <td>0.429351</td>\n",
       "      <td>0.432575</td>\n",
       "      <td>0.567391</td>\n",
       "      <td>0.483652</td>\n",
       "      <td>0.491651</td>\n",
       "    </tr>\n",
       "    <tr>\n",
       "      <th>2</th>\n",
       "      <td>0.366587</td>\n",
       "      <td>0.430712</td>\n",
       "      <td>0.447965</td>\n",
       "      <td>0.403672</td>\n",
       "      <td>0.589513</td>\n",
       "      <td>0.510056</td>\n",
       "      <td>0.471765</td>\n",
       "    </tr>\n",
       "    <tr>\n",
       "      <th>3</th>\n",
       "      <td>-1.006958</td>\n",
       "      <td>-0.526775</td>\n",
       "      <td>-1.007270</td>\n",
       "      <td>-1.005157</td>\n",
       "      <td>-0.926593</td>\n",
       "      <td>-1.005033</td>\n",
       "      <td>-1.001392</td>\n",
       "    </tr>\n",
       "    <tr>\n",
       "      <th>4</th>\n",
       "      <td>0.392949</td>\n",
       "      <td>0.382632</td>\n",
       "      <td>0.417534</td>\n",
       "      <td>0.446376</td>\n",
       "      <td>0.505069</td>\n",
       "      <td>0.485860</td>\n",
       "      <td>0.498799</td>\n",
       "    </tr>\n",
       "    <tr>\n",
       "      <th>5</th>\n",
       "      <td>0.341756</td>\n",
       "      <td>0.418540</td>\n",
       "      <td>0.347165</td>\n",
       "      <td>0.325601</td>\n",
       "      <td>0.545365</td>\n",
       "      <td>0.420619</td>\n",
       "      <td>0.499098</td>\n",
       "    </tr>\n",
       "    <tr>\n",
       "      <th>6</th>\n",
       "      <td>0.419024</td>\n",
       "      <td>0.467960</td>\n",
       "      <td>0.434355</td>\n",
       "      <td>0.452357</td>\n",
       "      <td>0.598895</td>\n",
       "      <td>0.505582</td>\n",
       "      <td>0.502952</td>\n",
       "    </tr>\n",
       "    <tr>\n",
       "      <th>7</th>\n",
       "      <td>0.014701</td>\n",
       "      <td>-0.019644</td>\n",
       "      <td>0.057635</td>\n",
       "      <td>0.038698</td>\n",
       "      <td>-0.008534</td>\n",
       "      <td>0.006706</td>\n",
       "      <td>-0.018166</td>\n",
       "    </tr>\n",
       "    <tr>\n",
       "      <th>8</th>\n",
       "      <td>0.351214</td>\n",
       "      <td>0.456517</td>\n",
       "      <td>0.417395</td>\n",
       "      <td>0.406108</td>\n",
       "      <td>0.548310</td>\n",
       "      <td>0.482105</td>\n",
       "      <td>0.494334</td>\n",
       "    </tr>\n",
       "    <tr>\n",
       "      <th>9</th>\n",
       "      <td>0.362195</td>\n",
       "      <td>0.478551</td>\n",
       "      <td>0.344282</td>\n",
       "      <td>0.312177</td>\n",
       "      <td>0.563712</td>\n",
       "      <td>0.488460</td>\n",
       "      <td>0.482327</td>\n",
       "    </tr>\n",
       "    <tr>\n",
       "      <th>10</th>\n",
       "      <td>0.382386</td>\n",
       "      <td>0.488227</td>\n",
       "      <td>0.412796</td>\n",
       "      <td>0.416879</td>\n",
       "      <td>0.587944</td>\n",
       "      <td>0.509722</td>\n",
       "      <td>0.504098</td>\n",
       "    </tr>\n",
       "  </tbody>\n",
       "</table>\n",
       "</div>"
      ],
      "text/plain": [
       "         117       131       164       225       259       334       350\n",
       "0   0.362516  0.496475  0.372111  0.430475  0.520153  0.435315  0.486603\n",
       "1   0.350683  0.473706  0.429351  0.432575  0.567391  0.483652  0.491651\n",
       "2   0.366587  0.430712  0.447965  0.403672  0.589513  0.510056  0.471765\n",
       "3  -1.006958 -0.526775 -1.007270 -1.005157 -0.926593 -1.005033 -1.001392\n",
       "4   0.392949  0.382632  0.417534  0.446376  0.505069  0.485860  0.498799\n",
       "5   0.341756  0.418540  0.347165  0.325601  0.545365  0.420619  0.499098\n",
       "6   0.419024  0.467960  0.434355  0.452357  0.598895  0.505582  0.502952\n",
       "7   0.014701 -0.019644  0.057635  0.038698 -0.008534  0.006706 -0.018166\n",
       "8   0.351214  0.456517  0.417395  0.406108  0.548310  0.482105  0.494334\n",
       "9   0.362195  0.478551  0.344282  0.312177  0.563712  0.488460  0.482327\n",
       "10  0.382386  0.488227  0.412796  0.416879  0.587944  0.509722  0.504098"
      ]
     },
     "execution_count": 32,
     "metadata": {},
     "output_type": "execute_result"
    }
   ],
   "source": [
    "r[parent_idx].head(NUM_TIME_STEPS)"
   ]
  },
  {
   "cell_type": "code",
   "execution_count": null,
   "metadata": {},
   "outputs": [
    {
     "data": {
      "text/html": [
       "<div>\n",
       "<style scoped>\n",
       "    .dataframe tbody tr th:only-of-type {\n",
       "        vertical-align: middle;\n",
       "    }\n",
       "\n",
       "    .dataframe tbody tr th {\n",
       "        vertical-align: top;\n",
       "    }\n",
       "\n",
       "    .dataframe thead th {\n",
       "        text-align: right;\n",
       "    }\n",
       "</style>\n",
       "<table border=\"1\" class=\"dataframe\">\n",
       "  <thead>\n",
       "    <tr style=\"text-align: right;\">\n",
       "      <th></th>\n",
       "      <th>117</th>\n",
       "      <th>131</th>\n",
       "      <th>164</th>\n",
       "      <th>225</th>\n",
       "      <th>259</th>\n",
       "      <th>334</th>\n",
       "      <th>350</th>\n",
       "    </tr>\n",
       "  </thead>\n",
       "  <tbody>\n",
       "    <tr>\n",
       "      <th>0</th>\n",
       "      <td>0.464054</td>\n",
       "      <td>0.445813</td>\n",
       "      <td>0.475648</td>\n",
       "      <td>0.475451</td>\n",
       "      <td>0.601666</td>\n",
       "      <td>0.538352</td>\n",
       "      <td>0.517300</td>\n",
       "    </tr>\n",
       "    <tr>\n",
       "      <th>1</th>\n",
       "      <td>0.464782</td>\n",
       "      <td>0.410751</td>\n",
       "      <td>0.479145</td>\n",
       "      <td>0.469503</td>\n",
       "      <td>0.615856</td>\n",
       "      <td>0.581054</td>\n",
       "      <td>0.521357</td>\n",
       "    </tr>\n",
       "    <tr>\n",
       "      <th>2</th>\n",
       "      <td>0.448974</td>\n",
       "      <td>0.424922</td>\n",
       "      <td>0.462434</td>\n",
       "      <td>0.489874</td>\n",
       "      <td>0.618050</td>\n",
       "      <td>0.541640</td>\n",
       "      <td>0.511626</td>\n",
       "    </tr>\n",
       "    <tr>\n",
       "      <th>3</th>\n",
       "      <td>-1.000000</td>\n",
       "      <td>-1.000000</td>\n",
       "      <td>-1.000000</td>\n",
       "      <td>-1.000000</td>\n",
       "      <td>-1.000000</td>\n",
       "      <td>-1.000000</td>\n",
       "      <td>-1.000000</td>\n",
       "    </tr>\n",
       "    <tr>\n",
       "      <th>4</th>\n",
       "      <td>0.448781</td>\n",
       "      <td>0.442738</td>\n",
       "      <td>0.473856</td>\n",
       "      <td>0.468686</td>\n",
       "      <td>0.588641</td>\n",
       "      <td>0.488964</td>\n",
       "      <td>0.528962</td>\n",
       "    </tr>\n",
       "    <tr>\n",
       "      <th>5</th>\n",
       "      <td>0.375646</td>\n",
       "      <td>0.487818</td>\n",
       "      <td>0.385170</td>\n",
       "      <td>0.420683</td>\n",
       "      <td>0.515270</td>\n",
       "      <td>0.469018</td>\n",
       "      <td>0.508054</td>\n",
       "    </tr>\n",
       "    <tr>\n",
       "      <th>6</th>\n",
       "      <td>0.506284</td>\n",
       "      <td>0.412253</td>\n",
       "      <td>0.486031</td>\n",
       "      <td>0.449196</td>\n",
       "      <td>0.638067</td>\n",
       "      <td>0.580319</td>\n",
       "      <td>0.503012</td>\n",
       "    </tr>\n",
       "    <tr>\n",
       "      <th>7</th>\n",
       "      <td>-1.000000</td>\n",
       "      <td>-1.000000</td>\n",
       "      <td>-1.000000</td>\n",
       "      <td>-1.000000</td>\n",
       "      <td>-1.000000</td>\n",
       "      <td>-1.000000</td>\n",
       "      <td>-1.000000</td>\n",
       "    </tr>\n",
       "    <tr>\n",
       "      <th>8</th>\n",
       "      <td>0.469681</td>\n",
       "      <td>0.415919</td>\n",
       "      <td>0.528647</td>\n",
       "      <td>0.509842</td>\n",
       "      <td>0.595536</td>\n",
       "      <td>0.563962</td>\n",
       "      <td>0.527670</td>\n",
       "    </tr>\n",
       "    <tr>\n",
       "      <th>9</th>\n",
       "      <td>0.462067</td>\n",
       "      <td>0.470147</td>\n",
       "      <td>0.484273</td>\n",
       "      <td>0.481506</td>\n",
       "      <td>0.631007</td>\n",
       "      <td>0.569937</td>\n",
       "      <td>0.540709</td>\n",
       "    </tr>\n",
       "    <tr>\n",
       "      <th>10</th>\n",
       "      <td>0.525481</td>\n",
       "      <td>0.414705</td>\n",
       "      <td>0.491357</td>\n",
       "      <td>0.473794</td>\n",
       "      <td>0.641192</td>\n",
       "      <td>0.572485</td>\n",
       "      <td>0.556883</td>\n",
       "    </tr>\n",
       "  </tbody>\n",
       "</table>\n",
       "</div>"
      ],
      "text/plain": [
       "         117       131       164       225       259       334       350\n",
       "0   0.464054  0.445813  0.475648  0.475451  0.601666  0.538352  0.517300\n",
       "1   0.464782  0.410751  0.479145  0.469503  0.615856  0.581054  0.521357\n",
       "2   0.448974  0.424922  0.462434  0.489874  0.618050  0.541640  0.511626\n",
       "3  -1.000000 -1.000000 -1.000000 -1.000000 -1.000000 -1.000000 -1.000000\n",
       "4   0.448781  0.442738  0.473856  0.468686  0.588641  0.488964  0.528962\n",
       "5   0.375646  0.487818  0.385170  0.420683  0.515270  0.469018  0.508054\n",
       "6   0.506284  0.412253  0.486031  0.449196  0.638067  0.580319  0.503012\n",
       "7  -1.000000 -1.000000 -1.000000 -1.000000 -1.000000 -1.000000 -1.000000\n",
       "8   0.469681  0.415919  0.528647  0.509842  0.595536  0.563962  0.527670\n",
       "9   0.462067  0.470147  0.484273  0.481506  0.631007  0.569937  0.540709\n",
       "10  0.525481  0.414705  0.491357  0.473794  0.641192  0.572485  0.556883"
      ]
     },
     "execution_count": 33,
     "metadata": {},
     "output_type": "execute_result"
    }
   ],
   "source": [
    "v[parent_idx].head(NUM_TIME_STEPS)"
   ]
  },
  {
   "cell_type": "code",
   "execution_count": null,
   "metadata": {},
   "outputs": [
    {
     "data": {
      "text/plain": [
       "<tf.Tensor: shape=(), dtype=float32, numpy=0.0051756306>"
      ]
     },
     "execution_count": 36,
     "metadata": {},
     "output_type": "execute_result"
    }
   ],
   "source": [
    "ignore_noParent_MSE(validation, o)"
   ]
  },
  {
   "cell_type": "markdown",
   "metadata": {},
   "source": [
    "# Latent Space Size Experiment"
   ]
  },
  {
   "cell_type": "code",
   "execution_count": 69,
   "metadata": {},
   "outputs": [
    {
     "name": "stderr",
     "output_type": "stream",
     "text": [
      "100%|██████████| 40/40 [38:28<00:00, 57.71s/it]\n"
     ]
    }
   ],
   "source": [
    "N = 40\n",
    "hidden = np.arange(2,24, 1) #range(1,32)\n",
    "lossMatrix = []\n",
    "for i in tqdm(range(N)):\n",
    "    \n",
    "    losses = []\n",
    "    for value in (hidden):\n",
    "        dense = modelDense2(superParent, regulator_gene_matrix, NUM_TARGETS, NUM_TIME_STEPS, NUM_TARGETS, value)\n",
    "        dense.compile(optimizer='adam', loss=ignore_noParent_MSE)\n",
    "        dense.fit(beanIntensities, beanIntensities, epochs=40,  verbose=0)\n",
    "        test_hat = dense(validation) #, verbose = 0)\n",
    "        loss = ignore_noParent_MSE(validation, test_hat)\n",
    "        losses.append(loss)\n",
    "        tf.keras.backend.clear_session()\n",
    "    lossMatrix.append(losses)\n",
    "    \n",
    "lossMatrix = np.array(lossMatrix)\n",
    "#run 100 times "
   ]
  },
  {
   "cell_type": "code",
   "execution_count": 70,
   "metadata": {},
   "outputs": [
    {
     "data": {
      "image/png": "[encoded data removed]",
      "text/plain": [
       "<Figure size 1080x360 with 1 Axes>"
      ]
     },
     "metadata": {
      "needs_background": "light"
     },
     "output_type": "display_data"
    }
   ],
   "source": [
    "avgMSE = np.average(lossMatrix, axis = 0)\n",
    "plt.plot(hidden, avgMSE);\n",
    "plt.xlabel(\"Latent Space Size\");\n",
    "plt.ylabel(\"MSE\");\n",
    "plt.title(\"MSE of the AutoEncoder with Respect to the Latent Space Size\");"
   ]
  },
  {
   "cell_type": "code",
   "execution_count": 71,
   "metadata": {},
   "outputs": [],
   "source": [
    "lm = pd.DataFrame(lossMatrix)\n",
    "lm.to_csv(\"lossmatrix4lisa.csv\")"
   ]
  },
  {
   "cell_type": "code",
   "execution_count": 72,
   "metadata": {},
   "outputs": [
    {
     "name": "stdout",
     "output_type": "stream",
     "text": [
      "(40, 23)\n"
     ]
    }
   ],
   "source": [
    "temp = pd.read_csv(\"lossmatrix4lisa.csv\").to_numpy()\n",
    "print(temp.shape)\n",
    "avgMSE = np.average(lossMatrix, axis=0)"
   ]
  },
  {
   "cell_type": "code",
   "execution_count": 73,
   "metadata": {},
   "outputs": [
    {
     "data": {
      "text/plain": [
       "[<matplotlib.lines.Line2D at 0x1ec16d3a370>]"
      ]
     },
     "execution_count": 73,
     "metadata": {},
     "output_type": "execute_result"
    },
    {
     "data": {
      "image/png": "[encoded data removed]",
      "text/plain": [
       "<Figure size 1080x360 with 1 Axes>"
      ]
     },
     "metadata": {
      "needs_background": "light"
     },
     "output_type": "display_data"
    }
   ],
   "source": [
    "plt.plot(hidden, avgMSE)"
   ]
  },
  {
   "cell_type": "markdown",
   "metadata": {},
   "source": [
    "# Lazy Kernels"
   ]
  },
  {
   "cell_type": "code",
   "execution_count": null,
   "metadata": {},
   "outputs": [],
   "source": [
    "def do_lazy_train(epochs=60, hidden = 32):\n",
    "    ep = epochs\n",
    "    hidden = [hidden,] #range(1,32)\n",
    "    lossMatrix = []\n",
    "    lazy_weights = []\n",
    "    dense = modelDense2(superParent, regulator_gene_matrix, NUM_TARGETS, NUM_TIME_STEPS, NUM_TARGETS, num_hidden_units=32)\n",
    "    dense.compile(optimizer='adam', loss=ignore_noParent_MSE)\n",
    "\n",
    "    #for i in tqdm(range(ep)):\n",
    "    for i in range(ep):\n",
    "        dense.fit(beanIntensities, beanIntensities, validation_data=(validation, validation), epochs=1,  verbose=0)\n",
    "        lazy_weights.append(dense.get_weights())\n",
    "        test = dense(validation) #, verbose = 0)\n",
    "        loss = ignore_noParent_MSE(validation, test)\n",
    "        lossMatrix.append(loss)\n",
    "        \n",
    "    lossMatrix = np.array(lossMatrix)\n",
    "    lazy_weights = np.array(lazy_weights)\n",
    "\n",
    "    return lossMatrix, lazy_weights"
   ]
  },
  {
   "cell_type": "code",
   "execution_count": null,
   "metadata": {},
   "outputs": [],
   "source": [
    "#https://proceedings.mlr.press/v162/rachwan22a/rachwan22a.pdf Winning the Lottery Ticket Ahead of Time:\n",
    "def lazyKernelRegime(w, parent_idx=parent_idx):\n",
    "\n",
    "    firstLayer = []\n",
    "    for i in range(len(w)):\n",
    "        firstLayer.append(w[i][0][parent_idx])\n",
    "\n",
    "    fL = np.array(firstLayer)    \n",
    "    d0 = np.square(fL[1] - fL[0])\n",
    "    kernelChange = []\n",
    "    for i in range(1,len(fL)):\n",
    "        dt = np.square(fL[i] - fL[0])\n",
    "        dt_minus1 = np.square(fL[i-1] - fL[0])   \n",
    "        d = np.abs(dt - dt_minus1)/d0                        #eq 11 from the paper\n",
    "        kernelChange.append(d)\n",
    "    \n",
    "    kernelChange = np.moveaxis(kernelChange, 0, 2)\n",
    "    # plt.plot(kernelChange[0][0]);\n",
    "    # plt.title(\"$|\\Delta W|$ vs Epoch\")\n",
    "    # plt.xlabel(\"Epoch\")\n",
    "    # plt.ylabel(\"$|\\Delta W|$\")\n",
    "\n",
    "    return np.array(  kernelChange)"
   ]
  },
  {
   "cell_type": "code",
   "execution_count": null,
   "metadata": {},
   "outputs": [],
   "source": [
    "def compute_distrib(change, t = .05, raw = False): #raw means return the unshaped indicies. \n",
    "    stop = []\n",
    "\n",
    "    for parent in range(len(change)):\n",
    "        for child in range(len(change[0])):\n",
    "            try:\n",
    "                stop.append(np.min(np.argwhere(change[parent][child] < t)))\n",
    "            except ValueError:\n",
    "                stop.append(len(change))\n",
    "                # print(parent, child)\n",
    "                # plt.plot(change[parent][child])\n",
    "                # assert(False)\n",
    "    # print(change.shape)\n",
    "    # assert(False)\n",
    "    \n",
    "    stop = np.array(stop).flatten()\n",
    "    # print(stop.shape)\n",
    "    var = np.std(stop)\n",
    "    # print(var)\n",
    "    # assert(False)\n",
    "    mean = np.average(stop)\n",
    "    top_parents = np.argwhere(stop > mean + 2*var) #get the parents which take more than 2 stds to stop training\n",
    "    top_parent_child = []\n",
    "    for tp in top_parents:\n",
    "        top_parent_child.append(np.unravel_index(tp, shape = (NUM_PARENTS, NUM_TARGETS)))\n",
    "\n",
    "    if raw == False:\n",
    "        plt.hist(stop)\n",
    "        plt.xlabel(\"Epoch where regulator-target-weight began changing by at most \"+ str(t));\n",
    "        plt.ylabel(\"Number of parent-child-weights\");\n",
    "        plt.title(\"Histogram of weight stops\");\n",
    "        print(\"average stop: \", mean);\n",
    "\n",
    "    if raw == True:\n",
    "        return np.array(top_parents)\n",
    "\n",
    "    return np.array(top_parent_child)"
   ]
  },
  {
   "cell_type": "code",
   "execution_count": null,
   "metadata": {},
   "outputs": [],
   "source": [
    "def lazyKernels(N=100):\n",
    "\n",
    "    candidates = []\n",
    "    final_w = []\n",
    "    for i in tqdm(range(N)):\n",
    "        lm, lazy_weights = do_lazy_train(epochs=80)\n",
    "        change = lazyKernelRegime(lazy_weights)\n",
    "        top_pr = np.squeeze(compute_distrib(change, t = 0.05, raw=True))\n",
    "        candidates.append(top_pr)\n",
    "        final_w.append(lazy_weights[-1])\n",
    "    \n",
    "    final_w = np.array(final_w)\n",
    "    firstLayer = []\n",
    "    for i in range(len(final_w)):\n",
    "        firstLayer.append(np.abs(final_w[i][0][parent_idx]))\n",
    "    fw = np.array(firstLayer)\n",
    "    #print(fw.shape)\n",
    "    fw_avg = np.average(fw, axis = 0)\n",
    "    #print(fw_avg.shape)\n",
    "    \n",
    "    candidates = np.hstack(candidates)\n",
    "    candidates = candidates.reshape(candidates.size)\n",
    "    #print(candidates.shape)\n",
    "\n",
    "    plt.hist(candidates, bins=np.arange(0, NUM_PARENTS*NUM_TARGETS))\n",
    "    plt.title(\"Parent-Child Regulator Histogram\")\n",
    "    plt.xlabel(\"Parent-Child Weight\")\n",
    "    plt.ylabel(\"Num-Times parent-child relationship trained for top 5% of time\")\n",
    "    return candidates, fw_avg\n",
    "\n"
   ]
  },
  {
   "cell_type": "code",
   "execution_count": null,
   "metadata": {},
   "outputs": [],
   "source": [
    "can, mag = lazyKernels()"
   ]
  },
  {
   "cell_type": "code",
   "execution_count": null,
   "metadata": {},
   "outputs": [],
   "source": [
    "can.shape"
   ]
  },
  {
   "cell_type": "code",
   "execution_count": null,
   "metadata": {},
   "outputs": [],
   "source": [
    "pdf, bins = np.histogram(can, np.arange(NUM_PARENTS*NUM_TARGETS))\n",
    "pdf"
   ]
  },
  {
   "cell_type": "code",
   "execution_count": null,
   "metadata": {},
   "outputs": [],
   "source": [
    "mag.shape"
   ]
  },
  {
   "cell_type": "markdown",
   "metadata": {},
   "source": [
    "# Magnitudes After Training"
   ]
  },
  {
   "cell_type": "code",
   "execution_count": null,
   "metadata": {},
   "outputs": [],
   "source": [
    "NUM_PARENTS*NUM_TARGETS"
   ]
  },
  {
   "cell_type": "code",
   "execution_count": null,
   "metadata": {},
   "outputs": [],
   "source": [
    "np.unravel_index(NUM_PARENTS*NUM_TARGETS, shape = (NUM_PARENTS, NUM_TARGETS))"
   ]
  },
  {
   "cell_type": "code",
   "execution_count": null,
   "metadata": {},
   "outputs": [],
   "source": [
    "def get_top_reg_targets(can, mag):\n",
    "    \n",
    "    pdf, bins = np.histogram(can, np.arange(0, NUM_PARENTS*NUM_TARGETS))\n",
    "    pdf2d = np.zeros(shape = (NUM_PARENTS,NUM_TARGETS))\n",
    "\n",
    "    for i in bins:\n",
    "      idx2d = np.unravel_index(i, shape = (NUM_PARENTS, NUM_TARGETS))\n",
    "      try:\n",
    "        pdf2d[idx2d] = pdf[i]\n",
    "      except IndexError:\n",
    "        print(i, idx2d, len(pdf), len(bins))\n",
    "    \n",
    "\n",
    "    importance = np.multiply(pdf2d, mag)\n",
    "    return importance"
   ]
  },
  {
   "cell_type": "code",
   "execution_count": null,
   "metadata": {},
   "outputs": [],
   "source": [
    "top = get_top_reg_targets(can, mag)"
   ]
  },
  {
   "cell_type": "code",
   "execution_count": null,
   "metadata": {},
   "outputs": [],
   "source": [
    "top.shape"
   ]
  },
  {
   "cell_type": "code",
   "execution_count": null,
   "metadata": {},
   "outputs": [],
   "source": [
    "np.max(top)"
   ]
  },
  {
   "cell_type": "code",
   "execution_count": null,
   "metadata": {},
   "outputs": [],
   "source": [
    "top[6][122]"
   ]
  },
  {
   "cell_type": "code",
   "execution_count": null,
   "metadata": {},
   "outputs": [],
   "source": [
    "u = plt.imshow(top, cmap = 'inferno', vmin = 0, vmax = np.max(top));\n",
    "plt.colorbar(u ,fraction=0.0086, pad=0.02);\n",
    "plt.title(\"The Most Important Regulator-Target Combinations\");"
   ]
  },
  {
   "cell_type": "code",
   "execution_count": null,
   "metadata": {},
   "outputs": [],
   "source": [
    "topID = np.array(np.unravel_index(np.argsort(top, axis=None), top.shape))\n",
    "topID = np.flip(topID, axis=1)\n",
    "topID[0] = parent_idx[topID[0]]\n",
    "topID = topID.T\n",
    "topID"
   ]
  },
  {
   "cell_type": "code",
   "execution_count": null,
   "metadata": {},
   "outputs": [],
   "source": [
    "# topR_T = pd.DataFrame(topID)\n",
    "# topR_T.to_csv(\"Top_reg_target_decendingOrder_firstColIsRegulator.csv\")"
   ]
  },
  {
   "cell_type": "code",
   "execution_count": null,
   "metadata": {},
   "outputs": [],
   "source": [
    "best = np.zeros(NUM_PARENTS)\n",
    "for i in range(NUM_PARENTS):\n",
    "    best[i] = np.sum(top[i])\n",
    "best"
   ]
  },
  {
   "cell_type": "code",
   "execution_count": null,
   "metadata": {},
   "outputs": [],
   "source": [
    "x = np.arange(0,NUM_PARENTS, dtype=int)\n",
    "plt.plot(x, best); "
   ]
  },
  {
   "cell_type": "code",
   "execution_count": null,
   "metadata": {},
   "outputs": [],
   "source": [
    "idx = np.flip(np.argsort(best))\n",
    "idx"
   ]
  },
  {
   "cell_type": "code",
   "execution_count": null,
   "metadata": {},
   "outputs": [],
   "source": [
    "parent_idx[idx] "
   ]
  },
  {
   "cell_type": "code",
   "execution_count": null,
   "metadata": {},
   "outputs": [],
   "source": [
    "np.unique(can).size"
   ]
  },
  {
   "cell_type": "markdown",
   "metadata": {},
   "source": [
    "# Inference on Petal Len"
   ]
  },
  {
   "cell_type": "code",
   "execution_count": null,
   "metadata": {},
   "outputs": [],
   "source": [
    "petal = pd.read_excel(data_path_petal)"
   ]
  },
  {
   "cell_type": "code",
   "execution_count": null,
   "metadata": {},
   "outputs": [],
   "source": [
    "petal_train = petal[petal[\"Line\"] == \"WT\"]\n",
    "petal_train = petal_train.drop(columns=['Line', 'ID', \"Treatment\"])\n",
    "petal_train.head(12)\n",
    "petal_train = petal_train.groupby(['Plate']).mean()\n",
    "petal_train.head()\n",
    "petal_train = petal_train.to_numpy()\n",
    "print(petal_train.shape)\n",
    "scaler1 = StandardScaler()\n",
    "scaler1.fit(petal_train)\n",
    "petal_train = scaler1.transform(petal_train)\n",
    "mm = MinMaxScaler()\n",
    "mm.fit(petal_train)\n",
    "petal_train = mm.transform(petal_train)\n",
    "petal_train"
   ]
  },
  {
   "cell_type": "code",
   "execution_count": null,
   "metadata": {},
   "outputs": [],
   "source": [
    "petal_test = petal[petal[\"Line\"] != \"WT\"]\n",
    "petal_test = petal_test.drop(columns=['Line', 'ID', \"Treatment\"])\n",
    "petal_test = petal_test.groupby(['Plate']).mean()\n",
    "petal_test.head()\n",
    "petal_test = petal_test.to_numpy()\n",
    "print(petal_test.shape)\n",
    "petal_test = scaler1.transform(petal_test)\n",
    "petal_test = mm.transform(petal_test)\n",
    "petal_test"
   ]
  },
  {
   "cell_type": "code",
   "execution_count": null,
   "metadata": {},
   "outputs": [],
   "source": [
    "experiment1.shape\n",
    "testCandidate.shape"
   ]
  },
  {
   "cell_type": "code",
   "execution_count": null,
   "metadata": {},
   "outputs": [],
   "source": [
    "densePredictor = modelDense2(superParent, regulator_gene_matrix, NUM_TARGETS, 6, NUM_TARGETS, 22)\n",
    "densePredictor.compile(optimizer='adam', loss=ignore_noParent_MSE)\n",
    "densePredictor.fit(beanIntensities, beanIntensities,validation_data=(experiment1, experiment1),  epochs=100,  verbose=1)\n",
    "test = densePredictor(testCandidate) #, verbose = 0)\n",
    "loss = ignore_noParent_MSE(testCandidate, test)\n",
    "print(loss)"
   ]
  },
  {
   "cell_type": "code",
   "execution_count": null,
   "metadata": {},
   "outputs": [],
   "source": [
    "rgm = superParent\n",
    "time_steps = 6\n",
    "num_kinase_regulators = NUM_TARGETS\n",
    "num_hidden_units = 22\n",
    "\n",
    "inp = Input(shape=(time_steps, num_kinase_regulators))\n",
    "x = DenseEncoderLinear2(rgm, regulator_gene_matrix, NUM_TARGETS, NUM_TARGETS)(inp)\n",
    "enc = denseencoder2(x, inp, num_hidden_units)\n",
    "denseP = tf.keras.Model(inputs=inp, outputs=enc)\n",
    "#set the weights of the encoder to the weights of auto encoder\n",
    "dw = densePredictor.get_weights()\n",
    "enc_w = dw[0:5]\n",
    "denseP.set_weights(enc_w)\n",
    "#add a dense layer  because we are ouputing 1 number\n",
    "l = Dense(32, activation = 'swish', use_bias=True, kernel_regularizer='l1_l2')(denseP.layers[-1].output)\n",
    "l = Dense(1, activation = 'linear', use_bias = True)(l)\n",
    "denseP = tf.keras.Model(denseP.inputs, l)\n",
    "#denseP.summary()"
   ]
  },
  {
   "cell_type": "code",
   "execution_count": null,
   "metadata": {},
   "outputs": [],
   "source": [
    "bp = np.concatenate([experiment1, experiment1, experiment1, experiment1])\n",
    "bp.shape\n",
    "#bigexperiment1.shape"
   ]
  },
  {
   "cell_type": "code",
   "execution_count": null,
   "metadata": {},
   "outputs": [],
   "source": [
    "a = petal_train[0]\n",
    "b = petal_train[1]\n",
    "c = petal_train[2]\n",
    "d = petal_train[3]\n",
    "\n",
    "petal_train1 = np.array([a,a,a,a, b,b,b,b, c,c,c,c, d,d,d,d]) #does this make sense? we are training network to predict .5\n",
    "petal_train1.shape"
   ]
  },
  {
   "cell_type": "code",
   "execution_count": null,
   "metadata": {},
   "outputs": [],
   "source": [
    "denseP.compile(optimizer='adam', loss=tf.keras.losses.MeanSquaredError())\n",
    "denseP.fit(experiment1, petal_train, epochs=500, verbose = 1)"
   ]
  },
  {
   "cell_type": "code",
   "execution_count": null,
   "metadata": {},
   "outputs": [],
   "source": [
    "testCandidate.shape"
   ]
  },
  {
   "cell_type": "code",
   "execution_count": null,
   "metadata": {},
   "outputs": [],
   "source": [
    "denseP(experiment1) #experiment1 is part of the training set."
   ]
  },
  {
   "cell_type": "code",
   "execution_count": null,
   "metadata": {},
   "outputs": [],
   "source": [
    "petal_train"
   ]
  },
  {
   "cell_type": "code",
   "execution_count": null,
   "metadata": {},
   "outputs": [],
   "source": [
    "print(denseP(testCandidate)) #model output"
   ]
  },
  {
   "cell_type": "code",
   "execution_count": null,
   "metadata": {},
   "outputs": [],
   "source": [
    "petal_test #true label"
   ]
  },
  {
   "cell_type": "code",
   "execution_count": null,
   "metadata": {},
   "outputs": [],
   "source": [
    "petal_train"
   ]
  },
  {
   "cell_type": "code",
   "execution_count": null,
   "metadata": {},
   "outputs": [],
   "source": [
    "denseP.evaluate(testCandidate, petal_test) #eval gave 1.3999 before"
   ]
  },
  {
   "cell_type": "markdown",
   "metadata": {},
   "source": [
    "# Junk"
   ]
  },
  {
   "cell_type": "markdown",
   "metadata": {},
   "source": [
    "# Load the test set and the synthetic dataset:\n"
   ]
  },
  {
   "cell_type": "code",
   "execution_count": null,
   "metadata": {},
   "outputs": [],
   "source": [
    "def loadTestSet(test_path):\n",
    "    testFiles = []\n",
    "    for np_name in glob(os.path.join(data_path_testSet,'*.np[yz]')):\n",
    "        k = np.load(os.path.join(data_path_testSet,np_name))\n",
    "        testFiles.append(k)\n",
    "#         print(np_name)\n",
    "#         print(k.shape)\n",
    "    return np.array(testFiles)"
   ]
  },
  {
   "cell_type": "code",
   "execution_count": null,
   "metadata": {
    "id": "_PKjzdFCMwFg"
   },
   "outputs": [],
   "source": [
    "def read_files(data_path):\n",
    "\n",
    "    #genes_intensities_data_matrix = pd.read_csv(file_path_intensities, index_col = 0)\n",
    "    #print(os.listdir(data_path))\n",
    "    replicate_files = os.listdir(data_path)\n",
    "    #print('replicate files:',replicate_files)\n",
    "    replicates = []\n",
    "    # i = 0\n",
    "    for file in replicate_files:\n",
    "        \n",
    "        try:\n",
    "            #print('file name:',file)\n",
    "            #print('value of i:',i)\n",
    "            genes_intensities_data_matrix = pd.read_csv(os.path.join(data_path , file), index_col = 0, on_bad_lines='skip')\n",
    "            #print('genes_intensities_data_matrix:',  genes_intensities_data_matrix.head())\n",
    "            replicates.append(np.array(genes_intensities_data_matrix.values, dtype = float))\n",
    "            # i+=1\n",
    "        except PermissionError:\n",
    "            print(\"Not a CSV: \", os.path.join(data_path , file))\n",
    "        \n",
    "    genes_intensities_data_matrix = genes_intensities_data_matrix.values\n",
    "    rgm = np.loadtxt(matrix_path)\n",
    "    rep = np.array(replicates).astype(np.float32)\n",
    "    \n",
    "    return rep, rgm.astype(np.float32)"
   ]
  },
  {
   "cell_type": "code",
   "execution_count": null,
   "metadata": {
    "id": "JCwo4LwlO_FF"
   },
   "outputs": [],
   "source": [
    "beanIntensities, regulator_gene_matrix= read_files(data_path_syn)\n",
    "matrix = regulator_gene_matrix\n",
    "replicates = beanIntensities"
   ]
  },
  {
   "cell_type": "code",
   "execution_count": null,
   "metadata": {},
   "outputs": [],
   "source": [
    "matrix.shape"
   ]
  },
  {
   "cell_type": "code",
   "execution_count": null,
   "metadata": {},
   "outputs": [],
   "source": [
    "replicates.shape"
   ]
  },
  {
   "cell_type": "code",
   "execution_count": null,
   "metadata": {},
   "outputs": [],
   "source": [
    "plt.imshow(matrix)"
   ]
  },
  {
   "cell_type": "code",
   "execution_count": null,
   "metadata": {},
   "outputs": [],
   "source": []
  },
  {
   "cell_type": "code",
   "execution_count": null,
   "metadata": {},
   "outputs": [],
   "source": [
    "d = np.zeros(shape = (3,6,8))\n",
    "id = np.unravel_index(3*6*8 - 1, shape = d.shape)\n",
    "d[id] = 1\n",
    "plt.imshow(d[2])"
   ]
  },
  {
   "cell_type": "code",
   "execution_count": null,
   "metadata": {},
   "outputs": [],
   "source": [
    "testCandidate[0][ : , parentIndex]"
   ]
  },
  {
   "cell_type": "code",
   "execution_count": null,
   "metadata": {},
   "outputs": [],
   "source": [
    "print(outSyn.shape)\n",
    "print(testCandidate.shape)\n",
    "syntheticLoss = ignore_noParent_MSE(np.array([testCandidate[0]]), np.array([outSyn[0]]) )\n",
    "syntheticLoss"
   ]
  },
  {
   "cell_type": "code",
   "execution_count": null,
   "metadata": {},
   "outputs": [],
   "source": [
    "dd"
   ]
  },
  {
   "cell_type": "code",
   "execution_count": null,
   "metadata": {},
   "outputs": [],
   "source": [
    "plt.plot(change[0][22])\n",
    "plt.xlabel(\"epoch\")\n",
    "plt.ylabel(\"change in weight\")"
   ]
  },
  {
   "cell_type": "code",
   "execution_count": null,
   "metadata": {},
   "outputs": [],
   "source": [
    "plt.plot(lossMatrix)\n",
    "plt.xlabel(\"epochs\")\n",
    "plt.ylabel(\"MSE\")"
   ]
  },
  {
   "cell_type": "code",
   "execution_count": null,
   "metadata": {},
   "outputs": [],
   "source": [
    "print(change.shape, lossMatrix.shape)"
   ]
  },
  {
   "cell_type": "code",
   "execution_count": null,
   "metadata": {},
   "outputs": [],
   "source": [
    "d = np.diff(change[0][22])\n",
    "plt.plot(d)\n",
    "d.shape"
   ]
  },
  {
   "cell_type": "code",
   "execution_count": null,
   "metadata": {},
   "outputs": [],
   "source": [
    "change[0][0].flatten()"
   ]
  },
  {
   "cell_type": "code",
   "execution_count": null,
   "metadata": {},
   "outputs": [],
   "source": [
    "top_pr.shape"
   ]
  },
  {
   "cell_type": "code",
   "execution_count": null,
   "metadata": {},
   "outputs": [],
   "source": [
    "plt.plot(d[0])"
   ]
  },
  {
   "cell_type": "code",
   "execution_count": null,
   "metadata": {},
   "outputs": [],
   "source": [
    "\n",
    "# def compute_tresh(change, stop = 0.05):\n",
    "#     diffs = []\n",
    "#     for parent in range(len(change)):\n",
    "#         for child in range(len(change[0])):\n",
    "#             diffs.append(np.diff(change[parent][child]))\n",
    "#     inflection = []\n",
    "\n",
    "\n",
    "#     try:\n",
    "#         for d in diffs:\n",
    "#             print(np.argwhere(np.abs(d) < stop))\n",
    "#             inflection.append(np.min(np.argwhere(np.abs(d) < stop))) #return where the second derivative is first 0. \n",
    "\n",
    "#     except ValueError:\n",
    "#         print(\"Stop value \", stop, \" is too high, trying stop = \", stop + 0.05)\n",
    "#         # s = stop + 0.05\n",
    "#         # return compute_tresh(change, stop = s)\n",
    "        \n",
    "\n",
    "#     return np.average(inflection)\n",
    "        \n",
    "# d = compute_tresh(change)\n",
    "# d.shape"
   ]
  },
  {
   "cell_type": "code",
   "execution_count": null,
   "metadata": {},
   "outputs": [],
   "source": [
    "#np.save(\"mse3.npy\", avgMSE) #mse2/3 is with -1 fix"
   ]
  },
  {
   "cell_type": "code",
   "execution_count": null,
   "metadata": {},
   "outputs": [],
   "source": [
    "#https://www.sciencedirect.com/science/article/pii/S0925231220314570?casa_token=lcEJANqO0JwAAAAA:uL3DGUZctPUZz_sPz1K1i2klMtb83TyKnc9CI3_N-uSOaM7VHL8GhM0jCGYfo25NmpDQQ9Cvlw"
   ]
  },
  {
   "cell_type": "code",
   "execution_count": null,
   "metadata": {},
   "outputs": [],
   "source": [
    "rshp = Flatten()(looseParent.layers[-1].output)\n",
    "\n",
    "modelTemp = tf.keras.Model(inputs=looseParent.input, outputs = [rshp])\n",
    "modelTemp.summary()\n",
    "type(modelTemp)\n",
    "explainer = shap.DeepExplainer(modelTemp, syntheticDataTrain)\n",
    "#shap.explainers._deep.deep_tf.op_handlers[\"AddV2\"] = shap.explainers._deep.deep_tf.passthrough #this solves the \"shap_ADDV2\" problem but another one will appear\n",
    "#shap.explainers._deep.deep_tf.op_handlers[\"FusedBatchNormV3\"] = shap.explainers._deep.deep_tf.passthrough #this solves the next problem which allows you to run the DeepExplainer.\n",
    "\n",
    "shap_values = explainer.shap_values(testCandidate[0:1])\n",
    "def f(x):\n",
    "    return modelTemp.predict(x)\n",
    "\n",
    "print(f(testCandidate))\n",
    "explainer = shap.KernelExplainer(f , testCandidate[0:1], link=\"logit\") #svm.predict_proba, X_train, link=\"logit\")\n",
    "shap_values = explainer.shap_values(testCandidate[0:1], nsamples=100)\n",
    "def map2layer(x, layer):\n",
    "    feed_dict = dict(zip([model.layers[0].input], [preprocess_input(x.copy())]))\n",
    "    return K.get_session().run(model.layers[layer].input, feed_dict)\n",
    "e = shap.GradientExplainer(\n",
    "    (model.layers[7].input, model.layers[-1].output),\n",
    "    map2layer(X, 7),\n",
    "    local_smoothing=0 # std dev of smoothing noise\n",
    ")\n",
    "from keras.applications.vgg16 import VGG16\n",
    "from keras.applications.vgg16 import preprocess_input\n",
    "import keras.backend as K\n",
    "import numpy as np\n",
    "import json\n",
    "import shap\n",
    "\n",
    "# load pre-trained model and choose two images to explain\n",
    "model = VGG16(weights='imagenet', include_top=True)\n",
    "X,y = shap.datasets.imagenet50()\n",
    "to_explain = X[[39,41]]\n",
    "\n",
    "# load the ImageNet class names\n",
    "url = \"https://s3.amazonaws.com/deep-learning-models/image-models/imagenet_class_index.json\"\n",
    "fname = shap.datasets.cache(url)\n",
    "with open(fname) as f:\n",
    "    class_names = json.load(f)\n",
    "\n",
    "# explain how the input to the 7th layer of the model explains the top two classes\n",
    "def map2layer(x, layer):\n",
    "    feed_dict = dict(zip([model.layers[0].input], [preprocess_input(x.copy())]))\n",
    "    return K.get_session().run(model.layers[layer].input, feed_dict)\n",
    "e = shap.GradientExplainer(\n",
    "    (model.layers[7].input, model.layers[-1].output),\n",
    "    map2layer(X, 7),\n",
    "    local_smoothing=0 # std dev of smoothing noise\n",
    ")\n",
    "shap_values,indexes = e.shap_values(map2layer(to_explain, 7), ranked_outputs=2)\n",
    "\n",
    "# get the names for the classes\n",
    "index_names = np.vectorize(lambda x: class_names[str(x)][1])(indexes)\n",
    "\n",
    "# plot the explanations\n",
    "shap.image_plot(shap_values, to_explain, index_names)"
   ]
  },
  {
   "cell_type": "code",
   "execution_count": null,
   "metadata": {},
   "outputs": [],
   "source": [
    "type(enc_dec_Synthetic)"
   ]
  },
  {
   "cell_type": "code",
   "execution_count": null,
   "metadata": {},
   "outputs": [],
   "source": [
    "a = [1,2,3]\n",
    "b = [5,6]\n",
    "u = tf.concat([a,b], axis = 0)\n",
    "u"
   ]
  },
  {
   "cell_type": "code",
   "execution_count": null,
   "metadata": {},
   "outputs": [],
   "source": [
    "newConnections = superParent - regulator_gene_matrix"
   ]
  },
  {
   "cell_type": "code",
   "execution_count": null,
   "metadata": {},
   "outputs": [],
   "source": [
    "plt.imshow(newConnections)"
   ]
  },
  {
   "cell_type": "code",
   "execution_count": null,
   "metadata": {},
   "outputs": [],
   "source": [
    "# nC = []\n",
    "# for i in range(len(newConnections[0])):\n",
    "#     for j in range(len(newConnections[1])):\n",
    "#         if newConnections[i][j] > 0:\n",
    "#             nC.append([i,j])\n",
    "# nC = np.array(nC)\n",
    "# nC = pd.DataFrame(nC)\n",
    "# nC.to_csv(\"new_connections_in_superParents.csv\")"
   ]
  },
  {
   "cell_type": "code",
   "execution_count": null,
   "metadata": {},
   "outputs": [],
   "source": []
  },
  {
   "cell_type": "code",
   "execution_count": null,
   "metadata": {},
   "outputs": [],
   "source": []
  },
  {
   "cell_type": "code",
   "execution_count": null,
   "metadata": {},
   "outputs": [],
   "source": [
    "###Code for testing loss function\n",
    "# print(outSyn.shape)\n",
    "# print(testCandidate.shape)\n",
    "# syntheticLoss = ignore_noParent_MSE(np.array([testCandidate[0]]), np.array([outSyn[0]]) )\n",
    "# syntheticLoss"
   ]
  },
  {
   "cell_type": "markdown",
   "metadata": {},
   "source": [
    "# Synthetic Dataset Auto Encoder\n",
    "Autoencoder has not been trained on synthetic version of experiement 1. We test on the original experiment 1. "
   ]
  },
  {
   "cell_type": "code",
   "execution_count": null,
   "metadata": {
    "id": "WrRuJ_bsrHll"
   },
   "outputs": [],
   "source": [
    "enc_dec_Synthetic.compile(optimizer='adam', loss=ignore_noParent_MSE)"
   ]
  },
  {
   "cell_type": "code",
   "execution_count": null,
   "metadata": {
    "id": "yAOZEEvRRVU4"
   },
   "outputs": [],
   "source": [
    "# enc_dec_Synthetic.compile(optimizer='adam',loss = keras.losses.SparseCategoricalCrossentropy(from_logits=True))"
   ]
  },
  {
   "cell_type": "code",
   "execution_count": null,
   "metadata": {},
   "outputs": [],
   "source": [
    "syntheticDataTrain = beanIntensities[1:]"
   ]
  },
  {
   "cell_type": "code",
   "execution_count": null,
   "metadata": {
    "colab": {
     "base_uri": "https://localhost:8080/"
    },
    "executionInfo": {
     "elapsed": 726,
     "status": "ok",
     "timestamp": 1649273035573,
     "user": {
      "displayName": "Sahil Anish Palarpwar",
      "userId": "17757512684560375750"
     },
     "user_tz": 240
    },
    "id": "EuNDZx5Ov34I",
    "outputId": "74597aa1-c71c-4491-b8c9-4fefed309325"
   },
   "outputs": [],
   "source": [
    "enc_dec_Synthetic.fit(syntheticDataTrain,syntheticDataTrain,epochs=1000)"
   ]
  },
  {
   "cell_type": "code",
   "execution_count": null,
   "metadata": {},
   "outputs": [],
   "source": [
    "test = enc_dec_Synthetic(testCandidate) #, verbose = 0)\n",
    "loss = ignore_noParent_MSE(testCandidate, test)\n",
    "loss"
   ]
  },
  {
   "cell_type": "code",
   "execution_count": null,
   "metadata": {},
   "outputs": [],
   "source": [
    "w = enc_dec_Synthetic.get_weights()"
   ]
  },
  {
   "cell_type": "code",
   "execution_count": null,
   "metadata": {},
   "outputs": [],
   "source": [
    "plt.imshow(w[0], cmap = \"hot\", vmin=0,vmax=0.02)"
   ]
  },
  {
   "cell_type": "code",
   "execution_count": null,
   "metadata": {
    "id": "SBzDmjqJViEw",
    "scrolled": true
   },
   "outputs": [],
   "source": [
    "#we do not need to use this function for the testset\n",
    "def getCSVs(data_path_head):\n",
    "    PATH = data_path_head\n",
    "    EXT = \"*.csv\"\n",
    "    all_csv_files = [file\n",
    "                     for path, subdir, files in os.walk(PATH)\n",
    "                     for file in glob(os.path.join(path, EXT))]\n",
    "    actual = []\n",
    "    for p in all_csv_files:\n",
    "        actual.append(pd.read_csv(p, index_col = 0).to_numpy())\n",
    "    return np.array(actual)\n",
    "    \n",
    "experiment1 = getCSVs(data_path_og_exp1)"
   ]
  },
  {
   "cell_type": "code",
   "execution_count": null,
   "metadata": {},
   "outputs": [],
   "source": [
    "testCandidate = test.numpy().astype(np.float)"
   ]
  },
  {
   "cell_type": "code",
   "execution_count": null,
   "metadata": {},
   "outputs": [],
   "source": [
    "testCandidate.dtype"
   ]
  },
  {
   "cell_type": "code",
   "execution_count": null,
   "metadata": {},
   "outputs": [],
   "source": [
    "np.array([beanIntensities[0]]).shape"
   ]
  },
  {
   "cell_type": "code",
   "execution_count": null,
   "metadata": {},
   "outputs": [],
   "source": [
    "testCandidate[0].shape"
   ]
  },
  {
   "cell_type": "code",
   "execution_count": null,
   "metadata": {},
   "outputs": [],
   "source": [
    "np.array([beanIntensities[0]]).shape"
   ]
  },
  {
   "cell_type": "code",
   "execution_count": null,
   "metadata": {},
   "outputs": [],
   "source": [
    "outSyn = enc_dec_Synthetic.predict(testCandidate)"
   ]
  },
  {
   "cell_type": "code",
   "execution_count": null,
   "metadata": {},
   "outputs": [],
   "source": [
    "def mymagn(A, B):\n",
    "    mse = (np.square(A - B)).mean(axis=None)\n",
    "    return mse"
   ]
  },
  {
   "cell_type": "code",
   "execution_count": null,
   "metadata": {},
   "outputs": [],
   "source": [
    "print(outSyn.shape)"
   ]
  },
  {
   "cell_type": "code",
   "execution_count": null,
   "metadata": {},
   "outputs": [],
   "source": [
    "syntheticLoss = ignore_noParent_MSE(testCandidate, outSyn )\n",
    "syntheticLoss"
   ]
  },
  {
   "cell_type": "code",
   "execution_count": null,
   "metadata": {},
   "outputs": [],
   "source": [
    "(outSyn-testCandidate).shape"
   ]
  },
  {
   "cell_type": "code",
   "execution_count": null,
   "metadata": {},
   "outputs": [],
   "source": [
    "#!pip3 install keras-visualizer\n",
    "#!pip install pydot\n",
    "#data_path_og_exp1 = data_path_testSet \n",
    "# !pip install pydot\n",
    "# !pip install pydotplus\n",
    "# !pip install graphviz"
   ]
  },
  {
   "cell_type": "code",
   "execution_count": null,
   "metadata": {},
   "outputs": [],
   "source": [
    "# test = loadTestSet(data_path_testSet)\n",
    "# testCandidate = test.astype(np.float)\n"
   ]
  },
  {
   "cell_type": "code",
   "execution_count": null,
   "metadata": {
    "id": "nPRV0OAMpKPH"
   },
   "outputs": [],
   "source": [
    "enc_dec_Synthetic = model(regulator_gene_matrix, NUM_TARGETS, NUM_TIME_STEPS, NUM_TARGETS) #we can just change the time steps to something higher"
   ]
  },
  {
   "cell_type": "code",
   "execution_count": null,
   "metadata": {
    "colab": {
     "base_uri": "https://localhost:8080/"
    },
    "executionInfo": {
     "elapsed": 13,
     "status": "ok",
     "timestamp": 1649273028683,
     "user": {
      "displayName": "Sahil Anish Palarpwar",
      "userId": "17757512684560375750"
     },
     "user_tz": 240
    },
    "id": "D6aPT5_cpKK0",
    "outputId": "c261d824-0f38-4eee-b139-f03a80f093e1"
   },
   "outputs": [],
   "source": [
    "enc_dec_Synthetic.summary()"
   ]
  },
  {
   "cell_type": "markdown",
   "metadata": {},
   "source": [
    "# Interpolated dataset Auto Encoder\n",
    "Once again, we do not train on any version of exp1"
   ]
  },
  {
   "cell_type": "code",
   "execution_count": null,
   "metadata": {},
   "outputs": [],
   "source": [
    "def read_filesV2(data_path):\n",
    "    '''\n",
    "    *Changed*\n",
    "    currently hardcoded for only one file. \n",
    "    change code a bit for reading multiple files.\n",
    "    '''\n",
    "    #genes_intensities_data_matrix = pd.read_csv(file_path_intensities, index_col = 0)\n",
    "    #print(os.listdir(data_path))\n",
    "    replicate_files = os.listdir(data_path)\n",
    "    #print('replicate files:',replicate_files)\n",
    "    replicates = []\n",
    "    # i = 0\n",
    "    for file in replicate_files:\n",
    "        \n",
    "        #print('file name:',file)\n",
    "        #print('value of i:',i)\n",
    "        genes_intensities_data_matrix = pd.read_csv(os.path.join(data_path , file), index_col = 0, on_bad_lines='skip')\n",
    "        #print('genes_intensities_data_matrix:',  genes_intensities_data_matrix.head())\n",
    "        replicates.append(genes_intensities_data_matrix.values)\n",
    "        # i+=1\n",
    "        \n",
    "    genes_intensities_data_matrix = genes_intensities_data_matrix.values\n",
    "    rgm = np.loadtxt(matrix_path)\n",
    "    \n",
    "    return np.asarray(replicates), rgm.astype(np.float32)"
   ]
  },
  {
   "cell_type": "code",
   "execution_count": null,
   "metadata": {},
   "outputs": [],
   "source": [
    "interpolated_genes, _ = read_filesV2(data_path_inter)"
   ]
  },
  {
   "cell_type": "code",
   "execution_count": null,
   "metadata": {},
   "outputs": [],
   "source": [
    "interpolated_genes.shape"
   ]
  },
  {
   "cell_type": "code",
   "execution_count": null,
   "metadata": {},
   "outputs": [],
   "source": [
    "pd.DataFrame(interpolated_genes[2]).head(5)"
   ]
  },
  {
   "cell_type": "code",
   "execution_count": null,
   "metadata": {},
   "outputs": [],
   "source": [
    "inter = []\n",
    "for k in range(len(interpolated_genes)):\n",
    "    #print(k)\n",
    "    if k == 2 or k == 3 or k == 4:\n",
    "        inter.append(np.reshape(interpolated_genes[k], (4,6,NUM_TARGETS)))\n",
    "    else: \n",
    "        inter.append(np.reshape(interpolated_genes[k], (5,6,NUM_TARGETS)))\n",
    "inter = np.vstack(inter)"
   ]
  },
  {
   "cell_type": "code",
   "execution_count": null,
   "metadata": {},
   "outputs": [],
   "source": [
    "inter.shape"
   ]
  },
  {
   "cell_type": "code",
   "execution_count": null,
   "metadata": {},
   "outputs": [],
   "source": [
    "beanIntensities[1:].shape"
   ]
  },
  {
   "cell_type": "code",
   "execution_count": null,
   "metadata": {},
   "outputs": [],
   "source": [
    "enc_dec_inter = model(regulator_gene_matrix, NUM_TARGETS, 6, NUM_TARGETS) \n",
    "enc_dec_inter.compile(optimizer='adam', loss=ignore_noParent_MSE)"
   ]
  },
  {
   "cell_type": "code",
   "execution_count": null,
   "metadata": {},
   "outputs": [],
   "source": [
    "enc_dec_inter.fit(inter, inter,epochs=1000);"
   ]
  },
  {
   "cell_type": "code",
   "execution_count": null,
   "metadata": {},
   "outputs": [],
   "source": [
    "outInter = enc_dec_inter.predict(testCandidate)\n",
    "interpolationLoss = ignore_noParent_MSE(testCandidate, outInter)"
   ]
  },
  {
   "cell_type": "code",
   "execution_count": null,
   "metadata": {},
   "outputs": [],
   "source": [
    "interpolationLoss #used to be 3.84 on broke ignore"
   ]
  },
  {
   "cell_type": "code",
   "execution_count": null,
   "metadata": {},
   "outputs": [],
   "source": [
    "outInter.shape"
   ]
  },
  {
   "cell_type": "code",
   "execution_count": null,
   "metadata": {},
   "outputs": [],
   "source": [
    "u = enc_dec_inter.history\n",
    "u"
   ]
  },
  {
   "cell_type": "markdown",
   "metadata": {},
   "source": [
    "# Comparisons between various outputs:"
   ]
  },
  {
   "cell_type": "code",
   "execution_count": null,
   "metadata": {},
   "outputs": [],
   "source": [
    "u = plt.imshow(np.reshape((np.abs(outSyn)), (24,NUM_TARGETS)), cmap = \"hot\", vmin=0,vmax=1.0 );"
   ]
  },
  {
   "cell_type": "code",
   "execution_count": null,
   "metadata": {},
   "outputs": [],
   "source": [
    "u = pd.DataFrame(outSyn[0])\n",
    "u.head(10)"
   ]
  },
  {
   "cell_type": "code",
   "execution_count": null,
   "metadata": {},
   "outputs": [],
   "source": [
    "u = pd.DataFrame(testCandidate[0])\n",
    "u.head(10)"
   ]
  },
  {
   "cell_type": "code",
   "execution_count": null,
   "metadata": {
    "scrolled": true
   },
   "outputs": [],
   "source": [
    "plt.figure(figsize=(50, 50))\n",
    "u = plt.imshow(np.reshape((np.abs(outSyn-outInter)), (24,NUM_TARGETS)), cmap = \"hot\")#, vmin=0,vmax=1.0 );\n",
    "plt.title(\"Difference Between the Outputs of Both Autoencoders\", fontsize = 40);\n",
    "plt.xlabel(\"Phosphopeptide\", fontsize = 30);\n",
    "plt.ylabel(\"Times Concatenated\", fontsize = 30);\n",
    "plt.colorbar(u ,fraction=0.0046, pad=0.02);\n",
    "#plt.savefig(\"DiffBetweenOut.png\")"
   ]
  },
  {
   "cell_type": "code",
   "execution_count": null,
   "metadata": {},
   "outputs": [],
   "source": [
    "plt.figure(figsize=(50, 50))\n",
    "u = plt.imshow(np.reshape(np.abs(outInter-experiment1), (24,NUM_TARGETS)) , cmap = \"hot\") #, vmin=0,vmax=1.0 )\n",
    "plt.title(\"Difference Between the Input and Output of the Autoencoder Trained on Interpolated Data\", fontsize = 40);\n",
    "plt.xlabel(\"Phosphopeptide\", fontsize = 30)\n",
    "plt.ylabel(\"Times Concatenated\", fontsize = 30);\n",
    "plt.colorbar(u ,fraction=0.0046, pad=0.02);\n",
    "#plt.savefig(\"InterDiffImage.png\")"
   ]
  },
  {
   "cell_type": "code",
   "execution_count": null,
   "metadata": {},
   "outputs": [],
   "source": [
    "plt.figure(figsize=(50, 50))\n",
    "u = plt.imshow(np.reshape(np.abs(outSyn-experiment1), (24,NUM_TARGETS)), cmap = \"hot\")#, vmin=0,vmax=1.0 )\n",
    "plt.title(\"Difference Between the Input and Output of the Autoencoder Trained on Synthetic Data\", fontsize = 40);\n",
    "plt.xlabel(\"Phosphopeptide\", fontsize = 30);\n",
    "plt.ylabel(\"Times Concatenated\", fontsize = 30);\n",
    "plt.colorbar(u ,fraction=0.0046, pad=0.02);\n",
    "#plt.savefig(\"SynDiffImage.png\");"
   ]
  },
  {
   "cell_type": "code",
   "execution_count": null,
   "metadata": {},
   "outputs": [],
   "source": [
    "parent_idx = parentIndex.numpy()\n",
    "#print(parent_idx)\n",
    "oSyn = (np.reshape((outSyn), (24,NUM_TARGETS)).T)[parent_idx]\n",
    "oSyn = oSyn.T\n",
    "oSyn.shape\n",
    "\n",
    "exp1_col = (np.reshape((experiment1), (24,NUM_TARGETS)).T)[parent_idx]\n",
    "exp1_col = exp1_col.T\n",
    "print(exp1_col.shape)\n",
    "\n",
    "u = plt.imshow(np.abs(oSyn - exp1_col), cmap = 'hot') #TODO use TF loss function instead of difference.\n",
    "ddff = oSyn-exp1_col\n",
    "plt.colorbar(u)\n",
    "plt.title(\"Difference Between the Input and Output of the Autoencoder Trained on Synthetic Data. Only parents.\");"
   ]
  },
  {
   "cell_type": "code",
   "execution_count": null,
   "metadata": {},
   "outputs": [],
   "source": [
    "pd.DataFrame(oSyn).head(24)"
   ]
  },
  {
   "cell_type": "code",
   "execution_count": null,
   "metadata": {},
   "outputs": [],
   "source": [
    "pd.DataFrame(exp1_col).head(24)\n"
   ]
  },
  {
   "cell_type": "code",
   "execution_count": null,
   "metadata": {},
   "outputs": [],
   "source": [
    "pd.DataFrame(ddff).head(24)\n"
   ]
  },
  {
   "cell_type": "code",
   "execution_count": null,
   "metadata": {},
   "outputs": [],
   "source": [
    "# np.save(\"interpolated_v2.npy\", inter) #the interpolated dataset\n",
    "# np.save(\"synthetic_v2.npy\", beanIntensities[1:]) # the synthetic dataset\n",
    "# np.save(\"synOut_v2.npy\", outSyn) #the output of the encoder trained on synthetic data with the input being exp1\n",
    "# np.save(\"interOut_v2.npy\", outInter) #the output of the encoder trained on interpolated data with the input being exp1"
   ]
  },
  {
   "cell_type": "code",
   "execution_count": null,
   "metadata": {},
   "outputs": [],
   "source": []
  }
 ],
 "metadata": {
  "colab": {
   "authorship_tag": "ABX9TyM6J5QSynTTgZ+lFOhgOtAG",
   "collapsed_sections": [],
   "name": "cnn-third.ipynb",
   "provenance": [
    {
     "file_id": "1mmRxO5jnBc5CdzxXj8sMtPpG0BQ0ulSs",
     "timestamp": 1648921397876
    },
    {
     "file_id": "10758zFj2UnTnwpQaSFIr5r9MqZWdiMsf",
     "timestamp": 1648674775255
    }
   ]
  },
  "kernelspec": {
   "display_name": "Python 3.9.12 ('base')",
   "language": "python",
   "name": "python3"
  },
  "language_info": {
   "codemirror_mode": {
    "name": "ipython",
    "version": 3
   },
   "file_extension": ".py",
   "mimetype": "text/x-python",
   "name": "python",
   "nbconvert_exporter": "python",
   "pygments_lexer": "ipython3",
   "version": "3.9.12 (main, Apr  4 2022, 05:22:27) [MSC v.1916 64 bit (AMD64)]"
  },
  "vscode": {
   "interpreter": {
    "hash": "ad2bdc8ecc057115af97d19610ffacc2b4e99fae6737bb82f5d7fb13d2f2c186"
   }
  }
 },
 "nbformat": 4,
 "nbformat_minor": 1
}
