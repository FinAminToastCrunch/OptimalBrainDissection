{
 "cells": [
  {
   "cell_type": "code",
   "execution_count": 17,
   "metadata": {},
   "outputs": [],
   "source": [
    "import pandas as pd\n",
    "import numpy as np\n",
    "import matplotlib.pyplot as plt"
   ]
  },
  {
   "cell_type": "code",
   "execution_count": 2,
   "metadata": {},
   "outputs": [],
   "source": [
    "dirty_RGM = r'Regulations_Control_Altona.csv'\n",
    "dirty_regulations = r'FullTable_Control.csv'\n",
    "parent_child_relationship = pd.read_csv(dirty_RGM)\n",
    "gene_intensities_data = pd.read_csv(dirty_regulations)"
   ]
  },
  {
   "cell_type": "code",
   "execution_count": 3,
   "metadata": {},
   "outputs": [
    {
     "data": {
      "text/html": [
       "<div>\n",
       "<style scoped>\n",
       "    .dataframe tbody tr th:only-of-type {\n",
       "        vertical-align: middle;\n",
       "    }\n",
       "\n",
       "    .dataframe tbody tr th {\n",
       "        vertical-align: top;\n",
       "    }\n",
       "\n",
       "    .dataframe thead th {\n",
       "        text-align: right;\n",
       "    }\n",
       "</style>\n",
       "<table border=\"1\" class=\"dataframe\">\n",
       "  <thead>\n",
       "    <tr style=\"text-align: right;\">\n",
       "      <th></th>\n",
       "      <th>condition</th>\n",
       "      <th>target</th>\n",
       "      <th>regulator</th>\n",
       "      <th>timelapse</th>\n",
       "      <th>regulation</th>\n",
       "      <th>BDei</th>\n",
       "    </tr>\n",
       "  </thead>\n",
       "  <tbody>\n",
       "    <tr>\n",
       "      <th>0</th>\n",
       "      <td>Control</td>\n",
       "      <td>Glyma.01G036700.1_S182_1</td>\n",
       "      <td>Glyma.07G072100.1_T24_1</td>\n",
       "      <td>tl.0</td>\n",
       "      <td>dephosphorylation</td>\n",
       "      <td>5.140000e-19</td>\n",
       "    </tr>\n",
       "    <tr>\n",
       "      <th>1</th>\n",
       "      <td>Control</td>\n",
       "      <td>Glyma.01G036700.1_S182_1</td>\n",
       "      <td>Glyma.10G173000.1_S334_1</td>\n",
       "      <td>tl.0</td>\n",
       "      <td>dephosphorylation</td>\n",
       "      <td>5.140000e-19</td>\n",
       "    </tr>\n",
       "    <tr>\n",
       "      <th>2</th>\n",
       "      <td>Control</td>\n",
       "      <td>Glyma.01G036700.1_S182_1</td>\n",
       "      <td>Glyma.13G161700.1_S197_1</td>\n",
       "      <td>tl.0</td>\n",
       "      <td>dephosphorylation</td>\n",
       "      <td>5.140000e-19</td>\n",
       "    </tr>\n",
       "    <tr>\n",
       "      <th>3</th>\n",
       "      <td>Control</td>\n",
       "      <td>Glyma.01G036700.1_S182_1</td>\n",
       "      <td>Glyma.15G074900.1_S59_1</td>\n",
       "      <td>tl.0</td>\n",
       "      <td>dephosphorylation</td>\n",
       "      <td>5.140000e-19</td>\n",
       "    </tr>\n",
       "    <tr>\n",
       "      <th>4</th>\n",
       "      <td>Control</td>\n",
       "      <td>Glyma.01G036700.1_S182_1</td>\n",
       "      <td>Glyma.20G070700.1_S570_1</td>\n",
       "      <td>tl.0</td>\n",
       "      <td>dephosphorylation</td>\n",
       "      <td>5.140000e-19</td>\n",
       "    </tr>\n",
       "  </tbody>\n",
       "</table>\n",
       "</div>"
      ],
      "text/plain": [
       "  condition                    target                 regulator timelapse  \\\n",
       "0   Control  Glyma.01G036700.1_S182_1   Glyma.07G072100.1_T24_1      tl.0   \n",
       "1   Control  Glyma.01G036700.1_S182_1  Glyma.10G173000.1_S334_1      tl.0   \n",
       "2   Control  Glyma.01G036700.1_S182_1  Glyma.13G161700.1_S197_1      tl.0   \n",
       "3   Control  Glyma.01G036700.1_S182_1   Glyma.15G074900.1_S59_1      tl.0   \n",
       "4   Control  Glyma.01G036700.1_S182_1  Glyma.20G070700.1_S570_1      tl.0   \n",
       "\n",
       "          regulation          BDei  \n",
       "0  dephosphorylation  5.140000e-19  \n",
       "1  dephosphorylation  5.140000e-19  \n",
       "2  dephosphorylation  5.140000e-19  \n",
       "3  dephosphorylation  5.140000e-19  \n",
       "4  dephosphorylation  5.140000e-19  "
      ]
     },
     "execution_count": 3,
     "metadata": {},
     "output_type": "execute_result"
    }
   ],
   "source": [
    "parent_child_relationship.head()"
   ]
  },
  {
   "cell_type": "code",
   "execution_count": 4,
   "metadata": {},
   "outputs": [
    {
     "data": {
      "text/html": [
       "<div>\n",
       "<style scoped>\n",
       "    .dataframe tbody tr th:only-of-type {\n",
       "        vertical-align: middle;\n",
       "    }\n",
       "\n",
       "    .dataframe tbody tr th {\n",
       "        vertical-align: top;\n",
       "    }\n",
       "\n",
       "    .dataframe thead th {\n",
       "        text-align: right;\n",
       "    }\n",
       "</style>\n",
       "<table border=\"1\" class=\"dataframe\">\n",
       "  <thead>\n",
       "    <tr style=\"text-align: right;\">\n",
       "      <th></th>\n",
       "      <th>Peptide</th>\n",
       "      <th>condition</th>\n",
       "      <th>0min_1</th>\n",
       "      <th>0min_2</th>\n",
       "      <th>0min_3</th>\n",
       "      <th>0min_4</th>\n",
       "      <th>12min_1</th>\n",
       "      <th>12min_2</th>\n",
       "      <th>12min_3</th>\n",
       "      <th>12min_4</th>\n",
       "      <th>...</th>\n",
       "      <th>54min_3</th>\n",
       "      <th>54min_4</th>\n",
       "      <th>60min_1</th>\n",
       "      <th>60min_2</th>\n",
       "      <th>60min_3</th>\n",
       "      <th>60min_4</th>\n",
       "      <th>6min_1</th>\n",
       "      <th>6min_2</th>\n",
       "      <th>6min_3</th>\n",
       "      <th>6min_4</th>\n",
       "    </tr>\n",
       "  </thead>\n",
       "  <tbody>\n",
       "    <tr>\n",
       "      <th>0</th>\n",
       "      <td>Glyma.01G008500.1_S18_1</td>\n",
       "      <td>Control</td>\n",
       "      <td>27.978798</td>\n",
       "      <td>26.233304</td>\n",
       "      <td>27.738086</td>\n",
       "      <td>0.000000</td>\n",
       "      <td>27.170568</td>\n",
       "      <td>26.319080</td>\n",
       "      <td>28.001693</td>\n",
       "      <td>0.000000</td>\n",
       "      <td>...</td>\n",
       "      <td>28.272709</td>\n",
       "      <td>0.000000</td>\n",
       "      <td>27.105128</td>\n",
       "      <td>25.173817</td>\n",
       "      <td>28.159411</td>\n",
       "      <td>0.000000</td>\n",
       "      <td>26.554184</td>\n",
       "      <td>27.034947</td>\n",
       "      <td>27.496604</td>\n",
       "      <td>0.000000</td>\n",
       "    </tr>\n",
       "    <tr>\n",
       "      <th>1</th>\n",
       "      <td>Glyma.01G015500.1_S257_1</td>\n",
       "      <td>Control</td>\n",
       "      <td>29.413583</td>\n",
       "      <td>28.857380</td>\n",
       "      <td>29.328198</td>\n",
       "      <td>28.989568</td>\n",
       "      <td>29.169865</td>\n",
       "      <td>28.766779</td>\n",
       "      <td>29.134507</td>\n",
       "      <td>29.273773</td>\n",
       "      <td>...</td>\n",
       "      <td>28.451130</td>\n",
       "      <td>28.467813</td>\n",
       "      <td>29.230017</td>\n",
       "      <td>29.149490</td>\n",
       "      <td>28.562085</td>\n",
       "      <td>28.911872</td>\n",
       "      <td>29.152332</td>\n",
       "      <td>28.922117</td>\n",
       "      <td>28.961874</td>\n",
       "      <td>29.051035</td>\n",
       "    </tr>\n",
       "    <tr>\n",
       "      <th>2</th>\n",
       "      <td>Glyma.01G016500.1_S641_1</td>\n",
       "      <td>Control</td>\n",
       "      <td>23.309034</td>\n",
       "      <td>23.628448</td>\n",
       "      <td>23.078992</td>\n",
       "      <td>23.466394</td>\n",
       "      <td>23.278827</td>\n",
       "      <td>23.065189</td>\n",
       "      <td>22.783278</td>\n",
       "      <td>22.781563</td>\n",
       "      <td>...</td>\n",
       "      <td>23.552530</td>\n",
       "      <td>23.700760</td>\n",
       "      <td>23.405401</td>\n",
       "      <td>23.483395</td>\n",
       "      <td>23.339398</td>\n",
       "      <td>23.867255</td>\n",
       "      <td>22.869155</td>\n",
       "      <td>22.734797</td>\n",
       "      <td>22.832231</td>\n",
       "      <td>22.920487</td>\n",
       "    </tr>\n",
       "    <tr>\n",
       "      <th>3</th>\n",
       "      <td>Glyma.01G019200.1_T61_1</td>\n",
       "      <td>Control</td>\n",
       "      <td>0.000000</td>\n",
       "      <td>0.000000</td>\n",
       "      <td>0.000000</td>\n",
       "      <td>0.000000</td>\n",
       "      <td>0.000000</td>\n",
       "      <td>21.682372</td>\n",
       "      <td>0.000000</td>\n",
       "      <td>0.000000</td>\n",
       "      <td>...</td>\n",
       "      <td>0.000000</td>\n",
       "      <td>0.000000</td>\n",
       "      <td>23.675289</td>\n",
       "      <td>0.000000</td>\n",
       "      <td>23.443930</td>\n",
       "      <td>22.865238</td>\n",
       "      <td>0.000000</td>\n",
       "      <td>0.000000</td>\n",
       "      <td>0.000000</td>\n",
       "      <td>0.000000</td>\n",
       "    </tr>\n",
       "    <tr>\n",
       "      <th>4</th>\n",
       "      <td>Glyma.01G036700.1_S182_1</td>\n",
       "      <td>Control</td>\n",
       "      <td>26.364315</td>\n",
       "      <td>24.161291</td>\n",
       "      <td>24.656320</td>\n",
       "      <td>24.805185</td>\n",
       "      <td>25.378857</td>\n",
       "      <td>24.416603</td>\n",
       "      <td>24.767025</td>\n",
       "      <td>25.373129</td>\n",
       "      <td>...</td>\n",
       "      <td>24.726381</td>\n",
       "      <td>25.208733</td>\n",
       "      <td>25.319279</td>\n",
       "      <td>23.223341</td>\n",
       "      <td>24.734539</td>\n",
       "      <td>25.025861</td>\n",
       "      <td>25.818412</td>\n",
       "      <td>24.840494</td>\n",
       "      <td>24.984761</td>\n",
       "      <td>25.561010</td>\n",
       "    </tr>\n",
       "    <tr>\n",
       "      <th>5</th>\n",
       "      <td>Glyma.01G062100.1_S61_1</td>\n",
       "      <td>Control</td>\n",
       "      <td>25.652637</td>\n",
       "      <td>26.270337</td>\n",
       "      <td>26.799428</td>\n",
       "      <td>26.015492</td>\n",
       "      <td>25.538494</td>\n",
       "      <td>26.119031</td>\n",
       "      <td>26.521448</td>\n",
       "      <td>26.226408</td>\n",
       "      <td>...</td>\n",
       "      <td>24.956568</td>\n",
       "      <td>25.188833</td>\n",
       "      <td>25.779199</td>\n",
       "      <td>26.302573</td>\n",
       "      <td>25.715492</td>\n",
       "      <td>25.675494</td>\n",
       "      <td>25.909699</td>\n",
       "      <td>26.687305</td>\n",
       "      <td>26.557891</td>\n",
       "      <td>26.335563</td>\n",
       "    </tr>\n",
       "    <tr>\n",
       "      <th>6</th>\n",
       "      <td>Glyma.01G087900.1_S556_1</td>\n",
       "      <td>Control</td>\n",
       "      <td>23.880920</td>\n",
       "      <td>24.998721</td>\n",
       "      <td>24.270895</td>\n",
       "      <td>23.174080</td>\n",
       "      <td>23.517058</td>\n",
       "      <td>24.428413</td>\n",
       "      <td>24.002197</td>\n",
       "      <td>22.525186</td>\n",
       "      <td>...</td>\n",
       "      <td>22.689177</td>\n",
       "      <td>22.977973</td>\n",
       "      <td>22.282037</td>\n",
       "      <td>22.180828</td>\n",
       "      <td>22.779024</td>\n",
       "      <td>22.314152</td>\n",
       "      <td>24.059448</td>\n",
       "      <td>25.217157</td>\n",
       "      <td>24.213466</td>\n",
       "      <td>23.177258</td>\n",
       "    </tr>\n",
       "    <tr>\n",
       "      <th>7</th>\n",
       "      <td>Glyma.01G089300.1_S512_1</td>\n",
       "      <td>Control</td>\n",
       "      <td>23.583581</td>\n",
       "      <td>25.535257</td>\n",
       "      <td>25.904283</td>\n",
       "      <td>24.624633</td>\n",
       "      <td>23.763445</td>\n",
       "      <td>25.464338</td>\n",
       "      <td>25.506311</td>\n",
       "      <td>19.950033</td>\n",
       "      <td>...</td>\n",
       "      <td>25.324421</td>\n",
       "      <td>25.156956</td>\n",
       "      <td>21.526567</td>\n",
       "      <td>23.929239</td>\n",
       "      <td>25.472880</td>\n",
       "      <td>24.770100</td>\n",
       "      <td>22.635546</td>\n",
       "      <td>26.000629</td>\n",
       "      <td>25.862293</td>\n",
       "      <td>24.921851</td>\n",
       "    </tr>\n",
       "    <tr>\n",
       "      <th>8</th>\n",
       "      <td>Glyma.01G115900.1_T111_1</td>\n",
       "      <td>Control</td>\n",
       "      <td>28.145840</td>\n",
       "      <td>20.601280</td>\n",
       "      <td>28.025258</td>\n",
       "      <td>27.027255</td>\n",
       "      <td>27.270963</td>\n",
       "      <td>28.238696</td>\n",
       "      <td>27.643156</td>\n",
       "      <td>26.835298</td>\n",
       "      <td>...</td>\n",
       "      <td>27.594413</td>\n",
       "      <td>27.334931</td>\n",
       "      <td>28.191205</td>\n",
       "      <td>27.908380</td>\n",
       "      <td>27.212395</td>\n",
       "      <td>27.460757</td>\n",
       "      <td>28.294693</td>\n",
       "      <td>28.204008</td>\n",
       "      <td>27.982022</td>\n",
       "      <td>27.744697</td>\n",
       "    </tr>\n",
       "    <tr>\n",
       "      <th>9</th>\n",
       "      <td>Glyma.01G115900.1_T113_1</td>\n",
       "      <td>Control</td>\n",
       "      <td>28.145840</td>\n",
       "      <td>26.824970</td>\n",
       "      <td>28.025258</td>\n",
       "      <td>0.000000</td>\n",
       "      <td>27.270963</td>\n",
       "      <td>28.238696</td>\n",
       "      <td>27.643156</td>\n",
       "      <td>0.000000</td>\n",
       "      <td>...</td>\n",
       "      <td>27.594413</td>\n",
       "      <td>0.000000</td>\n",
       "      <td>28.191205</td>\n",
       "      <td>27.908380</td>\n",
       "      <td>27.212395</td>\n",
       "      <td>0.000000</td>\n",
       "      <td>28.294693</td>\n",
       "      <td>28.204008</td>\n",
       "      <td>27.982022</td>\n",
       "      <td>0.000000</td>\n",
       "    </tr>\n",
       "  </tbody>\n",
       "</table>\n",
       "<p>10 rows × 46 columns</p>\n",
       "</div>"
      ],
      "text/plain": [
       "                    Peptide condition     0min_1     0min_2     0min_3  \\\n",
       "0   Glyma.01G008500.1_S18_1   Control  27.978798  26.233304  27.738086   \n",
       "1  Glyma.01G015500.1_S257_1   Control  29.413583  28.857380  29.328198   \n",
       "2  Glyma.01G016500.1_S641_1   Control  23.309034  23.628448  23.078992   \n",
       "3   Glyma.01G019200.1_T61_1   Control   0.000000   0.000000   0.000000   \n",
       "4  Glyma.01G036700.1_S182_1   Control  26.364315  24.161291  24.656320   \n",
       "5   Glyma.01G062100.1_S61_1   Control  25.652637  26.270337  26.799428   \n",
       "6  Glyma.01G087900.1_S556_1   Control  23.880920  24.998721  24.270895   \n",
       "7  Glyma.01G089300.1_S512_1   Control  23.583581  25.535257  25.904283   \n",
       "8  Glyma.01G115900.1_T111_1   Control  28.145840  20.601280  28.025258   \n",
       "9  Glyma.01G115900.1_T113_1   Control  28.145840  26.824970  28.025258   \n",
       "\n",
       "      0min_4    12min_1    12min_2    12min_3    12min_4  ...    54min_3  \\\n",
       "0   0.000000  27.170568  26.319080  28.001693   0.000000  ...  28.272709   \n",
       "1  28.989568  29.169865  28.766779  29.134507  29.273773  ...  28.451130   \n",
       "2  23.466394  23.278827  23.065189  22.783278  22.781563  ...  23.552530   \n",
       "3   0.000000   0.000000  21.682372   0.000000   0.000000  ...   0.000000   \n",
       "4  24.805185  25.378857  24.416603  24.767025  25.373129  ...  24.726381   \n",
       "5  26.015492  25.538494  26.119031  26.521448  26.226408  ...  24.956568   \n",
       "6  23.174080  23.517058  24.428413  24.002197  22.525186  ...  22.689177   \n",
       "7  24.624633  23.763445  25.464338  25.506311  19.950033  ...  25.324421   \n",
       "8  27.027255  27.270963  28.238696  27.643156  26.835298  ...  27.594413   \n",
       "9   0.000000  27.270963  28.238696  27.643156   0.000000  ...  27.594413   \n",
       "\n",
       "     54min_4    60min_1    60min_2    60min_3    60min_4     6min_1  \\\n",
       "0   0.000000  27.105128  25.173817  28.159411   0.000000  26.554184   \n",
       "1  28.467813  29.230017  29.149490  28.562085  28.911872  29.152332   \n",
       "2  23.700760  23.405401  23.483395  23.339398  23.867255  22.869155   \n",
       "3   0.000000  23.675289   0.000000  23.443930  22.865238   0.000000   \n",
       "4  25.208733  25.319279  23.223341  24.734539  25.025861  25.818412   \n",
       "5  25.188833  25.779199  26.302573  25.715492  25.675494  25.909699   \n",
       "6  22.977973  22.282037  22.180828  22.779024  22.314152  24.059448   \n",
       "7  25.156956  21.526567  23.929239  25.472880  24.770100  22.635546   \n",
       "8  27.334931  28.191205  27.908380  27.212395  27.460757  28.294693   \n",
       "9   0.000000  28.191205  27.908380  27.212395   0.000000  28.294693   \n",
       "\n",
       "      6min_2     6min_3     6min_4  \n",
       "0  27.034947  27.496604   0.000000  \n",
       "1  28.922117  28.961874  29.051035  \n",
       "2  22.734797  22.832231  22.920487  \n",
       "3   0.000000   0.000000   0.000000  \n",
       "4  24.840494  24.984761  25.561010  \n",
       "5  26.687305  26.557891  26.335563  \n",
       "6  25.217157  24.213466  23.177258  \n",
       "7  26.000629  25.862293  24.921851  \n",
       "8  28.204008  27.982022  27.744697  \n",
       "9  28.204008  27.982022   0.000000  \n",
       "\n",
       "[10 rows x 46 columns]"
      ]
     },
     "execution_count": 4,
     "metadata": {},
     "output_type": "execute_result"
    }
   ],
   "source": [
    "gene_intensities_data.head(10)"
   ]
  },
  {
   "cell_type": "code",
   "execution_count": 20,
   "metadata": {},
   "outputs": [
    {
     "name": "stdout",
     "output_type": "stream",
     "text": [
      "7\n"
     ]
    }
   ],
   "source": [
    "parent = parent_child_relationship['regulator']\n",
    "print(len(parent.unique()))\n",
    "parent = np.asarray(parent)\n",
    "child = parent_child_relationship['target']\n",
    "child = np.asarray(child)"
   ]
  },
  {
   "cell_type": "code",
   "execution_count": 7,
   "metadata": {},
   "outputs": [
    {
     "data": {
      "text/plain": [
       "319"
      ]
     },
     "execution_count": 7,
     "metadata": {},
     "output_type": "execute_result"
    }
   ],
   "source": [
    "len(parent)"
   ]
  },
  {
   "cell_type": "code",
   "execution_count": 10,
   "metadata": {},
   "outputs": [
    {
     "data": {
      "text/plain": [
       "319"
      ]
     },
     "execution_count": 10,
     "metadata": {},
     "output_type": "execute_result"
    }
   ],
   "source": [
    "len(child)"
   ]
  },
  {
   "cell_type": "code",
   "execution_count": 12,
   "metadata": {},
   "outputs": [
    {
     "data": {
      "text/plain": [
       "372"
      ]
     },
     "execution_count": 12,
     "metadata": {},
     "output_type": "execute_result"
    }
   ],
   "source": [
    "unique = gene_intensities_data['Peptide'].unique()\n",
    "len(unique)"
   ]
  },
  {
   "cell_type": "code",
   "execution_count": 13,
   "metadata": {},
   "outputs": [],
   "source": [
    "significant_genes = unique"
   ]
  },
  {
   "cell_type": "code",
   "execution_count": 14,
   "metadata": {},
   "outputs": [],
   "source": [
    "gene_regulator_matrix = np.zeros((len(significant_genes),len(significant_genes)))"
   ]
  },
  {
   "cell_type": "code",
   "execution_count": 15,
   "metadata": {},
   "outputs": [],
   "source": [
    "for index in range(len(parent)):\n",
    "    \n",
    "    parent_index = np.where(significant_genes == parent[index])[0][0]\n",
    "    child_index = np.where(significant_genes == child[index])[0][0]\n",
    "    gene_regulator_matrix[parent_index][child_index] = 1"
   ]
  },
  {
   "cell_type": "code",
   "execution_count": 18,
   "metadata": {},
   "outputs": [
    {
     "data": {
      "text/plain": [
       "<matplotlib.image.AxesImage at 0x1d658beb7c0>"
      ]
     },
     "execution_count": 18,
     "metadata": {},
     "output_type": "execute_result"
    },
    {
     "data": {
      "image/png": "[encoded data removed]",
      "text/plain": [
       "<Figure size 432x288 with 1 Axes>"
      ]
     },
     "metadata": {
      "needs_background": "light"
     },
     "output_type": "display_data"
    }
   ],
   "source": [
    "plt.imshow(gene_regulator_matrix)"
   ]
  },
  {
   "cell_type": "code",
   "execution_count": 22,
   "metadata": {},
   "outputs": [
    {
     "data": {
      "text/plain": [
       "1.0"
      ]
     },
     "execution_count": 22,
     "metadata": {},
     "output_type": "execute_result"
    }
   ],
   "source": [
    "np.max(gene_regulator_matrix)"
   ]
  },
  {
   "cell_type": "code",
   "execution_count": null,
   "metadata": {},
   "outputs": [],
   "source": [
    "np.save(\"soyBeanRGM\", gene_regulator_matrix)"
   ]
  },
  {
   "attachments": {},
   "cell_type": "markdown",
   "metadata": {},
   "source": [
    "# Crap"
   ]
  },
  {
   "cell_type": "code",
   "execution_count": 9,
   "metadata": {},
   "outputs": [
    {
     "ename": "KeyError",
     "evalue": "'UniqueID'",
     "output_type": "error",
     "traceback": [
      "\u001b[1;31m---------------------------------------------------------------------------\u001b[0m",
      "\u001b[1;31mKeyError\u001b[0m                                  Traceback (most recent call last)",
      "File \u001b[1;32mc:\\ProgramData\\Anaconda3\\lib\\site-packages\\pandas\\core\\indexes\\base.py:3621\u001b[0m, in \u001b[0;36mIndex.get_loc\u001b[1;34m(self, key, method, tolerance)\u001b[0m\n\u001b[0;32m   3620\u001b[0m \u001b[39mtry\u001b[39;00m:\n\u001b[1;32m-> 3621\u001b[0m     \u001b[39mreturn\u001b[39;00m \u001b[39mself\u001b[39;49m\u001b[39m.\u001b[39;49m_engine\u001b[39m.\u001b[39;49mget_loc(casted_key)\n\u001b[0;32m   3622\u001b[0m \u001b[39mexcept\u001b[39;00m \u001b[39mKeyError\u001b[39;00m \u001b[39mas\u001b[39;00m err:\n",
      "File \u001b[1;32mc:\\ProgramData\\Anaconda3\\lib\\site-packages\\pandas\\_libs\\index.pyx:136\u001b[0m, in \u001b[0;36mpandas._libs.index.IndexEngine.get_loc\u001b[1;34m()\u001b[0m\n",
      "File \u001b[1;32mc:\\ProgramData\\Anaconda3\\lib\\site-packages\\pandas\\_libs\\index.pyx:163\u001b[0m, in \u001b[0;36mpandas._libs.index.IndexEngine.get_loc\u001b[1;34m()\u001b[0m\n",
      "File \u001b[1;32mpandas\\_libs\\hashtable_class_helper.pxi:5198\u001b[0m, in \u001b[0;36mpandas._libs.hashtable.PyObjectHashTable.get_item\u001b[1;34m()\u001b[0m\n",
      "File \u001b[1;32mpandas\\_libs\\hashtable_class_helper.pxi:5206\u001b[0m, in \u001b[0;36mpandas._libs.hashtable.PyObjectHashTable.get_item\u001b[1;34m()\u001b[0m\n",
      "\u001b[1;31mKeyError\u001b[0m: 'UniqueID'",
      "\nThe above exception was the direct cause of the following exception:\n",
      "\u001b[1;31mKeyError\u001b[0m                                  Traceback (most recent call last)",
      "\u001b[1;32mc:\\Users\\Fin Amin\\Desktop\\StemCellResearch\\beanEncoder\\Creategene-regulator-matrix.ipynb Cell 9\u001b[0m in \u001b[0;36m<cell line: 1>\u001b[1;34m()\u001b[0m\n\u001b[1;32m----> <a href='vscode-notebook-cell:/c%3A/Users/Fin%20Amin/Desktop/StemCellResearch/beanEncoder/Creategene-regulator-matrix.ipynb#X11sZmlsZQ%3D%3D?line=0'>1</a>\u001b[0m significant_genes \u001b[39m=\u001b[39m gene_intensities_data[\u001b[39m'\u001b[39;49m\u001b[39mUniqueID\u001b[39;49m\u001b[39m'\u001b[39;49m]\n",
      "File \u001b[1;32mc:\\ProgramData\\Anaconda3\\lib\\site-packages\\pandas\\core\\frame.py:3505\u001b[0m, in \u001b[0;36mDataFrame.__getitem__\u001b[1;34m(self, key)\u001b[0m\n\u001b[0;32m   3503\u001b[0m \u001b[39mif\u001b[39;00m \u001b[39mself\u001b[39m\u001b[39m.\u001b[39mcolumns\u001b[39m.\u001b[39mnlevels \u001b[39m>\u001b[39m \u001b[39m1\u001b[39m:\n\u001b[0;32m   3504\u001b[0m     \u001b[39mreturn\u001b[39;00m \u001b[39mself\u001b[39m\u001b[39m.\u001b[39m_getitem_multilevel(key)\n\u001b[1;32m-> 3505\u001b[0m indexer \u001b[39m=\u001b[39m \u001b[39mself\u001b[39;49m\u001b[39m.\u001b[39;49mcolumns\u001b[39m.\u001b[39;49mget_loc(key)\n\u001b[0;32m   3506\u001b[0m \u001b[39mif\u001b[39;00m is_integer(indexer):\n\u001b[0;32m   3507\u001b[0m     indexer \u001b[39m=\u001b[39m [indexer]\n",
      "File \u001b[1;32mc:\\ProgramData\\Anaconda3\\lib\\site-packages\\pandas\\core\\indexes\\base.py:3623\u001b[0m, in \u001b[0;36mIndex.get_loc\u001b[1;34m(self, key, method, tolerance)\u001b[0m\n\u001b[0;32m   3621\u001b[0m     \u001b[39mreturn\u001b[39;00m \u001b[39mself\u001b[39m\u001b[39m.\u001b[39m_engine\u001b[39m.\u001b[39mget_loc(casted_key)\n\u001b[0;32m   3622\u001b[0m \u001b[39mexcept\u001b[39;00m \u001b[39mKeyError\u001b[39;00m \u001b[39mas\u001b[39;00m err:\n\u001b[1;32m-> 3623\u001b[0m     \u001b[39mraise\u001b[39;00m \u001b[39mKeyError\u001b[39;00m(key) \u001b[39mfrom\u001b[39;00m \u001b[39merr\u001b[39;00m\n\u001b[0;32m   3624\u001b[0m \u001b[39mexcept\u001b[39;00m \u001b[39mTypeError\u001b[39;00m:\n\u001b[0;32m   3625\u001b[0m     \u001b[39m# If we have a listlike key, _check_indexing_error will raise\u001b[39;00m\n\u001b[0;32m   3626\u001b[0m     \u001b[39m#  InvalidIndexError. Otherwise we fall through and re-raise\u001b[39;00m\n\u001b[0;32m   3627\u001b[0m     \u001b[39m#  the TypeError.\u001b[39;00m\n\u001b[0;32m   3628\u001b[0m     \u001b[39mself\u001b[39m\u001b[39m.\u001b[39m_check_indexing_error(key)\n",
      "\u001b[1;31mKeyError\u001b[0m: 'UniqueID'"
     ]
    }
   ],
   "source": [
    "significant_genes = gene_intensities_data['UniqueID']"
   ]
  },
  {
   "cell_type": "code",
   "execution_count": 9,
   "metadata": {},
   "outputs": [
    {
     "data": {
      "text/plain": [
       "0      AT2G33830.1_S45_2\n",
       "1     AT3G28690.1_S352_1\n",
       "2     AT1G72390.2_S547_1\n",
       "3    AT1G79280.1_S1666_1\n",
       "4     AT4G15545.1_S171_2\n",
       "Name: UniqueID, dtype: object"
      ]
     },
     "execution_count": 9,
     "metadata": {},
     "output_type": "execute_result"
    }
   ],
   "source": [
    "significant_genes.head()"
   ]
  },
  {
   "cell_type": "code",
   "execution_count": 10,
   "metadata": {},
   "outputs": [],
   "source": [
    "significant_genes = np.asarray(significant_genes)"
   ]
  },
  {
   "cell_type": "code",
   "execution_count": 11,
   "metadata": {},
   "outputs": [
    {
     "data": {
      "text/plain": [
       "array(['AT2G33830.1_S45_2', 'AT3G28690.1_S352_1', 'AT1G72390.2_S547_1',\n",
       "       'AT1G79280.1_S1666_1', 'AT4G15545.1_S171_2', 'AT4G15545.1_S174_2',\n",
       "       'AT1G64500.1_S113_2', 'AT1G64500.1_S115_2', 'AT4G24630.1_S383_1',\n",
       "       'AT1G13020.1_S436_1', 'AT1G78230.1_S223_1', 'AT3G04740.1_S819_1',\n",
       "       'AT3G27350.1_S22_2', 'AT3G62700.1_S894_2', 'AT3G62700.1_S897_2',\n",
       "       'AT4G10120.3_S758_1', 'AT4G36980.2_S361_3', 'AT4G36980.2_S373_3',\n",
       "       'AT5G54900.1_S332_1', 'AT1G79090.3_S114_2', 'AT1G79090.3_S117_2',\n",
       "       'AT1G79090.3_S83_1', 'AT2G26350.3_S86_1', 'AT2G32240.1_S801_1',\n",
       "       'AT3G11450.1_T61_1', 'AT1G22310.2_S103_1', 'AT5G03280.1_S731_1',\n",
       "       'AT2G20960.4_T368_1', 'AT3G13990.2_S496_1', 'AT4G35240.4_S691_1',\n",
       "       'AT1G27030.1_S11_1', 'AT1G70100.5_S46_1', 'AT1G79090.3_S114_1',\n",
       "       'AT1G80180.1_S10_1', 'AT3G13300.3_S88_2', 'AT3G13300.3_S98_2',\n",
       "       'AT3G46530.1_S156_1', 'AT3G46780.1_T410_1', 'AT4G02940.1_S447_2',\n",
       "       'AT4G02940.1_S451_2', 'AT4G12770.1_S162_1', 'AT4G36970.1_S219_1',\n",
       "       'AT5G03700.1_S473_1', 'AT5G20010.1_T182_1', 'AT5G67200.1_S371_1',\n",
       "       'AT1G08800.4_S825_1', 'AT1G11480.2_S343_1', 'AT1G17580.1_S1510_1',\n",
       "       'AT1G62330.1_S30_2', 'AT1G62330.1_S34_2', 'AT1G74690.1_S103_1',\n",
       "       'AT1G79090.3_S451_1', 'AT3G01810.3_S340_1', 'AT3G03380.2_S10_1',\n",
       "       'AT3G13290.1_S680_1', 'AT3G19290.5_S61_1', 'AT3G56570.1_S416_1',\n",
       "       'AT3G62700.1_S938_1', 'AT4G01290.2_S73_1', 'AT4G16830.2_S261_1',\n",
       "       'AT5G22640.1_T649_1', 'AT5G56030.1_S288_1', 'AT1G11310.3_S503_1',\n",
       "       'AT1G16520.1_S191_1', 'AT1G32730.1_S286_1', 'AT1G72150.1_S45_1',\n",
       "       'AT2G16860.2_S63_2', 'AT2G16860.2_S64_2', 'AT2G20790.3_S378_1',\n",
       "       'AT2G20960.4_S66_1', 'AT2G23140.5_S153_1', 'AT2G25290.4_S227_1',\n",
       "       'AT2G39130.3_S127_2', 'AT3G15040.1_S157_1', 'AT3G50670.1_S255_1',\n",
       "       'AT3G56150.2_S40_1', 'AT3G56190.2_S162_1', 'AT3G61670.2_S98_1',\n",
       "       'AT4G08920.1_S506_1', 'AT4G14200.1_S643_2', 'AT4G35780.1_S257_1',\n",
       "       'AT4G38900.3_S174_1', 'AT5G01490.2_S38_1', 'AT5G18230.3_S246_1',\n",
       "       'AT5G56340.1_S150_2', 'AT5G56340.1_S151_2', 'ATCG00490.1_S208_1',\n",
       "       'AT1G12830.1_S46_1', 'AT1G29370.1_S338_2', 'AT2G19470.1_S363_1',\n",
       "       'AT3G49590.1_S521_1', 'AT3G60600.2_S166_1', 'AT5G14720.2_S448_1',\n",
       "       'AT1G33680.1_S154_1', 'AT1G79340.1_S296_1', 'AT1G80130.1_S45_1',\n",
       "       'AT2G20960.4_S302_1', 'AT2G35880.3_S89_1', 'AT3G56850.1_T118_1',\n",
       "       'AT4G21750.4_S100_1', 'AT4G33240.5_S762_1', 'AT5G16680.2_S1159_1',\n",
       "       'AT5G25590.1_T167_1', 'AT1G18150.3_Y268_1', 'AT1G68060.1_S49_1',\n",
       "       'AT2G46820.2_T65_2', 'AT2G46820.2_T66_2', 'AT3G04140.1_S544_1',\n",
       "       'AT4G15930.2_S26_1', 'AT4G27430.2_S883_2', 'AT4G27430.2_S887_2',\n",
       "       'AT5G20280.1_S700_1', 'AT5G28840.2_S369_1', 'AT5G64740.1_S136_1',\n",
       "       'AT1G08820.5_S130_2', 'AT1G17280.9_S178_1', 'AT1G20760.1_S939_2',\n",
       "       'AT1G20760.1_S942_2', 'AT1G20840.2_S370_1', 'AT1G20970.1_S124_1',\n",
       "       'AT1G27030.1_S3_1', 'AT1G28130.2_T238_1', 'AT1G29400.3_S34_1',\n",
       "       'AT1G34260.3_S59_1', 'AT1G53210.1_T400_1', 'AT1G60160.1_S64_1',\n",
       "       'AT1G65440.3_S1403_1', 'AT2G01190.1_T318_1', 'AT2G20900.3_T446_1',\n",
       "       'AT2G26570.2_S744_1', 'AT2G26910.1_S14_1', 'AT2G27900.2_S80_1',\n",
       "       'AT2G35530.1_S152_1', 'AT2G39130.3_S92_1', 'AT2G46630.1_T111_1',\n",
       "       'AT2G48160.1_S496_1', 'AT3G01180.1_S63_1', 'AT3G03050.1_T226_1',\n",
       "       'AT3G07360.9_S90_1', 'AT3G13290.1_S1189_1', 'AT3G13290.1_S583_1',\n",
       "       'AT3G13290.1_S91_1', 'AT3G17850.1_S584_1', 'AT3G22380.1_S190_1',\n",
       "       'AT3G50370.1_S660_1', 'AT3G53020.1_S28_1', 'AT3G59840.1_S10_1',\n",
       "       'AT3G61690.2_S773_1', 'AT4G01290.2_S230_1', 'AT4G05150.1_S310_1',\n",
       "       'AT4G14200.1_S728_2', 'AT4G14200.1_S735_2', 'AT4G17140.3_S3993_1',\n",
       "       'AT4G24100.1_S440_1', 'AT4G26630.2_T313_1', 'AT4G29000.1_S111_1',\n",
       "       'AT4G29190.1_S236_1', 'AT4G32330.2_S207_1', 'AT4G36020.2_S100_1',\n",
       "       'AT4G38550.3_S32_2', 'AT4G38550.3_S41_2', 'AT5G09620.2_S15_2',\n",
       "       'AT5G09620.2_S492_1', 'AT5G10020.2_S696_1', 'AT5G10470.1_S674_1',\n",
       "       'AT5G10550.1_T480_1', 'AT5G13160.1_S21_1', 'AT5G13260.1_S8_2',\n",
       "       'AT5G13260.1_T6_2', 'AT5G16840.3_S155_1', 'AT5G19420.3_S740_1',\n",
       "       'AT5G19520.2_S74_1', 'AT5G20720.4_Y128_1', 'AT5G23060.1_S364_1',\n",
       "       'AT5G43310.4_T1010_1', 'AT5G57870.1_S487_1', 'AT1G04530.1_T36_1',\n",
       "       'AT1G19350.6_S171_2', 'AT1G19870.1_S59_1', 'AT1G28280.2_S16_1',\n",
       "       'AT1G29370.1_S237_1', 'AT1G33050.3_S167_1', 'AT1G68020.1_S7_1',\n",
       "       'AT1G76850.1_T997_1', 'AT1G78880.1_S131_1', 'AT1G78880.1_S163_1',\n",
       "       'AT1G80950.2_S28_1', 'AT2G03680.3_S6_1', 'AT2G15270.2_S164_2',\n",
       "       'AT2G15270.2_S165_2', 'AT2G23350.1_S657_1', 'AT2G24360.1_S81_1',\n",
       "       'AT2G33710.1_S9_1', 'AT2G37080.3_S538_1', 'AT2G46920.4_S205_1',\n",
       "       'AT3G02180.1_S73_1', 'AT3G13300.3_S827_2', 'AT3G13300.3_S830_2',\n",
       "       'AT3G17750.1_S664_1', 'AT3G17850.1_S219_1', 'AT3G17850.1_S663_1',\n",
       "       'AT3G19910.1_S272_1', 'AT3G22270.1_S6_1', 'AT3G23310.1_S302_1',\n",
       "       'AT3G28430.1_S474_1', 'AT3G46580.1_T82_1', 'AT3G49910.1_S138_1',\n",
       "       'AT3G52250.2_S1503_1', 'AT3G52930.1_S350_1', 'AT3G56850.1_S43_1',\n",
       "       'AT3G57530.2_S379_1', 'AT3G58730.1_S241_1', 'AT4G02480.1_S302_1',\n",
       "       'AT4G11270.2_S506_2', 'AT4G11560.2_T318_1', 'AT4G14040.1_S12_1',\n",
       "       'AT4G14990.1_S6_1', 'AT4G15530.7_T437_1', 'AT4G17090.1_S464_1',\n",
       "       'AT4G27060.1_S579_1', 'AT4G27320.1_S251_1', 'AT4G27430.2_S915_1',\n",
       "       'AT4G30780.1_S558_1', 'AT4G33080.2_S300_1', 'AT4G35470.2_S144_1',\n",
       "       'AT5G08240.1_S140_1', 'AT5G20900.1_S97_1', 'AT5G23540.1_S265_1',\n",
       "       'AT5G25150.2_S248_1', 'AT5G36790.3_S356_1', 'AT5G38640.1_S69_1',\n",
       "       'AT5G40760.2_S18_2', 'AT5G44680.1_S64_2', 'AT5G44680.1_S68_2',\n",
       "       'AT5G45380.1_S568_1', 'AT5G47480.1_S1030_1', 'AT5G52060.1_S298_1',\n",
       "       'AT5G52240.1_S57_1', 'AT5G56850.6_S338_1', 'AT5G56980.1_S120_1',\n",
       "       'AT5G58140.4_S30_1'], dtype=object)"
      ]
     },
     "execution_count": 11,
     "metadata": {},
     "output_type": "execute_result"
    }
   ],
   "source": [
    "significant_genes"
   ]
  },
  {
   "cell_type": "code",
   "execution_count": 12,
   "metadata": {},
   "outputs": [
    {
     "data": {
      "text/plain": [
       "241"
      ]
     },
     "execution_count": 12,
     "metadata": {},
     "output_type": "execute_result"
    }
   ],
   "source": [
    "len(significant_genes)"
   ]
  },
  {
   "cell_type": "code",
   "execution_count": 24,
   "metadata": {},
   "outputs": [
    {
     "data": {
      "text/plain": [
       "array([[0., 0., 0., ..., 0., 0., 0.],\n",
       "       [0., 0., 0., ..., 0., 0., 0.],\n",
       "       [0., 0., 0., ..., 0., 0., 0.],\n",
       "       ...,\n",
       "       [0., 0., 0., ..., 0., 0., 0.],\n",
       "       [0., 0., 0., ..., 0., 0., 0.],\n",
       "       [0., 0., 1., ..., 0., 1., 0.]])"
      ]
     },
     "execution_count": 24,
     "metadata": {},
     "output_type": "execute_result"
    }
   ],
   "source": [
    "gene_regulator_matrix"
   ]
  },
  {
   "cell_type": "code",
   "execution_count": 27,
   "metadata": {},
   "outputs": [],
   "source": [
    "#np.savetxt(\"../experiments/gene-regulator-matrix.csv\", gene_regulator_matrix, fmt = \"%d\")"
   ]
  },
  {
   "cell_type": "code",
   "execution_count": null,
   "metadata": {},
   "outputs": [],
   "source": []
  }
 ],
 "metadata": {
  "kernelspec": {
   "display_name": "base",
   "language": "python",
   "name": "python3"
  },
  "language_info": {
   "codemirror_mode": {
    "name": "ipython",
    "version": 3
   },
   "file_extension": ".py",
   "mimetype": "text/x-python",
   "name": "python",
   "nbconvert_exporter": "python",
   "pygments_lexer": "ipython3",
   "version": "3.9.12 (main, Apr  4 2022, 05:22:27) [MSC v.1916 64 bit (AMD64)]"
  },
  "vscode": {
   "interpreter": {
    "hash": "ad2bdc8ecc057115af97d19610ffacc2b4e99fae6737bb82f5d7fb13d2f2c186"
   }
  }
 },
 "nbformat": 4,
 "nbformat_minor": 4
}
