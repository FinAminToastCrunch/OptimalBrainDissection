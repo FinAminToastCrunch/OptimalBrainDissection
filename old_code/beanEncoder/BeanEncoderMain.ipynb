{
 "cells": [
  {
   "cell_type": "code",
   "execution_count": 97,
   "metadata": {},
   "outputs": [],
   "source": [
    "#!pip install synapseclient"
   ]
  },
  {
   "cell_type": "code",
   "execution_count": 98,
   "metadata": {},
   "outputs": [],
   "source": [
    "#!pip install synapseutils"
   ]
  },
  {
   "cell_type": "code",
   "execution_count": 99,
   "metadata": {},
   "outputs": [],
   "source": [
    "#  import synapseclient \n",
    "#  import synapseutils \n",
    " \n",
    "#  syn = synapseclient.Synapse() \n",
    "#  syn.login('finamintoastcrunch','1Hjldria!') \n",
    "#  files = synapseutils.syncFromSynapse(syn, ' syn2825306 ') "
   ]
  },
  {
   "attachments": {},
   "cell_type": "markdown",
   "metadata": {},
   "source": [
    "# Import Libraries"
   ]
  },
  {
   "cell_type": "code",
   "execution_count": 100,
   "metadata": {
    "id": "qTo_HuQkGgAq"
   },
   "outputs": [],
   "source": [
    "import tensorflow as tf\n",
    "from tensorflow import keras\n",
    "from datetime import datetime\n",
    "import numpy as np\n",
    "import pandas as pd\n",
    "import matplotlib.pyplot as plt\n",
    "from keras_visualizer import visualizer \n",
    "\n",
    "from tensorflow.keras.layers import*\n",
    "import shap\n",
    "from keras.utils.vis_utils import plot_model\n",
    "import tensorflow.keras.backend as K\n",
    "# from keras.layers import Input\n",
    "# from keras.layers import Dense\n",
    "# from keras.layers import Conv1D\n",
    "# from keras.layers import Conv1DTranspose\n",
    "# from keras.layers import Flatten, Reshape\n",
    "\n",
    "import os\n",
    "from glob import glob\n",
    "from tqdm import tqdm\n",
    "from tensorflow.keras import losses\n",
    "from sklearn.preprocessing import StandardScaler\n",
    "from sklearn.preprocessing import MinMaxScaler"
   ]
  },
  {
   "cell_type": "code",
   "execution_count": 101,
   "metadata": {},
   "outputs": [],
   "source": [
    "df = pd.DataFrame"
   ]
  },
  {
   "cell_type": "code",
   "execution_count": 102,
   "metadata": {},
   "outputs": [
    {
     "data": {
      "text/plain": [
       "[PhysicalDevice(name='/physical_device:GPU:0', device_type='GPU')]"
      ]
     },
     "execution_count": 102,
     "metadata": {},
     "output_type": "execute_result"
    }
   ],
   "source": [
    "tf.config.list_physical_devices(\n",
    "    device_type=None\n",
    ")\n",
    "tf.config.list_physical_devices('GPU')"
   ]
  },
  {
   "cell_type": "code",
   "execution_count": 103,
   "metadata": {},
   "outputs": [
    {
     "data": {
      "text/plain": [
       "True"
      ]
     },
     "execution_count": 103,
     "metadata": {},
     "output_type": "execute_result"
    }
   ],
   "source": [
    "tf.executing_eagerly()"
   ]
  },
  {
   "cell_type": "code",
   "execution_count": 104,
   "metadata": {},
   "outputs": [],
   "source": [
    "import warnings\n",
    "warnings.filterwarnings('ignore')"
   ]
  },
  {
   "cell_type": "code",
   "execution_count": 105,
   "metadata": {},
   "outputs": [],
   "source": [
    "import matplotlib.pylab as pylab\n",
    "params = {'legend.fontsize': 'x-large',\n",
    "          'figure.figsize': (15, 5),\n",
    "         'axes.labelsize': 'x-large',\n",
    "         'axes.titlesize':'x-large',\n",
    "         'xtick.labelsize':'x-large',\n",
    "         'ytick.labelsize':'x-large'}\n",
    "pylab.rcParams.update(params)"
   ]
  },
  {
   "cell_type": "code",
   "execution_count": 106,
   "metadata": {},
   "outputs": [
    {
     "name": "stdout",
     "output_type": "stream",
     "text": [
      "1 Physical GPUs, 1 Logical GPUs\n"
     ]
    }
   ],
   "source": [
    "gpus = tf.config.list_physical_devices('GPU')\n",
    "if gpus:\n",
    "  try:\n",
    "    # Currently, memory growth needs to be the same across GPUs\n",
    "    for gpu in gpus:\n",
    "      tf.config.experimental.set_memory_growth(gpu, True)\n",
    "    logical_gpus = tf.config.list_logical_devices('GPU')\n",
    "    print(len(gpus), \"Physical GPUs,\", len(logical_gpus), \"Logical GPUs\")\n",
    "  except RuntimeError as e:\n",
    "    # Memory growth must be set before GPUs have been initialized\n",
    "    print(e)"
   ]
  },
  {
   "cell_type": "code",
   "execution_count": 107,
   "metadata": {},
   "outputs": [],
   "source": [
    "NUM_PARENTS = 7\n",
    "NUM_TARGETS = 372\n",
    "NUM_TIME_STEPS = 11\n",
    "NUM_REPLICATES_TOTAL = 4\n",
    "NUM_REPLICATES = 3 #used to be 4, but replicate 4 is trash"
   ]
  },
  {
   "cell_type": "code",
   "execution_count": 108,
   "metadata": {
    "id": "gXpISOijEYqQ"
   },
   "outputs": [],
   "source": [
    "\n",
    "# matrix_path = \"regulator-gene-matrix.csv\"\n",
    "# data_path_syn = r\"C:\\Users\\Fin Amin\\Desktop\\StemCellResearch\\Fin_preProcessed\\synData\"\n",
    "# data_path_inter =  r\"C:\\Users\\Fin Amin\\Desktop\\StemCellResearch\\Fin_preProcessed\\interpolatedOnly\"\n",
    "# data_path_og_exp1 = r\"C:\\Users\\Fin Amin\\Desktop\\StemCellResearch\\Fin_preProcessed\\datasets\\exp1\"\n",
    "# data_path_testSet = r\"C:\\Users\\Fin Amin\\Desktop\\StemCellResearch\\testSetFixed\"\n",
    "# data_path_petal = r\"C:\\Users\\Fin Amin\\Desktop\\StemCellResearch\\petal_len.xlsx\""
   ]
  },
  {
   "cell_type": "code",
   "execution_count": 109,
   "metadata": {},
   "outputs": [],
   "source": [
    "dirty_RGM = r'Regulations_Control_Altona.csv'\n",
    "dirty_regulations = r'FullTable_Control.csv'"
   ]
  },
  {
   "cell_type": "code",
   "execution_count": 110,
   "metadata": {},
   "outputs": [
    {
     "data": {
      "text/plain": [
       "(372, 44)"
      ]
     },
     "execution_count": 110,
     "metadata": {},
     "output_type": "execute_result"
    }
   ],
   "source": [
    "dirtyRGM = pd.read_csv(dirty_RGM,  index_col = 0, )#on_bad_lines='skip')\n",
    "dirtyReg = pd.read_csv(dirty_regulations,  index_col = 0,)# on_bad_lines='skip')\n",
    "dirtyReg = dirtyReg.select_dtypes(include=np.number)\n",
    "dirtyReg = dirtyReg.to_numpy()\n",
    "dirtyReg.shape"
   ]
  },
  {
   "cell_type": "code",
   "execution_count": 112,
   "metadata": {},
   "outputs": [
    {
     "data": {
      "text/plain": [
       "(4, 11, 372)"
      ]
     },
     "execution_count": 112,
     "metadata": {},
     "output_type": "execute_result"
    }
   ],
   "source": [
    "#TODO: Fix this. it puts nans where it should not. \n",
    "\n",
    "def fix_dataset(dirtyR):\n",
    "    dataset = np.zeros(shape=(NUM_REPLICATES_TOTAL,NUM_TARGETS, NUM_TIME_STEPS))\n",
    "    ret = np.zeros(shape=(NUM_REPLICATES_TOTAL,NUM_TIME_STEPS, NUM_TARGETS))\n",
    "\n",
    "    for i in range(0,NUM_REPLICATES_TOTAL*NUM_TIME_STEPS, 4):\n",
    "        for j in range(0, NUM_REPLICATES_TOTAL):\n",
    "            dataset[j][:,i//NUM_REPLICATES_TOTAL] = dirtyR[:,(i+j)]\n",
    "    \n",
    "    dataset[dataset==0] = np.nan\n",
    "\n",
    "\n",
    "    for i in range(NUM_REPLICATES_TOTAL):\n",
    "        regScaled = MinMaxScaler().fit_transform(dataset[i].flatten().reshape((-1,1)))\n",
    "        regScaled = regScaled.reshape((NUM_TARGETS, NUM_TIME_STEPS))\n",
    "        regScaled = np.nan_to_num(regScaled, nan= -1.0)\n",
    "        ret[i] = regScaled.T\n",
    "    return ret\n",
    "\n",
    "dataset = fix_dataset(dirtyR=dirtyReg)\n",
    "dataset.shape"
   ]
  },
  {
   "cell_type": "code",
   "execution_count": 113,
   "metadata": {},
   "outputs": [
    {
     "name": "stdout",
     "output_type": "stream",
     "text": [
      "(2, 11, 372) (1, 11, 372) (3, 11, 372)\n"
     ]
    }
   ],
   "source": [
    "beanIntensities = dataset[0:2]\n",
    "validation = np.array([dataset[2]])\n",
    "allData = dataset[0:NUM_REPLICATES]\n",
    "print(beanIntensities.shape, validation.shape, allData.shape)"
   ]
  },
  {
   "cell_type": "code",
   "execution_count": 34,
   "metadata": {},
   "outputs": [],
   "source": [
    "#the third replicate is trash. we will not use it. \n",
    "# df(dataset[3]).head(11) "
   ]
  },
  {
   "cell_type": "code",
   "execution_count": 35,
   "metadata": {},
   "outputs": [
    {
     "data": {
      "text/plain": [
       "(372, 372)"
      ]
     },
     "execution_count": 35,
     "metadata": {},
     "output_type": "execute_result"
    }
   ],
   "source": [
    "regulator_gene_matrix = np.load(\"soyBeanRGM.npy\")\n",
    "regulator_gene_matrix = regulator_gene_matrix.astype('float32')\n",
    "regulator_gene_matrix.shape"
   ]
  },
  {
   "attachments": {},
   "cell_type": "markdown",
   "metadata": {},
   "source": [
    "# Super Parent Matrix + Custom Loss"
   ]
  },
  {
   "cell_type": "code",
   "execution_count": 36,
   "metadata": {},
   "outputs": [
    {
     "name": "stdout",
     "output_type": "stream",
     "text": [
      "shape of parent index (7,)\n"
     ]
    }
   ],
   "source": [
    "superParent = regulator_gene_matrix.copy() #init the super parent with the ordinary RGM, and do forward passes with super parent\n",
    "#print(superParent.shape)\n",
    "\n",
    "ones = np.ones((NUM_TARGETS))\n",
    "parentIndex = []\n",
    "not_parentIndex = []\n",
    "for i in range(len(regulator_gene_matrix)):\n",
    "    if (np.isin(regulator_gene_matrix[i], [1])).any():\n",
    "        #print(i)\n",
    "        superParent[i] = ones \n",
    "        parentIndex.append(i)\n",
    "    else:\n",
    "        not_parentIndex.append(i)\n",
    "\n",
    "parentIndex = np.array(parentIndex)\n",
    "parentIndex = tf.convert_to_tensor(parentIndex)\n",
    "parent_idx = parentIndex.numpy()\n",
    "not_parentIndex = np.array(not_parentIndex)\n",
    "not_parentIndex = tf.convert_to_tensor(not_parentIndex)\n",
    "print(\"shape of parent index\", parentIndex.shape)\n",
    "\n",
    "def ignore_noParent_MSE_old(y_true, y_pred): \n",
    "    l = tf.keras.losses.MeanSquaredError()\n",
    "    y_true_pruned = tf.gather(y_true,parentIndex, axis =2) \n",
    "    #print(y_true_pruned.shape\n",
    "    y_pred_pruned = tf.gather(y_pred, parentIndex, axis =2)   \n",
    "    return l(y_true_pruned, y_pred_pruned)\n",
    "\n",
    "#this will not work if the entire dataset is -1 (degenerate), or has only one actual value (also degen)\n",
    "def ignore_noParent_MSE(y_true, y_pred): \n",
    "    l = tf.keras.losses.MeanSquaredError()\n",
    "   # print(y_true.shape) #(None, 44, 372)\n",
    "\n",
    "    #get the parents and flatten them\n",
    "    y_true_pruned = tf.gather(y_true, parentIndex, axis = 2) #axis 2 because batch, time, gene\n",
    "    y_true_pruned = tf.reshape(y_true_pruned, shape=([tf.size(y_true_pruned)] ) )\n",
    "\n",
    "   # print(y_true_pruned.shape)\n",
    "   # print(\"tf size\", tf.size(y_true_pruned))\n",
    "\n",
    "    y_pred_pruned = tf.gather(y_pred, parentIndex, axis = 2) \n",
    "    y_pred_pruned = tf.reshape(y_pred_pruned, shape=([tf.size(y_pred_pruned)]) )\n",
    "\n",
    "    #get the index of the parents which are not -1\n",
    "    y_true_posID = tf.where(y_true_pruned >= 0) #gets args\n",
    "    y_true_posID = tf.squeeze(y_true_posID)\n",
    "    #get the idx of all the -1s \n",
    "    y_true_negID = tf.where(y_true_pruned < 0) \n",
    "    y_true_negID = tf.squeeze(y_true_negID)\n",
    "\n",
    "    #get all the -1s in the parents \n",
    "    y_true_neg = tf.gather(y_true_pruned, y_true_negID) #get all the -1s in y_true\n",
    "    y_pred_neg = tf.gather(y_pred_pruned, y_true_negID) #get the corresponding values for y_pred\n",
    "\n",
    "    #get the indexes where pred should be -1 but is not. get the corresponding index for ytrue\n",
    "    y_shouldBeNegButIsntID = tf.where(y_pred_neg >= 0)  \n",
    "    y_shouldBeNegButIsntID = tf.squeeze(y_shouldBeNegButIsntID) #get the idx which should be -1 for prediction but are not\n",
    "    y_true_wrong = tf.gather(y_true_pruned, y_shouldBeNegButIsntID) #get the same corresponding values from ytrue\n",
    "    y_shouldBeNegButIsnt = tf.gather(y_pred_pruned, y_shouldBeNegButIsntID) #this has all the wrongly predicted values which should be -1 but are not\n",
    "\n",
    "    y_true_pos = tf.gather(y_true_pruned, y_true_posID)\n",
    "    y_pred_pos = tf.gather(y_pred_pruned, y_true_posID)\n",
    "\n",
    "    if tf.size(y_shouldBeNegButIsnt) == 0: #we can not concatenate if the size is 0. \n",
    "        return l(y_true_pos, y_pred_pos)\n",
    "\n",
    "    if tf.size(y_shouldBeNegButIsnt) == 1: #dim goes away if size = 1. \n",
    "        y_shouldBeNegButIsnt = tf.expand_dims(y_shouldBeNegButIsnt, axis = 0) #should all be flattened\n",
    "        y_true_wrong = tf.expand_dims(y_true_wrong, axis=0)\n",
    "\n",
    "    #print(\"y_pred\", (y_pred_pos), \"y_true\", (y_shouldBeNegButIsnt))\n",
    "    try:\n",
    "        y_pred_total = tf.concat([y_pred_pos, y_shouldBeNegButIsnt], axis = 0) #concatenate for total mse\n",
    "        y_true_total = tf.concat([y_true_pos, y_true_wrong], axis = 0)\n",
    "    except Exception as e:\n",
    "        print(y_pred_pos.shape, y_shouldBeNegButIsnt.shape, tf.size(y_shouldBeNegButIsnt))\n",
    "        return l(y_true_pos, y_pred_pos)\n",
    "\n",
    "    return l(y_true_total, y_pred_total)"
   ]
  },
  {
   "cell_type": "code",
   "execution_count": 37,
   "metadata": {},
   "outputs": [
    {
     "data": {
      "text/plain": [
       "array([117, 131, 164, 225, 259, 334, 350])"
      ]
     },
     "execution_count": 37,
     "metadata": {},
     "output_type": "execute_result"
    }
   ],
   "source": [
    "parent_idx"
   ]
  },
  {
   "cell_type": "code",
   "execution_count": 38,
   "metadata": {},
   "outputs": [
    {
     "data": {
      "image/png": "[encoded data removed]",
      "text/plain": [
       "<Figure size 1080x360 with 1 Axes>"
      ]
     },
     "metadata": {
      "needs_background": "light"
     },
     "output_type": "display_data"
    }
   ],
   "source": [
    "plt.imshow(superParent, cmap='hot');\n",
    "plt.xlabel(\"Substrate\");\n",
    "plt.ylabel(\"Regulator\");"
   ]
  },
  {
   "cell_type": "code",
   "execution_count": 39,
   "metadata": {},
   "outputs": [
    {
     "data": {
      "image/png": "[encoded data removed]",
      "text/plain": [
       "<Figure size 1080x360 with 1 Axes>"
      ]
     },
     "metadata": {
      "needs_background": "light"
     },
     "output_type": "display_data"
    }
   ],
   "source": [
    "plt.imshow(regulator_gene_matrix, cmap='hot');\n",
    "plt.xlabel(\"Substrate\");\n",
    "plt.ylabel(\"Regulator\");"
   ]
  },
  {
   "cell_type": "markdown",
   "metadata": {},
   "source": [
    "# Ordinary Auto Encoder"
   ]
  },
  {
   "cell_type": "code",
   "execution_count": 40,
   "metadata": {
    "id": "1yhzyikoFncq"
   },
   "outputs": [],
   "source": [
    "class EncoderLinear(tf.keras.layers.Layer):\n",
    "    def __init__(self, rgm, input_dim=32, units=32):\n",
    "        super(EncoderLinear, self).__init__()\n",
    "        self.rgm = rgm\n",
    "        \n",
    "        def init_weights(shape, dtype=\"float32\"):\n",
    "\n",
    "            w_init = tf.random_normal_initializer()(shape=shape, dtype=dtype) * tf.convert_to_tensor(self.rgm, dtype=dtype)\n",
    "\n",
    "            return w_init\n",
    "        \n",
    "\n",
    "        self.w = tf.Variable(\n",
    "            initial_value=init_weights(shape=(input_dim, units), dtype=\"float32\"),\n",
    "            trainable=True,\n",
    "        )\n",
    "\n",
    "    def call(self, inputs):\n",
    "        X = inputs\n",
    "        return tf.matmul(X, tf.multiply(self.rgm, self.w))\n",
    "    #tf.matmul(inputs, self.w)"
   ]
  },
  {
   "cell_type": "code",
   "execution_count": 41,
   "metadata": {
    "id": "4uchxU-bmBDe"
   },
   "outputs": [],
   "source": [
    "class DecoderLinear(tf.keras.layers.Layer):\n",
    "    def __init__(self, rgm, input_dim=32, units=32):\n",
    "        super(DecoderLinear, self).__init__()\n",
    "        self.rgm = rgm\n",
    "\n",
    "        def init_weights(shape, dtype=\"float32\"):\n",
    "\n",
    "            w_init = tf.random_normal_initializer()(shape=shape, dtype=dtype) * tf.transpose(tf.convert_to_tensor(self.rgm, dtype=dtype))\n",
    "\n",
    "            return w_init\n",
    "    \n",
    "        \n",
    "        self.w = tf.Variable(\n",
    "            initial_value=init_weights(shape=(input_dim, units), dtype=\"float32\"),\n",
    "            trainable=True,\n",
    "        )\n",
    "\n",
    "    def call(self, inputs):\n",
    "        X = inputs\n",
    "        #return tf.matmul(X, tf.multiply((self.rgm), self.w))\n",
    "        X = tf.matmul(X, tf.multiply(tf.transpose(self.rgm), self.w)) \n",
    "        #return tf.matmul(inputs, self.w)\n",
    "        # v = tf.zeros_like(X)\n",
    "        # u = tf.ones_like(X)\n",
    "        # u = tf.math.scalar_mul(-3.0, u)\n",
    "        \n",
    "        return X#tf.where(tf.math.less(X, v), u, X) #where X is less than 0, return -1 \n",
    "        \n",
    "        "
   ]
  },
  {
   "cell_type": "code",
   "execution_count": 42,
   "metadata": {
    "id": "PQVz4BCpmNMd"
   },
   "outputs": [],
   "source": [
    "def encoder(parent_child_biological_association, num_hidden_units=21):\n",
    "    '''\n",
    "    Encoder structure\n",
    "    '''\n",
    "    '''\n",
    "    The data is time-series. Therefore, CNN to learn the temporal relationship between \n",
    "    the intensities for each gene.\n",
    "    '''\n",
    "    en_conv = Conv1D(490, 3, activation = \"relu\")(parent_child_biological_association) # 6*NUM_TARGETS Conv1D(32, 3, activation = \"relu\")(parent_child_biological_association)\n",
    "    en_dense = Flatten()(en_conv)\n",
    "    phenotype = Dense(num_hidden_units)(en_dense)\n",
    "    return phenotype\n",
    "\n",
    "def decoder(X, num_protein_gene, time_steps):\n",
    "    '''\n",
    "    Decoder structure\n",
    "    '''\n",
    "    de_dense = Dense(1024)(X)#Dense(128)(X)\n",
    "    de_dense = Reshape((1, 1024))(de_dense) #tf.reshape(de_dense, (self.batch_size,1,128))\n",
    "    de_deconv = Conv1DTranspose(num_protein_gene, time_steps, activation = \"relu\")(de_dense) #used to be transpose\n",
    "    #de_deconv = Conv1D(num_protein_gene, time_steps, activation = \"relu\")(de_dense) \n",
    "    # gene_reconstruction = self.decoder_biological_operation(de_deconv)\n",
    "    return de_deconv\n",
    "\n",
    "def model(rgm, num_protein_gene, time_steps, num_kinase_regulators, num_hidden_units = 32):\n",
    "    inp = Input(shape=(time_steps, num_kinase_regulators))\n",
    "    x = EncoderLinear(rgm, NUM_TARGETS, NUM_TARGETS)(inp)\n",
    "    enc = encoder(x, num_hidden_units)\n",
    "    dec = decoder(enc, num_protein_gene, time_steps)\n",
    "    out = DecoderLinear(rgm, NUM_TARGETS, NUM_TARGETS)(dec)\n",
    "\n",
    "    _model = tf.keras.Model(inputs=inp, outputs=out)\n",
    "\n",
    "    return _model"
   ]
  },
  {
   "cell_type": "code",
   "execution_count": 43,
   "metadata": {},
   "outputs": [],
   "source": [
    "ordinaryAE = model(regulator_gene_matrix, NUM_TARGETS, NUM_TIME_STEPS, NUM_TARGETS)\n",
    "ordinaryAE.compile(optimizer='adam', loss=ignore_noParent_MSE)"
   ]
  },
  {
   "cell_type": "code",
   "execution_count": 44,
   "metadata": {},
   "outputs": [
    {
     "name": "stdout",
     "output_type": "stream",
     "text": [
      "Epoch 1/200\n",
      "1/1 [==============================] - 8s 8s/step - loss: 0.2166 - val_loss: 0.2558\n",
      "Epoch 2/200\n",
      "1/1 [==============================] - 0s 26ms/step - loss: 0.2039 - val_loss: 0.2488\n",
      "Epoch 3/200\n",
      "1/1 [==============================] - 0s 25ms/step - loss: 0.2042 - val_loss: 0.2301\n",
      "Epoch 4/200\n",
      "1/1 [==============================] - 0s 26ms/step - loss: 0.1985 - val_loss: 0.1958\n",
      "Epoch 5/200\n",
      "1/1 [==============================] - 0s 25ms/step - loss: 0.1687 - val_loss: 0.1413\n",
      "Epoch 6/200\n",
      "1/1 [==============================] - 0s 26ms/step - loss: 0.1267 - val_loss: 0.0816\n",
      "Epoch 7/200\n",
      "1/1 [==============================] - 0s 24ms/step - loss: 0.0826 - val_loss: 0.0752\n",
      "Epoch 8/200\n",
      "1/1 [==============================] - 0s 25ms/step - loss: 0.0841 - val_loss: 0.0649\n",
      "Epoch 9/200\n",
      "1/1 [==============================] - 0s 25ms/step - loss: 0.0739 - val_loss: 0.0326\n",
      "Epoch 10/200\n",
      "1/1 [==============================] - 0s 26ms/step - loss: 0.0386 - val_loss: 0.0223\n",
      "Epoch 11/200\n",
      "1/1 [==============================] - 0s 24ms/step - loss: 0.0311 - val_loss: 0.0273\n",
      "Epoch 12/200\n",
      "1/1 [==============================] - 0s 25ms/step - loss: 0.0316 - val_loss: 0.0319\n",
      "Epoch 13/200\n",
      "1/1 [==============================] - 0s 26ms/step - loss: 0.0315 - val_loss: 0.0313\n",
      "Epoch 14/200\n",
      "1/1 [==============================] - 0s 25ms/step - loss: 0.0298 - val_loss: 0.0289\n",
      "Epoch 15/200\n",
      "1/1 [==============================] - 0s 25ms/step - loss: 0.0274 - val_loss: 0.0284\n",
      "Epoch 16/200\n",
      "1/1 [==============================] - 0s 26ms/step - loss: 0.0287 - val_loss: 0.0277\n",
      "Epoch 17/200\n",
      "1/1 [==============================] - 0s 26ms/step - loss: 0.0320 - val_loss: 0.0231\n",
      "Epoch 18/200\n",
      "1/1 [==============================] - 0s 25ms/step - loss: 0.0284 - val_loss: 0.0163\n",
      "Epoch 19/200\n",
      "1/1 [==============================] - 0s 25ms/step - loss: 0.0224 - val_loss: 0.0120\n",
      "Epoch 20/200\n",
      "1/1 [==============================] - 0s 25ms/step - loss: 0.0199 - val_loss: 0.0109\n",
      "Epoch 21/200\n",
      "1/1 [==============================] - 0s 26ms/step - loss: 0.0186 - val_loss: 0.0104\n",
      "Epoch 22/200\n",
      "1/1 [==============================] - 0s 25ms/step - loss: 0.0181 - val_loss: 0.0090\n",
      "Epoch 23/200\n",
      "1/1 [==============================] - 0s 25ms/step - loss: 0.0132 - val_loss: 0.0074\n",
      "Epoch 24/200\n",
      "1/1 [==============================] - 0s 27ms/step - loss: 0.0125 - val_loss: 0.0068\n",
      "Epoch 25/200\n",
      "1/1 [==============================] - 0s 25ms/step - loss: 0.0121 - val_loss: 0.0067\n",
      "Epoch 26/200\n",
      "1/1 [==============================] - 0s 25ms/step - loss: 0.0139 - val_loss: 0.0061\n",
      "Epoch 27/200\n",
      "1/1 [==============================] - 0s 26ms/step - loss: 0.0112 - val_loss: 0.0056\n",
      "Epoch 28/200\n",
      "1/1 [==============================] - 0s 25ms/step - loss: 0.0100 - val_loss: 0.0059\n",
      "Epoch 29/200\n",
      "1/1 [==============================] - 0s 26ms/step - loss: 0.0095 - val_loss: 0.0062\n",
      "Epoch 30/200\n",
      "1/1 [==============================] - 0s 25ms/step - loss: 0.0094 - val_loss: 0.0058\n",
      "Epoch 31/200\n",
      "1/1 [==============================] - 0s 25ms/step - loss: 0.0085 - val_loss: 0.0052\n",
      "Epoch 32/200\n",
      "1/1 [==============================] - 0s 25ms/step - loss: 0.0149 - val_loss: 0.0050\n",
      "Epoch 33/200\n",
      "1/1 [==============================] - 0s 24ms/step - loss: 0.0144 - val_loss: 0.0053\n",
      "Epoch 34/200\n",
      "1/1 [==============================] - 0s 26ms/step - loss: 0.0141 - val_loss: 0.0059\n",
      "Epoch 35/200\n",
      "1/1 [==============================] - 0s 26ms/step - loss: 0.0147 - val_loss: 0.0063\n",
      "Epoch 36/200\n",
      "1/1 [==============================] - 0s 26ms/step - loss: 0.0139 - val_loss: 0.0071\n",
      "Epoch 37/200\n",
      "1/1 [==============================] - 0s 25ms/step - loss: 0.0132 - val_loss: 0.0081\n",
      "Epoch 38/200\n",
      "1/1 [==============================] - 0s 25ms/step - loss: 0.0123 - val_loss: 0.0080\n",
      "Epoch 39/200\n",
      "1/1 [==============================] - 0s 25ms/step - loss: 0.0119 - val_loss: 0.0072\n",
      "Epoch 40/200\n",
      "1/1 [==============================] - 0s 25ms/step - loss: 0.0113 - val_loss: 0.0063\n",
      "Epoch 41/200\n",
      "1/1 [==============================] - 0s 25ms/step - loss: 0.0111 - val_loss: 0.0056\n",
      "Epoch 42/200\n",
      "1/1 [==============================] - 0s 26ms/step - loss: 0.0108 - val_loss: 0.0055\n",
      "Epoch 43/200\n",
      "1/1 [==============================] - 0s 26ms/step - loss: 0.0109 - val_loss: 0.0050\n",
      "Epoch 44/200\n",
      "1/1 [==============================] - 0s 26ms/step - loss: 0.0103 - val_loss: 0.0046\n",
      "Epoch 45/200\n",
      "1/1 [==============================] - 0s 26ms/step - loss: 0.0100 - val_loss: 0.0046\n",
      "Epoch 46/200\n",
      "1/1 [==============================] - 0s 25ms/step - loss: 0.0100 - val_loss: 0.0051\n",
      "Epoch 47/200\n",
      "1/1 [==============================] - 0s 26ms/step - loss: 0.0101 - val_loss: 0.0050\n",
      "Epoch 48/200\n",
      "1/1 [==============================] - 0s 25ms/step - loss: 0.0095 - val_loss: 0.0046\n",
      "Epoch 49/200\n",
      "1/1 [==============================] - 0s 26ms/step - loss: 0.0091 - val_loss: 0.0042\n",
      "Epoch 50/200\n",
      "1/1 [==============================] - 0s 26ms/step - loss: 0.0042 - val_loss: 0.0038\n",
      "Epoch 51/200\n",
      "1/1 [==============================] - 0s 25ms/step - loss: 0.0084 - val_loss: 0.0037\n",
      "Epoch 52/200\n",
      "1/1 [==============================] - 0s 27ms/step - loss: 0.0042 - val_loss: 0.0037\n",
      "Epoch 53/200\n",
      "1/1 [==============================] - 0s 26ms/step - loss: 0.0078 - val_loss: 0.0038\n",
      "Epoch 54/200\n",
      "1/1 [==============================] - 0s 27ms/step - loss: 0.0072 - val_loss: 0.0041\n",
      "Epoch 55/200\n",
      "1/1 [==============================] - 0s 26ms/step - loss: 0.0068 - val_loss: 0.0045\n",
      "Epoch 56/200\n",
      "1/1 [==============================] - 0s 28ms/step - loss: 0.0049 - val_loss: 0.0042\n",
      "Epoch 57/200\n",
      "1/1 [==============================] - 0s 27ms/step - loss: 0.0034 - val_loss: 0.0040\n",
      "Epoch 58/200\n",
      "1/1 [==============================] - 0s 27ms/step - loss: 0.0046 - val_loss: 0.0039\n",
      "Epoch 59/200\n",
      "1/1 [==============================] - 0s 28ms/step - loss: 0.0045 - val_loss: 0.0041\n",
      "Epoch 60/200\n",
      "1/1 [==============================] - 0s 28ms/step - loss: 0.0040 - val_loss: 0.0040\n",
      "Epoch 61/200\n",
      "1/1 [==============================] - 0s 29ms/step - loss: 0.0037 - val_loss: 0.0044\n",
      "Epoch 62/200\n",
      "1/1 [==============================] - 0s 29ms/step - loss: 0.0034 - val_loss: 0.0052\n",
      "Epoch 63/200\n",
      "1/1 [==============================] - 0s 29ms/step - loss: 0.0036 - val_loss: 0.0055\n",
      "Epoch 64/200\n",
      "1/1 [==============================] - 0s 28ms/step - loss: 0.0038 - val_loss: 0.0049\n",
      "Epoch 65/200\n",
      "1/1 [==============================] - 0s 28ms/step - loss: 0.0035 - val_loss: 0.0041\n",
      "Epoch 66/200\n",
      "1/1 [==============================] - 0s 26ms/step - loss: 0.0033 - val_loss: 0.0039\n",
      "Epoch 67/200\n",
      "1/1 [==============================] - 0s 27ms/step - loss: 0.0035 - val_loss: 0.0038\n",
      "Epoch 68/200\n",
      "1/1 [==============================] - 0s 28ms/step - loss: 0.0035 - val_loss: 0.0038\n",
      "Epoch 69/200\n",
      "1/1 [==============================] - 0s 27ms/step - loss: 0.0045 - val_loss: 0.0039\n",
      "Epoch 70/200\n",
      "1/1 [==============================] - 0s 27ms/step - loss: 0.0032 - val_loss: 0.0041\n",
      "Epoch 71/200\n",
      "1/1 [==============================] - 0s 28ms/step - loss: 0.0032 - val_loss: 0.0041\n",
      "Epoch 72/200\n",
      "1/1 [==============================] - 0s 28ms/step - loss: 0.0046 - val_loss: 0.0038\n",
      "Epoch 73/200\n",
      "1/1 [==============================] - 0s 27ms/step - loss: 0.0043 - val_loss: 0.0037\n",
      "Epoch 74/200\n",
      "1/1 [==============================] - 0s 26ms/step - loss: 0.0035 - val_loss: 0.0037\n",
      "Epoch 75/200\n",
      "1/1 [==============================] - 0s 28ms/step - loss: 0.0036 - val_loss: 0.0038\n",
      "Epoch 76/200\n",
      "1/1 [==============================] - 0s 28ms/step - loss: 0.0033 - val_loss: 0.0045\n",
      "Epoch 77/200\n",
      "1/1 [==============================] - 0s 27ms/step - loss: 0.0043 - val_loss: 0.0044\n",
      "Epoch 78/200\n",
      "1/1 [==============================] - 0s 27ms/step - loss: 0.0042 - val_loss: 0.0038\n",
      "Epoch 79/200\n",
      "1/1 [==============================] - 0s 26ms/step - loss: 0.0036 - val_loss: 0.0036\n",
      "Epoch 80/200\n",
      "1/1 [==============================] - 0s 29ms/step - loss: 0.0035 - val_loss: 0.0038\n",
      "Epoch 81/200\n",
      "1/1 [==============================] - 0s 27ms/step - loss: 0.0049 - val_loss: 0.0036\n",
      "Epoch 82/200\n",
      "1/1 [==============================] - 0s 27ms/step - loss: 0.0038 - val_loss: 0.0050\n",
      "Epoch 83/200\n",
      "1/1 [==============================] - 0s 28ms/step - loss: 0.0038 - val_loss: 0.0059\n",
      "Epoch 84/200\n",
      "1/1 [==============================] - 0s 26ms/step - loss: 0.0043 - val_loss: 0.0048\n",
      "Epoch 85/200\n",
      "1/1 [==============================] - 0s 18ms/step - loss: 0.0035 - val_loss: 0.0036\n",
      "Epoch 86/200\n",
      "1/1 [==============================] - 0s 26ms/step - loss: 0.0029 - val_loss: 0.0037\n",
      "Epoch 87/200\n",
      "1/1 [==============================] - 0s 26ms/step - loss: 0.0051 - val_loss: 0.0035\n",
      "Epoch 88/200\n",
      "1/1 [==============================] - 0s 25ms/step - loss: 0.0041 - val_loss: 0.0043\n",
      "Epoch 89/200\n",
      "1/1 [==============================] - 0s 26ms/step - loss: 0.0030 - val_loss: 0.0057\n",
      "Epoch 90/200\n",
      "1/1 [==============================] - 0s 27ms/step - loss: 0.0034 - val_loss: 0.0056\n",
      "Epoch 91/200\n",
      "1/1 [==============================] - 0s 27ms/step - loss: 0.0058 - val_loss: 0.0038\n",
      "Epoch 92/200\n",
      "1/1 [==============================] - 0s 21ms/step - loss: 0.0046 - val_loss: 0.0031\n",
      "Epoch 93/200\n",
      "1/1 [==============================] - 0s 34ms/step - loss: 0.0028 - val_loss: 0.0036\n",
      "Epoch 94/200\n",
      "1/1 [==============================] - 0s 26ms/step - loss: 0.0035 - val_loss: 0.0032\n",
      "Epoch 95/200\n",
      "1/1 [==============================] - 0s 27ms/step - loss: 0.0027 - val_loss: 0.0033\n",
      "Epoch 96/200\n",
      "1/1 [==============================] - 0s 28ms/step - loss: 0.0020 - val_loss: 0.0044\n",
      "Epoch 97/200\n",
      "1/1 [==============================] - 0s 18ms/step - loss: 0.0023 - val_loss: 0.0046\n",
      "Epoch 98/200\n",
      "1/1 [==============================] - 0s 39ms/step - loss: 0.0023 - val_loss: 0.0034\n",
      "Epoch 99/200\n",
      "1/1 [==============================] - 0s 24ms/step - loss: 0.0022 - val_loss: 0.0025\n",
      "Epoch 100/200\n",
      "1/1 [==============================] - 0s 32ms/step - loss: 0.0022 - val_loss: 0.0023\n",
      "Epoch 101/200\n",
      "1/1 [==============================] - 0s 27ms/step - loss: 0.0020 - val_loss: 0.0025\n",
      "Epoch 102/200\n",
      "1/1 [==============================] - 0s 28ms/step - loss: 0.0018 - val_loss: 0.0024\n",
      "Epoch 103/200\n",
      "1/1 [==============================] - 0s 27ms/step - loss: 0.0011 - val_loss: 0.0025\n",
      "Epoch 104/200\n",
      "1/1 [==============================] - 0s 17ms/step - loss: 8.1452e-04 - val_loss: 0.0023\n",
      "Epoch 105/200\n",
      "1/1 [==============================] - 0s 38ms/step - loss: 7.9596e-04 - val_loss: 0.0021\n",
      "Epoch 106/200\n",
      "1/1 [==============================] - 0s 28ms/step - loss: 7.0881e-04 - val_loss: 0.0020\n",
      "Epoch 107/200\n",
      "1/1 [==============================] - 0s 28ms/step - loss: 6.4554e-04 - val_loss: 0.0021\n",
      "Epoch 108/200\n",
      "1/1 [==============================] - 0s 26ms/step - loss: 6.2429e-04 - val_loss: 0.0022\n",
      "Epoch 109/200\n",
      "1/1 [==============================] - 0s 26ms/step - loss: 5.6616e-04 - val_loss: 0.0022\n",
      "Epoch 110/200\n",
      "1/1 [==============================] - 0s 28ms/step - loss: 6.1274e-04 - val_loss: 0.0020\n",
      "Epoch 111/200\n",
      "1/1 [==============================] - 0s 28ms/step - loss: 5.5073e-04 - val_loss: 0.0019\n",
      "Epoch 112/200\n",
      "1/1 [==============================] - 0s 28ms/step - loss: 4.8448e-04 - val_loss: 0.0019\n",
      "Epoch 113/200\n",
      "1/1 [==============================] - 0s 21ms/step - loss: 4.6773e-04 - val_loss: 0.0020\n",
      "Epoch 114/200\n",
      "1/1 [==============================] - 0s 34ms/step - loss: 3.1700e-04 - val_loss: 0.0021\n",
      "Epoch 115/200\n",
      "1/1 [==============================] - 0s 29ms/step - loss: 2.5221e-04 - val_loss: 0.0021\n",
      "Epoch 116/200\n",
      "1/1 [==============================] - 0s 27ms/step - loss: 3.0965e-04 - val_loss: 0.0021\n",
      "Epoch 117/200\n",
      "1/1 [==============================] - 0s 26ms/step - loss: 2.7307e-04 - val_loss: 0.0020\n",
      "Epoch 118/200\n",
      "1/1 [==============================] - 0s 28ms/step - loss: 1.2780e-04 - val_loss: 0.0019\n",
      "Epoch 119/200\n",
      "1/1 [==============================] - 0s 28ms/step - loss: 1.3534e-04 - val_loss: 0.0019\n",
      "Epoch 120/200\n",
      "1/1 [==============================] - 0s 25ms/step - loss: 1.2352e-04 - val_loss: 0.0020\n",
      "Epoch 121/200\n",
      "1/1 [==============================] - 0s 28ms/step - loss: 1.1097e-04 - val_loss: 0.0020\n",
      "Epoch 122/200\n",
      "1/1 [==============================] - 0s 27ms/step - loss: 1.7513e-04 - val_loss: 0.0020\n",
      "Epoch 123/200\n",
      "1/1 [==============================] - 0s 27ms/step - loss: 1.3896e-04 - val_loss: 0.0019\n",
      "Epoch 124/200\n",
      "1/1 [==============================] - 0s 27ms/step - loss: 9.4163e-05 - val_loss: 0.0018\n",
      "Epoch 125/200\n",
      "1/1 [==============================] - 0s 28ms/step - loss: 9.8985e-05 - val_loss: 0.0019\n",
      "Epoch 126/200\n",
      "1/1 [==============================] - 0s 24ms/step - loss: 7.2146e-05 - val_loss: 0.0019\n",
      "Epoch 127/200\n",
      "1/1 [==============================] - 0s 34ms/step - loss: 7.2962e-05 - val_loss: 0.0019\n",
      "Epoch 128/200\n",
      "1/1 [==============================] - 0s 25ms/step - loss: 6.4345e-05 - val_loss: 0.0019\n",
      "Epoch 129/200\n",
      "1/1 [==============================] - 0s 32ms/step - loss: 5.4091e-05 - val_loss: 0.0018\n",
      "Epoch 130/200\n",
      "1/1 [==============================] - 0s 28ms/step - loss: 4.5556e-05 - val_loss: 0.0018\n",
      "Epoch 131/200\n",
      "1/1 [==============================] - 0s 30ms/step - loss: 5.2272e-05 - val_loss: 0.0018\n",
      "Epoch 132/200\n",
      "1/1 [==============================] - 0s 29ms/step - loss: 4.6926e-05 - val_loss: 0.0018\n",
      "Epoch 133/200\n",
      "1/1 [==============================] - 0s 17ms/step - loss: 3.6379e-05 - val_loss: 0.0019\n",
      "Epoch 134/200\n",
      "1/1 [==============================] - 0s 27ms/step - loss: 6.2714e-05 - val_loss: 0.0019\n",
      "Epoch 135/200\n",
      "1/1 [==============================] - 0s 20ms/step - loss: 3.6119e-05 - val_loss: 0.0019\n",
      "Epoch 136/200\n",
      "1/1 [==============================] - 0s 37ms/step - loss: 5.4094e-05 - val_loss: 0.0018\n",
      "Epoch 137/200\n",
      "1/1 [==============================] - 0s 23ms/step - loss: 1.9628e-05 - val_loss: 0.0018\n",
      "Epoch 138/200\n",
      "1/1 [==============================] - 0s 34ms/step - loss: 1.9678e-05 - val_loss: 0.0018\n",
      "Epoch 139/200\n",
      "1/1 [==============================] - 0s 27ms/step - loss: 4.8517e-05 - val_loss: 0.0018\n",
      "Epoch 140/200\n",
      "1/1 [==============================] - 0s 27ms/step - loss: 1.3344e-05 - val_loss: 0.0018\n",
      "Epoch 141/200\n",
      "1/1 [==============================] - 0s 28ms/step - loss: 1.7946e-05 - val_loss: 0.0018\n",
      "Epoch 142/200\n",
      "1/1 [==============================] - 0s 17ms/step - loss: 1.4239e-05 - val_loss: 0.0018\n",
      "Epoch 143/200\n",
      "1/1 [==============================] - 0s 39ms/step - loss: 3.3113e-05 - val_loss: 0.0018\n",
      "Epoch 144/200\n",
      "1/1 [==============================] - 0s 29ms/step - loss: 3.2345e-05 - val_loss: 0.0018\n",
      "Epoch 145/200\n",
      "1/1 [==============================] - 0s 29ms/step - loss: 2.3607e-05 - val_loss: 0.0018\n",
      "Epoch 146/200\n",
      "1/1 [==============================] - 0s 28ms/step - loss: 1.2182e-05 - val_loss: 0.0018\n",
      "Epoch 147/200\n",
      "1/1 [==============================] - 0s 29ms/step - loss: 1.5586e-05 - val_loss: 0.0018\n",
      "Epoch 148/200\n",
      "1/1 [==============================] - 0s 29ms/step - loss: 1.0122e-05 - val_loss: 0.0018\n",
      "Epoch 149/200\n",
      "1/1 [==============================] - 0s 28ms/step - loss: 7.8390e-06 - val_loss: 0.0018\n",
      "Epoch 150/200\n",
      "1/1 [==============================] - 0s 29ms/step - loss: 1.2155e-05 - val_loss: 0.0018\n",
      "Epoch 151/200\n",
      "1/1 [==============================] - 0s 28ms/step - loss: 4.9583e-06 - val_loss: 0.0018\n",
      "Epoch 152/200\n",
      "1/1 [==============================] - 0s 28ms/step - loss: 4.3752e-06 - val_loss: 0.0018\n",
      "Epoch 153/200\n",
      "1/1 [==============================] - 0s 27ms/step - loss: 1.5080e-05 - val_loss: 0.0018\n",
      "Epoch 154/200\n",
      "1/1 [==============================] - 0s 31ms/step - loss: 4.9822e-06 - val_loss: 0.0018\n",
      "Epoch 155/200\n",
      "1/1 [==============================] - 0s 28ms/step - loss: 1.4454e-05 - val_loss: 0.0018\n",
      "Epoch 156/200\n",
      "1/1 [==============================] - 0s 32ms/step - loss: 4.7390e-06 - val_loss: 0.0018\n",
      "Epoch 157/200\n",
      "1/1 [==============================] - 0s 27ms/step - loss: 1.2723e-05 - val_loss: 0.0018\n",
      "Epoch 158/200\n",
      "1/1 [==============================] - 0s 32ms/step - loss: 1.0493e-05 - val_loss: 0.0018\n",
      "Epoch 159/200\n",
      "1/1 [==============================] - 0s 32ms/step - loss: 3.1268e-06 - val_loss: 0.0018\n",
      "Epoch 160/200\n",
      "1/1 [==============================] - 0s 30ms/step - loss: 2.4854e-06 - val_loss: 0.0018\n",
      "Epoch 161/200\n",
      "1/1 [==============================] - 0s 29ms/step - loss: 1.8015e-06 - val_loss: 0.0018\n",
      "Epoch 162/200\n",
      "1/1 [==============================] - 0s 29ms/step - loss: 2.0596e-06 - val_loss: 0.0018\n",
      "Epoch 163/200\n",
      "1/1 [==============================] - 0s 29ms/step - loss: 1.7904e-06 - val_loss: 0.0018\n",
      "Epoch 164/200\n",
      "1/1 [==============================] - 0s 26ms/step - loss: 3.4336e-06 - val_loss: 0.0018\n",
      "Epoch 165/200\n",
      "1/1 [==============================] - 0s 30ms/step - loss: 1.7498e-06 - val_loss: 0.0018\n",
      "Epoch 166/200\n",
      "1/1 [==============================] - 0s 32ms/step - loss: 1.6985e-06 - val_loss: 0.0018\n",
      "Epoch 167/200\n",
      "1/1 [==============================] - 0s 28ms/step - loss: 1.6011e-06 - val_loss: 0.0018\n",
      "Epoch 168/200\n",
      "1/1 [==============================] - 0s 32ms/step - loss: 1.8116e-06 - val_loss: 0.0018\n",
      "Epoch 169/200\n",
      "1/1 [==============================] - 0s 31ms/step - loss: 1.5892e-06 - val_loss: 0.0018\n",
      "Epoch 170/200\n",
      "1/1 [==============================] - 0s 31ms/step - loss: 1.8594e-06 - val_loss: 0.0018\n",
      "Epoch 171/200\n",
      "1/1 [==============================] - 0s 30ms/step - loss: 1.7168e-06 - val_loss: 0.0018\n",
      "Epoch 172/200\n",
      "1/1 [==============================] - 0s 31ms/step - loss: 1.7731e-06 - val_loss: 0.0018\n",
      "Epoch 173/200\n",
      "1/1 [==============================] - 0s 31ms/step - loss: 1.4359e-06 - val_loss: 0.0018\n",
      "Epoch 174/200\n",
      "1/1 [==============================] - 0s 22ms/step - loss: 7.1838e-07 - val_loss: 0.0018\n",
      "Epoch 175/200\n",
      "1/1 [==============================] - 0s 37ms/step - loss: 7.6287e-07 - val_loss: 0.0018\n",
      "Epoch 176/200\n",
      "1/1 [==============================] - 0s 21ms/step - loss: 1.0195e-06 - val_loss: 0.0018\n",
      "Epoch 177/200\n",
      "1/1 [==============================] - 0s 40ms/step - loss: 6.0102e-07 - val_loss: 0.0018\n",
      "Epoch 178/200\n",
      "1/1 [==============================] - 0s 28ms/step - loss: 6.8486e-07 - val_loss: 0.0018\n",
      "Epoch 179/200\n",
      "1/1 [==============================] - 0s 28ms/step - loss: 6.3542e-07 - val_loss: 0.0018\n",
      "Epoch 180/200\n",
      "1/1 [==============================] - 0s 20ms/step - loss: 3.6322e-07 - val_loss: 0.0018\n",
      "Epoch 181/200\n",
      "1/1 [==============================] - 0s 38ms/step - loss: 5.2415e-07 - val_loss: 0.0018\n",
      "Epoch 182/200\n",
      "1/1 [==============================] - 0s 29ms/step - loss: 6.0456e-07 - val_loss: 0.0018\n",
      "Epoch 183/200\n",
      "1/1 [==============================] - 0s 29ms/step - loss: 2.3089e-07 - val_loss: 0.0018\n",
      "Epoch 184/200\n",
      "1/1 [==============================] - 0s 29ms/step - loss: 5.9754e-07 - val_loss: 0.0018\n",
      "Epoch 185/200\n",
      "1/1 [==============================] - 0s 28ms/step - loss: 5.2908e-07 - val_loss: 0.0018\n",
      "Epoch 186/200\n",
      "1/1 [==============================] - 0s 29ms/step - loss: 1.5878e-07 - val_loss: 0.0018\n",
      "Epoch 187/200\n",
      "1/1 [==============================] - 0s 29ms/step - loss: 2.4925e-07 - val_loss: 0.0018\n",
      "Epoch 188/200\n",
      "1/1 [==============================] - 0s 30ms/step - loss: 3.3268e-07 - val_loss: 0.0018\n",
      "Epoch 189/200\n",
      "1/1 [==============================] - 0s 28ms/step - loss: 1.1509e-07 - val_loss: 0.0018\n",
      "Epoch 190/200\n",
      "1/1 [==============================] - 0s 31ms/step - loss: 2.6976e-07 - val_loss: 0.0018\n",
      "Epoch 191/200\n",
      "1/1 [==============================] - 0s 29ms/step - loss: 1.9437e-07 - val_loss: 0.0018\n",
      "Epoch 192/200\n",
      "1/1 [==============================] - 0s 28ms/step - loss: 9.1579e-08 - val_loss: 0.0018\n",
      "Epoch 193/200\n",
      "1/1 [==============================] - 0s 27ms/step - loss: 1.2765e-07 - val_loss: 0.0018\n",
      "Epoch 194/200\n",
      "1/1 [==============================] - 0s 33ms/step - loss: 7.4540e-08 - val_loss: 0.0018\n",
      "Epoch 195/200\n",
      "1/1 [==============================] - 0s 27ms/step - loss: 7.1086e-08 - val_loss: 0.0018\n",
      "Epoch 196/200\n",
      "1/1 [==============================] - 0s 37ms/step - loss: 9.3840e-08 - val_loss: 0.0018\n",
      "Epoch 197/200\n",
      "1/1 [==============================] - 0s 32ms/step - loss: 5.4860e-08 - val_loss: 0.0018\n",
      "Epoch 198/200\n",
      "1/1 [==============================] - 0s 24ms/step - loss: 5.9320e-08 - val_loss: 0.0018\n",
      "Epoch 199/200\n",
      "1/1 [==============================] - 0s 41ms/step - loss: 9.8413e-08 - val_loss: 0.0018\n",
      "Epoch 200/200\n",
      "1/1 [==============================] - 0s 31ms/step - loss: 7.7260e-08 - val_loss: 0.0018\n"
     ]
    }
   ],
   "source": [
    "o = ordinaryAE.fit(beanIntensities, beanIntensities, epochs=200, verbose = True, validation_data=(validation, validation))\n",
    "#print(o.history['loss'][-1]) #the final loss "
   ]
  },
  {
   "attachments": {},
   "cell_type": "markdown",
   "metadata": {},
   "source": [
    "# Super Parent AutoEncoder"
   ]
  },
  {
   "cell_type": "code",
   "execution_count": 45,
   "metadata": {},
   "outputs": [],
   "source": [
    "class EncoderLinearSuperParent(tf.keras.layers.Layer):\n",
    "    def __init__(self, rgm, oldrgm, input_dim=32, units=32):\n",
    "        super(EncoderLinearSuperParent, self).__init__()\n",
    "        self.rgm = rgm\n",
    "        self.OGrgm = oldrgm\n",
    "        \n",
    "        def init_weights(shape, dtype=\"float32\"):\n",
    "\n",
    "            w_init = tf.random_normal_initializer()(shape=shape, dtype=dtype) * tf.convert_to_tensor(self.OGrgm, dtype=dtype)\n",
    "\n",
    "            return w_init\n",
    "        \n",
    "\n",
    "        self.w = tf.Variable(\n",
    "            initial_value=init_weights(shape=(input_dim, units), dtype=\"float32\"),\n",
    "            trainable=True,\n",
    "        )\n",
    "\n",
    "    def call(self, inputs):\n",
    "        X = inputs\n",
    "        return tf.matmul(X, tf.multiply(self.rgm, self.w))\n",
    "    #tf.matmul(inputs, self.w)\n",
    "\n",
    "class DecoderLinearSuperParent(tf.keras.layers.Layer):\n",
    "    def __init__(self, rgm, oldrgm, input_dim=32, units=32):\n",
    "        super(DecoderLinearSuperParent, self).__init__()\n",
    "        self.rgm = rgm\n",
    "        self.OGrgm = oldrgm\n",
    "\n",
    "        def init_weights(shape, dtype=\"float32\"):\n",
    "\n",
    "            w_init = tf.random_normal_initializer()(shape=shape, dtype=dtype) * tf.transpose(tf.convert_to_tensor(self.rgm, dtype=dtype))\n",
    "\n",
    "            return w_init\n",
    "    \n",
    "        \n",
    "        self.w = tf.Variable(\n",
    "            initial_value=init_weights(shape=(input_dim, units), dtype=\"float32\"),\n",
    "            trainable=True,\n",
    "        )\n",
    "\n",
    "    def call(self, inputs):\n",
    "        X = inputs\n",
    "        #return tf.matmul(X, tf.multiply((self.rgm), self.w))\n",
    "        X = tf.matmul(X, tf.multiply(tf.transpose(self.rgm), self.w)) \n",
    "        #return tf.matmul(inputs, self.w)\n",
    "        # v = tf.zeros_like(X)\n",
    "        # u = tf.ones_like(X)\n",
    "        # u = tf.math.scalar_mul(-3.0, u)\n",
    "        \n",
    "        return X#tf.where(tf.math.less(X, v), u, X) #where X is less than 0, return -1 \n",
    "        \n",
    "        \n",
    "def encoder(parent_child_biological_association, num_hidden_units=21):\n",
    "    '''\n",
    "    Encoder structure\n",
    "    '''\n",
    "    '''\n",
    "    The data is time-series. Therefore, CNN to learn the temporal relationship between \n",
    "    the intensities for each gene.\n",
    "    '''\n",
    "    en_conv = Conv1D(32, 3, activation = \"relu\")(parent_child_biological_association) # 6*NUM_TARGETS\n",
    "    en_dense = Flatten()(en_conv)\n",
    "    phenotype = Dense(num_hidden_units)(en_dense)\n",
    "    return phenotype\n",
    "\n",
    "def decoder(X, num_protein_gene, time_steps):\n",
    "    '''\n",
    "    Decoder structure\n",
    "    '''\n",
    "    de_dense = Dense(128)(X)\n",
    "    de_dense = Reshape((1, 128))(de_dense) #tf.reshape(de_dense, (self.batch_size,1,128))\n",
    "    de_deconv = Conv1DTranspose(num_protein_gene, time_steps, activation = \"relu\")(de_dense) #used to be transpose\n",
    "    #de_deconv = Conv1D(num_protein_gene, time_steps, activation = \"relu\")(de_dense) \n",
    "    # gene_reconstruction = self.decoder_biological_operation(de_deconv)\n",
    "    return de_deconv\n",
    "\n",
    "def modelSuperParent(rgm, oldRGM, num_protein_gene, time_steps, num_kinase_regulators, num_hidden_units = 21): #rgm is set to superparent, oldrgm is original rgm unmodified\n",
    "    inp = Input(shape=(time_steps, num_kinase_regulators))\n",
    "    x = EncoderLinearSuperParent(rgm, oldRGM, NUM_TARGETS, NUM_TARGETS)(inp)\n",
    "    enc = encoder(x, num_hidden_units)\n",
    "    dec = decoder(enc, num_protein_gene, time_steps)\n",
    "    out = DecoderLinearSuperParent(rgm, oldRGM, NUM_TARGETS, NUM_TARGETS)(dec)\n",
    "\n",
    "    _model = tf.keras.Model(inputs=inp, outputs=out)\n",
    "\n",
    "    return _model"
   ]
  },
  {
   "cell_type": "code",
   "execution_count": 46,
   "metadata": {},
   "outputs": [],
   "source": [
    "def modelSuperParentSequential(rgm, oldRGM, num_protein_gene, time_steps, num_kinase_regulators, num_hidden_units = 21): #rgm is set to superparent, oldrgm is original rgm unmodified\n",
    "    m = tf.keras.Sequential()\n",
    "    inp = Input(shape=(time_steps, num_kinase_regulators))\n",
    "    x = EncoderLinearSuperParent(rgm, oldRGM, NUM_TARGETS, NUM_TARGETS)(inp)\n",
    "    enc = encoder(x, num_hidden_units)\n",
    "    dec = decoder(enc, num_protein_gene, time_steps)\n",
    "    out = DecoderLinearSuperParent(rgm, oldRGM, NUM_TARGETS, NUM_TARGETS)(dec)\n",
    "\n",
    "    _model = tf.keras.Model(inputs=inp, outputs=out)\n",
    "\n",
    "    return _model"
   ]
  },
  {
   "cell_type": "code",
   "execution_count": 47,
   "metadata": {},
   "outputs": [
    {
     "name": "stdout",
     "output_type": "stream",
     "text": [
      "Epoch 1/200\n",
      "1/1 [==============================] - 3s 3s/step - loss: 0.2195 - val_loss: 0.2456\n",
      "Epoch 2/200\n",
      "1/1 [==============================] - 0s 26ms/step - loss: 0.2225 - val_loss: 0.2228\n",
      "Epoch 3/200\n",
      "1/1 [==============================] - 0s 26ms/step - loss: 0.2095 - val_loss: 0.1863\n",
      "Epoch 4/200\n",
      "1/1 [==============================] - 0s 25ms/step - loss: 0.1804 - val_loss: 0.1362\n",
      "Epoch 5/200\n",
      "1/1 [==============================] - 0s 24ms/step - loss: 0.1400 - val_loss: 0.0739\n",
      "Epoch 6/200\n",
      "1/1 [==============================] - 0s 23ms/step - loss: 0.0901 - val_loss: 0.0209\n",
      "Epoch 7/200\n",
      "1/1 [==============================] - 0s 23ms/step - loss: 0.0495 - val_loss: 0.0306\n",
      "Epoch 8/200\n",
      "1/1 [==============================] - 0s 24ms/step - loss: 0.0602 - val_loss: 0.0464\n",
      "Epoch 9/200\n",
      "1/1 [==============================] - 0s 25ms/step - loss: 0.0686 - val_loss: 0.0230\n",
      "Epoch 10/200\n",
      "1/1 [==============================] - 0s 24ms/step - loss: 0.0414 - val_loss: 0.0062\n",
      "Epoch 11/200\n",
      "1/1 [==============================] - 0s 23ms/step - loss: 0.0196 - val_loss: 0.0094\n",
      "Epoch 12/200\n",
      "1/1 [==============================] - 0s 24ms/step - loss: 0.0157 - val_loss: 0.0214\n",
      "Epoch 13/200\n",
      "1/1 [==============================] - 0s 26ms/step - loss: 0.0205 - val_loss: 0.0313\n",
      "Epoch 14/200\n",
      "1/1 [==============================] - 0s 25ms/step - loss: 0.0279 - val_loss: 0.0355\n",
      "Epoch 15/200\n",
      "1/1 [==============================] - 0s 25ms/step - loss: 0.0277 - val_loss: 0.0339\n",
      "Epoch 16/200\n",
      "1/1 [==============================] - 0s 24ms/step - loss: 0.0213 - val_loss: 0.0287\n",
      "Epoch 17/200\n",
      "1/1 [==============================] - 0s 24ms/step - loss: 0.0175 - val_loss: 0.0226\n",
      "Epoch 18/200\n",
      "1/1 [==============================] - 0s 25ms/step - loss: 0.0135 - val_loss: 0.0178\n",
      "Epoch 19/200\n",
      "1/1 [==============================] - 0s 24ms/step - loss: 0.0141 - val_loss: 0.0144\n",
      "Epoch 20/200\n",
      "1/1 [==============================] - 0s 23ms/step - loss: 0.0106 - val_loss: 0.0116\n",
      "Epoch 21/200\n",
      "1/1 [==============================] - 0s 25ms/step - loss: 0.0173 - val_loss: 0.0079\n",
      "Epoch 22/200\n",
      "1/1 [==============================] - 0s 24ms/step - loss: 0.0080 - val_loss: 0.0054\n",
      "Epoch 23/200\n",
      "1/1 [==============================] - 0s 24ms/step - loss: 0.0056 - val_loss: 0.0052\n",
      "Epoch 24/200\n",
      "1/1 [==============================] - 0s 24ms/step - loss: 0.0073 - val_loss: 0.0067\n",
      "Epoch 25/200\n",
      "1/1 [==============================] - 0s 25ms/step - loss: 0.0065 - val_loss: 0.0089\n",
      "Epoch 26/200\n",
      "1/1 [==============================] - 0s 26ms/step - loss: 0.0071 - val_loss: 0.0102\n",
      "Epoch 27/200\n",
      "1/1 [==============================] - 0s 24ms/step - loss: 0.0091 - val_loss: 0.0095\n",
      "Epoch 28/200\n",
      "1/1 [==============================] - 0s 24ms/step - loss: 0.0077 - val_loss: 0.0075\n",
      "Epoch 29/200\n",
      "1/1 [==============================] - 0s 25ms/step - loss: 0.0084 - val_loss: 0.0049\n",
      "Epoch 30/200\n",
      "1/1 [==============================] - 0s 26ms/step - loss: 0.0056 - val_loss: 0.0034\n",
      "Epoch 31/200\n",
      "1/1 [==============================] - 0s 23ms/step - loss: 0.0052 - val_loss: 0.0031\n",
      "Epoch 32/200\n",
      "1/1 [==============================] - 0s 25ms/step - loss: 0.0065 - val_loss: 0.0037\n",
      "Epoch 33/200\n",
      "1/1 [==============================] - 0s 24ms/step - loss: 0.0068 - val_loss: 0.0043\n",
      "Epoch 34/200\n",
      "1/1 [==============================] - 0s 24ms/step - loss: 0.0062 - val_loss: 0.0046\n",
      "Epoch 35/200\n",
      "1/1 [==============================] - 0s 24ms/step - loss: 0.0060 - val_loss: 0.0051\n",
      "Epoch 36/200\n",
      "1/1 [==============================] - 0s 24ms/step - loss: 0.0053 - val_loss: 0.0061\n",
      "Epoch 37/200\n",
      "1/1 [==============================] - 0s 24ms/step - loss: 0.0041 - val_loss: 0.0074\n",
      "Epoch 38/200\n",
      "1/1 [==============================] - 0s 24ms/step - loss: 0.0043 - val_loss: 0.0085\n",
      "Epoch 39/200\n",
      "1/1 [==============================] - 0s 24ms/step - loss: 0.0058 - val_loss: 0.0087\n",
      "Epoch 40/200\n",
      "1/1 [==============================] - 0s 25ms/step - loss: 0.0056 - val_loss: 0.0080\n",
      "Epoch 41/200\n",
      "1/1 [==============================] - 0s 24ms/step - loss: 0.0048 - val_loss: 0.0069\n",
      "Epoch 42/200\n",
      "1/1 [==============================] - 0s 24ms/step - loss: 0.0045 - val_loss: 0.0062\n",
      "Epoch 43/200\n",
      "1/1 [==============================] - 0s 24ms/step - loss: 0.0038 - val_loss: 0.0056\n",
      "Epoch 44/200\n",
      "1/1 [==============================] - 0s 26ms/step - loss: 0.0037 - val_loss: 0.0051\n",
      "Epoch 45/200\n",
      "1/1 [==============================] - 0s 24ms/step - loss: 0.0061 - val_loss: 0.0047\n",
      "Epoch 46/200\n",
      "1/1 [==============================] - 0s 25ms/step - loss: 0.0035 - val_loss: 0.0046\n",
      "Epoch 47/200\n",
      "1/1 [==============================] - 0s 24ms/step - loss: 0.0051 - val_loss: 0.0049\n",
      "Epoch 48/200\n",
      "1/1 [==============================] - 0s 24ms/step - loss: 0.0045 - val_loss: 0.0057\n",
      "Epoch 49/200\n",
      "1/1 [==============================] - 0s 23ms/step - loss: 0.0042 - val_loss: 0.0059\n",
      "Epoch 50/200\n",
      "1/1 [==============================] - 0s 24ms/step - loss: 0.0046 - val_loss: 0.0052\n",
      "Epoch 51/200\n",
      "1/1 [==============================] - 0s 25ms/step - loss: 0.0043 - val_loss: 0.0040\n",
      "Epoch 52/200\n",
      "1/1 [==============================] - 0s 24ms/step - loss: 0.0038 - val_loss: 0.0032\n",
      "Epoch 53/200\n",
      "1/1 [==============================] - 0s 24ms/step - loss: 0.0035 - val_loss: 0.0031\n",
      "Epoch 54/200\n",
      "1/1 [==============================] - 0s 24ms/step - loss: 0.0036 - val_loss: 0.0034\n",
      "Epoch 55/200\n",
      "1/1 [==============================] - 0s 23ms/step - loss: 0.0057 - val_loss: 0.0034\n",
      "Epoch 56/200\n",
      "1/1 [==============================] - 0s 26ms/step - loss: 0.0035 - val_loss: 0.0037\n",
      "Epoch 57/200\n",
      "1/1 [==============================] - 0s 24ms/step - loss: 0.0032 - val_loss: 0.0043\n",
      "Epoch 58/200\n",
      "1/1 [==============================] - 0s 24ms/step - loss: 0.0038 - val_loss: 0.0053\n",
      "Epoch 59/200\n",
      "1/1 [==============================] - 0s 27ms/step - loss: 0.0036 - val_loss: 0.0059\n",
      "Epoch 60/200\n",
      "1/1 [==============================] - 0s 25ms/step - loss: 0.0039 - val_loss: 0.0057\n",
      "Epoch 61/200\n",
      "1/1 [==============================] - 0s 26ms/step - loss: 0.0036 - val_loss: 0.0053\n",
      "Epoch 62/200\n",
      "1/1 [==============================] - 0s 24ms/step - loss: 0.0034 - val_loss: 0.0047\n",
      "Epoch 63/200\n",
      "1/1 [==============================] - 0s 24ms/step - loss: 0.0032 - val_loss: 0.0042\n",
      "Epoch 64/200\n",
      "1/1 [==============================] - 0s 25ms/step - loss: 0.0032 - val_loss: 0.0038\n",
      "Epoch 65/200\n",
      "1/1 [==============================] - 0s 24ms/step - loss: 0.0030 - val_loss: 0.0035\n",
      "Epoch 66/200\n",
      "1/1 [==============================] - 0s 26ms/step - loss: 0.0032 - val_loss: 0.0033\n",
      "Epoch 67/200\n",
      "1/1 [==============================] - 0s 24ms/step - loss: 0.0029 - val_loss: 0.0032\n",
      "Epoch 68/200\n",
      "1/1 [==============================] - 0s 26ms/step - loss: 0.0026 - val_loss: 0.0033\n",
      "Epoch 69/200\n",
      "1/1 [==============================] - 0s 25ms/step - loss: 0.0034 - val_loss: 0.0034\n",
      "Epoch 70/200\n",
      "1/1 [==============================] - 0s 24ms/step - loss: 0.0023 - val_loss: 0.0034\n",
      "Epoch 71/200\n",
      "1/1 [==============================] - 0s 25ms/step - loss: 0.0022 - val_loss: 0.0034\n",
      "Epoch 72/200\n",
      "1/1 [==============================] - 0s 26ms/step - loss: 0.0021 - val_loss: 0.0033\n",
      "Epoch 73/200\n",
      "1/1 [==============================] - 0s 25ms/step - loss: 0.0035 - val_loss: 0.0030\n",
      "Epoch 74/200\n",
      "1/1 [==============================] - 0s 25ms/step - loss: 0.0019 - val_loss: 0.0028\n",
      "Epoch 75/200\n",
      "1/1 [==============================] - 0s 24ms/step - loss: 0.0019 - val_loss: 0.0028\n",
      "Epoch 76/200\n",
      "1/1 [==============================] - 0s 25ms/step - loss: 0.0028 - val_loss: 0.0028\n",
      "Epoch 77/200\n",
      "1/1 [==============================] - 0s 25ms/step - loss: 0.0018 - val_loss: 0.0028\n",
      "Epoch 78/200\n",
      "1/1 [==============================] - 0s 24ms/step - loss: 0.0024 - val_loss: 0.0028\n",
      "Epoch 79/200\n",
      "1/1 [==============================] - 0s 25ms/step - loss: 0.0016 - val_loss: 0.0029\n",
      "Epoch 80/200\n",
      "1/1 [==============================] - 0s 26ms/step - loss: 0.0015 - val_loss: 0.0029\n",
      "Epoch 81/200\n",
      "1/1 [==============================] - 0s 28ms/step - loss: 0.0014 - val_loss: 0.0028\n",
      "Epoch 82/200\n",
      "1/1 [==============================] - 0s 25ms/step - loss: 0.0012 - val_loss: 0.0026\n",
      "Epoch 83/200\n",
      "1/1 [==============================] - 0s 24ms/step - loss: 0.0011 - val_loss: 0.0023\n",
      "Epoch 84/200\n",
      "1/1 [==============================] - 0s 27ms/step - loss: 9.7683e-04 - val_loss: 0.0021\n",
      "Epoch 85/200\n",
      "1/1 [==============================] - 0s 25ms/step - loss: 8.4249e-04 - val_loss: 0.0019\n",
      "Epoch 86/200\n",
      "1/1 [==============================] - 0s 27ms/step - loss: 7.2573e-04 - val_loss: 0.0019\n",
      "Epoch 87/200\n",
      "1/1 [==============================] - 0s 26ms/step - loss: 0.0017 - val_loss: 0.0019\n",
      "Epoch 88/200\n",
      "1/1 [==============================] - 0s 27ms/step - loss: 0.0014 - val_loss: 0.0022\n",
      "Epoch 89/200\n",
      "1/1 [==============================] - 0s 25ms/step - loss: 0.0011 - val_loss: 0.0024\n",
      "Epoch 90/200\n",
      "1/1 [==============================] - 0s 27ms/step - loss: 9.7912e-04 - val_loss: 0.0023\n",
      "Epoch 91/200\n",
      "1/1 [==============================] - 0s 28ms/step - loss: 8.4560e-04 - val_loss: 0.0020\n",
      "Epoch 92/200\n",
      "1/1 [==============================] - 0s 29ms/step - loss: 5.6352e-04 - val_loss: 0.0020\n",
      "Epoch 93/200\n",
      "1/1 [==============================] - 0s 28ms/step - loss: 3.1370e-04 - val_loss: 0.0023\n",
      "Epoch 94/200\n",
      "1/1 [==============================] - 0s 29ms/step - loss: 3.4473e-04 - val_loss: 0.0025\n",
      "Epoch 95/200\n",
      "1/1 [==============================] - 0s 28ms/step - loss: 4.2864e-04 - val_loss: 0.0025\n",
      "Epoch 96/200\n",
      "1/1 [==============================] - 0s 30ms/step - loss: 3.7009e-04 - val_loss: 0.0021\n",
      "Epoch 97/200\n",
      "1/1 [==============================] - 0s 28ms/step - loss: 2.1823e-04 - val_loss: 0.0018\n",
      "Epoch 98/200\n",
      "1/1 [==============================] - 0s 28ms/step - loss: 3.5234e-04 - val_loss: 0.0017\n",
      "Epoch 99/200\n",
      "1/1 [==============================] - 0s 35ms/step - loss: 2.6950e-04 - val_loss: 0.0017\n",
      "Epoch 100/200\n",
      "1/1 [==============================] - 0s 33ms/step - loss: 4.8296e-04 - val_loss: 0.0018\n",
      "Epoch 101/200\n",
      "1/1 [==============================] - 0s 29ms/step - loss: 2.8954e-04 - val_loss: 0.0019\n",
      "Epoch 102/200\n",
      "1/1 [==============================] - 0s 32ms/step - loss: 1.8968e-04 - val_loss: 0.0020\n",
      "Epoch 103/200\n",
      "1/1 [==============================] - 0s 27ms/step - loss: 1.3070e-04 - val_loss: 0.0021\n",
      "Epoch 104/200\n",
      "1/1 [==============================] - 0s 28ms/step - loss: 1.0042e-04 - val_loss: 0.0023\n",
      "Epoch 105/200\n",
      "1/1 [==============================] - 0s 27ms/step - loss: 1.8039e-04 - val_loss: 0.0023\n",
      "Epoch 106/200\n",
      "1/1 [==============================] - 0s 29ms/step - loss: 1.4393e-04 - val_loss: 0.0021\n",
      "Epoch 107/200\n",
      "1/1 [==============================] - 0s 29ms/step - loss: 6.2304e-05 - val_loss: 0.0019\n",
      "Epoch 108/200\n",
      "1/1 [==============================] - 0s 29ms/step - loss: 1.3539e-04 - val_loss: 0.0019\n",
      "Epoch 109/200\n",
      "1/1 [==============================] - 0s 28ms/step - loss: 1.7234e-04 - val_loss: 0.0019\n",
      "Epoch 110/200\n",
      "1/1 [==============================] - 0s 28ms/step - loss: 7.1851e-05 - val_loss: 0.0019\n",
      "Epoch 111/200\n",
      "1/1 [==============================] - 0s 28ms/step - loss: 4.6392e-05 - val_loss: 0.0019\n",
      "Epoch 112/200\n",
      "1/1 [==============================] - 0s 29ms/step - loss: 4.3504e-05 - val_loss: 0.0020\n",
      "Epoch 113/200\n",
      "1/1 [==============================] - 0s 30ms/step - loss: 6.9977e-05 - val_loss: 0.0019\n",
      "Epoch 114/200\n",
      "1/1 [==============================] - 0s 28ms/step - loss: 6.2861e-05 - val_loss: 0.0019\n",
      "Epoch 115/200\n",
      "1/1 [==============================] - 0s 28ms/step - loss: 3.8928e-05 - val_loss: 0.0018\n",
      "Epoch 116/200\n",
      "1/1 [==============================] - 0s 28ms/step - loss: 2.8725e-05 - val_loss: 0.0018\n",
      "Epoch 117/200\n",
      "1/1 [==============================] - 0s 30ms/step - loss: 4.0256e-05 - val_loss: 0.0018\n",
      "Epoch 118/200\n",
      "1/1 [==============================] - 0s 28ms/step - loss: 3.6428e-05 - val_loss: 0.0018\n",
      "Epoch 119/200\n",
      "1/1 [==============================] - 0s 29ms/step - loss: 2.6947e-05 - val_loss: 0.0018\n",
      "Epoch 120/200\n",
      "1/1 [==============================] - 0s 29ms/step - loss: 2.0664e-05 - val_loss: 0.0019\n",
      "Epoch 121/200\n",
      "1/1 [==============================] - 0s 28ms/step - loss: 2.2757e-05 - val_loss: 0.0019\n",
      "Epoch 122/200\n",
      "1/1 [==============================] - 0s 29ms/step - loss: 1.9166e-05 - val_loss: 0.0019\n",
      "Epoch 123/200\n",
      "1/1 [==============================] - 0s 29ms/step - loss: 1.6238e-05 - val_loss: 0.0019\n",
      "Epoch 124/200\n",
      "1/1 [==============================] - 0s 30ms/step - loss: 1.5079e-05 - val_loss: 0.0018\n",
      "Epoch 125/200\n",
      "1/1 [==============================] - 0s 28ms/step - loss: 8.6027e-06 - val_loss: 0.0018\n",
      "Epoch 126/200\n",
      "1/1 [==============================] - 0s 28ms/step - loss: 1.3319e-05 - val_loss: 0.0018\n",
      "Epoch 127/200\n",
      "1/1 [==============================] - 0s 29ms/step - loss: 1.3169e-05 - val_loss: 0.0018\n",
      "Epoch 128/200\n",
      "1/1 [==============================] - 0s 28ms/step - loss: 8.0483e-06 - val_loss: 0.0018\n",
      "Epoch 129/200\n",
      "1/1 [==============================] - 0s 29ms/step - loss: 5.3575e-06 - val_loss: 0.0019\n",
      "Epoch 130/200\n",
      "1/1 [==============================] - 0s 28ms/step - loss: 1.0644e-05 - val_loss: 0.0019\n",
      "Epoch 131/200\n",
      "1/1 [==============================] - 0s 29ms/step - loss: 1.2272e-05 - val_loss: 0.0019\n",
      "Epoch 132/200\n",
      "1/1 [==============================] - 0s 29ms/step - loss: 8.2217e-06 - val_loss: 0.0018\n",
      "Epoch 133/200\n",
      "1/1 [==============================] - 0s 29ms/step - loss: 4.4966e-06 - val_loss: 0.0018\n",
      "Epoch 134/200\n",
      "1/1 [==============================] - 0s 29ms/step - loss: 5.5511e-06 - val_loss: 0.0018\n",
      "Epoch 135/200\n",
      "1/1 [==============================] - 0s 29ms/step - loss: 6.3431e-06 - val_loss: 0.0018\n",
      "Epoch 136/200\n",
      "1/1 [==============================] - 0s 28ms/step - loss: 8.8437e-06 - val_loss: 0.0019\n",
      "Epoch 137/200\n",
      "1/1 [==============================] - 0s 28ms/step - loss: 3.7885e-06 - val_loss: 0.0019\n",
      "Epoch 138/200\n",
      "1/1 [==============================] - 0s 28ms/step - loss: 4.3883e-06 - val_loss: 0.0019\n",
      "Epoch 139/200\n",
      "1/1 [==============================] - 0s 29ms/step - loss: 5.0669e-06 - val_loss: 0.0019\n",
      "Epoch 140/200\n",
      "1/1 [==============================] - 0s 27ms/step - loss: 7.5058e-06 - val_loss: 0.0019\n",
      "Epoch 141/200\n",
      "1/1 [==============================] - 0s 29ms/step - loss: 3.8691e-06 - val_loss: 0.0018\n",
      "Epoch 142/200\n",
      "1/1 [==============================] - 0s 28ms/step - loss: 2.7548e-06 - val_loss: 0.0018\n",
      "Epoch 143/200\n",
      "1/1 [==============================] - 0s 29ms/step - loss: 3.7788e-06 - val_loss: 0.0019\n",
      "Epoch 144/200\n",
      "1/1 [==============================] - 0s 29ms/step - loss: 3.6927e-06 - val_loss: 0.0019\n",
      "Epoch 145/200\n",
      "1/1 [==============================] - 0s 29ms/step - loss: 3.7929e-06 - val_loss: 0.0019\n",
      "Epoch 146/200\n",
      "1/1 [==============================] - 0s 29ms/step - loss: 1.4338e-06 - val_loss: 0.0019\n",
      "Epoch 147/200\n",
      "1/1 [==============================] - 0s 29ms/step - loss: 4.8177e-06 - val_loss: 0.0019\n",
      "Epoch 148/200\n",
      "1/1 [==============================] - 0s 29ms/step - loss: 1.1472e-06 - val_loss: 0.0019\n",
      "Epoch 149/200\n",
      "1/1 [==============================] - 0s 28ms/step - loss: 7.5474e-07 - val_loss: 0.0019\n",
      "Epoch 150/200\n",
      "1/1 [==============================] - 0s 30ms/step - loss: 1.2543e-06 - val_loss: 0.0019\n",
      "Epoch 151/200\n",
      "1/1 [==============================] - 0s 28ms/step - loss: 1.0981e-06 - val_loss: 0.0018\n",
      "Epoch 152/200\n",
      "1/1 [==============================] - 0s 29ms/step - loss: 2.4698e-06 - val_loss: 0.0018\n",
      "Epoch 153/200\n",
      "1/1 [==============================] - 0s 29ms/step - loss: 1.3525e-06 - val_loss: 0.0018\n",
      "Epoch 154/200\n",
      "1/1 [==============================] - 0s 29ms/step - loss: 2.2587e-06 - val_loss: 0.0018\n",
      "Epoch 155/200\n",
      "1/1 [==============================] - 0s 27ms/step - loss: 1.6092e-06 - val_loss: 0.0018\n",
      "Epoch 156/200\n",
      "1/1 [==============================] - 0s 28ms/step - loss: 1.4694e-06 - val_loss: 0.0018\n",
      "Epoch 157/200\n",
      "1/1 [==============================] - 0s 28ms/step - loss: 1.2403e-06 - val_loss: 0.0019\n",
      "Epoch 158/200\n",
      "1/1 [==============================] - 0s 29ms/step - loss: 7.1876e-07 - val_loss: 0.0019\n",
      "Epoch 159/200\n",
      "1/1 [==============================] - 0s 30ms/step - loss: 1.3780e-06 - val_loss: 0.0019\n",
      "Epoch 160/200\n",
      "1/1 [==============================] - 0s 28ms/step - loss: 5.5651e-07 - val_loss: 0.0019\n",
      "Epoch 161/200\n",
      "1/1 [==============================] - 0s 29ms/step - loss: 5.4403e-07 - val_loss: 0.0019\n",
      "Epoch 162/200\n",
      "1/1 [==============================] - 0s 29ms/step - loss: 5.0479e-07 - val_loss: 0.0019\n",
      "Epoch 163/200\n",
      "1/1 [==============================] - 0s 27ms/step - loss: 1.2434e-06 - val_loss: 0.0019\n",
      "Epoch 164/200\n",
      "1/1 [==============================] - 0s 29ms/step - loss: 2.2881e-07 - val_loss: 0.0018\n",
      "Epoch 165/200\n",
      "1/1 [==============================] - 0s 29ms/step - loss: 1.3055e-06 - val_loss: 0.0018\n",
      "Epoch 166/200\n",
      "1/1 [==============================] - 0s 29ms/step - loss: 2.2391e-07 - val_loss: 0.0018\n",
      "Epoch 167/200\n",
      "1/1 [==============================] - 0s 29ms/step - loss: 2.0212e-07 - val_loss: 0.0018\n",
      "Epoch 168/200\n",
      "1/1 [==============================] - 0s 29ms/step - loss: 9.5007e-07 - val_loss: 0.0018\n",
      "Epoch 169/200\n",
      "1/1 [==============================] - 0s 26ms/step - loss: 3.3455e-07 - val_loss: 0.0018\n",
      "Epoch 170/200\n",
      "1/1 [==============================] - 0s 28ms/step - loss: 1.8984e-07 - val_loss: 0.0018\n",
      "Epoch 171/200\n",
      "1/1 [==============================] - 0s 28ms/step - loss: 1.9833e-07 - val_loss: 0.0018\n",
      "Epoch 172/200\n",
      "1/1 [==============================] - 0s 28ms/step - loss: 1.7904e-07 - val_loss: 0.0018\n",
      "Epoch 173/200\n",
      "1/1 [==============================] - 0s 28ms/step - loss: 1.4479e-07 - val_loss: 0.0019\n",
      "Epoch 174/200\n",
      "1/1 [==============================] - 0s 28ms/step - loss: 1.3324e-07 - val_loss: 0.0019\n",
      "Epoch 175/200\n",
      "1/1 [==============================] - 0s 28ms/step - loss: 4.6289e-07 - val_loss: 0.0019\n",
      "Epoch 176/200\n",
      "1/1 [==============================] - 0s 29ms/step - loss: 3.6901e-07 - val_loss: 0.0019\n",
      "Epoch 177/200\n",
      "1/1 [==============================] - 0s 28ms/step - loss: 3.2836e-07 - val_loss: 0.0019\n",
      "Epoch 178/200\n",
      "1/1 [==============================] - 0s 29ms/step - loss: 1.6090e-07 - val_loss: 0.0019\n",
      "Epoch 179/200\n",
      "1/1 [==============================] - 0s 28ms/step - loss: 1.6375e-07 - val_loss: 0.0019\n",
      "Epoch 180/200\n",
      "1/1 [==============================] - 0s 28ms/step - loss: 2.2380e-07 - val_loss: 0.0018\n",
      "Epoch 181/200\n",
      "1/1 [==============================] - 0s 29ms/step - loss: 1.2100e-07 - val_loss: 0.0018\n",
      "Epoch 182/200\n",
      "1/1 [==============================] - 0s 29ms/step - loss: 2.1163e-07 - val_loss: 0.0018\n",
      "Epoch 183/200\n",
      "1/1 [==============================] - 0s 29ms/step - loss: 2.2636e-07 - val_loss: 0.0018\n",
      "Epoch 184/200\n",
      "1/1 [==============================] - 0s 29ms/step - loss: 1.8923e-07 - val_loss: 0.0019\n",
      "Epoch 185/200\n",
      "1/1 [==============================] - 0s 28ms/step - loss: 1.6339e-07 - val_loss: 0.0019\n",
      "Epoch 186/200\n",
      "1/1 [==============================] - 0s 28ms/step - loss: 1.5753e-07 - val_loss: 0.0019\n",
      "Epoch 187/200\n",
      "1/1 [==============================] - 0s 29ms/step - loss: 1.3877e-07 - val_loss: 0.0018\n",
      "Epoch 188/200\n",
      "1/1 [==============================] - 0s 29ms/step - loss: 8.8251e-08 - val_loss: 0.0018\n",
      "Epoch 189/200\n",
      "1/1 [==============================] - 0s 31ms/step - loss: 9.3679e-08 - val_loss: 0.0018\n",
      "Epoch 190/200\n",
      "1/1 [==============================] - 0s 25ms/step - loss: 1.6325e-07 - val_loss: 0.0018\n",
      "Epoch 191/200\n",
      "1/1 [==============================] - 0s 31ms/step - loss: 4.2877e-08 - val_loss: 0.0018\n",
      "Epoch 192/200\n",
      "1/1 [==============================] - 0s 26ms/step - loss: 1.9053e-07 - val_loss: 0.0018\n",
      "Epoch 193/200\n",
      "1/1 [==============================] - 0s 31ms/step - loss: 2.1773e-08 - val_loss: 0.0018\n",
      "Epoch 194/200\n",
      "1/1 [==============================] - 0s 25ms/step - loss: 3.6068e-08 - val_loss: 0.0018\n",
      "Epoch 195/200\n",
      "1/1 [==============================] - 0s 29ms/step - loss: 1.6563e-07 - val_loss: 0.0018\n",
      "Epoch 196/200\n",
      "1/1 [==============================] - 0s 28ms/step - loss: 1.4922e-07 - val_loss: 0.0018\n",
      "Epoch 197/200\n",
      "1/1 [==============================] - 0s 28ms/step - loss: 1.3110e-07 - val_loss: 0.0018\n",
      "Epoch 198/200\n",
      "1/1 [==============================] - 0s 28ms/step - loss: 1.2148e-07 - val_loss: 0.0018\n",
      "Epoch 199/200\n",
      "1/1 [==============================] - 0s 29ms/step - loss: 9.5378e-08 - val_loss: 0.0018\n",
      "Epoch 200/200\n",
      "1/1 [==============================] - 0s 28ms/step - loss: 6.9033e-08 - val_loss: 0.0018\n"
     ]
    }
   ],
   "source": [
    "looseParent = modelSuperParent(superParent, regulator_gene_matrix, NUM_TARGETS, NUM_TIME_STEPS, NUM_TARGETS, 32)\n",
    "looseParent.compile(optimizer='adam', loss=ignore_noParent_MSE)\n",
    "o = looseParent.fit(beanIntensities, beanIntensities, epochs=200, verbose = True,  validation_data=(validation, validation))\n",
    "#print(o.history['loss'][-1]) #the final loss "
   ]
  },
  {
   "cell_type": "markdown",
   "metadata": {},
   "source": [
    "# DenseNetAutoEncoder"
   ]
  },
  {
   "cell_type": "code",
   "execution_count": 48,
   "metadata": {},
   "outputs": [],
   "source": [
    "'''\n",
    "a second copy of the layers which will be modified to be a denseNET auto encoder\n",
    "'''\n",
    "#TODO: fix call to map to -1?\n",
    "class DenseEncoderLinear2(tf.keras.layers.Layer): #TODO: Fix the decoder to -1\n",
    "    def __init__(self, rgm, oldrgm, input_dim=32, units=32):\n",
    "        super(DenseEncoderLinear2, self).__init__()\n",
    "        self.rgm = rgm\n",
    "        self.oldrgm = oldrgm\n",
    "        \n",
    "        def init_weights(shape, dtype=\"float32\"):\n",
    "\n",
    "            w_init = tf.random_normal_initializer()(shape=shape, dtype=dtype) * tf.convert_to_tensor(self.oldrgm, dtype=dtype)\n",
    "\n",
    "            return w_init\n",
    "        \n",
    "\n",
    "        self.w = tf.Variable(\n",
    "            initial_value=init_weights(shape=(input_dim, units), dtype=\"float32\"),\n",
    "            trainable=True,\n",
    "        )\n",
    "\n",
    "    def call(self, inputs):\n",
    "        X = inputs\n",
    "        return tf.matmul(X, tf.multiply(self.rgm, self.w))\n",
    "    #tf.matmul(inputs, self.w)\n",
    "\n",
    "    def get_config(self):\n",
    "        config = super().get_config()\n",
    "        config.update({\n",
    "            \"rgm\": self.rgm,\n",
    "            \"oldrgm\": self.oldrgm,\n",
    "            'input_dim': 32,\n",
    "            'units' : 32\n",
    "        })\n",
    "\n",
    "class DenseDecoderLinear2(tf.keras.layers.Layer):\n",
    "    def __init__(self, rgm, oldrgm, input_dim=32, units=32):\n",
    "        super(DenseDecoderLinear2, self).__init__()\n",
    "        self.rgm = rgm\n",
    "        self.oldrgm = oldrgm\n",
    "\n",
    "        def init_weights(shape, dtype=\"float32\"):\n",
    "\n",
    "            w_init = tf.random_normal_initializer()(shape=shape, dtype=dtype) * tf.transpose(tf.convert_to_tensor(self.oldrgm, dtype=dtype))\n",
    "\n",
    "            return w_init\n",
    "\n",
    "        self.w = tf.Variable(\n",
    "            initial_value=init_weights(shape=(input_dim, units), dtype=\"float32\"),\n",
    "            trainable=True,\n",
    "        )\n",
    "\n",
    "    def call(self, inputs):\n",
    "        X = inputs\n",
    "        #return tf.matmul(X, tf.multiply((self.rgm), self.w))\n",
    "        return tf.matmul(X, tf.multiply(tf.transpose(self.rgm), self.w)) #used to have a transpose\n",
    "        #return tf.matmul(inputs, self.w)\n",
    "\n",
    "    def get_config(self):\n",
    "        config = super().get_config()\n",
    "        config.update({\n",
    "            \"rgm\": self.rgm,\n",
    "            \"oldrgm\": self.oldrgm,\n",
    "            'input_dim': 32,\n",
    "            'units' : 32\n",
    "        })\n",
    "        \n",
    "\n",
    "def denseencoder2(parent_child_biological_association, inp, num_hidden_units=21):\n",
    "    '''\n",
    "    Encoder structure\n",
    "    '''\n",
    "    '''\n",
    "    The data is time-series. Therefore, CNN to learn the temporal relationship between \n",
    "    the intensities for each gene.\n",
    "    '''\n",
    "    en_conv = Conv1D(490, 3, activation = \"tanh\")(parent_child_biological_association) # 6*NUM_TARGETS\n",
    "    en_dense = Flatten()(en_conv)\n",
    "    inp = Flatten()(inp)\n",
    "    #print(en_dense.shape, inp.shape)\n",
    "    d = Concatenate()([en_dense, inp]) #dense layer\n",
    "    o_d = Dense(1024, activation = 'tanh')(d) #added a layer\n",
    "    c = Concatenate()([o_d, d]) #TOTALY NEW LAYER\n",
    "    en_dense = Dense(128, activation = 'tanh')(c) #TOTALY NEW LAYER\n",
    "    \n",
    "    phenotype = Dense(num_hidden_units, activation=\"tanh\")(d)\n",
    "    return phenotype\n",
    "\n",
    "def densedecoder2(X, num_protein_gene, time_steps):\n",
    "    '''\n",
    "    Decoder structure\n",
    "    '''\n",
    "    de_dense = Dense(784, activation = 'tanh')(X)\n",
    "    de_dense = Dense(512, activation = 'tanh')(de_dense) #TOTALY NEW LAYER\n",
    "    de_dense = Dense(256, activation = 'tanh')(de_dense) #added a layer\n",
    "    de_dense = Reshape((1, 256))(de_dense) #tf.reshape(de_dense, (self.batch_size,1,128))\n",
    "    de_deconv = Conv1DTranspose(num_protein_gene, time_steps, activation = \"tanh\")(de_dense) #used to be transpose\n",
    "    #de_deconv = Conv1D(num_protein_gene, time_steps, activation = \"relu\")(de_dense) \n",
    "    # gene_reconstruction = self.decoder_biological_operation(de_deconv)\n",
    "    return de_deconv\n",
    "\n",
    "def modelDense2(rgm, oldrgm, num_protein_gene, time_steps, num_kinase_regulators, num_hidden_units = 21):\n",
    "    inp = Input(shape=(time_steps, num_kinase_regulators))\n",
    "    x = DenseEncoderLinear2(rgm, oldrgm, NUM_TARGETS, NUM_TARGETS)(inp)\n",
    "    #x = EncoderLinear2(x)\n",
    "    enc = denseencoder2(x, inp, num_hidden_units)\n",
    "    dec = densedecoder2(enc, num_protein_gene, time_steps)\n",
    "    out = DenseDecoderLinear2(rgm, oldrgm, NUM_TARGETS, NUM_TARGETS)(dec)\n",
    "\n",
    "    _model = tf.keras.Model(inputs=inp, outputs=out)\n",
    "\n",
    "    return _model"
   ]
  },
  {
   "cell_type": "code",
   "execution_count": 49,
   "metadata": {},
   "outputs": [
    {
     "name": "stdout",
     "output_type": "stream",
     "text": [
      "Epoch 1/200\n",
      "1/1 [==============================] - 3s 3s/step - loss: 0.2230 - val_loss: 0.2681\n",
      "Epoch 2/200\n",
      "1/1 [==============================] - 0s 25ms/step - loss: 0.2166 - val_loss: 0.1443\n",
      "Epoch 3/200\n",
      "1/1 [==============================] - 0s 25ms/step - loss: 0.1166 - val_loss: 0.0645\n",
      "Epoch 4/200\n",
      "1/1 [==============================] - 0s 24ms/step - loss: 0.0641 - val_loss: 0.0208\n",
      "Epoch 5/200\n",
      "1/1 [==============================] - 0s 24ms/step - loss: 0.0386 - val_loss: 0.0092\n",
      "Epoch 6/200\n",
      "1/1 [==============================] - 0s 25ms/step - loss: 0.0241 - val_loss: 0.0280\n",
      "Epoch 7/200\n",
      "1/1 [==============================] - 0s 26ms/step - loss: 0.0235 - val_loss: 0.0471\n",
      "Epoch 8/200\n",
      "1/1 [==============================] - 0s 24ms/step - loss: 0.0303 - val_loss: 0.0357\n",
      "Epoch 9/200\n",
      "1/1 [==============================] - 0s 25ms/step - loss: 0.0207 - val_loss: 0.0136\n",
      "Epoch 10/200\n",
      "1/1 [==============================] - 0s 25ms/step - loss: 0.0111 - val_loss: 0.0074\n",
      "Epoch 11/200\n",
      "1/1 [==============================] - 0s 28ms/step - loss: 0.0153 - val_loss: 0.0082\n",
      "Epoch 12/200\n",
      "1/1 [==============================] - 0s 26ms/step - loss: 0.0165 - val_loss: 0.0125\n",
      "Epoch 13/200\n",
      "1/1 [==============================] - 0s 25ms/step - loss: 0.0141 - val_loss: 0.0170\n",
      "Epoch 14/200\n",
      "1/1 [==============================] - 0s 25ms/step - loss: 0.0124 - val_loss: 0.0155\n",
      "Epoch 15/200\n",
      "1/1 [==============================] - 0s 25ms/step - loss: 0.0105 - val_loss: 0.0141\n",
      "Epoch 16/200\n",
      "1/1 [==============================] - 0s 25ms/step - loss: 0.0107 - val_loss: 0.0148\n",
      "Epoch 17/200\n",
      "1/1 [==============================] - 0s 25ms/step - loss: 0.0118 - val_loss: 0.0160\n",
      "Epoch 18/200\n",
      "1/1 [==============================] - 0s 24ms/step - loss: 0.0109 - val_loss: 0.0168\n",
      "Epoch 19/200\n",
      "1/1 [==============================] - 0s 24ms/step - loss: 0.0101 - val_loss: 0.0141\n",
      "Epoch 20/200\n",
      "1/1 [==============================] - 0s 24ms/step - loss: 0.0091 - val_loss: 0.0090\n",
      "Epoch 21/200\n",
      "1/1 [==============================] - 0s 24ms/step - loss: 0.0083 - val_loss: 0.0068\n",
      "Epoch 22/200\n",
      "1/1 [==============================] - 0s 25ms/step - loss: 0.0087 - val_loss: 0.0076\n",
      "Epoch 23/200\n",
      "1/1 [==============================] - 0s 25ms/step - loss: 0.0088 - val_loss: 0.0104\n",
      "Epoch 24/200\n",
      "1/1 [==============================] - 0s 24ms/step - loss: 0.0086 - val_loss: 0.0126\n",
      "Epoch 25/200\n",
      "1/1 [==============================] - 0s 26ms/step - loss: 0.0097 - val_loss: 0.0122\n",
      "Epoch 26/200\n",
      "1/1 [==============================] - 0s 25ms/step - loss: 0.0090 - val_loss: 0.0107\n",
      "Epoch 27/200\n",
      "1/1 [==============================] - 0s 24ms/step - loss: 0.0100 - val_loss: 0.0101\n",
      "Epoch 28/200\n",
      "1/1 [==============================] - 0s 25ms/step - loss: 0.0091 - val_loss: 0.0113\n",
      "Epoch 29/200\n",
      "1/1 [==============================] - 0s 25ms/step - loss: 0.0075 - val_loss: 0.0124\n",
      "Epoch 30/200\n",
      "1/1 [==============================] - 0s 24ms/step - loss: 0.0078 - val_loss: 0.0118\n",
      "Epoch 31/200\n",
      "1/1 [==============================] - 0s 26ms/step - loss: 0.0081 - val_loss: 0.0099\n",
      "Epoch 32/200\n",
      "1/1 [==============================] - 0s 25ms/step - loss: 0.0080 - val_loss: 0.0087\n",
      "Epoch 33/200\n",
      "1/1 [==============================] - 0s 25ms/step - loss: 0.0078 - val_loss: 0.0088\n",
      "Epoch 34/200\n",
      "1/1 [==============================] - 0s 24ms/step - loss: 0.0074 - val_loss: 0.0099\n",
      "Epoch 35/200\n",
      "1/1 [==============================] - 0s 25ms/step - loss: 0.0073 - val_loss: 0.0107\n",
      "Epoch 36/200\n",
      "1/1 [==============================] - 0s 25ms/step - loss: 0.0073 - val_loss: 0.0102\n",
      "Epoch 37/200\n",
      "1/1 [==============================] - 0s 27ms/step - loss: 0.0073 - val_loss: 0.0093\n",
      "Epoch 38/200\n",
      "1/1 [==============================] - 0s 25ms/step - loss: 0.0072 - val_loss: 0.0090\n",
      "Epoch 39/200\n",
      "1/1 [==============================] - 0s 26ms/step - loss: 0.0073 - val_loss: 0.0095\n",
      "Epoch 40/200\n",
      "1/1 [==============================] - 0s 25ms/step - loss: 0.0072 - val_loss: 0.0103\n",
      "Epoch 41/200\n",
      "1/1 [==============================] - 0s 27ms/step - loss: 0.0072 - val_loss: 0.0106\n",
      "Epoch 42/200\n",
      "1/1 [==============================] - 0s 26ms/step - loss: 0.0071 - val_loss: 0.0100\n",
      "Epoch 43/200\n",
      "1/1 [==============================] - 0s 26ms/step - loss: 0.0070 - val_loss: 0.0094\n",
      "Epoch 44/200\n",
      "1/1 [==============================] - 0s 25ms/step - loss: 0.0070 - val_loss: 0.0093\n",
      "Epoch 45/200\n",
      "1/1 [==============================] - 0s 26ms/step - loss: 0.0069 - val_loss: 0.0098\n",
      "Epoch 46/200\n",
      "1/1 [==============================] - 0s 24ms/step - loss: 0.0069 - val_loss: 0.0101\n",
      "Epoch 47/200\n",
      "1/1 [==============================] - 0s 24ms/step - loss: 0.0069 - val_loss: 0.0098\n",
      "Epoch 48/200\n",
      "1/1 [==============================] - 0s 25ms/step - loss: 0.0069 - val_loss: 0.0091\n",
      "Epoch 49/200\n",
      "1/1 [==============================] - 0s 24ms/step - loss: 0.0069 - val_loss: 0.0088\n",
      "Epoch 50/200\n",
      "1/1 [==============================] - 0s 23ms/step - loss: 0.0068 - val_loss: 0.0091\n",
      "Epoch 51/200\n",
      "1/1 [==============================] - 0s 25ms/step - loss: 0.0068 - val_loss: 0.0097\n",
      "Epoch 52/200\n",
      "1/1 [==============================] - 0s 25ms/step - loss: 0.0068 - val_loss: 0.0100\n",
      "Epoch 53/200\n",
      "1/1 [==============================] - 0s 24ms/step - loss: 0.0068 - val_loss: 0.0097\n",
      "Epoch 54/200\n",
      "1/1 [==============================] - 0s 24ms/step - loss: 0.0068 - val_loss: 0.0094\n",
      "Epoch 55/200\n",
      "1/1 [==============================] - 0s 25ms/step - loss: 0.0068 - val_loss: 0.0093\n",
      "Epoch 56/200\n",
      "1/1 [==============================] - 0s 24ms/step - loss: 0.0068 - val_loss: 0.0097\n",
      "Epoch 57/200\n",
      "1/1 [==============================] - 0s 25ms/step - loss: 0.0068 - val_loss: 0.0100\n",
      "Epoch 58/200\n",
      "1/1 [==============================] - 0s 25ms/step - loss: 0.0068 - val_loss: 0.0096\n",
      "Epoch 59/200\n",
      "1/1 [==============================] - 0s 26ms/step - loss: 0.0068 - val_loss: 0.0090\n",
      "Epoch 60/200\n",
      "1/1 [==============================] - 0s 25ms/step - loss: 0.0067 - val_loss: 0.0089\n",
      "Epoch 61/200\n",
      "1/1 [==============================] - 0s 26ms/step - loss: 0.0067 - val_loss: 0.0091\n",
      "Epoch 62/200\n",
      "1/1 [==============================] - 0s 25ms/step - loss: 0.0067 - val_loss: 0.0095\n",
      "Epoch 63/200\n",
      "1/1 [==============================] - 0s 26ms/step - loss: 0.0067 - val_loss: 0.0095\n",
      "Epoch 64/200\n",
      "1/1 [==============================] - 0s 26ms/step - loss: 0.0067 - val_loss: 0.0092\n",
      "Epoch 65/200\n",
      "1/1 [==============================] - 0s 25ms/step - loss: 0.0067 - val_loss: 0.0093\n",
      "Epoch 66/200\n",
      "1/1 [==============================] - 0s 26ms/step - loss: 0.0067 - val_loss: 0.0097\n",
      "Epoch 67/200\n",
      "1/1 [==============================] - 0s 26ms/step - loss: 0.0067 - val_loss: 0.0099\n",
      "Epoch 68/200\n",
      "1/1 [==============================] - 0s 27ms/step - loss: 0.0067 - val_loss: 0.0098\n",
      "Epoch 69/200\n",
      "1/1 [==============================] - 0s 27ms/step - loss: 0.0067 - val_loss: 0.0094\n",
      "Epoch 70/200\n",
      "1/1 [==============================] - 0s 25ms/step - loss: 0.0067 - val_loss: 0.0091\n",
      "Epoch 71/200\n",
      "1/1 [==============================] - 0s 25ms/step - loss: 0.0067 - val_loss: 0.0092\n",
      "Epoch 72/200\n",
      "1/1 [==============================] - 0s 26ms/step - loss: 0.0067 - val_loss: 0.0093\n",
      "Epoch 73/200\n",
      "1/1 [==============================] - 0s 25ms/step - loss: 0.0067 - val_loss: 0.0093\n",
      "Epoch 74/200\n",
      "1/1 [==============================] - 0s 27ms/step - loss: 0.0067 - val_loss: 0.0092\n",
      "Epoch 75/200\n",
      "1/1 [==============================] - 0s 26ms/step - loss: 0.0067 - val_loss: 0.0093\n",
      "Epoch 76/200\n",
      "1/1 [==============================] - 0s 25ms/step - loss: 0.0067 - val_loss: 0.0095\n",
      "Epoch 77/200\n",
      "1/1 [==============================] - 0s 25ms/step - loss: 0.0067 - val_loss: 0.0099\n",
      "Epoch 78/200\n",
      "1/1 [==============================] - 0s 25ms/step - loss: 0.0067 - val_loss: 0.0100\n",
      "Epoch 79/200\n",
      "1/1 [==============================] - 0s 26ms/step - loss: 0.0067 - val_loss: 0.0098\n",
      "Epoch 80/200\n",
      "1/1 [==============================] - 0s 26ms/step - loss: 0.0067 - val_loss: 0.0095\n",
      "Epoch 81/200\n",
      "1/1 [==============================] - 0s 25ms/step - loss: 0.0067 - val_loss: 0.0093\n",
      "Epoch 82/200\n",
      "1/1 [==============================] - 0s 27ms/step - loss: 0.0067 - val_loss: 0.0092\n",
      "Epoch 83/200\n",
      "1/1 [==============================] - 0s 27ms/step - loss: 0.0067 - val_loss: 0.0092\n",
      "Epoch 84/200\n",
      "1/1 [==============================] - 0s 26ms/step - loss: 0.0067 - val_loss: 0.0090\n",
      "Epoch 85/200\n",
      "1/1 [==============================] - 0s 26ms/step - loss: 0.0068 - val_loss: 0.0090\n",
      "Epoch 86/200\n",
      "1/1 [==============================] - 0s 26ms/step - loss: 0.0067 - val_loss: 0.0092\n",
      "Epoch 87/200\n",
      "1/1 [==============================] - 0s 27ms/step - loss: 0.0067 - val_loss: 0.0096\n",
      "Epoch 88/200\n",
      "1/1 [==============================] - 0s 28ms/step - loss: 0.0067 - val_loss: 0.0097\n",
      "Epoch 89/200\n",
      "1/1 [==============================] - 0s 28ms/step - loss: 0.0067 - val_loss: 0.0096\n",
      "Epoch 90/200\n",
      "1/1 [==============================] - 0s 31ms/step - loss: 0.0067 - val_loss: 0.0095\n",
      "Epoch 91/200\n",
      "1/1 [==============================] - 0s 32ms/step - loss: 0.0067 - val_loss: 0.0094\n",
      "Epoch 92/200\n",
      "1/1 [==============================] - 0s 29ms/step - loss: 0.0067 - val_loss: 0.0095\n",
      "Epoch 93/200\n",
      "1/1 [==============================] - 0s 29ms/step - loss: 0.0067 - val_loss: 0.0093\n",
      "Epoch 94/200\n",
      "1/1 [==============================] - 0s 32ms/step - loss: 0.0067 - val_loss: 0.0090\n",
      "Epoch 95/200\n",
      "1/1 [==============================] - 0s 31ms/step - loss: 0.0067 - val_loss: 0.0092\n",
      "Epoch 96/200\n",
      "1/1 [==============================] - 0s 28ms/step - loss: 0.0067 - val_loss: 0.0094\n",
      "Epoch 97/200\n",
      "1/1 [==============================] - 0s 28ms/step - loss: 0.0067 - val_loss: 0.0096\n",
      "Epoch 98/200\n",
      "1/1 [==============================] - 0s 29ms/step - loss: 0.0067 - val_loss: 0.0095\n",
      "Epoch 99/200\n",
      "1/1 [==============================] - 0s 29ms/step - loss: 0.0067 - val_loss: 0.0093\n",
      "Epoch 100/200\n",
      "1/1 [==============================] - 0s 28ms/step - loss: 0.0067 - val_loss: 0.0095\n",
      "Epoch 101/200\n",
      "1/1 [==============================] - 0s 27ms/step - loss: 0.0067 - val_loss: 0.0096\n",
      "Epoch 102/200\n",
      "1/1 [==============================] - 0s 28ms/step - loss: 0.0067 - val_loss: 0.0094\n",
      "Epoch 103/200\n",
      "1/1 [==============================] - 0s 28ms/step - loss: 0.0067 - val_loss: 0.0093\n",
      "Epoch 104/200\n",
      "1/1 [==============================] - 0s 27ms/step - loss: 0.0067 - val_loss: 0.0094\n",
      "Epoch 105/200\n",
      "1/1 [==============================] - 0s 28ms/step - loss: 0.0067 - val_loss: 0.0096\n",
      "Epoch 106/200\n",
      "1/1 [==============================] - 0s 26ms/step - loss: 0.0067 - val_loss: 0.0096\n",
      "Epoch 107/200\n",
      "1/1 [==============================] - 0s 27ms/step - loss: 0.0067 - val_loss: 0.0094\n",
      "Epoch 108/200\n",
      "1/1 [==============================] - 0s 27ms/step - loss: 0.0067 - val_loss: 0.0093\n",
      "Epoch 109/200\n",
      "1/1 [==============================] - 0s 28ms/step - loss: 0.0068 - val_loss: 0.0090\n",
      "Epoch 110/200\n",
      "1/1 [==============================] - 0s 26ms/step - loss: 0.0067 - val_loss: 0.0089\n",
      "Epoch 111/200\n",
      "1/1 [==============================] - 0s 27ms/step - loss: 0.0067 - val_loss: 0.0093\n",
      "Epoch 112/200\n",
      "1/1 [==============================] - 0s 26ms/step - loss: 0.0066 - val_loss: 0.0095\n",
      "Epoch 113/200\n",
      "1/1 [==============================] - 0s 27ms/step - loss: 0.0067 - val_loss: 0.0094\n",
      "Epoch 114/200\n",
      "1/1 [==============================] - 0s 27ms/step - loss: 0.0067 - val_loss: 0.0094\n",
      "Epoch 115/200\n",
      "1/1 [==============================] - 0s 28ms/step - loss: 0.0067 - val_loss: 0.0096\n",
      "Epoch 116/200\n",
      "1/1 [==============================] - 0s 26ms/step - loss: 0.0067 - val_loss: 0.0095\n",
      "Epoch 117/200\n",
      "1/1 [==============================] - 0s 26ms/step - loss: 0.0066 - val_loss: 0.0095\n",
      "Epoch 118/200\n",
      "1/1 [==============================] - 0s 27ms/step - loss: 0.0066 - val_loss: 0.0095\n",
      "Epoch 119/200\n",
      "1/1 [==============================] - 0s 26ms/step - loss: 0.0066 - val_loss: 0.0095\n",
      "Epoch 120/200\n",
      "1/1 [==============================] - 0s 26ms/step - loss: 0.0067 - val_loss: 0.0092\n",
      "Epoch 121/200\n",
      "1/1 [==============================] - 0s 28ms/step - loss: 0.0066 - val_loss: 0.0093\n",
      "Epoch 122/200\n",
      "1/1 [==============================] - 0s 34ms/step - loss: 0.0066 - val_loss: 0.0094\n",
      "Epoch 123/200\n",
      "1/1 [==============================] - 0s 34ms/step - loss: 0.0066 - val_loss: 0.0092\n",
      "Epoch 124/200\n",
      "1/1 [==============================] - 0s 36ms/step - loss: 0.0066 - val_loss: 0.0090\n",
      "Epoch 125/200\n",
      "1/1 [==============================] - 0s 33ms/step - loss: 0.0067 - val_loss: 0.0092\n",
      "Epoch 126/200\n",
      "1/1 [==============================] - 0s 34ms/step - loss: 0.0066 - val_loss: 0.0092\n",
      "Epoch 127/200\n",
      "1/1 [==============================] - 0s 35ms/step - loss: 0.0066 - val_loss: 0.0092\n",
      "Epoch 128/200\n",
      "1/1 [==============================] - 0s 34ms/step - loss: 0.0066 - val_loss: 0.0094\n",
      "Epoch 129/200\n",
      "1/1 [==============================] - 0s 35ms/step - loss: 0.0066 - val_loss: 0.0096\n",
      "Epoch 130/200\n",
      "1/1 [==============================] - 0s 34ms/step - loss: 0.0067 - val_loss: 0.0095\n",
      "Epoch 131/200\n",
      "1/1 [==============================] - 0s 35ms/step - loss: 0.0066 - val_loss: 0.0094\n",
      "Epoch 132/200\n",
      "1/1 [==============================] - 0s 35ms/step - loss: 0.0066 - val_loss: 0.0096\n",
      "Epoch 133/200\n",
      "1/1 [==============================] - 0s 33ms/step - loss: 0.0066 - val_loss: 0.0094\n",
      "Epoch 134/200\n",
      "1/1 [==============================] - 0s 36ms/step - loss: 0.0066 - val_loss: 0.0090\n",
      "Epoch 135/200\n",
      "1/1 [==============================] - 0s 33ms/step - loss: 0.0064 - val_loss: 0.0090\n",
      "Epoch 136/200\n",
      "1/1 [==============================] - 0s 35ms/step - loss: 0.0061 - val_loss: 0.0097\n",
      "Epoch 137/200\n",
      "1/1 [==============================] - 0s 35ms/step - loss: 0.0062 - val_loss: 0.0081\n",
      "Epoch 138/200\n",
      "1/1 [==============================] - 0s 34ms/step - loss: 0.0057 - val_loss: 0.0077\n",
      "Epoch 139/200\n",
      "1/1 [==============================] - 0s 36ms/step - loss: 0.0052 - val_loss: 0.0083\n",
      "Epoch 140/200\n",
      "1/1 [==============================] - 0s 35ms/step - loss: 0.0050 - val_loss: 0.0069\n",
      "Epoch 141/200\n",
      "1/1 [==============================] - 0s 34ms/step - loss: 0.0042 - val_loss: 0.0057\n",
      "Epoch 142/200\n",
      "1/1 [==============================] - 0s 35ms/step - loss: 0.0038 - val_loss: 0.0074\n",
      "Epoch 143/200\n",
      "1/1 [==============================] - 0s 33ms/step - loss: 0.0033 - val_loss: 0.0056\n",
      "Epoch 144/200\n",
      "1/1 [==============================] - 0s 33ms/step - loss: 0.0028 - val_loss: 0.0060\n",
      "Epoch 145/200\n",
      "1/1 [==============================] - 0s 34ms/step - loss: 0.0024 - val_loss: 0.0075\n",
      "Epoch 146/200\n",
      "1/1 [==============================] - 0s 31ms/step - loss: 0.0026 - val_loss: 0.0055\n",
      "Epoch 147/200\n",
      "1/1 [==============================] - 0s 33ms/step - loss: 0.0031 - val_loss: 0.0431\n",
      "Epoch 148/200\n",
      "1/1 [==============================] - 0s 34ms/step - loss: 0.0208 - val_loss: 0.0069\n",
      "Epoch 149/200\n",
      "1/1 [==============================] - 0s 35ms/step - loss: 0.0281 - val_loss: 0.0031\n",
      "Epoch 150/200\n",
      "1/1 [==============================] - 0s 34ms/step - loss: 0.0126 - val_loss: 0.0186\n",
      "Epoch 151/200\n",
      "1/1 [==============================] - 0s 34ms/step - loss: 0.0104 - val_loss: 0.0323\n",
      "Epoch 152/200\n",
      "1/1 [==============================] - 0s 34ms/step - loss: 0.0158 - val_loss: 0.0233\n",
      "Epoch 153/200\n",
      "1/1 [==============================] - 0s 31ms/step - loss: 0.0108 - val_loss: 0.0100\n",
      "Epoch 154/200\n",
      "1/1 [==============================] - 0s 36ms/step - loss: 0.0075 - val_loss: 0.0048\n",
      "Epoch 155/200\n",
      "1/1 [==============================] - 0s 39ms/step - loss: 0.0109 - val_loss: 0.0037\n",
      "Epoch 156/200\n",
      "1/1 [==============================] - 0s 30ms/step - loss: 0.0107 - val_loss: 0.0070\n",
      "Epoch 157/200\n",
      "1/1 [==============================] - 0s 34ms/step - loss: 0.0089 - val_loss: 0.0129\n",
      "Epoch 158/200\n",
      "1/1 [==============================] - 0s 35ms/step - loss: 0.0088 - val_loss: 0.0166\n",
      "Epoch 159/200\n",
      "1/1 [==============================] - 0s 33ms/step - loss: 0.0087 - val_loss: 0.0178\n",
      "Epoch 160/200\n",
      "1/1 [==============================] - 0s 31ms/step - loss: 0.0085 - val_loss: 0.0167\n",
      "Epoch 161/200\n",
      "1/1 [==============================] - 0s 33ms/step - loss: 0.0087 - val_loss: 0.0130\n",
      "Epoch 162/200\n",
      "1/1 [==============================] - 0s 40ms/step - loss: 0.0082 - val_loss: 0.0089\n",
      "Epoch 163/200\n",
      "1/1 [==============================] - 0s 34ms/step - loss: 0.0076 - val_loss: 0.0069\n",
      "Epoch 164/200\n",
      "1/1 [==============================] - 0s 36ms/step - loss: 0.0079 - val_loss: 0.0069\n",
      "Epoch 165/200\n",
      "1/1 [==============================] - 0s 35ms/step - loss: 0.0083 - val_loss: 0.0077\n",
      "Epoch 166/200\n",
      "1/1 [==============================] - 0s 32ms/step - loss: 0.0079 - val_loss: 0.0089\n",
      "Epoch 167/200\n",
      "1/1 [==============================] - 0s 30ms/step - loss: 0.0073 - val_loss: 0.0110\n",
      "Epoch 168/200\n",
      "1/1 [==============================] - 0s 33ms/step - loss: 0.0075 - val_loss: 0.0123\n",
      "Epoch 169/200\n",
      "1/1 [==============================] - 0s 34ms/step - loss: 0.0074 - val_loss: 0.0125\n",
      "Epoch 170/200\n",
      "1/1 [==============================] - 0s 34ms/step - loss: 0.0073 - val_loss: 0.0119\n",
      "Epoch 171/200\n",
      "1/1 [==============================] - 0s 31ms/step - loss: 0.0078 - val_loss: 0.0111\n",
      "Epoch 172/200\n",
      "1/1 [==============================] - 0s 32ms/step - loss: 0.0163 - val_loss: 0.0098\n",
      "Epoch 173/200\n",
      "1/1 [==============================] - 0s 35ms/step - loss: 0.0112 - val_loss: 0.0086\n",
      "Epoch 174/200\n",
      "1/1 [==============================] - 0s 34ms/step - loss: 0.0074 - val_loss: 0.0079\n",
      "Epoch 175/200\n",
      "1/1 [==============================] - 0s 34ms/step - loss: 0.0077 - val_loss: 0.0079\n",
      "Epoch 176/200\n",
      "1/1 [==============================] - 0s 33ms/step - loss: 0.0098 - val_loss: 0.0091\n",
      "Epoch 177/200\n",
      "1/1 [==============================] - 0s 30ms/step - loss: 0.0104 - val_loss: 0.0107\n",
      "Epoch 178/200\n",
      "1/1 [==============================] - 0s 33ms/step - loss: 0.0096 - val_loss: 0.0120\n",
      "Epoch 179/200\n",
      "1/1 [==============================] - 0s 29ms/step - loss: 0.0083 - val_loss: 0.0122\n",
      "Epoch 180/200\n",
      "1/1 [==============================] - 0s 35ms/step - loss: 0.0074 - val_loss: 0.0112\n",
      "Epoch 181/200\n",
      "1/1 [==============================] - 0s 32ms/step - loss: 0.0070 - val_loss: 0.0098\n",
      "Epoch 182/200\n",
      "1/1 [==============================] - 0s 31ms/step - loss: 0.0073 - val_loss: 0.0088\n",
      "Epoch 183/200\n",
      "1/1 [==============================] - 0s 32ms/step - loss: 0.0077 - val_loss: 0.0081\n",
      "Epoch 184/200\n",
      "1/1 [==============================] - 0s 35ms/step - loss: 0.0080 - val_loss: 0.0082\n",
      "Epoch 185/200\n",
      "1/1 [==============================] - 0s 34ms/step - loss: 0.0079 - val_loss: 0.0088\n",
      "Epoch 186/200\n",
      "1/1 [==============================] - 0s 35ms/step - loss: 0.0075 - val_loss: 0.0097\n",
      "Epoch 187/200\n",
      "1/1 [==============================] - 0s 33ms/step - loss: 0.0072 - val_loss: 0.0102\n",
      "Epoch 188/200\n",
      "1/1 [==============================] - 0s 34ms/step - loss: 0.0068 - val_loss: 0.0106\n",
      "Epoch 189/200\n",
      "1/1 [==============================] - 0s 30ms/step - loss: 0.0069 - val_loss: 0.0106\n",
      "Epoch 190/200\n",
      "1/1 [==============================] - 0s 33ms/step - loss: 0.0069 - val_loss: 0.0102\n",
      "Epoch 191/200\n",
      "1/1 [==============================] - 0s 35ms/step - loss: 0.0072 - val_loss: 0.0100\n",
      "Epoch 192/200\n",
      "1/1 [==============================] - 0s 36ms/step - loss: 0.0072 - val_loss: 0.0097\n",
      "Epoch 193/200\n",
      "1/1 [==============================] - 0s 32ms/step - loss: 0.0072 - val_loss: 0.0095\n",
      "Epoch 194/200\n",
      "1/1 [==============================] - 0s 32ms/step - loss: 0.0071 - val_loss: 0.0093\n",
      "Epoch 195/200\n",
      "1/1 [==============================] - 0s 26ms/step - loss: 0.0069 - val_loss: 0.0094\n",
      "Epoch 196/200\n",
      "1/1 [==============================] - 0s 25ms/step - loss: 0.0068 - val_loss: 0.0095\n",
      "Epoch 197/200\n",
      "1/1 [==============================] - 0s 26ms/step - loss: 0.0068 - val_loss: 0.0095\n",
      "Epoch 198/200\n",
      "1/1 [==============================] - 0s 25ms/step - loss: 0.0067 - val_loss: 0.0095\n",
      "Epoch 199/200\n",
      "1/1 [==============================] - 0s 25ms/step - loss: 0.0067 - val_loss: 0.0094\n",
      "Epoch 200/200\n",
      "1/1 [==============================] - 0s 26ms/step - loss: 0.0068 - val_loss: 0.0093\n"
     ]
    },
    {
     "data": {
      "text/plain": [
       "<keras.callbacks.History at 0x29839e70ca0>"
      ]
     },
     "execution_count": 49,
     "metadata": {},
     "output_type": "execute_result"
    }
   ],
   "source": [
    "dense = modelDense2(superParent, regulator_gene_matrix, NUM_TARGETS, NUM_TIME_STEPS, NUM_TARGETS, 32)\n",
    "dense.compile(optimizer='adam', loss=ignore_noParent_MSE)\n",
    "dense.fit(beanIntensities, beanIntensities, epochs=200,  verbose=True, validation_data=(validation, validation))"
   ]
  },
  {
   "cell_type": "code",
   "execution_count": 50,
   "metadata": {},
   "outputs": [
    {
     "name": "stdout",
     "output_type": "stream",
     "text": [
      "Model: \"model_2\"\n",
      "__________________________________________________________________________________________________\n",
      " Layer (type)                   Output Shape         Param #     Connected to                     \n",
      "==================================================================================================\n",
      " input_3 (InputLayer)           [(None, 11, 372)]    0           []                               \n",
      "                                                                                                  \n",
      " dense_encoder_linear2 (DenseEn  (None, 11, 372)     138384      ['input_3[0][0]']                \n",
      " coderLinear2)                                                                                    \n",
      "                                                                                                  \n",
      " conv1d_2 (Conv1D)              (None, 9, 490)       547330      ['dense_encoder_linear2[0][0]']  \n",
      "                                                                                                  \n",
      " flatten_2 (Flatten)            (None, 4410)         0           ['conv1d_2[0][0]']               \n",
      "                                                                                                  \n",
      " flatten_3 (Flatten)            (None, 4092)         0           ['input_3[0][0]']                \n",
      "                                                                                                  \n",
      " concatenate (Concatenate)      (None, 8502)         0           ['flatten_2[0][0]',              \n",
      "                                                                  'flatten_3[0][0]']              \n",
      "                                                                                                  \n",
      " dense_6 (Dense)                (None, 32)           272096      ['concatenate[0][0]']            \n",
      "                                                                                                  \n",
      " dense_7 (Dense)                (None, 784)          25872       ['dense_6[0][0]']                \n",
      "                                                                                                  \n",
      " dense_8 (Dense)                (None, 512)          401920      ['dense_7[0][0]']                \n",
      "                                                                                                  \n",
      " dense_9 (Dense)                (None, 256)          131328      ['dense_8[0][0]']                \n",
      "                                                                                                  \n",
      " reshape_2 (Reshape)            (None, 1, 256)       0           ['dense_9[0][0]']                \n",
      "                                                                                                  \n",
      " conv1d_transpose_2 (Conv1DTran  (None, 11, 372)     1047924     ['reshape_2[0][0]']              \n",
      " spose)                                                                                           \n",
      "                                                                                                  \n",
      " dense_decoder_linear2 (DenseDe  (None, 11, 372)     138384      ['conv1d_transpose_2[0][0]']     \n",
      " coderLinear2)                                                                                    \n",
      "                                                                                                  \n",
      "==================================================================================================\n",
      "Total params: 2,703,238\n",
      "Trainable params: 2,703,238\n",
      "Non-trainable params: 0\n",
      "__________________________________________________________________________________________________\n"
     ]
    }
   ],
   "source": [
    "dense.summary()"
   ]
  },
  {
   "attachments": {},
   "cell_type": "markdown",
   "metadata": {},
   "source": [
    "# Reconstruction"
   ]
  },
  {
   "cell_type": "code",
   "execution_count": 51,
   "metadata": {},
   "outputs": [
    {
     "name": "stdout",
     "output_type": "stream",
     "text": [
      "1/1 [==============================] - 0s 139ms/step\n"
     ]
    },
    {
     "data": {
      "text/plain": [
       "(1, 11, 372)"
      ]
     },
     "execution_count": 51,
     "metadata": {},
     "output_type": "execute_result"
    }
   ],
   "source": [
    "o = dense.predict(validation)\n",
    "o.shape"
   ]
  },
  {
   "cell_type": "code",
   "execution_count": 52,
   "metadata": {},
   "outputs": [],
   "source": [
    "r = pd.DataFrame(o.reshape(11,372))\n",
    "v = pd.DataFrame(validation.reshape(11,372))"
   ]
  },
  {
   "cell_type": "code",
   "execution_count": 53,
   "metadata": {},
   "outputs": [
    {
     "data": {
      "text/html": [
       "<div>\n",
       "<style scoped>\n",
       "    .dataframe tbody tr th:only-of-type {\n",
       "        vertical-align: middle;\n",
       "    }\n",
       "\n",
       "    .dataframe tbody tr th {\n",
       "        vertical-align: top;\n",
       "    }\n",
       "\n",
       "    .dataframe thead th {\n",
       "        text-align: right;\n",
       "    }\n",
       "</style>\n",
       "<table border=\"1\" class=\"dataframe\">\n",
       "  <thead>\n",
       "    <tr style=\"text-align: right;\">\n",
       "      <th></th>\n",
       "      <th>117</th>\n",
       "      <th>131</th>\n",
       "      <th>164</th>\n",
       "      <th>225</th>\n",
       "      <th>259</th>\n",
       "      <th>334</th>\n",
       "      <th>350</th>\n",
       "    </tr>\n",
       "  </thead>\n",
       "  <tbody>\n",
       "    <tr>\n",
       "      <th>0</th>\n",
       "      <td>0.318467</td>\n",
       "      <td>0.486155</td>\n",
       "      <td>0.330041</td>\n",
       "      <td>0.409118</td>\n",
       "      <td>0.470490</td>\n",
       "      <td>0.362110</td>\n",
       "      <td>0.493227</td>\n",
       "    </tr>\n",
       "    <tr>\n",
       "      <th>1</th>\n",
       "      <td>0.361249</td>\n",
       "      <td>0.485207</td>\n",
       "      <td>0.431209</td>\n",
       "      <td>0.449812</td>\n",
       "      <td>0.556959</td>\n",
       "      <td>0.482214</td>\n",
       "      <td>0.485158</td>\n",
       "    </tr>\n",
       "    <tr>\n",
       "      <th>2</th>\n",
       "      <td>0.331437</td>\n",
       "      <td>0.394736</td>\n",
       "      <td>0.437545</td>\n",
       "      <td>0.380384</td>\n",
       "      <td>0.568960</td>\n",
       "      <td>0.485805</td>\n",
       "      <td>0.467526</td>\n",
       "    </tr>\n",
       "    <tr>\n",
       "      <th>3</th>\n",
       "      <td>-1.008046</td>\n",
       "      <td>-1.000520</td>\n",
       "      <td>-1.179355</td>\n",
       "      <td>-0.867316</td>\n",
       "      <td>-0.496467</td>\n",
       "      <td>-0.995643</td>\n",
       "      <td>-0.338227</td>\n",
       "    </tr>\n",
       "    <tr>\n",
       "      <th>4</th>\n",
       "      <td>0.347649</td>\n",
       "      <td>0.391867</td>\n",
       "      <td>0.380998</td>\n",
       "      <td>0.432072</td>\n",
       "      <td>0.461896</td>\n",
       "      <td>0.436251</td>\n",
       "      <td>0.494369</td>\n",
       "    </tr>\n",
       "    <tr>\n",
       "      <th>5</th>\n",
       "      <td>0.301823</td>\n",
       "      <td>0.418512</td>\n",
       "      <td>0.299265</td>\n",
       "      <td>0.254463</td>\n",
       "      <td>0.529659</td>\n",
       "      <td>0.373047</td>\n",
       "      <td>0.486561</td>\n",
       "    </tr>\n",
       "    <tr>\n",
       "      <th>6</th>\n",
       "      <td>0.387590</td>\n",
       "      <td>0.447562</td>\n",
       "      <td>0.421540</td>\n",
       "      <td>0.425726</td>\n",
       "      <td>0.587291</td>\n",
       "      <td>0.477551</td>\n",
       "      <td>0.499841</td>\n",
       "    </tr>\n",
       "    <tr>\n",
       "      <th>7</th>\n",
       "      <td>0.015175</td>\n",
       "      <td>0.012164</td>\n",
       "      <td>-0.071924</td>\n",
       "      <td>0.005428</td>\n",
       "      <td>-0.048788</td>\n",
       "      <td>0.016630</td>\n",
       "      <td>-0.014107</td>\n",
       "    </tr>\n",
       "    <tr>\n",
       "      <th>8</th>\n",
       "      <td>0.318266</td>\n",
       "      <td>0.437179</td>\n",
       "      <td>0.383670</td>\n",
       "      <td>0.378476</td>\n",
       "      <td>0.521667</td>\n",
       "      <td>0.431510</td>\n",
       "      <td>0.488008</td>\n",
       "    </tr>\n",
       "    <tr>\n",
       "      <th>9</th>\n",
       "      <td>0.328387</td>\n",
       "      <td>0.471900</td>\n",
       "      <td>0.282996</td>\n",
       "      <td>0.240095</td>\n",
       "      <td>0.536652</td>\n",
       "      <td>0.461603</td>\n",
       "      <td>0.486150</td>\n",
       "    </tr>\n",
       "    <tr>\n",
       "      <th>10</th>\n",
       "      <td>0.342657</td>\n",
       "      <td>0.463519</td>\n",
       "      <td>0.374247</td>\n",
       "      <td>0.390915</td>\n",
       "      <td>0.574866</td>\n",
       "      <td>0.474872</td>\n",
       "      <td>0.512475</td>\n",
       "    </tr>\n",
       "  </tbody>\n",
       "</table>\n",
       "</div>"
      ],
      "text/plain": [
       "         117       131       164       225       259       334       350\n",
       "0   0.318467  0.486155  0.330041  0.409118  0.470490  0.362110  0.493227\n",
       "1   0.361249  0.485207  0.431209  0.449812  0.556959  0.482214  0.485158\n",
       "2   0.331437  0.394736  0.437545  0.380384  0.568960  0.485805  0.467526\n",
       "3  -1.008046 -1.000520 -1.179355 -0.867316 -0.496467 -0.995643 -0.338227\n",
       "4   0.347649  0.391867  0.380998  0.432072  0.461896  0.436251  0.494369\n",
       "5   0.301823  0.418512  0.299265  0.254463  0.529659  0.373047  0.486561\n",
       "6   0.387590  0.447562  0.421540  0.425726  0.587291  0.477551  0.499841\n",
       "7   0.015175  0.012164 -0.071924  0.005428 -0.048788  0.016630 -0.014107\n",
       "8   0.318266  0.437179  0.383670  0.378476  0.521667  0.431510  0.488008\n",
       "9   0.328387  0.471900  0.282996  0.240095  0.536652  0.461603  0.486150\n",
       "10  0.342657  0.463519  0.374247  0.390915  0.574866  0.474872  0.512475"
      ]
     },
     "execution_count": 53,
     "metadata": {},
     "output_type": "execute_result"
    }
   ],
   "source": [
    "r[parent_idx].head(NUM_TIME_STEPS)"
   ]
  },
  {
   "cell_type": "code",
   "execution_count": 54,
   "metadata": {},
   "outputs": [
    {
     "data": {
      "text/html": [
       "<div>\n",
       "<style scoped>\n",
       "    .dataframe tbody tr th:only-of-type {\n",
       "        vertical-align: middle;\n",
       "    }\n",
       "\n",
       "    .dataframe tbody tr th {\n",
       "        vertical-align: top;\n",
       "    }\n",
       "\n",
       "    .dataframe thead th {\n",
       "        text-align: right;\n",
       "    }\n",
       "</style>\n",
       "<table border=\"1\" class=\"dataframe\">\n",
       "  <thead>\n",
       "    <tr style=\"text-align: right;\">\n",
       "      <th></th>\n",
       "      <th>117</th>\n",
       "      <th>131</th>\n",
       "      <th>164</th>\n",
       "      <th>225</th>\n",
       "      <th>259</th>\n",
       "      <th>334</th>\n",
       "      <th>350</th>\n",
       "    </tr>\n",
       "  </thead>\n",
       "  <tbody>\n",
       "    <tr>\n",
       "      <th>0</th>\n",
       "      <td>0.464054</td>\n",
       "      <td>0.445813</td>\n",
       "      <td>0.475648</td>\n",
       "      <td>0.475451</td>\n",
       "      <td>0.601666</td>\n",
       "      <td>0.538352</td>\n",
       "      <td>0.517300</td>\n",
       "    </tr>\n",
       "    <tr>\n",
       "      <th>1</th>\n",
       "      <td>0.464782</td>\n",
       "      <td>0.410751</td>\n",
       "      <td>0.479145</td>\n",
       "      <td>0.469503</td>\n",
       "      <td>0.615856</td>\n",
       "      <td>0.581054</td>\n",
       "      <td>0.521357</td>\n",
       "    </tr>\n",
       "    <tr>\n",
       "      <th>2</th>\n",
       "      <td>0.448974</td>\n",
       "      <td>0.424922</td>\n",
       "      <td>0.462434</td>\n",
       "      <td>0.489874</td>\n",
       "      <td>0.618050</td>\n",
       "      <td>0.541640</td>\n",
       "      <td>0.511626</td>\n",
       "    </tr>\n",
       "    <tr>\n",
       "      <th>3</th>\n",
       "      <td>-1.000000</td>\n",
       "      <td>-1.000000</td>\n",
       "      <td>-1.000000</td>\n",
       "      <td>-1.000000</td>\n",
       "      <td>-1.000000</td>\n",
       "      <td>-1.000000</td>\n",
       "      <td>-1.000000</td>\n",
       "    </tr>\n",
       "    <tr>\n",
       "      <th>4</th>\n",
       "      <td>0.448781</td>\n",
       "      <td>0.442738</td>\n",
       "      <td>0.473856</td>\n",
       "      <td>0.468686</td>\n",
       "      <td>0.588641</td>\n",
       "      <td>0.488964</td>\n",
       "      <td>0.528962</td>\n",
       "    </tr>\n",
       "    <tr>\n",
       "      <th>5</th>\n",
       "      <td>0.375646</td>\n",
       "      <td>0.487818</td>\n",
       "      <td>0.385170</td>\n",
       "      <td>0.420683</td>\n",
       "      <td>0.515270</td>\n",
       "      <td>0.469018</td>\n",
       "      <td>0.508054</td>\n",
       "    </tr>\n",
       "    <tr>\n",
       "      <th>6</th>\n",
       "      <td>0.506284</td>\n",
       "      <td>0.412253</td>\n",
       "      <td>0.486031</td>\n",
       "      <td>0.449196</td>\n",
       "      <td>0.638067</td>\n",
       "      <td>0.580319</td>\n",
       "      <td>0.503012</td>\n",
       "    </tr>\n",
       "    <tr>\n",
       "      <th>7</th>\n",
       "      <td>-1.000000</td>\n",
       "      <td>-1.000000</td>\n",
       "      <td>-1.000000</td>\n",
       "      <td>-1.000000</td>\n",
       "      <td>-1.000000</td>\n",
       "      <td>-1.000000</td>\n",
       "      <td>-1.000000</td>\n",
       "    </tr>\n",
       "    <tr>\n",
       "      <th>8</th>\n",
       "      <td>0.469681</td>\n",
       "      <td>0.415919</td>\n",
       "      <td>0.528647</td>\n",
       "      <td>0.509842</td>\n",
       "      <td>0.595536</td>\n",
       "      <td>0.563962</td>\n",
       "      <td>0.527670</td>\n",
       "    </tr>\n",
       "    <tr>\n",
       "      <th>9</th>\n",
       "      <td>0.462067</td>\n",
       "      <td>0.470147</td>\n",
       "      <td>0.484273</td>\n",
       "      <td>0.481506</td>\n",
       "      <td>0.631007</td>\n",
       "      <td>0.569937</td>\n",
       "      <td>0.540709</td>\n",
       "    </tr>\n",
       "    <tr>\n",
       "      <th>10</th>\n",
       "      <td>0.525481</td>\n",
       "      <td>0.414705</td>\n",
       "      <td>0.491357</td>\n",
       "      <td>0.473794</td>\n",
       "      <td>0.641192</td>\n",
       "      <td>0.572485</td>\n",
       "      <td>0.556883</td>\n",
       "    </tr>\n",
       "  </tbody>\n",
       "</table>\n",
       "</div>"
      ],
      "text/plain": [
       "         117       131       164       225       259       334       350\n",
       "0   0.464054  0.445813  0.475648  0.475451  0.601666  0.538352  0.517300\n",
       "1   0.464782  0.410751  0.479145  0.469503  0.615856  0.581054  0.521357\n",
       "2   0.448974  0.424922  0.462434  0.489874  0.618050  0.541640  0.511626\n",
       "3  -1.000000 -1.000000 -1.000000 -1.000000 -1.000000 -1.000000 -1.000000\n",
       "4   0.448781  0.442738  0.473856  0.468686  0.588641  0.488964  0.528962\n",
       "5   0.375646  0.487818  0.385170  0.420683  0.515270  0.469018  0.508054\n",
       "6   0.506284  0.412253  0.486031  0.449196  0.638067  0.580319  0.503012\n",
       "7  -1.000000 -1.000000 -1.000000 -1.000000 -1.000000 -1.000000 -1.000000\n",
       "8   0.469681  0.415919  0.528647  0.509842  0.595536  0.563962  0.527670\n",
       "9   0.462067  0.470147  0.484273  0.481506  0.631007  0.569937  0.540709\n",
       "10  0.525481  0.414705  0.491357  0.473794  0.641192  0.572485  0.556883"
      ]
     },
     "execution_count": 54,
     "metadata": {},
     "output_type": "execute_result"
    }
   ],
   "source": [
    "v[parent_idx].head(NUM_TIME_STEPS)"
   ]
  },
  {
   "cell_type": "code",
   "execution_count": 55,
   "metadata": {},
   "outputs": [
    {
     "data": {
      "text/plain": [
       "<tf.Tensor: shape=(), dtype=float32, numpy=0.009282802>"
      ]
     },
     "execution_count": 55,
     "metadata": {},
     "output_type": "execute_result"
    }
   ],
   "source": [
    "ignore_noParent_MSE(validation, o)"
   ]
  },
  {
   "cell_type": "markdown",
   "metadata": {},
   "source": [
    "# Latent Space Size Experiment"
   ]
  },
  {
   "cell_type": "code",
   "execution_count": 114,
   "metadata": {},
   "outputs": [
    {
     "name": "stderr",
     "output_type": "stream",
     "text": [
      "  0%|          | 0/40 [00:15<?, ?it/s]\n"
     ]
    },
    {
     "ename": "KeyboardInterrupt",
     "evalue": "",
     "output_type": "error",
     "traceback": [
      "\u001b[1;31m---------------------------------------------------------------------------\u001b[0m",
      "\u001b[1;31mKeyboardInterrupt\u001b[0m                         Traceback (most recent call last)",
      "\u001b[1;32mc:\\Users\\Fin Amin\\Desktop\\StemCellResearch\\beanEncoder\\BeanEncoderMain.ipynb Cell 46\u001b[0m in \u001b[0;36m<cell line: 25>\u001b[1;34m()\u001b[0m\n\u001b[0;32m     <a href='vscode-notebook-cell:/c%3A/Users/Fin%20Amin/Desktop/StemCellResearch/beanEncoder/BeanEncoderMain.ipynb#X63sZmlsZQ%3D%3D?line=28'>29</a>\u001b[0m dense \u001b[39m=\u001b[39m modelDense2(superParent, regulator_gene_matrix, NUM_TARGETS, NUM_TIME_STEPS, NUM_TARGETS, value)\n\u001b[0;32m     <a href='vscode-notebook-cell:/c%3A/Users/Fin%20Amin/Desktop/StemCellResearch/beanEncoder/BeanEncoderMain.ipynb#X63sZmlsZQ%3D%3D?line=29'>30</a>\u001b[0m dense\u001b[39m.\u001b[39mcompile(optimizer\u001b[39m=\u001b[39m\u001b[39m'\u001b[39m\u001b[39madam\u001b[39m\u001b[39m'\u001b[39m, loss\u001b[39m=\u001b[39mignore_noParent_MSE)\n\u001b[1;32m---> <a href='vscode-notebook-cell:/c%3A/Users/Fin%20Amin/Desktop/StemCellResearch/beanEncoder/BeanEncoderMain.ipynb#X63sZmlsZQ%3D%3D?line=30'>31</a>\u001b[0m dense\u001b[39m.\u001b[39;49mfit(beanIntensities, beanIntensities, epochs\u001b[39m=\u001b[39;49m\u001b[39m40\u001b[39;49m,  verbose\u001b[39m=\u001b[39;49m\u001b[39m0\u001b[39;49m)\n\u001b[0;32m     <a href='vscode-notebook-cell:/c%3A/Users/Fin%20Amin/Desktop/StemCellResearch/beanEncoder/BeanEncoderMain.ipynb#X63sZmlsZQ%3D%3D?line=31'>32</a>\u001b[0m test_hat \u001b[39m=\u001b[39m dense(validation) \u001b[39m#, verbose = 0)\u001b[39;00m\n\u001b[0;32m     <a href='vscode-notebook-cell:/c%3A/Users/Fin%20Amin/Desktop/StemCellResearch/beanEncoder/BeanEncoderMain.ipynb#X63sZmlsZQ%3D%3D?line=32'>33</a>\u001b[0m loss \u001b[39m=\u001b[39m ignore_noParent_MSE(validation, test_hat)\n",
      "File \u001b[1;32m~\\AppData\\Roaming\\Python\\Python39\\site-packages\\keras\\utils\\traceback_utils.py:64\u001b[0m, in \u001b[0;36mfilter_traceback.<locals>.error_handler\u001b[1;34m(*args, **kwargs)\u001b[0m\n\u001b[0;32m     62\u001b[0m filtered_tb \u001b[39m=\u001b[39m \u001b[39mNone\u001b[39;00m\n\u001b[0;32m     63\u001b[0m \u001b[39mtry\u001b[39;00m:\n\u001b[1;32m---> 64\u001b[0m   \u001b[39mreturn\u001b[39;00m fn(\u001b[39m*\u001b[39margs, \u001b[39m*\u001b[39m\u001b[39m*\u001b[39mkwargs)\n\u001b[0;32m     65\u001b[0m \u001b[39mexcept\u001b[39;00m \u001b[39mException\u001b[39;00m \u001b[39mas\u001b[39;00m e:  \u001b[39m# pylint: disable=broad-except\u001b[39;00m\n\u001b[0;32m     66\u001b[0m   filtered_tb \u001b[39m=\u001b[39m _process_traceback_frames(e\u001b[39m.\u001b[39m__traceback__)\n",
      "File \u001b[1;32m~\\AppData\\Roaming\\Python\\Python39\\site-packages\\keras\\engine\\training.py:1409\u001b[0m, in \u001b[0;36mModel.fit\u001b[1;34m(self, x, y, batch_size, epochs, verbose, callbacks, validation_split, validation_data, shuffle, class_weight, sample_weight, initial_epoch, steps_per_epoch, validation_steps, validation_batch_size, validation_freq, max_queue_size, workers, use_multiprocessing)\u001b[0m\n\u001b[0;32m   1402\u001b[0m \u001b[39mwith\u001b[39;00m tf\u001b[39m.\u001b[39mprofiler\u001b[39m.\u001b[39mexperimental\u001b[39m.\u001b[39mTrace(\n\u001b[0;32m   1403\u001b[0m     \u001b[39m'\u001b[39m\u001b[39mtrain\u001b[39m\u001b[39m'\u001b[39m,\n\u001b[0;32m   1404\u001b[0m     epoch_num\u001b[39m=\u001b[39mepoch,\n\u001b[0;32m   1405\u001b[0m     step_num\u001b[39m=\u001b[39mstep,\n\u001b[0;32m   1406\u001b[0m     batch_size\u001b[39m=\u001b[39mbatch_size,\n\u001b[0;32m   1407\u001b[0m     _r\u001b[39m=\u001b[39m\u001b[39m1\u001b[39m):\n\u001b[0;32m   1408\u001b[0m   callbacks\u001b[39m.\u001b[39mon_train_batch_begin(step)\n\u001b[1;32m-> 1409\u001b[0m   tmp_logs \u001b[39m=\u001b[39m \u001b[39mself\u001b[39;49m\u001b[39m.\u001b[39;49mtrain_function(iterator)\n\u001b[0;32m   1410\u001b[0m   \u001b[39mif\u001b[39;00m data_handler\u001b[39m.\u001b[39mshould_sync:\n\u001b[0;32m   1411\u001b[0m     context\u001b[39m.\u001b[39masync_wait()\n",
      "File \u001b[1;32m~\\AppData\\Roaming\\Python\\Python39\\site-packages\\tensorflow\\python\\util\\traceback_utils.py:150\u001b[0m, in \u001b[0;36mfilter_traceback.<locals>.error_handler\u001b[1;34m(*args, **kwargs)\u001b[0m\n\u001b[0;32m    148\u001b[0m filtered_tb \u001b[39m=\u001b[39m \u001b[39mNone\u001b[39;00m\n\u001b[0;32m    149\u001b[0m \u001b[39mtry\u001b[39;00m:\n\u001b[1;32m--> 150\u001b[0m   \u001b[39mreturn\u001b[39;00m fn(\u001b[39m*\u001b[39margs, \u001b[39m*\u001b[39m\u001b[39m*\u001b[39mkwargs)\n\u001b[0;32m    151\u001b[0m \u001b[39mexcept\u001b[39;00m \u001b[39mException\u001b[39;00m \u001b[39mas\u001b[39;00m e:\n\u001b[0;32m    152\u001b[0m   filtered_tb \u001b[39m=\u001b[39m _process_traceback_frames(e\u001b[39m.\u001b[39m__traceback__)\n",
      "File \u001b[1;32m~\\AppData\\Roaming\\Python\\Python39\\site-packages\\tensorflow\\python\\eager\\def_function.py:915\u001b[0m, in \u001b[0;36mFunction.__call__\u001b[1;34m(self, *args, **kwds)\u001b[0m\n\u001b[0;32m    912\u001b[0m compiler \u001b[39m=\u001b[39m \u001b[39m\"\u001b[39m\u001b[39mxla\u001b[39m\u001b[39m\"\u001b[39m \u001b[39mif\u001b[39;00m \u001b[39mself\u001b[39m\u001b[39m.\u001b[39m_jit_compile \u001b[39melse\u001b[39;00m \u001b[39m\"\u001b[39m\u001b[39mnonXla\u001b[39m\u001b[39m\"\u001b[39m\n\u001b[0;32m    914\u001b[0m \u001b[39mwith\u001b[39;00m OptionalXlaContext(\u001b[39mself\u001b[39m\u001b[39m.\u001b[39m_jit_compile):\n\u001b[1;32m--> 915\u001b[0m   result \u001b[39m=\u001b[39m \u001b[39mself\u001b[39m\u001b[39m.\u001b[39m_call(\u001b[39m*\u001b[39margs, \u001b[39m*\u001b[39m\u001b[39m*\u001b[39mkwds)\n\u001b[0;32m    917\u001b[0m new_tracing_count \u001b[39m=\u001b[39m \u001b[39mself\u001b[39m\u001b[39m.\u001b[39mexperimental_get_tracing_count()\n\u001b[0;32m    918\u001b[0m without_tracing \u001b[39m=\u001b[39m (tracing_count \u001b[39m==\u001b[39m new_tracing_count)\n",
      "File \u001b[1;32m~\\AppData\\Roaming\\Python\\Python39\\site-packages\\tensorflow\\python\\eager\\def_function.py:980\u001b[0m, in \u001b[0;36mFunction._call\u001b[1;34m(self, *args, **kwds)\u001b[0m\n\u001b[0;32m    976\u001b[0m     \u001b[39mpass\u001b[39;00m  \u001b[39m# Fall through to cond-based initialization.\u001b[39;00m\n\u001b[0;32m    977\u001b[0m   \u001b[39melse\u001b[39;00m:\n\u001b[0;32m    978\u001b[0m     \u001b[39m# Lifting succeeded, so variables are initialized and we can run the\u001b[39;00m\n\u001b[0;32m    979\u001b[0m     \u001b[39m# stateless function.\u001b[39;00m\n\u001b[1;32m--> 980\u001b[0m     \u001b[39mreturn\u001b[39;00m \u001b[39mself\u001b[39m\u001b[39m.\u001b[39m_stateless_fn(\u001b[39m*\u001b[39margs, \u001b[39m*\u001b[39m\u001b[39m*\u001b[39mkwds)\n\u001b[0;32m    981\u001b[0m \u001b[39melse\u001b[39;00m:\n\u001b[0;32m    982\u001b[0m   _, _, filtered_flat_args \u001b[39m=\u001b[39m (\n\u001b[0;32m    983\u001b[0m       \u001b[39mself\u001b[39m\u001b[39m.\u001b[39m_stateful_fn\u001b[39m.\u001b[39m_function_spec\u001b[39m.\u001b[39mcanonicalize_function_inputs(  \u001b[39m# pylint: disable=protected-access\u001b[39;00m\n\u001b[0;32m    984\u001b[0m           \u001b[39m*\u001b[39margs, \u001b[39m*\u001b[39m\u001b[39m*\u001b[39mkwds))\n",
      "File \u001b[1;32m~\\AppData\\Roaming\\Python\\Python39\\site-packages\\tensorflow\\python\\eager\\function.py:2452\u001b[0m, in \u001b[0;36mFunction.__call__\u001b[1;34m(self, *args, **kwargs)\u001b[0m\n\u001b[0;32m   2449\u001b[0m \u001b[39m\"\"\"Calls a graph function specialized to the inputs.\"\"\"\u001b[39;00m\n\u001b[0;32m   2450\u001b[0m \u001b[39mwith\u001b[39;00m \u001b[39mself\u001b[39m\u001b[39m.\u001b[39m_lock:\n\u001b[0;32m   2451\u001b[0m   (graph_function,\n\u001b[1;32m-> 2452\u001b[0m    filtered_flat_args) \u001b[39m=\u001b[39m \u001b[39mself\u001b[39;49m\u001b[39m.\u001b[39;49m_maybe_define_function(args, kwargs)\n\u001b[0;32m   2453\u001b[0m \u001b[39mreturn\u001b[39;00m graph_function\u001b[39m.\u001b[39m_call_flat(\n\u001b[0;32m   2454\u001b[0m     filtered_flat_args, captured_inputs\u001b[39m=\u001b[39mgraph_function\u001b[39m.\u001b[39mcaptured_inputs)\n",
      "File \u001b[1;32m~\\AppData\\Roaming\\Python\\Python39\\site-packages\\tensorflow\\python\\eager\\function.py:2711\u001b[0m, in \u001b[0;36mFunction._maybe_define_function\u001b[1;34m(self, args, kwargs)\u001b[0m\n\u001b[0;32m   2708\u001b[0m   cache_key \u001b[39m=\u001b[39m \u001b[39mself\u001b[39m\u001b[39m.\u001b[39m_function_cache\u001b[39m.\u001b[39mgeneralize(cache_key)\n\u001b[0;32m   2709\u001b[0m   (args, kwargs) \u001b[39m=\u001b[39m cache_key\u001b[39m.\u001b[39m_placeholder_value()  \u001b[39m# pylint: disable=protected-access\u001b[39;00m\n\u001b[1;32m-> 2711\u001b[0m graph_function \u001b[39m=\u001b[39m \u001b[39mself\u001b[39;49m\u001b[39m.\u001b[39;49m_create_graph_function(args, kwargs)\n\u001b[0;32m   2712\u001b[0m \u001b[39mself\u001b[39m\u001b[39m.\u001b[39m_function_cache\u001b[39m.\u001b[39madd(cache_key, cache_key_deletion_observer,\n\u001b[0;32m   2713\u001b[0m                          graph_function)\n\u001b[0;32m   2715\u001b[0m \u001b[39mreturn\u001b[39;00m graph_function, filtered_flat_args\n",
      "File \u001b[1;32m~\\AppData\\Roaming\\Python\\Python39\\site-packages\\tensorflow\\python\\eager\\function.py:2627\u001b[0m, in \u001b[0;36mFunction._create_graph_function\u001b[1;34m(self, args, kwargs)\u001b[0m\n\u001b[0;32m   2622\u001b[0m missing_arg_names \u001b[39m=\u001b[39m [\n\u001b[0;32m   2623\u001b[0m     \u001b[39m\"\u001b[39m\u001b[39m%s\u001b[39;00m\u001b[39m_\u001b[39m\u001b[39m%d\u001b[39;00m\u001b[39m\"\u001b[39m \u001b[39m%\u001b[39m (arg, i) \u001b[39mfor\u001b[39;00m i, arg \u001b[39min\u001b[39;00m \u001b[39menumerate\u001b[39m(missing_arg_names)\n\u001b[0;32m   2624\u001b[0m ]\n\u001b[0;32m   2625\u001b[0m arg_names \u001b[39m=\u001b[39m base_arg_names \u001b[39m+\u001b[39m missing_arg_names\n\u001b[0;32m   2626\u001b[0m graph_function \u001b[39m=\u001b[39m ConcreteFunction(\n\u001b[1;32m-> 2627\u001b[0m     func_graph_module\u001b[39m.\u001b[39;49mfunc_graph_from_py_func(\n\u001b[0;32m   2628\u001b[0m         \u001b[39mself\u001b[39;49m\u001b[39m.\u001b[39;49m_name,\n\u001b[0;32m   2629\u001b[0m         \u001b[39mself\u001b[39;49m\u001b[39m.\u001b[39;49m_python_function,\n\u001b[0;32m   2630\u001b[0m         args,\n\u001b[0;32m   2631\u001b[0m         kwargs,\n\u001b[0;32m   2632\u001b[0m         \u001b[39mself\u001b[39;49m\u001b[39m.\u001b[39;49minput_signature,\n\u001b[0;32m   2633\u001b[0m         autograph\u001b[39m=\u001b[39;49m\u001b[39mself\u001b[39;49m\u001b[39m.\u001b[39;49m_autograph,\n\u001b[0;32m   2634\u001b[0m         autograph_options\u001b[39m=\u001b[39;49m\u001b[39mself\u001b[39;49m\u001b[39m.\u001b[39;49m_autograph_options,\n\u001b[0;32m   2635\u001b[0m         arg_names\u001b[39m=\u001b[39;49marg_names,\n\u001b[0;32m   2636\u001b[0m         capture_by_value\u001b[39m=\u001b[39;49m\u001b[39mself\u001b[39;49m\u001b[39m.\u001b[39;49m_capture_by_value),\n\u001b[0;32m   2637\u001b[0m     \u001b[39mself\u001b[39m\u001b[39m.\u001b[39m_function_attributes,\n\u001b[0;32m   2638\u001b[0m     spec\u001b[39m=\u001b[39m\u001b[39mself\u001b[39m\u001b[39m.\u001b[39mfunction_spec,\n\u001b[0;32m   2639\u001b[0m     \u001b[39m# Tell the ConcreteFunction to clean up its graph once it goes out of\u001b[39;00m\n\u001b[0;32m   2640\u001b[0m     \u001b[39m# scope. This is not the default behavior since it gets used in some\u001b[39;00m\n\u001b[0;32m   2641\u001b[0m     \u001b[39m# places (like Keras) where the FuncGraph lives longer than the\u001b[39;00m\n\u001b[0;32m   2642\u001b[0m     \u001b[39m# ConcreteFunction.\u001b[39;00m\n\u001b[0;32m   2643\u001b[0m     shared_func_graph\u001b[39m=\u001b[39m\u001b[39mFalse\u001b[39;00m)\n\u001b[0;32m   2644\u001b[0m \u001b[39mreturn\u001b[39;00m graph_function\n",
      "File \u001b[1;32m~\\AppData\\Roaming\\Python\\Python39\\site-packages\\tensorflow\\python\\framework\\func_graph.py:1141\u001b[0m, in \u001b[0;36mfunc_graph_from_py_func\u001b[1;34m(name, python_func, args, kwargs, signature, func_graph, autograph, autograph_options, add_control_dependencies, arg_names, op_return_value, collections, capture_by_value, acd_record_initial_resource_uses)\u001b[0m\n\u001b[0;32m   1138\u001b[0m \u001b[39melse\u001b[39;00m:\n\u001b[0;32m   1139\u001b[0m   _, original_func \u001b[39m=\u001b[39m tf_decorator\u001b[39m.\u001b[39munwrap(python_func)\n\u001b[1;32m-> 1141\u001b[0m func_outputs \u001b[39m=\u001b[39m python_func(\u001b[39m*\u001b[39mfunc_args, \u001b[39m*\u001b[39m\u001b[39m*\u001b[39mfunc_kwargs)\n\u001b[0;32m   1143\u001b[0m \u001b[39m# invariant: `func_outputs` contains only Tensors, CompositeTensors,\u001b[39;00m\n\u001b[0;32m   1144\u001b[0m \u001b[39m# TensorArrays and `None`s.\u001b[39;00m\n\u001b[0;32m   1145\u001b[0m func_outputs \u001b[39m=\u001b[39m nest\u001b[39m.\u001b[39mmap_structure(\n\u001b[0;32m   1146\u001b[0m     convert, func_outputs, expand_composites\u001b[39m=\u001b[39m\u001b[39mTrue\u001b[39;00m)\n",
      "File \u001b[1;32m~\\AppData\\Roaming\\Python\\Python39\\site-packages\\tensorflow\\python\\eager\\def_function.py:677\u001b[0m, in \u001b[0;36mFunction._defun_with_scope.<locals>.wrapped_fn\u001b[1;34m(*args, **kwds)\u001b[0m\n\u001b[0;32m    673\u001b[0m \u001b[39mwith\u001b[39;00m default_graph\u001b[39m.\u001b[39m_variable_creator_scope(scope, priority\u001b[39m=\u001b[39m\u001b[39m50\u001b[39m):  \u001b[39m# pylint: disable=protected-access\u001b[39;00m\n\u001b[0;32m    674\u001b[0m   \u001b[39m# __wrapped__ allows AutoGraph to swap in a converted function. We give\u001b[39;00m\n\u001b[0;32m    675\u001b[0m   \u001b[39m# the function a weak reference to itself to avoid a reference cycle.\u001b[39;00m\n\u001b[0;32m    676\u001b[0m   \u001b[39mwith\u001b[39;00m OptionalXlaContext(compile_with_xla):\n\u001b[1;32m--> 677\u001b[0m     out \u001b[39m=\u001b[39m weak_wrapped_fn()\u001b[39m.\u001b[39m__wrapped__(\u001b[39m*\u001b[39margs, \u001b[39m*\u001b[39m\u001b[39m*\u001b[39mkwds)\n\u001b[0;32m    678\u001b[0m   \u001b[39mreturn\u001b[39;00m out\n",
      "File \u001b[1;32m~\\AppData\\Roaming\\Python\\Python39\\site-packages\\tensorflow\\python\\framework\\func_graph.py:1116\u001b[0m, in \u001b[0;36mfunc_graph_from_py_func.<locals>.autograph_handler\u001b[1;34m(*args, **kwargs)\u001b[0m\n\u001b[0;32m   1114\u001b[0m \u001b[39m# TODO(mdan): Push this block higher in tf.function's call stack.\u001b[39;00m\n\u001b[0;32m   1115\u001b[0m \u001b[39mtry\u001b[39;00m:\n\u001b[1;32m-> 1116\u001b[0m   \u001b[39mreturn\u001b[39;00m autograph\u001b[39m.\u001b[39;49mconverted_call(\n\u001b[0;32m   1117\u001b[0m       original_func,\n\u001b[0;32m   1118\u001b[0m       args,\n\u001b[0;32m   1119\u001b[0m       kwargs,\n\u001b[0;32m   1120\u001b[0m       options\u001b[39m=\u001b[39;49mautograph\u001b[39m.\u001b[39;49mConversionOptions(\n\u001b[0;32m   1121\u001b[0m           recursive\u001b[39m=\u001b[39;49m\u001b[39mTrue\u001b[39;49;00m,\n\u001b[0;32m   1122\u001b[0m           optional_features\u001b[39m=\u001b[39;49mautograph_options,\n\u001b[0;32m   1123\u001b[0m           user_requested\u001b[39m=\u001b[39;49m\u001b[39mTrue\u001b[39;49;00m,\n\u001b[0;32m   1124\u001b[0m       ))\n\u001b[0;32m   1125\u001b[0m \u001b[39mexcept\u001b[39;00m \u001b[39mException\u001b[39;00m \u001b[39mas\u001b[39;00m e:  \u001b[39m# pylint:disable=broad-except\u001b[39;00m\n\u001b[0;32m   1126\u001b[0m   \u001b[39mif\u001b[39;00m \u001b[39mhasattr\u001b[39m(e, \u001b[39m\"\u001b[39m\u001b[39mag_error_metadata\u001b[39m\u001b[39m\"\u001b[39m):\n",
      "File \u001b[1;32m~\\AppData\\Roaming\\Python\\Python39\\site-packages\\tensorflow\\python\\autograph\\impl\\api.py:439\u001b[0m, in \u001b[0;36mconverted_call\u001b[1;34m(f, args, kwargs, caller_fn_scope, options)\u001b[0m\n\u001b[0;32m    437\u001b[0m \u001b[39mtry\u001b[39;00m:\n\u001b[0;32m    438\u001b[0m   \u001b[39mif\u001b[39;00m kwargs \u001b[39mis\u001b[39;00m \u001b[39mnot\u001b[39;00m \u001b[39mNone\u001b[39;00m:\n\u001b[1;32m--> 439\u001b[0m     result \u001b[39m=\u001b[39m converted_f(\u001b[39m*\u001b[39meffective_args, \u001b[39m*\u001b[39m\u001b[39m*\u001b[39mkwargs)\n\u001b[0;32m    440\u001b[0m   \u001b[39melse\u001b[39;00m:\n\u001b[0;32m    441\u001b[0m     result \u001b[39m=\u001b[39m converted_f(\u001b[39m*\u001b[39meffective_args)\n",
      "File \u001b[1;32mC:\\Users\\FINAMI~1\\AppData\\Local\\Temp\\__autograph_generated_filemc4x55c2.py:15\u001b[0m, in \u001b[0;36mouter_factory.<locals>.inner_factory.<locals>.tf__train_function\u001b[1;34m(iterator)\u001b[0m\n\u001b[0;32m     13\u001b[0m \u001b[39mtry\u001b[39;00m:\n\u001b[0;32m     14\u001b[0m     do_return \u001b[39m=\u001b[39m \u001b[39mTrue\u001b[39;00m\n\u001b[1;32m---> 15\u001b[0m     retval_ \u001b[39m=\u001b[39m ag__\u001b[39m.\u001b[39;49mconverted_call(ag__\u001b[39m.\u001b[39;49mld(step_function), (ag__\u001b[39m.\u001b[39;49mld(\u001b[39mself\u001b[39;49m), ag__\u001b[39m.\u001b[39;49mld(iterator)), \u001b[39mNone\u001b[39;49;00m, fscope)\n\u001b[0;32m     16\u001b[0m \u001b[39mexcept\u001b[39;00m:\n\u001b[0;32m     17\u001b[0m     do_return \u001b[39m=\u001b[39m \u001b[39mFalse\u001b[39;00m\n",
      "File \u001b[1;32m~\\AppData\\Roaming\\Python\\Python39\\site-packages\\tensorflow\\python\\autograph\\impl\\api.py:331\u001b[0m, in \u001b[0;36mconverted_call\u001b[1;34m(f, args, kwargs, caller_fn_scope, options)\u001b[0m\n\u001b[0;32m    329\u001b[0m \u001b[39mif\u001b[39;00m conversion\u001b[39m.\u001b[39mis_in_allowlist_cache(f, options):\n\u001b[0;32m    330\u001b[0m   logging\u001b[39m.\u001b[39mlog(\u001b[39m2\u001b[39m, \u001b[39m'\u001b[39m\u001b[39mAllowlisted \u001b[39m\u001b[39m%s\u001b[39;00m\u001b[39m: from cache\u001b[39m\u001b[39m'\u001b[39m, f)\n\u001b[1;32m--> 331\u001b[0m   \u001b[39mreturn\u001b[39;00m _call_unconverted(f, args, kwargs, options, \u001b[39mFalse\u001b[39;49;00m)\n\u001b[0;32m    333\u001b[0m \u001b[39mif\u001b[39;00m ag_ctx\u001b[39m.\u001b[39mcontrol_status_ctx()\u001b[39m.\u001b[39mstatus \u001b[39m==\u001b[39m ag_ctx\u001b[39m.\u001b[39mStatus\u001b[39m.\u001b[39mDISABLED:\n\u001b[0;32m    334\u001b[0m   logging\u001b[39m.\u001b[39mlog(\u001b[39m2\u001b[39m, \u001b[39m'\u001b[39m\u001b[39mAllowlisted: \u001b[39m\u001b[39m%s\u001b[39;00m\u001b[39m: AutoGraph is disabled in context\u001b[39m\u001b[39m'\u001b[39m, f)\n",
      "File \u001b[1;32m~\\AppData\\Roaming\\Python\\Python39\\site-packages\\tensorflow\\python\\autograph\\impl\\api.py:459\u001b[0m, in \u001b[0;36m_call_unconverted\u001b[1;34m(f, args, kwargs, options, update_cache)\u001b[0m\n\u001b[0;32m    457\u001b[0m \u001b[39mif\u001b[39;00m kwargs \u001b[39mis\u001b[39;00m \u001b[39mnot\u001b[39;00m \u001b[39mNone\u001b[39;00m:\n\u001b[0;32m    458\u001b[0m   \u001b[39mreturn\u001b[39;00m f(\u001b[39m*\u001b[39margs, \u001b[39m*\u001b[39m\u001b[39m*\u001b[39mkwargs)\n\u001b[1;32m--> 459\u001b[0m \u001b[39mreturn\u001b[39;00m f(\u001b[39m*\u001b[39;49margs)\n",
      "File \u001b[1;32m~\\AppData\\Roaming\\Python\\Python39\\site-packages\\keras\\engine\\training.py:1040\u001b[0m, in \u001b[0;36mModel.make_train_function.<locals>.step_function\u001b[1;34m(model, iterator)\u001b[0m\n\u001b[0;32m   1037\u001b[0m   run_step \u001b[39m=\u001b[39m tf\u001b[39m.\u001b[39mfunction(\n\u001b[0;32m   1038\u001b[0m       run_step, jit_compile\u001b[39m=\u001b[39m\u001b[39mTrue\u001b[39;00m, reduce_retracing\u001b[39m=\u001b[39m\u001b[39mTrue\u001b[39;00m)\n\u001b[0;32m   1039\u001b[0m data \u001b[39m=\u001b[39m \u001b[39mnext\u001b[39m(iterator)\n\u001b[1;32m-> 1040\u001b[0m outputs \u001b[39m=\u001b[39m model\u001b[39m.\u001b[39;49mdistribute_strategy\u001b[39m.\u001b[39;49mrun(run_step, args\u001b[39m=\u001b[39;49m(data,))\n\u001b[0;32m   1041\u001b[0m outputs \u001b[39m=\u001b[39m reduce_per_replica(\n\u001b[0;32m   1042\u001b[0m     outputs, \u001b[39mself\u001b[39m\u001b[39m.\u001b[39mdistribute_strategy, reduction\u001b[39m=\u001b[39m\u001b[39m'\u001b[39m\u001b[39mfirst\u001b[39m\u001b[39m'\u001b[39m)\n\u001b[0;32m   1043\u001b[0m \u001b[39mreturn\u001b[39;00m outputs\n",
      "File \u001b[1;32m~\\AppData\\Roaming\\Python\\Python39\\site-packages\\tensorflow\\python\\distribute\\distribute_lib.py:1312\u001b[0m, in \u001b[0;36mStrategyBase.run\u001b[1;34m(***failed resolving arguments***)\u001b[0m\n\u001b[0;32m   1307\u001b[0m \u001b[39mwith\u001b[39;00m \u001b[39mself\u001b[39m\u001b[39m.\u001b[39mscope():\n\u001b[0;32m   1308\u001b[0m   \u001b[39m# tf.distribute supports Eager functions, so AutoGraph should not be\u001b[39;00m\n\u001b[0;32m   1309\u001b[0m   \u001b[39m# applied when the caller is also in Eager mode.\u001b[39;00m\n\u001b[0;32m   1310\u001b[0m   fn \u001b[39m=\u001b[39m autograph\u001b[39m.\u001b[39mtf_convert(\n\u001b[0;32m   1311\u001b[0m       fn, autograph_ctx\u001b[39m.\u001b[39mcontrol_status_ctx(), convert_by_default\u001b[39m=\u001b[39m\u001b[39mFalse\u001b[39;00m)\n\u001b[1;32m-> 1312\u001b[0m   \u001b[39mreturn\u001b[39;00m \u001b[39mself\u001b[39;49m\u001b[39m.\u001b[39;49m_extended\u001b[39m.\u001b[39;49mcall_for_each_replica(fn, args\u001b[39m=\u001b[39;49margs, kwargs\u001b[39m=\u001b[39;49mkwargs)\n",
      "File \u001b[1;32m~\\AppData\\Roaming\\Python\\Python39\\site-packages\\tensorflow\\python\\distribute\\distribute_lib.py:2888\u001b[0m, in \u001b[0;36mStrategyExtendedV1.call_for_each_replica\u001b[1;34m(self, fn, args, kwargs)\u001b[0m\n\u001b[0;32m   2886\u001b[0m   kwargs \u001b[39m=\u001b[39m {}\n\u001b[0;32m   2887\u001b[0m \u001b[39mwith\u001b[39;00m \u001b[39mself\u001b[39m\u001b[39m.\u001b[39m_container_strategy()\u001b[39m.\u001b[39mscope():\n\u001b[1;32m-> 2888\u001b[0m   \u001b[39mreturn\u001b[39;00m \u001b[39mself\u001b[39;49m\u001b[39m.\u001b[39;49m_call_for_each_replica(fn, args, kwargs)\n",
      "File \u001b[1;32m~\\AppData\\Roaming\\Python\\Python39\\site-packages\\tensorflow\\python\\distribute\\distribute_lib.py:3689\u001b[0m, in \u001b[0;36m_DefaultDistributionExtended._call_for_each_replica\u001b[1;34m(self, fn, args, kwargs)\u001b[0m\n\u001b[0;32m   3687\u001b[0m \u001b[39mdef\u001b[39;00m \u001b[39m_call_for_each_replica\u001b[39m(\u001b[39mself\u001b[39m, fn, args, kwargs):\n\u001b[0;32m   3688\u001b[0m   \u001b[39mwith\u001b[39;00m ReplicaContext(\u001b[39mself\u001b[39m\u001b[39m.\u001b[39m_container_strategy(), replica_id_in_sync_group\u001b[39m=\u001b[39m\u001b[39m0\u001b[39m):\n\u001b[1;32m-> 3689\u001b[0m     \u001b[39mreturn\u001b[39;00m fn(\u001b[39m*\u001b[39margs, \u001b[39m*\u001b[39m\u001b[39m*\u001b[39mkwargs)\n",
      "File \u001b[1;32m~\\AppData\\Roaming\\Python\\Python39\\site-packages\\tensorflow\\python\\autograph\\impl\\api.py:689\u001b[0m, in \u001b[0;36mconvert.<locals>.decorator.<locals>.wrapper\u001b[1;34m(*args, **kwargs)\u001b[0m\n\u001b[0;32m    687\u001b[0m \u001b[39mtry\u001b[39;00m:\n\u001b[0;32m    688\u001b[0m   \u001b[39mwith\u001b[39;00m conversion_ctx:\n\u001b[1;32m--> 689\u001b[0m     \u001b[39mreturn\u001b[39;00m converted_call(f, args, kwargs, options\u001b[39m=\u001b[39;49moptions)\n\u001b[0;32m    690\u001b[0m \u001b[39mexcept\u001b[39;00m \u001b[39mException\u001b[39;00m \u001b[39mas\u001b[39;00m e:  \u001b[39m# pylint:disable=broad-except\u001b[39;00m\n\u001b[0;32m    691\u001b[0m   \u001b[39mif\u001b[39;00m \u001b[39mhasattr\u001b[39m(e, \u001b[39m'\u001b[39m\u001b[39mag_error_metadata\u001b[39m\u001b[39m'\u001b[39m):\n",
      "File \u001b[1;32m~\\AppData\\Roaming\\Python\\Python39\\site-packages\\tensorflow\\python\\autograph\\impl\\api.py:377\u001b[0m, in \u001b[0;36mconverted_call\u001b[1;34m(f, args, kwargs, caller_fn_scope, options)\u001b[0m\n\u001b[0;32m    374\u001b[0m   \u001b[39mreturn\u001b[39;00m _call_unconverted(f, args, kwargs, options)\n\u001b[0;32m    376\u001b[0m \u001b[39mif\u001b[39;00m \u001b[39mnot\u001b[39;00m options\u001b[39m.\u001b[39muser_requested \u001b[39mand\u001b[39;00m conversion\u001b[39m.\u001b[39mis_allowlisted(f):\n\u001b[1;32m--> 377\u001b[0m   \u001b[39mreturn\u001b[39;00m _call_unconverted(f, args, kwargs, options)\n\u001b[0;32m    379\u001b[0m \u001b[39m# internal_convert_user_code is for example turned off when issuing a dynamic\u001b[39;00m\n\u001b[0;32m    380\u001b[0m \u001b[39m# call conversion from generated code while in nonrecursive mode. In that\u001b[39;00m\n\u001b[0;32m    381\u001b[0m \u001b[39m# case we evidently don't want to recurse, but we still have to convert\u001b[39;00m\n\u001b[0;32m    382\u001b[0m \u001b[39m# things like builtins.\u001b[39;00m\n\u001b[0;32m    383\u001b[0m \u001b[39mif\u001b[39;00m \u001b[39mnot\u001b[39;00m options\u001b[39m.\u001b[39minternal_convert_user_code:\n",
      "File \u001b[1;32m~\\AppData\\Roaming\\Python\\Python39\\site-packages\\tensorflow\\python\\autograph\\impl\\api.py:458\u001b[0m, in \u001b[0;36m_call_unconverted\u001b[1;34m(f, args, kwargs, options, update_cache)\u001b[0m\n\u001b[0;32m    455\u001b[0m   \u001b[39mreturn\u001b[39;00m f\u001b[39m.\u001b[39m\u001b[39m__self__\u001b[39m\u001b[39m.\u001b[39mcall(args, kwargs)\n\u001b[0;32m    457\u001b[0m \u001b[39mif\u001b[39;00m kwargs \u001b[39mis\u001b[39;00m \u001b[39mnot\u001b[39;00m \u001b[39mNone\u001b[39;00m:\n\u001b[1;32m--> 458\u001b[0m   \u001b[39mreturn\u001b[39;00m f(\u001b[39m*\u001b[39margs, \u001b[39m*\u001b[39m\u001b[39m*\u001b[39mkwargs)\n\u001b[0;32m    459\u001b[0m \u001b[39mreturn\u001b[39;00m f(\u001b[39m*\u001b[39margs)\n",
      "File \u001b[1;32m~\\AppData\\Roaming\\Python\\Python39\\site-packages\\keras\\engine\\training.py:1030\u001b[0m, in \u001b[0;36mModel.make_train_function.<locals>.step_function.<locals>.run_step\u001b[1;34m(data)\u001b[0m\n\u001b[0;32m   1029\u001b[0m \u001b[39mdef\u001b[39;00m \u001b[39mrun_step\u001b[39m(data):\n\u001b[1;32m-> 1030\u001b[0m   outputs \u001b[39m=\u001b[39m model\u001b[39m.\u001b[39;49mtrain_step(data)\n\u001b[0;32m   1031\u001b[0m   \u001b[39m# Ensure counter is updated only if `train_step` succeeds.\u001b[39;00m\n\u001b[0;32m   1032\u001b[0m   \u001b[39mwith\u001b[39;00m tf\u001b[39m.\u001b[39mcontrol_dependencies(_minimum_control_deps(outputs)):\n",
      "File \u001b[1;32m~\\AppData\\Roaming\\Python\\Python39\\site-packages\\keras\\engine\\training.py:893\u001b[0m, in \u001b[0;36mModel.train_step\u001b[1;34m(self, data)\u001b[0m\n\u001b[0;32m    891\u001b[0m \u001b[39mself\u001b[39m\u001b[39m.\u001b[39m_validate_target_and_loss(y, loss)\n\u001b[0;32m    892\u001b[0m \u001b[39m# Run backwards pass.\u001b[39;00m\n\u001b[1;32m--> 893\u001b[0m \u001b[39mself\u001b[39;49m\u001b[39m.\u001b[39;49moptimizer\u001b[39m.\u001b[39;49mminimize(loss, \u001b[39mself\u001b[39;49m\u001b[39m.\u001b[39;49mtrainable_variables, tape\u001b[39m=\u001b[39;49mtape)\n\u001b[0;32m    894\u001b[0m \u001b[39mreturn\u001b[39;00m \u001b[39mself\u001b[39m\u001b[39m.\u001b[39mcompute_metrics(x, y, y_pred, sample_weight)\n",
      "File \u001b[1;32m~\\AppData\\Roaming\\Python\\Python39\\site-packages\\keras\\optimizers\\optimizer_v2\\optimizer_v2.py:537\u001b[0m, in \u001b[0;36mOptimizerV2.minimize\u001b[1;34m(self, loss, var_list, grad_loss, name, tape)\u001b[0m\n\u001b[0;32m    506\u001b[0m \u001b[39mdef\u001b[39;00m \u001b[39mminimize\u001b[39m(\u001b[39mself\u001b[39m, loss, var_list, grad_loss\u001b[39m=\u001b[39m\u001b[39mNone\u001b[39;00m, name\u001b[39m=\u001b[39m\u001b[39mNone\u001b[39;00m, tape\u001b[39m=\u001b[39m\u001b[39mNone\u001b[39;00m):\n\u001b[0;32m    507\u001b[0m   \u001b[39m\"\"\"Minimize `loss` by updating `var_list`.\u001b[39;00m\n\u001b[0;32m    508\u001b[0m \n\u001b[0;32m    509\u001b[0m \u001b[39m  This method simply computes gradient using `tf.GradientTape` and calls\u001b[39;00m\n\u001b[1;32m   (...)\u001b[0m\n\u001b[0;32m    535\u001b[0m \n\u001b[0;32m    536\u001b[0m \u001b[39m  \"\"\"\u001b[39;00m\n\u001b[1;32m--> 537\u001b[0m   grads_and_vars \u001b[39m=\u001b[39m \u001b[39mself\u001b[39;49m\u001b[39m.\u001b[39;49m_compute_gradients(\n\u001b[0;32m    538\u001b[0m       loss, var_list\u001b[39m=\u001b[39;49mvar_list, grad_loss\u001b[39m=\u001b[39;49mgrad_loss, tape\u001b[39m=\u001b[39;49mtape)\n\u001b[0;32m    539\u001b[0m   \u001b[39mreturn\u001b[39;00m \u001b[39mself\u001b[39m\u001b[39m.\u001b[39mapply_gradients(grads_and_vars, name\u001b[39m=\u001b[39mname)\n",
      "File \u001b[1;32m~\\AppData\\Roaming\\Python\\Python39\\site-packages\\keras\\optimizers\\optimizer_v2\\optimizer_v2.py:590\u001b[0m, in \u001b[0;36mOptimizerV2._compute_gradients\u001b[1;34m(self, loss, var_list, grad_loss, tape)\u001b[0m\n\u001b[0;32m    588\u001b[0m var_list \u001b[39m=\u001b[39m tf\u001b[39m.\u001b[39mnest\u001b[39m.\u001b[39mflatten(var_list)\n\u001b[0;32m    589\u001b[0m \u001b[39mwith\u001b[39;00m tf\u001b[39m.\u001b[39mname_scope(\u001b[39mself\u001b[39m\u001b[39m.\u001b[39m_name \u001b[39m+\u001b[39m \u001b[39m\"\u001b[39m\u001b[39m/gradients\u001b[39m\u001b[39m\"\u001b[39m):\n\u001b[1;32m--> 590\u001b[0m   grads_and_vars \u001b[39m=\u001b[39m \u001b[39mself\u001b[39;49m\u001b[39m.\u001b[39;49m_get_gradients(tape, loss, var_list, grad_loss)\n\u001b[0;32m    592\u001b[0m \u001b[39mself\u001b[39m\u001b[39m.\u001b[39m_assert_valid_dtypes([\n\u001b[0;32m    593\u001b[0m     v \u001b[39mfor\u001b[39;00m g, v \u001b[39min\u001b[39;00m grads_and_vars\n\u001b[0;32m    594\u001b[0m     \u001b[39mif\u001b[39;00m g \u001b[39mis\u001b[39;00m \u001b[39mnot\u001b[39;00m \u001b[39mNone\u001b[39;00m \u001b[39mand\u001b[39;00m v\u001b[39m.\u001b[39mdtype \u001b[39m!=\u001b[39m tf\u001b[39m.\u001b[39mresource\n\u001b[0;32m    595\u001b[0m ])\n\u001b[0;32m    597\u001b[0m \u001b[39mreturn\u001b[39;00m grads_and_vars\n",
      "File \u001b[1;32m~\\AppData\\Roaming\\Python\\Python39\\site-packages\\keras\\optimizers\\optimizer_v2\\optimizer_v2.py:471\u001b[0m, in \u001b[0;36mOptimizerV2._get_gradients\u001b[1;34m(self, tape, loss, var_list, grad_loss)\u001b[0m\n\u001b[0;32m    469\u001b[0m \u001b[39mdef\u001b[39;00m \u001b[39m_get_gradients\u001b[39m(\u001b[39mself\u001b[39m, tape, loss, var_list, grad_loss\u001b[39m=\u001b[39m\u001b[39mNone\u001b[39;00m):\n\u001b[0;32m    470\u001b[0m   \u001b[39m\"\"\"Called in `minimize` to compute gradients from loss.\"\"\"\u001b[39;00m\n\u001b[1;32m--> 471\u001b[0m   grads \u001b[39m=\u001b[39m tape\u001b[39m.\u001b[39;49mgradient(loss, var_list, grad_loss)\n\u001b[0;32m    472\u001b[0m   \u001b[39mreturn\u001b[39;00m \u001b[39mlist\u001b[39m(\u001b[39mzip\u001b[39m(grads, var_list))\n",
      "File \u001b[1;32m~\\AppData\\Roaming\\Python\\Python39\\site-packages\\tensorflow\\python\\eager\\backprop.py:1100\u001b[0m, in \u001b[0;36mGradientTape.gradient\u001b[1;34m(self, target, sources, output_gradients, unconnected_gradients)\u001b[0m\n\u001b[0;32m   1094\u001b[0m   output_gradients \u001b[39m=\u001b[39m (\n\u001b[0;32m   1095\u001b[0m       composite_tensor_gradient\u001b[39m.\u001b[39mget_flat_tensors_for_gradients(\n\u001b[0;32m   1096\u001b[0m           output_gradients))\n\u001b[0;32m   1097\u001b[0m   output_gradients \u001b[39m=\u001b[39m [\u001b[39mNone\u001b[39;00m \u001b[39mif\u001b[39;00m x \u001b[39mis\u001b[39;00m \u001b[39mNone\u001b[39;00m \u001b[39melse\u001b[39;00m ops\u001b[39m.\u001b[39mconvert_to_tensor(x)\n\u001b[0;32m   1098\u001b[0m                       \u001b[39mfor\u001b[39;00m x \u001b[39min\u001b[39;00m output_gradients]\n\u001b[1;32m-> 1100\u001b[0m flat_grad \u001b[39m=\u001b[39m imperative_grad\u001b[39m.\u001b[39;49mimperative_grad(\n\u001b[0;32m   1101\u001b[0m     \u001b[39mself\u001b[39;49m\u001b[39m.\u001b[39;49m_tape,\n\u001b[0;32m   1102\u001b[0m     flat_targets,\n\u001b[0;32m   1103\u001b[0m     flat_sources,\n\u001b[0;32m   1104\u001b[0m     output_gradients\u001b[39m=\u001b[39;49moutput_gradients,\n\u001b[0;32m   1105\u001b[0m     sources_raw\u001b[39m=\u001b[39;49mflat_sources_raw,\n\u001b[0;32m   1106\u001b[0m     unconnected_gradients\u001b[39m=\u001b[39;49munconnected_gradients)\n\u001b[0;32m   1108\u001b[0m \u001b[39mif\u001b[39;00m \u001b[39mnot\u001b[39;00m \u001b[39mself\u001b[39m\u001b[39m.\u001b[39m_persistent:\n\u001b[0;32m   1109\u001b[0m   \u001b[39m# Keep track of watched variables before setting tape to None\u001b[39;00m\n\u001b[0;32m   1110\u001b[0m   \u001b[39mself\u001b[39m\u001b[39m.\u001b[39m_watched_variables \u001b[39m=\u001b[39m \u001b[39mself\u001b[39m\u001b[39m.\u001b[39m_tape\u001b[39m.\u001b[39mwatched_variables()\n",
      "File \u001b[1;32m~\\AppData\\Roaming\\Python\\Python39\\site-packages\\tensorflow\\python\\eager\\imperative_grad.py:67\u001b[0m, in \u001b[0;36mimperative_grad\u001b[1;34m(tape, target, sources, output_gradients, sources_raw, unconnected_gradients)\u001b[0m\n\u001b[0;32m     63\u001b[0m \u001b[39mexcept\u001b[39;00m \u001b[39mValueError\u001b[39;00m:\n\u001b[0;32m     64\u001b[0m   \u001b[39mraise\u001b[39;00m \u001b[39mValueError\u001b[39;00m(\n\u001b[0;32m     65\u001b[0m       \u001b[39m\"\u001b[39m\u001b[39mUnknown value for unconnected_gradients: \u001b[39m\u001b[39m%r\u001b[39;00m\u001b[39m\"\u001b[39m \u001b[39m%\u001b[39m unconnected_gradients)\n\u001b[1;32m---> 67\u001b[0m \u001b[39mreturn\u001b[39;00m pywrap_tfe\u001b[39m.\u001b[39;49mTFE_Py_TapeGradient(\n\u001b[0;32m     68\u001b[0m     tape\u001b[39m.\u001b[39;49m_tape,  \u001b[39m# pylint: disable=protected-access\u001b[39;49;00m\n\u001b[0;32m     69\u001b[0m     target,\n\u001b[0;32m     70\u001b[0m     sources,\n\u001b[0;32m     71\u001b[0m     output_gradients,\n\u001b[0;32m     72\u001b[0m     sources_raw,\n\u001b[0;32m     73\u001b[0m     compat\u001b[39m.\u001b[39;49mas_str(unconnected_gradients\u001b[39m.\u001b[39;49mvalue))\n",
      "File \u001b[1;32m~\\AppData\\Roaming\\Python\\Python39\\site-packages\\tensorflow\\python\\eager\\backprop.py:157\u001b[0m, in \u001b[0;36m_gradient_function\u001b[1;34m(op_name, attr_tuple, num_inputs, inputs, outputs, out_grads, skip_input_indices, forward_pass_name_scope)\u001b[0m\n\u001b[0;32m    155\u001b[0m     gradient_name_scope \u001b[39m+\u001b[39m\u001b[39m=\u001b[39m forward_pass_name_scope \u001b[39m+\u001b[39m \u001b[39m\"\u001b[39m\u001b[39m/\u001b[39m\u001b[39m\"\u001b[39m\n\u001b[0;32m    156\u001b[0m   \u001b[39mwith\u001b[39;00m ops\u001b[39m.\u001b[39mname_scope(gradient_name_scope):\n\u001b[1;32m--> 157\u001b[0m     \u001b[39mreturn\u001b[39;00m grad_fn(mock_op, \u001b[39m*\u001b[39;49mout_grads)\n\u001b[0;32m    158\u001b[0m \u001b[39melse\u001b[39;00m:\n\u001b[0;32m    159\u001b[0m   \u001b[39mreturn\u001b[39;00m grad_fn(mock_op, \u001b[39m*\u001b[39mout_grads)\n",
      "File \u001b[1;32m~\\AppData\\Roaming\\Python\\Python39\\site-packages\\tensorflow\\python\\ops\\cond_v2.py:121\u001b[0m, in \u001b[0;36m_IfGrad\u001b[1;34m(op, *grads)\u001b[0m\n\u001b[0;32m    116\u001b[0m \u001b[39massert\u001b[39;00m false_graph\u001b[39m.\u001b[39mouter_graph \u001b[39m==\u001b[39m if_op\u001b[39m.\u001b[39mgraph\n\u001b[0;32m    118\u001b[0m \u001b[39m# Create grad functions that compute the gradient of the true/false forward\u001b[39;00m\n\u001b[0;32m    119\u001b[0m \u001b[39m# graphs. These functions will capture tensors from the forward pass\u001b[39;00m\n\u001b[0;32m    120\u001b[0m \u001b[39m# functions.\u001b[39;00m\n\u001b[1;32m--> 121\u001b[0m true_grad_graph \u001b[39m=\u001b[39m _create_grad_func(\n\u001b[0;32m    122\u001b[0m     true_graph, grads, util\u001b[39m.\u001b[39;49munique_grad_fn_name(true_graph\u001b[39m.\u001b[39;49mname))\n\u001b[0;32m    123\u001b[0m false_grad_graph \u001b[39m=\u001b[39m _create_grad_func(\n\u001b[0;32m    124\u001b[0m     false_graph, grads, util\u001b[39m.\u001b[39munique_grad_fn_name(false_graph\u001b[39m.\u001b[39mname))\n\u001b[0;32m    126\u001b[0m \u001b[39m# Replaces output None grads with zeros if at least one branch has non-None\u001b[39;00m\n\u001b[0;32m    127\u001b[0m \u001b[39m# grad at that index.\u001b[39;00m\n",
      "File \u001b[1;32m~\\AppData\\Roaming\\Python\\Python39\\site-packages\\tensorflow\\python\\ops\\cond_v2.py:430\u001b[0m, in \u001b[0;36m_create_grad_func\u001b[1;34m(func_graph, grads, name)\u001b[0m\n\u001b[0;32m    428\u001b[0m \u001b[39mdef\u001b[39;00m \u001b[39m_create_grad_func\u001b[39m(func_graph, grads, name):\n\u001b[0;32m    429\u001b[0m   \u001b[39m\"\"\"Returns the FuncGraph representation of _grad_fn.\"\"\"\u001b[39;00m\n\u001b[1;32m--> 430\u001b[0m   \u001b[39mreturn\u001b[39;00m func_graph_module\u001b[39m.\u001b[39;49mfunc_graph_from_py_func(\n\u001b[0;32m    431\u001b[0m       name,\n\u001b[0;32m    432\u001b[0m       \u001b[39mlambda\u001b[39;49;00m: _grad_fn(func_graph, grads), [], {},\n\u001b[0;32m    433\u001b[0m       func_graph\u001b[39m=\u001b[39;49m_CondGradFuncGraph(name, func_graph))\n",
      "File \u001b[1;32m~\\AppData\\Roaming\\Python\\Python39\\site-packages\\tensorflow\\python\\framework\\func_graph.py:1141\u001b[0m, in \u001b[0;36mfunc_graph_from_py_func\u001b[1;34m(name, python_func, args, kwargs, signature, func_graph, autograph, autograph_options, add_control_dependencies, arg_names, op_return_value, collections, capture_by_value, acd_record_initial_resource_uses)\u001b[0m\n\u001b[0;32m   1138\u001b[0m \u001b[39melse\u001b[39;00m:\n\u001b[0;32m   1139\u001b[0m   _, original_func \u001b[39m=\u001b[39m tf_decorator\u001b[39m.\u001b[39munwrap(python_func)\n\u001b[1;32m-> 1141\u001b[0m func_outputs \u001b[39m=\u001b[39m python_func(\u001b[39m*\u001b[39mfunc_args, \u001b[39m*\u001b[39m\u001b[39m*\u001b[39mfunc_kwargs)\n\u001b[0;32m   1143\u001b[0m \u001b[39m# invariant: `func_outputs` contains only Tensors, CompositeTensors,\u001b[39;00m\n\u001b[0;32m   1144\u001b[0m \u001b[39m# TensorArrays and `None`s.\u001b[39;00m\n\u001b[0;32m   1145\u001b[0m func_outputs \u001b[39m=\u001b[39m nest\u001b[39m.\u001b[39mmap_structure(\n\u001b[0;32m   1146\u001b[0m     convert, func_outputs, expand_composites\u001b[39m=\u001b[39m\u001b[39mTrue\u001b[39;00m)\n",
      "File \u001b[1;32m~\\AppData\\Roaming\\Python\\Python39\\site-packages\\tensorflow\\python\\ops\\cond_v2.py:432\u001b[0m, in \u001b[0;36m_create_grad_func.<locals>.<lambda>\u001b[1;34m()\u001b[0m\n\u001b[0;32m    428\u001b[0m \u001b[39mdef\u001b[39;00m \u001b[39m_create_grad_func\u001b[39m(func_graph, grads, name):\n\u001b[0;32m    429\u001b[0m   \u001b[39m\"\"\"Returns the FuncGraph representation of _grad_fn.\"\"\"\u001b[39;00m\n\u001b[0;32m    430\u001b[0m   \u001b[39mreturn\u001b[39;00m func_graph_module\u001b[39m.\u001b[39mfunc_graph_from_py_func(\n\u001b[0;32m    431\u001b[0m       name,\n\u001b[1;32m--> 432\u001b[0m       \u001b[39mlambda\u001b[39;00m: _grad_fn(func_graph, grads), [], {},\n\u001b[0;32m    433\u001b[0m       func_graph\u001b[39m=\u001b[39m_CondGradFuncGraph(name, func_graph))\n",
      "File \u001b[1;32m~\\AppData\\Roaming\\Python\\Python39\\site-packages\\tensorflow\\python\\ops\\cond_v2.py:421\u001b[0m, in \u001b[0;36m_grad_fn\u001b[1;34m(func_graph, grads)\u001b[0m\n\u001b[0;32m    415\u001b[0m   grad_ys\u001b[39m.\u001b[39mappend(grad_y)\n\u001b[0;32m    417\u001b[0m \u001b[39m# Build the gradient graph. Note that this builds the gradient computation of\u001b[39;00m\n\u001b[0;32m    418\u001b[0m \u001b[39m# func_graph in the current graph, which requires capturing tensors from\u001b[39;00m\n\u001b[0;32m    419\u001b[0m \u001b[39m# func_graph. The captured func_graph tensors are resolved to external tensors\u001b[39;00m\n\u001b[0;32m    420\u001b[0m \u001b[39m# in _resolve_grad_inputs.\u001b[39;00m\n\u001b[1;32m--> 421\u001b[0m result \u001b[39m=\u001b[39m gradients_util\u001b[39m.\u001b[39;49m_GradientsHelper(\n\u001b[0;32m    422\u001b[0m     ys, func_graph\u001b[39m.\u001b[39;49minputs, grad_ys\u001b[39m=\u001b[39;49mgrad_ys,\n\u001b[0;32m    423\u001b[0m     src_graph\u001b[39m=\u001b[39;49mfunc_graph)\n\u001b[0;32m    425\u001b[0m \u001b[39mreturn\u001b[39;00m result\n",
      "File \u001b[1;32m~\\AppData\\Roaming\\Python\\Python39\\site-packages\\tensorflow\\python\\ops\\gradients_util.py:695\u001b[0m, in \u001b[0;36m_GradientsHelper\u001b[1;34m(ys, xs, grad_ys, name, colocate_gradients_with_ops, gate_gradients, aggregation_method, stop_gradients, unconnected_gradients, src_graph)\u001b[0m\n\u001b[0;32m    690\u001b[0m \u001b[39mwith\u001b[39;00m src_graph\u001b[39m.\u001b[39m_original_op(op):\n\u001b[0;32m    691\u001b[0m   \u001b[39m# pylint: enable=protected-access\u001b[39;00m\n\u001b[0;32m    692\u001b[0m   \u001b[39mif\u001b[39;00m grad_fn:\n\u001b[0;32m    693\u001b[0m     \u001b[39m# If grad_fn was found, do not use SymbolicGradient even for\u001b[39;00m\n\u001b[0;32m    694\u001b[0m     \u001b[39m# functions.\u001b[39;00m\n\u001b[1;32m--> 695\u001b[0m     in_grads \u001b[39m=\u001b[39m _MaybeCompile(grad_scope, op, func_call,\n\u001b[0;32m    696\u001b[0m                              \u001b[39mlambda\u001b[39;49;00m: grad_fn(op, \u001b[39m*\u001b[39;49mout_grads))\n\u001b[0;32m    697\u001b[0m   \u001b[39melse\u001b[39;00m:\n\u001b[0;32m    698\u001b[0m     \u001b[39m# For function call ops, we add a 'SymbolicGradient'\u001b[39;00m\n\u001b[0;32m    699\u001b[0m     \u001b[39m# node to the graph to compute gradients.\u001b[39;00m\n\u001b[0;32m    700\u001b[0m     in_grads \u001b[39m=\u001b[39m _MaybeCompile(grad_scope, op, func_call,\n\u001b[0;32m    701\u001b[0m                              \u001b[39mlambda\u001b[39;00m: _SymGrad(op, out_grads))\n",
      "File \u001b[1;32m~\\AppData\\Roaming\\Python\\Python39\\site-packages\\tensorflow\\python\\ops\\gradients_util.py:328\u001b[0m, in \u001b[0;36m_MaybeCompile\u001b[1;34m(scope, op, func, grad_fn)\u001b[0m\n\u001b[0;32m    325\u001b[0m     xla_compile \u001b[39m=\u001b[39m \u001b[39mFalse\u001b[39;00m\n\u001b[0;32m    327\u001b[0m \u001b[39mif\u001b[39;00m \u001b[39mnot\u001b[39;00m xla_compile:\n\u001b[1;32m--> 328\u001b[0m   \u001b[39mreturn\u001b[39;00m grad_fn()  \u001b[39m# Exit early\u001b[39;00m\n\u001b[0;32m    330\u001b[0m \u001b[39m# If the gradients are supposed to be compiled separately, we give them a\u001b[39;00m\n\u001b[0;32m    331\u001b[0m \u001b[39m# _XlaScope name that is based on the name_scope of the gradients.  Otherwise\u001b[39;00m\n\u001b[0;32m    332\u001b[0m \u001b[39m# they just inherit the existing _XlaScope name, which lets them be merged\u001b[39;00m\n\u001b[0;32m    333\u001b[0m \u001b[39m# together with the non-gradient computation.\u001b[39;00m\n\u001b[0;32m    334\u001b[0m \u001b[39mif\u001b[39;00m xla_separate_compiled_gradients:\n",
      "File \u001b[1;32m~\\AppData\\Roaming\\Python\\Python39\\site-packages\\tensorflow\\python\\ops\\gradients_util.py:696\u001b[0m, in \u001b[0;36m_GradientsHelper.<locals>.<lambda>\u001b[1;34m()\u001b[0m\n\u001b[0;32m    690\u001b[0m \u001b[39mwith\u001b[39;00m src_graph\u001b[39m.\u001b[39m_original_op(op):\n\u001b[0;32m    691\u001b[0m   \u001b[39m# pylint: enable=protected-access\u001b[39;00m\n\u001b[0;32m    692\u001b[0m   \u001b[39mif\u001b[39;00m grad_fn:\n\u001b[0;32m    693\u001b[0m     \u001b[39m# If grad_fn was found, do not use SymbolicGradient even for\u001b[39;00m\n\u001b[0;32m    694\u001b[0m     \u001b[39m# functions.\u001b[39;00m\n\u001b[0;32m    695\u001b[0m     in_grads \u001b[39m=\u001b[39m _MaybeCompile(grad_scope, op, func_call,\n\u001b[1;32m--> 696\u001b[0m                              \u001b[39mlambda\u001b[39;00m: grad_fn(op, \u001b[39m*\u001b[39;49mout_grads))\n\u001b[0;32m    697\u001b[0m   \u001b[39melse\u001b[39;00m:\n\u001b[0;32m    698\u001b[0m     \u001b[39m# For function call ops, we add a 'SymbolicGradient'\u001b[39;00m\n\u001b[0;32m    699\u001b[0m     \u001b[39m# node to the graph to compute gradients.\u001b[39;00m\n\u001b[0;32m    700\u001b[0m     in_grads \u001b[39m=\u001b[39m _MaybeCompile(grad_scope, op, func_call,\n\u001b[0;32m    701\u001b[0m                              \u001b[39mlambda\u001b[39;00m: _SymGrad(op, out_grads))\n",
      "File \u001b[1;32m~\\AppData\\Roaming\\Python\\Python39\\site-packages\\tensorflow\\python\\ops\\cond_v2.py:121\u001b[0m, in \u001b[0;36m_IfGrad\u001b[1;34m(op, *grads)\u001b[0m\n\u001b[0;32m    116\u001b[0m \u001b[39massert\u001b[39;00m false_graph\u001b[39m.\u001b[39mouter_graph \u001b[39m==\u001b[39m if_op\u001b[39m.\u001b[39mgraph\n\u001b[0;32m    118\u001b[0m \u001b[39m# Create grad functions that compute the gradient of the true/false forward\u001b[39;00m\n\u001b[0;32m    119\u001b[0m \u001b[39m# graphs. These functions will capture tensors from the forward pass\u001b[39;00m\n\u001b[0;32m    120\u001b[0m \u001b[39m# functions.\u001b[39;00m\n\u001b[1;32m--> 121\u001b[0m true_grad_graph \u001b[39m=\u001b[39m _create_grad_func(\n\u001b[0;32m    122\u001b[0m     true_graph, grads, util\u001b[39m.\u001b[39;49munique_grad_fn_name(true_graph\u001b[39m.\u001b[39;49mname))\n\u001b[0;32m    123\u001b[0m false_grad_graph \u001b[39m=\u001b[39m _create_grad_func(\n\u001b[0;32m    124\u001b[0m     false_graph, grads, util\u001b[39m.\u001b[39munique_grad_fn_name(false_graph\u001b[39m.\u001b[39mname))\n\u001b[0;32m    126\u001b[0m \u001b[39m# Replaces output None grads with zeros if at least one branch has non-None\u001b[39;00m\n\u001b[0;32m    127\u001b[0m \u001b[39m# grad at that index.\u001b[39;00m\n",
      "File \u001b[1;32m~\\AppData\\Roaming\\Python\\Python39\\site-packages\\tensorflow\\python\\ops\\cond_v2.py:430\u001b[0m, in \u001b[0;36m_create_grad_func\u001b[1;34m(func_graph, grads, name)\u001b[0m\n\u001b[0;32m    428\u001b[0m \u001b[39mdef\u001b[39;00m \u001b[39m_create_grad_func\u001b[39m(func_graph, grads, name):\n\u001b[0;32m    429\u001b[0m   \u001b[39m\"\"\"Returns the FuncGraph representation of _grad_fn.\"\"\"\u001b[39;00m\n\u001b[1;32m--> 430\u001b[0m   \u001b[39mreturn\u001b[39;00m func_graph_module\u001b[39m.\u001b[39;49mfunc_graph_from_py_func(\n\u001b[0;32m    431\u001b[0m       name,\n\u001b[0;32m    432\u001b[0m       \u001b[39mlambda\u001b[39;49;00m: _grad_fn(func_graph, grads), [], {},\n\u001b[0;32m    433\u001b[0m       func_graph\u001b[39m=\u001b[39;49m_CondGradFuncGraph(name, func_graph))\n",
      "File \u001b[1;32m~\\AppData\\Roaming\\Python\\Python39\\site-packages\\tensorflow\\python\\framework\\func_graph.py:1141\u001b[0m, in \u001b[0;36mfunc_graph_from_py_func\u001b[1;34m(name, python_func, args, kwargs, signature, func_graph, autograph, autograph_options, add_control_dependencies, arg_names, op_return_value, collections, capture_by_value, acd_record_initial_resource_uses)\u001b[0m\n\u001b[0;32m   1138\u001b[0m \u001b[39melse\u001b[39;00m:\n\u001b[0;32m   1139\u001b[0m   _, original_func \u001b[39m=\u001b[39m tf_decorator\u001b[39m.\u001b[39munwrap(python_func)\n\u001b[1;32m-> 1141\u001b[0m func_outputs \u001b[39m=\u001b[39m python_func(\u001b[39m*\u001b[39mfunc_args, \u001b[39m*\u001b[39m\u001b[39m*\u001b[39mfunc_kwargs)\n\u001b[0;32m   1143\u001b[0m \u001b[39m# invariant: `func_outputs` contains only Tensors, CompositeTensors,\u001b[39;00m\n\u001b[0;32m   1144\u001b[0m \u001b[39m# TensorArrays and `None`s.\u001b[39;00m\n\u001b[0;32m   1145\u001b[0m func_outputs \u001b[39m=\u001b[39m nest\u001b[39m.\u001b[39mmap_structure(\n\u001b[0;32m   1146\u001b[0m     convert, func_outputs, expand_composites\u001b[39m=\u001b[39m\u001b[39mTrue\u001b[39;00m)\n",
      "File \u001b[1;32m~\\AppData\\Roaming\\Python\\Python39\\site-packages\\tensorflow\\python\\ops\\cond_v2.py:432\u001b[0m, in \u001b[0;36m_create_grad_func.<locals>.<lambda>\u001b[1;34m()\u001b[0m\n\u001b[0;32m    428\u001b[0m \u001b[39mdef\u001b[39;00m \u001b[39m_create_grad_func\u001b[39m(func_graph, grads, name):\n\u001b[0;32m    429\u001b[0m   \u001b[39m\"\"\"Returns the FuncGraph representation of _grad_fn.\"\"\"\u001b[39;00m\n\u001b[0;32m    430\u001b[0m   \u001b[39mreturn\u001b[39;00m func_graph_module\u001b[39m.\u001b[39mfunc_graph_from_py_func(\n\u001b[0;32m    431\u001b[0m       name,\n\u001b[1;32m--> 432\u001b[0m       \u001b[39mlambda\u001b[39;00m: _grad_fn(func_graph, grads), [], {},\n\u001b[0;32m    433\u001b[0m       func_graph\u001b[39m=\u001b[39m_CondGradFuncGraph(name, func_graph))\n",
      "File \u001b[1;32m~\\AppData\\Roaming\\Python\\Python39\\site-packages\\tensorflow\\python\\ops\\cond_v2.py:421\u001b[0m, in \u001b[0;36m_grad_fn\u001b[1;34m(func_graph, grads)\u001b[0m\n\u001b[0;32m    415\u001b[0m   grad_ys\u001b[39m.\u001b[39mappend(grad_y)\n\u001b[0;32m    417\u001b[0m \u001b[39m# Build the gradient graph. Note that this builds the gradient computation of\u001b[39;00m\n\u001b[0;32m    418\u001b[0m \u001b[39m# func_graph in the current graph, which requires capturing tensors from\u001b[39;00m\n\u001b[0;32m    419\u001b[0m \u001b[39m# func_graph. The captured func_graph tensors are resolved to external tensors\u001b[39;00m\n\u001b[0;32m    420\u001b[0m \u001b[39m# in _resolve_grad_inputs.\u001b[39;00m\n\u001b[1;32m--> 421\u001b[0m result \u001b[39m=\u001b[39m gradients_util\u001b[39m.\u001b[39;49m_GradientsHelper(\n\u001b[0;32m    422\u001b[0m     ys, func_graph\u001b[39m.\u001b[39;49minputs, grad_ys\u001b[39m=\u001b[39;49mgrad_ys,\n\u001b[0;32m    423\u001b[0m     src_graph\u001b[39m=\u001b[39;49mfunc_graph)\n\u001b[0;32m    425\u001b[0m \u001b[39mreturn\u001b[39;00m result\n",
      "File \u001b[1;32m~\\AppData\\Roaming\\Python\\Python39\\site-packages\\tensorflow\\python\\ops\\gradients_util.py:695\u001b[0m, in \u001b[0;36m_GradientsHelper\u001b[1;34m(ys, xs, grad_ys, name, colocate_gradients_with_ops, gate_gradients, aggregation_method, stop_gradients, unconnected_gradients, src_graph)\u001b[0m\n\u001b[0;32m    690\u001b[0m \u001b[39mwith\u001b[39;00m src_graph\u001b[39m.\u001b[39m_original_op(op):\n\u001b[0;32m    691\u001b[0m   \u001b[39m# pylint: enable=protected-access\u001b[39;00m\n\u001b[0;32m    692\u001b[0m   \u001b[39mif\u001b[39;00m grad_fn:\n\u001b[0;32m    693\u001b[0m     \u001b[39m# If grad_fn was found, do not use SymbolicGradient even for\u001b[39;00m\n\u001b[0;32m    694\u001b[0m     \u001b[39m# functions.\u001b[39;00m\n\u001b[1;32m--> 695\u001b[0m     in_grads \u001b[39m=\u001b[39m _MaybeCompile(grad_scope, op, func_call,\n\u001b[0;32m    696\u001b[0m                              \u001b[39mlambda\u001b[39;49;00m: grad_fn(op, \u001b[39m*\u001b[39;49mout_grads))\n\u001b[0;32m    697\u001b[0m   \u001b[39melse\u001b[39;00m:\n\u001b[0;32m    698\u001b[0m     \u001b[39m# For function call ops, we add a 'SymbolicGradient'\u001b[39;00m\n\u001b[0;32m    699\u001b[0m     \u001b[39m# node to the graph to compute gradients.\u001b[39;00m\n\u001b[0;32m    700\u001b[0m     in_grads \u001b[39m=\u001b[39m _MaybeCompile(grad_scope, op, func_call,\n\u001b[0;32m    701\u001b[0m                              \u001b[39mlambda\u001b[39;00m: _SymGrad(op, out_grads))\n",
      "File \u001b[1;32m~\\AppData\\Roaming\\Python\\Python39\\site-packages\\tensorflow\\python\\ops\\gradients_util.py:328\u001b[0m, in \u001b[0;36m_MaybeCompile\u001b[1;34m(scope, op, func, grad_fn)\u001b[0m\n\u001b[0;32m    325\u001b[0m     xla_compile \u001b[39m=\u001b[39m \u001b[39mFalse\u001b[39;00m\n\u001b[0;32m    327\u001b[0m \u001b[39mif\u001b[39;00m \u001b[39mnot\u001b[39;00m xla_compile:\n\u001b[1;32m--> 328\u001b[0m   \u001b[39mreturn\u001b[39;00m grad_fn()  \u001b[39m# Exit early\u001b[39;00m\n\u001b[0;32m    330\u001b[0m \u001b[39m# If the gradients are supposed to be compiled separately, we give them a\u001b[39;00m\n\u001b[0;32m    331\u001b[0m \u001b[39m# _XlaScope name that is based on the name_scope of the gradients.  Otherwise\u001b[39;00m\n\u001b[0;32m    332\u001b[0m \u001b[39m# they just inherit the existing _XlaScope name, which lets them be merged\u001b[39;00m\n\u001b[0;32m    333\u001b[0m \u001b[39m# together with the non-gradient computation.\u001b[39;00m\n\u001b[0;32m    334\u001b[0m \u001b[39mif\u001b[39;00m xla_separate_compiled_gradients:\n",
      "File \u001b[1;32m~\\AppData\\Roaming\\Python\\Python39\\site-packages\\tensorflow\\python\\ops\\gradients_util.py:696\u001b[0m, in \u001b[0;36m_GradientsHelper.<locals>.<lambda>\u001b[1;34m()\u001b[0m\n\u001b[0;32m    690\u001b[0m \u001b[39mwith\u001b[39;00m src_graph\u001b[39m.\u001b[39m_original_op(op):\n\u001b[0;32m    691\u001b[0m   \u001b[39m# pylint: enable=protected-access\u001b[39;00m\n\u001b[0;32m    692\u001b[0m   \u001b[39mif\u001b[39;00m grad_fn:\n\u001b[0;32m    693\u001b[0m     \u001b[39m# If grad_fn was found, do not use SymbolicGradient even for\u001b[39;00m\n\u001b[0;32m    694\u001b[0m     \u001b[39m# functions.\u001b[39;00m\n\u001b[0;32m    695\u001b[0m     in_grads \u001b[39m=\u001b[39m _MaybeCompile(grad_scope, op, func_call,\n\u001b[1;32m--> 696\u001b[0m                              \u001b[39mlambda\u001b[39;00m: grad_fn(op, \u001b[39m*\u001b[39;49mout_grads))\n\u001b[0;32m    697\u001b[0m   \u001b[39melse\u001b[39;00m:\n\u001b[0;32m    698\u001b[0m     \u001b[39m# For function call ops, we add a 'SymbolicGradient'\u001b[39;00m\n\u001b[0;32m    699\u001b[0m     \u001b[39m# node to the graph to compute gradients.\u001b[39;00m\n\u001b[0;32m    700\u001b[0m     in_grads \u001b[39m=\u001b[39m _MaybeCompile(grad_scope, op, func_call,\n\u001b[0;32m    701\u001b[0m                              \u001b[39mlambda\u001b[39;00m: _SymGrad(op, out_grads))\n",
      "File \u001b[1;32m~\\AppData\\Roaming\\Python\\Python39\\site-packages\\tensorflow\\python\\ops\\cond_v2.py:121\u001b[0m, in \u001b[0;36m_IfGrad\u001b[1;34m(op, *grads)\u001b[0m\n\u001b[0;32m    116\u001b[0m \u001b[39massert\u001b[39;00m false_graph\u001b[39m.\u001b[39mouter_graph \u001b[39m==\u001b[39m if_op\u001b[39m.\u001b[39mgraph\n\u001b[0;32m    118\u001b[0m \u001b[39m# Create grad functions that compute the gradient of the true/false forward\u001b[39;00m\n\u001b[0;32m    119\u001b[0m \u001b[39m# graphs. These functions will capture tensors from the forward pass\u001b[39;00m\n\u001b[0;32m    120\u001b[0m \u001b[39m# functions.\u001b[39;00m\n\u001b[1;32m--> 121\u001b[0m true_grad_graph \u001b[39m=\u001b[39m _create_grad_func(\n\u001b[0;32m    122\u001b[0m     true_graph, grads, util\u001b[39m.\u001b[39;49munique_grad_fn_name(true_graph\u001b[39m.\u001b[39;49mname))\n\u001b[0;32m    123\u001b[0m false_grad_graph \u001b[39m=\u001b[39m _create_grad_func(\n\u001b[0;32m    124\u001b[0m     false_graph, grads, util\u001b[39m.\u001b[39munique_grad_fn_name(false_graph\u001b[39m.\u001b[39mname))\n\u001b[0;32m    126\u001b[0m \u001b[39m# Replaces output None grads with zeros if at least one branch has non-None\u001b[39;00m\n\u001b[0;32m    127\u001b[0m \u001b[39m# grad at that index.\u001b[39;00m\n",
      "File \u001b[1;32m~\\AppData\\Roaming\\Python\\Python39\\site-packages\\tensorflow\\python\\ops\\cond_v2.py:430\u001b[0m, in \u001b[0;36m_create_grad_func\u001b[1;34m(func_graph, grads, name)\u001b[0m\n\u001b[0;32m    428\u001b[0m \u001b[39mdef\u001b[39;00m \u001b[39m_create_grad_func\u001b[39m(func_graph, grads, name):\n\u001b[0;32m    429\u001b[0m   \u001b[39m\"\"\"Returns the FuncGraph representation of _grad_fn.\"\"\"\u001b[39;00m\n\u001b[1;32m--> 430\u001b[0m   \u001b[39mreturn\u001b[39;00m func_graph_module\u001b[39m.\u001b[39;49mfunc_graph_from_py_func(\n\u001b[0;32m    431\u001b[0m       name,\n\u001b[0;32m    432\u001b[0m       \u001b[39mlambda\u001b[39;49;00m: _grad_fn(func_graph, grads), [], {},\n\u001b[0;32m    433\u001b[0m       func_graph\u001b[39m=\u001b[39;49m_CondGradFuncGraph(name, func_graph))\n",
      "File \u001b[1;32m~\\AppData\\Roaming\\Python\\Python39\\site-packages\\tensorflow\\python\\framework\\func_graph.py:1145\u001b[0m, in \u001b[0;36mfunc_graph_from_py_func\u001b[1;34m(name, python_func, args, kwargs, signature, func_graph, autograph, autograph_options, add_control_dependencies, arg_names, op_return_value, collections, capture_by_value, acd_record_initial_resource_uses)\u001b[0m\n\u001b[0;32m   1141\u001b[0m   func_outputs \u001b[39m=\u001b[39m python_func(\u001b[39m*\u001b[39mfunc_args, \u001b[39m*\u001b[39m\u001b[39m*\u001b[39mfunc_kwargs)\n\u001b[0;32m   1143\u001b[0m   \u001b[39m# invariant: `func_outputs` contains only Tensors, CompositeTensors,\u001b[39;00m\n\u001b[0;32m   1144\u001b[0m   \u001b[39m# TensorArrays and `None`s.\u001b[39;00m\n\u001b[1;32m-> 1145\u001b[0m   func_outputs \u001b[39m=\u001b[39m nest\u001b[39m.\u001b[39;49mmap_structure(\n\u001b[0;32m   1146\u001b[0m       convert, func_outputs, expand_composites\u001b[39m=\u001b[39;49m\u001b[39mTrue\u001b[39;49;00m)\n\u001b[0;32m   1148\u001b[0m   check_func_mutation(func_args_before, func_kwargs_before, func_args,\n\u001b[0;32m   1149\u001b[0m                       func_kwargs, original_func)\n\u001b[0;32m   1150\u001b[0m \u001b[39mfinally\u001b[39;00m:\n",
      "File \u001b[1;32m~\\AppData\\Roaming\\Python\\Python39\\site-packages\\tensorflow\\python\\util\\nest.py:916\u001b[0m, in \u001b[0;36mmap_structure\u001b[1;34m(func, *structure, **kwargs)\u001b[0m\n\u001b[0;32m    912\u001b[0m flat_structure \u001b[39m=\u001b[39m (flatten(s, expand_composites) \u001b[39mfor\u001b[39;00m s \u001b[39min\u001b[39;00m structure)\n\u001b[0;32m    913\u001b[0m entries \u001b[39m=\u001b[39m \u001b[39mzip\u001b[39m(\u001b[39m*\u001b[39mflat_structure)\n\u001b[0;32m    915\u001b[0m \u001b[39mreturn\u001b[39;00m pack_sequence_as(\n\u001b[1;32m--> 916\u001b[0m     structure[\u001b[39m0\u001b[39m], [func(\u001b[39m*\u001b[39mx) \u001b[39mfor\u001b[39;00m x \u001b[39min\u001b[39;00m entries],\n\u001b[0;32m    917\u001b[0m     expand_composites\u001b[39m=\u001b[39mexpand_composites)\n",
      "File \u001b[1;32m~\\AppData\\Roaming\\Python\\Python39\\site-packages\\tensorflow\\python\\util\\nest.py:916\u001b[0m, in \u001b[0;36m<listcomp>\u001b[1;34m(.0)\u001b[0m\n\u001b[0;32m    912\u001b[0m flat_structure \u001b[39m=\u001b[39m (flatten(s, expand_composites) \u001b[39mfor\u001b[39;00m s \u001b[39min\u001b[39;00m structure)\n\u001b[0;32m    913\u001b[0m entries \u001b[39m=\u001b[39m \u001b[39mzip\u001b[39m(\u001b[39m*\u001b[39mflat_structure)\n\u001b[0;32m    915\u001b[0m \u001b[39mreturn\u001b[39;00m pack_sequence_as(\n\u001b[1;32m--> 916\u001b[0m     structure[\u001b[39m0\u001b[39m], [func(\u001b[39m*\u001b[39;49mx) \u001b[39mfor\u001b[39;00m x \u001b[39min\u001b[39;00m entries],\n\u001b[0;32m    917\u001b[0m     expand_composites\u001b[39m=\u001b[39mexpand_composites)\n",
      "File \u001b[1;32m~\\AppData\\Roaming\\Python\\Python39\\site-packages\\tensorflow\\python\\framework\\func_graph.py:1104\u001b[0m, in \u001b[0;36mfunc_graph_from_py_func.<locals>.convert\u001b[1;34m(x)\u001b[0m\n\u001b[0;32m   1097\u001b[0m     \u001b[39mraise\u001b[39;00m \u001b[39mTypeError\u001b[39;00m(\n\u001b[0;32m   1098\u001b[0m         \u001b[39m\"\u001b[39m\u001b[39mTo be compatible with tf.function, Python functions \u001b[39m\u001b[39m\"\u001b[39m\n\u001b[0;32m   1099\u001b[0m         \u001b[39m\"\u001b[39m\u001b[39mmust return zero or more Tensors or ExtensionTypes or None \u001b[39m\u001b[39m\"\u001b[39m\n\u001b[0;32m   1100\u001b[0m         \u001b[39mf\u001b[39m\u001b[39m\"\u001b[39m\u001b[39mvalues; in compilation of \u001b[39m\u001b[39m{\u001b[39;00m\u001b[39mstr\u001b[39m(python_func)\u001b[39m}\u001b[39;00m\u001b[39m, found return \u001b[39m\u001b[39m\"\u001b[39m\n\u001b[0;32m   1101\u001b[0m         \u001b[39mf\u001b[39m\u001b[39m\"\u001b[39m\u001b[39mvalue of type \u001b[39m\u001b[39m{\u001b[39;00m\u001b[39mtype\u001b[39m(x)\u001b[39m.\u001b[39m\u001b[39m__name__\u001b[39m\u001b[39m}\u001b[39;00m\u001b[39m, which is not a Tensor or \u001b[39m\u001b[39m\"\u001b[39m\n\u001b[0;32m   1102\u001b[0m         \u001b[39m\"\u001b[39m\u001b[39mExtensionType.\u001b[39m\u001b[39m\"\u001b[39m)\n\u001b[0;32m   1103\u001b[0m \u001b[39mif\u001b[39;00m add_control_dependencies:\n\u001b[1;32m-> 1104\u001b[0m   x \u001b[39m=\u001b[39m deps_ctx\u001b[39m.\u001b[39;49mmark_as_return(x)\n\u001b[0;32m   1105\u001b[0m \u001b[39mreturn\u001b[39;00m x\n",
      "File \u001b[1;32m~\\AppData\\Roaming\\Python\\Python39\\site-packages\\tensorflow\\python\\framework\\auto_control_deps.py:249\u001b[0m, in \u001b[0;36mAutomaticControlDependencies.mark_as_return\u001b[1;34m(self, tensor)\u001b[0m\n\u001b[0;32m    244\u001b[0m   \u001b[39mreturn\u001b[39;00m tensor_array_ops\u001b[39m.\u001b[39mbuild_ta_with_new_flow(tensor, flow)\n\u001b[0;32m    245\u001b[0m \u001b[39m# We want to make the return values depend on the stateful operations, but\u001b[39;00m\n\u001b[0;32m    246\u001b[0m \u001b[39m# we don't want to introduce a cycle, so we make the return value the result\u001b[39;00m\n\u001b[0;32m    247\u001b[0m \u001b[39m# of a new identity operation that the stateful operations definitely don't\u001b[39;00m\n\u001b[0;32m    248\u001b[0m \u001b[39m# depend on.\u001b[39;00m\n\u001b[1;32m--> 249\u001b[0m tensor \u001b[39m=\u001b[39m array_ops\u001b[39m.\u001b[39;49midentity(tensor)\n\u001b[0;32m    250\u001b[0m \u001b[39mself\u001b[39m\u001b[39m.\u001b[39m_returned_tensors\u001b[39m.\u001b[39madd(tensor)\n\u001b[0;32m    251\u001b[0m \u001b[39mreturn\u001b[39;00m tensor\n",
      "File \u001b[1;32m~\\AppData\\Roaming\\Python\\Python39\\site-packages\\tensorflow\\python\\util\\traceback_utils.py:150\u001b[0m, in \u001b[0;36mfilter_traceback.<locals>.error_handler\u001b[1;34m(*args, **kwargs)\u001b[0m\n\u001b[0;32m    148\u001b[0m filtered_tb \u001b[39m=\u001b[39m \u001b[39mNone\u001b[39;00m\n\u001b[0;32m    149\u001b[0m \u001b[39mtry\u001b[39;00m:\n\u001b[1;32m--> 150\u001b[0m   \u001b[39mreturn\u001b[39;00m fn(\u001b[39m*\u001b[39margs, \u001b[39m*\u001b[39m\u001b[39m*\u001b[39mkwargs)\n\u001b[0;32m    151\u001b[0m \u001b[39mexcept\u001b[39;00m \u001b[39mException\u001b[39;00m \u001b[39mas\u001b[39;00m e:\n\u001b[0;32m    152\u001b[0m   filtered_tb \u001b[39m=\u001b[39m _process_traceback_frames(e\u001b[39m.\u001b[39m__traceback__)\n",
      "File \u001b[1;32m~\\AppData\\Roaming\\Python\\Python39\\site-packages\\tensorflow\\python\\util\\dispatch.py:1082\u001b[0m, in \u001b[0;36madd_dispatch_support.<locals>.decorator.<locals>.op_dispatch_handler\u001b[1;34m(*args, **kwargs)\u001b[0m\n\u001b[0;32m   1080\u001b[0m \u001b[39m# Fallback dispatch system (dispatch v1):\u001b[39;00m\n\u001b[0;32m   1081\u001b[0m \u001b[39mtry\u001b[39;00m:\n\u001b[1;32m-> 1082\u001b[0m   \u001b[39mreturn\u001b[39;00m dispatch_target(\u001b[39m*\u001b[39margs, \u001b[39m*\u001b[39m\u001b[39m*\u001b[39mkwargs)\n\u001b[0;32m   1083\u001b[0m \u001b[39mexcept\u001b[39;00m (\u001b[39mTypeError\u001b[39;00m, \u001b[39mValueError\u001b[39;00m):\n\u001b[0;32m   1084\u001b[0m   \u001b[39m# Note: convert_to_eager_tensor currently raises a ValueError, not a\u001b[39;00m\n\u001b[0;32m   1085\u001b[0m   \u001b[39m# TypeError, when given unexpected types.  So we need to catch both.\u001b[39;00m\n\u001b[0;32m   1086\u001b[0m   result \u001b[39m=\u001b[39m dispatch(op_dispatch_handler, args, kwargs)\n",
      "File \u001b[1;32m~\\AppData\\Roaming\\Python\\Python39\\site-packages\\tensorflow\\python\\ops\\array_ops.py:295\u001b[0m, in \u001b[0;36midentity\u001b[1;34m(input, name)\u001b[0m\n\u001b[0;32m    291\u001b[0m \u001b[39mif\u001b[39;00m context\u001b[39m.\u001b[39mexecuting_eagerly() \u001b[39mand\u001b[39;00m \u001b[39mnot\u001b[39;00m \u001b[39mhasattr\u001b[39m(\u001b[39minput\u001b[39m, \u001b[39m\"\u001b[39m\u001b[39mgraph\u001b[39m\u001b[39m\"\u001b[39m):\n\u001b[0;32m    292\u001b[0m   \u001b[39m# Make sure we get an input with handle data attached from resource\u001b[39;00m\n\u001b[0;32m    293\u001b[0m   \u001b[39m# variables. Variables have correct handle data when graph building.\u001b[39;00m\n\u001b[0;32m    294\u001b[0m   \u001b[39minput\u001b[39m \u001b[39m=\u001b[39m ops\u001b[39m.\u001b[39mconvert_to_tensor(\u001b[39minput\u001b[39m)\n\u001b[1;32m--> 295\u001b[0m ret \u001b[39m=\u001b[39m gen_array_ops\u001b[39m.\u001b[39;49midentity(\u001b[39minput\u001b[39;49m, name\u001b[39m=\u001b[39;49mname)\n\u001b[0;32m    296\u001b[0m \u001b[39m# Propagate handle data for happier shape inference for resource variables.\u001b[39;00m\n\u001b[0;32m    297\u001b[0m \u001b[39mif\u001b[39;00m \u001b[39mhasattr\u001b[39m(\u001b[39minput\u001b[39m, \u001b[39m\"\u001b[39m\u001b[39m_handle_data\u001b[39m\u001b[39m\"\u001b[39m):\n",
      "File \u001b[1;32m~\\AppData\\Roaming\\Python\\Python39\\site-packages\\tensorflow\\python\\ops\\gen_array_ops.py:4076\u001b[0m, in \u001b[0;36midentity\u001b[1;34m(input, name)\u001b[0m\n\u001b[0;32m   4074\u001b[0m     \u001b[39mpass\u001b[39;00m  \u001b[39m# Add nodes to the TensorFlow graph.\u001b[39;00m\n\u001b[0;32m   4075\u001b[0m \u001b[39m# Add nodes to the TensorFlow graph.\u001b[39;00m\n\u001b[1;32m-> 4076\u001b[0m _, _, _op, _outputs \u001b[39m=\u001b[39m _op_def_library\u001b[39m.\u001b[39;49m_apply_op_helper(\n\u001b[0;32m   4077\u001b[0m       \u001b[39m\"\u001b[39;49m\u001b[39mIdentity\u001b[39;49m\u001b[39m\"\u001b[39;49m, \u001b[39minput\u001b[39;49m\u001b[39m=\u001b[39;49m\u001b[39minput\u001b[39;49m, name\u001b[39m=\u001b[39;49mname)\n\u001b[0;32m   4078\u001b[0m _result \u001b[39m=\u001b[39m _outputs[:]\n\u001b[0;32m   4079\u001b[0m \u001b[39mif\u001b[39;00m _execute\u001b[39m.\u001b[39mmust_record_gradient():\n",
      "File \u001b[1;32m~\\AppData\\Roaming\\Python\\Python39\\site-packages\\tensorflow\\python\\framework\\op_def_library.py:797\u001b[0m, in \u001b[0;36m_apply_op_helper\u001b[1;34m(op_type_name, name, **keywords)\u001b[0m\n\u001b[0;32m    792\u001b[0m must_colocate_inputs \u001b[39m=\u001b[39m [val \u001b[39mfor\u001b[39;00m arg, val \u001b[39min\u001b[39;00m \u001b[39mzip\u001b[39m(op_def\u001b[39m.\u001b[39minput_arg, inputs)\n\u001b[0;32m    793\u001b[0m                         \u001b[39mif\u001b[39;00m arg\u001b[39m.\u001b[39mis_ref]\n\u001b[0;32m    794\u001b[0m \u001b[39mwith\u001b[39;00m _MaybeColocateWith(must_colocate_inputs):\n\u001b[0;32m    795\u001b[0m   \u001b[39m# Add Op to graph\u001b[39;00m\n\u001b[0;32m    796\u001b[0m   \u001b[39m# pylint: disable=protected-access\u001b[39;00m\n\u001b[1;32m--> 797\u001b[0m   op \u001b[39m=\u001b[39m g\u001b[39m.\u001b[39;49m_create_op_internal(op_type_name, inputs, dtypes\u001b[39m=\u001b[39;49m\u001b[39mNone\u001b[39;49;00m,\n\u001b[0;32m    798\u001b[0m                              name\u001b[39m=\u001b[39;49mscope, input_types\u001b[39m=\u001b[39;49minput_types,\n\u001b[0;32m    799\u001b[0m                              attrs\u001b[39m=\u001b[39;49mattr_protos, op_def\u001b[39m=\u001b[39;49mop_def)\n\u001b[0;32m    801\u001b[0m \u001b[39m# `outputs` is returned as a separate return value so that the output\u001b[39;00m\n\u001b[0;32m    802\u001b[0m \u001b[39m# tensors can the `op` per se can be decoupled so that the\u001b[39;00m\n\u001b[0;32m    803\u001b[0m \u001b[39m# `op_callbacks` can function properly. See framework/op_callbacks.py\u001b[39;00m\n\u001b[0;32m    804\u001b[0m \u001b[39m# for more details.\u001b[39;00m\n\u001b[0;32m    805\u001b[0m outputs \u001b[39m=\u001b[39m op\u001b[39m.\u001b[39moutputs\n",
      "File \u001b[1;32m~\\AppData\\Roaming\\Python\\Python39\\site-packages\\tensorflow\\python\\framework\\func_graph.py:694\u001b[0m, in \u001b[0;36mFuncGraph._create_op_internal\u001b[1;34m(self, op_type, inputs, dtypes, input_types, name, attrs, op_def, compute_device)\u001b[0m\n\u001b[0;32m    692\u001b[0m   inp \u001b[39m=\u001b[39m \u001b[39mself\u001b[39m\u001b[39m.\u001b[39mcapture(inp)\n\u001b[0;32m    693\u001b[0m   captured_inputs\u001b[39m.\u001b[39mappend(inp)\n\u001b[1;32m--> 694\u001b[0m \u001b[39mreturn\u001b[39;00m \u001b[39msuper\u001b[39;49m(FuncGraph, \u001b[39mself\u001b[39;49m)\u001b[39m.\u001b[39;49m_create_op_internal(  \u001b[39m# pylint: disable=protected-access\u001b[39;49;00m\n\u001b[0;32m    695\u001b[0m     op_type, captured_inputs, dtypes, input_types, name, attrs, op_def,\n\u001b[0;32m    696\u001b[0m     compute_device)\n",
      "File \u001b[1;32m~\\AppData\\Roaming\\Python\\Python39\\site-packages\\tensorflow\\python\\framework\\ops.py:3754\u001b[0m, in \u001b[0;36mGraph._create_op_internal\u001b[1;34m(self, op_type, inputs, dtypes, input_types, name, attrs, op_def, compute_device)\u001b[0m\n\u001b[0;32m   3751\u001b[0m \u001b[39m# _create_op_helper mutates the new Operation. `_mutation_lock` ensures a\u001b[39;00m\n\u001b[0;32m   3752\u001b[0m \u001b[39m# Session.run call cannot occur between creating and mutating the op.\u001b[39;00m\n\u001b[0;32m   3753\u001b[0m \u001b[39mwith\u001b[39;00m \u001b[39mself\u001b[39m\u001b[39m.\u001b[39m_mutation_lock():\n\u001b[1;32m-> 3754\u001b[0m   ret \u001b[39m=\u001b[39m Operation(\n\u001b[0;32m   3755\u001b[0m       node_def,\n\u001b[0;32m   3756\u001b[0m       \u001b[39mself\u001b[39;49m,\n\u001b[0;32m   3757\u001b[0m       inputs\u001b[39m=\u001b[39;49minputs,\n\u001b[0;32m   3758\u001b[0m       output_types\u001b[39m=\u001b[39;49mdtypes,\n\u001b[0;32m   3759\u001b[0m       control_inputs\u001b[39m=\u001b[39;49mcontrol_inputs,\n\u001b[0;32m   3760\u001b[0m       input_types\u001b[39m=\u001b[39;49minput_types,\n\u001b[0;32m   3761\u001b[0m       original_op\u001b[39m=\u001b[39;49m\u001b[39mself\u001b[39;49m\u001b[39m.\u001b[39;49m_default_original_op,\n\u001b[0;32m   3762\u001b[0m       op_def\u001b[39m=\u001b[39;49mop_def)\n\u001b[0;32m   3763\u001b[0m   \u001b[39mself\u001b[39m\u001b[39m.\u001b[39m_create_op_helper(ret, compute_device\u001b[39m=\u001b[39mcompute_device)\n\u001b[0;32m   3764\u001b[0m \u001b[39mreturn\u001b[39;00m ret\n",
      "File \u001b[1;32m~\\AppData\\Roaming\\Python\\Python39\\site-packages\\tensorflow\\python\\framework\\ops.py:2129\u001b[0m, in \u001b[0;36mOperation.__init__\u001b[1;34m(self, node_def, g, inputs, output_types, control_inputs, input_types, original_op, op_def)\u001b[0m\n\u001b[0;32m   2127\u001b[0m   \u001b[39mif\u001b[39;00m op_def \u001b[39mis\u001b[39;00m \u001b[39mNone\u001b[39;00m:\n\u001b[0;32m   2128\u001b[0m     op_def \u001b[39m=\u001b[39m \u001b[39mself\u001b[39m\u001b[39m.\u001b[39m_graph\u001b[39m.\u001b[39m_get_op_def(node_def\u001b[39m.\u001b[39mop)\n\u001b[1;32m-> 2129\u001b[0m   \u001b[39mself\u001b[39m\u001b[39m.\u001b[39m_c_op \u001b[39m=\u001b[39m _create_c_op(\u001b[39mself\u001b[39;49m\u001b[39m.\u001b[39;49m_graph, node_def, inputs,\n\u001b[0;32m   2130\u001b[0m                             control_input_ops, op_def)\n\u001b[0;32m   2131\u001b[0m   name \u001b[39m=\u001b[39m compat\u001b[39m.\u001b[39mas_str(node_def\u001b[39m.\u001b[39mname)\n\u001b[0;32m   2133\u001b[0m \u001b[39mself\u001b[39m\u001b[39m.\u001b[39m_traceback \u001b[39m=\u001b[39m tf_stack\u001b[39m.\u001b[39mextract_stack_for_node(\u001b[39mself\u001b[39m\u001b[39m.\u001b[39m_c_op)\n",
      "File \u001b[1;32m~\\AppData\\Roaming\\Python\\Python39\\site-packages\\tensorflow\\python\\util\\traceback_utils.py:150\u001b[0m, in \u001b[0;36mfilter_traceback.<locals>.error_handler\u001b[1;34m(*args, **kwargs)\u001b[0m\n\u001b[0;32m    148\u001b[0m filtered_tb \u001b[39m=\u001b[39m \u001b[39mNone\u001b[39;00m\n\u001b[0;32m    149\u001b[0m \u001b[39mtry\u001b[39;00m:\n\u001b[1;32m--> 150\u001b[0m   \u001b[39mreturn\u001b[39;00m fn(\u001b[39m*\u001b[39margs, \u001b[39m*\u001b[39m\u001b[39m*\u001b[39mkwargs)\n\u001b[0;32m    151\u001b[0m \u001b[39mexcept\u001b[39;00m \u001b[39mException\u001b[39;00m \u001b[39mas\u001b[39;00m e:\n\u001b[0;32m    152\u001b[0m   filtered_tb \u001b[39m=\u001b[39m _process_traceback_frames(e\u001b[39m.\u001b[39m__traceback__)\n",
      "File \u001b[1;32m~\\AppData\\Roaming\\Python\\Python39\\site-packages\\tensorflow\\python\\framework\\ops.py:1933\u001b[0m, in \u001b[0;36m_create_c_op\u001b[1;34m(graph, node_def, inputs, control_inputs, op_def)\u001b[0m\n\u001b[0;32m   1931\u001b[0m inputs \u001b[39m=\u001b[39m _reconstruct_sequence_inputs(op_def, inputs, node_def\u001b[39m.\u001b[39mattr)\n\u001b[0;32m   1932\u001b[0m \u001b[39m# pylint: disable=protected-access\u001b[39;00m\n\u001b[1;32m-> 1933\u001b[0m op_desc \u001b[39m=\u001b[39m pywrap_tf_session\u001b[39m.\u001b[39;49mTF_NewOperation(graph\u001b[39m.\u001b[39;49m_c_graph,\n\u001b[0;32m   1934\u001b[0m                                             compat\u001b[39m.\u001b[39;49mas_str(node_def\u001b[39m.\u001b[39;49mop),\n\u001b[0;32m   1935\u001b[0m                                             compat\u001b[39m.\u001b[39;49mas_str(node_def\u001b[39m.\u001b[39;49mname))\n\u001b[0;32m   1936\u001b[0m \u001b[39mif\u001b[39;00m node_def\u001b[39m.\u001b[39mdevice:\n\u001b[0;32m   1937\u001b[0m   pywrap_tf_session\u001b[39m.\u001b[39mTF_SetDevice(op_desc, compat\u001b[39m.\u001b[39mas_str(node_def\u001b[39m.\u001b[39mdevice))\n",
      "\u001b[1;31mKeyboardInterrupt\u001b[0m: "
     ]
    }
   ],
   "source": [
    "# #to test on entire DS: \n",
    "# N = 40\n",
    "# hidden = np.arange(2,24, 1) #range(1,32)\n",
    "# lossMatrix = []\n",
    "# for i in tqdm(range(N)):\n",
    "    \n",
    "#     losses = []\n",
    "#     for value in (hidden):\n",
    "#         dense = modelDense2(superParent, regulator_gene_matrix, NUM_TARGETS, NUM_TIME_STEPS, NUM_TARGETS, value)\n",
    "#         dense.compile(optimizer='adam', loss=ignore_noParent_MSE)\n",
    "#         dense.fit(allData, allData, epochs=40,  verbose=0)\n",
    "#         test_hat = dense(allData) #, verbose = 0)\n",
    "#         loss = ignore_noParent_MSE(allData, test_hat)\n",
    "#         losses.append(loss)\n",
    "#         tf.keras.backend.clear_session()\n",
    "#     lossMatrix.append(losses)\n",
    "    \n",
    "# lossMatrix = np.array(lossMatrix)\n",
    "# #run 100 times \n",
    "\n",
    "#To test on testset: \n",
    "N = 40\n",
    "hidden = np.arange(2,24, 1) #range(1,32)\n",
    "lossMatrix = []\n",
    "for i in tqdm(range(N)):\n",
    "    \n",
    "    losses = []\n",
    "    for value in (hidden):\n",
    "        dense = modelDense2(superParent, regulator_gene_matrix, NUM_TARGETS, NUM_TIME_STEPS, NUM_TARGETS, value)\n",
    "        dense.compile(optimizer='adam', loss=ignore_noParent_MSE)\n",
    "        dense.fit(beanIntensities, beanIntensities, epochs=40,  verbose=0)\n",
    "        test_hat = dense(validation) #, verbose = 0)\n",
    "        loss = ignore_noParent_MSE(validation, test_hat)\n",
    "        losses.append(loss)\n",
    "        tf.keras.backend.clear_session()\n",
    "    lossMatrix.append(losses)\n",
    "    \n",
    "lossMatrix = np.array(lossMatrix)"
   ]
  },
  {
   "cell_type": "code",
   "execution_count": null,
   "metadata": {},
   "outputs": [
    {
     "data": {
      "image/png": "[encoded data removed]",
      "text/plain": [
       "<Figure size 1080x360 with 1 Axes>"
      ]
     },
     "metadata": {
      "needs_background": "light"
     },
     "output_type": "display_data"
    }
   ],
   "source": [
    "avgMSE = np.average(lossMatrix, axis = 0)\n",
    "plt.plot(hidden, avgMSE);\n",
    "plt.xlabel(\"Latent Space Size\");\n",
    "plt.ylabel(\"MSE\");\n",
    "plt.title(\"MSE of the AutoEncoder with Respect to the Latent Space Size\");"
   ]
  },
  {
   "cell_type": "code",
   "execution_count": null,
   "metadata": {},
   "outputs": [],
   "source": [
    "lm = pd.DataFrame(lossMatrix)\n",
    "lm.to_csv(\"lossmatrix4lisa_soybean.csv\")"
   ]
  },
  {
   "cell_type": "code",
   "execution_count": null,
   "metadata": {},
   "outputs": [
    {
     "name": "stdout",
     "output_type": "stream",
     "text": [
      "(40, 23)\n"
     ]
    }
   ],
   "source": [
    "temp = pd.read_csv(\"lossmatrix4lisa.csv\").to_numpy()\n",
    "print(temp.shape)\n",
    "avgMSE = np.average(lossMatrix, axis=0)"
   ]
  },
  {
   "cell_type": "code",
   "execution_count": null,
   "metadata": {},
   "outputs": [
    {
     "data": {
      "text/plain": [
       "[<matplotlib.lines.Line2D at 0x298edeaed60>]"
      ]
     },
     "execution_count": 60,
     "metadata": {},
     "output_type": "execute_result"
    },
    {
     "data": {
      "image/png": "[encoded data removed]",
      "text/plain": [
       "<Figure size 1080x360 with 1 Axes>"
      ]
     },
     "metadata": {
      "needs_background": "light"
     },
     "output_type": "display_data"
    }
   ],
   "source": [
    "plt.plot(hidden, avgMSE)"
   ]
  },
  {
   "cell_type": "markdown",
   "metadata": {},
   "source": [
    "# Lazy Kernels"
   ]
  },
  {
   "cell_type": "code",
   "execution_count": 61,
   "metadata": {},
   "outputs": [],
   "source": [
    "def do_lazy_train(epochs=60, hidden = 32):\n",
    "    ep = epochs\n",
    "    hidden = [hidden,] #range(1,32)\n",
    "    lossMatrix = []\n",
    "    lazy_weights = []\n",
    "    dense = modelDense2(superParent, regulator_gene_matrix, NUM_TARGETS, NUM_TIME_STEPS, NUM_TARGETS, num_hidden_units=32)\n",
    "    dense.compile(optimizer='adam', loss=ignore_noParent_MSE)\n",
    "\n",
    "    #for i in tqdm(range(ep)):\n",
    "    for i in range(ep):\n",
    "        dense.fit(beanIntensities, beanIntensities, validation_data=(validation, validation), epochs=1,  verbose=0)\n",
    "        lazy_weights.append(dense.get_weights())\n",
    "        test = dense(validation) #, verbose = 0)\n",
    "        loss = ignore_noParent_MSE(validation, test)\n",
    "        lossMatrix.append(loss)\n",
    "        \n",
    "    lossMatrix = np.array(lossMatrix)\n",
    "    lazy_weights = np.array(lazy_weights)\n",
    "\n",
    "    return lossMatrix, lazy_weights"
   ]
  },
  {
   "cell_type": "code",
   "execution_count": 62,
   "metadata": {},
   "outputs": [],
   "source": [
    "#https://proceedings.mlr.press/v162/rachwan22a/rachwan22a.pdf Winning the Lottery Ticket Ahead of Time:\n",
    "def lazyKernelRegime(w, parent_idx=parent_idx):\n",
    "\n",
    "    firstLayer = []\n",
    "    for i in range(len(w)):\n",
    "        firstLayer.append(w[i][0][parent_idx])\n",
    "\n",
    "    fL = np.array(firstLayer)    \n",
    "    d0 = np.square(fL[1] - fL[0])\n",
    "    kernelChange = []\n",
    "    for i in range(1,len(fL)):\n",
    "        dt = np.square(fL[i] - fL[0])\n",
    "        dt_minus1 = np.square(fL[i-1] - fL[0])   \n",
    "        d = np.abs(dt - dt_minus1)/d0                        #eq 11 from the paper\n",
    "        kernelChange.append(d)\n",
    "    \n",
    "    kernelChange = np.moveaxis(kernelChange, 0, 2)\n",
    "    # plt.plot(kernelChange[0][0]);\n",
    "    # plt.title(\"$|\\Delta W|$ vs Epoch\")\n",
    "    # plt.xlabel(\"Epoch\")\n",
    "    # plt.ylabel(\"$|\\Delta W|$\")\n",
    "\n",
    "    return np.array(  kernelChange)"
   ]
  },
  {
   "cell_type": "code",
   "execution_count": 63,
   "metadata": {},
   "outputs": [],
   "source": [
    "def compute_distrib(change, t = .05, raw = False): #raw means return the unshaped indicies. \n",
    "    stop = []\n",
    "\n",
    "    for parent in range(len(change)):\n",
    "        for child in range(len(change[0])):\n",
    "            try:\n",
    "                stop.append(np.min(np.argwhere(change[parent][child] < t)))\n",
    "            except ValueError:\n",
    "                stop.append(len(change))\n",
    "                # print(parent, child)\n",
    "                # plt.plot(change[parent][child])\n",
    "                # assert(False)\n",
    "    # print(change.shape)\n",
    "    # assert(False)\n",
    "    \n",
    "    stop = np.array(stop).flatten()\n",
    "    # print(stop.shape)\n",
    "    var = np.std(stop)\n",
    "    # print(var)\n",
    "    # assert(False)\n",
    "    mean = np.average(stop)\n",
    "    top_parents = np.argwhere(stop > mean + 2*var) #get the parents which take more than 2 stds to stop training\n",
    "    top_parent_child = []\n",
    "    for tp in top_parents:\n",
    "        top_parent_child.append(np.unravel_index(tp, shape = (NUM_PARENTS, NUM_TARGETS)))\n",
    "\n",
    "    if raw == False:\n",
    "        plt.hist(stop)\n",
    "        plt.xlabel(\"Epoch where regulator-target-weight began changing by at most \"+ str(t));\n",
    "        plt.ylabel(\"Number of parent-child-weights\");\n",
    "        plt.title(\"Histogram of weight stops\");\n",
    "        print(\"average stop: \", mean);\n",
    "\n",
    "    if raw == True:\n",
    "        return np.array(top_parents)\n",
    "\n",
    "    return np.array(top_parent_child)"
   ]
  },
  {
   "cell_type": "code",
   "execution_count": 64,
   "metadata": {},
   "outputs": [],
   "source": [
    "def lazyKernels(N=100):\n",
    "\n",
    "    candidates = []\n",
    "    final_w = []\n",
    "    for i in tqdm(range(N)):\n",
    "        lm, lazy_weights = do_lazy_train(epochs=80)\n",
    "        change = lazyKernelRegime(lazy_weights)\n",
    "        top_pr = np.squeeze(compute_distrib(change, t = 0.05, raw=True))\n",
    "        candidates.append(top_pr)\n",
    "        final_w.append(lazy_weights[-1])\n",
    "    \n",
    "    final_w = np.array(final_w)\n",
    "    firstLayer = []\n",
    "    for i in range(len(final_w)):\n",
    "        firstLayer.append(np.abs(final_w[i][0][parent_idx]))\n",
    "    fw = np.array(firstLayer)\n",
    "    #print(fw.shape)\n",
    "    fw_avg = np.average(fw, axis = 0)\n",
    "    #print(fw_avg.shape)\n",
    "    \n",
    "    candidates = np.hstack(candidates)\n",
    "    candidates = candidates.reshape(candidates.size)\n",
    "    #print(candidates.shape)\n",
    "\n",
    "    plt.hist(candidates, bins=np.arange(0, NUM_PARENTS*NUM_TARGETS))\n",
    "    plt.title(\"Parent-Child Regulator Histogram\")\n",
    "    plt.xlabel(\"Parent-Child Weight\")\n",
    "    plt.ylabel(\"Num-Times parent-child relationship trained for top 5% of time\")\n",
    "    return candidates, fw_avg\n",
    "\n"
   ]
  },
  {
   "cell_type": "code",
   "execution_count": 65,
   "metadata": {},
   "outputs": [
    {
     "name": "stderr",
     "output_type": "stream",
     "text": [
      "100%|██████████| 100/100 [25:02<00:00, 15.02s/it]\n"
     ]
    },
    {
     "data": {
      "image/png": "[encoded data removed]",
      "text/plain": [
       "<Figure size 1080x360 with 1 Axes>"
      ]
     },
     "metadata": {
      "needs_background": "light"
     },
     "output_type": "display_data"
    }
   ],
   "source": [
    "can, mag = lazyKernels()"
   ]
  },
  {
   "cell_type": "code",
   "execution_count": 66,
   "metadata": {},
   "outputs": [
    {
     "data": {
      "text/plain": [
       "(3342,)"
      ]
     },
     "execution_count": 66,
     "metadata": {},
     "output_type": "execute_result"
    }
   ],
   "source": [
    "can.shape"
   ]
  },
  {
   "cell_type": "code",
   "execution_count": 67,
   "metadata": {},
   "outputs": [
    {
     "data": {
      "text/plain": [
       "array([1, 1, 0, ..., 0, 1, 1], dtype=int64)"
      ]
     },
     "execution_count": 67,
     "metadata": {},
     "output_type": "execute_result"
    }
   ],
   "source": [
    "pdf, bins = np.histogram(can, np.arange(NUM_PARENTS*NUM_TARGETS))\n",
    "pdf"
   ]
  },
  {
   "cell_type": "code",
   "execution_count": 68,
   "metadata": {},
   "outputs": [
    {
     "data": {
      "text/plain": [
       "(7, 372)"
      ]
     },
     "execution_count": 68,
     "metadata": {},
     "output_type": "execute_result"
    }
   ],
   "source": [
    "mag.shape"
   ]
  },
  {
   "cell_type": "markdown",
   "metadata": {},
   "source": [
    "# Magnitudes After Training"
   ]
  },
  {
   "cell_type": "code",
   "execution_count": 69,
   "metadata": {},
   "outputs": [
    {
     "data": {
      "text/plain": [
       "2604"
      ]
     },
     "execution_count": 69,
     "metadata": {},
     "output_type": "execute_result"
    }
   ],
   "source": [
    "NUM_PARENTS*NUM_TARGETS"
   ]
  },
  {
   "cell_type": "code",
   "execution_count": 93,
   "metadata": {},
   "outputs": [
    {
     "ename": "ValueError",
     "evalue": "index 2604 is out of bounds for array with size 2604",
     "output_type": "error",
     "traceback": [
      "\u001b[1;31m---------------------------------------------------------------------------\u001b[0m",
      "\u001b[1;31mValueError\u001b[0m                                Traceback (most recent call last)",
      "\u001b[1;32mc:\\Users\\Fin Amin\\Desktop\\StemCellResearch\\beanEncoder\\BeanEncoderMain.ipynb Cell 62\u001b[0m in \u001b[0;36m<cell line: 1>\u001b[1;34m()\u001b[0m\n\u001b[1;32m----> <a href='vscode-notebook-cell:/c%3A/Users/Fin%20Amin/Desktop/StemCellResearch/beanEncoder/BeanEncoderMain.ipynb#Y115sZmlsZQ%3D%3D?line=0'>1</a>\u001b[0m np\u001b[39m.\u001b[39;49munravel_index([NUM_PARENTS\u001b[39m*\u001b[39;49mNUM_TARGETS], shape \u001b[39m=\u001b[39;49m (NUM_PARENTS, NUM_TARGETS))\n",
      "File \u001b[1;32m<__array_function__ internals>:5\u001b[0m, in \u001b[0;36munravel_index\u001b[1;34m(*args, **kwargs)\u001b[0m\n",
      "\u001b[1;31mValueError\u001b[0m: index 2604 is out of bounds for array with size 2604"
     ]
    }
   ],
   "source": [
    "#np.unravel_index([NUM_PARENTS*NUM_TARGETS], shape = (NUM_PARENTS, NUM_TARGETS))"
   ]
  },
  {
   "cell_type": "code",
   "execution_count": 94,
   "metadata": {},
   "outputs": [],
   "source": [
    "def get_top_reg_targets(can, mag):\n",
    "    \n",
    "    pdf, bins = np.histogram(can, np.arange(0, NUM_PARENTS*NUM_TARGETS))\n",
    "    pdf2d = np.zeros(shape = (NUM_PARENTS,NUM_TARGETS))\n",
    "    print(\"num bins\", len(bins))\n",
    "\n",
    "    for i in bins:\n",
    "      idx2d = np.unravel_index(i, shape = (NUM_PARENTS, NUM_TARGETS))\n",
    "      try:\n",
    "        pdf2d[idx2d] = pdf[i]\n",
    "      except IndexError:\n",
    "        print(i, idx2d, len(pdf), len(bins))\n",
    "    \n",
    "\n",
    "    importance = np.multiply(pdf2d, mag)\n",
    "    return importance"
   ]
  },
  {
   "cell_type": "code",
   "execution_count": 95,
   "metadata": {},
   "outputs": [
    {
     "name": "stdout",
     "output_type": "stream",
     "text": [
      "num bins 2604\n",
      "2603 (6, 371) 2603 2604\n"
     ]
    }
   ],
   "source": [
    "top = get_top_reg_targets(can, mag)"
   ]
  },
  {
   "cell_type": "code",
   "execution_count": 73,
   "metadata": {},
   "outputs": [
    {
     "data": {
      "text/plain": [
       "(7, 372)"
      ]
     },
     "execution_count": 73,
     "metadata": {},
     "output_type": "execute_result"
    }
   ],
   "source": [
    "top.shape"
   ]
  },
  {
   "cell_type": "code",
   "execution_count": 80,
   "metadata": {},
   "outputs": [
    {
     "data": {
      "image/png": "[encoded data removed]",
      "text/plain": [
       "<Figure size 1080x360 with 2 Axes>"
      ]
     },
     "metadata": {
      "needs_background": "light"
     },
     "output_type": "display_data"
    }
   ],
   "source": [
    "u = plt.imshow(top/np.max(top), cmap = 'inferno', vmin = 0, vmax = 1.0 );\n",
    "plt.colorbar(u ,fraction=0.0086, pad=0.02);\n",
    "plt.title(\"The Most Important Regulator-Target Combinations\");"
   ]
  },
  {
   "cell_type": "code",
   "execution_count": null,
   "metadata": {},
   "outputs": [],
   "source": []
  },
  {
   "cell_type": "code",
   "execution_count": 89,
   "metadata": {},
   "outputs": [
    {
     "data": {
      "text/plain": [
       "array([[259,  20],\n",
       "       [164,  36],\n",
       "       [225, 241],\n",
       "       ...,\n",
       "       [259, 265],\n",
       "       [131, 270],\n",
       "       [350, 371]], dtype=int64)"
      ]
     },
     "execution_count": 89,
     "metadata": {},
     "output_type": "execute_result"
    }
   ],
   "source": [
    "topID = np.array(np.unravel_index(np.argsort(top, axis=None), top.shape))\n",
    "topID = np.flip(topID, axis=1)\n",
    "topID[0] = parent_idx[topID[0]]\n",
    "topID = topID.T\n",
    "topID"
   ]
  },
  {
   "cell_type": "code",
   "execution_count": null,
   "metadata": {},
   "outputs": [],
   "source": [
    "topR_T = pd.DataFrame(topID)\n",
    "topR_T.to_csv(\"SOYBEAN_Top_reg_target_decendingOrder_firstColIsRegulator.csv\")"
   ]
  },
  {
   "cell_type": "code",
   "execution_count": null,
   "metadata": {},
   "outputs": [],
   "source": []
  },
  {
   "cell_type": "code",
   "execution_count": null,
   "metadata": {},
   "outputs": [],
   "source": [
    "best = np.zeros(NUM_PARENTS)\n",
    "for i in range(NUM_PARENTS):\n",
    "    best[i] = np.sum(top[i])\n",
    "best"
   ]
  },
  {
   "cell_type": "code",
   "execution_count": null,
   "metadata": {},
   "outputs": [],
   "source": [
    "x = np.arange(0,NUM_PARENTS, dtype=int)\n",
    "plt.plot(x, best); "
   ]
  },
  {
   "cell_type": "code",
   "execution_count": null,
   "metadata": {},
   "outputs": [],
   "source": [
    "idx = np.flip(np.argsort(best))\n",
    "idx"
   ]
  },
  {
   "cell_type": "code",
   "execution_count": null,
   "metadata": {},
   "outputs": [],
   "source": [
    "parent_idx[idx] "
   ]
  },
  {
   "cell_type": "code",
   "execution_count": null,
   "metadata": {},
   "outputs": [],
   "source": [
    "np.unique(can).size"
   ]
  },
  {
   "cell_type": "markdown",
   "metadata": {},
   "source": [
    "# Inference on Petal Len"
   ]
  },
  {
   "cell_type": "code",
   "execution_count": null,
   "metadata": {},
   "outputs": [],
   "source": [
    "petal = pd.read_excel(data_path_petal)"
   ]
  },
  {
   "cell_type": "code",
   "execution_count": null,
   "metadata": {},
   "outputs": [],
   "source": [
    "petal_train = petal[petal[\"Line\"] == \"WT\"]\n",
    "petal_train = petal_train.drop(columns=['Line', 'ID', \"Treatment\"])\n",
    "petal_train.head(12)\n",
    "petal_train = petal_train.groupby(['Plate']).mean()\n",
    "petal_train.head()\n",
    "petal_train = petal_train.to_numpy()\n",
    "print(petal_train.shape)\n",
    "scaler1 = StandardScaler()\n",
    "scaler1.fit(petal_train)\n",
    "petal_train = scaler1.transform(petal_train)\n",
    "mm = MinMaxScaler()\n",
    "mm.fit(petal_train)\n",
    "petal_train = mm.transform(petal_train)\n",
    "petal_train"
   ]
  },
  {
   "cell_type": "code",
   "execution_count": null,
   "metadata": {},
   "outputs": [],
   "source": [
    "petal_test = petal[petal[\"Line\"] != \"WT\"]\n",
    "petal_test = petal_test.drop(columns=['Line', 'ID', \"Treatment\"])\n",
    "petal_test = petal_test.groupby(['Plate']).mean()\n",
    "petal_test.head()\n",
    "petal_test = petal_test.to_numpy()\n",
    "print(petal_test.shape)\n",
    "petal_test = scaler1.transform(petal_test)\n",
    "petal_test = mm.transform(petal_test)\n",
    "petal_test"
   ]
  },
  {
   "cell_type": "code",
   "execution_count": null,
   "metadata": {},
   "outputs": [],
   "source": [
    "experiment1.shape\n",
    "testCandidate.shape"
   ]
  },
  {
   "cell_type": "code",
   "execution_count": null,
   "metadata": {},
   "outputs": [],
   "source": [
    "densePredictor = modelDense2(superParent, regulator_gene_matrix, NUM_TARGETS, 6, NUM_TARGETS, 22)\n",
    "densePredictor.compile(optimizer='adam', loss=ignore_noParent_MSE)\n",
    "densePredictor.fit(beanIntensities, beanIntensities,validation_data=(experiment1, experiment1),  epochs=100,  verbose=1)\n",
    "test = densePredictor(testCandidate) #, verbose = 0)\n",
    "loss = ignore_noParent_MSE(testCandidate, test)\n",
    "print(loss)"
   ]
  },
  {
   "cell_type": "code",
   "execution_count": null,
   "metadata": {},
   "outputs": [],
   "source": [
    "rgm = superParent\n",
    "time_steps = 6\n",
    "num_kinase_regulators = NUM_TARGETS\n",
    "num_hidden_units = 22\n",
    "\n",
    "inp = Input(shape=(time_steps, num_kinase_regulators))\n",
    "x = DenseEncoderLinear2(rgm, regulator_gene_matrix, NUM_TARGETS, NUM_TARGETS)(inp)\n",
    "enc = denseencoder2(x, inp, num_hidden_units)\n",
    "denseP = tf.keras.Model(inputs=inp, outputs=enc)\n",
    "#set the weights of the encoder to the weights of auto encoder\n",
    "dw = densePredictor.get_weights()\n",
    "enc_w = dw[0:5]\n",
    "denseP.set_weights(enc_w)\n",
    "#add a dense layer  because we are ouputing 1 number\n",
    "l = Dense(32, activation = 'swish', use_bias=True, kernel_regularizer='l1_l2')(denseP.layers[-1].output)\n",
    "l = Dense(1, activation = 'linear', use_bias = True)(l)\n",
    "denseP = tf.keras.Model(denseP.inputs, l)\n",
    "#denseP.summary()"
   ]
  },
  {
   "cell_type": "code",
   "execution_count": null,
   "metadata": {},
   "outputs": [],
   "source": [
    "bp = np.concatenate([experiment1, experiment1, experiment1, experiment1])\n",
    "bp.shape\n",
    "#bigexperiment1.shape"
   ]
  },
  {
   "cell_type": "code",
   "execution_count": null,
   "metadata": {},
   "outputs": [],
   "source": [
    "a = petal_train[0]\n",
    "b = petal_train[1]\n",
    "c = petal_train[2]\n",
    "d = petal_train[3]\n",
    "\n",
    "petal_train1 = np.array([a,a,a,a, b,b,b,b, c,c,c,c, d,d,d,d]) #does this make sense? we are training network to predict .5\n",
    "petal_train1.shape"
   ]
  },
  {
   "cell_type": "code",
   "execution_count": null,
   "metadata": {},
   "outputs": [],
   "source": [
    "denseP.compile(optimizer='adam', loss=tf.keras.losses.MeanSquaredError())\n",
    "denseP.fit(experiment1, petal_train, epochs=500, verbose = 1)"
   ]
  },
  {
   "cell_type": "code",
   "execution_count": null,
   "metadata": {},
   "outputs": [],
   "source": [
    "testCandidate.shape"
   ]
  },
  {
   "cell_type": "code",
   "execution_count": null,
   "metadata": {},
   "outputs": [],
   "source": [
    "denseP(experiment1) #experiment1 is part of the training set."
   ]
  },
  {
   "cell_type": "code",
   "execution_count": null,
   "metadata": {},
   "outputs": [],
   "source": [
    "petal_train"
   ]
  },
  {
   "cell_type": "code",
   "execution_count": null,
   "metadata": {},
   "outputs": [],
   "source": [
    "print(denseP(testCandidate)) #model output"
   ]
  },
  {
   "cell_type": "code",
   "execution_count": null,
   "metadata": {},
   "outputs": [],
   "source": [
    "petal_test #true label"
   ]
  },
  {
   "cell_type": "code",
   "execution_count": null,
   "metadata": {},
   "outputs": [],
   "source": [
    "petal_train"
   ]
  },
  {
   "cell_type": "code",
   "execution_count": null,
   "metadata": {},
   "outputs": [],
   "source": [
    "denseP.evaluate(testCandidate, petal_test) #eval gave 1.3999 before"
   ]
  },
  {
   "cell_type": "markdown",
   "metadata": {},
   "source": [
    "# Junk"
   ]
  },
  {
   "cell_type": "markdown",
   "metadata": {},
   "source": [
    "# Load the test set and the synthetic dataset:\n"
   ]
  },
  {
   "cell_type": "code",
   "execution_count": null,
   "metadata": {},
   "outputs": [],
   "source": [
    "def loadTestSet(test_path):\n",
    "    testFiles = []\n",
    "    for np_name in glob(os.path.join(data_path_testSet,'*.np[yz]')):\n",
    "        k = np.load(os.path.join(data_path_testSet,np_name))\n",
    "        testFiles.append(k)\n",
    "#         print(np_name)\n",
    "#         print(k.shape)\n",
    "    return np.array(testFiles)"
   ]
  },
  {
   "cell_type": "code",
   "execution_count": null,
   "metadata": {
    "id": "_PKjzdFCMwFg"
   },
   "outputs": [],
   "source": [
    "def read_files(data_path):\n",
    "\n",
    "    #genes_intensities_data_matrix = pd.read_csv(file_path_intensities, index_col = 0)\n",
    "    #print(os.listdir(data_path))\n",
    "    replicate_files = os.listdir(data_path)\n",
    "    #print('replicate files:',replicate_files)\n",
    "    replicates = []\n",
    "    # i = 0\n",
    "    for file in replicate_files:\n",
    "        \n",
    "        try:\n",
    "            #print('file name:',file)\n",
    "            #print('value of i:',i)\n",
    "            genes_intensities_data_matrix = pd.read_csv(os.path.join(data_path , file), index_col = 0, on_bad_lines='skip')\n",
    "            #print('genes_intensities_data_matrix:',  genes_intensities_data_matrix.head())\n",
    "            replicates.append(np.array(genes_intensities_data_matrix.values, dtype = float))\n",
    "            # i+=1\n",
    "        except PermissionError:\n",
    "            print(\"Not a CSV: \", os.path.join(data_path , file))\n",
    "        \n",
    "    genes_intensities_data_matrix = genes_intensities_data_matrix.values\n",
    "    rgm = np.loadtxt(matrix_path)\n",
    "    rep = np.array(replicates).astype(np.float32)\n",
    "    \n",
    "    return rep, rgm.astype(np.float32)"
   ]
  },
  {
   "cell_type": "code",
   "execution_count": null,
   "metadata": {
    "id": "JCwo4LwlO_FF"
   },
   "outputs": [],
   "source": [
    "beanIntensities, regulator_gene_matrix= read_files(data_path_syn)\n",
    "matrix = regulator_gene_matrix\n",
    "replicates = beanIntensities"
   ]
  },
  {
   "cell_type": "code",
   "execution_count": null,
   "metadata": {},
   "outputs": [],
   "source": [
    "matrix.shape"
   ]
  },
  {
   "cell_type": "code",
   "execution_count": null,
   "metadata": {},
   "outputs": [],
   "source": [
    "replicates.shape"
   ]
  },
  {
   "cell_type": "code",
   "execution_count": null,
   "metadata": {},
   "outputs": [],
   "source": [
    "plt.imshow(matrix)"
   ]
  },
  {
   "cell_type": "code",
   "execution_count": null,
   "metadata": {},
   "outputs": [],
   "source": []
  },
  {
   "cell_type": "code",
   "execution_count": null,
   "metadata": {},
   "outputs": [],
   "source": [
    "d = np.zeros(shape = (3,6,8))\n",
    "id = np.unravel_index(3*6*8 - 1, shape = d.shape)\n",
    "d[id] = 1\n",
    "plt.imshow(d[2])"
   ]
  },
  {
   "cell_type": "code",
   "execution_count": null,
   "metadata": {},
   "outputs": [],
   "source": [
    "testCandidate[0][ : , parentIndex]"
   ]
  },
  {
   "cell_type": "code",
   "execution_count": null,
   "metadata": {},
   "outputs": [],
   "source": [
    "print(outSyn.shape)\n",
    "print(testCandidate.shape)\n",
    "syntheticLoss = ignore_noParent_MSE(np.array([testCandidate[0]]), np.array([outSyn[0]]) )\n",
    "syntheticLoss"
   ]
  },
  {
   "cell_type": "code",
   "execution_count": null,
   "metadata": {},
   "outputs": [],
   "source": [
    "dd"
   ]
  },
  {
   "cell_type": "code",
   "execution_count": null,
   "metadata": {},
   "outputs": [],
   "source": [
    "plt.plot(change[0][22])\n",
    "plt.xlabel(\"epoch\")\n",
    "plt.ylabel(\"change in weight\")"
   ]
  },
  {
   "cell_type": "code",
   "execution_count": null,
   "metadata": {},
   "outputs": [],
   "source": [
    "plt.plot(lossMatrix)\n",
    "plt.xlabel(\"epochs\")\n",
    "plt.ylabel(\"MSE\")"
   ]
  },
  {
   "cell_type": "code",
   "execution_count": null,
   "metadata": {},
   "outputs": [],
   "source": [
    "print(change.shape, lossMatrix.shape)"
   ]
  },
  {
   "cell_type": "code",
   "execution_count": null,
   "metadata": {},
   "outputs": [],
   "source": [
    "d = np.diff(change[0][22])\n",
    "plt.plot(d)\n",
    "d.shape"
   ]
  },
  {
   "cell_type": "code",
   "execution_count": null,
   "metadata": {},
   "outputs": [],
   "source": [
    "change[0][0].flatten()"
   ]
  },
  {
   "cell_type": "code",
   "execution_count": null,
   "metadata": {},
   "outputs": [],
   "source": [
    "top_pr.shape"
   ]
  },
  {
   "cell_type": "code",
   "execution_count": null,
   "metadata": {},
   "outputs": [],
   "source": [
    "plt.plot(d[0])"
   ]
  },
  {
   "cell_type": "code",
   "execution_count": null,
   "metadata": {},
   "outputs": [],
   "source": [
    "\n",
    "# def compute_tresh(change, stop = 0.05):\n",
    "#     diffs = []\n",
    "#     for parent in range(len(change)):\n",
    "#         for child in range(len(change[0])):\n",
    "#             diffs.append(np.diff(change[parent][child]))\n",
    "#     inflection = []\n",
    "\n",
    "\n",
    "#     try:\n",
    "#         for d in diffs:\n",
    "#             print(np.argwhere(np.abs(d) < stop))\n",
    "#             inflection.append(np.min(np.argwhere(np.abs(d) < stop))) #return where the second derivative is first 0. \n",
    "\n",
    "#     except ValueError:\n",
    "#         print(\"Stop value \", stop, \" is too high, trying stop = \", stop + 0.05)\n",
    "#         # s = stop + 0.05\n",
    "#         # return compute_tresh(change, stop = s)\n",
    "        \n",
    "\n",
    "#     return np.average(inflection)\n",
    "        \n",
    "# d = compute_tresh(change)\n",
    "# d.shape"
   ]
  },
  {
   "cell_type": "code",
   "execution_count": null,
   "metadata": {},
   "outputs": [],
   "source": [
    "#np.save(\"mse3.npy\", avgMSE) #mse2/3 is with -1 fix"
   ]
  },
  {
   "cell_type": "code",
   "execution_count": null,
   "metadata": {},
   "outputs": [],
   "source": [
    "#https://www.sciencedirect.com/science/article/pii/S0925231220314570?casa_token=lcEJANqO0JwAAAAA:uL3DGUZctPUZz_sPz1K1i2klMtb83TyKnc9CI3_N-uSOaM7VHL8GhM0jCGYfo25NmpDQQ9Cvlw"
   ]
  },
  {
   "cell_type": "code",
   "execution_count": null,
   "metadata": {},
   "outputs": [],
   "source": [
    "rshp = Flatten()(looseParent.layers[-1].output)\n",
    "\n",
    "modelTemp = tf.keras.Model(inputs=looseParent.input, outputs = [rshp])\n",
    "modelTemp.summary()\n",
    "type(modelTemp)\n",
    "explainer = shap.DeepExplainer(modelTemp, syntheticDataTrain)\n",
    "#shap.explainers._deep.deep_tf.op_handlers[\"AddV2\"] = shap.explainers._deep.deep_tf.passthrough #this solves the \"shap_ADDV2\" problem but another one will appear\n",
    "#shap.explainers._deep.deep_tf.op_handlers[\"FusedBatchNormV3\"] = shap.explainers._deep.deep_tf.passthrough #this solves the next problem which allows you to run the DeepExplainer.\n",
    "\n",
    "shap_values = explainer.shap_values(testCandidate[0:1])\n",
    "def f(x):\n",
    "    return modelTemp.predict(x)\n",
    "\n",
    "print(f(testCandidate))\n",
    "explainer = shap.KernelExplainer(f , testCandidate[0:1], link=\"logit\") #svm.predict_proba, X_train, link=\"logit\")\n",
    "shap_values = explainer.shap_values(testCandidate[0:1], nsamples=100)\n",
    "def map2layer(x, layer):\n",
    "    feed_dict = dict(zip([model.layers[0].input], [preprocess_input(x.copy())]))\n",
    "    return K.get_session().run(model.layers[layer].input, feed_dict)\n",
    "e = shap.GradientExplainer(\n",
    "    (model.layers[7].input, model.layers[-1].output),\n",
    "    map2layer(X, 7),\n",
    "    local_smoothing=0 # std dev of smoothing noise\n",
    ")\n",
    "from keras.applications.vgg16 import VGG16\n",
    "from keras.applications.vgg16 import preprocess_input\n",
    "import keras.backend as K\n",
    "import numpy as np\n",
    "import json\n",
    "import shap\n",
    "\n",
    "# load pre-trained model and choose two images to explain\n",
    "model = VGG16(weights='imagenet', include_top=True)\n",
    "X,y = shap.datasets.imagenet50()\n",
    "to_explain = X[[39,41]]\n",
    "\n",
    "# load the ImageNet class names\n",
    "url = \"https://s3.amazonaws.com/deep-learning-models/image-models/imagenet_class_index.json\"\n",
    "fname = shap.datasets.cache(url)\n",
    "with open(fname) as f:\n",
    "    class_names = json.load(f)\n",
    "\n",
    "# explain how the input to the 7th layer of the model explains the top two classes\n",
    "def map2layer(x, layer):\n",
    "    feed_dict = dict(zip([model.layers[0].input], [preprocess_input(x.copy())]))\n",
    "    return K.get_session().run(model.layers[layer].input, feed_dict)\n",
    "e = shap.GradientExplainer(\n",
    "    (model.layers[7].input, model.layers[-1].output),\n",
    "    map2layer(X, 7),\n",
    "    local_smoothing=0 # std dev of smoothing noise\n",
    ")\n",
    "shap_values,indexes = e.shap_values(map2layer(to_explain, 7), ranked_outputs=2)\n",
    "\n",
    "# get the names for the classes\n",
    "index_names = np.vectorize(lambda x: class_names[str(x)][1])(indexes)\n",
    "\n",
    "# plot the explanations\n",
    "shap.image_plot(shap_values, to_explain, index_names)"
   ]
  },
  {
   "cell_type": "code",
   "execution_count": null,
   "metadata": {},
   "outputs": [],
   "source": [
    "type(enc_dec_Synthetic)"
   ]
  },
  {
   "cell_type": "code",
   "execution_count": null,
   "metadata": {},
   "outputs": [],
   "source": [
    "a = [1,2,3]\n",
    "b = [5,6]\n",
    "u = tf.concat([a,b], axis = 0)\n",
    "u"
   ]
  },
  {
   "cell_type": "code",
   "execution_count": null,
   "metadata": {},
   "outputs": [],
   "source": [
    "newConnections = superParent - regulator_gene_matrix"
   ]
  },
  {
   "cell_type": "code",
   "execution_count": null,
   "metadata": {},
   "outputs": [],
   "source": [
    "plt.imshow(newConnections)"
   ]
  },
  {
   "cell_type": "code",
   "execution_count": null,
   "metadata": {},
   "outputs": [],
   "source": [
    "# nC = []\n",
    "# for i in range(len(newConnections[0])):\n",
    "#     for j in range(len(newConnections[1])):\n",
    "#         if newConnections[i][j] > 0:\n",
    "#             nC.append([i,j])\n",
    "# nC = np.array(nC)\n",
    "# nC = pd.DataFrame(nC)\n",
    "# nC.to_csv(\"new_connections_in_superParents.csv\")"
   ]
  },
  {
   "cell_type": "code",
   "execution_count": null,
   "metadata": {},
   "outputs": [],
   "source": []
  },
  {
   "cell_type": "code",
   "execution_count": null,
   "metadata": {},
   "outputs": [],
   "source": []
  },
  {
   "cell_type": "code",
   "execution_count": null,
   "metadata": {},
   "outputs": [],
   "source": [
    "###Code for testing loss function\n",
    "# print(outSyn.shape)\n",
    "# print(testCandidate.shape)\n",
    "# syntheticLoss = ignore_noParent_MSE(np.array([testCandidate[0]]), np.array([outSyn[0]]) )\n",
    "# syntheticLoss"
   ]
  },
  {
   "cell_type": "markdown",
   "metadata": {},
   "source": [
    "# Synthetic Dataset Auto Encoder\n",
    "Autoencoder has not been trained on synthetic version of experiement 1. We test on the original experiment 1. "
   ]
  },
  {
   "cell_type": "code",
   "execution_count": null,
   "metadata": {
    "id": "WrRuJ_bsrHll"
   },
   "outputs": [],
   "source": [
    "enc_dec_Synthetic.compile(optimizer='adam', loss=ignore_noParent_MSE)"
   ]
  },
  {
   "cell_type": "code",
   "execution_count": null,
   "metadata": {
    "id": "yAOZEEvRRVU4"
   },
   "outputs": [],
   "source": [
    "# enc_dec_Synthetic.compile(optimizer='adam',loss = keras.losses.SparseCategoricalCrossentropy(from_logits=True))"
   ]
  },
  {
   "cell_type": "code",
   "execution_count": null,
   "metadata": {},
   "outputs": [],
   "source": [
    "syntheticDataTrain = beanIntensities[1:]"
   ]
  },
  {
   "cell_type": "code",
   "execution_count": null,
   "metadata": {
    "colab": {
     "base_uri": "https://localhost:8080/"
    },
    "executionInfo": {
     "elapsed": 726,
     "status": "ok",
     "timestamp": 1649273035573,
     "user": {
      "displayName": "Sahil Anish Palarpwar",
      "userId": "17757512684560375750"
     },
     "user_tz": 240
    },
    "id": "EuNDZx5Ov34I",
    "outputId": "74597aa1-c71c-4491-b8c9-4fefed309325"
   },
   "outputs": [],
   "source": [
    "enc_dec_Synthetic.fit(syntheticDataTrain,syntheticDataTrain,epochs=1000)"
   ]
  },
  {
   "cell_type": "code",
   "execution_count": null,
   "metadata": {},
   "outputs": [],
   "source": [
    "test = enc_dec_Synthetic(testCandidate) #, verbose = 0)\n",
    "loss = ignore_noParent_MSE(testCandidate, test)\n",
    "loss"
   ]
  },
  {
   "cell_type": "code",
   "execution_count": null,
   "metadata": {},
   "outputs": [],
   "source": [
    "w = enc_dec_Synthetic.get_weights()"
   ]
  },
  {
   "cell_type": "code",
   "execution_count": null,
   "metadata": {},
   "outputs": [],
   "source": [
    "plt.imshow(w[0], cmap = \"hot\", vmin=0,vmax=0.02)"
   ]
  },
  {
   "cell_type": "code",
   "execution_count": null,
   "metadata": {
    "id": "SBzDmjqJViEw",
    "scrolled": true
   },
   "outputs": [],
   "source": [
    "#we do not need to use this function for the testset\n",
    "def getCSVs(data_path_head):\n",
    "    PATH = data_path_head\n",
    "    EXT = \"*.csv\"\n",
    "    all_csv_files = [file\n",
    "                     for path, subdir, files in os.walk(PATH)\n",
    "                     for file in glob(os.path.join(path, EXT))]\n",
    "    actual = []\n",
    "    for p in all_csv_files:\n",
    "        actual.append(pd.read_csv(p, index_col = 0).to_numpy())\n",
    "    return np.array(actual)\n",
    "    \n",
    "experiment1 = getCSVs(data_path_og_exp1)"
   ]
  },
  {
   "cell_type": "code",
   "execution_count": null,
   "metadata": {},
   "outputs": [],
   "source": [
    "testCandidate = test.numpy().astype(np.float)"
   ]
  },
  {
   "cell_type": "code",
   "execution_count": null,
   "metadata": {},
   "outputs": [],
   "source": [
    "testCandidate.dtype"
   ]
  },
  {
   "cell_type": "code",
   "execution_count": null,
   "metadata": {},
   "outputs": [],
   "source": [
    "np.array([beanIntensities[0]]).shape"
   ]
  },
  {
   "cell_type": "code",
   "execution_count": null,
   "metadata": {},
   "outputs": [],
   "source": [
    "testCandidate[0].shape"
   ]
  },
  {
   "cell_type": "code",
   "execution_count": null,
   "metadata": {},
   "outputs": [],
   "source": [
    "np.array([beanIntensities[0]]).shape"
   ]
  },
  {
   "cell_type": "code",
   "execution_count": null,
   "metadata": {},
   "outputs": [],
   "source": [
    "outSyn = enc_dec_Synthetic.predict(testCandidate)"
   ]
  },
  {
   "cell_type": "code",
   "execution_count": null,
   "metadata": {},
   "outputs": [],
   "source": [
    "def mymagn(A, B):\n",
    "    mse = (np.square(A - B)).mean(axis=None)\n",
    "    return mse"
   ]
  },
  {
   "cell_type": "code",
   "execution_count": null,
   "metadata": {},
   "outputs": [],
   "source": [
    "print(outSyn.shape)"
   ]
  },
  {
   "cell_type": "code",
   "execution_count": null,
   "metadata": {},
   "outputs": [],
   "source": [
    "syntheticLoss = ignore_noParent_MSE(testCandidate, outSyn )\n",
    "syntheticLoss"
   ]
  },
  {
   "cell_type": "code",
   "execution_count": null,
   "metadata": {},
   "outputs": [],
   "source": [
    "(outSyn-testCandidate).shape"
   ]
  },
  {
   "cell_type": "code",
   "execution_count": null,
   "metadata": {},
   "outputs": [],
   "source": [
    "#!pip3 install keras-visualizer\n",
    "#!pip install pydot\n",
    "#data_path_og_exp1 = data_path_testSet \n",
    "# !pip install pydot\n",
    "# !pip install pydotplus\n",
    "# !pip install graphviz"
   ]
  },
  {
   "cell_type": "code",
   "execution_count": null,
   "metadata": {},
   "outputs": [],
   "source": [
    "# test = loadTestSet(data_path_testSet)\n",
    "# testCandidate = test.astype(np.float)\n"
   ]
  },
  {
   "cell_type": "code",
   "execution_count": null,
   "metadata": {
    "id": "nPRV0OAMpKPH"
   },
   "outputs": [],
   "source": [
    "enc_dec_Synthetic = model(regulator_gene_matrix, NUM_TARGETS, NUM_TIME_STEPS, NUM_TARGETS) #we can just change the time steps to something higher"
   ]
  },
  {
   "cell_type": "code",
   "execution_count": null,
   "metadata": {
    "colab": {
     "base_uri": "https://localhost:8080/"
    },
    "executionInfo": {
     "elapsed": 13,
     "status": "ok",
     "timestamp": 1649273028683,
     "user": {
      "displayName": "Sahil Anish Palarpwar",
      "userId": "17757512684560375750"
     },
     "user_tz": 240
    },
    "id": "D6aPT5_cpKK0",
    "outputId": "c261d824-0f38-4eee-b139-f03a80f093e1"
   },
   "outputs": [],
   "source": [
    "enc_dec_Synthetic.summary()"
   ]
  },
  {
   "cell_type": "markdown",
   "metadata": {},
   "source": [
    "# Interpolated dataset Auto Encoder\n",
    "Once again, we do not train on any version of exp1"
   ]
  },
  {
   "cell_type": "code",
   "execution_count": null,
   "metadata": {},
   "outputs": [],
   "source": [
    "def read_filesV2(data_path):\n",
    "    '''\n",
    "    *Changed*\n",
    "    currently hardcoded for only one file. \n",
    "    change code a bit for reading multiple files.\n",
    "    '''\n",
    "    #genes_intensities_data_matrix = pd.read_csv(file_path_intensities, index_col = 0)\n",
    "    #print(os.listdir(data_path))\n",
    "    replicate_files = os.listdir(data_path)\n",
    "    #print('replicate files:',replicate_files)\n",
    "    replicates = []\n",
    "    # i = 0\n",
    "    for file in replicate_files:\n",
    "        \n",
    "        #print('file name:',file)\n",
    "        #print('value of i:',i)\n",
    "        genes_intensities_data_matrix = pd.read_csv(os.path.join(data_path , file), index_col = 0, on_bad_lines='skip')\n",
    "        #print('genes_intensities_data_matrix:',  genes_intensities_data_matrix.head())\n",
    "        replicates.append(genes_intensities_data_matrix.values)\n",
    "        # i+=1\n",
    "        \n",
    "    genes_intensities_data_matrix = genes_intensities_data_matrix.values\n",
    "    rgm = np.loadtxt(matrix_path)\n",
    "    \n",
    "    return np.asarray(replicates), rgm.astype(np.float32)"
   ]
  },
  {
   "cell_type": "code",
   "execution_count": null,
   "metadata": {},
   "outputs": [],
   "source": [
    "interpolated_genes, _ = read_filesV2(data_path_inter)"
   ]
  },
  {
   "cell_type": "code",
   "execution_count": null,
   "metadata": {},
   "outputs": [],
   "source": [
    "interpolated_genes.shape"
   ]
  },
  {
   "cell_type": "code",
   "execution_count": null,
   "metadata": {},
   "outputs": [],
   "source": [
    "pd.DataFrame(interpolated_genes[2]).head(5)"
   ]
  },
  {
   "cell_type": "code",
   "execution_count": null,
   "metadata": {},
   "outputs": [],
   "source": [
    "inter = []\n",
    "for k in range(len(interpolated_genes)):\n",
    "    #print(k)\n",
    "    if k == 2 or k == 3 or k == 4:\n",
    "        inter.append(np.reshape(interpolated_genes[k], (4,6,NUM_TARGETS)))\n",
    "    else: \n",
    "        inter.append(np.reshape(interpolated_genes[k], (5,6,NUM_TARGETS)))\n",
    "inter = np.vstack(inter)"
   ]
  },
  {
   "cell_type": "code",
   "execution_count": null,
   "metadata": {},
   "outputs": [],
   "source": [
    "inter.shape"
   ]
  },
  {
   "cell_type": "code",
   "execution_count": null,
   "metadata": {},
   "outputs": [],
   "source": [
    "beanIntensities[1:].shape"
   ]
  },
  {
   "cell_type": "code",
   "execution_count": null,
   "metadata": {},
   "outputs": [],
   "source": [
    "enc_dec_inter = model(regulator_gene_matrix, NUM_TARGETS, 6, NUM_TARGETS) \n",
    "enc_dec_inter.compile(optimizer='adam', loss=ignore_noParent_MSE)"
   ]
  },
  {
   "cell_type": "code",
   "execution_count": null,
   "metadata": {},
   "outputs": [],
   "source": [
    "enc_dec_inter.fit(inter, inter,epochs=1000);"
   ]
  },
  {
   "cell_type": "code",
   "execution_count": null,
   "metadata": {},
   "outputs": [],
   "source": [
    "outInter = enc_dec_inter.predict(testCandidate)\n",
    "interpolationLoss = ignore_noParent_MSE(testCandidate, outInter)"
   ]
  },
  {
   "cell_type": "code",
   "execution_count": null,
   "metadata": {},
   "outputs": [],
   "source": [
    "interpolationLoss #used to be 3.84 on broke ignore"
   ]
  },
  {
   "cell_type": "code",
   "execution_count": null,
   "metadata": {},
   "outputs": [],
   "source": [
    "outInter.shape"
   ]
  },
  {
   "cell_type": "code",
   "execution_count": null,
   "metadata": {},
   "outputs": [],
   "source": [
    "u = enc_dec_inter.history\n",
    "u"
   ]
  },
  {
   "cell_type": "markdown",
   "metadata": {},
   "source": [
    "# Comparisons between various outputs:"
   ]
  },
  {
   "cell_type": "code",
   "execution_count": null,
   "metadata": {},
   "outputs": [],
   "source": [
    "u = plt.imshow(np.reshape((np.abs(outSyn)), (24,NUM_TARGETS)), cmap = \"hot\", vmin=0,vmax=1.0 );"
   ]
  },
  {
   "cell_type": "code",
   "execution_count": null,
   "metadata": {},
   "outputs": [],
   "source": [
    "u = pd.DataFrame(outSyn[0])\n",
    "u.head(10)"
   ]
  },
  {
   "cell_type": "code",
   "execution_count": null,
   "metadata": {},
   "outputs": [],
   "source": [
    "u = pd.DataFrame(testCandidate[0])\n",
    "u.head(10)"
   ]
  },
  {
   "cell_type": "code",
   "execution_count": null,
   "metadata": {
    "scrolled": true
   },
   "outputs": [],
   "source": [
    "plt.figure(figsize=(50, 50))\n",
    "u = plt.imshow(np.reshape((np.abs(outSyn-outInter)), (24,NUM_TARGETS)), cmap = \"hot\")#, vmin=0,vmax=1.0 );\n",
    "plt.title(\"Difference Between the Outputs of Both Autoencoders\", fontsize = 40);\n",
    "plt.xlabel(\"Phosphopeptide\", fontsize = 30);\n",
    "plt.ylabel(\"Times Concatenated\", fontsize = 30);\n",
    "plt.colorbar(u ,fraction=0.0046, pad=0.02);\n",
    "#plt.savefig(\"DiffBetweenOut.png\")"
   ]
  },
  {
   "cell_type": "code",
   "execution_count": null,
   "metadata": {},
   "outputs": [],
   "source": [
    "plt.figure(figsize=(50, 50))\n",
    "u = plt.imshow(np.reshape(np.abs(outInter-experiment1), (24,NUM_TARGETS)) , cmap = \"hot\") #, vmin=0,vmax=1.0 )\n",
    "plt.title(\"Difference Between the Input and Output of the Autoencoder Trained on Interpolated Data\", fontsize = 40);\n",
    "plt.xlabel(\"Phosphopeptide\", fontsize = 30)\n",
    "plt.ylabel(\"Times Concatenated\", fontsize = 30);\n",
    "plt.colorbar(u ,fraction=0.0046, pad=0.02);\n",
    "#plt.savefig(\"InterDiffImage.png\")"
   ]
  },
  {
   "cell_type": "code",
   "execution_count": null,
   "metadata": {},
   "outputs": [],
   "source": [
    "plt.figure(figsize=(50, 50))\n",
    "u = plt.imshow(np.reshape(np.abs(outSyn-experiment1), (24,NUM_TARGETS)), cmap = \"hot\")#, vmin=0,vmax=1.0 )\n",
    "plt.title(\"Difference Between the Input and Output of the Autoencoder Trained on Synthetic Data\", fontsize = 40);\n",
    "plt.xlabel(\"Phosphopeptide\", fontsize = 30);\n",
    "plt.ylabel(\"Times Concatenated\", fontsize = 30);\n",
    "plt.colorbar(u ,fraction=0.0046, pad=0.02);\n",
    "#plt.savefig(\"SynDiffImage.png\");"
   ]
  },
  {
   "cell_type": "code",
   "execution_count": null,
   "metadata": {},
   "outputs": [],
   "source": [
    "parent_idx = parentIndex.numpy()\n",
    "#print(parent_idx)\n",
    "oSyn = (np.reshape((outSyn), (24,NUM_TARGETS)).T)[parent_idx]\n",
    "oSyn = oSyn.T\n",
    "oSyn.shape\n",
    "\n",
    "exp1_col = (np.reshape((experiment1), (24,NUM_TARGETS)).T)[parent_idx]\n",
    "exp1_col = exp1_col.T\n",
    "print(exp1_col.shape)\n",
    "\n",
    "u = plt.imshow(np.abs(oSyn - exp1_col), cmap = 'hot') #TODO use TF loss function instead of difference.\n",
    "ddff = oSyn-exp1_col\n",
    "plt.colorbar(u)\n",
    "plt.title(\"Difference Between the Input and Output of the Autoencoder Trained on Synthetic Data. Only parents.\");"
   ]
  },
  {
   "cell_type": "code",
   "execution_count": null,
   "metadata": {},
   "outputs": [],
   "source": [
    "pd.DataFrame(oSyn).head(24)"
   ]
  },
  {
   "cell_type": "code",
   "execution_count": null,
   "metadata": {},
   "outputs": [],
   "source": [
    "pd.DataFrame(exp1_col).head(24)\n"
   ]
  },
  {
   "cell_type": "code",
   "execution_count": null,
   "metadata": {},
   "outputs": [],
   "source": [
    "pd.DataFrame(ddff).head(24)\n"
   ]
  },
  {
   "cell_type": "code",
   "execution_count": null,
   "metadata": {},
   "outputs": [],
   "source": [
    "# np.save(\"interpolated_v2.npy\", inter) #the interpolated dataset\n",
    "# np.save(\"synthetic_v2.npy\", beanIntensities[1:]) # the synthetic dataset\n",
    "# np.save(\"synOut_v2.npy\", outSyn) #the output of the encoder trained on synthetic data with the input being exp1\n",
    "# np.save(\"interOut_v2.npy\", outInter) #the output of the encoder trained on interpolated data with the input being exp1"
   ]
  },
  {
   "cell_type": "code",
   "execution_count": null,
   "metadata": {},
   "outputs": [],
   "source": []
  }
 ],
 "metadata": {
  "colab": {
   "authorship_tag": "ABX9TyM6J5QSynTTgZ+lFOhgOtAG",
   "collapsed_sections": [],
   "name": "cnn-third.ipynb",
   "provenance": [
    {
     "file_id": "1mmRxO5jnBc5CdzxXj8sMtPpG0BQ0ulSs",
     "timestamp": 1648921397876
    },
    {
     "file_id": "10758zFj2UnTnwpQaSFIr5r9MqZWdiMsf",
     "timestamp": 1648674775255
    }
   ]
  },
  "kernelspec": {
   "display_name": "Python 3.9.12 ('base')",
   "language": "python",
   "name": "python3"
  },
  "language_info": {
   "codemirror_mode": {
    "name": "ipython",
    "version": 3
   },
   "file_extension": ".py",
   "mimetype": "text/x-python",
   "name": "python",
   "nbconvert_exporter": "python",
   "pygments_lexer": "ipython3",
   "version": "3.9.12 (main, Apr  4 2022, 05:22:27) [MSC v.1916 64 bit (AMD64)]"
  },
  "vscode": {
   "interpreter": {
    "hash": "ad2bdc8ecc057115af97d19610ffacc2b4e99fae6737bb82f5d7fb13d2f2c186"
   }
  }
 },
 "nbformat": 4,
 "nbformat_minor": 1
}
