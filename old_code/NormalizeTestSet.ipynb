{
 "cells": [
  {
   "cell_type": "code",
   "execution_count": 78,
   "metadata": {},
   "outputs": [],
   "source": [
    "import numpy as np\n",
    "import pandas as pd\n",
    "import os\n",
    "import matplotlib.pyplot as plt"
   ]
  },
  {
   "cell_type": "code",
   "execution_count": 79,
   "metadata": {},
   "outputs": [],
   "source": [
    "dfa = pd.read_csv(\"Col0-tot3_Tot3_rep_A.csv\")\n",
    "dfb = pd.read_csv(\"Col0-tot3_Tot3_rep_B.csv\")\n",
    "dfc = pd.read_csv(\"Col0-tot3_Tot3_rep_C.csv\")\n",
    "dfd = pd.read_csv(\"Col0-tot3_Tot3_rep_D.csv\")\n"
   ]
  },
  {
   "cell_type": "code",
   "execution_count": 80,
   "metadata": {},
   "outputs": [
    {
     "data": {
      "text/html": [
       "<div>\n",
       "<style scoped>\n",
       "    .dataframe tbody tr th:only-of-type {\n",
       "        vertical-align: middle;\n",
       "    }\n",
       "\n",
       "    .dataframe tbody tr th {\n",
       "        vertical-align: top;\n",
       "    }\n",
       "\n",
       "    .dataframe thead th {\n",
       "        text-align: right;\n",
       "    }\n",
       "</style>\n",
       "<table border=\"1\" class=\"dataframe\">\n",
       "  <thead>\n",
       "    <tr style=\"text-align: right;\">\n",
       "      <th></th>\n",
       "      <th>Unnamed: 0</th>\n",
       "      <th>AT1G04530.1_T36_1</th>\n",
       "      <th>AT1G08680.5_S196_1</th>\n",
       "      <th>AT1G08820.5_S130_2</th>\n",
       "      <th>AT1G10940.1_S357_1</th>\n",
       "      <th>AT1G11310.3_S503_1</th>\n",
       "      <th>AT1G11480.2_S343_1</th>\n",
       "      <th>AT1G12830.1_S46_1</th>\n",
       "      <th>AT1G13020.1_S436_1</th>\n",
       "      <th>AT1G13980.2_S961_1</th>\n",
       "      <th>...</th>\n",
       "      <th>AT5G54900.1_S332_1</th>\n",
       "      <th>AT5G56030.1_S288_1</th>\n",
       "      <th>AT5G56340.1_S150_2</th>\n",
       "      <th>AT5G56340.1_S151_2</th>\n",
       "      <th>AT5G56980.1_S120_1</th>\n",
       "      <th>AT5G57870.1_S487_1</th>\n",
       "      <th>AT5G58140.4_S30_1</th>\n",
       "      <th>AT5G64740.1_S136_1</th>\n",
       "      <th>AT5G67200.1_S371_1</th>\n",
       "      <th>ATCG00490.1_S208_1</th>\n",
       "    </tr>\n",
       "  </thead>\n",
       "  <tbody>\n",
       "    <tr>\n",
       "      <th>0</th>\n",
       "      <td>1</td>\n",
       "      <td>23.796149</td>\n",
       "      <td>23.785098</td>\n",
       "      <td>24.424638</td>\n",
       "      <td>20.567578</td>\n",
       "      <td>23.166601</td>\n",
       "      <td>24.024322</td>\n",
       "      <td>24.658214</td>\n",
       "      <td>19.958942</td>\n",
       "      <td>21.966366</td>\n",
       "      <td>...</td>\n",
       "      <td>25.760815</td>\n",
       "      <td>26.037487</td>\n",
       "      <td>20.735937</td>\n",
       "      <td>20.735937</td>\n",
       "      <td>21.570140</td>\n",
       "      <td>21.199272</td>\n",
       "      <td>23.170878</td>\n",
       "      <td>23.530066</td>\n",
       "      <td>22.604696</td>\n",
       "      <td>21.952189</td>\n",
       "    </tr>\n",
       "    <tr>\n",
       "      <th>1</th>\n",
       "      <td>2</td>\n",
       "      <td>24.329126</td>\n",
       "      <td>23.454408</td>\n",
       "      <td>24.325127</td>\n",
       "      <td>20.354163</td>\n",
       "      <td>22.402612</td>\n",
       "      <td>24.495512</td>\n",
       "      <td>24.946124</td>\n",
       "      <td>0.000000</td>\n",
       "      <td>23.062139</td>\n",
       "      <td>...</td>\n",
       "      <td>25.678085</td>\n",
       "      <td>25.353452</td>\n",
       "      <td>21.628469</td>\n",
       "      <td>21.628469</td>\n",
       "      <td>22.606615</td>\n",
       "      <td>21.059629</td>\n",
       "      <td>23.790021</td>\n",
       "      <td>23.762922</td>\n",
       "      <td>23.505368</td>\n",
       "      <td>0.000000</td>\n",
       "    </tr>\n",
       "    <tr>\n",
       "      <th>2</th>\n",
       "      <td>3</td>\n",
       "      <td>24.331719</td>\n",
       "      <td>23.131753</td>\n",
       "      <td>24.119546</td>\n",
       "      <td>20.448579</td>\n",
       "      <td>22.472982</td>\n",
       "      <td>24.398084</td>\n",
       "      <td>24.600361</td>\n",
       "      <td>0.000000</td>\n",
       "      <td>22.682185</td>\n",
       "      <td>...</td>\n",
       "      <td>25.958704</td>\n",
       "      <td>26.090212</td>\n",
       "      <td>21.455205</td>\n",
       "      <td>21.455205</td>\n",
       "      <td>21.617216</td>\n",
       "      <td>21.127536</td>\n",
       "      <td>23.654836</td>\n",
       "      <td>23.804002</td>\n",
       "      <td>23.233710</td>\n",
       "      <td>21.899056</td>\n",
       "    </tr>\n",
       "    <tr>\n",
       "      <th>3</th>\n",
       "      <td>4</td>\n",
       "      <td>23.713457</td>\n",
       "      <td>23.813666</td>\n",
       "      <td>24.166443</td>\n",
       "      <td>20.893985</td>\n",
       "      <td>22.181098</td>\n",
       "      <td>24.020469</td>\n",
       "      <td>25.145448</td>\n",
       "      <td>18.943296</td>\n",
       "      <td>22.573155</td>\n",
       "      <td>...</td>\n",
       "      <td>24.963834</td>\n",
       "      <td>25.337808</td>\n",
       "      <td>20.705399</td>\n",
       "      <td>20.705399</td>\n",
       "      <td>22.329614</td>\n",
       "      <td>21.043123</td>\n",
       "      <td>24.358131</td>\n",
       "      <td>22.386838</td>\n",
       "      <td>23.220743</td>\n",
       "      <td>21.906675</td>\n",
       "    </tr>\n",
       "    <tr>\n",
       "      <th>4</th>\n",
       "      <td>5</td>\n",
       "      <td>25.264800</td>\n",
       "      <td>23.386666</td>\n",
       "      <td>24.230389</td>\n",
       "      <td>21.813568</td>\n",
       "      <td>22.054120</td>\n",
       "      <td>23.340187</td>\n",
       "      <td>24.924073</td>\n",
       "      <td>0.000000</td>\n",
       "      <td>22.399993</td>\n",
       "      <td>...</td>\n",
       "      <td>25.473542</td>\n",
       "      <td>25.146042</td>\n",
       "      <td>20.900653</td>\n",
       "      <td>20.900653</td>\n",
       "      <td>22.324050</td>\n",
       "      <td>22.894755</td>\n",
       "      <td>23.623533</td>\n",
       "      <td>23.617716</td>\n",
       "      <td>22.745162</td>\n",
       "      <td>21.815660</td>\n",
       "    </tr>\n",
       "    <tr>\n",
       "      <th>5</th>\n",
       "      <td>6</td>\n",
       "      <td>26.821283</td>\n",
       "      <td>22.989624</td>\n",
       "      <td>23.474214</td>\n",
       "      <td>24.385137</td>\n",
       "      <td>23.105428</td>\n",
       "      <td>24.185660</td>\n",
       "      <td>24.319454</td>\n",
       "      <td>22.542342</td>\n",
       "      <td>22.342819</td>\n",
       "      <td>...</td>\n",
       "      <td>25.217289</td>\n",
       "      <td>25.290942</td>\n",
       "      <td>21.389713</td>\n",
       "      <td>21.389713</td>\n",
       "      <td>22.255240</td>\n",
       "      <td>23.567411</td>\n",
       "      <td>24.270671</td>\n",
       "      <td>24.905056</td>\n",
       "      <td>22.776408</td>\n",
       "      <td>21.384028</td>\n",
       "    </tr>\n",
       "  </tbody>\n",
       "</table>\n",
       "<p>6 rows × 246 columns</p>\n",
       "</div>"
      ],
      "text/plain": [
       "   Unnamed: 0  AT1G04530.1_T36_1  AT1G08680.5_S196_1  AT1G08820.5_S130_2  \\\n",
       "0           1          23.796149           23.785098           24.424638   \n",
       "1           2          24.329126           23.454408           24.325127   \n",
       "2           3          24.331719           23.131753           24.119546   \n",
       "3           4          23.713457           23.813666           24.166443   \n",
       "4           5          25.264800           23.386666           24.230389   \n",
       "5           6          26.821283           22.989624           23.474214   \n",
       "\n",
       "   AT1G10940.1_S357_1  AT1G11310.3_S503_1  AT1G11480.2_S343_1  \\\n",
       "0           20.567578           23.166601           24.024322   \n",
       "1           20.354163           22.402612           24.495512   \n",
       "2           20.448579           22.472982           24.398084   \n",
       "3           20.893985           22.181098           24.020469   \n",
       "4           21.813568           22.054120           23.340187   \n",
       "5           24.385137           23.105428           24.185660   \n",
       "\n",
       "   AT1G12830.1_S46_1  AT1G13020.1_S436_1  AT1G13980.2_S961_1  ...  \\\n",
       "0          24.658214           19.958942           21.966366  ...   \n",
       "1          24.946124            0.000000           23.062139  ...   \n",
       "2          24.600361            0.000000           22.682185  ...   \n",
       "3          25.145448           18.943296           22.573155  ...   \n",
       "4          24.924073            0.000000           22.399993  ...   \n",
       "5          24.319454           22.542342           22.342819  ...   \n",
       "\n",
       "   AT5G54900.1_S332_1  AT5G56030.1_S288_1  AT5G56340.1_S150_2  \\\n",
       "0           25.760815           26.037487           20.735937   \n",
       "1           25.678085           25.353452           21.628469   \n",
       "2           25.958704           26.090212           21.455205   \n",
       "3           24.963834           25.337808           20.705399   \n",
       "4           25.473542           25.146042           20.900653   \n",
       "5           25.217289           25.290942           21.389713   \n",
       "\n",
       "   AT5G56340.1_S151_2  AT5G56980.1_S120_1  AT5G57870.1_S487_1  \\\n",
       "0           20.735937           21.570140           21.199272   \n",
       "1           21.628469           22.606615           21.059629   \n",
       "2           21.455205           21.617216           21.127536   \n",
       "3           20.705399           22.329614           21.043123   \n",
       "4           20.900653           22.324050           22.894755   \n",
       "5           21.389713           22.255240           23.567411   \n",
       "\n",
       "   AT5G58140.4_S30_1  AT5G64740.1_S136_1  AT5G67200.1_S371_1  \\\n",
       "0          23.170878           23.530066           22.604696   \n",
       "1          23.790021           23.762922           23.505368   \n",
       "2          23.654836           23.804002           23.233710   \n",
       "3          24.358131           22.386838           23.220743   \n",
       "4          23.623533           23.617716           22.745162   \n",
       "5          24.270671           24.905056           22.776408   \n",
       "\n",
       "   ATCG00490.1_S208_1  \n",
       "0           21.952189  \n",
       "1            0.000000  \n",
       "2           21.899056  \n",
       "3           21.906675  \n",
       "4           21.815660  \n",
       "5           21.384028  \n",
       "\n",
       "[6 rows x 246 columns]"
      ]
     },
     "execution_count": 80,
     "metadata": {},
     "output_type": "execute_result"
    }
   ],
   "source": [
    "dfa"
   ]
  },
  {
   "cell_type": "code",
   "execution_count": 81,
   "metadata": {},
   "outputs": [
    {
     "data": {
      "text/html": [
       "<div>\n",
       "<style scoped>\n",
       "    .dataframe tbody tr th:only-of-type {\n",
       "        vertical-align: middle;\n",
       "    }\n",
       "\n",
       "    .dataframe tbody tr th {\n",
       "        vertical-align: top;\n",
       "    }\n",
       "\n",
       "    .dataframe thead th {\n",
       "        text-align: right;\n",
       "    }\n",
       "</style>\n",
       "<table border=\"1\" class=\"dataframe\">\n",
       "  <thead>\n",
       "    <tr style=\"text-align: right;\">\n",
       "      <th></th>\n",
       "      <th>Unnamed: 0</th>\n",
       "      <th>AT1G04530.1_T36_1</th>\n",
       "      <th>AT1G08680.5_S196_1</th>\n",
       "      <th>AT1G08820.5_S130_2</th>\n",
       "      <th>AT1G10940.1_S357_1</th>\n",
       "      <th>AT1G11310.3_S503_1</th>\n",
       "      <th>AT1G11480.2_S343_1</th>\n",
       "      <th>AT1G12830.1_S46_1</th>\n",
       "      <th>AT1G13020.1_S436_1</th>\n",
       "      <th>AT1G13980.2_S961_1</th>\n",
       "      <th>...</th>\n",
       "      <th>AT5G54900.1_S332_1</th>\n",
       "      <th>AT5G56030.1_S288_1</th>\n",
       "      <th>AT5G56340.1_S150_2</th>\n",
       "      <th>AT5G56340.1_S151_2</th>\n",
       "      <th>AT5G56980.1_S120_1</th>\n",
       "      <th>AT5G57870.1_S487_1</th>\n",
       "      <th>AT5G58140.4_S30_1</th>\n",
       "      <th>AT5G64740.1_S136_1</th>\n",
       "      <th>AT5G67200.1_S371_1</th>\n",
       "      <th>ATCG00490.1_S208_1</th>\n",
       "    </tr>\n",
       "  </thead>\n",
       "  <tbody>\n",
       "    <tr>\n",
       "      <th>0</th>\n",
       "      <td>1</td>\n",
       "      <td>23.900808</td>\n",
       "      <td>23.732321</td>\n",
       "      <td>24.414704</td>\n",
       "      <td>19.667867</td>\n",
       "      <td>23.496779</td>\n",
       "      <td>0.000000</td>\n",
       "      <td>24.247228</td>\n",
       "      <td>0.0000</td>\n",
       "      <td>0.000000</td>\n",
       "      <td>...</td>\n",
       "      <td>24.538282</td>\n",
       "      <td>25.215578</td>\n",
       "      <td>22.749671</td>\n",
       "      <td>22.749671</td>\n",
       "      <td>22.317813</td>\n",
       "      <td>22.221094</td>\n",
       "      <td>23.328987</td>\n",
       "      <td>0.000000</td>\n",
       "      <td>22.456702</td>\n",
       "      <td>21.768906</td>\n",
       "    </tr>\n",
       "    <tr>\n",
       "      <th>1</th>\n",
       "      <td>2</td>\n",
       "      <td>23.431350</td>\n",
       "      <td>23.855008</td>\n",
       "      <td>25.163000</td>\n",
       "      <td>20.497885</td>\n",
       "      <td>22.290092</td>\n",
       "      <td>22.562588</td>\n",
       "      <td>24.741413</td>\n",
       "      <td>0.0000</td>\n",
       "      <td>22.811523</td>\n",
       "      <td>...</td>\n",
       "      <td>26.359885</td>\n",
       "      <td>25.038670</td>\n",
       "      <td>21.441298</td>\n",
       "      <td>21.441298</td>\n",
       "      <td>21.962910</td>\n",
       "      <td>21.529119</td>\n",
       "      <td>23.492772</td>\n",
       "      <td>24.183640</td>\n",
       "      <td>23.315611</td>\n",
       "      <td>21.983355</td>\n",
       "    </tr>\n",
       "    <tr>\n",
       "      <th>2</th>\n",
       "      <td>3</td>\n",
       "      <td>23.818869</td>\n",
       "      <td>23.556743</td>\n",
       "      <td>24.302878</td>\n",
       "      <td>0.000000</td>\n",
       "      <td>22.526879</td>\n",
       "      <td>23.753607</td>\n",
       "      <td>24.887545</td>\n",
       "      <td>0.0000</td>\n",
       "      <td>22.444078</td>\n",
       "      <td>...</td>\n",
       "      <td>25.118189</td>\n",
       "      <td>24.861742</td>\n",
       "      <td>21.340937</td>\n",
       "      <td>21.340937</td>\n",
       "      <td>21.769380</td>\n",
       "      <td>20.849891</td>\n",
       "      <td>24.229602</td>\n",
       "      <td>23.956335</td>\n",
       "      <td>22.969231</td>\n",
       "      <td>21.334060</td>\n",
       "    </tr>\n",
       "    <tr>\n",
       "      <th>3</th>\n",
       "      <td>4</td>\n",
       "      <td>24.663614</td>\n",
       "      <td>23.268615</td>\n",
       "      <td>23.373746</td>\n",
       "      <td>20.229398</td>\n",
       "      <td>22.481854</td>\n",
       "      <td>22.999328</td>\n",
       "      <td>24.962125</td>\n",
       "      <td>0.0000</td>\n",
       "      <td>23.251262</td>\n",
       "      <td>...</td>\n",
       "      <td>24.360833</td>\n",
       "      <td>25.234163</td>\n",
       "      <td>22.078396</td>\n",
       "      <td>22.078396</td>\n",
       "      <td>21.959567</td>\n",
       "      <td>21.186336</td>\n",
       "      <td>24.292432</td>\n",
       "      <td>24.957961</td>\n",
       "      <td>23.130700</td>\n",
       "      <td>21.535055</td>\n",
       "    </tr>\n",
       "    <tr>\n",
       "      <th>4</th>\n",
       "      <td>5</td>\n",
       "      <td>25.841892</td>\n",
       "      <td>23.292207</td>\n",
       "      <td>25.212879</td>\n",
       "      <td>19.657019</td>\n",
       "      <td>22.256406</td>\n",
       "      <td>0.000000</td>\n",
       "      <td>24.968570</td>\n",
       "      <td>0.0000</td>\n",
       "      <td>23.171963</td>\n",
       "      <td>...</td>\n",
       "      <td>24.814502</td>\n",
       "      <td>25.077969</td>\n",
       "      <td>21.903039</td>\n",
       "      <td>21.903039</td>\n",
       "      <td>22.478499</td>\n",
       "      <td>22.932595</td>\n",
       "      <td>0.000000</td>\n",
       "      <td>24.583701</td>\n",
       "      <td>22.898822</td>\n",
       "      <td>21.910215</td>\n",
       "    </tr>\n",
       "    <tr>\n",
       "      <th>5</th>\n",
       "      <td>6</td>\n",
       "      <td>26.660822</td>\n",
       "      <td>23.187627</td>\n",
       "      <td>24.206135</td>\n",
       "      <td>22.220108</td>\n",
       "      <td>22.586482</td>\n",
       "      <td>23.277052</td>\n",
       "      <td>23.869263</td>\n",
       "      <td>20.9558</td>\n",
       "      <td>22.948816</td>\n",
       "      <td>...</td>\n",
       "      <td>24.518964</td>\n",
       "      <td>25.766842</td>\n",
       "      <td>21.794307</td>\n",
       "      <td>21.794307</td>\n",
       "      <td>22.605260</td>\n",
       "      <td>23.065986</td>\n",
       "      <td>24.661972</td>\n",
       "      <td>25.067775</td>\n",
       "      <td>22.797397</td>\n",
       "      <td>21.320761</td>\n",
       "    </tr>\n",
       "  </tbody>\n",
       "</table>\n",
       "<p>6 rows × 246 columns</p>\n",
       "</div>"
      ],
      "text/plain": [
       "   Unnamed: 0  AT1G04530.1_T36_1  AT1G08680.5_S196_1  AT1G08820.5_S130_2  \\\n",
       "0           1          23.900808           23.732321           24.414704   \n",
       "1           2          23.431350           23.855008           25.163000   \n",
       "2           3          23.818869           23.556743           24.302878   \n",
       "3           4          24.663614           23.268615           23.373746   \n",
       "4           5          25.841892           23.292207           25.212879   \n",
       "5           6          26.660822           23.187627           24.206135   \n",
       "\n",
       "   AT1G10940.1_S357_1  AT1G11310.3_S503_1  AT1G11480.2_S343_1  \\\n",
       "0           19.667867           23.496779            0.000000   \n",
       "1           20.497885           22.290092           22.562588   \n",
       "2            0.000000           22.526879           23.753607   \n",
       "3           20.229398           22.481854           22.999328   \n",
       "4           19.657019           22.256406            0.000000   \n",
       "5           22.220108           22.586482           23.277052   \n",
       "\n",
       "   AT1G12830.1_S46_1  AT1G13020.1_S436_1  AT1G13980.2_S961_1  ...  \\\n",
       "0          24.247228              0.0000            0.000000  ...   \n",
       "1          24.741413              0.0000           22.811523  ...   \n",
       "2          24.887545              0.0000           22.444078  ...   \n",
       "3          24.962125              0.0000           23.251262  ...   \n",
       "4          24.968570              0.0000           23.171963  ...   \n",
       "5          23.869263             20.9558           22.948816  ...   \n",
       "\n",
       "   AT5G54900.1_S332_1  AT5G56030.1_S288_1  AT5G56340.1_S150_2  \\\n",
       "0           24.538282           25.215578           22.749671   \n",
       "1           26.359885           25.038670           21.441298   \n",
       "2           25.118189           24.861742           21.340937   \n",
       "3           24.360833           25.234163           22.078396   \n",
       "4           24.814502           25.077969           21.903039   \n",
       "5           24.518964           25.766842           21.794307   \n",
       "\n",
       "   AT5G56340.1_S151_2  AT5G56980.1_S120_1  AT5G57870.1_S487_1  \\\n",
       "0           22.749671           22.317813           22.221094   \n",
       "1           21.441298           21.962910           21.529119   \n",
       "2           21.340937           21.769380           20.849891   \n",
       "3           22.078396           21.959567           21.186336   \n",
       "4           21.903039           22.478499           22.932595   \n",
       "5           21.794307           22.605260           23.065986   \n",
       "\n",
       "   AT5G58140.4_S30_1  AT5G64740.1_S136_1  AT5G67200.1_S371_1  \\\n",
       "0          23.328987            0.000000           22.456702   \n",
       "1          23.492772           24.183640           23.315611   \n",
       "2          24.229602           23.956335           22.969231   \n",
       "3          24.292432           24.957961           23.130700   \n",
       "4           0.000000           24.583701           22.898822   \n",
       "5          24.661972           25.067775           22.797397   \n",
       "\n",
       "   ATCG00490.1_S208_1  \n",
       "0           21.768906  \n",
       "1           21.983355  \n",
       "2           21.334060  \n",
       "3           21.535055  \n",
       "4           21.910215  \n",
       "5           21.320761  \n",
       "\n",
       "[6 rows x 246 columns]"
      ]
     },
     "execution_count": 81,
     "metadata": {},
     "output_type": "execute_result"
    }
   ],
   "source": [
    "dfb"
   ]
  },
  {
   "cell_type": "code",
   "execution_count": 82,
   "metadata": {},
   "outputs": [],
   "source": [
    "df = dfa.copy()"
   ]
  },
  {
   "cell_type": "code",
   "execution_count": 83,
   "metadata": {},
   "outputs": [
    {
     "name": "stderr",
     "output_type": "stream",
     "text": [
      "C:\\Users\\Fin Amin\\AppData\\Local\\Temp\\ipykernel_5004\\700533074.py:1: FutureWarning: The frame.append method is deprecated and will be removed from pandas in a future version. Use pandas.concat instead.\n",
      "  df1 = df.append(dfb, ignore_index = True)\n"
     ]
    }
   ],
   "source": [
    "df1 = df.append(dfb, ignore_index = True)"
   ]
  },
  {
   "cell_type": "code",
   "execution_count": 84,
   "metadata": {},
   "outputs": [
    {
     "name": "stderr",
     "output_type": "stream",
     "text": [
      "C:\\Users\\Fin Amin\\AppData\\Local\\Temp\\ipykernel_5004\\1075720041.py:1: FutureWarning: The frame.append method is deprecated and will be removed from pandas in a future version. Use pandas.concat instead.\n",
      "  df2 = df1.append(dfc, ignore_index = True)\n"
     ]
    }
   ],
   "source": [
    "df2 = df1.append(dfc, ignore_index = True)"
   ]
  },
  {
   "cell_type": "code",
   "execution_count": 85,
   "metadata": {},
   "outputs": [
    {
     "name": "stderr",
     "output_type": "stream",
     "text": [
      "C:\\Users\\Fin Amin\\AppData\\Local\\Temp\\ipykernel_5004\\1689302182.py:1: FutureWarning: The frame.append method is deprecated and will be removed from pandas in a future version. Use pandas.concat instead.\n",
      "  df3 = df2.append(dfd, ignore_index = True)\n"
     ]
    }
   ],
   "source": [
    "df3 = df2.append(dfd, ignore_index = True)"
   ]
  },
  {
   "cell_type": "code",
   "execution_count": 86,
   "metadata": {},
   "outputs": [],
   "source": [
    "df3 = df3.drop(\"Unnamed: 0\", axis = 1)"
   ]
  },
  {
   "cell_type": "code",
   "execution_count": 87,
   "metadata": {},
   "outputs": [],
   "source": [
    "df3.replace(0, np.NaN, inplace = True)"
   ]
  },
  {
   "cell_type": "code",
   "execution_count": 88,
   "metadata": {},
   "outputs": [
    {
     "data": {
      "text/plain": [
       "1.3355451957558528"
      ]
     },
     "execution_count": 88,
     "metadata": {},
     "output_type": "execute_result"
    }
   ],
   "source": [
    "std = df3.stack().std(skipna = True)\n",
    "std"
   ]
  },
  {
   "cell_type": "code",
   "execution_count": 89,
   "metadata": {},
   "outputs": [
    {
     "data": {
      "text/plain": [
       "23.183590945520706"
      ]
     },
     "execution_count": 89,
     "metadata": {},
     "output_type": "execute_result"
    }
   ],
   "source": [
    "mean = df3.stack().mean(skipna = True)\n",
    "mean"
   ]
  },
  {
   "cell_type": "code",
   "execution_count": 90,
   "metadata": {},
   "outputs": [],
   "source": [
    "mean_df = df3 - mean"
   ]
  },
  {
   "cell_type": "code",
   "execution_count": 91,
   "metadata": {},
   "outputs": [],
   "source": [
    "std_df = mean_df.div(std)"
   ]
  },
  {
   "cell_type": "code",
   "execution_count": 92,
   "metadata": {},
   "outputs": [],
   "source": [
    "maxx = max(std_df.max(axis = 1, skipna = True))"
   ]
  },
  {
   "cell_type": "code",
   "execution_count": 93,
   "metadata": {},
   "outputs": [],
   "source": [
    "minn = min(std_df.min(axis = 1, skipna = True))"
   ]
  },
  {
   "cell_type": "code",
   "execution_count": 94,
   "metadata": {},
   "outputs": [
    {
     "data": {
      "text/plain": [
       "8.121267677400851"
      ]
     },
     "execution_count": 94,
     "metadata": {},
     "output_type": "execute_result"
    }
   ],
   "source": [
    "diff = maxx - minn\n",
    "diff"
   ]
  },
  {
   "cell_type": "code",
   "execution_count": 95,
   "metadata": {},
   "outputs": [],
   "source": [
    "min_df = std_df - minn\n",
    "# min_df"
   ]
  },
  {
   "cell_type": "code",
   "execution_count": 96,
   "metadata": {},
   "outputs": [],
   "source": [
    "min_max_df = min_df.div(diff)\n",
    "# min_max_df"
   ]
  },
  {
   "cell_type": "code",
   "execution_count": 97,
   "metadata": {},
   "outputs": [],
   "source": [
    "min_max_df.replace(np.NaN, -1, inplace = True)\n",
    "# min_max_df"
   ]
  },
  {
   "cell_type": "code",
   "execution_count": 98,
   "metadata": {},
   "outputs": [
    {
     "data": {
      "text/plain": [
       "(24, 245)"
      ]
     },
     "execution_count": 98,
     "metadata": {},
     "output_type": "execute_result"
    }
   ],
   "source": [
    "min_max_df.shape"
   ]
  },
  {
   "cell_type": "code",
   "execution_count": 99,
   "metadata": {},
   "outputs": [
    {
     "data": {
      "text/plain": [
       "AT1G04530.1_T36_1     float64\n",
       "AT1G08680.5_S196_1    float64\n",
       "AT1G08820.5_S130_2    float64\n",
       "AT1G10940.1_S357_1    float64\n",
       "AT1G11310.3_S503_1    float64\n",
       "                       ...   \n",
       "AT5G57870.1_S487_1    float64\n",
       "AT5G58140.4_S30_1     float64\n",
       "AT5G64740.1_S136_1    float64\n",
       "AT5G67200.1_S371_1    float64\n",
       "ATCG00490.1_S208_1    float64\n",
       "Length: 245, dtype: object"
      ]
     },
     "execution_count": 99,
     "metadata": {},
     "output_type": "execute_result"
    }
   ],
   "source": [
    "min_max_df.dtypes"
   ]
  },
  {
   "cell_type": "code",
   "execution_count": 100,
   "metadata": {},
   "outputs": [],
   "source": [
    "min_max_df = min_max_df.astype(np.float32)\n"
   ]
  },
  {
   "cell_type": "code",
   "execution_count": 106,
   "metadata": {},
   "outputs": [],
   "source": [
    "df_repa = min_max_df[0:6].to_numpy()\n",
    "df_repb = min_max_df[6:12].to_numpy()\n",
    "df_repc = min_max_df[12:18].to_numpy()\n",
    "df_repd = min_max_df[18:24].to_numpy()\n"
   ]
  },
  {
   "cell_type": "code",
   "execution_count": 110,
   "metadata": {},
   "outputs": [],
   "source": [
    "np.save(\"Col0-tot3_Tot3_rep_A_Normalized.npy\", df_repa)\n",
    "np.save(\"Col0-tot3_Tot3_rep_B_Normalized.npy\", df_repb)\n",
    "np.save(\"Col0-tot3_Tot3_rep_C_Normalized.npy\", df_repc)\n",
    "np.save(\"Col0-tot3_Tot3_rep_D_Normalized.npy\", df_repd)"
   ]
  },
  {
   "cell_type": "code",
   "execution_count": null,
   "metadata": {},
   "outputs": [],
   "source": []
  }
 ],
 "metadata": {
  "kernelspec": {
   "display_name": "Python 3 (ipykernel)",
   "language": "python",
   "name": "python3"
  },
  "language_info": {
   "codemirror_mode": {
    "name": "ipython",
    "version": 3
   },
   "file_extension": ".py",
   "mimetype": "text/x-python",
   "name": "python",
   "nbconvert_exporter": "python",
   "pygments_lexer": "ipython3",
   "version": "3.9.12"
  }
 },
 "nbformat": 4,
 "nbformat_minor": 4
}
