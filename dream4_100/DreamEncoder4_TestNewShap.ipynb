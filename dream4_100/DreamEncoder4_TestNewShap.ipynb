{
 "cells": [
  {
   "cell_type": "code",
   "execution_count": 1,
   "metadata": {},
   "outputs": [],
   "source": [
    "#!pip install synapseclient"
   ]
  },
  {
   "cell_type": "code",
   "execution_count": 2,
   "metadata": {},
   "outputs": [],
   "source": [
    "#!pip install synapseutils"
   ]
  },
  {
   "cell_type": "code",
   "execution_count": 3,
   "metadata": {},
   "outputs": [],
   "source": [
    "#  import synapseclient \n",
    "#  import synapseutils \n",
    " \n",
    "#  syn = synapseclient.Synapse() \n",
    "#  syn.login('finamintoastcrunch','1Hjldria!') \n",
    "#  files = synapseutils.syncFromSynapse(syn, ' syn2825306 ') "
   ]
  },
  {
   "cell_type": "code",
   "execution_count": 4,
   "metadata": {},
   "outputs": [],
   "source": [
    "# !pip install -q tensorflow-model-optimization"
   ]
  },
  {
   "attachments": {},
   "cell_type": "markdown",
   "metadata": {},
   "source": [
    "# Import Libraries"
   ]
  },
  {
   "cell_type": "code",
   "execution_count": 5,
   "metadata": {
    "id": "qTo_HuQkGgAq"
   },
   "outputs": [],
   "source": [
    "import tensorflow as tf\n",
    "from tensorflow import keras\n",
    "from datetime import datetime\n",
    "import numpy as np\n",
    "import pandas as pd\n",
    "import matplotlib.pyplot as plt\n",
    "\n",
    "from tensorflow.keras.layers import*\n",
    "from keras.utils.vis_utils import plot_model\n",
    "import tensorflow.keras.backend as K\n",
    "# from keras.layers import Input\n",
    "# from keras.layers import Dense\n",
    "# from keras.layers import Conv1D\n",
    "# from keras.layers import Conv1DTranspose\n",
    "# from keras.layers import Flatten, Reshape\n",
    "\n",
    "import os\n",
    "from glob import glob\n",
    "from tqdm import tqdm\n",
    "from tensorflow.keras import losses\n",
    "from sklearn.preprocessing import StandardScaler\n",
    "import tensorflow_model_optimization as tfmot\n",
    "from sklearn.preprocessing import MinMaxScaler"
   ]
  },
  {
   "cell_type": "code",
   "execution_count": 6,
   "metadata": {},
   "outputs": [],
   "source": [
    "import numpy as np\n",
    "from sklearn.datasets import load_breast_cancer\n",
    "from sklearn.model_selection import train_test_split\n",
    "\n",
    "from sklearn.ensemble import RandomForestClassifier\n",
    "from sklearn.decomposition import PCA\n",
    "from sklearn.pipeline import Pipeline\n",
    "\n",
    "import warnings\n",
    "\n",
    "# from interpret import show\n",
    "# from interpret.blackbox import ShapKernel\n",
    "import shap\n",
    "\n",
    "seed = 42\n",
    "np.random.seed(seed)\n",
    "X, y = load_breast_cancer(return_X_y=True, as_frame=True)\n",
    "X_train, X_test, y_train, y_test = train_test_split(X, y, test_size=0.20, random_state=seed)\n"
   ]
  },
  {
   "cell_type": "code",
   "execution_count": 7,
   "metadata": {},
   "outputs": [
    {
     "data": {
      "text/plain": [
       "(455, 30)"
      ]
     },
     "execution_count": 7,
     "metadata": {},
     "output_type": "execute_result"
    }
   ],
   "source": [
    "X_train.shape"
   ]
  },
  {
   "cell_type": "code",
   "execution_count": 8,
   "metadata": {},
   "outputs": [
    {
     "data": {
      "text/plain": [
       "(455,)"
      ]
     },
     "execution_count": 8,
     "metadata": {},
     "output_type": "execute_result"
    }
   ],
   "source": [
    "y_train.shape"
   ]
  },
  {
   "cell_type": "code",
   "execution_count": 9,
   "metadata": {},
   "outputs": [],
   "source": [
    "\n",
    "# pca = PCA()\n",
    "# rf = RandomForestClassifier(n_estimators=100, n_jobs=-1, random_state=seed)\n",
    "\n",
    "# blackbox_model = Pipeline([('pca', pca), ('rf', rf)])\n",
    "# blackbox_model.fit(X_train, y_train)\n",
    "\n",
    "# shap = ShapKernel(blackbox_model.predict_proba, X_train)\n",
    "# with warnings.catch_warnings():\n",
    "#     warnings.filterwarnings(\"ignore\")\n",
    "#     shap_local = shap.explain_local(X_test[:5], y_test[:5])\n",
    "\n",
    "# show(shap_local, 0)"
   ]
  },
  {
   "cell_type": "code",
   "execution_count": 10,
   "metadata": {},
   "outputs": [],
   "source": [
    "df = pd.DataFrame"
   ]
  },
  {
   "cell_type": "code",
   "execution_count": null,
   "metadata": {},
   "outputs": [],
   "source": []
  },
  {
   "cell_type": "code",
   "execution_count": 11,
   "metadata": {},
   "outputs": [
    {
     "data": {
      "text/plain": [
       "[PhysicalDevice(name='/physical_device:GPU:0', device_type='GPU')]"
      ]
     },
     "execution_count": 11,
     "metadata": {},
     "output_type": "execute_result"
    }
   ],
   "source": [
    "tf.config.list_physical_devices(\n",
    "    device_type=None\n",
    ")\n",
    "tf.config.list_physical_devices('GPU')"
   ]
  },
  {
   "cell_type": "code",
   "execution_count": 12,
   "metadata": {},
   "outputs": [
    {
     "data": {
      "text/plain": [
       "True"
      ]
     },
     "execution_count": 12,
     "metadata": {},
     "output_type": "execute_result"
    }
   ],
   "source": [
    "isEager = tf.executing_eagerly()\n",
    "isEager"
   ]
  },
  {
   "cell_type": "code",
   "execution_count": 13,
   "metadata": {},
   "outputs": [],
   "source": [
    "import warnings\n",
    "warnings.filterwarnings('ignore')"
   ]
  },
  {
   "cell_type": "code",
   "execution_count": 14,
   "metadata": {},
   "outputs": [],
   "source": [
    "import matplotlib.pylab as pylab\n",
    "params = {'legend.fontsize': 'x-large',\n",
    "          'figure.figsize': (15, 5),\n",
    "         'axes.labelsize': 'x-large',\n",
    "         'axes.titlesize':'x-large',\n",
    "         'xtick.labelsize':'x-large',\n",
    "         'ytick.labelsize':'x-large'}\n",
    "pylab.rcParams.update(params)"
   ]
  },
  {
   "cell_type": "code",
   "execution_count": 15,
   "metadata": {},
   "outputs": [
    {
     "name": "stdout",
     "output_type": "stream",
     "text": [
      "1 Physical GPUs, 1 Logical GPUs\n"
     ]
    }
   ],
   "source": [
    "gpus = tf.config.list_physical_devices('GPU')\n",
    "if gpus:\n",
    "  try:\n",
    "    # Currently, memory growth needs to be the same across GPUs\n",
    "    for gpu in gpus:\n",
    "      tf.config.experimental.set_memory_growth(gpu, True)\n",
    "    logical_gpus = tf.config.list_logical_devices('GPU')\n",
    "    print(len(gpus), \"Physical GPUs,\", len(logical_gpus), \"Logical GPUs\")\n",
    "  except RuntimeError as e:\n",
    "    # Memory growth must be set before GPUs have been initialized\n",
    "    print(e)"
   ]
  },
  {
   "cell_type": "code",
   "execution_count": 16,
   "metadata": {},
   "outputs": [],
   "source": [
    "NUM_PARENTS = 41\n",
    "NUM_TARGETS = 100\n",
    "NUM_TIME_STEPS = 21\n",
    "NUM_REPLICATES = 10 "
   ]
  },
  {
   "cell_type": "code",
   "execution_count": 17,
   "metadata": {
    "id": "gXpISOijEYqQ"
   },
   "outputs": [],
   "source": [
    "\n",
    "# matrix_path = \"regulator-gene-matrix.csv\"\n",
    "# data_path_syn = r\"C:\\Users\\Fin Amin\\Desktop\\StemCellResearch\\Fin_preProcessed\\synData\"\n",
    "# data_path_inter =  r\"C:\\Users\\Fin Amin\\Desktop\\StemCellResearch\\Fin_preProcessed\\interpolatedOnly\"\n",
    "# data_path_og_exp1 = r\"C:\\Users\\Fin Amin\\Desktop\\StemCellResearch\\Fin_preProcessed\\datasets\\exp1\"\n",
    "# data_path_testSet = r\"C:\\Users\\Fin Amin\\Desktop\\StemCellResearch\\testSetFixed\"\n",
    "# data_path_petal = r\"C:\\Users\\Fin Amin\\Desktop\\StemCellResearch\\petal_len.xlsx\""
   ]
  },
  {
   "cell_type": "code",
   "execution_count": 18,
   "metadata": {},
   "outputs": [],
   "source": [
    "# dirty_RGM = r'Regulations_Control_Altona.csv'\n",
    "dirty_regulations = r'insilico_size100_1_timeseries.csv'"
   ]
  },
  {
   "cell_type": "code",
   "execution_count": 19,
   "metadata": {},
   "outputs": [
    {
     "data": {
      "text/plain": [
       "(10, 21, 100)"
      ]
     },
     "execution_count": 19,
     "metadata": {},
     "output_type": "execute_result"
    }
   ],
   "source": [
    "dirtyReg = pd.read_csv(dirty_regulations,  index_col = 0,)# on_bad_lines='skip')\n",
    "dirtyReg = dirtyReg.dropna(axis=0)\n",
    "dirtyReg = dirtyReg.select_dtypes(include=np.number)\n",
    "dirtyReg = dirtyReg.to_numpy() #reshape would not work in this case. \n",
    "\n",
    "dRegs = np.zeros(shape=(NUM_REPLICATES, NUM_TIME_STEPS, NUM_TARGETS), dtype=np.float)\n",
    "for i in range(NUM_REPLICATES):\n",
    "    dRegs[i] = dirtyReg[NUM_TIME_STEPS*i : NUM_TIME_STEPS*(i+1)]\n",
    "dRegs.shape"
   ]
  },
  {
   "cell_type": "code",
   "execution_count": null,
   "metadata": {},
   "outputs": [],
   "source": []
  },
  {
   "cell_type": "code",
   "execution_count": 20,
   "metadata": {},
   "outputs": [
    {
     "data": {
      "text/plain": [
       "(10, 21, 100)"
      ]
     },
     "execution_count": 20,
     "metadata": {},
     "output_type": "execute_result"
    }
   ],
   "source": [
    "\n",
    "def fix_dataset(dirtyR):\n",
    "    ds = dirtyR\n",
    "    ret = np.zeros(shape=(NUM_REPLICATES,NUM_TIME_STEPS, NUM_TARGETS))\n",
    "\n",
    "    # for i in range(0,NUM_REPLICATES*NUM_TIME_STEPS, 4):\n",
    "    #     for j in range(0, NUM_REPLICATES):\n",
    "    #         dataset[j][:,i//NUM_REPLICATES] = dirtyR[:,(i+j)]\n",
    "    \n",
    "    ds[ds==0.0] = np.nan #we do this so the scaling ignores 0.0 #CHECKED\n",
    "\n",
    "\n",
    "    for i in range(NUM_REPLICATES):\n",
    "        regScaled = StandardScaler().fit_transform(ds[i].flatten().reshape((-1,1)))\n",
    "        regScaled = MinMaxScaler().fit_transform(ds[i].flatten().reshape((-1,1))) #ignores np.nan\n",
    "        regScaled = regScaled.reshape((NUM_TARGETS, NUM_TIME_STEPS))\n",
    "        regScaled = np.nan_to_num(regScaled, nan= 0.0)\n",
    "        ret[i] = regScaled.T\n",
    "    return ret\n",
    "\n",
    "dataset = fix_dataset(dirtyR=dRegs)\n",
    "dataset.shape"
   ]
  },
  {
   "cell_type": "code",
   "execution_count": 21,
   "metadata": {},
   "outputs": [
    {
     "data": {
      "text/plain": [
       "array([[0.15300698, 0.17242697, 0.79758853, ..., 0.08191029, 0.12975706,\n",
       "        0.03934641],\n",
       "       [0.27451402, 0.22530717, 0.61496231, ..., 0.07429333, 0.2986516 ,\n",
       "        0.67589515],\n",
       "       [0.70780315, 0.16051352, 0.909139  , ..., 0.97443771, 0.01375137,\n",
       "        0.16942395],\n",
       "       ...,\n",
       "       [0.09252425, 0.74741258, 0.01219214, ..., 0.45413509, 0.03334866,\n",
       "        0.75625035],\n",
       "       [0.00253184, 0.09286092, 0.39454038, ..., 0.40550657, 0.12740767,\n",
       "        0.63230157],\n",
       "       [0.06762939, 0.72373928, 0.69529719, ..., 0.28241947, 0.1940238 ,\n",
       "        0.72104984]])"
      ]
     },
     "execution_count": 21,
     "metadata": {},
     "output_type": "execute_result"
    }
   ],
   "source": [
    "dataset[0]"
   ]
  },
  {
   "cell_type": "code",
   "execution_count": 22,
   "metadata": {},
   "outputs": [
    {
     "name": "stdout",
     "output_type": "stream",
     "text": [
      "(8, 21, 100) (2, 21, 100) (10, 21, 100)\n"
     ]
    }
   ],
   "source": [
    "beanIntensities = dataset[0:8]\n",
    "validation = dataset[8:]\n",
    "allData = dataset\n",
    "print(beanIntensities.shape, validation.shape, allData.shape)"
   ]
  },
  {
   "cell_type": "code",
   "execution_count": 23,
   "metadata": {},
   "outputs": [],
   "source": [
    "#the third replicate is trash. we will not use it. \n",
    "# df(dataset[3]).head(11) "
   ]
  },
  {
   "cell_type": "code",
   "execution_count": 24,
   "metadata": {},
   "outputs": [],
   "source": [
    "# regulator_gene_matrix = np.load(\"soyBeanRGM.npy\")\n",
    "# regulator_gene_matrix = regulator_gene_matrix.astype('float32')\n",
    "# regulator_gene_matrix.shape"
   ]
  },
  {
   "cell_type": "markdown",
   "metadata": {},
   "source": [
    "# Load and Compare Gold Standard"
   ]
  },
  {
   "cell_type": "code",
   "execution_count": 25,
   "metadata": {},
   "outputs": [
    {
     "data": {
      "text/html": [
       "<div>\n",
       "<style scoped>\n",
       "    .dataframe tbody tr th:only-of-type {\n",
       "        vertical-align: middle;\n",
       "    }\n",
       "\n",
       "    .dataframe tbody tr th {\n",
       "        vertical-align: top;\n",
       "    }\n",
       "\n",
       "    .dataframe thead th {\n",
       "        text-align: right;\n",
       "    }\n",
       "</style>\n",
       "<table border=\"1\" class=\"dataframe\">\n",
       "  <thead>\n",
       "    <tr style=\"text-align: right;\">\n",
       "      <th></th>\n",
       "      <th>0</th>\n",
       "      <th>1</th>\n",
       "      <th>2</th>\n",
       "    </tr>\n",
       "  </thead>\n",
       "  <tbody>\n",
       "    <tr>\n",
       "      <th>0</th>\n",
       "      <td>G1</td>\n",
       "      <td>G2</td>\n",
       "      <td>1</td>\n",
       "    </tr>\n",
       "    <tr>\n",
       "      <th>1</th>\n",
       "      <td>G1</td>\n",
       "      <td>G3</td>\n",
       "      <td>1</td>\n",
       "    </tr>\n",
       "    <tr>\n",
       "      <th>2</th>\n",
       "      <td>G1</td>\n",
       "      <td>G4</td>\n",
       "      <td>1</td>\n",
       "    </tr>\n",
       "    <tr>\n",
       "      <th>3</th>\n",
       "      <td>G5</td>\n",
       "      <td>G2</td>\n",
       "      <td>1</td>\n",
       "    </tr>\n",
       "    <tr>\n",
       "      <th>4</th>\n",
       "      <td>G5</td>\n",
       "      <td>G3</td>\n",
       "      <td>1</td>\n",
       "    </tr>\n",
       "  </tbody>\n",
       "</table>\n",
       "</div>"
      ],
      "text/plain": [
       "    0   1  2\n",
       "0  G1  G2  1\n",
       "1  G1  G3  1\n",
       "2  G1  G4  1\n",
       "3  G5  G2  1\n",
       "4  G5  G3  1"
      ]
     },
     "execution_count": 25,
     "metadata": {},
     "output_type": "execute_result"
    }
   ],
   "source": [
    "gold = pd.read_csv(\"DREAM4_GoldStandard_InSilico_Size100_1.csv\", header=None)\n",
    "gold.head(5)\n"
   ]
  },
  {
   "cell_type": "code",
   "execution_count": 26,
   "metadata": {},
   "outputs": [],
   "source": [
    "def keep_numeric(df):\n",
    "\n",
    "    return df.applymap(lambda x: ''.join(filter(str.isdigit, str(x))) if isinstance(x, (int,float)) else ''.join(filter(str.isdigit, x)) )\n",
    "gold = keep_numeric(gold)\n",
    "goldnp = np.array(gold, dtype = 'int')\n",
    "#subtract 1 from each index to match python index\n",
    "goldnp[:,0] = goldnp[:,0] - 1\n",
    "goldnp[:,1] = goldnp[:,1] - 1\n",
    "\n",
    "goldIm = np.zeros(shape=(NUM_TARGETS,NUM_TARGETS))\n",
    "\n",
    "for g in goldnp:\n",
    "    reg = g[0]\n",
    "    tar = g[1]\n",
    "    connection = g[2]\n",
    "    goldIm[reg][tar] = connection\n",
    "\n"
   ]
  },
  {
   "cell_type": "code",
   "execution_count": 27,
   "metadata": {},
   "outputs": [
    {
     "data": {
      "text/plain": [
       "<matplotlib.image.AxesImage at 0x292a0cb1280>"
      ]
     },
     "execution_count": 27,
     "metadata": {},
     "output_type": "execute_result"
    },
    {
     "data": {
      "image/png": "[encoded data removed]",
      "text/plain": [
       "<Figure size 1080x360 with 1 Axes>"
      ]
     },
     "metadata": {
      "needs_background": "light"
     },
     "output_type": "display_data"
    }
   ],
   "source": [
    "plt.imshow(goldIm)"
   ]
  },
  {
   "cell_type": "code",
   "execution_count": 28,
   "metadata": {},
   "outputs": [],
   "source": [
    "non_zero = np.nonzero(goldIm) #non-zero hold all the true connections\n",
    "#non_zero = np.array(np.unravel_index(non_zero, shape = (NUM_PARENTS, NUM_TARGETS)))"
   ]
  },
  {
   "attachments": {},
   "cell_type": "markdown",
   "metadata": {},
   "source": [
    "# RGM and RGM+"
   ]
  },
  {
   "cell_type": "code",
   "execution_count": 29,
   "metadata": {},
   "outputs": [
    {
     "name": "stdout",
     "output_type": "stream",
     "text": [
      "shape of parent index (41,)\n"
     ]
    }
   ],
   "source": [
    "regulator_gene_matrix = goldIm.astype(np.float32) #I set rgm to gold because I didnt not want ot re-write everything\n",
    "superParent = regulator_gene_matrix.copy()\n",
    "ones = np.ones((NUM_TARGETS))\n",
    "parentIndex = []\n",
    "not_parentIndex = []\n",
    "for i in range(len(regulator_gene_matrix)):\n",
    "    if (np.isin(regulator_gene_matrix[i], [1])).any():\n",
    "        #print(i)\n",
    "        superParent[i] = ones \n",
    "        parentIndex.append(i)\n",
    "    else:\n",
    "        not_parentIndex.append(i)\n",
    "\n",
    "parentIndex = np.array(parentIndex)\n",
    "parentIndex = tf.convert_to_tensor(parentIndex)\n",
    "parent_idx = parentIndex.numpy()\n",
    "not_parentIndex = np.array(not_parentIndex)\n",
    "not_parentIndex = tf.convert_to_tensor(not_parentIndex)\n",
    "print(\"shape of parent index\", parentIndex.shape)\n",
    "\n",
    "\n",
    "\n",
    "\n",
    "#the code below runs the experiment without any known regulators\n",
    "regulator_gene_matrix = np.ones((NUM_TARGETS,NUM_TARGETS), dtype='float32') #we keep this because we want to not mess with the weight init\n",
    "# superParent = np.ones((NUM_TARGETS, NUM_TARGETS), dtype = 'float32')\n",
    "# parentIndex = np.arange(stop=NUM_PARENTS)\n",
    "# parentIndex = tf.convert_to_tensor(parentIndex)\n",
    "# parent_idx = parentIndex.numpy()"
   ]
  },
  {
   "cell_type": "code",
   "execution_count": 30,
   "metadata": {},
   "outputs": [
    {
     "data": {
      "text/plain": [
       "<tf.Tensor: shape=(41,), dtype=int32, numpy=\n",
       "array([ 0,  4,  9, 14, 22, 24, 25, 35, 36, 37, 39, 41, 42, 43, 44, 45, 53,\n",
       "       54, 56, 61, 62, 63, 64, 65, 66, 68, 71, 72, 74, 81, 82, 84, 86, 89,\n",
       "       90, 91, 92, 95, 97, 98, 99])>"
      ]
     },
     "execution_count": 30,
     "metadata": {},
     "output_type": "execute_result"
    }
   ],
   "source": [
    "parentIndex"
   ]
  },
  {
   "cell_type": "code",
   "execution_count": 31,
   "metadata": {},
   "outputs": [
    {
     "data": {
      "image/png": "[encoded data removed]",
      "text/plain": [
       "<Figure size 1080x360 with 1 Axes>"
      ]
     },
     "metadata": {
      "needs_background": "light"
     },
     "output_type": "display_data"
    }
   ],
   "source": [
    "plt.imshow(superParent, cmap='hot');\n",
    "plt.xlabel(\"Substrate\");\n",
    "plt.ylabel(\"Regulator\");"
   ]
  },
  {
   "cell_type": "code",
   "execution_count": 32,
   "metadata": {},
   "outputs": [
    {
     "data": {
      "image/png": "[encoded data removed]",
      "text/plain": [
       "<Figure size 1080x360 with 1 Axes>"
      ]
     },
     "metadata": {
      "needs_background": "light"
     },
     "output_type": "display_data"
    }
   ],
   "source": [
    "plt.imshow(regulator_gene_matrix, cmap='hot');\n",
    "plt.xlabel(\"Substrate\");\n",
    "plt.ylabel(\"Regulator\");"
   ]
  },
  {
   "attachments": {},
   "cell_type": "markdown",
   "metadata": {},
   "source": [
    "# Custom Loss"
   ]
  },
  {
   "cell_type": "code",
   "execution_count": 33,
   "metadata": {},
   "outputs": [],
   "source": [
    "# superParent = regulator_gene_matrix.copy() #init the super parent with the ordinary RGM, and do forward passes with super parent\n",
    "# #print(superParent.shape)\n",
    "\n",
    "# ones = np.ones((NUM_TARGETS))\n",
    "# parentIndex = []\n",
    "# not_parentIndex = []\n",
    "# for i in range(len(regulator_gene_matrix)):\n",
    "#     if (np.isin(regulator_gene_matrix[i], [1])).any():\n",
    "#         #print(i)\n",
    "#         superParent[i] = ones \n",
    "#         parentIndex.append(i)\n",
    "#     else:\n",
    "#         not_parentIndex.append(i)\n",
    "\n",
    "# parentIndex = np.array(parentIndex)\n",
    "# parentIndex = tf.convert_to_tensor(parentIndex)\n",
    "# parent_idx = parentIndex.numpy()\n",
    "# not_parentIndex = np.array(not_parentIndex)\n",
    "# not_parentIndex = tf.convert_to_tensor(not_parentIndex)\n",
    "# print(\"shape of parent index\", parentIndex.shape)\n",
    "\n",
    "def ignore_noParent_MSE_old(y_true, y_pred): \n",
    "    l = tf.keras.losses.MeanSquaredError()\n",
    "    y_true_pruned = tf.gather(y_true,parentIndex, axis =2) \n",
    "    #print(y_true_pruned.shape\n",
    "    y_pred_pruned = tf.gather(y_pred, parentIndex, axis =2)   \n",
    "    return l(y_true_pruned, y_pred_pruned)\n",
    "\n",
    "#this will not work if the entire dataset is -1 (degenerate), or has only one actual value (also degen)\n",
    "def ignore_noParent_MSE(y_true, y_pred): \n",
    "    l = tf.keras.losses.MeanSquaredError()\n",
    "   # print(y_true.shape) #(None, 44, 372)\n",
    "\n",
    "    #get the parents and flatten them\n",
    "    y_true_pruned = tf.gather(y_true, parentIndex, axis = 2) #axis 2 because batch, time, gene\n",
    "    y_true_pruned = tf.reshape(y_true_pruned, shape=([tf.size(y_true_pruned)] ) )\n",
    "\n",
    "   # print(y_true_pruned.shape)\n",
    "   # print(\"tf size\", tf.size(y_true_pruned))\n",
    "\n",
    "    y_pred_pruned = tf.gather(y_pred, parentIndex, axis = 2) \n",
    "    y_pred_pruned = tf.reshape(y_pred_pruned, shape=([tf.size(y_pred_pruned)]) )\n",
    "\n",
    "    #get the index of the parents which are not -1\n",
    "    y_true_posID = tf.where(y_true_pruned >= 0) #gets args\n",
    "    y_true_posID = tf.squeeze(y_true_posID)\n",
    "    #get the idx of all the -1s \n",
    "    y_true_negID = tf.where(y_true_pruned < 0) \n",
    "    y_true_negID = tf.squeeze(y_true_negID)\n",
    "\n",
    "    #get all the -1s in the parents \n",
    "    y_true_neg = tf.gather(y_true_pruned, y_true_negID) #get all the -1s in y_true\n",
    "    y_pred_neg = tf.gather(y_pred_pruned, y_true_negID) #get the corresponding values for y_pred\n",
    "\n",
    "    #get the indexes where pred should be -1 but is not. get the corresponding index for ytrue\n",
    "    y_shouldBeNegButIsntID = tf.where(y_pred_neg >= 0)  \n",
    "    y_shouldBeNegButIsntID = tf.squeeze(y_shouldBeNegButIsntID) #get the idx which should be -1 for prediction but are not\n",
    "    y_true_wrong = tf.gather(y_true_pruned, y_shouldBeNegButIsntID) #get the same corresponding values from ytrue\n",
    "    y_shouldBeNegButIsnt = tf.gather(y_pred_pruned, y_shouldBeNegButIsntID) #this has all the wrongly predicted values which should be -1 but are not\n",
    "\n",
    "    y_true_pos = tf.gather(y_true_pruned, y_true_posID)\n",
    "    y_pred_pos = tf.gather(y_pred_pruned, y_true_posID)\n",
    "\n",
    "    if tf.size(y_shouldBeNegButIsnt) == 0: #we can not concatenate if the size is 0. \n",
    "        return l(y_true_pos, y_pred_pos)\n",
    "\n",
    "    if tf.size(y_shouldBeNegButIsnt) == 1: #dim goes away if size = 1. \n",
    "        y_shouldBeNegButIsnt = tf.expand_dims(y_shouldBeNegButIsnt, axis = 0) #should all be flattened\n",
    "        y_true_wrong = tf.expand_dims(y_true_wrong, axis=0)\n",
    "\n",
    "    #print(\"y_pred\", (y_pred_pos), \"y_true\", (y_shouldBeNegButIsnt))\n",
    "    try:\n",
    "        y_pred_total = tf.concat([y_pred_pos, y_shouldBeNegButIsnt], axis = 0) #concatenate for total mse\n",
    "        y_true_total = tf.concat([y_true_pos, y_true_wrong], axis = 0)\n",
    "    except Exception as e:\n",
    "        print(y_pred_pos.shape, y_shouldBeNegButIsnt.shape, tf.size(y_shouldBeNegButIsnt))\n",
    "        return l(y_true_pos, y_pred_pos)\n",
    "\n",
    "    return l(y_true_total, y_pred_total)"
   ]
  },
  {
   "cell_type": "code",
   "execution_count": 34,
   "metadata": {},
   "outputs": [
    {
     "data": {
      "text/plain": [
       "array([ 0,  4,  9, 14, 22, 24, 25, 35, 36, 37, 39, 41, 42, 43, 44, 45, 53,\n",
       "       54, 56, 61, 62, 63, 64, 65, 66, 68, 71, 72, 74, 81, 82, 84, 86, 89,\n",
       "       90, 91, 92, 95, 97, 98, 99])"
      ]
     },
     "execution_count": 34,
     "metadata": {},
     "output_type": "execute_result"
    }
   ],
   "source": [
    "parent_idx"
   ]
  },
  {
   "cell_type": "markdown",
   "metadata": {},
   "source": [
    "# Ordinary Auto Encoder"
   ]
  },
  {
   "cell_type": "code",
   "execution_count": 35,
   "metadata": {
    "id": "1yhzyikoFncq"
   },
   "outputs": [],
   "source": [
    "# class EncoderLinear(tf.keras.layers.Layer):\n",
    "#     def __init__(self, rgm, input_dim=32, units=32):\n",
    "#         super(EncoderLinear, self).__init__()\n",
    "#         self.rgm = rgm\n",
    "        \n",
    "#         def init_weights(shape, dtype=\"float32\"):\n",
    "\n",
    "#             w_init = tf.random_normal_initializer()(shape=shape, dtype=dtype) * tf.convert_to_tensor(self.rgm, dtype=dtype)\n",
    "\n",
    "#             return w_init\n",
    "        \n",
    "\n",
    "#         self.w = tf.Variable(\n",
    "#             initial_value=init_weights(shape=(input_dim, units), dtype=\"float32\"),\n",
    "#             trainable=True,\n",
    "#         )\n",
    "\n",
    "#     def call(self, inputs):\n",
    "#         X = inputs\n",
    "#         return tf.matmul(X, tf.multiply(self.rgm, self.w))\n",
    "    #tf.matmul(inputs, self.w)"
   ]
  },
  {
   "cell_type": "code",
   "execution_count": 36,
   "metadata": {
    "id": "4uchxU-bmBDe"
   },
   "outputs": [],
   "source": [
    "# class DecoderLinear(tf.keras.layers.Layer):\n",
    "#     def __init__(self, rgm, input_dim=32, units=32):\n",
    "#         super(DecoderLinear, self).__init__()\n",
    "#         self.rgm = rgm\n",
    "\n",
    "#         def init_weights(shape, dtype=\"float32\"):\n",
    "\n",
    "#             w_init = tf.random_normal_initializer()(shape=shape, dtype=dtype) * tf.transpose(tf.convert_to_tensor(self.rgm, dtype=dtype))\n",
    "\n",
    "#             return w_init\n",
    "    \n",
    "        \n",
    "#         self.w = tf.Variable(\n",
    "#             initial_value=init_weights(shape=(input_dim, units), dtype=\"float32\"),\n",
    "#             trainable=True,\n",
    "#         )\n",
    "\n",
    "#     def call(self, inputs):\n",
    "#         X = inputs\n",
    "#         #return tf.matmul(X, tf.multiply((self.rgm), self.w))\n",
    "#         X = tf.matmul(X, tf.multiply(tf.transpose(self.rgm), self.w)) \n",
    "#         #return tf.matmul(inputs, self.w)\n",
    "#         # v = tf.zeros_like(X)\n",
    "#         # u = tf.ones_like(X)\n",
    "#         # u = tf.math.scalar_mul(-3.0, u)\n",
    "        \n",
    "#         return X#tf.where(tf.math.less(X, v), u, X) #where X is less than 0, return -1 \n",
    "        \n",
    "        "
   ]
  },
  {
   "cell_type": "code",
   "execution_count": 37,
   "metadata": {
    "id": "PQVz4BCpmNMd"
   },
   "outputs": [],
   "source": [
    "# def encoder(parent_child_biological_association, num_hidden_units=21):\n",
    "#     '''\n",
    "#     Encoder structure\n",
    "#     '''\n",
    "#     '''\n",
    "#     The data is time-series. Therefore, CNN to learn the temporal relationship between \n",
    "#     the intensities for each gene.\n",
    "#     '''\n",
    "#     en_conv = Conv1D(490, 3, activation = \"relu\")(parent_child_biological_association) # 6*NUM_TARGETS Conv1D(32, 3, activation = \"relu\")(parent_child_biological_association)\n",
    "#     en_dense = Flatten()(en_conv)\n",
    "#     phenotype = Dense(num_hidden_units)(en_dense)\n",
    "#     return phenotype\n",
    "\n",
    "# def decoder(X, num_protein_gene, time_steps):\n",
    "#     '''\n",
    "#     Decoder structure\n",
    "#     '''\n",
    "#     de_dense = Dense(1024)(X)#Dense(128)(X)\n",
    "#     de_dense = Reshape((1, 1024))(de_dense) #tf.reshape(de_dense, (self.batch_size,1,128))\n",
    "#     de_deconv = Conv1DTranspose(num_protein_gene, time_steps, activation = \"relu\")(de_dense) #used to be transpose\n",
    "#     #de_deconv = Conv1D(num_protein_gene, time_steps, activation = \"relu\")(de_dense) \n",
    "#     # gene_reconstruction = self.decoder_biological_operation(de_deconv)\n",
    "#     return de_deconv\n",
    "\n",
    "# def model(rgm, num_protein_gene, time_steps, num_kinase_regulators, num_hidden_units = 32):\n",
    "#     inp = Input(shape=(time_steps, num_kinase_regulators))\n",
    "#     x = EncoderLinear(rgm, NUM_TARGETS, NUM_TARGETS)(inp)\n",
    "#     enc = encoder(x, num_hidden_units)\n",
    "#     dec = decoder(enc, num_protein_gene, time_steps)\n",
    "#     out = DecoderLinear(rgm, NUM_TARGETS, NUM_TARGETS)(dec)\n",
    "\n",
    "#     _model = tf.keras.Model(inputs=inp, outputs=out)\n",
    "\n",
    "#     return _model"
   ]
  },
  {
   "cell_type": "code",
   "execution_count": 38,
   "metadata": {},
   "outputs": [],
   "source": [
    "# ordinaryAE = model(regulator_gene_matrix, NUM_TARGETS, NUM_TIME_STEPS, NUM_TARGETS)\n",
    "# ordinaryAE.compile(optimizer='adam', loss=ignore_noParent_MSE)"
   ]
  },
  {
   "cell_type": "code",
   "execution_count": 39,
   "metadata": {},
   "outputs": [],
   "source": [
    "# o = ordinaryAE.fit(beanIntensities, beanIntensities, epochs=200, verbose = True, validation_data=(validation, validation))\n",
    "#print(o.history['loss'][-1]) #the final loss "
   ]
  },
  {
   "attachments": {},
   "cell_type": "markdown",
   "metadata": {},
   "source": [
    "# Super Parent AutoEncoder"
   ]
  },
  {
   "cell_type": "code",
   "execution_count": 40,
   "metadata": {},
   "outputs": [],
   "source": [
    "class EncoderLinearSuperParent(tf.keras.layers.Layer, tfmot.sparsity.keras.PrunableLayer):\n",
    "    def __init__(self, rgm, oldrgm, input_dim=32, units=32):\n",
    "        super(EncoderLinearSuperParent, self).__init__()\n",
    "        self.rgm = rgm\n",
    "        self.OGrgm = oldrgm\n",
    "\n",
    "\n",
    "        \n",
    "        def init_weights(shape, dtype=\"float32\"):\n",
    "\n",
    "            w_init = tf.random_normal_initializer()(shape=shape, dtype=dtype) * tf.convert_to_tensor(self.OGrgm, dtype=dtype)\n",
    "\n",
    "            return w_init\n",
    "        \n",
    "\n",
    "        self.w = tf.Variable(\n",
    "            initial_value=init_weights(shape=(input_dim, units), dtype=\"float32\"),\n",
    "            trainable=True,\n",
    "        )\n",
    "\n",
    "    def get_prunable_weights(self):\n",
    "        # Prune bias also, though that usually harms model accuracy too much.\n",
    "        return [self.w]\n",
    "\n",
    "    def call(self, inputs):\n",
    "        X = inputs\n",
    "        return tf.matmul(X, tf.multiply(self.rgm, self.w))\n",
    "    #tf.matmul(inputs, self.w)\n",
    "\n",
    "class DecoderLinearSuperParent(tf.keras.layers.Layer):\n",
    "    def __init__(self, rgm, oldrgm, input_dim=32, units=32):\n",
    "        super(DecoderLinearSuperParent, self).__init__()\n",
    "        self.rgm = rgm\n",
    "        self.OGrgm = oldrgm\n",
    "\n",
    "        def init_weights(shape, dtype=\"float32\"):\n",
    "\n",
    "            w_init = tf.random_normal_initializer()(shape=shape, dtype=dtype) * tf.transpose(tf.convert_to_tensor(self.rgm, dtype=dtype))\n",
    "\n",
    "            return w_init\n",
    "    \n",
    "        \n",
    "        self.w = tf.Variable(\n",
    "            initial_value=init_weights(shape=(input_dim, units), dtype=\"float32\"),\n",
    "            trainable=True,\n",
    "        )\n",
    "\n",
    "    def call(self, inputs):\n",
    "        X = inputs\n",
    "        #return tf.matmul(X, tf.multiply((self.rgm), self.w))\n",
    "        X = tf.matmul(X, tf.multiply(tf.transpose(self.rgm), self.w)) \n",
    "        #return tf.matmul(inputs, self.w)\n",
    "        # v = tf.zeros_like(X)\n",
    "        # u = tf.ones_like(X)\n",
    "        # u = tf.math.scalar_mul(-3.0, u)\n",
    "        \n",
    "        return X#tf.where(tf.math.less(X, v), u, X) #where X is less than 0, return -1 \n",
    "        \n",
    "        \n",
    "def encoder(parent_child_biological_association, num_hidden_units=21):\n",
    "    '''\n",
    "    Encoder structure\n",
    "    '''\n",
    "    '''\n",
    "    The data is time-series. Therefore, CNN to learn the temporal relationship between \n",
    "    the intensities for each gene.\n",
    "    '''\n",
    "    rnn = LSTM(units = num_hidden_units)(parent_child_biological_association)\n",
    "    en_conv = Conv1D(32, 3, activation = \"relu\")(parent_child_biological_association) # 6*NUM_TARGETS\n",
    "    en_dense = Flatten()(en_conv)\n",
    "    phenotype = Dense(num_hidden_units)(en_dense)\n",
    "    return phenotype\n",
    "\n",
    "def decoder(X, num_protein_gene, time_steps):\n",
    "    '''\n",
    "    Decoder structure\n",
    "    '''\n",
    "    de_dense = Dense(128)(X)\n",
    "    de_dense = Reshape((1, 128))(de_dense) #tf.reshape(de_dense, (self.batch_size,1,128))\n",
    "    de_deconv = Conv1DTranspose(num_protein_gene, time_steps, activation = \"relu\")(de_dense) #used to be transpose\n",
    "    #de_deconv = Conv1D(num_protein_gene, time_steps, activation = \"relu\")(de_dense) \n",
    "    # gene_reconstruction = self.decoder_biological_operation(de_deconv)\n",
    "    return de_deconv\n",
    "\n",
    "def modelSuperParent(rgm, oldRGM, num_protein_gene, time_steps, num_kinase_regulators, num_hidden_units = 21, sparsity = 0.0): #rgm is set to superparent, oldrgm is original rgm unmodified\n",
    "    inp = Input(shape=(time_steps, num_kinase_regulators))\n",
    "    x = tfmot.sparsity.keras.prune_low_magnitude(EncoderLinearSuperParent(rgm, oldRGM, NUM_TARGETS, NUM_TARGETS),\n",
    "                                                 pruning_schedule = tfmot.sparsity.keras.ConstantSparsity(sparsity, 0))(inp)\n",
    "    enc = encoder(x, num_hidden_units)\n",
    "    dec = decoder(enc, num_protein_gene, time_steps)\n",
    "    out = DecoderLinearSuperParent(rgm, oldRGM, NUM_TARGETS, NUM_TARGETS)(dec)\n",
    "\n",
    "    _model = tf.keras.Model(inputs=inp, outputs=out)\n",
    "\n",
    "    return _model"
   ]
  },
  {
   "cell_type": "code",
   "execution_count": 41,
   "metadata": {},
   "outputs": [],
   "source": [
    "def modelSuperParentSequential(rgm, oldRGM, num_protein_gene, time_steps, num_kinase_regulators, num_hidden_units = 21): #rgm is set to superparent, oldrgm is original rgm unmodified\n",
    "    m = tf.keras.Sequential()\n",
    "    inp = Input(shape=(time_steps, num_kinase_regulators))\n",
    "    x = EncoderLinearSuperParent(rgm, oldRGM, NUM_TARGETS, NUM_TARGETS)(inp)\n",
    "    enc = encoder(x, num_hidden_units)\n",
    "    dec = decoder(enc, num_protein_gene, time_steps)\n",
    "    out = DecoderLinearSuperParent(rgm, oldRGM, NUM_TARGETS, NUM_TARGETS)(dec)\n",
    "\n",
    "    _model = tf.keras.Model(inputs=inp, outputs=out)\n",
    "\n",
    "    return _model"
   ]
  },
  {
   "cell_type": "code",
   "execution_count": 42,
   "metadata": {},
   "outputs": [
    {
     "name": "stdout",
     "output_type": "stream",
     "text": [
      "Epoch 1/200\n",
      "1/1 [==============================] - 8s 8s/step - loss: 0.2220 - val_loss: 0.2030\n",
      "Epoch 2/200\n",
      "1/1 [==============================] - 0s 36ms/step - loss: 0.2193 - val_loss: 0.1996\n",
      "Epoch 3/200\n",
      "1/1 [==============================] - 0s 36ms/step - loss: 0.2151 - val_loss: 0.1925\n",
      "Epoch 4/200\n",
      "1/1 [==============================] - 0s 34ms/step - loss: 0.2069 - val_loss: 0.1803\n",
      "Epoch 5/200\n",
      "1/1 [==============================] - 0s 36ms/step - loss: 0.1927 - val_loss: 0.1611\n",
      "Epoch 6/200\n",
      "1/1 [==============================] - 0s 34ms/step - loss: 0.1708 - val_loss: 0.1345\n",
      "Epoch 7/200\n",
      "1/1 [==============================] - 0s 36ms/step - loss: 0.1409 - val_loss: 0.1054\n",
      "Epoch 8/200\n",
      "1/1 [==============================] - 0s 35ms/step - loss: 0.1087 - val_loss: 0.0913\n",
      "Epoch 9/200\n",
      "1/1 [==============================] - 0s 36ms/step - loss: 0.0939 - val_loss: 0.1001\n",
      "Epoch 10/200\n",
      "1/1 [==============================] - 0s 36ms/step - loss: 0.1045 - val_loss: 0.0860\n",
      "Epoch 11/200\n",
      "1/1 [==============================] - 0s 34ms/step - loss: 0.0888 - val_loss: 0.0656\n",
      "Epoch 12/200\n",
      "1/1 [==============================] - 0s 35ms/step - loss: 0.0654 - val_loss: 0.0552\n",
      "Epoch 13/200\n",
      "1/1 [==============================] - 0s 34ms/step - loss: 0.0531 - val_loss: 0.0534\n",
      "Epoch 14/200\n",
      "1/1 [==============================] - 0s 35ms/step - loss: 0.0505 - val_loss: 0.0533\n",
      "Epoch 15/200\n",
      "1/1 [==============================] - 0s 35ms/step - loss: 0.0500 - val_loss: 0.0510\n",
      "Epoch 16/200\n",
      "1/1 [==============================] - 0s 36ms/step - loss: 0.0473 - val_loss: 0.0466\n",
      "Epoch 17/200\n",
      "1/1 [==============================] - 0s 37ms/step - loss: 0.0425 - val_loss: 0.0421\n",
      "Epoch 18/200\n",
      "1/1 [==============================] - 0s 36ms/step - loss: 0.0378 - val_loss: 0.0401\n",
      "Epoch 19/200\n",
      "1/1 [==============================] - 0s 36ms/step - loss: 0.0361 - val_loss: 0.0408\n",
      "Epoch 20/200\n",
      "1/1 [==============================] - 0s 34ms/step - loss: 0.0373 - val_loss: 0.0412\n",
      "Epoch 21/200\n",
      "1/1 [==============================] - 0s 32ms/step - loss: 0.0378 - val_loss: 0.0391\n",
      "Epoch 22/200\n",
      "1/1 [==============================] - 0s 35ms/step - loss: 0.0351 - val_loss: 0.0362\n",
      "Epoch 23/200\n",
      "1/1 [==============================] - 0s 32ms/step - loss: 0.0312 - val_loss: 0.0348\n",
      "Epoch 24/200\n",
      "1/1 [==============================] - 0s 34ms/step - loss: 0.0290 - val_loss: 0.0349\n",
      "Epoch 25/200\n",
      "1/1 [==============================] - 0s 33ms/step - loss: 0.0286 - val_loss: 0.0351\n",
      "Epoch 26/200\n",
      "1/1 [==============================] - 0s 35ms/step - loss: 0.0286 - val_loss: 0.0345\n",
      "Epoch 27/200\n",
      "1/1 [==============================] - 0s 33ms/step - loss: 0.0276 - val_loss: 0.0329\n",
      "Epoch 28/200\n",
      "1/1 [==============================] - 0s 32ms/step - loss: 0.0259 - val_loss: 0.0312\n",
      "Epoch 29/200\n",
      "1/1 [==============================] - 0s 36ms/step - loss: 0.0241 - val_loss: 0.0303\n",
      "Epoch 30/200\n",
      "1/1 [==============================] - 0s 41ms/step - loss: 0.0232 - val_loss: 0.0301\n",
      "Epoch 31/200\n",
      "1/1 [==============================] - 0s 36ms/step - loss: 0.0232 - val_loss: 0.0299\n",
      "Epoch 32/200\n",
      "1/1 [==============================] - 0s 32ms/step - loss: 0.0230 - val_loss: 0.0292\n",
      "Epoch 33/200\n",
      "1/1 [==============================] - 0s 35ms/step - loss: 0.0219 - val_loss: 0.0283\n",
      "Epoch 34/200\n",
      "1/1 [==============================] - 0s 34ms/step - loss: 0.0206 - val_loss: 0.0278\n",
      "Epoch 35/200\n",
      "1/1 [==============================] - 0s 39ms/step - loss: 0.0198 - val_loss: 0.0279\n",
      "Epoch 36/200\n",
      "1/1 [==============================] - 0s 34ms/step - loss: 0.0196 - val_loss: 0.0280\n",
      "Epoch 37/200\n",
      "1/1 [==============================] - 0s 33ms/step - loss: 0.0195 - val_loss: 0.0277\n",
      "Epoch 38/200\n",
      "1/1 [==============================] - 0s 35ms/step - loss: 0.0191 - val_loss: 0.0270\n",
      "Epoch 39/200\n",
      "1/1 [==============================] - 0s 33ms/step - loss: 0.0184 - val_loss: 0.0264\n",
      "Epoch 40/200\n",
      "1/1 [==============================] - 0s 34ms/step - loss: 0.0178 - val_loss: 0.0261\n",
      "Epoch 41/200\n",
      "1/1 [==============================] - 0s 34ms/step - loss: 0.0175 - val_loss: 0.0260\n",
      "Epoch 42/200\n",
      "1/1 [==============================] - 0s 33ms/step - loss: 0.0175 - val_loss: 0.0258\n",
      "Epoch 43/200\n",
      "1/1 [==============================] - 0s 35ms/step - loss: 0.0172 - val_loss: 0.0255\n",
      "Epoch 44/200\n",
      "1/1 [==============================] - 0s 38ms/step - loss: 0.0167 - val_loss: 0.0253\n",
      "Epoch 45/200\n",
      "1/1 [==============================] - 0s 41ms/step - loss: 0.0163 - val_loss: 0.0252\n",
      "Epoch 46/200\n",
      "1/1 [==============================] - 0s 38ms/step - loss: 0.0161 - val_loss: 0.0252\n",
      "Epoch 47/200\n",
      "1/1 [==============================] - 0s 34ms/step - loss: 0.0160 - val_loss: 0.0251\n",
      "Epoch 48/200\n",
      "1/1 [==============================] - 0s 38ms/step - loss: 0.0158 - val_loss: 0.0248\n",
      "Epoch 49/200\n",
      "1/1 [==============================] - 0s 35ms/step - loss: 0.0155 - val_loss: 0.0245\n",
      "Epoch 50/200\n",
      "1/1 [==============================] - 0s 35ms/step - loss: 0.0152 - val_loss: 0.0243\n",
      "Epoch 51/200\n",
      "1/1 [==============================] - 0s 32ms/step - loss: 0.0151 - val_loss: 0.0242\n",
      "Epoch 52/200\n",
      "1/1 [==============================] - 0s 33ms/step - loss: 0.0150 - val_loss: 0.0241\n",
      "Epoch 53/200\n",
      "1/1 [==============================] - 0s 35ms/step - loss: 0.0149 - val_loss: 0.0240\n",
      "Epoch 54/200\n",
      "1/1 [==============================] - 0s 39ms/step - loss: 0.0147 - val_loss: 0.0239\n",
      "Epoch 55/200\n",
      "1/1 [==============================] - 0s 37ms/step - loss: 0.0145 - val_loss: 0.0240\n",
      "Epoch 56/200\n",
      "1/1 [==============================] - 0s 38ms/step - loss: 0.0145 - val_loss: 0.0240\n",
      "Epoch 57/200\n",
      "1/1 [==============================] - 0s 35ms/step - loss: 0.0144 - val_loss: 0.0239\n",
      "Epoch 58/200\n",
      "1/1 [==============================] - 0s 42ms/step - loss: 0.0143 - val_loss: 0.0238\n",
      "Epoch 59/200\n",
      "1/1 [==============================] - 0s 42ms/step - loss: 0.0142 - val_loss: 0.0237\n",
      "Epoch 60/200\n",
      "1/1 [==============================] - 0s 39ms/step - loss: 0.0141 - val_loss: 0.0236\n",
      "Epoch 61/200\n",
      "1/1 [==============================] - 0s 32ms/step - loss: 0.0140 - val_loss: 0.0236\n",
      "Epoch 62/200\n",
      "1/1 [==============================] - 0s 35ms/step - loss: 0.0140 - val_loss: 0.0235\n",
      "Epoch 63/200\n",
      "1/1 [==============================] - 0s 36ms/step - loss: 0.0139 - val_loss: 0.0235\n",
      "Epoch 64/200\n",
      "1/1 [==============================] - 0s 39ms/step - loss: 0.0139 - val_loss: 0.0235\n",
      "Epoch 65/200\n",
      "1/1 [==============================] - 0s 36ms/step - loss: 0.0138 - val_loss: 0.0236\n",
      "Epoch 66/200\n",
      "1/1 [==============================] - 0s 33ms/step - loss: 0.0138 - val_loss: 0.0236\n",
      "Epoch 67/200\n",
      "1/1 [==============================] - 0s 34ms/step - loss: 0.0137 - val_loss: 0.0236\n",
      "Epoch 68/200\n",
      "1/1 [==============================] - 0s 35ms/step - loss: 0.0137 - val_loss: 0.0235\n",
      "Epoch 69/200\n",
      "1/1 [==============================] - 0s 34ms/step - loss: 0.0136 - val_loss: 0.0234\n",
      "Epoch 70/200\n",
      "1/1 [==============================] - 0s 39ms/step - loss: 0.0136 - val_loss: 0.0234\n",
      "Epoch 71/200\n",
      "1/1 [==============================] - 0s 44ms/step - loss: 0.0136 - val_loss: 0.0234\n",
      "Epoch 72/200\n",
      "1/1 [==============================] - 0s 44ms/step - loss: 0.0135 - val_loss: 0.0234\n",
      "Epoch 73/200\n",
      "1/1 [==============================] - 0s 38ms/step - loss: 0.0135 - val_loss: 0.0234\n",
      "Epoch 74/200\n",
      "1/1 [==============================] - 0s 35ms/step - loss: 0.0135 - val_loss: 0.0234\n",
      "Epoch 75/200\n",
      "1/1 [==============================] - 0s 34ms/step - loss: 0.0134 - val_loss: 0.0234\n",
      "Epoch 76/200\n",
      "1/1 [==============================] - 0s 35ms/step - loss: 0.0134 - val_loss: 0.0234\n",
      "Epoch 77/200\n",
      "1/1 [==============================] - 0s 37ms/step - loss: 0.0134 - val_loss: 0.0233\n",
      "Epoch 78/200\n",
      "1/1 [==============================] - 0s 35ms/step - loss: 0.0134 - val_loss: 0.0233\n",
      "Epoch 79/200\n",
      "1/1 [==============================] - 0s 38ms/step - loss: 0.0133 - val_loss: 0.0233\n",
      "Epoch 80/200\n",
      "1/1 [==============================] - 0s 34ms/step - loss: 0.0133 - val_loss: 0.0233\n",
      "Epoch 81/200\n",
      "1/1 [==============================] - 0s 39ms/step - loss: 0.0133 - val_loss: 0.0232\n",
      "Epoch 82/200\n",
      "1/1 [==============================] - 0s 36ms/step - loss: 0.0133 - val_loss: 0.0232\n",
      "Epoch 83/200\n",
      "1/1 [==============================] - 0s 36ms/step - loss: 0.0133 - val_loss: 0.0232\n",
      "Epoch 84/200\n",
      "1/1 [==============================] - 0s 38ms/step - loss: 0.0132 - val_loss: 0.0232\n",
      "Epoch 85/200\n",
      "1/1 [==============================] - 0s 43ms/step - loss: 0.0132 - val_loss: 0.0232\n",
      "Epoch 86/200\n",
      "1/1 [==============================] - 0s 41ms/step - loss: 0.0132 - val_loss: 0.0232\n",
      "Epoch 87/200\n",
      "1/1 [==============================] - 0s 37ms/step - loss: 0.0132 - val_loss: 0.0231\n",
      "Epoch 88/200\n",
      "1/1 [==============================] - 0s 38ms/step - loss: 0.0132 - val_loss: 0.0231\n",
      "Epoch 89/200\n",
      "1/1 [==============================] - 0s 34ms/step - loss: 0.0131 - val_loss: 0.0231\n",
      "Epoch 90/200\n",
      "1/1 [==============================] - 0s 39ms/step - loss: 0.0131 - val_loss: 0.0231\n",
      "Epoch 91/200\n",
      "1/1 [==============================] - 0s 35ms/step - loss: 0.0131 - val_loss: 0.0231\n",
      "Epoch 92/200\n",
      "1/1 [==============================] - 0s 42ms/step - loss: 0.0131 - val_loss: 0.0231\n",
      "Epoch 93/200\n",
      "1/1 [==============================] - 0s 42ms/step - loss: 0.0130 - val_loss: 0.0231\n",
      "Epoch 94/200\n",
      "1/1 [==============================] - 0s 39ms/step - loss: 0.0130 - val_loss: 0.0231\n",
      "Epoch 95/200\n",
      "1/1 [==============================] - 0s 35ms/step - loss: 0.0130 - val_loss: 0.0230\n",
      "Epoch 96/200\n",
      "1/1 [==============================] - 0s 42ms/step - loss: 0.0130 - val_loss: 0.0230\n",
      "Epoch 97/200\n",
      "1/1 [==============================] - 0s 37ms/step - loss: 0.0129 - val_loss: 0.0230\n",
      "Epoch 98/200\n",
      "1/1 [==============================] - 0s 36ms/step - loss: 0.0129 - val_loss: 0.0230\n",
      "Epoch 99/200\n",
      "1/1 [==============================] - 0s 35ms/step - loss: 0.0129 - val_loss: 0.0230\n",
      "Epoch 100/200\n",
      "1/1 [==============================] - 0s 42ms/step - loss: 0.0128 - val_loss: 0.0230\n",
      "Epoch 101/200\n",
      "1/1 [==============================] - 0s 43ms/step - loss: 0.0128 - val_loss: 0.0230\n",
      "Epoch 102/200\n",
      "1/1 [==============================] - 0s 38ms/step - loss: 0.0128 - val_loss: 0.0229\n",
      "Epoch 103/200\n",
      "1/1 [==============================] - 0s 39ms/step - loss: 0.0127 - val_loss: 0.0229\n",
      "Epoch 104/200\n",
      "1/1 [==============================] - 0s 40ms/step - loss: 0.0127 - val_loss: 0.0229\n",
      "Epoch 105/200\n",
      "1/1 [==============================] - 0s 36ms/step - loss: 0.0127 - val_loss: 0.0229\n",
      "Epoch 106/200\n",
      "1/1 [==============================] - 0s 38ms/step - loss: 0.0126 - val_loss: 0.0228\n",
      "Epoch 107/200\n",
      "1/1 [==============================] - 0s 36ms/step - loss: 0.0126 - val_loss: 0.0228\n",
      "Epoch 108/200\n",
      "1/1 [==============================] - 0s 39ms/step - loss: 0.0125 - val_loss: 0.0228\n",
      "Epoch 109/200\n",
      "1/1 [==============================] - 0s 42ms/step - loss: 0.0125 - val_loss: 0.0228\n",
      "Epoch 110/200\n",
      "1/1 [==============================] - 0s 35ms/step - loss: 0.0124 - val_loss: 0.0227\n",
      "Epoch 111/200\n",
      "1/1 [==============================] - 0s 36ms/step - loss: 0.0124 - val_loss: 0.0227\n",
      "Epoch 112/200\n",
      "1/1 [==============================] - 0s 40ms/step - loss: 0.0123 - val_loss: 0.0226\n",
      "Epoch 113/200\n",
      "1/1 [==============================] - 0s 42ms/step - loss: 0.0123 - val_loss: 0.0226\n",
      "Epoch 114/200\n",
      "1/1 [==============================] - 0s 36ms/step - loss: 0.0122 - val_loss: 0.0226\n",
      "Epoch 115/200\n",
      "1/1 [==============================] - 0s 45ms/step - loss: 0.0122 - val_loss: 0.0225\n",
      "Epoch 116/200\n",
      "1/1 [==============================] - 0s 60ms/step - loss: 0.0121 - val_loss: 0.0225\n",
      "Epoch 117/200\n",
      "1/1 [==============================] - 0s 38ms/step - loss: 0.0120 - val_loss: 0.0224\n",
      "Epoch 118/200\n",
      "1/1 [==============================] - 0s 39ms/step - loss: 0.0120 - val_loss: 0.0224\n",
      "Epoch 119/200\n",
      "1/1 [==============================] - 0s 38ms/step - loss: 0.0119 - val_loss: 0.0223\n",
      "Epoch 120/200\n",
      "1/1 [==============================] - 0s 40ms/step - loss: 0.0118 - val_loss: 0.0223\n",
      "Epoch 121/200\n",
      "1/1 [==============================] - 0s 42ms/step - loss: 0.0117 - val_loss: 0.0222\n",
      "Epoch 122/200\n",
      "1/1 [==============================] - 0s 34ms/step - loss: 0.0117 - val_loss: 0.0222\n",
      "Epoch 123/200\n",
      "1/1 [==============================] - 0s 40ms/step - loss: 0.0116 - val_loss: 0.0221\n",
      "Epoch 124/200\n",
      "1/1 [==============================] - 0s 39ms/step - loss: 0.0115 - val_loss: 0.0221\n",
      "Epoch 125/200\n",
      "1/1 [==============================] - 0s 42ms/step - loss: 0.0114 - val_loss: 0.0220\n",
      "Epoch 126/200\n",
      "1/1 [==============================] - 0s 41ms/step - loss: 0.0113 - val_loss: 0.0220\n",
      "Epoch 127/200\n",
      "1/1 [==============================] - 0s 35ms/step - loss: 0.0113 - val_loss: 0.0220\n",
      "Epoch 128/200\n",
      "1/1 [==============================] - 0s 45ms/step - loss: 0.0112 - val_loss: 0.0219\n",
      "Epoch 129/200\n",
      "1/1 [==============================] - 0s 39ms/step - loss: 0.0111 - val_loss: 0.0219\n",
      "Epoch 130/200\n",
      "1/1 [==============================] - 0s 37ms/step - loss: 0.0110 - val_loss: 0.0218\n",
      "Epoch 131/200\n",
      "1/1 [==============================] - 0s 39ms/step - loss: 0.0109 - val_loss: 0.0218\n",
      "Epoch 132/200\n",
      "1/1 [==============================] - 0s 38ms/step - loss: 0.0108 - val_loss: 0.0218\n",
      "Epoch 133/200\n",
      "1/1 [==============================] - 0s 36ms/step - loss: 0.0107 - val_loss: 0.0217\n",
      "Epoch 134/200\n",
      "1/1 [==============================] - 0s 38ms/step - loss: 0.0107 - val_loss: 0.0217\n",
      "Epoch 135/200\n",
      "1/1 [==============================] - 0s 38ms/step - loss: 0.0106 - val_loss: 0.0217\n",
      "Epoch 136/200\n",
      "1/1 [==============================] - 0s 37ms/step - loss: 0.0105 - val_loss: 0.0216\n",
      "Epoch 137/200\n",
      "1/1 [==============================] - 0s 38ms/step - loss: 0.0104 - val_loss: 0.0216\n",
      "Epoch 138/200\n",
      "1/1 [==============================] - 0s 39ms/step - loss: 0.0103 - val_loss: 0.0216\n",
      "Epoch 139/200\n",
      "1/1 [==============================] - 0s 37ms/step - loss: 0.0102 - val_loss: 0.0215\n",
      "Epoch 140/200\n",
      "1/1 [==============================] - 0s 36ms/step - loss: 0.0101 - val_loss: 0.0215\n",
      "Epoch 141/200\n",
      "1/1 [==============================] - 0s 37ms/step - loss: 0.0101 - val_loss: 0.0215\n",
      "Epoch 142/200\n",
      "1/1 [==============================] - 0s 46ms/step - loss: 0.0100 - val_loss: 0.0214\n",
      "Epoch 143/200\n",
      "1/1 [==============================] - 0s 42ms/step - loss: 0.0099 - val_loss: 0.0214\n",
      "Epoch 144/200\n",
      "1/1 [==============================] - 0s 35ms/step - loss: 0.0098 - val_loss: 0.0214\n",
      "Epoch 145/200\n",
      "1/1 [==============================] - 0s 39ms/step - loss: 0.0097 - val_loss: 0.0213\n",
      "Epoch 146/200\n",
      "1/1 [==============================] - 0s 45ms/step - loss: 0.0096 - val_loss: 0.0213\n",
      "Epoch 147/200\n",
      "1/1 [==============================] - 0s 46ms/step - loss: 0.0095 - val_loss: 0.0213\n",
      "Epoch 148/200\n",
      "1/1 [==============================] - 0s 37ms/step - loss: 0.0094 - val_loss: 0.0212\n",
      "Epoch 149/200\n",
      "1/1 [==============================] - 0s 36ms/step - loss: 0.0093 - val_loss: 0.0212\n",
      "Epoch 150/200\n",
      "1/1 [==============================] - 0s 39ms/step - loss: 0.0093 - val_loss: 0.0212\n",
      "Epoch 151/200\n",
      "1/1 [==============================] - 0s 38ms/step - loss: 0.0092 - val_loss: 0.0212\n",
      "Epoch 152/200\n",
      "1/1 [==============================] - 0s 37ms/step - loss: 0.0091 - val_loss: 0.0211\n",
      "Epoch 153/200\n",
      "1/1 [==============================] - 0s 42ms/step - loss: 0.0090 - val_loss: 0.0211\n",
      "Epoch 154/200\n",
      "1/1 [==============================] - 0s 42ms/step - loss: 0.0089 - val_loss: 0.0211\n",
      "Epoch 155/200\n",
      "1/1 [==============================] - 0s 44ms/step - loss: 0.0088 - val_loss: 0.0210\n",
      "Epoch 156/200\n",
      "1/1 [==============================] - 0s 42ms/step - loss: 0.0087 - val_loss: 0.0210\n",
      "Epoch 157/200\n",
      "1/1 [==============================] - 0s 41ms/step - loss: 0.0086 - val_loss: 0.0210\n",
      "Epoch 158/200\n",
      "1/1 [==============================] - 0s 36ms/step - loss: 0.0085 - val_loss: 0.0210\n",
      "Epoch 159/200\n",
      "1/1 [==============================] - 0s 35ms/step - loss: 0.0084 - val_loss: 0.0209\n",
      "Epoch 160/200\n",
      "1/1 [==============================] - 0s 36ms/step - loss: 0.0083 - val_loss: 0.0209\n",
      "Epoch 161/200\n",
      "1/1 [==============================] - 0s 37ms/step - loss: 0.0082 - val_loss: 0.0209\n",
      "Epoch 162/200\n",
      "1/1 [==============================] - 0s 40ms/step - loss: 0.0081 - val_loss: 0.0209\n",
      "Epoch 163/200\n",
      "1/1 [==============================] - 0s 35ms/step - loss: 0.0081 - val_loss: 0.0208\n",
      "Epoch 164/200\n",
      "1/1 [==============================] - 0s 38ms/step - loss: 0.0080 - val_loss: 0.0208\n",
      "Epoch 165/200\n",
      "1/1 [==============================] - 0s 35ms/step - loss: 0.0079 - val_loss: 0.0208\n",
      "Epoch 166/200\n",
      "1/1 [==============================] - 0s 38ms/step - loss: 0.0078 - val_loss: 0.0208\n",
      "Epoch 167/200\n",
      "1/1 [==============================] - 0s 36ms/step - loss: 0.0077 - val_loss: 0.0208\n",
      "Epoch 168/200\n",
      "1/1 [==============================] - 0s 44ms/step - loss: 0.0076 - val_loss: 0.0207\n",
      "Epoch 169/200\n",
      "1/1 [==============================] - 0s 43ms/step - loss: 0.0075 - val_loss: 0.0207\n",
      "Epoch 170/200\n",
      "1/1 [==============================] - 0s 37ms/step - loss: 0.0074 - val_loss: 0.0207\n",
      "Epoch 171/200\n",
      "1/1 [==============================] - 0s 37ms/step - loss: 0.0073 - val_loss: 0.0207\n",
      "Epoch 172/200\n",
      "1/1 [==============================] - 0s 38ms/step - loss: 0.0072 - val_loss: 0.0206\n",
      "Epoch 173/200\n",
      "1/1 [==============================] - 0s 35ms/step - loss: 0.0072 - val_loss: 0.0206\n",
      "Epoch 174/200\n",
      "1/1 [==============================] - 0s 37ms/step - loss: 0.0071 - val_loss: 0.0206\n",
      "Epoch 175/200\n",
      "1/1 [==============================] - 0s 32ms/step - loss: 0.0070 - val_loss: 0.0206\n",
      "Epoch 176/200\n",
      "1/1 [==============================] - 0s 38ms/step - loss: 0.0069 - val_loss: 0.0206\n",
      "Epoch 177/200\n",
      "1/1 [==============================] - 0s 36ms/step - loss: 0.0068 - val_loss: 0.0205\n",
      "Epoch 178/200\n",
      "1/1 [==============================] - 0s 38ms/step - loss: 0.0067 - val_loss: 0.0205\n",
      "Epoch 179/200\n",
      "1/1 [==============================] - 0s 42ms/step - loss: 0.0067 - val_loss: 0.0205\n",
      "Epoch 180/200\n",
      "1/1 [==============================] - 0s 43ms/step - loss: 0.0066 - val_loss: 0.0205\n",
      "Epoch 181/200\n",
      "1/1 [==============================] - 0s 40ms/step - loss: 0.0065 - val_loss: 0.0205\n",
      "Epoch 182/200\n",
      "1/1 [==============================] - 0s 38ms/step - loss: 0.0064 - val_loss: 0.0205\n",
      "Epoch 183/200\n",
      "1/1 [==============================] - 0s 37ms/step - loss: 0.0063 - val_loss: 0.0205\n",
      "Epoch 184/200\n",
      "1/1 [==============================] - 0s 139ms/step - loss: 0.0063 - val_loss: 0.0205\n",
      "Epoch 185/200\n",
      "1/1 [==============================] - 0s 46ms/step - loss: 0.0062 - val_loss: 0.0204\n",
      "Epoch 186/200\n",
      "1/1 [==============================] - 0s 66ms/step - loss: 0.0061 - val_loss: 0.0204\n",
      "Epoch 187/200\n",
      "1/1 [==============================] - 0s 38ms/step - loss: 0.0060 - val_loss: 0.0204\n",
      "Epoch 188/200\n",
      "1/1 [==============================] - 0s 35ms/step - loss: 0.0059 - val_loss: 0.0204\n",
      "Epoch 189/200\n",
      "1/1 [==============================] - 0s 32ms/step - loss: 0.0059 - val_loss: 0.0204\n",
      "Epoch 190/200\n",
      "1/1 [==============================] - 0s 34ms/step - loss: 0.0058 - val_loss: 0.0204\n",
      "Epoch 191/200\n",
      "1/1 [==============================] - 0s 36ms/step - loss: 0.0057 - val_loss: 0.0204\n",
      "Epoch 192/200\n",
      "1/1 [==============================] - 0s 33ms/step - loss: 0.0056 - val_loss: 0.0204\n",
      "Epoch 193/200\n",
      "1/1 [==============================] - 0s 42ms/step - loss: 0.0056 - val_loss: 0.0204\n",
      "Epoch 194/200\n",
      "1/1 [==============================] - 0s 42ms/step - loss: 0.0055 - val_loss: 0.0204\n",
      "Epoch 195/200\n",
      "1/1 [==============================] - 0s 34ms/step - loss: 0.0054 - val_loss: 0.0204\n",
      "Epoch 196/200\n",
      "1/1 [==============================] - 0s 36ms/step - loss: 0.0053 - val_loss: 0.0204\n",
      "Epoch 197/200\n",
      "1/1 [==============================] - 0s 34ms/step - loss: 0.0053 - val_loss: 0.0204\n",
      "Epoch 198/200\n",
      "1/1 [==============================] - 0s 34ms/step - loss: 0.0052 - val_loss: 0.0204\n",
      "Epoch 199/200\n",
      "1/1 [==============================] - 0s 35ms/step - loss: 0.0051 - val_loss: 0.0203\n",
      "Epoch 200/200\n",
      "1/1 [==============================] - 0s 35ms/step - loss: 0.0051 - val_loss: 0.0203\n",
      "0.005069492384791374\n"
     ]
    }
   ],
   "source": [
    "looseParent = modelSuperParent(superParent, regulator_gene_matrix, NUM_TARGETS, NUM_TIME_STEPS, NUM_TARGETS, 32)\n",
    "looseParent.compile(optimizer='adam', loss=ignore_noParent_MSE)\n",
    "o = looseParent.fit(beanIntensities, beanIntensities, epochs=200, verbose = True,  \n",
    "                    validation_data=(validation, validation), callbacks = [\n",
    "    tfmot.sparsity.keras.UpdatePruningStep()])\n",
    "print(o.history['loss'][-1]) #the final loss "
   ]
  },
  {
   "cell_type": "code",
   "execution_count": 43,
   "metadata": {},
   "outputs": [
    {
     "name": "stdout",
     "output_type": "stream",
     "text": [
      "Model: \"model\"\n",
      "_________________________________________________________________\n",
      " Layer (type)                Output Shape              Param #   \n",
      "=================================================================\n",
      " input_1 (InputLayer)        [(None, 21, 100)]         0         \n",
      "                                                                 \n",
      " prune_low_magnitude_encoder  (None, 21, 100)          20002     \n",
      " _linear_super_parent (Prune                                     \n",
      " LowMagnitude)                                                   \n",
      "                                                                 \n",
      " conv1d (Conv1D)             (None, 19, 32)            9632      \n",
      "                                                                 \n",
      " flatten (Flatten)           (None, 608)               0         \n",
      "                                                                 \n",
      " dense (Dense)               (None, 32)                19488     \n",
      "                                                                 \n",
      " dense_1 (Dense)             (None, 128)               4224      \n",
      "                                                                 \n",
      " reshape (Reshape)           (None, 1, 128)            0         \n",
      "                                                                 \n",
      " conv1d_transpose (Conv1DTra  (None, 21, 100)          268900    \n",
      " nspose)                                                         \n",
      "                                                                 \n",
      " decoder_linear_super_parent  (None, 21, 100)          10000     \n",
      "  (DecoderLinearSuperParent)                                     \n",
      "                                                                 \n",
      "=================================================================\n",
      "Total params: 332,246\n",
      "Trainable params: 322,244\n",
      "Non-trainable params: 10,002\n",
      "_________________________________________________________________\n"
     ]
    }
   ],
   "source": [
    "looseParent.summary()"
   ]
  },
  {
   "cell_type": "markdown",
   "metadata": {},
   "source": [
    "# DenseNetAutoEncoder"
   ]
  },
  {
   "cell_type": "code",
   "execution_count": 44,
   "metadata": {},
   "outputs": [],
   "source": [
    "'''\n",
    "a second copy of the layers which will be modified to be a denseNET auto encoder\n",
    "'''\n",
    "\n",
    "class DAE_Encoder_MASK(tf.keras.layers.Layer): \n",
    "    def __init__(self, rgm, oldrgm, input_dim=32, units=32):\n",
    "        super(DAE_Encoder_MASK, self).__init__()\n",
    "        self.rgm = rgm\n",
    "        self.oldrgm = oldrgm\n",
    "        \n",
    "        def init_weights(shape, dtype=\"float32\"):\n",
    "\n",
    "            w_init = tf.random_normal_initializer()(shape=shape, dtype=dtype) * tf.convert_to_tensor(self.oldrgm, dtype=dtype)\n",
    "\n",
    "            return w_init\n",
    "        \n",
    "\n",
    "        self.w = tf.Variable(\n",
    "            initial_value=init_weights(shape=(input_dim, units), dtype=\"float32\"),\n",
    "            trainable=True,\n",
    "        )\n",
    "\n",
    "    def call(self, inputs):\n",
    "        X = inputs\n",
    "        return tf.matmul(X, tf.multiply(self.rgm, self.w))\n",
    "    #tf.matmul(inputs, self.w)\n",
    "\n",
    "    def get_config(self):\n",
    "        config = super().get_config()\n",
    "        config.update({\n",
    "            \"rgm\": self.rgm,\n",
    "            \"oldrgm\": self.oldrgm,\n",
    "            'input_dim': 32,\n",
    "            'units' : 32\n",
    "        })\n",
    "\n",
    "class DAE_Decoder_MASK(tf.keras.layers.Layer):\n",
    "    def __init__(self, rgm, oldrgm, input_dim=32, units=32):\n",
    "        super(DAE_Decoder_MASK, self).__init__()\n",
    "        self.rgm = rgm\n",
    "        self.oldrgm = oldrgm\n",
    "\n",
    "        def init_weights(shape, dtype=\"float32\"):\n",
    "\n",
    "            w_init = tf.random_normal_initializer()(shape=shape, dtype=dtype) * tf.transpose(tf.convert_to_tensor(self.oldrgm, dtype=dtype))\n",
    "\n",
    "            return w_init\n",
    "\n",
    "        self.w = tf.Variable(\n",
    "            initial_value=init_weights(shape=(input_dim, units), dtype=\"float32\"),\n",
    "            trainable=True,\n",
    "        )\n",
    "\n",
    "    def call(self, inputs):\n",
    "        X = inputs\n",
    "        return tf.matmul(X, tf.multiply(tf.transpose(self.rgm), self.w)) #used to have a transpose\n",
    "\n",
    "\n",
    "    def get_config(self):\n",
    "        config = super().get_config()\n",
    "        config.update({\n",
    "            \"rgm\": self.rgm,\n",
    "            \"oldrgm\": self.oldrgm,\n",
    "            'input_dim': 32,\n",
    "            'units' : 32\n",
    "        })\n",
    "        \n",
    "\n",
    "def denseencoder2(parent_child_biological_association, inp, num_hidden_units=21):\n",
    "    '''\n",
    "    Encoder structure\n",
    "    '''\n",
    "    '''\n",
    "    The data is time-series. Therefore, CNN to learn the temporal relationship between \n",
    "    the intensities for each gene.\n",
    "    '''\n",
    "    en_conv = Conv1D(NUM_TARGETS, 7, activation = \"tanh\")(parent_child_biological_association) # Conv1D(NUM_TARGETS, NUM_TIME_STEPS, activation = \"tanh\")(parent_child_biological_association)6*NUM_TARGETS\n",
    "    en_dense = Flatten()(en_conv)\n",
    "    inp = Flatten()(inp)\n",
    "    d = Concatenate()([en_dense, inp]) #dense layer\n",
    "    phenotype = Dense(num_hidden_units, activation=\"tanh\")(d)\n",
    "    return phenotype\n",
    "\n",
    "def densedecoder2(X, num_protein_gene, time_steps):\n",
    "    '''\n",
    "    Decoder structure\n",
    "    '''\n",
    "    de_dense = Dense(NUM_TARGETS, activation = 'tanh')(X)\n",
    "    de_dense = Reshape((1, NUM_TARGETS))(de_dense) #tf.reshape(de_dense, (self.batch_size,1,128))\n",
    "    de_deconv = Conv1DTranspose(num_protein_gene, time_steps, activation = \"tanh\")(de_dense) #used to be transpose\n",
    "    #de_deconv = Conv1D(num_protein_gene, time_steps, activation = \"relu\")(de_dense) \n",
    "    # gene_reconstruction = self.decoder_biological_operation(de_deconv)\n",
    "    return de_deconv\n",
    "\n",
    "def modelDense2(rgm, oldrgm, num_protein_gene, time_steps, num_kinase_regulators, num_hidden_units = 21):\n",
    "    inp = Input(shape=(time_steps, num_kinase_regulators))\n",
    "    \n",
    "    x = DAE_Encoder_MASK(rgm, oldrgm, NUM_TARGETS, NUM_TARGETS)(inp)\n",
    "    #x = EncoderLinear2(x)\n",
    "    enc = denseencoder2(x, inp, num_hidden_units)\n",
    "    dec = densedecoder2(enc, num_protein_gene, time_steps)\n",
    "    out = DAE_Decoder_MASK(rgm, oldrgm, NUM_TARGETS, NUM_TARGETS)(dec)\n",
    "\n",
    "    _model = tf.keras.Model(inputs=inp, outputs=out)\n",
    "\n",
    "    return _model"
   ]
  },
  {
   "cell_type": "code",
   "execution_count": 45,
   "metadata": {},
   "outputs": [
    {
     "name": "stdout",
     "output_type": "stream",
     "text": [
      "Epoch 1/150\n",
      "1/1 [==============================] - 3s 3s/step - loss: 0.2235 - val_loss: 0.2029\n",
      "Epoch 2/150\n",
      "1/1 [==============================] - 0s 36ms/step - loss: 0.2200 - val_loss: 0.1771\n",
      "Epoch 3/150\n",
      "1/1 [==============================] - 0s 36ms/step - loss: 0.1922 - val_loss: 0.1520\n",
      "Epoch 4/150\n",
      "1/1 [==============================] - 0s 34ms/step - loss: 0.1650 - val_loss: 0.1282\n",
      "Epoch 5/150\n",
      "1/1 [==============================] - 0s 34ms/step - loss: 0.1391 - val_loss: 0.1047\n",
      "Epoch 6/150\n",
      "1/1 [==============================] - 0s 34ms/step - loss: 0.1134 - val_loss: 0.0827\n",
      "Epoch 7/150\n",
      "1/1 [==============================] - 0s 37ms/step - loss: 0.0890 - val_loss: 0.0646\n",
      "Epoch 8/150\n",
      "1/1 [==============================] - 0s 35ms/step - loss: 0.0682 - val_loss: 0.0522\n",
      "Epoch 9/150\n",
      "1/1 [==============================] - 0s 32ms/step - loss: 0.0528 - val_loss: 0.0463\n",
      "Epoch 10/150\n",
      "1/1 [==============================] - 0s 33ms/step - loss: 0.0440 - val_loss: 0.0455\n",
      "Epoch 11/150\n",
      "1/1 [==============================] - 0s 35ms/step - loss: 0.0405 - val_loss: 0.0463\n",
      "Epoch 12/150\n",
      "1/1 [==============================] - 0s 36ms/step - loss: 0.0391 - val_loss: 0.0462\n",
      "Epoch 13/150\n",
      "1/1 [==============================] - 0s 34ms/step - loss: 0.0374 - val_loss: 0.0442\n",
      "Epoch 14/150\n",
      "1/1 [==============================] - 0s 34ms/step - loss: 0.0345 - val_loss: 0.0409\n",
      "Epoch 15/150\n",
      "1/1 [==============================] - 0s 30ms/step - loss: 0.0309 - val_loss: 0.0374\n",
      "Epoch 16/150\n",
      "1/1 [==============================] - 0s 32ms/step - loss: 0.0273 - val_loss: 0.0345\n",
      "Epoch 17/150\n",
      "1/1 [==============================] - 0s 34ms/step - loss: 0.0246 - val_loss: 0.0327\n",
      "Epoch 18/150\n",
      "1/1 [==============================] - 0s 32ms/step - loss: 0.0232 - val_loss: 0.0318\n",
      "Epoch 19/150\n",
      "1/1 [==============================] - 0s 33ms/step - loss: 0.0227 - val_loss: 0.0314\n",
      "Epoch 20/150\n",
      "1/1 [==============================] - 0s 33ms/step - loss: 0.0226 - val_loss: 0.0311\n",
      "Epoch 21/150\n",
      "1/1 [==============================] - 0s 32ms/step - loss: 0.0225 - val_loss: 0.0307\n",
      "Epoch 22/150\n",
      "1/1 [==============================] - 0s 35ms/step - loss: 0.0221 - val_loss: 0.0300\n",
      "Epoch 23/150\n",
      "1/1 [==============================] - 0s 34ms/step - loss: 0.0214 - val_loss: 0.0293\n",
      "Epoch 24/150\n",
      "1/1 [==============================] - 0s 35ms/step - loss: 0.0205 - val_loss: 0.0286\n",
      "Epoch 25/150\n",
      "1/1 [==============================] - 0s 35ms/step - loss: 0.0196 - val_loss: 0.0281\n",
      "Epoch 26/150\n",
      "1/1 [==============================] - 0s 33ms/step - loss: 0.0187 - val_loss: 0.0278\n",
      "Epoch 27/150\n",
      "1/1 [==============================] - 0s 33ms/step - loss: 0.0181 - val_loss: 0.0276\n",
      "Epoch 28/150\n",
      "1/1 [==============================] - 0s 32ms/step - loss: 0.0176 - val_loss: 0.0275\n",
      "Epoch 29/150\n",
      "1/1 [==============================] - 0s 39ms/step - loss: 0.0172 - val_loss: 0.0274\n",
      "Epoch 30/150\n",
      "1/1 [==============================] - 0s 34ms/step - loss: 0.0169 - val_loss: 0.0272\n",
      "Epoch 31/150\n",
      "1/1 [==============================] - 0s 34ms/step - loss: 0.0166 - val_loss: 0.0269\n",
      "Epoch 32/150\n",
      "1/1 [==============================] - 0s 36ms/step - loss: 0.0163 - val_loss: 0.0266\n",
      "Epoch 33/150\n",
      "1/1 [==============================] - 0s 34ms/step - loss: 0.0160 - val_loss: 0.0263\n",
      "Epoch 34/150\n",
      "1/1 [==============================] - 0s 36ms/step - loss: 0.0158 - val_loss: 0.0260\n",
      "Epoch 35/150\n",
      "1/1 [==============================] - 0s 35ms/step - loss: 0.0156 - val_loss: 0.0258\n",
      "Epoch 36/150\n",
      "1/1 [==============================] - 0s 42ms/step - loss: 0.0156 - val_loss: 0.0256\n",
      "Epoch 37/150\n",
      "1/1 [==============================] - 0s 37ms/step - loss: 0.0155 - val_loss: 0.0255\n",
      "Epoch 38/150\n",
      "1/1 [==============================] - 0s 37ms/step - loss: 0.0155 - val_loss: 0.0253\n",
      "Epoch 39/150\n",
      "1/1 [==============================] - 0s 34ms/step - loss: 0.0154 - val_loss: 0.0252\n",
      "Epoch 40/150\n",
      "1/1 [==============================] - 0s 35ms/step - loss: 0.0153 - val_loss: 0.0251\n",
      "Epoch 41/150\n",
      "1/1 [==============================] - 0s 33ms/step - loss: 0.0152 - val_loss: 0.0250\n",
      "Epoch 42/150\n",
      "1/1 [==============================] - 0s 37ms/step - loss: 0.0151 - val_loss: 0.0249\n",
      "Epoch 43/150\n",
      "1/1 [==============================] - 0s 34ms/step - loss: 0.0150 - val_loss: 0.0249\n",
      "Epoch 44/150\n",
      "1/1 [==============================] - 0s 34ms/step - loss: 0.0149 - val_loss: 0.0249\n",
      "Epoch 45/150\n",
      "1/1 [==============================] - 0s 34ms/step - loss: 0.0148 - val_loss: 0.0249\n",
      "Epoch 46/150\n",
      "1/1 [==============================] - 0s 36ms/step - loss: 0.0148 - val_loss: 0.0249\n",
      "Epoch 47/150\n",
      "1/1 [==============================] - 0s 35ms/step - loss: 0.0147 - val_loss: 0.0248\n",
      "Epoch 48/150\n",
      "1/1 [==============================] - 0s 40ms/step - loss: 0.0147 - val_loss: 0.0248\n",
      "Epoch 49/150\n",
      "1/1 [==============================] - 0s 38ms/step - loss: 0.0146 - val_loss: 0.0246\n",
      "Epoch 50/150\n",
      "1/1 [==============================] - 0s 38ms/step - loss: 0.0146 - val_loss: 0.0245\n",
      "Epoch 51/150\n",
      "1/1 [==============================] - 0s 40ms/step - loss: 0.0146 - val_loss: 0.0244\n",
      "Epoch 52/150\n",
      "1/1 [==============================] - 0s 41ms/step - loss: 0.0145 - val_loss: 0.0243\n",
      "Epoch 53/150\n",
      "1/1 [==============================] - 0s 39ms/step - loss: 0.0145 - val_loss: 0.0242\n",
      "Epoch 54/150\n",
      "1/1 [==============================] - 0s 38ms/step - loss: 0.0145 - val_loss: 0.0241\n",
      "Epoch 55/150\n",
      "1/1 [==============================] - 0s 36ms/step - loss: 0.0145 - val_loss: 0.0241\n",
      "Epoch 56/150\n",
      "1/1 [==============================] - 0s 35ms/step - loss: 0.0145 - val_loss: 0.0240\n",
      "Epoch 57/150\n",
      "1/1 [==============================] - 0s 39ms/step - loss: 0.0145 - val_loss: 0.0240\n",
      "Epoch 58/150\n",
      "1/1 [==============================] - 0s 35ms/step - loss: 0.0144 - val_loss: 0.0240\n",
      "Epoch 59/150\n",
      "1/1 [==============================] - 0s 37ms/step - loss: 0.0144 - val_loss: 0.0241\n",
      "Epoch 60/150\n",
      "1/1 [==============================] - 0s 36ms/step - loss: 0.0144 - val_loss: 0.0241\n",
      "Epoch 61/150\n",
      "1/1 [==============================] - 0s 34ms/step - loss: 0.0144 - val_loss: 0.0242\n",
      "Epoch 62/150\n",
      "1/1 [==============================] - 0s 34ms/step - loss: 0.0144 - val_loss: 0.0242\n",
      "Epoch 63/150\n",
      "1/1 [==============================] - 0s 35ms/step - loss: 0.0144 - val_loss: 0.0242\n",
      "Epoch 64/150\n",
      "1/1 [==============================] - 0s 37ms/step - loss: 0.0143 - val_loss: 0.0242\n",
      "Epoch 65/150\n",
      "1/1 [==============================] - 0s 40ms/step - loss: 0.0143 - val_loss: 0.0242\n",
      "Epoch 66/150\n",
      "1/1 [==============================] - 0s 38ms/step - loss: 0.0143 - val_loss: 0.0242\n",
      "Epoch 67/150\n",
      "1/1 [==============================] - 0s 36ms/step - loss: 0.0143 - val_loss: 0.0242\n",
      "Epoch 68/150\n",
      "1/1 [==============================] - 0s 33ms/step - loss: 0.0143 - val_loss: 0.0241\n",
      "Epoch 69/150\n",
      "1/1 [==============================] - 0s 35ms/step - loss: 0.0143 - val_loss: 0.0241\n",
      "Epoch 70/150\n",
      "1/1 [==============================] - 0s 35ms/step - loss: 0.0143 - val_loss: 0.0240\n",
      "Epoch 71/150\n",
      "1/1 [==============================] - 0s 34ms/step - loss: 0.0143 - val_loss: 0.0239\n",
      "Epoch 72/150\n",
      "1/1 [==============================] - 0s 34ms/step - loss: 0.0143 - val_loss: 0.0239\n",
      "Epoch 73/150\n",
      "1/1 [==============================] - 0s 35ms/step - loss: 0.0143 - val_loss: 0.0240\n",
      "Epoch 74/150\n",
      "1/1 [==============================] - 0s 33ms/step - loss: 0.0142 - val_loss: 0.0240\n",
      "Epoch 75/150\n",
      "1/1 [==============================] - 0s 34ms/step - loss: 0.0142 - val_loss: 0.0240\n",
      "Epoch 76/150\n",
      "1/1 [==============================] - 0s 34ms/step - loss: 0.0142 - val_loss: 0.0239\n",
      "Epoch 77/150\n",
      "1/1 [==============================] - 0s 34ms/step - loss: 0.0142 - val_loss: 0.0239\n",
      "Epoch 78/150\n",
      "1/1 [==============================] - 0s 36ms/step - loss: 0.0141 - val_loss: 0.0240\n",
      "Epoch 79/150\n",
      "1/1 [==============================] - 0s 39ms/step - loss: 0.0141 - val_loss: 0.0240\n",
      "Epoch 80/150\n",
      "1/1 [==============================] - 0s 44ms/step - loss: 0.0141 - val_loss: 0.0240\n",
      "Epoch 81/150\n",
      "1/1 [==============================] - 0s 44ms/step - loss: 0.0140 - val_loss: 0.0239\n",
      "Epoch 82/150\n",
      "1/1 [==============================] - 0s 49ms/step - loss: 0.0140 - val_loss: 0.0239\n",
      "Epoch 83/150\n",
      "1/1 [==============================] - 0s 42ms/step - loss: 0.0140 - val_loss: 0.0239\n",
      "Epoch 84/150\n",
      "1/1 [==============================] - 0s 40ms/step - loss: 0.0139 - val_loss: 0.0239\n",
      "Epoch 85/150\n",
      "1/1 [==============================] - 0s 39ms/step - loss: 0.0139 - val_loss: 0.0238\n",
      "Epoch 86/150\n",
      "1/1 [==============================] - 0s 39ms/step - loss: 0.0139 - val_loss: 0.0238\n",
      "Epoch 87/150\n",
      "1/1 [==============================] - 0s 34ms/step - loss: 0.0138 - val_loss: 0.0237\n",
      "Epoch 88/150\n",
      "1/1 [==============================] - 0s 34ms/step - loss: 0.0138 - val_loss: 0.0237\n",
      "Epoch 89/150\n",
      "1/1 [==============================] - 0s 33ms/step - loss: 0.0138 - val_loss: 0.0237\n",
      "Epoch 90/150\n",
      "1/1 [==============================] - 0s 32ms/step - loss: 0.0137 - val_loss: 0.0237\n",
      "Epoch 91/150\n",
      "1/1 [==============================] - 0s 33ms/step - loss: 0.0137 - val_loss: 0.0236\n",
      "Epoch 92/150\n",
      "1/1 [==============================] - 0s 35ms/step - loss: 0.0136 - val_loss: 0.0236\n",
      "Epoch 93/150\n",
      "1/1 [==============================] - 0s 33ms/step - loss: 0.0136 - val_loss: 0.0235\n",
      "Epoch 94/150\n",
      "1/1 [==============================] - 0s 43ms/step - loss: 0.0135 - val_loss: 0.0235\n",
      "Epoch 95/150\n",
      "1/1 [==============================] - 0s 40ms/step - loss: 0.0135 - val_loss: 0.0235\n",
      "Epoch 96/150\n",
      "1/1 [==============================] - 0s 34ms/step - loss: 0.0134 - val_loss: 0.0234\n",
      "Epoch 97/150\n",
      "1/1 [==============================] - 0s 35ms/step - loss: 0.0134 - val_loss: 0.0234\n",
      "Epoch 98/150\n",
      "1/1 [==============================] - 0s 38ms/step - loss: 0.0133 - val_loss: 0.0233\n",
      "Epoch 99/150\n",
      "1/1 [==============================] - 0s 41ms/step - loss: 0.0133 - val_loss: 0.0233\n",
      "Epoch 100/150\n",
      "1/1 [==============================] - 0s 35ms/step - loss: 0.0132 - val_loss: 0.0232\n",
      "Epoch 101/150\n",
      "1/1 [==============================] - 0s 34ms/step - loss: 0.0132 - val_loss: 0.0232\n",
      "Epoch 102/150\n",
      "1/1 [==============================] - 0s 38ms/step - loss: 0.0131 - val_loss: 0.0232\n",
      "Epoch 103/150\n",
      "1/1 [==============================] - 0s 35ms/step - loss: 0.0131 - val_loss: 0.0231\n",
      "Epoch 104/150\n",
      "1/1 [==============================] - 0s 35ms/step - loss: 0.0130 - val_loss: 0.0231\n",
      "Epoch 105/150\n",
      "1/1 [==============================] - 0s 37ms/step - loss: 0.0130 - val_loss: 0.0230\n",
      "Epoch 106/150\n",
      "1/1 [==============================] - 0s 37ms/step - loss: 0.0129 - val_loss: 0.0230\n",
      "Epoch 107/150\n",
      "1/1 [==============================] - 0s 40ms/step - loss: 0.0129 - val_loss: 0.0230\n",
      "Epoch 108/150\n",
      "1/1 [==============================] - 0s 40ms/step - loss: 0.0128 - val_loss: 0.0230\n",
      "Epoch 109/150\n",
      "1/1 [==============================] - 0s 49ms/step - loss: 0.0128 - val_loss: 0.0229\n",
      "Epoch 110/150\n",
      "1/1 [==============================] - 0s 45ms/step - loss: 0.0127 - val_loss: 0.0229\n",
      "Epoch 111/150\n",
      "1/1 [==============================] - 0s 49ms/step - loss: 0.0127 - val_loss: 0.0228\n",
      "Epoch 112/150\n",
      "1/1 [==============================] - 0s 35ms/step - loss: 0.0126 - val_loss: 0.0228\n",
      "Epoch 113/150\n",
      "1/1 [==============================] - 0s 38ms/step - loss: 0.0126 - val_loss: 0.0228\n",
      "Epoch 114/150\n",
      "1/1 [==============================] - 0s 41ms/step - loss: 0.0125 - val_loss: 0.0228\n",
      "Epoch 115/150\n",
      "1/1 [==============================] - 0s 39ms/step - loss: 0.0125 - val_loss: 0.0227\n",
      "Epoch 116/150\n",
      "1/1 [==============================] - 0s 39ms/step - loss: 0.0124 - val_loss: 0.0227\n",
      "Epoch 117/150\n",
      "1/1 [==============================] - 0s 37ms/step - loss: 0.0124 - val_loss: 0.0226\n",
      "Epoch 118/150\n",
      "1/1 [==============================] - 0s 36ms/step - loss: 0.0123 - val_loss: 0.0226\n",
      "Epoch 119/150\n",
      "1/1 [==============================] - 0s 39ms/step - loss: 0.0123 - val_loss: 0.0226\n",
      "Epoch 120/150\n",
      "1/1 [==============================] - 0s 38ms/step - loss: 0.0122 - val_loss: 0.0226\n",
      "Epoch 121/150\n",
      "1/1 [==============================] - 0s 37ms/step - loss: 0.0122 - val_loss: 0.0225\n",
      "Epoch 122/150\n",
      "1/1 [==============================] - 0s 43ms/step - loss: 0.0121 - val_loss: 0.0225\n",
      "Epoch 123/150\n",
      "1/1 [==============================] - 0s 42ms/step - loss: 0.0121 - val_loss: 0.0225\n",
      "Epoch 124/150\n",
      "1/1 [==============================] - 0s 39ms/step - loss: 0.0120 - val_loss: 0.0224\n",
      "Epoch 125/150\n",
      "1/1 [==============================] - 0s 35ms/step - loss: 0.0120 - val_loss: 0.0224\n",
      "Epoch 126/150\n",
      "1/1 [==============================] - 0s 33ms/step - loss: 0.0119 - val_loss: 0.0224\n",
      "Epoch 127/150\n",
      "1/1 [==============================] - 0s 35ms/step - loss: 0.0119 - val_loss: 0.0224\n",
      "Epoch 128/150\n",
      "1/1 [==============================] - 0s 33ms/step - loss: 0.0119 - val_loss: 0.0223\n",
      "Epoch 129/150\n",
      "1/1 [==============================] - 0s 35ms/step - loss: 0.0118 - val_loss: 0.0223\n",
      "Epoch 130/150\n",
      "1/1 [==============================] - 0s 34ms/step - loss: 0.0118 - val_loss: 0.0223\n",
      "Epoch 131/150\n",
      "1/1 [==============================] - 0s 34ms/step - loss: 0.0117 - val_loss: 0.0223\n",
      "Epoch 132/150\n",
      "1/1 [==============================] - 0s 33ms/step - loss: 0.0117 - val_loss: 0.0223\n",
      "Epoch 133/150\n",
      "1/1 [==============================] - 0s 34ms/step - loss: 0.0117 - val_loss: 0.0222\n",
      "Epoch 134/150\n",
      "1/1 [==============================] - 0s 34ms/step - loss: 0.0116 - val_loss: 0.0222\n",
      "Epoch 135/150\n",
      "1/1 [==============================] - 0s 34ms/step - loss: 0.0116 - val_loss: 0.0222\n",
      "Epoch 136/150\n",
      "1/1 [==============================] - 0s 41ms/step - loss: 0.0115 - val_loss: 0.0222\n",
      "Epoch 137/150\n",
      "1/1 [==============================] - 0s 36ms/step - loss: 0.0115 - val_loss: 0.0222\n",
      "Epoch 138/150\n",
      "1/1 [==============================] - 0s 33ms/step - loss: 0.0115 - val_loss: 0.0221\n",
      "Epoch 139/150\n",
      "1/1 [==============================] - 0s 33ms/step - loss: 0.0114 - val_loss: 0.0221\n",
      "Epoch 140/150\n",
      "1/1 [==============================] - 0s 34ms/step - loss: 0.0114 - val_loss: 0.0221\n",
      "Epoch 141/150\n",
      "1/1 [==============================] - 0s 35ms/step - loss: 0.0114 - val_loss: 0.0221\n",
      "Epoch 142/150\n",
      "1/1 [==============================] - 0s 32ms/step - loss: 0.0113 - val_loss: 0.0221\n",
      "Epoch 143/150\n",
      "1/1 [==============================] - 0s 33ms/step - loss: 0.0113 - val_loss: 0.0221\n",
      "Epoch 144/150\n",
      "1/1 [==============================] - 0s 32ms/step - loss: 0.0113 - val_loss: 0.0220\n",
      "Epoch 145/150\n",
      "1/1 [==============================] - 0s 35ms/step - loss: 0.0112 - val_loss: 0.0220\n",
      "Epoch 146/150\n",
      "1/1 [==============================] - 0s 32ms/step - loss: 0.0112 - val_loss: 0.0220\n",
      "Epoch 147/150\n",
      "1/1 [==============================] - 0s 33ms/step - loss: 0.0112 - val_loss: 0.0220\n",
      "Epoch 148/150\n",
      "1/1 [==============================] - 0s 32ms/step - loss: 0.0112 - val_loss: 0.0220\n",
      "Epoch 149/150\n",
      "1/1 [==============================] - 0s 34ms/step - loss: 0.0112 - val_loss: 0.0219\n",
      "Epoch 150/150\n",
      "1/1 [==============================] - 0s 40ms/step - loss: 0.0112 - val_loss: 0.0220\n"
     ]
    },
    {
     "data": {
      "text/plain": [
       "<keras.callbacks.History at 0x292aecdd9d0>"
      ]
     },
     "execution_count": 45,
     "metadata": {},
     "output_type": "execute_result"
    }
   ],
   "source": [
    "dense = modelDense2(superParent, regulator_gene_matrix, NUM_TARGETS, NUM_TIME_STEPS, NUM_TARGETS, num_hidden_units=NUM_PARENTS)\n",
    "dense.compile(optimizer='adam', loss=ignore_noParent_MSE)\n",
    "dense.fit(beanIntensities, beanIntensities, epochs=150,  verbose=True, validation_data=(validation, validation))"
   ]
  },
  {
   "cell_type": "code",
   "execution_count": 46,
   "metadata": {},
   "outputs": [
    {
     "name": "stdout",
     "output_type": "stream",
     "text": [
      "Model: \"model_1\"\n",
      "__________________________________________________________________________________________________\n",
      " Layer (type)                   Output Shape         Param #     Connected to                     \n",
      "==================================================================================================\n",
      " input_2 (InputLayer)           [(None, 21, 100)]    0           []                               \n",
      "                                                                                                  \n",
      " dae__encoder_mask (DAE_Encoder  (None, 21, 100)     10000       ['input_2[0][0]']                \n",
      " _MASK)                                                                                           \n",
      "                                                                                                  \n",
      " conv1d_1 (Conv1D)              (None, 15, 100)      70100       ['dae__encoder_mask[0][0]']      \n",
      "                                                                                                  \n",
      " flatten_1 (Flatten)            (None, 1500)         0           ['conv1d_1[0][0]']               \n",
      "                                                                                                  \n",
      " flatten_2 (Flatten)            (None, 2100)         0           ['input_2[0][0]']                \n",
      "                                                                                                  \n",
      " concatenate (Concatenate)      (None, 3600)         0           ['flatten_1[0][0]',              \n",
      "                                                                  'flatten_2[0][0]']              \n",
      "                                                                                                  \n",
      " dense_2 (Dense)                (None, 41)           147641      ['concatenate[0][0]']            \n",
      "                                                                                                  \n",
      " dense_3 (Dense)                (None, 100)          4200        ['dense_2[0][0]']                \n",
      "                                                                                                  \n",
      " reshape_1 (Reshape)            (None, 1, 100)       0           ['dense_3[0][0]']                \n",
      "                                                                                                  \n",
      " conv1d_transpose_1 (Conv1DTran  (None, 21, 100)     210100      ['reshape_1[0][0]']              \n",
      " spose)                                                                                           \n",
      "                                                                                                  \n",
      " dae__decoder_mask (DAE_Decoder  (None, 21, 100)     10000       ['conv1d_transpose_1[0][0]']     \n",
      " _MASK)                                                                                           \n",
      "                                                                                                  \n",
      "==================================================================================================\n",
      "Total params: 452,041\n",
      "Trainable params: 452,041\n",
      "Non-trainable params: 0\n",
      "__________________________________________________________________________________________________\n"
     ]
    }
   ],
   "source": [
    "dense.summary()"
   ]
  },
  {
   "attachments": {},
   "cell_type": "markdown",
   "metadata": {},
   "source": [
    "# Reconstruction"
   ]
  },
  {
   "cell_type": "code",
   "execution_count": 47,
   "metadata": {},
   "outputs": [
    {
     "name": "stdout",
     "output_type": "stream",
     "text": [
      "1/1 [==============================] - 0s 182ms/step\n"
     ]
    },
    {
     "data": {
      "text/plain": [
       "(2, 21, 100)"
      ]
     },
     "execution_count": 47,
     "metadata": {},
     "output_type": "execute_result"
    }
   ],
   "source": [
    "o = dense.predict(validation)\n",
    "o.shape"
   ]
  },
  {
   "cell_type": "code",
   "execution_count": 48,
   "metadata": {},
   "outputs": [],
   "source": [
    "r = pd.DataFrame(o[0].reshape(NUM_TIME_STEPS,NUM_TARGETS))\n",
    "v = pd.DataFrame(validation[0].reshape(NUM_TIME_STEPS,NUM_TARGETS))"
   ]
  },
  {
   "cell_type": "code",
   "execution_count": 49,
   "metadata": {},
   "outputs": [
    {
     "data": {
      "text/html": [
       "<div>\n",
       "<style scoped>\n",
       "    .dataframe tbody tr th:only-of-type {\n",
       "        vertical-align: middle;\n",
       "    }\n",
       "\n",
       "    .dataframe tbody tr th {\n",
       "        vertical-align: top;\n",
       "    }\n",
       "\n",
       "    .dataframe thead th {\n",
       "        text-align: right;\n",
       "    }\n",
       "</style>\n",
       "<table border=\"1\" class=\"dataframe\">\n",
       "  <thead>\n",
       "    <tr style=\"text-align: right;\">\n",
       "      <th></th>\n",
       "      <th>0</th>\n",
       "      <th>4</th>\n",
       "      <th>9</th>\n",
       "      <th>14</th>\n",
       "      <th>22</th>\n",
       "      <th>24</th>\n",
       "      <th>25</th>\n",
       "      <th>35</th>\n",
       "      <th>36</th>\n",
       "      <th>37</th>\n",
       "      <th>...</th>\n",
       "      <th>84</th>\n",
       "      <th>86</th>\n",
       "      <th>89</th>\n",
       "      <th>90</th>\n",
       "      <th>91</th>\n",
       "      <th>92</th>\n",
       "      <th>95</th>\n",
       "      <th>97</th>\n",
       "      <th>98</th>\n",
       "      <th>99</th>\n",
       "    </tr>\n",
       "  </thead>\n",
       "  <tbody>\n",
       "    <tr>\n",
       "      <th>0</th>\n",
       "      <td>0.136075</td>\n",
       "      <td>0.644643</td>\n",
       "      <td>0.655718</td>\n",
       "      <td>0.431823</td>\n",
       "      <td>0.574567</td>\n",
       "      <td>0.653610</td>\n",
       "      <td>0.633507</td>\n",
       "      <td>0.314956</td>\n",
       "      <td>0.255302</td>\n",
       "      <td>0.165078</td>\n",
       "      <td>...</td>\n",
       "      <td>0.520167</td>\n",
       "      <td>0.715751</td>\n",
       "      <td>0.004154</td>\n",
       "      <td>0.652095</td>\n",
       "      <td>0.394871</td>\n",
       "      <td>0.186444</td>\n",
       "      <td>0.742264</td>\n",
       "      <td>0.044102</td>\n",
       "      <td>0.112685</td>\n",
       "      <td>0.019643</td>\n",
       "    </tr>\n",
       "    <tr>\n",
       "      <th>1</th>\n",
       "      <td>0.329785</td>\n",
       "      <td>0.172821</td>\n",
       "      <td>0.524054</td>\n",
       "      <td>0.742346</td>\n",
       "      <td>0.290984</td>\n",
       "      <td>0.070555</td>\n",
       "      <td>0.638568</td>\n",
       "      <td>0.204389</td>\n",
       "      <td>0.333625</td>\n",
       "      <td>0.375461</td>\n",
       "      <td>...</td>\n",
       "      <td>0.459012</td>\n",
       "      <td>0.476434</td>\n",
       "      <td>0.152263</td>\n",
       "      <td>0.506406</td>\n",
       "      <td>0.044304</td>\n",
       "      <td>0.147512</td>\n",
       "      <td>0.259074</td>\n",
       "      <td>0.021597</td>\n",
       "      <td>0.242836</td>\n",
       "      <td>0.434171</td>\n",
       "    </tr>\n",
       "    <tr>\n",
       "      <th>2</th>\n",
       "      <td>0.496259</td>\n",
       "      <td>0.194111</td>\n",
       "      <td>0.420594</td>\n",
       "      <td>0.334187</td>\n",
       "      <td>0.429614</td>\n",
       "      <td>0.708858</td>\n",
       "      <td>0.463489</td>\n",
       "      <td>0.083636</td>\n",
       "      <td>0.168406</td>\n",
       "      <td>0.018926</td>\n",
       "      <td>...</td>\n",
       "      <td>0.436818</td>\n",
       "      <td>0.062092</td>\n",
       "      <td>0.002873</td>\n",
       "      <td>0.646824</td>\n",
       "      <td>0.085102</td>\n",
       "      <td>0.750723</td>\n",
       "      <td>0.653464</td>\n",
       "      <td>0.692647</td>\n",
       "      <td>0.005563</td>\n",
       "      <td>0.127510</td>\n",
       "    </tr>\n",
       "    <tr>\n",
       "      <th>3</th>\n",
       "      <td>0.383825</td>\n",
       "      <td>0.053211</td>\n",
       "      <td>0.599283</td>\n",
       "      <td>0.666747</td>\n",
       "      <td>0.412962</td>\n",
       "      <td>0.548038</td>\n",
       "      <td>0.373123</td>\n",
       "      <td>0.150179</td>\n",
       "      <td>0.367594</td>\n",
       "      <td>0.462709</td>\n",
       "      <td>...</td>\n",
       "      <td>0.536762</td>\n",
       "      <td>0.457959</td>\n",
       "      <td>0.070745</td>\n",
       "      <td>0.463101</td>\n",
       "      <td>0.031537</td>\n",
       "      <td>0.773964</td>\n",
       "      <td>0.594639</td>\n",
       "      <td>0.078160</td>\n",
       "      <td>0.265225</td>\n",
       "      <td>0.720895</td>\n",
       "    </tr>\n",
       "    <tr>\n",
       "      <th>4</th>\n",
       "      <td>0.653280</td>\n",
       "      <td>-0.003362</td>\n",
       "      <td>0.486367</td>\n",
       "      <td>0.567220</td>\n",
       "      <td>0.437471</td>\n",
       "      <td>0.072625</td>\n",
       "      <td>0.480086</td>\n",
       "      <td>0.704411</td>\n",
       "      <td>0.122520</td>\n",
       "      <td>0.140194</td>\n",
       "      <td>...</td>\n",
       "      <td>0.484223</td>\n",
       "      <td>0.018821</td>\n",
       "      <td>0.047032</td>\n",
       "      <td>0.529248</td>\n",
       "      <td>0.103376</td>\n",
       "      <td>0.698409</td>\n",
       "      <td>0.730481</td>\n",
       "      <td>0.628533</td>\n",
       "      <td>0.686405</td>\n",
       "      <td>0.221547</td>\n",
       "    </tr>\n",
       "    <tr>\n",
       "      <th>5</th>\n",
       "      <td>0.045528</td>\n",
       "      <td>0.694261</td>\n",
       "      <td>0.526924</td>\n",
       "      <td>0.687678</td>\n",
       "      <td>0.428343</td>\n",
       "      <td>0.110254</td>\n",
       "      <td>0.063979</td>\n",
       "      <td>0.043601</td>\n",
       "      <td>0.283937</td>\n",
       "      <td>0.674977</td>\n",
       "      <td>...</td>\n",
       "      <td>0.061738</td>\n",
       "      <td>0.348861</td>\n",
       "      <td>0.359173</td>\n",
       "      <td>0.591871</td>\n",
       "      <td>0.403512</td>\n",
       "      <td>0.109635</td>\n",
       "      <td>0.094345</td>\n",
       "      <td>0.593782</td>\n",
       "      <td>0.472435</td>\n",
       "      <td>0.638942</td>\n",
       "    </tr>\n",
       "    <tr>\n",
       "      <th>6</th>\n",
       "      <td>0.701916</td>\n",
       "      <td>0.712294</td>\n",
       "      <td>0.724926</td>\n",
       "      <td>0.136221</td>\n",
       "      <td>0.465259</td>\n",
       "      <td>0.049291</td>\n",
       "      <td>0.014988</td>\n",
       "      <td>0.603787</td>\n",
       "      <td>0.441639</td>\n",
       "      <td>0.259940</td>\n",
       "      <td>...</td>\n",
       "      <td>0.195111</td>\n",
       "      <td>0.088260</td>\n",
       "      <td>0.710912</td>\n",
       "      <td>0.254999</td>\n",
       "      <td>0.473680</td>\n",
       "      <td>0.045741</td>\n",
       "      <td>0.280511</td>\n",
       "      <td>0.500214</td>\n",
       "      <td>0.511894</td>\n",
       "      <td>0.222266</td>\n",
       "    </tr>\n",
       "    <tr>\n",
       "      <th>7</th>\n",
       "      <td>0.546010</td>\n",
       "      <td>0.416507</td>\n",
       "      <td>0.266918</td>\n",
       "      <td>0.245136</td>\n",
       "      <td>-0.009617</td>\n",
       "      <td>0.269479</td>\n",
       "      <td>0.193600</td>\n",
       "      <td>0.265470</td>\n",
       "      <td>0.254461</td>\n",
       "      <td>0.598631</td>\n",
       "      <td>...</td>\n",
       "      <td>0.038735</td>\n",
       "      <td>0.059057</td>\n",
       "      <td>-0.013714</td>\n",
       "      <td>0.690454</td>\n",
       "      <td>0.031382</td>\n",
       "      <td>0.759830</td>\n",
       "      <td>0.462607</td>\n",
       "      <td>0.560391</td>\n",
       "      <td>0.393360</td>\n",
       "      <td>0.175719</td>\n",
       "    </tr>\n",
       "    <tr>\n",
       "      <th>8</th>\n",
       "      <td>0.025380</td>\n",
       "      <td>0.689546</td>\n",
       "      <td>0.477830</td>\n",
       "      <td>0.515672</td>\n",
       "      <td>0.162360</td>\n",
       "      <td>-0.012898</td>\n",
       "      <td>0.089360</td>\n",
       "      <td>0.206481</td>\n",
       "      <td>0.562323</td>\n",
       "      <td>0.194302</td>\n",
       "      <td>...</td>\n",
       "      <td>-0.001373</td>\n",
       "      <td>0.012446</td>\n",
       "      <td>0.087525</td>\n",
       "      <td>0.517900</td>\n",
       "      <td>-0.029892</td>\n",
       "      <td>0.034434</td>\n",
       "      <td>0.438668</td>\n",
       "      <td>0.635387</td>\n",
       "      <td>0.343381</td>\n",
       "      <td>0.077775</td>\n",
       "    </tr>\n",
       "    <tr>\n",
       "      <th>9</th>\n",
       "      <td>0.467970</td>\n",
       "      <td>0.428290</td>\n",
       "      <td>0.569689</td>\n",
       "      <td>0.387544</td>\n",
       "      <td>0.009497</td>\n",
       "      <td>0.089873</td>\n",
       "      <td>0.661347</td>\n",
       "      <td>0.485723</td>\n",
       "      <td>0.322449</td>\n",
       "      <td>0.180848</td>\n",
       "      <td>...</td>\n",
       "      <td>0.099019</td>\n",
       "      <td>0.129751</td>\n",
       "      <td>0.098598</td>\n",
       "      <td>0.667496</td>\n",
       "      <td>0.040024</td>\n",
       "      <td>0.647102</td>\n",
       "      <td>0.676867</td>\n",
       "      <td>0.559685</td>\n",
       "      <td>0.516585</td>\n",
       "      <td>0.007522</td>\n",
       "    </tr>\n",
       "    <tr>\n",
       "      <th>10</th>\n",
       "      <td>0.017642</td>\n",
       "      <td>0.465589</td>\n",
       "      <td>0.603563</td>\n",
       "      <td>0.577018</td>\n",
       "      <td>0.060323</td>\n",
       "      <td>0.002411</td>\n",
       "      <td>0.237237</td>\n",
       "      <td>0.527605</td>\n",
       "      <td>0.397382</td>\n",
       "      <td>0.080872</td>\n",
       "      <td>...</td>\n",
       "      <td>0.342933</td>\n",
       "      <td>0.393625</td>\n",
       "      <td>0.017460</td>\n",
       "      <td>0.123986</td>\n",
       "      <td>0.144014</td>\n",
       "      <td>0.627169</td>\n",
       "      <td>0.025419</td>\n",
       "      <td>0.672621</td>\n",
       "      <td>0.495283</td>\n",
       "      <td>0.629574</td>\n",
       "    </tr>\n",
       "    <tr>\n",
       "      <th>11</th>\n",
       "      <td>0.428028</td>\n",
       "      <td>0.615465</td>\n",
       "      <td>0.144674</td>\n",
       "      <td>0.013241</td>\n",
       "      <td>0.051789</td>\n",
       "      <td>0.343448</td>\n",
       "      <td>0.303521</td>\n",
       "      <td>0.542848</td>\n",
       "      <td>0.514456</td>\n",
       "      <td>0.281812</td>\n",
       "      <td>...</td>\n",
       "      <td>0.646868</td>\n",
       "      <td>0.499452</td>\n",
       "      <td>0.418559</td>\n",
       "      <td>0.256804</td>\n",
       "      <td>0.147372</td>\n",
       "      <td>0.525119</td>\n",
       "      <td>0.670532</td>\n",
       "      <td>0.465711</td>\n",
       "      <td>0.006253</td>\n",
       "      <td>0.642802</td>\n",
       "    </tr>\n",
       "    <tr>\n",
       "      <th>12</th>\n",
       "      <td>0.038607</td>\n",
       "      <td>0.284245</td>\n",
       "      <td>0.237859</td>\n",
       "      <td>0.722047</td>\n",
       "      <td>0.446806</td>\n",
       "      <td>0.541948</td>\n",
       "      <td>0.046072</td>\n",
       "      <td>0.423340</td>\n",
       "      <td>0.329035</td>\n",
       "      <td>0.497751</td>\n",
       "      <td>...</td>\n",
       "      <td>-0.001688</td>\n",
       "      <td>0.051127</td>\n",
       "      <td>0.162988</td>\n",
       "      <td>0.567601</td>\n",
       "      <td>0.193875</td>\n",
       "      <td>0.546047</td>\n",
       "      <td>0.502918</td>\n",
       "      <td>0.189808</td>\n",
       "      <td>0.189063</td>\n",
       "      <td>0.447276</td>\n",
       "    </tr>\n",
       "    <tr>\n",
       "      <th>13</th>\n",
       "      <td>-0.019655</td>\n",
       "      <td>0.668216</td>\n",
       "      <td>0.501783</td>\n",
       "      <td>0.371863</td>\n",
       "      <td>0.691665</td>\n",
       "      <td>0.478823</td>\n",
       "      <td>0.226200</td>\n",
       "      <td>0.388910</td>\n",
       "      <td>0.061605</td>\n",
       "      <td>0.338697</td>\n",
       "      <td>...</td>\n",
       "      <td>0.164434</td>\n",
       "      <td>0.034401</td>\n",
       "      <td>0.676346</td>\n",
       "      <td>0.455427</td>\n",
       "      <td>0.124188</td>\n",
       "      <td>0.657226</td>\n",
       "      <td>0.058692</td>\n",
       "      <td>0.659859</td>\n",
       "      <td>0.021396</td>\n",
       "      <td>0.669880</td>\n",
       "    </tr>\n",
       "    <tr>\n",
       "      <th>14</th>\n",
       "      <td>0.007357</td>\n",
       "      <td>0.574416</td>\n",
       "      <td>0.337399</td>\n",
       "      <td>0.091577</td>\n",
       "      <td>0.133313</td>\n",
       "      <td>0.088239</td>\n",
       "      <td>0.646339</td>\n",
       "      <td>0.198467</td>\n",
       "      <td>0.444161</td>\n",
       "      <td>0.337331</td>\n",
       "      <td>...</td>\n",
       "      <td>0.208309</td>\n",
       "      <td>0.014947</td>\n",
       "      <td>0.167581</td>\n",
       "      <td>0.722351</td>\n",
       "      <td>0.681049</td>\n",
       "      <td>0.603132</td>\n",
       "      <td>0.540308</td>\n",
       "      <td>0.725603</td>\n",
       "      <td>0.083069</td>\n",
       "      <td>0.499746</td>\n",
       "    </tr>\n",
       "    <tr>\n",
       "      <th>15</th>\n",
       "      <td>0.104965</td>\n",
       "      <td>0.717097</td>\n",
       "      <td>0.657615</td>\n",
       "      <td>0.113521</td>\n",
       "      <td>0.069508</td>\n",
       "      <td>-0.012974</td>\n",
       "      <td>0.051518</td>\n",
       "      <td>0.525215</td>\n",
       "      <td>0.294074</td>\n",
       "      <td>0.548270</td>\n",
       "      <td>...</td>\n",
       "      <td>0.000530</td>\n",
       "      <td>0.165524</td>\n",
       "      <td>0.586331</td>\n",
       "      <td>0.029135</td>\n",
       "      <td>0.507182</td>\n",
       "      <td>0.606235</td>\n",
       "      <td>0.007034</td>\n",
       "      <td>0.376602</td>\n",
       "      <td>0.036376</td>\n",
       "      <td>0.489163</td>\n",
       "    </tr>\n",
       "    <tr>\n",
       "      <th>16</th>\n",
       "      <td>0.386335</td>\n",
       "      <td>0.158890</td>\n",
       "      <td>0.032618</td>\n",
       "      <td>-0.019089</td>\n",
       "      <td>0.183273</td>\n",
       "      <td>0.131765</td>\n",
       "      <td>0.679337</td>\n",
       "      <td>0.630493</td>\n",
       "      <td>0.211758</td>\n",
       "      <td>0.281544</td>\n",
       "      <td>...</td>\n",
       "      <td>0.427899</td>\n",
       "      <td>0.165924</td>\n",
       "      <td>0.220244</td>\n",
       "      <td>0.675285</td>\n",
       "      <td>0.327599</td>\n",
       "      <td>0.507508</td>\n",
       "      <td>0.384228</td>\n",
       "      <td>0.241889</td>\n",
       "      <td>0.415134</td>\n",
       "      <td>0.752098</td>\n",
       "    </tr>\n",
       "    <tr>\n",
       "      <th>17</th>\n",
       "      <td>0.601405</td>\n",
       "      <td>0.251883</td>\n",
       "      <td>0.651988</td>\n",
       "      <td>0.299814</td>\n",
       "      <td>-0.002835</td>\n",
       "      <td>0.213190</td>\n",
       "      <td>0.210597</td>\n",
       "      <td>0.346955</td>\n",
       "      <td>0.235610</td>\n",
       "      <td>0.357577</td>\n",
       "      <td>...</td>\n",
       "      <td>0.092760</td>\n",
       "      <td>0.125332</td>\n",
       "      <td>0.167577</td>\n",
       "      <td>0.424392</td>\n",
       "      <td>0.172164</td>\n",
       "      <td>0.261645</td>\n",
       "      <td>0.001706</td>\n",
       "      <td>0.572136</td>\n",
       "      <td>0.685282</td>\n",
       "      <td>0.229736</td>\n",
       "    </tr>\n",
       "    <tr>\n",
       "      <th>18</th>\n",
       "      <td>0.079224</td>\n",
       "      <td>0.586778</td>\n",
       "      <td>0.431715</td>\n",
       "      <td>-0.040535</td>\n",
       "      <td>0.404613</td>\n",
       "      <td>0.079037</td>\n",
       "      <td>0.161397</td>\n",
       "      <td>0.249580</td>\n",
       "      <td>0.333749</td>\n",
       "      <td>0.616155</td>\n",
       "      <td>...</td>\n",
       "      <td>0.698314</td>\n",
       "      <td>0.072382</td>\n",
       "      <td>0.075494</td>\n",
       "      <td>0.014136</td>\n",
       "      <td>0.471052</td>\n",
       "      <td>0.733010</td>\n",
       "      <td>-0.040867</td>\n",
       "      <td>0.436009</td>\n",
       "      <td>0.009265</td>\n",
       "      <td>0.617360</td>\n",
       "    </tr>\n",
       "    <tr>\n",
       "      <th>19</th>\n",
       "      <td>-0.020044</td>\n",
       "      <td>0.412599</td>\n",
       "      <td>0.091569</td>\n",
       "      <td>0.085987</td>\n",
       "      <td>0.058910</td>\n",
       "      <td>0.135259</td>\n",
       "      <td>0.499118</td>\n",
       "      <td>0.548343</td>\n",
       "      <td>0.604036</td>\n",
       "      <td>0.277324</td>\n",
       "      <td>...</td>\n",
       "      <td>0.169519</td>\n",
       "      <td>0.686182</td>\n",
       "      <td>0.119496</td>\n",
       "      <td>0.500029</td>\n",
       "      <td>0.208575</td>\n",
       "      <td>0.656080</td>\n",
       "      <td>-0.014108</td>\n",
       "      <td>0.333260</td>\n",
       "      <td>0.091499</td>\n",
       "      <td>0.597202</td>\n",
       "    </tr>\n",
       "    <tr>\n",
       "      <th>20</th>\n",
       "      <td>0.030611</td>\n",
       "      <td>0.585070</td>\n",
       "      <td>0.210743</td>\n",
       "      <td>-0.009612</td>\n",
       "      <td>0.682494</td>\n",
       "      <td>0.125303</td>\n",
       "      <td>0.697050</td>\n",
       "      <td>0.264833</td>\n",
       "      <td>0.228829</td>\n",
       "      <td>0.573711</td>\n",
       "      <td>...</td>\n",
       "      <td>0.561816</td>\n",
       "      <td>0.483454</td>\n",
       "      <td>0.644255</td>\n",
       "      <td>0.021464</td>\n",
       "      <td>0.032146</td>\n",
       "      <td>0.439301</td>\n",
       "      <td>0.105617</td>\n",
       "      <td>0.197041</td>\n",
       "      <td>0.166986</td>\n",
       "      <td>0.670419</td>\n",
       "    </tr>\n",
       "  </tbody>\n",
       "</table>\n",
       "<p>21 rows × 41 columns</p>\n",
       "</div>"
      ],
      "text/plain": [
       "          0         4         9         14        22        24        25  \\\n",
       "0   0.136075  0.644643  0.655718  0.431823  0.574567  0.653610  0.633507   \n",
       "1   0.329785  0.172821  0.524054  0.742346  0.290984  0.070555  0.638568   \n",
       "2   0.496259  0.194111  0.420594  0.334187  0.429614  0.708858  0.463489   \n",
       "3   0.383825  0.053211  0.599283  0.666747  0.412962  0.548038  0.373123   \n",
       "4   0.653280 -0.003362  0.486367  0.567220  0.437471  0.072625  0.480086   \n",
       "5   0.045528  0.694261  0.526924  0.687678  0.428343  0.110254  0.063979   \n",
       "6   0.701916  0.712294  0.724926  0.136221  0.465259  0.049291  0.014988   \n",
       "7   0.546010  0.416507  0.266918  0.245136 -0.009617  0.269479  0.193600   \n",
       "8   0.025380  0.689546  0.477830  0.515672  0.162360 -0.012898  0.089360   \n",
       "9   0.467970  0.428290  0.569689  0.387544  0.009497  0.089873  0.661347   \n",
       "10  0.017642  0.465589  0.603563  0.577018  0.060323  0.002411  0.237237   \n",
       "11  0.428028  0.615465  0.144674  0.013241  0.051789  0.343448  0.303521   \n",
       "12  0.038607  0.284245  0.237859  0.722047  0.446806  0.541948  0.046072   \n",
       "13 -0.019655  0.668216  0.501783  0.371863  0.691665  0.478823  0.226200   \n",
       "14  0.007357  0.574416  0.337399  0.091577  0.133313  0.088239  0.646339   \n",
       "15  0.104965  0.717097  0.657615  0.113521  0.069508 -0.012974  0.051518   \n",
       "16  0.386335  0.158890  0.032618 -0.019089  0.183273  0.131765  0.679337   \n",
       "17  0.601405  0.251883  0.651988  0.299814 -0.002835  0.213190  0.210597   \n",
       "18  0.079224  0.586778  0.431715 -0.040535  0.404613  0.079037  0.161397   \n",
       "19 -0.020044  0.412599  0.091569  0.085987  0.058910  0.135259  0.499118   \n",
       "20  0.030611  0.585070  0.210743 -0.009612  0.682494  0.125303  0.697050   \n",
       "\n",
       "          35        36        37  ...        84        86        89        90  \\\n",
       "0   0.314956  0.255302  0.165078  ...  0.520167  0.715751  0.004154  0.652095   \n",
       "1   0.204389  0.333625  0.375461  ...  0.459012  0.476434  0.152263  0.506406   \n",
       "2   0.083636  0.168406  0.018926  ...  0.436818  0.062092  0.002873  0.646824   \n",
       "3   0.150179  0.367594  0.462709  ...  0.536762  0.457959  0.070745  0.463101   \n",
       "4   0.704411  0.122520  0.140194  ...  0.484223  0.018821  0.047032  0.529248   \n",
       "5   0.043601  0.283937  0.674977  ...  0.061738  0.348861  0.359173  0.591871   \n",
       "6   0.603787  0.441639  0.259940  ...  0.195111  0.088260  0.710912  0.254999   \n",
       "7   0.265470  0.254461  0.598631  ...  0.038735  0.059057 -0.013714  0.690454   \n",
       "8   0.206481  0.562323  0.194302  ... -0.001373  0.012446  0.087525  0.517900   \n",
       "9   0.485723  0.322449  0.180848  ...  0.099019  0.129751  0.098598  0.667496   \n",
       "10  0.527605  0.397382  0.080872  ...  0.342933  0.393625  0.017460  0.123986   \n",
       "11  0.542848  0.514456  0.281812  ...  0.646868  0.499452  0.418559  0.256804   \n",
       "12  0.423340  0.329035  0.497751  ... -0.001688  0.051127  0.162988  0.567601   \n",
       "13  0.388910  0.061605  0.338697  ...  0.164434  0.034401  0.676346  0.455427   \n",
       "14  0.198467  0.444161  0.337331  ...  0.208309  0.014947  0.167581  0.722351   \n",
       "15  0.525215  0.294074  0.548270  ...  0.000530  0.165524  0.586331  0.029135   \n",
       "16  0.630493  0.211758  0.281544  ...  0.427899  0.165924  0.220244  0.675285   \n",
       "17  0.346955  0.235610  0.357577  ...  0.092760  0.125332  0.167577  0.424392   \n",
       "18  0.249580  0.333749  0.616155  ...  0.698314  0.072382  0.075494  0.014136   \n",
       "19  0.548343  0.604036  0.277324  ...  0.169519  0.686182  0.119496  0.500029   \n",
       "20  0.264833  0.228829  0.573711  ...  0.561816  0.483454  0.644255  0.021464   \n",
       "\n",
       "          91        92        95        97        98        99  \n",
       "0   0.394871  0.186444  0.742264  0.044102  0.112685  0.019643  \n",
       "1   0.044304  0.147512  0.259074  0.021597  0.242836  0.434171  \n",
       "2   0.085102  0.750723  0.653464  0.692647  0.005563  0.127510  \n",
       "3   0.031537  0.773964  0.594639  0.078160  0.265225  0.720895  \n",
       "4   0.103376  0.698409  0.730481  0.628533  0.686405  0.221547  \n",
       "5   0.403512  0.109635  0.094345  0.593782  0.472435  0.638942  \n",
       "6   0.473680  0.045741  0.280511  0.500214  0.511894  0.222266  \n",
       "7   0.031382  0.759830  0.462607  0.560391  0.393360  0.175719  \n",
       "8  -0.029892  0.034434  0.438668  0.635387  0.343381  0.077775  \n",
       "9   0.040024  0.647102  0.676867  0.559685  0.516585  0.007522  \n",
       "10  0.144014  0.627169  0.025419  0.672621  0.495283  0.629574  \n",
       "11  0.147372  0.525119  0.670532  0.465711  0.006253  0.642802  \n",
       "12  0.193875  0.546047  0.502918  0.189808  0.189063  0.447276  \n",
       "13  0.124188  0.657226  0.058692  0.659859  0.021396  0.669880  \n",
       "14  0.681049  0.603132  0.540308  0.725603  0.083069  0.499746  \n",
       "15  0.507182  0.606235  0.007034  0.376602  0.036376  0.489163  \n",
       "16  0.327599  0.507508  0.384228  0.241889  0.415134  0.752098  \n",
       "17  0.172164  0.261645  0.001706  0.572136  0.685282  0.229736  \n",
       "18  0.471052  0.733010 -0.040867  0.436009  0.009265  0.617360  \n",
       "19  0.208575  0.656080 -0.014108  0.333260  0.091499  0.597202  \n",
       "20  0.032146  0.439301  0.105617  0.197041  0.166986  0.670419  \n",
       "\n",
       "[21 rows x 41 columns]"
      ]
     },
     "execution_count": 49,
     "metadata": {},
     "output_type": "execute_result"
    }
   ],
   "source": [
    "r[parent_idx].head(NUM_TIME_STEPS)"
   ]
  },
  {
   "cell_type": "code",
   "execution_count": 50,
   "metadata": {},
   "outputs": [
    {
     "data": {
      "text/html": [
       "<div>\n",
       "<style scoped>\n",
       "    .dataframe tbody tr th:only-of-type {\n",
       "        vertical-align: middle;\n",
       "    }\n",
       "\n",
       "    .dataframe tbody tr th {\n",
       "        vertical-align: top;\n",
       "    }\n",
       "\n",
       "    .dataframe thead th {\n",
       "        text-align: right;\n",
       "    }\n",
       "</style>\n",
       "<table border=\"1\" class=\"dataframe\">\n",
       "  <thead>\n",
       "    <tr style=\"text-align: right;\">\n",
       "      <th></th>\n",
       "      <th>0</th>\n",
       "      <th>4</th>\n",
       "      <th>9</th>\n",
       "      <th>14</th>\n",
       "      <th>22</th>\n",
       "      <th>24</th>\n",
       "      <th>25</th>\n",
       "      <th>35</th>\n",
       "      <th>36</th>\n",
       "      <th>37</th>\n",
       "      <th>...</th>\n",
       "      <th>84</th>\n",
       "      <th>86</th>\n",
       "      <th>89</th>\n",
       "      <th>90</th>\n",
       "      <th>91</th>\n",
       "      <th>92</th>\n",
       "      <th>95</th>\n",
       "      <th>97</th>\n",
       "      <th>98</th>\n",
       "      <th>99</th>\n",
       "    </tr>\n",
       "  </thead>\n",
       "  <tbody>\n",
       "    <tr>\n",
       "      <th>0</th>\n",
       "      <td>0.165539</td>\n",
       "      <td>0.764241</td>\n",
       "      <td>0.263854</td>\n",
       "      <td>0.386694</td>\n",
       "      <td>0.509230</td>\n",
       "      <td>0.741127</td>\n",
       "      <td>0.675659</td>\n",
       "      <td>0.620824</td>\n",
       "      <td>0.200082</td>\n",
       "      <td>0.070399</td>\n",
       "      <td>...</td>\n",
       "      <td>0.659138</td>\n",
       "      <td>0.626613</td>\n",
       "      <td>0.067647</td>\n",
       "      <td>0.797150</td>\n",
       "      <td>0.418742</td>\n",
       "      <td>0.278836</td>\n",
       "      <td>0.649797</td>\n",
       "      <td>0.085651</td>\n",
       "      <td>0.117422</td>\n",
       "      <td>0.029811</td>\n",
       "    </tr>\n",
       "    <tr>\n",
       "      <th>1</th>\n",
       "      <td>0.312090</td>\n",
       "      <td>0.220041</td>\n",
       "      <td>0.782636</td>\n",
       "      <td>0.579574</td>\n",
       "      <td>0.254949</td>\n",
       "      <td>0.050609</td>\n",
       "      <td>0.654473</td>\n",
       "      <td>0.751116</td>\n",
       "      <td>0.125721</td>\n",
       "      <td>0.504904</td>\n",
       "      <td>...</td>\n",
       "      <td>0.376792</td>\n",
       "      <td>0.491349</td>\n",
       "      <td>0.183897</td>\n",
       "      <td>0.527174</td>\n",
       "      <td>0.032882</td>\n",
       "      <td>0.104773</td>\n",
       "      <td>0.301571</td>\n",
       "      <td>0.066040</td>\n",
       "      <td>0.325206</td>\n",
       "      <td>0.527713</td>\n",
       "    </tr>\n",
       "    <tr>\n",
       "      <th>2</th>\n",
       "      <td>0.590390</td>\n",
       "      <td>0.134658</td>\n",
       "      <td>0.560478</td>\n",
       "      <td>0.297122</td>\n",
       "      <td>0.714888</td>\n",
       "      <td>0.783808</td>\n",
       "      <td>0.465749</td>\n",
       "      <td>0.328685</td>\n",
       "      <td>0.300857</td>\n",
       "      <td>0.113560</td>\n",
       "      <td>...</td>\n",
       "      <td>0.436288</td>\n",
       "      <td>0.007368</td>\n",
       "      <td>0.042005</td>\n",
       "      <td>0.784495</td>\n",
       "      <td>0.049530</td>\n",
       "      <td>0.721235</td>\n",
       "      <td>0.787071</td>\n",
       "      <td>0.746020</td>\n",
       "      <td>0.015249</td>\n",
       "      <td>0.172700</td>\n",
       "    </tr>\n",
       "    <tr>\n",
       "      <th>3</th>\n",
       "      <td>0.410304</td>\n",
       "      <td>0.044856</td>\n",
       "      <td>0.374979</td>\n",
       "      <td>0.921963</td>\n",
       "      <td>0.071594</td>\n",
       "      <td>0.390394</td>\n",
       "      <td>0.173835</td>\n",
       "      <td>0.230194</td>\n",
       "      <td>0.359003</td>\n",
       "      <td>0.570373</td>\n",
       "      <td>...</td>\n",
       "      <td>0.540599</td>\n",
       "      <td>0.491497</td>\n",
       "      <td>0.045832</td>\n",
       "      <td>0.447294</td>\n",
       "      <td>0.009768</td>\n",
       "      <td>0.723892</td>\n",
       "      <td>0.632848</td>\n",
       "      <td>0.033391</td>\n",
       "      <td>0.253742</td>\n",
       "      <td>0.739978</td>\n",
       "    </tr>\n",
       "    <tr>\n",
       "      <th>4</th>\n",
       "      <td>0.824310</td>\n",
       "      <td>0.040861</td>\n",
       "      <td>0.353298</td>\n",
       "      <td>0.592411</td>\n",
       "      <td>0.464934</td>\n",
       "      <td>0.376307</td>\n",
       "      <td>0.403981</td>\n",
       "      <td>0.669590</td>\n",
       "      <td>0.018039</td>\n",
       "      <td>0.085080</td>\n",
       "      <td>...</td>\n",
       "      <td>0.551812</td>\n",
       "      <td>0.005616</td>\n",
       "      <td>0.098045</td>\n",
       "      <td>0.571893</td>\n",
       "      <td>0.098564</td>\n",
       "      <td>0.747784</td>\n",
       "      <td>0.748598</td>\n",
       "      <td>0.623549</td>\n",
       "      <td>0.761574</td>\n",
       "      <td>0.179846</td>\n",
       "    </tr>\n",
       "    <tr>\n",
       "      <th>5</th>\n",
       "      <td>0.034440</td>\n",
       "      <td>0.737795</td>\n",
       "      <td>0.435759</td>\n",
       "      <td>0.312432</td>\n",
       "      <td>0.464916</td>\n",
       "      <td>0.228664</td>\n",
       "      <td>0.668561</td>\n",
       "      <td>0.398946</td>\n",
       "      <td>0.030819</td>\n",
       "      <td>0.060310</td>\n",
       "      <td>...</td>\n",
       "      <td>0.018091</td>\n",
       "      <td>0.455207</td>\n",
       "      <td>0.481704</td>\n",
       "      <td>0.751375</td>\n",
       "      <td>0.390982</td>\n",
       "      <td>0.129553</td>\n",
       "      <td>0.167465</td>\n",
       "      <td>0.651345</td>\n",
       "      <td>0.470322</td>\n",
       "      <td>0.610358</td>\n",
       "    </tr>\n",
       "    <tr>\n",
       "      <th>6</th>\n",
       "      <td>0.627490</td>\n",
       "      <td>0.645237</td>\n",
       "      <td>0.622896</td>\n",
       "      <td>0.260557</td>\n",
       "      <td>0.603850</td>\n",
       "      <td>0.028477</td>\n",
       "      <td>0.040399</td>\n",
       "      <td>0.540659</td>\n",
       "      <td>0.165949</td>\n",
       "      <td>0.197917</td>\n",
       "      <td>...</td>\n",
       "      <td>0.186601</td>\n",
       "      <td>0.026784</td>\n",
       "      <td>0.842857</td>\n",
       "      <td>0.289008</td>\n",
       "      <td>0.598306</td>\n",
       "      <td>0.102617</td>\n",
       "      <td>0.292341</td>\n",
       "      <td>0.455817</td>\n",
       "      <td>0.523958</td>\n",
       "      <td>0.229819</td>\n",
       "    </tr>\n",
       "    <tr>\n",
       "      <th>7</th>\n",
       "      <td>0.496774</td>\n",
       "      <td>0.583216</td>\n",
       "      <td>0.282470</td>\n",
       "      <td>0.222698</td>\n",
       "      <td>0.026805</td>\n",
       "      <td>0.594165</td>\n",
       "      <td>0.314487</td>\n",
       "      <td>0.100662</td>\n",
       "      <td>0.037279</td>\n",
       "      <td>0.161996</td>\n",
       "      <td>...</td>\n",
       "      <td>0.061217</td>\n",
       "      <td>0.041553</td>\n",
       "      <td>0.025505</td>\n",
       "      <td>0.765915</td>\n",
       "      <td>0.088971</td>\n",
       "      <td>0.783222</td>\n",
       "      <td>0.683340</td>\n",
       "      <td>0.668231</td>\n",
       "      <td>0.384354</td>\n",
       "      <td>0.136575</td>\n",
       "    </tr>\n",
       "    <tr>\n",
       "      <th>8</th>\n",
       "      <td>0.015199</td>\n",
       "      <td>0.773253</td>\n",
       "      <td>0.680078</td>\n",
       "      <td>0.574472</td>\n",
       "      <td>0.014102</td>\n",
       "      <td>0.056176</td>\n",
       "      <td>0.139442</td>\n",
       "      <td>0.034239</td>\n",
       "      <td>0.867243</td>\n",
       "      <td>0.059017</td>\n",
       "      <td>...</td>\n",
       "      <td>0.024474</td>\n",
       "      <td>0.014480</td>\n",
       "      <td>0.105239</td>\n",
       "      <td>0.730722</td>\n",
       "      <td>0.000469</td>\n",
       "      <td>0.020981</td>\n",
       "      <td>0.395696</td>\n",
       "      <td>0.772237</td>\n",
       "      <td>0.310642</td>\n",
       "      <td>0.109342</td>\n",
       "    </tr>\n",
       "    <tr>\n",
       "      <th>9</th>\n",
       "      <td>0.684259</td>\n",
       "      <td>0.633812</td>\n",
       "      <td>0.629710</td>\n",
       "      <td>0.083049</td>\n",
       "      <td>0.003627</td>\n",
       "      <td>0.028873</td>\n",
       "      <td>0.769490</td>\n",
       "      <td>0.401291</td>\n",
       "      <td>0.110672</td>\n",
       "      <td>0.608051</td>\n",
       "      <td>...</td>\n",
       "      <td>0.084736</td>\n",
       "      <td>0.147846</td>\n",
       "      <td>0.208304</td>\n",
       "      <td>0.786774</td>\n",
       "      <td>0.045683</td>\n",
       "      <td>0.721827</td>\n",
       "      <td>0.690326</td>\n",
       "      <td>0.761193</td>\n",
       "      <td>0.537486</td>\n",
       "      <td>0.030887</td>\n",
       "    </tr>\n",
       "    <tr>\n",
       "      <th>10</th>\n",
       "      <td>0.011594</td>\n",
       "      <td>0.577329</td>\n",
       "      <td>0.372607</td>\n",
       "      <td>0.713102</td>\n",
       "      <td>0.046360</td>\n",
       "      <td>0.002722</td>\n",
       "      <td>0.775653</td>\n",
       "      <td>0.730533</td>\n",
       "      <td>0.429726</td>\n",
       "      <td>0.274019</td>\n",
       "      <td>...</td>\n",
       "      <td>0.442050</td>\n",
       "      <td>0.476141</td>\n",
       "      <td>0.018245</td>\n",
       "      <td>0.131473</td>\n",
       "      <td>0.293251</td>\n",
       "      <td>0.871893</td>\n",
       "      <td>0.047014</td>\n",
       "      <td>0.599185</td>\n",
       "      <td>0.655810</td>\n",
       "      <td>0.727063</td>\n",
       "    </tr>\n",
       "    <tr>\n",
       "      <th>11</th>\n",
       "      <td>0.405849</td>\n",
       "      <td>0.665527</td>\n",
       "      <td>0.164442</td>\n",
       "      <td>0.058057</td>\n",
       "      <td>0.072266</td>\n",
       "      <td>0.090245</td>\n",
       "      <td>0.696526</td>\n",
       "      <td>0.626599</td>\n",
       "      <td>0.563662</td>\n",
       "      <td>0.405495</td>\n",
       "      <td>...</td>\n",
       "      <td>0.720353</td>\n",
       "      <td>0.522971</td>\n",
       "      <td>0.551480</td>\n",
       "      <td>0.307872</td>\n",
       "      <td>0.110304</td>\n",
       "      <td>0.601547</td>\n",
       "      <td>0.723270</td>\n",
       "      <td>0.423549</td>\n",
       "      <td>0.049634</td>\n",
       "      <td>0.827323</td>\n",
       "    </tr>\n",
       "    <tr>\n",
       "      <th>12</th>\n",
       "      <td>0.018716</td>\n",
       "      <td>0.295986</td>\n",
       "      <td>0.271475</td>\n",
       "      <td>0.694756</td>\n",
       "      <td>0.351440</td>\n",
       "      <td>0.363249</td>\n",
       "      <td>0.170652</td>\n",
       "      <td>0.676011</td>\n",
       "      <td>0.464850</td>\n",
       "      <td>0.221964</td>\n",
       "      <td>...</td>\n",
       "      <td>0.023182</td>\n",
       "      <td>0.051713</td>\n",
       "      <td>0.198958</td>\n",
       "      <td>0.608366</td>\n",
       "      <td>0.175552</td>\n",
       "      <td>0.705159</td>\n",
       "      <td>0.470867</td>\n",
       "      <td>0.149805</td>\n",
       "      <td>0.185998</td>\n",
       "      <td>0.592461</td>\n",
       "    </tr>\n",
       "    <tr>\n",
       "      <th>13</th>\n",
       "      <td>0.025692</td>\n",
       "      <td>0.723154</td>\n",
       "      <td>0.669669</td>\n",
       "      <td>0.505729</td>\n",
       "      <td>0.076369</td>\n",
       "      <td>0.498476</td>\n",
       "      <td>0.233336</td>\n",
       "      <td>0.929324</td>\n",
       "      <td>0.024718</td>\n",
       "      <td>0.699495</td>\n",
       "      <td>...</td>\n",
       "      <td>0.147928</td>\n",
       "      <td>0.002525</td>\n",
       "      <td>0.782490</td>\n",
       "      <td>0.430747</td>\n",
       "      <td>0.141708</td>\n",
       "      <td>0.807072</td>\n",
       "      <td>0.012605</td>\n",
       "      <td>0.708780</td>\n",
       "      <td>0.014176</td>\n",
       "      <td>0.777719</td>\n",
       "    </tr>\n",
       "    <tr>\n",
       "      <th>14</th>\n",
       "      <td>0.010869</td>\n",
       "      <td>0.591201</td>\n",
       "      <td>0.052443</td>\n",
       "      <td>0.303873</td>\n",
       "      <td>0.287764</td>\n",
       "      <td>0.321426</td>\n",
       "      <td>0.871263</td>\n",
       "      <td>0.326869</td>\n",
       "      <td>0.004338</td>\n",
       "      <td>0.474887</td>\n",
       "      <td>...</td>\n",
       "      <td>0.168227</td>\n",
       "      <td>0.071196</td>\n",
       "      <td>0.228098</td>\n",
       "      <td>0.901197</td>\n",
       "      <td>0.813183</td>\n",
       "      <td>0.683938</td>\n",
       "      <td>0.627277</td>\n",
       "      <td>0.767798</td>\n",
       "      <td>0.017979</td>\n",
       "      <td>0.472016</td>\n",
       "    </tr>\n",
       "    <tr>\n",
       "      <th>15</th>\n",
       "      <td>0.105249</td>\n",
       "      <td>0.704497</td>\n",
       "      <td>0.728749</td>\n",
       "      <td>0.355738</td>\n",
       "      <td>0.042969</td>\n",
       "      <td>0.057272</td>\n",
       "      <td>0.441855</td>\n",
       "      <td>0.110116</td>\n",
       "      <td>0.006523</td>\n",
       "      <td>0.068461</td>\n",
       "      <td>...</td>\n",
       "      <td>0.028979</td>\n",
       "      <td>0.211353</td>\n",
       "      <td>0.682956</td>\n",
       "      <td>0.032548</td>\n",
       "      <td>0.516994</td>\n",
       "      <td>0.654863</td>\n",
       "      <td>0.004286</td>\n",
       "      <td>0.481363</td>\n",
       "      <td>0.067009</td>\n",
       "      <td>0.500180</td>\n",
       "    </tr>\n",
       "    <tr>\n",
       "      <th>16</th>\n",
       "      <td>0.372740</td>\n",
       "      <td>0.129610</td>\n",
       "      <td>0.055195</td>\n",
       "      <td>0.005987</td>\n",
       "      <td>0.186399</td>\n",
       "      <td>0.044308</td>\n",
       "      <td>0.560169</td>\n",
       "      <td>0.857154</td>\n",
       "      <td>0.052204</td>\n",
       "      <td>0.059416</td>\n",
       "      <td>...</td>\n",
       "      <td>0.465494</td>\n",
       "      <td>0.132314</td>\n",
       "      <td>0.200187</td>\n",
       "      <td>0.702560</td>\n",
       "      <td>0.389853</td>\n",
       "      <td>0.388311</td>\n",
       "      <td>0.470126</td>\n",
       "      <td>0.191775</td>\n",
       "      <td>0.452660</td>\n",
       "      <td>0.808828</td>\n",
       "    </tr>\n",
       "    <tr>\n",
       "      <th>17</th>\n",
       "      <td>0.557406</td>\n",
       "      <td>0.294744</td>\n",
       "      <td>0.704462</td>\n",
       "      <td>0.479871</td>\n",
       "      <td>0.017314</td>\n",
       "      <td>0.228513</td>\n",
       "      <td>0.086411</td>\n",
       "      <td>0.520940</td>\n",
       "      <td>0.074394</td>\n",
       "      <td>0.070661</td>\n",
       "      <td>...</td>\n",
       "      <td>0.180659</td>\n",
       "      <td>0.119487</td>\n",
       "      <td>0.109386</td>\n",
       "      <td>0.566359</td>\n",
       "      <td>0.272949</td>\n",
       "      <td>0.158618</td>\n",
       "      <td>0.038732</td>\n",
       "      <td>0.639309</td>\n",
       "      <td>0.837272</td>\n",
       "      <td>0.333071</td>\n",
       "    </tr>\n",
       "    <tr>\n",
       "      <th>18</th>\n",
       "      <td>0.050136</td>\n",
       "      <td>0.606869</td>\n",
       "      <td>0.412444</td>\n",
       "      <td>0.029621</td>\n",
       "      <td>0.788348</td>\n",
       "      <td>0.012321</td>\n",
       "      <td>0.146713</td>\n",
       "      <td>0.295126</td>\n",
       "      <td>0.126954</td>\n",
       "      <td>0.623385</td>\n",
       "      <td>...</td>\n",
       "      <td>0.746387</td>\n",
       "      <td>0.128903</td>\n",
       "      <td>0.085676</td>\n",
       "      <td>0.030107</td>\n",
       "      <td>0.674605</td>\n",
       "      <td>0.754805</td>\n",
       "      <td>0.024203</td>\n",
       "      <td>0.441606</td>\n",
       "      <td>0.019347</td>\n",
       "      <td>0.755570</td>\n",
       "    </tr>\n",
       "    <tr>\n",
       "      <th>19</th>\n",
       "      <td>0.001668</td>\n",
       "      <td>0.166324</td>\n",
       "      <td>0.394222</td>\n",
       "      <td>0.032959</td>\n",
       "      <td>0.121612</td>\n",
       "      <td>0.113975</td>\n",
       "      <td>0.454374</td>\n",
       "      <td>0.578793</td>\n",
       "      <td>0.038540</td>\n",
       "      <td>0.299197</td>\n",
       "      <td>...</td>\n",
       "      <td>0.181749</td>\n",
       "      <td>0.803051</td>\n",
       "      <td>0.045435</td>\n",
       "      <td>0.510773</td>\n",
       "      <td>0.372729</td>\n",
       "      <td>0.751247</td>\n",
       "      <td>0.013245</td>\n",
       "      <td>0.272074</td>\n",
       "      <td>0.167211</td>\n",
       "      <td>0.764521</td>\n",
       "    </tr>\n",
       "    <tr>\n",
       "      <th>20</th>\n",
       "      <td>0.039332</td>\n",
       "      <td>0.641739</td>\n",
       "      <td>0.293617</td>\n",
       "      <td>0.001897</td>\n",
       "      <td>0.065248</td>\n",
       "      <td>0.053017</td>\n",
       "      <td>0.718501</td>\n",
       "      <td>0.365569</td>\n",
       "      <td>0.262201</td>\n",
       "      <td>0.766698</td>\n",
       "      <td>...</td>\n",
       "      <td>0.617480</td>\n",
       "      <td>0.432500</td>\n",
       "      <td>0.695618</td>\n",
       "      <td>0.011668</td>\n",
       "      <td>0.011269</td>\n",
       "      <td>0.444371</td>\n",
       "      <td>0.101566</td>\n",
       "      <td>0.215898</td>\n",
       "      <td>0.212707</td>\n",
       "      <td>0.648989</td>\n",
       "    </tr>\n",
       "  </tbody>\n",
       "</table>\n",
       "<p>21 rows × 41 columns</p>\n",
       "</div>"
      ],
      "text/plain": [
       "          0         4         9         14        22        24        25  \\\n",
       "0   0.165539  0.764241  0.263854  0.386694  0.509230  0.741127  0.675659   \n",
       "1   0.312090  0.220041  0.782636  0.579574  0.254949  0.050609  0.654473   \n",
       "2   0.590390  0.134658  0.560478  0.297122  0.714888  0.783808  0.465749   \n",
       "3   0.410304  0.044856  0.374979  0.921963  0.071594  0.390394  0.173835   \n",
       "4   0.824310  0.040861  0.353298  0.592411  0.464934  0.376307  0.403981   \n",
       "5   0.034440  0.737795  0.435759  0.312432  0.464916  0.228664  0.668561   \n",
       "6   0.627490  0.645237  0.622896  0.260557  0.603850  0.028477  0.040399   \n",
       "7   0.496774  0.583216  0.282470  0.222698  0.026805  0.594165  0.314487   \n",
       "8   0.015199  0.773253  0.680078  0.574472  0.014102  0.056176  0.139442   \n",
       "9   0.684259  0.633812  0.629710  0.083049  0.003627  0.028873  0.769490   \n",
       "10  0.011594  0.577329  0.372607  0.713102  0.046360  0.002722  0.775653   \n",
       "11  0.405849  0.665527  0.164442  0.058057  0.072266  0.090245  0.696526   \n",
       "12  0.018716  0.295986  0.271475  0.694756  0.351440  0.363249  0.170652   \n",
       "13  0.025692  0.723154  0.669669  0.505729  0.076369  0.498476  0.233336   \n",
       "14  0.010869  0.591201  0.052443  0.303873  0.287764  0.321426  0.871263   \n",
       "15  0.105249  0.704497  0.728749  0.355738  0.042969  0.057272  0.441855   \n",
       "16  0.372740  0.129610  0.055195  0.005987  0.186399  0.044308  0.560169   \n",
       "17  0.557406  0.294744  0.704462  0.479871  0.017314  0.228513  0.086411   \n",
       "18  0.050136  0.606869  0.412444  0.029621  0.788348  0.012321  0.146713   \n",
       "19  0.001668  0.166324  0.394222  0.032959  0.121612  0.113975  0.454374   \n",
       "20  0.039332  0.641739  0.293617  0.001897  0.065248  0.053017  0.718501   \n",
       "\n",
       "          35        36        37  ...        84        86        89        90  \\\n",
       "0   0.620824  0.200082  0.070399  ...  0.659138  0.626613  0.067647  0.797150   \n",
       "1   0.751116  0.125721  0.504904  ...  0.376792  0.491349  0.183897  0.527174   \n",
       "2   0.328685  0.300857  0.113560  ...  0.436288  0.007368  0.042005  0.784495   \n",
       "3   0.230194  0.359003  0.570373  ...  0.540599  0.491497  0.045832  0.447294   \n",
       "4   0.669590  0.018039  0.085080  ...  0.551812  0.005616  0.098045  0.571893   \n",
       "5   0.398946  0.030819  0.060310  ...  0.018091  0.455207  0.481704  0.751375   \n",
       "6   0.540659  0.165949  0.197917  ...  0.186601  0.026784  0.842857  0.289008   \n",
       "7   0.100662  0.037279  0.161996  ...  0.061217  0.041553  0.025505  0.765915   \n",
       "8   0.034239  0.867243  0.059017  ...  0.024474  0.014480  0.105239  0.730722   \n",
       "9   0.401291  0.110672  0.608051  ...  0.084736  0.147846  0.208304  0.786774   \n",
       "10  0.730533  0.429726  0.274019  ...  0.442050  0.476141  0.018245  0.131473   \n",
       "11  0.626599  0.563662  0.405495  ...  0.720353  0.522971  0.551480  0.307872   \n",
       "12  0.676011  0.464850  0.221964  ...  0.023182  0.051713  0.198958  0.608366   \n",
       "13  0.929324  0.024718  0.699495  ...  0.147928  0.002525  0.782490  0.430747   \n",
       "14  0.326869  0.004338  0.474887  ...  0.168227  0.071196  0.228098  0.901197   \n",
       "15  0.110116  0.006523  0.068461  ...  0.028979  0.211353  0.682956  0.032548   \n",
       "16  0.857154  0.052204  0.059416  ...  0.465494  0.132314  0.200187  0.702560   \n",
       "17  0.520940  0.074394  0.070661  ...  0.180659  0.119487  0.109386  0.566359   \n",
       "18  0.295126  0.126954  0.623385  ...  0.746387  0.128903  0.085676  0.030107   \n",
       "19  0.578793  0.038540  0.299197  ...  0.181749  0.803051  0.045435  0.510773   \n",
       "20  0.365569  0.262201  0.766698  ...  0.617480  0.432500  0.695618  0.011668   \n",
       "\n",
       "          91        92        95        97        98        99  \n",
       "0   0.418742  0.278836  0.649797  0.085651  0.117422  0.029811  \n",
       "1   0.032882  0.104773  0.301571  0.066040  0.325206  0.527713  \n",
       "2   0.049530  0.721235  0.787071  0.746020  0.015249  0.172700  \n",
       "3   0.009768  0.723892  0.632848  0.033391  0.253742  0.739978  \n",
       "4   0.098564  0.747784  0.748598  0.623549  0.761574  0.179846  \n",
       "5   0.390982  0.129553  0.167465  0.651345  0.470322  0.610358  \n",
       "6   0.598306  0.102617  0.292341  0.455817  0.523958  0.229819  \n",
       "7   0.088971  0.783222  0.683340  0.668231  0.384354  0.136575  \n",
       "8   0.000469  0.020981  0.395696  0.772237  0.310642  0.109342  \n",
       "9   0.045683  0.721827  0.690326  0.761193  0.537486  0.030887  \n",
       "10  0.293251  0.871893  0.047014  0.599185  0.655810  0.727063  \n",
       "11  0.110304  0.601547  0.723270  0.423549  0.049634  0.827323  \n",
       "12  0.175552  0.705159  0.470867  0.149805  0.185998  0.592461  \n",
       "13  0.141708  0.807072  0.012605  0.708780  0.014176  0.777719  \n",
       "14  0.813183  0.683938  0.627277  0.767798  0.017979  0.472016  \n",
       "15  0.516994  0.654863  0.004286  0.481363  0.067009  0.500180  \n",
       "16  0.389853  0.388311  0.470126  0.191775  0.452660  0.808828  \n",
       "17  0.272949  0.158618  0.038732  0.639309  0.837272  0.333071  \n",
       "18  0.674605  0.754805  0.024203  0.441606  0.019347  0.755570  \n",
       "19  0.372729  0.751247  0.013245  0.272074  0.167211  0.764521  \n",
       "20  0.011269  0.444371  0.101566  0.215898  0.212707  0.648989  \n",
       "\n",
       "[21 rows x 41 columns]"
      ]
     },
     "execution_count": 50,
     "metadata": {},
     "output_type": "execute_result"
    }
   ],
   "source": [
    "v[parent_idx].head(NUM_TIME_STEPS)"
   ]
  },
  {
   "cell_type": "code",
   "execution_count": 51,
   "metadata": {},
   "outputs": [
    {
     "data": {
      "text/plain": [
       "<tf.Tensor: shape=(), dtype=float32, numpy=0.022026002>"
      ]
     },
     "execution_count": 51,
     "metadata": {},
     "output_type": "execute_result"
    }
   ],
   "source": [
    "ignore_noParent_MSE(validation, o)"
   ]
  },
  {
   "attachments": {},
   "cell_type": "markdown",
   "metadata": {},
   "source": [
    "# Test OG SHAP\n",
    "\n",
    "ms shap sux"
   ]
  },
  {
   "cell_type": "code",
   "execution_count": 53,
   "metadata": {},
   "outputs": [
    {
     "data": {
      "text/plain": [
       "True"
      ]
     },
     "execution_count": 53,
     "metadata": {},
     "output_type": "execute_result"
    }
   ],
   "source": [
    "tf.executing_eagerly()"
   ]
  },
  {
   "cell_type": "code",
   "execution_count": 54,
   "metadata": {},
   "outputs": [],
   "source": [
    "inp = Input(shape=(NUM_TIME_STEPS,NUM_TARGETS))\n",
    "re = tf.keras.layers.Reshape(target_shape=(NUM_TIME_STEPS, NUM_TARGETS))(inp)\n",
    "dout = dense(re)\n",
    "doutRe = tf.squeeze(tf.keras.layers.Reshape(target_shape=(NUM_TIME_STEPS*NUM_TARGETS,1))(dout), axis=-1)\n",
    "denseRE = tf.keras.Model(inputs=inp, outputs=doutRe)"
   ]
  },
  {
   "cell_type": "code",
   "execution_count": 55,
   "metadata": {},
   "outputs": [
    {
     "name": "stdout",
     "output_type": "stream",
     "text": [
      "Model: \"model_2\"\n",
      "_________________________________________________________________\n",
      " Layer (type)                Output Shape              Param #   \n",
      "=================================================================\n",
      " input_3 (InputLayer)        [(None, 21, 100)]         0         \n",
      "                                                                 \n",
      " reshape_2 (Reshape)         (None, 21, 100)           0         \n",
      "                                                                 \n",
      " model_1 (Functional)        (None, 21, 100)           452041    \n",
      "                                                                 \n",
      " reshape_3 (Reshape)         (None, 2100, 1)           0         \n",
      "                                                                 \n",
      " tf.compat.v1.squeeze (TFOpL  (None, 2100)             0         \n",
      " ambda)                                                          \n",
      "                                                                 \n",
      "=================================================================\n",
      "Total params: 452,041\n",
      "Trainable params: 452,041\n",
      "Non-trainable params: 0\n",
      "_________________________________________________________________\n"
     ]
    }
   ],
   "source": [
    "denseRE.summary()"
   ]
  },
  {
   "cell_type": "code",
   "execution_count": 56,
   "metadata": {},
   "outputs": [
    {
     "data": {
      "text/plain": [
       "<tf.Tensor: shape=(2, 2100), dtype=float32, numpy=\n",
       "array([[0.13607456, 0.        , 0.        , ..., 0.19704118, 0.16698585,\n",
       "        0.6704188 ],\n",
       "       [0.16450553, 0.        , 0.        , ..., 0.3183537 , 0.18375535,\n",
       "        0.7955263 ]], dtype=float32)>"
      ]
     },
     "execution_count": 56,
     "metadata": {},
     "output_type": "execute_result"
    }
   ],
   "source": [
    "denseRE(validation)"
   ]
  },
  {
   "cell_type": "code",
   "execution_count": 59,
   "metadata": {},
   "outputs": [
    {
     "name": "stderr",
     "output_type": "stream",
     "text": [
      "100%|██████████| 2100/2100 [10:58<00:00,  3.19it/s] \n"
     ]
    }
   ],
   "source": [
    "\n",
    "model = denseRE\n",
    "# def map2layer(x, layer):\n",
    "#     feed_dict = dict(zip([model.layers[0].input.ref()], [x.copy()]))\n",
    "#     return K.get_session().run(model.layers[layer].input, feed_dict)\n",
    "\n",
    "\n",
    "e = shap.GradientExplainer(model,\n",
    "    #(model.layers[0].input, model.layers[-1].output),\n",
    "    allData,\n",
    "    local_smoothing=0 # std dev of smoothing noise\n",
    ")\n",
    "sv = e.shap_values(validation)\n",
    "# shap_values,indexes = e.shap_values(map2layer(to_explain, 7), ranked_outputs=2)"
   ]
  },
  {
   "cell_type": "code",
   "execution_count": 63,
   "metadata": {},
   "outputs": [],
   "source": [
    "sv= np.array(sv)"
   ]
  },
  {
   "cell_type": "code",
   "execution_count": 67,
   "metadata": {},
   "outputs": [
    {
     "data": {
      "text/plain": [
       "(2100, 2, 21, 100)"
      ]
     },
     "execution_count": 67,
     "metadata": {},
     "output_type": "execute_result"
    }
   ],
   "source": [
    "sv.shape"
   ]
  },
  {
   "cell_type": "code",
   "execution_count": 73,
   "metadata": {},
   "outputs": [
    {
     "data": {
      "image/png": "[encoded data removed]",
      "text/plain": [
       "<Figure size 432x540 with 5 Axes>"
      ]
     },
     "metadata": {
      "needs_background": "light"
     },
     "output_type": "display_data"
    }
   ],
   "source": [
    "shap.image_plot(sv[0:4], validation)"
   ]
  },
  {
   "cell_type": "code",
   "execution_count": 78,
   "metadata": {},
   "outputs": [
    {
     "data": {
      "text/plain": [
       "(2025, 0, 12, 44)"
      ]
     },
     "execution_count": 78,
     "metadata": {},
     "output_type": "execute_result"
    }
   ],
   "source": [
    "sv.argmax()\n",
    "np.unravel_index(8506244, sv.shape)"
   ]
  },
  {
   "cell_type": "code",
   "execution_count": 79,
   "metadata": {},
   "outputs": [
    {
     "data": {
      "text/plain": [
       "0.0"
      ]
     },
     "execution_count": 79,
     "metadata": {},
     "output_type": "execute_result"
    }
   ],
   "source": [
    "goldIm[12][44]"
   ]
  },
  {
   "cell_type": "code",
   "execution_count": 64,
   "metadata": {},
   "outputs": [
    {
     "data": {
      "text/plain": [
       "(2, 21, 100)"
      ]
     },
     "execution_count": 64,
     "metadata": {},
     "output_type": "execute_result"
    }
   ],
   "source": [
    "validation.shape"
   ]
  },
  {
   "cell_type": "code",
   "execution_count": 65,
   "metadata": {},
   "outputs": [
    {
     "data": {
      "text/plain": [
       "(2, 2100)"
      ]
     },
     "execution_count": 65,
     "metadata": {},
     "output_type": "execute_result"
    }
   ],
   "source": [
    "valR = validation.reshape(( validation.shape[0], validation.shape[1]*validation.shape[2]))\n",
    "valR.shape"
   ]
  },
  {
   "cell_type": "code",
   "execution_count": 80,
   "metadata": {},
   "outputs": [
    {
     "data": {
      "text/plain": [
       "(2,)"
      ]
     },
     "execution_count": 80,
     "metadata": {},
     "output_type": "execute_result"
    }
   ],
   "source": [
    "valR.mean(axis=1).shape"
   ]
  },
  {
   "cell_type": "code",
   "execution_count": 85,
   "metadata": {},
   "outputs": [
    {
     "data": {
      "text/plain": [
       "array([[0., 0., 1., ..., 0., 0., 1.],\n",
       "       [0., 0., 1., ..., 0., 0., 1.]])"
      ]
     },
     "execution_count": 85,
     "metadata": {},
     "output_type": "execute_result"
    },
    {
     "data": {
      "image/png": "[encoded data removed]",
      "text/plain": [
       "<Figure size 1080x360 with 1 Axes>"
      ]
     },
     "metadata": {
      "needs_background": "light"
     },
     "output_type": "display_data"
    }
   ],
   "source": [
    "bs = np.nonzero(valR >valR.mean())\n",
    "tmagIm = np.zeros(shape=valR.shape) \n",
    "tmagIm[bs] = 1\n",
    "plt.plot(tmagIm[0]);\n",
    "bs = tmagIm\n",
    "del tmagIm\n"
   ]
  },
  {
   "cell_type": "code",
   "execution_count": 86,
   "metadata": {},
   "outputs": [
    {
     "name": "stdout",
     "output_type": "stream",
     "text": [
      "1/1 [==============================] - 0s 16ms/step\n"
     ]
    },
    {
     "ename": "Exception",
     "evalue": "multiclass SHAP not supported",
     "output_type": "error",
     "traceback": [
      "\u001b[1;31m---------------------------------------------------------------------------\u001b[0m",
      "\u001b[1;31mException\u001b[0m                                 Traceback (most recent call last)",
      "\u001b[1;32mc:\\Users\\Fin Amin\\Desktop\\StemCellResearch\\dream4_100\\DreamEncoder4_TestNewShap.ipynb Cell 69\u001b[0m in \u001b[0;36m<cell line: 27>\u001b[1;34m()\u001b[0m\n\u001b[0;32m     <a href='vscode-notebook-cell:/c%3A/Users/Fin%20Amin/Desktop/StemCellResearch/dream4_100/DreamEncoder4_TestNewShap.ipynb#Y564sZmlsZQ%3D%3D?line=15'>16</a>\u001b[0m \u001b[39m# X, y = load_breast_cancer(return_X_y=True, as_frame=True)\u001b[39;00m\n\u001b[0;32m     <a href='vscode-notebook-cell:/c%3A/Users/Fin%20Amin/Desktop/StemCellResearch/dream4_100/DreamEncoder4_TestNewShap.ipynb#Y564sZmlsZQ%3D%3D?line=16'>17</a>\u001b[0m \u001b[39m# X_train, X_test, y_train, y_test = train_test_split(X, y, test_size=0.20, random_state=seed)\u001b[39;00m\n\u001b[0;32m     <a href='vscode-notebook-cell:/c%3A/Users/Fin%20Amin/Desktop/StemCellResearch/dream4_100/DreamEncoder4_TestNewShap.ipynb#Y564sZmlsZQ%3D%3D?line=17'>18</a>\u001b[0m \n\u001b[1;32m   (...)\u001b[0m\n\u001b[0;32m     <a href='vscode-notebook-cell:/c%3A/Users/Fin%20Amin/Desktop/StemCellResearch/dream4_100/DreamEncoder4_TestNewShap.ipynb#Y564sZmlsZQ%3D%3D?line=21'>22</a>\u001b[0m \u001b[39m# blackbox_model = Pipeline([('pca', pca), ('rf', rf)])\u001b[39;00m\n\u001b[0;32m     <a href='vscode-notebook-cell:/c%3A/Users/Fin%20Amin/Desktop/StemCellResearch/dream4_100/DreamEncoder4_TestNewShap.ipynb#Y564sZmlsZQ%3D%3D?line=22'>23</a>\u001b[0m \u001b[39m# blackbox_model.fit(X_train, y_train)\u001b[39;00m\n\u001b[0;32m     <a href='vscode-notebook-cell:/c%3A/Users/Fin%20Amin/Desktop/StemCellResearch/dream4_100/DreamEncoder4_TestNewShap.ipynb#Y564sZmlsZQ%3D%3D?line=24'>25</a>\u001b[0m blackbox_model \u001b[39m=\u001b[39m denseRE\n\u001b[1;32m---> <a href='vscode-notebook-cell:/c%3A/Users/Fin%20Amin/Desktop/StemCellResearch/dream4_100/DreamEncoder4_TestNewShap.ipynb#Y564sZmlsZQ%3D%3D?line=26'>27</a>\u001b[0m shap \u001b[39m=\u001b[39m ShapKernel(blackbox_model\u001b[39m.\u001b[39;49mpredict, bs)\n\u001b[0;32m     <a href='vscode-notebook-cell:/c%3A/Users/Fin%20Amin/Desktop/StemCellResearch/dream4_100/DreamEncoder4_TestNewShap.ipynb#Y564sZmlsZQ%3D%3D?line=27'>28</a>\u001b[0m \u001b[39mwith\u001b[39;00m warnings\u001b[39m.\u001b[39mcatch_warnings():\n\u001b[0;32m     <a href='vscode-notebook-cell:/c%3A/Users/Fin%20Amin/Desktop/StemCellResearch/dream4_100/DreamEncoder4_TestNewShap.ipynb#Y564sZmlsZQ%3D%3D?line=28'>29</a>\u001b[0m     warnings\u001b[39m.\u001b[39mfilterwarnings(\u001b[39m\"\u001b[39m\u001b[39mignore\u001b[39m\u001b[39m\"\u001b[39m)\n",
      "File \u001b[1;32m~\\AppData\\Roaming\\Python\\Python39\\site-packages\\interpret\\blackbox\\shap.py:46\u001b[0m, in \u001b[0;36mShapKernel.__init__\u001b[1;34m(self, model, data, feature_names, feature_types, **kwargs)\u001b[0m\n\u001b[0;32m     44\u001b[0m predict_fn, n_classes, _ \u001b[39m=\u001b[39m determine_classes(model, data, n_samples)\n\u001b[0;32m     45\u001b[0m \u001b[39mif\u001b[39;00m \u001b[39m3\u001b[39m \u001b[39m<\u001b[39m\u001b[39m=\u001b[39m n_classes:\n\u001b[1;32m---> 46\u001b[0m     \u001b[39mraise\u001b[39;00m \u001b[39mException\u001b[39;00m(\u001b[39m\"\u001b[39m\u001b[39mmulticlass SHAP not supported\u001b[39m\u001b[39m\"\u001b[39m)\n\u001b[0;32m     47\u001b[0m predict_fn \u001b[39m=\u001b[39m unify_predict_fn(predict_fn, data, \u001b[39m1\u001b[39m \u001b[39mif\u001b[39;00m n_classes \u001b[39m==\u001b[39m \u001b[39m2\u001b[39m \u001b[39melse\u001b[39;00m \u001b[39m-\u001b[39m\u001b[39m1\u001b[39m)\n\u001b[0;32m     49\u001b[0m data, \u001b[39mself\u001b[39m\u001b[39m.\u001b[39mfeature_names_in_, \u001b[39mself\u001b[39m\u001b[39m.\u001b[39mfeature_types_in_ \u001b[39m=\u001b[39m unify_data(\n\u001b[0;32m     50\u001b[0m     data, n_samples, feature_names, feature_types, \u001b[39mFalse\u001b[39;00m, \u001b[39m0\u001b[39m\n\u001b[0;32m     51\u001b[0m )\n",
      "\u001b[1;31mException\u001b[0m: multiclass SHAP not supported"
     ]
    }
   ],
   "source": [
    "# import numpy as np\n",
    "# from sklearn.datasets import load_breast_cancer\n",
    "# from sklearn.model_selection import train_test_split\n",
    "\n",
    "# from sklearn.ensemble import RandomForestClassifier\n",
    "# from sklearn.decomposition import PCA\n",
    "# from sklearn.pipeline import Pipeline\n",
    "\n",
    "# import warnings\n",
    "\n",
    "# from interpret import show\n",
    "# from interpret.blackbox import ShapKernel\n",
    "\n",
    "seed = 42\n",
    "np.random.seed(seed)\n",
    "# X, y = load_breast_cancer(return_X_y=True, as_frame=True)\n",
    "# X_train, X_test, y_train, y_test = train_test_split(X, y, test_size=0.20, random_state=seed)\n",
    "\n",
    "# pca = PCA()\n",
    "# rf = RandomForestClassifier(n_estimators=100, n_jobs=-1, random_state=seed)\n",
    "\n",
    "# blackbox_model = Pipeline([('pca', pca), ('rf', rf)])\n",
    "# blackbox_model.fit(X_train, y_train)\n",
    "\n",
    "blackbox_model = denseRE\n",
    "\n",
    "shap = ShapKernel(blackbox_model.predict, bs)\n",
    "with warnings.catch_warnings():\n",
    "    warnings.filterwarnings(\"ignore\")\n",
    "    shap_local = shap.explain_local(bs, bs)\n",
    "\n",
    "show(shap_local, 0)"
   ]
  },
  {
   "cell_type": "code",
   "execution_count": null,
   "metadata": {},
   "outputs": [],
   "source": []
  },
  {
   "cell_type": "markdown",
   "metadata": {},
   "source": [
    "# Latent Space Size Experiment"
   ]
  },
  {
   "cell_type": "code",
   "execution_count": null,
   "metadata": {},
   "outputs": [],
   "source": [
    "# print(NUM_PARENTS, NUM_TARGETS)"
   ]
  },
  {
   "cell_type": "code",
   "execution_count": null,
   "metadata": {},
   "outputs": [],
   "source": [
    "# #to test on entire DS: \n",
    "# N = 50\n",
    "# hidden = np.arange(1,NUM_PARENTS+1, 1) #range(1,32)\n",
    "# lossMatrix = []\n",
    "# for i in tqdm(range(N)):\n",
    "    \n",
    "#     losses = []\n",
    "#     for value in (hidden):\n",
    "#         dense = modelDense2(superParent, regulator_gene_matrix, NUM_TARGETS, NUM_TIME_STEPS, NUM_TARGETS, value)\n",
    "#         dense.compile(optimizer='adam', loss=ignore_noParent_MSE)\n",
    "#         dense.fit(allData, allData, epochs=40,  verbose=0)\n",
    "#         test_hat = dense(allData) #, verbose = 0)\n",
    "#         loss = ignore_noParent_MSE(allData, test_hat)\n",
    "#         losses.append(loss)\n",
    "#         tf.keras.backend.clear_session()\n",
    "#     lossMatrix.append(losses)\n",
    "    \n",
    "# lossMatrix = np.array(lossMatrix)\n",
    "# #run 100 times \n",
    "\n",
    "\n",
    "#To test on Test set:\n",
    "# N = 40\n",
    "# hidden = np.arange(2,24, 1) #range(1,32)\n",
    "# lossMatrix = []\n",
    "# for i in tqdm(range(N)):\n",
    "    \n",
    "#     losses = []\n",
    "#     for value in (hidden):\n",
    "#         dense = modelDense2(superParent, regulator_gene_matrix, NUM_TARGETS, NUM_TIME_STEPS, NUM_TARGETS, value)\n",
    "#         dense.compile(optimizer='adam', loss=ignore_noParent_MSE)\n",
    "#         dense.fit(beanIntensities, beanIntensities, epochs=40,  verbose=0)\n",
    "#         test_hat = dense(validation) #, verbose = 0)\n",
    "#         loss = ignore_noParent_MSE(validation, test_hat)\n",
    "#         losses.append(loss)\n",
    "#         tf.keras.backend.clear_session()\n",
    "#     lossMatrix.append(losses)\n",
    "    \n",
    "# lossMatrix = np.array(lossMatrix)\n",
    "# #run 100 times "
   ]
  },
  {
   "cell_type": "code",
   "execution_count": null,
   "metadata": {},
   "outputs": [],
   "source": [
    "# avgMSE = np.average(lossMatrix, axis = 0)\n",
    "# plt.plot(hidden, avgMSE);\n",
    "# plt.xlabel(\"Latent Space Size\",fontsize=15);\n",
    "# plt.ylabel(\"MSE\",fontsize=15);\n",
    "# plt.title(\"Glycine Max: MSE with Respect to the Latent Space Size\", fontweight='bold', fontsize = 18);"
   ]
  },
  {
   "cell_type": "code",
   "execution_count": null,
   "metadata": {},
   "outputs": [],
   "source": [
    "# lm = pd.DataFrame(lossMatrix)\n",
    "# lm.to_csv(\"lossmatrix4lisa_dream4.csv\")"
   ]
  },
  {
   "cell_type": "code",
   "execution_count": null,
   "metadata": {},
   "outputs": [],
   "source": [
    "# temp = pd.read_csv(\"lossmatrix4lisa_dream4.csv\").to_numpy()\n",
    "# print(temp.shape)\n",
    "# avgMSE = np.average(lossMatrix, axis=0)"
   ]
  },
  {
   "cell_type": "code",
   "execution_count": null,
   "metadata": {},
   "outputs": [],
   "source": [
    "# plt.plot(hidden, avgMSE)"
   ]
  },
  {
   "cell_type": "markdown",
   "metadata": {},
   "source": [
    "# Lazy Kernels"
   ]
  },
  {
   "cell_type": "code",
   "execution_count": null,
   "metadata": {},
   "outputs": [],
   "source": [
    "dense = modelSuperParent(superParent, regulator_gene_matrix, NUM_TARGETS, NUM_TIME_STEPS, NUM_TARGETS, NUM_PARENTS)\n",
    "dense.compile(optimizer=tf.keras.optimizers.Adam(), loss=ignore_noParent_MSE)"
   ]
  },
  {
   "cell_type": "code",
   "execution_count": null,
   "metadata": {},
   "outputs": [],
   "source": [
    "d = np.array(dense.get_weights())"
   ]
  },
  {
   "cell_type": "code",
   "execution_count": null,
   "metadata": {},
   "outputs": [],
   "source": [
    "d[0].shape"
   ]
  },
  {
   "cell_type": "code",
   "execution_count": null,
   "metadata": {},
   "outputs": [],
   "source": [
    "\n",
    "\n",
    "def do_lazy_train(epochs, hidden = NUM_PARENTS):\n",
    "\n",
    "    '''trains the auto encoder epoch by epoch and returns the weights of the first layer'''\n",
    "    ep = epochs\n",
    "    #hidden = [hidden,] #range(1,32)\n",
    "    lossMatrix = []\n",
    "    lazy_weights = []\n",
    "\n",
    "    dense = modelSuperParent(superParent, regulator_gene_matrix, NUM_TARGETS, NUM_TIME_STEPS, NUM_TARGETS, hidden)\n",
    "    dense.compile(optimizer=tf.keras.optimizers.Adam(), loss=ignore_noParent_MSE)\n",
    "    \n",
    "    # dense = modelDense2(superParent, regulator_gene_matrix, NUM_TARGETS, NUM_TIME_STEPS, NUM_TARGETS, num_hidden_units=hidden)\n",
    "    # dense.compile(optimizer=tf.keras.optimizers.Adam(), loss=ignore_noParent_MSE)\n",
    "\n",
    "    #for i in tqdm(range(ep)):\n",
    "    for i in range(ep):\n",
    "        dense.fit(allData, allData, validation_data=(validation, validation), epochs=1,  verbose=0, callbacks = [\n",
    "    tfmot.sparsity.keras.UpdatePruningStep()])\n",
    "        lazy_weights.append(dw := dense.get_weights()[0])\n",
    "        test = dense(validation) #, verbose = 0)\n",
    "        loss = ignore_noParent_MSE(validation, test)\n",
    "        lossMatrix.append(loss)\n",
    "        \n",
    "    lossMatrix = np.array(lossMatrix) #loss matrix no longer returns anything \n",
    "    lazy_weights = np.array(lazy_weights)\n",
    "    # print(\"lazy weights\", lazy_weights.shape)\n",
    "\n",
    "    return lossMatrix, lazy_weights #loss matrix no longer returns anything "
   ]
  },
  {
   "cell_type": "code",
   "execution_count": null,
   "metadata": {},
   "outputs": [],
   "source": [
    "#https://proceedings.mlr.press/v162/rachwan22a/rachwan22a.pdf Winning the Lottery Ticket Ahead of Time:\n",
    "def lazyKernelRegime(w, parent_idx=parent_idx):\n",
    "    '''compute when each weight enters lazy kernel regime'''\n",
    "    \n",
    "    # print(\"wshape\", w.shape)\n",
    "\n",
    "    firstLayer = [] \n",
    "    for i in range(len(w)):\n",
    "         firstLayer.append(w[i]) #firstLayer.append(w[i][parent_idx])\n",
    "\n",
    "    fL = np.array(firstLayer)    \n",
    "    # print(\"print fL\", fL.shape, fL.dtype, fL[0], fL[1],)\n",
    "    d0 = np.square(fL[1] - fL[0])\n",
    "    # print(\"do\", d0.shape, d0)\n",
    "    \n",
    "    kernelChange = []\n",
    "    for i in range(1,len(fL)):\n",
    "        dt = np.square(fL[i] - fL[0])\n",
    "        dt_minus1 = np.square(fL[i-1] - fL[0])   \n",
    "        d = np.abs(dt - dt_minus1)/d0                        #eq 11 from the paper\n",
    "        kernelChange.append(d)\n",
    "    \n",
    "    kernelChange = np.moveaxis(kernelChange, 0, 2)\n",
    "    # plt.plot(kernelChange[0][0]);\n",
    "    # plt.title(\"$|\\Delta W|$ vs Epoch\")\n",
    "    # plt.xlabel(\"Epoch\")\n",
    "    # plt.ylabel(\"$|\\Delta W|$\")\n",
    "\n",
    "    return np.array(kernelChange)"
   ]
  },
  {
   "cell_type": "code",
   "execution_count": null,
   "metadata": {},
   "outputs": [],
   "source": [
    "#TODO: try setting top parents to num epochs trained rather than culling process\n",
    "def compute_distrib(change, t, raw = False): #raw means return the unshaped indicies. \n",
    "    stop = []\n",
    "\n",
    "    z = np.zeros(shape=(NUM_TARGETS, NUM_TARGETS))\n",
    "\n",
    "\n",
    "    for parent in range(len(change)):\n",
    "        for child in range(len(change[0])):\n",
    "            try:\n",
    "                z[parent][child] = (np.min(np.argwhere(change[parent][child] < t)))\n",
    "            except ValueError:\n",
    "                stop.append(len(change))\n",
    "\n",
    "    return z \n",
    "    \n",
    "    stop = np.array(stop)\n",
    "    # print(\"stop shape\", stop.shape)\n",
    "    # print(stop.shape)\n",
    "    var = np.std(stop)\n",
    "    # print(var)\n",
    "    # assert(False)\n",
    "    mean = np.average(stop)\n",
    "   # print(\"mean, variance\", mean, var)\n",
    "    top_parents = np.argwhere(stop > (mean + 0.5*var)) #get the parents which take more than 2 stds to stop training\n",
    "    # print(\"top parents \", top_parents)\n",
    "    # assert(False)\n",
    "    top_parent_child = []\n",
    "    for tp in top_parents:\n",
    "        top_parent_child.append(np.unravel_index(tp, shape = (NUM_PARENTS, NUM_TARGETS)))\n",
    "\n",
    "    if raw == False:\n",
    "        plt.hist(stop)\n",
    "        plt.xlabel(\"Epoch where regulator-target-weight began changing by at most \"+ str(t));\n",
    "        plt.ylabel(\"Number of parent-child-weights\");\n",
    "        plt.title(\"Histogram of weight stops\");\n",
    "        print(\"average stop: \", mean);\n",
    "\n",
    "    if raw == True:\n",
    "        return np.array(top_parents)\n",
    "\n",
    "    return np.array(top_parent_child)"
   ]
  },
  {
   "cell_type": "code",
   "execution_count": null,
   "metadata": {},
   "outputs": [],
   "source": [
    "def compute_distrib_old(change, t, raw = False): #raw means return the unshaped indicies. \n",
    "    stop = []\n",
    "\n",
    "    for parent in range(len(change)):\n",
    "        for child in range(len(change[0])):\n",
    "            try:\n",
    "                stop.append(np.min(np.argwhere(change[parent][child] < t)))\n",
    "            except ValueError:\n",
    "                stop.append(len(change))\n",
    "                # print(parent, child)\n",
    "                # plt.plot(change[parent][child])\n",
    "                # assert(False)\n",
    "\n",
    "    \n",
    "    stop = np.array(stop).flatten()\n",
    "    # print(\"stop shape\", stop.shape)\n",
    "    # print(stop.shape)\n",
    "    var = np.std(stop)\n",
    "    # print(var)\n",
    "    # assert(False)\n",
    "    mean = np.average(stop)\n",
    "   # print(\"mean, variance\", mean, var)\n",
    "    top_parents = np.argwhere(stop > (mean + 0.5*var)) #get the parents which take more than 2 stds to stop training\n",
    "    # print(\"top parents \", top_parents)\n",
    "    # assert(False)\n",
    "    top_parent_child = []\n",
    "    for tp in top_parents:\n",
    "        top_parent_child.append(np.unravel_index(tp, shape = (NUM_PARENTS, NUM_TARGETS)))\n",
    "\n",
    "    if raw == False:\n",
    "        plt.hist(stop)\n",
    "        plt.xlabel(\"Epoch where regulator-target-weight began changing by at most \"+ str(t));\n",
    "        plt.ylabel(\"Number of parent-child-weights\");\n",
    "        plt.title(\"Histogram of weight stops\");\n",
    "        print(\"average stop: \", mean);\n",
    "\n",
    "    if raw == True:\n",
    "        return np.array(top_parents)\n",
    "\n",
    "    return np.array(top_parent_child)"
   ]
  },
  {
   "cell_type": "code",
   "execution_count": null,
   "metadata": {},
   "outputs": [],
   "source": [
    "def lazyKernels(N):\n",
    "\n",
    "    candidates = []\n",
    "    final_w = []\n",
    "    for i in tqdm(range(N)):\n",
    "        lm, lazy_weights = do_lazy_train(epochs=100)\n",
    "        # print(\"lm\", lm)\n",
    "        change = lazyKernelRegime(lazy_weights)\n",
    "        # print(\"change\",change.shape)\n",
    "        # assert(False)\n",
    "        top_pr = np.squeeze(compute_distrib(change, t = 0.2, raw=True))\n",
    "        candidates.append(top_pr)\n",
    "        final_w.append(lazy_weights[-1]) #final w is used for magntiude calculations at the end\n",
    "        tf.keras.backend.clear_session()\n",
    "    \n",
    "    final_w = np.array(final_w)\n",
    "    firstLayer = []\n",
    "    for i in range(len(final_w)):\n",
    "        firstLayer.append(np.abs(final_w[i])) #firstLayer.append(np.abs(final_w[i][parent_idx]))\n",
    "    fw = np.array(firstLayer)\n",
    "    candidates = np.array(candidates)\n",
    "\n",
    "    fw_avg = np.average(fw, axis = 0)\n",
    "    stop_avg = np.average(candidates, axis=0) \n",
    "\n",
    "    return stop_avg, fw_avg\n",
    "    #print(fw_avg.shape)\n",
    "    \n",
    "    candidates = np.hstack(candidates)\n",
    "    candidates = candidates.reshape(candidates.size)\n",
    "    #print(candidates.shape)\n",
    "\n",
    "    # plt.hist(candidates, bins=np.arange(0, NUM_PARENTS*NUM_TARGETS))\n",
    "    # plt.title(\"Parent-Child Regulator Histogram\")\n",
    "    # plt.xlabel(\"Parent-Child Weight\")\n",
    "    # plt.ylabel(\"Num-Times parent-child relationship trained for top 5% of time\")\n",
    "    return candidates, fw_avg\n",
    "\n",
    "\n"
   ]
  },
  {
   "cell_type": "code",
   "execution_count": null,
   "metadata": {},
   "outputs": [],
   "source": [
    "can, mag = lazyKernels(N = 5)"
   ]
  },
  {
   "cell_type": "code",
   "execution_count": null,
   "metadata": {},
   "outputs": [],
   "source": [
    "gold = pd.read_csv(\"DREAM4_GoldStandard_InSilico_Size100_1.csv\", header=None)\n",
    "\n",
    "def keep_numeric(df):\n",
    "\n",
    "    return df.applymap(lambda x: ''.join(filter(str.isdigit, str(x))) if isinstance(x, (int,float)) else ''.join(filter(str.isdigit, x)) )\n",
    "gold = keep_numeric(gold)\n",
    "goldnp = np.array(gold, dtype = 'int')\n",
    "#subtract 1 from each index to match python index\n",
    "goldnp[:,0] = goldnp[:,0] - 1\n",
    "goldnp[:,1] = goldnp[:,1] - 1\n",
    "\n",
    "goldIm = np.zeros(shape=(NUM_TARGETS,NUM_TARGETS))\n",
    "\n",
    "for g in goldnp:\n",
    "    reg = g[0]\n",
    "    tar = g[1]\n",
    "    connection = g[2]\n",
    "    goldIm[reg][tar] = connection\n",
    "\n"
   ]
  },
  {
   "cell_type": "code",
   "execution_count": null,
   "metadata": {},
   "outputs": [],
   "source": [
    "plt.imshow(can)"
   ]
  },
  {
   "cell_type": "code",
   "execution_count": null,
   "metadata": {},
   "outputs": [],
   "source": [
    "plt.imshow(mag)"
   ]
  },
  {
   "cell_type": "code",
   "execution_count": null,
   "metadata": {},
   "outputs": [],
   "source": [
    "score = np.multiply(can, mag)"
   ]
  },
  {
   "cell_type": "code",
   "execution_count": null,
   "metadata": {},
   "outputs": [],
   "source": [
    "plt.imshow(score)"
   ]
  },
  {
   "cell_type": "code",
   "execution_count": null,
   "metadata": {},
   "outputs": [],
   "source": [
    "plt.imshow(goldIm)\n",
    "plt.title('True RT Combos');\n",
    "print(sum(sum(goldIm)))"
   ]
  },
  {
   "cell_type": "code",
   "execution_count": null,
   "metadata": {},
   "outputs": [],
   "source": [
    "tscore = np.nonzero(score > score.mean() + 0.8*score.std())\n",
    "tscoreIm = np.zeros(shape=goldIm.shape) \n",
    "tscoreIm[tscore] = 1\n",
    "plt.imshow(tscoreIm);\n",
    "plt.title('Score Out');\n",
    "print(sum(sum(tscoreIm)))"
   ]
  },
  {
   "cell_type": "code",
   "execution_count": null,
   "metadata": {},
   "outputs": [],
   "source": [
    "plt.imshow(np.abs(goldIm-tscoreIm));\n",
    "plt.title(\"Difference between Gold and our score\")"
   ]
  },
  {
   "cell_type": "code",
   "execution_count": null,
   "metadata": {},
   "outputs": [],
   "source": [
    "sum(sum(np.abs(goldIm-tscoreIm)))"
   ]
  },
  {
   "cell_type": "code",
   "execution_count": null,
   "metadata": {},
   "outputs": [],
   "source": [
    "type(mag)"
   ]
  },
  {
   "cell_type": "code",
   "execution_count": null,
   "metadata": {},
   "outputs": [],
   "source": [
    "tmag = np.nonzero(mag > mag.mean() + 3.0*mag.std())\n",
    "tmagIm = np.zeros(shape=goldIm.shape) \n",
    "tmagIm[tmag] = 1\n",
    "plt.imshow(tmagIm);\n",
    "plt.title('Magnitude Out');"
   ]
  },
  {
   "cell_type": "code",
   "execution_count": null,
   "metadata": {},
   "outputs": [],
   "source": [
    "#TODO: do box plot of scores and compare with score of goldIM\n",
    "#TODO: Try shapley tf1 version\n",
    "plt.boxplot(score[np.nonzero(goldIm)])"
   ]
  },
  {
   "cell_type": "code",
   "execution_count": null,
   "metadata": {},
   "outputs": [],
   "source": []
  },
  {
   "attachments": {},
   "cell_type": "markdown",
   "metadata": {},
   "source": [
    "# load this with the gold IM mask after copying the weights of an old auto encoder. \n"
   ]
  },
  {
   "cell_type": "code",
   "execution_count": null,
   "metadata": {},
   "outputs": [],
   "source": [
    "looseParent = modelSuperParent(superParent, regulator_gene_matrix, NUM_TARGETS, NUM_TIME_STEPS, NUM_TARGETS, 32)\n",
    "looseParent.compile(optimizer='adam', loss=ignore_noParent_MSE)\n",
    "o = looseParent.fit(beanIntensities, beanIntensities, epochs=200, verbose = True,  validation_data=(validation, validation),\n",
    "                    callbacks = [\n",
    "    tfmot.sparsity.keras.UpdatePruningStep()])\n",
    "print(o.history['loss'][-1]) #the final loss "
   ]
  },
  {
   "cell_type": "code",
   "execution_count": null,
   "metadata": {},
   "outputs": [],
   "source": [
    "sparseParent = modelSuperParent(superParent, regulator_gene_matrix, NUM_TARGETS, NUM_TIME_STEPS, NUM_TARGETS, 32, sparsity=0.98)\n",
    "sparseParent.compile(optimizer='adam', loss=ignore_noParent_MSE)\n",
    "o = sparseParent.fit(beanIntensities, beanIntensities, epochs=200, verbose = False,  validation_data=(validation, validation),\n",
    "                    callbacks = [\n",
    "    tfmot.sparsity.keras.UpdatePruningStep()])\n",
    "print(ignore_noParent_MSE(validation, sparseParent.predict(validation)))\n",
    "\n",
    "\n",
    "plt.imshow(tfMag := sparseParent.get_weights()[0])\n",
    "tfmag = np.nonzero(tfMag > tfMag.mean() + 0.0*tfMag.std())\n",
    "tfmagIm = np.zeros(shape=goldIm.shape) \n",
    "tfmagIm[tfmag] = 1\n",
    "plt.imshow(tfmagIm);\n",
    "plt.title('TF Magnitude Mask');"
   ]
  },
  {
   "cell_type": "code",
   "execution_count": null,
   "metadata": {},
   "outputs": [],
   "source": [
    "# pruning_params = {\n",
    "#     'pruning_schedule': PolynomialDecay(initial_sparsity=0.5,\n",
    "#         final_sparsity=0.9824, begin_step=1000, end_step=2000),\n",
    "#     'block_size': (2, 3),\n",
    "#     'block_pooling_type': 'MAX'\n",
    "# }\n",
    "\n",
    "# model = keras.Sequential([\n",
    "#     Dense(10, activation='relu', input_shape=(100,)),\n",
    "#     prune_low_magnitude(layers.Dense(2, activation='tanh'), **pruning_params)\n",
    "# ])"
   ]
  },
  {
   "cell_type": "code",
   "execution_count": null,
   "metadata": {},
   "outputs": [],
   "source": [
    "goldMask = 1-goldIm\n",
    "goldMask = goldMask.astype(np.float32)\n",
    "plt.imshow(goldMask);\n",
    "plt.title(\"Mask created by true R-T\");\n",
    "sum(sum(goldMask))"
   ]
  },
  {
   "cell_type": "code",
   "execution_count": null,
   "metadata": {},
   "outputs": [],
   "source": [
    "tscoreMask = -1.0*tscoreIm + 1.0 \n",
    "tscoreMask = tscoreMask.astype(np.float32)\n",
    "plt.imshow(tscoreMask);\n",
    "plt.title(\"Mask created by our score\");\n",
    "sum(sum(tscoreMask))"
   ]
  },
  {
   "cell_type": "code",
   "execution_count": null,
   "metadata": {},
   "outputs": [],
   "source": [
    "tmagMask = -1.0*tmagIm + 1.0 \n",
    "tmagMask = tmagMask.astype(np.float32)\n",
    "plt.imshow(tmagMask);\n",
    "plt.title(\"Mask created by AE magntidue\");\n",
    "print(sum(sum(tmagMask)))"
   ]
  },
  {
   "cell_type": "code",
   "execution_count": null,
   "metadata": {},
   "outputs": [],
   "source": [
    "tmagAC = modelSuperParent(tmagMask, tmagMask, NUM_TARGETS, NUM_TIME_STEPS, NUM_TARGETS, 32)\n",
    "tmagAC.set_weights( looseParent.get_weights() )\n",
    "tmagACout = tmagAC(validation) #, verbose = 0)\n",
    "loss = ignore_noParent_MSE(validation, tmagACout)\n",
    "print(loss)"
   ]
  },
  {
   "cell_type": "code",
   "execution_count": null,
   "metadata": {},
   "outputs": [],
   "source": [
    "scoreAC = modelSuperParent(tscoreMask, tscoreMask, NUM_TARGETS, NUM_TIME_STEPS, NUM_TARGETS, 32)\n",
    "scoreAC.set_weights(looseParent.get_weights())\n",
    "scoreACout = scoreAC(validation) #, verbose = 0)\n",
    "loss = ignore_noParent_MSE(validation, scoreACout)\n",
    "print(loss)"
   ]
  },
  {
   "cell_type": "code",
   "execution_count": null,
   "metadata": {},
   "outputs": [],
   "source": [
    "goldAC = modelSuperParent(goldMask, goldMask, NUM_TARGETS, NUM_TIME_STEPS, NUM_TARGETS, 32)\n",
    "goldAC.set_weights(looseParent.get_weights())\n",
    "goldout = goldAC(validation) #, verbose = 0)\n",
    "loss = ignore_noParent_MSE(validation, goldout)\n",
    "print(loss)"
   ]
  },
  {
   "cell_type": "code",
   "execution_count": null,
   "metadata": {},
   "outputs": [],
   "source": [
    "print(ignore_noParent_MSE(validation, looseParent.predict(validation)))"
   ]
  },
  {
   "cell_type": "code",
   "execution_count": null,
   "metadata": {},
   "outputs": [],
   "source": [
    "from sklearn.metrics import roc_auc_score\n",
    "roc_auc_score(goldIm[parent_idx].flatten(), tscoreIm[parent_idx].flatten(), average='samples')"
   ]
  },
  {
   "cell_type": "code",
   "execution_count": null,
   "metadata": {},
   "outputs": [],
   "source": [
    "from sklearn.metrics import confusion_matrix\n",
    "print('true negative, false positive')\n",
    "print('false negative, true positive') \n",
    "print(confusion_matrix(goldIm[parent_idx].flatten(), tscoreIm[parent_idx].flatten())) "
   ]
  },
  {
   "cell_type": "code",
   "execution_count": null,
   "metadata": {},
   "outputs": [],
   "source": []
  },
  {
   "cell_type": "code",
   "execution_count": null,
   "metadata": {},
   "outputs": [],
   "source": [
    "# import numpy as np\n",
    "# import matplotlib.pyplot as plt\n",
    " \n",
    "# set width of bar\n",
    "barWidth = 0.15\n",
    "#fig = plt.subplots(figsize =(12, 8))\n",
    " \n",
    "# set height of bar\n",
    "IT = [0.019060984] #base\n",
    "score = [0.023739332]\n",
    "mag = [0.021395445]\n",
    "\n",
    "ECE = [0.024257105 ]  #gold\n",
    " \n",
    " \n",
    "# Set position of bar on X axis\n",
    "br1 = np.arange(len(IT))\n",
    "br2 = [x + barWidth for x in br1]\n",
    "br3 = [x + barWidth for x in br2]\n",
    "br4 = [x + barWidth for x in br3]\n",
    "\n",
    " \n",
    "# Make the plot\n",
    "plt.bar(br1, IT, color ='cyan', width = barWidth,\n",
    "        edgecolor ='grey', label ='Control')\n",
    "plt.bar(br2, score, color ='blue', width = barWidth,\n",
    "        edgecolor ='grey', label ='OBD (us)')\n",
    "plt.bar(br3, mag, color ='red', width = barWidth,\n",
    "        edgecolor ='grey', label ='Magnitude Pruning')\n",
    "plt.bar(br4, ECE, color ='green', width = barWidth,\n",
    "        edgecolor ='grey', label ='Gold Standard')\n",
    "# plt.bar(br3, CSE, color ='b', width = barWidth,\n",
    "#         edgecolor ='grey', label ='CSE')\n",
    " \n",
    "# Adding Xticks\n",
    "plt.xlabel('Mask', fontweight ='bold', fontsize = 15)\n",
    "plt.ylabel('MSE', fontweight ='bold', fontsize = 15)\n",
    "plt.xticks([r + barWidth for r in range(len(IT))],\n",
    "        [''])\n",
    " \n",
    "plt.title(\"MSE on the Validation Set\", fontweight='bold', fontsize = 18);\n",
    "plt.legend(loc = 'upper left');\n",
    "plt.ylim(0.018, 0.028)\n",
    "plt.show()"
   ]
  },
  {
   "cell_type": "code",
   "execution_count": null,
   "metadata": {},
   "outputs": [],
   "source": [
    "\n",
    "plt.imshow(tfMag := sparseParent.get_weights()[0])"
   ]
  },
  {
   "cell_type": "code",
   "execution_count": null,
   "metadata": {},
   "outputs": [],
   "source": [
    "\n",
    "\n",
    "tfmag = np.nonzero(np.abs(tfMag) > np.abs(tfMag)+0.01)\n",
    "tfmagIm = np.zeros(shape=goldIm.shape) \n",
    "tfmagIm[tmag] = 1\n",
    "plt.imshow(tfmagIm);\n",
    "plt.title('Mask created by AE Magnitude. TF Implementation');"
   ]
  },
  {
   "attachments": {},
   "cell_type": "markdown",
   "metadata": {},
   "source": [
    "# Trash Under"
   ]
  },
  {
   "cell_type": "code",
   "execution_count": null,
   "metadata": {},
   "outputs": [],
   "source": [
    "from scipy import signal\n",
    "import scipy\n",
    "from sklearn.decomposition import FactorAnalysis\n",
    "X = scipy.signal.resample_poly(allData[0], up = 5, down = 1, axis = 0)\n",
    "print(X.shape)\n",
    "transformer = FactorAnalysis(n_components=41, random_state=0)\n",
    "X_transformed = transformer.fit_transform(X.T)\n",
    "X_transformed.shape"
   ]
  },
  {
   "cell_type": "code",
   "execution_count": null,
   "metadata": {},
   "outputs": [],
   "source": [
    "plt.imshow(allData[0])"
   ]
  },
  {
   "cell_type": "code",
   "execution_count": null,
   "metadata": {},
   "outputs": [],
   "source": [
    "plt.imshow(X)"
   ]
  },
  {
   "cell_type": "code",
   "execution_count": null,
   "metadata": {},
   "outputs": [],
   "source": [
    "transformer.components_.shape"
   ]
  },
  {
   "cell_type": "code",
   "execution_count": null,
   "metadata": {},
   "outputs": [],
   "source": [
    "plt.imshow(transformer.components_)"
   ]
  },
  {
   "cell_type": "code",
   "execution_count": null,
   "metadata": {},
   "outputs": [],
   "source": [
    "#  val_loss: 0.0221"
   ]
  },
  {
   "cell_type": "code",
   "execution_count": null,
   "metadata": {},
   "outputs": [],
   "source": []
  },
  {
   "cell_type": "code",
   "execution_count": null,
   "metadata": {},
   "outputs": [],
   "source": [
    "plt.imshow(score)"
   ]
  },
  {
   "cell_type": "code",
   "execution_count": null,
   "metadata": {},
   "outputs": [],
   "source": [
    "tscore"
   ]
  },
  {
   "cell_type": "code",
   "execution_count": null,
   "metadata": {},
   "outputs": [],
   "source": [
    "plt.imshow(mag)"
   ]
  },
  {
   "cell_type": "code",
   "execution_count": null,
   "metadata": {},
   "outputs": [],
   "source": [
    "can[19]"
   ]
  },
  {
   "cell_type": "code",
   "execution_count": null,
   "metadata": {},
   "outputs": [],
   "source": [
    "goldIm[19]"
   ]
  },
  {
   "cell_type": "code",
   "execution_count": null,
   "metadata": {},
   "outputs": [],
   "source": [
    "mag.max()"
   ]
  },
  {
   "cell_type": "code",
   "execution_count": null,
   "metadata": {},
   "outputs": [],
   "source": [
    "mag[78]"
   ]
  },
  {
   "cell_type": "code",
   "execution_count": null,
   "metadata": {},
   "outputs": [],
   "source": [
    "can[4]"
   ]
  },
  {
   "cell_type": "code",
   "execution_count": null,
   "metadata": {},
   "outputs": [],
   "source": [
    "plt.imshow(can)"
   ]
  },
  {
   "cell_type": "code",
   "execution_count": null,
   "metadata": {},
   "outputs": [],
   "source": [
    "(np.cov(score, goldIm))\n"
   ]
  },
  {
   "cell_type": "code",
   "execution_count": null,
   "metadata": {},
   "outputs": [],
   "source": [
    "plt.imshow(np.cov(goldIm, score)[100:, 100:])\n",
    "#[100:, 100:]"
   ]
  },
  {
   "cell_type": "code",
   "execution_count": null,
   "metadata": {},
   "outputs": [],
   "source": [
    "u = np.vstack([goldIm.flatten(), score.flatten()])\n",
    "u.shape"
   ]
  },
  {
   "cell_type": "code",
   "execution_count": null,
   "metadata": {},
   "outputs": [],
   "source": [
    "np.cov(u)"
   ]
  },
  {
   "cell_type": "code",
   "execution_count": null,
   "metadata": {},
   "outputs": [],
   "source": [
    "plt.imshow(score);"
   ]
  },
  {
   "cell_type": "code",
   "execution_count": null,
   "metadata": {},
   "outputs": [],
   "source": []
  },
  {
   "cell_type": "code",
   "execution_count": null,
   "metadata": {},
   "outputs": [],
   "source": [
    "np.argmin(score)"
   ]
  },
  {
   "cell_type": "code",
   "execution_count": null,
   "metadata": {},
   "outputs": [],
   "source": [
    "score[score > score.mean() + score.var()]"
   ]
  },
  {
   "cell_type": "code",
   "execution_count": null,
   "metadata": {},
   "outputs": [],
   "source": []
  },
  {
   "cell_type": "code",
   "execution_count": null,
   "metadata": {},
   "outputs": [],
   "source": [
    "# pdf, bins = np.histogram(can, np.arange(NUM_PARENTS*NUM_TARGETS))\n",
    "# pdf"
   ]
  },
  {
   "cell_type": "code",
   "execution_count": null,
   "metadata": {},
   "outputs": [],
   "source": [
    "mag.shape"
   ]
  },
  {
   "cell_type": "markdown",
   "metadata": {},
   "source": [
    "# Magnitudes After Training"
   ]
  },
  {
   "cell_type": "code",
   "execution_count": null,
   "metadata": {},
   "outputs": [],
   "source": [
    "NUM_PARENTS*NUM_TARGETS"
   ]
  },
  {
   "cell_type": "code",
   "execution_count": null,
   "metadata": {},
   "outputs": [],
   "source": [
    "#np.unravel_index(NUM_PARENTS*NUM_TARGETS, shape = (NUM_PARENTS, NUM_TARGETS))"
   ]
  },
  {
   "cell_type": "code",
   "execution_count": null,
   "metadata": {},
   "outputs": [],
   "source": [
    "pdf, bins = np.histogram(can, bins=NUM_PARENTS*NUM_TARGETS)"
   ]
  },
  {
   "cell_type": "code",
   "execution_count": null,
   "metadata": {},
   "outputs": [],
   "source": [
    "len(bins)"
   ]
  },
  {
   "cell_type": "code",
   "execution_count": null,
   "metadata": {},
   "outputs": [],
   "source": [
    "pdf, bins = np.histogram(can, np.arange(0, NUM_PARENTS*NUM_TARGETS))"
   ]
  },
  {
   "cell_type": "code",
   "execution_count": null,
   "metadata": {},
   "outputs": [],
   "source": [
    "bins"
   ]
  },
  {
   "cell_type": "code",
   "execution_count": null,
   "metadata": {},
   "outputs": [],
   "source": [
    "plt.plot(pdf)"
   ]
  },
  {
   "cell_type": "code",
   "execution_count": null,
   "metadata": {},
   "outputs": [],
   "source": [
    "# plt.hist(pdf, bins)"
   ]
  },
  {
   "cell_type": "code",
   "execution_count": null,
   "metadata": {},
   "outputs": [],
   "source": [
    "#TODO: CHECK ME\n",
    "def get_top_reg_targets(can, mag):\n",
    "    \n",
    "    pdf, bins = np.histogram(can, np.arange(0, NUM_PARENTS*NUM_TARGETS))\n",
    "    \n",
    "    pdf2d = np.zeros(shape = (NUM_PARENTS,NUM_TARGETS))\n",
    "\n",
    "    for i in bins:\n",
    "      idx2d = np.unravel_index(i, shape = (NUM_PARENTS, NUM_TARGETS))\n",
    "      try:\n",
    "        pdf2d[idx2d] = pdf[i]\n",
    "      except IndexError:\n",
    "        print(i, idx2d, len(pdf), len(bins), bins[-1])\n",
    "    \n",
    "\n",
    "    importance = np.multiply(pdf2d, mag)\n",
    "    return importance"
   ]
  },
  {
   "cell_type": "code",
   "execution_count": null,
   "metadata": {},
   "outputs": [],
   "source": [
    "top = get_top_reg_targets(can, mag)"
   ]
  },
  {
   "cell_type": "code",
   "execution_count": null,
   "metadata": {},
   "outputs": [],
   "source": []
  },
  {
   "cell_type": "code",
   "execution_count": null,
   "metadata": {},
   "outputs": [],
   "source": [
    "top.shape"
   ]
  },
  {
   "cell_type": "code",
   "execution_count": null,
   "metadata": {},
   "outputs": [],
   "source": [
    "plt.imshow(top)"
   ]
  },
  {
   "attachments": {},
   "cell_type": "markdown",
   "metadata": {},
   "source": [
    "#TODO: try factorial data, ordinary Auto encoder, treshold, tensorflow pruning, check average epoch of lazy kernel\n",
    "\n",
    "#TODO: Actually measure MSE "
   ]
  },
  {
   "cell_type": "code",
   "execution_count": null,
   "metadata": {},
   "outputs": [],
   "source": [
    "plt.imshow(mag)"
   ]
  },
  {
   "cell_type": "code",
   "execution_count": null,
   "metadata": {},
   "outputs": [],
   "source": [
    "# lm = pd.DataFrame(top)\n",
    "# lm.to_csv(\"top_r_t_HepG2.csv\")"
   ]
  },
  {
   "cell_type": "code",
   "execution_count": null,
   "metadata": {},
   "outputs": [],
   "source": [
    "# topdf = pd.read_csv('top_r_t_HepG2.csv')\n",
    "# topdf.head(5)\n"
   ]
  },
  {
   "cell_type": "code",
   "execution_count": null,
   "metadata": {},
   "outputs": [],
   "source": [
    "# top = np.array(topdf)\n",
    "# plt.imshow(top)"
   ]
  },
  {
   "cell_type": "code",
   "execution_count": null,
   "metadata": {},
   "outputs": [],
   "source": [
    "# top = top[:,1:]\n",
    "# plt.imshow(top)"
   ]
  },
  {
   "cell_type": "code",
   "execution_count": null,
   "metadata": {},
   "outputs": [],
   "source": [
    "# np.max(top)"
   ]
  },
  {
   "cell_type": "code",
   "execution_count": null,
   "metadata": {},
   "outputs": [],
   "source": [
    "np.array(non_zero).shape"
   ]
  },
  {
   "cell_type": "code",
   "execution_count": null,
   "metadata": {},
   "outputs": [],
   "source": [
    "top[non_zero].mean()"
   ]
  },
  {
   "cell_type": "code",
   "execution_count": null,
   "metadata": {},
   "outputs": [],
   "source": [
    "mag[non_zero].mean()\n"
   ]
  },
  {
   "cell_type": "code",
   "execution_count": null,
   "metadata": {},
   "outputs": [],
   "source": [
    "mag.mean()"
   ]
  },
  {
   "cell_type": "code",
   "execution_count": null,
   "metadata": {},
   "outputs": [],
   "source": [
    "top.mean()"
   ]
  },
  {
   "cell_type": "code",
   "execution_count": null,
   "metadata": {},
   "outputs": [],
   "source": [
    "no_connect = np.where(goldIm == 0)\n",
    "no_connect = np.array(no_connect)\n",
    "no_connect.shape"
   ]
  },
  {
   "cell_type": "code",
   "execution_count": null,
   "metadata": {},
   "outputs": [],
   "source": [
    "top[no_connect].mean()"
   ]
  },
  {
   "cell_type": "code",
   "execution_count": null,
   "metadata": {},
   "outputs": [],
   "source": [
    "mag[no_connect].mean()"
   ]
  },
  {
   "cell_type": "code",
   "execution_count": null,
   "metadata": {},
   "outputs": [],
   "source": [
    "mag01 = MinMaxScaler().fit_transform(mag.reshape((-1,1)))\n",
    "tff = mag01.flatten()\n",
    "std = np.std(tff)\n",
    "\n",
    "mu = np.mean(tff)\n",
    "mu, std\n",
    "magt = np.where(top > mu + 2*std, 1, 0)\n",
    "magt.dtype = 'int'\n",
    "plt.imshow(magt.reshape(100,100))"
   ]
  },
  {
   "cell_type": "code",
   "execution_count": null,
   "metadata": {},
   "outputs": [],
   "source": [
    "from sklearn.metrics import roc_auc_score\n",
    "roc_auc_score(goldIm.flatten(), magt.flatten(), average='samples')"
   ]
  },
  {
   "cell_type": "code",
   "execution_count": null,
   "metadata": {},
   "outputs": [],
   "source": [
    "top01 = MinMaxScaler().fit_transform(top.reshape((-1,1)))"
   ]
  },
  {
   "cell_type": "code",
   "execution_count": null,
   "metadata": {},
   "outputs": [],
   "source": [
    "plt.imshow(top01.reshape(100,100))"
   ]
  },
  {
   "cell_type": "code",
   "execution_count": null,
   "metadata": {},
   "outputs": [],
   "source": [
    "tff = top01.flatten()\n",
    "std = np.std(tff)\n",
    "\n",
    "mu = np.mean(tff)\n",
    "print(mu, std)\n",
    "yout = np.where(top01.flatten() > mu + 4*std, 1, 0)\n",
    "yout.dtype = 'int'"
   ]
  },
  {
   "cell_type": "code",
   "execution_count": null,
   "metadata": {},
   "outputs": [],
   "source": [
    "plt.imshow(yout.reshape(100,100))"
   ]
  },
  {
   "cell_type": "code",
   "execution_count": null,
   "metadata": {},
   "outputs": [],
   "source": [
    "plt.imshow(goldIm)"
   ]
  },
  {
   "cell_type": "code",
   "execution_count": null,
   "metadata": {},
   "outputs": [],
   "source": [
    "from sklearn.metrics import roc_auc_score\n",
    "roc_auc_score(goldIm.flatten(), (yout).flatten(), average='samples')"
   ]
  },
  {
   "cell_type": "code",
   "execution_count": null,
   "metadata": {},
   "outputs": [],
   "source": [
    "from sklearn.metrics import PrecisionRecallDisplay\n",
    "PrecisionRecallDisplay.from_predictions(goldIm.flatten(), yout.flatten());"
   ]
  },
  {
   "cell_type": "code",
   "execution_count": null,
   "metadata": {},
   "outputs": [],
   "source": []
  },
  {
   "cell_type": "code",
   "execution_count": null,
   "metadata": {},
   "outputs": [],
   "source": [
    "tff = top.flatten()\n",
    "std = np.std(tff)\n",
    "\n",
    "mu = np.mean(tff)\n",
    "mu, std\n",
    "yout = np.where(top > mu + 3*std, 1, 0)\n",
    "yout.dtype = 'int'"
   ]
  },
  {
   "cell_type": "code",
   "execution_count": null,
   "metadata": {},
   "outputs": [],
   "source": [
    "roc_auc_score(goldIm.flatten(), yout.flatten(), average='samples')"
   ]
  },
  {
   "cell_type": "code",
   "execution_count": null,
   "metadata": {},
   "outputs": [],
   "source": [
    "magX = StandardScaler().fit_transform(top.reshape((-1,1)))\n",
    "magX = MinMaxScaler().fit_transform(magX.reshape((-1,1)))\n",
    "you2 = np.where(magX > mu + 3*std, 1, 0)"
   ]
  },
  {
   "cell_type": "code",
   "execution_count": null,
   "metadata": {},
   "outputs": [],
   "source": [
    "roc_auc_score(goldIm.flatten(), you2.flatten(), average='samples')"
   ]
  },
  {
   "attachments": {},
   "cell_type": "markdown",
   "metadata": {},
   "source": [
    "# Draw old graphs; probably trash"
   ]
  },
  {
   "cell_type": "code",
   "execution_count": null,
   "metadata": {},
   "outputs": [],
   "source": [
    "u = plt.imshow(top, cmap = 'inferno', vmin = 0, vmax = np.max(top));\n",
    "plt.colorbar(u ,fraction=0.026, pad=0.1, orientation='horizontal');\n",
    "plt.title(\"HepG2: Regulator-Target Combination Importance\");"
   ]
  },
  {
   "cell_type": "code",
   "execution_count": null,
   "metadata": {},
   "outputs": [],
   "source": [
    "topID = np.array(np.unravel_index(np.argsort(top, axis=None), top.shape))\n",
    "topID = np.flip(topID, axis=1)\n",
    "topID[0] = parent_idx[topID[0]]\n",
    "topID = topID.T\n",
    "topID"
   ]
  },
  {
   "cell_type": "code",
   "execution_count": null,
   "metadata": {},
   "outputs": [],
   "source": [
    "topR_T = pd.DataFrame(topID)\n",
    "topR_T.to_csv(\"DREAM4_Top_reg_target_decendingOrder_firstColIsRegulator.csv\")"
   ]
  },
  {
   "cell_type": "code",
   "execution_count": null,
   "metadata": {},
   "outputs": [],
   "source": [
    "best = np.zeros(NUM_PARENTS)\n",
    "for i in range(NUM_PARENTS):\n",
    "    best[i] = np.sum(top[i])\n",
    "best"
   ]
  },
  {
   "cell_type": "code",
   "execution_count": null,
   "metadata": {},
   "outputs": [],
   "source": [
    "x = np.arange(0,NUM_PARENTS, dtype=int)\n",
    "plt.plot(x, best); "
   ]
  },
  {
   "cell_type": "code",
   "execution_count": null,
   "metadata": {},
   "outputs": [],
   "source": [
    "idx = np.flip(np.argsort(best))\n",
    "idx"
   ]
  },
  {
   "cell_type": "code",
   "execution_count": null,
   "metadata": {},
   "outputs": [],
   "source": [
    "parent_idx[idx] "
   ]
  },
  {
   "cell_type": "code",
   "execution_count": null,
   "metadata": {},
   "outputs": [],
   "source": [
    "np.unique(can).size"
   ]
  },
  {
   "cell_type": "markdown",
   "metadata": {},
   "source": [
    "# Inference on Petal Len"
   ]
  },
  {
   "cell_type": "code",
   "execution_count": null,
   "metadata": {},
   "outputs": [],
   "source": [
    "petal = pd.read_excel(data_path_petal)"
   ]
  },
  {
   "cell_type": "code",
   "execution_count": null,
   "metadata": {},
   "outputs": [],
   "source": [
    "petal_train = petal[petal[\"Line\"] == \"WT\"]\n",
    "petal_train = petal_train.drop(columns=['Line', 'ID', \"Treatment\"])\n",
    "petal_train.head(12)\n",
    "petal_train = petal_train.groupby(['Plate']).mean()\n",
    "petal_train.head()\n",
    "petal_train = petal_train.to_numpy()\n",
    "print(petal_train.shape)\n",
    "scaler1 = StandardScaler()\n",
    "scaler1.fit(petal_train)\n",
    "petal_train = scaler1.transform(petal_train)\n",
    "mm = MinMaxScaler()\n",
    "mm.fit(petal_train)\n",
    "petal_train = mm.transform(petal_train)\n",
    "petal_train"
   ]
  },
  {
   "cell_type": "code",
   "execution_count": null,
   "metadata": {},
   "outputs": [],
   "source": [
    "petal_test = petal[petal[\"Line\"] != \"WT\"]\n",
    "petal_test = petal_test.drop(columns=['Line', 'ID', \"Treatment\"])\n",
    "petal_test = petal_test.groupby(['Plate']).mean()\n",
    "petal_test.head()\n",
    "petal_test = petal_test.to_numpy()\n",
    "print(petal_test.shape)\n",
    "petal_test = scaler1.transform(petal_test)\n",
    "petal_test = mm.transform(petal_test)\n",
    "petal_test"
   ]
  },
  {
   "cell_type": "code",
   "execution_count": null,
   "metadata": {},
   "outputs": [],
   "source": [
    "experiment1.shape\n",
    "testCandidate.shape"
   ]
  },
  {
   "cell_type": "code",
   "execution_count": null,
   "metadata": {},
   "outputs": [],
   "source": [
    "densePredictor = modelDense2(superParent, regulator_gene_matrix, NUM_TARGETS, 6, NUM_TARGETS, 22)\n",
    "densePredictor.compile(optimizer='adam', loss=ignore_noParent_MSE)\n",
    "densePredictor.fit(beanIntensities, beanIntensities,validation_data=(experiment1, experiment1),  epochs=100,  verbose=1)\n",
    "test = densePredictor(testCandidate) #, verbose = 0)\n",
    "loss = ignore_noParent_MSE(testCandidate, test)\n",
    "print(loss)"
   ]
  },
  {
   "cell_type": "code",
   "execution_count": null,
   "metadata": {},
   "outputs": [],
   "source": [
    "rgm = superParent\n",
    "time_steps = 6\n",
    "num_kinase_regulators = NUM_TARGETS\n",
    "num_hidden_units = 22\n",
    "\n",
    "inp = Input(shape=(time_steps, num_kinase_regulators))\n",
    "x = DenseEncoderLinear2(rgm, regulator_gene_matrix, NUM_TARGETS, NUM_TARGETS)(inp)\n",
    "enc = denseencoder2(x, inp, num_hidden_units)\n",
    "denseP = tf.keras.Model(inputs=inp, outputs=enc)\n",
    "#set the weights of the encoder to the weights of auto encoder\n",
    "dw = densePredictor.get_weights()\n",
    "enc_w = dw[0:5]\n",
    "denseP.set_weights(enc_w)\n",
    "#add a dense layer  because we are ouputing 1 number\n",
    "l = Dense(32, activation = 'swish', use_bias=True, kernel_regularizer='l1_l2')(denseP.layers[-1].output)\n",
    "l = Dense(1, activation = 'linear', use_bias = True)(l)\n",
    "denseP = tf.keras.Model(denseP.inputs, l)\n",
    "#denseP.summary()"
   ]
  },
  {
   "cell_type": "code",
   "execution_count": null,
   "metadata": {},
   "outputs": [],
   "source": [
    "bp = np.concatenate([experiment1, experiment1, experiment1, experiment1])\n",
    "bp.shape\n",
    "#bigexperiment1.shape"
   ]
  },
  {
   "cell_type": "code",
   "execution_count": null,
   "metadata": {},
   "outputs": [],
   "source": [
    "a = petal_train[0]\n",
    "b = petal_train[1]\n",
    "c = petal_train[2]\n",
    "d = petal_train[3]\n",
    "\n",
    "petal_train1 = np.array([a,a,a,a, b,b,b,b, c,c,c,c, d,d,d,d]) #does this make sense? we are training network to predict .5\n",
    "petal_train1.shape"
   ]
  },
  {
   "cell_type": "code",
   "execution_count": null,
   "metadata": {},
   "outputs": [],
   "source": [
    "denseP.compile(optimizer='adam', loss=tf.keras.losses.MeanSquaredError())\n",
    "denseP.fit(experiment1, petal_train, epochs=500, verbose = 1)"
   ]
  },
  {
   "cell_type": "code",
   "execution_count": null,
   "metadata": {},
   "outputs": [],
   "source": [
    "testCandidate.shape"
   ]
  },
  {
   "cell_type": "code",
   "execution_count": null,
   "metadata": {},
   "outputs": [],
   "source": [
    "denseP(experiment1) #experiment1 is part of the training set."
   ]
  },
  {
   "cell_type": "code",
   "execution_count": null,
   "metadata": {},
   "outputs": [],
   "source": [
    "petal_train"
   ]
  },
  {
   "cell_type": "code",
   "execution_count": null,
   "metadata": {},
   "outputs": [],
   "source": [
    "print(denseP(testCandidate)) #model output"
   ]
  },
  {
   "cell_type": "code",
   "execution_count": null,
   "metadata": {},
   "outputs": [],
   "source": [
    "petal_test #true label"
   ]
  },
  {
   "cell_type": "code",
   "execution_count": null,
   "metadata": {},
   "outputs": [],
   "source": [
    "petal_train"
   ]
  },
  {
   "cell_type": "code",
   "execution_count": null,
   "metadata": {},
   "outputs": [],
   "source": [
    "denseP.evaluate(testCandidate, petal_test) #eval gave 1.3999 before"
   ]
  },
  {
   "cell_type": "markdown",
   "metadata": {},
   "source": [
    "# Junk"
   ]
  },
  {
   "attachments": {},
   "cell_type": "markdown",
   "metadata": {},
   "source": [
    "## Test SHAP"
   ]
  },
  {
   "cell_type": "code",
   "execution_count": null,
   "metadata": {},
   "outputs": [],
   "source": [
    "\n",
    "# !pip install shap"
   ]
  },
  {
   "cell_type": "code",
   "execution_count": null,
   "metadata": {},
   "outputs": [],
   "source": []
  },
  {
   "cell_type": "code",
   "execution_count": 6,
   "metadata": {},
   "outputs": [
    {
     "name": "stdout",
     "output_type": "stream",
     "text": [
      "Model: \"autoencoder\"\n",
      "_________________________________________________________________\n",
      " Layer (type)                Output Shape              Param #   \n",
      "=================================================================\n",
      " img (InputLayer)            [(None, 28, 28, 1)]       0         \n",
      "                                                                 \n",
      " conv2d_4 (Conv2D)           (None, 26, 26, 16)        160       \n",
      "                                                                 \n",
      " conv2d_5 (Conv2D)           (None, 24, 24, 32)        4640      \n",
      "                                                                 \n",
      " max_pooling2d_1 (MaxPooling  (None, 8, 8, 32)         0         \n",
      " 2D)                                                             \n",
      "                                                                 \n",
      " conv2d_6 (Conv2D)           (None, 6, 6, 32)          9248      \n",
      "                                                                 \n",
      " conv2d_7 (Conv2D)           (None, 4, 4, 16)          4624      \n",
      "                                                                 \n",
      " global_max_pooling2d_1 (Glo  (None, 16)               0         \n",
      " balMaxPooling2D)                                                \n",
      "                                                                 \n",
      " reshape_1 (Reshape)         (None, 4, 4, 1)           0         \n",
      "                                                                 \n",
      " conv2d_transpose_4 (Conv2DT  (None, 6, 6, 16)         160       \n",
      " ranspose)                                                       \n",
      "                                                                 \n",
      " conv2d_transpose_5 (Conv2DT  (None, 8, 8, 32)         4640      \n",
      " ranspose)                                                       \n",
      "                                                                 \n",
      " up_sampling2d_1 (UpSampling  (None, 24, 24, 32)       0         \n",
      " 2D)                                                             \n",
      "                                                                 \n",
      " conv2d_transpose_6 (Conv2DT  (None, 26, 26, 16)       4624      \n",
      " ranspose)                                                       \n",
      "                                                                 \n",
      " conv2d_transpose_7 (Conv2DT  (None, 28, 28, 1)        145       \n",
      " ranspose)                                                       \n",
      "                                                                 \n",
      "=================================================================\n",
      "Total params: 28,241\n",
      "Trainable params: 28,241\n",
      "Non-trainable params: 0\n",
      "_________________________________________________________________\n"
     ]
    }
   ],
   "source": [
    "from keras.applications.vgg16 import VGG16\n",
    "from keras.applications.vgg16 import preprocess_input\n",
    "import keras.backend as K\n",
    "import numpy as np\n",
    "import json\n",
    "import shap\n",
    "import tensorflow.compat.v1.keras.backend as K\n",
    "import tensorflow as tf\n",
    "from tensorflow import keras\n",
    "from keras import layers\n",
    "\n",
    "tf.compat.v1.disable_eager_execution()\n",
    "\n",
    "# load pre-trained model and choose two images to explain\n",
    "model = VGG16(weights='imagenet', include_top=True)\n",
    "\n",
    "encoder_input = keras.Input(shape=(28, 28, 1), name=\"img\")\n",
    "x = layers.Conv2D(16, 3, activation=\"relu\")(encoder_input)\n",
    "x = layers.Conv2D(32, 3, activation=\"relu\")(x)\n",
    "x = layers.MaxPooling2D(3)(x)\n",
    "x = layers.Conv2D(32, 3, activation=\"relu\")(x)\n",
    "x = layers.Conv2D(16, 3, activation=\"relu\")(x)\n",
    "encoder_output = layers.GlobalMaxPooling2D()(x)\n",
    "\n",
    "encoder = keras.Model(encoder_input, encoder_output, name=\"encoder\")\n",
    "# encoder.summary()\n",
    "\n",
    "x = layers.Reshape((4, 4, 1))(encoder_output)\n",
    "x = layers.Conv2DTranspose(16, 3, activation=\"relu\")(x)\n",
    "x = layers.Conv2DTranspose(32, 3, activation=\"relu\")(x)\n",
    "x = layers.UpSampling2D(3)(x)\n",
    "x = layers.Conv2DTranspose(16, 3, activation=\"relu\")(x)\n",
    "decoder_output = layers.Conv2DTranspose(1, 3, activation=\"relu\")(x)\n",
    "\n",
    "autoencoder = keras.Model(encoder_input, decoder_output, name=\"autoencoder\")\n",
    "autoencoder.summary()\n"
   ]
  },
  {
   "cell_type": "code",
   "execution_count": 8,
   "metadata": {},
   "outputs": [],
   "source": [
    "model = autoencoder"
   ]
  },
  {
   "cell_type": "code",
   "execution_count": 9,
   "metadata": {},
   "outputs": [
    {
     "name": "stdout",
     "output_type": "stream",
     "text": [
      "WARNING:tensorflow:From C:\\Users\\Fin Amin\\AppData\\Local\\Temp\\ipykernel_16428\\1144032549.py:13: The name tf.keras.backend.get_session is deprecated. Please use tf.compat.v1.keras.backend.get_session instead.\n",
      "\n"
     ]
    },
    {
     "ename": "ValueError",
     "evalue": "Cannot feed value of shape (50, 224, 224, 3) for Tensor img_2:0, which has shape (None, 28, 28, 1)",
     "output_type": "error",
     "traceback": [
      "\u001b[1;31m---------------------------------------------------------------------------\u001b[0m",
      "\u001b[1;31mValueError\u001b[0m                                Traceback (most recent call last)",
      "\u001b[1;32mc:\\Users\\Fin Amin\\Desktop\\StemCellResearch\\dream4_100\\DreamEncoder4_100.ipynb Cell 207\u001b[0m in \u001b[0;36m<cell line: 14>\u001b[1;34m()\u001b[0m\n\u001b[0;32m     <a href='vscode-notebook-cell:/c%3A/Users/Fin%20Amin/Desktop/StemCellResearch/dream4_100/DreamEncoder4_100.ipynb#Y412sZmlsZQ%3D%3D?line=11'>12</a>\u001b[0m     feed_dict \u001b[39m=\u001b[39m \u001b[39mdict\u001b[39m(\u001b[39mzip\u001b[39m([model\u001b[39m.\u001b[39mlayers[\u001b[39m0\u001b[39m]\u001b[39m.\u001b[39minput], [preprocess_input(x\u001b[39m.\u001b[39mcopy())]))\n\u001b[0;32m     <a href='vscode-notebook-cell:/c%3A/Users/Fin%20Amin/Desktop/StemCellResearch/dream4_100/DreamEncoder4_100.ipynb#Y412sZmlsZQ%3D%3D?line=12'>13</a>\u001b[0m     \u001b[39mreturn\u001b[39;00m K\u001b[39m.\u001b[39mget_session()\u001b[39m.\u001b[39mrun(model\u001b[39m.\u001b[39mlayers[layer]\u001b[39m.\u001b[39minput, feed_dict)\n\u001b[0;32m     <a href='vscode-notebook-cell:/c%3A/Users/Fin%20Amin/Desktop/StemCellResearch/dream4_100/DreamEncoder4_100.ipynb#Y412sZmlsZQ%3D%3D?line=13'>14</a>\u001b[0m e \u001b[39m=\u001b[39m shap\u001b[39m.\u001b[39mGradientExplainer(\n\u001b[0;32m     <a href='vscode-notebook-cell:/c%3A/Users/Fin%20Amin/Desktop/StemCellResearch/dream4_100/DreamEncoder4_100.ipynb#Y412sZmlsZQ%3D%3D?line=14'>15</a>\u001b[0m     (model\u001b[39m.\u001b[39mlayers[\u001b[39m7\u001b[39m]\u001b[39m.\u001b[39minput, model\u001b[39m.\u001b[39mlayers[\u001b[39m-\u001b[39m\u001b[39m1\u001b[39m]\u001b[39m.\u001b[39moutput),\n\u001b[1;32m---> <a href='vscode-notebook-cell:/c%3A/Users/Fin%20Amin/Desktop/StemCellResearch/dream4_100/DreamEncoder4_100.ipynb#Y412sZmlsZQ%3D%3D?line=15'>16</a>\u001b[0m     map2layer(X, \u001b[39m7\u001b[39;49m),\n\u001b[0;32m     <a href='vscode-notebook-cell:/c%3A/Users/Fin%20Amin/Desktop/StemCellResearch/dream4_100/DreamEncoder4_100.ipynb#Y412sZmlsZQ%3D%3D?line=16'>17</a>\u001b[0m     local_smoothing\u001b[39m=\u001b[39m\u001b[39m0\u001b[39m \u001b[39m# std dev of smoothing noise\u001b[39;00m\n\u001b[0;32m     <a href='vscode-notebook-cell:/c%3A/Users/Fin%20Amin/Desktop/StemCellResearch/dream4_100/DreamEncoder4_100.ipynb#Y412sZmlsZQ%3D%3D?line=17'>18</a>\u001b[0m )\n\u001b[0;32m     <a href='vscode-notebook-cell:/c%3A/Users/Fin%20Amin/Desktop/StemCellResearch/dream4_100/DreamEncoder4_100.ipynb#Y412sZmlsZQ%3D%3D?line=18'>19</a>\u001b[0m shap_values,indexes \u001b[39m=\u001b[39m e\u001b[39m.\u001b[39mshap_values(map2layer(to_explain, \u001b[39m7\u001b[39m), ranked_outputs\u001b[39m=\u001b[39m\u001b[39m2\u001b[39m)\n\u001b[0;32m     <a href='vscode-notebook-cell:/c%3A/Users/Fin%20Amin/Desktop/StemCellResearch/dream4_100/DreamEncoder4_100.ipynb#Y412sZmlsZQ%3D%3D?line=20'>21</a>\u001b[0m \u001b[39m# get the names for the classes\u001b[39;00m\n",
      "\u001b[1;32mc:\\Users\\Fin Amin\\Desktop\\StemCellResearch\\dream4_100\\DreamEncoder4_100.ipynb Cell 207\u001b[0m in \u001b[0;36mmap2layer\u001b[1;34m(x, layer)\u001b[0m\n\u001b[0;32m     <a href='vscode-notebook-cell:/c%3A/Users/Fin%20Amin/Desktop/StemCellResearch/dream4_100/DreamEncoder4_100.ipynb#Y412sZmlsZQ%3D%3D?line=10'>11</a>\u001b[0m \u001b[39mdef\u001b[39;00m \u001b[39mmap2layer\u001b[39m(x, layer):\n\u001b[0;32m     <a href='vscode-notebook-cell:/c%3A/Users/Fin%20Amin/Desktop/StemCellResearch/dream4_100/DreamEncoder4_100.ipynb#Y412sZmlsZQ%3D%3D?line=11'>12</a>\u001b[0m     feed_dict \u001b[39m=\u001b[39m \u001b[39mdict\u001b[39m(\u001b[39mzip\u001b[39m([model\u001b[39m.\u001b[39mlayers[\u001b[39m0\u001b[39m]\u001b[39m.\u001b[39minput], [preprocess_input(x\u001b[39m.\u001b[39mcopy())]))\n\u001b[1;32m---> <a href='vscode-notebook-cell:/c%3A/Users/Fin%20Amin/Desktop/StemCellResearch/dream4_100/DreamEncoder4_100.ipynb#Y412sZmlsZQ%3D%3D?line=12'>13</a>\u001b[0m     \u001b[39mreturn\u001b[39;00m K\u001b[39m.\u001b[39;49mget_session()\u001b[39m.\u001b[39;49mrun(model\u001b[39m.\u001b[39;49mlayers[layer]\u001b[39m.\u001b[39;49minput, feed_dict)\n",
      "File \u001b[1;32m~\\AppData\\Roaming\\Python\\Python39\\site-packages\\tensorflow\\python\\client\\session.py:967\u001b[0m, in \u001b[0;36mBaseSession.run\u001b[1;34m(self, fetches, feed_dict, options, run_metadata)\u001b[0m\n\u001b[0;32m    964\u001b[0m run_metadata_ptr \u001b[39m=\u001b[39m tf_session\u001b[39m.\u001b[39mTF_NewBuffer() \u001b[39mif\u001b[39;00m run_metadata \u001b[39melse\u001b[39;00m \u001b[39mNone\u001b[39;00m\n\u001b[0;32m    966\u001b[0m \u001b[39mtry\u001b[39;00m:\n\u001b[1;32m--> 967\u001b[0m   result \u001b[39m=\u001b[39m \u001b[39mself\u001b[39;49m\u001b[39m.\u001b[39;49m_run(\u001b[39mNone\u001b[39;49;00m, fetches, feed_dict, options_ptr,\n\u001b[0;32m    968\u001b[0m                      run_metadata_ptr)\n\u001b[0;32m    969\u001b[0m   \u001b[39mif\u001b[39;00m run_metadata:\n\u001b[0;32m    970\u001b[0m     proto_data \u001b[39m=\u001b[39m tf_session\u001b[39m.\u001b[39mTF_GetBuffer(run_metadata_ptr)\n",
      "File \u001b[1;32m~\\AppData\\Roaming\\Python\\Python39\\site-packages\\tensorflow\\python\\client\\session.py:1164\u001b[0m, in \u001b[0;36mBaseSession._run\u001b[1;34m(self, handle, fetches, feed_dict, options, run_metadata)\u001b[0m\n\u001b[0;32m   1160\u001b[0m   np_val \u001b[39m=\u001b[39m np\u001b[39m.\u001b[39masarray(subfeed_val, dtype\u001b[39m=\u001b[39msubfeed_dtype)\n\u001b[0;32m   1162\u001b[0m \u001b[39mif\u001b[39;00m (\u001b[39mnot\u001b[39;00m is_tensor_handle_feed \u001b[39mand\u001b[39;00m\n\u001b[0;32m   1163\u001b[0m     \u001b[39mnot\u001b[39;00m subfeed_t\u001b[39m.\u001b[39mget_shape()\u001b[39m.\u001b[39mis_compatible_with(np_val\u001b[39m.\u001b[39mshape)):\n\u001b[1;32m-> 1164\u001b[0m   \u001b[39mraise\u001b[39;00m \u001b[39mValueError\u001b[39;00m(\n\u001b[0;32m   1165\u001b[0m       \u001b[39mf\u001b[39m\u001b[39m'\u001b[39m\u001b[39mCannot feed value of shape \u001b[39m\u001b[39m{\u001b[39;00m\u001b[39mstr\u001b[39m(np_val\u001b[39m.\u001b[39mshape)\u001b[39m}\u001b[39;00m\u001b[39m for Tensor \u001b[39m\u001b[39m'\u001b[39m\n\u001b[0;32m   1166\u001b[0m       \u001b[39mf\u001b[39m\u001b[39m'\u001b[39m\u001b[39m{\u001b[39;00msubfeed_t\u001b[39m.\u001b[39mname\u001b[39m}\u001b[39;00m\u001b[39m, which has shape \u001b[39m\u001b[39m'\u001b[39m\n\u001b[0;32m   1167\u001b[0m       \u001b[39mf\u001b[39m\u001b[39m'\u001b[39m\u001b[39m{\u001b[39;00m\u001b[39mstr\u001b[39m(subfeed_t\u001b[39m.\u001b[39mget_shape())\u001b[39m}\u001b[39;00m\u001b[39m'\u001b[39m)\n\u001b[0;32m   1168\u001b[0m \u001b[39mif\u001b[39;00m \u001b[39mnot\u001b[39;00m \u001b[39mself\u001b[39m\u001b[39m.\u001b[39mgraph\u001b[39m.\u001b[39mis_feedable(subfeed_t):\n\u001b[0;32m   1169\u001b[0m   \u001b[39mraise\u001b[39;00m \u001b[39mValueError\u001b[39;00m(\u001b[39mf\u001b[39m\u001b[39m'\u001b[39m\u001b[39mTensor \u001b[39m\u001b[39m{\u001b[39;00msubfeed_t\u001b[39m.\u001b[39mname\u001b[39m}\u001b[39;00m\u001b[39m may not be fed.\u001b[39m\u001b[39m'\u001b[39m)\n",
      "\u001b[1;31mValueError\u001b[0m: Cannot feed value of shape (50, 224, 224, 3) for Tensor img_2:0, which has shape (None, 28, 28, 1)"
     ]
    }
   ],
   "source": [
    "\n",
    "X,y = shap.datasets.imagenet50()\n",
    "to_explain = X[[39,41]]\n",
    "\n",
    "# load the ImageNet class names\n",
    "url = \"https://s3.amazonaws.com/deep-learning-models/image-models/imagenet_class_index.json\"\n",
    "fname = shap.datasets.cache(url)\n",
    "with open(fname) as f:\n",
    "    class_names = json.load(f)\n",
    "\n",
    "# explain how the input to the 7th layer of the model explains the top two classes\n",
    "def map2layer(x, layer):\n",
    "    feed_dict = dict(zip([model.layers[0].input], [preprocess_input(x.copy())]))\n",
    "    return K.get_session().run(model.layers[layer].input, feed_dict)\n",
    "e = shap.GradientExplainer(\n",
    "    (model.layers[7].input, model.layers[-1].output),\n",
    "    map2layer(X, 7),\n",
    "    local_smoothing=0 # std dev of smoothing noise\n",
    ")\n",
    "shap_values,indexes = e.shap_values(map2layer(to_explain, 7), ranked_outputs=2)\n",
    "\n",
    "# get the names for the classes\n",
    "index_names = np.vectorize(lambda x: class_names[str(x)][1])(indexes)\n",
    "\n",
    "# plot the explanations\n",
    "shap.image_plot(shap_values, to_explain, index_names)"
   ]
  },
  {
   "cell_type": "code",
   "execution_count": null,
   "metadata": {},
   "outputs": [],
   "source": [
    "tf.__version__"
   ]
  },
  {
   "cell_type": "markdown",
   "metadata": {},
   "source": [
    "# Load the test set and the synthetic dataset:\n"
   ]
  },
  {
   "cell_type": "code",
   "execution_count": null,
   "metadata": {},
   "outputs": [],
   "source": [
    "def loadTestSet(test_path):\n",
    "    testFiles = []\n",
    "    for np_name in glob(os.path.join(data_path_testSet,'*.np[yz]')):\n",
    "        k = np.load(os.path.join(data_path_testSet,np_name))\n",
    "        testFiles.append(k)\n",
    "#         print(np_name)\n",
    "#         print(k.shape)\n",
    "    return np.array(testFiles)"
   ]
  },
  {
   "cell_type": "code",
   "execution_count": null,
   "metadata": {
    "id": "_PKjzdFCMwFg"
   },
   "outputs": [],
   "source": [
    "def read_files(data_path):\n",
    "\n",
    "    #genes_intensities_data_matrix = pd.read_csv(file_path_intensities, index_col = 0)\n",
    "    #print(os.listdir(data_path))\n",
    "    replicate_files = os.listdir(data_path)\n",
    "    #print('replicate files:',replicate_files)\n",
    "    replicates = []\n",
    "    # i = 0\n",
    "    for file in replicate_files:\n",
    "        \n",
    "        try:\n",
    "            #print('file name:',file)\n",
    "            #print('value of i:',i)\n",
    "            genes_intensities_data_matrix = pd.read_csv(os.path.join(data_path , file), index_col = 0, on_bad_lines='skip')\n",
    "            #print('genes_intensities_data_matrix:',  genes_intensities_data_matrix.head())\n",
    "            replicates.append(np.array(genes_intensities_data_matrix.values, dtype = float))\n",
    "            # i+=1\n",
    "        except PermissionError:\n",
    "            print(\"Not a CSV: \", os.path.join(data_path , file))\n",
    "        \n",
    "    genes_intensities_data_matrix = genes_intensities_data_matrix.values\n",
    "    rgm = np.loadtxt(matrix_path)\n",
    "    rep = np.array(replicates).astype(np.float32)\n",
    "    \n",
    "    return rep, rgm.astype(np.float32)"
   ]
  },
  {
   "cell_type": "code",
   "execution_count": null,
   "metadata": {
    "id": "JCwo4LwlO_FF"
   },
   "outputs": [],
   "source": [
    "beanIntensities, regulator_gene_matrix= read_files(data_path_syn)\n",
    "matrix = regulator_gene_matrix\n",
    "replicates = beanIntensities"
   ]
  },
  {
   "cell_type": "code",
   "execution_count": null,
   "metadata": {},
   "outputs": [],
   "source": [
    "matrix.shape"
   ]
  },
  {
   "cell_type": "code",
   "execution_count": null,
   "metadata": {},
   "outputs": [],
   "source": [
    "replicates.shape"
   ]
  },
  {
   "cell_type": "code",
   "execution_count": null,
   "metadata": {},
   "outputs": [],
   "source": [
    "plt.imshow(matrix)"
   ]
  },
  {
   "cell_type": "code",
   "execution_count": null,
   "metadata": {},
   "outputs": [],
   "source": []
  },
  {
   "cell_type": "code",
   "execution_count": null,
   "metadata": {},
   "outputs": [],
   "source": [
    "d = np.zeros(shape = (3,6,8))\n",
    "id = np.unravel_index(3*6*8 - 1, shape = d.shape)\n",
    "d[id] = 1\n",
    "plt.imshow(d[2])"
   ]
  },
  {
   "cell_type": "code",
   "execution_count": null,
   "metadata": {},
   "outputs": [],
   "source": [
    "testCandidate[0][ : , parentIndex]"
   ]
  },
  {
   "cell_type": "code",
   "execution_count": null,
   "metadata": {},
   "outputs": [],
   "source": [
    "print(outSyn.shape)\n",
    "print(testCandidate.shape)\n",
    "syntheticLoss = ignore_noParent_MSE(np.array([testCandidate[0]]), np.array([outSyn[0]]) )\n",
    "syntheticLoss"
   ]
  },
  {
   "cell_type": "code",
   "execution_count": null,
   "metadata": {},
   "outputs": [],
   "source": [
    "dd"
   ]
  },
  {
   "cell_type": "code",
   "execution_count": null,
   "metadata": {},
   "outputs": [],
   "source": [
    "plt.plot(change[0][22])\n",
    "plt.xlabel(\"epoch\")\n",
    "plt.ylabel(\"change in weight\")"
   ]
  },
  {
   "cell_type": "code",
   "execution_count": null,
   "metadata": {},
   "outputs": [],
   "source": [
    "plt.plot(lossMatrix)\n",
    "plt.xlabel(\"epochs\")\n",
    "plt.ylabel(\"MSE\")"
   ]
  },
  {
   "cell_type": "code",
   "execution_count": null,
   "metadata": {},
   "outputs": [],
   "source": [
    "print(change.shape, lossMatrix.shape)"
   ]
  },
  {
   "cell_type": "code",
   "execution_count": null,
   "metadata": {},
   "outputs": [],
   "source": [
    "d = np.diff(change[0][22])\n",
    "plt.plot(d)\n",
    "d.shape"
   ]
  },
  {
   "cell_type": "code",
   "execution_count": null,
   "metadata": {},
   "outputs": [],
   "source": [
    "change[0][0].flatten()"
   ]
  },
  {
   "cell_type": "code",
   "execution_count": null,
   "metadata": {},
   "outputs": [],
   "source": [
    "top_pr.shape"
   ]
  },
  {
   "cell_type": "code",
   "execution_count": null,
   "metadata": {},
   "outputs": [],
   "source": [
    "plt.plot(d[0])"
   ]
  },
  {
   "cell_type": "code",
   "execution_count": null,
   "metadata": {},
   "outputs": [],
   "source": [
    "\n",
    "# def compute_tresh(change, stop = 0.05):\n",
    "#     diffs = []\n",
    "#     for parent in range(len(change)):\n",
    "#         for child in range(len(change[0])):\n",
    "#             diffs.append(np.diff(change[parent][child]))\n",
    "#     inflection = []\n",
    "\n",
    "\n",
    "#     try:\n",
    "#         for d in diffs:\n",
    "#             print(np.argwhere(np.abs(d) < stop))\n",
    "#             inflection.append(np.min(np.argwhere(np.abs(d) < stop))) #return where the second derivative is first 0. \n",
    "\n",
    "#     except ValueError:\n",
    "#         print(\"Stop value \", stop, \" is too high, trying stop = \", stop + 0.05)\n",
    "#         # s = stop + 0.05\n",
    "#         # return compute_tresh(change, stop = s)\n",
    "        \n",
    "\n",
    "#     return np.average(inflection)\n",
    "        \n",
    "# d = compute_tresh(change)\n",
    "# d.shape"
   ]
  },
  {
   "cell_type": "code",
   "execution_count": null,
   "metadata": {},
   "outputs": [],
   "source": [
    "#np.save(\"mse3.npy\", avgMSE) #mse2/3 is with -1 fix"
   ]
  },
  {
   "cell_type": "code",
   "execution_count": null,
   "metadata": {},
   "outputs": [],
   "source": [
    "#https://www.sciencedirect.com/science/article/pii/S0925231220314570?casa_token=lcEJANqO0JwAAAAA:uL3DGUZctPUZz_sPz1K1i2klMtb83TyKnc9CI3_N-uSOaM7VHL8GhM0jCGYfo25NmpDQQ9Cvlw"
   ]
  },
  {
   "cell_type": "code",
   "execution_count": null,
   "metadata": {},
   "outputs": [],
   "source": [
    "rshp = Flatten()(looseParent.layers[-1].output)\n",
    "\n",
    "modelTemp = tf.keras.Model(inputs=looseParent.input, outputs = [rshp])\n",
    "modelTemp.summary()\n",
    "type(modelTemp)\n",
    "explainer = shap.DeepExplainer(modelTemp, syntheticDataTrain)\n",
    "#shap.explainers._deep.deep_tf.op_handlers[\"AddV2\"] = shap.explainers._deep.deep_tf.passthrough #this solves the \"shap_ADDV2\" problem but another one will appear\n",
    "#shap.explainers._deep.deep_tf.op_handlers[\"FusedBatchNormV3\"] = shap.explainers._deep.deep_tf.passthrough #this solves the next problem which allows you to run the DeepExplainer.\n",
    "\n",
    "shap_values = explainer.shap_values(testCandidate[0:1])\n",
    "def f(x):\n",
    "    return modelTemp.predict(x)\n",
    "\n",
    "print(f(testCandidate))\n",
    "explainer = shap.KernelExplainer(f , testCandidate[0:1], link=\"logit\") #svm.predict_proba, X_train, link=\"logit\")\n",
    "shap_values = explainer.shap_values(testCandidate[0:1], nsamples=100)\n",
    "def map2layer(x, layer):\n",
    "    feed_dict = dict(zip([model.layers[0].input], [preprocess_input(x.copy())]))\n",
    "    return K.get_session().run(model.layers[layer].input, feed_dict)\n",
    "e = shap.GradientExplainer(\n",
    "    (model.layers[7].input, model.layers[-1].output),\n",
    "    map2layer(X, 7),\n",
    "    local_smoothing=0 # std dev of smoothing noise\n",
    ")\n",
    "from keras.applications.vgg16 import VGG16\n",
    "from keras.applications.vgg16 import preprocess_input\n",
    "import keras.backend as K\n",
    "import numpy as np\n",
    "import json\n",
    "import shap\n",
    "\n",
    "# load pre-trained model and choose two images to explain\n",
    "model = VGG16(weights='imagenet', include_top=True)\n",
    "X,y = shap.datasets.imagenet50()\n",
    "to_explain = X[[39,41]]\n",
    "\n",
    "# load the ImageNet class names\n",
    "url = \"https://s3.amazonaws.com/deep-learning-models/image-models/imagenet_class_index.json\"\n",
    "fname = shap.datasets.cache(url)\n",
    "with open(fname) as f:\n",
    "    class_names = json.load(f)\n",
    "\n",
    "# explain how the input to the 7th layer of the model explains the top two classes\n",
    "def map2layer(x, layer):\n",
    "    feed_dict = dict(zip([model.layers[0].input], [preprocess_input(x.copy())]))\n",
    "    return K.get_session().run(model.layers[layer].input, feed_dict)\n",
    "e = shap.GradientExplainer(\n",
    "    (model.layers[7].input, model.layers[-1].output),\n",
    "    map2layer(X, 7),\n",
    "    local_smoothing=0 # std dev of smoothing noise\n",
    ")\n",
    "shap_values,indexes = e.shap_values(map2layer(to_explain, 7), ranked_outputs=2)\n",
    "\n",
    "# get the names for the classes\n",
    "index_names = np.vectorize(lambda x: class_names[str(x)][1])(indexes)\n",
    "\n",
    "# plot the explanations\n",
    "shap.image_plot(shap_values, to_explain, index_names)"
   ]
  },
  {
   "cell_type": "code",
   "execution_count": null,
   "metadata": {},
   "outputs": [],
   "source": [
    "type(enc_dec_Synthetic)"
   ]
  },
  {
   "cell_type": "code",
   "execution_count": null,
   "metadata": {},
   "outputs": [],
   "source": [
    "a = [1,2,3]\n",
    "b = [5,6]\n",
    "u = tf.concat([a,b], axis = 0)\n",
    "u"
   ]
  },
  {
   "cell_type": "code",
   "execution_count": null,
   "metadata": {},
   "outputs": [],
   "source": [
    "newConnections = superParent - regulator_gene_matrix"
   ]
  },
  {
   "cell_type": "code",
   "execution_count": null,
   "metadata": {},
   "outputs": [],
   "source": [
    "plt.imshow(newConnections)"
   ]
  },
  {
   "cell_type": "code",
   "execution_count": null,
   "metadata": {},
   "outputs": [],
   "source": [
    "# nC = []\n",
    "# for i in range(len(newConnections[0])):\n",
    "#     for j in range(len(newConnections[1])):\n",
    "#         if newConnections[i][j] > 0:\n",
    "#             nC.append([i,j])\n",
    "# nC = np.array(nC)\n",
    "# nC = pd.DataFrame(nC)\n",
    "# nC.to_csv(\"new_connections_in_superParents.csv\")"
   ]
  },
  {
   "cell_type": "code",
   "execution_count": null,
   "metadata": {},
   "outputs": [],
   "source": []
  },
  {
   "cell_type": "code",
   "execution_count": null,
   "metadata": {},
   "outputs": [],
   "source": []
  },
  {
   "cell_type": "code",
   "execution_count": null,
   "metadata": {},
   "outputs": [],
   "source": [
    "###Code for testing loss function\n",
    "# print(outSyn.shape)\n",
    "# print(testCandidate.shape)\n",
    "# syntheticLoss = ignore_noParent_MSE(np.array([testCandidate[0]]), np.array([outSyn[0]]) )\n",
    "# syntheticLoss"
   ]
  },
  {
   "cell_type": "markdown",
   "metadata": {},
   "source": [
    "# Synthetic Dataset Auto Encoder\n",
    "Autoencoder has not been trained on synthetic version of experiement 1. We test on the original experiment 1. "
   ]
  },
  {
   "cell_type": "code",
   "execution_count": null,
   "metadata": {
    "id": "WrRuJ_bsrHll"
   },
   "outputs": [],
   "source": [
    "enc_dec_Synthetic.compile(optimizer='adam', loss=ignore_noParent_MSE)"
   ]
  },
  {
   "cell_type": "code",
   "execution_count": null,
   "metadata": {
    "id": "yAOZEEvRRVU4"
   },
   "outputs": [],
   "source": [
    "# enc_dec_Synthetic.compile(optimizer='adam',loss = keras.losses.SparseCategoricalCrossentropy(from_logits=True))"
   ]
  },
  {
   "cell_type": "code",
   "execution_count": null,
   "metadata": {},
   "outputs": [],
   "source": [
    "syntheticDataTrain = beanIntensities[1:]"
   ]
  },
  {
   "cell_type": "code",
   "execution_count": null,
   "metadata": {
    "colab": {
     "base_uri": "https://localhost:8080/"
    },
    "executionInfo": {
     "elapsed": 726,
     "status": "ok",
     "timestamp": 1649273035573,
     "user": {
      "displayName": "Sahil Anish Palarpwar",
      "userId": "17757512684560375750"
     },
     "user_tz": 240
    },
    "id": "EuNDZx5Ov34I",
    "outputId": "74597aa1-c71c-4491-b8c9-4fefed309325"
   },
   "outputs": [],
   "source": [
    "enc_dec_Synthetic.fit(syntheticDataTrain,syntheticDataTrain,epochs=1000)"
   ]
  },
  {
   "cell_type": "code",
   "execution_count": null,
   "metadata": {},
   "outputs": [],
   "source": [
    "test = enc_dec_Synthetic(testCandidate) #, verbose = 0)\n",
    "loss = ignore_noParent_MSE(testCandidate, test)\n",
    "loss"
   ]
  },
  {
   "cell_type": "code",
   "execution_count": null,
   "metadata": {},
   "outputs": [],
   "source": [
    "w = enc_dec_Synthetic.get_weights()"
   ]
  },
  {
   "cell_type": "code",
   "execution_count": null,
   "metadata": {},
   "outputs": [],
   "source": [
    "plt.imshow(w[0], cmap = \"hot\", vmin=0,vmax=0.02)"
   ]
  },
  {
   "cell_type": "code",
   "execution_count": null,
   "metadata": {
    "id": "SBzDmjqJViEw",
    "scrolled": true
   },
   "outputs": [],
   "source": [
    "#we do not need to use this function for the testset\n",
    "def getCSVs(data_path_head):\n",
    "    PATH = data_path_head\n",
    "    EXT = \"*.csv\"\n",
    "    all_csv_files = [file\n",
    "                     for path, subdir, files in os.walk(PATH)\n",
    "                     for file in glob(os.path.join(path, EXT))]\n",
    "    actual = []\n",
    "    for p in all_csv_files:\n",
    "        actual.append(pd.read_csv(p, index_col = 0).to_numpy())\n",
    "    return np.array(actual)\n",
    "    \n",
    "experiment1 = getCSVs(data_path_og_exp1)"
   ]
  },
  {
   "cell_type": "code",
   "execution_count": null,
   "metadata": {},
   "outputs": [],
   "source": [
    "testCandidate = test.numpy().astype(np.float)"
   ]
  },
  {
   "cell_type": "code",
   "execution_count": null,
   "metadata": {},
   "outputs": [],
   "source": [
    "testCandidate.dtype"
   ]
  },
  {
   "cell_type": "code",
   "execution_count": null,
   "metadata": {},
   "outputs": [],
   "source": [
    "np.array([beanIntensities[0]]).shape"
   ]
  },
  {
   "cell_type": "code",
   "execution_count": null,
   "metadata": {},
   "outputs": [],
   "source": [
    "testCandidate[0].shape"
   ]
  },
  {
   "cell_type": "code",
   "execution_count": null,
   "metadata": {},
   "outputs": [],
   "source": [
    "np.array([beanIntensities[0]]).shape"
   ]
  },
  {
   "cell_type": "code",
   "execution_count": null,
   "metadata": {},
   "outputs": [],
   "source": [
    "outSyn = enc_dec_Synthetic.predict(testCandidate)"
   ]
  },
  {
   "cell_type": "code",
   "execution_count": null,
   "metadata": {},
   "outputs": [],
   "source": [
    "def mymagn(A, B):\n",
    "    mse = (np.square(A - B)).mean(axis=None)\n",
    "    return mse"
   ]
  },
  {
   "cell_type": "code",
   "execution_count": null,
   "metadata": {},
   "outputs": [],
   "source": [
    "print(outSyn.shape)"
   ]
  },
  {
   "cell_type": "code",
   "execution_count": null,
   "metadata": {},
   "outputs": [],
   "source": [
    "syntheticLoss = ignore_noParent_MSE(testCandidate, outSyn )\n",
    "syntheticLoss"
   ]
  },
  {
   "cell_type": "code",
   "execution_count": null,
   "metadata": {},
   "outputs": [],
   "source": [
    "(outSyn-testCandidate).shape"
   ]
  },
  {
   "cell_type": "code",
   "execution_count": null,
   "metadata": {},
   "outputs": [],
   "source": [
    "#!pip3 install keras-visualizer\n",
    "#!pip install pydot\n",
    "#data_path_og_exp1 = data_path_testSet \n",
    "# !pip install pydot\n",
    "# !pip install pydotplus\n",
    "# !pip install graphviz"
   ]
  },
  {
   "cell_type": "code",
   "execution_count": null,
   "metadata": {},
   "outputs": [],
   "source": [
    "# test = loadTestSet(data_path_testSet)\n",
    "# testCandidate = test.astype(np.float)\n"
   ]
  },
  {
   "cell_type": "code",
   "execution_count": null,
   "metadata": {
    "id": "nPRV0OAMpKPH"
   },
   "outputs": [],
   "source": [
    "enc_dec_Synthetic = model(regulator_gene_matrix, NUM_TARGETS, NUM_TIME_STEPS, NUM_TARGETS) #we can just change the time steps to something higher"
   ]
  },
  {
   "cell_type": "code",
   "execution_count": null,
   "metadata": {
    "colab": {
     "base_uri": "https://localhost:8080/"
    },
    "executionInfo": {
     "elapsed": 13,
     "status": "ok",
     "timestamp": 1649273028683,
     "user": {
      "displayName": "Sahil Anish Palarpwar",
      "userId": "17757512684560375750"
     },
     "user_tz": 240
    },
    "id": "D6aPT5_cpKK0",
    "outputId": "c261d824-0f38-4eee-b139-f03a80f093e1"
   },
   "outputs": [],
   "source": [
    "enc_dec_Synthetic.summary()"
   ]
  },
  {
   "cell_type": "markdown",
   "metadata": {},
   "source": [
    "# Interpolated dataset Auto Encoder\n",
    "Once again, we do not train on any version of exp1"
   ]
  },
  {
   "cell_type": "code",
   "execution_count": null,
   "metadata": {},
   "outputs": [],
   "source": [
    "def read_filesV2(data_path):\n",
    "    '''\n",
    "    *Changed*\n",
    "    currently hardcoded for only one file. \n",
    "    change code a bit for reading multiple files.\n",
    "    '''\n",
    "    #genes_intensities_data_matrix = pd.read_csv(file_path_intensities, index_col = 0)\n",
    "    #print(os.listdir(data_path))\n",
    "    replicate_files = os.listdir(data_path)\n",
    "    #print('replicate files:',replicate_files)\n",
    "    replicates = []\n",
    "    # i = 0\n",
    "    for file in replicate_files:\n",
    "        \n",
    "        #print('file name:',file)\n",
    "        #print('value of i:',i)\n",
    "        genes_intensities_data_matrix = pd.read_csv(os.path.join(data_path , file), index_col = 0, on_bad_lines='skip')\n",
    "        #print('genes_intensities_data_matrix:',  genes_intensities_data_matrix.head())\n",
    "        replicates.append(genes_intensities_data_matrix.values)\n",
    "        # i+=1\n",
    "        \n",
    "    genes_intensities_data_matrix = genes_intensities_data_matrix.values\n",
    "    rgm = np.loadtxt(matrix_path)\n",
    "    \n",
    "    return np.asarray(replicates), rgm.astype(np.float32)"
   ]
  },
  {
   "cell_type": "code",
   "execution_count": null,
   "metadata": {},
   "outputs": [],
   "source": [
    "interpolated_genes, _ = read_filesV2(data_path_inter)"
   ]
  },
  {
   "cell_type": "code",
   "execution_count": null,
   "metadata": {},
   "outputs": [],
   "source": [
    "interpolated_genes.shape"
   ]
  },
  {
   "cell_type": "code",
   "execution_count": null,
   "metadata": {},
   "outputs": [],
   "source": [
    "pd.DataFrame(interpolated_genes[2]).head(5)"
   ]
  },
  {
   "cell_type": "code",
   "execution_count": null,
   "metadata": {},
   "outputs": [],
   "source": [
    "inter = []\n",
    "for k in range(len(interpolated_genes)):\n",
    "    #print(k)\n",
    "    if k == 2 or k == 3 or k == 4:\n",
    "        inter.append(np.reshape(interpolated_genes[k], (4,6,NUM_TARGETS)))\n",
    "    else: \n",
    "        inter.append(np.reshape(interpolated_genes[k], (5,6,NUM_TARGETS)))\n",
    "inter = np.vstack(inter)"
   ]
  },
  {
   "cell_type": "code",
   "execution_count": null,
   "metadata": {},
   "outputs": [],
   "source": [
    "inter.shape"
   ]
  },
  {
   "cell_type": "code",
   "execution_count": null,
   "metadata": {},
   "outputs": [],
   "source": [
    "beanIntensities[1:].shape"
   ]
  },
  {
   "cell_type": "code",
   "execution_count": null,
   "metadata": {},
   "outputs": [],
   "source": [
    "enc_dec_inter = model(regulator_gene_matrix, NUM_TARGETS, 6, NUM_TARGETS) \n",
    "enc_dec_inter.compile(optimizer='adam', loss=ignore_noParent_MSE)"
   ]
  },
  {
   "cell_type": "code",
   "execution_count": null,
   "metadata": {},
   "outputs": [],
   "source": [
    "enc_dec_inter.fit(inter, inter,epochs=1000);"
   ]
  },
  {
   "cell_type": "code",
   "execution_count": null,
   "metadata": {},
   "outputs": [],
   "source": [
    "outInter = enc_dec_inter.predict(testCandidate)\n",
    "interpolationLoss = ignore_noParent_MSE(testCandidate, outInter)"
   ]
  },
  {
   "cell_type": "code",
   "execution_count": null,
   "metadata": {},
   "outputs": [],
   "source": [
    "interpolationLoss #used to be 3.84 on broke ignore"
   ]
  },
  {
   "cell_type": "code",
   "execution_count": null,
   "metadata": {},
   "outputs": [],
   "source": [
    "outInter.shape"
   ]
  },
  {
   "cell_type": "code",
   "execution_count": null,
   "metadata": {},
   "outputs": [],
   "source": [
    "u = enc_dec_inter.history\n",
    "u"
   ]
  },
  {
   "cell_type": "markdown",
   "metadata": {},
   "source": [
    "# Comparisons between various outputs:"
   ]
  },
  {
   "cell_type": "code",
   "execution_count": null,
   "metadata": {},
   "outputs": [],
   "source": [
    "u = plt.imshow(np.reshape((np.abs(outSyn)), (24,NUM_TARGETS)), cmap = \"hot\", vmin=0,vmax=1.0 );"
   ]
  },
  {
   "cell_type": "code",
   "execution_count": null,
   "metadata": {},
   "outputs": [],
   "source": [
    "u = pd.DataFrame(outSyn[0])\n",
    "u.head(10)"
   ]
  },
  {
   "cell_type": "code",
   "execution_count": null,
   "metadata": {},
   "outputs": [],
   "source": [
    "u = pd.DataFrame(testCandidate[0])\n",
    "u.head(10)"
   ]
  },
  {
   "cell_type": "code",
   "execution_count": null,
   "metadata": {
    "scrolled": true
   },
   "outputs": [],
   "source": [
    "plt.figure(figsize=(50, 50))\n",
    "u = plt.imshow(np.reshape((np.abs(outSyn-outInter)), (24,NUM_TARGETS)), cmap = \"hot\")#, vmin=0,vmax=1.0 );\n",
    "plt.title(\"Difference Between the Outputs of Both Autoencoders\", fontsize = 40);\n",
    "plt.xlabel(\"Phosphopeptide\", fontsize = 30);\n",
    "plt.ylabel(\"Times Concatenated\", fontsize = 30);\n",
    "plt.colorbar(u ,fraction=0.0046, pad=0.02);\n",
    "#plt.savefig(\"DiffBetweenOut.png\")"
   ]
  },
  {
   "cell_type": "code",
   "execution_count": null,
   "metadata": {},
   "outputs": [],
   "source": [
    "plt.figure(figsize=(50, 50))\n",
    "u = plt.imshow(np.reshape(np.abs(outInter-experiment1), (24,NUM_TARGETS)) , cmap = \"hot\") #, vmin=0,vmax=1.0 )\n",
    "plt.title(\"Difference Between the Input and Output of the Autoencoder Trained on Interpolated Data\", fontsize = 40);\n",
    "plt.xlabel(\"Phosphopeptide\", fontsize = 30)\n",
    "plt.ylabel(\"Times Concatenated\", fontsize = 30);\n",
    "plt.colorbar(u ,fraction=0.0046, pad=0.02);\n",
    "#plt.savefig(\"InterDiffImage.png\")"
   ]
  },
  {
   "cell_type": "code",
   "execution_count": null,
   "metadata": {},
   "outputs": [],
   "source": [
    "plt.figure(figsize=(50, 50))\n",
    "u = plt.imshow(np.reshape(np.abs(outSyn-experiment1), (24,NUM_TARGETS)), cmap = \"hot\")#, vmin=0,vmax=1.0 )\n",
    "plt.title(\"Difference Between the Input and Output of the Autoencoder Trained on Synthetic Data\", fontsize = 40);\n",
    "plt.xlabel(\"Phosphopeptide\", fontsize = 30);\n",
    "plt.ylabel(\"Times Concatenated\", fontsize = 30);\n",
    "plt.colorbar(u ,fraction=0.0046, pad=0.02);\n",
    "#plt.savefig(\"SynDiffImage.png\");"
   ]
  },
  {
   "cell_type": "code",
   "execution_count": null,
   "metadata": {},
   "outputs": [],
   "source": [
    "parent_idx = parentIndex.numpy()\n",
    "#print(parent_idx)\n",
    "oSyn = (np.reshape((outSyn), (24,NUM_TARGETS)).T)[parent_idx]\n",
    "oSyn = oSyn.T\n",
    "oSyn.shape\n",
    "\n",
    "exp1_col = (np.reshape((experiment1), (24,NUM_TARGETS)).T)[parent_idx]\n",
    "exp1_col = exp1_col.T\n",
    "print(exp1_col.shape)\n",
    "\n",
    "u = plt.imshow(np.abs(oSyn - exp1_col), cmap = 'hot') #TODO use TF loss function instead of difference.\n",
    "ddff = oSyn-exp1_col\n",
    "plt.colorbar(u)\n",
    "plt.title(\"Difference Between the Input and Output of the Autoencoder Trained on Synthetic Data. Only parents.\");"
   ]
  },
  {
   "cell_type": "code",
   "execution_count": null,
   "metadata": {},
   "outputs": [],
   "source": [
    "pd.DataFrame(oSyn).head(24)"
   ]
  },
  {
   "cell_type": "code",
   "execution_count": null,
   "metadata": {},
   "outputs": [],
   "source": [
    "pd.DataFrame(exp1_col).head(24)\n"
   ]
  },
  {
   "cell_type": "code",
   "execution_count": null,
   "metadata": {},
   "outputs": [],
   "source": [
    "pd.DataFrame(ddff).head(24)\n"
   ]
  },
  {
   "cell_type": "code",
   "execution_count": null,
   "metadata": {},
   "outputs": [],
   "source": [
    "# np.save(\"interpolated_v2.npy\", inter) #the interpolated dataset\n",
    "# np.save(\"synthetic_v2.npy\", beanIntensities[1:]) # the synthetic dataset\n",
    "# np.save(\"synOut_v2.npy\", outSyn) #the output of the encoder trained on synthetic data with the input being exp1\n",
    "# np.save(\"interOut_v2.npy\", outInter) #the output of the encoder trained on interpolated data with the input being exp1"
   ]
  },
  {
   "cell_type": "code",
   "execution_count": null,
   "metadata": {},
   "outputs": [],
   "source": []
  }
 ],
 "metadata": {
  "colab": {
   "authorship_tag": "ABX9TyM6J5QSynTTgZ+lFOhgOtAG",
   "collapsed_sections": [],
   "name": "cnn-third.ipynb",
   "provenance": [
    {
     "file_id": "1mmRxO5jnBc5CdzxXj8sMtPpG0BQ0ulSs",
     "timestamp": 1648921397876
    },
    {
     "file_id": "10758zFj2UnTnwpQaSFIr5r9MqZWdiMsf",
     "timestamp": 1648674775255
    }
   ]
  },
  "kernelspec": {
   "display_name": "Python 3.9.12 ('base')",
   "language": "python",
   "name": "python3"
  },
  "language_info": {
   "codemirror_mode": {
    "name": "ipython",
    "version": 3
   },
   "file_extension": ".py",
   "mimetype": "text/x-python",
   "name": "python",
   "nbconvert_exporter": "python",
   "pygments_lexer": "ipython3",
   "version": "3.9.12"
  },
  "vscode": {
   "interpreter": {
    "hash": "ad2bdc8ecc057115af97d19610ffacc2b4e99fae6737bb82f5d7fb13d2f2c186"
   }
  }
 },
 "nbformat": 4,
 "nbformat_minor": 1
}
