{
 "cells": [
  {
   "cell_type": "code",
   "execution_count": 1,
   "metadata": {},
   "outputs": [],
   "source": [
    "#!pip install synapseclient"
   ]
  },
  {
   "cell_type": "code",
   "execution_count": 2,
   "metadata": {},
   "outputs": [],
   "source": [
    "#!pip install synapseutils"
   ]
  },
  {
   "cell_type": "code",
   "execution_count": 3,
   "metadata": {},
   "outputs": [],
   "source": [
    "#  import synapseclient \n",
    "#  import synapseutils \n",
    " \n",
    "#  syn = synapseclient.Synapse() \n",
    "#  syn.login('finamintoastcrunch','1Hjldria!') \n",
    "#  files = synapseutils.syncFromSynapse(syn, ' syn2825306 ') "
   ]
  },
  {
   "attachments": {},
   "cell_type": "markdown",
   "metadata": {},
   "source": [
    "# Import Libraries"
   ]
  },
  {
   "cell_type": "code",
   "execution_count": 4,
   "metadata": {
    "id": "qTo_HuQkGgAq"
   },
   "outputs": [],
   "source": [
    "import tensorflow as tf\n",
    "from tensorflow import keras\n",
    "from datetime import datetime\n",
    "import numpy as np\n",
    "import pandas as pd\n",
    "import matplotlib.pyplot as plt\n",
    "\n",
    "from tensorflow.keras.layers import*\n",
    "import shap\n",
    "from keras.utils.vis_utils import plot_model\n",
    "import tensorflow.keras.backend as K\n",
    "# from keras.layers import Input\n",
    "# from keras.layers import Dense\n",
    "# from keras.layers import Conv1D\n",
    "# from keras.layers import Conv1DTranspose\n",
    "# from keras.layers import Flatten, Reshape\n",
    "\n",
    "import os\n",
    "from glob import glob\n",
    "from tqdm import tqdm\n",
    "from tensorflow.keras import losses\n",
    "from sklearn.preprocessing import StandardScaler\n",
    "from sklearn.preprocessing import MinMaxScaler"
   ]
  },
  {
   "cell_type": "code",
   "execution_count": 5,
   "metadata": {},
   "outputs": [],
   "source": [
    "df = pd.DataFrame"
   ]
  },
  {
   "cell_type": "code",
   "execution_count": 6,
   "metadata": {},
   "outputs": [
    {
     "data": {
      "text/plain": [
       "[PhysicalDevice(name='/physical_device:GPU:0', device_type='GPU')]"
      ]
     },
     "execution_count": 6,
     "metadata": {},
     "output_type": "execute_result"
    }
   ],
   "source": [
    "tf.config.list_physical_devices(\n",
    "    device_type=None\n",
    ")\n",
    "tf.config.list_physical_devices('GPU')"
   ]
  },
  {
   "cell_type": "code",
   "execution_count": 7,
   "metadata": {},
   "outputs": [
    {
     "data": {
      "text/plain": [
       "True"
      ]
     },
     "execution_count": 7,
     "metadata": {},
     "output_type": "execute_result"
    }
   ],
   "source": [
    "tf.executing_eagerly()"
   ]
  },
  {
   "cell_type": "code",
   "execution_count": 8,
   "metadata": {},
   "outputs": [],
   "source": [
    "import warnings\n",
    "warnings.filterwarnings('ignore')"
   ]
  },
  {
   "cell_type": "code",
   "execution_count": 9,
   "metadata": {},
   "outputs": [],
   "source": [
    "import matplotlib.pylab as pylab\n",
    "params = {'legend.fontsize': 'x-large',\n",
    "          'figure.figsize': (15, 5),\n",
    "         'axes.labelsize': 'x-large',\n",
    "         'axes.titlesize':'x-large',\n",
    "         'xtick.labelsize':'x-large',\n",
    "         'ytick.labelsize':'x-large'}\n",
    "pylab.rcParams.update(params)"
   ]
  },
  {
   "cell_type": "code",
   "execution_count": 10,
   "metadata": {},
   "outputs": [
    {
     "name": "stdout",
     "output_type": "stream",
     "text": [
      "1 Physical GPUs, 1 Logical GPUs\n"
     ]
    }
   ],
   "source": [
    "gpus = tf.config.list_physical_devices('GPU')\n",
    "if gpus:\n",
    "  try:\n",
    "    # Currently, memory growth needs to be the same across GPUs\n",
    "    for gpu in gpus:\n",
    "      tf.config.experimental.set_memory_growth(gpu, True)\n",
    "    logical_gpus = tf.config.list_logical_devices('GPU')\n",
    "    print(len(gpus), \"Physical GPUs,\", len(logical_gpus), \"Logical GPUs\")\n",
    "  except RuntimeError as e:\n",
    "    # Memory growth must be set before GPUs have been initialized\n",
    "    print(e)"
   ]
  },
  {
   "cell_type": "code",
   "execution_count": 11,
   "metadata": {},
   "outputs": [],
   "source": [
    "NUM_PARENTS = 100\n",
    "NUM_TARGETS = 100\n",
    "NUM_TIME_STEPS = 20\n",
    "NUM_REPLICATES = 8 #there are 25 different experiments. so \"num replicates\" is being used loosely"
   ]
  },
  {
   "cell_type": "code",
   "execution_count": 9,
   "metadata": {
    "id": "gXpISOijEYqQ"
   },
   "outputs": [],
   "source": [
    "\n",
    "# matrix_path = \"regulator-gene-matrix.csv\"\n",
    "# data_path_syn = r\"C:\\Users\\Fin Amin\\Desktop\\StemCellResearch\\Fin_preProcessed\\synData\"\n",
    "# data_path_inter =  r\"C:\\Users\\Fin Amin\\Desktop\\StemCellResearch\\Fin_preProcessed\\interpolatedOnly\"\n",
    "# data_path_og_exp1 = r\"C:\\Users\\Fin Amin\\Desktop\\StemCellResearch\\Fin_preProcessed\\datasets\\exp1\"\n",
    "# data_path_testSet = r\"C:\\Users\\Fin Amin\\Desktop\\StemCellResearch\\testSetFixed\"\n",
    "# data_path_petal = r\"C:\\Users\\Fin Amin\\Desktop\\StemCellResearch\\petal_len.xlsx\""
   ]
  },
  {
   "cell_type": "code",
   "execution_count": 10,
   "metadata": {},
   "outputs": [],
   "source": [
    "# dirty_RGM = r'Regulations_Control_Altona.csv'\n",
    "dirty_regulations = r'insilico_size100_1_timeseries.csv'"
   ]
  },
  {
   "cell_type": "code",
   "execution_count": 11,
   "metadata": {},
   "outputs": [
    {
     "data": {
      "text/plain": [
       "(25, 3, 7)"
      ]
     },
     "execution_count": 11,
     "metadata": {},
     "output_type": "execute_result"
    }
   ],
   "source": [
    "#dirtyRGM = pd.read_csv(dirty_RGM,  index_col = 0, )#on_bad_lines='skip')\n",
    "dirtyReg = pd.read_csv(dirty_regulations,  index_col = 0,)# on_bad_lines='skip')\n",
    "dirtyReg = dirtyReg.groupby(['DatasetID'])\n",
    "dirtyReg.head()\n",
    "\n",
    "dRegs = []\n",
    "for i in range(NUM_REPLICATES):\n",
    "    d = dirtyReg.get_group(i+1)\n",
    "    key = d.keys()\n",
    "    key = key[8:15]\n",
    "    d = d[key].select_dtypes(include=np.number)\n",
    "    d = d.to_numpy()\n",
    "\n",
    "    dRegs.append(d)\n",
    "dRegs = np.array(dRegs, dtype=np.float32)\n",
    "dRegs.shape\n",
    "# dirtyReg = dirtyReg.select_dtypes(include=np.number)\n",
    "# dirtyReg = dirtyReg.to_numpy()\n",
    "# dirtyReg.shape"
   ]
  },
  {
   "cell_type": "code",
   "execution_count": 12,
   "metadata": {},
   "outputs": [
    {
     "data": {
      "text/plain": [
       "(25, 3, 7)"
      ]
     },
     "execution_count": 12,
     "metadata": {},
     "output_type": "execute_result"
    }
   ],
   "source": [
    "\n",
    "def fix_dataset(dirtyR):\n",
    "    ds = dirtyR\n",
    "    ret = np.zeros(shape=(NUM_REPLICATES,NUM_TIME_STEPS, NUM_TARGETS))\n",
    "\n",
    "    # for i in range(0,NUM_REPLICATES*NUM_TIME_STEPS, 4):\n",
    "    #     for j in range(0, NUM_REPLICATES):\n",
    "    #         dataset[j][:,i//NUM_REPLICATES] = dirtyR[:,(i+j)]\n",
    "    \n",
    "    ds[ds==-1.0] = np.nan #we do this so the scaling ignores -1s \n",
    "\n",
    "\n",
    "    for i in range(NUM_REPLICATES):\n",
    "        regScaled = StandardScaler().fit_transform(ds[i].flatten().reshape((-1,1)))\n",
    "        regScaled = MinMaxScaler().fit_transform(ds[i].flatten().reshape((-1,1))) #ignores np.nan\n",
    "        regScaled = regScaled.reshape((NUM_TARGETS, NUM_TIME_STEPS))\n",
    "        regScaled = np.nan_to_num(regScaled, nan= -1.0)\n",
    "        ret[i] = regScaled.T\n",
    "    return ret\n",
    "\n",
    "dataset = fix_dataset(dirtyR=dRegs)\n",
    "dataset.shape"
   ]
  },
  {
   "cell_type": "code",
   "execution_count": 13,
   "metadata": {},
   "outputs": [
    {
     "data": {
      "text/plain": [
       "array([[7.69989610e-01, 2.68258899e-03, 4.61491853e-01, 4.07580510e-02,\n",
       "        4.02388349e-02, 5.91034964e-02, 0.00000000e+00],\n",
       "       [3.81619930e-02, 8.65352340e-05, 1.00000000e+00, 4.84596752e-03,\n",
       "        4.39685017e-01, 3.60851511e-02, 2.12011077e-02],\n",
       "       [3.84216011e-02, 3.07199713e-02, 1.71339568e-02, 1.73070235e-04,\n",
       "        5.40065765e-01, 5.19210938e-04, 4.83212173e-01]])"
      ]
     },
     "execution_count": 13,
     "metadata": {},
     "output_type": "execute_result"
    }
   ],
   "source": [
    "dataset[0]"
   ]
  },
  {
   "cell_type": "code",
   "execution_count": 14,
   "metadata": {},
   "outputs": [
    {
     "name": "stdout",
     "output_type": "stream",
     "text": [
      "(22, 3, 7) (3, 3, 7) (25, 3, 7)\n"
     ]
    }
   ],
   "source": [
    "beanIntensities = dataset[3:]\n",
    "validation = dataset[0:3]\n",
    "allData = dataset\n",
    "print(beanIntensities.shape, validation.shape, allData.shape)"
   ]
  },
  {
   "cell_type": "code",
   "execution_count": 15,
   "metadata": {},
   "outputs": [],
   "source": [
    "#the third replicate is trash. we will not use it. \n",
    "# df(dataset[3]).head(11) "
   ]
  },
  {
   "cell_type": "code",
   "execution_count": 16,
   "metadata": {},
   "outputs": [],
   "source": [
    "# regulator_gene_matrix = np.load(\"soyBeanRGM.npy\")\n",
    "# regulator_gene_matrix = regulator_gene_matrix.astype('float32')\n",
    "# regulator_gene_matrix.shape"
   ]
  },
  {
   "attachments": {},
   "cell_type": "markdown",
   "metadata": {},
   "source": [
    "# RGM and RGM+"
   ]
  },
  {
   "cell_type": "code",
   "execution_count": 17,
   "metadata": {},
   "outputs": [],
   "source": [
    "regulator_gene_matrix = np.ones((NUM_TARGETS,NUM_TARGETS), dtype='float32')\n",
    "superParent = np.ones((NUM_TARGETS, NUM_TARGETS), dtype = 'float32')\n",
    "parentIndex = np.arange(stop=NUM_PARENTS)\n",
    "parentIndex = tf.convert_to_tensor(parentIndex)\n",
    "parent_idx = parentIndex.numpy()"
   ]
  },
  {
   "cell_type": "code",
   "execution_count": 18,
   "metadata": {},
   "outputs": [
    {
     "data": {
      "text/plain": [
       "<tf.Tensor: shape=(7,), dtype=int32, numpy=array([0, 1, 2, 3, 4, 5, 6])>"
      ]
     },
     "execution_count": 18,
     "metadata": {},
     "output_type": "execute_result"
    }
   ],
   "source": [
    "parentIndex"
   ]
  },
  {
   "cell_type": "code",
   "execution_count": 19,
   "metadata": {},
   "outputs": [
    {
     "data": {
      "image/png": "[encoded data removed]",
      "text/plain": [
       "<Figure size 1080x360 with 1 Axes>"
      ]
     },
     "metadata": {
      "needs_background": "light"
     },
     "output_type": "display_data"
    }
   ],
   "source": [
    "plt.imshow(superParent, cmap='hot');\n",
    "plt.xlabel(\"Substrate\");\n",
    "plt.ylabel(\"Regulator\");"
   ]
  },
  {
   "cell_type": "code",
   "execution_count": 20,
   "metadata": {},
   "outputs": [
    {
     "data": {
      "image/png": "[encoded data removed]",
      "text/plain": [
       "<Figure size 1080x360 with 1 Axes>"
      ]
     },
     "metadata": {
      "needs_background": "light"
     },
     "output_type": "display_data"
    }
   ],
   "source": [
    "plt.imshow(regulator_gene_matrix, cmap='hot');\n",
    "plt.xlabel(\"Substrate\");\n",
    "plt.ylabel(\"Regulator\");"
   ]
  },
  {
   "attachments": {},
   "cell_type": "markdown",
   "metadata": {},
   "source": [
    "# Custom Loss"
   ]
  },
  {
   "cell_type": "code",
   "execution_count": 21,
   "metadata": {},
   "outputs": [],
   "source": [
    "# superParent = regulator_gene_matrix.copy() #init the super parent with the ordinary RGM, and do forward passes with super parent\n",
    "# #print(superParent.shape)\n",
    "\n",
    "# ones = np.ones((NUM_TARGETS))\n",
    "# parentIndex = []\n",
    "# not_parentIndex = []\n",
    "# for i in range(len(regulator_gene_matrix)):\n",
    "#     if (np.isin(regulator_gene_matrix[i], [1])).any():\n",
    "#         #print(i)\n",
    "#         superParent[i] = ones \n",
    "#         parentIndex.append(i)\n",
    "#     else:\n",
    "#         not_parentIndex.append(i)\n",
    "\n",
    "# parentIndex = np.array(parentIndex)\n",
    "# parentIndex = tf.convert_to_tensor(parentIndex)\n",
    "# parent_idx = parentIndex.numpy()\n",
    "# not_parentIndex = np.array(not_parentIndex)\n",
    "# not_parentIndex = tf.convert_to_tensor(not_parentIndex)\n",
    "# print(\"shape of parent index\", parentIndex.shape)\n",
    "\n",
    "def ignore_noParent_MSE_old(y_true, y_pred): \n",
    "    l = tf.keras.losses.MeanSquaredError()\n",
    "    y_true_pruned = tf.gather(y_true,parentIndex, axis =2) \n",
    "    #print(y_true_pruned.shape\n",
    "    y_pred_pruned = tf.gather(y_pred, parentIndex, axis =2)   \n",
    "    return l(y_true_pruned, y_pred_pruned)\n",
    "\n",
    "#this will not work if the entire dataset is -1 (degenerate), or has only one actual value (also degen)\n",
    "def ignore_noParent_MSE(y_true, y_pred): \n",
    "    l = tf.keras.losses.MeanSquaredError()\n",
    "   # print(y_true.shape) #(None, 44, 372)\n",
    "\n",
    "    #get the parents and flatten them\n",
    "    y_true_pruned = tf.gather(y_true, parentIndex, axis = 2) #axis 2 because batch, time, gene\n",
    "    y_true_pruned = tf.reshape(y_true_pruned, shape=([tf.size(y_true_pruned)] ) )\n",
    "\n",
    "   # print(y_true_pruned.shape)\n",
    "   # print(\"tf size\", tf.size(y_true_pruned))\n",
    "\n",
    "    y_pred_pruned = tf.gather(y_pred, parentIndex, axis = 2) \n",
    "    y_pred_pruned = tf.reshape(y_pred_pruned, shape=([tf.size(y_pred_pruned)]) )\n",
    "\n",
    "    #get the index of the parents which are not -1\n",
    "    y_true_posID = tf.where(y_true_pruned >= 0) #gets args\n",
    "    y_true_posID = tf.squeeze(y_true_posID)\n",
    "    #get the idx of all the -1s \n",
    "    y_true_negID = tf.where(y_true_pruned < 0) \n",
    "    y_true_negID = tf.squeeze(y_true_negID)\n",
    "\n",
    "    #get all the -1s in the parents \n",
    "    y_true_neg = tf.gather(y_true_pruned, y_true_negID) #get all the -1s in y_true\n",
    "    y_pred_neg = tf.gather(y_pred_pruned, y_true_negID) #get the corresponding values for y_pred\n",
    "\n",
    "    #get the indexes where pred should be -1 but is not. get the corresponding index for ytrue\n",
    "    y_shouldBeNegButIsntID = tf.where(y_pred_neg >= 0)  \n",
    "    y_shouldBeNegButIsntID = tf.squeeze(y_shouldBeNegButIsntID) #get the idx which should be -1 for prediction but are not\n",
    "    y_true_wrong = tf.gather(y_true_pruned, y_shouldBeNegButIsntID) #get the same corresponding values from ytrue\n",
    "    y_shouldBeNegButIsnt = tf.gather(y_pred_pruned, y_shouldBeNegButIsntID) #this has all the wrongly predicted values which should be -1 but are not\n",
    "\n",
    "    y_true_pos = tf.gather(y_true_pruned, y_true_posID)\n",
    "    y_pred_pos = tf.gather(y_pred_pruned, y_true_posID)\n",
    "\n",
    "    if tf.size(y_shouldBeNegButIsnt) == 0: #we can not concatenate if the size is 0. \n",
    "        return l(y_true_pos, y_pred_pos)\n",
    "\n",
    "    if tf.size(y_shouldBeNegButIsnt) == 1: #dim goes away if size = 1. \n",
    "        y_shouldBeNegButIsnt = tf.expand_dims(y_shouldBeNegButIsnt, axis = 0) #should all be flattened\n",
    "        y_true_wrong = tf.expand_dims(y_true_wrong, axis=0)\n",
    "\n",
    "    #print(\"y_pred\", (y_pred_pos), \"y_true\", (y_shouldBeNegButIsnt))\n",
    "    try:\n",
    "        y_pred_total = tf.concat([y_pred_pos, y_shouldBeNegButIsnt], axis = 0) #concatenate for total mse\n",
    "        y_true_total = tf.concat([y_true_pos, y_true_wrong], axis = 0)\n",
    "    except Exception as e:\n",
    "        print(y_pred_pos.shape, y_shouldBeNegButIsnt.shape, tf.size(y_shouldBeNegButIsnt))\n",
    "        return l(y_true_pos, y_pred_pos)\n",
    "\n",
    "    return l(y_true_total, y_pred_total)"
   ]
  },
  {
   "cell_type": "code",
   "execution_count": 22,
   "metadata": {},
   "outputs": [
    {
     "data": {
      "text/plain": [
       "array([0, 1, 2, 3, 4, 5, 6])"
      ]
     },
     "execution_count": 22,
     "metadata": {},
     "output_type": "execute_result"
    }
   ],
   "source": [
    "parent_idx"
   ]
  },
  {
   "cell_type": "markdown",
   "metadata": {},
   "source": [
    "# Ordinary Auto Encoder"
   ]
  },
  {
   "cell_type": "code",
   "execution_count": 26,
   "metadata": {
    "id": "1yhzyikoFncq"
   },
   "outputs": [],
   "source": [
    "class EncoderLinear(tf.keras.layers.Layer):\n",
    "    def __init__(self, rgm, input_dim=32, units=32):\n",
    "        super(EncoderLinear, self).__init__()\n",
    "        self.rgm = rgm\n",
    "        \n",
    "        def init_weights(shape, dtype=\"float32\"):\n",
    "\n",
    "            w_init = tf.random_normal_initializer()(shape=shape, dtype=dtype) * tf.convert_to_tensor(self.rgm, dtype=dtype)\n",
    "\n",
    "            return w_init\n",
    "        \n",
    "\n",
    "        self.w = tf.Variable(\n",
    "            initial_value=init_weights(shape=(input_dim, units), dtype=\"float32\"),\n",
    "            trainable=True,\n",
    "        )\n",
    "\n",
    "    def call(self, inputs):\n",
    "        X = inputs\n",
    "        return tf.matmul(X, tf.multiply(self.rgm, self.w))\n",
    "    #tf.matmul(inputs, self.w)"
   ]
  },
  {
   "cell_type": "code",
   "execution_count": 27,
   "metadata": {
    "id": "4uchxU-bmBDe"
   },
   "outputs": [],
   "source": [
    "class DecoderLinear(tf.keras.layers.Layer):\n",
    "    def __init__(self, rgm, input_dim=32, units=32):\n",
    "        super(DecoderLinear, self).__init__()\n",
    "        self.rgm = rgm\n",
    "\n",
    "        def init_weights(shape, dtype=\"float32\"):\n",
    "\n",
    "            w_init = tf.random_normal_initializer()(shape=shape, dtype=dtype) * tf.transpose(tf.convert_to_tensor(self.rgm, dtype=dtype))\n",
    "\n",
    "            return w_init\n",
    "    \n",
    "        \n",
    "        self.w = tf.Variable(\n",
    "            initial_value=init_weights(shape=(input_dim, units), dtype=\"float32\"),\n",
    "            trainable=True,\n",
    "        )\n",
    "\n",
    "    def call(self, inputs):\n",
    "        X = inputs\n",
    "        #return tf.matmul(X, tf.multiply((self.rgm), self.w))\n",
    "        X = tf.matmul(X, tf.multiply(tf.transpose(self.rgm), self.w)) \n",
    "        #return tf.matmul(inputs, self.w)\n",
    "        # v = tf.zeros_like(X)\n",
    "        # u = tf.ones_like(X)\n",
    "        # u = tf.math.scalar_mul(-3.0, u)\n",
    "        \n",
    "        return X#tf.where(tf.math.less(X, v), u, X) #where X is less than 0, return -1 \n",
    "        \n",
    "        "
   ]
  },
  {
   "cell_type": "code",
   "execution_count": 28,
   "metadata": {
    "id": "PQVz4BCpmNMd"
   },
   "outputs": [],
   "source": [
    "def encoder(parent_child_biological_association, num_hidden_units=21):\n",
    "    '''\n",
    "    Encoder structure\n",
    "    '''\n",
    "    '''\n",
    "    The data is time-series. Therefore, CNN to learn the temporal relationship between \n",
    "    the intensities for each gene.\n",
    "    '''\n",
    "    en_conv = Conv1D(490, 3, activation = \"relu\")(parent_child_biological_association) # 6*NUM_TARGETS Conv1D(32, 3, activation = \"relu\")(parent_child_biological_association)\n",
    "    en_dense = Flatten()(en_conv)\n",
    "    phenotype = Dense(num_hidden_units)(en_dense)\n",
    "    return phenotype\n",
    "\n",
    "def decoder(X, num_protein_gene, time_steps):\n",
    "    '''\n",
    "    Decoder structure\n",
    "    '''\n",
    "    de_dense = Dense(1024)(X)#Dense(128)(X)\n",
    "    de_dense = Reshape((1, 1024))(de_dense) #tf.reshape(de_dense, (self.batch_size,1,128))\n",
    "    de_deconv = Conv1DTranspose(num_protein_gene, time_steps, activation = \"relu\")(de_dense) #used to be transpose\n",
    "    #de_deconv = Conv1D(num_protein_gene, time_steps, activation = \"relu\")(de_dense) \n",
    "    # gene_reconstruction = self.decoder_biological_operation(de_deconv)\n",
    "    return de_deconv\n",
    "\n",
    "def model(rgm, num_protein_gene, time_steps, num_kinase_regulators, num_hidden_units = 32):\n",
    "    inp = Input(shape=(time_steps, num_kinase_regulators))\n",
    "    x = EncoderLinear(rgm, NUM_TARGETS, NUM_TARGETS)(inp)\n",
    "    enc = encoder(x, num_hidden_units)\n",
    "    dec = decoder(enc, num_protein_gene, time_steps)\n",
    "    out = DecoderLinear(rgm, NUM_TARGETS, NUM_TARGETS)(dec)\n",
    "\n",
    "    _model = tf.keras.Model(inputs=inp, outputs=out)\n",
    "\n",
    "    return _model"
   ]
  },
  {
   "cell_type": "code",
   "execution_count": 29,
   "metadata": {},
   "outputs": [],
   "source": [
    "ordinaryAE = model(regulator_gene_matrix, NUM_TARGETS, NUM_TIME_STEPS, NUM_TARGETS)\n",
    "ordinaryAE.compile(optimizer='adam', loss=ignore_noParent_MSE)"
   ]
  },
  {
   "cell_type": "code",
   "execution_count": 30,
   "metadata": {},
   "outputs": [
    {
     "name": "stdout",
     "output_type": "stream",
     "text": [
      "Epoch 1/200\n",
      "1/1 [==============================] - 7s 7s/step - loss: 0.1406 - val_loss: 0.1181\n",
      "Epoch 2/200\n",
      "1/1 [==============================] - 0s 27ms/step - loss: 0.1427 - val_loss: 0.1181\n",
      "Epoch 3/200\n",
      "1/1 [==============================] - 0s 26ms/step - loss: 0.1421 - val_loss: 0.1181\n",
      "Epoch 4/200\n",
      "1/1 [==============================] - 0s 24ms/step - loss: 0.1455 - val_loss: 0.1180\n",
      "Epoch 5/200\n",
      "1/1 [==============================] - 0s 28ms/step - loss: 0.1467 - val_loss: 0.1180\n",
      "Epoch 6/200\n",
      "1/1 [==============================] - 0s 25ms/step - loss: 0.1423 - val_loss: 0.1179\n",
      "Epoch 7/200\n",
      "1/1 [==============================] - 0s 26ms/step - loss: 0.1463 - val_loss: 0.1178\n",
      "Epoch 8/200\n",
      "1/1 [==============================] - 0s 26ms/step - loss: 0.1446 - val_loss: 0.1177\n",
      "Epoch 9/200\n",
      "1/1 [==============================] - 0s 31ms/step - loss: 0.1451 - val_loss: 0.1176\n",
      "Epoch 10/200\n",
      "1/1 [==============================] - 0s 29ms/step - loss: 0.1431 - val_loss: 0.1173\n",
      "Epoch 11/200\n",
      "1/1 [==============================] - 0s 31ms/step - loss: 0.1423 - val_loss: 0.1170\n",
      "Epoch 12/200\n",
      "1/1 [==============================] - 0s 29ms/step - loss: 0.1442 - val_loss: 0.1166\n",
      "Epoch 13/200\n",
      "1/1 [==============================] - 0s 27ms/step - loss: 0.1446 - val_loss: 0.1161\n",
      "Epoch 14/200\n",
      "1/1 [==============================] - 0s 28ms/step - loss: 0.1408 - val_loss: 0.1153\n",
      "Epoch 15/200\n",
      "1/1 [==============================] - 0s 27ms/step - loss: 0.1436 - val_loss: 0.1144\n",
      "Epoch 16/200\n",
      "1/1 [==============================] - 0s 26ms/step - loss: 0.1380 - val_loss: 0.1131\n",
      "Epoch 17/200\n",
      "1/1 [==============================] - 0s 27ms/step - loss: 0.1345 - val_loss: 0.1115\n",
      "Epoch 18/200\n",
      "1/1 [==============================] - 0s 30ms/step - loss: 0.1335 - val_loss: 0.1094\n",
      "Epoch 19/200\n",
      "1/1 [==============================] - 0s 28ms/step - loss: 0.1346 - val_loss: 0.1068\n",
      "Epoch 20/200\n",
      "1/1 [==============================] - 0s 28ms/step - loss: 0.1295 - val_loss: 0.1036\n",
      "Epoch 21/200\n",
      "1/1 [==============================] - 0s 28ms/step - loss: 0.1348 - val_loss: 0.0997\n",
      "Epoch 22/200\n",
      "1/1 [==============================] - 0s 27ms/step - loss: 0.1262 - val_loss: 0.0952\n",
      "Epoch 23/200\n",
      "1/1 [==============================] - 0s 29ms/step - loss: 0.1123 - val_loss: 0.0901\n",
      "Epoch 24/200\n",
      "1/1 [==============================] - 0s 28ms/step - loss: 0.1161 - val_loss: 0.0846\n",
      "Epoch 25/200\n",
      "1/1 [==============================] - 0s 27ms/step - loss: 0.1108 - val_loss: 0.0792\n",
      "Epoch 26/200\n",
      "1/1 [==============================] - 0s 37ms/step - loss: 0.1042 - val_loss: 0.0746\n",
      "Epoch 27/200\n",
      "1/1 [==============================] - 0s 31ms/step - loss: 0.1020 - val_loss: 0.0710\n",
      "Epoch 28/200\n",
      "1/1 [==============================] - 0s 30ms/step - loss: 0.1000 - val_loss: 0.0680\n",
      "Epoch 29/200\n",
      "1/1 [==============================] - 0s 29ms/step - loss: 0.0976 - val_loss: 0.0650\n",
      "Epoch 30/200\n",
      "1/1 [==============================] - 0s 29ms/step - loss: 0.0937 - val_loss: 0.0620\n",
      "Epoch 31/200\n",
      "1/1 [==============================] - 0s 28ms/step - loss: 0.0899 - val_loss: 0.0595\n",
      "Epoch 32/200\n",
      "1/1 [==============================] - 0s 33ms/step - loss: 0.0868 - val_loss: 0.0574\n",
      "Epoch 33/200\n",
      "1/1 [==============================] - 0s 32ms/step - loss: 0.0801 - val_loss: 0.0557\n",
      "Epoch 34/200\n",
      "1/1 [==============================] - 0s 31ms/step - loss: 0.0735 - val_loss: 0.0542\n",
      "Epoch 35/200\n",
      "1/1 [==============================] - 0s 35ms/step - loss: 0.0682 - val_loss: 0.0527\n",
      "Epoch 36/200\n",
      "1/1 [==============================] - 0s 35ms/step - loss: 0.0751 - val_loss: 0.0514\n",
      "Epoch 37/200\n",
      "1/1 [==============================] - 0s 35ms/step - loss: 0.0687 - val_loss: 0.0502\n",
      "Epoch 38/200\n",
      "1/1 [==============================] - 0s 36ms/step - loss: 0.0619 - val_loss: 0.0493\n",
      "Epoch 39/200\n",
      "1/1 [==============================] - 0s 34ms/step - loss: 0.0529 - val_loss: 0.0487\n",
      "Epoch 40/200\n",
      "1/1 [==============================] - 0s 36ms/step - loss: 0.0614 - val_loss: 0.0477\n",
      "Epoch 41/200\n",
      "1/1 [==============================] - 0s 31ms/step - loss: 0.0468 - val_loss: 0.0461\n",
      "Epoch 42/200\n",
      "1/1 [==============================] - 0s 32ms/step - loss: 0.0516 - val_loss: 0.0440\n",
      "Epoch 43/200\n",
      "1/1 [==============================] - 0s 34ms/step - loss: 0.0456 - val_loss: 0.0416\n",
      "Epoch 44/200\n",
      "1/1 [==============================] - 0s 33ms/step - loss: 0.0428 - val_loss: 0.0393\n",
      "Epoch 45/200\n",
      "1/1 [==============================] - 0s 30ms/step - loss: 0.0409 - val_loss: 0.0372\n",
      "Epoch 46/200\n",
      "1/1 [==============================] - 0s 32ms/step - loss: 0.0412 - val_loss: 0.0356\n",
      "Epoch 47/200\n",
      "1/1 [==============================] - 0s 29ms/step - loss: 0.0420 - val_loss: 0.0343\n",
      "Epoch 48/200\n",
      "1/1 [==============================] - 0s 28ms/step - loss: 0.0383 - val_loss: 0.0333\n",
      "Epoch 49/200\n",
      "1/1 [==============================] - 0s 33ms/step - loss: 0.0313 - val_loss: 0.0328\n",
      "Epoch 50/200\n",
      "1/1 [==============================] - 0s 30ms/step - loss: 0.0342 - val_loss: 0.0325\n",
      "Epoch 51/200\n",
      "1/1 [==============================] - 0s 29ms/step - loss: 0.0335 - val_loss: 0.0323\n",
      "Epoch 52/200\n",
      "1/1 [==============================] - 0s 28ms/step - loss: 0.0419 - val_loss: 0.0314\n",
      "Epoch 53/200\n",
      "1/1 [==============================] - 0s 28ms/step - loss: 0.0408 - val_loss: 0.0298\n",
      "Epoch 54/200\n",
      "1/1 [==============================] - 0s 29ms/step - loss: 0.0307 - val_loss: 0.0285\n",
      "Epoch 55/200\n",
      "1/1 [==============================] - 0s 29ms/step - loss: 0.0257 - val_loss: 0.0274\n",
      "Epoch 56/200\n",
      "1/1 [==============================] - 0s 27ms/step - loss: 0.0267 - val_loss: 0.0267\n",
      "Epoch 57/200\n",
      "1/1 [==============================] - 0s 26ms/step - loss: 0.0267 - val_loss: 0.0264\n",
      "Epoch 58/200\n",
      "1/1 [==============================] - 0s 25ms/step - loss: 0.0333 - val_loss: 0.0264\n",
      "Epoch 59/200\n",
      "1/1 [==============================] - 0s 28ms/step - loss: 0.0355 - val_loss: 0.0263\n",
      "Epoch 60/200\n",
      "1/1 [==============================] - 0s 27ms/step - loss: 0.0375 - val_loss: 0.0261\n",
      "Epoch 61/200\n",
      "1/1 [==============================] - 0s 27ms/step - loss: 0.0357 - val_loss: 0.0258\n",
      "Epoch 62/200\n",
      "1/1 [==============================] - 0s 26ms/step - loss: 0.0217 - val_loss: 0.0258\n",
      "Epoch 63/200\n",
      "1/1 [==============================] - 0s 27ms/step - loss: 0.0276 - val_loss: 0.0259\n",
      "Epoch 64/200\n",
      "1/1 [==============================] - 0s 27ms/step - loss: 0.0335 - val_loss: 0.0260\n",
      "Epoch 65/200\n",
      "1/1 [==============================] - 0s 27ms/step - loss: 0.0213 - val_loss: 0.0263\n",
      "Epoch 66/200\n",
      "1/1 [==============================] - 0s 24ms/step - loss: 0.0292 - val_loss: 0.0267\n",
      "Epoch 67/200\n",
      "1/1 [==============================] - 0s 26ms/step - loss: 0.0346 - val_loss: 0.0266\n",
      "Epoch 68/200\n",
      "1/1 [==============================] - 0s 26ms/step - loss: 0.0201 - val_loss: 0.0264\n",
      "Epoch 69/200\n",
      "1/1 [==============================] - 0s 29ms/step - loss: 0.0264 - val_loss: 0.0262\n",
      "Epoch 70/200\n",
      "1/1 [==============================] - 0s 28ms/step - loss: 0.0194 - val_loss: 0.0258\n",
      "Epoch 71/200\n",
      "1/1 [==============================] - 0s 30ms/step - loss: 0.0201 - val_loss: 0.0255\n",
      "Epoch 72/200\n",
      "1/1 [==============================] - 0s 28ms/step - loss: 0.0197 - val_loss: 0.0252\n",
      "Epoch 73/200\n",
      "1/1 [==============================] - 0s 26ms/step - loss: 0.0234 - val_loss: 0.0249\n",
      "Epoch 74/200\n",
      "1/1 [==============================] - 0s 26ms/step - loss: 0.0198 - val_loss: 0.0247\n",
      "Epoch 75/200\n",
      "1/1 [==============================] - 0s 26ms/step - loss: 0.0190 - val_loss: 0.0246\n",
      "Epoch 76/200\n",
      "1/1 [==============================] - 0s 28ms/step - loss: 0.0283 - val_loss: 0.0244\n",
      "Epoch 77/200\n",
      "1/1 [==============================] - 0s 25ms/step - loss: 0.0185 - val_loss: 0.0242\n",
      "Epoch 78/200\n",
      "1/1 [==============================] - 0s 27ms/step - loss: 0.0207 - val_loss: 0.0241\n",
      "Epoch 79/200\n",
      "1/1 [==============================] - 0s 26ms/step - loss: 0.0226 - val_loss: 0.0240\n",
      "Epoch 80/200\n",
      "1/1 [==============================] - 0s 25ms/step - loss: 0.0206 - val_loss: 0.0240\n",
      "Epoch 81/200\n",
      "1/1 [==============================] - 0s 25ms/step - loss: 0.0229 - val_loss: 0.0240\n",
      "Epoch 82/200\n",
      "1/1 [==============================] - 0s 27ms/step - loss: 0.0221 - val_loss: 0.0240\n",
      "Epoch 83/200\n",
      "1/1 [==============================] - 0s 27ms/step - loss: 0.0286 - val_loss: 0.0238\n",
      "Epoch 84/200\n",
      "1/1 [==============================] - 0s 24ms/step - loss: 0.0228 - val_loss: 0.0238\n",
      "Epoch 85/200\n",
      "1/1 [==============================] - 0s 27ms/step - loss: 0.0204 - val_loss: 0.0238\n",
      "Epoch 86/200\n",
      "1/1 [==============================] - 0s 24ms/step - loss: 0.0228 - val_loss: 0.0242\n",
      "Epoch 87/200\n",
      "1/1 [==============================] - 0s 26ms/step - loss: 0.0295 - val_loss: 0.0245\n",
      "Epoch 88/200\n",
      "1/1 [==============================] - 0s 27ms/step - loss: 0.0182 - val_loss: 0.0248\n",
      "Epoch 89/200\n",
      "1/1 [==============================] - 0s 28ms/step - loss: 0.0216 - val_loss: 0.0250\n",
      "Epoch 90/200\n",
      "1/1 [==============================] - 0s 26ms/step - loss: 0.0224 - val_loss: 0.0252\n",
      "Epoch 91/200\n",
      "1/1 [==============================] - 0s 30ms/step - loss: 0.0277 - val_loss: 0.0248\n",
      "Epoch 92/200\n",
      "1/1 [==============================] - 0s 27ms/step - loss: 0.0335 - val_loss: 0.0240\n",
      "Epoch 93/200\n",
      "1/1 [==============================] - 0s 26ms/step - loss: 0.0181 - val_loss: 0.0237\n",
      "Epoch 94/200\n",
      "1/1 [==============================] - 0s 26ms/step - loss: 0.0306 - val_loss: 0.0235\n",
      "Epoch 95/200\n",
      "1/1 [==============================] - 0s 33ms/step - loss: 0.0187 - val_loss: 0.0236\n",
      "Epoch 96/200\n",
      "1/1 [==============================] - 0s 28ms/step - loss: 0.0243 - val_loss: 0.0241\n",
      "Epoch 97/200\n",
      "1/1 [==============================] - 0s 26ms/step - loss: 0.0184 - val_loss: 0.0246\n",
      "Epoch 98/200\n",
      "1/1 [==============================] - 0s 26ms/step - loss: 0.0184 - val_loss: 0.0249\n",
      "Epoch 99/200\n",
      "1/1 [==============================] - 0s 31ms/step - loss: 0.0183 - val_loss: 0.0249\n",
      "Epoch 100/200\n",
      "1/1 [==============================] - 0s 28ms/step - loss: 0.0290 - val_loss: 0.0248\n",
      "Epoch 101/200\n",
      "1/1 [==============================] - 0s 29ms/step - loss: 0.0182 - val_loss: 0.0247\n",
      "Epoch 102/200\n",
      "1/1 [==============================] - 0s 26ms/step - loss: 0.0200 - val_loss: 0.0244\n",
      "Epoch 103/200\n",
      "1/1 [==============================] - 0s 28ms/step - loss: 0.0202 - val_loss: 0.0243\n",
      "Epoch 104/200\n",
      "1/1 [==============================] - 0s 25ms/step - loss: 0.0211 - val_loss: 0.0242\n",
      "Epoch 105/200\n",
      "1/1 [==============================] - 0s 29ms/step - loss: 0.0182 - val_loss: 0.0243\n",
      "Epoch 106/200\n",
      "1/1 [==============================] - 0s 28ms/step - loss: 0.0180 - val_loss: 0.0244\n",
      "Epoch 107/200\n",
      "1/1 [==============================] - 0s 26ms/step - loss: 0.0179 - val_loss: 0.0245\n",
      "Epoch 108/200\n",
      "1/1 [==============================] - 0s 27ms/step - loss: 0.0220 - val_loss: 0.0245\n",
      "Epoch 109/200\n",
      "1/1 [==============================] - 0s 28ms/step - loss: 0.0198 - val_loss: 0.0245\n",
      "Epoch 110/200\n",
      "1/1 [==============================] - 0s 28ms/step - loss: 0.0239 - val_loss: 0.0244\n",
      "Epoch 111/200\n",
      "1/1 [==============================] - 0s 28ms/step - loss: 0.0260 - val_loss: 0.0243\n",
      "Epoch 112/200\n",
      "1/1 [==============================] - 0s 29ms/step - loss: 0.0174 - val_loss: 0.0242\n",
      "Epoch 113/200\n",
      "1/1 [==============================] - 0s 29ms/step - loss: 0.0179 - val_loss: 0.0242\n",
      "Epoch 114/200\n",
      "1/1 [==============================] - 0s 28ms/step - loss: 0.0220 - val_loss: 0.0243\n",
      "Epoch 115/200\n",
      "1/1 [==============================] - 0s 37ms/step - loss: 0.0173 - val_loss: 0.0244\n",
      "Epoch 116/200\n",
      "1/1 [==============================] - 0s 31ms/step - loss: 0.0216 - val_loss: 0.0245\n",
      "Epoch 117/200\n",
      "1/1 [==============================] - 0s 31ms/step - loss: 0.0174 - val_loss: 0.0244\n",
      "Epoch 118/200\n",
      "1/1 [==============================] - 0s 31ms/step - loss: 0.0173 - val_loss: 0.0240\n",
      "Epoch 119/200\n",
      "1/1 [==============================] - 0s 29ms/step - loss: 0.0177 - val_loss: 0.0237\n",
      "Epoch 120/200\n",
      "1/1 [==============================] - 0s 29ms/step - loss: 0.0212 - val_loss: 0.0234\n",
      "Epoch 121/200\n",
      "1/1 [==============================] - 0s 29ms/step - loss: 0.0218 - val_loss: 0.0233\n",
      "Epoch 122/200\n",
      "1/1 [==============================] - 0s 29ms/step - loss: 0.0265 - val_loss: 0.0232\n",
      "Epoch 123/200\n",
      "1/1 [==============================] - 0s 27ms/step - loss: 0.0170 - val_loss: 0.0233\n",
      "Epoch 124/200\n",
      "1/1 [==============================] - 0s 29ms/step - loss: 0.0244 - val_loss: 0.0234\n",
      "Epoch 125/200\n",
      "1/1 [==============================] - 0s 34ms/step - loss: 0.0176 - val_loss: 0.0237\n",
      "Epoch 126/200\n",
      "1/1 [==============================] - 0s 29ms/step - loss: 0.0209 - val_loss: 0.0238\n",
      "Epoch 127/200\n",
      "1/1 [==============================] - 0s 27ms/step - loss: 0.0261 - val_loss: 0.0237\n",
      "Epoch 128/200\n",
      "1/1 [==============================] - 0s 28ms/step - loss: 0.0266 - val_loss: 0.0234\n",
      "Epoch 129/200\n",
      "1/1 [==============================] - 0s 30ms/step - loss: 0.0258 - val_loss: 0.0232\n",
      "Epoch 130/200\n",
      "1/1 [==============================] - 0s 31ms/step - loss: 0.0195 - val_loss: 0.0233\n",
      "Epoch 131/200\n",
      "1/1 [==============================] - 0s 33ms/step - loss: 0.0216 - val_loss: 0.0236\n",
      "Epoch 132/200\n",
      "1/1 [==============================] - 0s 29ms/step - loss: 0.0176 - val_loss: 0.0242\n",
      "Epoch 133/200\n",
      "1/1 [==============================] - 0s 28ms/step - loss: 0.0174 - val_loss: 0.0245\n",
      "Epoch 134/200\n",
      "1/1 [==============================] - 0s 30ms/step - loss: 0.0170 - val_loss: 0.0244\n",
      "Epoch 135/200\n",
      "1/1 [==============================] - 0s 29ms/step - loss: 0.0172 - val_loss: 0.0239\n",
      "Epoch 136/200\n",
      "1/1 [==============================] - 0s 28ms/step - loss: 0.0276 - val_loss: 0.0233\n",
      "Epoch 137/200\n",
      "1/1 [==============================] - 0s 32ms/step - loss: 0.0168 - val_loss: 0.0231\n",
      "Epoch 138/200\n",
      "1/1 [==============================] - 0s 30ms/step - loss: 0.0174 - val_loss: 0.0231\n",
      "Epoch 139/200\n",
      "1/1 [==============================] - 0s 31ms/step - loss: 0.0208 - val_loss: 0.0231\n",
      "Epoch 140/200\n",
      "1/1 [==============================] - 0s 26ms/step - loss: 0.0175 - val_loss: 0.0234\n",
      "Epoch 141/200\n",
      "1/1 [==============================] - 0s 28ms/step - loss: 0.0204 - val_loss: 0.0237\n",
      "Epoch 142/200\n",
      "1/1 [==============================] - 0s 31ms/step - loss: 0.0188 - val_loss: 0.0237\n",
      "Epoch 143/200\n",
      "1/1 [==============================] - 0s 32ms/step - loss: 0.0204 - val_loss: 0.0236\n",
      "Epoch 144/200\n",
      "1/1 [==============================] - 0s 28ms/step - loss: 0.0210 - val_loss: 0.0236\n",
      "Epoch 145/200\n",
      "1/1 [==============================] - 0s 26ms/step - loss: 0.0172 - val_loss: 0.0236\n",
      "Epoch 146/200\n",
      "1/1 [==============================] - 0s 30ms/step - loss: 0.0321 - val_loss: 0.0233\n",
      "Epoch 147/200\n",
      "1/1 [==============================] - 0s 36ms/step - loss: 0.0246 - val_loss: 0.0229\n",
      "Epoch 148/200\n",
      "1/1 [==============================] - 0s 28ms/step - loss: 0.0232 - val_loss: 0.0229\n",
      "Epoch 149/200\n",
      "1/1 [==============================] - 0s 28ms/step - loss: 0.0182 - val_loss: 0.0232\n",
      "Epoch 150/200\n",
      "1/1 [==============================] - 0s 27ms/step - loss: 0.0170 - val_loss: 0.0235\n",
      "Epoch 151/200\n",
      "1/1 [==============================] - 0s 30ms/step - loss: 0.0189 - val_loss: 0.0235\n",
      "Epoch 152/200\n",
      "1/1 [==============================] - 0s 28ms/step - loss: 0.0215 - val_loss: 0.0233\n",
      "Epoch 153/200\n",
      "1/1 [==============================] - 0s 32ms/step - loss: 0.0250 - val_loss: 0.0227\n",
      "Epoch 154/200\n",
      "1/1 [==============================] - 0s 30ms/step - loss: 0.0181 - val_loss: 0.0225\n",
      "Epoch 155/200\n",
      "1/1 [==============================] - 0s 28ms/step - loss: 0.0261 - val_loss: 0.0224\n",
      "Epoch 156/200\n",
      "1/1 [==============================] - 0s 27ms/step - loss: 0.0288 - val_loss: 0.0223\n",
      "Epoch 157/200\n",
      "1/1 [==============================] - 0s 25ms/step - loss: 0.0169 - val_loss: 0.0224\n",
      "Epoch 158/200\n",
      "1/1 [==============================] - 0s 25ms/step - loss: 0.0167 - val_loss: 0.0227\n",
      "Epoch 159/200\n",
      "1/1 [==============================] - 0s 26ms/step - loss: 0.0206 - val_loss: 0.0232\n",
      "Epoch 160/200\n",
      "1/1 [==============================] - 0s 25ms/step - loss: 0.0165 - val_loss: 0.0233\n",
      "Epoch 161/200\n",
      "1/1 [==============================] - 0s 25ms/step - loss: 0.0213 - val_loss: 0.0231\n",
      "Epoch 162/200\n",
      "1/1 [==============================] - 0s 25ms/step - loss: 0.0167 - val_loss: 0.0229\n",
      "Epoch 163/200\n",
      "1/1 [==============================] - 0s 27ms/step - loss: 0.0291 - val_loss: 0.0228\n",
      "Epoch 164/200\n",
      "1/1 [==============================] - 0s 25ms/step - loss: 0.0206 - val_loss: 0.0228\n",
      "Epoch 165/200\n",
      "1/1 [==============================] - 0s 25ms/step - loss: 0.0164 - val_loss: 0.0229\n",
      "Epoch 166/200\n",
      "1/1 [==============================] - 0s 26ms/step - loss: 0.0167 - val_loss: 0.0232\n",
      "Epoch 167/200\n",
      "1/1 [==============================] - 0s 14ms/step - loss: 0.0310 - val_loss: 0.0230\n",
      "Epoch 168/200\n",
      "1/1 [==============================] - 0s 23ms/step - loss: 0.0168 - val_loss: 0.0228\n",
      "Epoch 169/200\n",
      "1/1 [==============================] - 0s 12ms/step - loss: 0.0196 - val_loss: 0.0225\n",
      "Epoch 170/200\n",
      "1/1 [==============================] - 0s 25ms/step - loss: 0.0178 - val_loss: 0.0223\n",
      "Epoch 171/200\n",
      "1/1 [==============================] - 0s 25ms/step - loss: 0.0198 - val_loss: 0.0221\n",
      "Epoch 172/200\n",
      "1/1 [==============================] - 0s 22ms/step - loss: 0.0160 - val_loss: 0.0221\n",
      "Epoch 173/200\n",
      "1/1 [==============================] - 0s 27ms/step - loss: 0.0235 - val_loss: 0.0221\n",
      "Epoch 174/200\n",
      "1/1 [==============================] - 0s 12ms/step - loss: 0.0157 - val_loss: 0.0222\n",
      "Epoch 175/200\n",
      "1/1 [==============================] - 0s 20ms/step - loss: 0.0160 - val_loss: 0.0223\n",
      "Epoch 176/200\n",
      "1/1 [==============================] - 0s 15ms/step - loss: 0.0234 - val_loss: 0.0223\n",
      "Epoch 177/200\n",
      "1/1 [==============================] - 0s 24ms/step - loss: 0.0160 - val_loss: 0.0223\n",
      "Epoch 178/200\n",
      "1/1 [==============================] - 0s 26ms/step - loss: 0.0161 - val_loss: 0.0223\n",
      "Epoch 179/200\n",
      "1/1 [==============================] - 0s 32ms/step - loss: 0.0223 - val_loss: 0.0223\n",
      "Epoch 180/200\n",
      "1/1 [==============================] - 0s 30ms/step - loss: 0.0162 - val_loss: 0.0222\n",
      "Epoch 181/200\n",
      "1/1 [==============================] - 0s 68ms/step - loss: 0.0242 - val_loss: 0.0221\n",
      "Epoch 182/200\n",
      "1/1 [==============================] - 0s 31ms/step - loss: 0.0156 - val_loss: 0.0220\n",
      "Epoch 183/200\n",
      "1/1 [==============================] - 0s 31ms/step - loss: 0.0178 - val_loss: 0.0219\n",
      "Epoch 184/200\n",
      "1/1 [==============================] - 0s 29ms/step - loss: 0.0185 - val_loss: 0.0219\n",
      "Epoch 185/200\n",
      "1/1 [==============================] - 0s 30ms/step - loss: 0.0154 - val_loss: 0.0220\n",
      "Epoch 186/200\n",
      "1/1 [==============================] - 0s 28ms/step - loss: 0.0155 - val_loss: 0.0220\n",
      "Epoch 187/200\n",
      "1/1 [==============================] - 0s 28ms/step - loss: 0.0153 - val_loss: 0.0221\n",
      "Epoch 188/200\n",
      "1/1 [==============================] - 0s 31ms/step - loss: 0.0185 - val_loss: 0.0221\n",
      "Epoch 189/200\n",
      "1/1 [==============================] - 0s 31ms/step - loss: 0.0207 - val_loss: 0.0221\n",
      "Epoch 190/200\n",
      "1/1 [==============================] - 0s 39ms/step - loss: 0.0253 - val_loss: 0.0220\n",
      "Epoch 191/200\n",
      "1/1 [==============================] - 0s 33ms/step - loss: 0.0149 - val_loss: 0.0220\n",
      "Epoch 192/200\n",
      "1/1 [==============================] - 0s 34ms/step - loss: 0.0274 - val_loss: 0.0218\n",
      "Epoch 193/200\n",
      "1/1 [==============================] - 0s 22ms/step - loss: 0.0274 - val_loss: 0.0217\n",
      "Epoch 194/200\n",
      "1/1 [==============================] - 0s 17ms/step - loss: 0.0173 - val_loss: 0.0216\n",
      "Epoch 195/200\n",
      "1/1 [==============================] - 0s 37ms/step - loss: 0.0212 - val_loss: 0.0216\n",
      "Epoch 196/200\n",
      "1/1 [==============================] - 0s 26ms/step - loss: 0.0150 - val_loss: 0.0218\n",
      "Epoch 197/200\n",
      "1/1 [==============================] - 0s 26ms/step - loss: 0.0154 - val_loss: 0.0219\n",
      "Epoch 198/200\n",
      "1/1 [==============================] - 0s 13ms/step - loss: 0.0229 - val_loss: 0.0216\n",
      "Epoch 199/200\n",
      "1/1 [==============================] - 0s 28ms/step - loss: 0.0191 - val_loss: 0.0214\n",
      "Epoch 200/200\n",
      "1/1 [==============================] - 0s 30ms/step - loss: 0.0175 - val_loss: 0.0213\n"
     ]
    }
   ],
   "source": [
    "o = ordinaryAE.fit(beanIntensities, beanIntensities, epochs=200, verbose = True, validation_data=(validation, validation))\n",
    "#print(o.history['loss'][-1]) #the final loss "
   ]
  },
  {
   "attachments": {},
   "cell_type": "markdown",
   "metadata": {},
   "source": [
    "# Super Parent AutoEncoder"
   ]
  },
  {
   "cell_type": "code",
   "execution_count": 31,
   "metadata": {},
   "outputs": [],
   "source": [
    "class EncoderLinearSuperParent(tf.keras.layers.Layer):\n",
    "    def __init__(self, rgm, oldrgm, input_dim=32, units=32):\n",
    "        super(EncoderLinearSuperParent, self).__init__()\n",
    "        self.rgm = rgm\n",
    "        self.OGrgm = oldrgm\n",
    "        \n",
    "        def init_weights(shape, dtype=\"float32\"):\n",
    "\n",
    "            w_init = tf.random_normal_initializer()(shape=shape, dtype=dtype) * tf.convert_to_tensor(self.OGrgm, dtype=dtype)\n",
    "\n",
    "            return w_init\n",
    "        \n",
    "\n",
    "        self.w = tf.Variable(\n",
    "            initial_value=init_weights(shape=(input_dim, units), dtype=\"float32\"),\n",
    "            trainable=True,\n",
    "        )\n",
    "\n",
    "    def call(self, inputs):\n",
    "        X = inputs\n",
    "        return tf.matmul(X, tf.multiply(self.rgm, self.w))\n",
    "    #tf.matmul(inputs, self.w)\n",
    "\n",
    "class DecoderLinearSuperParent(tf.keras.layers.Layer):\n",
    "    def __init__(self, rgm, oldrgm, input_dim=32, units=32):\n",
    "        super(DecoderLinearSuperParent, self).__init__()\n",
    "        self.rgm = rgm\n",
    "        self.OGrgm = oldrgm\n",
    "\n",
    "        def init_weights(shape, dtype=\"float32\"):\n",
    "\n",
    "            w_init = tf.random_normal_initializer()(shape=shape, dtype=dtype) * tf.transpose(tf.convert_to_tensor(self.rgm, dtype=dtype))\n",
    "\n",
    "            return w_init\n",
    "    \n",
    "        \n",
    "        self.w = tf.Variable(\n",
    "            initial_value=init_weights(shape=(input_dim, units), dtype=\"float32\"),\n",
    "            trainable=True,\n",
    "        )\n",
    "\n",
    "    def call(self, inputs):\n",
    "        X = inputs\n",
    "        #return tf.matmul(X, tf.multiply((self.rgm), self.w))\n",
    "        X = tf.matmul(X, tf.multiply(tf.transpose(self.rgm), self.w)) \n",
    "        #return tf.matmul(inputs, self.w)\n",
    "        # v = tf.zeros_like(X)\n",
    "        # u = tf.ones_like(X)\n",
    "        # u = tf.math.scalar_mul(-3.0, u)\n",
    "        \n",
    "        return X#tf.where(tf.math.less(X, v), u, X) #where X is less than 0, return -1 \n",
    "        \n",
    "        \n",
    "def encoder(parent_child_biological_association, num_hidden_units=21):\n",
    "    '''\n",
    "    Encoder structure\n",
    "    '''\n",
    "    '''\n",
    "    The data is time-series. Therefore, CNN to learn the temporal relationship between \n",
    "    the intensities for each gene.\n",
    "    '''\n",
    "    en_conv = Conv1D(32, 3, activation = \"relu\")(parent_child_biological_association) # 6*NUM_TARGETS\n",
    "    en_dense = Flatten()(en_conv)\n",
    "    phenotype = Dense(num_hidden_units)(en_dense)\n",
    "    return phenotype\n",
    "\n",
    "def decoder(X, num_protein_gene, time_steps):\n",
    "    '''\n",
    "    Decoder structure\n",
    "    '''\n",
    "    de_dense = Dense(128)(X)\n",
    "    de_dense = Reshape((1, 128))(de_dense) #tf.reshape(de_dense, (self.batch_size,1,128))\n",
    "    de_deconv = Conv1DTranspose(num_protein_gene, time_steps, activation = \"relu\")(de_dense) #used to be transpose\n",
    "    #de_deconv = Conv1D(num_protein_gene, time_steps, activation = \"relu\")(de_dense) \n",
    "    # gene_reconstruction = self.decoder_biological_operation(de_deconv)\n",
    "    return de_deconv\n",
    "\n",
    "def modelSuperParent(rgm, oldRGM, num_protein_gene, time_steps, num_kinase_regulators, num_hidden_units = 21): #rgm is set to superparent, oldrgm is original rgm unmodified\n",
    "    inp = Input(shape=(time_steps, num_kinase_regulators))\n",
    "    x = EncoderLinearSuperParent(rgm, oldRGM, NUM_TARGETS, NUM_TARGETS)(inp)\n",
    "    enc = encoder(x, num_hidden_units)\n",
    "    dec = decoder(enc, num_protein_gene, time_steps)\n",
    "    out = DecoderLinearSuperParent(rgm, oldRGM, NUM_TARGETS, NUM_TARGETS)(dec)\n",
    "\n",
    "    _model = tf.keras.Model(inputs=inp, outputs=out)\n",
    "\n",
    "    return _model"
   ]
  },
  {
   "cell_type": "code",
   "execution_count": 32,
   "metadata": {},
   "outputs": [],
   "source": [
    "def modelSuperParentSequential(rgm, oldRGM, num_protein_gene, time_steps, num_kinase_regulators, num_hidden_units = 21): #rgm is set to superparent, oldrgm is original rgm unmodified\n",
    "    m = tf.keras.Sequential()\n",
    "    inp = Input(shape=(time_steps, num_kinase_regulators))\n",
    "    x = EncoderLinearSuperParent(rgm, oldRGM, NUM_TARGETS, NUM_TARGETS)(inp)\n",
    "    enc = encoder(x, num_hidden_units)\n",
    "    dec = decoder(enc, num_protein_gene, time_steps)\n",
    "    out = DecoderLinearSuperParent(rgm, oldRGM, NUM_TARGETS, NUM_TARGETS)(dec)\n",
    "\n",
    "    _model = tf.keras.Model(inputs=inp, outputs=out)\n",
    "\n",
    "    return _model"
   ]
  },
  {
   "cell_type": "code",
   "execution_count": 33,
   "metadata": {},
   "outputs": [
    {
     "name": "stdout",
     "output_type": "stream",
     "text": [
      "Epoch 1/200\n",
      "1/1 [==============================] - 2s 2s/step - loss: 0.1414 - val_loss: 0.1179\n",
      "Epoch 2/200\n",
      "1/1 [==============================] - 0s 28ms/step - loss: 0.1433 - val_loss: 0.1177\n",
      "Epoch 3/200\n",
      "1/1 [==============================] - 0s 26ms/step - loss: 0.1425 - val_loss: 0.1175\n",
      "Epoch 4/200\n",
      "1/1 [==============================] - 0s 27ms/step - loss: 0.1429 - val_loss: 0.1172\n",
      "Epoch 5/200\n",
      "1/1 [==============================] - 0s 26ms/step - loss: 0.1508 - val_loss: 0.1169\n",
      "Epoch 6/200\n",
      "1/1 [==============================] - 0s 25ms/step - loss: 0.1370 - val_loss: 0.1166\n",
      "Epoch 7/200\n",
      "1/1 [==============================] - 0s 27ms/step - loss: 0.1415 - val_loss: 0.1162\n",
      "Epoch 8/200\n",
      "1/1 [==============================] - 0s 26ms/step - loss: 0.1415 - val_loss: 0.1158\n",
      "Epoch 9/200\n",
      "1/1 [==============================] - 0s 26ms/step - loss: 0.1389 - val_loss: 0.1152\n",
      "Epoch 10/200\n",
      "1/1 [==============================] - 0s 27ms/step - loss: 0.1406 - val_loss: 0.1146\n",
      "Epoch 11/200\n",
      "1/1 [==============================] - 0s 27ms/step - loss: 0.1391 - val_loss: 0.1140\n",
      "Epoch 12/200\n",
      "1/1 [==============================] - 0s 25ms/step - loss: 0.1365 - val_loss: 0.1132\n",
      "Epoch 13/200\n",
      "1/1 [==============================] - 0s 24ms/step - loss: 0.1332 - val_loss: 0.1123\n",
      "Epoch 14/200\n",
      "1/1 [==============================] - 0s 27ms/step - loss: 0.1373 - val_loss: 0.1112\n",
      "Epoch 15/200\n",
      "1/1 [==============================] - 0s 25ms/step - loss: 0.1341 - val_loss: 0.1100\n",
      "Epoch 16/200\n",
      "1/1 [==============================] - 0s 26ms/step - loss: 0.1344 - val_loss: 0.1087\n",
      "Epoch 17/200\n",
      "1/1 [==============================] - 0s 28ms/step - loss: 0.1334 - val_loss: 0.1071\n",
      "Epoch 18/200\n",
      "1/1 [==============================] - 0s 30ms/step - loss: 0.1273 - val_loss: 0.1054\n",
      "Epoch 19/200\n",
      "1/1 [==============================] - 0s 31ms/step - loss: 0.1256 - val_loss: 0.1034\n",
      "Epoch 20/200\n",
      "1/1 [==============================] - 0s 27ms/step - loss: 0.1249 - val_loss: 0.1012\n",
      "Epoch 21/200\n",
      "1/1 [==============================] - 0s 29ms/step - loss: 0.1198 - val_loss: 0.0987\n",
      "Epoch 22/200\n",
      "1/1 [==============================] - 0s 27ms/step - loss: 0.1227 - val_loss: 0.0959\n",
      "Epoch 23/200\n",
      "1/1 [==============================] - 0s 28ms/step - loss: 0.1238 - val_loss: 0.0929\n",
      "Epoch 24/200\n",
      "1/1 [==============================] - 0s 27ms/step - loss: 0.1203 - val_loss: 0.0895\n",
      "Epoch 25/200\n",
      "1/1 [==============================] - 0s 28ms/step - loss: 0.1128 - val_loss: 0.0858\n",
      "Epoch 26/200\n",
      "1/1 [==============================] - 0s 25ms/step - loss: 0.1072 - val_loss: 0.0817\n",
      "Epoch 27/200\n",
      "1/1 [==============================] - 0s 26ms/step - loss: 0.1069 - val_loss: 0.0775\n",
      "Epoch 28/200\n",
      "1/1 [==============================] - 0s 26ms/step - loss: 0.0998 - val_loss: 0.0730\n",
      "Epoch 29/200\n",
      "1/1 [==============================] - 0s 24ms/step - loss: 0.0966 - val_loss: 0.0684\n",
      "Epoch 30/200\n",
      "1/1 [==============================] - 0s 24ms/step - loss: 0.0887 - val_loss: 0.0638\n",
      "Epoch 31/200\n",
      "1/1 [==============================] - 0s 23ms/step - loss: 0.0860 - val_loss: 0.0594\n",
      "Epoch 32/200\n",
      "1/1 [==============================] - 0s 24ms/step - loss: 0.0803 - val_loss: 0.0553\n",
      "Epoch 33/200\n",
      "1/1 [==============================] - 0s 26ms/step - loss: 0.0797 - val_loss: 0.0519\n",
      "Epoch 34/200\n",
      "1/1 [==============================] - 0s 26ms/step - loss: 0.0717 - val_loss: 0.0493\n",
      "Epoch 35/200\n",
      "1/1 [==============================] - 0s 25ms/step - loss: 0.0719 - val_loss: 0.0475\n",
      "Epoch 36/200\n",
      "1/1 [==============================] - 0s 37ms/step - loss: 0.0688 - val_loss: 0.0464\n",
      "Epoch 37/200\n",
      "1/1 [==============================] - 0s 27ms/step - loss: 0.0667 - val_loss: 0.0459\n",
      "Epoch 38/200\n",
      "1/1 [==============================] - 0s 29ms/step - loss: 0.0744 - val_loss: 0.0453\n",
      "Epoch 39/200\n",
      "1/1 [==============================] - 0s 27ms/step - loss: 0.0630 - val_loss: 0.0444\n",
      "Epoch 40/200\n",
      "1/1 [==============================] - 0s 25ms/step - loss: 0.0683 - val_loss: 0.0431\n",
      "Epoch 41/200\n",
      "1/1 [==============================] - 0s 26ms/step - loss: 0.0736 - val_loss: 0.0412\n",
      "Epoch 42/200\n",
      "1/1 [==============================] - 0s 27ms/step - loss: 0.0628 - val_loss: 0.0393\n",
      "Epoch 43/200\n",
      "1/1 [==============================] - 0s 28ms/step - loss: 0.0537 - val_loss: 0.0373\n",
      "Epoch 44/200\n",
      "1/1 [==============================] - 0s 28ms/step - loss: 0.0499 - val_loss: 0.0356\n",
      "Epoch 45/200\n",
      "1/1 [==============================] - 0s 27ms/step - loss: 0.0514 - val_loss: 0.0342\n",
      "Epoch 46/200\n",
      "1/1 [==============================] - 0s 25ms/step - loss: 0.0546 - val_loss: 0.0330\n",
      "Epoch 47/200\n",
      "1/1 [==============================] - 0s 26ms/step - loss: 0.0426 - val_loss: 0.0322\n",
      "Epoch 48/200\n",
      "1/1 [==============================] - 0s 25ms/step - loss: 0.0409 - val_loss: 0.0315\n",
      "Epoch 49/200\n",
      "1/1 [==============================] - 0s 24ms/step - loss: 0.0490 - val_loss: 0.0309\n",
      "Epoch 50/200\n",
      "1/1 [==============================] - 0s 22ms/step - loss: 0.0384 - val_loss: 0.0304\n",
      "Epoch 51/200\n",
      "1/1 [==============================] - 0s 25ms/step - loss: 0.0448 - val_loss: 0.0300\n",
      "Epoch 52/200\n",
      "1/1 [==============================] - 0s 24ms/step - loss: 0.0355 - val_loss: 0.0297\n",
      "Epoch 53/200\n",
      "1/1 [==============================] - 0s 27ms/step - loss: 0.0356 - val_loss: 0.0295\n",
      "Epoch 54/200\n",
      "1/1 [==============================] - 0s 27ms/step - loss: 0.0385 - val_loss: 0.0294\n",
      "Epoch 55/200\n",
      "1/1 [==============================] - 0s 30ms/step - loss: 0.0372 - val_loss: 0.0296\n",
      "Epoch 56/200\n",
      "1/1 [==============================] - 0s 29ms/step - loss: 0.0305 - val_loss: 0.0299\n",
      "Epoch 57/200\n",
      "1/1 [==============================] - 0s 27ms/step - loss: 0.0300 - val_loss: 0.0304\n",
      "Epoch 58/200\n",
      "1/1 [==============================] - 0s 26ms/step - loss: 0.0292 - val_loss: 0.0311\n",
      "Epoch 59/200\n",
      "1/1 [==============================] - 0s 26ms/step - loss: 0.0288 - val_loss: 0.0316\n",
      "Epoch 60/200\n",
      "1/1 [==============================] - 0s 24ms/step - loss: 0.0378 - val_loss: 0.0320\n",
      "Epoch 61/200\n",
      "1/1 [==============================] - 0s 26ms/step - loss: 0.0316 - val_loss: 0.0320\n",
      "Epoch 62/200\n",
      "1/1 [==============================] - 0s 25ms/step - loss: 0.0313 - val_loss: 0.0318\n",
      "Epoch 63/200\n",
      "1/1 [==============================] - 0s 25ms/step - loss: 0.0264 - val_loss: 0.0313\n",
      "Epoch 64/200\n",
      "1/1 [==============================] - 0s 26ms/step - loss: 0.0342 - val_loss: 0.0307\n",
      "Epoch 65/200\n",
      "1/1 [==============================] - 0s 25ms/step - loss: 0.0248 - val_loss: 0.0300\n",
      "Epoch 66/200\n",
      "1/1 [==============================] - 0s 26ms/step - loss: 0.0264 - val_loss: 0.0293\n",
      "Epoch 67/200\n",
      "1/1 [==============================] - 0s 26ms/step - loss: 0.0281 - val_loss: 0.0287\n",
      "Epoch 68/200\n",
      "1/1 [==============================] - 0s 25ms/step - loss: 0.0276 - val_loss: 0.0281\n",
      "Epoch 69/200\n",
      "1/1 [==============================] - 0s 23ms/step - loss: 0.0289 - val_loss: 0.0277\n",
      "Epoch 70/200\n",
      "1/1 [==============================] - 0s 28ms/step - loss: 0.0395 - val_loss: 0.0272\n",
      "Epoch 71/200\n",
      "1/1 [==============================] - 0s 28ms/step - loss: 0.0248 - val_loss: 0.0268\n",
      "Epoch 72/200\n",
      "1/1 [==============================] - 0s 30ms/step - loss: 0.0338 - val_loss: 0.0265\n",
      "Epoch 73/200\n",
      "1/1 [==============================] - 0s 29ms/step - loss: 0.0224 - val_loss: 0.0263\n",
      "Epoch 74/200\n",
      "1/1 [==============================] - 0s 30ms/step - loss: 0.0265 - val_loss: 0.0262\n",
      "Epoch 75/200\n",
      "1/1 [==============================] - 0s 27ms/step - loss: 0.0327 - val_loss: 0.0261\n",
      "Epoch 76/200\n",
      "1/1 [==============================] - 0s 24ms/step - loss: 0.0255 - val_loss: 0.0261\n",
      "Epoch 77/200\n",
      "1/1 [==============================] - 0s 25ms/step - loss: 0.0208 - val_loss: 0.0261\n",
      "Epoch 78/200\n",
      "1/1 [==============================] - 0s 26ms/step - loss: 0.0249 - val_loss: 0.0262\n",
      "Epoch 79/200\n",
      "1/1 [==============================] - 0s 25ms/step - loss: 0.0234 - val_loss: 0.0264\n",
      "Epoch 80/200\n",
      "1/1 [==============================] - 0s 25ms/step - loss: 0.0205 - val_loss: 0.0265\n",
      "Epoch 81/200\n",
      "1/1 [==============================] - 0s 27ms/step - loss: 0.0312 - val_loss: 0.0265\n",
      "Epoch 82/200\n",
      "1/1 [==============================] - 0s 32ms/step - loss: 0.0264 - val_loss: 0.0265\n",
      "Epoch 83/200\n",
      "1/1 [==============================] - 0s 27ms/step - loss: 0.0196 - val_loss: 0.0264\n",
      "Epoch 84/200\n",
      "1/1 [==============================] - 0s 28ms/step - loss: 0.0252 - val_loss: 0.0263\n",
      "Epoch 85/200\n",
      "1/1 [==============================] - 0s 31ms/step - loss: 0.0265 - val_loss: 0.0261\n",
      "Epoch 86/200\n",
      "1/1 [==============================] - 0s 27ms/step - loss: 0.0200 - val_loss: 0.0259\n",
      "Epoch 87/200\n",
      "1/1 [==============================] - 0s 29ms/step - loss: 0.0305 - val_loss: 0.0257\n",
      "Epoch 88/200\n",
      "1/1 [==============================] - 0s 28ms/step - loss: 0.0298 - val_loss: 0.0254\n",
      "Epoch 89/200\n",
      "1/1 [==============================] - 0s 32ms/step - loss: 0.0241 - val_loss: 0.0252\n",
      "Epoch 90/200\n",
      "1/1 [==============================] - 0s 27ms/step - loss: 0.0254 - val_loss: 0.0250\n",
      "Epoch 91/200\n",
      "1/1 [==============================] - 0s 32ms/step - loss: 0.0242 - val_loss: 0.0249\n",
      "Epoch 92/200\n",
      "1/1 [==============================] - 0s 27ms/step - loss: 0.0276 - val_loss: 0.0248\n",
      "Epoch 93/200\n",
      "1/1 [==============================] - 0s 30ms/step - loss: 0.0190 - val_loss: 0.0247\n",
      "Epoch 94/200\n",
      "1/1 [==============================] - 0s 26ms/step - loss: 0.0241 - val_loss: 0.0247\n",
      "Epoch 95/200\n",
      "1/1 [==============================] - 0s 27ms/step - loss: 0.0260 - val_loss: 0.0247\n",
      "Epoch 96/200\n",
      "1/1 [==============================] - 0s 26ms/step - loss: 0.0194 - val_loss: 0.0248\n",
      "Epoch 97/200\n",
      "1/1 [==============================] - 0s 32ms/step - loss: 0.0213 - val_loss: 0.0250\n",
      "Epoch 98/200\n",
      "1/1 [==============================] - 0s 30ms/step - loss: 0.0349 - val_loss: 0.0250\n",
      "Epoch 99/200\n",
      "1/1 [==============================] - 0s 30ms/step - loss: 0.0236 - val_loss: 0.0250\n",
      "Epoch 100/200\n",
      "1/1 [==============================] - 0s 32ms/step - loss: 0.0355 - val_loss: 0.0249\n",
      "Epoch 101/200\n",
      "1/1 [==============================] - 0s 29ms/step - loss: 0.0354 - val_loss: 0.0246\n",
      "Epoch 102/200\n",
      "1/1 [==============================] - 0s 26ms/step - loss: 0.0237 - val_loss: 0.0244\n",
      "Epoch 103/200\n",
      "1/1 [==============================] - 0s 25ms/step - loss: 0.0370 - val_loss: 0.0241\n",
      "Epoch 104/200\n",
      "1/1 [==============================] - 0s 29ms/step - loss: 0.0214 - val_loss: 0.0238\n",
      "Epoch 105/200\n",
      "1/1 [==============================] - 0s 28ms/step - loss: 0.0337 - val_loss: 0.0236\n",
      "Epoch 106/200\n",
      "1/1 [==============================] - 0s 29ms/step - loss: 0.0300 - val_loss: 0.0235\n",
      "Epoch 107/200\n",
      "1/1 [==============================] - 0s 28ms/step - loss: 0.0271 - val_loss: 0.0234\n",
      "Epoch 108/200\n",
      "1/1 [==============================] - 0s 30ms/step - loss: 0.0381 - val_loss: 0.0233\n",
      "Epoch 109/200\n",
      "1/1 [==============================] - 0s 35ms/step - loss: 0.0338 - val_loss: 0.0232\n",
      "Epoch 110/200\n",
      "1/1 [==============================] - 0s 33ms/step - loss: 0.0256 - val_loss: 0.0232\n",
      "Epoch 111/200\n",
      "1/1 [==============================] - 0s 28ms/step - loss: 0.0314 - val_loss: 0.0232\n",
      "Epoch 112/200\n",
      "1/1 [==============================] - 0s 28ms/step - loss: 0.0256 - val_loss: 0.0233\n",
      "Epoch 113/200\n",
      "1/1 [==============================] - 0s 26ms/step - loss: 0.0194 - val_loss: 0.0235\n",
      "Epoch 114/200\n",
      "1/1 [==============================] - 0s 27ms/step - loss: 0.0308 - val_loss: 0.0235\n",
      "Epoch 115/200\n",
      "1/1 [==============================] - 0s 28ms/step - loss: 0.0251 - val_loss: 0.0236\n",
      "Epoch 116/200\n",
      "1/1 [==============================] - 0s 28ms/step - loss: 0.0240 - val_loss: 0.0237\n",
      "Epoch 117/200\n",
      "1/1 [==============================] - 0s 28ms/step - loss: 0.0193 - val_loss: 0.0237\n",
      "Epoch 118/200\n",
      "1/1 [==============================] - 0s 27ms/step - loss: 0.0199 - val_loss: 0.0238\n",
      "Epoch 119/200\n",
      "1/1 [==============================] - 0s 29ms/step - loss: 0.0241 - val_loss: 0.0237\n",
      "Epoch 120/200\n",
      "1/1 [==============================] - 0s 33ms/step - loss: 0.0240 - val_loss: 0.0237\n",
      "Epoch 121/200\n",
      "1/1 [==============================] - 0s 32ms/step - loss: 0.0187 - val_loss: 0.0236\n",
      "Epoch 122/200\n",
      "1/1 [==============================] - 0s 26ms/step - loss: 0.0227 - val_loss: 0.0236\n",
      "Epoch 123/200\n",
      "1/1 [==============================] - 0s 27ms/step - loss: 0.0255 - val_loss: 0.0236\n",
      "Epoch 124/200\n",
      "1/1 [==============================] - 0s 26ms/step - loss: 0.0210 - val_loss: 0.0235\n",
      "Epoch 125/200\n",
      "1/1 [==============================] - 0s 28ms/step - loss: 0.0194 - val_loss: 0.0236\n",
      "Epoch 126/200\n",
      "1/1 [==============================] - 0s 26ms/step - loss: 0.0186 - val_loss: 0.0237\n",
      "Epoch 127/200\n",
      "1/1 [==============================] - 0s 27ms/step - loss: 0.0187 - val_loss: 0.0237\n",
      "Epoch 128/200\n",
      "1/1 [==============================] - 0s 27ms/step - loss: 0.0288 - val_loss: 0.0238\n",
      "Epoch 129/200\n",
      "1/1 [==============================] - 0s 28ms/step - loss: 0.0278 - val_loss: 0.0237\n",
      "Epoch 130/200\n",
      "1/1 [==============================] - 0s 25ms/step - loss: 0.0294 - val_loss: 0.0236\n",
      "Epoch 131/200\n",
      "1/1 [==============================] - 0s 29ms/step - loss: 0.0304 - val_loss: 0.0236\n",
      "Epoch 132/200\n",
      "1/1 [==============================] - 0s 31ms/step - loss: 0.0188 - val_loss: 0.0236\n",
      "Epoch 133/200\n",
      "1/1 [==============================] - 0s 35ms/step - loss: 0.0187 - val_loss: 0.0236\n",
      "Epoch 134/200\n",
      "1/1 [==============================] - 0s 34ms/step - loss: 0.0243 - val_loss: 0.0237\n",
      "Epoch 135/200\n",
      "1/1 [==============================] - 0s 29ms/step - loss: 0.0183 - val_loss: 0.0238\n",
      "Epoch 136/200\n",
      "1/1 [==============================] - 0s 26ms/step - loss: 0.0231 - val_loss: 0.0239\n",
      "Epoch 137/200\n",
      "1/1 [==============================] - 0s 29ms/step - loss: 0.0232 - val_loss: 0.0240\n",
      "Epoch 138/200\n",
      "1/1 [==============================] - 0s 29ms/step - loss: 0.0186 - val_loss: 0.0241\n",
      "Epoch 139/200\n",
      "1/1 [==============================] - 0s 33ms/step - loss: 0.0226 - val_loss: 0.0242\n",
      "Epoch 140/200\n",
      "1/1 [==============================] - 0s 30ms/step - loss: 0.0201 - val_loss: 0.0242\n",
      "Epoch 141/200\n",
      "1/1 [==============================] - 0s 33ms/step - loss: 0.0204 - val_loss: 0.0241\n",
      "Epoch 142/200\n",
      "1/1 [==============================] - 0s 29ms/step - loss: 0.0208 - val_loss: 0.0240\n",
      "Epoch 143/200\n",
      "1/1 [==============================] - 0s 29ms/step - loss: 0.0207 - val_loss: 0.0239\n",
      "Epoch 144/200\n",
      "1/1 [==============================] - 0s 34ms/step - loss: 0.0209 - val_loss: 0.0238\n",
      "Epoch 145/200\n",
      "1/1 [==============================] - 0s 26ms/step - loss: 0.0186 - val_loss: 0.0237\n",
      "Epoch 146/200\n",
      "1/1 [==============================] - 0s 26ms/step - loss: 0.0365 - val_loss: 0.0235\n",
      "Epoch 147/200\n",
      "1/1 [==============================] - 0s 28ms/step - loss: 0.0205 - val_loss: 0.0233\n",
      "Epoch 148/200\n",
      "1/1 [==============================] - 0s 31ms/step - loss: 0.0222 - val_loss: 0.0232\n",
      "Epoch 149/200\n",
      "1/1 [==============================] - 0s 27ms/step - loss: 0.0260 - val_loss: 0.0232\n",
      "Epoch 150/200\n",
      "1/1 [==============================] - 0s 28ms/step - loss: 0.0279 - val_loss: 0.0231\n",
      "Epoch 151/200\n",
      "1/1 [==============================] - 0s 30ms/step - loss: 0.0225 - val_loss: 0.0232\n",
      "Epoch 152/200\n",
      "1/1 [==============================] - 0s 29ms/step - loss: 0.0245 - val_loss: 0.0232\n",
      "Epoch 153/200\n",
      "1/1 [==============================] - 0s 29ms/step - loss: 0.0182 - val_loss: 0.0234\n",
      "Epoch 154/200\n",
      "1/1 [==============================] - 0s 29ms/step - loss: 0.0183 - val_loss: 0.0235\n",
      "Epoch 155/200\n",
      "1/1 [==============================] - 0s 29ms/step - loss: 0.0244 - val_loss: 0.0237\n",
      "Epoch 156/200\n",
      "1/1 [==============================] - 0s 28ms/step - loss: 0.0341 - val_loss: 0.0237\n",
      "Epoch 157/200\n",
      "1/1 [==============================] - 0s 29ms/step - loss: 0.0182 - val_loss: 0.0237\n",
      "Epoch 158/200\n",
      "1/1 [==============================] - 0s 29ms/step - loss: 0.0222 - val_loss: 0.0237\n",
      "Epoch 159/200\n",
      "1/1 [==============================] - 0s 30ms/step - loss: 0.0199 - val_loss: 0.0237\n",
      "Epoch 160/200\n",
      "1/1 [==============================] - 0s 28ms/step - loss: 0.0224 - val_loss: 0.0237\n",
      "Epoch 161/200\n",
      "1/1 [==============================] - 0s 28ms/step - loss: 0.0179 - val_loss: 0.0237\n",
      "Epoch 162/200\n",
      "1/1 [==============================] - 0s 28ms/step - loss: 0.0222 - val_loss: 0.0237\n",
      "Epoch 163/200\n",
      "1/1 [==============================] - 0s 28ms/step - loss: 0.0183 - val_loss: 0.0237\n",
      "Epoch 164/200\n",
      "1/1 [==============================] - 0s 29ms/step - loss: 0.0235 - val_loss: 0.0237\n",
      "Epoch 165/200\n",
      "1/1 [==============================] - 0s 34ms/step - loss: 0.0219 - val_loss: 0.0237\n",
      "Epoch 166/200\n",
      "1/1 [==============================] - 0s 34ms/step - loss: 0.0182 - val_loss: 0.0237\n",
      "Epoch 167/200\n",
      "1/1 [==============================] - 0s 28ms/step - loss: 0.0176 - val_loss: 0.0237\n",
      "Epoch 168/200\n",
      "1/1 [==============================] - 0s 29ms/step - loss: 0.0177 - val_loss: 0.0237\n",
      "Epoch 169/200\n",
      "1/1 [==============================] - 0s 26ms/step - loss: 0.0237 - val_loss: 0.0237\n",
      "Epoch 170/200\n",
      "1/1 [==============================] - 0s 26ms/step - loss: 0.0240 - val_loss: 0.0237\n",
      "Epoch 171/200\n",
      "1/1 [==============================] - 0s 27ms/step - loss: 0.0176 - val_loss: 0.0237\n",
      "Epoch 172/200\n",
      "1/1 [==============================] - 0s 25ms/step - loss: 0.0225 - val_loss: 0.0238\n",
      "Epoch 173/200\n",
      "1/1 [==============================] - 0s 29ms/step - loss: 0.0178 - val_loss: 0.0238\n",
      "Epoch 174/200\n",
      "1/1 [==============================] - 0s 27ms/step - loss: 0.0244 - val_loss: 0.0238\n",
      "Epoch 175/200\n",
      "1/1 [==============================] - 0s 28ms/step - loss: 0.0385 - val_loss: 0.0236\n",
      "Epoch 176/200\n",
      "1/1 [==============================] - 0s 29ms/step - loss: 0.0331 - val_loss: 0.0232\n",
      "Epoch 177/200\n",
      "1/1 [==============================] - 0s 27ms/step - loss: 0.0195 - val_loss: 0.0229\n",
      "Epoch 178/200\n",
      "1/1 [==============================] - 0s 27ms/step - loss: 0.0172 - val_loss: 0.0228\n",
      "Epoch 179/200\n",
      "1/1 [==============================] - 0s 27ms/step - loss: 0.0316 - val_loss: 0.0226\n",
      "Epoch 180/200\n",
      "1/1 [==============================] - 0s 29ms/step - loss: 0.0294 - val_loss: 0.0225\n",
      "Epoch 181/200\n",
      "1/1 [==============================] - 0s 34ms/step - loss: 0.0219 - val_loss: 0.0225\n",
      "Epoch 182/200\n",
      "1/1 [==============================] - 0s 30ms/step - loss: 0.0217 - val_loss: 0.0226\n",
      "Epoch 183/200\n",
      "1/1 [==============================] - 0s 28ms/step - loss: 0.0176 - val_loss: 0.0227\n",
      "Epoch 184/200\n",
      "1/1 [==============================] - 0s 27ms/step - loss: 0.0176 - val_loss: 0.0230\n",
      "Epoch 185/200\n",
      "1/1 [==============================] - 0s 25ms/step - loss: 0.0311 - val_loss: 0.0230\n",
      "Epoch 186/200\n",
      "1/1 [==============================] - 0s 25ms/step - loss: 0.0300 - val_loss: 0.0230\n",
      "Epoch 187/200\n",
      "1/1 [==============================] - 0s 29ms/step - loss: 0.0234 - val_loss: 0.0229\n",
      "Epoch 188/200\n",
      "1/1 [==============================] - 0s 28ms/step - loss: 0.0173 - val_loss: 0.0228\n",
      "Epoch 189/200\n",
      "1/1 [==============================] - 0s 28ms/step - loss: 0.0170 - val_loss: 0.0228\n",
      "Epoch 190/200\n",
      "1/1 [==============================] - 0s 25ms/step - loss: 0.0212 - val_loss: 0.0227\n",
      "Epoch 191/200\n",
      "1/1 [==============================] - 0s 31ms/step - loss: 0.0339 - val_loss: 0.0225\n",
      "Epoch 192/200\n",
      "1/1 [==============================] - 0s 27ms/step - loss: 0.0294 - val_loss: 0.0222\n",
      "Epoch 193/200\n",
      "1/1 [==============================] - 0s 26ms/step - loss: 0.0247 - val_loss: 0.0220\n",
      "Epoch 194/200\n",
      "1/1 [==============================] - 0s 25ms/step - loss: 0.0167 - val_loss: 0.0219\n",
      "Epoch 195/200\n",
      "1/1 [==============================] - 0s 28ms/step - loss: 0.0219 - val_loss: 0.0218\n",
      "Epoch 196/200\n",
      "1/1 [==============================] - 0s 26ms/step - loss: 0.0214 - val_loss: 0.0219\n",
      "Epoch 197/200\n",
      "1/1 [==============================] - 0s 25ms/step - loss: 0.0166 - val_loss: 0.0220\n",
      "Epoch 198/200\n",
      "1/1 [==============================] - 0s 25ms/step - loss: 0.0344 - val_loss: 0.0220\n",
      "Epoch 199/200\n",
      "1/1 [==============================] - 0s 26ms/step - loss: 0.0286 - val_loss: 0.0219\n",
      "Epoch 200/200\n",
      "1/1 [==============================] - 0s 27ms/step - loss: 0.0168 - val_loss: 0.0218\n"
     ]
    }
   ],
   "source": [
    "# looseParent = modelSuperParent(superParent, regulator_gene_matrix, NUM_TARGETS, NUM_TIME_STEPS, NUM_TARGETS, 32)\n",
    "# looseParent.compile(optimizer='adam', loss=ignore_noParent_MSE)\n",
    "# o = looseParent.fit(beanIntensities, beanIntensities, epochs=200, verbose = True,  validation_data=(validation, validation))\n",
    "#print(o.history['loss'][-1]) #the final loss "
   ]
  },
  {
   "cell_type": "code",
   "execution_count": 34,
   "metadata": {},
   "outputs": [
    {
     "name": "stdout",
     "output_type": "stream",
     "text": [
      "Model: \"model_1\"\n",
      "_________________________________________________________________\n",
      " Layer (type)                Output Shape              Param #   \n",
      "=================================================================\n",
      " input_2 (InputLayer)        [(None, 3, 7)]            0         \n",
      "                                                                 \n",
      " encoder_linear_super_parent  (None, 3, 7)             49        \n",
      "  (EncoderLinearSuperParent)                                     \n",
      "                                                                 \n",
      " conv1d_1 (Conv1D)           (None, 1, 32)             704       \n",
      "                                                                 \n",
      " flatten_1 (Flatten)         (None, 32)                0         \n",
      "                                                                 \n",
      " dense_2 (Dense)             (None, 32)                1056      \n",
      "                                                                 \n",
      " dense_3 (Dense)             (None, 128)               4224      \n",
      "                                                                 \n",
      " reshape_1 (Reshape)         (None, 1, 128)            0         \n",
      "                                                                 \n",
      " conv1d_transpose_1 (Conv1DT  (None, 3, 7)             2695      \n",
      " ranspose)                                                       \n",
      "                                                                 \n",
      " decoder_linear_super_parent  (None, 3, 7)             49        \n",
      "  (DecoderLinearSuperParent)                                     \n",
      "                                                                 \n",
      "=================================================================\n",
      "Total params: 8,777\n",
      "Trainable params: 8,777\n",
      "Non-trainable params: 0\n",
      "_________________________________________________________________\n"
     ]
    }
   ],
   "source": [
    "looseParent.summary()"
   ]
  },
  {
   "cell_type": "markdown",
   "metadata": {},
   "source": [
    "# DenseNetAutoEncoder"
   ]
  },
  {
   "cell_type": "code",
   "execution_count": 23,
   "metadata": {},
   "outputs": [],
   "source": [
    "'''\n",
    "a second copy of the layers which will be modified to be a denseNET auto encoder\n",
    "'''\n",
    "#TODO: fix call to map to -1?\n",
    "class DenseEncoderLinear2(tf.keras.layers.Layer): #TODO: Fix the decoder to -1\n",
    "    def __init__(self, rgm, oldrgm, input_dim=32, units=32):\n",
    "        super(DenseEncoderLinear2, self).__init__()\n",
    "        self.rgm = rgm\n",
    "        self.oldrgm = oldrgm\n",
    "        \n",
    "        def init_weights(shape, dtype=\"float32\"):\n",
    "\n",
    "            w_init = tf.random_normal_initializer()(shape=shape, dtype=dtype) * tf.convert_to_tensor(self.oldrgm, dtype=dtype)\n",
    "\n",
    "            return w_init\n",
    "        \n",
    "\n",
    "        self.w = tf.Variable(\n",
    "            initial_value=init_weights(shape=(input_dim, units), dtype=\"float32\"),\n",
    "            trainable=True,\n",
    "        )\n",
    "\n",
    "    def call(self, inputs):\n",
    "        X = inputs\n",
    "        return tf.matmul(X, tf.multiply(self.rgm, self.w))\n",
    "    #tf.matmul(inputs, self.w)\n",
    "\n",
    "    def get_config(self):\n",
    "        config = super().get_config()\n",
    "        config.update({\n",
    "            \"rgm\": self.rgm,\n",
    "            \"oldrgm\": self.oldrgm,\n",
    "            'input_dim': 32,\n",
    "            'units' : 32\n",
    "        })\n",
    "\n",
    "class DenseDecoderLinear2(tf.keras.layers.Layer):\n",
    "    def __init__(self, rgm, oldrgm, input_dim=32, units=32):\n",
    "        super(DenseDecoderLinear2, self).__init__()\n",
    "        self.rgm = rgm\n",
    "        self.oldrgm = oldrgm\n",
    "\n",
    "        def init_weights(shape, dtype=\"float32\"):\n",
    "\n",
    "            w_init = tf.random_normal_initializer()(shape=shape, dtype=dtype) * tf.transpose(tf.convert_to_tensor(self.oldrgm, dtype=dtype))\n",
    "\n",
    "            return w_init\n",
    "\n",
    "        self.w = tf.Variable(\n",
    "            initial_value=init_weights(shape=(input_dim, units), dtype=\"float32\"),\n",
    "            trainable=True,\n",
    "        )\n",
    "\n",
    "    def call(self, inputs):\n",
    "        X = inputs\n",
    "        #return tf.matmul(X, tf.multiply((self.rgm), self.w))\n",
    "        return tf.matmul(X, tf.multiply(tf.transpose(self.rgm), self.w)) #used to have a transpose\n",
    "        #return tf.matmul(inputs, self.w)\n",
    "\n",
    "    def get_config(self):\n",
    "        config = super().get_config()\n",
    "        config.update({\n",
    "            \"rgm\": self.rgm,\n",
    "            \"oldrgm\": self.oldrgm,\n",
    "            'input_dim': 32,\n",
    "            'units' : 32\n",
    "        })\n",
    "        \n",
    "\n",
    "def denseencoder2(parent_child_biological_association, inp, num_hidden_units=21):\n",
    "    '''\n",
    "    Encoder structure\n",
    "    '''\n",
    "    '''\n",
    "    The data is time-series. Therefore, CNN to learn the temporal relationship between \n",
    "    the intensities for each gene.\n",
    "    '''\n",
    "    en_conv = Conv1D(490, 3, activation = \"tanh\")(parent_child_biological_association) # 6*NUM_TARGETS\n",
    "    en_dense = Flatten()(en_conv)\n",
    "    inp = Flatten()(inp)\n",
    "    #print(en_dense.shape, inp.shape)\n",
    "    d = Concatenate()([en_dense, inp]) #dense layer\n",
    "    o_d = Dense(1024, activation = 'tanh')(d) #added a layer\n",
    "    c = Concatenate()([o_d, d]) #TOTALY NEW LAYER\n",
    "    en_dense = Dense(128, activation = 'tanh')(c) #TOTALY NEW LAYER\n",
    "    \n",
    "    phenotype = Dense(num_hidden_units, activation=\"tanh\")(d)\n",
    "    return phenotype\n",
    "\n",
    "def densedecoder2(X, num_protein_gene, time_steps):\n",
    "    '''\n",
    "    Decoder structure\n",
    "    '''\n",
    "    de_dense = Dense(784, activation = 'tanh')(X)\n",
    "    de_dense = Dense(512, activation = 'tanh')(de_dense) #TOTALY NEW LAYER\n",
    "    de_dense = Dense(256, activation = 'tanh')(de_dense) #added a layer\n",
    "    de_dense = Reshape((1, 256))(de_dense) #tf.reshape(de_dense, (self.batch_size,1,128))\n",
    "    de_deconv = Conv1DTranspose(num_protein_gene, time_steps, activation = \"tanh\")(de_dense) #used to be transpose\n",
    "    #de_deconv = Conv1D(num_protein_gene, time_steps, activation = \"relu\")(de_dense) \n",
    "    # gene_reconstruction = self.decoder_biological_operation(de_deconv)\n",
    "    return de_deconv\n",
    "\n",
    "def modelDense2(rgm, oldrgm, num_protein_gene, time_steps, num_kinase_regulators, num_hidden_units = 21):\n",
    "    inp = Input(shape=(time_steps, num_kinase_regulators))\n",
    "    x = DenseEncoderLinear2(rgm, oldrgm, NUM_TARGETS, NUM_TARGETS)(inp)\n",
    "    #x = EncoderLinear2(x)\n",
    "    enc = denseencoder2(x, inp, num_hidden_units)\n",
    "    dec = densedecoder2(enc, num_protein_gene, time_steps)\n",
    "    out = DenseDecoderLinear2(rgm, oldrgm, NUM_TARGETS, NUM_TARGETS)(dec)\n",
    "\n",
    "    _model = tf.keras.Model(inputs=inp, outputs=out)\n",
    "\n",
    "    return _model"
   ]
  },
  {
   "cell_type": "code",
   "execution_count": 24,
   "metadata": {},
   "outputs": [
    {
     "name": "stdout",
     "output_type": "stream",
     "text": [
      "Epoch 1/200\n",
      "1/1 [==============================] - 11s 11s/step - loss: 0.1385 - val_loss: 0.1120\n",
      "Epoch 2/200\n",
      "1/1 [==============================] - 0s 57ms/step - loss: 0.1340 - val_loss: 0.1046\n",
      "Epoch 3/200\n",
      "1/1 [==============================] - 0s 56ms/step - loss: 0.1256 - val_loss: 0.0955\n",
      "Epoch 4/200\n",
      "1/1 [==============================] - 0s 56ms/step - loss: 0.1134 - val_loss: 0.0865\n",
      "Epoch 5/200\n",
      "1/1 [==============================] - 0s 52ms/step - loss: 0.1062 - val_loss: 0.0799\n",
      "Epoch 6/200\n",
      "1/1 [==============================] - 0s 52ms/step - loss: 0.1008 - val_loss: 0.0759\n",
      "Epoch 7/200\n",
      "1/1 [==============================] - 0s 51ms/step - loss: 0.0997 - val_loss: 0.0731\n",
      "Epoch 8/200\n",
      "1/1 [==============================] - 0s 52ms/step - loss: 0.0901 - val_loss: 0.0707\n",
      "Epoch 9/200\n",
      "1/1 [==============================] - 0s 51ms/step - loss: 0.0906 - val_loss: 0.0688\n",
      "Epoch 10/200\n",
      "1/1 [==============================] - 0s 52ms/step - loss: 0.0867 - val_loss: 0.0673\n",
      "Epoch 11/200\n",
      "1/1 [==============================] - 0s 51ms/step - loss: 0.0916 - val_loss: 0.0660\n",
      "Epoch 12/200\n",
      "1/1 [==============================] - 0s 58ms/step - loss: 0.0869 - val_loss: 0.0649\n",
      "Epoch 13/200\n",
      "1/1 [==============================] - 0s 54ms/step - loss: 0.0843 - val_loss: 0.0641\n",
      "Epoch 14/200\n",
      "1/1 [==============================] - 0s 57ms/step - loss: 0.0793 - val_loss: 0.0633\n",
      "Epoch 15/200\n",
      "1/1 [==============================] - 0s 56ms/step - loss: 0.0800 - val_loss: 0.0626\n",
      "Epoch 16/200\n",
      "1/1 [==============================] - 0s 55ms/step - loss: 0.0772 - val_loss: 0.0618\n",
      "Epoch 17/200\n",
      "1/1 [==============================] - 0s 57ms/step - loss: 0.0779 - val_loss: 0.0608\n",
      "Epoch 18/200\n",
      "1/1 [==============================] - 0s 71ms/step - loss: 0.0793 - val_loss: 0.0597\n",
      "Epoch 19/200\n",
      "1/1 [==============================] - 0s 58ms/step - loss: 0.0727 - val_loss: 0.0587\n",
      "Epoch 20/200\n",
      "1/1 [==============================] - 0s 69ms/step - loss: 0.0783 - val_loss: 0.0577\n",
      "Epoch 21/200\n",
      "1/1 [==============================] - 0s 58ms/step - loss: 0.0729 - val_loss: 0.0567\n",
      "Epoch 22/200\n",
      "1/1 [==============================] - 0s 65ms/step - loss: 0.0710 - val_loss: 0.0557\n",
      "Epoch 23/200\n",
      "1/1 [==============================] - 0s 49ms/step - loss: 0.0714 - val_loss: 0.0547\n",
      "Epoch 24/200\n",
      "1/1 [==============================] - 0s 53ms/step - loss: 0.0702 - val_loss: 0.0536\n",
      "Epoch 25/200\n",
      "1/1 [==============================] - 0s 57ms/step - loss: 0.0733 - val_loss: 0.0524\n",
      "Epoch 26/200\n",
      "1/1 [==============================] - 0s 50ms/step - loss: 0.0656 - val_loss: 0.0513\n",
      "Epoch 27/200\n",
      "1/1 [==============================] - 0s 55ms/step - loss: 0.0751 - val_loss: 0.0502\n",
      "Epoch 28/200\n",
      "1/1 [==============================] - 0s 53ms/step - loss: 0.0664 - val_loss: 0.0493\n",
      "Epoch 29/200\n",
      "1/1 [==============================] - 0s 52ms/step - loss: 0.0675 - val_loss: 0.0484\n",
      "Epoch 30/200\n",
      "1/1 [==============================] - 0s 53ms/step - loss: 0.0661 - val_loss: 0.0477\n",
      "Epoch 31/200\n",
      "1/1 [==============================] - 0s 46ms/step - loss: 0.0627 - val_loss: 0.0470\n",
      "Epoch 32/200\n",
      "1/1 [==============================] - 0s 54ms/step - loss: 0.0658 - val_loss: 0.0463\n",
      "Epoch 33/200\n",
      "1/1 [==============================] - 0s 51ms/step - loss: 0.0607 - val_loss: 0.0457\n",
      "Epoch 34/200\n",
      "1/1 [==============================] - 0s 52ms/step - loss: 0.0590 - val_loss: 0.0451\n",
      "Epoch 35/200\n",
      "1/1 [==============================] - 0s 50ms/step - loss: 0.0587 - val_loss: 0.0445\n",
      "Epoch 36/200\n",
      "1/1 [==============================] - 0s 51ms/step - loss: 0.0588 - val_loss: 0.0438\n",
      "Epoch 37/200\n",
      "1/1 [==============================] - 0s 51ms/step - loss: 0.0587 - val_loss: 0.0431\n",
      "Epoch 38/200\n",
      "1/1 [==============================] - 0s 54ms/step - loss: 0.0566 - val_loss: 0.0424\n",
      "Epoch 39/200\n",
      "1/1 [==============================] - 0s 53ms/step - loss: 0.0551 - val_loss: 0.0418\n",
      "Epoch 40/200\n",
      "1/1 [==============================] - 0s 58ms/step - loss: 0.0610 - val_loss: 0.0412\n",
      "Epoch 41/200\n",
      "1/1 [==============================] - 0s 59ms/step - loss: 0.0551 - val_loss: 0.0407\n",
      "Epoch 42/200\n",
      "1/1 [==============================] - 0s 63ms/step - loss: 0.0511 - val_loss: 0.0401\n",
      "Epoch 43/200\n",
      "1/1 [==============================] - 0s 56ms/step - loss: 0.0547 - val_loss: 0.0395\n",
      "Epoch 44/200\n",
      "1/1 [==============================] - 0s 59ms/step - loss: 0.0562 - val_loss: 0.0390\n",
      "Epoch 45/200\n",
      "1/1 [==============================] - 0s 54ms/step - loss: 0.0481 - val_loss: 0.0386\n",
      "Epoch 46/200\n",
      "1/1 [==============================] - 0s 53ms/step - loss: 0.0481 - val_loss: 0.0381\n",
      "Epoch 47/200\n",
      "1/1 [==============================] - 0s 49ms/step - loss: 0.0521 - val_loss: 0.0377\n",
      "Epoch 48/200\n",
      "1/1 [==============================] - 0s 62ms/step - loss: 0.0460 - val_loss: 0.0372\n",
      "Epoch 49/200\n",
      "1/1 [==============================] - 0s 55ms/step - loss: 0.0469 - val_loss: 0.0366\n",
      "Epoch 50/200\n",
      "1/1 [==============================] - 0s 53ms/step - loss: 0.0440 - val_loss: 0.0361\n",
      "Epoch 51/200\n",
      "1/1 [==============================] - 0s 57ms/step - loss: 0.0512 - val_loss: 0.0356\n",
      "Epoch 52/200\n",
      "1/1 [==============================] - 0s 54ms/step - loss: 0.0552 - val_loss: 0.0351\n",
      "Epoch 53/200\n",
      "1/1 [==============================] - 0s 52ms/step - loss: 0.0422 - val_loss: 0.0346\n",
      "Epoch 54/200\n",
      "1/1 [==============================] - 0s 56ms/step - loss: 0.0420 - val_loss: 0.0341\n",
      "Epoch 55/200\n",
      "1/1 [==============================] - 0s 47ms/step - loss: 0.0490 - val_loss: 0.0337\n",
      "Epoch 56/200\n",
      "1/1 [==============================] - 0s 52ms/step - loss: 0.0424 - val_loss: 0.0334\n",
      "Epoch 57/200\n",
      "1/1 [==============================] - 0s 63ms/step - loss: 0.0402 - val_loss: 0.0330\n",
      "Epoch 58/200\n",
      "1/1 [==============================] - 0s 62ms/step - loss: 0.0486 - val_loss: 0.0327\n",
      "Epoch 59/200\n",
      "1/1 [==============================] - 0s 59ms/step - loss: 0.0461 - val_loss: 0.0323\n",
      "Epoch 60/200\n",
      "1/1 [==============================] - 0s 62ms/step - loss: 0.0435 - val_loss: 0.0320\n",
      "Epoch 61/200\n",
      "1/1 [==============================] - 0s 49ms/step - loss: 0.0383 - val_loss: 0.0318\n",
      "Epoch 62/200\n",
      "1/1 [==============================] - 0s 51ms/step - loss: 0.0420 - val_loss: 0.0314\n",
      "Epoch 63/200\n",
      "1/1 [==============================] - 0s 46ms/step - loss: 0.0374 - val_loss: 0.0311\n",
      "Epoch 64/200\n",
      "1/1 [==============================] - 0s 45ms/step - loss: 0.0367 - val_loss: 0.0309\n",
      "Epoch 65/200\n",
      "1/1 [==============================] - 0s 44ms/step - loss: 0.0364 - val_loss: 0.0307\n",
      "Epoch 66/200\n",
      "1/1 [==============================] - 0s 44ms/step - loss: 0.0440 - val_loss: 0.0304\n",
      "Epoch 67/200\n",
      "1/1 [==============================] - 0s 54ms/step - loss: 0.0447 - val_loss: 0.0302\n",
      "Epoch 68/200\n",
      "1/1 [==============================] - 0s 55ms/step - loss: 0.0397 - val_loss: 0.0300\n",
      "Epoch 69/200\n",
      "1/1 [==============================] - 0s 50ms/step - loss: 0.0350 - val_loss: 0.0297\n",
      "Epoch 70/200\n",
      "1/1 [==============================] - 0s 48ms/step - loss: 0.0337 - val_loss: 0.0295\n",
      "Epoch 71/200\n",
      "1/1 [==============================] - 0s 45ms/step - loss: 0.0333 - val_loss: 0.0295\n",
      "Epoch 72/200\n",
      "1/1 [==============================] - 0s 45ms/step - loss: 0.0352 - val_loss: 0.0294\n",
      "Epoch 73/200\n",
      "1/1 [==============================] - 0s 47ms/step - loss: 0.0322 - val_loss: 0.0293\n",
      "Epoch 74/200\n",
      "1/1 [==============================] - 0s 42ms/step - loss: 0.0322 - val_loss: 0.0291\n",
      "Epoch 75/200\n",
      "1/1 [==============================] - 0s 44ms/step - loss: 0.0385 - val_loss: 0.0290\n",
      "Epoch 76/200\n",
      "1/1 [==============================] - 0s 43ms/step - loss: 0.0346 - val_loss: 0.0289\n",
      "Epoch 77/200\n",
      "1/1 [==============================] - 0s 39ms/step - loss: 0.0331 - val_loss: 0.0289\n",
      "Epoch 78/200\n",
      "1/1 [==============================] - 0s 36ms/step - loss: 0.0384 - val_loss: 0.0290\n",
      "Epoch 79/200\n",
      "1/1 [==============================] - 0s 41ms/step - loss: 0.0338 - val_loss: 0.0289\n",
      "Epoch 80/200\n",
      "1/1 [==============================] - 0s 39ms/step - loss: 0.0306 - val_loss: 0.0288\n",
      "Epoch 81/200\n",
      "1/1 [==============================] - 0s 41ms/step - loss: 0.0380 - val_loss: 0.0288\n",
      "Epoch 82/200\n",
      "1/1 [==============================] - 0s 41ms/step - loss: 0.0303 - val_loss: 0.0287\n",
      "Epoch 83/200\n",
      "1/1 [==============================] - 0s 41ms/step - loss: 0.0296 - val_loss: 0.0287\n",
      "Epoch 84/200\n",
      "1/1 [==============================] - 0s 40ms/step - loss: 0.0378 - val_loss: 0.0285\n",
      "Epoch 85/200\n",
      "1/1 [==============================] - 0s 41ms/step - loss: 0.0298 - val_loss: 0.0284\n",
      "Epoch 86/200\n",
      "1/1 [==============================] - 0s 40ms/step - loss: 0.0317 - val_loss: 0.0283\n",
      "Epoch 87/200\n",
      "1/1 [==============================] - 0s 39ms/step - loss: 0.0333 - val_loss: 0.0282\n",
      "Epoch 88/200\n",
      "1/1 [==============================] - 0s 37ms/step - loss: 0.0287 - val_loss: 0.0281\n",
      "Epoch 89/200\n",
      "1/1 [==============================] - 0s 47ms/step - loss: 0.0280 - val_loss: 0.0280\n",
      "Epoch 90/200\n",
      "1/1 [==============================] - 0s 39ms/step - loss: 0.0363 - val_loss: 0.0280\n",
      "Epoch 91/200\n",
      "1/1 [==============================] - 0s 42ms/step - loss: 0.0330 - val_loss: 0.0280\n",
      "Epoch 92/200\n",
      "1/1 [==============================] - 0s 40ms/step - loss: 0.0346 - val_loss: 0.0279\n",
      "Epoch 93/200\n",
      "1/1 [==============================] - 0s 40ms/step - loss: 0.0314 - val_loss: 0.0278\n",
      "Epoch 94/200\n",
      "1/1 [==============================] - 0s 43ms/step - loss: 0.0273 - val_loss: 0.0277\n",
      "Epoch 95/200\n",
      "1/1 [==============================] - 0s 46ms/step - loss: 0.0405 - val_loss: 0.0276\n",
      "Epoch 96/200\n",
      "1/1 [==============================] - 0s 42ms/step - loss: 0.0349 - val_loss: 0.0275\n",
      "Epoch 97/200\n",
      "1/1 [==============================] - 0s 46ms/step - loss: 0.0280 - val_loss: 0.0273\n",
      "Epoch 98/200\n",
      "1/1 [==============================] - 0s 48ms/step - loss: 0.0308 - val_loss: 0.0272\n",
      "Epoch 99/200\n",
      "1/1 [==============================] - 0s 49ms/step - loss: 0.0265 - val_loss: 0.0270\n",
      "Epoch 100/200\n",
      "1/1 [==============================] - 0s 50ms/step - loss: 0.0360 - val_loss: 0.0268\n",
      "Epoch 101/200\n",
      "1/1 [==============================] - 0s 59ms/step - loss: 0.0253 - val_loss: 0.0267\n",
      "Epoch 102/200\n",
      "1/1 [==============================] - 0s 51ms/step - loss: 0.0313 - val_loss: 0.0266\n",
      "Epoch 103/200\n",
      "1/1 [==============================] - 0s 46ms/step - loss: 0.0391 - val_loss: 0.0265\n",
      "Epoch 104/200\n",
      "1/1 [==============================] - 0s 49ms/step - loss: 0.0327 - val_loss: 0.0265\n",
      "Epoch 105/200\n",
      "1/1 [==============================] - 0s 43ms/step - loss: 0.0302 - val_loss: 0.0265\n",
      "Epoch 106/200\n",
      "1/1 [==============================] - 0s 40ms/step - loss: 0.0248 - val_loss: 0.0264\n",
      "Epoch 107/200\n",
      "1/1 [==============================] - 0s 40ms/step - loss: 0.0313 - val_loss: 0.0263\n",
      "Epoch 108/200\n",
      "1/1 [==============================] - 0s 41ms/step - loss: 0.0245 - val_loss: 0.0260\n",
      "Epoch 109/200\n",
      "1/1 [==============================] - 0s 40ms/step - loss: 0.0270 - val_loss: 0.0258\n",
      "Epoch 110/200\n",
      "1/1 [==============================] - 0s 38ms/step - loss: 0.0297 - val_loss: 0.0256\n",
      "Epoch 111/200\n",
      "1/1 [==============================] - 0s 40ms/step - loss: 0.0302 - val_loss: 0.0256\n",
      "Epoch 112/200\n",
      "1/1 [==============================] - 0s 45ms/step - loss: 0.0244 - val_loss: 0.0256\n",
      "Epoch 113/200\n",
      "1/1 [==============================] - 0s 48ms/step - loss: 0.0342 - val_loss: 0.0257\n",
      "Epoch 114/200\n",
      "1/1 [==============================] - 0s 50ms/step - loss: 0.0233 - val_loss: 0.0258\n",
      "Epoch 115/200\n",
      "1/1 [==============================] - 0s 49ms/step - loss: 0.0284 - val_loss: 0.0257\n",
      "Epoch 116/200\n",
      "1/1 [==============================] - 0s 54ms/step - loss: 0.0307 - val_loss: 0.0257\n",
      "Epoch 117/200\n",
      "1/1 [==============================] - 0s 52ms/step - loss: 0.0292 - val_loss: 0.0256\n",
      "Epoch 118/200\n",
      "1/1 [==============================] - 0s 51ms/step - loss: 0.0231 - val_loss: 0.0257\n",
      "Epoch 119/200\n",
      "1/1 [==============================] - 0s 59ms/step - loss: 0.0336 - val_loss: 0.0254\n",
      "Epoch 120/200\n",
      "1/1 [==============================] - 0s 51ms/step - loss: 0.0222 - val_loss: 0.0250\n",
      "Epoch 121/200\n",
      "1/1 [==============================] - 0s 67ms/step - loss: 0.0261 - val_loss: 0.0248\n",
      "Epoch 122/200\n",
      "1/1 [==============================] - 0s 63ms/step - loss: 0.0277 - val_loss: 0.0248\n",
      "Epoch 123/200\n",
      "1/1 [==============================] - 0s 57ms/step - loss: 0.0225 - val_loss: 0.0249\n",
      "Epoch 124/200\n",
      "1/1 [==============================] - 0s 53ms/step - loss: 0.0212 - val_loss: 0.0250\n",
      "Epoch 125/200\n",
      "1/1 [==============================] - 0s 73ms/step - loss: 0.0273 - val_loss: 0.0249\n",
      "Epoch 126/200\n",
      "1/1 [==============================] - 0s 82ms/step - loss: 0.0277 - val_loss: 0.0248\n",
      "Epoch 127/200\n",
      "1/1 [==============================] - 0s 60ms/step - loss: 0.0206 - val_loss: 0.0247\n",
      "Epoch 128/200\n",
      "1/1 [==============================] - 0s 56ms/step - loss: 0.0222 - val_loss: 0.0247\n",
      "Epoch 129/200\n",
      "1/1 [==============================] - 0s 51ms/step - loss: 0.0248 - val_loss: 0.0249\n",
      "Epoch 130/200\n",
      "1/1 [==============================] - 0s 51ms/step - loss: 0.0205 - val_loss: 0.0250\n",
      "Epoch 131/200\n",
      "1/1 [==============================] - 0s 56ms/step - loss: 0.0241 - val_loss: 0.0250\n",
      "Epoch 132/200\n",
      "1/1 [==============================] - 0s 46ms/step - loss: 0.0238 - val_loss: 0.0251\n",
      "Epoch 133/200\n",
      "1/1 [==============================] - 0s 50ms/step - loss: 0.0196 - val_loss: 0.0254\n",
      "Epoch 134/200\n",
      "1/1 [==============================] - 0s 43ms/step - loss: 0.0197 - val_loss: 0.0256\n",
      "Epoch 135/200\n",
      "1/1 [==============================] - 0s 45ms/step - loss: 0.0245 - val_loss: 0.0253\n",
      "Epoch 136/200\n",
      "1/1 [==============================] - 0s 51ms/step - loss: 0.0210 - val_loss: 0.0250\n",
      "Epoch 137/200\n",
      "1/1 [==============================] - 0s 42ms/step - loss: 0.0289 - val_loss: 0.0246\n",
      "Epoch 138/200\n",
      "1/1 [==============================] - 0s 44ms/step - loss: 0.0290 - val_loss: 0.0246\n",
      "Epoch 139/200\n",
      "1/1 [==============================] - 0s 39ms/step - loss: 0.0186 - val_loss: 0.0246\n",
      "Epoch 140/200\n",
      "1/1 [==============================] - 0s 42ms/step - loss: 0.0309 - val_loss: 0.0243\n",
      "Epoch 141/200\n",
      "1/1 [==============================] - 0s 44ms/step - loss: 0.0260 - val_loss: 0.0241\n",
      "Epoch 142/200\n",
      "1/1 [==============================] - 0s 41ms/step - loss: 0.0222 - val_loss: 0.0242\n",
      "Epoch 143/200\n",
      "1/1 [==============================] - 0s 43ms/step - loss: 0.0182 - val_loss: 0.0241\n",
      "Epoch 144/200\n",
      "1/1 [==============================] - 0s 42ms/step - loss: 0.0295 - val_loss: 0.0237\n",
      "Epoch 145/200\n",
      "1/1 [==============================] - 0s 41ms/step - loss: 0.0180 - val_loss: 0.0234\n",
      "Epoch 146/200\n",
      "1/1 [==============================] - 0s 43ms/step - loss: 0.0282 - val_loss: 0.0229\n",
      "Epoch 147/200\n",
      "1/1 [==============================] - 0s 41ms/step - loss: 0.0175 - val_loss: 0.0226\n",
      "Epoch 148/200\n",
      "1/1 [==============================] - 0s 42ms/step - loss: 0.0237 - val_loss: 0.0221\n",
      "Epoch 149/200\n",
      "1/1 [==============================] - 0s 40ms/step - loss: 0.0176 - val_loss: 0.0219\n",
      "Epoch 150/200\n",
      "1/1 [==============================] - 0s 44ms/step - loss: 0.0246 - val_loss: 0.0218\n",
      "Epoch 151/200\n",
      "1/1 [==============================] - 0s 39ms/step - loss: 0.0213 - val_loss: 0.0218\n",
      "Epoch 152/200\n",
      "1/1 [==============================] - 0s 42ms/step - loss: 0.0285 - val_loss: 0.0222\n",
      "Epoch 153/200\n",
      "1/1 [==============================] - 0s 40ms/step - loss: 0.0166 - val_loss: 0.0228\n",
      "Epoch 154/200\n",
      "1/1 [==============================] - 0s 38ms/step - loss: 0.0205 - val_loss: 0.0226\n",
      "Epoch 155/200\n",
      "1/1 [==============================] - 0s 42ms/step - loss: 0.0229 - val_loss: 0.0223\n",
      "Epoch 156/200\n",
      "1/1 [==============================] - 0s 41ms/step - loss: 0.0252 - val_loss: 0.0221\n",
      "Epoch 157/200\n",
      "1/1 [==============================] - 0s 42ms/step - loss: 0.0201 - val_loss: 0.0218\n",
      "Epoch 158/200\n",
      "1/1 [==============================] - 0s 46ms/step - loss: 0.0160 - val_loss: 0.0215\n",
      "Epoch 159/200\n",
      "1/1 [==============================] - 0s 37ms/step - loss: 0.0184 - val_loss: 0.0215\n",
      "Epoch 160/200\n",
      "1/1 [==============================] - 0s 40ms/step - loss: 0.0219 - val_loss: 0.0214\n",
      "Epoch 161/200\n",
      "1/1 [==============================] - 0s 40ms/step - loss: 0.0157 - val_loss: 0.0212\n",
      "Epoch 162/200\n",
      "1/1 [==============================] - 0s 40ms/step - loss: 0.0156 - val_loss: 0.0211\n",
      "Epoch 163/200\n",
      "1/1 [==============================] - 0s 41ms/step - loss: 0.0208 - val_loss: 0.0211\n",
      "Epoch 164/200\n",
      "1/1 [==============================] - 0s 40ms/step - loss: 0.0214 - val_loss: 0.0211\n",
      "Epoch 165/200\n",
      "1/1 [==============================] - 0s 42ms/step - loss: 0.0152 - val_loss: 0.0211\n",
      "Epoch 166/200\n",
      "1/1 [==============================] - 0s 40ms/step - loss: 0.0226 - val_loss: 0.0211\n",
      "Epoch 167/200\n",
      "1/1 [==============================] - 0s 39ms/step - loss: 0.0171 - val_loss: 0.0209\n",
      "Epoch 168/200\n",
      "1/1 [==============================] - 0s 39ms/step - loss: 0.0170 - val_loss: 0.0208\n",
      "Epoch 169/200\n",
      "1/1 [==============================] - 0s 37ms/step - loss: 0.0193 - val_loss: 0.0210\n",
      "Epoch 170/200\n",
      "1/1 [==============================] - 0s 44ms/step - loss: 0.0223 - val_loss: 0.0211\n",
      "Epoch 171/200\n",
      "1/1 [==============================] - 0s 39ms/step - loss: 0.0149 - val_loss: 0.0210\n",
      "Epoch 172/200\n",
      "1/1 [==============================] - 0s 42ms/step - loss: 0.0171 - val_loss: 0.0210\n",
      "Epoch 173/200\n",
      "1/1 [==============================] - 0s 40ms/step - loss: 0.0206 - val_loss: 0.0207\n",
      "Epoch 174/200\n",
      "1/1 [==============================] - 0s 42ms/step - loss: 0.0145 - val_loss: 0.0204\n",
      "Epoch 175/200\n",
      "1/1 [==============================] - 0s 39ms/step - loss: 0.0212 - val_loss: 0.0207\n",
      "Epoch 176/200\n",
      "1/1 [==============================] - 0s 39ms/step - loss: 0.0181 - val_loss: 0.0207\n",
      "Epoch 177/200\n",
      "1/1 [==============================] - 0s 40ms/step - loss: 0.0180 - val_loss: 0.0202\n",
      "Epoch 178/200\n",
      "1/1 [==============================] - 0s 43ms/step - loss: 0.0271 - val_loss: 0.0200\n",
      "Epoch 179/200\n",
      "1/1 [==============================] - 0s 37ms/step - loss: 0.0251 - val_loss: 0.0199\n",
      "Epoch 180/200\n",
      "1/1 [==============================] - 0s 41ms/step - loss: 0.0200 - val_loss: 0.0196\n",
      "Epoch 181/200\n",
      "1/1 [==============================] - 0s 41ms/step - loss: 0.0173 - val_loss: 0.0197\n",
      "Epoch 182/200\n",
      "1/1 [==============================] - 0s 39ms/step - loss: 0.0181 - val_loss: 0.0190\n",
      "Epoch 183/200\n",
      "1/1 [==============================] - 0s 49ms/step - loss: 0.0193 - val_loss: 0.0184\n",
      "Epoch 184/200\n",
      "1/1 [==============================] - 0s 42ms/step - loss: 0.0177 - val_loss: 0.0195\n",
      "Epoch 185/200\n",
      "1/1 [==============================] - 0s 43ms/step - loss: 0.0137 - val_loss: 0.0199\n",
      "Epoch 186/200\n",
      "1/1 [==============================] - 0s 38ms/step - loss: 0.0231 - val_loss: 0.0195\n",
      "Epoch 187/200\n",
      "1/1 [==============================] - 0s 39ms/step - loss: 0.0136 - val_loss: 0.0189\n",
      "Epoch 188/200\n",
      "1/1 [==============================] - 0s 41ms/step - loss: 0.0136 - val_loss: 0.0192\n",
      "Epoch 189/200\n",
      "1/1 [==============================] - 0s 44ms/step - loss: 0.0134 - val_loss: 0.0190\n",
      "Epoch 190/200\n",
      "1/1 [==============================] - 0s 41ms/step - loss: 0.0253 - val_loss: 0.0184\n",
      "Epoch 191/200\n",
      "1/1 [==============================] - 0s 45ms/step - loss: 0.0136 - val_loss: 0.0185\n",
      "Epoch 192/200\n",
      "1/1 [==============================] - 0s 42ms/step - loss: 0.0153 - val_loss: 0.0190\n",
      "Epoch 193/200\n",
      "1/1 [==============================] - 0s 42ms/step - loss: 0.0132 - val_loss: 0.0186\n",
      "Epoch 194/200\n",
      "1/1 [==============================] - 0s 44ms/step - loss: 0.0128 - val_loss: 0.0179\n",
      "Epoch 195/200\n",
      "1/1 [==============================] - 0s 40ms/step - loss: 0.0165 - val_loss: 0.0179\n",
      "Epoch 196/200\n",
      "1/1 [==============================] - 0s 60ms/step - loss: 0.0168 - val_loss: 0.0183\n",
      "Epoch 197/200\n",
      "1/1 [==============================] - 0s 49ms/step - loss: 0.0244 - val_loss: 0.0182\n",
      "Epoch 198/200\n",
      "1/1 [==============================] - 0s 42ms/step - loss: 0.0128 - val_loss: 0.0178\n",
      "Epoch 199/200\n",
      "1/1 [==============================] - 0s 41ms/step - loss: 0.0267 - val_loss: 0.0175\n",
      "Epoch 200/200\n",
      "1/1 [==============================] - 0s 40ms/step - loss: 0.0174 - val_loss: 0.0174\n"
     ]
    },
    {
     "data": {
      "text/plain": [
       "<keras.callbacks.History at 0x2e425475520>"
      ]
     },
     "execution_count": 24,
     "metadata": {},
     "output_type": "execute_result"
    }
   ],
   "source": [
    "dense = modelDense2(superParent, regulator_gene_matrix, NUM_TARGETS, NUM_TIME_STEPS, NUM_TARGETS, 32)\n",
    "dense.compile(optimizer='adam', loss=ignore_noParent_MSE)\n",
    "dense.fit(beanIntensities, beanIntensities, epochs=200,  verbose=True, validation_data=(validation, validation))"
   ]
  },
  {
   "cell_type": "code",
   "execution_count": 25,
   "metadata": {},
   "outputs": [
    {
     "name": "stdout",
     "output_type": "stream",
     "text": [
      "Model: \"model\"\n",
      "__________________________________________________________________________________________________\n",
      " Layer (type)                   Output Shape         Param #     Connected to                     \n",
      "==================================================================================================\n",
      " input_1 (InputLayer)           [(None, 3, 7)]       0           []                               \n",
      "                                                                                                  \n",
      " dense_encoder_linear2 (DenseEn  (None, 3, 7)        49          ['input_1[0][0]']                \n",
      " coderLinear2)                                                                                    \n",
      "                                                                                                  \n",
      " conv1d (Conv1D)                (None, 1, 490)       10780       ['dense_encoder_linear2[0][0]']  \n",
      "                                                                                                  \n",
      " flatten (Flatten)              (None, 490)          0           ['conv1d[0][0]']                 \n",
      "                                                                                                  \n",
      " flatten_1 (Flatten)            (None, 21)           0           ['input_1[0][0]']                \n",
      "                                                                                                  \n",
      " concatenate (Concatenate)      (None, 511)          0           ['flatten[0][0]',                \n",
      "                                                                  'flatten_1[0][0]']              \n",
      "                                                                                                  \n",
      " dense_2 (Dense)                (None, 32)           16384       ['concatenate[0][0]']            \n",
      "                                                                                                  \n",
      " dense_3 (Dense)                (None, 784)          25872       ['dense_2[0][0]']                \n",
      "                                                                                                  \n",
      " dense_4 (Dense)                (None, 512)          401920      ['dense_3[0][0]']                \n",
      "                                                                                                  \n",
      " dense_5 (Dense)                (None, 256)          131328      ['dense_4[0][0]']                \n",
      "                                                                                                  \n",
      " reshape (Reshape)              (None, 1, 256)       0           ['dense_5[0][0]']                \n",
      "                                                                                                  \n",
      " conv1d_transpose (Conv1DTransp  (None, 3, 7)        5383        ['reshape[0][0]']                \n",
      " ose)                                                                                             \n",
      "                                                                                                  \n",
      " dense_decoder_linear2 (DenseDe  (None, 3, 7)        49          ['conv1d_transpose[0][0]']       \n",
      " coderLinear2)                                                                                    \n",
      "                                                                                                  \n",
      "==================================================================================================\n",
      "Total params: 591,765\n",
      "Trainable params: 591,765\n",
      "Non-trainable params: 0\n",
      "__________________________________________________________________________________________________\n"
     ]
    }
   ],
   "source": [
    "dense.summary()"
   ]
  },
  {
   "attachments": {},
   "cell_type": "markdown",
   "metadata": {},
   "source": [
    "# Reconstruction"
   ]
  },
  {
   "cell_type": "code",
   "execution_count": 26,
   "metadata": {},
   "outputs": [
    {
     "name": "stdout",
     "output_type": "stream",
     "text": [
      "1/1 [==============================] - 0s 188ms/step\n"
     ]
    },
    {
     "data": {
      "text/plain": [
       "(3, 3, 7)"
      ]
     },
     "execution_count": 26,
     "metadata": {},
     "output_type": "execute_result"
    }
   ],
   "source": [
    "o = dense.predict(validation)\n",
    "o.shape"
   ]
  },
  {
   "cell_type": "code",
   "execution_count": 27,
   "metadata": {},
   "outputs": [],
   "source": [
    "r = pd.DataFrame(o[0].reshape(NUM_TIME_STEPS,NUM_TARGETS))\n",
    "v = pd.DataFrame(validation[0].reshape(NUM_TIME_STEPS,NUM_TARGETS))"
   ]
  },
  {
   "cell_type": "code",
   "execution_count": 28,
   "metadata": {},
   "outputs": [
    {
     "data": {
      "text/html": [
       "<div>\n",
       "<style scoped>\n",
       "    .dataframe tbody tr th:only-of-type {\n",
       "        vertical-align: middle;\n",
       "    }\n",
       "\n",
       "    .dataframe tbody tr th {\n",
       "        vertical-align: top;\n",
       "    }\n",
       "\n",
       "    .dataframe thead th {\n",
       "        text-align: right;\n",
       "    }\n",
       "</style>\n",
       "<table border=\"1\" class=\"dataframe\">\n",
       "  <thead>\n",
       "    <tr style=\"text-align: right;\">\n",
       "      <th></th>\n",
       "      <th>0</th>\n",
       "      <th>1</th>\n",
       "      <th>2</th>\n",
       "      <th>3</th>\n",
       "      <th>4</th>\n",
       "      <th>5</th>\n",
       "      <th>6</th>\n",
       "    </tr>\n",
       "  </thead>\n",
       "  <tbody>\n",
       "    <tr>\n",
       "      <th>0</th>\n",
       "      <td>0.613429</td>\n",
       "      <td>0.013506</td>\n",
       "      <td>0.451918</td>\n",
       "      <td>0.209524</td>\n",
       "      <td>0.145356</td>\n",
       "      <td>0.083351</td>\n",
       "      <td>-0.027220</td>\n",
       "    </tr>\n",
       "    <tr>\n",
       "      <th>1</th>\n",
       "      <td>0.058603</td>\n",
       "      <td>-0.027801</td>\n",
       "      <td>0.918726</td>\n",
       "      <td>0.055723</td>\n",
       "      <td>0.471660</td>\n",
       "      <td>0.119137</td>\n",
       "      <td>0.029006</td>\n",
       "    </tr>\n",
       "    <tr>\n",
       "      <th>2</th>\n",
       "      <td>0.015821</td>\n",
       "      <td>0.022987</td>\n",
       "      <td>0.123993</td>\n",
       "      <td>0.036328</td>\n",
       "      <td>0.680917</td>\n",
       "      <td>0.016801</td>\n",
       "      <td>0.543392</td>\n",
       "    </tr>\n",
       "  </tbody>\n",
       "</table>\n",
       "</div>"
      ],
      "text/plain": [
       "          0         1         2         3         4         5         6\n",
       "0  0.613429  0.013506  0.451918  0.209524  0.145356  0.083351 -0.027220\n",
       "1  0.058603 -0.027801  0.918726  0.055723  0.471660  0.119137  0.029006\n",
       "2  0.015821  0.022987  0.123993  0.036328  0.680917  0.016801  0.543392"
      ]
     },
     "execution_count": 28,
     "metadata": {},
     "output_type": "execute_result"
    }
   ],
   "source": [
    "r[parent_idx].head(NUM_TIME_STEPS)"
   ]
  },
  {
   "cell_type": "code",
   "execution_count": 29,
   "metadata": {},
   "outputs": [
    {
     "data": {
      "text/html": [
       "<div>\n",
       "<style scoped>\n",
       "    .dataframe tbody tr th:only-of-type {\n",
       "        vertical-align: middle;\n",
       "    }\n",
       "\n",
       "    .dataframe tbody tr th {\n",
       "        vertical-align: top;\n",
       "    }\n",
       "\n",
       "    .dataframe thead th {\n",
       "        text-align: right;\n",
       "    }\n",
       "</style>\n",
       "<table border=\"1\" class=\"dataframe\">\n",
       "  <thead>\n",
       "    <tr style=\"text-align: right;\">\n",
       "      <th></th>\n",
       "      <th>0</th>\n",
       "      <th>1</th>\n",
       "      <th>2</th>\n",
       "      <th>3</th>\n",
       "      <th>4</th>\n",
       "      <th>5</th>\n",
       "      <th>6</th>\n",
       "    </tr>\n",
       "  </thead>\n",
       "  <tbody>\n",
       "    <tr>\n",
       "      <th>0</th>\n",
       "      <td>0.769990</td>\n",
       "      <td>0.002683</td>\n",
       "      <td>0.461492</td>\n",
       "      <td>0.040758</td>\n",
       "      <td>0.040239</td>\n",
       "      <td>0.059103</td>\n",
       "      <td>0.000000</td>\n",
       "    </tr>\n",
       "    <tr>\n",
       "      <th>1</th>\n",
       "      <td>0.038162</td>\n",
       "      <td>0.000087</td>\n",
       "      <td>1.000000</td>\n",
       "      <td>0.004846</td>\n",
       "      <td>0.439685</td>\n",
       "      <td>0.036085</td>\n",
       "      <td>0.021201</td>\n",
       "    </tr>\n",
       "    <tr>\n",
       "      <th>2</th>\n",
       "      <td>0.038422</td>\n",
       "      <td>0.030720</td>\n",
       "      <td>0.017134</td>\n",
       "      <td>0.000173</td>\n",
       "      <td>0.540066</td>\n",
       "      <td>0.000519</td>\n",
       "      <td>0.483212</td>\n",
       "    </tr>\n",
       "  </tbody>\n",
       "</table>\n",
       "</div>"
      ],
      "text/plain": [
       "          0         1         2         3         4         5         6\n",
       "0  0.769990  0.002683  0.461492  0.040758  0.040239  0.059103  0.000000\n",
       "1  0.038162  0.000087  1.000000  0.004846  0.439685  0.036085  0.021201\n",
       "2  0.038422  0.030720  0.017134  0.000173  0.540066  0.000519  0.483212"
      ]
     },
     "execution_count": 29,
     "metadata": {},
     "output_type": "execute_result"
    }
   ],
   "source": [
    "v[parent_idx].head(NUM_TIME_STEPS)"
   ]
  },
  {
   "cell_type": "code",
   "execution_count": 30,
   "metadata": {},
   "outputs": [
    {
     "data": {
      "text/plain": [
       "<tf.Tensor: shape=(), dtype=float32, numpy=0.017362863>"
      ]
     },
     "execution_count": 30,
     "metadata": {},
     "output_type": "execute_result"
    }
   ],
   "source": [
    "ignore_noParent_MSE(validation, o)"
   ]
  },
  {
   "cell_type": "markdown",
   "metadata": {},
   "source": [
    "# Latent Space Size Experiment"
   ]
  },
  {
   "cell_type": "code",
   "execution_count": 31,
   "metadata": {},
   "outputs": [
    {
     "name": "stdout",
     "output_type": "stream",
     "text": [
      "7 7\n"
     ]
    }
   ],
   "source": [
    "print(NUM_PARENTS, NUM_TARGETS)"
   ]
  },
  {
   "cell_type": "code",
   "execution_count": 44,
   "metadata": {},
   "outputs": [
    {
     "name": "stderr",
     "output_type": "stream",
     "text": [
      "100%|██████████| 50/50 [30:33<00:00, 36.67s/it]\n"
     ]
    }
   ],
   "source": [
    "#to test on entire DS: \n",
    "N = 50\n",
    "hidden = np.arange(1,NUM_PARENTS+1, 1) #range(1,32)\n",
    "lossMatrix = []\n",
    "for i in tqdm(range(N)):\n",
    "    \n",
    "    losses = []\n",
    "    for value in (hidden):\n",
    "        dense = modelDense2(superParent, regulator_gene_matrix, NUM_TARGETS, NUM_TIME_STEPS, NUM_TARGETS, value)\n",
    "        dense.compile(optimizer='adam', loss=ignore_noParent_MSE)\n",
    "        dense.fit(allData, allData, epochs=40,  verbose=0)\n",
    "        test_hat = dense(allData) #, verbose = 0)\n",
    "        loss = ignore_noParent_MSE(allData, test_hat)\n",
    "        losses.append(loss)\n",
    "        tf.keras.backend.clear_session()\n",
    "    lossMatrix.append(losses)\n",
    "    \n",
    "lossMatrix = np.array(lossMatrix)\n",
    "#run 100 times \n",
    "\n",
    "\n",
    "#To test on Test set:\n",
    "# N = 40\n",
    "# hidden = np.arange(2,24, 1) #range(1,32)\n",
    "# lossMatrix = []\n",
    "# for i in tqdm(range(N)):\n",
    "    \n",
    "#     losses = []\n",
    "#     for value in (hidden):\n",
    "#         dense = modelDense2(superParent, regulator_gene_matrix, NUM_TARGETS, NUM_TIME_STEPS, NUM_TARGETS, value)\n",
    "#         dense.compile(optimizer='adam', loss=ignore_noParent_MSE)\n",
    "#         dense.fit(beanIntensities, beanIntensities, epochs=40,  verbose=0)\n",
    "#         test_hat = dense(validation) #, verbose = 0)\n",
    "#         loss = ignore_noParent_MSE(validation, test_hat)\n",
    "#         losses.append(loss)\n",
    "#         tf.keras.backend.clear_session()\n",
    "#     lossMatrix.append(losses)\n",
    "    \n",
    "# lossMatrix = np.array(lossMatrix)\n",
    "# #run 100 times "
   ]
  },
  {
   "cell_type": "code",
   "execution_count": 50,
   "metadata": {},
   "outputs": [
    {
     "data": {
      "image/png": "[encoded data removed]",
      "text/plain": [
       "<Figure size 1080x360 with 1 Axes>"
      ]
     },
     "metadata": {
      "needs_background": "light"
     },
     "output_type": "display_data"
    }
   ],
   "source": [
    "avgMSE = np.average(lossMatrix, axis = 0)\n",
    "plt.plot(hidden, avgMSE);\n",
    "plt.xlabel(\"Latent Space Size\",fontsize=15);\n",
    "plt.ylabel(\"MSE\",fontsize=15);\n",
    "plt.title(\"Glycine Max: MSE with Respect to the Latent Space Size\", fontweight='bold', fontsize = 18);"
   ]
  },
  {
   "cell_type": "code",
   "execution_count": 48,
   "metadata": {},
   "outputs": [],
   "source": [
    "lm = pd.DataFrame(lossMatrix)\n",
    "lm.to_csv(\"lossmatrix4lisa_dream4.csv\")"
   ]
  },
  {
   "cell_type": "code",
   "execution_count": 71,
   "metadata": {},
   "outputs": [
    {
     "name": "stdout",
     "output_type": "stream",
     "text": [
      "(50, 7)\n"
     ]
    }
   ],
   "source": [
    "temp = pd.read_csv(\"lossmatrix4lisa_dream4.csv\").to_numpy()\n",
    "print(temp.shape)\n",
    "avgMSE = np.average(lossMatrix, axis=0)"
   ]
  },
  {
   "cell_type": "code",
   "execution_count": 53,
   "metadata": {},
   "outputs": [
    {
     "data": {
      "text/plain": [
       "[<matplotlib.lines.Line2D at 0x2d369d562b0>]"
      ]
     },
     "execution_count": 53,
     "metadata": {},
     "output_type": "execute_result"
    },
    {
     "data": {
      "image/png": "[encoded data removed]",
      "text/plain": [
       "<Figure size 1080x360 with 1 Axes>"
      ]
     },
     "metadata": {
      "needs_background": "light"
     },
     "output_type": "display_data"
    }
   ],
   "source": [
    "plt.plot(hidden, avgMSE)"
   ]
  },
  {
   "cell_type": "markdown",
   "metadata": {},
   "source": [
    "# Lazy Kernels"
   ]
  },
  {
   "cell_type": "code",
   "execution_count": 32,
   "metadata": {},
   "outputs": [],
   "source": [
    "def do_lazy_train(epochs=60, hidden = 16):\n",
    "    ep = epochs\n",
    "    hidden = [hidden,] #range(1,32)\n",
    "    lossMatrix = []\n",
    "    lazy_weights = []\n",
    "    dense = modelDense2(superParent, regulator_gene_matrix, NUM_TARGETS, NUM_TIME_STEPS, NUM_TARGETS, num_hidden_units=16)\n",
    "    dense.compile(optimizer='adam', loss=ignore_noParent_MSE)\n",
    "\n",
    "    #for i in tqdm(range(ep)):\n",
    "    for i in range(ep):\n",
    "        dense.fit(allData, allData, validation_data=(validation, validation), epochs=1,  verbose=0)\n",
    "        lazy_weights.append(dense.get_weights())\n",
    "        test = dense(validation) #, verbose = 0)\n",
    "        loss = ignore_noParent_MSE(validation, test)\n",
    "        lossMatrix.append(loss)\n",
    "        \n",
    "    lossMatrix = np.array(lossMatrix)\n",
    "    lazy_weights = np.array(lazy_weights)\n",
    "\n",
    "    return lossMatrix, lazy_weights"
   ]
  },
  {
   "cell_type": "code",
   "execution_count": 33,
   "metadata": {},
   "outputs": [],
   "source": [
    "#https://proceedings.mlr.press/v162/rachwan22a/rachwan22a.pdf Winning the Lottery Ticket Ahead of Time:\n",
    "def lazyKernelRegime(w, parent_idx=parent_idx):\n",
    "\n",
    "    firstLayer = []\n",
    "    for i in range(len(w)):\n",
    "        firstLayer.append(w[i][0][parent_idx])\n",
    "\n",
    "    fL = np.array(firstLayer)    \n",
    "    d0 = np.square(fL[1] - fL[0])\n",
    "    kernelChange = []\n",
    "    for i in range(1,len(fL)):\n",
    "        dt = np.square(fL[i] - fL[0])\n",
    "        dt_minus1 = np.square(fL[i-1] - fL[0])   \n",
    "        d = np.abs(dt - dt_minus1)/d0                        #eq 11 from the paper\n",
    "        kernelChange.append(d)\n",
    "    \n",
    "    kernelChange = np.moveaxis(kernelChange, 0, 2)\n",
    "    # plt.plot(kernelChange[0][0]);\n",
    "    # plt.title(\"$|\\Delta W|$ vs Epoch\")\n",
    "    # plt.xlabel(\"Epoch\")\n",
    "    # plt.ylabel(\"$|\\Delta W|$\")\n",
    "\n",
    "    return np.array(  kernelChange)"
   ]
  },
  {
   "cell_type": "code",
   "execution_count": 34,
   "metadata": {},
   "outputs": [],
   "source": [
    "def compute_distrib(change, t = .05, raw = False): #raw means return the unshaped indicies. \n",
    "    stop = []\n",
    "\n",
    "    for parent in range(len(change)):\n",
    "        for child in range(len(change[0])):\n",
    "            try:\n",
    "                stop.append(np.min(np.argwhere(change[parent][child] < t)))\n",
    "            except ValueError:\n",
    "                stop.append(len(change))\n",
    "                # print(parent, child)\n",
    "                # plt.plot(change[parent][child])\n",
    "                # assert(False)\n",
    "    # print(change.shape)\n",
    "    # assert(False)\n",
    "    \n",
    "    stop = np.array(stop).flatten()\n",
    "    # print(stop.shape)\n",
    "    var = np.std(stop)\n",
    "    # print(var)\n",
    "    # assert(False)\n",
    "    mean = np.average(stop)\n",
    "    top_parents = np.argwhere(stop > mean + 2*var) #get the parents which take more than 2 stds to stop training\n",
    "    top_parent_child = []\n",
    "    for tp in top_parents:\n",
    "        top_parent_child.append(np.unravel_index(tp, shape = (NUM_PARENTS, NUM_TARGETS)))\n",
    "\n",
    "    if raw == False:\n",
    "        plt.hist(stop)\n",
    "        plt.xlabel(\"Epoch where regulator-target-weight began changing by at most \"+ str(t));\n",
    "        plt.ylabel(\"Number of parent-child-weights\");\n",
    "        plt.title(\"Histogram of weight stops\");\n",
    "        print(\"average stop: \", mean);\n",
    "\n",
    "    if raw == True:\n",
    "        return np.array(top_parents)\n",
    "\n",
    "    return np.array(top_parent_child)"
   ]
  },
  {
   "cell_type": "code",
   "execution_count": 35,
   "metadata": {},
   "outputs": [],
   "source": [
    "def lazyKernels(N=100):\n",
    "\n",
    "    candidates = []\n",
    "    final_w = []\n",
    "    for i in tqdm(range(N)):\n",
    "        lm, lazy_weights = do_lazy_train(epochs=80)\n",
    "        change = lazyKernelRegime(lazy_weights)\n",
    "        top_pr = np.squeeze(compute_distrib(change, t = 0.05, raw=True))\n",
    "        candidates.append(top_pr)\n",
    "        final_w.append(lazy_weights[-1])\n",
    "    \n",
    "    final_w = np.array(final_w)\n",
    "    firstLayer = []\n",
    "    for i in range(len(final_w)):\n",
    "        firstLayer.append(np.abs(final_w[i][0][parent_idx]))\n",
    "    fw = np.array(firstLayer)\n",
    "    #print(fw.shape)\n",
    "    fw_avg = np.average(fw, axis = 0)\n",
    "    #print(fw_avg.shape)\n",
    "    \n",
    "    candidates = np.hstack(candidates)\n",
    "    candidates = candidates.reshape(candidates.size)\n",
    "    #print(candidates.shape)\n",
    "\n",
    "    plt.hist(candidates, bins=np.arange(0, NUM_PARENTS*NUM_TARGETS))\n",
    "    plt.title(\"Parent-Child Regulator Histogram\")\n",
    "    plt.xlabel(\"Parent-Child Weight\")\n",
    "    plt.ylabel(\"Num-Times parent-child relationship trained for top 5% of time\")\n",
    "    return candidates, fw_avg\n",
    "\n"
   ]
  },
  {
   "cell_type": "code",
   "execution_count": 63,
   "metadata": {},
   "outputs": [
    {
     "name": "stderr",
     "output_type": "stream",
     "text": [
      "100%|██████████| 100/100 [21:59<00:00, 13.19s/it]\n"
     ]
    },
    {
     "data": {
      "image/png": "[encoded data removed]",
      "text/plain": [
       "<Figure size 1080x360 with 1 Axes>"
      ]
     },
     "metadata": {
      "needs_background": "light"
     },
     "output_type": "display_data"
    }
   ],
   "source": [
    "can, mag = lazyKernels()"
   ]
  },
  {
   "cell_type": "code",
   "execution_count": 64,
   "metadata": {},
   "outputs": [
    {
     "data": {
      "text/plain": [
       "(377,)"
      ]
     },
     "execution_count": 64,
     "metadata": {},
     "output_type": "execute_result"
    }
   ],
   "source": [
    "can.shape"
   ]
  },
  {
   "cell_type": "code",
   "execution_count": 65,
   "metadata": {},
   "outputs": [],
   "source": [
    "# pdf, bins = np.histogram(can, np.arange(NUM_PARENTS*NUM_TARGETS))\n",
    "# pdf"
   ]
  },
  {
   "cell_type": "code",
   "execution_count": 66,
   "metadata": {},
   "outputs": [
    {
     "data": {
      "text/plain": [
       "(7, 7)"
      ]
     },
     "execution_count": 66,
     "metadata": {},
     "output_type": "execute_result"
    }
   ],
   "source": [
    "mag.shape"
   ]
  },
  {
   "cell_type": "markdown",
   "metadata": {},
   "source": [
    "# Magnitudes After Training"
   ]
  },
  {
   "cell_type": "code",
   "execution_count": 67,
   "metadata": {},
   "outputs": [
    {
     "data": {
      "text/plain": [
       "49"
      ]
     },
     "execution_count": 67,
     "metadata": {},
     "output_type": "execute_result"
    }
   ],
   "source": [
    "NUM_PARENTS*NUM_TARGETS"
   ]
  },
  {
   "cell_type": "code",
   "execution_count": 68,
   "metadata": {},
   "outputs": [],
   "source": [
    "#np.unravel_index(NUM_PARENTS*NUM_TARGETS, shape = (NUM_PARENTS, NUM_TARGETS))"
   ]
  },
  {
   "cell_type": "code",
   "execution_count": 69,
   "metadata": {},
   "outputs": [],
   "source": [
    "def get_top_reg_targets(can, mag):\n",
    "    \n",
    "    pdf, bins = np.histogram(can, np.arange(0, NUM_PARENTS*NUM_TARGETS))\n",
    "    pdf2d = np.zeros(shape = (NUM_PARENTS,NUM_TARGETS))\n",
    "\n",
    "    for i in bins:\n",
    "      idx2d = np.unravel_index(i, shape = (NUM_PARENTS, NUM_TARGETS))\n",
    "      try:\n",
    "        pdf2d[idx2d] = pdf[i]\n",
    "      except IndexError:\n",
    "        print(i, idx2d, len(pdf), len(bins))\n",
    "    \n",
    "\n",
    "    importance = np.multiply(pdf2d, mag)\n",
    "    return importance"
   ]
  },
  {
   "cell_type": "code",
   "execution_count": 70,
   "metadata": {},
   "outputs": [
    {
     "name": "stdout",
     "output_type": "stream",
     "text": [
      "48 (6, 6) 48 49\n"
     ]
    }
   ],
   "source": [
    "top = get_top_reg_targets(can, mag)"
   ]
  },
  {
   "cell_type": "code",
   "execution_count": 71,
   "metadata": {},
   "outputs": [
    {
     "data": {
      "text/plain": [
       "(7, 7)"
      ]
     },
     "execution_count": 71,
     "metadata": {},
     "output_type": "execute_result"
    }
   ],
   "source": [
    "top.shape"
   ]
  },
  {
   "cell_type": "code",
   "execution_count": 72,
   "metadata": {},
   "outputs": [],
   "source": [
    "top = top/np.max(top)"
   ]
  },
  {
   "cell_type": "code",
   "execution_count": 73,
   "metadata": {},
   "outputs": [],
   "source": [
    "lm = pd.DataFrame(top)\n",
    "lm.to_csv(\"top_r_t_HepG2.csv\")"
   ]
  },
  {
   "cell_type": "code",
   "execution_count": 41,
   "metadata": {},
   "outputs": [
    {
     "data": {
      "text/html": [
       "<div>\n",
       "<style scoped>\n",
       "    .dataframe tbody tr th:only-of-type {\n",
       "        vertical-align: middle;\n",
       "    }\n",
       "\n",
       "    .dataframe tbody tr th {\n",
       "        vertical-align: top;\n",
       "    }\n",
       "\n",
       "    .dataframe thead th {\n",
       "        text-align: right;\n",
       "    }\n",
       "</style>\n",
       "<table border=\"1\" class=\"dataframe\">\n",
       "  <thead>\n",
       "    <tr style=\"text-align: right;\">\n",
       "      <th></th>\n",
       "      <th>Unnamed: 0</th>\n",
       "      <th>0</th>\n",
       "      <th>1</th>\n",
       "      <th>2</th>\n",
       "      <th>3</th>\n",
       "      <th>4</th>\n",
       "      <th>5</th>\n",
       "      <th>6</th>\n",
       "    </tr>\n",
       "  </thead>\n",
       "  <tbody>\n",
       "    <tr>\n",
       "      <th>0</th>\n",
       "      <td>0</td>\n",
       "      <td>0.440839</td>\n",
       "      <td>0.724110</td>\n",
       "      <td>0.399215</td>\n",
       "      <td>0.154900</td>\n",
       "      <td>0.428612</td>\n",
       "      <td>0.414645</td>\n",
       "      <td>0.871433</td>\n",
       "    </tr>\n",
       "    <tr>\n",
       "      <th>1</th>\n",
       "      <td>1</td>\n",
       "      <td>0.584255</td>\n",
       "      <td>0.330984</td>\n",
       "      <td>0.621441</td>\n",
       "      <td>0.340673</td>\n",
       "      <td>0.352770</td>\n",
       "      <td>0.324875</td>\n",
       "      <td>0.349341</td>\n",
       "    </tr>\n",
       "    <tr>\n",
       "      <th>2</th>\n",
       "      <td>2</td>\n",
       "      <td>0.405081</td>\n",
       "      <td>0.209667</td>\n",
       "      <td>0.442319</td>\n",
       "      <td>0.660746</td>\n",
       "      <td>1.000000</td>\n",
       "      <td>0.595066</td>\n",
       "      <td>0.245386</td>\n",
       "    </tr>\n",
       "    <tr>\n",
       "      <th>3</th>\n",
       "      <td>3</td>\n",
       "      <td>0.626799</td>\n",
       "      <td>0.328226</td>\n",
       "      <td>0.396418</td>\n",
       "      <td>0.137972</td>\n",
       "      <td>0.382243</td>\n",
       "      <td>0.201100</td>\n",
       "      <td>0.577277</td>\n",
       "    </tr>\n",
       "    <tr>\n",
       "      <th>4</th>\n",
       "      <td>4</td>\n",
       "      <td>0.374259</td>\n",
       "      <td>0.440460</td>\n",
       "      <td>0.767914</td>\n",
       "      <td>0.386424</td>\n",
       "      <td>0.422381</td>\n",
       "      <td>0.500546</td>\n",
       "      <td>0.494280</td>\n",
       "    </tr>\n",
       "  </tbody>\n",
       "</table>\n",
       "</div>"
      ],
      "text/plain": [
       "   Unnamed: 0         0         1         2         3         4         5  \\\n",
       "0           0  0.440839  0.724110  0.399215  0.154900  0.428612  0.414645   \n",
       "1           1  0.584255  0.330984  0.621441  0.340673  0.352770  0.324875   \n",
       "2           2  0.405081  0.209667  0.442319  0.660746  1.000000  0.595066   \n",
       "3           3  0.626799  0.328226  0.396418  0.137972  0.382243  0.201100   \n",
       "4           4  0.374259  0.440460  0.767914  0.386424  0.422381  0.500546   \n",
       "\n",
       "          6  \n",
       "0  0.871433  \n",
       "1  0.349341  \n",
       "2  0.245386  \n",
       "3  0.577277  \n",
       "4  0.494280  "
      ]
     },
     "execution_count": 41,
     "metadata": {},
     "output_type": "execute_result"
    }
   ],
   "source": [
    "topdf = pd.read_csv('top_r_t_HepG2.csv')\n",
    "topdf.head(5)\n"
   ]
  },
  {
   "cell_type": "code",
   "execution_count": 45,
   "metadata": {},
   "outputs": [
    {
     "data": {
      "text/plain": [
       "<matplotlib.image.AxesImage at 0x2e47e8e5640>"
      ]
     },
     "execution_count": 45,
     "metadata": {},
     "output_type": "execute_result"
    },
    {
     "data": {
      "image/png": "[encoded data removed]",
      "text/plain": [
       "<Figure size 1080x360 with 1 Axes>"
      ]
     },
     "metadata": {
      "needs_background": "light"
     },
     "output_type": "display_data"
    }
   ],
   "source": [
    "top = np.array(topdf)\n",
    "plt.imshow(top)"
   ]
  },
  {
   "cell_type": "code",
   "execution_count": 46,
   "metadata": {},
   "outputs": [
    {
     "data": {
      "text/plain": [
       "<matplotlib.image.AxesImage at 0x2e47e938ca0>"
      ]
     },
     "execution_count": 46,
     "metadata": {},
     "output_type": "execute_result"
    },
    {
     "data": {
      "image/png": "[encoded data removed]",
      "text/plain": [
       "<Figure size 1080x360 with 1 Axes>"
      ]
     },
     "metadata": {
      "needs_background": "light"
     },
     "output_type": "display_data"
    }
   ],
   "source": [
    "top = top[:,1:]\n",
    "plt.imshow(top)"
   ]
  },
  {
   "cell_type": "code",
   "execution_count": 47,
   "metadata": {},
   "outputs": [
    {
     "data": {
      "text/plain": [
       "1.0"
      ]
     },
     "execution_count": 47,
     "metadata": {},
     "output_type": "execute_result"
    }
   ],
   "source": [
    "np.max(top)"
   ]
  },
  {
   "cell_type": "code",
   "execution_count": 48,
   "metadata": {},
   "outputs": [
    {
     "data": {
      "image/png": "[encoded data removed]",
      "text/plain": [
       "<Figure size 1080x360 with 2 Axes>"
      ]
     },
     "metadata": {
      "needs_background": "light"
     },
     "output_type": "display_data"
    }
   ],
   "source": [
    "u = plt.imshow(top, cmap = 'inferno', vmin = 0, vmax = np.max(top));\n",
    "plt.colorbar(u ,fraction=0.026, pad=0.1, orientation='horizontal');\n",
    "plt.title(\"HepG2: Regulator-Target Combination Importance\");"
   ]
  },
  {
   "cell_type": "code",
   "execution_count": 49,
   "metadata": {},
   "outputs": [
    {
     "data": {
      "text/plain": [
       "array([[2, 4],\n",
       "       [6, 5],\n",
       "       [0, 6],\n",
       "       [4, 2],\n",
       "       [0, 1],\n",
       "       [2, 3],\n",
       "       [6, 0],\n",
       "       [3, 0],\n",
       "       [1, 2],\n",
       "       [2, 5],\n",
       "       [1, 0],\n",
       "       [3, 6],\n",
       "       [5, 1],\n",
       "       [6, 2],\n",
       "       [6, 4],\n",
       "       [4, 5],\n",
       "       [4, 6],\n",
       "       [6, 3],\n",
       "       [5, 4],\n",
       "       [2, 2],\n",
       "       [0, 0],\n",
       "       [4, 1],\n",
       "       [0, 4],\n",
       "       [4, 4],\n",
       "       [0, 5],\n",
       "       [2, 0],\n",
       "       [0, 2],\n",
       "       [3, 2],\n",
       "       [5, 3],\n",
       "       [6, 1],\n",
       "       [4, 3],\n",
       "       [3, 4],\n",
       "       [4, 0],\n",
       "       [5, 5],\n",
       "       [1, 4],\n",
       "       [1, 6],\n",
       "       [1, 3],\n",
       "       [1, 1],\n",
       "       [3, 1],\n",
       "       [1, 5],\n",
       "       [5, 6],\n",
       "       [2, 6],\n",
       "       [5, 0],\n",
       "       [5, 2],\n",
       "       [2, 1],\n",
       "       [3, 5],\n",
       "       [0, 3],\n",
       "       [3, 3],\n",
       "       [6, 6]], dtype=int64)"
      ]
     },
     "execution_count": 49,
     "metadata": {},
     "output_type": "execute_result"
    }
   ],
   "source": [
    "topID = np.array(np.unravel_index(np.argsort(top, axis=None), top.shape))\n",
    "topID = np.flip(topID, axis=1)\n",
    "topID[0] = parent_idx[topID[0]]\n",
    "topID = topID.T\n",
    "topID"
   ]
  },
  {
   "cell_type": "code",
   "execution_count": 51,
   "metadata": {},
   "outputs": [],
   "source": [
    "topR_T = pd.DataFrame(topID)\n",
    "topR_T.to_csv(\"DREAM4_Top_reg_target_decendingOrder_firstColIsRegulator.csv\")"
   ]
  },
  {
   "cell_type": "code",
   "execution_count": 58,
   "metadata": {},
   "outputs": [
    {
     "data": {
      "text/plain": [
       "array([2.94272166, 2.68992035, 2.25494707, 1.37376323, 2.70301308,\n",
       "       1.76816774, 2.24093457])"
      ]
     },
     "execution_count": 58,
     "metadata": {},
     "output_type": "execute_result"
    }
   ],
   "source": [
    "best = np.zeros(NUM_PARENTS)\n",
    "for i in range(NUM_PARENTS):\n",
    "    best[i] = np.sum(top[i])\n",
    "best"
   ]
  },
  {
   "cell_type": "code",
   "execution_count": 59,
   "metadata": {},
   "outputs": [
    {
     "data": {
      "image/png": "[encoded data removed]",
      "text/plain": [
       "<Figure size 1080x360 with 1 Axes>"
      ]
     },
     "metadata": {
      "needs_background": "light"
     },
     "output_type": "display_data"
    }
   ],
   "source": [
    "x = np.arange(0,NUM_PARENTS, dtype=int)\n",
    "plt.plot(x, best); "
   ]
  },
  {
   "cell_type": "code",
   "execution_count": 60,
   "metadata": {},
   "outputs": [
    {
     "data": {
      "text/plain": [
       "array([0, 4, 1, 2, 6, 5, 3], dtype=int64)"
      ]
     },
     "execution_count": 60,
     "metadata": {},
     "output_type": "execute_result"
    }
   ],
   "source": [
    "idx = np.flip(np.argsort(best))\n",
    "idx"
   ]
  },
  {
   "cell_type": "code",
   "execution_count": 61,
   "metadata": {},
   "outputs": [
    {
     "data": {
      "text/plain": [
       "array([0, 4, 1, 2, 6, 5, 3])"
      ]
     },
     "execution_count": 61,
     "metadata": {},
     "output_type": "execute_result"
    }
   ],
   "source": [
    "parent_idx[idx] "
   ]
  },
  {
   "cell_type": "code",
   "execution_count": 62,
   "metadata": {},
   "outputs": [
    {
     "data": {
      "text/plain": [
       "48"
      ]
     },
     "execution_count": 62,
     "metadata": {},
     "output_type": "execute_result"
    }
   ],
   "source": [
    "np.unique(can).size"
   ]
  },
  {
   "cell_type": "markdown",
   "metadata": {},
   "source": [
    "# Inference on Petal Len"
   ]
  },
  {
   "cell_type": "code",
   "execution_count": null,
   "metadata": {},
   "outputs": [],
   "source": [
    "petal = pd.read_excel(data_path_petal)"
   ]
  },
  {
   "cell_type": "code",
   "execution_count": null,
   "metadata": {},
   "outputs": [],
   "source": [
    "petal_train = petal[petal[\"Line\"] == \"WT\"]\n",
    "petal_train = petal_train.drop(columns=['Line', 'ID', \"Treatment\"])\n",
    "petal_train.head(12)\n",
    "petal_train = petal_train.groupby(['Plate']).mean()\n",
    "petal_train.head()\n",
    "petal_train = petal_train.to_numpy()\n",
    "print(petal_train.shape)\n",
    "scaler1 = StandardScaler()\n",
    "scaler1.fit(petal_train)\n",
    "petal_train = scaler1.transform(petal_train)\n",
    "mm = MinMaxScaler()\n",
    "mm.fit(petal_train)\n",
    "petal_train = mm.transform(petal_train)\n",
    "petal_train"
   ]
  },
  {
   "cell_type": "code",
   "execution_count": null,
   "metadata": {},
   "outputs": [],
   "source": [
    "petal_test = petal[petal[\"Line\"] != \"WT\"]\n",
    "petal_test = petal_test.drop(columns=['Line', 'ID', \"Treatment\"])\n",
    "petal_test = petal_test.groupby(['Plate']).mean()\n",
    "petal_test.head()\n",
    "petal_test = petal_test.to_numpy()\n",
    "print(petal_test.shape)\n",
    "petal_test = scaler1.transform(petal_test)\n",
    "petal_test = mm.transform(petal_test)\n",
    "petal_test"
   ]
  },
  {
   "cell_type": "code",
   "execution_count": null,
   "metadata": {},
   "outputs": [],
   "source": [
    "experiment1.shape\n",
    "testCandidate.shape"
   ]
  },
  {
   "cell_type": "code",
   "execution_count": null,
   "metadata": {},
   "outputs": [],
   "source": [
    "densePredictor = modelDense2(superParent, regulator_gene_matrix, NUM_TARGETS, 6, NUM_TARGETS, 22)\n",
    "densePredictor.compile(optimizer='adam', loss=ignore_noParent_MSE)\n",
    "densePredictor.fit(beanIntensities, beanIntensities,validation_data=(experiment1, experiment1),  epochs=100,  verbose=1)\n",
    "test = densePredictor(testCandidate) #, verbose = 0)\n",
    "loss = ignore_noParent_MSE(testCandidate, test)\n",
    "print(loss)"
   ]
  },
  {
   "cell_type": "code",
   "execution_count": null,
   "metadata": {},
   "outputs": [],
   "source": [
    "rgm = superParent\n",
    "time_steps = 6\n",
    "num_kinase_regulators = NUM_TARGETS\n",
    "num_hidden_units = 22\n",
    "\n",
    "inp = Input(shape=(time_steps, num_kinase_regulators))\n",
    "x = DenseEncoderLinear2(rgm, regulator_gene_matrix, NUM_TARGETS, NUM_TARGETS)(inp)\n",
    "enc = denseencoder2(x, inp, num_hidden_units)\n",
    "denseP = tf.keras.Model(inputs=inp, outputs=enc)\n",
    "#set the weights of the encoder to the weights of auto encoder\n",
    "dw = densePredictor.get_weights()\n",
    "enc_w = dw[0:5]\n",
    "denseP.set_weights(enc_w)\n",
    "#add a dense layer  because we are ouputing 1 number\n",
    "l = Dense(32, activation = 'swish', use_bias=True, kernel_regularizer='l1_l2')(denseP.layers[-1].output)\n",
    "l = Dense(1, activation = 'linear', use_bias = True)(l)\n",
    "denseP = tf.keras.Model(denseP.inputs, l)\n",
    "#denseP.summary()"
   ]
  },
  {
   "cell_type": "code",
   "execution_count": null,
   "metadata": {},
   "outputs": [],
   "source": [
    "bp = np.concatenate([experiment1, experiment1, experiment1, experiment1])\n",
    "bp.shape\n",
    "#bigexperiment1.shape"
   ]
  },
  {
   "cell_type": "code",
   "execution_count": null,
   "metadata": {},
   "outputs": [],
   "source": [
    "a = petal_train[0]\n",
    "b = petal_train[1]\n",
    "c = petal_train[2]\n",
    "d = petal_train[3]\n",
    "\n",
    "petal_train1 = np.array([a,a,a,a, b,b,b,b, c,c,c,c, d,d,d,d]) #does this make sense? we are training network to predict .5\n",
    "petal_train1.shape"
   ]
  },
  {
   "cell_type": "code",
   "execution_count": null,
   "metadata": {},
   "outputs": [],
   "source": [
    "denseP.compile(optimizer='adam', loss=tf.keras.losses.MeanSquaredError())\n",
    "denseP.fit(experiment1, petal_train, epochs=500, verbose = 1)"
   ]
  },
  {
   "cell_type": "code",
   "execution_count": null,
   "metadata": {},
   "outputs": [],
   "source": [
    "testCandidate.shape"
   ]
  },
  {
   "cell_type": "code",
   "execution_count": null,
   "metadata": {},
   "outputs": [],
   "source": [
    "denseP(experiment1) #experiment1 is part of the training set."
   ]
  },
  {
   "cell_type": "code",
   "execution_count": null,
   "metadata": {},
   "outputs": [],
   "source": [
    "petal_train"
   ]
  },
  {
   "cell_type": "code",
   "execution_count": null,
   "metadata": {},
   "outputs": [],
   "source": [
    "print(denseP(testCandidate)) #model output"
   ]
  },
  {
   "cell_type": "code",
   "execution_count": null,
   "metadata": {},
   "outputs": [],
   "source": [
    "petal_test #true label"
   ]
  },
  {
   "cell_type": "code",
   "execution_count": null,
   "metadata": {},
   "outputs": [],
   "source": [
    "petal_train"
   ]
  },
  {
   "cell_type": "code",
   "execution_count": null,
   "metadata": {},
   "outputs": [],
   "source": [
    "denseP.evaluate(testCandidate, petal_test) #eval gave 1.3999 before"
   ]
  },
  {
   "cell_type": "markdown",
   "metadata": {},
   "source": [
    "# Junk"
   ]
  },
  {
   "cell_type": "markdown",
   "metadata": {},
   "source": [
    "# Load the test set and the synthetic dataset:\n"
   ]
  },
  {
   "cell_type": "code",
   "execution_count": null,
   "metadata": {},
   "outputs": [],
   "source": [
    "def loadTestSet(test_path):\n",
    "    testFiles = []\n",
    "    for np_name in glob(os.path.join(data_path_testSet,'*.np[yz]')):\n",
    "        k = np.load(os.path.join(data_path_testSet,np_name))\n",
    "        testFiles.append(k)\n",
    "#         print(np_name)\n",
    "#         print(k.shape)\n",
    "    return np.array(testFiles)"
   ]
  },
  {
   "cell_type": "code",
   "execution_count": null,
   "metadata": {
    "id": "_PKjzdFCMwFg"
   },
   "outputs": [],
   "source": [
    "def read_files(data_path):\n",
    "\n",
    "    #genes_intensities_data_matrix = pd.read_csv(file_path_intensities, index_col = 0)\n",
    "    #print(os.listdir(data_path))\n",
    "    replicate_files = os.listdir(data_path)\n",
    "    #print('replicate files:',replicate_files)\n",
    "    replicates = []\n",
    "    # i = 0\n",
    "    for file in replicate_files:\n",
    "        \n",
    "        try:\n",
    "            #print('file name:',file)\n",
    "            #print('value of i:',i)\n",
    "            genes_intensities_data_matrix = pd.read_csv(os.path.join(data_path , file), index_col = 0, on_bad_lines='skip')\n",
    "            #print('genes_intensities_data_matrix:',  genes_intensities_data_matrix.head())\n",
    "            replicates.append(np.array(genes_intensities_data_matrix.values, dtype = float))\n",
    "            # i+=1\n",
    "        except PermissionError:\n",
    "            print(\"Not a CSV: \", os.path.join(data_path , file))\n",
    "        \n",
    "    genes_intensities_data_matrix = genes_intensities_data_matrix.values\n",
    "    rgm = np.loadtxt(matrix_path)\n",
    "    rep = np.array(replicates).astype(np.float32)\n",
    "    \n",
    "    return rep, rgm.astype(np.float32)"
   ]
  },
  {
   "cell_type": "code",
   "execution_count": null,
   "metadata": {
    "id": "JCwo4LwlO_FF"
   },
   "outputs": [],
   "source": [
    "beanIntensities, regulator_gene_matrix= read_files(data_path_syn)\n",
    "matrix = regulator_gene_matrix\n",
    "replicates = beanIntensities"
   ]
  },
  {
   "cell_type": "code",
   "execution_count": null,
   "metadata": {},
   "outputs": [],
   "source": [
    "matrix.shape"
   ]
  },
  {
   "cell_type": "code",
   "execution_count": null,
   "metadata": {},
   "outputs": [],
   "source": [
    "replicates.shape"
   ]
  },
  {
   "cell_type": "code",
   "execution_count": null,
   "metadata": {},
   "outputs": [],
   "source": [
    "plt.imshow(matrix)"
   ]
  },
  {
   "cell_type": "code",
   "execution_count": null,
   "metadata": {},
   "outputs": [],
   "source": []
  },
  {
   "cell_type": "code",
   "execution_count": null,
   "metadata": {},
   "outputs": [],
   "source": [
    "d = np.zeros(shape = (3,6,8))\n",
    "id = np.unravel_index(3*6*8 - 1, shape = d.shape)\n",
    "d[id] = 1\n",
    "plt.imshow(d[2])"
   ]
  },
  {
   "cell_type": "code",
   "execution_count": null,
   "metadata": {},
   "outputs": [],
   "source": [
    "testCandidate[0][ : , parentIndex]"
   ]
  },
  {
   "cell_type": "code",
   "execution_count": null,
   "metadata": {},
   "outputs": [],
   "source": [
    "print(outSyn.shape)\n",
    "print(testCandidate.shape)\n",
    "syntheticLoss = ignore_noParent_MSE(np.array([testCandidate[0]]), np.array([outSyn[0]]) )\n",
    "syntheticLoss"
   ]
  },
  {
   "cell_type": "code",
   "execution_count": null,
   "metadata": {},
   "outputs": [],
   "source": [
    "dd"
   ]
  },
  {
   "cell_type": "code",
   "execution_count": null,
   "metadata": {},
   "outputs": [],
   "source": [
    "plt.plot(change[0][22])\n",
    "plt.xlabel(\"epoch\")\n",
    "plt.ylabel(\"change in weight\")"
   ]
  },
  {
   "cell_type": "code",
   "execution_count": null,
   "metadata": {},
   "outputs": [],
   "source": [
    "plt.plot(lossMatrix)\n",
    "plt.xlabel(\"epochs\")\n",
    "plt.ylabel(\"MSE\")"
   ]
  },
  {
   "cell_type": "code",
   "execution_count": null,
   "metadata": {},
   "outputs": [],
   "source": [
    "print(change.shape, lossMatrix.shape)"
   ]
  },
  {
   "cell_type": "code",
   "execution_count": null,
   "metadata": {},
   "outputs": [],
   "source": [
    "d = np.diff(change[0][22])\n",
    "plt.plot(d)\n",
    "d.shape"
   ]
  },
  {
   "cell_type": "code",
   "execution_count": null,
   "metadata": {},
   "outputs": [],
   "source": [
    "change[0][0].flatten()"
   ]
  },
  {
   "cell_type": "code",
   "execution_count": null,
   "metadata": {},
   "outputs": [],
   "source": [
    "top_pr.shape"
   ]
  },
  {
   "cell_type": "code",
   "execution_count": null,
   "metadata": {},
   "outputs": [],
   "source": [
    "plt.plot(d[0])"
   ]
  },
  {
   "cell_type": "code",
   "execution_count": null,
   "metadata": {},
   "outputs": [],
   "source": [
    "\n",
    "# def compute_tresh(change, stop = 0.05):\n",
    "#     diffs = []\n",
    "#     for parent in range(len(change)):\n",
    "#         for child in range(len(change[0])):\n",
    "#             diffs.append(np.diff(change[parent][child]))\n",
    "#     inflection = []\n",
    "\n",
    "\n",
    "#     try:\n",
    "#         for d in diffs:\n",
    "#             print(np.argwhere(np.abs(d) < stop))\n",
    "#             inflection.append(np.min(np.argwhere(np.abs(d) < stop))) #return where the second derivative is first 0. \n",
    "\n",
    "#     except ValueError:\n",
    "#         print(\"Stop value \", stop, \" is too high, trying stop = \", stop + 0.05)\n",
    "#         # s = stop + 0.05\n",
    "#         # return compute_tresh(change, stop = s)\n",
    "        \n",
    "\n",
    "#     return np.average(inflection)\n",
    "        \n",
    "# d = compute_tresh(change)\n",
    "# d.shape"
   ]
  },
  {
   "cell_type": "code",
   "execution_count": null,
   "metadata": {},
   "outputs": [],
   "source": [
    "#np.save(\"mse3.npy\", avgMSE) #mse2/3 is with -1 fix"
   ]
  },
  {
   "cell_type": "code",
   "execution_count": null,
   "metadata": {},
   "outputs": [],
   "source": [
    "#https://www.sciencedirect.com/science/article/pii/S0925231220314570?casa_token=lcEJANqO0JwAAAAA:uL3DGUZctPUZz_sPz1K1i2klMtb83TyKnc9CI3_N-uSOaM7VHL8GhM0jCGYfo25NmpDQQ9Cvlw"
   ]
  },
  {
   "cell_type": "code",
   "execution_count": null,
   "metadata": {},
   "outputs": [],
   "source": [
    "rshp = Flatten()(looseParent.layers[-1].output)\n",
    "\n",
    "modelTemp = tf.keras.Model(inputs=looseParent.input, outputs = [rshp])\n",
    "modelTemp.summary()\n",
    "type(modelTemp)\n",
    "explainer = shap.DeepExplainer(modelTemp, syntheticDataTrain)\n",
    "#shap.explainers._deep.deep_tf.op_handlers[\"AddV2\"] = shap.explainers._deep.deep_tf.passthrough #this solves the \"shap_ADDV2\" problem but another one will appear\n",
    "#shap.explainers._deep.deep_tf.op_handlers[\"FusedBatchNormV3\"] = shap.explainers._deep.deep_tf.passthrough #this solves the next problem which allows you to run the DeepExplainer.\n",
    "\n",
    "shap_values = explainer.shap_values(testCandidate[0:1])\n",
    "def f(x):\n",
    "    return modelTemp.predict(x)\n",
    "\n",
    "print(f(testCandidate))\n",
    "explainer = shap.KernelExplainer(f , testCandidate[0:1], link=\"logit\") #svm.predict_proba, X_train, link=\"logit\")\n",
    "shap_values = explainer.shap_values(testCandidate[0:1], nsamples=100)\n",
    "def map2layer(x, layer):\n",
    "    feed_dict = dict(zip([model.layers[0].input], [preprocess_input(x.copy())]))\n",
    "    return K.get_session().run(model.layers[layer].input, feed_dict)\n",
    "e = shap.GradientExplainer(\n",
    "    (model.layers[7].input, model.layers[-1].output),\n",
    "    map2layer(X, 7),\n",
    "    local_smoothing=0 # std dev of smoothing noise\n",
    ")\n",
    "from keras.applications.vgg16 import VGG16\n",
    "from keras.applications.vgg16 import preprocess_input\n",
    "import keras.backend as K\n",
    "import numpy as np\n",
    "import json\n",
    "import shap\n",
    "\n",
    "# load pre-trained model and choose two images to explain\n",
    "model = VGG16(weights='imagenet', include_top=True)\n",
    "X,y = shap.datasets.imagenet50()\n",
    "to_explain = X[[39,41]]\n",
    "\n",
    "# load the ImageNet class names\n",
    "url = \"https://s3.amazonaws.com/deep-learning-models/image-models/imagenet_class_index.json\"\n",
    "fname = shap.datasets.cache(url)\n",
    "with open(fname) as f:\n",
    "    class_names = json.load(f)\n",
    "\n",
    "# explain how the input to the 7th layer of the model explains the top two classes\n",
    "def map2layer(x, layer):\n",
    "    feed_dict = dict(zip([model.layers[0].input], [preprocess_input(x.copy())]))\n",
    "    return K.get_session().run(model.layers[layer].input, feed_dict)\n",
    "e = shap.GradientExplainer(\n",
    "    (model.layers[7].input, model.layers[-1].output),\n",
    "    map2layer(X, 7),\n",
    "    local_smoothing=0 # std dev of smoothing noise\n",
    ")\n",
    "shap_values,indexes = e.shap_values(map2layer(to_explain, 7), ranked_outputs=2)\n",
    "\n",
    "# get the names for the classes\n",
    "index_names = np.vectorize(lambda x: class_names[str(x)][1])(indexes)\n",
    "\n",
    "# plot the explanations\n",
    "shap.image_plot(shap_values, to_explain, index_names)"
   ]
  },
  {
   "cell_type": "code",
   "execution_count": null,
   "metadata": {},
   "outputs": [],
   "source": [
    "type(enc_dec_Synthetic)"
   ]
  },
  {
   "cell_type": "code",
   "execution_count": null,
   "metadata": {},
   "outputs": [],
   "source": [
    "a = [1,2,3]\n",
    "b = [5,6]\n",
    "u = tf.concat([a,b], axis = 0)\n",
    "u"
   ]
  },
  {
   "cell_type": "code",
   "execution_count": null,
   "metadata": {},
   "outputs": [],
   "source": [
    "newConnections = superParent - regulator_gene_matrix"
   ]
  },
  {
   "cell_type": "code",
   "execution_count": null,
   "metadata": {},
   "outputs": [],
   "source": [
    "plt.imshow(newConnections)"
   ]
  },
  {
   "cell_type": "code",
   "execution_count": null,
   "metadata": {},
   "outputs": [],
   "source": [
    "# nC = []\n",
    "# for i in range(len(newConnections[0])):\n",
    "#     for j in range(len(newConnections[1])):\n",
    "#         if newConnections[i][j] > 0:\n",
    "#             nC.append([i,j])\n",
    "# nC = np.array(nC)\n",
    "# nC = pd.DataFrame(nC)\n",
    "# nC.to_csv(\"new_connections_in_superParents.csv\")"
   ]
  },
  {
   "cell_type": "code",
   "execution_count": null,
   "metadata": {},
   "outputs": [],
   "source": []
  },
  {
   "cell_type": "code",
   "execution_count": null,
   "metadata": {},
   "outputs": [],
   "source": []
  },
  {
   "cell_type": "code",
   "execution_count": null,
   "metadata": {},
   "outputs": [],
   "source": [
    "###Code for testing loss function\n",
    "# print(outSyn.shape)\n",
    "# print(testCandidate.shape)\n",
    "# syntheticLoss = ignore_noParent_MSE(np.array([testCandidate[0]]), np.array([outSyn[0]]) )\n",
    "# syntheticLoss"
   ]
  },
  {
   "cell_type": "markdown",
   "metadata": {},
   "source": [
    "# Synthetic Dataset Auto Encoder\n",
    "Autoencoder has not been trained on synthetic version of experiement 1. We test on the original experiment 1. "
   ]
  },
  {
   "cell_type": "code",
   "execution_count": null,
   "metadata": {
    "id": "WrRuJ_bsrHll"
   },
   "outputs": [],
   "source": [
    "enc_dec_Synthetic.compile(optimizer='adam', loss=ignore_noParent_MSE)"
   ]
  },
  {
   "cell_type": "code",
   "execution_count": null,
   "metadata": {
    "id": "yAOZEEvRRVU4"
   },
   "outputs": [],
   "source": [
    "# enc_dec_Synthetic.compile(optimizer='adam',loss = keras.losses.SparseCategoricalCrossentropy(from_logits=True))"
   ]
  },
  {
   "cell_type": "code",
   "execution_count": null,
   "metadata": {},
   "outputs": [],
   "source": [
    "syntheticDataTrain = beanIntensities[1:]"
   ]
  },
  {
   "cell_type": "code",
   "execution_count": null,
   "metadata": {
    "colab": {
     "base_uri": "https://localhost:8080/"
    },
    "executionInfo": {
     "elapsed": 726,
     "status": "ok",
     "timestamp": 1649273035573,
     "user": {
      "displayName": "Sahil Anish Palarpwar",
      "userId": "17757512684560375750"
     },
     "user_tz": 240
    },
    "id": "EuNDZx5Ov34I",
    "outputId": "74597aa1-c71c-4491-b8c9-4fefed309325"
   },
   "outputs": [],
   "source": [
    "enc_dec_Synthetic.fit(syntheticDataTrain,syntheticDataTrain,epochs=1000)"
   ]
  },
  {
   "cell_type": "code",
   "execution_count": null,
   "metadata": {},
   "outputs": [],
   "source": [
    "test = enc_dec_Synthetic(testCandidate) #, verbose = 0)\n",
    "loss = ignore_noParent_MSE(testCandidate, test)\n",
    "loss"
   ]
  },
  {
   "cell_type": "code",
   "execution_count": null,
   "metadata": {},
   "outputs": [],
   "source": [
    "w = enc_dec_Synthetic.get_weights()"
   ]
  },
  {
   "cell_type": "code",
   "execution_count": null,
   "metadata": {},
   "outputs": [],
   "source": [
    "plt.imshow(w[0], cmap = \"hot\", vmin=0,vmax=0.02)"
   ]
  },
  {
   "cell_type": "code",
   "execution_count": null,
   "metadata": {
    "id": "SBzDmjqJViEw",
    "scrolled": true
   },
   "outputs": [],
   "source": [
    "#we do not need to use this function for the testset\n",
    "def getCSVs(data_path_head):\n",
    "    PATH = data_path_head\n",
    "    EXT = \"*.csv\"\n",
    "    all_csv_files = [file\n",
    "                     for path, subdir, files in os.walk(PATH)\n",
    "                     for file in glob(os.path.join(path, EXT))]\n",
    "    actual = []\n",
    "    for p in all_csv_files:\n",
    "        actual.append(pd.read_csv(p, index_col = 0).to_numpy())\n",
    "    return np.array(actual)\n",
    "    \n",
    "experiment1 = getCSVs(data_path_og_exp1)"
   ]
  },
  {
   "cell_type": "code",
   "execution_count": null,
   "metadata": {},
   "outputs": [],
   "source": [
    "testCandidate = test.numpy().astype(np.float)"
   ]
  },
  {
   "cell_type": "code",
   "execution_count": null,
   "metadata": {},
   "outputs": [],
   "source": [
    "testCandidate.dtype"
   ]
  },
  {
   "cell_type": "code",
   "execution_count": null,
   "metadata": {},
   "outputs": [],
   "source": [
    "np.array([beanIntensities[0]]).shape"
   ]
  },
  {
   "cell_type": "code",
   "execution_count": null,
   "metadata": {},
   "outputs": [],
   "source": [
    "testCandidate[0].shape"
   ]
  },
  {
   "cell_type": "code",
   "execution_count": null,
   "metadata": {},
   "outputs": [],
   "source": [
    "np.array([beanIntensities[0]]).shape"
   ]
  },
  {
   "cell_type": "code",
   "execution_count": null,
   "metadata": {},
   "outputs": [],
   "source": [
    "outSyn = enc_dec_Synthetic.predict(testCandidate)"
   ]
  },
  {
   "cell_type": "code",
   "execution_count": null,
   "metadata": {},
   "outputs": [],
   "source": [
    "def mymagn(A, B):\n",
    "    mse = (np.square(A - B)).mean(axis=None)\n",
    "    return mse"
   ]
  },
  {
   "cell_type": "code",
   "execution_count": null,
   "metadata": {},
   "outputs": [],
   "source": [
    "print(outSyn.shape)"
   ]
  },
  {
   "cell_type": "code",
   "execution_count": null,
   "metadata": {},
   "outputs": [],
   "source": [
    "syntheticLoss = ignore_noParent_MSE(testCandidate, outSyn )\n",
    "syntheticLoss"
   ]
  },
  {
   "cell_type": "code",
   "execution_count": null,
   "metadata": {},
   "outputs": [],
   "source": [
    "(outSyn-testCandidate).shape"
   ]
  },
  {
   "cell_type": "code",
   "execution_count": null,
   "metadata": {},
   "outputs": [],
   "source": [
    "#!pip3 install keras-visualizer\n",
    "#!pip install pydot\n",
    "#data_path_og_exp1 = data_path_testSet \n",
    "# !pip install pydot\n",
    "# !pip install pydotplus\n",
    "# !pip install graphviz"
   ]
  },
  {
   "cell_type": "code",
   "execution_count": null,
   "metadata": {},
   "outputs": [],
   "source": [
    "# test = loadTestSet(data_path_testSet)\n",
    "# testCandidate = test.astype(np.float)\n"
   ]
  },
  {
   "cell_type": "code",
   "execution_count": null,
   "metadata": {
    "id": "nPRV0OAMpKPH"
   },
   "outputs": [],
   "source": [
    "enc_dec_Synthetic = model(regulator_gene_matrix, NUM_TARGETS, NUM_TIME_STEPS, NUM_TARGETS) #we can just change the time steps to something higher"
   ]
  },
  {
   "cell_type": "code",
   "execution_count": null,
   "metadata": {
    "colab": {
     "base_uri": "https://localhost:8080/"
    },
    "executionInfo": {
     "elapsed": 13,
     "status": "ok",
     "timestamp": 1649273028683,
     "user": {
      "displayName": "Sahil Anish Palarpwar",
      "userId": "17757512684560375750"
     },
     "user_tz": 240
    },
    "id": "D6aPT5_cpKK0",
    "outputId": "c261d824-0f38-4eee-b139-f03a80f093e1"
   },
   "outputs": [],
   "source": [
    "enc_dec_Synthetic.summary()"
   ]
  },
  {
   "cell_type": "markdown",
   "metadata": {},
   "source": [
    "# Interpolated dataset Auto Encoder\n",
    "Once again, we do not train on any version of exp1"
   ]
  },
  {
   "cell_type": "code",
   "execution_count": null,
   "metadata": {},
   "outputs": [],
   "source": [
    "def read_filesV2(data_path):\n",
    "    '''\n",
    "    *Changed*\n",
    "    currently hardcoded for only one file. \n",
    "    change code a bit for reading multiple files.\n",
    "    '''\n",
    "    #genes_intensities_data_matrix = pd.read_csv(file_path_intensities, index_col = 0)\n",
    "    #print(os.listdir(data_path))\n",
    "    replicate_files = os.listdir(data_path)\n",
    "    #print('replicate files:',replicate_files)\n",
    "    replicates = []\n",
    "    # i = 0\n",
    "    for file in replicate_files:\n",
    "        \n",
    "        #print('file name:',file)\n",
    "        #print('value of i:',i)\n",
    "        genes_intensities_data_matrix = pd.read_csv(os.path.join(data_path , file), index_col = 0, on_bad_lines='skip')\n",
    "        #print('genes_intensities_data_matrix:',  genes_intensities_data_matrix.head())\n",
    "        replicates.append(genes_intensities_data_matrix.values)\n",
    "        # i+=1\n",
    "        \n",
    "    genes_intensities_data_matrix = genes_intensities_data_matrix.values\n",
    "    rgm = np.loadtxt(matrix_path)\n",
    "    \n",
    "    return np.asarray(replicates), rgm.astype(np.float32)"
   ]
  },
  {
   "cell_type": "code",
   "execution_count": null,
   "metadata": {},
   "outputs": [],
   "source": [
    "interpolated_genes, _ = read_filesV2(data_path_inter)"
   ]
  },
  {
   "cell_type": "code",
   "execution_count": null,
   "metadata": {},
   "outputs": [],
   "source": [
    "interpolated_genes.shape"
   ]
  },
  {
   "cell_type": "code",
   "execution_count": null,
   "metadata": {},
   "outputs": [],
   "source": [
    "pd.DataFrame(interpolated_genes[2]).head(5)"
   ]
  },
  {
   "cell_type": "code",
   "execution_count": null,
   "metadata": {},
   "outputs": [],
   "source": [
    "inter = []\n",
    "for k in range(len(interpolated_genes)):\n",
    "    #print(k)\n",
    "    if k == 2 or k == 3 or k == 4:\n",
    "        inter.append(np.reshape(interpolated_genes[k], (4,6,NUM_TARGETS)))\n",
    "    else: \n",
    "        inter.append(np.reshape(interpolated_genes[k], (5,6,NUM_TARGETS)))\n",
    "inter = np.vstack(inter)"
   ]
  },
  {
   "cell_type": "code",
   "execution_count": null,
   "metadata": {},
   "outputs": [],
   "source": [
    "inter.shape"
   ]
  },
  {
   "cell_type": "code",
   "execution_count": null,
   "metadata": {},
   "outputs": [],
   "source": [
    "beanIntensities[1:].shape"
   ]
  },
  {
   "cell_type": "code",
   "execution_count": null,
   "metadata": {},
   "outputs": [],
   "source": [
    "enc_dec_inter = model(regulator_gene_matrix, NUM_TARGETS, 6, NUM_TARGETS) \n",
    "enc_dec_inter.compile(optimizer='adam', loss=ignore_noParent_MSE)"
   ]
  },
  {
   "cell_type": "code",
   "execution_count": null,
   "metadata": {},
   "outputs": [],
   "source": [
    "enc_dec_inter.fit(inter, inter,epochs=1000);"
   ]
  },
  {
   "cell_type": "code",
   "execution_count": null,
   "metadata": {},
   "outputs": [],
   "source": [
    "outInter = enc_dec_inter.predict(testCandidate)\n",
    "interpolationLoss = ignore_noParent_MSE(testCandidate, outInter)"
   ]
  },
  {
   "cell_type": "code",
   "execution_count": null,
   "metadata": {},
   "outputs": [],
   "source": [
    "interpolationLoss #used to be 3.84 on broke ignore"
   ]
  },
  {
   "cell_type": "code",
   "execution_count": null,
   "metadata": {},
   "outputs": [],
   "source": [
    "outInter.shape"
   ]
  },
  {
   "cell_type": "code",
   "execution_count": null,
   "metadata": {},
   "outputs": [],
   "source": [
    "u = enc_dec_inter.history\n",
    "u"
   ]
  },
  {
   "cell_type": "markdown",
   "metadata": {},
   "source": [
    "# Comparisons between various outputs:"
   ]
  },
  {
   "cell_type": "code",
   "execution_count": null,
   "metadata": {},
   "outputs": [],
   "source": [
    "u = plt.imshow(np.reshape((np.abs(outSyn)), (24,NUM_TARGETS)), cmap = \"hot\", vmin=0,vmax=1.0 );"
   ]
  },
  {
   "cell_type": "code",
   "execution_count": null,
   "metadata": {},
   "outputs": [],
   "source": [
    "u = pd.DataFrame(outSyn[0])\n",
    "u.head(10)"
   ]
  },
  {
   "cell_type": "code",
   "execution_count": null,
   "metadata": {},
   "outputs": [],
   "source": [
    "u = pd.DataFrame(testCandidate[0])\n",
    "u.head(10)"
   ]
  },
  {
   "cell_type": "code",
   "execution_count": null,
   "metadata": {
    "scrolled": true
   },
   "outputs": [],
   "source": [
    "plt.figure(figsize=(50, 50))\n",
    "u = plt.imshow(np.reshape((np.abs(outSyn-outInter)), (24,NUM_TARGETS)), cmap = \"hot\")#, vmin=0,vmax=1.0 );\n",
    "plt.title(\"Difference Between the Outputs of Both Autoencoders\", fontsize = 40);\n",
    "plt.xlabel(\"Phosphopeptide\", fontsize = 30);\n",
    "plt.ylabel(\"Times Concatenated\", fontsize = 30);\n",
    "plt.colorbar(u ,fraction=0.0046, pad=0.02);\n",
    "#plt.savefig(\"DiffBetweenOut.png\")"
   ]
  },
  {
   "cell_type": "code",
   "execution_count": null,
   "metadata": {},
   "outputs": [],
   "source": [
    "plt.figure(figsize=(50, 50))\n",
    "u = plt.imshow(np.reshape(np.abs(outInter-experiment1), (24,NUM_TARGETS)) , cmap = \"hot\") #, vmin=0,vmax=1.0 )\n",
    "plt.title(\"Difference Between the Input and Output of the Autoencoder Trained on Interpolated Data\", fontsize = 40);\n",
    "plt.xlabel(\"Phosphopeptide\", fontsize = 30)\n",
    "plt.ylabel(\"Times Concatenated\", fontsize = 30);\n",
    "plt.colorbar(u ,fraction=0.0046, pad=0.02);\n",
    "#plt.savefig(\"InterDiffImage.png\")"
   ]
  },
  {
   "cell_type": "code",
   "execution_count": null,
   "metadata": {},
   "outputs": [],
   "source": [
    "plt.figure(figsize=(50, 50))\n",
    "u = plt.imshow(np.reshape(np.abs(outSyn-experiment1), (24,NUM_TARGETS)), cmap = \"hot\")#, vmin=0,vmax=1.0 )\n",
    "plt.title(\"Difference Between the Input and Output of the Autoencoder Trained on Synthetic Data\", fontsize = 40);\n",
    "plt.xlabel(\"Phosphopeptide\", fontsize = 30);\n",
    "plt.ylabel(\"Times Concatenated\", fontsize = 30);\n",
    "plt.colorbar(u ,fraction=0.0046, pad=0.02);\n",
    "#plt.savefig(\"SynDiffImage.png\");"
   ]
  },
  {
   "cell_type": "code",
   "execution_count": null,
   "metadata": {},
   "outputs": [],
   "source": [
    "parent_idx = parentIndex.numpy()\n",
    "#print(parent_idx)\n",
    "oSyn = (np.reshape((outSyn), (24,NUM_TARGETS)).T)[parent_idx]\n",
    "oSyn = oSyn.T\n",
    "oSyn.shape\n",
    "\n",
    "exp1_col = (np.reshape((experiment1), (24,NUM_TARGETS)).T)[parent_idx]\n",
    "exp1_col = exp1_col.T\n",
    "print(exp1_col.shape)\n",
    "\n",
    "u = plt.imshow(np.abs(oSyn - exp1_col), cmap = 'hot') #TODO use TF loss function instead of difference.\n",
    "ddff = oSyn-exp1_col\n",
    "plt.colorbar(u)\n",
    "plt.title(\"Difference Between the Input and Output of the Autoencoder Trained on Synthetic Data. Only parents.\");"
   ]
  },
  {
   "cell_type": "code",
   "execution_count": null,
   "metadata": {},
   "outputs": [],
   "source": [
    "pd.DataFrame(oSyn).head(24)"
   ]
  },
  {
   "cell_type": "code",
   "execution_count": null,
   "metadata": {},
   "outputs": [],
   "source": [
    "pd.DataFrame(exp1_col).head(24)\n"
   ]
  },
  {
   "cell_type": "code",
   "execution_count": null,
   "metadata": {},
   "outputs": [],
   "source": [
    "pd.DataFrame(ddff).head(24)\n"
   ]
  },
  {
   "cell_type": "code",
   "execution_count": null,
   "metadata": {},
   "outputs": [],
   "source": [
    "# np.save(\"interpolated_v2.npy\", inter) #the interpolated dataset\n",
    "# np.save(\"synthetic_v2.npy\", beanIntensities[1:]) # the synthetic dataset\n",
    "# np.save(\"synOut_v2.npy\", outSyn) #the output of the encoder trained on synthetic data with the input being exp1\n",
    "# np.save(\"interOut_v2.npy\", outInter) #the output of the encoder trained on interpolated data with the input being exp1"
   ]
  },
  {
   "cell_type": "code",
   "execution_count": null,
   "metadata": {},
   "outputs": [],
   "source": []
  }
 ],
 "metadata": {
  "colab": {
   "authorship_tag": "ABX9TyM6J5QSynTTgZ+lFOhgOtAG",
   "collapsed_sections": [],
   "name": "cnn-third.ipynb",
   "provenance": [
    {
     "file_id": "1mmRxO5jnBc5CdzxXj8sMtPpG0BQ0ulSs",
     "timestamp": 1648921397876
    },
    {
     "file_id": "10758zFj2UnTnwpQaSFIr5r9MqZWdiMsf",
     "timestamp": 1648674775255
    }
   ]
  },
  "kernelspec": {
   "display_name": "Python 3.9.12 ('base')",
   "language": "python",
   "name": "python3"
  },
  "language_info": {
   "codemirror_mode": {
    "name": "ipython",
    "version": 3
   },
   "file_extension": ".py",
   "mimetype": "text/x-python",
   "name": "python",
   "nbconvert_exporter": "python",
   "pygments_lexer": "ipython3",
   "version": "3.9.12 (main, Apr  4 2022, 05:22:27) [MSC v.1916 64 bit (AMD64)]"
  },
  "vscode": {
   "interpreter": {
    "hash": "ad2bdc8ecc057115af97d19610ffacc2b4e99fae6737bb82f5d7fb13d2f2c186"
   }
  }
 },
 "nbformat": 4,
 "nbformat_minor": 1
}
