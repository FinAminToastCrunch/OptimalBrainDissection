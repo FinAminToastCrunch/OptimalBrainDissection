{
 "cells": [
  {
   "cell_type": "code",
   "execution_count": 1,
   "metadata": {},
   "outputs": [],
   "source": [
    "#!jt -t chesterish\n"
   ]
  },
  {
   "cell_type": "markdown",
   "metadata": {},
   "source": [
    "Dorrit0, dorrit1, jelle0, night0, night1"
   ]
  },
  {
   "cell_type": "code",
   "execution_count": 15,
   "metadata": {
    "id": "gXpISOijEYqQ"
   },
   "outputs": [],
   "source": [
    "data_path_old = r\"C:\\Users\\Fin Amin\\Desktop/\\StemCellResearch\\datasets_Sahil_preprocessed_final-20220525T021621Z-001\\datasets_Sahil_preprocessed_final\\exp1\"\n",
    "matrix_path = \"regulator-gene-matrix.csv\"\n",
    "data_path_syn = r\"C:\\Users\\Fin Amin\\Desktop\\StemCellResearch\\Fin_preProcessed\\synData\"\n",
    "data_path_inter =  r\"C:\\Users\\Fin Amin\\Desktop\\StemCellResearch\\Fin_preProcessed\\interpolatedOnly\"\n",
    "data_path_og_exp1 = r\"C:\\Users\\Fin Amin\\Desktop\\StemCellResearch\\Fin_preProcessed\\datasets\\exp1\"\n",
    "data_path_testSet = r\"C:\\Users\\Fin Amin\\Desktop\\StemCellResearch\\testSetFixed\"\n"
   ]
  },
  {
   "cell_type": "code",
   "execution_count": 16,
   "metadata": {},
   "outputs": [],
   "source": [
    "'''Run to test on testSet'''\n",
    "data_path_og_exp1 = data_path_testSet "
   ]
  },
  {
   "cell_type": "code",
   "execution_count": 17,
   "metadata": {
    "id": "qTo_HuQkGgAq"
   },
   "outputs": [],
   "source": [
    "import tensorflow as tf\n",
    "from tensorflow import keras\n",
    "\n",
    "import numpy as np\n",
    "import pandas as pd\n",
    "import matplotlib.pyplot as plt\n",
    "\n",
    "from keras.layers import*\n",
    "\n",
    "# from keras.layers import Input\n",
    "# from keras.layers import Dense\n",
    "# from keras.layers import Conv1D\n",
    "# from keras.layers import Conv1DTranspose\n",
    "# from keras.layers import Flatten, Reshape\n",
    "\n",
    "import os\n",
    "from glob import glob\n",
    "from tqdm import tqdm"
   ]
  },
  {
   "cell_type": "code",
   "execution_count": 18,
   "metadata": {},
   "outputs": [],
   "source": [
    "import matplotlib.pylab as pylab\n",
    "params = {'legend.fontsize': 'x-large',\n",
    "          'figure.figsize': (15, 5),\n",
    "         'axes.labelsize': 'x-large',\n",
    "         'axes.titlesize':'x-large',\n",
    "         'xtick.labelsize':'x-large',\n",
    "         'ytick.labelsize':'x-large'}\n",
    "pylab.rcParams.update(params)"
   ]
  },
  {
   "cell_type": "markdown",
   "metadata": {},
   "source": [
    "# Load the test set and the synthetic dataset:\n"
   ]
  },
  {
   "cell_type": "code",
   "execution_count": 19,
   "metadata": {
    "id": "_PKjzdFCMwFg"
   },
   "outputs": [],
   "source": [
    "def read_files(data_path):\n",
    "    '''\n",
    "    *Changed*\n",
    "    currently hardcoded for only one file. \n",
    "    change code a bit for reading multiple files.\n",
    "    '''\n",
    "    #genes_intensities_data_matrix = pd.read_csv(file_path_intensities, index_col = 0)\n",
    "    #print(os.listdir(data_path))\n",
    "    replicate_files = os.listdir(data_path)\n",
    "    #print('replicate files:',replicate_files)\n",
    "    replicates = []\n",
    "    # i = 0\n",
    "    for file in replicate_files:\n",
    "        \n",
    "        #print('file name:',file)\n",
    "        #print('value of i:',i)\n",
    "        genes_intensities_data_matrix = pd.read_csv(os.path.join(data_path , file), index_col = 0, on_bad_lines='skip')\n",
    "        #print('genes_intensities_data_matrix:',  genes_intensities_data_matrix.head())\n",
    "        replicates.append(genes_intensities_data_matrix.values)\n",
    "        # i+=1\n",
    "        \n",
    "    genes_intensities_data_matrix = genes_intensities_data_matrix.values\n",
    "    rgm = np.loadtxt(matrix_path)\n",
    "    \n",
    "    return np.asarray(replicates), rgm.astype(np.float32)"
   ]
  },
  {
   "cell_type": "code",
   "execution_count": 22,
   "metadata": {},
   "outputs": [
    {
     "data": {
      "text/plain": [
       "(4, 6, 245)"
      ]
     },
     "execution_count": 22,
     "metadata": {},
     "output_type": "execute_result"
    }
   ],
   "source": [
    "test, _ = read_files(data_path_testSet)\n",
    "test.shape"
   ]
  },
  {
   "cell_type": "code",
   "execution_count": 39,
   "metadata": {
    "id": "JCwo4LwlO_FF"
   },
   "outputs": [],
   "source": [
    "genes_intensities_normalized, regulator_gene_matrix= read_files(data_path_syn)\n",
    "matrix = regulator_gene_matrix\n",
    "replicates = genes_intensities_normalized"
   ]
  },
  {
   "cell_type": "code",
   "execution_count": 40,
   "metadata": {},
   "outputs": [
    {
     "data": {
      "text/plain": [
       "(245, 245)"
      ]
     },
     "execution_count": 40,
     "metadata": {},
     "output_type": "execute_result"
    }
   ],
   "source": [
    "matrix.shape"
   ]
  },
  {
   "cell_type": "code",
   "execution_count": 41,
   "metadata": {},
   "outputs": [
    {
     "data": {
      "text/plain": [
       "(6, 6, 245)"
      ]
     },
     "execution_count": 41,
     "metadata": {},
     "output_type": "execute_result"
    }
   ],
   "source": [
    "replicates.shape"
   ]
  },
  {
   "cell_type": "code",
   "execution_count": 42,
   "metadata": {},
   "outputs": [
    {
     "data": {
      "text/plain": [
       "<matplotlib.image.AxesImage at 0x27d88d07130>"
      ]
     },
     "execution_count": 42,
     "metadata": {},
     "output_type": "execute_result"
    },
    {
     "data": {
      "image/png": "[encoded data removed]",
      "text/plain": [
       "<Figure size 1080x360 with 1 Axes>"
      ]
     },
     "metadata": {
      "needs_background": "light"
     },
     "output_type": "display_data"
    }
   ],
   "source": [
    "plt.imshow(matrix)"
   ]
  },
  {
   "cell_type": "code",
   "execution_count": 43,
   "metadata": {
    "colab": {
     "base_uri": "https://localhost:8080/",
     "height": 226
    },
    "executionInfo": {
     "elapsed": 44,
     "status": "error",
     "timestamp": 1649273006880,
     "user": {
      "displayName": "Sahil Anish Palarpwar",
      "userId": "17757512684560375750"
     },
     "user_tz": 240
    },
    "id": "UsYRR_HKdRPz",
    "outputId": "25a55bc5-9cff-45d6-ea84-6c28c4951e98"
   },
   "outputs": [
    {
     "name": "stdout",
     "output_type": "stream",
     "text": [
      "Found GPU at: /device:GPU:0\n"
     ]
    }
   ],
   "source": [
    "#%tensorflow_version 2.x\n",
    "device_name = tf.test.gpu_device_name()\n",
    "if device_name != '/device:GPU:0':\n",
    "  raise SystemError('GPU device not found')\n",
    "print('Found GPU at: {}'.format(device_name))"
   ]
  },
  {
   "cell_type": "code",
   "execution_count": 44,
   "metadata": {
    "id": "1yhzyikoFncq"
   },
   "outputs": [],
   "source": [
    "class EncoderLinear(keras.layers.Layer):\n",
    "    def __init__(self, rgm, input_dim=32, units=32):\n",
    "        super(EncoderLinear, self).__init__()\n",
    "        self.rgm = rgm\n",
    "        \n",
    "        def init_weights(shape, dtype=\"float32\"):\n",
    "\n",
    "            w_init = tf.random_normal_initializer()(shape=shape, dtype=dtype) * tf.convert_to_tensor(self.rgm, dtype=dtype)\n",
    "\n",
    "            return w_init\n",
    "        \n",
    "\n",
    "        self.w = tf.Variable(\n",
    "            initial_value=init_weights(shape=(input_dim, units), dtype=\"float32\"),\n",
    "            trainable=True,\n",
    "        )\n",
    "\n",
    "    def call(self, inputs):\n",
    "        X = inputs\n",
    "        return tf.matmul(X, tf.multiply(self.rgm, self.w))\n",
    "    #tf.matmul(inputs, self.w)"
   ]
  },
  {
   "cell_type": "code",
   "execution_count": 45,
   "metadata": {
    "id": "4uchxU-bmBDe"
   },
   "outputs": [],
   "source": [
    "class DecoderLinear(keras.layers.Layer):\n",
    "    def __init__(self, rgm, input_dim=32, units=32):\n",
    "        super(DecoderLinear, self).__init__()\n",
    "        self.rgm = rgm\n",
    "\n",
    "        def init_weights(shape, dtype=\"float32\"):\n",
    "\n",
    "            w_init = tf.random_normal_initializer()(shape=shape, dtype=dtype) * tf.transpose(tf.convert_to_tensor(self.rgm, dtype=dtype))\n",
    "\n",
    "            return w_init\n",
    "    \n",
    "        \n",
    "        self.w = tf.Variable(\n",
    "            initial_value=init_weights(shape=(input_dim, units), dtype=\"float32\"),\n",
    "            trainable=True,\n",
    "        )\n",
    "\n",
    "    def call(self, inputs):\n",
    "        X = inputs\n",
    "        #return tf.matmul(X, tf.multiply((self.rgm), self.w))\n",
    "        X = tf.matmul(X, tf.multiply(tf.transpose(self.rgm), self.w)) \n",
    "        #return tf.matmul(inputs, self.w)\n",
    "        v = tf.zeros_like(X)\n",
    "        u = tf.ones_like(X)\n",
    "        u = tf.math.scalar_mul(-1.0, u)\n",
    "        \n",
    "        return tf.where(tf.math.less(X, v), u, X) #where X is less than 0, return -1 \n",
    "        \n",
    "        "
   ]
  },
  {
   "cell_type": "code",
   "execution_count": 46,
   "metadata": {
    "id": "PQVz4BCpmNMd"
   },
   "outputs": [],
   "source": [
    "def encoder(parent_child_biological_association, num_hidden_units=2):\n",
    "    '''\n",
    "    Encoder structure\n",
    "    '''\n",
    "    '''\n",
    "    The data is time-series. Therefore, CNN to learn the temporal relationship between \n",
    "    the intensities for each gene.\n",
    "    '''\n",
    "    en_conv = Conv1D(32, 3, activation = \"relu\")(parent_child_biological_association) # 6*245\n",
    "    en_dense = Flatten()(en_conv)\n",
    "    phenotype = Dense(num_hidden_units)(en_dense)\n",
    "    return phenotype\n",
    "\n",
    "def decoder(X, num_protein_gene, time_steps):\n",
    "    '''\n",
    "    Decoder structure\n",
    "    '''\n",
    "    de_dense = Dense(128)(X)\n",
    "    de_dense = Reshape((1, 128))(de_dense) #tf.reshape(de_dense, (self.batch_size,1,128))\n",
    "    de_deconv = Conv1DTranspose(num_protein_gene, time_steps, activation = \"relu\")(de_dense) #used to be transpose\n",
    "    #de_deconv = Conv1D(num_protein_gene, time_steps, activation = \"relu\")(de_dense) \n",
    "    # gene_reconstruction = self.decoder_biological_operation(de_deconv)\n",
    "    return de_deconv\n",
    "\n",
    "def model(rgm, num_protein_gene, time_steps, num_kinase_regulators, num_hidden_units = 2):\n",
    "    inp = Input(shape=(time_steps, num_kinase_regulators))\n",
    "    x = EncoderLinear(rgm, 245, 245)(inp)\n",
    "    enc = encoder(x, num_hidden_units)\n",
    "    dec = decoder(enc, num_protein_gene, time_steps)\n",
    "    out = DecoderLinear(rgm, 245, 245)(dec)\n",
    "\n",
    "    _model = tf.keras.Model(inputs=inp, outputs=out)\n",
    "\n",
    "    return _model"
   ]
  },
  {
   "cell_type": "code",
   "execution_count": 47,
   "metadata": {
    "id": "6GB0OcIgpKSu"
   },
   "outputs": [],
   "source": [
    "regulator_gene_matrix = matrix# np.random.randint(0, 2, size=(245, 245)).astype(np.float32)\n"
   ]
  },
  {
   "cell_type": "code",
   "execution_count": 48,
   "metadata": {
    "id": "nPRV0OAMpKPH"
   },
   "outputs": [],
   "source": [
    "enc_dec_Synthetic = model(regulator_gene_matrix, 245, 6, 245) #we can just change the time steps to something higher"
   ]
  },
  {
   "cell_type": "code",
   "execution_count": 49,
   "metadata": {
    "colab": {
     "base_uri": "https://localhost:8080/"
    },
    "executionInfo": {
     "elapsed": 13,
     "status": "ok",
     "timestamp": 1649273028683,
     "user": {
      "displayName": "Sahil Anish Palarpwar",
      "userId": "17757512684560375750"
     },
     "user_tz": 240
    },
    "id": "D6aPT5_cpKK0",
    "outputId": "c261d824-0f38-4eee-b139-f03a80f093e1"
   },
   "outputs": [
    {
     "name": "stdout",
     "output_type": "stream",
     "text": [
      "Model: \"model_1\"\n",
      "_________________________________________________________________\n",
      " Layer (type)                Output Shape              Param #   \n",
      "=================================================================\n",
      " input_2 (InputLayer)        [(None, 6, 245)]          0         \n",
      "                                                                 \n",
      " encoder_linear_1 (EncoderLi  (None, 6, 245)           60025     \n",
      " near)                                                           \n",
      "                                                                 \n",
      " conv1d_1 (Conv1D)           (None, 4, 32)             23552     \n",
      "                                                                 \n",
      " flatten_1 (Flatten)         (None, 128)               0         \n",
      "                                                                 \n",
      " dense_2 (Dense)             (None, 2)                 258       \n",
      "                                                                 \n",
      " dense_3 (Dense)             (None, 128)               384       \n",
      "                                                                 \n",
      " reshape_1 (Reshape)         (None, 1, 128)            0         \n",
      "                                                                 \n",
      " conv1d_transpose_1 (Conv1DT  (None, 6, 245)           188405    \n",
      " ranspose)                                                       \n",
      "                                                                 \n",
      " decoder_linear_1 (DecoderLi  (None, 6, 245)           60025     \n",
      " near)                                                           \n",
      "                                                                 \n",
      "=================================================================\n",
      "Total params: 332,649\n",
      "Trainable params: 332,649\n",
      "Non-trainable params: 0\n",
      "_________________________________________________________________\n"
     ]
    }
   ],
   "source": [
    "enc_dec_Synthetic.summary()"
   ]
  },
  {
   "cell_type": "markdown",
   "metadata": {},
   "source": [
    "# Create Super parent matrix. FOR USE LATER!!"
   ]
  },
  {
   "cell_type": "code",
   "execution_count": 50,
   "metadata": {
    "id": "7XlphetivRZ4"
   },
   "outputs": [],
   "source": [
    "from tensorflow.keras import losses"
   ]
  },
  {
   "cell_type": "code",
   "execution_count": 51,
   "metadata": {},
   "outputs": [],
   "source": [
    "superParent = regulator_gene_matrix.copy()\n",
    "#print(superParent.shape)\n",
    "\n",
    "ones = np.ones((245))\n",
    "parentIndex = []\n",
    "for i in range(len(regulator_gene_matrix)):\n",
    "    if (np.isin(regulator_gene_matrix[i], [1])).any():\n",
    "        #print(i)\n",
    "        superParent[i] = ones \n",
    "        parentIndex.append(i)\n",
    "parentIndex = np.array(parentIndex)\n",
    "parentIndex = tf.convert_to_tensor(parentIndex)\n",
    "\n",
    "def ignore_noParent_MSE(y_true, y_pred): \n",
    "    l = tf.keras.losses.MeanSquaredError()\n",
    "    y_true_pruned = tf.gather(y_true,parentIndex, axis =2)\n",
    "    #print(y_true_pruned.shape\n",
    "    y_pred_pruned = tf.gather(y_pred, parentIndex, axis =2)   \n",
    "    return l(y_true_pruned, y_pred_pruned)"
   ]
  },
  {
   "cell_type": "code",
   "execution_count": 52,
   "metadata": {
    "id": "WrRuJ_bsrHll"
   },
   "outputs": [],
   "source": [
    "enc_dec_Synthetic.compile(optimizer='adam', loss=ignore_noParent_MSE)"
   ]
  },
  {
   "cell_type": "code",
   "execution_count": 53,
   "metadata": {
    "id": "yAOZEEvRRVU4"
   },
   "outputs": [],
   "source": [
    "# enc_dec_Synthetic.compile(optimizer='adam',loss = keras.losses.SparseCategoricalCrossentropy(from_logits=True))"
   ]
  },
  {
   "cell_type": "markdown",
   "metadata": {},
   "source": [
    "# Train on bottom 5 synthetic datasets (all but first experiment)"
   ]
  },
  {
   "cell_type": "code",
   "execution_count": 54,
   "metadata": {
    "colab": {
     "base_uri": "https://localhost:8080/"
    },
    "executionInfo": {
     "elapsed": 726,
     "status": "ok",
     "timestamp": 1649273035573,
     "user": {
      "displayName": "Sahil Anish Palarpwar",
      "userId": "17757512684560375750"
     },
     "user_tz": 240
    },
    "id": "EuNDZx5Ov34I",
    "outputId": "74597aa1-c71c-4491-b8c9-4fefed309325"
   },
   "outputs": [
    {
     "name": "stdout",
     "output_type": "stream",
     "text": [
      "Epoch 1/10\n",
      "1/1 [==============================] - 18s 18s/step - loss: 1.3161\n",
      "Epoch 2/10\n",
      "1/1 [==============================] - 0s 5ms/step - loss: 1.1789\n",
      "Epoch 3/10\n",
      "1/1 [==============================] - 0s 5ms/step - loss: 1.1378\n",
      "Epoch 4/10\n",
      "1/1 [==============================] - 0s 4ms/step - loss: 1.0991\n",
      "Epoch 5/10\n",
      "1/1 [==============================] - 0s 4ms/step - loss: 1.0767\n",
      "Epoch 6/10\n",
      "1/1 [==============================] - 0s 4ms/step - loss: 1.0218\n",
      "Epoch 7/10\n",
      "1/1 [==============================] - 0s 4ms/step - loss: 0.9846\n",
      "Epoch 8/10\n",
      "1/1 [==============================] - 0s 4ms/step - loss: 0.9476\n",
      "Epoch 9/10\n",
      "1/1 [==============================] - 0s 4ms/step - loss: 0.9386\n",
      "Epoch 10/10\n",
      "1/1 [==============================] - 0s 4ms/step - loss: 0.9109\n"
     ]
    },
    {
     "data": {
      "text/plain": [
       "<keras.callbacks.History at 0x27d9572c130>"
      ]
     },
     "execution_count": 54,
     "metadata": {},
     "output_type": "execute_result"
    }
   ],
   "source": [
    "enc_dec_Synthetic.fit(genes_intensities_normalized[1:],genes_intensities_normalized[1:],epochs=10)"
   ]
  },
  {
   "cell_type": "code",
   "execution_count": 57,
   "metadata": {},
   "outputs": [],
   "source": [
    "w = enc_dec_Synthetic.get_weights()"
   ]
  },
  {
   "cell_type": "code",
   "execution_count": 58,
   "metadata": {},
   "outputs": [
    {
     "data": {
      "text/plain": [
       "<matplotlib.image.AxesImage at 0x27d9c5f4e50>"
      ]
     },
     "execution_count": 58,
     "metadata": {},
     "output_type": "execute_result"
    },
    {
     "data": {
      "image/png": "[encoded data removed]",
      "text/plain": [
       "<Figure size 1080x360 with 1 Axes>"
      ]
     },
     "metadata": {
      "needs_background": "light"
     },
     "output_type": "display_data"
    }
   ],
   "source": [
    "plt.imshow(w[0], cmap = \"hot\", vmin=0,vmax=0.02)"
   ]
  },
  {
   "cell_type": "markdown",
   "metadata": {},
   "source": [
    "# The output of the auto encoder trained on synthetic data. Autoencoder has not been trained on synthetic version of experiement 1. We test on the original experiment 1. TODO: test on testset"
   ]
  },
  {
   "cell_type": "code",
   "execution_count": 192,
   "metadata": {
    "id": "SBzDmjqJViEw",
    "scrolled": true
   },
   "outputs": [],
   "source": [
    "#we do not need to use this function for the testset\n",
    "def getCSVs(data_path_head):\n",
    "    PATH = data_path_head\n",
    "    EXT = \"*.csv\"\n",
    "    all_csv_files = [file\n",
    "                     for path, subdir, files in os.walk(PATH)\n",
    "                     for file in glob(os.path.join(path, EXT))]\n",
    "    actual = []\n",
    "    for p in all_csv_files:\n",
    "        actual.append(pd.read_csv(p, index_col = 0).to_numpy())\n",
    "    return np.array(actual)\n",
    "    \n",
    "#testCandidate = getCSVs(data_path_og_exp1)"
   ]
  },
  {
   "cell_type": "code",
   "execution_count": 61,
   "metadata": {},
   "outputs": [],
   "source": [
    "testCandidate = test"
   ]
  },
  {
   "cell_type": "code",
   "execution_count": 62,
   "metadata": {},
   "outputs": [
    {
     "data": {
      "text/plain": [
       "(1, 6, 245)"
      ]
     },
     "execution_count": 62,
     "metadata": {},
     "output_type": "execute_result"
    }
   ],
   "source": [
    "np.array([genes_intensities_normalized[0]]).shape"
   ]
  },
  {
   "cell_type": "code",
   "execution_count": 63,
   "metadata": {},
   "outputs": [
    {
     "data": {
      "text/plain": [
       "(6, 245)"
      ]
     },
     "execution_count": 63,
     "metadata": {},
     "output_type": "execute_result"
    }
   ],
   "source": [
    "testCandidate[0].shape"
   ]
  },
  {
   "cell_type": "code",
   "execution_count": 64,
   "metadata": {},
   "outputs": [
    {
     "data": {
      "text/plain": [
       "(1, 6, 245)"
      ]
     },
     "execution_count": 64,
     "metadata": {},
     "output_type": "execute_result"
    }
   ],
   "source": [
    "np.array([genes_intensities_normalized[0]]).shape"
   ]
  },
  {
   "cell_type": "code",
   "execution_count": 65,
   "metadata": {},
   "outputs": [
    {
     "name": "stdout",
     "output_type": "stream",
     "text": [
      "1/1 [==============================] - 0s 238ms/step\n"
     ]
    }
   ],
   "source": [
    "outSyn = enc_dec_Synthetic.predict(testCandidate)"
   ]
  },
  {
   "cell_type": "code",
   "execution_count": 68,
   "metadata": {},
   "outputs": [],
   "source": [
    "def mymagn(A, B):\n",
    "    mse = (np.square(A - B)).mean(axis=None)\n",
    "    return mse"
   ]
  },
  {
   "cell_type": "code",
   "execution_count": 69,
   "metadata": {},
   "outputs": [
    {
     "data": {
      "text/plain": [
       "<tf.Tensor: shape=(), dtype=float64, numpy=483.4611050499836>"
      ]
     },
     "execution_count": 69,
     "metadata": {},
     "output_type": "execute_result"
    }
   ],
   "source": [
    "syntheticLoss = ignore_noParent_MSE(outSyn, testCandidate)\n",
    "syntheticLoss"
   ]
  },
  {
   "cell_type": "code",
   "execution_count": 70,
   "metadata": {},
   "outputs": [
    {
     "data": {
      "text/plain": [
       "(4, 6, 245)"
      ]
     },
     "execution_count": 70,
     "metadata": {},
     "output_type": "execute_result"
    }
   ],
   "source": [
    "(outSyn-testCandidate).shape"
   ]
  },
  {
   "cell_type": "markdown",
   "metadata": {},
   "source": [
    "# The autoencoder trained on the interpolated dataset. Once again, we do not train on any version of the original experiment. TODO: test on test set"
   ]
  },
  {
   "cell_type": "code",
   "execution_count": 118,
   "metadata": {},
   "outputs": [],
   "source": [
    "def read_filesV2(data_path):\n",
    "    '''\n",
    "    *Changed*\n",
    "    currently hardcoded for only one file. \n",
    "    change code a bit for reading multiple files.\n",
    "    '''\n",
    "    #genes_intensities_data_matrix = pd.read_csv(file_path_intensities, index_col = 0)\n",
    "    #print(os.listdir(data_path))\n",
    "    replicate_files = os.listdir(data_path)\n",
    "    #print('replicate files:',replicate_files)\n",
    "    replicates = []\n",
    "    # i = 0\n",
    "    for file in replicate_files:\n",
    "        \n",
    "        #print('file name:',file)\n",
    "        #print('value of i:',i)\n",
    "        genes_intensities_data_matrix = pd.read_csv(os.path.join(data_path , file), index_col = 0, on_bad_lines='skip')\n",
    "        #print('genes_intensities_data_matrix:',  genes_intensities_data_matrix.head())\n",
    "        replicates.append(genes_intensities_data_matrix.values)\n",
    "        # i+=1\n",
    "        \n",
    "    genes_intensities_data_matrix = genes_intensities_data_matrix.values\n",
    "    rgm = np.loadtxt(matrix_path)\n",
    "    \n",
    "    return np.asarray(replicates), rgm.astype(np.float32)"
   ]
  },
  {
   "cell_type": "code",
   "execution_count": 119,
   "metadata": {},
   "outputs": [
    {
     "name": "stderr",
     "output_type": "stream",
     "text": [
      "C:\\Users\\Fin Amin\\AppData\\Local\\Temp\\ipykernel_14556\\3349346019.py:25: VisibleDeprecationWarning: Creating an ndarray from ragged nested sequences (which is a list-or-tuple of lists-or-tuples-or ndarrays with different lengths or shapes) is deprecated. If you meant to do this, you must specify 'dtype=object' when creating the ndarray.\n",
      "  return np.asarray(replicates), rgm.astype(np.float32)\n"
     ]
    }
   ],
   "source": [
    "interpolated_genes, _ = read_filesV2(data_path_inter)"
   ]
  },
  {
   "cell_type": "code",
   "execution_count": 120,
   "metadata": {},
   "outputs": [
    {
     "data": {
      "text/plain": [
       "(5,)"
      ]
     },
     "execution_count": 120,
     "metadata": {},
     "output_type": "execute_result"
    }
   ],
   "source": [
    "interpolated_genes.shape"
   ]
  },
  {
   "cell_type": "code",
   "execution_count": 121,
   "metadata": {},
   "outputs": [
    {
     "data": {
      "text/html": [
       "<div>\n",
       "<style scoped>\n",
       "    .dataframe tbody tr th:only-of-type {\n",
       "        vertical-align: middle;\n",
       "    }\n",
       "\n",
       "    .dataframe tbody tr th {\n",
       "        vertical-align: top;\n",
       "    }\n",
       "\n",
       "    .dataframe thead th {\n",
       "        text-align: right;\n",
       "    }\n",
       "</style>\n",
       "<table border=\"1\" class=\"dataframe\">\n",
       "  <thead>\n",
       "    <tr style=\"text-align: right;\">\n",
       "      <th></th>\n",
       "      <th>0</th>\n",
       "      <th>1</th>\n",
       "      <th>2</th>\n",
       "      <th>3</th>\n",
       "      <th>4</th>\n",
       "      <th>5</th>\n",
       "      <th>6</th>\n",
       "      <th>7</th>\n",
       "      <th>8</th>\n",
       "      <th>9</th>\n",
       "      <th>...</th>\n",
       "      <th>235</th>\n",
       "      <th>236</th>\n",
       "      <th>237</th>\n",
       "      <th>238</th>\n",
       "      <th>239</th>\n",
       "      <th>240</th>\n",
       "      <th>241</th>\n",
       "      <th>242</th>\n",
       "      <th>243</th>\n",
       "      <th>244</th>\n",
       "    </tr>\n",
       "  </thead>\n",
       "  <tbody>\n",
       "    <tr>\n",
       "      <th>0</th>\n",
       "      <td>0.254943</td>\n",
       "      <td>-1.000000</td>\n",
       "      <td>0.663585</td>\n",
       "      <td>0.440312</td>\n",
       "      <td>-1.000000</td>\n",
       "      <td>0.635664</td>\n",
       "      <td>0.734571</td>\n",
       "      <td>-1.000000</td>\n",
       "      <td>0.312044</td>\n",
       "      <td>0.602692</td>\n",
       "      <td>...</td>\n",
       "      <td>-1.000000</td>\n",
       "      <td>0.400712</td>\n",
       "      <td>-1.000000</td>\n",
       "      <td>0.523033</td>\n",
       "      <td>-1.000000</td>\n",
       "      <td>0.561590</td>\n",
       "      <td>0.403879</td>\n",
       "      <td>0.642049</td>\n",
       "      <td>-1.000000</td>\n",
       "      <td>0.443478</td>\n",
       "    </tr>\n",
       "    <tr>\n",
       "      <th>1</th>\n",
       "      <td>0.338509</td>\n",
       "      <td>-1.000000</td>\n",
       "      <td>0.612395</td>\n",
       "      <td>0.655007</td>\n",
       "      <td>-1.000000</td>\n",
       "      <td>-1.000000</td>\n",
       "      <td>0.590564</td>\n",
       "      <td>-1.000000</td>\n",
       "      <td>0.353872</td>\n",
       "      <td>0.539972</td>\n",
       "      <td>...</td>\n",
       "      <td>-1.000000</td>\n",
       "      <td>0.445519</td>\n",
       "      <td>-1.000000</td>\n",
       "      <td>0.586067</td>\n",
       "      <td>-1.000000</td>\n",
       "      <td>0.541903</td>\n",
       "      <td>0.426403</td>\n",
       "      <td>0.495559</td>\n",
       "      <td>0.550973</td>\n",
       "      <td>0.419991</td>\n",
       "    </tr>\n",
       "    <tr>\n",
       "      <th>2</th>\n",
       "      <td>-1.000000</td>\n",
       "      <td>0.544463</td>\n",
       "      <td>0.596307</td>\n",
       "      <td>0.596367</td>\n",
       "      <td>-1.000000</td>\n",
       "      <td>0.629406</td>\n",
       "      <td>0.579586</td>\n",
       "      <td>0.726602</td>\n",
       "      <td>-1.000000</td>\n",
       "      <td>0.535278</td>\n",
       "      <td>...</td>\n",
       "      <td>0.509166</td>\n",
       "      <td>-1.000000</td>\n",
       "      <td>-1.000000</td>\n",
       "      <td>0.642262</td>\n",
       "      <td>-1.000000</td>\n",
       "      <td>0.586480</td>\n",
       "      <td>0.569283</td>\n",
       "      <td>-1.000000</td>\n",
       "      <td>0.596188</td>\n",
       "      <td>-1.000000</td>\n",
       "    </tr>\n",
       "    <tr>\n",
       "      <th>3</th>\n",
       "      <td>-0.329754</td>\n",
       "      <td>-0.454583</td>\n",
       "      <td>-0.828393</td>\n",
       "      <td>0.582746</td>\n",
       "      <td>-0.689224</td>\n",
       "      <td>0.178233</td>\n",
       "      <td>0.309607</td>\n",
       "      <td>-0.297329</td>\n",
       "      <td>-0.461788</td>\n",
       "      <td>0.493608</td>\n",
       "      <td>...</td>\n",
       "      <td>-0.024981</td>\n",
       "      <td>-0.697509</td>\n",
       "      <td>-0.153204</td>\n",
       "      <td>0.546957</td>\n",
       "      <td>0.161868</td>\n",
       "      <td>0.291320</td>\n",
       "      <td>-0.109625</td>\n",
       "      <td>-0.444279</td>\n",
       "      <td>0.007077</td>\n",
       "      <td>-0.254379</td>\n",
       "    </tr>\n",
       "    <tr>\n",
       "      <th>4</th>\n",
       "      <td>-1.000000</td>\n",
       "      <td>0.528085</td>\n",
       "      <td>-1.000000</td>\n",
       "      <td>0.523557</td>\n",
       "      <td>-1.000000</td>\n",
       "      <td>0.588043</td>\n",
       "      <td>0.580612</td>\n",
       "      <td>-1.000000</td>\n",
       "      <td>0.354997</td>\n",
       "      <td>0.567674</td>\n",
       "      <td>...</td>\n",
       "      <td>0.573489</td>\n",
       "      <td>0.392001</td>\n",
       "      <td>-1.000000</td>\n",
       "      <td>0.602732</td>\n",
       "      <td>-1.000000</td>\n",
       "      <td>0.544163</td>\n",
       "      <td>0.423905</td>\n",
       "      <td>-1.000000</td>\n",
       "      <td>0.578650</td>\n",
       "      <td>-1.000000</td>\n",
       "    </tr>\n",
       "  </tbody>\n",
       "</table>\n",
       "<p>5 rows × 245 columns</p>\n",
       "</div>"
      ],
      "text/plain": [
       "        0         1         2         3         4         5         6    \\\n",
       "0  0.254943 -1.000000  0.663585  0.440312 -1.000000  0.635664  0.734571   \n",
       "1  0.338509 -1.000000  0.612395  0.655007 -1.000000 -1.000000  0.590564   \n",
       "2 -1.000000  0.544463  0.596307  0.596367 -1.000000  0.629406  0.579586   \n",
       "3 -0.329754 -0.454583 -0.828393  0.582746 -0.689224  0.178233  0.309607   \n",
       "4 -1.000000  0.528085 -1.000000  0.523557 -1.000000  0.588043  0.580612   \n",
       "\n",
       "        7         8         9    ...       235       236       237       238  \\\n",
       "0 -1.000000  0.312044  0.602692  ... -1.000000  0.400712 -1.000000  0.523033   \n",
       "1 -1.000000  0.353872  0.539972  ... -1.000000  0.445519 -1.000000  0.586067   \n",
       "2  0.726602 -1.000000  0.535278  ...  0.509166 -1.000000 -1.000000  0.642262   \n",
       "3 -0.297329 -0.461788  0.493608  ... -0.024981 -0.697509 -0.153204  0.546957   \n",
       "4 -1.000000  0.354997  0.567674  ...  0.573489  0.392001 -1.000000  0.602732   \n",
       "\n",
       "        239       240       241       242       243       244  \n",
       "0 -1.000000  0.561590  0.403879  0.642049 -1.000000  0.443478  \n",
       "1 -1.000000  0.541903  0.426403  0.495559  0.550973  0.419991  \n",
       "2 -1.000000  0.586480  0.569283 -1.000000  0.596188 -1.000000  \n",
       "3  0.161868  0.291320 -0.109625 -0.444279  0.007077 -0.254379  \n",
       "4 -1.000000  0.544163  0.423905 -1.000000  0.578650 -1.000000  \n",
       "\n",
       "[5 rows x 245 columns]"
      ]
     },
     "execution_count": 121,
     "metadata": {},
     "output_type": "execute_result"
    }
   ],
   "source": [
    "pd.DataFrame(interpolated_genes[2]).head(5)"
   ]
  },
  {
   "cell_type": "code",
   "execution_count": 122,
   "metadata": {},
   "outputs": [],
   "source": [
    "inter = []\n",
    "for k in range(len(interpolated_genes)):\n",
    "    #print(k)\n",
    "    if k == 2 or k == 3 or k == 4:\n",
    "        inter.append(np.reshape(interpolated_genes[k], (4,6,245)))\n",
    "    else: \n",
    "        inter.append(np.reshape(interpolated_genes[k], (5,6,245)))\n",
    "inter = np.vstack(inter)"
   ]
  },
  {
   "cell_type": "code",
   "execution_count": 123,
   "metadata": {},
   "outputs": [
    {
     "data": {
      "text/plain": [
       "(22, 6, 245)"
      ]
     },
     "execution_count": 123,
     "metadata": {},
     "output_type": "execute_result"
    }
   ],
   "source": [
    "inter.shape"
   ]
  },
  {
   "cell_type": "code",
   "execution_count": 124,
   "metadata": {},
   "outputs": [
    {
     "data": {
      "text/plain": [
       "(5, 6, 245)"
      ]
     },
     "execution_count": 124,
     "metadata": {},
     "output_type": "execute_result"
    }
   ],
   "source": [
    "genes_intensities_normalized[1:].shape"
   ]
  },
  {
   "cell_type": "code",
   "execution_count": 125,
   "metadata": {},
   "outputs": [],
   "source": [
    "enc_dec_inter = model(regulator_gene_matrix, 245, 6, 245) \n",
    "enc_dec_inter.compile(optimizer='adam', loss=ignore_noParent_MSE)"
   ]
  },
  {
   "cell_type": "code",
   "execution_count": 126,
   "metadata": {},
   "outputs": [
    {
     "name": "stdout",
     "output_type": "stream",
     "text": [
      "Epoch 1/10\n",
      "1/1 [==============================] - 1s 565ms/step - loss: 0.9627\n",
      "Epoch 2/10\n",
      "1/1 [==============================] - 0s 6ms/step - loss: 0.8050\n",
      "Epoch 3/10\n",
      "1/1 [==============================] - 0s 6ms/step - loss: 0.7330\n",
      "Epoch 4/10\n",
      "1/1 [==============================] - 0s 35ms/step - loss: 0.6961\n",
      "Epoch 5/10\n",
      "1/1 [==============================] - 0s 8ms/step - loss: 0.6676\n",
      "Epoch 6/10\n",
      "1/1 [==============================] - 0s 6ms/step - loss: 0.6465\n",
      "Epoch 7/10\n",
      "1/1 [==============================] - 0s 7ms/step - loss: 0.6334\n",
      "Epoch 8/10\n",
      "1/1 [==============================] - 0s 7ms/step - loss: 0.6267\n",
      "Epoch 9/10\n",
      "1/1 [==============================] - 0s 19ms/step - loss: 0.6201\n",
      "Epoch 10/10\n",
      "1/1 [==============================] - 0s 17ms/step - loss: 0.6148\n"
     ]
    }
   ],
   "source": [
    "enc_dec_inter.fit(inter, inter,epochs=10);"
   ]
  },
  {
   "cell_type": "code",
   "execution_count": 127,
   "metadata": {},
   "outputs": [
    {
     "name": "stdout",
     "output_type": "stream",
     "text": [
      "WARNING:tensorflow:5 out of the last 5 calls to <function Model.make_predict_function.<locals>.predict_function at 0x000001AFEECA60D0> triggered tf.function retracing. Tracing is expensive and the excessive number of tracings could be due to (1) creating @tf.function repeatedly in a loop, (2) passing tensors with different shapes, (3) passing Python objects instead of tensors. For (1), please define your @tf.function outside of the loop. For (2), @tf.function has reduce_retracing=True option that can avoid unnecessary retracing. For (3), please refer to https://www.tensorflow.org/guide/function#controlling_retracing and https://www.tensorflow.org/api_docs/python/tf/function for  more details.\n",
      "1/1 [==============================] - 0s 90ms/step\n"
     ]
    }
   ],
   "source": [
    "outInter = enc_dec_inter.predict(testCandidate)\n",
    "interpolationLoss = ignore_noParent_MSE(outInter, testCandidate)"
   ]
  },
  {
   "cell_type": "code",
   "execution_count": 128,
   "metadata": {},
   "outputs": [
    {
     "data": {
      "text/plain": [
       "<tf.Tensor: shape=(), dtype=float64, numpy=1.0613138531240407>"
      ]
     },
     "execution_count": 128,
     "metadata": {},
     "output_type": "execute_result"
    }
   ],
   "source": [
    "interpolationLoss"
   ]
  },
  {
   "cell_type": "code",
   "execution_count": 129,
   "metadata": {},
   "outputs": [
    {
     "data": {
      "text/plain": [
       "(4, 6, 245)"
      ]
     },
     "execution_count": 129,
     "metadata": {},
     "output_type": "execute_result"
    }
   ],
   "source": [
    "outInter.shape"
   ]
  },
  {
   "cell_type": "code",
   "execution_count": 130,
   "metadata": {},
   "outputs": [
    {
     "data": {
      "text/plain": [
       "<keras.callbacks.History at 0x1aff2c0a100>"
      ]
     },
     "execution_count": 130,
     "metadata": {},
     "output_type": "execute_result"
    }
   ],
   "source": [
    "u = enc_dec_inter.history\n",
    "u"
   ]
  },
  {
   "cell_type": "code",
   "execution_count": 131,
   "metadata": {},
   "outputs": [
    {
     "data": {
      "text/plain": [
       "<tf.Tensor: shape=(), dtype=float64, numpy=1.0613138531240407>"
      ]
     },
     "execution_count": 131,
     "metadata": {},
     "output_type": "execute_result"
    }
   ],
   "source": [
    "interpolationLoss"
   ]
  },
  {
   "cell_type": "markdown",
   "metadata": {},
   "source": [
    "# We have the comparisons between various outputs:"
   ]
  },
  {
   "cell_type": "code",
   "execution_count": 132,
   "metadata": {},
   "outputs": [
    {
     "data": {
      "image/png": "[encoded data removed]",
      "text/plain": [
       "<Figure size 1080x360 with 1 Axes>"
      ]
     },
     "metadata": {
      "needs_background": "light"
     },
     "output_type": "display_data"
    }
   ],
   "source": [
    "u = plt.imshow(np.reshape((np.abs(outSyn)), (24,245)), cmap = \"hot\", vmin=0,vmax=1.0 );"
   ]
  },
  {
   "cell_type": "code",
   "execution_count": 133,
   "metadata": {},
   "outputs": [
    {
     "data": {
      "text/html": [
       "<div>\n",
       "<style scoped>\n",
       "    .dataframe tbody tr th:only-of-type {\n",
       "        vertical-align: middle;\n",
       "    }\n",
       "\n",
       "    .dataframe tbody tr th {\n",
       "        vertical-align: top;\n",
       "    }\n",
       "\n",
       "    .dataframe thead th {\n",
       "        text-align: right;\n",
       "    }\n",
       "</style>\n",
       "<table border=\"1\" class=\"dataframe\">\n",
       "  <thead>\n",
       "    <tr style=\"text-align: right;\">\n",
       "      <th></th>\n",
       "      <th>0</th>\n",
       "      <th>1</th>\n",
       "      <th>2</th>\n",
       "      <th>3</th>\n",
       "      <th>4</th>\n",
       "      <th>5</th>\n",
       "      <th>6</th>\n",
       "      <th>7</th>\n",
       "      <th>8</th>\n",
       "      <th>9</th>\n",
       "      <th>...</th>\n",
       "      <th>235</th>\n",
       "      <th>236</th>\n",
       "      <th>237</th>\n",
       "      <th>238</th>\n",
       "      <th>239</th>\n",
       "      <th>240</th>\n",
       "      <th>241</th>\n",
       "      <th>242</th>\n",
       "      <th>243</th>\n",
       "      <th>244</th>\n",
       "    </tr>\n",
       "  </thead>\n",
       "  <tbody>\n",
       "    <tr>\n",
       "      <th>0</th>\n",
       "      <td>0.0</td>\n",
       "      <td>0.0</td>\n",
       "      <td>0.0</td>\n",
       "      <td>0.010825</td>\n",
       "      <td>0.0</td>\n",
       "      <td>0.0</td>\n",
       "      <td>0.0</td>\n",
       "      <td>0.0</td>\n",
       "      <td>0.0</td>\n",
       "      <td>0.0</td>\n",
       "      <td>...</td>\n",
       "      <td>0.0</td>\n",
       "      <td>0.0</td>\n",
       "      <td>0.0</td>\n",
       "      <td>0.0</td>\n",
       "      <td>0.0</td>\n",
       "      <td>0.0</td>\n",
       "      <td>-1.000000</td>\n",
       "      <td>0.0</td>\n",
       "      <td>-1.0</td>\n",
       "      <td>0.0</td>\n",
       "    </tr>\n",
       "    <tr>\n",
       "      <th>1</th>\n",
       "      <td>0.0</td>\n",
       "      <td>0.0</td>\n",
       "      <td>0.0</td>\n",
       "      <td>0.062358</td>\n",
       "      <td>0.0</td>\n",
       "      <td>0.0</td>\n",
       "      <td>0.0</td>\n",
       "      <td>0.0</td>\n",
       "      <td>0.0</td>\n",
       "      <td>0.0</td>\n",
       "      <td>...</td>\n",
       "      <td>0.0</td>\n",
       "      <td>0.0</td>\n",
       "      <td>0.0</td>\n",
       "      <td>0.0</td>\n",
       "      <td>0.0</td>\n",
       "      <td>0.0</td>\n",
       "      <td>-1.000000</td>\n",
       "      <td>0.0</td>\n",
       "      <td>-1.0</td>\n",
       "      <td>0.0</td>\n",
       "    </tr>\n",
       "    <tr>\n",
       "      <th>2</th>\n",
       "      <td>0.0</td>\n",
       "      <td>0.0</td>\n",
       "      <td>0.0</td>\n",
       "      <td>0.180853</td>\n",
       "      <td>0.0</td>\n",
       "      <td>0.0</td>\n",
       "      <td>0.0</td>\n",
       "      <td>0.0</td>\n",
       "      <td>0.0</td>\n",
       "      <td>0.0</td>\n",
       "      <td>...</td>\n",
       "      <td>0.0</td>\n",
       "      <td>0.0</td>\n",
       "      <td>0.0</td>\n",
       "      <td>0.0</td>\n",
       "      <td>0.0</td>\n",
       "      <td>0.0</td>\n",
       "      <td>-1.000000</td>\n",
       "      <td>0.0</td>\n",
       "      <td>-1.0</td>\n",
       "      <td>0.0</td>\n",
       "    </tr>\n",
       "    <tr>\n",
       "      <th>3</th>\n",
       "      <td>0.0</td>\n",
       "      <td>0.0</td>\n",
       "      <td>0.0</td>\n",
       "      <td>0.066278</td>\n",
       "      <td>0.0</td>\n",
       "      <td>0.0</td>\n",
       "      <td>0.0</td>\n",
       "      <td>0.0</td>\n",
       "      <td>0.0</td>\n",
       "      <td>0.0</td>\n",
       "      <td>...</td>\n",
       "      <td>0.0</td>\n",
       "      <td>0.0</td>\n",
       "      <td>0.0</td>\n",
       "      <td>0.0</td>\n",
       "      <td>0.0</td>\n",
       "      <td>0.0</td>\n",
       "      <td>0.099643</td>\n",
       "      <td>0.0</td>\n",
       "      <td>-1.0</td>\n",
       "      <td>0.0</td>\n",
       "    </tr>\n",
       "    <tr>\n",
       "      <th>4</th>\n",
       "      <td>0.0</td>\n",
       "      <td>0.0</td>\n",
       "      <td>0.0</td>\n",
       "      <td>0.191968</td>\n",
       "      <td>0.0</td>\n",
       "      <td>0.0</td>\n",
       "      <td>0.0</td>\n",
       "      <td>0.0</td>\n",
       "      <td>0.0</td>\n",
       "      <td>0.0</td>\n",
       "      <td>...</td>\n",
       "      <td>0.0</td>\n",
       "      <td>0.0</td>\n",
       "      <td>0.0</td>\n",
       "      <td>0.0</td>\n",
       "      <td>0.0</td>\n",
       "      <td>0.0</td>\n",
       "      <td>-1.000000</td>\n",
       "      <td>0.0</td>\n",
       "      <td>-1.0</td>\n",
       "      <td>0.0</td>\n",
       "    </tr>\n",
       "    <tr>\n",
       "      <th>5</th>\n",
       "      <td>0.0</td>\n",
       "      <td>0.0</td>\n",
       "      <td>0.0</td>\n",
       "      <td>0.201126</td>\n",
       "      <td>0.0</td>\n",
       "      <td>0.0</td>\n",
       "      <td>0.0</td>\n",
       "      <td>0.0</td>\n",
       "      <td>0.0</td>\n",
       "      <td>0.0</td>\n",
       "      <td>...</td>\n",
       "      <td>0.0</td>\n",
       "      <td>0.0</td>\n",
       "      <td>0.0</td>\n",
       "      <td>0.0</td>\n",
       "      <td>0.0</td>\n",
       "      <td>0.0</td>\n",
       "      <td>-1.000000</td>\n",
       "      <td>0.0</td>\n",
       "      <td>-1.0</td>\n",
       "      <td>0.0</td>\n",
       "    </tr>\n",
       "  </tbody>\n",
       "</table>\n",
       "<p>6 rows × 245 columns</p>\n",
       "</div>"
      ],
      "text/plain": [
       "   0    1    2         3    4    5    6    7    8    9    ...  235  236  237  \\\n",
       "0  0.0  0.0  0.0  0.010825  0.0  0.0  0.0  0.0  0.0  0.0  ...  0.0  0.0  0.0   \n",
       "1  0.0  0.0  0.0  0.062358  0.0  0.0  0.0  0.0  0.0  0.0  ...  0.0  0.0  0.0   \n",
       "2  0.0  0.0  0.0  0.180853  0.0  0.0  0.0  0.0  0.0  0.0  ...  0.0  0.0  0.0   \n",
       "3  0.0  0.0  0.0  0.066278  0.0  0.0  0.0  0.0  0.0  0.0  ...  0.0  0.0  0.0   \n",
       "4  0.0  0.0  0.0  0.191968  0.0  0.0  0.0  0.0  0.0  0.0  ...  0.0  0.0  0.0   \n",
       "5  0.0  0.0  0.0  0.201126  0.0  0.0  0.0  0.0  0.0  0.0  ...  0.0  0.0  0.0   \n",
       "\n",
       "   238  239  240       241  242  243  244  \n",
       "0  0.0  0.0  0.0 -1.000000  0.0 -1.0  0.0  \n",
       "1  0.0  0.0  0.0 -1.000000  0.0 -1.0  0.0  \n",
       "2  0.0  0.0  0.0 -1.000000  0.0 -1.0  0.0  \n",
       "3  0.0  0.0  0.0  0.099643  0.0 -1.0  0.0  \n",
       "4  0.0  0.0  0.0 -1.000000  0.0 -1.0  0.0  \n",
       "5  0.0  0.0  0.0 -1.000000  0.0 -1.0  0.0  \n",
       "\n",
       "[6 rows x 245 columns]"
      ]
     },
     "execution_count": 133,
     "metadata": {},
     "output_type": "execute_result"
    }
   ],
   "source": [
    "u = pd.DataFrame(outSyn[0])\n",
    "u.head(10)"
   ]
  },
  {
   "cell_type": "code",
   "execution_count": 134,
   "metadata": {},
   "outputs": [
    {
     "data": {
      "text/html": [
       "<div>\n",
       "<style scoped>\n",
       "    .dataframe tbody tr th:only-of-type {\n",
       "        vertical-align: middle;\n",
       "    }\n",
       "\n",
       "    .dataframe tbody tr th {\n",
       "        vertical-align: top;\n",
       "    }\n",
       "\n",
       "    .dataframe thead th {\n",
       "        text-align: right;\n",
       "    }\n",
       "</style>\n",
       "<table border=\"1\" class=\"dataframe\">\n",
       "  <thead>\n",
       "    <tr style=\"text-align: right;\">\n",
       "      <th></th>\n",
       "      <th>0</th>\n",
       "      <th>1</th>\n",
       "      <th>2</th>\n",
       "      <th>3</th>\n",
       "      <th>4</th>\n",
       "      <th>5</th>\n",
       "      <th>6</th>\n",
       "      <th>7</th>\n",
       "      <th>8</th>\n",
       "      <th>9</th>\n",
       "      <th>...</th>\n",
       "      <th>235</th>\n",
       "      <th>236</th>\n",
       "      <th>237</th>\n",
       "      <th>238</th>\n",
       "      <th>239</th>\n",
       "      <th>240</th>\n",
       "      <th>241</th>\n",
       "      <th>242</th>\n",
       "      <th>243</th>\n",
       "      <th>244</th>\n",
       "    </tr>\n",
       "  </thead>\n",
       "  <tbody>\n",
       "    <tr>\n",
       "      <th>0</th>\n",
       "      <td>0.545768</td>\n",
       "      <td>0.703299</td>\n",
       "      <td>0.515768</td>\n",
       "      <td>0.311232</td>\n",
       "      <td>0.603906</td>\n",
       "      <td>0.450516</td>\n",
       "      <td>0.485420</td>\n",
       "      <td>-1.000000</td>\n",
       "      <td>0.530434</td>\n",
       "      <td>0.572562</td>\n",
       "      <td>...</td>\n",
       "      <td>-1.000000</td>\n",
       "      <td>-1.000000</td>\n",
       "      <td>-1.000000</td>\n",
       "      <td>-1.000000</td>\n",
       "      <td>0.555532</td>\n",
       "      <td>0.541632</td>\n",
       "      <td>0.654674</td>\n",
       "      <td>0.388019</td>\n",
       "      <td>0.595213</td>\n",
       "      <td>0.494394</td>\n",
       "    </tr>\n",
       "    <tr>\n",
       "      <th>1</th>\n",
       "      <td>0.571387</td>\n",
       "      <td>0.671613</td>\n",
       "      <td>0.496906</td>\n",
       "      <td>0.476887</td>\n",
       "      <td>0.518088</td>\n",
       "      <td>0.460362</td>\n",
       "      <td>0.533427</td>\n",
       "      <td>0.339136</td>\n",
       "      <td>0.503110</td>\n",
       "      <td>0.512354</td>\n",
       "      <td>...</td>\n",
       "      <td>-1.000000</td>\n",
       "      <td>0.535256</td>\n",
       "      <td>0.287251</td>\n",
       "      <td>0.287251</td>\n",
       "      <td>0.469841</td>\n",
       "      <td>0.466546</td>\n",
       "      <td>0.570334</td>\n",
       "      <td>0.629295</td>\n",
       "      <td>0.587421</td>\n",
       "      <td>0.491340</td>\n",
       "    </tr>\n",
       "    <tr>\n",
       "      <th>2</th>\n",
       "      <td>0.573213</td>\n",
       "      <td>0.659692</td>\n",
       "      <td>-1.000000</td>\n",
       "      <td>0.287767</td>\n",
       "      <td>0.482881</td>\n",
       "      <td>0.573876</td>\n",
       "      <td>0.511186</td>\n",
       "      <td>-1.000000</td>\n",
       "      <td>0.554230</td>\n",
       "      <td>0.491498</td>\n",
       "      <td>...</td>\n",
       "      <td>-1.000000</td>\n",
       "      <td>0.514596</td>\n",
       "      <td>0.319856</td>\n",
       "      <td>0.319856</td>\n",
       "      <td>0.499579</td>\n",
       "      <td>0.408823</td>\n",
       "      <td>0.643895</td>\n",
       "      <td>0.608160</td>\n",
       "      <td>0.558828</td>\n",
       "      <td>0.550060</td>\n",
       "    </tr>\n",
       "    <tr>\n",
       "      <th>3</th>\n",
       "      <td>0.719028</td>\n",
       "      <td>0.619979</td>\n",
       "      <td>0.511423</td>\n",
       "      <td>0.440943</td>\n",
       "      <td>0.553337</td>\n",
       "      <td>0.538648</td>\n",
       "      <td>0.516070</td>\n",
       "      <td>-1.000000</td>\n",
       "      <td>0.581957</td>\n",
       "      <td>0.511349</td>\n",
       "      <td>...</td>\n",
       "      <td>0.725449</td>\n",
       "      <td>0.526762</td>\n",
       "      <td>0.378214</td>\n",
       "      <td>0.378214</td>\n",
       "      <td>0.536969</td>\n",
       "      <td>0.488291</td>\n",
       "      <td>0.679073</td>\n",
       "      <td>0.666191</td>\n",
       "      <td>0.593245</td>\n",
       "      <td>0.472189</td>\n",
       "    </tr>\n",
       "    <tr>\n",
       "      <th>4</th>\n",
       "      <td>0.754752</td>\n",
       "      <td>0.575484</td>\n",
       "      <td>0.516054</td>\n",
       "      <td>0.478201</td>\n",
       "      <td>0.531809</td>\n",
       "      <td>0.492656</td>\n",
       "      <td>0.538193</td>\n",
       "      <td>-1.000000</td>\n",
       "      <td>0.573013</td>\n",
       "      <td>0.531139</td>\n",
       "      <td>...</td>\n",
       "      <td>0.842432</td>\n",
       "      <td>0.607337</td>\n",
       "      <td>-1.000000</td>\n",
       "      <td>-1.000000</td>\n",
       "      <td>0.542545</td>\n",
       "      <td>0.519905</td>\n",
       "      <td>0.627382</td>\n",
       "      <td>0.668263</td>\n",
       "      <td>-1.000000</td>\n",
       "      <td>-1.000000</td>\n",
       "    </tr>\n",
       "    <tr>\n",
       "      <th>5</th>\n",
       "      <td>0.854373</td>\n",
       "      <td>0.601120</td>\n",
       "      <td>0.488601</td>\n",
       "      <td>0.647987</td>\n",
       "      <td>0.477734</td>\n",
       "      <td>0.534696</td>\n",
       "      <td>0.476710</td>\n",
       "      <td>0.424972</td>\n",
       "      <td>0.485754</td>\n",
       "      <td>0.461551</td>\n",
       "      <td>...</td>\n",
       "      <td>0.407374</td>\n",
       "      <td>0.612411</td>\n",
       "      <td>0.309963</td>\n",
       "      <td>0.309963</td>\n",
       "      <td>0.484060</td>\n",
       "      <td>0.585643</td>\n",
       "      <td>0.667441</td>\n",
       "      <td>0.700049</td>\n",
       "      <td>0.564833</td>\n",
       "      <td>0.480564</td>\n",
       "    </tr>\n",
       "  </tbody>\n",
       "</table>\n",
       "<p>6 rows × 245 columns</p>\n",
       "</div>"
      ],
      "text/plain": [
       "        0         1         2         3         4         5         6    \\\n",
       "0  0.545768  0.703299  0.515768  0.311232  0.603906  0.450516  0.485420   \n",
       "1  0.571387  0.671613  0.496906  0.476887  0.518088  0.460362  0.533427   \n",
       "2  0.573213  0.659692 -1.000000  0.287767  0.482881  0.573876  0.511186   \n",
       "3  0.719028  0.619979  0.511423  0.440943  0.553337  0.538648  0.516070   \n",
       "4  0.754752  0.575484  0.516054  0.478201  0.531809  0.492656  0.538193   \n",
       "5  0.854373  0.601120  0.488601  0.647987  0.477734  0.534696  0.476710   \n",
       "\n",
       "        7         8         9    ...       235       236       237       238  \\\n",
       "0 -1.000000  0.530434  0.572562  ... -1.000000 -1.000000 -1.000000 -1.000000   \n",
       "1  0.339136  0.503110  0.512354  ... -1.000000  0.535256  0.287251  0.287251   \n",
       "2 -1.000000  0.554230  0.491498  ... -1.000000  0.514596  0.319856  0.319856   \n",
       "3 -1.000000  0.581957  0.511349  ...  0.725449  0.526762  0.378214  0.378214   \n",
       "4 -1.000000  0.573013  0.531139  ...  0.842432  0.607337 -1.000000 -1.000000   \n",
       "5  0.424972  0.485754  0.461551  ...  0.407374  0.612411  0.309963  0.309963   \n",
       "\n",
       "        239       240       241       242       243       244  \n",
       "0  0.555532  0.541632  0.654674  0.388019  0.595213  0.494394  \n",
       "1  0.469841  0.466546  0.570334  0.629295  0.587421  0.491340  \n",
       "2  0.499579  0.408823  0.643895  0.608160  0.558828  0.550060  \n",
       "3  0.536969  0.488291  0.679073  0.666191  0.593245  0.472189  \n",
       "4  0.542545  0.519905  0.627382  0.668263 -1.000000 -1.000000  \n",
       "5  0.484060  0.585643  0.667441  0.700049  0.564833  0.480564  \n",
       "\n",
       "[6 rows x 245 columns]"
      ]
     },
     "execution_count": 134,
     "metadata": {},
     "output_type": "execute_result"
    }
   ],
   "source": [
    "u = pd.DataFrame(testCandidate[0])\n",
    "u.head(10)"
   ]
  },
  {
   "cell_type": "code",
   "execution_count": 135,
   "metadata": {
    "scrolled": true
   },
   "outputs": [
    {
     "data": {
      "image/png": "[encoded data removed]",
      "text/plain": [
       "<Figure size 3600x3600 with 2 Axes>"
      ]
     },
     "metadata": {
      "needs_background": "light"
     },
     "output_type": "display_data"
    }
   ],
   "source": [
    "plt.figure(figsize=(50, 50))\n",
    "u = plt.imshow(np.reshape((np.abs(outSyn-outInter)), (24,245)), cmap = \"hot\")#, vmin=0,vmax=1.0 );\n",
    "plt.title(\"Difference Between the Outputs of Both Autoencoders\", fontsize = 40);\n",
    "plt.xlabel(\"Phosphopeptide\", fontsize = 30);\n",
    "plt.ylabel(\"Times Concatenated\", fontsize = 30);\n",
    "plt.colorbar(u ,fraction=0.0046, pad=0.02);\n",
    "#plt.savefig(\"DiffBetweenOut.png\")"
   ]
  },
  {
   "cell_type": "code",
   "execution_count": 136,
   "metadata": {},
   "outputs": [
    {
     "data": {
      "text/plain": [
       "<matplotlib.colorbar.Colorbar at 0x1afef189a60>"
      ]
     },
     "execution_count": 136,
     "metadata": {},
     "output_type": "execute_result"
    },
    {
     "data": {
      "image/png": "[encoded data removed]",
      "text/plain": [
       "<Figure size 3600x3600 with 2 Axes>"
      ]
     },
     "metadata": {
      "needs_background": "light"
     },
     "output_type": "display_data"
    }
   ],
   "source": [
    "plt.figure(figsize=(50, 50))\n",
    "u = plt.imshow(np.reshape(np.abs(outInter-testCandidate), (24,245)) , cmap = \"hot\", vmin=0,vmax=1.0 )\n",
    "plt.title(\"Difference Between the Input and Output of the Autoencoder Trained on Interpolated Data\", fontsize = 40);\n",
    "plt.xlabel(\"Phosphopeptide\", fontsize = 30)\n",
    "plt.ylabel(\"Times Concatenated\", fontsize = 30);\n",
    "plt.colorbar(u ,fraction=0.0046, pad=0.02)\n",
    "#plt.savefig(\"InterDiffImage.png\")"
   ]
  },
  {
   "cell_type": "code",
   "execution_count": 137,
   "metadata": {},
   "outputs": [
    {
     "data": {
      "image/png": "[encoded data removed]",
      "text/plain": [
       "<Figure size 3600x3600 with 2 Axes>"
      ]
     },
     "metadata": {
      "needs_background": "light"
     },
     "output_type": "display_data"
    }
   ],
   "source": [
    "plt.figure(figsize=(50, 50))\n",
    "u = plt.imshow(np.reshape(np.abs(outSyn-testCandidate), (24,245)), cmap = \"hot\", vmin=0,vmax=1.0 )\n",
    "plt.title(\"Difference Between the Input and Output of the Autoencoder Trained on Synthetic Data\", fontsize = 40);\n",
    "plt.xlabel(\"Phosphopeptide\", fontsize = 30);\n",
    "plt.ylabel(\"Times Concatenated\", fontsize = 30);\n",
    "plt.colorbar(u ,fraction=0.0046, pad=0.02);\n",
    "#plt.savefig(\"SynDiffImage.png\");"
   ]
  },
  {
   "cell_type": "code",
   "execution_count": null,
   "metadata": {},
   "outputs": [],
   "source": []
  },
  {
   "cell_type": "code",
   "execution_count": 138,
   "metadata": {},
   "outputs": [
    {
     "data": {
      "text/html": [
       "<div>\n",
       "<style scoped>\n",
       "    .dataframe tbody tr th:only-of-type {\n",
       "        vertical-align: middle;\n",
       "    }\n",
       "\n",
       "    .dataframe tbody tr th {\n",
       "        vertical-align: top;\n",
       "    }\n",
       "\n",
       "    .dataframe thead th {\n",
       "        text-align: right;\n",
       "    }\n",
       "</style>\n",
       "<table border=\"1\" class=\"dataframe\">\n",
       "  <thead>\n",
       "    <tr style=\"text-align: right;\">\n",
       "      <th></th>\n",
       "      <th>0</th>\n",
       "      <th>1</th>\n",
       "      <th>2</th>\n",
       "      <th>3</th>\n",
       "      <th>4</th>\n",
       "      <th>5</th>\n",
       "      <th>6</th>\n",
       "      <th>7</th>\n",
       "      <th>8</th>\n",
       "      <th>9</th>\n",
       "      <th>...</th>\n",
       "      <th>235</th>\n",
       "      <th>236</th>\n",
       "      <th>237</th>\n",
       "      <th>238</th>\n",
       "      <th>239</th>\n",
       "      <th>240</th>\n",
       "      <th>241</th>\n",
       "      <th>242</th>\n",
       "      <th>243</th>\n",
       "      <th>244</th>\n",
       "    </tr>\n",
       "  </thead>\n",
       "  <tbody>\n",
       "    <tr>\n",
       "      <th>0</th>\n",
       "      <td>0.0</td>\n",
       "      <td>0.0</td>\n",
       "      <td>0.0</td>\n",
       "      <td>0.010825</td>\n",
       "      <td>0.0</td>\n",
       "      <td>0.0</td>\n",
       "      <td>0.0</td>\n",
       "      <td>0.0</td>\n",
       "      <td>0.0</td>\n",
       "      <td>0.0</td>\n",
       "      <td>...</td>\n",
       "      <td>0.0</td>\n",
       "      <td>0.0</td>\n",
       "      <td>0.0</td>\n",
       "      <td>0.0</td>\n",
       "      <td>0.0</td>\n",
       "      <td>0.0</td>\n",
       "      <td>1.000000</td>\n",
       "      <td>0.0</td>\n",
       "      <td>1.0</td>\n",
       "      <td>0.0</td>\n",
       "    </tr>\n",
       "    <tr>\n",
       "      <th>1</th>\n",
       "      <td>0.0</td>\n",
       "      <td>0.0</td>\n",
       "      <td>0.0</td>\n",
       "      <td>0.062358</td>\n",
       "      <td>0.0</td>\n",
       "      <td>0.0</td>\n",
       "      <td>0.0</td>\n",
       "      <td>0.0</td>\n",
       "      <td>0.0</td>\n",
       "      <td>0.0</td>\n",
       "      <td>...</td>\n",
       "      <td>0.0</td>\n",
       "      <td>0.0</td>\n",
       "      <td>0.0</td>\n",
       "      <td>0.0</td>\n",
       "      <td>0.0</td>\n",
       "      <td>0.0</td>\n",
       "      <td>1.000000</td>\n",
       "      <td>0.0</td>\n",
       "      <td>1.0</td>\n",
       "      <td>0.0</td>\n",
       "    </tr>\n",
       "    <tr>\n",
       "      <th>2</th>\n",
       "      <td>0.0</td>\n",
       "      <td>0.0</td>\n",
       "      <td>0.0</td>\n",
       "      <td>0.180853</td>\n",
       "      <td>0.0</td>\n",
       "      <td>0.0</td>\n",
       "      <td>0.0</td>\n",
       "      <td>0.0</td>\n",
       "      <td>0.0</td>\n",
       "      <td>0.0</td>\n",
       "      <td>...</td>\n",
       "      <td>0.0</td>\n",
       "      <td>0.0</td>\n",
       "      <td>0.0</td>\n",
       "      <td>0.0</td>\n",
       "      <td>0.0</td>\n",
       "      <td>0.0</td>\n",
       "      <td>1.000000</td>\n",
       "      <td>0.0</td>\n",
       "      <td>1.0</td>\n",
       "      <td>0.0</td>\n",
       "    </tr>\n",
       "    <tr>\n",
       "      <th>3</th>\n",
       "      <td>0.0</td>\n",
       "      <td>0.0</td>\n",
       "      <td>0.0</td>\n",
       "      <td>0.066278</td>\n",
       "      <td>0.0</td>\n",
       "      <td>0.0</td>\n",
       "      <td>0.0</td>\n",
       "      <td>0.0</td>\n",
       "      <td>0.0</td>\n",
       "      <td>0.0</td>\n",
       "      <td>...</td>\n",
       "      <td>0.0</td>\n",
       "      <td>0.0</td>\n",
       "      <td>0.0</td>\n",
       "      <td>0.0</td>\n",
       "      <td>0.0</td>\n",
       "      <td>0.0</td>\n",
       "      <td>0.099643</td>\n",
       "      <td>0.0</td>\n",
       "      <td>1.0</td>\n",
       "      <td>0.0</td>\n",
       "    </tr>\n",
       "    <tr>\n",
       "      <th>4</th>\n",
       "      <td>0.0</td>\n",
       "      <td>0.0</td>\n",
       "      <td>0.0</td>\n",
       "      <td>0.191968</td>\n",
       "      <td>0.0</td>\n",
       "      <td>0.0</td>\n",
       "      <td>0.0</td>\n",
       "      <td>0.0</td>\n",
       "      <td>0.0</td>\n",
       "      <td>0.0</td>\n",
       "      <td>...</td>\n",
       "      <td>0.0</td>\n",
       "      <td>0.0</td>\n",
       "      <td>0.0</td>\n",
       "      <td>0.0</td>\n",
       "      <td>0.0</td>\n",
       "      <td>0.0</td>\n",
       "      <td>1.000000</td>\n",
       "      <td>0.0</td>\n",
       "      <td>1.0</td>\n",
       "      <td>0.0</td>\n",
       "    </tr>\n",
       "  </tbody>\n",
       "</table>\n",
       "<p>5 rows × 245 columns</p>\n",
       "</div>"
      ],
      "text/plain": [
       "   0    1    2         3    4    5    6    7    8    9    ...  235  236  237  \\\n",
       "0  0.0  0.0  0.0  0.010825  0.0  0.0  0.0  0.0  0.0  0.0  ...  0.0  0.0  0.0   \n",
       "1  0.0  0.0  0.0  0.062358  0.0  0.0  0.0  0.0  0.0  0.0  ...  0.0  0.0  0.0   \n",
       "2  0.0  0.0  0.0  0.180853  0.0  0.0  0.0  0.0  0.0  0.0  ...  0.0  0.0  0.0   \n",
       "3  0.0  0.0  0.0  0.066278  0.0  0.0  0.0  0.0  0.0  0.0  ...  0.0  0.0  0.0   \n",
       "4  0.0  0.0  0.0  0.191968  0.0  0.0  0.0  0.0  0.0  0.0  ...  0.0  0.0  0.0   \n",
       "\n",
       "   238  239  240       241  242  243  244  \n",
       "0  0.0  0.0  0.0  1.000000  0.0  1.0  0.0  \n",
       "1  0.0  0.0  0.0  1.000000  0.0  1.0  0.0  \n",
       "2  0.0  0.0  0.0  1.000000  0.0  1.0  0.0  \n",
       "3  0.0  0.0  0.0  0.099643  0.0  1.0  0.0  \n",
       "4  0.0  0.0  0.0  1.000000  0.0  1.0  0.0  \n",
       "\n",
       "[5 rows x 245 columns]"
      ]
     },
     "execution_count": 138,
     "metadata": {},
     "output_type": "execute_result"
    }
   ],
   "source": [
    "u = pd.DataFrame(np.reshape(np.abs(outSyn), (24,245)))\n",
    "u.head()"
   ]
  },
  {
   "cell_type": "code",
   "execution_count": 139,
   "metadata": {},
   "outputs": [],
   "source": [
    "# np.save(\"interpolated_.npy\", inter) #the interpolated dataset\n",
    "# np.save(\"synthetic_.npy\", genes_intensities_normalized[1:]) # the synthetic dataset\n",
    "# np.save(\"synOut.npy\", outSyn) #the output of the encoder trained on synthetic data with the input being exp1\n",
    "# np.save(\"interOut.npy\", outInter) #the output of the encoder trained on interpolated data with the input being exp1"
   ]
  },
  {
   "cell_type": "markdown",
   "metadata": {},
   "source": [
    "# Try using a super parent with the synthetic dataset because the synthetic dataset performed the best"
   ]
  },
  {
   "cell_type": "code",
   "execution_count": 141,
   "metadata": {},
   "outputs": [
    {
     "data": {
      "text/plain": [
       "<matplotlib.image.AxesImage at 0x1aff32f5220>"
      ]
     },
     "execution_count": 141,
     "metadata": {},
     "output_type": "execute_result"
    },
    {
     "data": {
      "image/png": "[encoded data removed]",
      "text/plain": [
       "<Figure size 1080x360 with 1 Axes>"
      ]
     },
     "metadata": {
      "needs_background": "light"
     },
     "output_type": "display_data"
    }
   ],
   "source": [
    "plt.imshow(superParent)"
   ]
  },
  {
   "cell_type": "code",
   "execution_count": 142,
   "metadata": {},
   "outputs": [
    {
     "data": {
      "text/plain": [
       "<matplotlib.image.AxesImage at 0x1afeeedb6a0>"
      ]
     },
     "execution_count": 142,
     "metadata": {},
     "output_type": "execute_result"
    },
    {
     "data": {
      "image/png": "[encoded data removed]",
      "text/plain": [
       "<Figure size 1080x360 with 1 Axes>"
      ]
     },
     "metadata": {
      "needs_background": "light"
     },
     "output_type": "display_data"
    }
   ],
   "source": [
    "plt.imshow(regulator_gene_matrix)"
   ]
  },
  {
   "cell_type": "code",
   "execution_count": 143,
   "metadata": {},
   "outputs": [
    {
     "name": "stdout",
     "output_type": "stream",
     "text": [
      "Epoch 1/240\n",
      "1/1 [==============================] - 1s 544ms/step - loss: 0.8359\n",
      "Epoch 2/240\n",
      "1/1 [==============================] - 0s 10ms/step - loss: 0.7095\n",
      "Epoch 3/240\n",
      "1/1 [==============================] - 0s 55ms/step - loss: 0.6301\n",
      "Epoch 4/240\n",
      "1/1 [==============================] - 0s 97ms/step - loss: 0.5718\n",
      "Epoch 5/240\n",
      "1/1 [==============================] - 0s 9ms/step - loss: 0.5497\n",
      "Epoch 6/240\n",
      "1/1 [==============================] - 0s 4ms/step - loss: 0.5145\n",
      "Epoch 7/240\n",
      "1/1 [==============================] - 0s 4ms/step - loss: 0.4749\n",
      "Epoch 8/240\n",
      "1/1 [==============================] - 0s 4ms/step - loss: 0.4496\n",
      "Epoch 9/240\n",
      "1/1 [==============================] - 0s 3ms/step - loss: 0.4151\n",
      "Epoch 10/240\n",
      "1/1 [==============================] - 0s 4ms/step - loss: 0.3806\n",
      "Epoch 11/240\n",
      "1/1 [==============================] - 0s 4ms/step - loss: 0.3598\n",
      "Epoch 12/240\n",
      "1/1 [==============================] - 0s 4ms/step - loss: 0.3425\n",
      "Epoch 13/240\n",
      "1/1 [==============================] - 0s 4ms/step - loss: 0.3227\n",
      "Epoch 14/240\n",
      "1/1 [==============================] - 0s 4ms/step - loss: 0.3079\n",
      "Epoch 15/240\n",
      "1/1 [==============================] - 0s 4ms/step - loss: 0.3052\n",
      "Epoch 16/240\n",
      "1/1 [==============================] - 0s 3ms/step - loss: 0.2985\n",
      "Epoch 17/240\n",
      "1/1 [==============================] - 0s 3ms/step - loss: 0.2913\n",
      "Epoch 18/240\n",
      "1/1 [==============================] - 0s 4ms/step - loss: 0.2782\n",
      "Epoch 19/240\n",
      "1/1 [==============================] - 0s 3ms/step - loss: 0.2796\n",
      "Epoch 20/240\n",
      "1/1 [==============================] - 0s 4ms/step - loss: 0.2717\n",
      "Epoch 21/240\n",
      "1/1 [==============================] - 0s 3ms/step - loss: 0.2636\n",
      "Epoch 22/240\n",
      "1/1 [==============================] - 0s 4ms/step - loss: 0.2610\n",
      "Epoch 23/240\n",
      "1/1 [==============================] - 0s 4ms/step - loss: 0.2546\n",
      "Epoch 24/240\n",
      "1/1 [==============================] - 0s 3ms/step - loss: 0.2398\n",
      "Epoch 25/240\n",
      "1/1 [==============================] - 0s 4ms/step - loss: 0.2362\n",
      "Epoch 26/240\n",
      "1/1 [==============================] - 0s 4ms/step - loss: 0.2252\n",
      "Epoch 27/240\n",
      "1/1 [==============================] - 0s 4ms/step - loss: 0.2225\n",
      "Epoch 28/240\n",
      "1/1 [==============================] - 0s 4ms/step - loss: 0.2215\n",
      "Epoch 29/240\n",
      "1/1 [==============================] - 0s 4ms/step - loss: 0.2203\n",
      "Epoch 30/240\n",
      "1/1 [==============================] - 0s 5ms/step - loss: 0.2190\n",
      "Epoch 31/240\n",
      "1/1 [==============================] - 0s 3ms/step - loss: 0.2151\n",
      "Epoch 32/240\n",
      "1/1 [==============================] - 0s 4ms/step - loss: 0.2144\n",
      "Epoch 33/240\n",
      "1/1 [==============================] - 0s 3ms/step - loss: 0.2106\n",
      "Epoch 34/240\n",
      "1/1 [==============================] - 0s 4ms/step - loss: 0.2060\n",
      "Epoch 35/240\n",
      "1/1 [==============================] - 0s 4ms/step - loss: 0.2071\n",
      "Epoch 36/240\n",
      "1/1 [==============================] - 0s 5ms/step - loss: 0.2051\n",
      "Epoch 37/240\n",
      "1/1 [==============================] - 0s 4ms/step - loss: 0.2068\n",
      "Epoch 38/240\n",
      "1/1 [==============================] - 0s 4ms/step - loss: 0.2013\n",
      "Epoch 39/240\n",
      "1/1 [==============================] - 0s 4ms/step - loss: 0.2006\n",
      "Epoch 40/240\n",
      "1/1 [==============================] - 0s 3ms/step - loss: 0.1971\n",
      "Epoch 41/240\n",
      "1/1 [==============================] - 0s 4ms/step - loss: 0.1956\n",
      "Epoch 42/240\n",
      "1/1 [==============================] - 0s 4ms/step - loss: 0.1960\n",
      "Epoch 43/240\n",
      "1/1 [==============================] - 0s 4ms/step - loss: 0.1943\n",
      "Epoch 44/240\n",
      "1/1 [==============================] - 0s 4ms/step - loss: 0.1956\n",
      "Epoch 45/240\n",
      "1/1 [==============================] - 0s 3ms/step - loss: 0.1931\n",
      "Epoch 46/240\n",
      "1/1 [==============================] - 0s 5ms/step - loss: 0.1909\n",
      "Epoch 47/240\n",
      "1/1 [==============================] - 0s 3ms/step - loss: 0.1887\n",
      "Epoch 48/240\n",
      "1/1 [==============================] - 0s 4ms/step - loss: 0.1903\n",
      "Epoch 49/240\n",
      "1/1 [==============================] - 0s 4ms/step - loss: 0.1912\n",
      "Epoch 50/240\n",
      "1/1 [==============================] - 0s 5ms/step - loss: 0.1897\n",
      "Epoch 51/240\n",
      "1/1 [==============================] - 0s 4ms/step - loss: 0.1879\n",
      "Epoch 52/240\n",
      "1/1 [==============================] - 0s 5ms/step - loss: 0.1894\n",
      "Epoch 53/240\n",
      "1/1 [==============================] - 0s 4ms/step - loss: 0.1857\n",
      "Epoch 54/240\n",
      "1/1 [==============================] - 0s 5ms/step - loss: 0.1877\n",
      "Epoch 55/240\n",
      "1/1 [==============================] - 0s 4ms/step - loss: 0.1879\n",
      "Epoch 56/240\n",
      "1/1 [==============================] - 0s 5ms/step - loss: 0.1849\n",
      "Epoch 57/240\n",
      "1/1 [==============================] - 0s 3ms/step - loss: 0.1842\n",
      "Epoch 58/240\n",
      "1/1 [==============================] - 0s 3ms/step - loss: 0.1816\n",
      "Epoch 59/240\n",
      "1/1 [==============================] - 0s 3ms/step - loss: 0.1821\n",
      "Epoch 60/240\n",
      "1/1 [==============================] - 0s 4ms/step - loss: 0.1820\n",
      "Epoch 61/240\n",
      "1/1 [==============================] - 0s 4ms/step - loss: 0.1799\n",
      "Epoch 62/240\n",
      "1/1 [==============================] - 0s 4ms/step - loss: 0.1819\n",
      "Epoch 63/240\n",
      "1/1 [==============================] - 0s 4ms/step - loss: 0.1818\n",
      "Epoch 64/240\n",
      "1/1 [==============================] - 0s 4ms/step - loss: 0.1797\n",
      "Epoch 65/240\n",
      "1/1 [==============================] - 0s 4ms/step - loss: 0.1818\n",
      "Epoch 66/240\n",
      "1/1 [==============================] - 0s 3ms/step - loss: 0.1811\n",
      "Epoch 67/240\n",
      "1/1 [==============================] - 0s 3ms/step - loss: 0.1850\n",
      "Epoch 68/240\n",
      "1/1 [==============================] - 0s 3ms/step - loss: 0.1795\n",
      "Epoch 69/240\n",
      "1/1 [==============================] - 0s 4ms/step - loss: 0.1799\n",
      "Epoch 70/240\n",
      "1/1 [==============================] - 0s 3ms/step - loss: 0.1798\n",
      "Epoch 71/240\n",
      "1/1 [==============================] - 0s 4ms/step - loss: 0.1802\n",
      "Epoch 72/240\n",
      "1/1 [==============================] - 0s 4ms/step - loss: 0.1798\n",
      "Epoch 73/240\n",
      "1/1 [==============================] - 0s 4ms/step - loss: 0.1790\n",
      "Epoch 74/240\n",
      "1/1 [==============================] - 0s 4ms/step - loss: 0.1790\n",
      "Epoch 75/240\n",
      "1/1 [==============================] - 0s 4ms/step - loss: 0.1797\n",
      "Epoch 76/240\n",
      "1/1 [==============================] - 0s 4ms/step - loss: 0.1797\n",
      "Epoch 77/240\n",
      "1/1 [==============================] - 0s 4ms/step - loss: 0.1789\n",
      "Epoch 78/240\n",
      "1/1 [==============================] - 0s 3ms/step - loss: 0.1805\n",
      "Epoch 79/240\n",
      "1/1 [==============================] - 0s 3ms/step - loss: 0.1804\n",
      "Epoch 80/240\n",
      "1/1 [==============================] - 0s 4ms/step - loss: 0.1791\n",
      "Epoch 81/240\n",
      "1/1 [==============================] - 0s 3ms/step - loss: 0.1787\n",
      "Epoch 82/240\n",
      "1/1 [==============================] - 0s 4ms/step - loss: 0.1794\n",
      "Epoch 83/240\n",
      "1/1 [==============================] - 0s 3ms/step - loss: 0.1790\n",
      "Epoch 84/240\n",
      "1/1 [==============================] - 0s 4ms/step - loss: 0.1794\n",
      "Epoch 85/240\n",
      "1/1 [==============================] - 0s 4ms/step - loss: 0.1797\n",
      "Epoch 86/240\n",
      "1/1 [==============================] - 0s 3ms/step - loss: 0.1790\n",
      "Epoch 87/240\n",
      "1/1 [==============================] - 0s 4ms/step - loss: 0.1790\n",
      "Epoch 88/240\n",
      "1/1 [==============================] - 0s 3ms/step - loss: 0.1790\n",
      "Epoch 89/240\n",
      "1/1 [==============================] - 0s 4ms/step - loss: 0.1793\n",
      "Epoch 90/240\n",
      "1/1 [==============================] - 0s 4ms/step - loss: 0.1790\n",
      "Epoch 91/240\n",
      "1/1 [==============================] - 0s 4ms/step - loss: 0.1786\n",
      "Epoch 92/240\n",
      "1/1 [==============================] - 0s 3ms/step - loss: 0.1786\n",
      "Epoch 93/240\n",
      "1/1 [==============================] - 0s 4ms/step - loss: 0.1786\n",
      "Epoch 94/240\n",
      "1/1 [==============================] - 0s 4ms/step - loss: 0.1786\n",
      "Epoch 95/240\n",
      "1/1 [==============================] - 0s 4ms/step - loss: 0.1786\n",
      "Epoch 96/240\n",
      "1/1 [==============================] - 0s 4ms/step - loss: 0.1786\n",
      "Epoch 97/240\n",
      "1/1 [==============================] - 0s 4ms/step - loss: 0.1789\n",
      "Epoch 98/240\n",
      "1/1 [==============================] - 0s 3ms/step - loss: 0.1786\n",
      "Epoch 99/240\n",
      "1/1 [==============================] - 0s 4ms/step - loss: 0.1786\n",
      "Epoch 100/240\n",
      "1/1 [==============================] - 0s 3ms/step - loss: 0.1786\n",
      "Epoch 101/240\n",
      "1/1 [==============================] - 0s 4ms/step - loss: 0.1786\n",
      "Epoch 102/240\n",
      "1/1 [==============================] - 0s 3ms/step - loss: 0.1789\n",
      "Epoch 103/240\n",
      "1/1 [==============================] - 0s 3ms/step - loss: 0.1789\n",
      "Epoch 104/240\n",
      "1/1 [==============================] - 0s 3ms/step - loss: 0.1786\n",
      "Epoch 105/240\n",
      "1/1 [==============================] - 0s 4ms/step - loss: 0.1786\n",
      "Epoch 106/240\n",
      "1/1 [==============================] - 0s 5ms/step - loss: 0.1793\n",
      "Epoch 107/240\n",
      "1/1 [==============================] - 0s 3ms/step - loss: 0.1786\n",
      "Epoch 108/240\n",
      "1/1 [==============================] - 0s 4ms/step - loss: 0.1786\n",
      "Epoch 109/240\n",
      "1/1 [==============================] - 0s 4ms/step - loss: 0.1786\n",
      "Epoch 110/240\n",
      "1/1 [==============================] - 0s 3ms/step - loss: 0.1786\n",
      "Epoch 111/240\n",
      "1/1 [==============================] - 0s 4ms/step - loss: 0.1786\n",
      "Epoch 112/240\n",
      "1/1 [==============================] - 0s 4ms/step - loss: 0.1786\n",
      "Epoch 113/240\n",
      "1/1 [==============================] - 0s 4ms/step - loss: 0.1789\n",
      "Epoch 114/240\n",
      "1/1 [==============================] - 0s 4ms/step - loss: 0.1786\n",
      "Epoch 115/240\n",
      "1/1 [==============================] - 0s 3ms/step - loss: 0.1786\n",
      "Epoch 116/240\n",
      "1/1 [==============================] - 0s 3ms/step - loss: 0.1786\n",
      "Epoch 117/240\n",
      "1/1 [==============================] - 0s 3ms/step - loss: 0.1789\n",
      "Epoch 118/240\n",
      "1/1 [==============================] - 0s 4ms/step - loss: 0.1786\n",
      "Epoch 119/240\n",
      "1/1 [==============================] - 0s 3ms/step - loss: 0.1786\n",
      "Epoch 120/240\n",
      "1/1 [==============================] - 0s 3ms/step - loss: 0.1786\n",
      "Epoch 121/240\n",
      "1/1 [==============================] - 0s 4ms/step - loss: 0.1786\n",
      "Epoch 122/240\n",
      "1/1 [==============================] - 0s 4ms/step - loss: 0.1786\n",
      "Epoch 123/240\n",
      "1/1 [==============================] - 0s 3ms/step - loss: 0.1786\n",
      "Epoch 124/240\n",
      "1/1 [==============================] - 0s 4ms/step - loss: 0.1786\n",
      "Epoch 125/240\n",
      "1/1 [==============================] - 0s 4ms/step - loss: 0.1786\n",
      "Epoch 126/240\n",
      "1/1 [==============================] - 0s 4ms/step - loss: 0.1785\n",
      "Epoch 127/240\n",
      "1/1 [==============================] - 0s 5ms/step - loss: 0.1789\n",
      "Epoch 128/240\n",
      "1/1 [==============================] - 0s 4ms/step - loss: 0.1785\n",
      "Epoch 129/240\n",
      "1/1 [==============================] - 0s 4ms/step - loss: 0.1785\n",
      "Epoch 130/240\n",
      "1/1 [==============================] - 0s 4ms/step - loss: 0.1785\n",
      "Epoch 131/240\n",
      "1/1 [==============================] - 0s 5ms/step - loss: 0.1785\n",
      "Epoch 132/240\n",
      "1/1 [==============================] - 0s 4ms/step - loss: 0.1785\n",
      "Epoch 133/240\n",
      "1/1 [==============================] - 0s 4ms/step - loss: 0.1785\n",
      "Epoch 134/240\n",
      "1/1 [==============================] - 0s 3ms/step - loss: 0.1785\n",
      "Epoch 135/240\n",
      "1/1 [==============================] - 0s 3ms/step - loss: 0.1785\n",
      "Epoch 136/240\n",
      "1/1 [==============================] - 0s 4ms/step - loss: 0.1785\n",
      "Epoch 137/240\n",
      "1/1 [==============================] - 0s 4ms/step - loss: 0.1785\n",
      "Epoch 138/240\n",
      "1/1 [==============================] - 0s 4ms/step - loss: 0.1785\n",
      "Epoch 139/240\n",
      "1/1 [==============================] - 0s 4ms/step - loss: 0.1785\n",
      "Epoch 140/240\n",
      "1/1 [==============================] - 0s 4ms/step - loss: 0.1785\n",
      "Epoch 141/240\n",
      "1/1 [==============================] - 0s 3ms/step - loss: 0.1785\n",
      "Epoch 142/240\n",
      "1/1 [==============================] - 0s 3ms/step - loss: 0.1785\n",
      "Epoch 143/240\n",
      "1/1 [==============================] - 0s 4ms/step - loss: 0.1785\n",
      "Epoch 144/240\n",
      "1/1 [==============================] - 0s 3ms/step - loss: 0.1785\n",
      "Epoch 145/240\n",
      "1/1 [==============================] - 0s 3ms/step - loss: 0.1785\n",
      "Epoch 146/240\n",
      "1/1 [==============================] - 0s 4ms/step - loss: 0.1785\n",
      "Epoch 147/240\n",
      "1/1 [==============================] - 0s 4ms/step - loss: 0.1785\n",
      "Epoch 148/240\n",
      "1/1 [==============================] - 0s 3ms/step - loss: 0.1785\n",
      "Epoch 149/240\n",
      "1/1 [==============================] - 0s 4ms/step - loss: 0.1785\n",
      "Epoch 150/240\n",
      "1/1 [==============================] - 0s 4ms/step - loss: 0.1785\n",
      "Epoch 151/240\n",
      "1/1 [==============================] - 0s 3ms/step - loss: 0.1785\n",
      "Epoch 152/240\n",
      "1/1 [==============================] - 0s 3ms/step - loss: 0.1785\n",
      "Epoch 153/240\n",
      "1/1 [==============================] - 0s 4ms/step - loss: 0.1785\n",
      "Epoch 154/240\n",
      "1/1 [==============================] - 0s 4ms/step - loss: 0.1785\n",
      "Epoch 155/240\n",
      "1/1 [==============================] - 0s 4ms/step - loss: 0.1785\n",
      "Epoch 156/240\n",
      "1/1 [==============================] - 0s 4ms/step - loss: 0.1785\n",
      "Epoch 157/240\n",
      "1/1 [==============================] - 0s 3ms/step - loss: 0.1785\n",
      "Epoch 158/240\n",
      "1/1 [==============================] - 0s 3ms/step - loss: 0.1785\n",
      "Epoch 159/240\n",
      "1/1 [==============================] - 0s 4ms/step - loss: 0.1785\n",
      "Epoch 160/240\n",
      "1/1 [==============================] - 0s 4ms/step - loss: 0.1785\n",
      "Epoch 161/240\n",
      "1/1 [==============================] - 0s 3ms/step - loss: 0.1785\n",
      "Epoch 162/240\n",
      "1/1 [==============================] - 0s 4ms/step - loss: 0.1785\n",
      "Epoch 163/240\n",
      "1/1 [==============================] - 0s 4ms/step - loss: 0.1785\n",
      "Epoch 164/240\n",
      "1/1 [==============================] - 0s 4ms/step - loss: 0.1785\n",
      "Epoch 165/240\n",
      "1/1 [==============================] - 0s 4ms/step - loss: 0.1785\n",
      "Epoch 166/240\n",
      "1/1 [==============================] - 0s 3ms/step - loss: 0.1785\n",
      "Epoch 167/240\n",
      "1/1 [==============================] - 0s 4ms/step - loss: 0.1785\n",
      "Epoch 168/240\n",
      "1/1 [==============================] - 0s 3ms/step - loss: 0.1785\n",
      "Epoch 169/240\n",
      "1/1 [==============================] - 0s 4ms/step - loss: 0.1785\n",
      "Epoch 170/240\n",
      "1/1 [==============================] - 0s 3ms/step - loss: 0.1785\n",
      "Epoch 171/240\n",
      "1/1 [==============================] - 0s 3ms/step - loss: 0.1785\n",
      "Epoch 172/240\n",
      "1/1 [==============================] - 0s 3ms/step - loss: 0.1785\n",
      "Epoch 173/240\n",
      "1/1 [==============================] - 0s 3ms/step - loss: 0.1785\n",
      "Epoch 174/240\n",
      "1/1 [==============================] - 0s 3ms/step - loss: 0.1785\n",
      "Epoch 175/240\n",
      "1/1 [==============================] - 0s 4ms/step - loss: 0.1785\n",
      "Epoch 176/240\n",
      "1/1 [==============================] - 0s 3ms/step - loss: 0.1785\n",
      "Epoch 177/240\n",
      "1/1 [==============================] - 0s 3ms/step - loss: 0.1785\n",
      "Epoch 178/240\n",
      "1/1 [==============================] - 0s 3ms/step - loss: 0.1785\n",
      "Epoch 179/240\n",
      "1/1 [==============================] - 0s 4ms/step - loss: 0.1785\n",
      "Epoch 180/240\n",
      "1/1 [==============================] - 0s 4ms/step - loss: 0.1785\n",
      "Epoch 181/240\n",
      "1/1 [==============================] - 0s 3ms/step - loss: 0.1785\n",
      "Epoch 182/240\n",
      "1/1 [==============================] - 0s 4ms/step - loss: 0.1785\n",
      "Epoch 183/240\n",
      "1/1 [==============================] - 0s 5ms/step - loss: 0.1785\n",
      "Epoch 184/240\n",
      "1/1 [==============================] - 0s 3ms/step - loss: 0.1785\n",
      "Epoch 185/240\n",
      "1/1 [==============================] - 0s 4ms/step - loss: 0.1785\n",
      "Epoch 186/240\n",
      "1/1 [==============================] - 0s 3ms/step - loss: 0.1785\n",
      "Epoch 187/240\n",
      "1/1 [==============================] - 0s 4ms/step - loss: 0.1785\n",
      "Epoch 188/240\n",
      "1/1 [==============================] - 0s 3ms/step - loss: 0.1785\n",
      "Epoch 189/240\n",
      "1/1 [==============================] - 0s 4ms/step - loss: 0.1785\n",
      "Epoch 190/240\n",
      "1/1 [==============================] - 0s 3ms/step - loss: 0.1785\n",
      "Epoch 191/240\n",
      "1/1 [==============================] - 0s 3ms/step - loss: 0.1785\n",
      "Epoch 192/240\n",
      "1/1 [==============================] - 0s 4ms/step - loss: 0.1785\n",
      "Epoch 193/240\n",
      "1/1 [==============================] - 0s 3ms/step - loss: 0.1785\n",
      "Epoch 194/240\n",
      "1/1 [==============================] - 0s 4ms/step - loss: 0.1785\n",
      "Epoch 195/240\n",
      "1/1 [==============================] - 0s 3ms/step - loss: 0.1785\n",
      "Epoch 196/240\n",
      "1/1 [==============================] - 0s 3ms/step - loss: 0.1785\n",
      "Epoch 197/240\n",
      "1/1 [==============================] - 0s 4ms/step - loss: 0.1785\n",
      "Epoch 198/240\n",
      "1/1 [==============================] - 0s 3ms/step - loss: 0.1785\n",
      "Epoch 199/240\n",
      "1/1 [==============================] - 0s 4ms/step - loss: 0.1785\n",
      "Epoch 200/240\n",
      "1/1 [==============================] - 0s 4ms/step - loss: 0.1785\n",
      "Epoch 201/240\n",
      "1/1 [==============================] - 0s 3ms/step - loss: 0.1785\n",
      "Epoch 202/240\n",
      "1/1 [==============================] - 0s 3ms/step - loss: 0.1785\n",
      "Epoch 203/240\n",
      "1/1 [==============================] - 0s 4ms/step - loss: 0.1785\n",
      "Epoch 204/240\n",
      "1/1 [==============================] - 0s 4ms/step - loss: 0.1785\n",
      "Epoch 205/240\n",
      "1/1 [==============================] - 0s 3ms/step - loss: 0.1785\n",
      "Epoch 206/240\n"
     ]
    },
    {
     "name": "stdout",
     "output_type": "stream",
     "text": [
      "1/1 [==============================] - 0s 3ms/step - loss: 0.1785\n",
      "Epoch 207/240\n",
      "1/1 [==============================] - 0s 4ms/step - loss: 0.1785\n",
      "Epoch 208/240\n",
      "1/1 [==============================] - 0s 3ms/step - loss: 0.1785\n",
      "Epoch 209/240\n",
      "1/1 [==============================] - 0s 3ms/step - loss: 0.1785\n",
      "Epoch 210/240\n",
      "1/1 [==============================] - 0s 4ms/step - loss: 0.1785\n",
      "Epoch 211/240\n",
      "1/1 [==============================] - 0s 4ms/step - loss: 0.1785\n",
      "Epoch 212/240\n",
      "1/1 [==============================] - 0s 4ms/step - loss: 0.1785\n",
      "Epoch 213/240\n",
      "1/1 [==============================] - 0s 4ms/step - loss: 0.1785\n",
      "Epoch 214/240\n",
      "1/1 [==============================] - 0s 4ms/step - loss: 0.1785\n",
      "Epoch 215/240\n",
      "1/1 [==============================] - 0s 3ms/step - loss: 0.1785\n",
      "Epoch 216/240\n",
      "1/1 [==============================] - 0s 4ms/step - loss: 0.1785\n",
      "Epoch 217/240\n",
      "1/1 [==============================] - 0s 3ms/step - loss: 0.1785\n",
      "Epoch 218/240\n",
      "1/1 [==============================] - 0s 3ms/step - loss: 0.1785\n",
      "Epoch 219/240\n",
      "1/1 [==============================] - 0s 3ms/step - loss: 0.1785\n",
      "Epoch 220/240\n",
      "1/1 [==============================] - 0s 4ms/step - loss: 0.1785\n",
      "Epoch 221/240\n",
      "1/1 [==============================] - 0s 3ms/step - loss: 0.1785\n",
      "Epoch 222/240\n",
      "1/1 [==============================] - 0s 4ms/step - loss: 0.1785\n",
      "Epoch 223/240\n",
      "1/1 [==============================] - 0s 4ms/step - loss: 0.1785\n",
      "Epoch 224/240\n",
      "1/1 [==============================] - 0s 3ms/step - loss: 0.1785\n",
      "Epoch 225/240\n",
      "1/1 [==============================] - 0s 3ms/step - loss: 0.1785\n",
      "Epoch 226/240\n",
      "1/1 [==============================] - 0s 4ms/step - loss: 0.1785\n",
      "Epoch 227/240\n",
      "1/1 [==============================] - 0s 5ms/step - loss: 0.1785\n",
      "Epoch 228/240\n",
      "1/1 [==============================] - 0s 3ms/step - loss: 0.1785\n",
      "Epoch 229/240\n",
      "1/1 [==============================] - 0s 4ms/step - loss: 0.1785\n",
      "Epoch 230/240\n",
      "1/1 [==============================] - 0s 3ms/step - loss: 0.1785\n",
      "Epoch 231/240\n",
      "1/1 [==============================] - 0s 4ms/step - loss: 0.1785\n",
      "Epoch 232/240\n",
      "1/1 [==============================] - 0s 4ms/step - loss: 0.1785\n",
      "Epoch 233/240\n",
      "1/1 [==============================] - 0s 3ms/step - loss: 0.1785\n",
      "Epoch 234/240\n",
      "1/1 [==============================] - 0s 4ms/step - loss: 0.1785\n",
      "Epoch 235/240\n",
      "1/1 [==============================] - 0s 4ms/step - loss: 0.1785\n",
      "Epoch 236/240\n",
      "1/1 [==============================] - 0s 3ms/step - loss: 0.1785\n",
      "Epoch 237/240\n",
      "1/1 [==============================] - 0s 3ms/step - loss: 0.1785\n",
      "Epoch 238/240\n",
      "1/1 [==============================] - 0s 4ms/step - loss: 0.1785\n",
      "Epoch 239/240\n",
      "1/1 [==============================] - 0s 3ms/step - loss: 0.1785\n",
      "Epoch 240/240\n",
      "1/1 [==============================] - 0s 4ms/step - loss: 0.1785\n"
     ]
    },
    {
     "data": {
      "text/plain": [
       "<keras.callbacks.History at 0x1af6a480130>"
      ]
     },
     "execution_count": 143,
     "metadata": {},
     "output_type": "execute_result"
    }
   ],
   "source": [
    "looseParent = model(superParent, 245, 6, 245, 21)\n",
    "looseParent.compile(optimizer='adam', loss=ignore_noParent_MSE)\n",
    "looseParent.fit(inter, inter, epochs=240)"
   ]
  },
  {
   "cell_type": "code",
   "execution_count": 144,
   "metadata": {},
   "outputs": [
    {
     "name": "stdout",
     "output_type": "stream",
     "text": [
      "WARNING:tensorflow:6 out of the last 6 calls to <function Model.make_predict_function.<locals>.predict_function at 0x000001AFEEEAA9D0> triggered tf.function retracing. Tracing is expensive and the excessive number of tracings could be due to (1) creating @tf.function repeatedly in a loop, (2) passing tensors with different shapes, (3) passing Python objects instead of tensors. For (1), please define your @tf.function outside of the loop. For (2), @tf.function has reduce_retracing=True option that can avoid unnecessary retracing. For (3), please refer to https://www.tensorflow.org/guide/function#controlling_retracing and https://www.tensorflow.org/api_docs/python/tf/function for  more details.\n",
      "1/1 [==============================] - 0s 90ms/step\n"
     ]
    },
    {
     "data": {
      "text/plain": [
       "<tf.Tensor: shape=(), dtype=float64, numpy=0.7681930698501632>"
      ]
     },
     "execution_count": 144,
     "metadata": {},
     "output_type": "execute_result"
    }
   ],
   "source": [
    "ignore_noParent_MSE(k := looseParent.predict(testCandidate), testCandidate)"
   ]
  },
  {
   "cell_type": "code",
   "execution_count": 145,
   "metadata": {},
   "outputs": [
    {
     "data": {
      "text/html": [
       "<div>\n",
       "<style scoped>\n",
       "    .dataframe tbody tr th:only-of-type {\n",
       "        vertical-align: middle;\n",
       "    }\n",
       "\n",
       "    .dataframe tbody tr th {\n",
       "        vertical-align: top;\n",
       "    }\n",
       "\n",
       "    .dataframe thead th {\n",
       "        text-align: right;\n",
       "    }\n",
       "</style>\n",
       "<table border=\"1\" class=\"dataframe\">\n",
       "  <thead>\n",
       "    <tr style=\"text-align: right;\">\n",
       "      <th></th>\n",
       "      <th>0</th>\n",
       "      <th>1</th>\n",
       "      <th>2</th>\n",
       "      <th>3</th>\n",
       "      <th>4</th>\n",
       "      <th>5</th>\n",
       "      <th>6</th>\n",
       "      <th>7</th>\n",
       "      <th>8</th>\n",
       "      <th>9</th>\n",
       "      <th>...</th>\n",
       "      <th>235</th>\n",
       "      <th>236</th>\n",
       "      <th>237</th>\n",
       "      <th>238</th>\n",
       "      <th>239</th>\n",
       "      <th>240</th>\n",
       "      <th>241</th>\n",
       "      <th>242</th>\n",
       "      <th>243</th>\n",
       "      <th>244</th>\n",
       "    </tr>\n",
       "  </thead>\n",
       "  <tbody>\n",
       "    <tr>\n",
       "      <th>0</th>\n",
       "      <td>0.0</td>\n",
       "      <td>0.0</td>\n",
       "      <td>0.0</td>\n",
       "      <td>0.219408</td>\n",
       "      <td>0.0</td>\n",
       "      <td>0.0</td>\n",
       "      <td>0.0</td>\n",
       "      <td>0.0</td>\n",
       "      <td>0.0</td>\n",
       "      <td>0.0</td>\n",
       "      <td>...</td>\n",
       "      <td>0.0</td>\n",
       "      <td>0.0</td>\n",
       "      <td>0.0</td>\n",
       "      <td>0.0</td>\n",
       "      <td>0.0</td>\n",
       "      <td>0.0</td>\n",
       "      <td>0.358867</td>\n",
       "      <td>0.0</td>\n",
       "      <td>0.059898</td>\n",
       "      <td>0.0</td>\n",
       "    </tr>\n",
       "    <tr>\n",
       "      <th>1</th>\n",
       "      <td>0.0</td>\n",
       "      <td>0.0</td>\n",
       "      <td>0.0</td>\n",
       "      <td>0.386758</td>\n",
       "      <td>0.0</td>\n",
       "      <td>0.0</td>\n",
       "      <td>0.0</td>\n",
       "      <td>0.0</td>\n",
       "      <td>0.0</td>\n",
       "      <td>0.0</td>\n",
       "      <td>...</td>\n",
       "      <td>0.0</td>\n",
       "      <td>0.0</td>\n",
       "      <td>0.0</td>\n",
       "      <td>0.0</td>\n",
       "      <td>0.0</td>\n",
       "      <td>0.0</td>\n",
       "      <td>0.180966</td>\n",
       "      <td>0.0</td>\n",
       "      <td>0.152100</td>\n",
       "      <td>0.0</td>\n",
       "    </tr>\n",
       "    <tr>\n",
       "      <th>2</th>\n",
       "      <td>0.0</td>\n",
       "      <td>0.0</td>\n",
       "      <td>0.0</td>\n",
       "      <td>0.218235</td>\n",
       "      <td>0.0</td>\n",
       "      <td>0.0</td>\n",
       "      <td>0.0</td>\n",
       "      <td>0.0</td>\n",
       "      <td>0.0</td>\n",
       "      <td>0.0</td>\n",
       "      <td>...</td>\n",
       "      <td>0.0</td>\n",
       "      <td>0.0</td>\n",
       "      <td>0.0</td>\n",
       "      <td>0.0</td>\n",
       "      <td>0.0</td>\n",
       "      <td>0.0</td>\n",
       "      <td>0.074244</td>\n",
       "      <td>0.0</td>\n",
       "      <td>0.138350</td>\n",
       "      <td>0.0</td>\n",
       "    </tr>\n",
       "    <tr>\n",
       "      <th>3</th>\n",
       "      <td>0.0</td>\n",
       "      <td>0.0</td>\n",
       "      <td>0.0</td>\n",
       "      <td>0.229954</td>\n",
       "      <td>0.0</td>\n",
       "      <td>0.0</td>\n",
       "      <td>0.0</td>\n",
       "      <td>0.0</td>\n",
       "      <td>0.0</td>\n",
       "      <td>0.0</td>\n",
       "      <td>...</td>\n",
       "      <td>0.0</td>\n",
       "      <td>0.0</td>\n",
       "      <td>0.0</td>\n",
       "      <td>0.0</td>\n",
       "      <td>0.0</td>\n",
       "      <td>0.0</td>\n",
       "      <td>0.024828</td>\n",
       "      <td>0.0</td>\n",
       "      <td>-1.000000</td>\n",
       "      <td>0.0</td>\n",
       "    </tr>\n",
       "    <tr>\n",
       "      <th>4</th>\n",
       "      <td>0.0</td>\n",
       "      <td>0.0</td>\n",
       "      <td>0.0</td>\n",
       "      <td>0.136029</td>\n",
       "      <td>0.0</td>\n",
       "      <td>0.0</td>\n",
       "      <td>0.0</td>\n",
       "      <td>0.0</td>\n",
       "      <td>0.0</td>\n",
       "      <td>0.0</td>\n",
       "      <td>...</td>\n",
       "      <td>0.0</td>\n",
       "      <td>0.0</td>\n",
       "      <td>0.0</td>\n",
       "      <td>0.0</td>\n",
       "      <td>0.0</td>\n",
       "      <td>0.0</td>\n",
       "      <td>0.018121</td>\n",
       "      <td>0.0</td>\n",
       "      <td>0.070137</td>\n",
       "      <td>0.0</td>\n",
       "    </tr>\n",
       "  </tbody>\n",
       "</table>\n",
       "<p>5 rows × 245 columns</p>\n",
       "</div>"
      ],
      "text/plain": [
       "   0    1    2         3    4    5    6    7    8    9    ...  235  236  237  \\\n",
       "0  0.0  0.0  0.0  0.219408  0.0  0.0  0.0  0.0  0.0  0.0  ...  0.0  0.0  0.0   \n",
       "1  0.0  0.0  0.0  0.386758  0.0  0.0  0.0  0.0  0.0  0.0  ...  0.0  0.0  0.0   \n",
       "2  0.0  0.0  0.0  0.218235  0.0  0.0  0.0  0.0  0.0  0.0  ...  0.0  0.0  0.0   \n",
       "3  0.0  0.0  0.0  0.229954  0.0  0.0  0.0  0.0  0.0  0.0  ...  0.0  0.0  0.0   \n",
       "4  0.0  0.0  0.0  0.136029  0.0  0.0  0.0  0.0  0.0  0.0  ...  0.0  0.0  0.0   \n",
       "\n",
       "   238  239  240       241  242       243  244  \n",
       "0  0.0  0.0  0.0  0.358867  0.0  0.059898  0.0  \n",
       "1  0.0  0.0  0.0  0.180966  0.0  0.152100  0.0  \n",
       "2  0.0  0.0  0.0  0.074244  0.0  0.138350  0.0  \n",
       "3  0.0  0.0  0.0  0.024828  0.0 -1.000000  0.0  \n",
       "4  0.0  0.0  0.0  0.018121  0.0  0.070137  0.0  \n",
       "\n",
       "[5 rows x 245 columns]"
      ]
     },
     "execution_count": 145,
     "metadata": {},
     "output_type": "execute_result"
    }
   ],
   "source": [
    "u = np.reshape(k, (24,245))\n",
    "u = pd.DataFrame(u)\n",
    "u.head()"
   ]
  },
  {
   "cell_type": "code",
   "execution_count": 146,
   "metadata": {
    "scrolled": true
   },
   "outputs": [
    {
     "data": {
      "text/html": [
       "<div>\n",
       "<style scoped>\n",
       "    .dataframe tbody tr th:only-of-type {\n",
       "        vertical-align: middle;\n",
       "    }\n",
       "\n",
       "    .dataframe tbody tr th {\n",
       "        vertical-align: top;\n",
       "    }\n",
       "\n",
       "    .dataframe thead th {\n",
       "        text-align: right;\n",
       "    }\n",
       "</style>\n",
       "<table border=\"1\" class=\"dataframe\">\n",
       "  <thead>\n",
       "    <tr style=\"text-align: right;\">\n",
       "      <th></th>\n",
       "      <th>0</th>\n",
       "      <th>1</th>\n",
       "      <th>2</th>\n",
       "      <th>3</th>\n",
       "      <th>4</th>\n",
       "      <th>5</th>\n",
       "      <th>6</th>\n",
       "      <th>7</th>\n",
       "      <th>8</th>\n",
       "      <th>9</th>\n",
       "      <th>...</th>\n",
       "      <th>235</th>\n",
       "      <th>236</th>\n",
       "      <th>237</th>\n",
       "      <th>238</th>\n",
       "      <th>239</th>\n",
       "      <th>240</th>\n",
       "      <th>241</th>\n",
       "      <th>242</th>\n",
       "      <th>243</th>\n",
       "      <th>244</th>\n",
       "    </tr>\n",
       "  </thead>\n",
       "  <tbody>\n",
       "    <tr>\n",
       "      <th>0</th>\n",
       "      <td>0.545768</td>\n",
       "      <td>0.703299</td>\n",
       "      <td>0.515768</td>\n",
       "      <td>0.311232</td>\n",
       "      <td>0.603906</td>\n",
       "      <td>0.450516</td>\n",
       "      <td>0.485420</td>\n",
       "      <td>-1.000000</td>\n",
       "      <td>0.530434</td>\n",
       "      <td>0.572562</td>\n",
       "      <td>...</td>\n",
       "      <td>-1.000000</td>\n",
       "      <td>-1.000000</td>\n",
       "      <td>-1.000000</td>\n",
       "      <td>-1.000000</td>\n",
       "      <td>0.555532</td>\n",
       "      <td>0.541632</td>\n",
       "      <td>0.654674</td>\n",
       "      <td>0.388019</td>\n",
       "      <td>0.595213</td>\n",
       "      <td>0.494394</td>\n",
       "    </tr>\n",
       "    <tr>\n",
       "      <th>1</th>\n",
       "      <td>0.571387</td>\n",
       "      <td>0.671613</td>\n",
       "      <td>0.496906</td>\n",
       "      <td>0.476887</td>\n",
       "      <td>0.518088</td>\n",
       "      <td>0.460362</td>\n",
       "      <td>0.533427</td>\n",
       "      <td>0.339136</td>\n",
       "      <td>0.503110</td>\n",
       "      <td>0.512354</td>\n",
       "      <td>...</td>\n",
       "      <td>-1.000000</td>\n",
       "      <td>0.535256</td>\n",
       "      <td>0.287251</td>\n",
       "      <td>0.287251</td>\n",
       "      <td>0.469841</td>\n",
       "      <td>0.466546</td>\n",
       "      <td>0.570334</td>\n",
       "      <td>0.629295</td>\n",
       "      <td>0.587421</td>\n",
       "      <td>0.491340</td>\n",
       "    </tr>\n",
       "    <tr>\n",
       "      <th>2</th>\n",
       "      <td>0.573213</td>\n",
       "      <td>0.659692</td>\n",
       "      <td>-1.000000</td>\n",
       "      <td>0.287767</td>\n",
       "      <td>0.482881</td>\n",
       "      <td>0.573876</td>\n",
       "      <td>0.511186</td>\n",
       "      <td>-1.000000</td>\n",
       "      <td>0.554230</td>\n",
       "      <td>0.491498</td>\n",
       "      <td>...</td>\n",
       "      <td>-1.000000</td>\n",
       "      <td>0.514596</td>\n",
       "      <td>0.319856</td>\n",
       "      <td>0.319856</td>\n",
       "      <td>0.499579</td>\n",
       "      <td>0.408823</td>\n",
       "      <td>0.643895</td>\n",
       "      <td>0.608160</td>\n",
       "      <td>0.558828</td>\n",
       "      <td>0.550060</td>\n",
       "    </tr>\n",
       "    <tr>\n",
       "      <th>3</th>\n",
       "      <td>0.719028</td>\n",
       "      <td>0.619979</td>\n",
       "      <td>0.511423</td>\n",
       "      <td>0.440943</td>\n",
       "      <td>0.553337</td>\n",
       "      <td>0.538648</td>\n",
       "      <td>0.516070</td>\n",
       "      <td>-1.000000</td>\n",
       "      <td>0.581957</td>\n",
       "      <td>0.511349</td>\n",
       "      <td>...</td>\n",
       "      <td>0.725449</td>\n",
       "      <td>0.526762</td>\n",
       "      <td>0.378214</td>\n",
       "      <td>0.378214</td>\n",
       "      <td>0.536969</td>\n",
       "      <td>0.488291</td>\n",
       "      <td>0.679073</td>\n",
       "      <td>0.666191</td>\n",
       "      <td>0.593245</td>\n",
       "      <td>0.472189</td>\n",
       "    </tr>\n",
       "    <tr>\n",
       "      <th>4</th>\n",
       "      <td>0.754752</td>\n",
       "      <td>0.575484</td>\n",
       "      <td>0.516054</td>\n",
       "      <td>0.478201</td>\n",
       "      <td>0.531809</td>\n",
       "      <td>0.492656</td>\n",
       "      <td>0.538193</td>\n",
       "      <td>-1.000000</td>\n",
       "      <td>0.573013</td>\n",
       "      <td>0.531139</td>\n",
       "      <td>...</td>\n",
       "      <td>0.842432</td>\n",
       "      <td>0.607337</td>\n",
       "      <td>-1.000000</td>\n",
       "      <td>-1.000000</td>\n",
       "      <td>0.542545</td>\n",
       "      <td>0.519905</td>\n",
       "      <td>0.627382</td>\n",
       "      <td>0.668263</td>\n",
       "      <td>-1.000000</td>\n",
       "      <td>-1.000000</td>\n",
       "    </tr>\n",
       "  </tbody>\n",
       "</table>\n",
       "<p>5 rows × 245 columns</p>\n",
       "</div>"
      ],
      "text/plain": [
       "        0         1         2         3         4         5         6    \\\n",
       "0  0.545768  0.703299  0.515768  0.311232  0.603906  0.450516  0.485420   \n",
       "1  0.571387  0.671613  0.496906  0.476887  0.518088  0.460362  0.533427   \n",
       "2  0.573213  0.659692 -1.000000  0.287767  0.482881  0.573876  0.511186   \n",
       "3  0.719028  0.619979  0.511423  0.440943  0.553337  0.538648  0.516070   \n",
       "4  0.754752  0.575484  0.516054  0.478201  0.531809  0.492656  0.538193   \n",
       "\n",
       "        7         8         9    ...       235       236       237       238  \\\n",
       "0 -1.000000  0.530434  0.572562  ... -1.000000 -1.000000 -1.000000 -1.000000   \n",
       "1  0.339136  0.503110  0.512354  ... -1.000000  0.535256  0.287251  0.287251   \n",
       "2 -1.000000  0.554230  0.491498  ... -1.000000  0.514596  0.319856  0.319856   \n",
       "3 -1.000000  0.581957  0.511349  ...  0.725449  0.526762  0.378214  0.378214   \n",
       "4 -1.000000  0.573013  0.531139  ...  0.842432  0.607337 -1.000000 -1.000000   \n",
       "\n",
       "        239       240       241       242       243       244  \n",
       "0  0.555532  0.541632  0.654674  0.388019  0.595213  0.494394  \n",
       "1  0.469841  0.466546  0.570334  0.629295  0.587421  0.491340  \n",
       "2  0.499579  0.408823  0.643895  0.608160  0.558828  0.550060  \n",
       "3  0.536969  0.488291  0.679073  0.666191  0.593245  0.472189  \n",
       "4  0.542545  0.519905  0.627382  0.668263 -1.000000 -1.000000  \n",
       "\n",
       "[5 rows x 245 columns]"
      ]
     },
     "execution_count": 146,
     "metadata": {},
     "output_type": "execute_result"
    }
   ],
   "source": [
    "u = np.reshape(testCandidate, (24,245))\n",
    "u = pd.DataFrame(u)\n",
    "u.head()"
   ]
  },
  {
   "cell_type": "code",
   "execution_count": 147,
   "metadata": {},
   "outputs": [
    {
     "name": "stderr",
     "output_type": "stream",
     "text": [
      "100%|██████████████████████████████████████████████████████████████████████████████████| 10/10 [00:31<00:00,  3.14s/it]\n"
     ]
    }
   ],
   "source": [
    "N = 10\n",
    "hidden = np.arange(2,33,8) #range(1,32)\n",
    "\n",
    "lossMatrix = []\n",
    "for i in tqdm(range(N)):\n",
    "    \n",
    "    losses = []\n",
    "    for value in (hidden):\n",
    "        looseParent = model(superParent, 245, 6, 245, value)\n",
    "        looseParent.compile(optimizer='adam', loss=ignore_noParent_MSE)\n",
    "        looseParent.fit(genes_intensities_normalized, genes_intensities_normalized, epochs=20,  verbose=0)\n",
    "        test = looseParent(testCandidate) #, verbose = 0)\n",
    "        loss = ignore_noParent_MSE(test, testCandidate)\n",
    "        losses.append(loss)\n",
    "        tf.keras.backend.clear_session()\n",
    "    lossMatrix.append(losses)\n",
    "    \n",
    "lossMatrix = np.array(lossMatrix)\n",
    "#run 100 times "
   ]
  },
  {
   "cell_type": "code",
   "execution_count": 149,
   "metadata": {},
   "outputs": [
    {
     "data": {
      "image/png": "[encoded data removed]",
      "text/plain": [
       "<Figure size 1080x360 with 1 Axes>"
      ]
     },
     "metadata": {
      "needs_background": "light"
     },
     "output_type": "display_data"
    }
   ],
   "source": [
    "avgMSE = np.average(lossMatrix, axis = 0)\n",
    "plt.plot(np.arange(2,33,8), avgMSE);"
   ]
  },
  {
   "cell_type": "code",
   "execution_count": null,
   "metadata": {},
   "outputs": [],
   "source": [
    "lossMatrix.shape"
   ]
  },
  {
   "cell_type": "code",
   "execution_count": null,
   "metadata": {},
   "outputs": [],
   "source": [
    "avgMSE = np.average(lossMatrix, axis = 0)"
   ]
  },
  {
   "cell_type": "code",
   "execution_count": null,
   "metadata": {},
   "outputs": [],
   "source": [
    "avgMSE.shape"
   ]
  },
  {
   "cell_type": "code",
   "execution_count": null,
   "metadata": {},
   "outputs": [],
   "source": [
    "#np.save(\"mse2.npy\", avgMSE) #mse2/3 is with -1 fix"
   ]
  },
  {
   "cell_type": "code",
   "execution_count": 158,
   "metadata": {},
   "outputs": [],
   "source": [
    "'''\n",
    "a second copy of the layers which will be modified to be a denseNET auto encoder\n",
    "'''\n",
    "class EncoderLinear2(keras.layers.Layer):\n",
    "    def __init__(self, rgm, input_dim=32, units=32):\n",
    "        super(EncoderLinear2, self).__init__()\n",
    "        self.rgm = rgm\n",
    "        \n",
    "        def init_weights(shape, dtype=\"float32\"):\n",
    "\n",
    "            w_init = tf.random_normal_initializer()(shape=shape, dtype=dtype) * tf.convert_to_tensor(self.rgm, dtype=dtype)\n",
    "\n",
    "            return w_init\n",
    "        \n",
    "\n",
    "        self.w = tf.Variable(\n",
    "            initial_value=init_weights(shape=(input_dim, units), dtype=\"float32\"),\n",
    "            trainable=True,\n",
    "        )\n",
    "\n",
    "    def call(self, inputs):\n",
    "        X = inputs\n",
    "        return tf.matmul(X, tf.multiply(self.rgm, self.w))\n",
    "    #tf.matmul(inputs, self.w)\n",
    "\n",
    "class DecoderLinear2(keras.layers.Layer):\n",
    "    def __init__(self, rgm, input_dim=32, units=32):\n",
    "        super(DecoderLinear2, self).__init__()\n",
    "        self.rgm = rgm\n",
    "\n",
    "        def init_weights(shape, dtype=\"float32\"):\n",
    "\n",
    "            w_init = tf.random_normal_initializer()(shape=shape, dtype=dtype) * tf.transpose(tf.convert_to_tensor(self.rgm, dtype=dtype))\n",
    "\n",
    "            return w_init\n",
    "    \n",
    "        \n",
    "        self.w = tf.Variable(\n",
    "            initial_value=init_weights(shape=(input_dim, units), dtype=\"float32\"),\n",
    "            trainable=True,\n",
    "        )\n",
    "\n",
    "    def call(self, inputs):\n",
    "        X = inputs\n",
    "        #return tf.matmul(X, tf.multiply((self.rgm), self.w))\n",
    "        return tf.matmul(X, tf.multiply(tf.transpose(self.rgm), self.w)) #used to have a transpose\n",
    "        #return tf.matmul(inputs, self.w)\n",
    "        \n",
    "\n",
    "def encoder2(parent_child_biological_association, inp, num_hidden_units=2):\n",
    "    '''\n",
    "    Encoder structure\n",
    "    '''\n",
    "    '''\n",
    "    The data is time-series. Therefore, CNN to learn the temporal relationship between \n",
    "    the intensities for each gene.\n",
    "    '''\n",
    "    en_conv = Conv1D(490, 3, activation = \"tanh\")(parent_child_biological_association) # 6*245\n",
    "    en_dense = Flatten()(en_conv)\n",
    "    inp = Flatten()(inp)\n",
    "    #print(en_dense.shape, inp.shape)\n",
    "    d = Concatenate()([en_dense, inp]) #dense layer\n",
    "    en_dense = Dense(128)(d) #added a layer\n",
    "    \n",
    "    phenotype = Dense(num_hidden_units, activation=)(d)\n",
    "    return phenotype\n",
    "\n",
    "def decoder2(X, num_protein_gene, time_steps):\n",
    "    '''\n",
    "    Decoder structure\n",
    "    '''\n",
    "    de_dense = Dense(128)(X)\n",
    "    de_dense = Dense(128)(de_dense)#added a layer\n",
    "    de_dense = Reshape((1, 128))(de_dense) #tf.reshape(de_dense, (self.batch_size,1,128))\n",
    "    de_deconv = Conv1DTranspose(num_protein_gene, time_steps, activation = \"tanh\")(de_dense) #used to be transpose\n",
    "    #de_deconv = Conv1D(num_protein_gene, time_steps, activation = \"relu\")(de_dense) \n",
    "    # gene_reconstruction = self.decoder_biological_operation(de_deconv)\n",
    "    return de_deconv\n",
    "\n",
    "def model2(rgm, num_protein_gene, time_steps, num_kinase_regulators, num_hidden_units = 2):\n",
    "    inp = Input(shape=(time_steps, num_kinase_regulators))\n",
    "    x = EncoderLinear2(rgm, 245, 245)(inp)\n",
    "    #x = EncoderLinear2(x)\n",
    "    enc = encoder2(x, inp, num_hidden_units)\n",
    "    dec = decoder2(enc, num_protein_gene, time_steps)\n",
    "    out = DecoderLinear2(rgm, 245, 245)(dec)\n",
    "\n",
    "    _model = tf.keras.Model(inputs=inp, outputs=out)\n",
    "\n",
    "    return _model"
   ]
  },
  {
   "cell_type": "code",
   "execution_count": 159,
   "metadata": {},
   "outputs": [
    {
     "name": "stderr",
     "output_type": "stream",
     "text": [
      "100%|██████████████████████████████████████████████████████████████████████████████████| 10/10 [02:14<00:00, 13.48s/it]\n"
     ]
    }
   ],
   "source": [
    "N = 10\n",
    "hidden = np.arange(2,33,2) #range(1,32)\n",
    "\n",
    "lossMatrix = []\n",
    "for i in tqdm(range(N)):\n",
    "    \n",
    "    losses = []\n",
    "    for value in (hidden):\n",
    "        looseParent = model2(superParent, 245, 6, 245, value)\n",
    "        looseParent.compile(optimizer='adam', loss=ignore_noParent_MSE)\n",
    "        looseParent.fit(genes_intensities_normalized, genes_intensities_normalized, epochs=20,  verbose=0)\n",
    "        test = looseParent(testCandidate) #, verbose = 0)\n",
    "        loss = ignore_noParent_MSE(test, testCandidate)\n",
    "        losses.append(loss)\n",
    "        tf.keras.backend.clear_session()\n",
    "    lossMatrix.append(losses)\n",
    "    \n",
    "lossMatrix = np.array(lossMatrix)\n",
    "#run 100 times "
   ]
  },
  {
   "cell_type": "code",
   "execution_count": 162,
   "metadata": {},
   "outputs": [
    {
     "data": {
      "image/png": "[encoded data removed]",
      "text/plain": [
       "<Figure size 1080x360 with 1 Axes>"
      ]
     },
     "metadata": {
      "needs_background": "light"
     },
     "output_type": "display_data"
    }
   ],
   "source": [
    "avgMSE = np.average(lossMatrix, axis = 0)\n",
    "plt.plot(np.arange(2,33,2), avgMSE);"
   ]
  },
  {
   "cell_type": "code",
   "execution_count": null,
   "metadata": {},
   "outputs": [],
   "source": [
    "#np.save(\"mse3.npy\", avgMSE) #mse2/3 is with -1 fix"
   ]
  },
  {
   "cell_type": "code",
   "execution_count": null,
   "metadata": {},
   "outputs": [],
   "source": [
    "#https://www.sciencedirect.com/science/article/pii/S0925231220314570?casa_token=lcEJANqO0JwAAAAA:uL3DGUZctPUZz_sPz1K1i2klMtb83TyKnc9CI3_N-uSOaM7VHL8GhM0jCGYfo25NmpDQQ9Cvlw"
   ]
  },
  {
   "cell_type": "code",
   "execution_count": null,
   "metadata": {},
   "outputs": [],
   "source": []
  },
  {
   "cell_type": "code",
   "execution_count": null,
   "metadata": {},
   "outputs": [],
   "source": []
  }
 ],
 "metadata": {
  "colab": {
   "authorship_tag": "ABX9TyM6J5QSynTTgZ+lFOhgOtAG",
   "collapsed_sections": [],
   "name": "cnn-third.ipynb",
   "provenance": [
    {
     "file_id": "1mmRxO5jnBc5CdzxXj8sMtPpG0BQ0ulSs",
     "timestamp": 1648921397876
    },
    {
     "file_id": "10758zFj2UnTnwpQaSFIr5r9MqZWdiMsf",
     "timestamp": 1648674775255
    }
   ]
  },
  "kernelspec": {
   "display_name": "Python 3 (ipykernel)",
   "language": "python",
   "name": "python3"
  },
  "language_info": {
   "codemirror_mode": {
    "name": "ipython",
    "version": 3
   },
   "file_extension": ".py",
   "mimetype": "text/x-python",
   "name": "python",
   "nbconvert_exporter": "python",
   "pygments_lexer": "ipython3",
   "version": "3.9.12"
  }
 },
 "nbformat": 4,
 "nbformat_minor": 1
}
