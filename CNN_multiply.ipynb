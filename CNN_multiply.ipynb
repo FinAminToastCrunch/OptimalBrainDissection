{
 "cells": [
  {
   "cell_type": "markdown",
   "metadata": {},
   "source": [
    "Dorrit0, dorrit1, jelle0, night0, night1"
   ]
  },
  {
   "cell_type": "code",
   "execution_count": 1,
   "metadata": {
    "id": "gXpISOijEYqQ"
   },
   "outputs": [],
   "source": [
    "data_path_old = r\"C:\\Users\\Fin Amin\\Desktop/\\StemCellResearch\\datasets_Sahil_preprocessed_final-20220525T021621Z-001\\datasets_Sahil_preprocessed_final\\exp1\"\n",
    "matrix_path = \"regulator-gene-matrix.csv\"\n",
    "data_path = r\"C:\\Users\\Fin Amin\\Desktop\\StemCellResearch\\Fin_preProcessed\\synData\"\n",
    "data_path_inter =  r\"C:\\Users\\Fin Amin\\Desktop\\StemCellResearch\\Fin_preProcessed\\interpolatedOnly\"\n",
    "data_path_og_exp1 = r\"C:\\Users\\Fin Amin\\Desktop\\StemCellResearch\\Fin_preProcessed\\datasets\\exp1\"\n"
   ]
  },
  {
   "cell_type": "code",
   "execution_count": 2,
   "metadata": {
    "id": "qTo_HuQkGgAq"
   },
   "outputs": [],
   "source": [
    "import tensorflow as tf\n",
    "from tensorflow import keras\n",
    "\n",
    "import numpy as np\n",
    "import pandas as pd\n",
    "import matplotlib.pyplot as plt\n",
    "\n",
    "from keras.layers import Input\n",
    "from keras.layers import Dense\n",
    "from keras.layers import Conv1D\n",
    "from keras.layers import Conv1DTranspose\n",
    "from keras.layers import Flatten, Reshape\n",
    "\n",
    "import os\n",
    "from glob import glob\n",
    "from tqdm import tqdm"
   ]
  },
  {
   "cell_type": "code",
   "execution_count": 3,
   "metadata": {},
   "outputs": [],
   "source": [
    "import matplotlib.pylab as pylab\n",
    "params = {'legend.fontsize': 'x-large',\n",
    "          'figure.figsize': (15, 5),\n",
    "         'axes.labelsize': 'x-large',\n",
    "         'axes.titlesize':'x-large',\n",
    "         'xtick.labelsize':'x-large',\n",
    "         'ytick.labelsize':'x-large'}\n",
    "pylab.rcParams.update(params)"
   ]
  },
  {
   "cell_type": "code",
   "execution_count": 4,
   "metadata": {
    "id": "_PKjzdFCMwFg"
   },
   "outputs": [],
   "source": [
    "def read_files():\n",
    "    '''\n",
    "    *Changed*\n",
    "    currently hardcoded for only one file. \n",
    "    change code a bit for reading multiple files.\n",
    "    '''\n",
    "    #genes_intensities_data_matrix = pd.read_csv(file_path_intensities, index_col = 0)\n",
    "    #print(os.listdir(data_path))\n",
    "    replicate_files = os.listdir(data_path)\n",
    "    #print('replicate files:',replicate_files)\n",
    "    replicates = []\n",
    "    # i = 0\n",
    "    for file in replicate_files:\n",
    "        \n",
    "        #print('file name:',file)\n",
    "        #print('value of i:',i)\n",
    "        genes_intensities_data_matrix = pd.read_csv(os.path.join(data_path , file), index_col = 0, on_bad_lines='skip')\n",
    "        #print('genes_intensities_data_matrix:',  genes_intensities_data_matrix.head())\n",
    "        replicates.append(genes_intensities_data_matrix.values)\n",
    "        # i+=1\n",
    "        \n",
    "    genes_intensities_data_matrix = genes_intensities_data_matrix.values\n",
    "    rgm = np.loadtxt(matrix_path)\n",
    "    \n",
    "    return np.asarray(replicates), rgm.astype(np.float32)"
   ]
  },
  {
   "cell_type": "code",
   "execution_count": 5,
   "metadata": {
    "id": "JCwo4LwlO_FF"
   },
   "outputs": [],
   "source": [
    "replicates, matrix = read_files()"
   ]
  },
  {
   "cell_type": "code",
   "execution_count": 6,
   "metadata": {},
   "outputs": [
    {
     "data": {
      "text/plain": [
       "(245, 245)"
      ]
     },
     "execution_count": 6,
     "metadata": {},
     "output_type": "execute_result"
    }
   ],
   "source": [
    "matrix.shape"
   ]
  },
  {
   "cell_type": "code",
   "execution_count": 7,
   "metadata": {},
   "outputs": [
    {
     "data": {
      "text/plain": [
       "<matplotlib.image.AxesImage at 0x1e4cfcaad60>"
      ]
     },
     "execution_count": 7,
     "metadata": {},
     "output_type": "execute_result"
    },
    {
     "data": {
      "image/png": "[encoded data removed]",
      "text/plain": [
       "<Figure size 1080x360 with 1 Axes>"
      ]
     },
     "metadata": {
      "needs_background": "light"
     },
     "output_type": "display_data"
    }
   ],
   "source": [
    "plt.imshow(matrix)"
   ]
  },
  {
   "cell_type": "code",
   "execution_count": 8,
   "metadata": {
    "colab": {
     "base_uri": "https://localhost:8080/"
    },
    "executionInfo": {
     "elapsed": 36,
     "status": "ok",
     "timestamp": 1649273006867,
     "user": {
      "displayName": "Sahil Anish Palarpwar",
      "userId": "17757512684560375750"
     },
     "user_tz": 240
    },
    "id": "YOxlBo0cd9Qa",
    "outputId": "fd474c81-1f00-4d0c-e69e-666a18c680c1"
   },
   "outputs": [
    {
     "data": {
      "text/plain": [
       "(6, 6, 245)"
      ]
     },
     "execution_count": 8,
     "metadata": {},
     "output_type": "execute_result"
    }
   ],
   "source": [
    "replicates.shape"
   ]
  },
  {
   "cell_type": "code",
   "execution_count": 9,
   "metadata": {
    "colab": {
     "base_uri": "https://localhost:8080/",
     "height": 226
    },
    "executionInfo": {
     "elapsed": 44,
     "status": "error",
     "timestamp": 1649273006880,
     "user": {
      "displayName": "Sahil Anish Palarpwar",
      "userId": "17757512684560375750"
     },
     "user_tz": 240
    },
    "id": "UsYRR_HKdRPz",
    "outputId": "25a55bc5-9cff-45d6-ea84-6c28c4951e98"
   },
   "outputs": [
    {
     "name": "stdout",
     "output_type": "stream",
     "text": [
      "Found GPU at: /device:GPU:0\n"
     ]
    }
   ],
   "source": [
    "#%tensorflow_version 2.x\n",
    "device_name = tf.test.gpu_device_name()\n",
    "if device_name != '/device:GPU:0':\n",
    "  raise SystemError('GPU device not found')\n",
    "print('Found GPU at: {}'.format(device_name))"
   ]
  },
  {
   "cell_type": "code",
   "execution_count": 20,
   "metadata": {
    "id": "1yhzyikoFncq"
   },
   "outputs": [],
   "source": [
    "class EncoderLinear(keras.layers.Layer):\n",
    "    def __init__(self, rgm, input_dim=32, units=32):\n",
    "        super(EncoderLinear, self).__init__()\n",
    "        self.rgm = rgm\n",
    "        \n",
    "        def init_weights(shape, dtype=\"float32\"):\n",
    "\n",
    "            w_init = tf.random_normal_initializer()(shape=shape, dtype=dtype) * tf.convert_to_tensor(self.rgm, dtype=dtype)\n",
    "\n",
    "            return w_init\n",
    "        \n",
    "\n",
    "        self.w = tf.Variable(\n",
    "            initial_value=init_weights(shape=(input_dim, units), dtype=\"float32\"),\n",
    "            trainable=True,\n",
    "        )\n",
    "\n",
    "    def call(self, inputs):\n",
    "        X = inputs\n",
    "        return tf.matmul(X, tf.multiply(self.rgm, self.w))\n",
    "    #tf.matmul(inputs, self.w)"
   ]
  },
  {
   "cell_type": "code",
   "execution_count": 297,
   "metadata": {
    "id": "4uchxU-bmBDe"
   },
   "outputs": [],
   "source": [
    "class DecoderLinear(keras.layers.Layer):\n",
    "    def __init__(self, rgm, input_dim=32, units=32):\n",
    "        super(DecoderLinear, self).__init__()\n",
    "        self.rgm = rgm\n",
    "\n",
    "        def init_weights(shape, dtype=\"float32\"):\n",
    "\n",
    "            w_init = tf.random_normal_initializer()(shape=shape, dtype=dtype) * tf.transpose(tf.convert_to_tensor(self.rgm, dtype=dtype))\n",
    "\n",
    "            return w_init\n",
    "    \n",
    "        \n",
    "        self.w = tf.Variable(\n",
    "            initial_value=init_weights(shape=(input_dim, units), dtype=\"float32\"),\n",
    "            trainable=True,\n",
    "        )\n",
    "\n",
    "    def call(self, inputs):\n",
    "        X = inputs\n",
    "        #return tf.matmul(X, tf.multiply((self.rgm), self.w))\n",
    "        return tf.matmul(X, tf.multiply(tf.transpose(self.rgm), self.w)) #used to have a transpose\n",
    "        #return tf.matmul(inputs, self.w)"
   ]
  },
  {
   "cell_type": "code",
   "execution_count": 298,
   "metadata": {
    "id": "PQVz4BCpmNMd"
   },
   "outputs": [],
   "source": [
    "def encoder(parent_child_biological_association, num_hidden_units=2):\n",
    "    '''\n",
    "    Encoder structure\n",
    "    '''\n",
    "    '''\n",
    "    The data is time-series. Therefore, CNN to learn the temporal relationship between \n",
    "    the intensities for each gene.\n",
    "    '''\n",
    "    en_conv = Conv1D(32, 3, activation = \"relu\")(parent_child_biological_association) # 6*245\n",
    "    en_dense = Flatten()(en_conv)\n",
    "    phenotype = Dense(num_hidden_units)(en_dense)\n",
    "    return phenotype\n",
    "\n",
    "def decoder(X, num_protein_gene, time_steps):\n",
    "    '''\n",
    "    Decoder structure\n",
    "    '''\n",
    "    de_dense = Dense(128)(X)\n",
    "    de_dense = Reshape((1, 128))(de_dense) #tf.reshape(de_dense, (self.batch_size,1,128))\n",
    "    de_deconv = Conv1DTranspose(num_protein_gene, time_steps, activation = \"relu\")(de_dense) #used to be transpose\n",
    "    #de_deconv = Conv1D(num_protein_gene, time_steps, activation = \"relu\")(de_dense) \n",
    "    # gene_reconstruction = self.decoder_biological_operation(de_deconv)\n",
    "    return de_deconv\n",
    "\n",
    "def model(rgm, num_protein_gene, time_steps, num_kinase_regulators, num_hidden_units = 2):\n",
    "    inp = Input(shape=(time_steps, num_kinase_regulators))\n",
    "    x = EncoderLinear(rgm, 245, 245)(inp)\n",
    "    enc = encoder(x, num_hidden_units)\n",
    "    dec = decoder(enc, num_protein_gene, time_steps)\n",
    "    out = DecoderLinear(rgm, 245, 245)(dec)\n",
    "\n",
    "    _model = tf.keras.Model(inputs=inp, outputs=out)\n",
    "\n",
    "    return _model"
   ]
  },
  {
   "cell_type": "code",
   "execution_count": 299,
   "metadata": {
    "id": "6GB0OcIgpKSu"
   },
   "outputs": [],
   "source": [
    "regulator_gene_matrix =matrix# np.random.randint(0, 2, size=(245, 245)).astype(np.float32)\n"
   ]
  },
  {
   "cell_type": "code",
   "execution_count": 300,
   "metadata": {
    "id": "nPRV0OAMpKPH"
   },
   "outputs": [],
   "source": [
    "enc_dec_Synthetic = model(regulator_gene_matrix, 245, 6, 245) #we can just change the time steps to something higher"
   ]
  },
  {
   "cell_type": "code",
   "execution_count": 301,
   "metadata": {
    "colab": {
     "base_uri": "https://localhost:8080/"
    },
    "executionInfo": {
     "elapsed": 13,
     "status": "ok",
     "timestamp": 1649273028683,
     "user": {
      "displayName": "Sahil Anish Palarpwar",
      "userId": "17757512684560375750"
     },
     "user_tz": 240
    },
    "id": "D6aPT5_cpKK0",
    "outputId": "c261d824-0f38-4eee-b139-f03a80f093e1"
   },
   "outputs": [
    {
     "name": "stdout",
     "output_type": "stream",
     "text": [
      "Model: \"model_43\"\n",
      "_________________________________________________________________\n",
      " Layer (type)                Output Shape              Param #   \n",
      "=================================================================\n",
      " input_47 (InputLayer)       [(None, 6, 245)]          0         \n",
      "                                                                 \n",
      " encoder_linear_46 (EncoderL  (None, 6, 245)           60025     \n",
      " inear)                                                          \n",
      "                                                                 \n",
      " conv1d_45 (Conv1D)          (None, 4, 32)             23552     \n",
      "                                                                 \n",
      " flatten_44 (Flatten)        (None, 128)               0         \n",
      "                                                                 \n",
      " dense_88 (Dense)            (None, 2)                 258       \n",
      "                                                                 \n",
      " dense_89 (Dense)            (None, 128)               384       \n",
      "                                                                 \n",
      " reshape_44 (Reshape)        (None, 1, 128)            0         \n",
      "                                                                 \n",
      " conv1d_transpose_43 (Conv1D  (None, 6, 245)           188405    \n",
      " Transpose)                                                      \n",
      "                                                                 \n",
      " decoder_linear_43 (DecoderL  (None, 6, 245)           60025     \n",
      " inear)                                                          \n",
      "                                                                 \n",
      "=================================================================\n",
      "Total params: 332,649\n",
      "Trainable params: 332,649\n",
      "Non-trainable params: 0\n",
      "_________________________________________________________________\n"
     ]
    }
   ],
   "source": [
    "enc_dec_Synthetic.summary()"
   ]
  },
  {
   "cell_type": "code",
   "execution_count": 360,
   "metadata": {
    "id": "7XlphetivRZ4"
   },
   "outputs": [],
   "source": [
    "from tensorflow.keras import losses"
   ]
  },
  {
   "cell_type": "code",
   "execution_count": 516,
   "metadata": {},
   "outputs": [],
   "source": [
    "superParent = regulator_gene_matrix.copy()\n",
    "#print(superParent.shape)\n",
    "\n",
    "ones = np.ones((245))\n",
    "parentIndex = []\n",
    "for i in range(len(regulator_gene_matrix)):\n",
    "    if (np.isin(regulator_gene_matrix[i], [1])).any():\n",
    "        #print(i)\n",
    "        superParent[i] = ones \n",
    "        parentIndex.append(i)\n",
    "parentIndex = np.array(parentIndex)\n",
    "parentIndex = tf.convert_to_tensor(parentIndex)\n",
    "\n",
    "def ignore_noParent_MSE(y_true, y_pred):\n",
    "    l = tf.keras.losses.MeanSquaredError()\n",
    "    y_true_pruned = tf.gather(y_true, parentIndex)\n",
    "    #print(y_true_pruned.shape)\n",
    "    y_pred_pruned = y_pred[:,:,parentIndex]    \n",
    "    return l(y_true_pruned, y_pred_pruned)"
   ]
  },
  {
   "cell_type": "code",
   "execution_count": 517,
   "metadata": {
    "id": "WrRuJ_bsrHll"
   },
   "outputs": [],
   "source": [
    "enc_dec_Synthetic.compile(optimizer='adam', loss=ignore_noParent_MSE)"
   ]
  },
  {
   "cell_type": "code",
   "execution_count": 518,
   "metadata": {
    "id": "yAOZEEvRRVU4"
   },
   "outputs": [],
   "source": [
    "# enc_dec_Synthetic.compile(optimizer='adam',loss = keras.losses.SparseCategoricalCrossentropy(from_logits=True))"
   ]
  },
  {
   "cell_type": "code",
   "execution_count": 519,
   "metadata": {
    "id": "2Ob4C7Qmwpri"
   },
   "outputs": [
    {
     "data": {
      "text/plain": [
       "<matplotlib.image.AxesImage at 0x1e9075f0490>"
      ]
     },
     "execution_count": 519,
     "metadata": {},
     "output_type": "execute_result"
    },
    {
     "data": {
      "image/png": "[encoded data removed]",
      "text/plain": [
       "<Figure size 1080x360 with 1 Axes>"
      ]
     },
     "metadata": {
      "needs_background": "light"
     },
     "output_type": "display_data"
    }
   ],
   "source": [
    "genes_intensities_normalized, regulator_gene_matrix = read_files()\n",
    "len(regulator_gene_matrix)\n",
    "plt.imshow(regulator_gene_matrix, cmap = \"hot\", vmin=0,vmax=1.0)"
   ]
  },
  {
   "cell_type": "code",
   "execution_count": 520,
   "metadata": {},
   "outputs": [
    {
     "data": {
      "text/plain": [
       "(6, 6, 245)"
      ]
     },
     "execution_count": 520,
     "metadata": {},
     "output_type": "execute_result"
    }
   ],
   "source": [
    "genes_intensities_normalized[0:].shape"
   ]
  },
  {
   "cell_type": "code",
   "execution_count": 521,
   "metadata": {},
   "outputs": [
    {
     "data": {
      "text/plain": [
       "(6, 245)"
      ]
     },
     "execution_count": 521,
     "metadata": {},
     "output_type": "execute_result"
    }
   ],
   "source": [
    "genes_intensities_normalized[0].shape #30, 246"
   ]
  },
  {
   "cell_type": "code",
   "execution_count": 522,
   "metadata": {},
   "outputs": [
    {
     "name": "stderr",
     "output_type": "stream",
     "text": [
      "C:\\Users\\Fin Amin\\AppData\\Local\\Temp\\ipykernel_300\\2148255341.py:4: VisibleDeprecationWarning: Creating an ndarray from ragged nested sequences (which is a list-or-tuple of lists-or-tuples-or ndarrays with different lengths or shapes) is deprecated. If you meant to do this, you must specify 'dtype=object' when creating the ndarray.\n",
      "  ge = np.array(ge)\n"
     ]
    }
   ],
   "source": [
    "ge1 = genes_intensities_normalized[0][0:6]\n",
    "ge2 = genes_intensities_normalized[0][7:13]\n",
    "ge = [ge1, ge2]\n",
    "ge = np.array(ge)"
   ]
  },
  {
   "cell_type": "code",
   "execution_count": 523,
   "metadata": {},
   "outputs": [
    {
     "data": {
      "text/plain": [
       "(2,)"
      ]
     },
     "execution_count": 523,
     "metadata": {},
     "output_type": "execute_result"
    }
   ],
   "source": [
    "ge.shape"
   ]
  },
  {
   "cell_type": "code",
   "execution_count": 524,
   "metadata": {},
   "outputs": [
    {
     "data": {
      "text/plain": [
       "array([[0., 0., 0., ..., 0., 0., 0.],\n",
       "       [0., 0., 0., ..., 0., 0., 0.],\n",
       "       [0., 0., 0., ..., 0., 0., 0.],\n",
       "       [1., 1., 1., ..., 1., 0., 1.],\n",
       "       [0., 0., 0., ..., 0., 0., 0.]], dtype=float32)"
      ]
     },
     "execution_count": 524,
     "metadata": {},
     "output_type": "execute_result"
    }
   ],
   "source": [
    "regulator_gene_matrix[0:5]"
   ]
  },
  {
   "cell_type": "code",
   "execution_count": null,
   "metadata": {},
   "outputs": [],
   "source": []
  },
  {
   "cell_type": "code",
   "execution_count": 525,
   "metadata": {
    "colab": {
     "base_uri": "https://localhost:8080/"
    },
    "executionInfo": {
     "elapsed": 726,
     "status": "ok",
     "timestamp": 1649273035573,
     "user": {
      "displayName": "Sahil Anish Palarpwar",
      "userId": "17757512684560375750"
     },
     "user_tz": 240
    },
    "id": "EuNDZx5Ov34I",
    "outputId": "74597aa1-c71c-4491-b8c9-4fefed309325"
   },
   "outputs": [
    {
     "name": "stdout",
     "output_type": "stream",
     "text": [
      "Epoch 1/10\n"
     ]
    },
    {
     "ename": "TypeError",
     "evalue": "in user code:\n\n    File \"C:\\Users\\Fin Amin\\AppData\\Roaming\\Python\\Python39\\site-packages\\keras\\engine\\training.py\", line 1051, in train_function  *\n        return step_function(self, iterator)\n    File \"C:\\Users\\Fin Amin\\AppData\\Local\\Temp\\ipykernel_300\\1115292162.py\", line 18, in ignore_noParent_MSE  *\n        y_pred_pruned = y_pred[:,:,parentIndex]\n\n    TypeError: Only integers, slices (`:`), ellipsis (`...`), tf.newaxis (`None`) and scalar tf.int32/tf.int64 tensors are valid indices, got <tf.Tensor: shape=(21,), dtype=int32, numpy=\n    array([  3,  12,  65,  74,  88, 109, 110, 111, 116, 117, 120, 137, 153,\n           172, 186, 189, 204, 207, 210, 241, 243])>\n",
     "output_type": "error",
     "traceback": [
      "\u001b[1;31m---------------------------------------------------------------------------\u001b[0m",
      "\u001b[1;31mTypeError\u001b[0m                                 Traceback (most recent call last)",
      "Input \u001b[1;32mIn [525]\u001b[0m, in \u001b[0;36m<cell line: 1>\u001b[1;34m()\u001b[0m\n\u001b[1;32m----> 1\u001b[0m \u001b[43menc_dec_Synthetic\u001b[49m\u001b[38;5;241;43m.\u001b[39;49m\u001b[43mfit\u001b[49m\u001b[43m(\u001b[49m\u001b[43mgenes_intensities_normalized\u001b[49m\u001b[43m[\u001b[49m\u001b[38;5;241;43m1\u001b[39;49m\u001b[43m:\u001b[49m\u001b[43m]\u001b[49m\u001b[43m,\u001b[49m\u001b[43mgenes_intensities_normalized\u001b[49m\u001b[43m[\u001b[49m\u001b[38;5;241;43m1\u001b[39;49m\u001b[43m:\u001b[49m\u001b[43m]\u001b[49m\u001b[43m,\u001b[49m\u001b[43mepochs\u001b[49m\u001b[38;5;241;43m=\u001b[39;49m\u001b[38;5;241;43m10\u001b[39;49m\u001b[43m)\u001b[49m\n",
      "File \u001b[1;32m~\\AppData\\Roaming\\Python\\Python39\\site-packages\\keras\\utils\\traceback_utils.py:67\u001b[0m, in \u001b[0;36mfilter_traceback.<locals>.error_handler\u001b[1;34m(*args, **kwargs)\u001b[0m\n\u001b[0;32m     65\u001b[0m \u001b[38;5;28;01mexcept\u001b[39;00m \u001b[38;5;167;01mException\u001b[39;00m \u001b[38;5;28;01mas\u001b[39;00m e:  \u001b[38;5;66;03m# pylint: disable=broad-except\u001b[39;00m\n\u001b[0;32m     66\u001b[0m   filtered_tb \u001b[38;5;241m=\u001b[39m _process_traceback_frames(e\u001b[38;5;241m.\u001b[39m__traceback__)\n\u001b[1;32m---> 67\u001b[0m   \u001b[38;5;28;01mraise\u001b[39;00m e\u001b[38;5;241m.\u001b[39mwith_traceback(filtered_tb) \u001b[38;5;28;01mfrom\u001b[39;00m \u001b[38;5;28mNone\u001b[39m\n\u001b[0;32m     68\u001b[0m \u001b[38;5;28;01mfinally\u001b[39;00m:\n\u001b[0;32m     69\u001b[0m   \u001b[38;5;28;01mdel\u001b[39;00m filtered_tb\n",
      "File \u001b[1;32mC:\\Users\\FINAMI~1\\AppData\\Local\\Temp\\__autograph_generated_fileh94y0k4x.py:15\u001b[0m, in \u001b[0;36mouter_factory.<locals>.inner_factory.<locals>.tf__train_function\u001b[1;34m(iterator)\u001b[0m\n\u001b[0;32m     13\u001b[0m \u001b[38;5;28;01mtry\u001b[39;00m:\n\u001b[0;32m     14\u001b[0m     do_return \u001b[38;5;241m=\u001b[39m \u001b[38;5;28;01mTrue\u001b[39;00m\n\u001b[1;32m---> 15\u001b[0m     retval_ \u001b[38;5;241m=\u001b[39m ag__\u001b[38;5;241m.\u001b[39mconverted_call(ag__\u001b[38;5;241m.\u001b[39mld(step_function), (ag__\u001b[38;5;241m.\u001b[39mld(\u001b[38;5;28mself\u001b[39m), ag__\u001b[38;5;241m.\u001b[39mld(iterator)), \u001b[38;5;28;01mNone\u001b[39;00m, fscope)\n\u001b[0;32m     16\u001b[0m \u001b[38;5;28;01mexcept\u001b[39;00m:\n\u001b[0;32m     17\u001b[0m     do_return \u001b[38;5;241m=\u001b[39m \u001b[38;5;28;01mFalse\u001b[39;00m\n",
      "File \u001b[1;32mC:\\Users\\FINAMI~1\\AppData\\Local\\Temp\\__autograph_generated_filej4wigbt7.py:12\u001b[0m, in \u001b[0;36mouter_factory.<locals>.inner_factory.<locals>.tf__ignore_noParent_MSE\u001b[1;34m(y_true, y_pred)\u001b[0m\n\u001b[0;32m     10\u001b[0m l \u001b[38;5;241m=\u001b[39m ag__\u001b[38;5;241m.\u001b[39mconverted_call(ag__\u001b[38;5;241m.\u001b[39mld(tf)\u001b[38;5;241m.\u001b[39mkeras\u001b[38;5;241m.\u001b[39mlosses\u001b[38;5;241m.\u001b[39mMeanSquaredError, (), \u001b[38;5;28;01mNone\u001b[39;00m, fscope)\n\u001b[0;32m     11\u001b[0m y_true_pruned \u001b[38;5;241m=\u001b[39m ag__\u001b[38;5;241m.\u001b[39mconverted_call(ag__\u001b[38;5;241m.\u001b[39mld(tf)\u001b[38;5;241m.\u001b[39mgather, (ag__\u001b[38;5;241m.\u001b[39mld(y_true), ag__\u001b[38;5;241m.\u001b[39mld(parentIndex)), \u001b[38;5;28;01mNone\u001b[39;00m, fscope)\n\u001b[1;32m---> 12\u001b[0m y_pred_pruned \u001b[38;5;241m=\u001b[39m ag__\u001b[38;5;241m.\u001b[39mld(y_pred)[:, :, ag__\u001b[38;5;241m.\u001b[39mld(parentIndex)]\n\u001b[0;32m     13\u001b[0m \u001b[38;5;28;01mtry\u001b[39;00m:\n\u001b[0;32m     14\u001b[0m     do_return \u001b[38;5;241m=\u001b[39m \u001b[38;5;28;01mTrue\u001b[39;00m\n",
      "\u001b[1;31mTypeError\u001b[0m: in user code:\n\n    File \"C:\\Users\\Fin Amin\\AppData\\Roaming\\Python\\Python39\\site-packages\\keras\\engine\\training.py\", line 1051, in train_function  *\n        return step_function(self, iterator)\n    File \"C:\\Users\\Fin Amin\\AppData\\Local\\Temp\\ipykernel_300\\1115292162.py\", line 18, in ignore_noParent_MSE  *\n        y_pred_pruned = y_pred[:,:,parentIndex]\n\n    TypeError: Only integers, slices (`:`), ellipsis (`...`), tf.newaxis (`None`) and scalar tf.int32/tf.int64 tensors are valid indices, got <tf.Tensor: shape=(21,), dtype=int32, numpy=\n    array([  3,  12,  65,  74,  88, 109, 110, 111, 116, 117, 120, 137, 153,\n           172, 186, 189, 204, 207, 210, 241, 243])>\n"
     ]
    }
   ],
   "source": [
    "enc_dec_Synthetic.fit(genes_intensities_normalized[1:],genes_intensities_normalized[1:],epochs=10)"
   ]
  },
  {
   "cell_type": "code",
   "execution_count": 427,
   "metadata": {},
   "outputs": [],
   "source": [
    "w = enc_dec_Synthetic.get_weights()"
   ]
  },
  {
   "cell_type": "code",
   "execution_count": 314,
   "metadata": {},
   "outputs": [
    {
     "data": {
      "text/plain": [
       "<matplotlib.image.AxesImage at 0x1e9049a1490>"
      ]
     },
     "execution_count": 314,
     "metadata": {},
     "output_type": "execute_result"
    },
    {
     "data": {
      "image/png": "[encoded data removed]",
      "text/plain": [
       "<Figure size 1080x360 with 1 Axes>"
      ]
     },
     "metadata": {
      "needs_background": "light"
     },
     "output_type": "display_data"
    }
   ],
   "source": [
    "plt.imshow(w[0], cmap = \"hot\", vmin=0,vmax=0.02)"
   ]
  },
  {
   "cell_type": "code",
   "execution_count": 315,
   "metadata": {
    "id": "SBzDmjqJViEw",
    "scrolled": true
   },
   "outputs": [],
   "source": [
    "def getCSVs(data_path_head):\n",
    "    PATH = data_path_head\n",
    "    EXT = \"*.csv\"\n",
    "    all_csv_files = [file\n",
    "                     for path, subdir, files in os.walk(PATH)\n",
    "                     for file in glob(os.path.join(path, EXT))]\n",
    "    actual = []\n",
    "    for p in all_csv_files:\n",
    "        actual.append(pd.read_csv(p, index_col = 0).to_numpy())\n",
    "    return np.array(actual)\n",
    "    \n",
    "exp1_og = getCSVs(data_path_og_exp1)"
   ]
  },
  {
   "cell_type": "code",
   "execution_count": 316,
   "metadata": {},
   "outputs": [
    {
     "data": {
      "text/plain": [
       "(1, 6, 245)"
      ]
     },
     "execution_count": 316,
     "metadata": {},
     "output_type": "execute_result"
    }
   ],
   "source": [
    "np.array([genes_intensities_normalized[0]]).shape"
   ]
  },
  {
   "cell_type": "code",
   "execution_count": 317,
   "metadata": {},
   "outputs": [
    {
     "data": {
      "text/plain": [
       "(6, 245)"
      ]
     },
     "execution_count": 317,
     "metadata": {},
     "output_type": "execute_result"
    }
   ],
   "source": [
    "exp1_og[0].shape"
   ]
  },
  {
   "cell_type": "code",
   "execution_count": 318,
   "metadata": {},
   "outputs": [
    {
     "data": {
      "text/plain": [
       "(1, 6, 245)"
      ]
     },
     "execution_count": 318,
     "metadata": {},
     "output_type": "execute_result"
    }
   ],
   "source": [
    "np.array([genes_intensities_normalized[0]]).shape"
   ]
  },
  {
   "cell_type": "code",
   "execution_count": 319,
   "metadata": {},
   "outputs": [
    {
     "name": "stdout",
     "output_type": "stream",
     "text": [
      "1/1 [==============================] - 0s 106ms/step\n"
     ]
    }
   ],
   "source": [
    "\n",
    "outSyn = enc_dec_Synthetic.predict(exp1_og)"
   ]
  },
  {
   "cell_type": "code",
   "execution_count": 320,
   "metadata": {},
   "outputs": [],
   "source": [
    "def mymagn(A, B):\n",
    "    mse = (np.square(A - B)).mean(axis=None)\n",
    "    return mse"
   ]
  },
  {
   "cell_type": "code",
   "execution_count": 321,
   "metadata": {},
   "outputs": [
    {
     "data": {
      "text/plain": [
       "0.45642797418383674"
      ]
     },
     "execution_count": 321,
     "metadata": {},
     "output_type": "execute_result"
    }
   ],
   "source": [
    "syntheticLoss = mymagn(outSyn, exp1_og)\n",
    "syntheticLoss"
   ]
  },
  {
   "cell_type": "code",
   "execution_count": 322,
   "metadata": {},
   "outputs": [
    {
     "data": {
      "text/plain": [
       "(4, 6, 245)"
      ]
     },
     "execution_count": 322,
     "metadata": {},
     "output_type": "execute_result"
    }
   ],
   "source": [
    "(outSyn-exp1_og).shape"
   ]
  },
  {
   "cell_type": "code",
   "execution_count": 323,
   "metadata": {},
   "outputs": [],
   "source": [
    "def read_filesV2(data_path):\n",
    "    '''\n",
    "    *Changed*\n",
    "    currently hardcoded for only one file. \n",
    "    change code a bit for reading multiple files.\n",
    "    '''\n",
    "    #genes_intensities_data_matrix = pd.read_csv(file_path_intensities, index_col = 0)\n",
    "    #print(os.listdir(data_path))\n",
    "    replicate_files = os.listdir(data_path)\n",
    "    #print('replicate files:',replicate_files)\n",
    "    replicates = []\n",
    "    # i = 0\n",
    "    for file in replicate_files:\n",
    "        \n",
    "        #print('file name:',file)\n",
    "        #print('value of i:',i)\n",
    "        genes_intensities_data_matrix = pd.read_csv(os.path.join(data_path , file), index_col = 0, on_bad_lines='skip')\n",
    "        #print('genes_intensities_data_matrix:',  genes_intensities_data_matrix.head())\n",
    "        replicates.append(genes_intensities_data_matrix.values)\n",
    "        # i+=1\n",
    "        \n",
    "    genes_intensities_data_matrix = genes_intensities_data_matrix.values\n",
    "    rgm = np.loadtxt(matrix_path)\n",
    "    \n",
    "    return np.asarray(replicates), rgm.astype(np.float32)"
   ]
  },
  {
   "cell_type": "code",
   "execution_count": 324,
   "metadata": {},
   "outputs": [
    {
     "name": "stderr",
     "output_type": "stream",
     "text": [
      "C:\\Users\\Fin Amin\\AppData\\Local\\Temp\\ipykernel_300\\3349346019.py:25: VisibleDeprecationWarning: Creating an ndarray from ragged nested sequences (which is a list-or-tuple of lists-or-tuples-or ndarrays with different lengths or shapes) is deprecated. If you meant to do this, you must specify 'dtype=object' when creating the ndarray.\n",
      "  return np.asarray(replicates), rgm.astype(np.float32)\n"
     ]
    }
   ],
   "source": [
    "interpolated_genes, _ = read_filesV2(data_path_inter)"
   ]
  },
  {
   "cell_type": "code",
   "execution_count": 325,
   "metadata": {},
   "outputs": [
    {
     "data": {
      "text/plain": [
       "(5,)"
      ]
     },
     "execution_count": 325,
     "metadata": {},
     "output_type": "execute_result"
    }
   ],
   "source": [
    "interpolated_genes.shape"
   ]
  },
  {
   "cell_type": "code",
   "execution_count": 326,
   "metadata": {},
   "outputs": [
    {
     "data": {
      "text/html": [
       "<div>\n",
       "<style scoped>\n",
       "    .dataframe tbody tr th:only-of-type {\n",
       "        vertical-align: middle;\n",
       "    }\n",
       "\n",
       "    .dataframe tbody tr th {\n",
       "        vertical-align: top;\n",
       "    }\n",
       "\n",
       "    .dataframe thead th {\n",
       "        text-align: right;\n",
       "    }\n",
       "</style>\n",
       "<table border=\"1\" class=\"dataframe\">\n",
       "  <thead>\n",
       "    <tr style=\"text-align: right;\">\n",
       "      <th></th>\n",
       "      <th>0</th>\n",
       "      <th>1</th>\n",
       "      <th>2</th>\n",
       "      <th>3</th>\n",
       "      <th>4</th>\n",
       "      <th>5</th>\n",
       "      <th>6</th>\n",
       "      <th>7</th>\n",
       "      <th>8</th>\n",
       "      <th>9</th>\n",
       "      <th>...</th>\n",
       "      <th>235</th>\n",
       "      <th>236</th>\n",
       "      <th>237</th>\n",
       "      <th>238</th>\n",
       "      <th>239</th>\n",
       "      <th>240</th>\n",
       "      <th>241</th>\n",
       "      <th>242</th>\n",
       "      <th>243</th>\n",
       "      <th>244</th>\n",
       "    </tr>\n",
       "  </thead>\n",
       "  <tbody>\n",
       "    <tr>\n",
       "      <th>0</th>\n",
       "      <td>0.254943</td>\n",
       "      <td>-1.000000</td>\n",
       "      <td>0.663585</td>\n",
       "      <td>0.440312</td>\n",
       "      <td>-1.000000</td>\n",
       "      <td>0.635664</td>\n",
       "      <td>0.734571</td>\n",
       "      <td>-1.000000</td>\n",
       "      <td>0.312044</td>\n",
       "      <td>0.602692</td>\n",
       "      <td>...</td>\n",
       "      <td>-1.000000</td>\n",
       "      <td>0.400712</td>\n",
       "      <td>-1.000000</td>\n",
       "      <td>0.523033</td>\n",
       "      <td>-1.000000</td>\n",
       "      <td>0.561590</td>\n",
       "      <td>0.403879</td>\n",
       "      <td>0.642049</td>\n",
       "      <td>-1.000000</td>\n",
       "      <td>0.443478</td>\n",
       "    </tr>\n",
       "    <tr>\n",
       "      <th>1</th>\n",
       "      <td>0.338509</td>\n",
       "      <td>-1.000000</td>\n",
       "      <td>0.612395</td>\n",
       "      <td>0.655007</td>\n",
       "      <td>-1.000000</td>\n",
       "      <td>-1.000000</td>\n",
       "      <td>0.590564</td>\n",
       "      <td>-1.000000</td>\n",
       "      <td>0.353872</td>\n",
       "      <td>0.539972</td>\n",
       "      <td>...</td>\n",
       "      <td>-1.000000</td>\n",
       "      <td>0.445519</td>\n",
       "      <td>-1.000000</td>\n",
       "      <td>0.586067</td>\n",
       "      <td>-1.000000</td>\n",
       "      <td>0.541903</td>\n",
       "      <td>0.426403</td>\n",
       "      <td>0.495559</td>\n",
       "      <td>0.550973</td>\n",
       "      <td>0.419991</td>\n",
       "    </tr>\n",
       "    <tr>\n",
       "      <th>2</th>\n",
       "      <td>-1.000000</td>\n",
       "      <td>0.544463</td>\n",
       "      <td>0.596307</td>\n",
       "      <td>0.596367</td>\n",
       "      <td>-1.000000</td>\n",
       "      <td>0.629406</td>\n",
       "      <td>0.579586</td>\n",
       "      <td>0.726602</td>\n",
       "      <td>-1.000000</td>\n",
       "      <td>0.535278</td>\n",
       "      <td>...</td>\n",
       "      <td>0.509166</td>\n",
       "      <td>-1.000000</td>\n",
       "      <td>-1.000000</td>\n",
       "      <td>0.642262</td>\n",
       "      <td>-1.000000</td>\n",
       "      <td>0.586480</td>\n",
       "      <td>0.569283</td>\n",
       "      <td>-1.000000</td>\n",
       "      <td>0.596188</td>\n",
       "      <td>-1.000000</td>\n",
       "    </tr>\n",
       "    <tr>\n",
       "      <th>3</th>\n",
       "      <td>-0.329754</td>\n",
       "      <td>-0.454583</td>\n",
       "      <td>-0.828393</td>\n",
       "      <td>0.582746</td>\n",
       "      <td>-0.689224</td>\n",
       "      <td>0.178233</td>\n",
       "      <td>0.309607</td>\n",
       "      <td>-0.297329</td>\n",
       "      <td>-0.461788</td>\n",
       "      <td>0.493608</td>\n",
       "      <td>...</td>\n",
       "      <td>-0.024981</td>\n",
       "      <td>-0.697509</td>\n",
       "      <td>-0.153204</td>\n",
       "      <td>0.546957</td>\n",
       "      <td>0.161868</td>\n",
       "      <td>0.291320</td>\n",
       "      <td>-0.109625</td>\n",
       "      <td>-0.444279</td>\n",
       "      <td>0.007077</td>\n",
       "      <td>-0.254379</td>\n",
       "    </tr>\n",
       "    <tr>\n",
       "      <th>4</th>\n",
       "      <td>-1.000000</td>\n",
       "      <td>0.528085</td>\n",
       "      <td>-1.000000</td>\n",
       "      <td>0.523557</td>\n",
       "      <td>-1.000000</td>\n",
       "      <td>0.588043</td>\n",
       "      <td>0.580612</td>\n",
       "      <td>-1.000000</td>\n",
       "      <td>0.354997</td>\n",
       "      <td>0.567674</td>\n",
       "      <td>...</td>\n",
       "      <td>0.573489</td>\n",
       "      <td>0.392001</td>\n",
       "      <td>-1.000000</td>\n",
       "      <td>0.602732</td>\n",
       "      <td>-1.000000</td>\n",
       "      <td>0.544163</td>\n",
       "      <td>0.423905</td>\n",
       "      <td>-1.000000</td>\n",
       "      <td>0.578650</td>\n",
       "      <td>-1.000000</td>\n",
       "    </tr>\n",
       "  </tbody>\n",
       "</table>\n",
       "<p>5 rows × 245 columns</p>\n",
       "</div>"
      ],
      "text/plain": [
       "        0         1         2         3         4         5         6    \\\n",
       "0  0.254943 -1.000000  0.663585  0.440312 -1.000000  0.635664  0.734571   \n",
       "1  0.338509 -1.000000  0.612395  0.655007 -1.000000 -1.000000  0.590564   \n",
       "2 -1.000000  0.544463  0.596307  0.596367 -1.000000  0.629406  0.579586   \n",
       "3 -0.329754 -0.454583 -0.828393  0.582746 -0.689224  0.178233  0.309607   \n",
       "4 -1.000000  0.528085 -1.000000  0.523557 -1.000000  0.588043  0.580612   \n",
       "\n",
       "        7         8         9    ...       235       236       237       238  \\\n",
       "0 -1.000000  0.312044  0.602692  ... -1.000000  0.400712 -1.000000  0.523033   \n",
       "1 -1.000000  0.353872  0.539972  ... -1.000000  0.445519 -1.000000  0.586067   \n",
       "2  0.726602 -1.000000  0.535278  ...  0.509166 -1.000000 -1.000000  0.642262   \n",
       "3 -0.297329 -0.461788  0.493608  ... -0.024981 -0.697509 -0.153204  0.546957   \n",
       "4 -1.000000  0.354997  0.567674  ...  0.573489  0.392001 -1.000000  0.602732   \n",
       "\n",
       "        239       240       241       242       243       244  \n",
       "0 -1.000000  0.561590  0.403879  0.642049 -1.000000  0.443478  \n",
       "1 -1.000000  0.541903  0.426403  0.495559  0.550973  0.419991  \n",
       "2 -1.000000  0.586480  0.569283 -1.000000  0.596188 -1.000000  \n",
       "3  0.161868  0.291320 -0.109625 -0.444279  0.007077 -0.254379  \n",
       "4 -1.000000  0.544163  0.423905 -1.000000  0.578650 -1.000000  \n",
       "\n",
       "[5 rows x 245 columns]"
      ]
     },
     "execution_count": 326,
     "metadata": {},
     "output_type": "execute_result"
    }
   ],
   "source": [
    "pd.DataFrame(interpolated_genes[2]).head(5)"
   ]
  },
  {
   "cell_type": "code",
   "execution_count": 327,
   "metadata": {},
   "outputs": [],
   "source": [
    "inter = []\n",
    "for k in range(len(interpolated_genes)):\n",
    "    #print(k)\n",
    "    if k == 2 or k == 3 or k == 4:\n",
    "        inter.append(np.reshape(interpolated_genes[k], (4,6,245)))\n",
    "    else: \n",
    "        inter.append(np.reshape(interpolated_genes[k], (5,6,245)))\n",
    "inter = np.vstack(inter)"
   ]
  },
  {
   "cell_type": "code",
   "execution_count": 328,
   "metadata": {},
   "outputs": [
    {
     "data": {
      "text/plain": [
       "(22, 6, 245)"
      ]
     },
     "execution_count": 328,
     "metadata": {},
     "output_type": "execute_result"
    }
   ],
   "source": [
    "inter.shape"
   ]
  },
  {
   "cell_type": "code",
   "execution_count": 329,
   "metadata": {},
   "outputs": [
    {
     "data": {
      "text/plain": [
       "(5, 6, 245)"
      ]
     },
     "execution_count": 329,
     "metadata": {},
     "output_type": "execute_result"
    }
   ],
   "source": [
    "genes_intensities_normalized[1:].shape"
   ]
  },
  {
   "cell_type": "code",
   "execution_count": 330,
   "metadata": {},
   "outputs": [],
   "source": [
    "enc_dec_inter = model(regulator_gene_matrix, 245, 6, 245) \n",
    "enc_dec_inter.compile(optimizer='adam', loss=losses.MeanSquaredError())"
   ]
  },
  {
   "cell_type": "code",
   "execution_count": 331,
   "metadata": {},
   "outputs": [
    {
     "name": "stdout",
     "output_type": "stream",
     "text": [
      "Epoch 1/10\n",
      "1/1 [==============================] - 1s 912ms/step - loss: 0.4634\n",
      "Epoch 2/10\n",
      "1/1 [==============================] - 0s 13ms/step - loss: 0.4631\n",
      "Epoch 3/10\n",
      "1/1 [==============================] - 0s 16ms/step - loss: 0.4625\n",
      "Epoch 4/10\n",
      "1/1 [==============================] - 0s 16ms/step - loss: 0.4613\n",
      "Epoch 5/10\n",
      "1/1 [==============================] - 0s 16ms/step - loss: 0.4592\n",
      "Epoch 6/10\n",
      "1/1 [==============================] - 0s 5ms/step - loss: 0.4558\n",
      "Epoch 7/10\n",
      "1/1 [==============================] - 0s 8ms/step - loss: 0.4507\n",
      "Epoch 8/10\n",
      "1/1 [==============================] - 0s 16ms/step - loss: 0.4434\n",
      "Epoch 9/10\n",
      "1/1 [==============================] - 0s 16ms/step - loss: 0.4338\n",
      "Epoch 10/10\n",
      "1/1 [==============================] - 0s 16ms/step - loss: 0.4223\n"
     ]
    }
   ],
   "source": [
    "enc_dec_inter.fit(inter, inter,epochs=10);"
   ]
  },
  {
   "cell_type": "code",
   "execution_count": 493,
   "metadata": {},
   "outputs": [
    {
     "name": "stdout",
     "output_type": "stream",
     "text": [
      "1/1 [==============================] - 0s 17ms/step\n",
      "(4, 6, 21)\n"
     ]
    }
   ],
   "source": [
    "outInter = enc_dec_inter.predict(exp1_og)\n",
    "interpolationLoss = ignore_noParent_MSE(outInter, exp1_og)"
   ]
  },
  {
   "cell_type": "code",
   "execution_count": 494,
   "metadata": {},
   "outputs": [
    {
     "data": {
      "text/plain": [
       "<tf.Tensor: shape=(), dtype=float64, numpy=0.4363467321512668>"
      ]
     },
     "execution_count": 494,
     "metadata": {},
     "output_type": "execute_result"
    }
   ],
   "source": [
    "interpolationLoss"
   ]
  },
  {
   "cell_type": "code",
   "execution_count": 408,
   "metadata": {},
   "outputs": [
    {
     "data": {
      "text/plain": [
       "(4, 6, 245)"
      ]
     },
     "execution_count": 408,
     "metadata": {},
     "output_type": "execute_result"
    }
   ],
   "source": [
    "outInter.shape"
   ]
  },
  {
   "cell_type": "code",
   "execution_count": 333,
   "metadata": {},
   "outputs": [
    {
     "data": {
      "text/plain": [
       "<keras.callbacks.History at 0x1e8fc5f3e20>"
      ]
     },
     "execution_count": 333,
     "metadata": {},
     "output_type": "execute_result"
    }
   ],
   "source": [
    "u = enc_dec_inter.history\n",
    "u"
   ]
  },
  {
   "cell_type": "code",
   "execution_count": 405,
   "metadata": {},
   "outputs": [
    {
     "data": {
      "text/plain": [
       "0.4651538254553579"
      ]
     },
     "execution_count": 405,
     "metadata": {},
     "output_type": "execute_result"
    }
   ],
   "source": [
    "interpolationLoss"
   ]
  },
  {
   "cell_type": "code",
   "execution_count": 336,
   "metadata": {},
   "outputs": [
    {
     "data": {
      "image/png": "[encoded data removed]",
      "text/plain": [
       "<Figure size 1080x360 with 1 Axes>"
      ]
     },
     "metadata": {
      "needs_background": "light"
     },
     "output_type": "display_data"
    }
   ],
   "source": [
    "u = plt.imshow(np.reshape((np.abs(outSyn)), (24,245)), cmap = \"hot\", vmin=0,vmax=1.0 );"
   ]
  },
  {
   "cell_type": "code",
   "execution_count": 337,
   "metadata": {},
   "outputs": [
    {
     "data": {
      "text/html": [
       "<div>\n",
       "<style scoped>\n",
       "    .dataframe tbody tr th:only-of-type {\n",
       "        vertical-align: middle;\n",
       "    }\n",
       "\n",
       "    .dataframe tbody tr th {\n",
       "        vertical-align: top;\n",
       "    }\n",
       "\n",
       "    .dataframe thead th {\n",
       "        text-align: right;\n",
       "    }\n",
       "</style>\n",
       "<table border=\"1\" class=\"dataframe\">\n",
       "  <thead>\n",
       "    <tr style=\"text-align: right;\">\n",
       "      <th></th>\n",
       "      <th>0</th>\n",
       "      <th>1</th>\n",
       "      <th>2</th>\n",
       "      <th>3</th>\n",
       "      <th>4</th>\n",
       "      <th>5</th>\n",
       "      <th>6</th>\n",
       "      <th>7</th>\n",
       "      <th>8</th>\n",
       "      <th>9</th>\n",
       "      <th>...</th>\n",
       "      <th>235</th>\n",
       "      <th>236</th>\n",
       "      <th>237</th>\n",
       "      <th>238</th>\n",
       "      <th>239</th>\n",
       "      <th>240</th>\n",
       "      <th>241</th>\n",
       "      <th>242</th>\n",
       "      <th>243</th>\n",
       "      <th>244</th>\n",
       "    </tr>\n",
       "  </thead>\n",
       "  <tbody>\n",
       "    <tr>\n",
       "      <th>0</th>\n",
       "      <td>-0.059708</td>\n",
       "      <td>0.051970</td>\n",
       "      <td>0.055281</td>\n",
       "      <td>0.010215</td>\n",
       "      <td>-0.006730</td>\n",
       "      <td>-0.059439</td>\n",
       "      <td>0.047572</td>\n",
       "      <td>-0.059539</td>\n",
       "      <td>0.042227</td>\n",
       "      <td>0.060057</td>\n",
       "      <td>...</td>\n",
       "      <td>0.058970</td>\n",
       "      <td>-0.059203</td>\n",
       "      <td>-0.058365</td>\n",
       "      <td>0.057307</td>\n",
       "      <td>0.035403</td>\n",
       "      <td>-0.057158</td>\n",
       "      <td>0.068602</td>\n",
       "      <td>-0.030201</td>\n",
       "      <td>0.054157</td>\n",
       "      <td>0.056546</td>\n",
       "    </tr>\n",
       "    <tr>\n",
       "      <th>1</th>\n",
       "      <td>-0.091623</td>\n",
       "      <td>0.047231</td>\n",
       "      <td>0.085759</td>\n",
       "      <td>0.134655</td>\n",
       "      <td>0.033597</td>\n",
       "      <td>-0.090682</td>\n",
       "      <td>0.086435</td>\n",
       "      <td>-0.089146</td>\n",
       "      <td>0.080547</td>\n",
       "      <td>0.090031</td>\n",
       "      <td>...</td>\n",
       "      <td>0.089225</td>\n",
       "      <td>-0.089862</td>\n",
       "      <td>-0.088490</td>\n",
       "      <td>0.089817</td>\n",
       "      <td>0.027676</td>\n",
       "      <td>-0.083249</td>\n",
       "      <td>0.122342</td>\n",
       "      <td>0.007750</td>\n",
       "      <td>0.085288</td>\n",
       "      <td>0.089169</td>\n",
       "    </tr>\n",
       "    <tr>\n",
       "      <th>2</th>\n",
       "      <td>-0.098118</td>\n",
       "      <td>0.035013</td>\n",
       "      <td>0.092587</td>\n",
       "      <td>0.159541</td>\n",
       "      <td>0.051219</td>\n",
       "      <td>-0.097518</td>\n",
       "      <td>0.095435</td>\n",
       "      <td>-0.095595</td>\n",
       "      <td>0.091150</td>\n",
       "      <td>0.096518</td>\n",
       "      <td>...</td>\n",
       "      <td>0.095154</td>\n",
       "      <td>-0.096416</td>\n",
       "      <td>-0.095101</td>\n",
       "      <td>0.097045</td>\n",
       "      <td>0.016857</td>\n",
       "      <td>-0.086341</td>\n",
       "      <td>0.126279</td>\n",
       "      <td>0.028944</td>\n",
       "      <td>0.085470</td>\n",
       "      <td>0.096163</td>\n",
       "    </tr>\n",
       "    <tr>\n",
       "      <th>3</th>\n",
       "      <td>-0.100493</td>\n",
       "      <td>0.024838</td>\n",
       "      <td>0.095101</td>\n",
       "      <td>0.179741</td>\n",
       "      <td>0.065212</td>\n",
       "      <td>-0.099747</td>\n",
       "      <td>0.098196</td>\n",
       "      <td>-0.097498</td>\n",
       "      <td>0.094648</td>\n",
       "      <td>0.098482</td>\n",
       "      <td>...</td>\n",
       "      <td>0.097567</td>\n",
       "      <td>-0.098725</td>\n",
       "      <td>-0.097372</td>\n",
       "      <td>0.099368</td>\n",
       "      <td>0.010669</td>\n",
       "      <td>-0.087211</td>\n",
       "      <td>0.176531</td>\n",
       "      <td>0.047004</td>\n",
       "      <td>0.092356</td>\n",
       "      <td>0.098749</td>\n",
       "    </tr>\n",
       "    <tr>\n",
       "      <th>4</th>\n",
       "      <td>-0.093019</td>\n",
       "      <td>0.009822</td>\n",
       "      <td>0.088547</td>\n",
       "      <td>0.161521</td>\n",
       "      <td>0.068953</td>\n",
       "      <td>-0.092539</td>\n",
       "      <td>0.091451</td>\n",
       "      <td>-0.090370</td>\n",
       "      <td>0.088639</td>\n",
       "      <td>0.091284</td>\n",
       "      <td>...</td>\n",
       "      <td>0.090341</td>\n",
       "      <td>-0.091672</td>\n",
       "      <td>-0.090428</td>\n",
       "      <td>0.092266</td>\n",
       "      <td>0.001156</td>\n",
       "      <td>-0.078438</td>\n",
       "      <td>0.158102</td>\n",
       "      <td>0.056780</td>\n",
       "      <td>0.093035</td>\n",
       "      <td>0.091591</td>\n",
       "    </tr>\n",
       "    <tr>\n",
       "      <th>5</th>\n",
       "      <td>-0.089457</td>\n",
       "      <td>-0.001075</td>\n",
       "      <td>0.085302</td>\n",
       "      <td>0.136045</td>\n",
       "      <td>0.068154</td>\n",
       "      <td>-0.089078</td>\n",
       "      <td>0.087947</td>\n",
       "      <td>-0.086843</td>\n",
       "      <td>0.085327</td>\n",
       "      <td>0.087743</td>\n",
       "      <td>...</td>\n",
       "      <td>0.086867</td>\n",
       "      <td>-0.088219</td>\n",
       "      <td>-0.087047</td>\n",
       "      <td>0.088815</td>\n",
       "      <td>-0.008606</td>\n",
       "      <td>-0.073274</td>\n",
       "      <td>0.169764</td>\n",
       "      <td>0.061464</td>\n",
       "      <td>0.074215</td>\n",
       "      <td>0.088121</td>\n",
       "    </tr>\n",
       "  </tbody>\n",
       "</table>\n",
       "<p>6 rows × 245 columns</p>\n",
       "</div>"
      ],
      "text/plain": [
       "        0         1         2         3         4         5         6    \\\n",
       "0 -0.059708  0.051970  0.055281  0.010215 -0.006730 -0.059439  0.047572   \n",
       "1 -0.091623  0.047231  0.085759  0.134655  0.033597 -0.090682  0.086435   \n",
       "2 -0.098118  0.035013  0.092587  0.159541  0.051219 -0.097518  0.095435   \n",
       "3 -0.100493  0.024838  0.095101  0.179741  0.065212 -0.099747  0.098196   \n",
       "4 -0.093019  0.009822  0.088547  0.161521  0.068953 -0.092539  0.091451   \n",
       "5 -0.089457 -0.001075  0.085302  0.136045  0.068154 -0.089078  0.087947   \n",
       "\n",
       "        7         8         9    ...       235       236       237       238  \\\n",
       "0 -0.059539  0.042227  0.060057  ...  0.058970 -0.059203 -0.058365  0.057307   \n",
       "1 -0.089146  0.080547  0.090031  ...  0.089225 -0.089862 -0.088490  0.089817   \n",
       "2 -0.095595  0.091150  0.096518  ...  0.095154 -0.096416 -0.095101  0.097045   \n",
       "3 -0.097498  0.094648  0.098482  ...  0.097567 -0.098725 -0.097372  0.099368   \n",
       "4 -0.090370  0.088639  0.091284  ...  0.090341 -0.091672 -0.090428  0.092266   \n",
       "5 -0.086843  0.085327  0.087743  ...  0.086867 -0.088219 -0.087047  0.088815   \n",
       "\n",
       "        239       240       241       242       243       244  \n",
       "0  0.035403 -0.057158  0.068602 -0.030201  0.054157  0.056546  \n",
       "1  0.027676 -0.083249  0.122342  0.007750  0.085288  0.089169  \n",
       "2  0.016857 -0.086341  0.126279  0.028944  0.085470  0.096163  \n",
       "3  0.010669 -0.087211  0.176531  0.047004  0.092356  0.098749  \n",
       "4  0.001156 -0.078438  0.158102  0.056780  0.093035  0.091591  \n",
       "5 -0.008606 -0.073274  0.169764  0.061464  0.074215  0.088121  \n",
       "\n",
       "[6 rows x 245 columns]"
      ]
     },
     "execution_count": 337,
     "metadata": {},
     "output_type": "execute_result"
    }
   ],
   "source": [
    "u = pd.DataFrame(outSyn[0])\n",
    "u.head(10)"
   ]
  },
  {
   "cell_type": "code",
   "execution_count": 338,
   "metadata": {},
   "outputs": [
    {
     "data": {
      "text/html": [
       "<div>\n",
       "<style scoped>\n",
       "    .dataframe tbody tr th:only-of-type {\n",
       "        vertical-align: middle;\n",
       "    }\n",
       "\n",
       "    .dataframe tbody tr th {\n",
       "        vertical-align: top;\n",
       "    }\n",
       "\n",
       "    .dataframe thead th {\n",
       "        text-align: right;\n",
       "    }\n",
       "</style>\n",
       "<table border=\"1\" class=\"dataframe\">\n",
       "  <thead>\n",
       "    <tr style=\"text-align: right;\">\n",
       "      <th></th>\n",
       "      <th>0</th>\n",
       "      <th>1</th>\n",
       "      <th>2</th>\n",
       "      <th>3</th>\n",
       "      <th>4</th>\n",
       "      <th>5</th>\n",
       "      <th>6</th>\n",
       "      <th>7</th>\n",
       "      <th>8</th>\n",
       "      <th>9</th>\n",
       "      <th>...</th>\n",
       "      <th>235</th>\n",
       "      <th>236</th>\n",
       "      <th>237</th>\n",
       "      <th>238</th>\n",
       "      <th>239</th>\n",
       "      <th>240</th>\n",
       "      <th>241</th>\n",
       "      <th>242</th>\n",
       "      <th>243</th>\n",
       "      <th>244</th>\n",
       "    </tr>\n",
       "  </thead>\n",
       "  <tbody>\n",
       "    <tr>\n",
       "      <th>0</th>\n",
       "      <td>0.545768</td>\n",
       "      <td>0.703299</td>\n",
       "      <td>0.515768</td>\n",
       "      <td>0.311232</td>\n",
       "      <td>0.603906</td>\n",
       "      <td>0.450516</td>\n",
       "      <td>0.485420</td>\n",
       "      <td>-1.000000</td>\n",
       "      <td>0.530434</td>\n",
       "      <td>0.572562</td>\n",
       "      <td>...</td>\n",
       "      <td>-1.000000</td>\n",
       "      <td>-1.000000</td>\n",
       "      <td>-1.000000</td>\n",
       "      <td>-1.000000</td>\n",
       "      <td>0.555532</td>\n",
       "      <td>0.541632</td>\n",
       "      <td>0.654674</td>\n",
       "      <td>0.388019</td>\n",
       "      <td>0.595213</td>\n",
       "      <td>0.494394</td>\n",
       "    </tr>\n",
       "    <tr>\n",
       "      <th>1</th>\n",
       "      <td>0.571387</td>\n",
       "      <td>0.671613</td>\n",
       "      <td>0.496906</td>\n",
       "      <td>0.476887</td>\n",
       "      <td>0.518088</td>\n",
       "      <td>0.460362</td>\n",
       "      <td>0.533427</td>\n",
       "      <td>0.339136</td>\n",
       "      <td>0.503110</td>\n",
       "      <td>0.512354</td>\n",
       "      <td>...</td>\n",
       "      <td>-1.000000</td>\n",
       "      <td>0.535256</td>\n",
       "      <td>0.287251</td>\n",
       "      <td>0.287251</td>\n",
       "      <td>0.469841</td>\n",
       "      <td>0.466546</td>\n",
       "      <td>0.570334</td>\n",
       "      <td>0.629295</td>\n",
       "      <td>0.587421</td>\n",
       "      <td>0.491340</td>\n",
       "    </tr>\n",
       "    <tr>\n",
       "      <th>2</th>\n",
       "      <td>0.573213</td>\n",
       "      <td>0.659692</td>\n",
       "      <td>-1.000000</td>\n",
       "      <td>0.287767</td>\n",
       "      <td>0.482881</td>\n",
       "      <td>0.573876</td>\n",
       "      <td>0.511186</td>\n",
       "      <td>-1.000000</td>\n",
       "      <td>0.554230</td>\n",
       "      <td>0.491498</td>\n",
       "      <td>...</td>\n",
       "      <td>-1.000000</td>\n",
       "      <td>0.514596</td>\n",
       "      <td>0.319856</td>\n",
       "      <td>0.319856</td>\n",
       "      <td>0.499579</td>\n",
       "      <td>0.408823</td>\n",
       "      <td>0.643895</td>\n",
       "      <td>0.608160</td>\n",
       "      <td>0.558828</td>\n",
       "      <td>0.550060</td>\n",
       "    </tr>\n",
       "    <tr>\n",
       "      <th>3</th>\n",
       "      <td>0.719028</td>\n",
       "      <td>0.619979</td>\n",
       "      <td>0.511423</td>\n",
       "      <td>0.440943</td>\n",
       "      <td>0.553337</td>\n",
       "      <td>0.538648</td>\n",
       "      <td>0.516070</td>\n",
       "      <td>-1.000000</td>\n",
       "      <td>0.581957</td>\n",
       "      <td>0.511349</td>\n",
       "      <td>...</td>\n",
       "      <td>0.725449</td>\n",
       "      <td>0.526762</td>\n",
       "      <td>0.378214</td>\n",
       "      <td>0.378214</td>\n",
       "      <td>0.536969</td>\n",
       "      <td>0.488291</td>\n",
       "      <td>0.679073</td>\n",
       "      <td>0.666191</td>\n",
       "      <td>0.593245</td>\n",
       "      <td>0.472189</td>\n",
       "    </tr>\n",
       "    <tr>\n",
       "      <th>4</th>\n",
       "      <td>0.754752</td>\n",
       "      <td>0.575484</td>\n",
       "      <td>0.516054</td>\n",
       "      <td>0.478201</td>\n",
       "      <td>0.531809</td>\n",
       "      <td>0.492656</td>\n",
       "      <td>0.538193</td>\n",
       "      <td>-1.000000</td>\n",
       "      <td>0.573013</td>\n",
       "      <td>0.531139</td>\n",
       "      <td>...</td>\n",
       "      <td>0.842432</td>\n",
       "      <td>0.607337</td>\n",
       "      <td>-1.000000</td>\n",
       "      <td>-1.000000</td>\n",
       "      <td>0.542545</td>\n",
       "      <td>0.519905</td>\n",
       "      <td>0.627382</td>\n",
       "      <td>0.668263</td>\n",
       "      <td>-1.000000</td>\n",
       "      <td>-1.000000</td>\n",
       "    </tr>\n",
       "    <tr>\n",
       "      <th>5</th>\n",
       "      <td>0.854373</td>\n",
       "      <td>0.601120</td>\n",
       "      <td>0.488601</td>\n",
       "      <td>0.647987</td>\n",
       "      <td>0.477734</td>\n",
       "      <td>0.534696</td>\n",
       "      <td>0.476710</td>\n",
       "      <td>0.424972</td>\n",
       "      <td>0.485754</td>\n",
       "      <td>0.461551</td>\n",
       "      <td>...</td>\n",
       "      <td>0.407374</td>\n",
       "      <td>0.612411</td>\n",
       "      <td>0.309963</td>\n",
       "      <td>0.309963</td>\n",
       "      <td>0.484060</td>\n",
       "      <td>0.585643</td>\n",
       "      <td>0.667441</td>\n",
       "      <td>0.700049</td>\n",
       "      <td>0.564833</td>\n",
       "      <td>0.480564</td>\n",
       "    </tr>\n",
       "  </tbody>\n",
       "</table>\n",
       "<p>6 rows × 245 columns</p>\n",
       "</div>"
      ],
      "text/plain": [
       "        0         1         2         3         4         5         6    \\\n",
       "0  0.545768  0.703299  0.515768  0.311232  0.603906  0.450516  0.485420   \n",
       "1  0.571387  0.671613  0.496906  0.476887  0.518088  0.460362  0.533427   \n",
       "2  0.573213  0.659692 -1.000000  0.287767  0.482881  0.573876  0.511186   \n",
       "3  0.719028  0.619979  0.511423  0.440943  0.553337  0.538648  0.516070   \n",
       "4  0.754752  0.575484  0.516054  0.478201  0.531809  0.492656  0.538193   \n",
       "5  0.854373  0.601120  0.488601  0.647987  0.477734  0.534696  0.476710   \n",
       "\n",
       "        7         8         9    ...       235       236       237       238  \\\n",
       "0 -1.000000  0.530434  0.572562  ... -1.000000 -1.000000 -1.000000 -1.000000   \n",
       "1  0.339136  0.503110  0.512354  ... -1.000000  0.535256  0.287251  0.287251   \n",
       "2 -1.000000  0.554230  0.491498  ... -1.000000  0.514596  0.319856  0.319856   \n",
       "3 -1.000000  0.581957  0.511349  ...  0.725449  0.526762  0.378214  0.378214   \n",
       "4 -1.000000  0.573013  0.531139  ...  0.842432  0.607337 -1.000000 -1.000000   \n",
       "5  0.424972  0.485754  0.461551  ...  0.407374  0.612411  0.309963  0.309963   \n",
       "\n",
       "        239       240       241       242       243       244  \n",
       "0  0.555532  0.541632  0.654674  0.388019  0.595213  0.494394  \n",
       "1  0.469841  0.466546  0.570334  0.629295  0.587421  0.491340  \n",
       "2  0.499579  0.408823  0.643895  0.608160  0.558828  0.550060  \n",
       "3  0.536969  0.488291  0.679073  0.666191  0.593245  0.472189  \n",
       "4  0.542545  0.519905  0.627382  0.668263 -1.000000 -1.000000  \n",
       "5  0.484060  0.585643  0.667441  0.700049  0.564833  0.480564  \n",
       "\n",
       "[6 rows x 245 columns]"
      ]
     },
     "execution_count": 338,
     "metadata": {},
     "output_type": "execute_result"
    }
   ],
   "source": [
    "u = pd.DataFrame(exp1_og[0])\n",
    "u.head(10)"
   ]
  },
  {
   "cell_type": "code",
   "execution_count": 339,
   "metadata": {
    "scrolled": true
   },
   "outputs": [
    {
     "data": {
      "image/png": "[encoded data removed]",
      "text/plain": [
       "<Figure size 3600x3600 with 2 Axes>"
      ]
     },
     "metadata": {
      "needs_background": "light"
     },
     "output_type": "display_data"
    }
   ],
   "source": [
    "plt.figure(figsize=(50, 50))\n",
    "u = plt.imshow(np.reshape((np.abs(outSyn-outInter)), (24,245)), cmap = \"hot\")#, vmin=0,vmax=1.0 );\n",
    "plt.title(\"Difference Between the Outputs of Both Autoencoders\", fontsize = 40);\n",
    "plt.xlabel(\"Phosphopeptide\", fontsize = 30);\n",
    "plt.ylabel(\"Times Concatenated\", fontsize = 30);\n",
    "plt.colorbar(u ,fraction=0.0046, pad=0.02);\n",
    "#plt.savefig(\"DiffBetweenOut.png\")"
   ]
  },
  {
   "cell_type": "code",
   "execution_count": 340,
   "metadata": {},
   "outputs": [
    {
     "data": {
      "text/plain": [
       "<matplotlib.colorbar.Colorbar at 0x1e8eaa28c70>"
      ]
     },
     "execution_count": 340,
     "metadata": {},
     "output_type": "execute_result"
    },
    {
     "data": {
      "image/png": "[encoded data removed]",
      "text/plain": [
       "<Figure size 3600x3600 with 2 Axes>"
      ]
     },
     "metadata": {
      "needs_background": "light"
     },
     "output_type": "display_data"
    }
   ],
   "source": [
    "plt.figure(figsize=(50, 50))\n",
    "u = plt.imshow(np.reshape(np.abs(outInter-exp1_og), (24,245)) , cmap = \"hot\", vmin=0,vmax=1.0 )\n",
    "plt.title(\"Difference Between the Input and Output of the Autoencoder Trained on Interpolated Data\", fontsize = 40);\n",
    "plt.xlabel(\"Phosphopeptide\", fontsize = 30)\n",
    "plt.ylabel(\"Times Concatenated\", fontsize = 30);\n",
    "plt.colorbar(u ,fraction=0.0046, pad=0.02)\n",
    "#plt.savefig(\"InterDiffImage.png\")"
   ]
  },
  {
   "cell_type": "code",
   "execution_count": 341,
   "metadata": {},
   "outputs": [
    {
     "data": {
      "image/png": "[encoded data removed]",
      "text/plain": [
       "<Figure size 3600x3600 with 2 Axes>"
      ]
     },
     "metadata": {
      "needs_background": "light"
     },
     "output_type": "display_data"
    }
   ],
   "source": [
    "plt.figure(figsize=(50, 50))\n",
    "u = plt.imshow(np.reshape(np.abs(outSyn-exp1_og), (24,245)), cmap = \"hot\", vmin=0,vmax=1.0 )\n",
    "plt.title(\"Difference Between the Input and Output of the Autoencoder Trained on Synthetic Data\", fontsize = 40);\n",
    "plt.xlabel(\"Phosphopeptide\", fontsize = 30);\n",
    "plt.ylabel(\"Times Concatenated\", fontsize = 30);\n",
    "plt.colorbar(u ,fraction=0.0046, pad=0.02);\n",
    "#plt.savefig(\"SynDiffImage.png\");"
   ]
  },
  {
   "cell_type": "code",
   "execution_count": null,
   "metadata": {},
   "outputs": [],
   "source": []
  },
  {
   "cell_type": "code",
   "execution_count": 342,
   "metadata": {},
   "outputs": [
    {
     "data": {
      "text/html": [
       "<div>\n",
       "<style scoped>\n",
       "    .dataframe tbody tr th:only-of-type {\n",
       "        vertical-align: middle;\n",
       "    }\n",
       "\n",
       "    .dataframe tbody tr th {\n",
       "        vertical-align: top;\n",
       "    }\n",
       "\n",
       "    .dataframe thead th {\n",
       "        text-align: right;\n",
       "    }\n",
       "</style>\n",
       "<table border=\"1\" class=\"dataframe\">\n",
       "  <thead>\n",
       "    <tr style=\"text-align: right;\">\n",
       "      <th></th>\n",
       "      <th>0</th>\n",
       "      <th>1</th>\n",
       "      <th>2</th>\n",
       "      <th>3</th>\n",
       "      <th>4</th>\n",
       "      <th>5</th>\n",
       "      <th>6</th>\n",
       "      <th>7</th>\n",
       "      <th>8</th>\n",
       "      <th>9</th>\n",
       "      <th>...</th>\n",
       "      <th>235</th>\n",
       "      <th>236</th>\n",
       "      <th>237</th>\n",
       "      <th>238</th>\n",
       "      <th>239</th>\n",
       "      <th>240</th>\n",
       "      <th>241</th>\n",
       "      <th>242</th>\n",
       "      <th>243</th>\n",
       "      <th>244</th>\n",
       "    </tr>\n",
       "  </thead>\n",
       "  <tbody>\n",
       "    <tr>\n",
       "      <th>0</th>\n",
       "      <td>0.059708</td>\n",
       "      <td>0.051970</td>\n",
       "      <td>0.055281</td>\n",
       "      <td>0.010215</td>\n",
       "      <td>0.006730</td>\n",
       "      <td>0.059439</td>\n",
       "      <td>0.047572</td>\n",
       "      <td>0.059539</td>\n",
       "      <td>0.042227</td>\n",
       "      <td>0.060057</td>\n",
       "      <td>...</td>\n",
       "      <td>0.058970</td>\n",
       "      <td>0.059203</td>\n",
       "      <td>0.058365</td>\n",
       "      <td>0.057307</td>\n",
       "      <td>0.035403</td>\n",
       "      <td>0.057158</td>\n",
       "      <td>0.068602</td>\n",
       "      <td>0.030201</td>\n",
       "      <td>0.054157</td>\n",
       "      <td>0.056546</td>\n",
       "    </tr>\n",
       "    <tr>\n",
       "      <th>1</th>\n",
       "      <td>0.091623</td>\n",
       "      <td>0.047231</td>\n",
       "      <td>0.085759</td>\n",
       "      <td>0.134655</td>\n",
       "      <td>0.033597</td>\n",
       "      <td>0.090682</td>\n",
       "      <td>0.086435</td>\n",
       "      <td>0.089146</td>\n",
       "      <td>0.080547</td>\n",
       "      <td>0.090031</td>\n",
       "      <td>...</td>\n",
       "      <td>0.089225</td>\n",
       "      <td>0.089862</td>\n",
       "      <td>0.088490</td>\n",
       "      <td>0.089817</td>\n",
       "      <td>0.027676</td>\n",
       "      <td>0.083249</td>\n",
       "      <td>0.122342</td>\n",
       "      <td>0.007750</td>\n",
       "      <td>0.085288</td>\n",
       "      <td>0.089169</td>\n",
       "    </tr>\n",
       "    <tr>\n",
       "      <th>2</th>\n",
       "      <td>0.098118</td>\n",
       "      <td>0.035013</td>\n",
       "      <td>0.092587</td>\n",
       "      <td>0.159541</td>\n",
       "      <td>0.051219</td>\n",
       "      <td>0.097518</td>\n",
       "      <td>0.095435</td>\n",
       "      <td>0.095595</td>\n",
       "      <td>0.091150</td>\n",
       "      <td>0.096518</td>\n",
       "      <td>...</td>\n",
       "      <td>0.095154</td>\n",
       "      <td>0.096416</td>\n",
       "      <td>0.095101</td>\n",
       "      <td>0.097045</td>\n",
       "      <td>0.016857</td>\n",
       "      <td>0.086341</td>\n",
       "      <td>0.126279</td>\n",
       "      <td>0.028944</td>\n",
       "      <td>0.085470</td>\n",
       "      <td>0.096163</td>\n",
       "    </tr>\n",
       "    <tr>\n",
       "      <th>3</th>\n",
       "      <td>0.100493</td>\n",
       "      <td>0.024838</td>\n",
       "      <td>0.095101</td>\n",
       "      <td>0.179741</td>\n",
       "      <td>0.065212</td>\n",
       "      <td>0.099747</td>\n",
       "      <td>0.098196</td>\n",
       "      <td>0.097498</td>\n",
       "      <td>0.094648</td>\n",
       "      <td>0.098482</td>\n",
       "      <td>...</td>\n",
       "      <td>0.097567</td>\n",
       "      <td>0.098725</td>\n",
       "      <td>0.097372</td>\n",
       "      <td>0.099368</td>\n",
       "      <td>0.010669</td>\n",
       "      <td>0.087211</td>\n",
       "      <td>0.176531</td>\n",
       "      <td>0.047004</td>\n",
       "      <td>0.092356</td>\n",
       "      <td>0.098749</td>\n",
       "    </tr>\n",
       "    <tr>\n",
       "      <th>4</th>\n",
       "      <td>0.093019</td>\n",
       "      <td>0.009822</td>\n",
       "      <td>0.088547</td>\n",
       "      <td>0.161521</td>\n",
       "      <td>0.068953</td>\n",
       "      <td>0.092539</td>\n",
       "      <td>0.091451</td>\n",
       "      <td>0.090370</td>\n",
       "      <td>0.088639</td>\n",
       "      <td>0.091284</td>\n",
       "      <td>...</td>\n",
       "      <td>0.090341</td>\n",
       "      <td>0.091672</td>\n",
       "      <td>0.090428</td>\n",
       "      <td>0.092266</td>\n",
       "      <td>0.001156</td>\n",
       "      <td>0.078438</td>\n",
       "      <td>0.158102</td>\n",
       "      <td>0.056780</td>\n",
       "      <td>0.093035</td>\n",
       "      <td>0.091591</td>\n",
       "    </tr>\n",
       "  </tbody>\n",
       "</table>\n",
       "<p>5 rows × 245 columns</p>\n",
       "</div>"
      ],
      "text/plain": [
       "        0         1         2         3         4         5         6    \\\n",
       "0  0.059708  0.051970  0.055281  0.010215  0.006730  0.059439  0.047572   \n",
       "1  0.091623  0.047231  0.085759  0.134655  0.033597  0.090682  0.086435   \n",
       "2  0.098118  0.035013  0.092587  0.159541  0.051219  0.097518  0.095435   \n",
       "3  0.100493  0.024838  0.095101  0.179741  0.065212  0.099747  0.098196   \n",
       "4  0.093019  0.009822  0.088547  0.161521  0.068953  0.092539  0.091451   \n",
       "\n",
       "        7         8         9    ...       235       236       237       238  \\\n",
       "0  0.059539  0.042227  0.060057  ...  0.058970  0.059203  0.058365  0.057307   \n",
       "1  0.089146  0.080547  0.090031  ...  0.089225  0.089862  0.088490  0.089817   \n",
       "2  0.095595  0.091150  0.096518  ...  0.095154  0.096416  0.095101  0.097045   \n",
       "3  0.097498  0.094648  0.098482  ...  0.097567  0.098725  0.097372  0.099368   \n",
       "4  0.090370  0.088639  0.091284  ...  0.090341  0.091672  0.090428  0.092266   \n",
       "\n",
       "        239       240       241       242       243       244  \n",
       "0  0.035403  0.057158  0.068602  0.030201  0.054157  0.056546  \n",
       "1  0.027676  0.083249  0.122342  0.007750  0.085288  0.089169  \n",
       "2  0.016857  0.086341  0.126279  0.028944  0.085470  0.096163  \n",
       "3  0.010669  0.087211  0.176531  0.047004  0.092356  0.098749  \n",
       "4  0.001156  0.078438  0.158102  0.056780  0.093035  0.091591  \n",
       "\n",
       "[5 rows x 245 columns]"
      ]
     },
     "execution_count": 342,
     "metadata": {},
     "output_type": "execute_result"
    }
   ],
   "source": [
    "u = pd.DataFrame(np.reshape(np.abs(outSyn), (24,245)))\n",
    "u.head()"
   ]
  },
  {
   "cell_type": "code",
   "execution_count": 343,
   "metadata": {},
   "outputs": [],
   "source": [
    "# np.save(\"interpolated_.npy\", inter) #the interpolated dataset\n",
    "# np.save(\"synthetic_.npy\", genes_intensities_normalized[1:]) # the synthetic dataset\n",
    "# np.save(\"synOut.npy\", outSyn) #the output of the encoder trained on synthetic data with the input being exp1\n",
    "# np.save(\"interOut.npy\", outInter) #the output of the encoder trained on interpolated data with the input being exp1"
   ]
  },
  {
   "cell_type": "code",
   "execution_count": 344,
   "metadata": {},
   "outputs": [
    {
     "data": {
      "text/plain": [
       "(22, 6, 245)"
      ]
     },
     "execution_count": 344,
     "metadata": {},
     "output_type": "execute_result"
    }
   ],
   "source": [
    "inter.shape"
   ]
  },
  {
   "cell_type": "code",
   "execution_count": 347,
   "metadata": {},
   "outputs": [
    {
     "data": {
      "text/plain": [
       "<matplotlib.image.AxesImage at 0x1e8c9389520>"
      ]
     },
     "execution_count": 347,
     "metadata": {},
     "output_type": "execute_result"
    },
    {
     "data": {
      "image/png": "[encoded data removed]",
      "text/plain": [
       "<Figure size 1080x360 with 1 Axes>"
      ]
     },
     "metadata": {
      "needs_background": "light"
     },
     "output_type": "display_data"
    }
   ],
   "source": [
    "plt.imshow(superParent)"
   ]
  },
  {
   "cell_type": "code",
   "execution_count": 348,
   "metadata": {},
   "outputs": [
    {
     "data": {
      "text/plain": [
       "<matplotlib.image.AxesImage at 0x1e8db022370>"
      ]
     },
     "execution_count": 348,
     "metadata": {},
     "output_type": "execute_result"
    },
    {
     "data": {
      "image/png": "[encoded data removed]",
      "text/plain": [
       "<Figure size 1080x360 with 1 Axes>"
      ]
     },
     "metadata": {
      "needs_background": "light"
     },
     "output_type": "display_data"
    }
   ],
   "source": [
    "plt.imshow(regulator_gene_matrix)"
   ]
  },
  {
   "cell_type": "code",
   "execution_count": 349,
   "metadata": {},
   "outputs": [
    {
     "name": "stdout",
     "output_type": "stream",
     "text": [
      "Epoch 1/10\n",
      "1/1 [==============================] - 1s 505ms/step - loss: 0.5630\n",
      "Epoch 2/10\n",
      "1/1 [==============================] - 0s 21ms/step - loss: 0.5622\n",
      "Epoch 3/10\n",
      "1/1 [==============================] - 0s 8ms/step - loss: 0.5603\n",
      "Epoch 4/10\n",
      "1/1 [==============================] - 0s 8ms/step - loss: 0.5562\n",
      "Epoch 5/10\n",
      "1/1 [==============================] - 0s 8ms/step - loss: 0.5487\n",
      "Epoch 6/10\n",
      "1/1 [==============================] - 0s 16ms/step - loss: 0.5367\n",
      "Epoch 7/10\n",
      "1/1 [==============================] - 0s 8ms/step - loss: 0.5182\n",
      "Epoch 8/10\n",
      "1/1 [==============================] - 0s 8ms/step - loss: 0.4919\n",
      "Epoch 9/10\n",
      "1/1 [==============================] - 0s 16ms/step - loss: 0.4567\n",
      "Epoch 10/10\n",
      "1/1 [==============================] - 0s 8ms/step - loss: 0.4134\n"
     ]
    },
    {
     "data": {
      "text/plain": [
       "<keras.callbacks.History at 0x1e8d70e92e0>"
      ]
     },
     "execution_count": 349,
     "metadata": {},
     "output_type": "execute_result"
    }
   ],
   "source": [
    "looseParent = model(superParent, 245, 6, 245, 2)\n",
    "looseParent.compile(optimizer='adam', loss=losses.MeanSquaredError())\n",
    "looseParent.fit(genes_intensities_normalized, genes_intensities_normalized, epochs=10)"
   ]
  },
  {
   "cell_type": "code",
   "execution_count": 350,
   "metadata": {},
   "outputs": [
    {
     "name": "stderr",
     "output_type": "stream",
     "text": [
      "100%|████████████████████████████████████████████████████████████████████████████████████| 5/5 [00:03<00:00,  1.29it/s]\n"
     ]
    }
   ],
   "source": [
    "hidden = [2,4,8,16,32] #range(1,32)\n",
    "networks = []\n",
    "for value in tqdm(hidden):\n",
    "    looseParent = model(superParent, 245, 6, 245, value)\n",
    "    looseParent.compile(optimizer='adam', loss=losses.MeanSquaredError())\n",
    "    looseParent.fit(genes_intensities_normalized, genes_intensities_normalized, epochs=40,  verbose=0)\n",
    "    networks.append(looseParent)\n"
   ]
  },
  {
   "cell_type": "code",
   "execution_count": 351,
   "metadata": {
    "scrolled": true
   },
   "outputs": [
    {
     "name": "stdout",
     "output_type": "stream",
     "text": [
      "1/1 [==============================] - 0s 96ms/step\n",
      "1/1 [==============================] - 0s 95ms/step\n",
      "1/1 [==============================] - 0s 83ms/step\n",
      "1/1 [==============================] - 0s 94ms/step\n",
      "1/1 [==============================] - 0s 94ms/step\n"
     ]
    }
   ],
   "source": [
    "loss = []\n",
    "hm = []\n",
    "for net in networks:\n",
    "    test = net.predict(exp1_og)\n",
    "    l = mymagn(test, exp1_og)\n",
    "    loss.append(l)\n",
    "    hm.append(test)"
   ]
  },
  {
   "cell_type": "code",
   "execution_count": 352,
   "metadata": {},
   "outputs": [
    {
     "data": {
      "text/plain": [
       "[<matplotlib.lines.Line2D at 0x1e9075cf610>]"
      ]
     },
     "execution_count": 352,
     "metadata": {},
     "output_type": "execute_result"
    },
    {
     "data": {
      "image/png": "[encoded data removed]",
      "text/plain": [
       "<Figure size 1080x360 with 1 Axes>"
      ]
     },
     "metadata": {
      "needs_background": "light"
     },
     "output_type": "display_data"
    }
   ],
   "source": [
    "plt.plot(loss)"
   ]
  },
  {
   "cell_type": "code",
   "execution_count": 353,
   "metadata": {},
   "outputs": [
    {
     "data": {
      "text/plain": [
       "<matplotlib.image.AxesImage at 0x1e9077c4be0>"
      ]
     },
     "execution_count": 353,
     "metadata": {},
     "output_type": "execute_result"
    },
    {
     "data": {
      "image/png": "[encoded data removed]",
      "text/plain": [
       "<Figure size 1080x360 with 1 Axes>"
      ]
     },
     "metadata": {
      "needs_background": "light"
     },
     "output_type": "display_data"
    }
   ],
   "source": [
    "u = np.reshape(hm[-1], (24,245))\n",
    "\n",
    "plt.imshow(u)"
   ]
  },
  {
   "cell_type": "code",
   "execution_count": 355,
   "metadata": {},
   "outputs": [
    {
     "data": {
      "text/html": [
       "<div>\n",
       "<style scoped>\n",
       "    .dataframe tbody tr th:only-of-type {\n",
       "        vertical-align: middle;\n",
       "    }\n",
       "\n",
       "    .dataframe tbody tr th {\n",
       "        vertical-align: top;\n",
       "    }\n",
       "\n",
       "    .dataframe thead th {\n",
       "        text-align: right;\n",
       "    }\n",
       "</style>\n",
       "<table border=\"1\" class=\"dataframe\">\n",
       "  <thead>\n",
       "    <tr style=\"text-align: right;\">\n",
       "      <th></th>\n",
       "      <th>0</th>\n",
       "      <th>1</th>\n",
       "      <th>2</th>\n",
       "      <th>3</th>\n",
       "      <th>4</th>\n",
       "      <th>5</th>\n",
       "      <th>6</th>\n",
       "      <th>7</th>\n",
       "      <th>8</th>\n",
       "      <th>9</th>\n",
       "      <th>...</th>\n",
       "      <th>235</th>\n",
       "      <th>236</th>\n",
       "      <th>237</th>\n",
       "      <th>238</th>\n",
       "      <th>239</th>\n",
       "      <th>240</th>\n",
       "      <th>241</th>\n",
       "      <th>242</th>\n",
       "      <th>243</th>\n",
       "      <th>244</th>\n",
       "    </tr>\n",
       "  </thead>\n",
       "  <tbody>\n",
       "    <tr>\n",
       "      <th>0</th>\n",
       "      <td>-0.160350</td>\n",
       "      <td>-0.112686</td>\n",
       "      <td>0.024361</td>\n",
       "      <td>0.157597</td>\n",
       "      <td>0.064283</td>\n",
       "      <td>-0.075060</td>\n",
       "      <td>0.158631</td>\n",
       "      <td>-0.217863</td>\n",
       "      <td>-0.034932</td>\n",
       "      <td>0.290576</td>\n",
       "      <td>...</td>\n",
       "      <td>-0.030266</td>\n",
       "      <td>-0.203758</td>\n",
       "      <td>-0.151552</td>\n",
       "      <td>0.102979</td>\n",
       "      <td>0.430362</td>\n",
       "      <td>0.276036</td>\n",
       "      <td>0.317487</td>\n",
       "      <td>-0.068831</td>\n",
       "      <td>0.045984</td>\n",
       "      <td>0.167377</td>\n",
       "    </tr>\n",
       "    <tr>\n",
       "      <th>1</th>\n",
       "      <td>-0.129125</td>\n",
       "      <td>-0.016801</td>\n",
       "      <td>-0.029578</td>\n",
       "      <td>0.279523</td>\n",
       "      <td>-0.006059</td>\n",
       "      <td>-0.070852</td>\n",
       "      <td>0.162942</td>\n",
       "      <td>-0.167830</td>\n",
       "      <td>0.019320</td>\n",
       "      <td>0.242410</td>\n",
       "      <td>...</td>\n",
       "      <td>0.034044</td>\n",
       "      <td>-0.171489</td>\n",
       "      <td>-0.120659</td>\n",
       "      <td>0.166527</td>\n",
       "      <td>0.325349</td>\n",
       "      <td>0.232296</td>\n",
       "      <td>0.305695</td>\n",
       "      <td>0.003004</td>\n",
       "      <td>0.219846</td>\n",
       "      <td>0.129892</td>\n",
       "    </tr>\n",
       "    <tr>\n",
       "      <th>2</th>\n",
       "      <td>-0.195013</td>\n",
       "      <td>-0.011052</td>\n",
       "      <td>-0.044940</td>\n",
       "      <td>0.307142</td>\n",
       "      <td>0.012813</td>\n",
       "      <td>-0.086256</td>\n",
       "      <td>0.197004</td>\n",
       "      <td>-0.133987</td>\n",
       "      <td>0.069531</td>\n",
       "      <td>0.214334</td>\n",
       "      <td>...</td>\n",
       "      <td>0.063319</td>\n",
       "      <td>-0.183092</td>\n",
       "      <td>-0.105500</td>\n",
       "      <td>0.245251</td>\n",
       "      <td>0.253330</td>\n",
       "      <td>0.179713</td>\n",
       "      <td>0.475512</td>\n",
       "      <td>0.075182</td>\n",
       "      <td>0.210454</td>\n",
       "      <td>0.142940</td>\n",
       "    </tr>\n",
       "    <tr>\n",
       "      <th>3</th>\n",
       "      <td>-0.228372</td>\n",
       "      <td>0.017833</td>\n",
       "      <td>-0.104185</td>\n",
       "      <td>0.424143</td>\n",
       "      <td>-0.051326</td>\n",
       "      <td>-0.073273</td>\n",
       "      <td>0.251955</td>\n",
       "      <td>-0.177135</td>\n",
       "      <td>0.082215</td>\n",
       "      <td>0.298880</td>\n",
       "      <td>...</td>\n",
       "      <td>0.129133</td>\n",
       "      <td>-0.276612</td>\n",
       "      <td>-0.142201</td>\n",
       "      <td>0.342589</td>\n",
       "      <td>0.373235</td>\n",
       "      <td>0.223663</td>\n",
       "      <td>0.564211</td>\n",
       "      <td>0.060548</td>\n",
       "      <td>0.293248</td>\n",
       "      <td>0.162668</td>\n",
       "    </tr>\n",
       "    <tr>\n",
       "      <th>4</th>\n",
       "      <td>-0.274633</td>\n",
       "      <td>0.081415</td>\n",
       "      <td>-0.114905</td>\n",
       "      <td>0.702136</td>\n",
       "      <td>-0.099177</td>\n",
       "      <td>-0.149704</td>\n",
       "      <td>0.284541</td>\n",
       "      <td>-0.159696</td>\n",
       "      <td>0.152225</td>\n",
       "      <td>0.292782</td>\n",
       "      <td>...</td>\n",
       "      <td>0.184340</td>\n",
       "      <td>-0.250005</td>\n",
       "      <td>-0.127390</td>\n",
       "      <td>0.435843</td>\n",
       "      <td>0.278185</td>\n",
       "      <td>0.151557</td>\n",
       "      <td>0.421315</td>\n",
       "      <td>0.122881</td>\n",
       "      <td>-0.018982</td>\n",
       "      <td>0.164553</td>\n",
       "    </tr>\n",
       "  </tbody>\n",
       "</table>\n",
       "<p>5 rows × 245 columns</p>\n",
       "</div>"
      ],
      "text/plain": [
       "        0         1         2         3         4         5         6    \\\n",
       "0 -0.160350 -0.112686  0.024361  0.157597  0.064283 -0.075060  0.158631   \n",
       "1 -0.129125 -0.016801 -0.029578  0.279523 -0.006059 -0.070852  0.162942   \n",
       "2 -0.195013 -0.011052 -0.044940  0.307142  0.012813 -0.086256  0.197004   \n",
       "3 -0.228372  0.017833 -0.104185  0.424143 -0.051326 -0.073273  0.251955   \n",
       "4 -0.274633  0.081415 -0.114905  0.702136 -0.099177 -0.149704  0.284541   \n",
       "\n",
       "        7         8         9    ...       235       236       237       238  \\\n",
       "0 -0.217863 -0.034932  0.290576  ... -0.030266 -0.203758 -0.151552  0.102979   \n",
       "1 -0.167830  0.019320  0.242410  ...  0.034044 -0.171489 -0.120659  0.166527   \n",
       "2 -0.133987  0.069531  0.214334  ...  0.063319 -0.183092 -0.105500  0.245251   \n",
       "3 -0.177135  0.082215  0.298880  ...  0.129133 -0.276612 -0.142201  0.342589   \n",
       "4 -0.159696  0.152225  0.292782  ...  0.184340 -0.250005 -0.127390  0.435843   \n",
       "\n",
       "        239       240       241       242       243       244  \n",
       "0  0.430362  0.276036  0.317487 -0.068831  0.045984  0.167377  \n",
       "1  0.325349  0.232296  0.305695  0.003004  0.219846  0.129892  \n",
       "2  0.253330  0.179713  0.475512  0.075182  0.210454  0.142940  \n",
       "3  0.373235  0.223663  0.564211  0.060548  0.293248  0.162668  \n",
       "4  0.278185  0.151557  0.421315  0.122881 -0.018982  0.164553  \n",
       "\n",
       "[5 rows x 245 columns]"
      ]
     },
     "execution_count": 355,
     "metadata": {},
     "output_type": "execute_result"
    }
   ],
   "source": [
    "u = pd.DataFrame(u)\n",
    "u.head()"
   ]
  },
  {
   "cell_type": "code",
   "execution_count": 354,
   "metadata": {},
   "outputs": [
    {
     "data": {
      "text/html": [
       "<div>\n",
       "<style scoped>\n",
       "    .dataframe tbody tr th:only-of-type {\n",
       "        vertical-align: middle;\n",
       "    }\n",
       "\n",
       "    .dataframe tbody tr th {\n",
       "        vertical-align: top;\n",
       "    }\n",
       "\n",
       "    .dataframe thead th {\n",
       "        text-align: right;\n",
       "    }\n",
       "</style>\n",
       "<table border=\"1\" class=\"dataframe\">\n",
       "  <thead>\n",
       "    <tr style=\"text-align: right;\">\n",
       "      <th></th>\n",
       "      <th>0</th>\n",
       "      <th>1</th>\n",
       "      <th>2</th>\n",
       "      <th>3</th>\n",
       "      <th>4</th>\n",
       "      <th>5</th>\n",
       "      <th>6</th>\n",
       "      <th>7</th>\n",
       "      <th>8</th>\n",
       "      <th>9</th>\n",
       "      <th>...</th>\n",
       "      <th>235</th>\n",
       "      <th>236</th>\n",
       "      <th>237</th>\n",
       "      <th>238</th>\n",
       "      <th>239</th>\n",
       "      <th>240</th>\n",
       "      <th>241</th>\n",
       "      <th>242</th>\n",
       "      <th>243</th>\n",
       "      <th>244</th>\n",
       "    </tr>\n",
       "  </thead>\n",
       "  <tbody>\n",
       "    <tr>\n",
       "      <th>0</th>\n",
       "      <td>0.545768</td>\n",
       "      <td>0.703299</td>\n",
       "      <td>0.515768</td>\n",
       "      <td>0.311232</td>\n",
       "      <td>0.603906</td>\n",
       "      <td>0.450516</td>\n",
       "      <td>0.485420</td>\n",
       "      <td>-1.000000</td>\n",
       "      <td>0.530434</td>\n",
       "      <td>0.572562</td>\n",
       "      <td>...</td>\n",
       "      <td>-1.000000</td>\n",
       "      <td>-1.000000</td>\n",
       "      <td>-1.000000</td>\n",
       "      <td>-1.000000</td>\n",
       "      <td>0.555532</td>\n",
       "      <td>0.541632</td>\n",
       "      <td>0.654674</td>\n",
       "      <td>0.388019</td>\n",
       "      <td>0.595213</td>\n",
       "      <td>0.494394</td>\n",
       "    </tr>\n",
       "    <tr>\n",
       "      <th>1</th>\n",
       "      <td>0.571387</td>\n",
       "      <td>0.671613</td>\n",
       "      <td>0.496906</td>\n",
       "      <td>0.476887</td>\n",
       "      <td>0.518088</td>\n",
       "      <td>0.460362</td>\n",
       "      <td>0.533427</td>\n",
       "      <td>0.339136</td>\n",
       "      <td>0.503110</td>\n",
       "      <td>0.512354</td>\n",
       "      <td>...</td>\n",
       "      <td>-1.000000</td>\n",
       "      <td>0.535256</td>\n",
       "      <td>0.287251</td>\n",
       "      <td>0.287251</td>\n",
       "      <td>0.469841</td>\n",
       "      <td>0.466546</td>\n",
       "      <td>0.570334</td>\n",
       "      <td>0.629295</td>\n",
       "      <td>0.587421</td>\n",
       "      <td>0.491340</td>\n",
       "    </tr>\n",
       "    <tr>\n",
       "      <th>2</th>\n",
       "      <td>0.573213</td>\n",
       "      <td>0.659692</td>\n",
       "      <td>-1.000000</td>\n",
       "      <td>0.287767</td>\n",
       "      <td>0.482881</td>\n",
       "      <td>0.573876</td>\n",
       "      <td>0.511186</td>\n",
       "      <td>-1.000000</td>\n",
       "      <td>0.554230</td>\n",
       "      <td>0.491498</td>\n",
       "      <td>...</td>\n",
       "      <td>-1.000000</td>\n",
       "      <td>0.514596</td>\n",
       "      <td>0.319856</td>\n",
       "      <td>0.319856</td>\n",
       "      <td>0.499579</td>\n",
       "      <td>0.408823</td>\n",
       "      <td>0.643895</td>\n",
       "      <td>0.608160</td>\n",
       "      <td>0.558828</td>\n",
       "      <td>0.550060</td>\n",
       "    </tr>\n",
       "    <tr>\n",
       "      <th>3</th>\n",
       "      <td>0.719028</td>\n",
       "      <td>0.619979</td>\n",
       "      <td>0.511423</td>\n",
       "      <td>0.440943</td>\n",
       "      <td>0.553337</td>\n",
       "      <td>0.538648</td>\n",
       "      <td>0.516070</td>\n",
       "      <td>-1.000000</td>\n",
       "      <td>0.581957</td>\n",
       "      <td>0.511349</td>\n",
       "      <td>...</td>\n",
       "      <td>0.725449</td>\n",
       "      <td>0.526762</td>\n",
       "      <td>0.378214</td>\n",
       "      <td>0.378214</td>\n",
       "      <td>0.536969</td>\n",
       "      <td>0.488291</td>\n",
       "      <td>0.679073</td>\n",
       "      <td>0.666191</td>\n",
       "      <td>0.593245</td>\n",
       "      <td>0.472189</td>\n",
       "    </tr>\n",
       "    <tr>\n",
       "      <th>4</th>\n",
       "      <td>0.754752</td>\n",
       "      <td>0.575484</td>\n",
       "      <td>0.516054</td>\n",
       "      <td>0.478201</td>\n",
       "      <td>0.531809</td>\n",
       "      <td>0.492656</td>\n",
       "      <td>0.538193</td>\n",
       "      <td>-1.000000</td>\n",
       "      <td>0.573013</td>\n",
       "      <td>0.531139</td>\n",
       "      <td>...</td>\n",
       "      <td>0.842432</td>\n",
       "      <td>0.607337</td>\n",
       "      <td>-1.000000</td>\n",
       "      <td>-1.000000</td>\n",
       "      <td>0.542545</td>\n",
       "      <td>0.519905</td>\n",
       "      <td>0.627382</td>\n",
       "      <td>0.668263</td>\n",
       "      <td>-1.000000</td>\n",
       "      <td>-1.000000</td>\n",
       "    </tr>\n",
       "  </tbody>\n",
       "</table>\n",
       "<p>5 rows × 245 columns</p>\n",
       "</div>"
      ],
      "text/plain": [
       "        0         1         2         3         4         5         6    \\\n",
       "0  0.545768  0.703299  0.515768  0.311232  0.603906  0.450516  0.485420   \n",
       "1  0.571387  0.671613  0.496906  0.476887  0.518088  0.460362  0.533427   \n",
       "2  0.573213  0.659692 -1.000000  0.287767  0.482881  0.573876  0.511186   \n",
       "3  0.719028  0.619979  0.511423  0.440943  0.553337  0.538648  0.516070   \n",
       "4  0.754752  0.575484  0.516054  0.478201  0.531809  0.492656  0.538193   \n",
       "\n",
       "        7         8         9    ...       235       236       237       238  \\\n",
       "0 -1.000000  0.530434  0.572562  ... -1.000000 -1.000000 -1.000000 -1.000000   \n",
       "1  0.339136  0.503110  0.512354  ... -1.000000  0.535256  0.287251  0.287251   \n",
       "2 -1.000000  0.554230  0.491498  ... -1.000000  0.514596  0.319856  0.319856   \n",
       "3 -1.000000  0.581957  0.511349  ...  0.725449  0.526762  0.378214  0.378214   \n",
       "4 -1.000000  0.573013  0.531139  ...  0.842432  0.607337 -1.000000 -1.000000   \n",
       "\n",
       "        239       240       241       242       243       244  \n",
       "0  0.555532  0.541632  0.654674  0.388019  0.595213  0.494394  \n",
       "1  0.469841  0.466546  0.570334  0.629295  0.587421  0.491340  \n",
       "2  0.499579  0.408823  0.643895  0.608160  0.558828  0.550060  \n",
       "3  0.536969  0.488291  0.679073  0.666191  0.593245  0.472189  \n",
       "4  0.542545  0.519905  0.627382  0.668263 -1.000000 -1.000000  \n",
       "\n",
       "[5 rows x 245 columns]"
      ]
     },
     "execution_count": 354,
     "metadata": {},
     "output_type": "execute_result"
    }
   ],
   "source": [
    "v = np.reshape(exp1_og, (24,245))\n",
    "v = pd.DataFrame(v)\n",
    "v.head()"
   ]
  },
  {
   "cell_type": "code",
   "execution_count": 294,
   "metadata": {},
   "outputs": [
    {
     "data": {
      "text/plain": [
       "<keras.engine.functional.Functional at 0x1e900f54eb0>"
      ]
     },
     "execution_count": 294,
     "metadata": {},
     "output_type": "execute_result"
    }
   ],
   "source": [
    "networks[-1]"
   ]
  },
  {
   "cell_type": "code",
   "execution_count": null,
   "metadata": {},
   "outputs": [],
   "source": [
    "#re-write loss function to only calculate on 1s"
   ]
  },
  {
   "cell_type": "code",
   "execution_count": 358,
   "metadata": {},
   "outputs": [
    {
     "name": "stdout",
     "output_type": "stream",
     "text": [
      "[4 6]\n"
     ]
    }
   ],
   "source": [
    "k = np.array([4,5,6,7,8])\n",
    "f = np.array([0,2])\n",
    "print(k[f])"
   ]
  },
  {
   "cell_type": "code",
   "execution_count": 409,
   "metadata": {},
   "outputs": [
    {
     "ename": "NameError",
     "evalue": "name 'interOut' is not defined",
     "output_type": "error",
     "traceback": [
      "\u001b[1;31m---------------------------------------------------------------------------\u001b[0m",
      "\u001b[1;31mNameError\u001b[0m                                 Traceback (most recent call last)",
      "Input \u001b[1;32mIn [409]\u001b[0m, in \u001b[0;36m<cell line: 1>\u001b[1;34m()\u001b[0m\n\u001b[1;32m----> 1\u001b[0m \u001b[43minterOut\u001b[49m\n",
      "\u001b[1;31mNameError\u001b[0m: name 'interOut' is not defined"
     ]
    }
   ],
   "source": []
  },
  {
   "cell_type": "code",
   "execution_count": 414,
   "metadata": {},
   "outputs": [],
   "source": [
    "\n",
    "z = outInter[:,:,parentIndex]"
   ]
  },
  {
   "cell_type": "code",
   "execution_count": 416,
   "metadata": {},
   "outputs": [
    {
     "data": {
      "text/plain": [
       "(4, 6, 21)"
      ]
     },
     "execution_count": 416,
     "metadata": {},
     "output_type": "execute_result"
    }
   ],
   "source": [
    "z.shape"
   ]
  },
  {
   "cell_type": "code",
   "execution_count": null,
   "metadata": {},
   "outputs": [],
   "source": []
  }
 ],
 "metadata": {
  "colab": {
   "authorship_tag": "ABX9TyM6J5QSynTTgZ+lFOhgOtAG",
   "collapsed_sections": [],
   "name": "cnn-third.ipynb",
   "provenance": [
    {
     "file_id": "1mmRxO5jnBc5CdzxXj8sMtPpG0BQ0ulSs",
     "timestamp": 1648921397876
    },
    {
     "file_id": "10758zFj2UnTnwpQaSFIr5r9MqZWdiMsf",
     "timestamp": 1648674775255
    }
   ]
  },
  "kernelspec": {
   "display_name": "Python 3 (ipykernel)",
   "language": "python",
   "name": "python3"
  },
  "language_info": {
   "codemirror_mode": {
    "name": "ipython",
    "version": 3
   },
   "file_extension": ".py",
   "mimetype": "text/x-python",
   "name": "python",
   "nbconvert_exporter": "python",
   "pygments_lexer": "ipython3",
   "version": "3.9.12"
  }
 },
 "nbformat": 4,
 "nbformat_minor": 1
}
