{
 "cells": [
  {
   "cell_type": "code",
   "execution_count": null,
   "metadata": {},
   "outputs": [],
   "source": [
    "#!jt -t chesterish\n"
   ]
  },
  {
   "cell_type": "markdown",
   "metadata": {},
   "source": [
    "Dorrit0, dorrit1, jelle0, night0, night1"
   ]
  },
  {
   "cell_type": "code",
   "execution_count": 193,
   "metadata": {
    "id": "gXpISOijEYqQ"
   },
   "outputs": [],
   "source": [
    "data_path_old = r\"C:\\Users\\Fin Amin\\Desktop/\\StemCellResearch\\datasets_Sahil_preprocessed_final-20220525T021621Z-001\\datasets_Sahil_preprocessed_final\\exp1\"\n",
    "matrix_path = \"regulator-gene-matrix.csv\"\n",
    "data_path_syn = r\"C:\\Users\\Fin Amin\\Desktop\\StemCellResearch\\Fin_preProcessed\\synData\"\n",
    "data_path_inter =  r\"C:\\Users\\Fin Amin\\Desktop\\StemCellResearch\\Fin_preProcessed\\interpolatedOnly\"\n",
    "data_path_og_exp1 = r\"C:\\Users\\Fin Amin\\Desktop\\StemCellResearch\\Fin_preProcessed\\datasets\\exp1\"\n",
    "data_path_testSet = r\"C:\\Users\\Fin Amin\\Desktop\\StemCellResearch\\testSetFixed\"\n"
   ]
  },
  {
   "cell_type": "code",
   "execution_count": 194,
   "metadata": {},
   "outputs": [
    {
     "data": {
      "text/plain": [
       "'Run to test on testSet'"
      ]
     },
     "execution_count": 194,
     "metadata": {},
     "output_type": "execute_result"
    }
   ],
   "source": [
    "'''Run to test on testSet'''\n",
    "#data_path_og_exp1 = data_path_testSet "
   ]
  },
  {
   "cell_type": "code",
   "execution_count": 195,
   "metadata": {
    "id": "qTo_HuQkGgAq"
   },
   "outputs": [],
   "source": [
    "import tensorflow as tf\n",
    "from tensorflow import keras\n",
    "\n",
    "import numpy as np\n",
    "import pandas as pd\n",
    "import matplotlib.pyplot as plt\n",
    "\n",
    "from keras.layers import*\n",
    "\n",
    "# from keras.layers import Input\n",
    "# from keras.layers import Dense\n",
    "# from keras.layers import Conv1D\n",
    "# from keras.layers import Conv1DTranspose\n",
    "# from keras.layers import Flatten, Reshape\n",
    "\n",
    "import os\n",
    "from glob import glob\n",
    "from tqdm import tqdm"
   ]
  },
  {
   "cell_type": "code",
   "execution_count": 196,
   "metadata": {},
   "outputs": [],
   "source": [
    "import matplotlib.pylab as pylab\n",
    "params = {'legend.fontsize': 'x-large',\n",
    "          'figure.figsize': (15, 5),\n",
    "         'axes.labelsize': 'x-large',\n",
    "         'axes.titlesize':'x-large',\n",
    "         'xtick.labelsize':'x-large',\n",
    "         'ytick.labelsize':'x-large'}\n",
    "pylab.rcParams.update(params)"
   ]
  },
  {
   "cell_type": "markdown",
   "metadata": {},
   "source": [
    "# Load the test set and the synthetic dataset:\n"
   ]
  },
  {
   "cell_type": "code",
   "execution_count": 238,
   "metadata": {},
   "outputs": [],
   "source": [
    "def loadTestSet(test_path):\n",
    "    testFiles = []\n",
    "    for np_name in glob(os.path.join(data_path_testSet,'*.np[yz]')):\n",
    "        k = np.load(os.path.join(data_path_testSet,np_name))\n",
    "        testFiles.append(k)\n",
    "#         print(np_name)\n",
    "#         print(k.shape)\n",
    "    return np.array(testFiles)"
   ]
  },
  {
   "cell_type": "code",
   "execution_count": 239,
   "metadata": {},
   "outputs": [],
   "source": [
    "test = loadTestSet(data_path_testSet)\n"
   ]
  },
  {
   "cell_type": "code",
   "execution_count": 210,
   "metadata": {
    "id": "_PKjzdFCMwFg"
   },
   "outputs": [],
   "source": [
    "def read_files(data_path):\n",
    "    '''\n",
    "    *Changed*\n",
    "    currently hardcoded for only one file. \n",
    "    change code a bit for reading multiple files.\n",
    "    '''\n",
    "    #genes_intensities_data_matrix = pd.read_csv(file_path_intensities, index_col = 0)\n",
    "    #print(os.listdir(data_path))\n",
    "    replicate_files = os.listdir(data_path)\n",
    "    #print('replicate files:',replicate_files)\n",
    "    replicates = []\n",
    "    # i = 0\n",
    "    for file in replicate_files:\n",
    "        \n",
    "        try:\n",
    "            #print('file name:',file)\n",
    "            #print('value of i:',i)\n",
    "            genes_intensities_data_matrix = pd.read_csv(os.path.join(data_path , file), index_col = 0, on_bad_lines='skip')\n",
    "            #print('genes_intensities_data_matrix:',  genes_intensities_data_matrix.head())\n",
    "            replicates.append(np.array(genes_intensities_data_matrix.values, dtype = float))\n",
    "            # i+=1\n",
    "        except PermissionError:\n",
    "            print(\"Not a CSV: \", os.path.join(data_path , file))\n",
    "        \n",
    "    genes_intensities_data_matrix = genes_intensities_data_matrix.values\n",
    "    rgm = np.loadtxt(matrix_path)\n",
    "    rep = np.array(replicates).astype(np.float32)\n",
    "    \n",
    "    return rep, rgm.astype(np.float32)"
   ]
  },
  {
   "cell_type": "code",
   "execution_count": 211,
   "metadata": {
    "id": "JCwo4LwlO_FF"
   },
   "outputs": [],
   "source": [
    "genes_intensities_normalized, regulator_gene_matrix= read_files(data_path_syn)\n",
    "matrix = regulator_gene_matrix\n",
    "replicates = genes_intensities_normalized"
   ]
  },
  {
   "cell_type": "code",
   "execution_count": 212,
   "metadata": {},
   "outputs": [
    {
     "data": {
      "text/plain": [
       "(245, 245)"
      ]
     },
     "execution_count": 212,
     "metadata": {},
     "output_type": "execute_result"
    }
   ],
   "source": [
    "matrix.shape"
   ]
  },
  {
   "cell_type": "code",
   "execution_count": 213,
   "metadata": {},
   "outputs": [
    {
     "data": {
      "text/plain": [
       "(6, 6, 245)"
      ]
     },
     "execution_count": 213,
     "metadata": {},
     "output_type": "execute_result"
    }
   ],
   "source": [
    "replicates.shape"
   ]
  },
  {
   "cell_type": "code",
   "execution_count": 214,
   "metadata": {},
   "outputs": [
    {
     "data": {
      "text/plain": [
       "<matplotlib.image.AxesImage at 0x207e3a8c280>"
      ]
     },
     "execution_count": 214,
     "metadata": {},
     "output_type": "execute_result"
    },
    {
     "data": {
      "image/png": "[encoded data removed]",
      "text/plain": [
       "<Figure size 1080x360 with 1 Axes>"
      ]
     },
     "metadata": {
      "needs_background": "light"
     },
     "output_type": "display_data"
    }
   ],
   "source": [
    "plt.imshow(matrix)"
   ]
  },
  {
   "cell_type": "code",
   "execution_count": 215,
   "metadata": {
    "colab": {
     "base_uri": "https://localhost:8080/",
     "height": 226
    },
    "executionInfo": {
     "elapsed": 44,
     "status": "error",
     "timestamp": 1649273006880,
     "user": {
      "displayName": "Sahil Anish Palarpwar",
      "userId": "17757512684560375750"
     },
     "user_tz": 240
    },
    "id": "UsYRR_HKdRPz",
    "outputId": "25a55bc5-9cff-45d6-ea84-6c28c4951e98"
   },
   "outputs": [
    {
     "name": "stdout",
     "output_type": "stream",
     "text": [
      "Found GPU at: /device:GPU:0\n"
     ]
    }
   ],
   "source": [
    "#%tensorflow_version 2.x\n",
    "device_name = tf.test.gpu_device_name()\n",
    "if device_name != '/device:GPU:0':\n",
    "  raise SystemError('GPU device not found')\n",
    "print('Found GPU at: {}'.format(device_name))"
   ]
  },
  {
   "cell_type": "code",
   "execution_count": 216,
   "metadata": {
    "id": "1yhzyikoFncq"
   },
   "outputs": [],
   "source": [
    "class EncoderLinear(keras.layers.Layer):\n",
    "    def __init__(self, rgm, input_dim=32, units=32):\n",
    "        super(EncoderLinear, self).__init__()\n",
    "        self.rgm = rgm\n",
    "        \n",
    "        def init_weights(shape, dtype=\"float32\"):\n",
    "\n",
    "            w_init = tf.random_normal_initializer()(shape=shape, dtype=dtype) * tf.convert_to_tensor(self.rgm, dtype=dtype)\n",
    "\n",
    "            return w_init\n",
    "        \n",
    "\n",
    "        self.w = tf.Variable(\n",
    "            initial_value=init_weights(shape=(input_dim, units), dtype=\"float32\"),\n",
    "            trainable=True,\n",
    "        )\n",
    "\n",
    "    def call(self, inputs):\n",
    "        X = inputs\n",
    "        return tf.matmul(X, tf.multiply(self.rgm, self.w))\n",
    "    #tf.matmul(inputs, self.w)"
   ]
  },
  {
   "cell_type": "code",
   "execution_count": 217,
   "metadata": {
    "id": "4uchxU-bmBDe"
   },
   "outputs": [],
   "source": [
    "class DecoderLinear(keras.layers.Layer):\n",
    "    def __init__(self, rgm, input_dim=32, units=32):\n",
    "        super(DecoderLinear, self).__init__()\n",
    "        self.rgm = rgm\n",
    "\n",
    "        def init_weights(shape, dtype=\"float32\"):\n",
    "\n",
    "            w_init = tf.random_normal_initializer()(shape=shape, dtype=dtype) * tf.transpose(tf.convert_to_tensor(self.rgm, dtype=dtype))\n",
    "\n",
    "            return w_init\n",
    "    \n",
    "        \n",
    "        self.w = tf.Variable(\n",
    "            initial_value=init_weights(shape=(input_dim, units), dtype=\"float32\"),\n",
    "            trainable=True,\n",
    "        )\n",
    "\n",
    "    def call(self, inputs):\n",
    "        X = inputs\n",
    "        #return tf.matmul(X, tf.multiply((self.rgm), self.w))\n",
    "        X = tf.matmul(X, tf.multiply(tf.transpose(self.rgm), self.w)) \n",
    "        #return tf.matmul(inputs, self.w)\n",
    "        v = tf.zeros_like(X)\n",
    "        u = tf.ones_like(X)\n",
    "        u = tf.math.scalar_mul(-1.0, u)\n",
    "        \n",
    "        return tf.where(tf.math.less(X, v), u, X) #where X is less than 0, return -1 \n",
    "        \n",
    "        "
   ]
  },
  {
   "cell_type": "code",
   "execution_count": 218,
   "metadata": {
    "id": "PQVz4BCpmNMd"
   },
   "outputs": [],
   "source": [
    "def encoder(parent_child_biological_association, num_hidden_units=2):\n",
    "    '''\n",
    "    Encoder structure\n",
    "    '''\n",
    "    '''\n",
    "    The data is time-series. Therefore, CNN to learn the temporal relationship between \n",
    "    the intensities for each gene.\n",
    "    '''\n",
    "    en_conv = Conv1D(32, 3, activation = \"relu\")(parent_child_biological_association) # 6*245\n",
    "    en_dense = Flatten()(en_conv)\n",
    "    phenotype = Dense(num_hidden_units)(en_dense)\n",
    "    return phenotype\n",
    "\n",
    "def decoder(X, num_protein_gene, time_steps):\n",
    "    '''\n",
    "    Decoder structure\n",
    "    '''\n",
    "    de_dense = Dense(128)(X)\n",
    "    de_dense = Reshape((1, 128))(de_dense) #tf.reshape(de_dense, (self.batch_size,1,128))\n",
    "    de_deconv = Conv1DTranspose(num_protein_gene, time_steps, activation = \"relu\")(de_dense) #used to be transpose\n",
    "    #de_deconv = Conv1D(num_protein_gene, time_steps, activation = \"relu\")(de_dense) \n",
    "    # gene_reconstruction = self.decoder_biological_operation(de_deconv)\n",
    "    return de_deconv\n",
    "\n",
    "def model(rgm, num_protein_gene, time_steps, num_kinase_regulators, num_hidden_units = 2):\n",
    "    inp = Input(shape=(time_steps, num_kinase_regulators))\n",
    "    x = EncoderLinear(rgm, 245, 245)(inp)\n",
    "    enc = encoder(x, num_hidden_units)\n",
    "    dec = decoder(enc, num_protein_gene, time_steps)\n",
    "    out = DecoderLinear(rgm, 245, 245)(dec)\n",
    "\n",
    "    _model = tf.keras.Model(inputs=inp, outputs=out)\n",
    "\n",
    "    return _model"
   ]
  },
  {
   "cell_type": "code",
   "execution_count": 219,
   "metadata": {
    "id": "6GB0OcIgpKSu"
   },
   "outputs": [],
   "source": [
    "regulator_gene_matrix = matrix# np.random.randint(0, 2, size=(245, 245)).astype(np.float32)\n"
   ]
  },
  {
   "cell_type": "code",
   "execution_count": 220,
   "metadata": {
    "id": "nPRV0OAMpKPH"
   },
   "outputs": [],
   "source": [
    "enc_dec_Synthetic = model(regulator_gene_matrix, 245, 6, 245) #we can just change the time steps to something higher"
   ]
  },
  {
   "cell_type": "code",
   "execution_count": 221,
   "metadata": {
    "colab": {
     "base_uri": "https://localhost:8080/"
    },
    "executionInfo": {
     "elapsed": 13,
     "status": "ok",
     "timestamp": 1649273028683,
     "user": {
      "displayName": "Sahil Anish Palarpwar",
      "userId": "17757512684560375750"
     },
     "user_tz": 240
    },
    "id": "D6aPT5_cpKK0",
    "outputId": "c261d824-0f38-4eee-b139-f03a80f093e1"
   },
   "outputs": [
    {
     "name": "stdout",
     "output_type": "stream",
     "text": [
      "Model: \"model_4\"\n",
      "_________________________________________________________________\n",
      " Layer (type)                Output Shape              Param #   \n",
      "=================================================================\n",
      " input_5 (InputLayer)        [(None, 6, 245)]          0         \n",
      "                                                                 \n",
      " encoder_linear_4 (EncoderLi  (None, 6, 245)           60025     \n",
      " near)                                                           \n",
      "                                                                 \n",
      " conv1d_4 (Conv1D)           (None, 4, 32)             23552     \n",
      "                                                                 \n",
      " flatten_4 (Flatten)         (None, 128)               0         \n",
      "                                                                 \n",
      " dense_8 (Dense)             (None, 2)                 258       \n",
      "                                                                 \n",
      " dense_9 (Dense)             (None, 128)               384       \n",
      "                                                                 \n",
      " reshape_4 (Reshape)         (None, 1, 128)            0         \n",
      "                                                                 \n",
      " conv1d_transpose_4 (Conv1DT  (None, 6, 245)           188405    \n",
      " ranspose)                                                       \n",
      "                                                                 \n",
      " decoder_linear_4 (DecoderLi  (None, 6, 245)           60025     \n",
      " near)                                                           \n",
      "                                                                 \n",
      "=================================================================\n",
      "Total params: 332,649\n",
      "Trainable params: 332,649\n",
      "Non-trainable params: 0\n",
      "_________________________________________________________________\n"
     ]
    }
   ],
   "source": [
    "enc_dec_Synthetic.summary()"
   ]
  },
  {
   "cell_type": "markdown",
   "metadata": {},
   "source": [
    "# Create Super parent matrix. FOR USE LATER!!"
   ]
  },
  {
   "cell_type": "code",
   "execution_count": 222,
   "metadata": {
    "id": "7XlphetivRZ4"
   },
   "outputs": [],
   "source": [
    "from tensorflow.keras import losses"
   ]
  },
  {
   "cell_type": "code",
   "execution_count": 223,
   "metadata": {},
   "outputs": [],
   "source": [
    "superParent = regulator_gene_matrix.copy()\n",
    "#print(superParent.shape)\n",
    "\n",
    "ones = np.ones((245))\n",
    "parentIndex = []\n",
    "for i in range(len(regulator_gene_matrix)):\n",
    "    if (np.isin(regulator_gene_matrix[i], [1])).any():\n",
    "        #print(i)\n",
    "        superParent[i] = ones \n",
    "        parentIndex.append(i)\n",
    "parentIndex = np.array(parentIndex)\n",
    "parentIndex = tf.convert_to_tensor(parentIndex)\n",
    "\n",
    "def ignore_noParent_MSE(y_true, y_pred): \n",
    "    l = tf.keras.losses.MeanSquaredError()\n",
    "    y_true_pruned = tf.gather(y_true,parentIndex, axis =2)\n",
    "    #print(y_true_pruned.shape\n",
    "    y_pred_pruned = tf.gather(y_pred, parentIndex, axis =2)   \n",
    "    return l(y_true_pruned, y_pred_pruned)"
   ]
  },
  {
   "cell_type": "code",
   "execution_count": 224,
   "metadata": {
    "id": "WrRuJ_bsrHll"
   },
   "outputs": [],
   "source": [
    "enc_dec_Synthetic.compile(optimizer='adam', loss=ignore_noParent_MSE)"
   ]
  },
  {
   "cell_type": "code",
   "execution_count": 225,
   "metadata": {
    "id": "yAOZEEvRRVU4"
   },
   "outputs": [],
   "source": [
    "# enc_dec_Synthetic.compile(optimizer='adam',loss = keras.losses.SparseCategoricalCrossentropy(from_logits=True))"
   ]
  },
  {
   "cell_type": "markdown",
   "metadata": {},
   "source": [
    "# Train on bottom 5 synthetic datasets (all but first experiment)"
   ]
  },
  {
   "cell_type": "code",
   "execution_count": 226,
   "metadata": {
    "colab": {
     "base_uri": "https://localhost:8080/"
    },
    "executionInfo": {
     "elapsed": 726,
     "status": "ok",
     "timestamp": 1649273035573,
     "user": {
      "displayName": "Sahil Anish Palarpwar",
      "userId": "17757512684560375750"
     },
     "user_tz": 240
    },
    "id": "EuNDZx5Ov34I",
    "outputId": "74597aa1-c71c-4491-b8c9-4fefed309325"
   },
   "outputs": [
    {
     "name": "stdout",
     "output_type": "stream",
     "text": [
      "Epoch 1/10\n",
      "1/1 [==============================] - 1s 681ms/step - loss: 1.4058\n",
      "Epoch 2/10\n",
      "1/1 [==============================] - 0s 1ms/step - loss: 1.2881\n",
      "Epoch 3/10\n",
      "1/1 [==============================] - 0s 29ms/step - loss: 1.2155\n",
      "Epoch 4/10\n",
      "1/1 [==============================] - 0s 11ms/step - loss: 1.1529\n",
      "Epoch 5/10\n",
      "1/1 [==============================] - 0s 11ms/step - loss: 1.0848\n",
      "Epoch 6/10\n",
      "1/1 [==============================] - 0s 11ms/step - loss: 1.0570\n",
      "Epoch 7/10\n",
      "1/1 [==============================] - 0s 10ms/step - loss: 1.0259\n",
      "Epoch 8/10\n",
      "1/1 [==============================] - 0s 9ms/step - loss: 0.9821\n",
      "Epoch 9/10\n",
      "1/1 [==============================] - 0s 65ms/step - loss: 0.9312\n",
      "Epoch 10/10\n",
      "1/1 [==============================] - 0s 6ms/step - loss: 0.9131\n"
     ]
    },
    {
     "data": {
      "text/plain": [
       "<keras.callbacks.History at 0x207e3ac41f0>"
      ]
     },
     "execution_count": 226,
     "metadata": {},
     "output_type": "execute_result"
    }
   ],
   "source": [
    "enc_dec_Synthetic.fit(genes_intensities_normalized[1:],genes_intensities_normalized[1:],epochs=10)"
   ]
  },
  {
   "cell_type": "code",
   "execution_count": 227,
   "metadata": {},
   "outputs": [],
   "source": [
    "w = enc_dec_Synthetic.get_weights()"
   ]
  },
  {
   "cell_type": "code",
   "execution_count": 228,
   "metadata": {},
   "outputs": [
    {
     "data": {
      "text/plain": [
       "<matplotlib.image.AxesImage at 0x207e3d03fd0>"
      ]
     },
     "execution_count": 228,
     "metadata": {},
     "output_type": "execute_result"
    },
    {
     "data": {
      "image/png": "[encoded data removed]",
      "text/plain": [
       "<Figure size 1080x360 with 1 Axes>"
      ]
     },
     "metadata": {
      "needs_background": "light"
     },
     "output_type": "display_data"
    }
   ],
   "source": [
    "plt.imshow(w[0], cmap = \"hot\", vmin=0,vmax=0.02)"
   ]
  },
  {
   "cell_type": "markdown",
   "metadata": {},
   "source": [
    "# The output of the auto encoder trained on synthetic data. Autoencoder has not been trained on synthetic version of experiement 1. We test on the original experiment 1. TODO: test on testset"
   ]
  },
  {
   "cell_type": "code",
   "execution_count": 229,
   "metadata": {
    "id": "SBzDmjqJViEw",
    "scrolled": true
   },
   "outputs": [],
   "source": [
    "#we do not need to use this function for the testset\n",
    "def getCSVs(data_path_head):\n",
    "    PATH = data_path_head\n",
    "    EXT = \"*.csv\"\n",
    "    all_csv_files = [file\n",
    "                     for path, subdir, files in os.walk(PATH)\n",
    "                     for file in glob(os.path.join(path, EXT))]\n",
    "    actual = []\n",
    "    for p in all_csv_files:\n",
    "        actual.append(pd.read_csv(p, index_col = 0).to_numpy())\n",
    "    return np.array(actual)\n",
    "    \n",
    "#testCandidate = getCSVs(data_path_og_exp1)"
   ]
  },
  {
   "cell_type": "code",
   "execution_count": 241,
   "metadata": {},
   "outputs": [
    {
     "name": "stderr",
     "output_type": "stream",
     "text": [
      "C:\\Users\\Fin Amin\\AppData\\Local\\Temp\\ipykernel_11164\\1882554214.py:1: DeprecationWarning: `np.float` is a deprecated alias for the builtin `float`. To silence this warning, use `float` by itself. Doing this will not modify any behavior and is safe. If you specifically wanted the numpy scalar type, use `np.float64` here.\n",
      "Deprecated in NumPy 1.20; for more details and guidance: https://numpy.org/devdocs/release/1.20.0-notes.html#deprecations\n",
      "  testCandidate = test.astype(np.float)\n"
     ]
    }
   ],
   "source": [
    "testCandidate = test.astype(np.float)"
   ]
  },
  {
   "cell_type": "code",
   "execution_count": 244,
   "metadata": {},
   "outputs": [
    {
     "data": {
      "text/plain": [
       "dtype('float64')"
      ]
     },
     "execution_count": 244,
     "metadata": {},
     "output_type": "execute_result"
    }
   ],
   "source": [
    "testCandidate.dtype"
   ]
  },
  {
   "cell_type": "code",
   "execution_count": 245,
   "metadata": {},
   "outputs": [
    {
     "data": {
      "text/plain": [
       "(1, 6, 245)"
      ]
     },
     "execution_count": 245,
     "metadata": {},
     "output_type": "execute_result"
    }
   ],
   "source": [
    "np.array([genes_intensities_normalized[0]]).shape"
   ]
  },
  {
   "cell_type": "code",
   "execution_count": 246,
   "metadata": {},
   "outputs": [
    {
     "data": {
      "text/plain": [
       "(6, 245)"
      ]
     },
     "execution_count": 246,
     "metadata": {},
     "output_type": "execute_result"
    }
   ],
   "source": [
    "testCandidate[0].shape"
   ]
  },
  {
   "cell_type": "code",
   "execution_count": 247,
   "metadata": {},
   "outputs": [
    {
     "data": {
      "text/plain": [
       "(1, 6, 245)"
      ]
     },
     "execution_count": 247,
     "metadata": {},
     "output_type": "execute_result"
    }
   ],
   "source": [
    "np.array([genes_intensities_normalized[0]]).shape"
   ]
  },
  {
   "cell_type": "code",
   "execution_count": 249,
   "metadata": {},
   "outputs": [
    {
     "name": "stdout",
     "output_type": "stream",
     "text": [
      "1/1 [==============================] - 0s 16ms/step\n"
     ]
    }
   ],
   "source": [
    "outSyn = enc_dec_Synthetic.predict(testCandidate)"
   ]
  },
  {
   "cell_type": "code",
   "execution_count": 250,
   "metadata": {},
   "outputs": [],
   "source": [
    "def mymagn(A, B):\n",
    "    mse = (np.square(A - B)).mean(axis=None)\n",
    "    return mse"
   ]
  },
  {
   "cell_type": "code",
   "execution_count": 251,
   "metadata": {},
   "outputs": [
    {
     "data": {
      "text/plain": [
       "<tf.Tensor: shape=(), dtype=float64, numpy=1.2090883746846182>"
      ]
     },
     "execution_count": 251,
     "metadata": {},
     "output_type": "execute_result"
    }
   ],
   "source": [
    "syntheticLoss = ignore_noParent_MSE(outSyn, testCandidate)\n",
    "syntheticLoss"
   ]
  },
  {
   "cell_type": "code",
   "execution_count": 252,
   "metadata": {},
   "outputs": [
    {
     "data": {
      "text/plain": [
       "(4, 6, 245)"
      ]
     },
     "execution_count": 252,
     "metadata": {},
     "output_type": "execute_result"
    }
   ],
   "source": [
    "(outSyn-testCandidate).shape"
   ]
  },
  {
   "cell_type": "markdown",
   "metadata": {},
   "source": [
    "# The autoencoder trained on the interpolated dataset. Once again, we do not train on any version of the original experiment. TODO: test on test set"
   ]
  },
  {
   "cell_type": "code",
   "execution_count": 253,
   "metadata": {},
   "outputs": [],
   "source": [
    "def read_filesV2(data_path):\n",
    "    '''\n",
    "    *Changed*\n",
    "    currently hardcoded for only one file. \n",
    "    change code a bit for reading multiple files.\n",
    "    '''\n",
    "    #genes_intensities_data_matrix = pd.read_csv(file_path_intensities, index_col = 0)\n",
    "    #print(os.listdir(data_path))\n",
    "    replicate_files = os.listdir(data_path)\n",
    "    #print('replicate files:',replicate_files)\n",
    "    replicates = []\n",
    "    # i = 0\n",
    "    for file in replicate_files:\n",
    "        \n",
    "        #print('file name:',file)\n",
    "        #print('value of i:',i)\n",
    "        genes_intensities_data_matrix = pd.read_csv(os.path.join(data_path , file), index_col = 0, on_bad_lines='skip')\n",
    "        #print('genes_intensities_data_matrix:',  genes_intensities_data_matrix.head())\n",
    "        replicates.append(genes_intensities_data_matrix.values)\n",
    "        # i+=1\n",
    "        \n",
    "    genes_intensities_data_matrix = genes_intensities_data_matrix.values\n",
    "    rgm = np.loadtxt(matrix_path)\n",
    "    \n",
    "    return np.asarray(replicates), rgm.astype(np.float32)"
   ]
  },
  {
   "cell_type": "code",
   "execution_count": 254,
   "metadata": {},
   "outputs": [
    {
     "name": "stderr",
     "output_type": "stream",
     "text": [
      "C:\\Users\\Fin Amin\\AppData\\Local\\Temp\\ipykernel_11164\\3349346019.py:25: VisibleDeprecationWarning: Creating an ndarray from ragged nested sequences (which is a list-or-tuple of lists-or-tuples-or ndarrays with different lengths or shapes) is deprecated. If you meant to do this, you must specify 'dtype=object' when creating the ndarray.\n",
      "  return np.asarray(replicates), rgm.astype(np.float32)\n"
     ]
    }
   ],
   "source": [
    "interpolated_genes, _ = read_filesV2(data_path_inter)"
   ]
  },
  {
   "cell_type": "code",
   "execution_count": 255,
   "metadata": {},
   "outputs": [
    {
     "data": {
      "text/plain": [
       "(5,)"
      ]
     },
     "execution_count": 255,
     "metadata": {},
     "output_type": "execute_result"
    }
   ],
   "source": [
    "interpolated_genes.shape"
   ]
  },
  {
   "cell_type": "code",
   "execution_count": 256,
   "metadata": {},
   "outputs": [
    {
     "data": {
      "text/html": [
       "<div>\n",
       "<style scoped>\n",
       "    .dataframe tbody tr th:only-of-type {\n",
       "        vertical-align: middle;\n",
       "    }\n",
       "\n",
       "    .dataframe tbody tr th {\n",
       "        vertical-align: top;\n",
       "    }\n",
       "\n",
       "    .dataframe thead th {\n",
       "        text-align: right;\n",
       "    }\n",
       "</style>\n",
       "<table border=\"1\" class=\"dataframe\">\n",
       "  <thead>\n",
       "    <tr style=\"text-align: right;\">\n",
       "      <th></th>\n",
       "      <th>0</th>\n",
       "      <th>1</th>\n",
       "      <th>2</th>\n",
       "      <th>3</th>\n",
       "      <th>4</th>\n",
       "      <th>5</th>\n",
       "      <th>6</th>\n",
       "      <th>7</th>\n",
       "      <th>8</th>\n",
       "      <th>9</th>\n",
       "      <th>...</th>\n",
       "      <th>235</th>\n",
       "      <th>236</th>\n",
       "      <th>237</th>\n",
       "      <th>238</th>\n",
       "      <th>239</th>\n",
       "      <th>240</th>\n",
       "      <th>241</th>\n",
       "      <th>242</th>\n",
       "      <th>243</th>\n",
       "      <th>244</th>\n",
       "    </tr>\n",
       "  </thead>\n",
       "  <tbody>\n",
       "    <tr>\n",
       "      <th>0</th>\n",
       "      <td>0.254943</td>\n",
       "      <td>-1.000000</td>\n",
       "      <td>0.663585</td>\n",
       "      <td>0.440312</td>\n",
       "      <td>-1.000000</td>\n",
       "      <td>0.635664</td>\n",
       "      <td>0.734571</td>\n",
       "      <td>-1.000000</td>\n",
       "      <td>0.312044</td>\n",
       "      <td>0.602692</td>\n",
       "      <td>...</td>\n",
       "      <td>-1.000000</td>\n",
       "      <td>0.400712</td>\n",
       "      <td>-1.000000</td>\n",
       "      <td>0.523033</td>\n",
       "      <td>-1.000000</td>\n",
       "      <td>0.561590</td>\n",
       "      <td>0.403879</td>\n",
       "      <td>0.642049</td>\n",
       "      <td>-1.000000</td>\n",
       "      <td>0.443478</td>\n",
       "    </tr>\n",
       "    <tr>\n",
       "      <th>1</th>\n",
       "      <td>0.338509</td>\n",
       "      <td>-1.000000</td>\n",
       "      <td>0.612395</td>\n",
       "      <td>0.655007</td>\n",
       "      <td>-1.000000</td>\n",
       "      <td>-1.000000</td>\n",
       "      <td>0.590564</td>\n",
       "      <td>-1.000000</td>\n",
       "      <td>0.353872</td>\n",
       "      <td>0.539972</td>\n",
       "      <td>...</td>\n",
       "      <td>-1.000000</td>\n",
       "      <td>0.445519</td>\n",
       "      <td>-1.000000</td>\n",
       "      <td>0.586067</td>\n",
       "      <td>-1.000000</td>\n",
       "      <td>0.541903</td>\n",
       "      <td>0.426403</td>\n",
       "      <td>0.495559</td>\n",
       "      <td>0.550973</td>\n",
       "      <td>0.419991</td>\n",
       "    </tr>\n",
       "    <tr>\n",
       "      <th>2</th>\n",
       "      <td>-1.000000</td>\n",
       "      <td>0.544463</td>\n",
       "      <td>0.596307</td>\n",
       "      <td>0.596367</td>\n",
       "      <td>-1.000000</td>\n",
       "      <td>0.629406</td>\n",
       "      <td>0.579586</td>\n",
       "      <td>0.726602</td>\n",
       "      <td>-1.000000</td>\n",
       "      <td>0.535278</td>\n",
       "      <td>...</td>\n",
       "      <td>0.509166</td>\n",
       "      <td>-1.000000</td>\n",
       "      <td>-1.000000</td>\n",
       "      <td>0.642262</td>\n",
       "      <td>-1.000000</td>\n",
       "      <td>0.586480</td>\n",
       "      <td>0.569283</td>\n",
       "      <td>-1.000000</td>\n",
       "      <td>0.596188</td>\n",
       "      <td>-1.000000</td>\n",
       "    </tr>\n",
       "    <tr>\n",
       "      <th>3</th>\n",
       "      <td>-0.329754</td>\n",
       "      <td>-0.454583</td>\n",
       "      <td>-0.828393</td>\n",
       "      <td>0.582746</td>\n",
       "      <td>-0.689224</td>\n",
       "      <td>0.178233</td>\n",
       "      <td>0.309607</td>\n",
       "      <td>-0.297329</td>\n",
       "      <td>-0.461788</td>\n",
       "      <td>0.493608</td>\n",
       "      <td>...</td>\n",
       "      <td>-0.024981</td>\n",
       "      <td>-0.697509</td>\n",
       "      <td>-0.153204</td>\n",
       "      <td>0.546957</td>\n",
       "      <td>0.161868</td>\n",
       "      <td>0.291320</td>\n",
       "      <td>-0.109625</td>\n",
       "      <td>-0.444279</td>\n",
       "      <td>0.007077</td>\n",
       "      <td>-0.254379</td>\n",
       "    </tr>\n",
       "    <tr>\n",
       "      <th>4</th>\n",
       "      <td>-1.000000</td>\n",
       "      <td>0.528085</td>\n",
       "      <td>-1.000000</td>\n",
       "      <td>0.523557</td>\n",
       "      <td>-1.000000</td>\n",
       "      <td>0.588043</td>\n",
       "      <td>0.580612</td>\n",
       "      <td>-1.000000</td>\n",
       "      <td>0.354997</td>\n",
       "      <td>0.567674</td>\n",
       "      <td>...</td>\n",
       "      <td>0.573489</td>\n",
       "      <td>0.392001</td>\n",
       "      <td>-1.000000</td>\n",
       "      <td>0.602732</td>\n",
       "      <td>-1.000000</td>\n",
       "      <td>0.544163</td>\n",
       "      <td>0.423905</td>\n",
       "      <td>-1.000000</td>\n",
       "      <td>0.578650</td>\n",
       "      <td>-1.000000</td>\n",
       "    </tr>\n",
       "  </tbody>\n",
       "</table>\n",
       "<p>5 rows × 245 columns</p>\n",
       "</div>"
      ],
      "text/plain": [
       "        0         1         2         3         4         5         6    \\\n",
       "0  0.254943 -1.000000  0.663585  0.440312 -1.000000  0.635664  0.734571   \n",
       "1  0.338509 -1.000000  0.612395  0.655007 -1.000000 -1.000000  0.590564   \n",
       "2 -1.000000  0.544463  0.596307  0.596367 -1.000000  0.629406  0.579586   \n",
       "3 -0.329754 -0.454583 -0.828393  0.582746 -0.689224  0.178233  0.309607   \n",
       "4 -1.000000  0.528085 -1.000000  0.523557 -1.000000  0.588043  0.580612   \n",
       "\n",
       "        7         8         9    ...       235       236       237       238  \\\n",
       "0 -1.000000  0.312044  0.602692  ... -1.000000  0.400712 -1.000000  0.523033   \n",
       "1 -1.000000  0.353872  0.539972  ... -1.000000  0.445519 -1.000000  0.586067   \n",
       "2  0.726602 -1.000000  0.535278  ...  0.509166 -1.000000 -1.000000  0.642262   \n",
       "3 -0.297329 -0.461788  0.493608  ... -0.024981 -0.697509 -0.153204  0.546957   \n",
       "4 -1.000000  0.354997  0.567674  ...  0.573489  0.392001 -1.000000  0.602732   \n",
       "\n",
       "        239       240       241       242       243       244  \n",
       "0 -1.000000  0.561590  0.403879  0.642049 -1.000000  0.443478  \n",
       "1 -1.000000  0.541903  0.426403  0.495559  0.550973  0.419991  \n",
       "2 -1.000000  0.586480  0.569283 -1.000000  0.596188 -1.000000  \n",
       "3  0.161868  0.291320 -0.109625 -0.444279  0.007077 -0.254379  \n",
       "4 -1.000000  0.544163  0.423905 -1.000000  0.578650 -1.000000  \n",
       "\n",
       "[5 rows x 245 columns]"
      ]
     },
     "execution_count": 256,
     "metadata": {},
     "output_type": "execute_result"
    }
   ],
   "source": [
    "pd.DataFrame(interpolated_genes[2]).head(5)"
   ]
  },
  {
   "cell_type": "code",
   "execution_count": 257,
   "metadata": {},
   "outputs": [],
   "source": [
    "inter = []\n",
    "for k in range(len(interpolated_genes)):\n",
    "    #print(k)\n",
    "    if k == 2 or k == 3 or k == 4:\n",
    "        inter.append(np.reshape(interpolated_genes[k], (4,6,245)))\n",
    "    else: \n",
    "        inter.append(np.reshape(interpolated_genes[k], (5,6,245)))\n",
    "inter = np.vstack(inter)"
   ]
  },
  {
   "cell_type": "code",
   "execution_count": 258,
   "metadata": {},
   "outputs": [
    {
     "data": {
      "text/plain": [
       "(22, 6, 245)"
      ]
     },
     "execution_count": 258,
     "metadata": {},
     "output_type": "execute_result"
    }
   ],
   "source": [
    "inter.shape"
   ]
  },
  {
   "cell_type": "code",
   "execution_count": 259,
   "metadata": {},
   "outputs": [
    {
     "data": {
      "text/plain": [
       "(5, 6, 245)"
      ]
     },
     "execution_count": 259,
     "metadata": {},
     "output_type": "execute_result"
    }
   ],
   "source": [
    "genes_intensities_normalized[1:].shape"
   ]
  },
  {
   "cell_type": "code",
   "execution_count": 260,
   "metadata": {},
   "outputs": [],
   "source": [
    "enc_dec_inter = model(regulator_gene_matrix, 245, 6, 245) \n",
    "enc_dec_inter.compile(optimizer='adam', loss=ignore_noParent_MSE)"
   ]
  },
  {
   "cell_type": "code",
   "execution_count": 261,
   "metadata": {},
   "outputs": [
    {
     "name": "stdout",
     "output_type": "stream",
     "text": [
      "Epoch 1/10\n",
      "1/1 [==============================] - 1s 1s/step - loss: 0.8810\n",
      "Epoch 2/10\n",
      "1/1 [==============================] - 0s 16ms/step - loss: 0.7950\n",
      "Epoch 3/10\n",
      "1/1 [==============================] - 0s 0s/step - loss: 0.7612\n",
      "Epoch 4/10\n",
      "1/1 [==============================] - 0s 0s/step - loss: 0.7311\n",
      "Epoch 5/10\n",
      "1/1 [==============================] - 0s 20ms/step - loss: 0.7113\n",
      "Epoch 6/10\n",
      "1/1 [==============================] - 0s 4ms/step - loss: 0.6999\n",
      "Epoch 7/10\n",
      "1/1 [==============================] - 0s 4ms/step - loss: 0.6958\n",
      "Epoch 8/10\n",
      "1/1 [==============================] - 0s 7ms/step - loss: 0.6621\n",
      "Epoch 9/10\n",
      "1/1 [==============================] - 0s 5ms/step - loss: 0.6577\n",
      "Epoch 10/10\n",
      "1/1 [==============================] - 0s 5ms/step - loss: 0.6505\n"
     ]
    }
   ],
   "source": [
    "enc_dec_inter.fit(inter, inter,epochs=10);"
   ]
  },
  {
   "cell_type": "code",
   "execution_count": 262,
   "metadata": {},
   "outputs": [
    {
     "name": "stdout",
     "output_type": "stream",
     "text": [
      "1/1 [==============================] - 0s 107ms/step\n"
     ]
    }
   ],
   "source": [
    "outInter = enc_dec_inter.predict(testCandidate)\n",
    "interpolationLoss = ignore_noParent_MSE(outInter, testCandidate)"
   ]
  },
  {
   "cell_type": "code",
   "execution_count": 263,
   "metadata": {},
   "outputs": [
    {
     "data": {
      "text/plain": [
       "<tf.Tensor: shape=(), dtype=float64, numpy=1.3098661392480786>"
      ]
     },
     "execution_count": 263,
     "metadata": {},
     "output_type": "execute_result"
    }
   ],
   "source": [
    "interpolationLoss"
   ]
  },
  {
   "cell_type": "code",
   "execution_count": 264,
   "metadata": {},
   "outputs": [
    {
     "data": {
      "text/plain": [
       "(4, 6, 245)"
      ]
     },
     "execution_count": 264,
     "metadata": {},
     "output_type": "execute_result"
    }
   ],
   "source": [
    "outInter.shape"
   ]
  },
  {
   "cell_type": "code",
   "execution_count": 265,
   "metadata": {},
   "outputs": [
    {
     "data": {
      "text/plain": [
       "<keras.callbacks.History at 0x207d900f580>"
      ]
     },
     "execution_count": 265,
     "metadata": {},
     "output_type": "execute_result"
    }
   ],
   "source": [
    "u = enc_dec_inter.history\n",
    "u"
   ]
  },
  {
   "cell_type": "code",
   "execution_count": 266,
   "metadata": {},
   "outputs": [
    {
     "data": {
      "text/plain": [
       "<tf.Tensor: shape=(), dtype=float64, numpy=1.3098661392480786>"
      ]
     },
     "execution_count": 266,
     "metadata": {},
     "output_type": "execute_result"
    }
   ],
   "source": [
    "interpolationLoss"
   ]
  },
  {
   "cell_type": "markdown",
   "metadata": {},
   "source": [
    "# We have the comparisons between various outputs:"
   ]
  },
  {
   "cell_type": "code",
   "execution_count": 267,
   "metadata": {},
   "outputs": [
    {
     "data": {
      "image/png": "[encoded data removed]",
      "text/plain": [
       "<Figure size 1080x360 with 1 Axes>"
      ]
     },
     "metadata": {
      "needs_background": "light"
     },
     "output_type": "display_data"
    }
   ],
   "source": [
    "u = plt.imshow(np.reshape((np.abs(outSyn)), (24,245)), cmap = \"hot\", vmin=0,vmax=1.0 );"
   ]
  },
  {
   "cell_type": "code",
   "execution_count": 268,
   "metadata": {},
   "outputs": [
    {
     "data": {
      "text/html": [
       "<div>\n",
       "<style scoped>\n",
       "    .dataframe tbody tr th:only-of-type {\n",
       "        vertical-align: middle;\n",
       "    }\n",
       "\n",
       "    .dataframe tbody tr th {\n",
       "        vertical-align: top;\n",
       "    }\n",
       "\n",
       "    .dataframe thead th {\n",
       "        text-align: right;\n",
       "    }\n",
       "</style>\n",
       "<table border=\"1\" class=\"dataframe\">\n",
       "  <thead>\n",
       "    <tr style=\"text-align: right;\">\n",
       "      <th></th>\n",
       "      <th>0</th>\n",
       "      <th>1</th>\n",
       "      <th>2</th>\n",
       "      <th>3</th>\n",
       "      <th>4</th>\n",
       "      <th>5</th>\n",
       "      <th>6</th>\n",
       "      <th>7</th>\n",
       "      <th>8</th>\n",
       "      <th>9</th>\n",
       "      <th>...</th>\n",
       "      <th>235</th>\n",
       "      <th>236</th>\n",
       "      <th>237</th>\n",
       "      <th>238</th>\n",
       "      <th>239</th>\n",
       "      <th>240</th>\n",
       "      <th>241</th>\n",
       "      <th>242</th>\n",
       "      <th>243</th>\n",
       "      <th>244</th>\n",
       "    </tr>\n",
       "  </thead>\n",
       "  <tbody>\n",
       "    <tr>\n",
       "      <th>0</th>\n",
       "      <td>0.0</td>\n",
       "      <td>0.0</td>\n",
       "      <td>0.0</td>\n",
       "      <td>0.004865</td>\n",
       "      <td>0.0</td>\n",
       "      <td>0.0</td>\n",
       "      <td>0.0</td>\n",
       "      <td>0.0</td>\n",
       "      <td>0.0</td>\n",
       "      <td>0.0</td>\n",
       "      <td>...</td>\n",
       "      <td>0.0</td>\n",
       "      <td>0.0</td>\n",
       "      <td>0.0</td>\n",
       "      <td>0.0</td>\n",
       "      <td>0.0</td>\n",
       "      <td>0.0</td>\n",
       "      <td>0.002031</td>\n",
       "      <td>0.0</td>\n",
       "      <td>0.018466</td>\n",
       "      <td>0.0</td>\n",
       "    </tr>\n",
       "    <tr>\n",
       "      <th>1</th>\n",
       "      <td>0.0</td>\n",
       "      <td>0.0</td>\n",
       "      <td>0.0</td>\n",
       "      <td>0.078410</td>\n",
       "      <td>0.0</td>\n",
       "      <td>0.0</td>\n",
       "      <td>0.0</td>\n",
       "      <td>0.0</td>\n",
       "      <td>0.0</td>\n",
       "      <td>0.0</td>\n",
       "      <td>...</td>\n",
       "      <td>0.0</td>\n",
       "      <td>0.0</td>\n",
       "      <td>0.0</td>\n",
       "      <td>0.0</td>\n",
       "      <td>0.0</td>\n",
       "      <td>0.0</td>\n",
       "      <td>0.146009</td>\n",
       "      <td>0.0</td>\n",
       "      <td>0.010695</td>\n",
       "      <td>0.0</td>\n",
       "    </tr>\n",
       "    <tr>\n",
       "      <th>2</th>\n",
       "      <td>0.0</td>\n",
       "      <td>0.0</td>\n",
       "      <td>0.0</td>\n",
       "      <td>0.207921</td>\n",
       "      <td>0.0</td>\n",
       "      <td>0.0</td>\n",
       "      <td>0.0</td>\n",
       "      <td>0.0</td>\n",
       "      <td>0.0</td>\n",
       "      <td>0.0</td>\n",
       "      <td>...</td>\n",
       "      <td>0.0</td>\n",
       "      <td>0.0</td>\n",
       "      <td>0.0</td>\n",
       "      <td>0.0</td>\n",
       "      <td>0.0</td>\n",
       "      <td>0.0</td>\n",
       "      <td>0.123167</td>\n",
       "      <td>0.0</td>\n",
       "      <td>-1.000000</td>\n",
       "      <td>0.0</td>\n",
       "    </tr>\n",
       "    <tr>\n",
       "      <th>3</th>\n",
       "      <td>0.0</td>\n",
       "      <td>0.0</td>\n",
       "      <td>0.0</td>\n",
       "      <td>0.133153</td>\n",
       "      <td>0.0</td>\n",
       "      <td>0.0</td>\n",
       "      <td>0.0</td>\n",
       "      <td>0.0</td>\n",
       "      <td>0.0</td>\n",
       "      <td>0.0</td>\n",
       "      <td>...</td>\n",
       "      <td>0.0</td>\n",
       "      <td>0.0</td>\n",
       "      <td>0.0</td>\n",
       "      <td>0.0</td>\n",
       "      <td>0.0</td>\n",
       "      <td>0.0</td>\n",
       "      <td>0.132602</td>\n",
       "      <td>0.0</td>\n",
       "      <td>0.024965</td>\n",
       "      <td>0.0</td>\n",
       "    </tr>\n",
       "    <tr>\n",
       "      <th>4</th>\n",
       "      <td>0.0</td>\n",
       "      <td>0.0</td>\n",
       "      <td>0.0</td>\n",
       "      <td>0.222046</td>\n",
       "      <td>0.0</td>\n",
       "      <td>0.0</td>\n",
       "      <td>0.0</td>\n",
       "      <td>0.0</td>\n",
       "      <td>0.0</td>\n",
       "      <td>0.0</td>\n",
       "      <td>...</td>\n",
       "      <td>0.0</td>\n",
       "      <td>0.0</td>\n",
       "      <td>0.0</td>\n",
       "      <td>0.0</td>\n",
       "      <td>0.0</td>\n",
       "      <td>0.0</td>\n",
       "      <td>0.005606</td>\n",
       "      <td>0.0</td>\n",
       "      <td>0.007105</td>\n",
       "      <td>0.0</td>\n",
       "    </tr>\n",
       "    <tr>\n",
       "      <th>5</th>\n",
       "      <td>0.0</td>\n",
       "      <td>0.0</td>\n",
       "      <td>0.0</td>\n",
       "      <td>0.226962</td>\n",
       "      <td>0.0</td>\n",
       "      <td>0.0</td>\n",
       "      <td>0.0</td>\n",
       "      <td>0.0</td>\n",
       "      <td>0.0</td>\n",
       "      <td>0.0</td>\n",
       "      <td>...</td>\n",
       "      <td>0.0</td>\n",
       "      <td>0.0</td>\n",
       "      <td>0.0</td>\n",
       "      <td>0.0</td>\n",
       "      <td>0.0</td>\n",
       "      <td>0.0</td>\n",
       "      <td>0.141540</td>\n",
       "      <td>0.0</td>\n",
       "      <td>0.021203</td>\n",
       "      <td>0.0</td>\n",
       "    </tr>\n",
       "  </tbody>\n",
       "</table>\n",
       "<p>6 rows × 245 columns</p>\n",
       "</div>"
      ],
      "text/plain": [
       "   0    1    2         3    4    5    6    7    8    9    ...  235  236  237  \\\n",
       "0  0.0  0.0  0.0  0.004865  0.0  0.0  0.0  0.0  0.0  0.0  ...  0.0  0.0  0.0   \n",
       "1  0.0  0.0  0.0  0.078410  0.0  0.0  0.0  0.0  0.0  0.0  ...  0.0  0.0  0.0   \n",
       "2  0.0  0.0  0.0  0.207921  0.0  0.0  0.0  0.0  0.0  0.0  ...  0.0  0.0  0.0   \n",
       "3  0.0  0.0  0.0  0.133153  0.0  0.0  0.0  0.0  0.0  0.0  ...  0.0  0.0  0.0   \n",
       "4  0.0  0.0  0.0  0.222046  0.0  0.0  0.0  0.0  0.0  0.0  ...  0.0  0.0  0.0   \n",
       "5  0.0  0.0  0.0  0.226962  0.0  0.0  0.0  0.0  0.0  0.0  ...  0.0  0.0  0.0   \n",
       "\n",
       "   238  239  240       241  242       243  244  \n",
       "0  0.0  0.0  0.0  0.002031  0.0  0.018466  0.0  \n",
       "1  0.0  0.0  0.0  0.146009  0.0  0.010695  0.0  \n",
       "2  0.0  0.0  0.0  0.123167  0.0 -1.000000  0.0  \n",
       "3  0.0  0.0  0.0  0.132602  0.0  0.024965  0.0  \n",
       "4  0.0  0.0  0.0  0.005606  0.0  0.007105  0.0  \n",
       "5  0.0  0.0  0.0  0.141540  0.0  0.021203  0.0  \n",
       "\n",
       "[6 rows x 245 columns]"
      ]
     },
     "execution_count": 268,
     "metadata": {},
     "output_type": "execute_result"
    }
   ],
   "source": [
    "u = pd.DataFrame(outSyn[0])\n",
    "u.head(10)"
   ]
  },
  {
   "cell_type": "code",
   "execution_count": 269,
   "metadata": {},
   "outputs": [
    {
     "data": {
      "text/html": [
       "<div>\n",
       "<style scoped>\n",
       "    .dataframe tbody tr th:only-of-type {\n",
       "        vertical-align: middle;\n",
       "    }\n",
       "\n",
       "    .dataframe tbody tr th {\n",
       "        vertical-align: top;\n",
       "    }\n",
       "\n",
       "    .dataframe thead th {\n",
       "        text-align: right;\n",
       "    }\n",
       "</style>\n",
       "<table border=\"1\" class=\"dataframe\">\n",
       "  <thead>\n",
       "    <tr style=\"text-align: right;\">\n",
       "      <th></th>\n",
       "      <th>0</th>\n",
       "      <th>1</th>\n",
       "      <th>2</th>\n",
       "      <th>3</th>\n",
       "      <th>4</th>\n",
       "      <th>5</th>\n",
       "      <th>6</th>\n",
       "      <th>7</th>\n",
       "      <th>8</th>\n",
       "      <th>9</th>\n",
       "      <th>...</th>\n",
       "      <th>235</th>\n",
       "      <th>236</th>\n",
       "      <th>237</th>\n",
       "      <th>238</th>\n",
       "      <th>239</th>\n",
       "      <th>240</th>\n",
       "      <th>241</th>\n",
       "      <th>242</th>\n",
       "      <th>243</th>\n",
       "      <th>244</th>\n",
       "    </tr>\n",
       "  </thead>\n",
       "  <tbody>\n",
       "    <tr>\n",
       "      <th>0</th>\n",
       "      <td>0.630290</td>\n",
       "      <td>0.629271</td>\n",
       "      <td>0.688235</td>\n",
       "      <td>0.332625</td>\n",
       "      <td>0.572247</td>\n",
       "      <td>0.651327</td>\n",
       "      <td>0.709770</td>\n",
       "      <td>0.276510</td>\n",
       "      <td>0.461589</td>\n",
       "      <td>0.442091</td>\n",
       "      <td>...</td>\n",
       "      <td>0.811426</td>\n",
       "      <td>0.836935</td>\n",
       "      <td>0.348147</td>\n",
       "      <td>0.348147</td>\n",
       "      <td>0.425058</td>\n",
       "      <td>0.390865</td>\n",
       "      <td>0.572641</td>\n",
       "      <td>0.605758</td>\n",
       "      <td>0.520441</td>\n",
       "      <td>0.460282</td>\n",
       "    </tr>\n",
       "    <tr>\n",
       "      <th>1</th>\n",
       "      <td>0.679429</td>\n",
       "      <td>0.598782</td>\n",
       "      <td>0.679060</td>\n",
       "      <td>0.312948</td>\n",
       "      <td>0.501809</td>\n",
       "      <td>0.694769</td>\n",
       "      <td>0.736314</td>\n",
       "      <td>-1.000000</td>\n",
       "      <td>0.562616</td>\n",
       "      <td>0.502785</td>\n",
       "      <td>...</td>\n",
       "      <td>0.803799</td>\n",
       "      <td>0.773869</td>\n",
       "      <td>0.430436</td>\n",
       "      <td>0.430436</td>\n",
       "      <td>0.520618</td>\n",
       "      <td>0.377990</td>\n",
       "      <td>0.629725</td>\n",
       "      <td>0.627226</td>\n",
       "      <td>0.603480</td>\n",
       "      <td>-1.000000</td>\n",
       "    </tr>\n",
       "    <tr>\n",
       "      <th>2</th>\n",
       "      <td>0.679668</td>\n",
       "      <td>0.569034</td>\n",
       "      <td>0.660106</td>\n",
       "      <td>0.321653</td>\n",
       "      <td>0.508297</td>\n",
       "      <td>0.685786</td>\n",
       "      <td>0.704436</td>\n",
       "      <td>-1.000000</td>\n",
       "      <td>0.527585</td>\n",
       "      <td>0.458724</td>\n",
       "      <td>...</td>\n",
       "      <td>0.829671</td>\n",
       "      <td>0.841796</td>\n",
       "      <td>0.414461</td>\n",
       "      <td>0.414461</td>\n",
       "      <td>0.429398</td>\n",
       "      <td>0.384251</td>\n",
       "      <td>0.617261</td>\n",
       "      <td>0.631014</td>\n",
       "      <td>0.578434</td>\n",
       "      <td>0.455383</td>\n",
       "    </tr>\n",
       "    <tr>\n",
       "      <th>3</th>\n",
       "      <td>0.622666</td>\n",
       "      <td>0.631905</td>\n",
       "      <td>0.664430</td>\n",
       "      <td>0.362718</td>\n",
       "      <td>0.481386</td>\n",
       "      <td>0.650971</td>\n",
       "      <td>0.754691</td>\n",
       "      <td>0.182870</td>\n",
       "      <td>0.517533</td>\n",
       "      <td>0.484508</td>\n",
       "      <td>...</td>\n",
       "      <td>0.737947</td>\n",
       "      <td>0.772426</td>\n",
       "      <td>0.345331</td>\n",
       "      <td>0.345331</td>\n",
       "      <td>0.495079</td>\n",
       "      <td>0.376468</td>\n",
       "      <td>0.682103</td>\n",
       "      <td>0.500355</td>\n",
       "      <td>0.577239</td>\n",
       "      <td>0.456085</td>\n",
       "    </tr>\n",
       "    <tr>\n",
       "      <th>4</th>\n",
       "      <td>0.765695</td>\n",
       "      <td>0.592536</td>\n",
       "      <td>0.670325</td>\n",
       "      <td>0.447501</td>\n",
       "      <td>0.469679</td>\n",
       "      <td>0.588251</td>\n",
       "      <td>0.734281</td>\n",
       "      <td>-1.000000</td>\n",
       "      <td>0.501568</td>\n",
       "      <td>0.414366</td>\n",
       "      <td>...</td>\n",
       "      <td>0.784941</td>\n",
       "      <td>0.754746</td>\n",
       "      <td>0.363333</td>\n",
       "      <td>0.363333</td>\n",
       "      <td>0.494566</td>\n",
       "      <td>0.547184</td>\n",
       "      <td>0.614375</td>\n",
       "      <td>0.613839</td>\n",
       "      <td>0.533392</td>\n",
       "      <td>0.447694</td>\n",
       "    </tr>\n",
       "    <tr>\n",
       "      <th>5</th>\n",
       "      <td>0.909198</td>\n",
       "      <td>0.555930</td>\n",
       "      <td>0.600608</td>\n",
       "      <td>0.684593</td>\n",
       "      <td>0.566607</td>\n",
       "      <td>0.666201</td>\n",
       "      <td>0.678537</td>\n",
       "      <td>0.514692</td>\n",
       "      <td>0.496297</td>\n",
       "      <td>0.434962</td>\n",
       "      <td>...</td>\n",
       "      <td>0.761315</td>\n",
       "      <td>0.768105</td>\n",
       "      <td>0.408423</td>\n",
       "      <td>0.408423</td>\n",
       "      <td>0.488222</td>\n",
       "      <td>0.609201</td>\n",
       "      <td>0.674039</td>\n",
       "      <td>0.732528</td>\n",
       "      <td>0.536272</td>\n",
       "      <td>0.407899</td>\n",
       "    </tr>\n",
       "  </tbody>\n",
       "</table>\n",
       "<p>6 rows × 245 columns</p>\n",
       "</div>"
      ],
      "text/plain": [
       "        0         1         2         3         4         5         6    \\\n",
       "0  0.630290  0.629271  0.688235  0.332625  0.572247  0.651327  0.709770   \n",
       "1  0.679429  0.598782  0.679060  0.312948  0.501809  0.694769  0.736314   \n",
       "2  0.679668  0.569034  0.660106  0.321653  0.508297  0.685786  0.704436   \n",
       "3  0.622666  0.631905  0.664430  0.362718  0.481386  0.650971  0.754691   \n",
       "4  0.765695  0.592536  0.670325  0.447501  0.469679  0.588251  0.734281   \n",
       "5  0.909198  0.555930  0.600608  0.684593  0.566607  0.666201  0.678537   \n",
       "\n",
       "        7         8         9    ...       235       236       237       238  \\\n",
       "0  0.276510  0.461589  0.442091  ...  0.811426  0.836935  0.348147  0.348147   \n",
       "1 -1.000000  0.562616  0.502785  ...  0.803799  0.773869  0.430436  0.430436   \n",
       "2 -1.000000  0.527585  0.458724  ...  0.829671  0.841796  0.414461  0.414461   \n",
       "3  0.182870  0.517533  0.484508  ...  0.737947  0.772426  0.345331  0.345331   \n",
       "4 -1.000000  0.501568  0.414366  ...  0.784941  0.754746  0.363333  0.363333   \n",
       "5  0.514692  0.496297  0.434962  ...  0.761315  0.768105  0.408423  0.408423   \n",
       "\n",
       "        239       240       241       242       243       244  \n",
       "0  0.425058  0.390865  0.572641  0.605758  0.520441  0.460282  \n",
       "1  0.520618  0.377990  0.629725  0.627226  0.603480 -1.000000  \n",
       "2  0.429398  0.384251  0.617261  0.631014  0.578434  0.455383  \n",
       "3  0.495079  0.376468  0.682103  0.500355  0.577239  0.456085  \n",
       "4  0.494566  0.547184  0.614375  0.613839  0.533392  0.447694  \n",
       "5  0.488222  0.609201  0.674039  0.732528  0.536272  0.407899  \n",
       "\n",
       "[6 rows x 245 columns]"
      ]
     },
     "execution_count": 269,
     "metadata": {},
     "output_type": "execute_result"
    }
   ],
   "source": [
    "u = pd.DataFrame(testCandidate[0])\n",
    "u.head(10)"
   ]
  },
  {
   "cell_type": "code",
   "execution_count": 270,
   "metadata": {
    "scrolled": true
   },
   "outputs": [
    {
     "data": {
      "image/png": "[encoded data removed]",
      "text/plain": [
       "<Figure size 3600x3600 with 2 Axes>"
      ]
     },
     "metadata": {
      "needs_background": "light"
     },
     "output_type": "display_data"
    }
   ],
   "source": [
    "plt.figure(figsize=(50, 50))\n",
    "u = plt.imshow(np.reshape((np.abs(outSyn-outInter)), (24,245)), cmap = \"hot\")#, vmin=0,vmax=1.0 );\n",
    "plt.title(\"Difference Between the Outputs of Both Autoencoders\", fontsize = 40);\n",
    "plt.xlabel(\"Phosphopeptide\", fontsize = 30);\n",
    "plt.ylabel(\"Times Concatenated\", fontsize = 30);\n",
    "plt.colorbar(u ,fraction=0.0046, pad=0.02);\n",
    "#plt.savefig(\"DiffBetweenOut.png\")"
   ]
  },
  {
   "cell_type": "code",
   "execution_count": 271,
   "metadata": {},
   "outputs": [
    {
     "data": {
      "text/plain": [
       "<matplotlib.colorbar.Colorbar at 0x207e52cee80>"
      ]
     },
     "execution_count": 271,
     "metadata": {},
     "output_type": "execute_result"
    },
    {
     "data": {
      "image/png": "[encoded data removed]",
      "text/plain": [
       "<Figure size 3600x3600 with 2 Axes>"
      ]
     },
     "metadata": {
      "needs_background": "light"
     },
     "output_type": "display_data"
    }
   ],
   "source": [
    "plt.figure(figsize=(50, 50))\n",
    "u = plt.imshow(np.reshape(np.abs(outInter-testCandidate), (24,245)) , cmap = \"hot\", vmin=0,vmax=1.0 )\n",
    "plt.title(\"Difference Between the Input and Output of the Autoencoder Trained on Interpolated Data\", fontsize = 40);\n",
    "plt.xlabel(\"Phosphopeptide\", fontsize = 30)\n",
    "plt.ylabel(\"Times Concatenated\", fontsize = 30);\n",
    "plt.colorbar(u ,fraction=0.0046, pad=0.02)\n",
    "#plt.savefig(\"InterDiffImage.png\")"
   ]
  },
  {
   "cell_type": "code",
   "execution_count": 272,
   "metadata": {},
   "outputs": [
    {
     "data": {
      "image/png": "[encoded data removed]",
      "text/plain": [
       "<Figure size 3600x3600 with 2 Axes>"
      ]
     },
     "metadata": {
      "needs_background": "light"
     },
     "output_type": "display_data"
    }
   ],
   "source": [
    "plt.figure(figsize=(50, 50))\n",
    "u = plt.imshow(np.reshape(np.abs(outSyn-testCandidate), (24,245)), cmap = \"hot\", vmin=0,vmax=1.0 )\n",
    "plt.title(\"Difference Between the Input and Output of the Autoencoder Trained on Synthetic Data\", fontsize = 40);\n",
    "plt.xlabel(\"Phosphopeptide\", fontsize = 30);\n",
    "plt.ylabel(\"Times Concatenated\", fontsize = 30);\n",
    "plt.colorbar(u ,fraction=0.0046, pad=0.02);\n",
    "#plt.savefig(\"SynDiffImage.png\");"
   ]
  },
  {
   "cell_type": "code",
   "execution_count": null,
   "metadata": {},
   "outputs": [],
   "source": []
  },
  {
   "cell_type": "code",
   "execution_count": 273,
   "metadata": {},
   "outputs": [
    {
     "data": {
      "text/html": [
       "<div>\n",
       "<style scoped>\n",
       "    .dataframe tbody tr th:only-of-type {\n",
       "        vertical-align: middle;\n",
       "    }\n",
       "\n",
       "    .dataframe tbody tr th {\n",
       "        vertical-align: top;\n",
       "    }\n",
       "\n",
       "    .dataframe thead th {\n",
       "        text-align: right;\n",
       "    }\n",
       "</style>\n",
       "<table border=\"1\" class=\"dataframe\">\n",
       "  <thead>\n",
       "    <tr style=\"text-align: right;\">\n",
       "      <th></th>\n",
       "      <th>0</th>\n",
       "      <th>1</th>\n",
       "      <th>2</th>\n",
       "      <th>3</th>\n",
       "      <th>4</th>\n",
       "      <th>5</th>\n",
       "      <th>6</th>\n",
       "      <th>7</th>\n",
       "      <th>8</th>\n",
       "      <th>9</th>\n",
       "      <th>...</th>\n",
       "      <th>235</th>\n",
       "      <th>236</th>\n",
       "      <th>237</th>\n",
       "      <th>238</th>\n",
       "      <th>239</th>\n",
       "      <th>240</th>\n",
       "      <th>241</th>\n",
       "      <th>242</th>\n",
       "      <th>243</th>\n",
       "      <th>244</th>\n",
       "    </tr>\n",
       "  </thead>\n",
       "  <tbody>\n",
       "    <tr>\n",
       "      <th>0</th>\n",
       "      <td>0.0</td>\n",
       "      <td>0.0</td>\n",
       "      <td>0.0</td>\n",
       "      <td>0.004865</td>\n",
       "      <td>0.0</td>\n",
       "      <td>0.0</td>\n",
       "      <td>0.0</td>\n",
       "      <td>0.0</td>\n",
       "      <td>0.0</td>\n",
       "      <td>0.0</td>\n",
       "      <td>...</td>\n",
       "      <td>0.0</td>\n",
       "      <td>0.0</td>\n",
       "      <td>0.0</td>\n",
       "      <td>0.0</td>\n",
       "      <td>0.0</td>\n",
       "      <td>0.0</td>\n",
       "      <td>0.002031</td>\n",
       "      <td>0.0</td>\n",
       "      <td>0.018466</td>\n",
       "      <td>0.0</td>\n",
       "    </tr>\n",
       "    <tr>\n",
       "      <th>1</th>\n",
       "      <td>0.0</td>\n",
       "      <td>0.0</td>\n",
       "      <td>0.0</td>\n",
       "      <td>0.078410</td>\n",
       "      <td>0.0</td>\n",
       "      <td>0.0</td>\n",
       "      <td>0.0</td>\n",
       "      <td>0.0</td>\n",
       "      <td>0.0</td>\n",
       "      <td>0.0</td>\n",
       "      <td>...</td>\n",
       "      <td>0.0</td>\n",
       "      <td>0.0</td>\n",
       "      <td>0.0</td>\n",
       "      <td>0.0</td>\n",
       "      <td>0.0</td>\n",
       "      <td>0.0</td>\n",
       "      <td>0.146009</td>\n",
       "      <td>0.0</td>\n",
       "      <td>0.010695</td>\n",
       "      <td>0.0</td>\n",
       "    </tr>\n",
       "    <tr>\n",
       "      <th>2</th>\n",
       "      <td>0.0</td>\n",
       "      <td>0.0</td>\n",
       "      <td>0.0</td>\n",
       "      <td>0.207921</td>\n",
       "      <td>0.0</td>\n",
       "      <td>0.0</td>\n",
       "      <td>0.0</td>\n",
       "      <td>0.0</td>\n",
       "      <td>0.0</td>\n",
       "      <td>0.0</td>\n",
       "      <td>...</td>\n",
       "      <td>0.0</td>\n",
       "      <td>0.0</td>\n",
       "      <td>0.0</td>\n",
       "      <td>0.0</td>\n",
       "      <td>0.0</td>\n",
       "      <td>0.0</td>\n",
       "      <td>0.123167</td>\n",
       "      <td>0.0</td>\n",
       "      <td>1.000000</td>\n",
       "      <td>0.0</td>\n",
       "    </tr>\n",
       "    <tr>\n",
       "      <th>3</th>\n",
       "      <td>0.0</td>\n",
       "      <td>0.0</td>\n",
       "      <td>0.0</td>\n",
       "      <td>0.133153</td>\n",
       "      <td>0.0</td>\n",
       "      <td>0.0</td>\n",
       "      <td>0.0</td>\n",
       "      <td>0.0</td>\n",
       "      <td>0.0</td>\n",
       "      <td>0.0</td>\n",
       "      <td>...</td>\n",
       "      <td>0.0</td>\n",
       "      <td>0.0</td>\n",
       "      <td>0.0</td>\n",
       "      <td>0.0</td>\n",
       "      <td>0.0</td>\n",
       "      <td>0.0</td>\n",
       "      <td>0.132602</td>\n",
       "      <td>0.0</td>\n",
       "      <td>0.024965</td>\n",
       "      <td>0.0</td>\n",
       "    </tr>\n",
       "    <tr>\n",
       "      <th>4</th>\n",
       "      <td>0.0</td>\n",
       "      <td>0.0</td>\n",
       "      <td>0.0</td>\n",
       "      <td>0.222046</td>\n",
       "      <td>0.0</td>\n",
       "      <td>0.0</td>\n",
       "      <td>0.0</td>\n",
       "      <td>0.0</td>\n",
       "      <td>0.0</td>\n",
       "      <td>0.0</td>\n",
       "      <td>...</td>\n",
       "      <td>0.0</td>\n",
       "      <td>0.0</td>\n",
       "      <td>0.0</td>\n",
       "      <td>0.0</td>\n",
       "      <td>0.0</td>\n",
       "      <td>0.0</td>\n",
       "      <td>0.005606</td>\n",
       "      <td>0.0</td>\n",
       "      <td>0.007105</td>\n",
       "      <td>0.0</td>\n",
       "    </tr>\n",
       "  </tbody>\n",
       "</table>\n",
       "<p>5 rows × 245 columns</p>\n",
       "</div>"
      ],
      "text/plain": [
       "   0    1    2         3    4    5    6    7    8    9    ...  235  236  237  \\\n",
       "0  0.0  0.0  0.0  0.004865  0.0  0.0  0.0  0.0  0.0  0.0  ...  0.0  0.0  0.0   \n",
       "1  0.0  0.0  0.0  0.078410  0.0  0.0  0.0  0.0  0.0  0.0  ...  0.0  0.0  0.0   \n",
       "2  0.0  0.0  0.0  0.207921  0.0  0.0  0.0  0.0  0.0  0.0  ...  0.0  0.0  0.0   \n",
       "3  0.0  0.0  0.0  0.133153  0.0  0.0  0.0  0.0  0.0  0.0  ...  0.0  0.0  0.0   \n",
       "4  0.0  0.0  0.0  0.222046  0.0  0.0  0.0  0.0  0.0  0.0  ...  0.0  0.0  0.0   \n",
       "\n",
       "   238  239  240       241  242       243  244  \n",
       "0  0.0  0.0  0.0  0.002031  0.0  0.018466  0.0  \n",
       "1  0.0  0.0  0.0  0.146009  0.0  0.010695  0.0  \n",
       "2  0.0  0.0  0.0  0.123167  0.0  1.000000  0.0  \n",
       "3  0.0  0.0  0.0  0.132602  0.0  0.024965  0.0  \n",
       "4  0.0  0.0  0.0  0.005606  0.0  0.007105  0.0  \n",
       "\n",
       "[5 rows x 245 columns]"
      ]
     },
     "execution_count": 273,
     "metadata": {},
     "output_type": "execute_result"
    }
   ],
   "source": [
    "u = pd.DataFrame(np.reshape(np.abs(outSyn), (24,245)))\n",
    "u.head()"
   ]
  },
  {
   "cell_type": "code",
   "execution_count": 274,
   "metadata": {},
   "outputs": [],
   "source": [
    "# np.save(\"interpolated_.npy\", inter) #the interpolated dataset\n",
    "# np.save(\"synthetic_.npy\", genes_intensities_normalized[1:]) # the synthetic dataset\n",
    "# np.save(\"synOut.npy\", outSyn) #the output of the encoder trained on synthetic data with the input being exp1\n",
    "# np.save(\"interOut.npy\", outInter) #the output of the encoder trained on interpolated data with the input being exp1"
   ]
  },
  {
   "cell_type": "markdown",
   "metadata": {},
   "source": [
    "# Try using a super parent with the synthetic dataset because the synthetic dataset performed the best"
   ]
  },
  {
   "cell_type": "code",
   "execution_count": 275,
   "metadata": {},
   "outputs": [
    {
     "data": {
      "text/plain": [
       "<matplotlib.image.AxesImage at 0x207e6547f10>"
      ]
     },
     "execution_count": 275,
     "metadata": {},
     "output_type": "execute_result"
    },
    {
     "data": {
      "image/png": "[encoded data removed]",
      "text/plain": [
       "<Figure size 1080x360 with 1 Axes>"
      ]
     },
     "metadata": {
      "needs_background": "light"
     },
     "output_type": "display_data"
    }
   ],
   "source": [
    "plt.imshow(superParent)"
   ]
  },
  {
   "cell_type": "code",
   "execution_count": 276,
   "metadata": {},
   "outputs": [
    {
     "data": {
      "text/plain": [
       "<matplotlib.image.AxesImage at 0x207e65a2730>"
      ]
     },
     "execution_count": 276,
     "metadata": {},
     "output_type": "execute_result"
    },
    {
     "data": {
      "image/png": "[encoded data removed]",
      "text/plain": [
       "<Figure size 1080x360 with 1 Axes>"
      ]
     },
     "metadata": {
      "needs_background": "light"
     },
     "output_type": "display_data"
    }
   ],
   "source": [
    "plt.imshow(regulator_gene_matrix)"
   ]
  },
  {
   "cell_type": "code",
   "execution_count": 277,
   "metadata": {},
   "outputs": [
    {
     "name": "stdout",
     "output_type": "stream",
     "text": [
      "Epoch 1/240\n",
      "1/1 [==============================] - 1s 686ms/step - loss: 0.8427\n",
      "Epoch 2/240\n",
      "1/1 [==============================] - 0s 11ms/step - loss: 0.7706\n",
      "Epoch 3/240\n",
      "1/1 [==============================] - 0s 36ms/step - loss: 0.7338\n",
      "Epoch 4/240\n",
      "1/1 [==============================] - 0s 13ms/step - loss: 0.6861\n",
      "Epoch 5/240\n",
      "1/1 [==============================] - 0s 77ms/step - loss: 0.6592\n",
      "Epoch 6/240\n",
      "1/1 [==============================] - 0s 0s/step - loss: 0.6337\n",
      "Epoch 7/240\n",
      "1/1 [==============================] - 0s 37ms/step - loss: 0.5966\n",
      "Epoch 8/240\n",
      "1/1 [==============================] - 0s 14ms/step - loss: 0.5676\n",
      "Epoch 9/240\n",
      "1/1 [==============================] - 0s 37ms/step - loss: 0.5232\n",
      "Epoch 10/240\n",
      "1/1 [==============================] - 0s 17ms/step - loss: 0.4855\n",
      "Epoch 11/240\n",
      "1/1 [==============================] - 0s 52ms/step - loss: 0.4635\n",
      "Epoch 12/240\n",
      "1/1 [==============================] - 0s 20ms/step - loss: 0.4480\n",
      "Epoch 13/240\n",
      "1/1 [==============================] - 0s 6ms/step - loss: 0.4307\n",
      "Epoch 14/240\n",
      "1/1 [==============================] - 0s 5ms/step - loss: 0.4144\n",
      "Epoch 15/240\n",
      "1/1 [==============================] - 0s 5ms/step - loss: 0.3870\n",
      "Epoch 16/240\n",
      "1/1 [==============================] - 0s 6ms/step - loss: 0.3684\n",
      "Epoch 17/240\n",
      "1/1 [==============================] - 0s 5ms/step - loss: 0.3674\n",
      "Epoch 18/240\n",
      "1/1 [==============================] - 0s 5ms/step - loss: 0.3624\n",
      "Epoch 19/240\n",
      "1/1 [==============================] - 0s 4ms/step - loss: 0.3626\n",
      "Epoch 20/240\n",
      "1/1 [==============================] - 0s 4ms/step - loss: 0.3575\n",
      "Epoch 21/240\n",
      "1/1 [==============================] - 0s 4ms/step - loss: 0.3499\n",
      "Epoch 22/240\n",
      "1/1 [==============================] - 0s 5ms/step - loss: 0.3462\n",
      "Epoch 23/240\n",
      "1/1 [==============================] - 0s 5ms/step - loss: 0.3420\n",
      "Epoch 24/240\n",
      "1/1 [==============================] - 0s 6ms/step - loss: 0.3367\n",
      "Epoch 25/240\n",
      "1/1 [==============================] - 0s 4ms/step - loss: 0.3320\n",
      "Epoch 26/240\n",
      "1/1 [==============================] - 0s 4ms/step - loss: 0.3321\n",
      "Epoch 27/240\n",
      "1/1 [==============================] - 0s 5ms/step - loss: 0.3203\n",
      "Epoch 28/240\n",
      "1/1 [==============================] - 0s 5ms/step - loss: 0.3136\n",
      "Epoch 29/240\n",
      "1/1 [==============================] - 0s 3ms/step - loss: 0.3072\n",
      "Epoch 30/240\n",
      "1/1 [==============================] - 0s 7ms/step - loss: 0.3000\n",
      "Epoch 31/240\n",
      "1/1 [==============================] - 0s 5ms/step - loss: 0.2920\n",
      "Epoch 32/240\n",
      "1/1 [==============================] - 0s 4ms/step - loss: 0.2852\n",
      "Epoch 33/240\n",
      "1/1 [==============================] - 0s 7ms/step - loss: 0.2802\n",
      "Epoch 34/240\n",
      "1/1 [==============================] - 0s 5ms/step - loss: 0.2717\n",
      "Epoch 35/240\n",
      "1/1 [==============================] - 0s 6ms/step - loss: 0.2708\n",
      "Epoch 36/240\n",
      "1/1 [==============================] - 0s 4ms/step - loss: 0.2653\n",
      "Epoch 37/240\n",
      "1/1 [==============================] - 0s 4ms/step - loss: 0.2603\n",
      "Epoch 38/240\n",
      "1/1 [==============================] - 0s 6ms/step - loss: 0.2531\n",
      "Epoch 39/240\n",
      "1/1 [==============================] - 0s 4ms/step - loss: 0.2539\n",
      "Epoch 40/240\n",
      "1/1 [==============================] - 0s 4ms/step - loss: 0.2523\n",
      "Epoch 41/240\n",
      "1/1 [==============================] - 0s 5ms/step - loss: 0.2466\n",
      "Epoch 42/240\n",
      "1/1 [==============================] - 0s 4ms/step - loss: 0.2445\n",
      "Epoch 43/240\n",
      "1/1 [==============================] - 0s 5ms/step - loss: 0.2440\n",
      "Epoch 44/240\n",
      "1/1 [==============================] - 0s 4ms/step - loss: 0.2399\n",
      "Epoch 45/240\n",
      "1/1 [==============================] - 0s 5ms/step - loss: 0.2415\n",
      "Epoch 46/240\n",
      "1/1 [==============================] - 0s 5ms/step - loss: 0.2356\n",
      "Epoch 47/240\n",
      "1/1 [==============================] - 0s 5ms/step - loss: 0.2339\n",
      "Epoch 48/240\n",
      "1/1 [==============================] - 0s 5ms/step - loss: 0.2355\n",
      "Epoch 49/240\n",
      "1/1 [==============================] - 0s 3ms/step - loss: 0.2358\n",
      "Epoch 50/240\n",
      "1/1 [==============================] - 0s 5ms/step - loss: 0.2364\n",
      "Epoch 51/240\n",
      "1/1 [==============================] - 0s 4ms/step - loss: 0.2318\n",
      "Epoch 52/240\n",
      "1/1 [==============================] - 0s 6ms/step - loss: 0.2321\n",
      "Epoch 53/240\n",
      "1/1 [==============================] - 0s 5ms/step - loss: 0.2314\n",
      "Epoch 54/240\n",
      "1/1 [==============================] - 0s 5ms/step - loss: 0.2323\n",
      "Epoch 55/240\n",
      "1/1 [==============================] - 0s 5ms/step - loss: 0.2313\n",
      "Epoch 56/240\n",
      "1/1 [==============================] - 0s 4ms/step - loss: 0.2307\n",
      "Epoch 57/240\n",
      "1/1 [==============================] - 0s 4ms/step - loss: 0.2300\n",
      "Epoch 58/240\n",
      "1/1 [==============================] - 0s 5ms/step - loss: 0.2322\n",
      "Epoch 59/240\n",
      "1/1 [==============================] - 0s 4ms/step - loss: 0.2311\n",
      "Epoch 60/240\n",
      "1/1 [==============================] - 0s 5ms/step - loss: 0.2301\n",
      "Epoch 61/240\n",
      "1/1 [==============================] - 0s 5ms/step - loss: 0.2293\n",
      "Epoch 62/240\n",
      "1/1 [==============================] - 0s 5ms/step - loss: 0.2279\n",
      "Epoch 63/240\n",
      "1/1 [==============================] - 0s 5ms/step - loss: 0.2289\n",
      "Epoch 64/240\n",
      "1/1 [==============================] - 0s 5ms/step - loss: 0.2271\n",
      "Epoch 65/240\n",
      "1/1 [==============================] - 0s 5ms/step - loss: 0.2250\n",
      "Epoch 66/240\n",
      "1/1 [==============================] - 0s 5ms/step - loss: 0.2252\n",
      "Epoch 67/240\n",
      "1/1 [==============================] - 0s 5ms/step - loss: 0.2237\n",
      "Epoch 68/240\n",
      "1/1 [==============================] - 0s 4ms/step - loss: 0.2243\n",
      "Epoch 69/240\n",
      "1/1 [==============================] - 0s 8ms/step - loss: 0.2245\n",
      "Epoch 70/240\n",
      "1/1 [==============================] - 0s 5ms/step - loss: 0.2254\n",
      "Epoch 71/240\n",
      "1/1 [==============================] - 0s 4ms/step - loss: 0.2225\n",
      "Epoch 72/240\n",
      "1/1 [==============================] - 0s 4ms/step - loss: 0.2211\n",
      "Epoch 73/240\n",
      "1/1 [==============================] - 0s 5ms/step - loss: 0.2183\n",
      "Epoch 74/240\n",
      "1/1 [==============================] - 0s 4ms/step - loss: 0.2193\n",
      "Epoch 75/240\n",
      "1/1 [==============================] - 0s 6ms/step - loss: 0.2188\n",
      "Epoch 76/240\n",
      "1/1 [==============================] - 0s 5ms/step - loss: 0.2187\n",
      "Epoch 77/240\n",
      "1/1 [==============================] - 0s 4ms/step - loss: 0.2158\n",
      "Epoch 78/240\n",
      "1/1 [==============================] - 0s 7ms/step - loss: 0.2150\n",
      "Epoch 79/240\n",
      "1/1 [==============================] - 0s 4ms/step - loss: 0.2157\n",
      "Epoch 80/240\n",
      "1/1 [==============================] - 0s 5ms/step - loss: 0.2146\n",
      "Epoch 81/240\n",
      "1/1 [==============================] - 0s 4ms/step - loss: 0.2156\n",
      "Epoch 82/240\n",
      "1/1 [==============================] - 0s 5ms/step - loss: 0.2126\n",
      "Epoch 83/240\n",
      "1/1 [==============================] - 0s 5ms/step - loss: 0.2119\n",
      "Epoch 84/240\n",
      "1/1 [==============================] - 0s 4ms/step - loss: 0.2118\n",
      "Epoch 85/240\n",
      "1/1 [==============================] - 0s 5ms/step - loss: 0.2115\n",
      "Epoch 86/240\n",
      "1/1 [==============================] - 0s 4ms/step - loss: 0.2109\n",
      "Epoch 87/240\n",
      "1/1 [==============================] - 0s 4ms/step - loss: 0.2108\n",
      "Epoch 88/240\n",
      "1/1 [==============================] - 0s 4ms/step - loss: 0.2085\n",
      "Epoch 89/240\n",
      "1/1 [==============================] - 0s 4ms/step - loss: 0.2094\n",
      "Epoch 90/240\n",
      "1/1 [==============================] - 0s 5ms/step - loss: 0.2091\n",
      "Epoch 91/240\n",
      "1/1 [==============================] - 0s 7ms/step - loss: 0.2103\n",
      "Epoch 92/240\n",
      "1/1 [==============================] - 0s 4ms/step - loss: 0.2064\n",
      "Epoch 93/240\n",
      "1/1 [==============================] - 0s 6ms/step - loss: 0.2071\n",
      "Epoch 94/240\n",
      "1/1 [==============================] - 0s 4ms/step - loss: 0.2080\n",
      "Epoch 95/240\n",
      "1/1 [==============================] - 0s 4ms/step - loss: 0.2062\n",
      "Epoch 96/240\n",
      "1/1 [==============================] - 0s 4ms/step - loss: 0.2059\n",
      "Epoch 97/240\n",
      "1/1 [==============================] - 0s 5ms/step - loss: 0.2062\n",
      "Epoch 98/240\n",
      "1/1 [==============================] - 0s 5ms/step - loss: 0.2062\n",
      "Epoch 99/240\n",
      "1/1 [==============================] - 0s 3ms/step - loss: 0.2050\n",
      "Epoch 100/240\n",
      "1/1 [==============================] - 0s 5ms/step - loss: 0.2039\n",
      "Epoch 101/240\n",
      "1/1 [==============================] - 0s 5ms/step - loss: 0.2039\n",
      "Epoch 102/240\n",
      "1/1 [==============================] - 0s 5ms/step - loss: 0.2043\n",
      "Epoch 103/240\n",
      "1/1 [==============================] - 0s 4ms/step - loss: 0.2035\n",
      "Epoch 104/240\n"
     ]
    },
    {
     "name": "stdout",
     "output_type": "stream",
     "text": [
      "1/1 [==============================] - 0s 3ms/step - loss: 0.2035\n",
      "Epoch 105/240\n",
      "1/1 [==============================] - 0s 4ms/step - loss: 0.2045\n",
      "Epoch 106/240\n",
      "1/1 [==============================] - 0s 5ms/step - loss: 0.2033\n",
      "Epoch 107/240\n",
      "1/1 [==============================] - 0s 4ms/step - loss: 0.2036\n",
      "Epoch 108/240\n",
      "1/1 [==============================] - 0s 5ms/step - loss: 0.2025\n",
      "Epoch 109/240\n",
      "1/1 [==============================] - 0s 5ms/step - loss: 0.2025\n",
      "Epoch 110/240\n",
      "1/1 [==============================] - 0s 6ms/step - loss: 0.2025\n",
      "Epoch 111/240\n",
      "1/1 [==============================] - 0s 7ms/step - loss: 0.2025\n",
      "Epoch 112/240\n",
      "1/1 [==============================] - 0s 5ms/step - loss: 0.2028\n",
      "Epoch 113/240\n",
      "1/1 [==============================] - 0s 4ms/step - loss: 0.2028\n",
      "Epoch 114/240\n",
      "1/1 [==============================] - 0s 5ms/step - loss: 0.2032\n",
      "Epoch 115/240\n",
      "1/1 [==============================] - 0s 5ms/step - loss: 0.2028\n",
      "Epoch 116/240\n",
      "1/1 [==============================] - 0s 6ms/step - loss: 0.2028\n",
      "Epoch 117/240\n",
      "1/1 [==============================] - 0s 5ms/step - loss: 0.2024\n",
      "Epoch 118/240\n",
      "1/1 [==============================] - 0s 3ms/step - loss: 0.2018\n",
      "Epoch 119/240\n",
      "1/1 [==============================] - 0s 7ms/step - loss: 0.2029\n",
      "Epoch 120/240\n",
      "1/1 [==============================] - 0s 4ms/step - loss: 0.2018\n",
      "Epoch 121/240\n",
      "1/1 [==============================] - 0s 7ms/step - loss: 0.2018\n",
      "Epoch 122/240\n",
      "1/1 [==============================] - 0s 5ms/step - loss: 0.2022\n",
      "Epoch 123/240\n",
      "1/1 [==============================] - 0s 6ms/step - loss: 0.2018\n",
      "Epoch 124/240\n",
      "1/1 [==============================] - 0s 4ms/step - loss: 0.2008\n",
      "Epoch 125/240\n",
      "1/1 [==============================] - 0s 5ms/step - loss: 0.2008\n",
      "Epoch 126/240\n",
      "1/1 [==============================] - 0s 4ms/step - loss: 0.2012\n",
      "Epoch 127/240\n",
      "1/1 [==============================] - 0s 2ms/step - loss: 0.2019\n",
      "Epoch 128/240\n",
      "1/1 [==============================] - 0s 4ms/step - loss: 0.2006\n",
      "Epoch 129/240\n",
      "1/1 [==============================] - 0s 3ms/step - loss: 0.2006\n",
      "Epoch 130/240\n",
      "1/1 [==============================] - 0s 7ms/step - loss: 0.2006\n",
      "Epoch 131/240\n",
      "1/1 [==============================] - 0s 3ms/step - loss: 0.2006\n",
      "Epoch 132/240\n",
      "1/1 [==============================] - 0s 7ms/step - loss: 0.1999\n",
      "Epoch 133/240\n",
      "1/1 [==============================] - 0s 2ms/step - loss: 0.2002\n",
      "Epoch 134/240\n",
      "1/1 [==============================] - 0s 8ms/step - loss: 0.2005\n",
      "Epoch 135/240\n",
      "1/1 [==============================] - 0s 4ms/step - loss: 0.2002\n",
      "Epoch 136/240\n",
      "1/1 [==============================] - 0s 7ms/step - loss: 0.2002\n",
      "Epoch 137/240\n",
      "1/1 [==============================] - 0s 5ms/step - loss: 0.2009\n",
      "Epoch 138/240\n",
      "1/1 [==============================] - 0s 6ms/step - loss: 0.2002\n",
      "Epoch 139/240\n",
      "1/1 [==============================] - 0s 4ms/step - loss: 0.2002\n",
      "Epoch 140/240\n",
      "1/1 [==============================] - 0s 5ms/step - loss: 0.2002\n",
      "Epoch 141/240\n",
      "1/1 [==============================] - 0s 4ms/step - loss: 0.2005\n",
      "Epoch 142/240\n",
      "1/1 [==============================] - 0s 510us/step - loss: 0.2002\n",
      "Epoch 143/240\n",
      "1/1 [==============================] - 0s 4ms/step - loss: 0.2001\n",
      "Epoch 144/240\n",
      "1/1 [==============================] - 0s 3ms/step - loss: 0.2009\n",
      "Epoch 145/240\n",
      "1/1 [==============================] - 0s 8ms/step - loss: 0.2001\n",
      "Epoch 146/240\n",
      "1/1 [==============================] - 0s 3ms/step - loss: 0.2001\n",
      "Epoch 147/240\n",
      "1/1 [==============================] - 0s 6ms/step - loss: 0.2001\n",
      "Epoch 148/240\n",
      "1/1 [==============================] - 0s 7ms/step - loss: 0.2001\n",
      "Epoch 149/240\n",
      "1/1 [==============================] - 0s 4ms/step - loss: 0.2001\n",
      "Epoch 150/240\n",
      "1/1 [==============================] - 0s 7ms/step - loss: 0.2001\n",
      "Epoch 151/240\n",
      "1/1 [==============================] - 0s 8ms/step - loss: 0.2001\n",
      "Epoch 152/240\n",
      "1/1 [==============================] - 0s 3ms/step - loss: 0.2001\n",
      "Epoch 153/240\n",
      "1/1 [==============================] - 0s 8ms/step - loss: 0.2001\n",
      "Epoch 154/240\n",
      "1/1 [==============================] - 0s 3ms/step - loss: 0.2001\n",
      "Epoch 155/240\n",
      "1/1 [==============================] - 0s 9ms/step - loss: 0.2001\n",
      "Epoch 156/240\n",
      "1/1 [==============================] - 0s 3ms/step - loss: 0.2001\n",
      "Epoch 157/240\n",
      "1/1 [==============================] - 0s 4ms/step - loss: 0.2001\n",
      "Epoch 158/240\n",
      "1/1 [==============================] - 0s 3ms/step - loss: 0.2001\n",
      "Epoch 159/240\n",
      "1/1 [==============================] - 0s 7ms/step - loss: 0.2001\n",
      "Epoch 160/240\n",
      "1/1 [==============================] - 0s 4ms/step - loss: 0.2001\n",
      "Epoch 161/240\n",
      "1/1 [==============================] - 0s 8ms/step - loss: 0.2001\n",
      "Epoch 162/240\n",
      "1/1 [==============================] - 0s 3ms/step - loss: 0.2001\n",
      "Epoch 163/240\n",
      "1/1 [==============================] - 0s 7ms/step - loss: 0.2005\n",
      "Epoch 164/240\n",
      "1/1 [==============================] - 0s 4ms/step - loss: 0.2001\n",
      "Epoch 165/240\n",
      "1/1 [==============================] - 0s 4ms/step - loss: 0.2001\n",
      "Epoch 166/240\n",
      "1/1 [==============================] - 0s 4ms/step - loss: 0.2001\n",
      "Epoch 167/240\n",
      "1/1 [==============================] - 0s 4ms/step - loss: 0.2001\n",
      "Epoch 168/240\n",
      "1/1 [==============================] - 0s 6ms/step - loss: 0.2001\n",
      "Epoch 169/240\n",
      "1/1 [==============================] - 0s 4ms/step - loss: 0.2001\n",
      "Epoch 170/240\n",
      "1/1 [==============================] - 0s 5ms/step - loss: 0.2001\n",
      "Epoch 171/240\n",
      "1/1 [==============================] - 0s 6ms/step - loss: 0.2001\n",
      "Epoch 172/240\n",
      "1/1 [==============================] - 0s 5ms/step - loss: 0.2001\n",
      "Epoch 173/240\n",
      "1/1 [==============================] - 0s 5ms/step - loss: 0.2001\n",
      "Epoch 174/240\n",
      "1/1 [==============================] - 0s 5ms/step - loss: 0.2001\n",
      "Epoch 175/240\n",
      "1/1 [==============================] - 0s 5ms/step - loss: 0.2001\n",
      "Epoch 176/240\n",
      "1/1 [==============================] - 0s 6ms/step - loss: 0.2001\n",
      "Epoch 177/240\n",
      "1/1 [==============================] - 0s 6ms/step - loss: 0.2001\n",
      "Epoch 178/240\n",
      "1/1 [==============================] - 0s 3ms/step - loss: 0.2001\n",
      "Epoch 179/240\n",
      "1/1 [==============================] - 0s 5ms/step - loss: 0.2001\n",
      "Epoch 180/240\n",
      "1/1 [==============================] - 0s 4ms/step - loss: 0.2001\n",
      "Epoch 181/240\n",
      "1/1 [==============================] - 0s 2ms/step - loss: 0.2001\n",
      "Epoch 182/240\n",
      "1/1 [==============================] - 0s 4ms/step - loss: 0.2001\n",
      "Epoch 183/240\n",
      "1/1 [==============================] - 0s 3ms/step - loss: 0.2001\n",
      "Epoch 184/240\n",
      "1/1 [==============================] - 0s 5ms/step - loss: 0.2001\n",
      "Epoch 185/240\n",
      "1/1 [==============================] - 0s 2ms/step - loss: 0.2001\n",
      "Epoch 186/240\n",
      "1/1 [==============================] - 0s 5ms/step - loss: 0.2001\n",
      "Epoch 187/240\n",
      "1/1 [==============================] - 0s 4ms/step - loss: 0.2001\n",
      "Epoch 188/240\n",
      "1/1 [==============================] - 0s 4ms/step - loss: 0.2001\n",
      "Epoch 189/240\n",
      "1/1 [==============================] - 0s 4ms/step - loss: 0.2001\n",
      "Epoch 190/240\n",
      "1/1 [==============================] - 0s 6ms/step - loss: 0.2001\n",
      "Epoch 191/240\n",
      "1/1 [==============================] - 0s 5ms/step - loss: 0.2001\n",
      "Epoch 192/240\n",
      "1/1 [==============================] - 0s 5ms/step - loss: 0.2001\n",
      "Epoch 193/240\n",
      "1/1 [==============================] - 0s 6ms/step - loss: 0.2001\n",
      "Epoch 194/240\n",
      "1/1 [==============================] - 0s 4ms/step - loss: 0.2001\n",
      "Epoch 195/240\n",
      "1/1 [==============================] - 0s 4ms/step - loss: 0.2001\n",
      "Epoch 196/240\n",
      "1/1 [==============================] - 0s 4ms/step - loss: 0.2001\n",
      "Epoch 197/240\n",
      "1/1 [==============================] - 0s 4ms/step - loss: 0.2001\n",
      "Epoch 198/240\n",
      "1/1 [==============================] - 0s 4ms/step - loss: 0.2001\n",
      "Epoch 199/240\n",
      "1/1 [==============================] - 0s 3ms/step - loss: 0.2001\n",
      "Epoch 200/240\n",
      "1/1 [==============================] - 0s 4ms/step - loss: 0.2001\n",
      "Epoch 201/240\n",
      "1/1 [==============================] - 0s 3ms/step - loss: 0.2001\n",
      "Epoch 202/240\n",
      "1/1 [==============================] - 0s 6ms/step - loss: 0.2001\n",
      "Epoch 203/240\n",
      "1/1 [==============================] - 0s 4ms/step - loss: 0.2001\n",
      "Epoch 204/240\n",
      "1/1 [==============================] - 0s 4ms/step - loss: 0.2001\n",
      "Epoch 205/240\n",
      "1/1 [==============================] - 0s 4ms/step - loss: 0.2001\n",
      "Epoch 206/240\n"
     ]
    },
    {
     "name": "stdout",
     "output_type": "stream",
     "text": [
      "1/1 [==============================] - 0s 5ms/step - loss: 0.2001\n",
      "Epoch 207/240\n",
      "1/1 [==============================] - 0s 5ms/step - loss: 0.2001\n",
      "Epoch 208/240\n",
      "1/1 [==============================] - 0s 4ms/step - loss: 0.2001\n",
      "Epoch 209/240\n",
      "1/1 [==============================] - 0s 5ms/step - loss: 0.2001\n",
      "Epoch 210/240\n",
      "1/1 [==============================] - 0s 5ms/step - loss: 0.2001\n",
      "Epoch 211/240\n",
      "1/1 [==============================] - 0s 5ms/step - loss: 0.2001\n",
      "Epoch 212/240\n",
      "1/1 [==============================] - 0s 4ms/step - loss: 0.2001\n",
      "Epoch 213/240\n",
      "1/1 [==============================] - 0s 5ms/step - loss: 0.2001\n",
      "Epoch 214/240\n",
      "1/1 [==============================] - 0s 4ms/step - loss: 0.2001\n",
      "Epoch 215/240\n",
      "1/1 [==============================] - 0s 0s/step - loss: 0.2001\n",
      "Epoch 216/240\n",
      "1/1 [==============================] - 0s 4ms/step - loss: 0.2001\n",
      "Epoch 217/240\n",
      "1/1 [==============================] - 0s 2ms/step - loss: 0.2001\n",
      "Epoch 218/240\n",
      "1/1 [==============================] - 0s 8ms/step - loss: 0.2001\n",
      "Epoch 219/240\n",
      "1/1 [==============================] - 0s 4ms/step - loss: 0.2001\n",
      "Epoch 220/240\n",
      "1/1 [==============================] - 0s 7ms/step - loss: 0.2001\n",
      "Epoch 221/240\n",
      "1/1 [==============================] - 0s 4ms/step - loss: 0.2001\n",
      "Epoch 222/240\n",
      "1/1 [==============================] - 0s 6ms/step - loss: 0.2001\n",
      "Epoch 223/240\n",
      "1/1 [==============================] - 0s 4ms/step - loss: 0.2001\n",
      "Epoch 224/240\n",
      "1/1 [==============================] - 0s 193us/step - loss: 0.2001\n",
      "Epoch 225/240\n",
      "1/1 [==============================] - 0s 9ms/step - loss: 0.2001\n",
      "Epoch 226/240\n",
      "1/1 [==============================] - 0s 2ms/step - loss: 0.2001\n",
      "Epoch 227/240\n",
      "1/1 [==============================] - 0s 8ms/step - loss: 0.2001\n",
      "Epoch 228/240\n",
      "1/1 [==============================] - 0s 4ms/step - loss: 0.2001\n",
      "Epoch 229/240\n",
      "1/1 [==============================] - 0s 6ms/step - loss: 0.2001\n",
      "Epoch 230/240\n",
      "1/1 [==============================] - 0s 4ms/step - loss: 0.2001\n",
      "Epoch 231/240\n",
      "1/1 [==============================] - 0s 0s/step - loss: 0.2001\n",
      "Epoch 232/240\n",
      "1/1 [==============================] - 0s 4ms/step - loss: 0.2001\n",
      "Epoch 233/240\n",
      "1/1 [==============================] - 0s 3ms/step - loss: 0.2001\n",
      "Epoch 234/240\n",
      "1/1 [==============================] - 0s 6ms/step - loss: 0.2001\n",
      "Epoch 235/240\n",
      "1/1 [==============================] - 0s 5ms/step - loss: 0.2001\n",
      "Epoch 236/240\n",
      "1/1 [==============================] - 0s 5ms/step - loss: 0.2001\n",
      "Epoch 237/240\n",
      "1/1 [==============================] - 0s 4ms/step - loss: 0.2001\n",
      "Epoch 238/240\n",
      "1/1 [==============================] - 0s 4ms/step - loss: 0.2001\n",
      "Epoch 239/240\n",
      "1/1 [==============================] - 0s 5ms/step - loss: 0.2001\n",
      "Epoch 240/240\n",
      "1/1 [==============================] - 0s 4ms/step - loss: 0.2001\n"
     ]
    },
    {
     "data": {
      "text/plain": [
       "<keras.callbacks.History at 0x207e760a640>"
      ]
     },
     "execution_count": 277,
     "metadata": {},
     "output_type": "execute_result"
    }
   ],
   "source": [
    "looseParent = model(superParent, 245, 6, 245, 21)\n",
    "looseParent.compile(optimizer='adam', loss=ignore_noParent_MSE)\n",
    "looseParent.fit(inter, inter, epochs=240)"
   ]
  },
  {
   "cell_type": "code",
   "execution_count": 278,
   "metadata": {},
   "outputs": [
    {
     "name": "stdout",
     "output_type": "stream",
     "text": [
      "1/1 [==============================] - 0s 91ms/step\n"
     ]
    },
    {
     "data": {
      "text/plain": [
       "<tf.Tensor: shape=(), dtype=float64, numpy=0.9070255728309489>"
      ]
     },
     "execution_count": 278,
     "metadata": {},
     "output_type": "execute_result"
    }
   ],
   "source": [
    "ignore_noParent_MSE(k := looseParent.predict(testCandidate), testCandidate)"
   ]
  },
  {
   "cell_type": "code",
   "execution_count": 279,
   "metadata": {},
   "outputs": [
    {
     "data": {
      "text/html": [
       "<div>\n",
       "<style scoped>\n",
       "    .dataframe tbody tr th:only-of-type {\n",
       "        vertical-align: middle;\n",
       "    }\n",
       "\n",
       "    .dataframe tbody tr th {\n",
       "        vertical-align: top;\n",
       "    }\n",
       "\n",
       "    .dataframe thead th {\n",
       "        text-align: right;\n",
       "    }\n",
       "</style>\n",
       "<table border=\"1\" class=\"dataframe\">\n",
       "  <thead>\n",
       "    <tr style=\"text-align: right;\">\n",
       "      <th></th>\n",
       "      <th>0</th>\n",
       "      <th>1</th>\n",
       "      <th>2</th>\n",
       "      <th>3</th>\n",
       "      <th>4</th>\n",
       "      <th>5</th>\n",
       "      <th>6</th>\n",
       "      <th>7</th>\n",
       "      <th>8</th>\n",
       "      <th>9</th>\n",
       "      <th>...</th>\n",
       "      <th>235</th>\n",
       "      <th>236</th>\n",
       "      <th>237</th>\n",
       "      <th>238</th>\n",
       "      <th>239</th>\n",
       "      <th>240</th>\n",
       "      <th>241</th>\n",
       "      <th>242</th>\n",
       "      <th>243</th>\n",
       "      <th>244</th>\n",
       "    </tr>\n",
       "  </thead>\n",
       "  <tbody>\n",
       "    <tr>\n",
       "      <th>0</th>\n",
       "      <td>0.0</td>\n",
       "      <td>0.0</td>\n",
       "      <td>0.0</td>\n",
       "      <td>0.243700</td>\n",
       "      <td>0.0</td>\n",
       "      <td>0.0</td>\n",
       "      <td>0.0</td>\n",
       "      <td>0.0</td>\n",
       "      <td>0.0</td>\n",
       "      <td>0.0</td>\n",
       "      <td>...</td>\n",
       "      <td>0.0</td>\n",
       "      <td>0.0</td>\n",
       "      <td>0.0</td>\n",
       "      <td>0.0</td>\n",
       "      <td>0.0</td>\n",
       "      <td>0.0</td>\n",
       "      <td>0.109378</td>\n",
       "      <td>0.0</td>\n",
       "      <td>0.106816</td>\n",
       "      <td>0.0</td>\n",
       "    </tr>\n",
       "    <tr>\n",
       "      <th>1</th>\n",
       "      <td>0.0</td>\n",
       "      <td>0.0</td>\n",
       "      <td>0.0</td>\n",
       "      <td>0.136859</td>\n",
       "      <td>0.0</td>\n",
       "      <td>0.0</td>\n",
       "      <td>0.0</td>\n",
       "      <td>0.0</td>\n",
       "      <td>0.0</td>\n",
       "      <td>0.0</td>\n",
       "      <td>...</td>\n",
       "      <td>0.0</td>\n",
       "      <td>0.0</td>\n",
       "      <td>0.0</td>\n",
       "      <td>0.0</td>\n",
       "      <td>0.0</td>\n",
       "      <td>0.0</td>\n",
       "      <td>0.249909</td>\n",
       "      <td>0.0</td>\n",
       "      <td>0.327131</td>\n",
       "      <td>0.0</td>\n",
       "    </tr>\n",
       "    <tr>\n",
       "      <th>2</th>\n",
       "      <td>0.0</td>\n",
       "      <td>0.0</td>\n",
       "      <td>0.0</td>\n",
       "      <td>0.320359</td>\n",
       "      <td>0.0</td>\n",
       "      <td>0.0</td>\n",
       "      <td>0.0</td>\n",
       "      <td>0.0</td>\n",
       "      <td>0.0</td>\n",
       "      <td>0.0</td>\n",
       "      <td>...</td>\n",
       "      <td>0.0</td>\n",
       "      <td>0.0</td>\n",
       "      <td>0.0</td>\n",
       "      <td>0.0</td>\n",
       "      <td>0.0</td>\n",
       "      <td>0.0</td>\n",
       "      <td>0.399465</td>\n",
       "      <td>0.0</td>\n",
       "      <td>0.235023</td>\n",
       "      <td>0.0</td>\n",
       "    </tr>\n",
       "    <tr>\n",
       "      <th>3</th>\n",
       "      <td>0.0</td>\n",
       "      <td>0.0</td>\n",
       "      <td>0.0</td>\n",
       "      <td>0.476803</td>\n",
       "      <td>0.0</td>\n",
       "      <td>0.0</td>\n",
       "      <td>0.0</td>\n",
       "      <td>0.0</td>\n",
       "      <td>0.0</td>\n",
       "      <td>0.0</td>\n",
       "      <td>...</td>\n",
       "      <td>0.0</td>\n",
       "      <td>0.0</td>\n",
       "      <td>0.0</td>\n",
       "      <td>0.0</td>\n",
       "      <td>0.0</td>\n",
       "      <td>0.0</td>\n",
       "      <td>0.157110</td>\n",
       "      <td>0.0</td>\n",
       "      <td>0.131866</td>\n",
       "      <td>0.0</td>\n",
       "    </tr>\n",
       "    <tr>\n",
       "      <th>4</th>\n",
       "      <td>0.0</td>\n",
       "      <td>0.0</td>\n",
       "      <td>0.0</td>\n",
       "      <td>0.346820</td>\n",
       "      <td>0.0</td>\n",
       "      <td>0.0</td>\n",
       "      <td>0.0</td>\n",
       "      <td>0.0</td>\n",
       "      <td>0.0</td>\n",
       "      <td>0.0</td>\n",
       "      <td>...</td>\n",
       "      <td>0.0</td>\n",
       "      <td>0.0</td>\n",
       "      <td>0.0</td>\n",
       "      <td>0.0</td>\n",
       "      <td>0.0</td>\n",
       "      <td>0.0</td>\n",
       "      <td>0.430216</td>\n",
       "      <td>0.0</td>\n",
       "      <td>0.542086</td>\n",
       "      <td>0.0</td>\n",
       "    </tr>\n",
       "  </tbody>\n",
       "</table>\n",
       "<p>5 rows × 245 columns</p>\n",
       "</div>"
      ],
      "text/plain": [
       "   0    1    2         3    4    5    6    7    8    9    ...  235  236  237  \\\n",
       "0  0.0  0.0  0.0  0.243700  0.0  0.0  0.0  0.0  0.0  0.0  ...  0.0  0.0  0.0   \n",
       "1  0.0  0.0  0.0  0.136859  0.0  0.0  0.0  0.0  0.0  0.0  ...  0.0  0.0  0.0   \n",
       "2  0.0  0.0  0.0  0.320359  0.0  0.0  0.0  0.0  0.0  0.0  ...  0.0  0.0  0.0   \n",
       "3  0.0  0.0  0.0  0.476803  0.0  0.0  0.0  0.0  0.0  0.0  ...  0.0  0.0  0.0   \n",
       "4  0.0  0.0  0.0  0.346820  0.0  0.0  0.0  0.0  0.0  0.0  ...  0.0  0.0  0.0   \n",
       "\n",
       "   238  239  240       241  242       243  244  \n",
       "0  0.0  0.0  0.0  0.109378  0.0  0.106816  0.0  \n",
       "1  0.0  0.0  0.0  0.249909  0.0  0.327131  0.0  \n",
       "2  0.0  0.0  0.0  0.399465  0.0  0.235023  0.0  \n",
       "3  0.0  0.0  0.0  0.157110  0.0  0.131866  0.0  \n",
       "4  0.0  0.0  0.0  0.430216  0.0  0.542086  0.0  \n",
       "\n",
       "[5 rows x 245 columns]"
      ]
     },
     "execution_count": 279,
     "metadata": {},
     "output_type": "execute_result"
    }
   ],
   "source": [
    "u = np.reshape(k, (24,245))\n",
    "u = pd.DataFrame(u)\n",
    "u.head()"
   ]
  },
  {
   "cell_type": "code",
   "execution_count": 280,
   "metadata": {
    "scrolled": true
   },
   "outputs": [
    {
     "data": {
      "text/html": [
       "<div>\n",
       "<style scoped>\n",
       "    .dataframe tbody tr th:only-of-type {\n",
       "        vertical-align: middle;\n",
       "    }\n",
       "\n",
       "    .dataframe tbody tr th {\n",
       "        vertical-align: top;\n",
       "    }\n",
       "\n",
       "    .dataframe thead th {\n",
       "        text-align: right;\n",
       "    }\n",
       "</style>\n",
       "<table border=\"1\" class=\"dataframe\">\n",
       "  <thead>\n",
       "    <tr style=\"text-align: right;\">\n",
       "      <th></th>\n",
       "      <th>0</th>\n",
       "      <th>1</th>\n",
       "      <th>2</th>\n",
       "      <th>3</th>\n",
       "      <th>4</th>\n",
       "      <th>5</th>\n",
       "      <th>6</th>\n",
       "      <th>7</th>\n",
       "      <th>8</th>\n",
       "      <th>9</th>\n",
       "      <th>...</th>\n",
       "      <th>235</th>\n",
       "      <th>236</th>\n",
       "      <th>237</th>\n",
       "      <th>238</th>\n",
       "      <th>239</th>\n",
       "      <th>240</th>\n",
       "      <th>241</th>\n",
       "      <th>242</th>\n",
       "      <th>243</th>\n",
       "      <th>244</th>\n",
       "    </tr>\n",
       "  </thead>\n",
       "  <tbody>\n",
       "    <tr>\n",
       "      <th>0</th>\n",
       "      <td>0.630290</td>\n",
       "      <td>0.629271</td>\n",
       "      <td>0.688235</td>\n",
       "      <td>0.332625</td>\n",
       "      <td>0.572247</td>\n",
       "      <td>0.651327</td>\n",
       "      <td>0.709770</td>\n",
       "      <td>0.27651</td>\n",
       "      <td>0.461589</td>\n",
       "      <td>0.442091</td>\n",
       "      <td>...</td>\n",
       "      <td>0.811426</td>\n",
       "      <td>0.836935</td>\n",
       "      <td>0.348147</td>\n",
       "      <td>0.348147</td>\n",
       "      <td>0.425058</td>\n",
       "      <td>0.390865</td>\n",
       "      <td>0.572641</td>\n",
       "      <td>0.605758</td>\n",
       "      <td>0.520441</td>\n",
       "      <td>0.460282</td>\n",
       "    </tr>\n",
       "    <tr>\n",
       "      <th>1</th>\n",
       "      <td>0.679429</td>\n",
       "      <td>0.598782</td>\n",
       "      <td>0.679060</td>\n",
       "      <td>0.312948</td>\n",
       "      <td>0.501809</td>\n",
       "      <td>0.694769</td>\n",
       "      <td>0.736314</td>\n",
       "      <td>-1.00000</td>\n",
       "      <td>0.562616</td>\n",
       "      <td>0.502785</td>\n",
       "      <td>...</td>\n",
       "      <td>0.803799</td>\n",
       "      <td>0.773869</td>\n",
       "      <td>0.430436</td>\n",
       "      <td>0.430436</td>\n",
       "      <td>0.520618</td>\n",
       "      <td>0.377990</td>\n",
       "      <td>0.629725</td>\n",
       "      <td>0.627226</td>\n",
       "      <td>0.603480</td>\n",
       "      <td>-1.000000</td>\n",
       "    </tr>\n",
       "    <tr>\n",
       "      <th>2</th>\n",
       "      <td>0.679668</td>\n",
       "      <td>0.569034</td>\n",
       "      <td>0.660106</td>\n",
       "      <td>0.321653</td>\n",
       "      <td>0.508297</td>\n",
       "      <td>0.685786</td>\n",
       "      <td>0.704436</td>\n",
       "      <td>-1.00000</td>\n",
       "      <td>0.527585</td>\n",
       "      <td>0.458724</td>\n",
       "      <td>...</td>\n",
       "      <td>0.829671</td>\n",
       "      <td>0.841796</td>\n",
       "      <td>0.414461</td>\n",
       "      <td>0.414461</td>\n",
       "      <td>0.429398</td>\n",
       "      <td>0.384251</td>\n",
       "      <td>0.617261</td>\n",
       "      <td>0.631014</td>\n",
       "      <td>0.578434</td>\n",
       "      <td>0.455383</td>\n",
       "    </tr>\n",
       "    <tr>\n",
       "      <th>3</th>\n",
       "      <td>0.622666</td>\n",
       "      <td>0.631905</td>\n",
       "      <td>0.664430</td>\n",
       "      <td>0.362718</td>\n",
       "      <td>0.481386</td>\n",
       "      <td>0.650971</td>\n",
       "      <td>0.754691</td>\n",
       "      <td>0.18287</td>\n",
       "      <td>0.517533</td>\n",
       "      <td>0.484508</td>\n",
       "      <td>...</td>\n",
       "      <td>0.737947</td>\n",
       "      <td>0.772426</td>\n",
       "      <td>0.345331</td>\n",
       "      <td>0.345331</td>\n",
       "      <td>0.495079</td>\n",
       "      <td>0.376468</td>\n",
       "      <td>0.682103</td>\n",
       "      <td>0.500355</td>\n",
       "      <td>0.577239</td>\n",
       "      <td>0.456085</td>\n",
       "    </tr>\n",
       "    <tr>\n",
       "      <th>4</th>\n",
       "      <td>0.765695</td>\n",
       "      <td>0.592536</td>\n",
       "      <td>0.670325</td>\n",
       "      <td>0.447501</td>\n",
       "      <td>0.469679</td>\n",
       "      <td>0.588251</td>\n",
       "      <td>0.734281</td>\n",
       "      <td>-1.00000</td>\n",
       "      <td>0.501568</td>\n",
       "      <td>0.414366</td>\n",
       "      <td>...</td>\n",
       "      <td>0.784941</td>\n",
       "      <td>0.754746</td>\n",
       "      <td>0.363333</td>\n",
       "      <td>0.363333</td>\n",
       "      <td>0.494566</td>\n",
       "      <td>0.547184</td>\n",
       "      <td>0.614375</td>\n",
       "      <td>0.613839</td>\n",
       "      <td>0.533392</td>\n",
       "      <td>0.447694</td>\n",
       "    </tr>\n",
       "  </tbody>\n",
       "</table>\n",
       "<p>5 rows × 245 columns</p>\n",
       "</div>"
      ],
      "text/plain": [
       "        0         1         2         3         4         5         6    \\\n",
       "0  0.630290  0.629271  0.688235  0.332625  0.572247  0.651327  0.709770   \n",
       "1  0.679429  0.598782  0.679060  0.312948  0.501809  0.694769  0.736314   \n",
       "2  0.679668  0.569034  0.660106  0.321653  0.508297  0.685786  0.704436   \n",
       "3  0.622666  0.631905  0.664430  0.362718  0.481386  0.650971  0.754691   \n",
       "4  0.765695  0.592536  0.670325  0.447501  0.469679  0.588251  0.734281   \n",
       "\n",
       "       7         8         9    ...       235       236       237       238  \\\n",
       "0  0.27651  0.461589  0.442091  ...  0.811426  0.836935  0.348147  0.348147   \n",
       "1 -1.00000  0.562616  0.502785  ...  0.803799  0.773869  0.430436  0.430436   \n",
       "2 -1.00000  0.527585  0.458724  ...  0.829671  0.841796  0.414461  0.414461   \n",
       "3  0.18287  0.517533  0.484508  ...  0.737947  0.772426  0.345331  0.345331   \n",
       "4 -1.00000  0.501568  0.414366  ...  0.784941  0.754746  0.363333  0.363333   \n",
       "\n",
       "        239       240       241       242       243       244  \n",
       "0  0.425058  0.390865  0.572641  0.605758  0.520441  0.460282  \n",
       "1  0.520618  0.377990  0.629725  0.627226  0.603480 -1.000000  \n",
       "2  0.429398  0.384251  0.617261  0.631014  0.578434  0.455383  \n",
       "3  0.495079  0.376468  0.682103  0.500355  0.577239  0.456085  \n",
       "4  0.494566  0.547184  0.614375  0.613839  0.533392  0.447694  \n",
       "\n",
       "[5 rows x 245 columns]"
      ]
     },
     "execution_count": 280,
     "metadata": {},
     "output_type": "execute_result"
    }
   ],
   "source": [
    "u = np.reshape(testCandidate, (24,245))\n",
    "u = pd.DataFrame(u)\n",
    "u.head()"
   ]
  },
  {
   "cell_type": "code",
   "execution_count": 281,
   "metadata": {},
   "outputs": [
    {
     "name": "stderr",
     "output_type": "stream",
     "text": [
      "100%|██████████████████████████████████████████████████████████████████████████████████| 10/10 [00:37<00:00,  3.71s/it]\n"
     ]
    }
   ],
   "source": [
    "N = 10\n",
    "hidden = np.arange(2,33,8) #range(1,32)\n",
    "\n",
    "lossMatrix = []\n",
    "for i in tqdm(range(N)):\n",
    "    \n",
    "    losses = []\n",
    "    for value in (hidden):\n",
    "        looseParent = model(superParent, 245, 6, 245, value)\n",
    "        looseParent.compile(optimizer='adam', loss=ignore_noParent_MSE)\n",
    "        looseParent.fit(genes_intensities_normalized, genes_intensities_normalized, epochs=20,  verbose=0)\n",
    "        test = looseParent(testCandidate) #, verbose = 0)\n",
    "        loss = ignore_noParent_MSE(test, testCandidate)\n",
    "        losses.append(loss)\n",
    "        tf.keras.backend.clear_session()\n",
    "    lossMatrix.append(losses)\n",
    "    \n",
    "lossMatrix = np.array(lossMatrix)\n",
    "#run 100 times "
   ]
  },
  {
   "cell_type": "code",
   "execution_count": 282,
   "metadata": {},
   "outputs": [
    {
     "data": {
      "image/png": "[encoded data removed]",
      "text/plain": [
       "<Figure size 1080x360 with 1 Axes>"
      ]
     },
     "metadata": {
      "needs_background": "light"
     },
     "output_type": "display_data"
    }
   ],
   "source": [
    "avgMSE = np.average(lossMatrix, axis = 0)\n",
    "plt.plot(np.arange(2,33,8), avgMSE);"
   ]
  },
  {
   "cell_type": "code",
   "execution_count": 283,
   "metadata": {},
   "outputs": [
    {
     "data": {
      "text/plain": [
       "(10, 4)"
      ]
     },
     "execution_count": 283,
     "metadata": {},
     "output_type": "execute_result"
    }
   ],
   "source": [
    "lossMatrix.shape"
   ]
  },
  {
   "cell_type": "code",
   "execution_count": 284,
   "metadata": {},
   "outputs": [],
   "source": [
    "avgMSE = np.average(lossMatrix, axis = 0)"
   ]
  },
  {
   "cell_type": "code",
   "execution_count": 285,
   "metadata": {},
   "outputs": [
    {
     "data": {
      "text/plain": [
       "(4,)"
      ]
     },
     "execution_count": 285,
     "metadata": {},
     "output_type": "execute_result"
    }
   ],
   "source": [
    "avgMSE.shape"
   ]
  },
  {
   "cell_type": "code",
   "execution_count": 286,
   "metadata": {},
   "outputs": [],
   "source": [
    "#np.save(\"mse2.npy\", avgMSE) #mse2/3 is with -1 fix"
   ]
  },
  {
   "cell_type": "code",
   "execution_count": 288,
   "metadata": {},
   "outputs": [],
   "source": [
    "'''\n",
    "a second copy of the layers which will be modified to be a denseNET auto encoder\n",
    "'''\n",
    "class EncoderLinear2(keras.layers.Layer):\n",
    "    def __init__(self, rgm, input_dim=32, units=32):\n",
    "        super(EncoderLinear2, self).__init__()\n",
    "        self.rgm = rgm\n",
    "        \n",
    "        def init_weights(shape, dtype=\"float32\"):\n",
    "\n",
    "            w_init = tf.random_normal_initializer()(shape=shape, dtype=dtype) * tf.convert_to_tensor(self.rgm, dtype=dtype)\n",
    "\n",
    "            return w_init\n",
    "        \n",
    "\n",
    "        self.w = tf.Variable(\n",
    "            initial_value=init_weights(shape=(input_dim, units), dtype=\"float32\"),\n",
    "            trainable=True,\n",
    "        )\n",
    "\n",
    "    def call(self, inputs):\n",
    "        X = inputs\n",
    "        return tf.matmul(X, tf.multiply(self.rgm, self.w))\n",
    "    #tf.matmul(inputs, self.w)\n",
    "\n",
    "class DecoderLinear2(keras.layers.Layer):\n",
    "    def __init__(self, rgm, input_dim=32, units=32):\n",
    "        super(DecoderLinear2, self).__init__()\n",
    "        self.rgm = rgm\n",
    "\n",
    "        def init_weights(shape, dtype=\"float32\"):\n",
    "\n",
    "            w_init = tf.random_normal_initializer()(shape=shape, dtype=dtype) * tf.transpose(tf.convert_to_tensor(self.rgm, dtype=dtype))\n",
    "\n",
    "            return w_init\n",
    "    \n",
    "        \n",
    "        self.w = tf.Variable(\n",
    "            initial_value=init_weights(shape=(input_dim, units), dtype=\"float32\"),\n",
    "            trainable=True,\n",
    "        )\n",
    "\n",
    "    def call(self, inputs):\n",
    "        X = inputs\n",
    "        #return tf.matmul(X, tf.multiply((self.rgm), self.w))\n",
    "        return tf.matmul(X, tf.multiply(tf.transpose(self.rgm), self.w)) #used to have a transpose\n",
    "        #return tf.matmul(inputs, self.w)\n",
    "        \n",
    "\n",
    "def encoder2(parent_child_biological_association, inp, num_hidden_units=2):\n",
    "    '''\n",
    "    Encoder structure\n",
    "    '''\n",
    "    '''\n",
    "    The data is time-series. Therefore, CNN to learn the temporal relationship between \n",
    "    the intensities for each gene.\n",
    "    '''\n",
    "    en_conv = Conv1D(490, 3, activation = \"tanh\")(parent_child_biological_association) # 6*245\n",
    "    en_dense = Flatten()(en_conv)\n",
    "    inp = Flatten()(inp)\n",
    "    #print(en_dense.shape, inp.shape)\n",
    "    d = Concatenate()([en_dense, inp]) #dense layer\n",
    "    en_dense = Dense(128)(d) #added a layer\n",
    "    \n",
    "    phenotype = Dense(num_hidden_units, activation=\"tanh\")(d)\n",
    "    return phenotype\n",
    "\n",
    "def decoder2(X, num_protein_gene, time_steps):\n",
    "    '''\n",
    "    Decoder structure\n",
    "    '''\n",
    "    de_dense = Dense(128)(X)\n",
    "    de_dense = Dense(128)(de_dense)#added a layer\n",
    "    de_dense = Reshape((1, 128))(de_dense) #tf.reshape(de_dense, (self.batch_size,1,128))\n",
    "    de_deconv = Conv1DTranspose(num_protein_gene, time_steps, activation = \"tanh\")(de_dense) #used to be transpose\n",
    "    #de_deconv = Conv1D(num_protein_gene, time_steps, activation = \"relu\")(de_dense) \n",
    "    # gene_reconstruction = self.decoder_biological_operation(de_deconv)\n",
    "    return de_deconv\n",
    "\n",
    "def model2(rgm, num_protein_gene, time_steps, num_kinase_regulators, num_hidden_units = 2):\n",
    "    inp = Input(shape=(time_steps, num_kinase_regulators))\n",
    "    x = EncoderLinear2(rgm, 245, 245)(inp)\n",
    "    #x = EncoderLinear2(x)\n",
    "    enc = encoder2(x, inp, num_hidden_units)\n",
    "    dec = decoder2(enc, num_protein_gene, time_steps)\n",
    "    out = DecoderLinear2(rgm, 245, 245)(dec)\n",
    "\n",
    "    _model = tf.keras.Model(inputs=inp, outputs=out)\n",
    "\n",
    "    return _model"
   ]
  },
  {
   "cell_type": "code",
   "execution_count": 289,
   "metadata": {},
   "outputs": [
    {
     "name": "stderr",
     "output_type": "stream",
     "text": [
      "100%|██████████████████████████████████████████████████████████████████████████████████| 10/10 [02:34<00:00, 15.43s/it]\n"
     ]
    }
   ],
   "source": [
    "N = 10\n",
    "hidden = np.arange(2,33,2) #range(1,32)\n",
    "\n",
    "lossMatrix = []\n",
    "for i in tqdm(range(N)):\n",
    "    \n",
    "    losses = []\n",
    "    for value in (hidden):\n",
    "        looseParent = model2(superParent, 245, 6, 245, value)\n",
    "        looseParent.compile(optimizer='adam', loss=ignore_noParent_MSE)\n",
    "        looseParent.fit(genes_intensities_normalized, genes_intensities_normalized, epochs=20,  verbose=0)\n",
    "        test = looseParent(testCandidate) #, verbose = 0)\n",
    "        loss = ignore_noParent_MSE(test, testCandidate)\n",
    "        losses.append(loss)\n",
    "        tf.keras.backend.clear_session()\n",
    "    lossMatrix.append(losses)\n",
    "    \n",
    "lossMatrix = np.array(lossMatrix)\n",
    "#run 100 times "
   ]
  },
  {
   "cell_type": "code",
   "execution_count": 290,
   "metadata": {},
   "outputs": [
    {
     "data": {
      "image/png": "[encoded data removed]",
      "text/plain": [
       "<Figure size 1080x360 with 1 Axes>"
      ]
     },
     "metadata": {
      "needs_background": "light"
     },
     "output_type": "display_data"
    }
   ],
   "source": [
    "avgMSE = np.average(lossMatrix, axis = 0)\n",
    "plt.plot(np.arange(2,33,2), avgMSE);"
   ]
  },
  {
   "cell_type": "code",
   "execution_count": null,
   "metadata": {},
   "outputs": [],
   "source": [
    "#np.save(\"mse3.npy\", avgMSE) #mse2/3 is with -1 fix"
   ]
  },
  {
   "cell_type": "code",
   "execution_count": null,
   "metadata": {},
   "outputs": [],
   "source": [
    "#https://www.sciencedirect.com/science/article/pii/S0925231220314570?casa_token=lcEJANqO0JwAAAAA:uL3DGUZctPUZz_sPz1K1i2klMtb83TyKnc9CI3_N-uSOaM7VHL8GhM0jCGYfo25NmpDQQ9Cvlw"
   ]
  },
  {
   "cell_type": "code",
   "execution_count": null,
   "metadata": {},
   "outputs": [],
   "source": []
  },
  {
   "cell_type": "code",
   "execution_count": null,
   "metadata": {},
   "outputs": [],
   "source": []
  }
 ],
 "metadata": {
  "colab": {
   "authorship_tag": "ABX9TyM6J5QSynTTgZ+lFOhgOtAG",
   "collapsed_sections": [],
   "name": "cnn-third.ipynb",
   "provenance": [
    {
     "file_id": "1mmRxO5jnBc5CdzxXj8sMtPpG0BQ0ulSs",
     "timestamp": 1648921397876
    },
    {
     "file_id": "10758zFj2UnTnwpQaSFIr5r9MqZWdiMsf",
     "timestamp": 1648674775255
    }
   ]
  },
  "kernelspec": {
   "display_name": "Python 3 (ipykernel)",
   "language": "python",
   "name": "python3"
  },
  "language_info": {
   "codemirror_mode": {
    "name": "ipython",
    "version": 3
   },
   "file_extension": ".py",
   "mimetype": "text/x-python",
   "name": "python",
   "nbconvert_exporter": "python",
   "pygments_lexer": "ipython3",
   "version": "3.9.12"
  }
 },
 "nbformat": 4,
 "nbformat_minor": 1
}
