{
 "cells": [
  {
   "cell_type": "code",
   "execution_count": 37,
   "metadata": {},
   "outputs": [],
   "source": [
    "#!pip install synapseclient"
   ]
  },
  {
   "cell_type": "code",
   "execution_count": 38,
   "metadata": {},
   "outputs": [],
   "source": [
    "#!pip install synapseutils"
   ]
  },
  {
   "cell_type": "code",
   "execution_count": 39,
   "metadata": {},
   "outputs": [],
   "source": [
    "#  import synapseclient \n",
    "#  import synapseutils \n",
    " \n",
    "#  syn = synapseclient.Synapse() \n",
    "#  syn.login('finamintoastcrunch','1Hjldria!') \n",
    "#  files = synapseutils.syncFromSynapse(syn, ' syn2825306 ') "
   ]
  },
  {
   "cell_type": "code",
   "execution_count": 40,
   "metadata": {},
   "outputs": [],
   "source": [
    "# !pip install -q tensorflow-model-optimization"
   ]
  },
  {
   "attachments": {},
   "cell_type": "markdown",
   "metadata": {},
   "source": [
    "# Import Libraries"
   ]
  },
  {
   "cell_type": "code",
   "execution_count": 41,
   "metadata": {
    "id": "qTo_HuQkGgAq"
   },
   "outputs": [],
   "source": [
    "import tensorflow as tf\n",
    "from tensorflow import keras\n",
    "from datetime import datetime\n",
    "import numpy as np\n",
    "import pandas as pd\n",
    "import matplotlib.pyplot as plt\n",
    "\n",
    "from tensorflow.keras.layers import*\n",
    "from keras.utils.vis_utils import plot_model\n",
    "import tensorflow.keras.backend as K\n",
    "# from keras.layers import Input\n",
    "# from keras.layers import Dense\n",
    "# from keras.layers import Conv1D\n",
    "# from keras.layers import Conv1DTranspose\n",
    "# from keras.layers import Flatten, Reshape\n",
    "\n",
    "import os\n",
    "from glob import glob\n",
    "from tqdm import tqdm\n",
    "from tensorflow.keras import losses\n",
    "from sklearn.preprocessing import StandardScaler\n",
    "import tensorflow_model_optimization as tfmot\n",
    "from sklearn.preprocessing import MinMaxScaler\n",
    "\n",
    "\n",
    "from sklearn.model_selection import train_test_split\n",
    "\n",
    "from sklearn.ensemble import RandomForestClassifier\n",
    "from sklearn.decomposition import PCA\n",
    "from sklearn.pipeline import Pipeline\n",
    "\n",
    "import warnings\n",
    "\n",
    "# from interpret import show\n",
    "# from interpret.blackbox import ShapKernel\n",
    "import shap"
   ]
  },
  {
   "cell_type": "code",
   "execution_count": 46,
   "metadata": {},
   "outputs": [],
   "source": [
    "df = pd.DataFrame"
   ]
  },
  {
   "cell_type": "code",
   "execution_count": 47,
   "metadata": {},
   "outputs": [
    {
     "data": {
      "text/plain": [
       "[PhysicalDevice(name='/physical_device:GPU:0', device_type='GPU')]"
      ]
     },
     "execution_count": 47,
     "metadata": {},
     "output_type": "execute_result"
    }
   ],
   "source": [
    "tf.config.list_physical_devices(\n",
    "    device_type=None\n",
    ")\n",
    "tf.config.list_physical_devices('GPU')"
   ]
  },
  {
   "cell_type": "code",
   "execution_count": 48,
   "metadata": {},
   "outputs": [
    {
     "data": {
      "text/plain": [
       "True"
      ]
     },
     "execution_count": 48,
     "metadata": {},
     "output_type": "execute_result"
    }
   ],
   "source": [
    "isEager = tf.executing_eagerly()\n",
    "isEager"
   ]
  },
  {
   "cell_type": "code",
   "execution_count": 49,
   "metadata": {},
   "outputs": [],
   "source": [
    "import warnings\n",
    "warnings.filterwarnings('ignore')"
   ]
  },
  {
   "cell_type": "code",
   "execution_count": 50,
   "metadata": {},
   "outputs": [],
   "source": [
    "import matplotlib.pylab as pylab\n",
    "params = {'legend.fontsize': 'x-large',\n",
    "          'figure.figsize': (15, 5),\n",
    "         'axes.labelsize': 'x-large',\n",
    "         'axes.titlesize':'x-large',\n",
    "         'xtick.labelsize':'x-large',\n",
    "         'ytick.labelsize':'x-large'}\n",
    "pylab.rcParams.update(params)"
   ]
  },
  {
   "cell_type": "code",
   "execution_count": 51,
   "metadata": {},
   "outputs": [
    {
     "name": "stdout",
     "output_type": "stream",
     "text": [
      "1 Physical GPUs, 1 Logical GPUs\n"
     ]
    }
   ],
   "source": [
    "gpus = tf.config.list_physical_devices('GPU')\n",
    "if gpus:\n",
    "  try:\n",
    "    # Currently, memory growth needs to be the same across GPUs\n",
    "    for gpu in gpus:\n",
    "      tf.config.experimental.set_memory_growth(gpu, True)\n",
    "    logical_gpus = tf.config.list_logical_devices('GPU')\n",
    "    print(len(gpus), \"Physical GPUs,\", len(logical_gpus), \"Logical GPUs\")\n",
    "  except RuntimeError as e:\n",
    "    # Memory growth must be set before GPUs have been initialized\n",
    "    print(e)"
   ]
  },
  {
   "attachments": {},
   "cell_type": "markdown",
   "metadata": {},
   "source": [
    "# Load DS"
   ]
  },
  {
   "cell_type": "code",
   "execution_count": 52,
   "metadata": {},
   "outputs": [],
   "source": [
    "NUM_PARENTS = None #we compute this from the gold standard\n",
    "NUM_TARGETS = 100\n",
    "NUM_TIME_STEPS = 21\n",
    "NUM_REPLICATES = 10 \n",
    "ds = str(1) #2,3,4,5"
   ]
  },
  {
   "cell_type": "code",
   "execution_count": 54,
   "metadata": {},
   "outputs": [],
   "source": [
    "# dirty_RGM = r'Regulations_Control_Altona.csv'\n",
    "dirty_regulations = r'insilico_size100_'+ ds + r'_timeseries.csv'"
   ]
  },
  {
   "cell_type": "code",
   "execution_count": 57,
   "metadata": {},
   "outputs": [
    {
     "data": {
      "text/plain": [
       "(10, 21, 100)"
      ]
     },
     "execution_count": 57,
     "metadata": {},
     "output_type": "execute_result"
    }
   ],
   "source": [
    "\n",
    "def fix_dataset(dirty_regulations = dirty_regulations):\n",
    "    dirtyReg = pd.read_csv(dirty_regulations,  index_col = 0,)# on_bad_lines='skip')\n",
    "    dirtyReg = dirtyReg.dropna(axis=0)\n",
    "    dirtyReg = dirtyReg.select_dtypes(include=np.number)\n",
    "    dirtyReg = dirtyReg.to_numpy() #reshape would not work in this case. \n",
    "\n",
    "    dRegs = np.zeros(shape=(NUM_REPLICATES, NUM_TIME_STEPS, NUM_TARGETS), dtype=np.float)\n",
    "    for i in range(NUM_REPLICATES):\n",
    "        dRegs[i] = dirtyReg[NUM_TIME_STEPS*i : NUM_TIME_STEPS*(i+1)]\n",
    "    dRegs.shape\n",
    "\n",
    "    ds = dRegs\n",
    "    ret = np.zeros(shape=(NUM_REPLICATES,NUM_TIME_STEPS, NUM_TARGETS))\n",
    "\n",
    "    # for i in range(0,NUM_REPLICATES*NUM_TIME_STEPS, 4):\n",
    "    #     for j in range(0, NUM_REPLICATES):\n",
    "    #         dataset[j][:,i//NUM_REPLICATES] = dirtyR[:,(i+j)]\n",
    "    \n",
    "    ds[ds==0.0] = np.nan #we do this so the scaling ignores 0.0 #CHECKED\n",
    "\n",
    "\n",
    "    for i in range(NUM_REPLICATES):\n",
    "        regScaled = StandardScaler().fit_transform(ds[i].flatten().reshape((-1,1)))\n",
    "        regScaled = MinMaxScaler().fit_transform(ds[i].flatten().reshape((-1,1))) #ignores np.nan\n",
    "        regScaled = regScaled.reshape((NUM_TARGETS, NUM_TIME_STEPS))\n",
    "        regScaled = np.nan_to_num(regScaled, nan= 0.0)\n",
    "        ret[i] = regScaled.T\n",
    "    return ret\n",
    "\n",
    "dataset = fix_dataset()\n",
    "dataset.shape"
   ]
  },
  {
   "cell_type": "code",
   "execution_count": 58,
   "metadata": {},
   "outputs": [
    {
     "name": "stdout",
     "output_type": "stream",
     "text": [
      "(8, 21, 100) (2, 21, 100) (10, 21, 100)\n"
     ]
    }
   ],
   "source": [
    "beanIntensities = dataset[0:8]\n",
    "validation = dataset[8:]\n",
    "allData = dataset\n",
    "print(beanIntensities.shape, validation.shape, allData.shape)"
   ]
  },
  {
   "cell_type": "code",
   "execution_count": 59,
   "metadata": {},
   "outputs": [],
   "source": [
    "#the third replicate is trash. we will not use it. \n",
    "# df(dataset[3]).head(11) "
   ]
  },
  {
   "cell_type": "code",
   "execution_count": 60,
   "metadata": {},
   "outputs": [],
   "source": [
    "# regulator_gene_matrix = np.load(\"soyBeanRGM.npy\")\n",
    "# regulator_gene_matrix = regulator_gene_matrix.astype('float32')\n",
    "# regulator_gene_matrix.shape"
   ]
  },
  {
   "attachments": {},
   "cell_type": "markdown",
   "metadata": {},
   "source": [
    "# Load Gold Standard"
   ]
  },
  {
   "cell_type": "code",
   "execution_count": 61,
   "metadata": {},
   "outputs": [],
   "source": [
    "gold = pd.read_csv(\"DREAM4_GoldStandard_InSilico_Size100_\" + ds + r\".csv\", header=None)\n"
   ]
  },
  {
   "cell_type": "code",
   "execution_count": 63,
   "metadata": {},
   "outputs": [],
   "source": [
    "def keep_numeric(df):\n",
    "\n",
    "    return df.applymap(lambda x: ''.join(filter(str.isdigit, str(x))) if isinstance(x, (int,float)) else ''.join(filter(str.isdigit, x)) )\n",
    "\n",
    "gold = keep_numeric(gold)\n",
    "goldnp = np.array(gold, dtype = 'int')\n",
    "#subtract 1 from each index to match python index\n",
    "goldnp[:,0] = goldnp[:,0] - 1\n",
    "goldnp[:,1] = goldnp[:,1] - 1\n",
    "\n",
    "goldIm = np.zeros(shape=(NUM_TARGETS,NUM_TARGETS))\n",
    "\n",
    "for g in goldnp:\n",
    "    reg = g[0]\n",
    "    tar = g[1]\n",
    "    connection = g[2]\n",
    "    goldIm[reg][tar] = connection\n",
    "\n"
   ]
  },
  {
   "cell_type": "code",
   "execution_count": 64,
   "metadata": {},
   "outputs": [
    {
     "data": {
      "text/plain": [
       "<matplotlib.image.AxesImage at 0x2b4dea025e0>"
      ]
     },
     "execution_count": 64,
     "metadata": {},
     "output_type": "execute_result"
    },
    {
     "data": {
      "image/png": "[encoded data removed]",
      "text/plain": [
       "<Figure size 1080x360 with 1 Axes>"
      ]
     },
     "metadata": {
      "needs_background": "light"
     },
     "output_type": "display_data"
    }
   ],
   "source": [
    "plt.imshow(goldIm)"
   ]
  },
  {
   "cell_type": "code",
   "execution_count": 65,
   "metadata": {},
   "outputs": [],
   "source": [
    "non_zero = np.nonzero(goldIm) #non-zero hold all the true connections\n",
    "#non_zero = np.array(np.unravel_index(non_zero, shape = (NUM_PARENTS, NUM_TARGETS)))"
   ]
  },
  {
   "attachments": {},
   "cell_type": "markdown",
   "metadata": {},
   "source": [
    "# RGM and RGM+"
   ]
  },
  {
   "cell_type": "code",
   "execution_count": 66,
   "metadata": {},
   "outputs": [
    {
     "name": "stdout",
     "output_type": "stream",
     "text": [
      "shape of parent index (44,)\n"
     ]
    }
   ],
   "source": [
    "regulator_gene_matrix = goldIm.astype(np.float32) #I set rgm to gold because I didnt not want ot re-write everything\n",
    "superParent = regulator_gene_matrix.copy()\n",
    "ones = np.ones((NUM_TARGETS))\n",
    "parentIndex = []\n",
    "not_parentIndex = []\n",
    "for i in range(len(regulator_gene_matrix)):\n",
    "    if (np.isin(regulator_gene_matrix[i], [1])).any():\n",
    "        #print(i)\n",
    "        superParent[i] = ones \n",
    "        parentIndex.append(i)\n",
    "    else:\n",
    "        not_parentIndex.append(i)\n",
    "\n",
    "parentIndex = np.array(parentIndex)\n",
    "parentIndex = tf.convert_to_tensor(parentIndex)\n",
    "parent_idx = parentIndex.numpy()\n",
    "not_parentIndex = np.array(not_parentIndex)\n",
    "not_parentIndex = tf.convert_to_tensor(not_parentIndex)\n",
    "print(\"shape of parent index\", parentIndex.shape)\n",
    "\n",
    "\n",
    "\n",
    "\n",
    "#the code below runs the experiment without any known regulators\n",
    "regulator_gene_matrix = np.ones((NUM_TARGETS,NUM_TARGETS), dtype='float32') #we keep this because we want to not mess with the weight init\n",
    "# superParent = np.ones((NUM_TARGETS, NUM_TARGETS), dtype = 'float32')\n",
    "# parentIndex = np.arange(stop=NUM_PARENTS)\n",
    "# parentIndex = tf.convert_to_tensor(parentIndex)\n",
    "# parent_idx = parentIndex.numpy()"
   ]
  },
  {
   "cell_type": "code",
   "execution_count": 67,
   "metadata": {},
   "outputs": [
    {
     "data": {
      "text/plain": [
       "44"
      ]
     },
     "execution_count": 67,
     "metadata": {},
     "output_type": "execute_result"
    }
   ],
   "source": [
    "NUM_PARENTS = parentIndex.shape[0]\n",
    "NUM_PARENTS"
   ]
  },
  {
   "cell_type": "code",
   "execution_count": 68,
   "metadata": {},
   "outputs": [
    {
     "data": {
      "text/plain": [
       "<tf.Tensor: shape=(44,), dtype=int32, numpy=\n",
       "array([ 0,  1,  3,  5,  8, 10, 11, 15, 17, 20, 21, 22, 23, 25, 28, 31, 32,\n",
       "       33, 36, 37, 38, 39, 40, 41, 43, 47, 48, 51, 52, 53, 54, 57, 64, 68,\n",
       "       69, 70, 72, 73, 77, 78, 89, 91, 95, 96])>"
      ]
     },
     "execution_count": 68,
     "metadata": {},
     "output_type": "execute_result"
    }
   ],
   "source": [
    "parentIndex"
   ]
  },
  {
   "cell_type": "code",
   "execution_count": 69,
   "metadata": {},
   "outputs": [
    {
     "data": {
      "image/png": "[encoded data removed]",
      "text/plain": [
       "<Figure size 1080x360 with 1 Axes>"
      ]
     },
     "metadata": {
      "needs_background": "light"
     },
     "output_type": "display_data"
    }
   ],
   "source": [
    "plt.imshow(superParent, cmap='hot');\n",
    "plt.xlabel(\"Substrate\");\n",
    "plt.ylabel(\"Regulator\");"
   ]
  },
  {
   "cell_type": "code",
   "execution_count": 70,
   "metadata": {},
   "outputs": [
    {
     "data": {
      "image/png": "[encoded data removed]",
      "text/plain": [
       "<Figure size 1080x360 with 1 Axes>"
      ]
     },
     "metadata": {
      "needs_background": "light"
     },
     "output_type": "display_data"
    }
   ],
   "source": [
    "plt.imshow(regulator_gene_matrix, cmap='hot');\n",
    "plt.xlabel(\"Substrate\");\n",
    "plt.ylabel(\"Regulator\");"
   ]
  },
  {
   "attachments": {},
   "cell_type": "markdown",
   "metadata": {},
   "source": [
    "# Custom Loss"
   ]
  },
  {
   "cell_type": "code",
   "execution_count": 71,
   "metadata": {},
   "outputs": [],
   "source": [
    "# superParent = regulator_gene_matrix.copy() #init the super parent with the ordinary RGM, and do forward passes with super parent\n",
    "# #print(superParent.shape)\n",
    "\n",
    "# ones = np.ones((NUM_TARGETS))\n",
    "# parentIndex = []\n",
    "# not_parentIndex = []\n",
    "# for i in range(len(regulator_gene_matrix)):\n",
    "#     if (np.isin(regulator_gene_matrix[i], [1])).any():\n",
    "#         #print(i)\n",
    "#         superParent[i] = ones \n",
    "#         parentIndex.append(i)\n",
    "#     else:\n",
    "#         not_parentIndex.append(i)\n",
    "\n",
    "# parentIndex = np.array(parentIndex)\n",
    "# parentIndex = tf.convert_to_tensor(parentIndex)\n",
    "# parent_idx = parentIndex.numpy()\n",
    "# not_parentIndex = np.array(not_parentIndex)\n",
    "# not_parentIndex = tf.convert_to_tensor(not_parentIndex)\n",
    "# print(\"shape of parent index\", parentIndex.shape)\n",
    "\n",
    "def ignore_noParent_MSE_old(y_true, y_pred): \n",
    "    l = tf.keras.losses.MeanSquaredError()\n",
    "    y_true_pruned = tf.gather(y_true,parentIndex, axis =2) \n",
    "    #print(y_true_pruned.shape\n",
    "    y_pred_pruned = tf.gather(y_pred, parentIndex, axis =2)   \n",
    "    return l(y_true_pruned, y_pred_pruned)\n",
    "\n",
    "#this will not work if the entire dataset is -1 (degenerate), or has only one actual value (also degen)\n",
    "def ignore_noParent_MSE(y_true, y_pred): \n",
    "    l = tf.keras.losses.MeanSquaredError()\n",
    "   # print(y_true.shape) #(None, 44, 372)\n",
    "\n",
    "    #get the parents and flatten them\n",
    "    y_true_pruned = tf.gather(y_true, parentIndex, axis = 2) #axis 2 because batch, time, gene\n",
    "    y_true_pruned = tf.reshape(y_true_pruned, shape=([tf.size(y_true_pruned)] ) )\n",
    "\n",
    "   # print(y_true_pruned.shape)\n",
    "   # print(\"tf size\", tf.size(y_true_pruned))\n",
    "\n",
    "    y_pred_pruned = tf.gather(y_pred, parentIndex, axis = 2) \n",
    "    y_pred_pruned = tf.reshape(y_pred_pruned, shape=([tf.size(y_pred_pruned)]) )\n",
    "\n",
    "    #get the index of the parents which are not -1\n",
    "    y_true_posID = tf.where(y_true_pruned >= 0) #gets args\n",
    "    y_true_posID = tf.squeeze(y_true_posID)\n",
    "    #get the idx of all the -1s \n",
    "    y_true_negID = tf.where(y_true_pruned < 0) \n",
    "    y_true_negID = tf.squeeze(y_true_negID)\n",
    "\n",
    "    #get all the -1s in the parents \n",
    "    y_true_neg = tf.gather(y_true_pruned, y_true_negID) #get all the -1s in y_true\n",
    "    y_pred_neg = tf.gather(y_pred_pruned, y_true_negID) #get the corresponding values for y_pred\n",
    "\n",
    "    #get the indexes where pred should be -1 but is not. get the corresponding index for ytrue\n",
    "    y_shouldBeNegButIsntID = tf.where(y_pred_neg >= 0)  \n",
    "    y_shouldBeNegButIsntID = tf.squeeze(y_shouldBeNegButIsntID) #get the idx which should be -1 for prediction but are not\n",
    "    y_true_wrong = tf.gather(y_true_pruned, y_shouldBeNegButIsntID) #get the same corresponding values from ytrue\n",
    "    y_shouldBeNegButIsnt = tf.gather(y_pred_pruned, y_shouldBeNegButIsntID) #this has all the wrongly predicted values which should be -1 but are not\n",
    "\n",
    "    y_true_pos = tf.gather(y_true_pruned, y_true_posID)\n",
    "    y_pred_pos = tf.gather(y_pred_pruned, y_true_posID)\n",
    "\n",
    "    if tf.size(y_shouldBeNegButIsnt) == 0: #we can not concatenate if the size is 0. \n",
    "        return l(y_true_pos, y_pred_pos)\n",
    "\n",
    "    if tf.size(y_shouldBeNegButIsnt) == 1: #dim goes away if size = 1. \n",
    "        y_shouldBeNegButIsnt = tf.expand_dims(y_shouldBeNegButIsnt, axis = 0) #should all be flattened\n",
    "        y_true_wrong = tf.expand_dims(y_true_wrong, axis=0)\n",
    "\n",
    "    #print(\"y_pred\", (y_pred_pos), \"y_true\", (y_shouldBeNegButIsnt))\n",
    "    try:\n",
    "        y_pred_total = tf.concat([y_pred_pos, y_shouldBeNegButIsnt], axis = 0) #concatenate for total mse\n",
    "        y_true_total = tf.concat([y_true_pos, y_true_wrong], axis = 0)\n",
    "    except Exception as e:\n",
    "        print(y_pred_pos.shape, y_shouldBeNegButIsnt.shape, tf.size(y_shouldBeNegButIsnt))\n",
    "        return l(y_true_pos, y_pred_pos)\n",
    "\n",
    "    return l(y_true_total, y_pred_total)"
   ]
  },
  {
   "cell_type": "code",
   "execution_count": 72,
   "metadata": {},
   "outputs": [
    {
     "data": {
      "text/plain": [
       "array([ 0,  1,  3,  5,  8, 10, 11, 15, 17, 20, 21, 22, 23, 25, 28, 31, 32,\n",
       "       33, 36, 37, 38, 39, 40, 41, 43, 47, 48, 51, 52, 53, 54, 57, 64, 68,\n",
       "       69, 70, 72, 73, 77, 78, 89, 91, 95, 96])"
      ]
     },
     "execution_count": 72,
     "metadata": {},
     "output_type": "execute_result"
    }
   ],
   "source": [
    "parent_idx"
   ]
  },
  {
   "attachments": {},
   "cell_type": "markdown",
   "metadata": {},
   "source": [
    "# Ordinary Auto Encoder"
   ]
  },
  {
   "cell_type": "code",
   "execution_count": 73,
   "metadata": {
    "id": "1yhzyikoFncq"
   },
   "outputs": [],
   "source": [
    "# class EncoderLinear(tf.keras.layers.Layer):\n",
    "#     def __init__(self, rgm, input_dim=32, units=32):\n",
    "#         super(EncoderLinear, self).__init__()\n",
    "#         self.rgm = rgm\n",
    "        \n",
    "#         def init_weights(shape, dtype=\"float32\"):\n",
    "\n",
    "#             w_init = tf.random_normal_initializer()(shape=shape, dtype=dtype) * tf.convert_to_tensor(self.rgm, dtype=dtype)\n",
    "\n",
    "#             return w_init\n",
    "        \n",
    "\n",
    "#         self.w = tf.Variable(\n",
    "#             initial_value=init_weights(shape=(input_dim, units), dtype=\"float32\"),\n",
    "#             trainable=True,\n",
    "#         )\n",
    "\n",
    "#     def call(self, inputs):\n",
    "#         X = inputs\n",
    "#         return tf.matmul(X, tf.multiply(self.rgm, self.w))\n",
    "    #tf.matmul(inputs, self.w)"
   ]
  },
  {
   "cell_type": "code",
   "execution_count": 74,
   "metadata": {
    "id": "4uchxU-bmBDe"
   },
   "outputs": [],
   "source": [
    "# class DecoderLinear(tf.keras.layers.Layer):\n",
    "#     def __init__(self, rgm, input_dim=32, units=32):\n",
    "#         super(DecoderLinear, self).__init__()\n",
    "#         self.rgm = rgm\n",
    "\n",
    "#         def init_weights(shape, dtype=\"float32\"):\n",
    "\n",
    "#             w_init = tf.random_normal_initializer()(shape=shape, dtype=dtype) * tf.transpose(tf.convert_to_tensor(self.rgm, dtype=dtype))\n",
    "\n",
    "#             return w_init\n",
    "    \n",
    "        \n",
    "#         self.w = tf.Variable(\n",
    "#             initial_value=init_weights(shape=(input_dim, units), dtype=\"float32\"),\n",
    "#             trainable=True,\n",
    "#         )\n",
    "\n",
    "#     def call(self, inputs):\n",
    "#         X = inputs\n",
    "#         #return tf.matmul(X, tf.multiply((self.rgm), self.w))\n",
    "#         X = tf.matmul(X, tf.multiply(tf.transpose(self.rgm), self.w)) \n",
    "#         #return tf.matmul(inputs, self.w)\n",
    "#         # v = tf.zeros_like(X)\n",
    "#         # u = tf.ones_like(X)\n",
    "#         # u = tf.math.scalar_mul(-3.0, u)\n",
    "        \n",
    "#         return X#tf.where(tf.math.less(X, v), u, X) #where X is less than 0, return -1 \n",
    "        \n",
    "        "
   ]
  },
  {
   "cell_type": "code",
   "execution_count": 75,
   "metadata": {
    "id": "PQVz4BCpmNMd"
   },
   "outputs": [],
   "source": [
    "# def encoder(parent_child_biological_association, num_hidden_units=21):\n",
    "#     '''\n",
    "#     Encoder structure\n",
    "#     '''\n",
    "#     '''\n",
    "#     The data is time-series. Therefore, CNN to learn the temporal relationship between \n",
    "#     the intensities for each gene.\n",
    "#     '''\n",
    "#     en_conv = Conv1D(490, 3, activation = \"relu\")(parent_child_biological_association) # 6*NUM_TARGETS Conv1D(32, 3, activation = \"relu\")(parent_child_biological_association)\n",
    "#     en_dense = Flatten()(en_conv)\n",
    "#     phenotype = Dense(num_hidden_units)(en_dense)\n",
    "#     return phenotype\n",
    "\n",
    "# def decoder(X, num_protein_gene, time_steps):\n",
    "#     '''\n",
    "#     Decoder structure\n",
    "#     '''\n",
    "#     de_dense = Dense(1024)(X)#Dense(128)(X)\n",
    "#     de_dense = Reshape((1, 1024))(de_dense) #tf.reshape(de_dense, (self.batch_size,1,128))\n",
    "#     de_deconv = Conv1DTranspose(num_protein_gene, time_steps, activation = \"relu\")(de_dense) #used to be transpose\n",
    "#     #de_deconv = Conv1D(num_protein_gene, time_steps, activation = \"relu\")(de_dense) \n",
    "#     # gene_reconstruction = self.decoder_biological_operation(de_deconv)\n",
    "#     return de_deconv\n",
    "\n",
    "# def model(rgm, num_protein_gene, time_steps, num_kinase_regulators, num_hidden_units = 32):\n",
    "#     inp = Input(shape=(time_steps, num_kinase_regulators))\n",
    "#     x = EncoderLinear(rgm, NUM_TARGETS, NUM_TARGETS)(inp)\n",
    "#     enc = encoder(x, num_hidden_units)\n",
    "#     dec = decoder(enc, num_protein_gene, time_steps)\n",
    "#     out = DecoderLinear(rgm, NUM_TARGETS, NUM_TARGETS)(dec)\n",
    "\n",
    "#     _model = tf.keras.Model(inputs=inp, outputs=out)\n",
    "\n",
    "#     return _model"
   ]
  },
  {
   "cell_type": "code",
   "execution_count": 76,
   "metadata": {},
   "outputs": [],
   "source": [
    "# ordinaryAE = model(regulator_gene_matrix, NUM_TARGETS, NUM_TIME_STEPS, NUM_TARGETS)\n",
    "# ordinaryAE.compile(optimizer='adam', loss=ignore_noParent_MSE)"
   ]
  },
  {
   "cell_type": "code",
   "execution_count": 77,
   "metadata": {},
   "outputs": [],
   "source": [
    "# o = ordinaryAE.fit(beanIntensities, beanIntensities, epochs=200, verbose = True, validation_data=(validation, validation))\n",
    "#print(o.history['loss'][-1]) #the final loss "
   ]
  },
  {
   "attachments": {},
   "cell_type": "markdown",
   "metadata": {},
   "source": [
    "# Super Parent AutoEncoder"
   ]
  },
  {
   "cell_type": "code",
   "execution_count": 105,
   "metadata": {},
   "outputs": [],
   "source": [
    "class EncoderLinearSuperParent(tf.keras.layers.Layer, tfmot.sparsity.keras.PrunableLayer):\n",
    "    def __init__(self, rgm, oldrgm, input_dim=32, units=32):\n",
    "        super(EncoderLinearSuperParent, self).__init__()\n",
    "        self.rgm = rgm\n",
    "        self.OGrgm = oldrgm\n",
    "\n",
    "        \n",
    "        def init_weights(shape, dtype=\"float32\"):\n",
    "\n",
    "            w_init = tf.random_normal_initializer()(shape=shape, dtype=dtype) * tf.convert_to_tensor(self.OGrgm, dtype=dtype)\n",
    "\n",
    "            return w_init\n",
    "        \n",
    "\n",
    "        self.w = tf.Variable(\n",
    "            initial_value=init_weights(shape=(input_dim, units), dtype=\"float32\"),\n",
    "            trainable=True,\n",
    "        )\n",
    "\n",
    "    def get_prunable_weights(self):\n",
    "        # Prune bias also, though that usually harms model accuracy too much.\n",
    "        return [self.w]\n",
    "\n",
    "    def call(self, inputs):\n",
    "        X = inputs\n",
    "        return tf.matmul(X, tf.multiply(self.rgm, self.w))\n",
    "    #tf.matmul(inputs, self.w)\n",
    "\n",
    "class DecoderLinearSuperParent(tf.keras.layers.Layer):\n",
    "    def __init__(self, rgm, oldrgm, input_dim=32, units=32):\n",
    "        super(DecoderLinearSuperParent, self).__init__()\n",
    "        self.rgm = rgm\n",
    "        self.OGrgm = oldrgm\n",
    "\n",
    "        def init_weights(shape, dtype=\"float32\"):\n",
    "\n",
    "            w_init = tf.random_normal_initializer()(shape=shape, dtype=dtype) * tf.transpose(tf.convert_to_tensor(self.rgm, dtype=dtype))\n",
    "\n",
    "            return w_init\n",
    "    \n",
    "        \n",
    "        self.w = tf.Variable(\n",
    "            initial_value=init_weights(shape=(input_dim, units), dtype=\"float32\"),\n",
    "            trainable=True,\n",
    "        )\n",
    "\n",
    "    def call(self, inputs):\n",
    "        X = inputs\n",
    "        #return tf.matmul(X, tf.multiply((self.rgm), self.w))\n",
    "        X = tf.matmul(X, tf.multiply(tf.transpose(self.rgm), self.w)) \n",
    "        #return tf.matmul(inputs, self.w)\n",
    "        # v = tf.zeros_like(X)\n",
    "        # u = tf.ones_like(X)\n",
    "        # u = tf.math.scalar_mul(-3.0, u)\n",
    "        \n",
    "        return X    #tf.where(tf.math.less(X, v), u, X) #where X is less than 0, return -1 \n",
    "        \n",
    "        \n",
    "def encoder(parent_child_biological_association, num_hidden_units=21):\n",
    "    '''\n",
    "    Encoder structure\n",
    "    '''\n",
    "    '''\n",
    "    The data is time-series. Therefore, CNN to learn the temporal relationship between \n",
    "    the intensities for each gene.\n",
    "    '''\n",
    "    #rnn = LSTM(units = num_hidden_units)(parent_child_biological_association)\n",
    "    en_conv = Conv1D(32, 3, activation = \"relu\")(parent_child_biological_association) # 6*NUM_TARGETS\n",
    "    en_dense = Flatten()(en_conv)\n",
    "    phenotype = Dense(num_hidden_units)(en_dense)\n",
    "    return phenotype\n",
    "\n",
    "def decoder(X, num_protein_gene, time_steps):\n",
    "    '''\n",
    "    Decoder structure\n",
    "    '''\n",
    "    de_dense = Dense(128)(X)\n",
    "    de_dense = Reshape((1, 128))(de_dense) #tf.reshape(de_dense, (self.batch_size,1,128))\n",
    "    de_deconv = Conv1DTranspose(num_protein_gene, time_steps, activation = \"relu\")(de_dense) #used to be transpose\n",
    "    #de_deconv = Conv1D(num_protein_gene, time_steps, activation = \"relu\")(de_dense) \n",
    "    # gene_reconstruction = self.decoder_biological_operation(de_deconv)\n",
    "    return de_deconv\n",
    "\n",
    "def modelSuperParent(rgm, oldRGM, num_protein_gene, time_steps, num_kinase_regulators, num_hidden_units = 21, sparsity = 0.0): #rgm is set to superparent, oldrgm is original rgm unmodified\n",
    "    inp = Input(shape=(time_steps, num_kinase_regulators))\n",
    "    x = tfmot.sparsity.keras.prune_low_magnitude(EncoderLinearSuperParent(rgm, oldRGM, NUM_TARGETS, NUM_TARGETS),\n",
    "                                                 pruning_schedule = tfmot.sparsity.keras.ConstantSparsity(sparsity, 0))(inp)\n",
    "    enc = encoder(x, num_hidden_units)\n",
    "    dec = decoder(enc, num_protein_gene, time_steps)\n",
    "    out = DecoderLinearSuperParent(rgm, oldRGM, NUM_TARGETS, NUM_TARGETS)(dec)\n",
    "\n",
    "    _model = tf.keras.Model(inputs=inp, outputs=out)\n",
    "\n",
    "    return _model"
   ]
  },
  {
   "cell_type": "code",
   "execution_count": 106,
   "metadata": {},
   "outputs": [],
   "source": [
    "def modelSuperParentSequential(rgm, oldRGM, num_protein_gene, time_steps, num_kinase_regulators, num_hidden_units = 21): #rgm is set to superparent, oldrgm is original rgm unmodified\n",
    "    m = tf.keras.Sequential()\n",
    "    inp = Input(shape=(time_steps, num_kinase_regulators))\n",
    "    x = EncoderLinearSuperParent(rgm, oldRGM, NUM_TARGETS, NUM_TARGETS)(inp)\n",
    "    enc = encoder(x, num_hidden_units)\n",
    "    dec = decoder(enc, num_protein_gene, time_steps)\n",
    "    out = DecoderLinearSuperParent(rgm, oldRGM, NUM_TARGETS, NUM_TARGETS)(dec)\n",
    "\n",
    "    _model = tf.keras.Model(inputs=inp, outputs=out)\n",
    "\n",
    "    return _model"
   ]
  },
  {
   "cell_type": "code",
   "execution_count": 107,
   "metadata": {},
   "outputs": [
    {
     "ename": "UnboundLocalError",
     "evalue": "local variable 'inp' referenced before assignment",
     "output_type": "error",
     "traceback": [
      "\u001b[1;31m---------------------------------------------------------------------------\u001b[0m",
      "\u001b[1;31mUnboundLocalError\u001b[0m                         Traceback (most recent call last)",
      "\u001b[1;32mc:\\Users\\Fin Amin\\Desktop\\StemCellResearch\\dream4_100_GRND\\DreamEncoder4_Official.ipynb Cell 43\u001b[0m in \u001b[0;36m<cell line: 1>\u001b[1;34m()\u001b[0m\n\u001b[1;32m----> <a href='vscode-notebook-cell:/c%3A/Users/Fin%20Amin/Desktop/StemCellResearch/dream4_100_GRND/DreamEncoder4_Official.ipynb#Y100sZmlsZQ%3D%3D?line=0'>1</a>\u001b[0m looseParent \u001b[39m=\u001b[39m modelSuperParent(superParent, superParent, NUM_TARGETS, NUM_TIME_STEPS, NUM_TARGETS, \u001b[39m32\u001b[39;49m, sparsity\u001b[39m=\u001b[39;49m\u001b[39m0.98\u001b[39;49m)\n\u001b[0;32m      <a href='vscode-notebook-cell:/c%3A/Users/Fin%20Amin/Desktop/StemCellResearch/dream4_100_GRND/DreamEncoder4_Official.ipynb#Y100sZmlsZQ%3D%3D?line=1'>2</a>\u001b[0m looseParent\u001b[39m.\u001b[39mcompile(optimizer\u001b[39m=\u001b[39m\u001b[39m'\u001b[39m\u001b[39madam\u001b[39m\u001b[39m'\u001b[39m, loss\u001b[39m=\u001b[39mignore_noParent_MSE)\n\u001b[0;32m      <a href='vscode-notebook-cell:/c%3A/Users/Fin%20Amin/Desktop/StemCellResearch/dream4_100_GRND/DreamEncoder4_Official.ipynb#Y100sZmlsZQ%3D%3D?line=2'>3</a>\u001b[0m o \u001b[39m=\u001b[39m looseParent\u001b[39m.\u001b[39mfit(beanIntensities, beanIntensities, epochs\u001b[39m=\u001b[39m\u001b[39m200\u001b[39m, verbose \u001b[39m=\u001b[39m \u001b[39mTrue\u001b[39;00m,  \n\u001b[0;32m      <a href='vscode-notebook-cell:/c%3A/Users/Fin%20Amin/Desktop/StemCellResearch/dream4_100_GRND/DreamEncoder4_Official.ipynb#Y100sZmlsZQ%3D%3D?line=3'>4</a>\u001b[0m                     validation_data\u001b[39m=\u001b[39m(validation, validation), callbacks \u001b[39m=\u001b[39m [\n\u001b[0;32m      <a href='vscode-notebook-cell:/c%3A/Users/Fin%20Amin/Desktop/StemCellResearch/dream4_100_GRND/DreamEncoder4_Official.ipynb#Y100sZmlsZQ%3D%3D?line=4'>5</a>\u001b[0m     tfmot\u001b[39m.\u001b[39msparsity\u001b[39m.\u001b[39mkeras\u001b[39m.\u001b[39mUpdatePruningStep()])\n",
      "\u001b[1;32mc:\\Users\\Fin Amin\\Desktop\\StemCellResearch\\dream4_100_GRND\\DreamEncoder4_Official.ipynb Cell 43\u001b[0m in \u001b[0;36mmodelSuperParent\u001b[1;34m(rgm, oldRGM, num_protein_gene, time_steps, num_kinase_regulators, num_hidden_units, sparsity)\u001b[0m\n\u001b[0;32m     <a href='vscode-notebook-cell:/c%3A/Users/Fin%20Amin/Desktop/StemCellResearch/dream4_100_GRND/DreamEncoder4_Official.ipynb#Y100sZmlsZQ%3D%3D?line=85'>86</a>\u001b[0m inp \u001b[39m=\u001b[39m Input(shape\u001b[39m=\u001b[39m(time_steps, num_kinase_regulators))\n\u001b[0;32m     <a href='vscode-notebook-cell:/c%3A/Users/Fin%20Amin/Desktop/StemCellResearch/dream4_100_GRND/DreamEncoder4_Official.ipynb#Y100sZmlsZQ%3D%3D?line=86'>87</a>\u001b[0m x \u001b[39m=\u001b[39m tfmot\u001b[39m.\u001b[39msparsity\u001b[39m.\u001b[39mkeras\u001b[39m.\u001b[39mprune_low_magnitude(EncoderLinearSuperParent(rgm, oldRGM, NUM_TARGETS, NUM_TARGETS),\n\u001b[0;32m     <a href='vscode-notebook-cell:/c%3A/Users/Fin%20Amin/Desktop/StemCellResearch/dream4_100_GRND/DreamEncoder4_Official.ipynb#Y100sZmlsZQ%3D%3D?line=87'>88</a>\u001b[0m                                              pruning_schedule \u001b[39m=\u001b[39m tfmot\u001b[39m.\u001b[39msparsity\u001b[39m.\u001b[39mkeras\u001b[39m.\u001b[39mConstantSparsity(sparsity, \u001b[39m0\u001b[39m))(inp)\n\u001b[1;32m---> <a href='vscode-notebook-cell:/c%3A/Users/Fin%20Amin/Desktop/StemCellResearch/dream4_100_GRND/DreamEncoder4_Official.ipynb#Y100sZmlsZQ%3D%3D?line=88'>89</a>\u001b[0m enc \u001b[39m=\u001b[39m encoder(x, num_hidden_units)\n\u001b[0;32m     <a href='vscode-notebook-cell:/c%3A/Users/Fin%20Amin/Desktop/StemCellResearch/dream4_100_GRND/DreamEncoder4_Official.ipynb#Y100sZmlsZQ%3D%3D?line=89'>90</a>\u001b[0m dec \u001b[39m=\u001b[39m decoder(enc, num_protein_gene, time_steps)\n\u001b[0;32m     <a href='vscode-notebook-cell:/c%3A/Users/Fin%20Amin/Desktop/StemCellResearch/dream4_100_GRND/DreamEncoder4_Official.ipynb#Y100sZmlsZQ%3D%3D?line=90'>91</a>\u001b[0m out \u001b[39m=\u001b[39m DecoderLinearSuperParent(rgm, oldRGM, NUM_TARGETS, NUM_TARGETS)(dec)\n",
      "\u001b[1;32mc:\\Users\\Fin Amin\\Desktop\\StemCellResearch\\dream4_100_GRND\\DreamEncoder4_Official.ipynb Cell 43\u001b[0m in \u001b[0;36mencoder\u001b[1;34m(parent_child_biological_association, num_hidden_units)\u001b[0m\n\u001b[0;32m     <a href='vscode-notebook-cell:/c%3A/Users/Fin%20Amin/Desktop/StemCellResearch/dream4_100_GRND/DreamEncoder4_Official.ipynb#Y100sZmlsZQ%3D%3D?line=66'>67</a>\u001b[0m en_conv \u001b[39m=\u001b[39m Conv1D(NUM_TARGETS, \u001b[39m7\u001b[39m, activation \u001b[39m=\u001b[39m \u001b[39m\"\u001b[39m\u001b[39mtanh\u001b[39m\u001b[39m\"\u001b[39m)(parent_child_biological_association) \u001b[39m# Conv1D(NUM_TARGETS, NUM_TIME_STEPS, activation = \"tanh\")(parent_child_biological_association)6*NUM_TARGETS\u001b[39;00m\n\u001b[0;32m     <a href='vscode-notebook-cell:/c%3A/Users/Fin%20Amin/Desktop/StemCellResearch/dream4_100_GRND/DreamEncoder4_Official.ipynb#Y100sZmlsZQ%3D%3D?line=67'>68</a>\u001b[0m en_dense \u001b[39m=\u001b[39m Flatten()(en_conv)\n\u001b[1;32m---> <a href='vscode-notebook-cell:/c%3A/Users/Fin%20Amin/Desktop/StemCellResearch/dream4_100_GRND/DreamEncoder4_Official.ipynb#Y100sZmlsZQ%3D%3D?line=68'>69</a>\u001b[0m inp \u001b[39m=\u001b[39m Flatten()(inp)\n\u001b[0;32m     <a href='vscode-notebook-cell:/c%3A/Users/Fin%20Amin/Desktop/StemCellResearch/dream4_100_GRND/DreamEncoder4_Official.ipynb#Y100sZmlsZQ%3D%3D?line=69'>70</a>\u001b[0m d \u001b[39m=\u001b[39m Concatenate()([en_dense, inp]) \u001b[39m#dense layer\u001b[39;00m\n\u001b[0;32m     <a href='vscode-notebook-cell:/c%3A/Users/Fin%20Amin/Desktop/StemCellResearch/dream4_100_GRND/DreamEncoder4_Official.ipynb#Y100sZmlsZQ%3D%3D?line=70'>71</a>\u001b[0m phenotype \u001b[39m=\u001b[39m Dense(num_hidden_units, activation\u001b[39m=\u001b[39m\u001b[39m\"\u001b[39m\u001b[39mtanh\u001b[39m\u001b[39m\"\u001b[39m)(d)\n",
      "\u001b[1;31mUnboundLocalError\u001b[0m: local variable 'inp' referenced before assignment"
     ]
    }
   ],
   "source": [
    "looseParent = modelSuperParent(superParent, superParent, NUM_TARGETS, NUM_TIME_STEPS, NUM_TARGETS, 32, sparsity=0.98)\n",
    "looseParent.compile(optimizer='adam', loss=ignore_noParent_MSE)\n",
    "o = looseParent.fit(beanIntensities, beanIntensities, epochs=200, verbose = True,  \n",
    "                    validation_data=(validation, validation), callbacks = [\n",
    "    tfmot.sparsity.keras.UpdatePruningStep()])\n",
    "print(o.history['loss'][-1]) #the final loss "
   ]
  },
  {
   "cell_type": "code",
   "execution_count": 81,
   "metadata": {},
   "outputs": [
    {
     "name": "stdout",
     "output_type": "stream",
     "text": [
      "Model: \"model\"\n",
      "_________________________________________________________________\n",
      " Layer (type)                Output Shape              Param #   \n",
      "=================================================================\n",
      " input_1 (InputLayer)        [(None, 21, 100)]         0         \n",
      "                                                                 \n",
      " prune_low_magnitude_encoder  (None, 21, 100)          20002     \n",
      " _linear_super_parent (Prune                                     \n",
      " LowMagnitude)                                                   \n",
      "                                                                 \n",
      " conv1d (Conv1D)             (None, 19, 32)            9632      \n",
      "                                                                 \n",
      " flatten (Flatten)           (None, 608)               0         \n",
      "                                                                 \n",
      " dense (Dense)               (None, 32)                19488     \n",
      "                                                                 \n",
      " dense_1 (Dense)             (None, 128)               4224      \n",
      "                                                                 \n",
      " reshape (Reshape)           (None, 1, 128)            0         \n",
      "                                                                 \n",
      " conv1d_transpose (Conv1DTra  (None, 21, 100)          268900    \n",
      " nspose)                                                         \n",
      "                                                                 \n",
      " decoder_linear_super_parent  (None, 21, 100)          10000     \n",
      "  (DecoderLinearSuperParent)                                     \n",
      "                                                                 \n",
      "=================================================================\n",
      "Total params: 332,246\n",
      "Trainable params: 322,244\n",
      "Non-trainable params: 10,002\n",
      "_________________________________________________________________\n"
     ]
    }
   ],
   "source": [
    "looseParent.summary()"
   ]
  },
  {
   "cell_type": "code",
   "execution_count": 82,
   "metadata": {},
   "outputs": [],
   "source": [
    "m = looseParent.get_layer(index=1).get_weights()"
   ]
  },
  {
   "cell_type": "code",
   "execution_count": 83,
   "metadata": {},
   "outputs": [
    {
     "data": {
      "text/plain": [
       "<matplotlib.image.AxesImage at 0x2b50116ae80>"
      ]
     },
     "execution_count": 83,
     "metadata": {},
     "output_type": "execute_result"
    },
    {
     "data": {
      "image/png": "[encoded data removed]",
      "text/plain": [
       "<Figure size 1080x360 with 1 Axes>"
      ]
     },
     "metadata": {
      "needs_background": "light"
     },
     "output_type": "display_data"
    }
   ],
   "source": [
    "plt.imshow(goldIm)"
   ]
  },
  {
   "cell_type": "code",
   "execution_count": 84,
   "metadata": {},
   "outputs": [
    {
     "data": {
      "text/plain": [
       "<matplotlib.image.AxesImage at 0x2b503b80b20>"
      ]
     },
     "execution_count": 84,
     "metadata": {},
     "output_type": "execute_result"
    },
    {
     "data": {
      "image/png": "[encoded data removed]",
      "text/plain": [
       "<Figure size 1080x360 with 1 Axes>"
      ]
     },
     "metadata": {
      "needs_background": "light"
     },
     "output_type": "display_data"
    }
   ],
   "source": [
    "plt.imshow(np.abs(m[0]))"
   ]
  },
  {
   "cell_type": "code",
   "execution_count": 85,
   "metadata": {},
   "outputs": [
    {
     "data": {
      "text/plain": [
       "(100, 100)"
      ]
     },
     "execution_count": 85,
     "metadata": {},
     "output_type": "execute_result"
    }
   ],
   "source": [
    "m[0].shape"
   ]
  },
  {
   "attachments": {},
   "cell_type": "markdown",
   "metadata": {},
   "source": [
    "# DenseNetAutoEncoder"
   ]
  },
  {
   "cell_type": "code",
   "execution_count": 108,
   "metadata": {},
   "outputs": [],
   "source": [
    "'''\n",
    "a second copy of the layers which will be modified to be a denseNET auto encoder\n",
    "'''\n",
    "\n",
    "class DAE_Encoder_MASK(tf.keras.layers.Layer, tfmot.sparsity.keras.PrunableLayer): \n",
    "    def __init__(self, rgm, oldrgm, input_dim=32, units=32):\n",
    "        super(DAE_Encoder_MASK, self).__init__()\n",
    "        self.rgm = rgm\n",
    "        self.oldrgm = oldrgm\n",
    "        \n",
    "        def init_weights(shape, dtype=\"float32\"):\n",
    "\n",
    "            w_init = tf.random_normal_initializer()(shape=shape, dtype=dtype) * tf.convert_to_tensor(self.oldrgm, dtype=dtype)\n",
    "\n",
    "            return w_init\n",
    "        \n",
    "        self.w = tf.Variable(\n",
    "            initial_value=init_weights(shape=(input_dim, units), dtype=\"float32\"),\n",
    "            trainable=True,\n",
    "        )\n",
    "    \n",
    "    def get_prunable_weights(self):\n",
    "        # Prune bias also, though that usually harms model accuracy too much.\n",
    "        return [self.w]\n",
    "\n",
    "    def call(self, inputs):\n",
    "        X = inputs\n",
    "        return tf.matmul(X, tf.multiply(self.rgm, self.w))\n",
    "    #tf.matmul(inputs, self.w)\n",
    "\n",
    "    def get_config(self):\n",
    "        config = super().get_config()\n",
    "        config.update({\n",
    "            \"rgm\": self.rgm,\n",
    "            \"oldrgm\": self.oldrgm,\n",
    "            'input_dim': 32,\n",
    "            'units' : 32\n",
    "        })\n",
    "\n",
    "class DAE_Decoder_MASK(tf.keras.layers.Layer):\n",
    "    def __init__(self, rgm, oldrgm, input_dim=32, units=32):\n",
    "        super(DAE_Decoder_MASK, self).__init__()\n",
    "        self.rgm = rgm\n",
    "        self.oldrgm = oldrgm\n",
    "\n",
    "        def init_weights(shape, dtype=\"float32\"):\n",
    "\n",
    "            w_init = tf.random_normal_initializer()(shape=shape, dtype=dtype) * tf.transpose(tf.convert_to_tensor(self.oldrgm, dtype=dtype))\n",
    "\n",
    "            return w_init\n",
    "\n",
    "        self.w = tf.Variable(\n",
    "            initial_value=init_weights(shape=(input_dim, units), dtype=\"float32\"),\n",
    "            trainable=True,\n",
    "        )\n",
    "\n",
    "    def call(self, inputs):\n",
    "        X = inputs\n",
    "        return tf.matmul(X, tf.multiply(tf.transpose(self.rgm), self.w)) #used to have a transpose\n",
    "\n",
    "\n",
    "    def get_config(self):\n",
    "        config = super().get_config()\n",
    "        config.update({\n",
    "            \"rgm\": self.rgm,\n",
    "            \"oldrgm\": self.oldrgm,\n",
    "            'input_dim': 32,\n",
    "            'units' : 32\n",
    "        })\n",
    "        \n",
    "\n",
    "def denseencoder2(parent_child_biological_association, inp, num_hidden_units=21):\n",
    "    '''\n",
    "    Encoder structure\n",
    "    '''\n",
    "    '''\n",
    "    The data is time-series. Therefore, CNN to learn the temporal relationship between \n",
    "    the intensities for each gene.\n",
    "    '''\n",
    "    en_conv = Conv1D(NUM_TARGETS, 7, activation = \"tanh\")(parent_child_biological_association) # Conv1D(NUM_TARGETS, NUM_TIME_STEPS, activation = \"tanh\")(parent_child_biological_association)6*NUM_TARGETS\n",
    "    en_dense = Flatten()(en_conv)\n",
    "    inp = Flatten()(inp)\n",
    "    d = Concatenate()([en_dense, inp]) #dense layer\n",
    "    phenotype = Dense(num_hidden_units, activation=\"tanh\")(d)\n",
    "    return phenotype\n",
    "\n",
    "def densedecoder2(X, num_protein_gene, time_steps):\n",
    "    '''\n",
    "    Decoder structure\n",
    "    '''\n",
    "    de_dense = Dense(NUM_TARGETS, activation = 'tanh')(X)\n",
    "    de_dense = Reshape((1, NUM_TARGETS))(de_dense) #tf.reshape(de_dense, (self.batch_size,1,128))\n",
    "    de_deconv = Conv1DTranspose(num_protein_gene, time_steps, activation = \"tanh\")(de_dense) #used to be transpose\n",
    "    #de_deconv = Conv1D(num_protein_gene, time_steps, activation = \"relu\")(de_dense) \n",
    "    # gene_reconstruction = self.decoder_biological_operation(de_deconv)\n",
    "    return de_deconv\n",
    "\n",
    "def modelDense2(rgm, oldrgm, num_protein_gene, time_steps, num_kinase_regulators, num_hidden_units = 21, sparsity = 0.0):\n",
    "    inp = Input(shape=(time_steps, num_kinase_regulators))\n",
    "    \n",
    "    x = tfmot.sparsity.keras.prune_low_magnitude(DAE_Encoder_MASK(rgm, oldrgm, NUM_TARGETS, NUM_TARGETS),\n",
    "                                                 pruning_schedule = tfmot.sparsity.keras.ConstantSparsity(sparsity, 0))(inp)\n",
    "    #x = EncoderLinear2(x)\n",
    "    enc = denseencoder2(x, inp, num_hidden_units)\n",
    "    dec = densedecoder2(enc, num_protein_gene, time_steps)\n",
    "    out = DAE_Decoder_MASK(rgm, oldrgm, NUM_TARGETS, NUM_TARGETS)(dec)\n",
    "\n",
    "    _model = tf.keras.Model(inputs=inp, outputs=out)\n",
    "\n",
    "    return _model"
   ]
  },
  {
   "cell_type": "code",
   "execution_count": 110,
   "metadata": {},
   "outputs": [
    {
     "name": "stdout",
     "output_type": "stream",
     "text": [
      "Epoch 1/150\n",
      "1/1 [==============================] - 2s 2s/step - loss: 0.2063 - val_loss: 0.1899\n",
      "Epoch 2/150\n",
      "1/1 [==============================] - 0s 33ms/step - loss: 0.2025 - val_loss: 0.1689\n",
      "Epoch 3/150\n",
      "1/1 [==============================] - 0s 35ms/step - loss: 0.1799 - val_loss: 0.1470\n",
      "Epoch 4/150\n",
      "1/1 [==============================] - 0s 36ms/step - loss: 0.1566 - val_loss: 0.1267\n",
      "Epoch 5/150\n",
      "1/1 [==============================] - 0s 34ms/step - loss: 0.1344 - val_loss: 0.1060\n",
      "Epoch 6/150\n",
      "1/1 [==============================] - 0s 33ms/step - loss: 0.1113 - val_loss: 0.0864\n",
      "Epoch 7/150\n",
      "1/1 [==============================] - 0s 35ms/step - loss: 0.0891 - val_loss: 0.0702\n",
      "Epoch 8/150\n",
      "1/1 [==============================] - 0s 33ms/step - loss: 0.0701 - val_loss: 0.0589\n",
      "Epoch 9/150\n",
      "1/1 [==============================] - 0s 30ms/step - loss: 0.0560 - val_loss: 0.0532\n",
      "Epoch 10/150\n",
      "1/1 [==============================] - 0s 36ms/step - loss: 0.0476 - val_loss: 0.0517\n",
      "Epoch 11/150\n",
      "1/1 [==============================] - 0s 32ms/step - loss: 0.0436 - val_loss: 0.0516\n",
      "Epoch 12/150\n",
      "1/1 [==============================] - 0s 29ms/step - loss: 0.0417 - val_loss: 0.0505\n",
      "Epoch 13/150\n",
      "1/1 [==============================] - 0s 28ms/step - loss: 0.0396 - val_loss: 0.0478\n",
      "Epoch 14/150\n",
      "1/1 [==============================] - 0s 29ms/step - loss: 0.0364 - val_loss: 0.0437\n",
      "Epoch 15/150\n",
      "1/1 [==============================] - 0s 29ms/step - loss: 0.0324 - val_loss: 0.0399\n",
      "Epoch 16/150\n",
      "1/1 [==============================] - 0s 28ms/step - loss: 0.0289 - val_loss: 0.0375\n",
      "Epoch 17/150\n",
      "1/1 [==============================] - 0s 32ms/step - loss: 0.0271 - val_loss: 0.0365\n",
      "Epoch 18/150\n",
      "1/1 [==============================] - 0s 29ms/step - loss: 0.0264 - val_loss: 0.0362\n",
      "Epoch 19/150\n",
      "1/1 [==============================] - 0s 31ms/step - loss: 0.0263 - val_loss: 0.0359\n",
      "Epoch 20/150\n",
      "1/1 [==============================] - 0s 38ms/step - loss: 0.0262 - val_loss: 0.0355\n",
      "Epoch 21/150\n",
      "1/1 [==============================] - 0s 27ms/step - loss: 0.0259 - val_loss: 0.0349\n",
      "Epoch 22/150\n",
      "1/1 [==============================] - 0s 29ms/step - loss: 0.0252 - val_loss: 0.0342\n",
      "Epoch 23/150\n",
      "1/1 [==============================] - 0s 27ms/step - loss: 0.0242 - val_loss: 0.0335\n",
      "Epoch 24/150\n",
      "1/1 [==============================] - 0s 28ms/step - loss: 0.0233 - val_loss: 0.0330\n",
      "Epoch 25/150\n",
      "1/1 [==============================] - 0s 29ms/step - loss: 0.0224 - val_loss: 0.0326\n",
      "Epoch 26/150\n",
      "1/1 [==============================] - 0s 27ms/step - loss: 0.0218 - val_loss: 0.0324\n",
      "Epoch 27/150\n",
      "1/1 [==============================] - 0s 26ms/step - loss: 0.0213 - val_loss: 0.0322\n",
      "Epoch 28/150\n",
      "1/1 [==============================] - 0s 27ms/step - loss: 0.0209 - val_loss: 0.0319\n",
      "Epoch 29/150\n",
      "1/1 [==============================] - 0s 28ms/step - loss: 0.0206 - val_loss: 0.0315\n",
      "Epoch 30/150\n",
      "1/1 [==============================] - 0s 27ms/step - loss: 0.0202 - val_loss: 0.0310\n",
      "Epoch 31/150\n",
      "1/1 [==============================] - 0s 29ms/step - loss: 0.0198 - val_loss: 0.0305\n",
      "Epoch 32/150\n",
      "1/1 [==============================] - 0s 28ms/step - loss: 0.0195 - val_loss: 0.0301\n",
      "Epoch 33/150\n",
      "1/1 [==============================] - 0s 27ms/step - loss: 0.0193 - val_loss: 0.0297\n",
      "Epoch 34/150\n",
      "1/1 [==============================] - 0s 26ms/step - loss: 0.0192 - val_loss: 0.0294\n",
      "Epoch 35/150\n",
      "1/1 [==============================] - 0s 27ms/step - loss: 0.0191 - val_loss: 0.0292\n",
      "Epoch 36/150\n",
      "1/1 [==============================] - 0s 37ms/step - loss: 0.0191 - val_loss: 0.0291\n",
      "Epoch 37/150\n",
      "1/1 [==============================] - 0s 32ms/step - loss: 0.0191 - val_loss: 0.0290\n",
      "Epoch 38/150\n",
      "1/1 [==============================] - 0s 28ms/step - loss: 0.0190 - val_loss: 0.0290\n",
      "Epoch 39/150\n",
      "1/1 [==============================] - 0s 33ms/step - loss: 0.0189 - val_loss: 0.0290\n",
      "Epoch 40/150\n",
      "1/1 [==============================] - 0s 28ms/step - loss: 0.0188 - val_loss: 0.0290\n",
      "Epoch 41/150\n",
      "1/1 [==============================] - 0s 29ms/step - loss: 0.0187 - val_loss: 0.0290\n",
      "Epoch 42/150\n",
      "1/1 [==============================] - 0s 26ms/step - loss: 0.0186 - val_loss: 0.0290\n",
      "Epoch 43/150\n",
      "1/1 [==============================] - 0s 27ms/step - loss: 0.0185 - val_loss: 0.0290\n",
      "Epoch 44/150\n",
      "1/1 [==============================] - 0s 28ms/step - loss: 0.0184 - val_loss: 0.0290\n",
      "Epoch 45/150\n",
      "1/1 [==============================] - 0s 29ms/step - loss: 0.0184 - val_loss: 0.0289\n",
      "Epoch 46/150\n",
      "1/1 [==============================] - 0s 27ms/step - loss: 0.0183 - val_loss: 0.0289\n",
      "Epoch 47/150\n",
      "1/1 [==============================] - 0s 27ms/step - loss: 0.0182 - val_loss: 0.0287\n",
      "Epoch 48/150\n",
      "1/1 [==============================] - 0s 28ms/step - loss: 0.0182 - val_loss: 0.0286\n",
      "Epoch 49/150\n",
      "1/1 [==============================] - 0s 28ms/step - loss: 0.0181 - val_loss: 0.0284\n",
      "Epoch 50/150\n",
      "1/1 [==============================] - 0s 27ms/step - loss: 0.0181 - val_loss: 0.0283\n",
      "Epoch 51/150\n",
      "1/1 [==============================] - 0s 26ms/step - loss: 0.0180 - val_loss: 0.0283\n",
      "Epoch 52/150\n",
      "1/1 [==============================] - 0s 27ms/step - loss: 0.0180 - val_loss: 0.0282\n",
      "Epoch 53/150\n",
      "1/1 [==============================] - 0s 27ms/step - loss: 0.0180 - val_loss: 0.0282\n",
      "Epoch 54/150\n",
      "1/1 [==============================] - 0s 37ms/step - loss: 0.0179 - val_loss: 0.0281\n",
      "Epoch 55/150\n",
      "1/1 [==============================] - 0s 31ms/step - loss: 0.0179 - val_loss: 0.0281\n",
      "Epoch 56/150\n",
      "1/1 [==============================] - 0s 27ms/step - loss: 0.0178 - val_loss: 0.0281\n",
      "Epoch 57/150\n",
      "1/1 [==============================] - 0s 30ms/step - loss: 0.0178 - val_loss: 0.0281\n",
      "Epoch 58/150\n",
      "1/1 [==============================] - 0s 30ms/step - loss: 0.0177 - val_loss: 0.0280\n",
      "Epoch 59/150\n",
      "1/1 [==============================] - 0s 28ms/step - loss: 0.0177 - val_loss: 0.0280\n",
      "Epoch 60/150\n",
      "1/1 [==============================] - 0s 27ms/step - loss: 0.0176 - val_loss: 0.0279\n",
      "Epoch 61/150\n",
      "1/1 [==============================] - 0s 28ms/step - loss: 0.0176 - val_loss: 0.0278\n",
      "Epoch 62/150\n",
      "1/1 [==============================] - 0s 26ms/step - loss: 0.0175 - val_loss: 0.0277\n",
      "Epoch 63/150\n",
      "1/1 [==============================] - 0s 29ms/step - loss: 0.0175 - val_loss: 0.0276\n",
      "Epoch 64/150\n",
      "1/1 [==============================] - 0s 27ms/step - loss: 0.0174 - val_loss: 0.0275\n",
      "Epoch 65/150\n",
      "1/1 [==============================] - 0s 28ms/step - loss: 0.0174 - val_loss: 0.0275\n",
      "Epoch 66/150\n",
      "1/1 [==============================] - 0s 29ms/step - loss: 0.0173 - val_loss: 0.0274\n",
      "Epoch 67/150\n",
      "1/1 [==============================] - 0s 27ms/step - loss: 0.0173 - val_loss: 0.0273\n",
      "Epoch 68/150\n",
      "1/1 [==============================] - 0s 26ms/step - loss: 0.0173 - val_loss: 0.0273\n",
      "Epoch 69/150\n",
      "1/1 [==============================] - 0s 27ms/step - loss: 0.0172 - val_loss: 0.0273\n",
      "Epoch 70/150\n",
      "1/1 [==============================] - 0s 28ms/step - loss: 0.0171 - val_loss: 0.0272\n",
      "Epoch 71/150\n",
      "1/1 [==============================] - 0s 27ms/step - loss: 0.0171 - val_loss: 0.0272\n",
      "Epoch 72/150\n",
      "1/1 [==============================] - 0s 32ms/step - loss: 0.0170 - val_loss: 0.0272\n",
      "Epoch 73/150\n",
      "1/1 [==============================] - 0s 44ms/step - loss: 0.0170 - val_loss: 0.0272\n",
      "Epoch 74/150\n",
      "1/1 [==============================] - 0s 40ms/step - loss: 0.0169 - val_loss: 0.0271\n",
      "Epoch 75/150\n",
      "1/1 [==============================] - 0s 36ms/step - loss: 0.0169 - val_loss: 0.0271\n",
      "Epoch 76/150\n",
      "1/1 [==============================] - 0s 34ms/step - loss: 0.0168 - val_loss: 0.0270\n",
      "Epoch 77/150\n",
      "1/1 [==============================] - 0s 35ms/step - loss: 0.0168 - val_loss: 0.0269\n",
      "Epoch 78/150\n",
      "1/1 [==============================] - 0s 34ms/step - loss: 0.0167 - val_loss: 0.0269\n",
      "Epoch 79/150\n",
      "1/1 [==============================] - 0s 35ms/step - loss: 0.0166 - val_loss: 0.0268\n",
      "Epoch 80/150\n",
      "1/1 [==============================] - 0s 37ms/step - loss: 0.0166 - val_loss: 0.0268\n",
      "Epoch 81/150\n",
      "1/1 [==============================] - 0s 33ms/step - loss: 0.0165 - val_loss: 0.0267\n",
      "Epoch 82/150\n",
      "1/1 [==============================] - 0s 28ms/step - loss: 0.0165 - val_loss: 0.0267\n",
      "Epoch 83/150\n",
      "1/1 [==============================] - 0s 30ms/step - loss: 0.0164 - val_loss: 0.0266\n",
      "Epoch 84/150\n",
      "1/1 [==============================] - 0s 27ms/step - loss: 0.0163 - val_loss: 0.0266\n",
      "Epoch 85/150\n",
      "1/1 [==============================] - 0s 27ms/step - loss: 0.0163 - val_loss: 0.0266\n",
      "Epoch 86/150\n",
      "1/1 [==============================] - 0s 27ms/step - loss: 0.0162 - val_loss: 0.0265\n",
      "Epoch 87/150\n",
      "1/1 [==============================] - 0s 27ms/step - loss: 0.0162 - val_loss: 0.0265\n",
      "Epoch 88/150\n",
      "1/1 [==============================] - 0s 41ms/step - loss: 0.0161 - val_loss: 0.0264\n",
      "Epoch 89/150\n",
      "1/1 [==============================] - 0s 30ms/step - loss: 0.0160 - val_loss: 0.0264\n",
      "Epoch 90/150\n",
      "1/1 [==============================] - 0s 28ms/step - loss: 0.0160 - val_loss: 0.0264\n",
      "Epoch 91/150\n",
      "1/1 [==============================] - 0s 29ms/step - loss: 0.0159 - val_loss: 0.0263\n",
      "Epoch 92/150\n",
      "1/1 [==============================] - 0s 27ms/step - loss: 0.0159 - val_loss: 0.0262\n",
      "Epoch 93/150\n",
      "1/1 [==============================] - 0s 26ms/step - loss: 0.0158 - val_loss: 0.0262\n",
      "Epoch 94/150\n",
      "1/1 [==============================] - 0s 29ms/step - loss: 0.0157 - val_loss: 0.0262\n",
      "Epoch 95/150\n",
      "1/1 [==============================] - 0s 28ms/step - loss: 0.0157 - val_loss: 0.0261\n",
      "Epoch 96/150\n",
      "1/1 [==============================] - 0s 26ms/step - loss: 0.0156 - val_loss: 0.0261\n",
      "Epoch 97/150\n",
      "1/1 [==============================] - 0s 27ms/step - loss: 0.0156 - val_loss: 0.0260\n",
      "Epoch 98/150\n",
      "1/1 [==============================] - 0s 28ms/step - loss: 0.0155 - val_loss: 0.0260\n",
      "Epoch 99/150\n",
      "1/1 [==============================] - 0s 26ms/step - loss: 0.0155 - val_loss: 0.0260\n",
      "Epoch 100/150\n",
      "1/1 [==============================] - 0s 29ms/step - loss: 0.0154 - val_loss: 0.0260\n",
      "Epoch 101/150\n",
      "1/1 [==============================] - 0s 29ms/step - loss: 0.0154 - val_loss: 0.0259\n",
      "Epoch 102/150\n",
      "1/1 [==============================] - 0s 33ms/step - loss: 0.0153 - val_loss: 0.0259\n",
      "Epoch 103/150\n",
      "1/1 [==============================] - 0s 28ms/step - loss: 0.0153 - val_loss: 0.0259\n",
      "Epoch 104/150\n",
      "1/1 [==============================] - 0s 31ms/step - loss: 0.0152 - val_loss: 0.0259\n",
      "Epoch 105/150\n",
      "1/1 [==============================] - 0s 33ms/step - loss: 0.0152 - val_loss: 0.0258\n",
      "Epoch 106/150\n",
      "1/1 [==============================] - 0s 27ms/step - loss: 0.0151 - val_loss: 0.0258\n",
      "Epoch 107/150\n",
      "1/1 [==============================] - 0s 29ms/step - loss: 0.0150 - val_loss: 0.0258\n",
      "Epoch 108/150\n",
      "1/1 [==============================] - 0s 26ms/step - loss: 0.0150 - val_loss: 0.0258\n",
      "Epoch 109/150\n",
      "1/1 [==============================] - 0s 28ms/step - loss: 0.0150 - val_loss: 0.0257\n",
      "Epoch 110/150\n",
      "1/1 [==============================] - 0s 28ms/step - loss: 0.0149 - val_loss: 0.0257\n",
      "Epoch 111/150\n",
      "1/1 [==============================] - 0s 26ms/step - loss: 0.0149 - val_loss: 0.0257\n",
      "Epoch 112/150\n",
      "1/1 [==============================] - 0s 27ms/step - loss: 0.0149 - val_loss: 0.0257\n",
      "Epoch 113/150\n",
      "1/1 [==============================] - 0s 28ms/step - loss: 0.0148 - val_loss: 0.0257\n",
      "Epoch 114/150\n",
      "1/1 [==============================] - 0s 27ms/step - loss: 0.0148 - val_loss: 0.0257\n",
      "Epoch 115/150\n",
      "1/1 [==============================] - 0s 28ms/step - loss: 0.0147 - val_loss: 0.0257\n",
      "Epoch 116/150\n",
      "1/1 [==============================] - 0s 26ms/step - loss: 0.0147 - val_loss: 0.0256\n",
      "Epoch 117/150\n",
      "1/1 [==============================] - 0s 35ms/step - loss: 0.0147 - val_loss: 0.0256\n",
      "Epoch 118/150\n",
      "1/1 [==============================] - 0s 32ms/step - loss: 0.0146 - val_loss: 0.0257\n",
      "Epoch 119/150\n",
      "1/1 [==============================] - 0s 26ms/step - loss: 0.0146 - val_loss: 0.0255\n",
      "Epoch 120/150\n",
      "1/1 [==============================] - 0s 28ms/step - loss: 0.0146 - val_loss: 0.0256\n",
      "Epoch 121/150\n",
      "1/1 [==============================] - 0s 28ms/step - loss: 0.0145 - val_loss: 0.0256\n",
      "Epoch 122/150\n",
      "1/1 [==============================] - 0s 29ms/step - loss: 0.0145 - val_loss: 0.0256\n",
      "Epoch 123/150\n",
      "1/1 [==============================] - 0s 26ms/step - loss: 0.0144 - val_loss: 0.0255\n",
      "Epoch 124/150\n",
      "1/1 [==============================] - 0s 27ms/step - loss: 0.0144 - val_loss: 0.0256\n",
      "Epoch 125/150\n",
      "1/1 [==============================] - 0s 27ms/step - loss: 0.0143 - val_loss: 0.0256\n",
      "Epoch 126/150\n",
      "1/1 [==============================] - 0s 30ms/step - loss: 0.0143 - val_loss: 0.0255\n",
      "Epoch 127/150\n",
      "1/1 [==============================] - 0s 33ms/step - loss: 0.0143 - val_loss: 0.0256\n",
      "Epoch 128/150\n",
      "1/1 [==============================] - 0s 36ms/step - loss: 0.0142 - val_loss: 0.0256\n",
      "Epoch 129/150\n",
      "1/1 [==============================] - 0s 28ms/step - loss: 0.0143 - val_loss: 0.0255\n",
      "Epoch 130/150\n",
      "1/1 [==============================] - 0s 27ms/step - loss: 0.0142 - val_loss: 0.0255\n",
      "Epoch 131/150\n",
      "1/1 [==============================] - 0s 26ms/step - loss: 0.0142 - val_loss: 0.0256\n",
      "Epoch 132/150\n",
      "1/1 [==============================] - 0s 30ms/step - loss: 0.0142 - val_loss: 0.0255\n",
      "Epoch 133/150\n",
      "1/1 [==============================] - 0s 27ms/step - loss: 0.0141 - val_loss: 0.0255\n",
      "Epoch 134/150\n",
      "1/1 [==============================] - 0s 26ms/step - loss: 0.0141 - val_loss: 0.0256\n",
      "Epoch 135/150\n",
      "1/1 [==============================] - 0s 29ms/step - loss: 0.0141 - val_loss: 0.0255\n",
      "Epoch 136/150\n",
      "1/1 [==============================] - 0s 29ms/step - loss: 0.0140 - val_loss: 0.0255\n",
      "Epoch 137/150\n",
      "1/1 [==============================] - 0s 28ms/step - loss: 0.0140 - val_loss: 0.0256\n",
      "Epoch 138/150\n",
      "1/1 [==============================] - 0s 28ms/step - loss: 0.0140 - val_loss: 0.0255\n",
      "Epoch 139/150\n",
      "1/1 [==============================] - 0s 37ms/step - loss: 0.0140 - val_loss: 0.0255\n",
      "Epoch 140/150\n",
      "1/1 [==============================] - 0s 28ms/step - loss: 0.0139 - val_loss: 0.0255\n",
      "Epoch 141/150\n",
      "1/1 [==============================] - 0s 28ms/step - loss: 0.0139 - val_loss: 0.0255\n",
      "Epoch 142/150\n",
      "1/1 [==============================] - 0s 30ms/step - loss: 0.0139 - val_loss: 0.0255\n",
      "Epoch 143/150\n",
      "1/1 [==============================] - 0s 30ms/step - loss: 0.0139 - val_loss: 0.0255\n",
      "Epoch 144/150\n",
      "1/1 [==============================] - 0s 29ms/step - loss: 0.0139 - val_loss: 0.0255\n",
      "Epoch 145/150\n",
      "1/1 [==============================] - 0s 30ms/step - loss: 0.0139 - val_loss: 0.0255\n",
      "Epoch 146/150\n",
      "1/1 [==============================] - 0s 30ms/step - loss: 0.0138 - val_loss: 0.0255\n",
      "Epoch 147/150\n",
      "1/1 [==============================] - 0s 33ms/step - loss: 0.0138 - val_loss: 0.0255\n",
      "Epoch 148/150\n",
      "1/1 [==============================] - 0s 43ms/step - loss: 0.0138 - val_loss: 0.0255\n",
      "Epoch 149/150\n",
      "1/1 [==============================] - 0s 38ms/step - loss: 0.0138 - val_loss: 0.0255\n",
      "Epoch 150/150\n",
      "1/1 [==============================] - 0s 33ms/step - loss: 0.0138 - val_loss: 0.0255\n"
     ]
    },
    {
     "data": {
      "text/plain": [
       "<keras.callbacks.History at 0x2b5389b8550>"
      ]
     },
     "execution_count": 110,
     "metadata": {},
     "output_type": "execute_result"
    }
   ],
   "source": [
    "#dense = modelDense2(superParent, regulator_gene_matrix, NUM_TARGETS, NUM_TIME_STEPS, NUM_TARGETS, num_hidden_units=NUM_PARENTS)\n",
    "# dense = modelDense2(goldIm.astype(np.float32), goldIm.astype(np.float32), NUM_TARGETS, NUM_TIME_STEPS, NUM_TARGETS, num_hidden_units=NUM_PARENTS)\n",
    "dense = modelDense2(superParent, superParent, NUM_TARGETS, NUM_TIME_STEPS, NUM_TARGETS, num_hidden_units=NUM_PARENTS)\n",
    "dense.compile(optimizer='adam', loss=ignore_noParent_MSE)\n",
    "dense.fit(beanIntensities, beanIntensities, epochs=150,  verbose=True, validation_data=(validation, validation),\n",
    "          callbacks = [\n",
    "    tfmot.sparsity.keras.UpdatePruningStep()])"
   ]
  },
  {
   "cell_type": "code",
   "execution_count": null,
   "metadata": {},
   "outputs": [
    {
     "name": "stdout",
     "output_type": "stream",
     "text": [
      "Model: \"model_1\"\n",
      "__________________________________________________________________________________________________\n",
      " Layer (type)                   Output Shape         Param #     Connected to                     \n",
      "==================================================================================================\n",
      " input_2 (InputLayer)           [(None, 21, 100)]    0           []                               \n",
      "                                                                                                  \n",
      " dae__encoder_mask (DAE_Encoder  (None, 21, 100)     10000       ['input_2[0][0]']                \n",
      " _MASK)                                                                                           \n",
      "                                                                                                  \n",
      " conv1d_1 (Conv1D)              (None, 15, 100)      70100       ['dae__encoder_mask[0][0]']      \n",
      "                                                                                                  \n",
      " flatten_1 (Flatten)            (None, 1500)         0           ['conv1d_1[0][0]']               \n",
      "                                                                                                  \n",
      " flatten_2 (Flatten)            (None, 2100)         0           ['input_2[0][0]']                \n",
      "                                                                                                  \n",
      " concatenate (Concatenate)      (None, 3600)         0           ['flatten_1[0][0]',              \n",
      "                                                                  'flatten_2[0][0]']              \n",
      "                                                                                                  \n",
      " dense_2 (Dense)                (None, 44)           158444      ['concatenate[0][0]']            \n",
      "                                                                                                  \n",
      " dense_3 (Dense)                (None, 100)          4500        ['dense_2[0][0]']                \n",
      "                                                                                                  \n",
      " reshape_1 (Reshape)            (None, 1, 100)       0           ['dense_3[0][0]']                \n",
      "                                                                                                  \n",
      " conv1d_transpose_1 (Conv1DTran  (None, 21, 100)     210100      ['reshape_1[0][0]']              \n",
      " spose)                                                                                           \n",
      "                                                                                                  \n",
      " dae__decoder_mask (DAE_Decoder  (None, 21, 100)     10000       ['conv1d_transpose_1[0][0]']     \n",
      " _MASK)                                                                                           \n",
      "                                                                                                  \n",
      "==================================================================================================\n",
      "Total params: 463,144\n",
      "Trainable params: 463,144\n",
      "Non-trainable params: 0\n",
      "__________________________________________________________________________________________________\n"
     ]
    }
   ],
   "source": [
    "dense.summary()"
   ]
  },
  {
   "cell_type": "code",
   "execution_count": 89,
   "metadata": {},
   "outputs": [],
   "source": [
    "mask = dense.get_layer(index = 1)"
   ]
  },
  {
   "cell_type": "code",
   "execution_count": 90,
   "metadata": {},
   "outputs": [
    {
     "data": {
      "text/plain": [
       "<matplotlib.image.AxesImage at 0x2b52ef2b310>"
      ]
     },
     "execution_count": 90,
     "metadata": {},
     "output_type": "execute_result"
    },
    {
     "data": {
      "image/png": "[encoded data removed]",
      "text/plain": [
       "<Figure size 1080x360 with 1 Axes>"
      ]
     },
     "metadata": {
      "needs_background": "light"
     },
     "output_type": "display_data"
    }
   ],
   "source": [
    "plt.imshow(np.abs(mask.get_weights()[0]))"
   ]
  },
  {
   "cell_type": "code",
   "execution_count": 91,
   "metadata": {},
   "outputs": [
    {
     "data": {
      "text/plain": [
       "<matplotlib.image.AxesImage at 0x2b5376e29a0>"
      ]
     },
     "execution_count": 91,
     "metadata": {},
     "output_type": "execute_result"
    },
    {
     "data": {
      "image/png": "[encoded data removed]",
      "text/plain": [
       "<Figure size 1080x360 with 1 Axes>"
      ]
     },
     "metadata": {
      "needs_background": "light"
     },
     "output_type": "display_data"
    }
   ],
   "source": [
    "plt.imshow(goldIm)"
   ]
  },
  {
   "attachments": {},
   "cell_type": "markdown",
   "metadata": {},
   "source": [
    "# Reconstruction"
   ]
  },
  {
   "cell_type": "code",
   "execution_count": 92,
   "metadata": {},
   "outputs": [
    {
     "name": "stdout",
     "output_type": "stream",
     "text": [
      "1/1 [==============================] - 0s 104ms/step\n"
     ]
    },
    {
     "data": {
      "text/plain": [
       "(2, 21, 100)"
      ]
     },
     "execution_count": 92,
     "metadata": {},
     "output_type": "execute_result"
    }
   ],
   "source": [
    "o = dense.predict(validation)\n",
    "o.shape"
   ]
  },
  {
   "cell_type": "code",
   "execution_count": 93,
   "metadata": {},
   "outputs": [],
   "source": [
    "r = pd.DataFrame(o[0].reshape(NUM_TIME_STEPS,NUM_TARGETS))\n",
    "v = pd.DataFrame(validation[0].reshape(NUM_TIME_STEPS,NUM_TARGETS))"
   ]
  },
  {
   "cell_type": "code",
   "execution_count": 94,
   "metadata": {},
   "outputs": [
    {
     "data": {
      "text/plain": [
       "array([ 0,  1,  3,  5,  8, 10, 11, 15, 17, 20, 21, 22, 23, 25, 28, 31, 32,\n",
       "       33, 36, 37, 38, 39, 40, 41, 43, 47, 48, 51, 52, 53, 54, 57, 64, 68,\n",
       "       69, 70, 72, 73, 77, 78, 89, 91, 95, 96])"
      ]
     },
     "execution_count": 94,
     "metadata": {},
     "output_type": "execute_result"
    }
   ],
   "source": [
    "parent_idx"
   ]
  },
  {
   "cell_type": "code",
   "execution_count": 95,
   "metadata": {},
   "outputs": [
    {
     "data": {
      "text/plain": [
       "<matplotlib.image.AxesImage at 0x2b53778e1f0>"
      ]
     },
     "execution_count": 95,
     "metadata": {},
     "output_type": "execute_result"
    },
    {
     "data": {
      "image/png": "[encoded data removed]",
      "text/plain": [
       "<Figure size 1080x360 with 1 Axes>"
      ]
     },
     "metadata": {
      "needs_background": "light"
     },
     "output_type": "display_data"
    }
   ],
   "source": [
    "plt.imshow(o[0])"
   ]
  },
  {
   "cell_type": "code",
   "execution_count": 96,
   "metadata": {},
   "outputs": [
    {
     "data": {
      "text/html": [
       "<div>\n",
       "<style scoped>\n",
       "    .dataframe tbody tr th:only-of-type {\n",
       "        vertical-align: middle;\n",
       "    }\n",
       "\n",
       "    .dataframe tbody tr th {\n",
       "        vertical-align: top;\n",
       "    }\n",
       "\n",
       "    .dataframe thead th {\n",
       "        text-align: right;\n",
       "    }\n",
       "</style>\n",
       "<table border=\"1\" class=\"dataframe\">\n",
       "  <thead>\n",
       "    <tr style=\"text-align: right;\">\n",
       "      <th></th>\n",
       "      <th>0</th>\n",
       "      <th>1</th>\n",
       "      <th>3</th>\n",
       "      <th>5</th>\n",
       "      <th>8</th>\n",
       "      <th>10</th>\n",
       "      <th>11</th>\n",
       "      <th>15</th>\n",
       "      <th>17</th>\n",
       "      <th>20</th>\n",
       "      <th>...</th>\n",
       "      <th>69</th>\n",
       "      <th>70</th>\n",
       "      <th>72</th>\n",
       "      <th>73</th>\n",
       "      <th>77</th>\n",
       "      <th>78</th>\n",
       "      <th>89</th>\n",
       "      <th>91</th>\n",
       "      <th>95</th>\n",
       "      <th>96</th>\n",
       "    </tr>\n",
       "  </thead>\n",
       "  <tbody>\n",
       "    <tr>\n",
       "      <th>0</th>\n",
       "      <td>0.106301</td>\n",
       "      <td>0.153197</td>\n",
       "      <td>0.438527</td>\n",
       "      <td>0.086138</td>\n",
       "      <td>0.495842</td>\n",
       "      <td>0.004548</td>\n",
       "      <td>0.031345</td>\n",
       "      <td>0.397616</td>\n",
       "      <td>0.262176</td>\n",
       "      <td>0.066762</td>\n",
       "      <td>...</td>\n",
       "      <td>0.154774</td>\n",
       "      <td>0.269714</td>\n",
       "      <td>0.033851</td>\n",
       "      <td>0.090694</td>\n",
       "      <td>0.608679</td>\n",
       "      <td>0.098833</td>\n",
       "      <td>0.039306</td>\n",
       "      <td>0.421596</td>\n",
       "      <td>0.798155</td>\n",
       "      <td>0.418635</td>\n",
       "    </tr>\n",
       "    <tr>\n",
       "      <th>1</th>\n",
       "      <td>0.324237</td>\n",
       "      <td>0.218598</td>\n",
       "      <td>0.407922</td>\n",
       "      <td>0.665617</td>\n",
       "      <td>0.000414</td>\n",
       "      <td>0.299781</td>\n",
       "      <td>0.197464</td>\n",
       "      <td>0.637985</td>\n",
       "      <td>0.092034</td>\n",
       "      <td>0.188123</td>\n",
       "      <td>...</td>\n",
       "      <td>0.675754</td>\n",
       "      <td>0.055036</td>\n",
       "      <td>0.017054</td>\n",
       "      <td>0.689302</td>\n",
       "      <td>0.091634</td>\n",
       "      <td>0.650503</td>\n",
       "      <td>0.187063</td>\n",
       "      <td>0.054472</td>\n",
       "      <td>0.265095</td>\n",
       "      <td>0.519023</td>\n",
       "    </tr>\n",
       "    <tr>\n",
       "      <th>2</th>\n",
       "      <td>0.545691</td>\n",
       "      <td>0.204699</td>\n",
       "      <td>0.463860</td>\n",
       "      <td>0.490206</td>\n",
       "      <td>0.248739</td>\n",
       "      <td>0.054110</td>\n",
       "      <td>0.112510</td>\n",
       "      <td>0.549887</td>\n",
       "      <td>0.272750</td>\n",
       "      <td>0.106001</td>\n",
       "      <td>...</td>\n",
       "      <td>0.712046</td>\n",
       "      <td>0.028131</td>\n",
       "      <td>-0.003911</td>\n",
       "      <td>0.665747</td>\n",
       "      <td>0.016084</td>\n",
       "      <td>0.020675</td>\n",
       "      <td>0.007568</td>\n",
       "      <td>0.031530</td>\n",
       "      <td>0.655631</td>\n",
       "      <td>0.036173</td>\n",
       "    </tr>\n",
       "    <tr>\n",
       "      <th>3</th>\n",
       "      <td>0.380017</td>\n",
       "      <td>0.136230</td>\n",
       "      <td>0.434827</td>\n",
       "      <td>0.101454</td>\n",
       "      <td>0.023312</td>\n",
       "      <td>0.169830</td>\n",
       "      <td>0.701221</td>\n",
       "      <td>0.103607</td>\n",
       "      <td>0.007574</td>\n",
       "      <td>0.081603</td>\n",
       "      <td>...</td>\n",
       "      <td>0.472581</td>\n",
       "      <td>0.243017</td>\n",
       "      <td>0.106347</td>\n",
       "      <td>0.634304</td>\n",
       "      <td>0.049879</td>\n",
       "      <td>0.680272</td>\n",
       "      <td>0.026364</td>\n",
       "      <td>0.006343</td>\n",
       "      <td>0.555752</td>\n",
       "      <td>0.006290</td>\n",
       "    </tr>\n",
       "    <tr>\n",
       "      <th>4</th>\n",
       "      <td>0.646442</td>\n",
       "      <td>0.735042</td>\n",
       "      <td>0.465067</td>\n",
       "      <td>0.230062</td>\n",
       "      <td>0.058986</td>\n",
       "      <td>0.009903</td>\n",
       "      <td>0.327829</td>\n",
       "      <td>-0.027733</td>\n",
       "      <td>0.144873</td>\n",
       "      <td>0.066432</td>\n",
       "      <td>...</td>\n",
       "      <td>0.313987</td>\n",
       "      <td>0.226307</td>\n",
       "      <td>0.423050</td>\n",
       "      <td>0.077070</td>\n",
       "      <td>0.186201</td>\n",
       "      <td>0.660955</td>\n",
       "      <td>0.115016</td>\n",
       "      <td>0.077359</td>\n",
       "      <td>0.708412</td>\n",
       "      <td>0.027674</td>\n",
       "    </tr>\n",
       "    <tr>\n",
       "      <th>5</th>\n",
       "      <td>0.024353</td>\n",
       "      <td>0.565936</td>\n",
       "      <td>0.457754</td>\n",
       "      <td>0.000835</td>\n",
       "      <td>0.072894</td>\n",
       "      <td>0.338199</td>\n",
       "      <td>0.655023</td>\n",
       "      <td>0.095840</td>\n",
       "      <td>0.680682</td>\n",
       "      <td>0.683856</td>\n",
       "      <td>...</td>\n",
       "      <td>0.499052</td>\n",
       "      <td>0.546820</td>\n",
       "      <td>0.557527</td>\n",
       "      <td>0.104970</td>\n",
       "      <td>0.145471</td>\n",
       "      <td>0.513996</td>\n",
       "      <td>0.373762</td>\n",
       "      <td>0.442693</td>\n",
       "      <td>0.156324</td>\n",
       "      <td>0.150466</td>\n",
       "    </tr>\n",
       "    <tr>\n",
       "      <th>6</th>\n",
       "      <td>0.712462</td>\n",
       "      <td>0.360147</td>\n",
       "      <td>0.029220</td>\n",
       "      <td>0.406882</td>\n",
       "      <td>0.398095</td>\n",
       "      <td>0.580884</td>\n",
       "      <td>0.029130</td>\n",
       "      <td>0.197747</td>\n",
       "      <td>0.312009</td>\n",
       "      <td>0.525640</td>\n",
       "      <td>...</td>\n",
       "      <td>0.280332</td>\n",
       "      <td>0.170417</td>\n",
       "      <td>0.082669</td>\n",
       "      <td>0.654767</td>\n",
       "      <td>0.378959</td>\n",
       "      <td>0.726244</td>\n",
       "      <td>0.734619</td>\n",
       "      <td>0.524153</td>\n",
       "      <td>0.268094</td>\n",
       "      <td>0.174564</td>\n",
       "    </tr>\n",
       "    <tr>\n",
       "      <th>7</th>\n",
       "      <td>0.544704</td>\n",
       "      <td>0.197069</td>\n",
       "      <td>0.192264</td>\n",
       "      <td>0.001080</td>\n",
       "      <td>0.622249</td>\n",
       "      <td>0.585917</td>\n",
       "      <td>0.149654</td>\n",
       "      <td>0.127057</td>\n",
       "      <td>0.466628</td>\n",
       "      <td>0.405276</td>\n",
       "      <td>...</td>\n",
       "      <td>0.282048</td>\n",
       "      <td>0.237454</td>\n",
       "      <td>0.011536</td>\n",
       "      <td>0.042436</td>\n",
       "      <td>0.145655</td>\n",
       "      <td>0.769188</td>\n",
       "      <td>0.018973</td>\n",
       "      <td>0.053022</td>\n",
       "      <td>0.520630</td>\n",
       "      <td>0.228498</td>\n",
       "    </tr>\n",
       "    <tr>\n",
       "      <th>8</th>\n",
       "      <td>0.032379</td>\n",
       "      <td>0.489273</td>\n",
       "      <td>0.025886</td>\n",
       "      <td>0.137195</td>\n",
       "      <td>0.063182</td>\n",
       "      <td>0.061796</td>\n",
       "      <td>0.689543</td>\n",
       "      <td>0.096492</td>\n",
       "      <td>0.417682</td>\n",
       "      <td>0.266571</td>\n",
       "      <td>...</td>\n",
       "      <td>0.205686</td>\n",
       "      <td>0.302298</td>\n",
       "      <td>0.023955</td>\n",
       "      <td>0.676401</td>\n",
       "      <td>0.592100</td>\n",
       "      <td>0.733841</td>\n",
       "      <td>0.124323</td>\n",
       "      <td>0.001651</td>\n",
       "      <td>0.413063</td>\n",
       "      <td>0.158162</td>\n",
       "    </tr>\n",
       "    <tr>\n",
       "      <th>9</th>\n",
       "      <td>0.445569</td>\n",
       "      <td>0.240564</td>\n",
       "      <td>0.048532</td>\n",
       "      <td>-0.025881</td>\n",
       "      <td>0.099617</td>\n",
       "      <td>0.002345</td>\n",
       "      <td>0.043624</td>\n",
       "      <td>0.088167</td>\n",
       "      <td>0.354678</td>\n",
       "      <td>0.513673</td>\n",
       "      <td>...</td>\n",
       "      <td>0.195204</td>\n",
       "      <td>0.055125</td>\n",
       "      <td>0.185960</td>\n",
       "      <td>0.693357</td>\n",
       "      <td>0.428937</td>\n",
       "      <td>0.646239</td>\n",
       "      <td>0.135563</td>\n",
       "      <td>0.034051</td>\n",
       "      <td>0.658853</td>\n",
       "      <td>0.667050</td>\n",
       "    </tr>\n",
       "    <tr>\n",
       "      <th>10</th>\n",
       "      <td>0.019421</td>\n",
       "      <td>0.054263</td>\n",
       "      <td>0.094389</td>\n",
       "      <td>0.369379</td>\n",
       "      <td>0.207172</td>\n",
       "      <td>0.099494</td>\n",
       "      <td>0.646186</td>\n",
       "      <td>0.742370</td>\n",
       "      <td>0.485232</td>\n",
       "      <td>0.115565</td>\n",
       "      <td>...</td>\n",
       "      <td>0.397263</td>\n",
       "      <td>0.358152</td>\n",
       "      <td>0.259178</td>\n",
       "      <td>0.494913</td>\n",
       "      <td>0.439824</td>\n",
       "      <td>0.466875</td>\n",
       "      <td>0.023216</td>\n",
       "      <td>0.180234</td>\n",
       "      <td>0.017143</td>\n",
       "      <td>0.473188</td>\n",
       "    </tr>\n",
       "    <tr>\n",
       "      <th>11</th>\n",
       "      <td>0.414435</td>\n",
       "      <td>0.179013</td>\n",
       "      <td>0.358174</td>\n",
       "      <td>0.482998</td>\n",
       "      <td>0.047933</td>\n",
       "      <td>0.194357</td>\n",
       "      <td>0.248590</td>\n",
       "      <td>0.574386</td>\n",
       "      <td>0.408828</td>\n",
       "      <td>0.030724</td>\n",
       "      <td>...</td>\n",
       "      <td>0.071596</td>\n",
       "      <td>0.108426</td>\n",
       "      <td>0.456707</td>\n",
       "      <td>0.695590</td>\n",
       "      <td>0.184739</td>\n",
       "      <td>0.121063</td>\n",
       "      <td>0.355790</td>\n",
       "      <td>0.145886</td>\n",
       "      <td>0.646273</td>\n",
       "      <td>0.332073</td>\n",
       "    </tr>\n",
       "    <tr>\n",
       "      <th>12</th>\n",
       "      <td>0.015945</td>\n",
       "      <td>0.108677</td>\n",
       "      <td>0.671885</td>\n",
       "      <td>0.579607</td>\n",
       "      <td>0.505129</td>\n",
       "      <td>0.147027</td>\n",
       "      <td>0.335932</td>\n",
       "      <td>0.380076</td>\n",
       "      <td>-0.000797</td>\n",
       "      <td>0.192509</td>\n",
       "      <td>...</td>\n",
       "      <td>0.260246</td>\n",
       "      <td>0.610899</td>\n",
       "      <td>0.098394</td>\n",
       "      <td>0.684007</td>\n",
       "      <td>0.486923</td>\n",
       "      <td>0.605306</td>\n",
       "      <td>0.156257</td>\n",
       "      <td>0.233626</td>\n",
       "      <td>0.473124</td>\n",
       "      <td>0.180413</td>\n",
       "    </tr>\n",
       "    <tr>\n",
       "      <th>13</th>\n",
       "      <td>0.039121</td>\n",
       "      <td>0.601936</td>\n",
       "      <td>0.005801</td>\n",
       "      <td>0.068328</td>\n",
       "      <td>0.126966</td>\n",
       "      <td>0.150084</td>\n",
       "      <td>0.728070</td>\n",
       "      <td>0.259963</td>\n",
       "      <td>0.160670</td>\n",
       "      <td>0.107789</td>\n",
       "      <td>...</td>\n",
       "      <td>0.629431</td>\n",
       "      <td>0.217004</td>\n",
       "      <td>0.742514</td>\n",
       "      <td>0.686499</td>\n",
       "      <td>0.126918</td>\n",
       "      <td>0.642272</td>\n",
       "      <td>0.689047</td>\n",
       "      <td>0.155980</td>\n",
       "      <td>0.012224</td>\n",
       "      <td>0.517027</td>\n",
       "    </tr>\n",
       "    <tr>\n",
       "      <th>14</th>\n",
       "      <td>0.041606</td>\n",
       "      <td>0.747158</td>\n",
       "      <td>0.121771</td>\n",
       "      <td>0.005852</td>\n",
       "      <td>0.715310</td>\n",
       "      <td>0.097309</td>\n",
       "      <td>0.662820</td>\n",
       "      <td>0.591456</td>\n",
       "      <td>0.007274</td>\n",
       "      <td>0.759846</td>\n",
       "      <td>...</td>\n",
       "      <td>0.381766</td>\n",
       "      <td>0.626938</td>\n",
       "      <td>0.572756</td>\n",
       "      <td>0.644604</td>\n",
       "      <td>0.046474</td>\n",
       "      <td>0.523793</td>\n",
       "      <td>0.159744</td>\n",
       "      <td>0.672048</td>\n",
       "      <td>0.576272</td>\n",
       "      <td>0.242411</td>\n",
       "    </tr>\n",
       "    <tr>\n",
       "      <th>15</th>\n",
       "      <td>0.137854</td>\n",
       "      <td>0.680063</td>\n",
       "      <td>0.223882</td>\n",
       "      <td>0.044950</td>\n",
       "      <td>0.226527</td>\n",
       "      <td>0.651197</td>\n",
       "      <td>0.612551</td>\n",
       "      <td>0.185499</td>\n",
       "      <td>0.066304</td>\n",
       "      <td>0.330447</td>\n",
       "      <td>...</td>\n",
       "      <td>0.569190</td>\n",
       "      <td>0.239211</td>\n",
       "      <td>0.346561</td>\n",
       "      <td>0.437024</td>\n",
       "      <td>0.172962</td>\n",
       "      <td>0.275626</td>\n",
       "      <td>0.596109</td>\n",
       "      <td>0.518424</td>\n",
       "      <td>0.022449</td>\n",
       "      <td>0.017080</td>\n",
       "    </tr>\n",
       "    <tr>\n",
       "      <th>16</th>\n",
       "      <td>0.422101</td>\n",
       "      <td>0.093496</td>\n",
       "      <td>0.024403</td>\n",
       "      <td>0.220302</td>\n",
       "      <td>0.650434</td>\n",
       "      <td>0.649940</td>\n",
       "      <td>0.662303</td>\n",
       "      <td>0.042878</td>\n",
       "      <td>0.009013</td>\n",
       "      <td>0.482105</td>\n",
       "      <td>...</td>\n",
       "      <td>0.331364</td>\n",
       "      <td>0.147668</td>\n",
       "      <td>0.183094</td>\n",
       "      <td>0.076149</td>\n",
       "      <td>0.163087</td>\n",
       "      <td>0.478145</td>\n",
       "      <td>0.209615</td>\n",
       "      <td>0.333340</td>\n",
       "      <td>0.358650</td>\n",
       "      <td>0.244537</td>\n",
       "    </tr>\n",
       "    <tr>\n",
       "      <th>17</th>\n",
       "      <td>0.543140</td>\n",
       "      <td>0.020734</td>\n",
       "      <td>0.420817</td>\n",
       "      <td>0.223240</td>\n",
       "      <td>0.123510</td>\n",
       "      <td>0.422384</td>\n",
       "      <td>0.429703</td>\n",
       "      <td>0.216500</td>\n",
       "      <td>0.445817</td>\n",
       "      <td>0.080180</td>\n",
       "      <td>...</td>\n",
       "      <td>0.420258</td>\n",
       "      <td>0.092164</td>\n",
       "      <td>0.478615</td>\n",
       "      <td>0.639062</td>\n",
       "      <td>0.678834</td>\n",
       "      <td>0.460301</td>\n",
       "      <td>0.185746</td>\n",
       "      <td>0.190449</td>\n",
       "      <td>0.042756</td>\n",
       "      <td>0.131938</td>\n",
       "    </tr>\n",
       "    <tr>\n",
       "      <th>18</th>\n",
       "      <td>0.067702</td>\n",
       "      <td>0.643292</td>\n",
       "      <td>0.130089</td>\n",
       "      <td>0.190655</td>\n",
       "      <td>0.136622</td>\n",
       "      <td>0.210583</td>\n",
       "      <td>0.145614</td>\n",
       "      <td>0.121950</td>\n",
       "      <td>0.695117</td>\n",
       "      <td>0.125703</td>\n",
       "      <td>...</td>\n",
       "      <td>0.513586</td>\n",
       "      <td>0.305904</td>\n",
       "      <td>0.149963</td>\n",
       "      <td>0.675476</td>\n",
       "      <td>0.731779</td>\n",
       "      <td>0.279513</td>\n",
       "      <td>0.119202</td>\n",
       "      <td>0.497470</td>\n",
       "      <td>0.054863</td>\n",
       "      <td>0.799010</td>\n",
       "    </tr>\n",
       "    <tr>\n",
       "      <th>19</th>\n",
       "      <td>0.001790</td>\n",
       "      <td>0.042612</td>\n",
       "      <td>0.749285</td>\n",
       "      <td>0.097649</td>\n",
       "      <td>0.083908</td>\n",
       "      <td>0.546137</td>\n",
       "      <td>0.538166</td>\n",
       "      <td>0.556698</td>\n",
       "      <td>0.091342</td>\n",
       "      <td>0.598426</td>\n",
       "      <td>...</td>\n",
       "      <td>0.438227</td>\n",
       "      <td>0.721067</td>\n",
       "      <td>0.041855</td>\n",
       "      <td>0.541568</td>\n",
       "      <td>0.795066</td>\n",
       "      <td>0.251078</td>\n",
       "      <td>0.068386</td>\n",
       "      <td>0.148078</td>\n",
       "      <td>0.004854</td>\n",
       "      <td>0.775544</td>\n",
       "    </tr>\n",
       "    <tr>\n",
       "      <th>20</th>\n",
       "      <td>0.040417</td>\n",
       "      <td>0.675937</td>\n",
       "      <td>0.187111</td>\n",
       "      <td>0.732801</td>\n",
       "      <td>0.217212</td>\n",
       "      <td>0.277518</td>\n",
       "      <td>0.755951</td>\n",
       "      <td>0.409229</td>\n",
       "      <td>0.049762</td>\n",
       "      <td>0.060964</td>\n",
       "      <td>...</td>\n",
       "      <td>0.032035</td>\n",
       "      <td>0.678115</td>\n",
       "      <td>0.193450</td>\n",
       "      <td>0.220868</td>\n",
       "      <td>0.128890</td>\n",
       "      <td>0.129530</td>\n",
       "      <td>0.710570</td>\n",
       "      <td>0.008562</td>\n",
       "      <td>0.115850</td>\n",
       "      <td>0.749959</td>\n",
       "    </tr>\n",
       "  </tbody>\n",
       "</table>\n",
       "<p>21 rows × 44 columns</p>\n",
       "</div>"
      ],
      "text/plain": [
       "          0         1         3         5         8         10        11  \\\n",
       "0   0.106301  0.153197  0.438527  0.086138  0.495842  0.004548  0.031345   \n",
       "1   0.324237  0.218598  0.407922  0.665617  0.000414  0.299781  0.197464   \n",
       "2   0.545691  0.204699  0.463860  0.490206  0.248739  0.054110  0.112510   \n",
       "3   0.380017  0.136230  0.434827  0.101454  0.023312  0.169830  0.701221   \n",
       "4   0.646442  0.735042  0.465067  0.230062  0.058986  0.009903  0.327829   \n",
       "5   0.024353  0.565936  0.457754  0.000835  0.072894  0.338199  0.655023   \n",
       "6   0.712462  0.360147  0.029220  0.406882  0.398095  0.580884  0.029130   \n",
       "7   0.544704  0.197069  0.192264  0.001080  0.622249  0.585917  0.149654   \n",
       "8   0.032379  0.489273  0.025886  0.137195  0.063182  0.061796  0.689543   \n",
       "9   0.445569  0.240564  0.048532 -0.025881  0.099617  0.002345  0.043624   \n",
       "10  0.019421  0.054263  0.094389  0.369379  0.207172  0.099494  0.646186   \n",
       "11  0.414435  0.179013  0.358174  0.482998  0.047933  0.194357  0.248590   \n",
       "12  0.015945  0.108677  0.671885  0.579607  0.505129  0.147027  0.335932   \n",
       "13  0.039121  0.601936  0.005801  0.068328  0.126966  0.150084  0.728070   \n",
       "14  0.041606  0.747158  0.121771  0.005852  0.715310  0.097309  0.662820   \n",
       "15  0.137854  0.680063  0.223882  0.044950  0.226527  0.651197  0.612551   \n",
       "16  0.422101  0.093496  0.024403  0.220302  0.650434  0.649940  0.662303   \n",
       "17  0.543140  0.020734  0.420817  0.223240  0.123510  0.422384  0.429703   \n",
       "18  0.067702  0.643292  0.130089  0.190655  0.136622  0.210583  0.145614   \n",
       "19  0.001790  0.042612  0.749285  0.097649  0.083908  0.546137  0.538166   \n",
       "20  0.040417  0.675937  0.187111  0.732801  0.217212  0.277518  0.755951   \n",
       "\n",
       "          15        17        20  ...        69        70        72        73  \\\n",
       "0   0.397616  0.262176  0.066762  ...  0.154774  0.269714  0.033851  0.090694   \n",
       "1   0.637985  0.092034  0.188123  ...  0.675754  0.055036  0.017054  0.689302   \n",
       "2   0.549887  0.272750  0.106001  ...  0.712046  0.028131 -0.003911  0.665747   \n",
       "3   0.103607  0.007574  0.081603  ...  0.472581  0.243017  0.106347  0.634304   \n",
       "4  -0.027733  0.144873  0.066432  ...  0.313987  0.226307  0.423050  0.077070   \n",
       "5   0.095840  0.680682  0.683856  ...  0.499052  0.546820  0.557527  0.104970   \n",
       "6   0.197747  0.312009  0.525640  ...  0.280332  0.170417  0.082669  0.654767   \n",
       "7   0.127057  0.466628  0.405276  ...  0.282048  0.237454  0.011536  0.042436   \n",
       "8   0.096492  0.417682  0.266571  ...  0.205686  0.302298  0.023955  0.676401   \n",
       "9   0.088167  0.354678  0.513673  ...  0.195204  0.055125  0.185960  0.693357   \n",
       "10  0.742370  0.485232  0.115565  ...  0.397263  0.358152  0.259178  0.494913   \n",
       "11  0.574386  0.408828  0.030724  ...  0.071596  0.108426  0.456707  0.695590   \n",
       "12  0.380076 -0.000797  0.192509  ...  0.260246  0.610899  0.098394  0.684007   \n",
       "13  0.259963  0.160670  0.107789  ...  0.629431  0.217004  0.742514  0.686499   \n",
       "14  0.591456  0.007274  0.759846  ...  0.381766  0.626938  0.572756  0.644604   \n",
       "15  0.185499  0.066304  0.330447  ...  0.569190  0.239211  0.346561  0.437024   \n",
       "16  0.042878  0.009013  0.482105  ...  0.331364  0.147668  0.183094  0.076149   \n",
       "17  0.216500  0.445817  0.080180  ...  0.420258  0.092164  0.478615  0.639062   \n",
       "18  0.121950  0.695117  0.125703  ...  0.513586  0.305904  0.149963  0.675476   \n",
       "19  0.556698  0.091342  0.598426  ...  0.438227  0.721067  0.041855  0.541568   \n",
       "20  0.409229  0.049762  0.060964  ...  0.032035  0.678115  0.193450  0.220868   \n",
       "\n",
       "          77        78        89        91        95        96  \n",
       "0   0.608679  0.098833  0.039306  0.421596  0.798155  0.418635  \n",
       "1   0.091634  0.650503  0.187063  0.054472  0.265095  0.519023  \n",
       "2   0.016084  0.020675  0.007568  0.031530  0.655631  0.036173  \n",
       "3   0.049879  0.680272  0.026364  0.006343  0.555752  0.006290  \n",
       "4   0.186201  0.660955  0.115016  0.077359  0.708412  0.027674  \n",
       "5   0.145471  0.513996  0.373762  0.442693  0.156324  0.150466  \n",
       "6   0.378959  0.726244  0.734619  0.524153  0.268094  0.174564  \n",
       "7   0.145655  0.769188  0.018973  0.053022  0.520630  0.228498  \n",
       "8   0.592100  0.733841  0.124323  0.001651  0.413063  0.158162  \n",
       "9   0.428937  0.646239  0.135563  0.034051  0.658853  0.667050  \n",
       "10  0.439824  0.466875  0.023216  0.180234  0.017143  0.473188  \n",
       "11  0.184739  0.121063  0.355790  0.145886  0.646273  0.332073  \n",
       "12  0.486923  0.605306  0.156257  0.233626  0.473124  0.180413  \n",
       "13  0.126918  0.642272  0.689047  0.155980  0.012224  0.517027  \n",
       "14  0.046474  0.523793  0.159744  0.672048  0.576272  0.242411  \n",
       "15  0.172962  0.275626  0.596109  0.518424  0.022449  0.017080  \n",
       "16  0.163087  0.478145  0.209615  0.333340  0.358650  0.244537  \n",
       "17  0.678834  0.460301  0.185746  0.190449  0.042756  0.131938  \n",
       "18  0.731779  0.279513  0.119202  0.497470  0.054863  0.799010  \n",
       "19  0.795066  0.251078  0.068386  0.148078  0.004854  0.775544  \n",
       "20  0.128890  0.129530  0.710570  0.008562  0.115850  0.749959  \n",
       "\n",
       "[21 rows x 44 columns]"
      ]
     },
     "execution_count": 96,
     "metadata": {},
     "output_type": "execute_result"
    }
   ],
   "source": [
    "r[parent_idx].head(NUM_TIME_STEPS)"
   ]
  },
  {
   "cell_type": "code",
   "execution_count": 97,
   "metadata": {},
   "outputs": [
    {
     "data": {
      "text/html": [
       "<div>\n",
       "<style scoped>\n",
       "    .dataframe tbody tr th:only-of-type {\n",
       "        vertical-align: middle;\n",
       "    }\n",
       "\n",
       "    .dataframe tbody tr th {\n",
       "        vertical-align: top;\n",
       "    }\n",
       "\n",
       "    .dataframe thead th {\n",
       "        text-align: right;\n",
       "    }\n",
       "</style>\n",
       "<table border=\"1\" class=\"dataframe\">\n",
       "  <thead>\n",
       "    <tr style=\"text-align: right;\">\n",
       "      <th></th>\n",
       "      <th>0</th>\n",
       "      <th>1</th>\n",
       "      <th>3</th>\n",
       "      <th>5</th>\n",
       "      <th>8</th>\n",
       "      <th>10</th>\n",
       "      <th>11</th>\n",
       "      <th>15</th>\n",
       "      <th>17</th>\n",
       "      <th>20</th>\n",
       "      <th>...</th>\n",
       "      <th>69</th>\n",
       "      <th>70</th>\n",
       "      <th>72</th>\n",
       "      <th>73</th>\n",
       "      <th>77</th>\n",
       "      <th>78</th>\n",
       "      <th>89</th>\n",
       "      <th>91</th>\n",
       "      <th>95</th>\n",
       "      <th>96</th>\n",
       "    </tr>\n",
       "  </thead>\n",
       "  <tbody>\n",
       "    <tr>\n",
       "      <th>0</th>\n",
       "      <td>0.165539</td>\n",
       "      <td>0.180589</td>\n",
       "      <td>0.560011</td>\n",
       "      <td>0.079586</td>\n",
       "      <td>0.508716</td>\n",
       "      <td>0.019554</td>\n",
       "      <td>0.027199</td>\n",
       "      <td>0.082960</td>\n",
       "      <td>0.224689</td>\n",
       "      <td>0.026477</td>\n",
       "      <td>...</td>\n",
       "      <td>0.169828</td>\n",
       "      <td>0.254118</td>\n",
       "      <td>0.061095</td>\n",
       "      <td>0.114898</td>\n",
       "      <td>0.557888</td>\n",
       "      <td>0.069743</td>\n",
       "      <td>0.067647</td>\n",
       "      <td>0.418742</td>\n",
       "      <td>0.649797</td>\n",
       "      <td>0.372000</td>\n",
       "    </tr>\n",
       "    <tr>\n",
       "      <th>1</th>\n",
       "      <td>0.312090</td>\n",
       "      <td>0.141910</td>\n",
       "      <td>0.471823</td>\n",
       "      <td>0.893201</td>\n",
       "      <td>0.038851</td>\n",
       "      <td>0.425922</td>\n",
       "      <td>0.273433</td>\n",
       "      <td>0.398319</td>\n",
       "      <td>0.214893</td>\n",
       "      <td>0.216249</td>\n",
       "      <td>...</td>\n",
       "      <td>0.620273</td>\n",
       "      <td>0.030791</td>\n",
       "      <td>0.045228</td>\n",
       "      <td>0.609454</td>\n",
       "      <td>0.064538</td>\n",
       "      <td>0.813326</td>\n",
       "      <td>0.183897</td>\n",
       "      <td>0.032882</td>\n",
       "      <td>0.301571</td>\n",
       "      <td>0.585549</td>\n",
       "    </tr>\n",
       "    <tr>\n",
       "      <th>2</th>\n",
       "      <td>0.590390</td>\n",
       "      <td>0.115723</td>\n",
       "      <td>0.387907</td>\n",
       "      <td>0.432077</td>\n",
       "      <td>0.041046</td>\n",
       "      <td>0.053468</td>\n",
       "      <td>0.135569</td>\n",
       "      <td>0.489693</td>\n",
       "      <td>0.274090</td>\n",
       "      <td>0.033111</td>\n",
       "      <td>...</td>\n",
       "      <td>0.689954</td>\n",
       "      <td>0.056324</td>\n",
       "      <td>0.004058</td>\n",
       "      <td>0.849022</td>\n",
       "      <td>0.002543</td>\n",
       "      <td>0.049414</td>\n",
       "      <td>0.042005</td>\n",
       "      <td>0.049530</td>\n",
       "      <td>0.787071</td>\n",
       "      <td>0.075389</td>\n",
       "    </tr>\n",
       "    <tr>\n",
       "      <th>3</th>\n",
       "      <td>0.410304</td>\n",
       "      <td>0.132296</td>\n",
       "      <td>0.455815</td>\n",
       "      <td>0.303180</td>\n",
       "      <td>0.006238</td>\n",
       "      <td>0.013363</td>\n",
       "      <td>0.761615</td>\n",
       "      <td>0.072770</td>\n",
       "      <td>0.015249</td>\n",
       "      <td>0.079311</td>\n",
       "      <td>...</td>\n",
       "      <td>0.413920</td>\n",
       "      <td>0.062084</td>\n",
       "      <td>0.184941</td>\n",
       "      <td>0.793252</td>\n",
       "      <td>0.048464</td>\n",
       "      <td>0.676961</td>\n",
       "      <td>0.045832</td>\n",
       "      <td>0.009768</td>\n",
       "      <td>0.632848</td>\n",
       "      <td>0.000535</td>\n",
       "    </tr>\n",
       "    <tr>\n",
       "      <th>4</th>\n",
       "      <td>0.824310</td>\n",
       "      <td>0.772086</td>\n",
       "      <td>0.405190</td>\n",
       "      <td>0.377347</td>\n",
       "      <td>0.065725</td>\n",
       "      <td>0.001102</td>\n",
       "      <td>0.669013</td>\n",
       "      <td>0.022438</td>\n",
       "      <td>0.052371</td>\n",
       "      <td>0.038634</td>\n",
       "      <td>...</td>\n",
       "      <td>0.252905</td>\n",
       "      <td>0.176472</td>\n",
       "      <td>0.387883</td>\n",
       "      <td>0.195963</td>\n",
       "      <td>0.131835</td>\n",
       "      <td>0.840921</td>\n",
       "      <td>0.098045</td>\n",
       "      <td>0.098564</td>\n",
       "      <td>0.748598</td>\n",
       "      <td>0.157358</td>\n",
       "    </tr>\n",
       "    <tr>\n",
       "      <th>5</th>\n",
       "      <td>0.034440</td>\n",
       "      <td>0.596945</td>\n",
       "      <td>0.530159</td>\n",
       "      <td>0.005760</td>\n",
       "      <td>0.050265</td>\n",
       "      <td>0.111564</td>\n",
       "      <td>0.701873</td>\n",
       "      <td>0.053790</td>\n",
       "      <td>0.746340</td>\n",
       "      <td>0.671955</td>\n",
       "      <td>...</td>\n",
       "      <td>0.585836</td>\n",
       "      <td>0.684460</td>\n",
       "      <td>0.517849</td>\n",
       "      <td>0.087319</td>\n",
       "      <td>0.194498</td>\n",
       "      <td>0.484446</td>\n",
       "      <td>0.481704</td>\n",
       "      <td>0.390982</td>\n",
       "      <td>0.167465</td>\n",
       "      <td>0.157259</td>\n",
       "    </tr>\n",
       "    <tr>\n",
       "      <th>6</th>\n",
       "      <td>0.627490</td>\n",
       "      <td>0.390529</td>\n",
       "      <td>0.017829</td>\n",
       "      <td>0.388743</td>\n",
       "      <td>0.408687</td>\n",
       "      <td>0.469491</td>\n",
       "      <td>0.099888</td>\n",
       "      <td>0.213590</td>\n",
       "      <td>0.283055</td>\n",
       "      <td>0.704743</td>\n",
       "      <td>...</td>\n",
       "      <td>0.359900</td>\n",
       "      <td>0.028204</td>\n",
       "      <td>0.119546</td>\n",
       "      <td>0.807657</td>\n",
       "      <td>0.150415</td>\n",
       "      <td>0.683750</td>\n",
       "      <td>0.842857</td>\n",
       "      <td>0.598306</td>\n",
       "      <td>0.292341</td>\n",
       "      <td>0.102462</td>\n",
       "    </tr>\n",
       "    <tr>\n",
       "      <th>7</th>\n",
       "      <td>0.496774</td>\n",
       "      <td>0.256222</td>\n",
       "      <td>0.191654</td>\n",
       "      <td>0.048578</td>\n",
       "      <td>0.444043</td>\n",
       "      <td>0.684467</td>\n",
       "      <td>0.051948</td>\n",
       "      <td>0.038153</td>\n",
       "      <td>0.755667</td>\n",
       "      <td>0.504756</td>\n",
       "      <td>...</td>\n",
       "      <td>0.326704</td>\n",
       "      <td>0.228026</td>\n",
       "      <td>0.021498</td>\n",
       "      <td>0.038564</td>\n",
       "      <td>0.180456</td>\n",
       "      <td>0.856892</td>\n",
       "      <td>0.025505</td>\n",
       "      <td>0.088971</td>\n",
       "      <td>0.683340</td>\n",
       "      <td>0.134511</td>\n",
       "    </tr>\n",
       "    <tr>\n",
       "      <th>8</th>\n",
       "      <td>0.015199</td>\n",
       "      <td>0.659832</td>\n",
       "      <td>0.049455</td>\n",
       "      <td>0.011542</td>\n",
       "      <td>0.184373</td>\n",
       "      <td>0.071314</td>\n",
       "      <td>0.724374</td>\n",
       "      <td>0.076524</td>\n",
       "      <td>0.096145</td>\n",
       "      <td>0.201401</td>\n",
       "      <td>...</td>\n",
       "      <td>0.294777</td>\n",
       "      <td>0.382825</td>\n",
       "      <td>0.008896</td>\n",
       "      <td>0.689842</td>\n",
       "      <td>0.811688</td>\n",
       "      <td>0.786941</td>\n",
       "      <td>0.105239</td>\n",
       "      <td>0.000469</td>\n",
       "      <td>0.395696</td>\n",
       "      <td>0.161586</td>\n",
       "    </tr>\n",
       "    <tr>\n",
       "      <th>9</th>\n",
       "      <td>0.684259</td>\n",
       "      <td>0.244350</td>\n",
       "      <td>0.081378</td>\n",
       "      <td>0.009457</td>\n",
       "      <td>0.049413</td>\n",
       "      <td>0.001550</td>\n",
       "      <td>0.450520</td>\n",
       "      <td>0.083016</td>\n",
       "      <td>0.434325</td>\n",
       "      <td>0.588546</td>\n",
       "      <td>...</td>\n",
       "      <td>0.256642</td>\n",
       "      <td>0.049224</td>\n",
       "      <td>0.171368</td>\n",
       "      <td>0.736846</td>\n",
       "      <td>0.516359</td>\n",
       "      <td>0.704210</td>\n",
       "      <td>0.208304</td>\n",
       "      <td>0.045683</td>\n",
       "      <td>0.690326</td>\n",
       "      <td>0.695327</td>\n",
       "    </tr>\n",
       "    <tr>\n",
       "      <th>10</th>\n",
       "      <td>0.011594</td>\n",
       "      <td>0.018539</td>\n",
       "      <td>0.097808</td>\n",
       "      <td>0.130702</td>\n",
       "      <td>0.297185</td>\n",
       "      <td>0.106141</td>\n",
       "      <td>0.543324</td>\n",
       "      <td>0.770673</td>\n",
       "      <td>0.547358</td>\n",
       "      <td>0.693896</td>\n",
       "      <td>...</td>\n",
       "      <td>0.304937</td>\n",
       "      <td>0.484994</td>\n",
       "      <td>0.059919</td>\n",
       "      <td>0.517159</td>\n",
       "      <td>0.429439</td>\n",
       "      <td>0.442752</td>\n",
       "      <td>0.018245</td>\n",
       "      <td>0.293251</td>\n",
       "      <td>0.047014</td>\n",
       "      <td>0.528895</td>\n",
       "    </tr>\n",
       "    <tr>\n",
       "      <th>11</th>\n",
       "      <td>0.405849</td>\n",
       "      <td>0.266258</td>\n",
       "      <td>0.393013</td>\n",
       "      <td>0.401377</td>\n",
       "      <td>0.057383</td>\n",
       "      <td>0.177165</td>\n",
       "      <td>0.182072</td>\n",
       "      <td>0.683405</td>\n",
       "      <td>0.562467</td>\n",
       "      <td>0.023964</td>\n",
       "      <td>...</td>\n",
       "      <td>0.019952</td>\n",
       "      <td>0.150613</td>\n",
       "      <td>0.183043</td>\n",
       "      <td>0.723273</td>\n",
       "      <td>0.178646</td>\n",
       "      <td>0.225180</td>\n",
       "      <td>0.551480</td>\n",
       "      <td>0.110304</td>\n",
       "      <td>0.723270</td>\n",
       "      <td>0.420215</td>\n",
       "    </tr>\n",
       "    <tr>\n",
       "      <th>12</th>\n",
       "      <td>0.018716</td>\n",
       "      <td>0.150925</td>\n",
       "      <td>0.826541</td>\n",
       "      <td>0.573314</td>\n",
       "      <td>0.738052</td>\n",
       "      <td>0.094894</td>\n",
       "      <td>0.484512</td>\n",
       "      <td>0.447497</td>\n",
       "      <td>0.020804</td>\n",
       "      <td>0.277086</td>\n",
       "      <td>...</td>\n",
       "      <td>0.294987</td>\n",
       "      <td>0.680607</td>\n",
       "      <td>0.094984</td>\n",
       "      <td>0.766954</td>\n",
       "      <td>0.592115</td>\n",
       "      <td>0.671526</td>\n",
       "      <td>0.198958</td>\n",
       "      <td>0.175552</td>\n",
       "      <td>0.470867</td>\n",
       "      <td>0.297740</td>\n",
       "    </tr>\n",
       "    <tr>\n",
       "      <th>13</th>\n",
       "      <td>0.025692</td>\n",
       "      <td>0.633779</td>\n",
       "      <td>0.019677</td>\n",
       "      <td>0.096868</td>\n",
       "      <td>0.103531</td>\n",
       "      <td>0.122872</td>\n",
       "      <td>0.646163</td>\n",
       "      <td>0.228523</td>\n",
       "      <td>0.019284</td>\n",
       "      <td>0.141323</td>\n",
       "      <td>...</td>\n",
       "      <td>0.678417</td>\n",
       "      <td>0.183328</td>\n",
       "      <td>0.691776</td>\n",
       "      <td>0.767019</td>\n",
       "      <td>0.160439</td>\n",
       "      <td>0.652672</td>\n",
       "      <td>0.782490</td>\n",
       "      <td>0.141708</td>\n",
       "      <td>0.012605</td>\n",
       "      <td>0.543229</td>\n",
       "    </tr>\n",
       "    <tr>\n",
       "      <th>14</th>\n",
       "      <td>0.010869</td>\n",
       "      <td>0.965873</td>\n",
       "      <td>0.163792</td>\n",
       "      <td>0.005691</td>\n",
       "      <td>0.222739</td>\n",
       "      <td>0.033170</td>\n",
       "      <td>0.916864</td>\n",
       "      <td>0.443875</td>\n",
       "      <td>0.002088</td>\n",
       "      <td>0.729431</td>\n",
       "      <td>...</td>\n",
       "      <td>0.466956</td>\n",
       "      <td>0.541363</td>\n",
       "      <td>0.574146</td>\n",
       "      <td>0.684082</td>\n",
       "      <td>0.034192</td>\n",
       "      <td>0.588056</td>\n",
       "      <td>0.228098</td>\n",
       "      <td>0.813183</td>\n",
       "      <td>0.627277</td>\n",
       "      <td>0.249391</td>\n",
       "    </tr>\n",
       "    <tr>\n",
       "      <th>15</th>\n",
       "      <td>0.105249</td>\n",
       "      <td>0.737027</td>\n",
       "      <td>0.201782</td>\n",
       "      <td>0.071337</td>\n",
       "      <td>0.175838</td>\n",
       "      <td>0.532108</td>\n",
       "      <td>0.713217</td>\n",
       "      <td>0.709000</td>\n",
       "      <td>0.067497</td>\n",
       "      <td>0.577556</td>\n",
       "      <td>...</td>\n",
       "      <td>0.790193</td>\n",
       "      <td>0.061182</td>\n",
       "      <td>0.515313</td>\n",
       "      <td>0.440232</td>\n",
       "      <td>0.224194</td>\n",
       "      <td>0.273189</td>\n",
       "      <td>0.682956</td>\n",
       "      <td>0.516994</td>\n",
       "      <td>0.004286</td>\n",
       "      <td>0.033704</td>\n",
       "    </tr>\n",
       "    <tr>\n",
       "      <th>16</th>\n",
       "      <td>0.372740</td>\n",
       "      <td>0.114019</td>\n",
       "      <td>0.028828</td>\n",
       "      <td>0.213398</td>\n",
       "      <td>0.717595</td>\n",
       "      <td>0.617121</td>\n",
       "      <td>0.923850</td>\n",
       "      <td>0.016500</td>\n",
       "      <td>0.094327</td>\n",
       "      <td>0.764694</td>\n",
       "      <td>...</td>\n",
       "      <td>0.361809</td>\n",
       "      <td>0.254673</td>\n",
       "      <td>0.248300</td>\n",
       "      <td>0.208787</td>\n",
       "      <td>0.099226</td>\n",
       "      <td>0.546627</td>\n",
       "      <td>0.200187</td>\n",
       "      <td>0.389853</td>\n",
       "      <td>0.470126</td>\n",
       "      <td>0.196264</td>\n",
       "    </tr>\n",
       "    <tr>\n",
       "      <th>17</th>\n",
       "      <td>0.557406</td>\n",
       "      <td>0.097567</td>\n",
       "      <td>0.446434</td>\n",
       "      <td>0.165479</td>\n",
       "      <td>0.332412</td>\n",
       "      <td>0.447448</td>\n",
       "      <td>0.637943</td>\n",
       "      <td>0.312798</td>\n",
       "      <td>0.387145</td>\n",
       "      <td>0.182742</td>\n",
       "      <td>...</td>\n",
       "      <td>0.514484</td>\n",
       "      <td>0.143725</td>\n",
       "      <td>0.450256</td>\n",
       "      <td>0.793731</td>\n",
       "      <td>0.860436</td>\n",
       "      <td>0.350514</td>\n",
       "      <td>0.109386</td>\n",
       "      <td>0.272949</td>\n",
       "      <td>0.038732</td>\n",
       "      <td>0.121541</td>\n",
       "    </tr>\n",
       "    <tr>\n",
       "      <th>18</th>\n",
       "      <td>0.050136</td>\n",
       "      <td>0.708005</td>\n",
       "      <td>0.145213</td>\n",
       "      <td>0.150367</td>\n",
       "      <td>0.136582</td>\n",
       "      <td>0.223490</td>\n",
       "      <td>0.314590</td>\n",
       "      <td>0.110210</td>\n",
       "      <td>0.133880</td>\n",
       "      <td>0.127255</td>\n",
       "      <td>...</td>\n",
       "      <td>0.482188</td>\n",
       "      <td>0.035601</td>\n",
       "      <td>0.141443</td>\n",
       "      <td>0.777315</td>\n",
       "      <td>0.771015</td>\n",
       "      <td>0.275819</td>\n",
       "      <td>0.085676</td>\n",
       "      <td>0.674605</td>\n",
       "      <td>0.024203</td>\n",
       "      <td>0.627334</td>\n",
       "    </tr>\n",
       "    <tr>\n",
       "      <th>19</th>\n",
       "      <td>0.001668</td>\n",
       "      <td>0.048874</td>\n",
       "      <td>0.780460</td>\n",
       "      <td>0.020860</td>\n",
       "      <td>0.062573</td>\n",
       "      <td>0.513461</td>\n",
       "      <td>0.193942</td>\n",
       "      <td>0.897598</td>\n",
       "      <td>0.362912</td>\n",
       "      <td>0.690286</td>\n",
       "      <td>...</td>\n",
       "      <td>0.578494</td>\n",
       "      <td>0.720098</td>\n",
       "      <td>0.019428</td>\n",
       "      <td>0.436816</td>\n",
       "      <td>0.711740</td>\n",
       "      <td>0.273095</td>\n",
       "      <td>0.045435</td>\n",
       "      <td>0.372729</td>\n",
       "      <td>0.013245</td>\n",
       "      <td>0.677055</td>\n",
       "    </tr>\n",
       "    <tr>\n",
       "      <th>20</th>\n",
       "      <td>0.039332</td>\n",
       "      <td>0.719018</td>\n",
       "      <td>0.166088</td>\n",
       "      <td>0.648760</td>\n",
       "      <td>0.423653</td>\n",
       "      <td>0.628031</td>\n",
       "      <td>0.692719</td>\n",
       "      <td>0.773762</td>\n",
       "      <td>0.037649</td>\n",
       "      <td>0.552806</td>\n",
       "      <td>...</td>\n",
       "      <td>0.011580</td>\n",
       "      <td>0.817837</td>\n",
       "      <td>0.254484</td>\n",
       "      <td>0.250932</td>\n",
       "      <td>0.101007</td>\n",
       "      <td>0.151155</td>\n",
       "      <td>0.695618</td>\n",
       "      <td>0.011269</td>\n",
       "      <td>0.101566</td>\n",
       "      <td>0.667994</td>\n",
       "    </tr>\n",
       "  </tbody>\n",
       "</table>\n",
       "<p>21 rows × 44 columns</p>\n",
       "</div>"
      ],
      "text/plain": [
       "          0         1         3         5         8         10        11  \\\n",
       "0   0.165539  0.180589  0.560011  0.079586  0.508716  0.019554  0.027199   \n",
       "1   0.312090  0.141910  0.471823  0.893201  0.038851  0.425922  0.273433   \n",
       "2   0.590390  0.115723  0.387907  0.432077  0.041046  0.053468  0.135569   \n",
       "3   0.410304  0.132296  0.455815  0.303180  0.006238  0.013363  0.761615   \n",
       "4   0.824310  0.772086  0.405190  0.377347  0.065725  0.001102  0.669013   \n",
       "5   0.034440  0.596945  0.530159  0.005760  0.050265  0.111564  0.701873   \n",
       "6   0.627490  0.390529  0.017829  0.388743  0.408687  0.469491  0.099888   \n",
       "7   0.496774  0.256222  0.191654  0.048578  0.444043  0.684467  0.051948   \n",
       "8   0.015199  0.659832  0.049455  0.011542  0.184373  0.071314  0.724374   \n",
       "9   0.684259  0.244350  0.081378  0.009457  0.049413  0.001550  0.450520   \n",
       "10  0.011594  0.018539  0.097808  0.130702  0.297185  0.106141  0.543324   \n",
       "11  0.405849  0.266258  0.393013  0.401377  0.057383  0.177165  0.182072   \n",
       "12  0.018716  0.150925  0.826541  0.573314  0.738052  0.094894  0.484512   \n",
       "13  0.025692  0.633779  0.019677  0.096868  0.103531  0.122872  0.646163   \n",
       "14  0.010869  0.965873  0.163792  0.005691  0.222739  0.033170  0.916864   \n",
       "15  0.105249  0.737027  0.201782  0.071337  0.175838  0.532108  0.713217   \n",
       "16  0.372740  0.114019  0.028828  0.213398  0.717595  0.617121  0.923850   \n",
       "17  0.557406  0.097567  0.446434  0.165479  0.332412  0.447448  0.637943   \n",
       "18  0.050136  0.708005  0.145213  0.150367  0.136582  0.223490  0.314590   \n",
       "19  0.001668  0.048874  0.780460  0.020860  0.062573  0.513461  0.193942   \n",
       "20  0.039332  0.719018  0.166088  0.648760  0.423653  0.628031  0.692719   \n",
       "\n",
       "          15        17        20  ...        69        70        72        73  \\\n",
       "0   0.082960  0.224689  0.026477  ...  0.169828  0.254118  0.061095  0.114898   \n",
       "1   0.398319  0.214893  0.216249  ...  0.620273  0.030791  0.045228  0.609454   \n",
       "2   0.489693  0.274090  0.033111  ...  0.689954  0.056324  0.004058  0.849022   \n",
       "3   0.072770  0.015249  0.079311  ...  0.413920  0.062084  0.184941  0.793252   \n",
       "4   0.022438  0.052371  0.038634  ...  0.252905  0.176472  0.387883  0.195963   \n",
       "5   0.053790  0.746340  0.671955  ...  0.585836  0.684460  0.517849  0.087319   \n",
       "6   0.213590  0.283055  0.704743  ...  0.359900  0.028204  0.119546  0.807657   \n",
       "7   0.038153  0.755667  0.504756  ...  0.326704  0.228026  0.021498  0.038564   \n",
       "8   0.076524  0.096145  0.201401  ...  0.294777  0.382825  0.008896  0.689842   \n",
       "9   0.083016  0.434325  0.588546  ...  0.256642  0.049224  0.171368  0.736846   \n",
       "10  0.770673  0.547358  0.693896  ...  0.304937  0.484994  0.059919  0.517159   \n",
       "11  0.683405  0.562467  0.023964  ...  0.019952  0.150613  0.183043  0.723273   \n",
       "12  0.447497  0.020804  0.277086  ...  0.294987  0.680607  0.094984  0.766954   \n",
       "13  0.228523  0.019284  0.141323  ...  0.678417  0.183328  0.691776  0.767019   \n",
       "14  0.443875  0.002088  0.729431  ...  0.466956  0.541363  0.574146  0.684082   \n",
       "15  0.709000  0.067497  0.577556  ...  0.790193  0.061182  0.515313  0.440232   \n",
       "16  0.016500  0.094327  0.764694  ...  0.361809  0.254673  0.248300  0.208787   \n",
       "17  0.312798  0.387145  0.182742  ...  0.514484  0.143725  0.450256  0.793731   \n",
       "18  0.110210  0.133880  0.127255  ...  0.482188  0.035601  0.141443  0.777315   \n",
       "19  0.897598  0.362912  0.690286  ...  0.578494  0.720098  0.019428  0.436816   \n",
       "20  0.773762  0.037649  0.552806  ...  0.011580  0.817837  0.254484  0.250932   \n",
       "\n",
       "          77        78        89        91        95        96  \n",
       "0   0.557888  0.069743  0.067647  0.418742  0.649797  0.372000  \n",
       "1   0.064538  0.813326  0.183897  0.032882  0.301571  0.585549  \n",
       "2   0.002543  0.049414  0.042005  0.049530  0.787071  0.075389  \n",
       "3   0.048464  0.676961  0.045832  0.009768  0.632848  0.000535  \n",
       "4   0.131835  0.840921  0.098045  0.098564  0.748598  0.157358  \n",
       "5   0.194498  0.484446  0.481704  0.390982  0.167465  0.157259  \n",
       "6   0.150415  0.683750  0.842857  0.598306  0.292341  0.102462  \n",
       "7   0.180456  0.856892  0.025505  0.088971  0.683340  0.134511  \n",
       "8   0.811688  0.786941  0.105239  0.000469  0.395696  0.161586  \n",
       "9   0.516359  0.704210  0.208304  0.045683  0.690326  0.695327  \n",
       "10  0.429439  0.442752  0.018245  0.293251  0.047014  0.528895  \n",
       "11  0.178646  0.225180  0.551480  0.110304  0.723270  0.420215  \n",
       "12  0.592115  0.671526  0.198958  0.175552  0.470867  0.297740  \n",
       "13  0.160439  0.652672  0.782490  0.141708  0.012605  0.543229  \n",
       "14  0.034192  0.588056  0.228098  0.813183  0.627277  0.249391  \n",
       "15  0.224194  0.273189  0.682956  0.516994  0.004286  0.033704  \n",
       "16  0.099226  0.546627  0.200187  0.389853  0.470126  0.196264  \n",
       "17  0.860436  0.350514  0.109386  0.272949  0.038732  0.121541  \n",
       "18  0.771015  0.275819  0.085676  0.674605  0.024203  0.627334  \n",
       "19  0.711740  0.273095  0.045435  0.372729  0.013245  0.677055  \n",
       "20  0.101007  0.151155  0.695618  0.011269  0.101566  0.667994  \n",
       "\n",
       "[21 rows x 44 columns]"
      ]
     },
     "execution_count": 97,
     "metadata": {},
     "output_type": "execute_result"
    }
   ],
   "source": [
    "v[parent_idx].head(NUM_TIME_STEPS)"
   ]
  },
  {
   "cell_type": "code",
   "execution_count": 98,
   "metadata": {},
   "outputs": [
    {
     "data": {
      "text/plain": [
       "<tf.Tensor: shape=(), dtype=float32, numpy=0.024579536>"
      ]
     },
     "execution_count": 98,
     "metadata": {},
     "output_type": "execute_result"
    }
   ],
   "source": [
    "ignore_noParent_MSE(validation, o)"
   ]
  },
  {
   "attachments": {},
   "cell_type": "markdown",
   "metadata": {},
   "source": [
    "# Test OG SHAP\n",
    "\n",
    "ms shap sux"
   ]
  },
  {
   "cell_type": "code",
   "execution_count": 99,
   "metadata": {},
   "outputs": [
    {
     "data": {
      "text/plain": [
       "True"
      ]
     },
     "execution_count": 99,
     "metadata": {},
     "output_type": "execute_result"
    }
   ],
   "source": [
    "tf.executing_eagerly()"
   ]
  },
  {
   "cell_type": "code",
   "execution_count": 100,
   "metadata": {},
   "outputs": [],
   "source": [
    "inp = Input(shape=(NUM_TIME_STEPS,NUM_TARGETS))\n",
    "re = tf.keras.layers.Reshape(target_shape=(NUM_TIME_STEPS, NUM_TARGETS))(inp)\n",
    "dout = dense(re)\n",
    "doutRe = tf.squeeze(tf.keras.layers.Reshape(target_shape=(NUM_TIME_STEPS*NUM_TARGETS,1))(dout), axis=-1)\n",
    "denseRE = tf.keras.Model(inputs=inp, outputs=doutRe)"
   ]
  },
  {
   "cell_type": "code",
   "execution_count": 101,
   "metadata": {},
   "outputs": [
    {
     "name": "stdout",
     "output_type": "stream",
     "text": [
      "Model: \"model_2\"\n",
      "_________________________________________________________________\n",
      " Layer (type)                Output Shape              Param #   \n",
      "=================================================================\n",
      " input_3 (InputLayer)        [(None, 21, 100)]         0         \n",
      "                                                                 \n",
      " reshape_2 (Reshape)         (None, 21, 100)           0         \n",
      "                                                                 \n",
      " model_1 (Functional)        (None, 21, 100)           463144    \n",
      "                                                                 \n",
      " reshape_3 (Reshape)         (None, 2100, 1)           0         \n",
      "                                                                 \n",
      " tf.compat.v1.squeeze (TFOpL  (None, 2100)             0         \n",
      " ambda)                                                          \n",
      "                                                                 \n",
      "=================================================================\n",
      "Total params: 463,144\n",
      "Trainable params: 463,144\n",
      "Non-trainable params: 0\n",
      "_________________________________________________________________\n"
     ]
    }
   ],
   "source": [
    "denseRE.summary()"
   ]
  },
  {
   "cell_type": "code",
   "execution_count": 102,
   "metadata": {},
   "outputs": [
    {
     "data": {
      "text/plain": [
       "<tf.Tensor: shape=(2, 2100), dtype=float32, numpy=\n",
       "array([[0.10630108, 0.15319712, 0.        , ..., 0.        , 0.        ,\n",
       "        0.        ],\n",
       "       [0.15712224, 0.21561475, 0.        , ..., 0.        , 0.        ,\n",
       "        0.        ]], dtype=float32)>"
      ]
     },
     "execution_count": 102,
     "metadata": {},
     "output_type": "execute_result"
    }
   ],
   "source": [
    "denseRE(validation)"
   ]
  },
  {
   "cell_type": "code",
   "execution_count": null,
   "metadata": {},
   "outputs": [
    {
     "name": "stdout",
     "output_type": "stream",
     "text": [
      "Number of features: 100\n"
     ]
    },
    {
     "name": "stderr",
     "output_type": "stream",
     "text": [
      "100%|██████████| 2100/2100 [20:24<00:00,  1.72it/s] \n"
     ]
    }
   ],
   "source": [
    "\n",
    "model = denseRE\n",
    "# def map2layer(x, layer):1\n",
    "#     feed_dict = dict(zip([model.layers[0].input.ref()], [x.copy()]))\n",
    "#     return K.get_session().run(model.layers[layer].input, feed_dict)\n",
    "\n",
    "\n",
    "e = shap.GradientExplainer(model,\n",
    "    #(model.layers[0].input, model.layers[-1].output),\n",
    "    allData,\n",
    "    local_smoothing=0 # std dev of smoothing noise\n",
    ")\n",
    "sv = e.shap_values(allData)\n",
    "# shap_values,indexes = e.shap_values(map2layer(to_explain, 7), ranked_outputs=2)"
   ]
  },
  {
   "cell_type": "code",
   "execution_count": 86,
   "metadata": {},
   "outputs": [],
   "source": [
    "sv= np.array(sv)"
   ]
  },
  {
   "cell_type": "code",
   "execution_count": 124,
   "metadata": {},
   "outputs": [
    {
     "data": {
      "text/plain": [
       "(2100, 10, 21, 100)"
      ]
     },
     "execution_count": 124,
     "metadata": {},
     "output_type": "execute_result"
    }
   ],
   "source": [
    "sv.shape"
   ]
  },
  {
   "cell_type": "code",
   "execution_count": 125,
   "metadata": {},
   "outputs": [],
   "source": [
    "uv = np.copy(sv)"
   ]
  },
  {
   "cell_type": "code",
   "execution_count": 143,
   "metadata": {},
   "outputs": [],
   "source": [
    "uv = np.reshape(uv, newshape=(21, 100, 10, 21, 100)) #should this be 100, 21... or 21, 100...?"
   ]
  },
  {
   "cell_type": "code",
   "execution_count": 144,
   "metadata": {},
   "outputs": [],
   "source": [
    "# 21 time steps, 10 replicates, 100 protiens"
   ]
  },
  {
   "cell_type": "code",
   "execution_count": 145,
   "metadata": {},
   "outputs": [
    {
     "data": {
      "text/plain": [
       "(21, 100, 10, 21, 100)"
      ]
     },
     "execution_count": 145,
     "metadata": {},
     "output_type": "execute_result"
    }
   ],
   "source": [
    "uv.shape"
   ]
  },
  {
   "cell_type": "code",
   "execution_count": 146,
   "metadata": {},
   "outputs": [],
   "source": [
    "av1 = np.average(uv, axis = 2)\n",
    "av2 = np.sum(uv, axis = 2)"
   ]
  },
  {
   "cell_type": "code",
   "execution_count": 147,
   "metadata": {},
   "outputs": [
    {
     "data": {
      "text/plain": [
       "((21, 100, 21, 100), (21, 100, 21, 100))"
      ]
     },
     "execution_count": 147,
     "metadata": {},
     "output_type": "execute_result"
    }
   ],
   "source": [
    "av1.shape, av2.shape"
   ]
  },
  {
   "cell_type": "code",
   "execution_count": 148,
   "metadata": {},
   "outputs": [
    {
     "data": {
      "text/plain": [
       "((21, 100, 100), (21, 100, 100))"
      ]
     },
     "execution_count": 148,
     "metadata": {},
     "output_type": "execute_result"
    }
   ],
   "source": [
    "av1 = np.average(av1, axis = 2)\n",
    "\n",
    "av2 = np.sum(av2, axis= 2)\n",
    "av1.shape, av2.shape"
   ]
  },
  {
   "cell_type": "code",
   "execution_count": 149,
   "metadata": {},
   "outputs": [
    {
     "data": {
      "text/plain": [
       "((100, 100), (100, 100))"
      ]
     },
     "execution_count": 149,
     "metadata": {},
     "output_type": "execute_result"
    }
   ],
   "source": [
    "av1 = np.average(av1, axis = 0) #change this to fix axis order\n",
    "\n",
    "av2 = np.sum(av2, axis = 0) \n",
    "av1.shape, av2.shape\n"
   ]
  },
  {
   "cell_type": "code",
   "execution_count": 174,
   "metadata": {},
   "outputs": [
    {
     "data": {
      "text/plain": [
       "array([ 0,  4,  9, 14, 22, 24, 25, 35, 36, 37, 39, 41, 42, 43, 44, 45, 53,\n",
       "       54, 56, 61, 62, 63, 64, 65, 66, 68, 71, 72, 74, 81, 82, 84, 86, 89,\n",
       "       90, 91, 92, 95, 97, 98, 99])"
      ]
     },
     "execution_count": 174,
     "metadata": {},
     "output_type": "execute_result"
    }
   ],
   "source": [
    "parent_idx"
   ]
  },
  {
   "cell_type": "code",
   "execution_count": 180,
   "metadata": {},
   "outputs": [
    {
     "data": {
      "text/plain": [
       "<matplotlib.image.AxesImage at 0x22d1d26efd0>"
      ]
     },
     "execution_count": 180,
     "metadata": {},
     "output_type": "execute_result"
    },
    {
     "data": {
      "image/png": "[encoded data removed]",
      "text/plain": [
       "<Figure size 1080x360 with 1 Axes>"
      ]
     },
     "metadata": {
      "needs_background": "light"
     },
     "output_type": "display_data"
    }
   ],
   "source": [
    "plt.imshow(np.clip(av2, a_min=0.0, a_max=None))"
   ]
  },
  {
   "cell_type": "code",
   "execution_count": 182,
   "metadata": {},
   "outputs": [
    {
     "data": {
      "text/plain": [
       "<matplotlib.image.AxesImage at 0x22d25c84bb0>"
      ]
     },
     "execution_count": 182,
     "metadata": {},
     "output_type": "execute_result"
    },
    {
     "data": {
      "image/png": "[encoded data removed]",
      "text/plain": [
       "<Figure size 1080x360 with 1 Axes>"
      ]
     },
     "metadata": {
      "needs_background": "light"
     },
     "output_type": "display_data"
    }
   ],
   "source": [
    "plt.imshow(np.clip(av1, a_min=0.0, a_max=None))"
   ]
  },
  {
   "cell_type": "code",
   "execution_count": 84,
   "metadata": {},
   "outputs": [
    {
     "data": {
      "text/plain": [
       "<matplotlib.image.AxesImage at 0x22bb381d4c0>"
      ]
     },
     "execution_count": 84,
     "metadata": {},
     "output_type": "execute_result"
    },
    {
     "data": {
      "image/png": "[encoded data removed]",
      "text/plain": [
       "<Figure size 1080x360 with 1 Axes>"
      ]
     },
     "metadata": {
      "needs_background": "light"
     },
     "output_type": "display_data"
    }
   ],
   "source": [
    "plt.imshow(goldIm)"
   ]
  },
  {
   "cell_type": "code",
   "execution_count": 57,
   "metadata": {},
   "outputs": [
    {
     "data": {
      "image/png": "[encoded data removed]",
      "text/plain": [
       "<Figure size 432x360 with 3 Axes>"
      ]
     },
     "metadata": {
      "needs_background": "light"
     },
     "output_type": "display_data"
    }
   ],
   "source": []
  },
  {
   "cell_type": "code",
   "execution_count": 72,
   "metadata": {},
   "outputs": [
    {
     "data": {
      "text/plain": [
       "(-5.361398619628737e-05, 1.6010203871349165e-05)"
      ]
     },
     "execution_count": 72,
     "metadata": {},
     "output_type": "execute_result"
    }
   ],
   "source": [
    "av1.min(), av1.max()"
   ]
  },
  {
   "cell_type": "code",
   "execution_count": 78,
   "metadata": {},
   "outputs": [
    {
     "data": {
      "text/plain": [
       "(2025, 0, 12, 44)"
      ]
     },
     "execution_count": 78,
     "metadata": {},
     "output_type": "execute_result"
    }
   ],
   "source": [
    "sv.argmax()\n",
    "np.unravel_index(8506244, sv.shape)"
   ]
  },
  {
   "cell_type": "code",
   "execution_count": 64,
   "metadata": {},
   "outputs": [
    {
     "data": {
      "text/plain": [
       "(2, 21, 100)"
      ]
     },
     "execution_count": 64,
     "metadata": {},
     "output_type": "execute_result"
    }
   ],
   "source": [
    "validation.shape"
   ]
  },
  {
   "cell_type": "code",
   "execution_count": 65,
   "metadata": {},
   "outputs": [
    {
     "data": {
      "text/plain": [
       "(2, 2100)"
      ]
     },
     "execution_count": 65,
     "metadata": {},
     "output_type": "execute_result"
    }
   ],
   "source": [
    "valR = validation.reshape(( validation.shape[0], validation.shape[1]*validation.shape[2]))\n",
    "valR.shape"
   ]
  },
  {
   "cell_type": "code",
   "execution_count": 80,
   "metadata": {},
   "outputs": [
    {
     "data": {
      "text/plain": [
       "(2,)"
      ]
     },
     "execution_count": 80,
     "metadata": {},
     "output_type": "execute_result"
    }
   ],
   "source": [
    "valR.mean(axis=1).shape"
   ]
  },
  {
   "cell_type": "code",
   "execution_count": 85,
   "metadata": {},
   "outputs": [
    {
     "data": {
      "text/plain": [
       "array([[0., 0., 1., ..., 0., 0., 1.],\n",
       "       [0., 0., 1., ..., 0., 0., 1.]])"
      ]
     },
     "execution_count": 85,
     "metadata": {},
     "output_type": "execute_result"
    },
    {
     "data": {
      "image/png": "[encoded data removed]",
      "text/plain": [
       "<Figure size 1080x360 with 1 Axes>"
      ]
     },
     "metadata": {
      "needs_background": "light"
     },
     "output_type": "display_data"
    }
   ],
   "source": [
    "bs = np.nonzero(valR >valR.mean())\n",
    "tmagIm = np.zeros(shape=valR.shape) \n",
    "tmagIm[bs] = 1\n",
    "plt.plot(tmagIm[0]);\n",
    "bs = tmagIm\n",
    "del tmagIm\n"
   ]
  },
  {
   "cell_type": "code",
   "execution_count": 86,
   "metadata": {},
   "outputs": [
    {
     "name": "stdout",
     "output_type": "stream",
     "text": [
      "1/1 [==============================] - 0s 16ms/step\n"
     ]
    },
    {
     "ename": "Exception",
     "evalue": "multiclass SHAP not supported",
     "output_type": "error",
     "traceback": [
      "\u001b[1;31m---------------------------------------------------------------------------\u001b[0m",
      "\u001b[1;31mException\u001b[0m                                 Traceback (most recent call last)",
      "\u001b[1;32mc:\\Users\\Fin Amin\\Desktop\\StemCellResearch\\dream4_100\\DreamEncoder4_TestNewShap.ipynb Cell 69\u001b[0m in \u001b[0;36m<cell line: 27>\u001b[1;34m()\u001b[0m\n\u001b[0;32m     <a href='vscode-notebook-cell:/c%3A/Users/Fin%20Amin/Desktop/StemCellResearch/dream4_100/DreamEncoder4_TestNewShap.ipynb#Y564sZmlsZQ%3D%3D?line=15'>16</a>\u001b[0m \u001b[39m# X, y = load_breast_cancer(return_X_y=True, as_frame=True)\u001b[39;00m\n\u001b[0;32m     <a href='vscode-notebook-cell:/c%3A/Users/Fin%20Amin/Desktop/StemCellResearch/dream4_100/DreamEncoder4_TestNewShap.ipynb#Y564sZmlsZQ%3D%3D?line=16'>17</a>\u001b[0m \u001b[39m# X_train, X_test, y_train, y_test = train_test_split(X, y, test_size=0.20, random_state=seed)\u001b[39;00m\n\u001b[0;32m     <a href='vscode-notebook-cell:/c%3A/Users/Fin%20Amin/Desktop/StemCellResearch/dream4_100/DreamEncoder4_TestNewShap.ipynb#Y564sZmlsZQ%3D%3D?line=17'>18</a>\u001b[0m \n\u001b[1;32m   (...)\u001b[0m\n\u001b[0;32m     <a href='vscode-notebook-cell:/c%3A/Users/Fin%20Amin/Desktop/StemCellResearch/dream4_100/DreamEncoder4_TestNewShap.ipynb#Y564sZmlsZQ%3D%3D?line=21'>22</a>\u001b[0m \u001b[39m# blackbox_model = Pipeline([('pca', pca), ('rf', rf)])\u001b[39;00m\n\u001b[0;32m     <a href='vscode-notebook-cell:/c%3A/Users/Fin%20Amin/Desktop/StemCellResearch/dream4_100/DreamEncoder4_TestNewShap.ipynb#Y564sZmlsZQ%3D%3D?line=22'>23</a>\u001b[0m \u001b[39m# blackbox_model.fit(X_train, y_train)\u001b[39;00m\n\u001b[0;32m     <a href='vscode-notebook-cell:/c%3A/Users/Fin%20Amin/Desktop/StemCellResearch/dream4_100/DreamEncoder4_TestNewShap.ipynb#Y564sZmlsZQ%3D%3D?line=24'>25</a>\u001b[0m blackbox_model \u001b[39m=\u001b[39m denseRE\n\u001b[1;32m---> <a href='vscode-notebook-cell:/c%3A/Users/Fin%20Amin/Desktop/StemCellResearch/dream4_100/DreamEncoder4_TestNewShap.ipynb#Y564sZmlsZQ%3D%3D?line=26'>27</a>\u001b[0m shap \u001b[39m=\u001b[39m ShapKernel(blackbox_model\u001b[39m.\u001b[39;49mpredict, bs)\n\u001b[0;32m     <a href='vscode-notebook-cell:/c%3A/Users/Fin%20Amin/Desktop/StemCellResearch/dream4_100/DreamEncoder4_TestNewShap.ipynb#Y564sZmlsZQ%3D%3D?line=27'>28</a>\u001b[0m \u001b[39mwith\u001b[39;00m warnings\u001b[39m.\u001b[39mcatch_warnings():\n\u001b[0;32m     <a href='vscode-notebook-cell:/c%3A/Users/Fin%20Amin/Desktop/StemCellResearch/dream4_100/DreamEncoder4_TestNewShap.ipynb#Y564sZmlsZQ%3D%3D?line=28'>29</a>\u001b[0m     warnings\u001b[39m.\u001b[39mfilterwarnings(\u001b[39m\"\u001b[39m\u001b[39mignore\u001b[39m\u001b[39m\"\u001b[39m)\n",
      "File \u001b[1;32m~\\AppData\\Roaming\\Python\\Python39\\site-packages\\interpret\\blackbox\\shap.py:46\u001b[0m, in \u001b[0;36mShapKernel.__init__\u001b[1;34m(self, model, data, feature_names, feature_types, **kwargs)\u001b[0m\n\u001b[0;32m     44\u001b[0m predict_fn, n_classes, _ \u001b[39m=\u001b[39m determine_classes(model, data, n_samples)\n\u001b[0;32m     45\u001b[0m \u001b[39mif\u001b[39;00m \u001b[39m3\u001b[39m \u001b[39m<\u001b[39m\u001b[39m=\u001b[39m n_classes:\n\u001b[1;32m---> 46\u001b[0m     \u001b[39mraise\u001b[39;00m \u001b[39mException\u001b[39;00m(\u001b[39m\"\u001b[39m\u001b[39mmulticlass SHAP not supported\u001b[39m\u001b[39m\"\u001b[39m)\n\u001b[0;32m     47\u001b[0m predict_fn \u001b[39m=\u001b[39m unify_predict_fn(predict_fn, data, \u001b[39m1\u001b[39m \u001b[39mif\u001b[39;00m n_classes \u001b[39m==\u001b[39m \u001b[39m2\u001b[39m \u001b[39melse\u001b[39;00m \u001b[39m-\u001b[39m\u001b[39m1\u001b[39m)\n\u001b[0;32m     49\u001b[0m data, \u001b[39mself\u001b[39m\u001b[39m.\u001b[39mfeature_names_in_, \u001b[39mself\u001b[39m\u001b[39m.\u001b[39mfeature_types_in_ \u001b[39m=\u001b[39m unify_data(\n\u001b[0;32m     50\u001b[0m     data, n_samples, feature_names, feature_types, \u001b[39mFalse\u001b[39;00m, \u001b[39m0\u001b[39m\n\u001b[0;32m     51\u001b[0m )\n",
      "\u001b[1;31mException\u001b[0m: multiclass SHAP not supported"
     ]
    }
   ],
   "source": [
    "# import numpy as np\n",
    "# from sklearn.datasets import load_breast_cancer\n",
    "# from sklearn.model_selection import train_test_split\n",
    "\n",
    "# from sklearn.ensemble import RandomForestClassifier\n",
    "# from sklearn.decomposition import PCA\n",
    "# from sklearn.pipeline import Pipeline\n",
    "\n",
    "# import warnings\n",
    "\n",
    "# from interpret import show\n",
    "# from interpret.blackbox import ShapKernel\n",
    "\n",
    "seed = 42\n",
    "np.random.seed(seed)\n",
    "# X, y = load_breast_cancer(return_X_y=True, as_frame=True)\n",
    "# X_train, X_test, y_train, y_test = train_test_split(X, y, test_size=0.20, random_state=seed)\n",
    "\n",
    "# pca = PCA()\n",
    "# rf = RandomForestClassifier(n_estimators=100, n_jobs=-1, random_state=seed)\n",
    "\n",
    "# blackbox_model = Pipeline([('pca', pca), ('rf', rf)])\n",
    "# blackbox_model.fit(X_train, y_train)\n",
    "\n",
    "blackbox_model = denseRE\n",
    "\n",
    "shap = ShapKernel(blackbox_model.predict, bs)\n",
    "with warnings.catch_warnings():\n",
    "    warnings.filterwarnings(\"ignore\")\n",
    "    shap_local = shap.explain_local(bs, bs)\n",
    "\n",
    "show(shap_local, 0)"
   ]
  },
  {
   "cell_type": "code",
   "execution_count": null,
   "metadata": {},
   "outputs": [],
   "source": []
  },
  {
   "attachments": {},
   "cell_type": "markdown",
   "metadata": {},
   "source": [
    "# Latent Space Size Experiment"
   ]
  },
  {
   "cell_type": "code",
   "execution_count": null,
   "metadata": {},
   "outputs": [],
   "source": [
    "# print(NUM_PARENTS, NUM_TARGETS)"
   ]
  },
  {
   "cell_type": "code",
   "execution_count": null,
   "metadata": {},
   "outputs": [],
   "source": [
    "# #to test on entire DS: \n",
    "# N = 50\n",
    "# hidden = np.arange(1,NUM_PARENTS+1, 1) #range(1,32)\n",
    "# lossMatrix = []\n",
    "# for i in tqdm(range(N)):\n",
    "    \n",
    "#     losses = []\n",
    "#     for value in (hidden):\n",
    "#         dense = modelDense2(superParent, regulator_gene_matrix, NUM_TARGETS, NUM_TIME_STEPS, NUM_TARGETS, value)\n",
    "#         dense.compile(optimizer='adam', loss=ignore_noParent_MSE)\n",
    "#         dense.fit(allData, allData, epochs=40,  verbose=0)\n",
    "#         test_hat = dense(allData) #, verbose = 0)\n",
    "#         loss = ignore_noParent_MSE(allData, test_hat)\n",
    "#         losses.append(loss)\n",
    "#         tf.keras.backend.clear_session()\n",
    "#     lossMatrix.append(losses)\n",
    "    \n",
    "# lossMatrix = np.array(lossMatrix)\n",
    "# #run 100 times \n",
    "\n",
    "\n",
    "#To test on Test set:\n",
    "# N = 40\n",
    "# hidden = np.arange(2,24, 1) #range(1,32)\n",
    "# lossMatrix = []\n",
    "# for i in tqdm(range(N)):\n",
    "    \n",
    "#     losses = []\n",
    "#     for value in (hidden):\n",
    "#         dense = modelDense2(superParent, regulator_gene_matrix, NUM_TARGETS, NUM_TIME_STEPS, NUM_TARGETS, value)\n",
    "#         dense.compile(optimizer='adam', loss=ignore_noParent_MSE)\n",
    "#         dense.fit(beanIntensities, beanIntensities, epochs=40,  verbose=0)\n",
    "#         test_hat = dense(validation) #, verbose = 0)\n",
    "#         loss = ignore_noParent_MSE(validation, test_hat)\n",
    "#         losses.append(loss)\n",
    "#         tf.keras.backend.clear_session()\n",
    "#     lossMatrix.append(losses)\n",
    "    \n",
    "# lossMatrix = np.array(lossMatrix)\n",
    "# #run 100 times "
   ]
  },
  {
   "cell_type": "code",
   "execution_count": null,
   "metadata": {},
   "outputs": [],
   "source": [
    "# avgMSE = np.average(lossMatrix, axis = 0)\n",
    "# plt.plot(hidden, avgMSE);\n",
    "# plt.xlabel(\"Latent Space Size\",fontsize=15);\n",
    "# plt.ylabel(\"MSE\",fontsize=15);\n",
    "# plt.title(\"Glycine Max: MSE with Respect to the Latent Space Size\", fontweight='bold', fontsize = 18);"
   ]
  },
  {
   "cell_type": "code",
   "execution_count": null,
   "metadata": {},
   "outputs": [],
   "source": [
    "# lm = pd.DataFrame(lossMatrix)\n",
    "# lm.to_csv(\"lossmatrix4lisa_dream4.csv\")"
   ]
  },
  {
   "cell_type": "code",
   "execution_count": null,
   "metadata": {},
   "outputs": [],
   "source": [
    "# temp = pd.read_csv(\"lossmatrix4lisa_dream4.csv\").to_numpy()\n",
    "# print(temp.shape)\n",
    "# avgMSE = np.average(lossMatrix, axis=0)"
   ]
  },
  {
   "cell_type": "code",
   "execution_count": null,
   "metadata": {},
   "outputs": [],
   "source": [
    "# plt.plot(hidden, avgMSE)"
   ]
  },
  {
   "attachments": {},
   "cell_type": "markdown",
   "metadata": {},
   "source": [
    "# Lazy Kernels"
   ]
  },
  {
   "cell_type": "code",
   "execution_count": null,
   "metadata": {},
   "outputs": [],
   "source": [
    "dense = modelSuperParent(superParent, regulator_gene_matrix, NUM_TARGETS, NUM_TIME_STEPS, NUM_TARGETS, NUM_PARENTS)\n",
    "dense.compile(optimizer=tf.keras.optimizers.Adam(), loss=ignore_noParent_MSE)"
   ]
  },
  {
   "cell_type": "code",
   "execution_count": null,
   "metadata": {},
   "outputs": [],
   "source": [
    "d = np.array(dense.get_weights())"
   ]
  },
  {
   "cell_type": "code",
   "execution_count": null,
   "metadata": {},
   "outputs": [],
   "source": [
    "d[0].shape"
   ]
  },
  {
   "cell_type": "code",
   "execution_count": null,
   "metadata": {},
   "outputs": [],
   "source": [
    "\n",
    "\n",
    "def do_lazy_train(epochs, hidden = NUM_PARENTS):\n",
    "\n",
    "    '''trains the auto encoder epoch by epoch and returns the weights of the first layer'''\n",
    "    ep = epochs\n",
    "    #hidden = [hidden,] #range(1,32)\n",
    "    lossMatrix = []\n",
    "    lazy_weights = []\n",
    "\n",
    "    dense = modelSuperParent(superParent, regulator_gene_matrix, NUM_TARGETS, NUM_TIME_STEPS, NUM_TARGETS, hidden)\n",
    "    dense.compile(optimizer=tf.keras.optimizers.Adam(), loss=ignore_noParent_MSE)\n",
    "    \n",
    "    # dense = modelDense2(superParent, regulator_gene_matrix, NUM_TARGETS, NUM_TIME_STEPS, NUM_TARGETS, num_hidden_units=hidden)\n",
    "    # dense.compile(optimizer=tf.keras.optimizers.Adam(), loss=ignore_noParent_MSE)\n",
    "\n",
    "    #for i in tqdm(range(ep)):\n",
    "    for i in range(ep):\n",
    "        dense.fit(allData, allData, validation_data=(validation, validation), epochs=1,  verbose=0, callbacks = [\n",
    "    tfmot.sparsity.keras.UpdatePruningStep()])\n",
    "        lazy_weights.append(dw := dense.get_weights()[0])\n",
    "        test = dense(validation) #, verbose = 0)\n",
    "        loss = ignore_noParent_MSE(validation, test)\n",
    "        lossMatrix.append(loss)\n",
    "        \n",
    "    lossMatrix = np.array(lossMatrix) #loss matrix no longer returns anything \n",
    "    lazy_weights = np.array(lazy_weights)\n",
    "    # print(\"lazy weights\", lazy_weights.shape)\n",
    "\n",
    "    return lossMatrix, lazy_weights #loss matrix no longer returns anything "
   ]
  },
  {
   "cell_type": "code",
   "execution_count": null,
   "metadata": {},
   "outputs": [],
   "source": [
    "#https://proceedings.mlr.press/v162/rachwan22a/rachwan22a.pdf Winning the Lottery Ticket Ahead of Time:\n",
    "def lazyKernelRegime(w, parent_idx=parent_idx):\n",
    "    '''compute when each weight enters lazy kernel regime'''\n",
    "    \n",
    "    # print(\"wshape\", w.shape)\n",
    "\n",
    "    firstLayer = [] \n",
    "    for i in range(len(w)):\n",
    "         firstLayer.append(w[i]) #firstLayer.append(w[i][parent_idx])\n",
    "\n",
    "    fL = np.array(firstLayer)    \n",
    "    # print(\"print fL\", fL.shape, fL.dtype, fL[0], fL[1],)\n",
    "    d0 = np.square(fL[1] - fL[0])\n",
    "    # print(\"do\", d0.shape, d0)\n",
    "    \n",
    "    kernelChange = []\n",
    "    for i in range(1,len(fL)):\n",
    "        dt = np.square(fL[i] - fL[0])\n",
    "        dt_minus1 = np.square(fL[i-1] - fL[0])   \n",
    "        d = np.abs(dt - dt_minus1)/d0                        #eq 11 from the paper\n",
    "        kernelChange.append(d)\n",
    "    \n",
    "    kernelChange = np.moveaxis(kernelChange, 0, 2)\n",
    "    # plt.plot(kernelChange[0][0]);\n",
    "    # plt.title(\"$|\\Delta W|$ vs Epoch\")\n",
    "    # plt.xlabel(\"Epoch\")\n",
    "    # plt.ylabel(\"$|\\Delta W|$\")\n",
    "\n",
    "    return np.array(kernelChange)"
   ]
  },
  {
   "cell_type": "code",
   "execution_count": null,
   "metadata": {},
   "outputs": [],
   "source": [
    "#TODO: try setting top parents to num epochs trained rather than culling process\n",
    "def compute_distrib(change, t, raw = False): #raw means return the unshaped indicies. \n",
    "    stop = []\n",
    "\n",
    "    z = np.zeros(shape=(NUM_TARGETS, NUM_TARGETS))\n",
    "\n",
    "\n",
    "    for parent in range(len(change)):\n",
    "        for child in range(len(change[0])):\n",
    "            try:\n",
    "                z[parent][child] = (np.min(np.argwhere(change[parent][child] < t)))\n",
    "            except ValueError:\n",
    "                stop.append(len(change))\n",
    "\n",
    "    return z \n",
    "    \n",
    "    stop = np.array(stop)\n",
    "    # print(\"stop shape\", stop.shape)\n",
    "    # print(stop.shape)\n",
    "    var = np.std(stop)\n",
    "    # print(var)\n",
    "    # assert(False)\n",
    "    mean = np.average(stop)\n",
    "   # print(\"mean, variance\", mean, var)\n",
    "    top_parents = np.argwhere(stop > (mean + 0.5*var)) #get the parents which take more than 2 stds to stop training\n",
    "    # print(\"top parents \", top_parents)\n",
    "    # assert(False)\n",
    "    top_parent_child = []\n",
    "    for tp in top_parents:\n",
    "        top_parent_child.append(np.unravel_index(tp, shape = (NUM_PARENTS, NUM_TARGETS)))\n",
    "\n",
    "    if raw == False:\n",
    "        plt.hist(stop)\n",
    "        plt.xlabel(\"Epoch where regulator-target-weight began changing by at most \"+ str(t));\n",
    "        plt.ylabel(\"Number of parent-child-weights\");\n",
    "        plt.title(\"Histogram of weight stops\");\n",
    "        print(\"average stop: \", mean);\n",
    "\n",
    "    if raw == True:\n",
    "        return np.array(top_parents)\n",
    "\n",
    "    return np.array(top_parent_child)"
   ]
  },
  {
   "cell_type": "code",
   "execution_count": null,
   "metadata": {},
   "outputs": [],
   "source": [
    "def compute_distrib_old(change, t, raw = False): #raw means return the unshaped indicies. \n",
    "    stop = []\n",
    "\n",
    "    for parent in range(len(change)):\n",
    "        for child in range(len(change[0])):\n",
    "            try:\n",
    "                stop.append(np.min(np.argwhere(change[parent][child] < t)))\n",
    "            except ValueError:\n",
    "                stop.append(len(change))\n",
    "                # print(parent, child)\n",
    "                # plt.plot(change[parent][child])\n",
    "                # assert(False)\n",
    "\n",
    "    \n",
    "    stop = np.array(stop).flatten()\n",
    "    # print(\"stop shape\", stop.shape)\n",
    "    # print(stop.shape)\n",
    "    var = np.std(stop)\n",
    "    # print(var)\n",
    "    # assert(False)\n",
    "    mean = np.average(stop)\n",
    "   # print(\"mean, variance\", mean, var)\n",
    "    top_parents = np.argwhere(stop > (mean + 0.5*var)) #get the parents which take more than 2 stds to stop training\n",
    "    # print(\"top parents \", top_parents)\n",
    "    # assert(False)\n",
    "    top_parent_child = []\n",
    "    for tp in top_parents:\n",
    "        top_parent_child.append(np.unravel_index(tp, shape = (NUM_PARENTS, NUM_TARGETS)))\n",
    "\n",
    "    if raw == False:\n",
    "        plt.hist(stop)\n",
    "        plt.xlabel(\"Epoch where regulator-target-weight began changing by at most \"+ str(t));\n",
    "        plt.ylabel(\"Number of parent-child-weights\");\n",
    "        plt.title(\"Histogram of weight stops\");\n",
    "        print(\"average stop: \", mean);\n",
    "\n",
    "    if raw == True:\n",
    "        return np.array(top_parents)\n",
    "\n",
    "    return np.array(top_parent_child)"
   ]
  },
  {
   "cell_type": "code",
   "execution_count": null,
   "metadata": {},
   "outputs": [],
   "source": [
    "def lazyKernels(N):\n",
    "\n",
    "    candidates = []\n",
    "    final_w = []\n",
    "    for i in tqdm(range(N)):\n",
    "        lm, lazy_weights = do_lazy_train(epochs=100)\n",
    "        # print(\"lm\", lm)\n",
    "        change = lazyKernelRegime(lazy_weights)\n",
    "        # print(\"change\",change.shape)\n",
    "        # assert(False)\n",
    "        top_pr = np.squeeze(compute_distrib(change, t = 0.2, raw=True))\n",
    "        candidates.append(top_pr)\n",
    "        final_w.append(lazy_weights[-1]) #final w is used for magntiude calculations at the end\n",
    "        tf.keras.backend.clear_session()\n",
    "    \n",
    "    final_w = np.array(final_w)\n",
    "    firstLayer = []\n",
    "    for i in range(len(final_w)):\n",
    "        firstLayer.append(np.abs(final_w[i])) #firstLayer.append(np.abs(final_w[i][parent_idx]))\n",
    "    fw = np.array(firstLayer)\n",
    "    candidates = np.array(candidates)\n",
    "\n",
    "    fw_avg = np.average(fw, axis = 0)\n",
    "    stop_avg = np.average(candidates, axis=0) \n",
    "\n",
    "    return stop_avg, fw_avg\n",
    "    #print(fw_avg.shape)\n",
    "    \n",
    "    candidates = np.hstack(candidates)\n",
    "    candidates = candidates.reshape(candidates.size)\n",
    "    #print(candidates.shape)\n",
    "\n",
    "    # plt.hist(candidates, bins=np.arange(0, NUM_PARENTS*NUM_TARGETS))\n",
    "    # plt.title(\"Parent-Child Regulator Histogram\")\n",
    "    # plt.xlabel(\"Parent-Child Weight\")\n",
    "    # plt.ylabel(\"Num-Times parent-child relationship trained for top 5% of time\")\n",
    "    return candidates, fw_avg\n",
    "\n",
    "\n"
   ]
  },
  {
   "cell_type": "code",
   "execution_count": 113,
   "metadata": {},
   "outputs": [],
   "source": [
    "#TODO: test reshaping in other orientation"
   ]
  },
  {
   "cell_type": "code",
   "execution_count": null,
   "metadata": {},
   "outputs": [],
   "source": [
    "can, mag = lazyKernels(N = 5)"
   ]
  },
  {
   "cell_type": "code",
   "execution_count": null,
   "metadata": {},
   "outputs": [],
   "source": [
    "gold = pd.read_csv(\"DREAM4_GoldStandard_InSilico_Size100_1.csv\", header=None)\n",
    "\n",
    "def keep_numeric(df):\n",
    "\n",
    "    return df.applymap(lambda x: ''.join(filter(str.isdigit, str(x))) if isinstance(x, (int,float)) else ''.join(filter(str.isdigit, x)) )\n",
    "gold = keep_numeric(gold)\n",
    "goldnp = np.array(gold, dtype = 'int')\n",
    "#subtract 1 from each index to match python index\n",
    "goldnp[:,0] = goldnp[:,0] - 1\n",
    "goldnp[:,1] = goldnp[:,1] - 1\n",
    "\n",
    "goldIm = np.zeros(shape=(NUM_TARGETS,NUM_TARGETS))\n",
    "\n",
    "for g in goldnp:\n",
    "    reg = g[0]\n",
    "    tar = g[1]\n",
    "    connection = g[2]\n",
    "    goldIm[reg][tar] = connection\n",
    "\n"
   ]
  },
  {
   "cell_type": "code",
   "execution_count": null,
   "metadata": {},
   "outputs": [],
   "source": [
    "plt.imshow(can)"
   ]
  },
  {
   "cell_type": "code",
   "execution_count": null,
   "metadata": {},
   "outputs": [],
   "source": [
    "plt.imshow(mag)"
   ]
  },
  {
   "cell_type": "code",
   "execution_count": null,
   "metadata": {},
   "outputs": [],
   "source": [
    "score = np.multiply(can, mag)"
   ]
  },
  {
   "cell_type": "code",
   "execution_count": null,
   "metadata": {},
   "outputs": [],
   "source": [
    "plt.imshow(score)"
   ]
  },
  {
   "cell_type": "code",
   "execution_count": null,
   "metadata": {},
   "outputs": [],
   "source": [
    "plt.imshow(goldIm)\n",
    "plt.title('True RT Combos');\n",
    "print(sum(sum(goldIm)))"
   ]
  },
  {
   "cell_type": "code",
   "execution_count": null,
   "metadata": {},
   "outputs": [],
   "source": [
    "tscore = np.nonzero(score > score.mean() + 0.8*score.std())\n",
    "tscoreIm = np.zeros(shape=goldIm.shape) \n",
    "tscoreIm[tscore] = 1\n",
    "plt.imshow(tscoreIm);\n",
    "plt.title('Score Out');\n",
    "print(sum(sum(tscoreIm)))"
   ]
  },
  {
   "cell_type": "code",
   "execution_count": null,
   "metadata": {},
   "outputs": [],
   "source": [
    "plt.imshow(np.abs(goldIm-tscoreIm));\n",
    "plt.title(\"Difference between Gold and our score\")"
   ]
  },
  {
   "cell_type": "code",
   "execution_count": null,
   "metadata": {},
   "outputs": [],
   "source": [
    "sum(sum(np.abs(goldIm-tscoreIm)))"
   ]
  },
  {
   "cell_type": "code",
   "execution_count": null,
   "metadata": {},
   "outputs": [],
   "source": [
    "type(mag)"
   ]
  },
  {
   "cell_type": "code",
   "execution_count": null,
   "metadata": {},
   "outputs": [],
   "source": [
    "tmag = np.nonzero(mag > mag.mean() + 3.0*mag.std())\n",
    "tmagIm = np.zeros(shape=goldIm.shape) \n",
    "tmagIm[tmag] = 1\n",
    "plt.imshow(tmagIm);\n",
    "plt.title('Magnitude Out');"
   ]
  },
  {
   "cell_type": "code",
   "execution_count": null,
   "metadata": {},
   "outputs": [],
   "source": [
    "#TODO: do box plot of scores and compare with score of goldIM\n",
    "#TODO: Try shapley tf1 version\n",
    "plt.boxplot(score[np.nonzero(goldIm)])"
   ]
  },
  {
   "cell_type": "code",
   "execution_count": null,
   "metadata": {},
   "outputs": [],
   "source": []
  },
  {
   "attachments": {},
   "cell_type": "markdown",
   "metadata": {},
   "source": [
    "# load this with the gold IM mask after copying the weights of an old auto encoder. \n"
   ]
  },
  {
   "cell_type": "code",
   "execution_count": null,
   "metadata": {},
   "outputs": [],
   "source": [
    "looseParent = modelSuperParent(superParent, regulator_gene_matrix, NUM_TARGETS, NUM_TIME_STEPS, NUM_TARGETS, 32)\n",
    "looseParent.compile(optimizer='adam', loss=ignore_noParent_MSE)\n",
    "o = looseParent.fit(beanIntensities, beanIntensities, epochs=200, verbose = True,  validation_data=(validation, validation),\n",
    "                    callbacks = [\n",
    "    tfmot.sparsity.keras.UpdatePruningStep()])\n",
    "print(o.history['loss'][-1]) #the final loss "
   ]
  },
  {
   "cell_type": "code",
   "execution_count": null,
   "metadata": {},
   "outputs": [],
   "source": [
    "sparseParent = modelSuperParent(superParent, regulator_gene_matrix, NUM_TARGETS, NUM_TIME_STEPS, NUM_TARGETS, 32, sparsity=0.98)\n",
    "sparseParent.compile(optimizer='adam', loss=ignore_noParent_MSE)\n",
    "o = sparseParent.fit(beanIntensities, beanIntensities, epochs=200, verbose = False,  validation_data=(validation, validation),\n",
    "                    callbacks = [\n",
    "    tfmot.sparsity.keras.UpdatePruningStep()])\n",
    "print(ignore_noParent_MSE(validation, sparseParent.predict(validation)))\n",
    "\n",
    "\n",
    "plt.imshow(tfMag := sparseParent.get_weights()[0])\n",
    "tfmag = np.nonzero(tfMag > tfMag.mean() + 0.0*tfMag.std())\n",
    "tfmagIm = np.zeros(shape=goldIm.shape) \n",
    "tfmagIm[tfmag] = 1\n",
    "plt.imshow(tfmagIm);\n",
    "plt.title('TF Magnitude Mask');"
   ]
  },
  {
   "cell_type": "code",
   "execution_count": null,
   "metadata": {},
   "outputs": [],
   "source": [
    "# pruning_params = {\n",
    "#     'pruning_schedule': PolynomialDecay(initial_sparsity=0.5,\n",
    "#         final_sparsity=0.9824, begin_step=1000, end_step=2000),\n",
    "#     'block_size': (2, 3),\n",
    "#     'block_pooling_type': 'MAX'\n",
    "# }\n",
    "\n",
    "# model = keras.Sequential([\n",
    "#     Dense(10, activation='relu', input_shape=(100,)),\n",
    "#     prune_low_magnitude(layers.Dense(2, activation='tanh'), **pruning_params)\n",
    "# ])"
   ]
  },
  {
   "cell_type": "code",
   "execution_count": null,
   "metadata": {},
   "outputs": [],
   "source": [
    "goldMask = 1-goldIm\n",
    "goldMask = goldMask.astype(np.float32)\n",
    "plt.imshow(goldMask);\n",
    "plt.title(\"Mask created by true R-T\");\n",
    "sum(sum(goldMask))"
   ]
  },
  {
   "cell_type": "code",
   "execution_count": null,
   "metadata": {},
   "outputs": [],
   "source": [
    "tscoreMask = -1.0*tscoreIm + 1.0 \n",
    "tscoreMask = tscoreMask.astype(np.float32)\n",
    "plt.imshow(tscoreMask);\n",
    "plt.title(\"Mask created by our score\");\n",
    "sum(sum(tscoreMask))"
   ]
  },
  {
   "cell_type": "code",
   "execution_count": null,
   "metadata": {},
   "outputs": [],
   "source": [
    "tmagMask = -1.0*tmagIm + 1.0 \n",
    "tmagMask = tmagMask.astype(np.float32)\n",
    "plt.imshow(tmagMask);\n",
    "plt.title(\"Mask created by AE magntidue\");\n",
    "print(sum(sum(tmagMask)))"
   ]
  },
  {
   "cell_type": "code",
   "execution_count": null,
   "metadata": {},
   "outputs": [],
   "source": [
    "tmagAC = modelSuperParent(tmagMask, tmagMask, NUM_TARGETS, NUM_TIME_STEPS, NUM_TARGETS, 32)\n",
    "tmagAC.set_weights( looseParent.get_weights() )\n",
    "tmagACout = tmagAC(validation) #, verbose = 0)\n",
    "loss = ignore_noParent_MSE(validation, tmagACout)\n",
    "print(loss)"
   ]
  },
  {
   "cell_type": "code",
   "execution_count": null,
   "metadata": {},
   "outputs": [],
   "source": [
    "scoreAC = modelSuperParent(tscoreMask, tscoreMask, NUM_TARGETS, NUM_TIME_STEPS, NUM_TARGETS, 32)\n",
    "scoreAC.set_weights(looseParent.get_weights())\n",
    "scoreACout = scoreAC(validation) #, verbose = 0)\n",
    "loss = ignore_noParent_MSE(validation, scoreACout)\n",
    "print(loss)"
   ]
  },
  {
   "cell_type": "code",
   "execution_count": null,
   "metadata": {},
   "outputs": [],
   "source": [
    "goldAC = modelSuperParent(goldMask, goldMask, NUM_TARGETS, NUM_TIME_STEPS, NUM_TARGETS, 32)\n",
    "goldAC.set_weights(looseParent.get_weights())\n",
    "goldout = goldAC(validation) #, verbose = 0)\n",
    "loss = ignore_noParent_MSE(validation, goldout)\n",
    "print(loss)"
   ]
  },
  {
   "cell_type": "code",
   "execution_count": null,
   "metadata": {},
   "outputs": [],
   "source": [
    "print(ignore_noParent_MSE(validation, looseParent.predict(validation)))"
   ]
  },
  {
   "cell_type": "code",
   "execution_count": null,
   "metadata": {},
   "outputs": [],
   "source": [
    "from sklearn.metrics import roc_auc_score\n",
    "roc_auc_score(goldIm[parent_idx].flatten(), tscoreIm[parent_idx].flatten(), average='samples')"
   ]
  },
  {
   "cell_type": "code",
   "execution_count": null,
   "metadata": {},
   "outputs": [],
   "source": [
    "from sklearn.metrics import confusion_matrix\n",
    "print('true negative, false positive')\n",
    "print('false negative, true positive') \n",
    "print(confusion_matrix(goldIm[parent_idx].flatten(), tscoreIm[parent_idx].flatten())) "
   ]
  },
  {
   "cell_type": "code",
   "execution_count": null,
   "metadata": {},
   "outputs": [],
   "source": []
  },
  {
   "cell_type": "code",
   "execution_count": null,
   "metadata": {},
   "outputs": [],
   "source": [
    "# import numpy as np\n",
    "# import matplotlib.pyplot as plt\n",
    " \n",
    "# set width of bar\n",
    "barWidth = 0.15\n",
    "#fig = plt.subplots(figsize =(12, 8))\n",
    " \n",
    "# set height of bar\n",
    "IT = [0.019060984] #base\n",
    "score = [0.023739332]\n",
    "mag = [0.021395445]\n",
    "\n",
    "ECE = [0.024257105 ]  #gold\n",
    " \n",
    " \n",
    "# Set position of bar on X axis\n",
    "br1 = np.arange(len(IT))\n",
    "br2 = [x + barWidth for x in br1]\n",
    "br3 = [x + barWidth for x in br2]\n",
    "br4 = [x + barWidth for x in br3]\n",
    "\n",
    " \n",
    "# Make the plot\n",
    "plt.bar(br1, IT, color ='cyan', width = barWidth,\n",
    "        edgecolor ='grey', label ='Control')\n",
    "plt.bar(br2, score, color ='blue', width = barWidth,\n",
    "        edgecolor ='grey', label ='OBD (us)')\n",
    "plt.bar(br3, mag, color ='red', width = barWidth,\n",
    "        edgecolor ='grey', label ='Magnitude Pruning')\n",
    "plt.bar(br4, ECE, color ='green', width = barWidth,\n",
    "        edgecolor ='grey', label ='Gold Standard')\n",
    "# plt.bar(br3, CSE, color ='b', width = barWidth,\n",
    "#         edgecolor ='grey', label ='CSE')\n",
    " \n",
    "# Adding Xticks\n",
    "plt.xlabel('Mask', fontweight ='bold', fontsize = 15)\n",
    "plt.ylabel('MSE', fontweight ='bold', fontsize = 15)\n",
    "plt.xticks([r + barWidth for r in range(len(IT))],\n",
    "        [''])\n",
    " \n",
    "plt.title(\"MSE on the Validation Set\", fontweight='bold', fontsize = 18);\n",
    "plt.legend(loc = 'upper left');\n",
    "plt.ylim(0.018, 0.028)\n",
    "plt.show()"
   ]
  },
  {
   "cell_type": "code",
   "execution_count": null,
   "metadata": {},
   "outputs": [],
   "source": [
    "\n",
    "plt.imshow(tfMag := sparseParent.get_weights()[0])"
   ]
  },
  {
   "cell_type": "code",
   "execution_count": null,
   "metadata": {},
   "outputs": [],
   "source": [
    "\n",
    "\n",
    "tfmag = np.nonzero(np.abs(tfMag) > np.abs(tfMag)+0.01)\n",
    "tfmagIm = np.zeros(shape=goldIm.shape) \n",
    "tfmagIm[tmag] = 1\n",
    "plt.imshow(tfmagIm);\n",
    "plt.title('Mask created by AE Magnitude. TF Implementation');"
   ]
  },
  {
   "attachments": {},
   "cell_type": "markdown",
   "metadata": {},
   "source": [
    "# Trash Under"
   ]
  },
  {
   "cell_type": "code",
   "execution_count": null,
   "metadata": {},
   "outputs": [],
   "source": [
    "from scipy import signal\n",
    "import scipy\n",
    "from sklearn.decomposition import FactorAnalysis\n",
    "X = scipy.signal.resample_poly(allData[0], up = 5, down = 1, axis = 0)\n",
    "print(X.shape)\n",
    "transformer = FactorAnalysis(n_components=41, random_state=0)\n",
    "X_transformed = transformer.fit_transform(X.T)\n",
    "X_transformed.shape"
   ]
  },
  {
   "cell_type": "code",
   "execution_count": null,
   "metadata": {},
   "outputs": [],
   "source": [
    "plt.imshow(allData[0])"
   ]
  },
  {
   "cell_type": "code",
   "execution_count": null,
   "metadata": {},
   "outputs": [],
   "source": [
    "plt.imshow(X)"
   ]
  },
  {
   "cell_type": "code",
   "execution_count": null,
   "metadata": {},
   "outputs": [],
   "source": [
    "transformer.components_.shape"
   ]
  },
  {
   "cell_type": "code",
   "execution_count": null,
   "metadata": {},
   "outputs": [],
   "source": [
    "plt.imshow(transformer.components_)"
   ]
  },
  {
   "cell_type": "code",
   "execution_count": null,
   "metadata": {},
   "outputs": [],
   "source": [
    "#  val_loss: 0.0221"
   ]
  },
  {
   "cell_type": "code",
   "execution_count": null,
   "metadata": {},
   "outputs": [],
   "source": []
  },
  {
   "cell_type": "code",
   "execution_count": null,
   "metadata": {},
   "outputs": [],
   "source": [
    "plt.imshow(score)"
   ]
  },
  {
   "cell_type": "code",
   "execution_count": null,
   "metadata": {},
   "outputs": [],
   "source": [
    "tscore"
   ]
  },
  {
   "cell_type": "code",
   "execution_count": null,
   "metadata": {},
   "outputs": [],
   "source": [
    "plt.imshow(mag)"
   ]
  },
  {
   "cell_type": "code",
   "execution_count": null,
   "metadata": {},
   "outputs": [],
   "source": [
    "can[19]"
   ]
  },
  {
   "cell_type": "code",
   "execution_count": null,
   "metadata": {},
   "outputs": [],
   "source": [
    "goldIm[19]"
   ]
  },
  {
   "cell_type": "code",
   "execution_count": null,
   "metadata": {},
   "outputs": [],
   "source": [
    "mag.max()"
   ]
  },
  {
   "cell_type": "code",
   "execution_count": null,
   "metadata": {},
   "outputs": [],
   "source": [
    "mag[78]"
   ]
  },
  {
   "cell_type": "code",
   "execution_count": null,
   "metadata": {},
   "outputs": [],
   "source": [
    "can[4]"
   ]
  },
  {
   "cell_type": "code",
   "execution_count": null,
   "metadata": {},
   "outputs": [],
   "source": [
    "plt.imshow(can)"
   ]
  },
  {
   "cell_type": "code",
   "execution_count": null,
   "metadata": {},
   "outputs": [],
   "source": [
    "(np.cov(score, goldIm))\n"
   ]
  },
  {
   "cell_type": "code",
   "execution_count": null,
   "metadata": {},
   "outputs": [],
   "source": [
    "plt.imshow(np.cov(goldIm, score)[100:, 100:])\n",
    "#[100:, 100:]"
   ]
  },
  {
   "cell_type": "code",
   "execution_count": null,
   "metadata": {},
   "outputs": [],
   "source": [
    "u = np.vstack([goldIm.flatten(), score.flatten()])\n",
    "u.shape"
   ]
  },
  {
   "cell_type": "code",
   "execution_count": null,
   "metadata": {},
   "outputs": [],
   "source": [
    "np.cov(u)"
   ]
  },
  {
   "cell_type": "code",
   "execution_count": null,
   "metadata": {},
   "outputs": [],
   "source": [
    "plt.imshow(score);"
   ]
  },
  {
   "cell_type": "code",
   "execution_count": null,
   "metadata": {},
   "outputs": [],
   "source": []
  },
  {
   "cell_type": "code",
   "execution_count": null,
   "metadata": {},
   "outputs": [],
   "source": [
    "np.argmin(score)"
   ]
  },
  {
   "cell_type": "code",
   "execution_count": null,
   "metadata": {},
   "outputs": [],
   "source": [
    "score[score > score.mean() + score.var()]"
   ]
  },
  {
   "cell_type": "code",
   "execution_count": null,
   "metadata": {},
   "outputs": [],
   "source": []
  },
  {
   "cell_type": "code",
   "execution_count": null,
   "metadata": {},
   "outputs": [],
   "source": [
    "# pdf, bins = np.histogram(can, np.arange(NUM_PARENTS*NUM_TARGETS))\n",
    "# pdf"
   ]
  },
  {
   "cell_type": "code",
   "execution_count": null,
   "metadata": {},
   "outputs": [],
   "source": [
    "mag.shape"
   ]
  },
  {
   "attachments": {},
   "cell_type": "markdown",
   "metadata": {},
   "source": [
    "# Magnitudes After Training"
   ]
  },
  {
   "cell_type": "code",
   "execution_count": null,
   "metadata": {},
   "outputs": [],
   "source": [
    "NUM_PARENTS*NUM_TARGETS"
   ]
  },
  {
   "cell_type": "code",
   "execution_count": null,
   "metadata": {},
   "outputs": [],
   "source": [
    "#np.unravel_index(NUM_PARENTS*NUM_TARGETS, shape = (NUM_PARENTS, NUM_TARGETS))"
   ]
  },
  {
   "cell_type": "code",
   "execution_count": null,
   "metadata": {},
   "outputs": [],
   "source": [
    "pdf, bins = np.histogram(can, bins=NUM_PARENTS*NUM_TARGETS)"
   ]
  },
  {
   "cell_type": "code",
   "execution_count": null,
   "metadata": {},
   "outputs": [],
   "source": [
    "len(bins)"
   ]
  },
  {
   "cell_type": "code",
   "execution_count": null,
   "metadata": {},
   "outputs": [],
   "source": [
    "pdf, bins = np.histogram(can, np.arange(0, NUM_PARENTS*NUM_TARGETS))"
   ]
  },
  {
   "cell_type": "code",
   "execution_count": null,
   "metadata": {},
   "outputs": [],
   "source": [
    "bins"
   ]
  },
  {
   "cell_type": "code",
   "execution_count": null,
   "metadata": {},
   "outputs": [],
   "source": [
    "plt.plot(pdf)"
   ]
  },
  {
   "cell_type": "code",
   "execution_count": null,
   "metadata": {},
   "outputs": [],
   "source": [
    "# plt.hist(pdf, bins)"
   ]
  },
  {
   "cell_type": "code",
   "execution_count": null,
   "metadata": {},
   "outputs": [],
   "source": [
    "#TODO: CHECK ME\n",
    "def get_top_reg_targets(can, mag):\n",
    "    \n",
    "    pdf, bins = np.histogram(can, np.arange(0, NUM_PARENTS*NUM_TARGETS))\n",
    "    \n",
    "    pdf2d = np.zeros(shape = (NUM_PARENTS,NUM_TARGETS))\n",
    "\n",
    "    for i in bins:\n",
    "      idx2d = np.unravel_index(i, shape = (NUM_PARENTS, NUM_TARGETS))\n",
    "      try:\n",
    "        pdf2d[idx2d] = pdf[i]\n",
    "      except IndexError:\n",
    "        print(i, idx2d, len(pdf), len(bins), bins[-1])\n",
    "    \n",
    "\n",
    "    importance = np.multiply(pdf2d, mag)\n",
    "    return importance"
   ]
  },
  {
   "cell_type": "code",
   "execution_count": null,
   "metadata": {},
   "outputs": [],
   "source": [
    "top = get_top_reg_targets(can, mag)"
   ]
  },
  {
   "cell_type": "code",
   "execution_count": null,
   "metadata": {},
   "outputs": [],
   "source": []
  },
  {
   "cell_type": "code",
   "execution_count": null,
   "metadata": {},
   "outputs": [],
   "source": [
    "top.shape"
   ]
  },
  {
   "cell_type": "code",
   "execution_count": null,
   "metadata": {},
   "outputs": [],
   "source": [
    "plt.imshow(top)"
   ]
  },
  {
   "attachments": {},
   "cell_type": "markdown",
   "metadata": {},
   "source": [
    "#TODO: try factorial data, ordinary Auto encoder, treshold, tensorflow pruning, check average epoch of lazy kernel\n",
    "\n",
    "#TODO: Actually measure MSE "
   ]
  },
  {
   "cell_type": "code",
   "execution_count": null,
   "metadata": {},
   "outputs": [],
   "source": [
    "plt.imshow(mag)"
   ]
  },
  {
   "cell_type": "code",
   "execution_count": null,
   "metadata": {},
   "outputs": [],
   "source": [
    "# lm = pd.DataFrame(top)\n",
    "# lm.to_csv(\"top_r_t_HepG2.csv\")"
   ]
  },
  {
   "cell_type": "code",
   "execution_count": null,
   "metadata": {},
   "outputs": [],
   "source": [
    "# topdf = pd.read_csv('top_r_t_HepG2.csv')\n",
    "# topdf.head(5)\n"
   ]
  },
  {
   "cell_type": "code",
   "execution_count": null,
   "metadata": {},
   "outputs": [],
   "source": [
    "# top = np.array(topdf)\n",
    "# plt.imshow(top)"
   ]
  },
  {
   "cell_type": "code",
   "execution_count": null,
   "metadata": {},
   "outputs": [],
   "source": [
    "# top = top[:,1:]\n",
    "# plt.imshow(top)"
   ]
  },
  {
   "cell_type": "code",
   "execution_count": null,
   "metadata": {},
   "outputs": [],
   "source": [
    "# np.max(top)"
   ]
  },
  {
   "cell_type": "code",
   "execution_count": null,
   "metadata": {},
   "outputs": [],
   "source": [
    "np.array(non_zero).shape"
   ]
  },
  {
   "cell_type": "code",
   "execution_count": null,
   "metadata": {},
   "outputs": [],
   "source": [
    "top[non_zero].mean()"
   ]
  },
  {
   "cell_type": "code",
   "execution_count": null,
   "metadata": {},
   "outputs": [],
   "source": [
    "mag[non_zero].mean()\n"
   ]
  },
  {
   "cell_type": "code",
   "execution_count": null,
   "metadata": {},
   "outputs": [],
   "source": [
    "mag.mean()"
   ]
  },
  {
   "cell_type": "code",
   "execution_count": null,
   "metadata": {},
   "outputs": [],
   "source": [
    "top.mean()"
   ]
  },
  {
   "cell_type": "code",
   "execution_count": null,
   "metadata": {},
   "outputs": [],
   "source": [
    "no_connect = np.where(goldIm == 0)\n",
    "no_connect = np.array(no_connect)\n",
    "no_connect.shape"
   ]
  },
  {
   "cell_type": "code",
   "execution_count": null,
   "metadata": {},
   "outputs": [],
   "source": [
    "top[no_connect].mean()"
   ]
  },
  {
   "cell_type": "code",
   "execution_count": null,
   "metadata": {},
   "outputs": [],
   "source": [
    "mag[no_connect].mean()"
   ]
  },
  {
   "cell_type": "code",
   "execution_count": null,
   "metadata": {},
   "outputs": [],
   "source": [
    "mag01 = MinMaxScaler().fit_transform(mag.reshape((-1,1)))\n",
    "tff = mag01.flatten()\n",
    "std = np.std(tff)\n",
    "\n",
    "mu = np.mean(tff)\n",
    "mu, std\n",
    "magt = np.where(top > mu + 2*std, 1, 0)\n",
    "magt.dtype = 'int'\n",
    "plt.imshow(magt.reshape(100,100))"
   ]
  },
  {
   "cell_type": "code",
   "execution_count": null,
   "metadata": {},
   "outputs": [],
   "source": [
    "from sklearn.metrics import roc_auc_score\n",
    "roc_auc_score(goldIm.flatten(), magt.flatten(), average='samples')"
   ]
  },
  {
   "cell_type": "code",
   "execution_count": null,
   "metadata": {},
   "outputs": [],
   "source": [
    "top01 = MinMaxScaler().fit_transform(top.reshape((-1,1)))"
   ]
  },
  {
   "cell_type": "code",
   "execution_count": null,
   "metadata": {},
   "outputs": [],
   "source": [
    "plt.imshow(top01.reshape(100,100))"
   ]
  },
  {
   "cell_type": "code",
   "execution_count": null,
   "metadata": {},
   "outputs": [],
   "source": [
    "tff = top01.flatten()\n",
    "std = np.std(tff)\n",
    "\n",
    "mu = np.mean(tff)\n",
    "print(mu, std)\n",
    "yout = np.where(top01.flatten() > mu + 4*std, 1, 0)\n",
    "yout.dtype = 'int'"
   ]
  },
  {
   "cell_type": "code",
   "execution_count": null,
   "metadata": {},
   "outputs": [],
   "source": [
    "plt.imshow(yout.reshape(100,100))"
   ]
  },
  {
   "cell_type": "code",
   "execution_count": null,
   "metadata": {},
   "outputs": [],
   "source": [
    "plt.imshow(goldIm)"
   ]
  },
  {
   "cell_type": "code",
   "execution_count": null,
   "metadata": {},
   "outputs": [],
   "source": [
    "from sklearn.metrics import roc_auc_score\n",
    "roc_auc_score(goldIm.flatten(), (yout).flatten(), average='samples')"
   ]
  },
  {
   "cell_type": "code",
   "execution_count": null,
   "metadata": {},
   "outputs": [],
   "source": [
    "from sklearn.metrics import PrecisionRecallDisplay\n",
    "PrecisionRecallDisplay.from_predictions(goldIm.flatten(), yout.flatten());"
   ]
  },
  {
   "cell_type": "code",
   "execution_count": null,
   "metadata": {},
   "outputs": [],
   "source": []
  },
  {
   "cell_type": "code",
   "execution_count": null,
   "metadata": {},
   "outputs": [],
   "source": [
    "tff = top.flatten()\n",
    "std = np.std(tff)\n",
    "\n",
    "mu = np.mean(tff)\n",
    "mu, std\n",
    "yout = np.where(top > mu + 3*std, 1, 0)\n",
    "yout.dtype = 'int'"
   ]
  },
  {
   "cell_type": "code",
   "execution_count": null,
   "metadata": {},
   "outputs": [],
   "source": [
    "roc_auc_score(goldIm.flatten(), yout.flatten(), average='samples')"
   ]
  },
  {
   "cell_type": "code",
   "execution_count": null,
   "metadata": {},
   "outputs": [],
   "source": [
    "magX = StandardScaler().fit_transform(top.reshape((-1,1)))\n",
    "magX = MinMaxScaler().fit_transform(magX.reshape((-1,1)))\n",
    "you2 = np.where(magX > mu + 3*std, 1, 0)"
   ]
  },
  {
   "cell_type": "code",
   "execution_count": null,
   "metadata": {},
   "outputs": [],
   "source": [
    "roc_auc_score(goldIm.flatten(), you2.flatten(), average='samples')"
   ]
  },
  {
   "attachments": {},
   "cell_type": "markdown",
   "metadata": {},
   "source": [
    "# Draw old graphs; probably trash"
   ]
  },
  {
   "cell_type": "code",
   "execution_count": null,
   "metadata": {},
   "outputs": [],
   "source": [
    "u = plt.imshow(top, cmap = 'inferno', vmin = 0, vmax = np.max(top));\n",
    "plt.colorbar(u ,fraction=0.026, pad=0.1, orientation='horizontal');\n",
    "plt.title(\"HepG2: Regulator-Target Combination Importance\");"
   ]
  },
  {
   "cell_type": "code",
   "execution_count": null,
   "metadata": {},
   "outputs": [],
   "source": [
    "topID = np.array(np.unravel_index(np.argsort(top, axis=None), top.shape))\n",
    "topID = np.flip(topID, axis=1)\n",
    "topID[0] = parent_idx[topID[0]]\n",
    "topID = topID.T\n",
    "topID"
   ]
  },
  {
   "cell_type": "code",
   "execution_count": null,
   "metadata": {},
   "outputs": [],
   "source": [
    "topR_T = pd.DataFrame(topID)\n",
    "topR_T.to_csv(\"DREAM4_Top_reg_target_decendingOrder_firstColIsRegulator.csv\")"
   ]
  },
  {
   "cell_type": "code",
   "execution_count": null,
   "metadata": {},
   "outputs": [],
   "source": [
    "best = np.zeros(NUM_PARENTS)\n",
    "for i in range(NUM_PARENTS):\n",
    "    best[i] = np.sum(top[i])\n",
    "best"
   ]
  },
  {
   "cell_type": "code",
   "execution_count": null,
   "metadata": {},
   "outputs": [],
   "source": [
    "x = np.arange(0,NUM_PARENTS, dtype=int)\n",
    "plt.plot(x, best); "
   ]
  },
  {
   "cell_type": "code",
   "execution_count": null,
   "metadata": {},
   "outputs": [],
   "source": [
    "idx = np.flip(np.argsort(best))\n",
    "idx"
   ]
  },
  {
   "cell_type": "code",
   "execution_count": null,
   "metadata": {},
   "outputs": [],
   "source": [
    "parent_idx[idx] "
   ]
  },
  {
   "cell_type": "code",
   "execution_count": null,
   "metadata": {},
   "outputs": [],
   "source": [
    "np.unique(can).size"
   ]
  },
  {
   "attachments": {},
   "cell_type": "markdown",
   "metadata": {},
   "source": [
    "# Inference on Petal Len"
   ]
  },
  {
   "cell_type": "code",
   "execution_count": null,
   "metadata": {},
   "outputs": [],
   "source": [
    "petal = pd.read_excel(data_path_petal)"
   ]
  },
  {
   "cell_type": "code",
   "execution_count": null,
   "metadata": {},
   "outputs": [],
   "source": [
    "petal_train = petal[petal[\"Line\"] == \"WT\"]\n",
    "petal_train = petal_train.drop(columns=['Line', 'ID', \"Treatment\"])\n",
    "petal_train.head(12)\n",
    "petal_train = petal_train.groupby(['Plate']).mean()\n",
    "petal_train.head()\n",
    "petal_train = petal_train.to_numpy()\n",
    "print(petal_train.shape)\n",
    "scaler1 = StandardScaler()\n",
    "scaler1.fit(petal_train)\n",
    "petal_train = scaler1.transform(petal_train)\n",
    "mm = MinMaxScaler()\n",
    "mm.fit(petal_train)\n",
    "petal_train = mm.transform(petal_train)\n",
    "petal_train"
   ]
  },
  {
   "cell_type": "code",
   "execution_count": null,
   "metadata": {},
   "outputs": [],
   "source": [
    "petal_test = petal[petal[\"Line\"] != \"WT\"]\n",
    "petal_test = petal_test.drop(columns=['Line', 'ID', \"Treatment\"])\n",
    "petal_test = petal_test.groupby(['Plate']).mean()\n",
    "petal_test.head()\n",
    "petal_test = petal_test.to_numpy()\n",
    "print(petal_test.shape)\n",
    "petal_test = scaler1.transform(petal_test)\n",
    "petal_test = mm.transform(petal_test)\n",
    "petal_test"
   ]
  },
  {
   "cell_type": "code",
   "execution_count": null,
   "metadata": {},
   "outputs": [],
   "source": [
    "experiment1.shape\n",
    "testCandidate.shape"
   ]
  },
  {
   "cell_type": "code",
   "execution_count": null,
   "metadata": {},
   "outputs": [],
   "source": [
    "densePredictor = modelDense2(superParent, regulator_gene_matrix, NUM_TARGETS, 6, NUM_TARGETS, 22)\n",
    "densePredictor.compile(optimizer='adam', loss=ignore_noParent_MSE)\n",
    "densePredictor.fit(beanIntensities, beanIntensities,validation_data=(experiment1, experiment1),  epochs=100,  verbose=1)\n",
    "test = densePredictor(testCandidate) #, verbose = 0)\n",
    "loss = ignore_noParent_MSE(testCandidate, test)\n",
    "print(loss)"
   ]
  },
  {
   "cell_type": "code",
   "execution_count": null,
   "metadata": {},
   "outputs": [],
   "source": [
    "rgm = superParent\n",
    "time_steps = 6\n",
    "num_kinase_regulators = NUM_TARGETS\n",
    "num_hidden_units = 22\n",
    "\n",
    "inp = Input(shape=(time_steps, num_kinase_regulators))\n",
    "x = DenseEncoderLinear2(rgm, regulator_gene_matrix, NUM_TARGETS, NUM_TARGETS)(inp)\n",
    "enc = denseencoder2(x, inp, num_hidden_units)\n",
    "denseP = tf.keras.Model(inputs=inp, outputs=enc)\n",
    "#set the weights of the encoder to the weights of auto encoder\n",
    "dw = densePredictor.get_weights()\n",
    "enc_w = dw[0:5]\n",
    "denseP.set_weights(enc_w)\n",
    "#add a dense layer  because we are ouputing 1 number\n",
    "l = Dense(32, activation = 'swish', use_bias=True, kernel_regularizer='l1_l2')(denseP.layers[-1].output)\n",
    "l = Dense(1, activation = 'linear', use_bias = True)(l)\n",
    "denseP = tf.keras.Model(denseP.inputs, l)\n",
    "#denseP.summary()"
   ]
  },
  {
   "cell_type": "code",
   "execution_count": null,
   "metadata": {},
   "outputs": [],
   "source": [
    "bp = np.concatenate([experiment1, experiment1, experiment1, experiment1])\n",
    "bp.shape\n",
    "#bigexperiment1.shape"
   ]
  },
  {
   "cell_type": "code",
   "execution_count": null,
   "metadata": {},
   "outputs": [],
   "source": [
    "a = petal_train[0]\n",
    "b = petal_train[1]\n",
    "c = petal_train[2]\n",
    "d = petal_train[3]\n",
    "\n",
    "petal_train1 = np.array([a,a,a,a, b,b,b,b, c,c,c,c, d,d,d,d]) #does this make sense? we are training network to predict .5\n",
    "petal_train1.shape"
   ]
  },
  {
   "cell_type": "code",
   "execution_count": null,
   "metadata": {},
   "outputs": [],
   "source": [
    "denseP.compile(optimizer='adam', loss=tf.keras.losses.MeanSquaredError())\n",
    "denseP.fit(experiment1, petal_train, epochs=500, verbose = 1)"
   ]
  },
  {
   "cell_type": "code",
   "execution_count": null,
   "metadata": {},
   "outputs": [],
   "source": [
    "testCandidate.shape"
   ]
  },
  {
   "cell_type": "code",
   "execution_count": null,
   "metadata": {},
   "outputs": [],
   "source": [
    "denseP(experiment1) #experiment1 is part of the training set."
   ]
  },
  {
   "cell_type": "code",
   "execution_count": null,
   "metadata": {},
   "outputs": [],
   "source": [
    "petal_train"
   ]
  },
  {
   "cell_type": "code",
   "execution_count": null,
   "metadata": {},
   "outputs": [],
   "source": [
    "print(denseP(testCandidate)) #model output"
   ]
  },
  {
   "cell_type": "code",
   "execution_count": null,
   "metadata": {},
   "outputs": [],
   "source": [
    "petal_test #true label"
   ]
  },
  {
   "cell_type": "code",
   "execution_count": null,
   "metadata": {},
   "outputs": [],
   "source": [
    "petal_train"
   ]
  },
  {
   "cell_type": "code",
   "execution_count": null,
   "metadata": {},
   "outputs": [],
   "source": [
    "denseP.evaluate(testCandidate, petal_test) #eval gave 1.3999 before"
   ]
  },
  {
   "attachments": {},
   "cell_type": "markdown",
   "metadata": {},
   "source": [
    "# Junk"
   ]
  },
  {
   "attachments": {},
   "cell_type": "markdown",
   "metadata": {},
   "source": [
    "## Test SHAP"
   ]
  },
  {
   "cell_type": "code",
   "execution_count": null,
   "metadata": {},
   "outputs": [],
   "source": [
    "\n",
    "# !pip install shap"
   ]
  },
  {
   "cell_type": "code",
   "execution_count": null,
   "metadata": {},
   "outputs": [],
   "source": []
  },
  {
   "cell_type": "code",
   "execution_count": 6,
   "metadata": {},
   "outputs": [
    {
     "name": "stdout",
     "output_type": "stream",
     "text": [
      "Model: \"autoencoder\"\n",
      "_________________________________________________________________\n",
      " Layer (type)                Output Shape              Param #   \n",
      "=================================================================\n",
      " img (InputLayer)            [(None, 28, 28, 1)]       0         \n",
      "                                                                 \n",
      " conv2d_4 (Conv2D)           (None, 26, 26, 16)        160       \n",
      "                                                                 \n",
      " conv2d_5 (Conv2D)           (None, 24, 24, 32)        4640      \n",
      "                                                                 \n",
      " max_pooling2d_1 (MaxPooling  (None, 8, 8, 32)         0         \n",
      " 2D)                                                             \n",
      "                                                                 \n",
      " conv2d_6 (Conv2D)           (None, 6, 6, 32)          9248      \n",
      "                                                                 \n",
      " conv2d_7 (Conv2D)           (None, 4, 4, 16)          4624      \n",
      "                                                                 \n",
      " global_max_pooling2d_1 (Glo  (None, 16)               0         \n",
      " balMaxPooling2D)                                                \n",
      "                                                                 \n",
      " reshape_1 (Reshape)         (None, 4, 4, 1)           0         \n",
      "                                                                 \n",
      " conv2d_transpose_4 (Conv2DT  (None, 6, 6, 16)         160       \n",
      " ranspose)                                                       \n",
      "                                                                 \n",
      " conv2d_transpose_5 (Conv2DT  (None, 8, 8, 32)         4640      \n",
      " ranspose)                                                       \n",
      "                                                                 \n",
      " up_sampling2d_1 (UpSampling  (None, 24, 24, 32)       0         \n",
      " 2D)                                                             \n",
      "                                                                 \n",
      " conv2d_transpose_6 (Conv2DT  (None, 26, 26, 16)       4624      \n",
      " ranspose)                                                       \n",
      "                                                                 \n",
      " conv2d_transpose_7 (Conv2DT  (None, 28, 28, 1)        145       \n",
      " ranspose)                                                       \n",
      "                                                                 \n",
      "=================================================================\n",
      "Total params: 28,241\n",
      "Trainable params: 28,241\n",
      "Non-trainable params: 0\n",
      "_________________________________________________________________\n"
     ]
    }
   ],
   "source": [
    "from keras.applications.vgg16 import VGG16\n",
    "from keras.applications.vgg16 import preprocess_input\n",
    "import keras.backend as K\n",
    "import numpy as np\n",
    "import json\n",
    "import shap\n",
    "import tensorflow.compat.v1.keras.backend as K\n",
    "import tensorflow as tf\n",
    "from tensorflow import keras\n",
    "from keras import layers\n",
    "\n",
    "tf.compat.v1.disable_eager_execution()\n",
    "\n",
    "# load pre-trained model and choose two images to explain\n",
    "model = VGG16(weights='imagenet', include_top=True)\n",
    "\n",
    "encoder_input = keras.Input(shape=(28, 28, 1), name=\"img\")\n",
    "x = layers.Conv2D(16, 3, activation=\"relu\")(encoder_input)\n",
    "x = layers.Conv2D(32, 3, activation=\"relu\")(x)\n",
    "x = layers.MaxPooling2D(3)(x)\n",
    "x = layers.Conv2D(32, 3, activation=\"relu\")(x)\n",
    "x = layers.Conv2D(16, 3, activation=\"relu\")(x)\n",
    "encoder_output = layers.GlobalMaxPooling2D()(x)\n",
    "\n",
    "encoder = keras.Model(encoder_input, encoder_output, name=\"encoder\")\n",
    "# encoder.summary()\n",
    "\n",
    "x = layers.Reshape((4, 4, 1))(encoder_output)\n",
    "x = layers.Conv2DTranspose(16, 3, activation=\"relu\")(x)\n",
    "x = layers.Conv2DTranspose(32, 3, activation=\"relu\")(x)\n",
    "x = layers.UpSampling2D(3)(x)\n",
    "x = layers.Conv2DTranspose(16, 3, activation=\"relu\")(x)\n",
    "decoder_output = layers.Conv2DTranspose(1, 3, activation=\"relu\")(x)\n",
    "\n",
    "autoencoder = keras.Model(encoder_input, decoder_output, name=\"autoencoder\")\n",
    "autoencoder.summary()\n"
   ]
  },
  {
   "cell_type": "code",
   "execution_count": 8,
   "metadata": {},
   "outputs": [],
   "source": [
    "model = autoencoder"
   ]
  },
  {
   "cell_type": "code",
   "execution_count": 9,
   "metadata": {},
   "outputs": [
    {
     "name": "stdout",
     "output_type": "stream",
     "text": [
      "WARNING:tensorflow:From C:\\Users\\Fin Amin\\AppData\\Local\\Temp\\ipykernel_16428\\1144032549.py:13: The name tf.keras.backend.get_session is deprecated. Please use tf.compat.v1.keras.backend.get_session instead.\n",
      "\n"
     ]
    },
    {
     "ename": "ValueError",
     "evalue": "Cannot feed value of shape (50, 224, 224, 3) for Tensor img_2:0, which has shape (None, 28, 28, 1)",
     "output_type": "error",
     "traceback": [
      "\u001b[1;31m---------------------------------------------------------------------------\u001b[0m",
      "\u001b[1;31mValueError\u001b[0m                                Traceback (most recent call last)",
      "\u001b[1;32mc:\\Users\\Fin Amin\\Desktop\\StemCellResearch\\dream4_100\\DreamEncoder4_100.ipynb Cell 207\u001b[0m in \u001b[0;36m<cell line: 14>\u001b[1;34m()\u001b[0m\n\u001b[0;32m     <a href='vscode-notebook-cell:/c%3A/Users/Fin%20Amin/Desktop/StemCellResearch/dream4_100/DreamEncoder4_100.ipynb#Y412sZmlsZQ%3D%3D?line=11'>12</a>\u001b[0m     feed_dict \u001b[39m=\u001b[39m \u001b[39mdict\u001b[39m(\u001b[39mzip\u001b[39m([model\u001b[39m.\u001b[39mlayers[\u001b[39m0\u001b[39m]\u001b[39m.\u001b[39minput], [preprocess_input(x\u001b[39m.\u001b[39mcopy())]))\n\u001b[0;32m     <a href='vscode-notebook-cell:/c%3A/Users/Fin%20Amin/Desktop/StemCellResearch/dream4_100/DreamEncoder4_100.ipynb#Y412sZmlsZQ%3D%3D?line=12'>13</a>\u001b[0m     \u001b[39mreturn\u001b[39;00m K\u001b[39m.\u001b[39mget_session()\u001b[39m.\u001b[39mrun(model\u001b[39m.\u001b[39mlayers[layer]\u001b[39m.\u001b[39minput, feed_dict)\n\u001b[0;32m     <a href='vscode-notebook-cell:/c%3A/Users/Fin%20Amin/Desktop/StemCellResearch/dream4_100/DreamEncoder4_100.ipynb#Y412sZmlsZQ%3D%3D?line=13'>14</a>\u001b[0m e \u001b[39m=\u001b[39m shap\u001b[39m.\u001b[39mGradientExplainer(\n\u001b[0;32m     <a href='vscode-notebook-cell:/c%3A/Users/Fin%20Amin/Desktop/StemCellResearch/dream4_100/DreamEncoder4_100.ipynb#Y412sZmlsZQ%3D%3D?line=14'>15</a>\u001b[0m     (model\u001b[39m.\u001b[39mlayers[\u001b[39m7\u001b[39m]\u001b[39m.\u001b[39minput, model\u001b[39m.\u001b[39mlayers[\u001b[39m-\u001b[39m\u001b[39m1\u001b[39m]\u001b[39m.\u001b[39moutput),\n\u001b[1;32m---> <a href='vscode-notebook-cell:/c%3A/Users/Fin%20Amin/Desktop/StemCellResearch/dream4_100/DreamEncoder4_100.ipynb#Y412sZmlsZQ%3D%3D?line=15'>16</a>\u001b[0m     map2layer(X, \u001b[39m7\u001b[39;49m),\n\u001b[0;32m     <a href='vscode-notebook-cell:/c%3A/Users/Fin%20Amin/Desktop/StemCellResearch/dream4_100/DreamEncoder4_100.ipynb#Y412sZmlsZQ%3D%3D?line=16'>17</a>\u001b[0m     local_smoothing\u001b[39m=\u001b[39m\u001b[39m0\u001b[39m \u001b[39m# std dev of smoothing noise\u001b[39;00m\n\u001b[0;32m     <a href='vscode-notebook-cell:/c%3A/Users/Fin%20Amin/Desktop/StemCellResearch/dream4_100/DreamEncoder4_100.ipynb#Y412sZmlsZQ%3D%3D?line=17'>18</a>\u001b[0m )\n\u001b[0;32m     <a href='vscode-notebook-cell:/c%3A/Users/Fin%20Amin/Desktop/StemCellResearch/dream4_100/DreamEncoder4_100.ipynb#Y412sZmlsZQ%3D%3D?line=18'>19</a>\u001b[0m shap_values,indexes \u001b[39m=\u001b[39m e\u001b[39m.\u001b[39mshap_values(map2layer(to_explain, \u001b[39m7\u001b[39m), ranked_outputs\u001b[39m=\u001b[39m\u001b[39m2\u001b[39m)\n\u001b[0;32m     <a href='vscode-notebook-cell:/c%3A/Users/Fin%20Amin/Desktop/StemCellResearch/dream4_100/DreamEncoder4_100.ipynb#Y412sZmlsZQ%3D%3D?line=20'>21</a>\u001b[0m \u001b[39m# get the names for the classes\u001b[39;00m\n",
      "\u001b[1;32mc:\\Users\\Fin Amin\\Desktop\\StemCellResearch\\dream4_100\\DreamEncoder4_100.ipynb Cell 207\u001b[0m in \u001b[0;36mmap2layer\u001b[1;34m(x, layer)\u001b[0m\n\u001b[0;32m     <a href='vscode-notebook-cell:/c%3A/Users/Fin%20Amin/Desktop/StemCellResearch/dream4_100/DreamEncoder4_100.ipynb#Y412sZmlsZQ%3D%3D?line=10'>11</a>\u001b[0m \u001b[39mdef\u001b[39;00m \u001b[39mmap2layer\u001b[39m(x, layer):\n\u001b[0;32m     <a href='vscode-notebook-cell:/c%3A/Users/Fin%20Amin/Desktop/StemCellResearch/dream4_100/DreamEncoder4_100.ipynb#Y412sZmlsZQ%3D%3D?line=11'>12</a>\u001b[0m     feed_dict \u001b[39m=\u001b[39m \u001b[39mdict\u001b[39m(\u001b[39mzip\u001b[39m([model\u001b[39m.\u001b[39mlayers[\u001b[39m0\u001b[39m]\u001b[39m.\u001b[39minput], [preprocess_input(x\u001b[39m.\u001b[39mcopy())]))\n\u001b[1;32m---> <a href='vscode-notebook-cell:/c%3A/Users/Fin%20Amin/Desktop/StemCellResearch/dream4_100/DreamEncoder4_100.ipynb#Y412sZmlsZQ%3D%3D?line=12'>13</a>\u001b[0m     \u001b[39mreturn\u001b[39;00m K\u001b[39m.\u001b[39;49mget_session()\u001b[39m.\u001b[39;49mrun(model\u001b[39m.\u001b[39;49mlayers[layer]\u001b[39m.\u001b[39;49minput, feed_dict)\n",
      "File \u001b[1;32m~\\AppData\\Roaming\\Python\\Python39\\site-packages\\tensorflow\\python\\client\\session.py:967\u001b[0m, in \u001b[0;36mBaseSession.run\u001b[1;34m(self, fetches, feed_dict, options, run_metadata)\u001b[0m\n\u001b[0;32m    964\u001b[0m run_metadata_ptr \u001b[39m=\u001b[39m tf_session\u001b[39m.\u001b[39mTF_NewBuffer() \u001b[39mif\u001b[39;00m run_metadata \u001b[39melse\u001b[39;00m \u001b[39mNone\u001b[39;00m\n\u001b[0;32m    966\u001b[0m \u001b[39mtry\u001b[39;00m:\n\u001b[1;32m--> 967\u001b[0m   result \u001b[39m=\u001b[39m \u001b[39mself\u001b[39;49m\u001b[39m.\u001b[39;49m_run(\u001b[39mNone\u001b[39;49;00m, fetches, feed_dict, options_ptr,\n\u001b[0;32m    968\u001b[0m                      run_metadata_ptr)\n\u001b[0;32m    969\u001b[0m   \u001b[39mif\u001b[39;00m run_metadata:\n\u001b[0;32m    970\u001b[0m     proto_data \u001b[39m=\u001b[39m tf_session\u001b[39m.\u001b[39mTF_GetBuffer(run_metadata_ptr)\n",
      "File \u001b[1;32m~\\AppData\\Roaming\\Python\\Python39\\site-packages\\tensorflow\\python\\client\\session.py:1164\u001b[0m, in \u001b[0;36mBaseSession._run\u001b[1;34m(self, handle, fetches, feed_dict, options, run_metadata)\u001b[0m\n\u001b[0;32m   1160\u001b[0m   np_val \u001b[39m=\u001b[39m np\u001b[39m.\u001b[39masarray(subfeed_val, dtype\u001b[39m=\u001b[39msubfeed_dtype)\n\u001b[0;32m   1162\u001b[0m \u001b[39mif\u001b[39;00m (\u001b[39mnot\u001b[39;00m is_tensor_handle_feed \u001b[39mand\u001b[39;00m\n\u001b[0;32m   1163\u001b[0m     \u001b[39mnot\u001b[39;00m subfeed_t\u001b[39m.\u001b[39mget_shape()\u001b[39m.\u001b[39mis_compatible_with(np_val\u001b[39m.\u001b[39mshape)):\n\u001b[1;32m-> 1164\u001b[0m   \u001b[39mraise\u001b[39;00m \u001b[39mValueError\u001b[39;00m(\n\u001b[0;32m   1165\u001b[0m       \u001b[39mf\u001b[39m\u001b[39m'\u001b[39m\u001b[39mCannot feed value of shape \u001b[39m\u001b[39m{\u001b[39;00m\u001b[39mstr\u001b[39m(np_val\u001b[39m.\u001b[39mshape)\u001b[39m}\u001b[39;00m\u001b[39m for Tensor \u001b[39m\u001b[39m'\u001b[39m\n\u001b[0;32m   1166\u001b[0m       \u001b[39mf\u001b[39m\u001b[39m'\u001b[39m\u001b[39m{\u001b[39;00msubfeed_t\u001b[39m.\u001b[39mname\u001b[39m}\u001b[39;00m\u001b[39m, which has shape \u001b[39m\u001b[39m'\u001b[39m\n\u001b[0;32m   1167\u001b[0m       \u001b[39mf\u001b[39m\u001b[39m'\u001b[39m\u001b[39m{\u001b[39;00m\u001b[39mstr\u001b[39m(subfeed_t\u001b[39m.\u001b[39mget_shape())\u001b[39m}\u001b[39;00m\u001b[39m'\u001b[39m)\n\u001b[0;32m   1168\u001b[0m \u001b[39mif\u001b[39;00m \u001b[39mnot\u001b[39;00m \u001b[39mself\u001b[39m\u001b[39m.\u001b[39mgraph\u001b[39m.\u001b[39mis_feedable(subfeed_t):\n\u001b[0;32m   1169\u001b[0m   \u001b[39mraise\u001b[39;00m \u001b[39mValueError\u001b[39;00m(\u001b[39mf\u001b[39m\u001b[39m'\u001b[39m\u001b[39mTensor \u001b[39m\u001b[39m{\u001b[39;00msubfeed_t\u001b[39m.\u001b[39mname\u001b[39m}\u001b[39;00m\u001b[39m may not be fed.\u001b[39m\u001b[39m'\u001b[39m)\n",
      "\u001b[1;31mValueError\u001b[0m: Cannot feed value of shape (50, 224, 224, 3) for Tensor img_2:0, which has shape (None, 28, 28, 1)"
     ]
    }
   ],
   "source": [
    "\n",
    "X,y = shap.datasets.imagenet50()\n",
    "to_explain = X[[39,41]]\n",
    "\n",
    "# load the ImageNet class names\n",
    "url = \"https://s3.amazonaws.com/deep-learning-models/image-models/imagenet_class_index.json\"\n",
    "fname = shap.datasets.cache(url)\n",
    "with open(fname) as f:\n",
    "    class_names = json.load(f)\n",
    "\n",
    "# explain how the input to the 7th layer of the model explains the top two classes\n",
    "def map2layer(x, layer):\n",
    "    feed_dict = dict(zip([model.layers[0].input], [preprocess_input(x.copy())]))\n",
    "    return K.get_session().run(model.layers[layer].input, feed_dict)\n",
    "e = shap.GradientExplainer(\n",
    "    (model.layers[7].input, model.layers[-1].output),\n",
    "    map2layer(X, 7),\n",
    "    local_smoothing=0 # std dev of smoothing noise\n",
    ")\n",
    "shap_values,indexes = e.shap_values(map2layer(to_explain, 7), ranked_outputs=2)\n",
    "\n",
    "# get the names for the classes\n",
    "index_names = np.vectorize(lambda x: class_names[str(x)][1])(indexes)\n",
    "\n",
    "# plot the explanations\n",
    "shap.image_plot(shap_values, to_explain, index_names)"
   ]
  },
  {
   "cell_type": "code",
   "execution_count": null,
   "metadata": {},
   "outputs": [],
   "source": [
    "tf.__version__"
   ]
  },
  {
   "attachments": {},
   "cell_type": "markdown",
   "metadata": {},
   "source": [
    "# Load the test set and the synthetic dataset:\n"
   ]
  },
  {
   "cell_type": "code",
   "execution_count": null,
   "metadata": {},
   "outputs": [],
   "source": [
    "def loadTestSet(test_path):\n",
    "    testFiles = []\n",
    "    for np_name in glob(os.path.join(data_path_testSet,'*.np[yz]')):\n",
    "        k = np.load(os.path.join(data_path_testSet,np_name))\n",
    "        testFiles.append(k)\n",
    "#         print(np_name)\n",
    "#         print(k.shape)\n",
    "    return np.array(testFiles)"
   ]
  },
  {
   "cell_type": "code",
   "execution_count": null,
   "metadata": {
    "id": "_PKjzdFCMwFg"
   },
   "outputs": [],
   "source": [
    "def read_files(data_path):\n",
    "\n",
    "    #genes_intensities_data_matrix = pd.read_csv(file_path_intensities, index_col = 0)\n",
    "    #print(os.listdir(data_path))\n",
    "    replicate_files = os.listdir(data_path)\n",
    "    #print('replicate files:',replicate_files)\n",
    "    replicates = []\n",
    "    # i = 0\n",
    "    for file in replicate_files:\n",
    "        \n",
    "        try:\n",
    "            #print('file name:',file)\n",
    "            #print('value of i:',i)\n",
    "            genes_intensities_data_matrix = pd.read_csv(os.path.join(data_path , file), index_col = 0, on_bad_lines='skip')\n",
    "            #print('genes_intensities_data_matrix:',  genes_intensities_data_matrix.head())\n",
    "            replicates.append(np.array(genes_intensities_data_matrix.values, dtype = float))\n",
    "            # i+=1\n",
    "        except PermissionError:\n",
    "            print(\"Not a CSV: \", os.path.join(data_path , file))\n",
    "        \n",
    "    genes_intensities_data_matrix = genes_intensities_data_matrix.values\n",
    "    rgm = np.loadtxt(matrix_path)\n",
    "    rep = np.array(replicates).astype(np.float32)\n",
    "    \n",
    "    return rep, rgm.astype(np.float32)"
   ]
  },
  {
   "cell_type": "code",
   "execution_count": null,
   "metadata": {
    "id": "JCwo4LwlO_FF"
   },
   "outputs": [],
   "source": [
    "beanIntensities, regulator_gene_matrix= read_files(data_path_syn)\n",
    "matrix = regulator_gene_matrix\n",
    "replicates = beanIntensities"
   ]
  },
  {
   "cell_type": "code",
   "execution_count": null,
   "metadata": {},
   "outputs": [],
   "source": [
    "matrix.shape"
   ]
  },
  {
   "cell_type": "code",
   "execution_count": null,
   "metadata": {},
   "outputs": [],
   "source": [
    "replicates.shape"
   ]
  },
  {
   "cell_type": "code",
   "execution_count": null,
   "metadata": {},
   "outputs": [],
   "source": [
    "plt.imshow(matrix)"
   ]
  },
  {
   "cell_type": "code",
   "execution_count": null,
   "metadata": {},
   "outputs": [],
   "source": []
  },
  {
   "cell_type": "code",
   "execution_count": null,
   "metadata": {},
   "outputs": [],
   "source": [
    "d = np.zeros(shape = (3,6,8))\n",
    "id = np.unravel_index(3*6*8 - 1, shape = d.shape)\n",
    "d[id] = 1\n",
    "plt.imshow(d[2])"
   ]
  },
  {
   "cell_type": "code",
   "execution_count": null,
   "metadata": {},
   "outputs": [],
   "source": [
    "testCandidate[0][ : , parentIndex]"
   ]
  },
  {
   "cell_type": "code",
   "execution_count": null,
   "metadata": {},
   "outputs": [],
   "source": [
    "print(outSyn.shape)\n",
    "print(testCandidate.shape)\n",
    "syntheticLoss = ignore_noParent_MSE(np.array([testCandidate[0]]), np.array([outSyn[0]]) )\n",
    "syntheticLoss"
   ]
  },
  {
   "cell_type": "code",
   "execution_count": null,
   "metadata": {},
   "outputs": [],
   "source": [
    "dd"
   ]
  },
  {
   "cell_type": "code",
   "execution_count": null,
   "metadata": {},
   "outputs": [],
   "source": [
    "plt.plot(change[0][22])\n",
    "plt.xlabel(\"epoch\")\n",
    "plt.ylabel(\"change in weight\")"
   ]
  },
  {
   "cell_type": "code",
   "execution_count": null,
   "metadata": {},
   "outputs": [],
   "source": [
    "plt.plot(lossMatrix)\n",
    "plt.xlabel(\"epochs\")\n",
    "plt.ylabel(\"MSE\")"
   ]
  },
  {
   "cell_type": "code",
   "execution_count": null,
   "metadata": {},
   "outputs": [],
   "source": [
    "print(change.shape, lossMatrix.shape)"
   ]
  },
  {
   "cell_type": "code",
   "execution_count": null,
   "metadata": {},
   "outputs": [],
   "source": [
    "d = np.diff(change[0][22])\n",
    "plt.plot(d)\n",
    "d.shape"
   ]
  },
  {
   "cell_type": "code",
   "execution_count": null,
   "metadata": {},
   "outputs": [],
   "source": [
    "change[0][0].flatten()"
   ]
  },
  {
   "cell_type": "code",
   "execution_count": null,
   "metadata": {},
   "outputs": [],
   "source": [
    "top_pr.shape"
   ]
  },
  {
   "cell_type": "code",
   "execution_count": null,
   "metadata": {},
   "outputs": [],
   "source": [
    "plt.plot(d[0])"
   ]
  },
  {
   "cell_type": "code",
   "execution_count": null,
   "metadata": {},
   "outputs": [],
   "source": [
    "\n",
    "# def compute_tresh(change, stop = 0.05):\n",
    "#     diffs = []\n",
    "#     for parent in range(len(change)):\n",
    "#         for child in range(len(change[0])):\n",
    "#             diffs.append(np.diff(change[parent][child]))\n",
    "#     inflection = []\n",
    "\n",
    "\n",
    "#     try:\n",
    "#         for d in diffs:\n",
    "#             print(np.argwhere(np.abs(d) < stop))\n",
    "#             inflection.append(np.min(np.argwhere(np.abs(d) < stop))) #return where the second derivative is first 0. \n",
    "\n",
    "#     except ValueError:\n",
    "#         print(\"Stop value \", stop, \" is too high, trying stop = \", stop + 0.05)\n",
    "#         # s = stop + 0.05\n",
    "#         # return compute_tresh(change, stop = s)\n",
    "        \n",
    "\n",
    "#     return np.average(inflection)\n",
    "        \n",
    "# d = compute_tresh(change)\n",
    "# d.shape"
   ]
  },
  {
   "cell_type": "code",
   "execution_count": null,
   "metadata": {},
   "outputs": [],
   "source": [
    "#np.save(\"mse3.npy\", avgMSE) #mse2/3 is with -1 fix"
   ]
  },
  {
   "cell_type": "code",
   "execution_count": null,
   "metadata": {},
   "outputs": [],
   "source": [
    "#https://www.sciencedirect.com/science/article/pii/S0925231220314570?casa_token=lcEJANqO0JwAAAAA:uL3DGUZctPUZz_sPz1K1i2klMtb83TyKnc9CI3_N-uSOaM7VHL8GhM0jCGYfo25NmpDQQ9Cvlw"
   ]
  },
  {
   "cell_type": "code",
   "execution_count": null,
   "metadata": {},
   "outputs": [],
   "source": [
    "rshp = Flatten()(looseParent.layers[-1].output)\n",
    "\n",
    "modelTemp = tf.keras.Model(inputs=looseParent.input, outputs = [rshp])\n",
    "modelTemp.summary()\n",
    "type(modelTemp)\n",
    "explainer = shap.DeepExplainer(modelTemp, syntheticDataTrain)\n",
    "#shap.explainers._deep.deep_tf.op_handlers[\"AddV2\"] = shap.explainers._deep.deep_tf.passthrough #this solves the \"shap_ADDV2\" problem but another one will appear\n",
    "#shap.explainers._deep.deep_tf.op_handlers[\"FusedBatchNormV3\"] = shap.explainers._deep.deep_tf.passthrough #this solves the next problem which allows you to run the DeepExplainer.\n",
    "\n",
    "shap_values = explainer.shap_values(testCandidate[0:1])\n",
    "def f(x):\n",
    "    return modelTemp.predict(x)\n",
    "\n",
    "print(f(testCandidate))\n",
    "explainer = shap.KernelExplainer(f , testCandidate[0:1], link=\"logit\") #svm.predict_proba, X_train, link=\"logit\")\n",
    "shap_values = explainer.shap_values(testCandidate[0:1], nsamples=100)\n",
    "def map2layer(x, layer):\n",
    "    feed_dict = dict(zip([model.layers[0].input], [preprocess_input(x.copy())]))\n",
    "    return K.get_session().run(model.layers[layer].input, feed_dict)\n",
    "e = shap.GradientExplainer(\n",
    "    (model.layers[7].input, model.layers[-1].output),\n",
    "    map2layer(X, 7),\n",
    "    local_smoothing=0 # std dev of smoothing noise\n",
    ")\n",
    "from keras.applications.vgg16 import VGG16\n",
    "from keras.applications.vgg16 import preprocess_input\n",
    "import keras.backend as K\n",
    "import numpy as np\n",
    "import json\n",
    "import shap\n",
    "\n",
    "# load pre-trained model and choose two images to explain\n",
    "model = VGG16(weights='imagenet', include_top=True)\n",
    "X,y = shap.datasets.imagenet50()\n",
    "to_explain = X[[39,41]]\n",
    "\n",
    "# load the ImageNet class names\n",
    "url = \"https://s3.amazonaws.com/deep-learning-models/image-models/imagenet_class_index.json\"\n",
    "fname = shap.datasets.cache(url)\n",
    "with open(fname) as f:\n",
    "    class_names = json.load(f)\n",
    "\n",
    "# explain how the input to the 7th layer of the model explains the top two classes\n",
    "def map2layer(x, layer):\n",
    "    feed_dict = dict(zip([model.layers[0].input], [preprocess_input(x.copy())]))\n",
    "    return K.get_session().run(model.layers[layer].input, feed_dict)\n",
    "e = shap.GradientExplainer(\n",
    "    (model.layers[7].input, model.layers[-1].output),\n",
    "    map2layer(X, 7),\n",
    "    local_smoothing=0 # std dev of smoothing noise\n",
    ")\n",
    "shap_values,indexes = e.shap_values(map2layer(to_explain, 7), ranked_outputs=2)\n",
    "\n",
    "# get the names for the classes\n",
    "index_names = np.vectorize(lambda x: class_names[str(x)][1])(indexes)\n",
    "\n",
    "# plot the explanations\n",
    "shap.image_plot(shap_values, to_explain, index_names)"
   ]
  },
  {
   "cell_type": "code",
   "execution_count": null,
   "metadata": {},
   "outputs": [],
   "source": [
    "type(enc_dec_Synthetic)"
   ]
  },
  {
   "cell_type": "code",
   "execution_count": null,
   "metadata": {},
   "outputs": [],
   "source": [
    "a = [1,2,3]\n",
    "b = [5,6]\n",
    "u = tf.concat([a,b], axis = 0)\n",
    "u"
   ]
  },
  {
   "cell_type": "code",
   "execution_count": null,
   "metadata": {},
   "outputs": [],
   "source": [
    "newConnections = superParent - regulator_gene_matrix"
   ]
  },
  {
   "cell_type": "code",
   "execution_count": null,
   "metadata": {},
   "outputs": [],
   "source": [
    "plt.imshow(newConnections)"
   ]
  },
  {
   "cell_type": "code",
   "execution_count": null,
   "metadata": {},
   "outputs": [],
   "source": [
    "# nC = []\n",
    "# for i in range(len(newConnections[0])):\n",
    "#     for j in range(len(newConnections[1])):\n",
    "#         if newConnections[i][j] > 0:\n",
    "#             nC.append([i,j])\n",
    "# nC = np.array(nC)\n",
    "# nC = pd.DataFrame(nC)\n",
    "# nC.to_csv(\"new_connections_in_superParents.csv\")"
   ]
  },
  {
   "cell_type": "code",
   "execution_count": null,
   "metadata": {},
   "outputs": [],
   "source": []
  },
  {
   "cell_type": "code",
   "execution_count": null,
   "metadata": {},
   "outputs": [],
   "source": []
  },
  {
   "cell_type": "code",
   "execution_count": null,
   "metadata": {},
   "outputs": [],
   "source": [
    "###Code for testing loss function\n",
    "# print(outSyn.shape)\n",
    "# print(testCandidate.shape)\n",
    "# syntheticLoss = ignore_noParent_MSE(np.array([testCandidate[0]]), np.array([outSyn[0]]) )\n",
    "# syntheticLoss"
   ]
  },
  {
   "attachments": {},
   "cell_type": "markdown",
   "metadata": {},
   "source": [
    "# Synthetic Dataset Auto Encoder\n",
    "Autoencoder has not been trained on synthetic version of experiement 1. We test on the original experiment 1. "
   ]
  },
  {
   "cell_type": "code",
   "execution_count": null,
   "metadata": {
    "id": "WrRuJ_bsrHll"
   },
   "outputs": [],
   "source": [
    "enc_dec_Synthetic.compile(optimizer='adam', loss=ignore_noParent_MSE)"
   ]
  },
  {
   "cell_type": "code",
   "execution_count": null,
   "metadata": {
    "id": "yAOZEEvRRVU4"
   },
   "outputs": [],
   "source": [
    "# enc_dec_Synthetic.compile(optimizer='adam',loss = keras.losses.SparseCategoricalCrossentropy(from_logits=True))"
   ]
  },
  {
   "cell_type": "code",
   "execution_count": null,
   "metadata": {},
   "outputs": [],
   "source": [
    "syntheticDataTrain = beanIntensities[1:]"
   ]
  },
  {
   "cell_type": "code",
   "execution_count": null,
   "metadata": {
    "colab": {
     "base_uri": "https://localhost:8080/"
    },
    "executionInfo": {
     "elapsed": 726,
     "status": "ok",
     "timestamp": 1649273035573,
     "user": {
      "displayName": "Sahil Anish Palarpwar",
      "userId": "17757512684560375750"
     },
     "user_tz": 240
    },
    "id": "EuNDZx5Ov34I",
    "outputId": "74597aa1-c71c-4491-b8c9-4fefed309325"
   },
   "outputs": [],
   "source": [
    "enc_dec_Synthetic.fit(syntheticDataTrain,syntheticDataTrain,epochs=1000)"
   ]
  },
  {
   "cell_type": "code",
   "execution_count": null,
   "metadata": {},
   "outputs": [],
   "source": [
    "test = enc_dec_Synthetic(testCandidate) #, verbose = 0)\n",
    "loss = ignore_noParent_MSE(testCandidate, test)\n",
    "loss"
   ]
  },
  {
   "cell_type": "code",
   "execution_count": null,
   "metadata": {},
   "outputs": [],
   "source": [
    "w = enc_dec_Synthetic.get_weights()"
   ]
  },
  {
   "cell_type": "code",
   "execution_count": null,
   "metadata": {},
   "outputs": [],
   "source": [
    "plt.imshow(w[0], cmap = \"hot\", vmin=0,vmax=0.02)"
   ]
  },
  {
   "cell_type": "code",
   "execution_count": null,
   "metadata": {
    "id": "SBzDmjqJViEw",
    "scrolled": true
   },
   "outputs": [],
   "source": [
    "#we do not need to use this function for the testset\n",
    "def getCSVs(data_path_head):\n",
    "    PATH = data_path_head\n",
    "    EXT = \"*.csv\"\n",
    "    all_csv_files = [file\n",
    "                     for path, subdir, files in os.walk(PATH)\n",
    "                     for file in glob(os.path.join(path, EXT))]\n",
    "    actual = []\n",
    "    for p in all_csv_files:\n",
    "        actual.append(pd.read_csv(p, index_col = 0).to_numpy())\n",
    "    return np.array(actual)\n",
    "    \n",
    "experiment1 = getCSVs(data_path_og_exp1)"
   ]
  },
  {
   "cell_type": "code",
   "execution_count": null,
   "metadata": {},
   "outputs": [],
   "source": [
    "testCandidate = test.numpy().astype(np.float)"
   ]
  },
  {
   "cell_type": "code",
   "execution_count": null,
   "metadata": {},
   "outputs": [],
   "source": [
    "testCandidate.dtype"
   ]
  },
  {
   "cell_type": "code",
   "execution_count": null,
   "metadata": {},
   "outputs": [],
   "source": [
    "np.array([beanIntensities[0]]).shape"
   ]
  },
  {
   "cell_type": "code",
   "execution_count": null,
   "metadata": {},
   "outputs": [],
   "source": [
    "testCandidate[0].shape"
   ]
  },
  {
   "cell_type": "code",
   "execution_count": null,
   "metadata": {},
   "outputs": [],
   "source": [
    "np.array([beanIntensities[0]]).shape"
   ]
  },
  {
   "cell_type": "code",
   "execution_count": null,
   "metadata": {},
   "outputs": [],
   "source": [
    "outSyn = enc_dec_Synthetic.predict(testCandidate)"
   ]
  },
  {
   "cell_type": "code",
   "execution_count": null,
   "metadata": {},
   "outputs": [],
   "source": [
    "def mymagn(A, B):\n",
    "    mse = (np.square(A - B)).mean(axis=None)\n",
    "    return mse"
   ]
  },
  {
   "cell_type": "code",
   "execution_count": null,
   "metadata": {},
   "outputs": [],
   "source": [
    "print(outSyn.shape)"
   ]
  },
  {
   "cell_type": "code",
   "execution_count": null,
   "metadata": {},
   "outputs": [],
   "source": [
    "syntheticLoss = ignore_noParent_MSE(testCandidate, outSyn )\n",
    "syntheticLoss"
   ]
  },
  {
   "cell_type": "code",
   "execution_count": null,
   "metadata": {},
   "outputs": [],
   "source": [
    "(outSyn-testCandidate).shape"
   ]
  },
  {
   "cell_type": "code",
   "execution_count": null,
   "metadata": {},
   "outputs": [],
   "source": [
    "#!pip3 install keras-visualizer\n",
    "#!pip install pydot\n",
    "#data_path_og_exp1 = data_path_testSet \n",
    "# !pip install pydot\n",
    "# !pip install pydotplus\n",
    "# !pip install graphviz"
   ]
  },
  {
   "cell_type": "code",
   "execution_count": null,
   "metadata": {},
   "outputs": [],
   "source": [
    "# test = loadTestSet(data_path_testSet)\n",
    "# testCandidate = test.astype(np.float)\n"
   ]
  },
  {
   "cell_type": "code",
   "execution_count": null,
   "metadata": {
    "id": "nPRV0OAMpKPH"
   },
   "outputs": [],
   "source": [
    "enc_dec_Synthetic = model(regulator_gene_matrix, NUM_TARGETS, NUM_TIME_STEPS, NUM_TARGETS) #we can just change the time steps to something higher"
   ]
  },
  {
   "cell_type": "code",
   "execution_count": null,
   "metadata": {
    "colab": {
     "base_uri": "https://localhost:8080/"
    },
    "executionInfo": {
     "elapsed": 13,
     "status": "ok",
     "timestamp": 1649273028683,
     "user": {
      "displayName": "Sahil Anish Palarpwar",
      "userId": "17757512684560375750"
     },
     "user_tz": 240
    },
    "id": "D6aPT5_cpKK0",
    "outputId": "c261d824-0f38-4eee-b139-f03a80f093e1"
   },
   "outputs": [],
   "source": [
    "enc_dec_Synthetic.summary()"
   ]
  },
  {
   "attachments": {},
   "cell_type": "markdown",
   "metadata": {},
   "source": [
    "# Interpolated dataset Auto Encoder\n",
    "Once again, we do not train on any version of exp1"
   ]
  },
  {
   "cell_type": "code",
   "execution_count": null,
   "metadata": {},
   "outputs": [],
   "source": [
    "def read_filesV2(data_path):\n",
    "    '''\n",
    "    *Changed*\n",
    "    currently hardcoded for only one file. \n",
    "    change code a bit for reading multiple files.\n",
    "    '''\n",
    "    #genes_intensities_data_matrix = pd.read_csv(file_path_intensities, index_col = 0)\n",
    "    #print(os.listdir(data_path))\n",
    "    replicate_files = os.listdir(data_path)\n",
    "    #print('replicate files:',replicate_files)\n",
    "    replicates = []\n",
    "    # i = 0\n",
    "    for file in replicate_files:\n",
    "        \n",
    "        #print('file name:',file)\n",
    "        #print('value of i:',i)\n",
    "        genes_intensities_data_matrix = pd.read_csv(os.path.join(data_path , file), index_col = 0, on_bad_lines='skip')\n",
    "        #print('genes_intensities_data_matrix:',  genes_intensities_data_matrix.head())\n",
    "        replicates.append(genes_intensities_data_matrix.values)\n",
    "        # i+=1\n",
    "        \n",
    "    genes_intensities_data_matrix = genes_intensities_data_matrix.values\n",
    "    rgm = np.loadtxt(matrix_path)\n",
    "    \n",
    "    return np.asarray(replicates), rgm.astype(np.float32)"
   ]
  },
  {
   "cell_type": "code",
   "execution_count": null,
   "metadata": {},
   "outputs": [],
   "source": [
    "interpolated_genes, _ = read_filesV2(data_path_inter)"
   ]
  },
  {
   "cell_type": "code",
   "execution_count": null,
   "metadata": {},
   "outputs": [],
   "source": [
    "interpolated_genes.shape"
   ]
  },
  {
   "cell_type": "code",
   "execution_count": null,
   "metadata": {},
   "outputs": [],
   "source": [
    "pd.DataFrame(interpolated_genes[2]).head(5)"
   ]
  },
  {
   "cell_type": "code",
   "execution_count": null,
   "metadata": {},
   "outputs": [],
   "source": [
    "inter = []\n",
    "for k in range(len(interpolated_genes)):\n",
    "    #print(k)\n",
    "    if k == 2 or k == 3 or k == 4:\n",
    "        inter.append(np.reshape(interpolated_genes[k], (4,6,NUM_TARGETS)))\n",
    "    else: \n",
    "        inter.append(np.reshape(interpolated_genes[k], (5,6,NUM_TARGETS)))\n",
    "inter = np.vstack(inter)"
   ]
  },
  {
   "cell_type": "code",
   "execution_count": null,
   "metadata": {},
   "outputs": [],
   "source": [
    "inter.shape"
   ]
  },
  {
   "cell_type": "code",
   "execution_count": null,
   "metadata": {},
   "outputs": [],
   "source": [
    "beanIntensities[1:].shape"
   ]
  },
  {
   "cell_type": "code",
   "execution_count": null,
   "metadata": {},
   "outputs": [],
   "source": [
    "enc_dec_inter = model(regulator_gene_matrix, NUM_TARGETS, 6, NUM_TARGETS) \n",
    "enc_dec_inter.compile(optimizer='adam', loss=ignore_noParent_MSE)"
   ]
  },
  {
   "cell_type": "code",
   "execution_count": null,
   "metadata": {},
   "outputs": [],
   "source": [
    "enc_dec_inter.fit(inter, inter,epochs=1000);"
   ]
  },
  {
   "cell_type": "code",
   "execution_count": null,
   "metadata": {},
   "outputs": [],
   "source": [
    "outInter = enc_dec_inter.predict(testCandidate)\n",
    "interpolationLoss = ignore_noParent_MSE(testCandidate, outInter)"
   ]
  },
  {
   "cell_type": "code",
   "execution_count": null,
   "metadata": {},
   "outputs": [],
   "source": [
    "interpolationLoss #used to be 3.84 on broke ignore"
   ]
  },
  {
   "cell_type": "code",
   "execution_count": null,
   "metadata": {},
   "outputs": [],
   "source": [
    "outInter.shape"
   ]
  },
  {
   "cell_type": "code",
   "execution_count": null,
   "metadata": {},
   "outputs": [],
   "source": [
    "u = enc_dec_inter.history\n",
    "u"
   ]
  },
  {
   "attachments": {},
   "cell_type": "markdown",
   "metadata": {},
   "source": [
    "# Comparisons between various outputs:"
   ]
  },
  {
   "cell_type": "code",
   "execution_count": null,
   "metadata": {},
   "outputs": [],
   "source": [
    "u = plt.imshow(np.reshape((np.abs(outSyn)), (24,NUM_TARGETS)), cmap = \"hot\", vmin=0,vmax=1.0 );"
   ]
  },
  {
   "cell_type": "code",
   "execution_count": null,
   "metadata": {},
   "outputs": [],
   "source": [
    "u = pd.DataFrame(outSyn[0])\n",
    "u.head(10)"
   ]
  },
  {
   "cell_type": "code",
   "execution_count": null,
   "metadata": {},
   "outputs": [],
   "source": [
    "u = pd.DataFrame(testCandidate[0])\n",
    "u.head(10)"
   ]
  },
  {
   "cell_type": "code",
   "execution_count": null,
   "metadata": {
    "scrolled": true
   },
   "outputs": [],
   "source": [
    "plt.figure(figsize=(50, 50))\n",
    "u = plt.imshow(np.reshape((np.abs(outSyn-outInter)), (24,NUM_TARGETS)), cmap = \"hot\")#, vmin=0,vmax=1.0 );\n",
    "plt.title(\"Difference Between the Outputs of Both Autoencoders\", fontsize = 40);\n",
    "plt.xlabel(\"Phosphopeptide\", fontsize = 30);\n",
    "plt.ylabel(\"Times Concatenated\", fontsize = 30);\n",
    "plt.colorbar(u ,fraction=0.0046, pad=0.02);\n",
    "#plt.savefig(\"DiffBetweenOut.png\")"
   ]
  },
  {
   "cell_type": "code",
   "execution_count": null,
   "metadata": {},
   "outputs": [],
   "source": [
    "plt.figure(figsize=(50, 50))\n",
    "u = plt.imshow(np.reshape(np.abs(outInter-experiment1), (24,NUM_TARGETS)) , cmap = \"hot\") #, vmin=0,vmax=1.0 )\n",
    "plt.title(\"Difference Between the Input and Output of the Autoencoder Trained on Interpolated Data\", fontsize = 40);\n",
    "plt.xlabel(\"Phosphopeptide\", fontsize = 30)\n",
    "plt.ylabel(\"Times Concatenated\", fontsize = 30);\n",
    "plt.colorbar(u ,fraction=0.0046, pad=0.02);\n",
    "#plt.savefig(\"InterDiffImage.png\")"
   ]
  },
  {
   "cell_type": "code",
   "execution_count": null,
   "metadata": {},
   "outputs": [],
   "source": [
    "plt.figure(figsize=(50, 50))\n",
    "u = plt.imshow(np.reshape(np.abs(outSyn-experiment1), (24,NUM_TARGETS)), cmap = \"hot\")#, vmin=0,vmax=1.0 )\n",
    "plt.title(\"Difference Between the Input and Output of the Autoencoder Trained on Synthetic Data\", fontsize = 40);\n",
    "plt.xlabel(\"Phosphopeptide\", fontsize = 30);\n",
    "plt.ylabel(\"Times Concatenated\", fontsize = 30);\n",
    "plt.colorbar(u ,fraction=0.0046, pad=0.02);\n",
    "#plt.savefig(\"SynDiffImage.png\");"
   ]
  },
  {
   "cell_type": "code",
   "execution_count": null,
   "metadata": {},
   "outputs": [],
   "source": [
    "parent_idx = parentIndex.numpy()\n",
    "#print(parent_idx)\n",
    "oSyn = (np.reshape((outSyn), (24,NUM_TARGETS)).T)[parent_idx]\n",
    "oSyn = oSyn.T\n",
    "oSyn.shape\n",
    "\n",
    "exp1_col = (np.reshape((experiment1), (24,NUM_TARGETS)).T)[parent_idx]\n",
    "exp1_col = exp1_col.T\n",
    "print(exp1_col.shape)\n",
    "\n",
    "u = plt.imshow(np.abs(oSyn - exp1_col), cmap = 'hot') #TODO use TF loss function instead of difference.\n",
    "ddff = oSyn-exp1_col\n",
    "plt.colorbar(u)\n",
    "plt.title(\"Difference Between the Input and Output of the Autoencoder Trained on Synthetic Data. Only parents.\");"
   ]
  },
  {
   "cell_type": "code",
   "execution_count": null,
   "metadata": {},
   "outputs": [],
   "source": [
    "pd.DataFrame(oSyn).head(24)"
   ]
  },
  {
   "cell_type": "code",
   "execution_count": null,
   "metadata": {},
   "outputs": [],
   "source": [
    "pd.DataFrame(exp1_col).head(24)\n"
   ]
  },
  {
   "cell_type": "code",
   "execution_count": null,
   "metadata": {},
   "outputs": [],
   "source": [
    "pd.DataFrame(ddff).head(24)\n"
   ]
  },
  {
   "cell_type": "code",
   "execution_count": null,
   "metadata": {},
   "outputs": [],
   "source": [
    "# np.save(\"interpolated_v2.npy\", inter) #the interpolated dataset\n",
    "# np.save(\"synthetic_v2.npy\", beanIntensities[1:]) # the synthetic dataset\n",
    "# np.save(\"synOut_v2.npy\", outSyn) #the output of the encoder trained on synthetic data with the input being exp1\n",
    "# np.save(\"interOut_v2.npy\", outInter) #the output of the encoder trained on interpolated data with the input being exp1"
   ]
  },
  {
   "cell_type": "code",
   "execution_count": null,
   "metadata": {},
   "outputs": [],
   "source": []
  }
 ],
 "metadata": {
  "colab": {
   "authorship_tag": "ABX9TyM6J5QSynTTgZ+lFOhgOtAG",
   "collapsed_sections": [],
   "name": "cnn-third.ipynb",
   "provenance": [
    {
     "file_id": "1mmRxO5jnBc5CdzxXj8sMtPpG0BQ0ulSs",
     "timestamp": 1648921397876
    },
    {
     "file_id": "10758zFj2UnTnwpQaSFIr5r9MqZWdiMsf",
     "timestamp": 1648674775255
    }
   ]
  },
  "kernelspec": {
   "display_name": "Python 3.9.12 ('base')",
   "language": "python",
   "name": "python3"
  },
  "language_info": {
   "codemirror_mode": {
    "name": "ipython",
    "version": 3
   },
   "file_extension": ".py",
   "mimetype": "text/x-python",
   "name": "python",
   "nbconvert_exporter": "python",
   "pygments_lexer": "ipython3",
   "version": "3.9.12"
  },
  "vscode": {
   "interpreter": {
    "hash": "ad2bdc8ecc057115af97d19610ffacc2b4e99fae6737bb82f5d7fb13d2f2c186"
   }
  }
 },
 "nbformat": 4,
 "nbformat_minor": 1
}
