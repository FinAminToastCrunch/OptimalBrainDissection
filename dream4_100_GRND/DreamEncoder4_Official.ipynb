{
 "cells": [
  {
   "cell_type": "code",
   "execution_count": 1,
   "metadata": {},
   "outputs": [],
   "source": [
    "#!pip install synapseclient"
   ]
  },
  {
   "cell_type": "code",
   "execution_count": 2,
   "metadata": {},
   "outputs": [],
   "source": [
    "#!pip install synapseutils"
   ]
  },
  {
   "cell_type": "code",
   "execution_count": 3,
   "metadata": {},
   "outputs": [],
   "source": [
    "# !pip install hyppo    "
   ]
  },
  {
   "cell_type": "code",
   "execution_count": 4,
   "metadata": {},
   "outputs": [],
   "source": [
    "#  import synapseclient \n",
    "#  import synapseutils \n",
    " \n",
    "#  syn = synapseclient.Synapse() \n",
    "#  syn.login('finamintoastcrunch','1Hjldria!') \n",
    "#  files = synapseutils.syncFromSynapse(syn, ' syn2825306 ') "
   ]
  },
  {
   "cell_type": "code",
   "execution_count": 5,
   "metadata": {},
   "outputs": [],
   "source": [
    "# !pip install -q tensorflow-model-optimization"
   ]
  },
  {
   "attachments": {},
   "cell_type": "markdown",
   "metadata": {},
   "source": [
    "# Import Libraries"
   ]
  },
  {
   "cell_type": "code",
   "execution_count": 6,
   "metadata": {
    "id": "qTo_HuQkGgAq"
   },
   "outputs": [],
   "source": [
    "import tensorflow as tf\n",
    "from tensorflow import keras\n",
    "from datetime import datetime\n",
    "import numpy as np\n",
    "import pandas as pd\n",
    "import matplotlib.pyplot as plt\n",
    "\n",
    "from tensorflow.keras.layers import*\n",
    "from keras.utils.vis_utils import plot_model\n",
    "import tensorflow.keras.backend as K\n",
    "# from keras.layers import Input\n",
    "# from keras.layers import Dense\n",
    "# from keras.layers import Conv1D\n",
    "# from keras.layers import Conv1DTranspose\n",
    "# from keras.layers import Flatten, Reshape\n",
    "\n",
    "import os\n",
    "from glob import glob\n",
    "from tqdm import tqdm\n",
    "from tensorflow.keras import losses\n",
    "from sklearn.preprocessing import StandardScaler\n",
    "import tensorflow_model_optimization as tfmot\n",
    "from sklearn.preprocessing import MinMaxScaler\n",
    "\n",
    "\n",
    "from sklearn.model_selection import train_test_split\n",
    "\n",
    "from sklearn.ensemble import RandomForestClassifier\n",
    "from sklearn.decomposition import PCA\n",
    "from sklearn.pipeline import Pipeline\n",
    "\n",
    "import warnings\n",
    "\n",
    "# from interpret import show\n",
    "# from interpret.blackbox import ShapKernel\n",
    "import shap\n",
    "import load_dream4\n",
    "import GRND_AutoEncoderModels"
   ]
  },
  {
   "cell_type": "code",
   "execution_count": 7,
   "metadata": {},
   "outputs": [],
   "source": [
    "df = pd.DataFrame"
   ]
  },
  {
   "cell_type": "code",
   "execution_count": 8,
   "metadata": {},
   "outputs": [
    {
     "data": {
      "text/plain": [
       "[PhysicalDevice(name='/physical_device:GPU:0', device_type='GPU')]"
      ]
     },
     "execution_count": 8,
     "metadata": {},
     "output_type": "execute_result"
    }
   ],
   "source": [
    "tf.config.list_physical_devices(\n",
    "    device_type=None\n",
    ")\n",
    "tf.config.list_physical_devices('GPU')"
   ]
  },
  {
   "cell_type": "code",
   "execution_count": 9,
   "metadata": {},
   "outputs": [
    {
     "data": {
      "text/plain": [
       "True"
      ]
     },
     "execution_count": 9,
     "metadata": {},
     "output_type": "execute_result"
    }
   ],
   "source": [
    "isEager = tf.executing_eagerly()\n",
    "isEager"
   ]
  },
  {
   "cell_type": "code",
   "execution_count": 10,
   "metadata": {},
   "outputs": [],
   "source": [
    "import warnings\n",
    "warnings.filterwarnings('ignore')"
   ]
  },
  {
   "cell_type": "code",
   "execution_count": 11,
   "metadata": {},
   "outputs": [],
   "source": [
    "import matplotlib.pylab as pylab\n",
    "params = {'legend.fontsize': 'x-large',\n",
    "          'figure.figsize': (15, 5),\n",
    "         'axes.labelsize': 'x-large',\n",
    "         'axes.titlesize':'x-large',\n",
    "         'xtick.labelsize':'x-large',\n",
    "         'ytick.labelsize':'x-large'}\n",
    "pylab.rcParams.update(params)"
   ]
  },
  {
   "cell_type": "code",
   "execution_count": 12,
   "metadata": {},
   "outputs": [
    {
     "name": "stdout",
     "output_type": "stream",
     "text": [
      "1 Physical GPUs, 1 Logical GPUs\n"
     ]
    }
   ],
   "source": [
    "gpus = tf.config.list_physical_devices('GPU')\n",
    "if gpus:\n",
    "  try:\n",
    "    # Currently, memory growth needs to be the same across GPUs\n",
    "    for gpu in gpus:\n",
    "      tf.config.experimental.set_memory_growth(gpu, True)\n",
    "    logical_gpus = tf.config.list_logical_devices('GPU')\n",
    "    print(len(gpus), \"Physical GPUs,\", len(logical_gpus), \"Logical GPUs\")\n",
    "  except RuntimeError as e:\n",
    "    # Memory growth must be set before GPUs have been initialized\n",
    "    print(e)"
   ]
  },
  {
   "attachments": {},
   "cell_type": "markdown",
   "metadata": {},
   "source": [
    "# Load DS"
   ]
  },
  {
   "cell_type": "code",
   "execution_count": 13,
   "metadata": {},
   "outputs": [],
   "source": [
    "NUM_PARENTS = None #we compute this from the gold standard\n",
    "NUM_TARGETS = 100\n",
    "NUM_TIME_STEPS = 21\n",
    "NUM_REPLICATES = 10 \n",
    "\n",
    "load_dream4.NUM_TARGETS = NUM_TARGETS\n",
    "load_dream4.NUM_TIME_STEPS = NUM_TIME_STEPS\n",
    "load_dream4.NUM_REPLICATES = NUM_REPLICATES\n",
    "\n",
    "GRND_AutoEncoderModels.NUM_TARGETS = NUM_TARGETS\n",
    "GRND_AutoEncoderModels.NUM_TIME_STEPS = NUM_TIME_STEPS\n",
    "GRND_AutoEncoderModels.NUM_REPLICATES = NUM_REPLICATES\n",
    "\n",
    "ds = str(1) #2,3,4,5"
   ]
  },
  {
   "cell_type": "code",
   "execution_count": 14,
   "metadata": {},
   "outputs": [],
   "source": [
    "\n",
    "dirty_regulations = r'insilico_size100_'+ ds + r'_timeseries.csv'"
   ]
  },
  {
   "cell_type": "code",
   "execution_count": 15,
   "metadata": {},
   "outputs": [
    {
     "data": {
      "text/plain": [
       "(10, 21, 100)"
      ]
     },
     "execution_count": 15,
     "metadata": {},
     "output_type": "execute_result"
    }
   ],
   "source": [
    "\n",
    "\n",
    "dataset = load_dream4.fix_dataset(dirty_regulations)\n",
    "dataset.shape"
   ]
  },
  {
   "cell_type": "code",
   "execution_count": 16,
   "metadata": {},
   "outputs": [
    {
     "name": "stdout",
     "output_type": "stream",
     "text": [
      "(8, 21, 100) (2, 21, 100) (10, 21, 100)\n"
     ]
    }
   ],
   "source": [
    "beanIntensities = dataset[0:8]\n",
    "validation = dataset[8:]\n",
    "allData = dataset\n",
    "print(beanIntensities.shape, validation.shape, allData.shape)"
   ]
  },
  {
   "attachments": {},
   "cell_type": "markdown",
   "metadata": {},
   "source": [
    "# Load Gold Standard"
   ]
  },
  {
   "cell_type": "code",
   "execution_count": 19,
   "metadata": {},
   "outputs": [],
   "source": [
    "gold = pd.read_csv(\"DREAM4_GoldStandard_InSilico_Size100_\" + ds + r\".csv\", header=None)\n"
   ]
  },
  {
   "cell_type": "code",
   "execution_count": 55,
   "metadata": {},
   "outputs": [],
   "source": [
    "\n",
    "gold, goldIm = load_dream4.prep_goldStandard(gold)\n"
   ]
  },
  {
   "cell_type": "code",
   "execution_count": 56,
   "metadata": {},
   "outputs": [
    {
     "data": {
      "text/plain": [
       "<matplotlib.image.AxesImage at 0x251424e6370>"
      ]
     },
     "execution_count": 56,
     "metadata": {},
     "output_type": "execute_result"
    },
    {
     "data": {
      "image/png": "[encoded data removed]",
      "text/plain": [
       "<Figure size 1080x360 with 1 Axes>"
      ]
     },
     "metadata": {
      "needs_background": "light"
     },
     "output_type": "display_data"
    }
   ],
   "source": [
    "plt.imshow(goldIm)"
   ]
  },
  {
   "cell_type": "code",
   "execution_count": 22,
   "metadata": {},
   "outputs": [],
   "source": [
    "non_zero = np.nonzero(goldIm) #non-zero hold all the true connections\n",
    "#non_zero = np.array(np.unravel_index(non_zero, shape = (NUM_PARENTS, NUM_TARGETS)))"
   ]
  },
  {
   "attachments": {},
   "cell_type": "markdown",
   "metadata": {},
   "source": [
    "# RGM and RGM+"
   ]
  },
  {
   "cell_type": "code",
   "execution_count": 23,
   "metadata": {},
   "outputs": [
    {
     "name": "stdout",
     "output_type": "stream",
     "text": [
      "shape of parent index (41,)\n"
     ]
    }
   ],
   "source": [
    "regulator_gene_matrix = goldIm.astype(np.float32) #I set rgm to gold because I didnt not want ot re-write everything\n",
    "superParent = regulator_gene_matrix.copy()\n",
    "ones = np.ones((NUM_TARGETS))\n",
    "parentIndex = []\n",
    "not_parentIndex = []\n",
    "for i in range(len(regulator_gene_matrix)):\n",
    "    if (np.isin(regulator_gene_matrix[i], [1])).any():\n",
    "        #print(i)\n",
    "        superParent[i] = ones \n",
    "        parentIndex.append(i)\n",
    "    else:\n",
    "        not_parentIndex.append(i)\n",
    "\n",
    "parentIndex = np.array(parentIndex)\n",
    "parentIndex = tf.convert_to_tensor(parentIndex)\n",
    "parent_idx = parentIndex.numpy()\n",
    "not_parentIndex = np.array(not_parentIndex)\n",
    "not_parentIndex = tf.convert_to_tensor(not_parentIndex)\n",
    "print(\"shape of parent index\", parentIndex.shape)\n",
    "\n",
    "GRND_AutoEncoderModels.parentIndex = parentIndex\n",
    "\n",
    "\n",
    "\n",
    "#the code below runs the experiment without any known regulators\n",
    "regulator_gene_matrix = np.ones((NUM_TARGETS,NUM_TARGETS), dtype='float32') #we keep this because we want to not mess with the weight init\n",
    "# superParent = np.ones((NUM_TARGETS, NUM_TARGETS), dtype = 'float32')\n",
    "# parentIndex = np.arange(stop=NUM_PARENTS)\n",
    "# parentIndex = tf.convert_to_tensor(parentIndex)\n",
    "# parent_idx = parentIndex.numpy()"
   ]
  },
  {
   "cell_type": "code",
   "execution_count": 24,
   "metadata": {},
   "outputs": [],
   "source": [
    "NUM_PARENTS = parentIndex.shape[0]\n",
    "load_dream4.NUM_PARENTS = NUM_PARENTS\n",
    "GRND_AutoEncoderModels.NUM_PARENTS = NUM_PARENTS "
   ]
  },
  {
   "cell_type": "code",
   "execution_count": 25,
   "metadata": {},
   "outputs": [
    {
     "data": {
      "text/plain": [
       "<tf.Tensor: shape=(41,), dtype=int32, numpy=\n",
       "array([ 0,  4,  9, 14, 22, 24, 25, 35, 36, 37, 39, 41, 42, 43, 44, 45, 53,\n",
       "       54, 56, 61, 62, 63, 64, 65, 66, 68, 71, 72, 74, 81, 82, 84, 86, 89,\n",
       "       90, 91, 92, 95, 97, 98, 99])>"
      ]
     },
     "execution_count": 25,
     "metadata": {},
     "output_type": "execute_result"
    }
   ],
   "source": [
    "parentIndex"
   ]
  },
  {
   "cell_type": "code",
   "execution_count": 26,
   "metadata": {},
   "outputs": [
    {
     "data": {
      "image/png": "[encoded data removed]",
      "text/plain": [
       "<Figure size 1080x360 with 1 Axes>"
      ]
     },
     "metadata": {
      "needs_background": "light"
     },
     "output_type": "display_data"
    }
   ],
   "source": [
    "plt.imshow(superParent, cmap='hot');\n",
    "plt.xlabel(\"Substrate\");\n",
    "plt.ylabel(\"Regulator\");"
   ]
  },
  {
   "cell_type": "code",
   "execution_count": 27,
   "metadata": {},
   "outputs": [
    {
     "data": {
      "image/png": "[encoded data removed]",
      "text/plain": [
       "<Figure size 1080x360 with 1 Axes>"
      ]
     },
     "metadata": {
      "needs_background": "light"
     },
     "output_type": "display_data"
    }
   ],
   "source": [
    "plt.imshow(regulator_gene_matrix, cmap='hot');\n",
    "plt.xlabel(\"Substrate\");\n",
    "plt.ylabel(\"Regulator\");"
   ]
  },
  {
   "attachments": {},
   "cell_type": "markdown",
   "metadata": {},
   "source": [
    "# Custom Loss"
   ]
  },
  {
   "cell_type": "code",
   "execution_count": 28,
   "metadata": {},
   "outputs": [],
   "source": [
    "import GRND_AutoEncoderModels\n"
   ]
  },
  {
   "cell_type": "code",
   "execution_count": 29,
   "metadata": {},
   "outputs": [],
   "source": [
    "ignore_noParent_MSE = GRND_AutoEncoderModels.ignore_noParent_MSE"
   ]
  },
  {
   "cell_type": "code",
   "execution_count": 31,
   "metadata": {},
   "outputs": [
    {
     "data": {
      "text/plain": [
       "array([ 0,  4,  9, 14, 22, 24, 25, 35, 36, 37, 39, 41, 42, 43, 44, 45, 53,\n",
       "       54, 56, 61, 62, 63, 64, 65, 66, 68, 71, 72, 74, 81, 82, 84, 86, 89,\n",
       "       90, 91, 92, 95, 97, 98, 99])"
      ]
     },
     "execution_count": 31,
     "metadata": {},
     "output_type": "execute_result"
    }
   ],
   "source": [
    "parent_idx"
   ]
  },
  {
   "attachments": {},
   "cell_type": "markdown",
   "metadata": {},
   "source": [
    "# Super Parent AutoEncoder"
   ]
  },
  {
   "cell_type": "code",
   "execution_count": 39,
   "metadata": {},
   "outputs": [
    {
     "name": "stdout",
     "output_type": "stream",
     "text": [
      "Epoch 1/200\n",
      "1/1 [==============================] - 12s 12s/step - loss: 0.2207 - val_loss: 0.1987\n",
      "Epoch 2/200\n",
      "1/1 [==============================] - 0s 45ms/step - loss: 0.2149 - val_loss: 0.1892\n",
      "Epoch 3/200\n",
      "1/1 [==============================] - 0s 39ms/step - loss: 0.2041 - val_loss: 0.1732\n",
      "Epoch 4/200\n",
      "1/1 [==============================] - 0s 39ms/step - loss: 0.1860 - val_loss: 0.1499\n",
      "Epoch 5/200\n",
      "1/1 [==============================] - 0s 44ms/step - loss: 0.1595 - val_loss: 0.1209\n",
      "Epoch 6/200\n",
      "1/1 [==============================] - 0s 45ms/step - loss: 0.1264 - val_loss: 0.0964\n",
      "Epoch 7/200\n",
      "1/1 [==============================] - 0s 43ms/step - loss: 0.0983 - val_loss: 0.0977\n",
      "Epoch 8/200\n",
      "1/1 [==============================] - 0s 50ms/step - loss: 0.0986 - val_loss: 0.0955\n",
      "Epoch 9/200\n",
      "1/1 [==============================] - 0s 41ms/step - loss: 0.0962 - val_loss: 0.0756\n",
      "Epoch 10/200\n",
      "1/1 [==============================] - 0s 42ms/step - loss: 0.0745 - val_loss: 0.0598\n",
      "Epoch 11/200\n",
      "1/1 [==============================] - 0s 46ms/step - loss: 0.0573 - val_loss: 0.0541\n",
      "Epoch 12/200\n",
      "1/1 [==============================] - 0s 41ms/step - loss: 0.0513 - val_loss: 0.0531\n",
      "Epoch 13/200\n",
      "1/1 [==============================] - 0s 60ms/step - loss: 0.0504 - val_loss: 0.0517\n",
      "Epoch 14/200\n",
      "1/1 [==============================] - 0s 56ms/step - loss: 0.0489 - val_loss: 0.0483\n",
      "Epoch 15/200\n",
      "1/1 [==============================] - 0s 36ms/step - loss: 0.0450 - val_loss: 0.0441\n",
      "Epoch 16/200\n",
      "1/1 [==============================] - 0s 44ms/step - loss: 0.0402 - val_loss: 0.0414\n",
      "Epoch 17/200\n",
      "1/1 [==============================] - 0s 44ms/step - loss: 0.0369 - val_loss: 0.0415\n",
      "Epoch 18/200\n",
      "1/1 [==============================] - 0s 34ms/step - loss: 0.0366 - val_loss: 0.0423\n",
      "Epoch 19/200\n",
      "1/1 [==============================] - 0s 39ms/step - loss: 0.0372 - val_loss: 0.0410\n",
      "Epoch 20/200\n",
      "1/1 [==============================] - 0s 41ms/step - loss: 0.0354 - val_loss: 0.0378\n",
      "Epoch 21/200\n",
      "1/1 [==============================] - 0s 35ms/step - loss: 0.0317 - val_loss: 0.0353\n",
      "Epoch 22/200\n",
      "1/1 [==============================] - 0s 39ms/step - loss: 0.0289 - val_loss: 0.0344\n",
      "Epoch 23/200\n",
      "1/1 [==============================] - 0s 42ms/step - loss: 0.0279 - val_loss: 0.0344\n",
      "Epoch 24/200\n",
      "1/1 [==============================] - 0s 47ms/step - loss: 0.0278 - val_loss: 0.0341\n",
      "Epoch 25/200\n",
      "1/1 [==============================] - 0s 55ms/step - loss: 0.0273 - val_loss: 0.0331\n",
      "Epoch 26/200\n",
      "1/1 [==============================] - 0s 41ms/step - loss: 0.0260 - val_loss: 0.0319\n",
      "Epoch 27/200\n",
      "1/1 [==============================] - 0s 47ms/step - loss: 0.0243 - val_loss: 0.0312\n",
      "Epoch 28/200\n",
      "1/1 [==============================] - 0s 43ms/step - loss: 0.0232 - val_loss: 0.0312\n",
      "Epoch 29/200\n",
      "1/1 [==============================] - 0s 40ms/step - loss: 0.0230 - val_loss: 0.0313\n",
      "Epoch 30/200\n",
      "1/1 [==============================] - 0s 43ms/step - loss: 0.0229 - val_loss: 0.0307\n",
      "Epoch 31/200\n",
      "1/1 [==============================] - 0s 36ms/step - loss: 0.0221 - val_loss: 0.0295\n",
      "Epoch 32/200\n",
      "1/1 [==============================] - 0s 44ms/step - loss: 0.0208 - val_loss: 0.0286\n",
      "Epoch 33/200\n",
      "1/1 [==============================] - 0s 47ms/step - loss: 0.0199 - val_loss: 0.0281\n",
      "Epoch 34/200\n",
      "1/1 [==============================] - 0s 37ms/step - loss: 0.0195 - val_loss: 0.0279\n",
      "Epoch 35/200\n",
      "1/1 [==============================] - 0s 41ms/step - loss: 0.0193 - val_loss: 0.0276\n",
      "Epoch 36/200\n",
      "1/1 [==============================] - 0s 41ms/step - loss: 0.0189 - val_loss: 0.0270\n",
      "Epoch 37/200\n",
      "1/1 [==============================] - 0s 37ms/step - loss: 0.0182 - val_loss: 0.0265\n",
      "Epoch 38/200\n",
      "1/1 [==============================] - 0s 44ms/step - loss: 0.0175 - val_loss: 0.0264\n",
      "Epoch 39/200\n",
      "1/1 [==============================] - 0s 53ms/step - loss: 0.0172 - val_loss: 0.0264\n",
      "Epoch 40/200\n",
      "1/1 [==============================] - 0s 48ms/step - loss: 0.0171 - val_loss: 0.0262\n",
      "Epoch 41/200\n",
      "1/1 [==============================] - 0s 39ms/step - loss: 0.0169 - val_loss: 0.0258\n",
      "Epoch 42/200\n",
      "1/1 [==============================] - 0s 37ms/step - loss: 0.0164 - val_loss: 0.0253\n",
      "Epoch 43/200\n",
      "1/1 [==============================] - 0s 43ms/step - loss: 0.0160 - val_loss: 0.0251\n",
      "Epoch 44/200\n",
      "1/1 [==============================] - 0s 36ms/step - loss: 0.0158 - val_loss: 0.0250\n",
      "Epoch 45/200\n",
      "1/1 [==============================] - 0s 42ms/step - loss: 0.0157 - val_loss: 0.0249\n",
      "Epoch 46/200\n",
      "1/1 [==============================] - 0s 44ms/step - loss: 0.0156 - val_loss: 0.0247\n",
      "Epoch 47/200\n",
      "1/1 [==============================] - 0s 41ms/step - loss: 0.0153 - val_loss: 0.0246\n",
      "Epoch 48/200\n",
      "1/1 [==============================] - 0s 38ms/step - loss: 0.0151 - val_loss: 0.0246\n",
      "Epoch 49/200\n",
      "1/1 [==============================] - 0s 39ms/step - loss: 0.0149 - val_loss: 0.0246\n",
      "Epoch 50/200\n",
      "1/1 [==============================] - 0s 40ms/step - loss: 0.0149 - val_loss: 0.0246\n",
      "Epoch 51/200\n",
      "1/1 [==============================] - 0s 50ms/step - loss: 0.0148 - val_loss: 0.0244\n",
      "Epoch 52/200\n",
      "1/1 [==============================] - 0s 42ms/step - loss: 0.0146 - val_loss: 0.0242\n",
      "Epoch 53/200\n",
      "1/1 [==============================] - 0s 37ms/step - loss: 0.0144 - val_loss: 0.0241\n",
      "Epoch 54/200\n",
      "1/1 [==============================] - 0s 40ms/step - loss: 0.0144 - val_loss: 0.0241\n",
      "Epoch 55/200\n",
      "1/1 [==============================] - 0s 36ms/step - loss: 0.0143 - val_loss: 0.0240\n",
      "Epoch 56/200\n",
      "1/1 [==============================] - 0s 37ms/step - loss: 0.0143 - val_loss: 0.0239\n",
      "Epoch 57/200\n",
      "1/1 [==============================] - 0s 38ms/step - loss: 0.0141 - val_loss: 0.0239\n",
      "Epoch 58/200\n",
      "1/1 [==============================] - 0s 41ms/step - loss: 0.0141 - val_loss: 0.0239\n",
      "Epoch 59/200\n",
      "1/1 [==============================] - 0s 41ms/step - loss: 0.0140 - val_loss: 0.0239\n",
      "Epoch 60/200\n",
      "1/1 [==============================] - 0s 34ms/step - loss: 0.0140 - val_loss: 0.0238\n",
      "Epoch 61/200\n",
      "1/1 [==============================] - 0s 41ms/step - loss: 0.0139 - val_loss: 0.0237\n",
      "Epoch 62/200\n",
      "1/1 [==============================] - 0s 38ms/step - loss: 0.0139 - val_loss: 0.0236\n",
      "Epoch 63/200\n",
      "1/1 [==============================] - 0s 41ms/step - loss: 0.0138 - val_loss: 0.0235\n",
      "Epoch 64/200\n",
      "1/1 [==============================] - 0s 37ms/step - loss: 0.0138 - val_loss: 0.0235\n",
      "Epoch 65/200\n",
      "1/1 [==============================] - 0s 38ms/step - loss: 0.0138 - val_loss: 0.0234\n",
      "Epoch 66/200\n",
      "1/1 [==============================] - 0s 38ms/step - loss: 0.0137 - val_loss: 0.0234\n",
      "Epoch 67/200\n",
      "1/1 [==============================] - 0s 37ms/step - loss: 0.0137 - val_loss: 0.0234\n",
      "Epoch 68/200\n",
      "1/1 [==============================] - 0s 35ms/step - loss: 0.0137 - val_loss: 0.0234\n",
      "Epoch 69/200\n",
      "1/1 [==============================] - 0s 34ms/step - loss: 0.0137 - val_loss: 0.0234\n",
      "Epoch 70/200\n",
      "1/1 [==============================] - 0s 35ms/step - loss: 0.0136 - val_loss: 0.0234\n",
      "Epoch 71/200\n",
      "1/1 [==============================] - 0s 36ms/step - loss: 0.0136 - val_loss: 0.0233\n",
      "Epoch 72/200\n",
      "1/1 [==============================] - 0s 38ms/step - loss: 0.0136 - val_loss: 0.0233\n",
      "Epoch 73/200\n",
      "1/1 [==============================] - 0s 34ms/step - loss: 0.0136 - val_loss: 0.0233\n",
      "Epoch 74/200\n",
      "1/1 [==============================] - 0s 36ms/step - loss: 0.0136 - val_loss: 0.0233\n",
      "Epoch 75/200\n",
      "1/1 [==============================] - 0s 35ms/step - loss: 0.0135 - val_loss: 0.0233\n",
      "Epoch 76/200\n",
      "1/1 [==============================] - 0s 32ms/step - loss: 0.0135 - val_loss: 0.0233\n",
      "Epoch 77/200\n",
      "1/1 [==============================] - 0s 33ms/step - loss: 0.0135 - val_loss: 0.0233\n",
      "Epoch 78/200\n",
      "1/1 [==============================] - 0s 45ms/step - loss: 0.0135 - val_loss: 0.0233\n",
      "Epoch 79/200\n",
      "1/1 [==============================] - 0s 35ms/step - loss: 0.0135 - val_loss: 0.0232\n",
      "Epoch 80/200\n",
      "1/1 [==============================] - 0s 39ms/step - loss: 0.0135 - val_loss: 0.0232\n",
      "Epoch 81/200\n",
      "1/1 [==============================] - 0s 30ms/step - loss: 0.0134 - val_loss: 0.0232\n",
      "Epoch 82/200\n",
      "1/1 [==============================] - 0s 35ms/step - loss: 0.0134 - val_loss: 0.0232\n",
      "Epoch 83/200\n",
      "1/1 [==============================] - 0s 40ms/step - loss: 0.0134 - val_loss: 0.0232\n",
      "Epoch 84/200\n",
      "1/1 [==============================] - 0s 45ms/step - loss: 0.0134 - val_loss: 0.0232\n",
      "Epoch 85/200\n",
      "1/1 [==============================] - 0s 38ms/step - loss: 0.0134 - val_loss: 0.0232\n",
      "Epoch 86/200\n",
      "1/1 [==============================] - 0s 31ms/step - loss: 0.0134 - val_loss: 0.0232\n",
      "Epoch 87/200\n",
      "1/1 [==============================] - 0s 43ms/step - loss: 0.0134 - val_loss: 0.0232\n",
      "Epoch 88/200\n",
      "1/1 [==============================] - 0s 39ms/step - loss: 0.0134 - val_loss: 0.0232\n",
      "Epoch 89/200\n",
      "1/1 [==============================] - 0s 38ms/step - loss: 0.0134 - val_loss: 0.0231\n",
      "Epoch 90/200\n",
      "1/1 [==============================] - 0s 36ms/step - loss: 0.0133 - val_loss: 0.0231\n",
      "Epoch 91/200\n",
      "1/1 [==============================] - 0s 32ms/step - loss: 0.0133 - val_loss: 0.0231\n",
      "Epoch 92/200\n",
      "1/1 [==============================] - 0s 35ms/step - loss: 0.0133 - val_loss: 0.0231\n",
      "Epoch 93/200\n",
      "1/1 [==============================] - 0s 38ms/step - loss: 0.0133 - val_loss: 0.0231\n",
      "Epoch 94/200\n",
      "1/1 [==============================] - 0s 35ms/step - loss: 0.0133 - val_loss: 0.0231\n",
      "Epoch 95/200\n",
      "1/1 [==============================] - 0s 34ms/step - loss: 0.0133 - val_loss: 0.0231\n",
      "Epoch 96/200\n",
      "1/1 [==============================] - 0s 37ms/step - loss: 0.0133 - val_loss: 0.0231\n",
      "Epoch 97/200\n",
      "1/1 [==============================] - 0s 38ms/step - loss: 0.0133 - val_loss: 0.0231\n",
      "Epoch 98/200\n",
      "1/1 [==============================] - 0s 40ms/step - loss: 0.0132 - val_loss: 0.0230\n",
      "Epoch 99/200\n",
      "1/1 [==============================] - 0s 33ms/step - loss: 0.0132 - val_loss: 0.0230\n",
      "Epoch 100/200\n",
      "1/1 [==============================] - 0s 46ms/step - loss: 0.1224 - val_loss: 0.1041\n",
      "Epoch 101/200\n",
      "1/1 [==============================] - 0s 36ms/step - loss: 0.1077 - val_loss: 0.0817\n",
      "Epoch 102/200\n",
      "1/1 [==============================] - 0s 39ms/step - loss: 0.0823 - val_loss: 0.0530\n",
      "Epoch 103/200\n",
      "1/1 [==============================] - 0s 35ms/step - loss: 0.0496 - val_loss: 0.0279\n",
      "Epoch 104/200\n",
      "1/1 [==============================] - 0s 34ms/step - loss: 0.0206 - val_loss: 0.0304\n",
      "Epoch 105/200\n",
      "1/1 [==============================] - 0s 40ms/step - loss: 0.0216 - val_loss: 0.0627\n",
      "Epoch 106/200\n",
      "1/1 [==============================] - 0s 40ms/step - loss: 0.0557 - val_loss: 0.0604\n",
      "Epoch 107/200\n",
      "1/1 [==============================] - 0s 36ms/step - loss: 0.0532 - val_loss: 0.0357\n",
      "Epoch 108/200\n",
      "1/1 [==============================] - 0s 35ms/step - loss: 0.0267 - val_loss: 0.0235\n",
      "Epoch 109/200\n",
      "1/1 [==============================] - 0s 31ms/step - loss: 0.0140 - val_loss: 0.0263\n",
      "Epoch 110/200\n",
      "1/1 [==============================] - 0s 34ms/step - loss: 0.0178 - val_loss: 0.0338\n",
      "Epoch 111/200\n",
      "1/1 [==============================] - 0s 36ms/step - loss: 0.0266 - val_loss: 0.0391\n",
      "Epoch 112/200\n",
      "1/1 [==============================] - 0s 33ms/step - loss: 0.0328 - val_loss: 0.0402\n",
      "Epoch 113/200\n",
      "1/1 [==============================] - 0s 46ms/step - loss: 0.0338 - val_loss: 0.0372\n",
      "Epoch 114/200\n",
      "1/1 [==============================] - 0s 40ms/step - loss: 0.0303 - val_loss: 0.0318\n",
      "Epoch 115/200\n",
      "1/1 [==============================] - 0s 35ms/step - loss: 0.0238 - val_loss: 0.0265\n",
      "Epoch 116/200\n",
      "1/1 [==============================] - 0s 40ms/step - loss: 0.0173 - val_loss: 0.0243\n",
      "Epoch 117/200\n",
      "1/1 [==============================] - 0s 34ms/step - loss: 0.0142 - val_loss: 0.0266\n",
      "Epoch 118/200\n",
      "1/1 [==============================] - 0s 42ms/step - loss: 0.0162 - val_loss: 0.0314\n",
      "Epoch 119/200\n",
      "1/1 [==============================] - 0s 39ms/step - loss: 0.0210 - val_loss: 0.0335\n",
      "Epoch 120/200\n",
      "1/1 [==============================] - 0s 36ms/step - loss: 0.0231 - val_loss: 0.0308\n",
      "Epoch 121/200\n",
      "1/1 [==============================] - 0s 41ms/step - loss: 0.0204 - val_loss: 0.0265\n",
      "Epoch 122/200\n",
      "1/1 [==============================] - 0s 37ms/step - loss: 0.0160 - val_loss: 0.0240\n",
      "Epoch 123/200\n",
      "1/1 [==============================] - 0s 42ms/step - loss: 0.0137 - val_loss: 0.0241\n",
      "Epoch 124/200\n",
      "1/1 [==============================] - 0s 38ms/step - loss: 0.0143 - val_loss: 0.0255\n",
      "Epoch 125/200\n",
      "1/1 [==============================] - 0s 38ms/step - loss: 0.0162 - val_loss: 0.0267\n",
      "Epoch 126/200\n",
      "1/1 [==============================] - 0s 41ms/step - loss: 0.0177 - val_loss: 0.0268\n",
      "Epoch 127/200\n",
      "1/1 [==============================] - 0s 44ms/step - loss: 0.0180 - val_loss: 0.0259\n",
      "Epoch 128/200\n",
      "1/1 [==============================] - 0s 46ms/step - loss: 0.0169 - val_loss: 0.0245\n",
      "Epoch 129/200\n",
      "1/1 [==============================] - 0s 46ms/step - loss: 0.0153 - val_loss: 0.0234\n",
      "Epoch 130/200\n",
      "1/1 [==============================] - 0s 41ms/step - loss: 0.0139 - val_loss: 0.0234\n",
      "Epoch 131/200\n",
      "1/1 [==============================] - 0s 39ms/step - loss: 0.0137 - val_loss: 0.0242\n",
      "Epoch 132/200\n",
      "1/1 [==============================] - 0s 47ms/step - loss: 0.0144 - val_loss: 0.0251\n",
      "Epoch 133/200\n",
      "1/1 [==============================] - 0s 44ms/step - loss: 0.0154 - val_loss: 0.0253\n",
      "Epoch 134/200\n",
      "1/1 [==============================] - 0s 47ms/step - loss: 0.0156 - val_loss: 0.0247\n",
      "Epoch 135/200\n",
      "1/1 [==============================] - 0s 46ms/step - loss: 0.0149 - val_loss: 0.0237\n",
      "Epoch 136/200\n",
      "1/1 [==============================] - 0s 44ms/step - loss: 0.0140 - val_loss: 0.0232\n",
      "Epoch 137/200\n",
      "1/1 [==============================] - 0s 40ms/step - loss: 0.0135 - val_loss: 0.0232\n",
      "Epoch 138/200\n",
      "1/1 [==============================] - 0s 35ms/step - loss: 0.0136 - val_loss: 0.0235\n",
      "Epoch 139/200\n",
      "1/1 [==============================] - 0s 40ms/step - loss: 0.0141 - val_loss: 0.0238\n",
      "Epoch 140/200\n",
      "1/1 [==============================] - 0s 38ms/step - loss: 0.0144 - val_loss: 0.0239\n",
      "Epoch 141/200\n",
      "1/1 [==============================] - 0s 41ms/step - loss: 0.0144 - val_loss: 0.0236\n",
      "Epoch 142/200\n",
      "1/1 [==============================] - 0s 39ms/step - loss: 0.0141 - val_loss: 0.0234\n",
      "Epoch 143/200\n",
      "1/1 [==============================] - 0s 42ms/step - loss: 0.0137 - val_loss: 0.0233\n",
      "Epoch 144/200\n",
      "1/1 [==============================] - 0s 45ms/step - loss: 0.0135 - val_loss: 0.0234\n",
      "Epoch 145/200\n",
      "1/1 [==============================] - 0s 44ms/step - loss: 0.0135 - val_loss: 0.0236\n",
      "Epoch 146/200\n",
      "1/1 [==============================] - 0s 43ms/step - loss: 0.0137 - val_loss: 0.0238\n",
      "Epoch 147/200\n",
      "1/1 [==============================] - 0s 46ms/step - loss: 0.0139 - val_loss: 0.0238\n",
      "Epoch 148/200\n",
      "1/1 [==============================] - 0s 37ms/step - loss: 0.0139 - val_loss: 0.0236\n",
      "Epoch 149/200\n",
      "1/1 [==============================] - 0s 37ms/step - loss: 0.0137 - val_loss: 0.0233\n",
      "Epoch 150/200\n",
      "1/1 [==============================] - 0s 37ms/step - loss: 0.0135 - val_loss: 0.0232\n",
      "Epoch 151/200\n",
      "1/1 [==============================] - 0s 35ms/step - loss: 0.0134 - val_loss: 0.0232\n",
      "Epoch 152/200\n",
      "1/1 [==============================] - 0s 37ms/step - loss: 0.0135 - val_loss: 0.0232\n",
      "Epoch 153/200\n",
      "1/1 [==============================] - 0s 36ms/step - loss: 0.0136 - val_loss: 0.0233\n",
      "Epoch 154/200\n",
      "1/1 [==============================] - 0s 33ms/step - loss: 0.0136 - val_loss: 0.0232\n",
      "Epoch 155/200\n",
      "1/1 [==============================] - 0s 32ms/step - loss: 0.0136 - val_loss: 0.0232\n",
      "Epoch 156/200\n",
      "1/1 [==============================] - 0s 38ms/step - loss: 0.0135 - val_loss: 0.0231\n",
      "Epoch 157/200\n",
      "1/1 [==============================] - 0s 45ms/step - loss: 0.0134 - val_loss: 0.0232\n",
      "Epoch 158/200\n",
      "1/1 [==============================] - 0s 48ms/step - loss: 0.0134 - val_loss: 0.0232\n",
      "Epoch 159/200\n",
      "1/1 [==============================] - 0s 36ms/step - loss: 0.0134 - val_loss: 0.0233\n",
      "Epoch 160/200\n",
      "1/1 [==============================] - 0s 40ms/step - loss: 0.0135 - val_loss: 0.0233\n",
      "Epoch 161/200\n",
      "1/1 [==============================] - 0s 42ms/step - loss: 0.0135 - val_loss: 0.0233\n",
      "Epoch 162/200\n",
      "1/1 [==============================] - 0s 40ms/step - loss: 0.0134 - val_loss: 0.0232\n",
      "Epoch 163/200\n",
      "1/1 [==============================] - 0s 42ms/step - loss: 0.0134 - val_loss: 0.0232\n",
      "Epoch 164/200\n",
      "1/1 [==============================] - 0s 40ms/step - loss: 0.0133 - val_loss: 0.0232\n",
      "Epoch 165/200\n",
      "1/1 [==============================] - 0s 48ms/step - loss: 0.0133 - val_loss: 0.0232\n",
      "Epoch 166/200\n",
      "1/1 [==============================] - 0s 39ms/step - loss: 0.0134 - val_loss: 0.0232\n",
      "Epoch 167/200\n",
      "1/1 [==============================] - 0s 40ms/step - loss: 0.0134 - val_loss: 0.0232\n",
      "Epoch 168/200\n",
      "1/1 [==============================] - 0s 39ms/step - loss: 0.0134 - val_loss: 0.0231\n",
      "Epoch 169/200\n",
      "1/1 [==============================] - 0s 40ms/step - loss: 0.0133 - val_loss: 0.0231\n",
      "Epoch 170/200\n",
      "1/1 [==============================] - 0s 51ms/step - loss: 0.0133 - val_loss: 0.0231\n",
      "Epoch 171/200\n",
      "1/1 [==============================] - 0s 37ms/step - loss: 0.0133 - val_loss: 0.0231\n",
      "Epoch 172/200\n",
      "1/1 [==============================] - 0s 43ms/step - loss: 0.0133 - val_loss: 0.0232\n",
      "Epoch 173/200\n",
      "1/1 [==============================] - 0s 43ms/step - loss: 0.0133 - val_loss: 0.0231\n",
      "Epoch 174/200\n",
      "1/1 [==============================] - 0s 40ms/step - loss: 0.0133 - val_loss: 0.0231\n",
      "Epoch 175/200\n",
      "1/1 [==============================] - 0s 42ms/step - loss: 0.0133 - val_loss: 0.0231\n",
      "Epoch 176/200\n",
      "1/1 [==============================] - 0s 39ms/step - loss: 0.0133 - val_loss: 0.0231\n",
      "Epoch 177/200\n",
      "1/1 [==============================] - 0s 30ms/step - loss: 0.0133 - val_loss: 0.0230\n",
      "Epoch 178/200\n",
      "1/1 [==============================] - 0s 39ms/step - loss: 0.0133 - val_loss: 0.0230\n",
      "Epoch 179/200\n",
      "1/1 [==============================] - 0s 44ms/step - loss: 0.0133 - val_loss: 0.0230\n",
      "Epoch 180/200\n",
      "1/1 [==============================] - 0s 38ms/step - loss: 0.0133 - val_loss: 0.0230\n",
      "Epoch 181/200\n",
      "1/1 [==============================] - 0s 34ms/step - loss: 0.0133 - val_loss: 0.0230\n",
      "Epoch 182/200\n",
      "1/1 [==============================] - 0s 35ms/step - loss: 0.0132 - val_loss: 0.0230\n",
      "Epoch 183/200\n",
      "1/1 [==============================] - 0s 41ms/step - loss: 0.0132 - val_loss: 0.0230\n",
      "Epoch 184/200\n",
      "1/1 [==============================] - 0s 38ms/step - loss: 0.0132 - val_loss: 0.0230\n",
      "Epoch 185/200\n",
      "1/1 [==============================] - 0s 39ms/step - loss: 0.0132 - val_loss: 0.0230\n",
      "Epoch 186/200\n",
      "1/1 [==============================] - 0s 42ms/step - loss: 0.0132 - val_loss: 0.0230\n",
      "Epoch 187/200\n",
      "1/1 [==============================] - 0s 47ms/step - loss: 0.0132 - val_loss: 0.0230\n",
      "Epoch 188/200\n",
      "1/1 [==============================] - 0s 46ms/step - loss: 0.0132 - val_loss: 0.0230\n",
      "Epoch 189/200\n",
      "1/1 [==============================] - 0s 42ms/step - loss: 0.0132 - val_loss: 0.0230\n",
      "Epoch 190/200\n",
      "1/1 [==============================] - 0s 37ms/step - loss: 0.0132 - val_loss: 0.0230\n",
      "Epoch 191/200\n",
      "1/1 [==============================] - 0s 42ms/step - loss: 0.0132 - val_loss: 0.0229\n",
      "Epoch 192/200\n",
      "1/1 [==============================] - 0s 43ms/step - loss: 0.0131 - val_loss: 0.0229\n",
      "Epoch 193/200\n",
      "1/1 [==============================] - 0s 36ms/step - loss: 0.0131 - val_loss: 0.0229\n",
      "Epoch 194/200\n",
      "1/1 [==============================] - 0s 39ms/step - loss: 0.0131 - val_loss: 0.0229\n",
      "Epoch 195/200\n",
      "1/1 [==============================] - 0s 35ms/step - loss: 0.0131 - val_loss: 0.0229\n",
      "Epoch 196/200\n",
      "1/1 [==============================] - 0s 36ms/step - loss: 0.0131 - val_loss: 0.0229\n",
      "Epoch 197/200\n",
      "1/1 [==============================] - 0s 45ms/step - loss: 0.0131 - val_loss: 0.0229\n",
      "Epoch 198/200\n",
      "1/1 [==============================] - 0s 38ms/step - loss: 0.0131 - val_loss: 0.0229\n",
      "Epoch 199/200\n",
      "1/1 [==============================] - 0s 37ms/step - loss: 0.0131 - val_loss: 0.0229\n",
      "Epoch 200/200\n",
      "1/1 [==============================] - 0s 39ms/step - loss: 0.0131 - val_loss: 0.0229\n",
      "0.013064797967672348\n"
     ]
    }
   ],
   "source": [
    "looseParent = GRND_AutoEncoderModels.modelSuperParent_AutoEncoder(superParent, superParent, NUM_TARGETS, NUM_TIME_STEPS, NUM_TARGETS, 32, sparsity=0.98)\n",
    "looseParent.compile(optimizer='adam', loss=ignore_noParent_MSE)\n",
    "o = looseParent.fit(beanIntensities, beanIntensities, epochs=200, verbose = True,  \n",
    "                    validation_data=(validation, validation), callbacks = [\n",
    "    tfmot.sparsity.keras.UpdatePruningStep()])\n",
    "print(o.history['loss'][-1]) #the final loss "
   ]
  },
  {
   "cell_type": "code",
   "execution_count": 40,
   "metadata": {},
   "outputs": [
    {
     "name": "stdout",
     "output_type": "stream",
     "text": [
      "Model: \"model\"\n",
      "_________________________________________________________________\n",
      " Layer (type)                Output Shape              Param #   \n",
      "=================================================================\n",
      " input_1 (InputLayer)        [(None, 21, 100)]         0         \n",
      "                                                                 \n",
      " prune_low_magnitude_encoder  (None, 21, 100)          20002     \n",
      " _linear_super_parent (Prune                                     \n",
      " LowMagnitude)                                                   \n",
      "                                                                 \n",
      " conv1d (Conv1D)             (None, 19, 32)            9632      \n",
      "                                                                 \n",
      " flatten (Flatten)           (None, 608)               0         \n",
      "                                                                 \n",
      " dense (Dense)               (None, 32)                19488     \n",
      "                                                                 \n",
      " dense_1 (Dense)             (None, 128)               4224      \n",
      "                                                                 \n",
      " reshape (Reshape)           (None, 1, 128)            0         \n",
      "                                                                 \n",
      " conv1d_transpose (Conv1DTra  (None, 21, 100)          268900    \n",
      " nspose)                                                         \n",
      "                                                                 \n",
      " decoder_linear_super_parent  (None, 21, 100)          10000     \n",
      "  (DecoderLinearSuperParent)                                     \n",
      "                                                                 \n",
      "=================================================================\n",
      "Total params: 332,246\n",
      "Trainable params: 322,244\n",
      "Non-trainable params: 10,002\n",
      "_________________________________________________________________\n"
     ]
    }
   ],
   "source": [
    "looseParent.summary()"
   ]
  },
  {
   "cell_type": "code",
   "execution_count": 41,
   "metadata": {},
   "outputs": [],
   "source": [
    "m = looseParent.get_layer(index=1).get_weights()"
   ]
  },
  {
   "cell_type": "code",
   "execution_count": 42,
   "metadata": {},
   "outputs": [
    {
     "data": {
      "text/plain": [
       "<matplotlib.image.AxesImage at 0x25161789850>"
      ]
     },
     "execution_count": 42,
     "metadata": {},
     "output_type": "execute_result"
    },
    {
     "data": {
      "image/png": "[encoded data removed]",
      "text/plain": [
       "<Figure size 1080x360 with 1 Axes>"
      ]
     },
     "metadata": {
      "needs_background": "light"
     },
     "output_type": "display_data"
    }
   ],
   "source": [
    "plt.imshow(goldIm)"
   ]
  },
  {
   "cell_type": "code",
   "execution_count": 43,
   "metadata": {},
   "outputs": [
    {
     "data": {
      "text/plain": [
       "<matplotlib.image.AxesImage at 0x251617d96a0>"
      ]
     },
     "execution_count": 43,
     "metadata": {},
     "output_type": "execute_result"
    },
    {
     "data": {
      "image/png": "[encoded data removed]",
      "text/plain": [
       "<Figure size 1080x360 with 1 Axes>"
      ]
     },
     "metadata": {
      "needs_background": "light"
     },
     "output_type": "display_data"
    }
   ],
   "source": [
    "plt.imshow(np.abs(m[0]))"
   ]
  },
  {
   "cell_type": "code",
   "execution_count": 44,
   "metadata": {},
   "outputs": [
    {
     "data": {
      "text/plain": [
       "(100, 100)"
      ]
     },
     "execution_count": 44,
     "metadata": {},
     "output_type": "execute_result"
    }
   ],
   "source": [
    "m[0].shape"
   ]
  },
  {
   "attachments": {},
   "cell_type": "markdown",
   "metadata": {},
   "source": [
    "# DenseNetAutoEncoder"
   ]
  },
  {
   "cell_type": "code",
   "execution_count": 46,
   "metadata": {},
   "outputs": [
    {
     "name": "stdout",
     "output_type": "stream",
     "text": [
      "Epoch 1/150\n",
      "1/1 [==============================] - 3s 3s/step - loss: 0.2210 - val_loss: 0.1979\n",
      "Epoch 2/150\n",
      "1/1 [==============================] - 0s 40ms/step - loss: 0.2136 - val_loss: 0.1800\n",
      "Epoch 3/150\n",
      "1/1 [==============================] - 0s 42ms/step - loss: 0.1937 - val_loss: 0.1565\n",
      "Epoch 4/150\n",
      "1/1 [==============================] - 0s 43ms/step - loss: 0.1681 - val_loss: 0.1309\n",
      "Epoch 5/150\n",
      "1/1 [==============================] - 0s 42ms/step - loss: 0.1404 - val_loss: 0.1057\n",
      "Epoch 6/150\n",
      "1/1 [==============================] - 0s 40ms/step - loss: 0.1128 - val_loss: 0.0835\n",
      "Epoch 7/150\n",
      "1/1 [==============================] - 0s 38ms/step - loss: 0.0880 - val_loss: 0.0661\n",
      "Epoch 8/150\n",
      "1/1 [==============================] - 0s 46ms/step - loss: 0.0678 - val_loss: 0.0552\n",
      "Epoch 9/150\n",
      "1/1 [==============================] - 0s 41ms/step - loss: 0.0538 - val_loss: 0.0503\n",
      "Epoch 10/150\n",
      "1/1 [==============================] - 0s 50ms/step - loss: 0.0460 - val_loss: 0.0491\n",
      "Epoch 11/150\n",
      "1/1 [==============================] - 0s 44ms/step - loss: 0.0422 - val_loss: 0.0484\n",
      "Epoch 12/150\n",
      "1/1 [==============================] - 0s 40ms/step - loss: 0.0396 - val_loss: 0.0464\n",
      "Epoch 13/150\n",
      "1/1 [==============================] - 0s 42ms/step - loss: 0.0362 - val_loss: 0.0430\n",
      "Epoch 14/150\n",
      "1/1 [==============================] - 0s 57ms/step - loss: 0.0320 - val_loss: 0.0390\n",
      "Epoch 15/150\n",
      "1/1 [==============================] - 0s 48ms/step - loss: 0.0279 - val_loss: 0.0357\n",
      "Epoch 16/150\n",
      "1/1 [==============================] - 0s 42ms/step - loss: 0.0248 - val_loss: 0.0336\n",
      "Epoch 17/150\n",
      "1/1 [==============================] - 0s 39ms/step - loss: 0.0231 - val_loss: 0.0327\n",
      "Epoch 18/150\n",
      "1/1 [==============================] - 0s 42ms/step - loss: 0.0226 - val_loss: 0.0323\n",
      "Epoch 19/150\n",
      "1/1 [==============================] - 0s 44ms/step - loss: 0.0227 - val_loss: 0.0320\n",
      "Epoch 20/150\n",
      "1/1 [==============================] - 0s 41ms/step - loss: 0.0227 - val_loss: 0.0316\n",
      "Epoch 21/150\n",
      "1/1 [==============================] - 0s 40ms/step - loss: 0.0225 - val_loss: 0.0308\n",
      "Epoch 22/150\n",
      "1/1 [==============================] - 0s 48ms/step - loss: 0.0218 - val_loss: 0.0299\n",
      "Epoch 23/150\n",
      "1/1 [==============================] - 0s 46ms/step - loss: 0.0208 - val_loss: 0.0291\n",
      "Epoch 24/150\n",
      "1/1 [==============================] - 0s 45ms/step - loss: 0.0197 - val_loss: 0.0284\n",
      "Epoch 25/150\n",
      "1/1 [==============================] - 0s 39ms/step - loss: 0.0188 - val_loss: 0.0280\n",
      "Epoch 26/150\n",
      "1/1 [==============================] - 0s 43ms/step - loss: 0.0180 - val_loss: 0.0277\n",
      "Epoch 27/150\n",
      "1/1 [==============================] - 0s 46ms/step - loss: 0.0174 - val_loss: 0.0276\n",
      "Epoch 28/150\n",
      "1/1 [==============================] - 0s 42ms/step - loss: 0.0170 - val_loss: 0.0274\n",
      "Epoch 29/150\n",
      "1/1 [==============================] - 0s 43ms/step - loss: 0.0167 - val_loss: 0.0272\n",
      "Epoch 30/150\n",
      "1/1 [==============================] - 0s 44ms/step - loss: 0.0164 - val_loss: 0.0270\n",
      "Epoch 31/150\n",
      "1/1 [==============================] - 0s 44ms/step - loss: 0.0162 - val_loss: 0.0267\n",
      "Epoch 32/150\n",
      "1/1 [==============================] - 0s 41ms/step - loss: 0.0160 - val_loss: 0.0264\n",
      "Epoch 33/150\n",
      "1/1 [==============================] - 0s 40ms/step - loss: 0.0159 - val_loss: 0.0262\n",
      "Epoch 34/150\n",
      "1/1 [==============================] - 0s 39ms/step - loss: 0.0158 - val_loss: 0.0259\n",
      "Epoch 35/150\n",
      "1/1 [==============================] - 0s 37ms/step - loss: 0.0157 - val_loss: 0.0256\n",
      "Epoch 36/150\n",
      "1/1 [==============================] - 0s 44ms/step - loss: 0.0156 - val_loss: 0.0254\n",
      "Epoch 37/150\n",
      "1/1 [==============================] - 0s 48ms/step - loss: 0.0155 - val_loss: 0.0251\n",
      "Epoch 38/150\n",
      "1/1 [==============================] - 0s 41ms/step - loss: 0.0153 - val_loss: 0.0249\n",
      "Epoch 39/150\n",
      "1/1 [==============================] - 0s 54ms/step - loss: 0.0152 - val_loss: 0.0248\n",
      "Epoch 40/150\n",
      "1/1 [==============================] - 0s 43ms/step - loss: 0.0151 - val_loss: 0.0247\n",
      "Epoch 41/150\n",
      "1/1 [==============================] - 0s 45ms/step - loss: 0.0150 - val_loss: 0.0247\n",
      "Epoch 42/150\n",
      "1/1 [==============================] - 0s 41ms/step - loss: 0.0150 - val_loss: 0.0247\n",
      "Epoch 43/150\n",
      "1/1 [==============================] - 0s 45ms/step - loss: 0.0149 - val_loss: 0.0247\n",
      "Epoch 44/150\n",
      "1/1 [==============================] - 0s 38ms/step - loss: 0.0149 - val_loss: 0.0246\n",
      "Epoch 45/150\n",
      "1/1 [==============================] - 0s 41ms/step - loss: 0.0148 - val_loss: 0.0245\n",
      "Epoch 46/150\n",
      "1/1 [==============================] - 0s 39ms/step - loss: 0.0148 - val_loss: 0.0245\n",
      "Epoch 47/150\n",
      "1/1 [==============================] - 0s 43ms/step - loss: 0.0147 - val_loss: 0.0244\n",
      "Epoch 48/150\n",
      "1/1 [==============================] - 0s 44ms/step - loss: 0.0146 - val_loss: 0.0243\n",
      "Epoch 49/150\n",
      "1/1 [==============================] - 0s 42ms/step - loss: 0.0146 - val_loss: 0.0242\n",
      "Epoch 50/150\n",
      "1/1 [==============================] - 0s 43ms/step - loss: 0.0145 - val_loss: 0.0242\n",
      "Epoch 51/150\n",
      "1/1 [==============================] - 0s 64ms/step - loss: 0.0145 - val_loss: 0.0242\n",
      "Epoch 52/150\n",
      "1/1 [==============================] - 0s 53ms/step - loss: 0.0145 - val_loss: 0.0242\n",
      "Epoch 53/150\n",
      "1/1 [==============================] - 0s 52ms/step - loss: 0.0145 - val_loss: 0.0243\n",
      "Epoch 54/150\n",
      "1/1 [==============================] - 0s 50ms/step - loss: 0.0145 - val_loss: 0.0243\n",
      "Epoch 55/150\n",
      "1/1 [==============================] - 0s 51ms/step - loss: 0.0144 - val_loss: 0.0243\n",
      "Epoch 56/150\n",
      "1/1 [==============================] - 0s 41ms/step - loss: 0.0144 - val_loss: 0.0243\n",
      "Epoch 57/150\n",
      "1/1 [==============================] - 0s 39ms/step - loss: 0.0144 - val_loss: 0.0243\n",
      "Epoch 58/150\n",
      "1/1 [==============================] - 0s 42ms/step - loss: 0.0144 - val_loss: 0.0243\n",
      "Epoch 59/150\n",
      "1/1 [==============================] - 0s 48ms/step - loss: 0.0144 - val_loss: 0.0242\n",
      "Epoch 60/150\n",
      "1/1 [==============================] - 0s 44ms/step - loss: 0.0144 - val_loss: 0.0242\n",
      "Epoch 61/150\n",
      "1/1 [==============================] - 0s 39ms/step - loss: 0.0144 - val_loss: 0.0241\n",
      "Epoch 62/150\n",
      "1/1 [==============================] - 0s 41ms/step - loss: 0.0144 - val_loss: 0.0241\n",
      "Epoch 63/150\n",
      "1/1 [==============================] - 0s 42ms/step - loss: 0.0143 - val_loss: 0.0240\n",
      "Epoch 64/150\n",
      "1/1 [==============================] - 0s 45ms/step - loss: 0.0143 - val_loss: 0.0240\n",
      "Epoch 65/150\n",
      "1/1 [==============================] - 0s 43ms/step - loss: 0.0143 - val_loss: 0.0240\n",
      "Epoch 66/150\n",
      "1/1 [==============================] - 0s 46ms/step - loss: 0.0143 - val_loss: 0.0240\n",
      "Epoch 67/150\n",
      "1/1 [==============================] - 0s 42ms/step - loss: 0.0143 - val_loss: 0.0240\n",
      "Epoch 68/150\n",
      "1/1 [==============================] - 0s 40ms/step - loss: 0.0143 - val_loss: 0.0241\n",
      "Epoch 69/150\n",
      "1/1 [==============================] - 0s 41ms/step - loss: 0.0143 - val_loss: 0.0241\n",
      "Epoch 70/150\n",
      "1/1 [==============================] - 0s 50ms/step - loss: 0.0143 - val_loss: 0.0241\n",
      "Epoch 71/150\n",
      "1/1 [==============================] - 0s 41ms/step - loss: 0.0143 - val_loss: 0.0242\n",
      "Epoch 72/150\n",
      "1/1 [==============================] - 0s 42ms/step - loss: 0.0143 - val_loss: 0.0242\n",
      "Epoch 73/150\n",
      "1/1 [==============================] - 0s 41ms/step - loss: 0.0143 - val_loss: 0.0242\n",
      "Epoch 74/150\n",
      "1/1 [==============================] - 0s 40ms/step - loss: 0.0143 - val_loss: 0.0242\n",
      "Epoch 75/150\n",
      "1/1 [==============================] - 0s 39ms/step - loss: 0.0143 - val_loss: 0.0242\n",
      "Epoch 76/150\n",
      "1/1 [==============================] - 0s 39ms/step - loss: 0.0143 - val_loss: 0.0241\n",
      "Epoch 77/150\n",
      "1/1 [==============================] - 0s 50ms/step - loss: 0.0143 - val_loss: 0.0241\n",
      "Epoch 78/150\n",
      "1/1 [==============================] - 0s 49ms/step - loss: 0.0143 - val_loss: 0.0241\n",
      "Epoch 79/150\n",
      "1/1 [==============================] - 0s 53ms/step - loss: 0.0143 - val_loss: 0.0241\n",
      "Epoch 80/150\n",
      "1/1 [==============================] - 0s 38ms/step - loss: 0.0143 - val_loss: 0.0241\n",
      "Epoch 81/150\n",
      "1/1 [==============================] - 0s 41ms/step - loss: 0.0143 - val_loss: 0.0240\n",
      "Epoch 82/150\n",
      "1/1 [==============================] - 0s 45ms/step - loss: 0.0143 - val_loss: 0.0240\n",
      "Epoch 83/150\n",
      "1/1 [==============================] - 0s 37ms/step - loss: 0.0142 - val_loss: 0.0240\n",
      "Epoch 84/150\n",
      "1/1 [==============================] - 0s 40ms/step - loss: 0.0142 - val_loss: 0.0239\n",
      "Epoch 85/150\n",
      "1/1 [==============================] - 0s 45ms/step - loss: 0.0142 - val_loss: 0.0239\n",
      "Epoch 86/150\n",
      "1/1 [==============================] - 0s 39ms/step - loss: 0.0142 - val_loss: 0.0240\n",
      "Epoch 87/150\n",
      "1/1 [==============================] - 0s 37ms/step - loss: 0.0142 - val_loss: 0.0241\n",
      "Epoch 88/150\n",
      "1/1 [==============================] - 0s 43ms/step - loss: 0.0142 - val_loss: 0.0241\n",
      "Epoch 89/150\n",
      "1/1 [==============================] - 0s 44ms/step - loss: 0.0142 - val_loss: 0.0240\n",
      "Epoch 90/150\n",
      "1/1 [==============================] - 0s 45ms/step - loss: 0.0141 - val_loss: 0.0239\n",
      "Epoch 91/150\n",
      "1/1 [==============================] - 0s 45ms/step - loss: 0.0141 - val_loss: 0.0239\n",
      "Epoch 92/150\n",
      "1/1 [==============================] - 0s 41ms/step - loss: 0.0141 - val_loss: 0.0239\n",
      "Epoch 93/150\n",
      "1/1 [==============================] - 0s 45ms/step - loss: 0.0141 - val_loss: 0.0239\n",
      "Epoch 94/150\n",
      "1/1 [==============================] - 0s 43ms/step - loss: 0.0140 - val_loss: 0.0239\n",
      "Epoch 95/150\n",
      "1/1 [==============================] - 0s 44ms/step - loss: 0.0140 - val_loss: 0.0239\n",
      "Epoch 96/150\n",
      "1/1 [==============================] - 0s 38ms/step - loss: 0.0140 - val_loss: 0.0238\n",
      "Epoch 97/150\n",
      "1/1 [==============================] - 0s 53ms/step - loss: 0.0140 - val_loss: 0.0237\n",
      "Epoch 98/150\n",
      "1/1 [==============================] - 0s 50ms/step - loss: 0.0139 - val_loss: 0.0237\n",
      "Epoch 99/150\n",
      "1/1 [==============================] - 0s 51ms/step - loss: 0.0139 - val_loss: 0.0237\n",
      "Epoch 100/150\n",
      "1/1 [==============================] - 0s 43ms/step - loss: 0.0143 - val_loss: 0.0235\n",
      "Epoch 101/150\n",
      "1/1 [==============================] - 0s 37ms/step - loss: 0.0142 - val_loss: 0.0236\n",
      "Epoch 102/150\n",
      "1/1 [==============================] - 0s 39ms/step - loss: 0.0141 - val_loss: 0.0239\n",
      "Epoch 103/150\n",
      "1/1 [==============================] - 0s 39ms/step - loss: 0.0141 - val_loss: 0.0242\n",
      "Epoch 104/150\n",
      "1/1 [==============================] - 0s 43ms/step - loss: 0.0141 - val_loss: 0.0243\n",
      "Epoch 105/150\n",
      "1/1 [==============================] - 0s 43ms/step - loss: 0.0141 - val_loss: 0.0243\n",
      "Epoch 106/150\n",
      "1/1 [==============================] - 0s 40ms/step - loss: 0.0141 - val_loss: 0.0241\n",
      "Epoch 107/150\n",
      "1/1 [==============================] - 0s 38ms/step - loss: 0.0140 - val_loss: 0.0239\n",
      "Epoch 108/150\n",
      "1/1 [==============================] - 0s 37ms/step - loss: 0.0140 - val_loss: 0.0237\n",
      "Epoch 109/150\n",
      "1/1 [==============================] - 0s 42ms/step - loss: 0.0140 - val_loss: 0.0236\n",
      "Epoch 110/150\n",
      "1/1 [==============================] - 0s 42ms/step - loss: 0.0140 - val_loss: 0.0236\n",
      "Epoch 111/150\n",
      "1/1 [==============================] - 0s 43ms/step - loss: 0.0140 - val_loss: 0.0236\n",
      "Epoch 112/150\n",
      "1/1 [==============================] - 0s 44ms/step - loss: 0.0139 - val_loss: 0.0237\n",
      "Epoch 113/150\n",
      "1/1 [==============================] - 0s 42ms/step - loss: 0.0139 - val_loss: 0.0237\n",
      "Epoch 114/150\n",
      "1/1 [==============================] - 0s 42ms/step - loss: 0.0138 - val_loss: 0.0238\n",
      "Epoch 115/150\n",
      "1/1 [==============================] - 0s 51ms/step - loss: 0.0138 - val_loss: 0.0237\n",
      "Epoch 116/150\n",
      "1/1 [==============================] - 0s 50ms/step - loss: 0.0138 - val_loss: 0.0236\n",
      "Epoch 117/150\n",
      "1/1 [==============================] - 0s 44ms/step - loss: 0.0137 - val_loss: 0.0234\n",
      "Epoch 118/150\n",
      "1/1 [==============================] - 0s 54ms/step - loss: 0.0136 - val_loss: 0.0233\n",
      "Epoch 119/150\n",
      "1/1 [==============================] - 0s 45ms/step - loss: 0.0136 - val_loss: 0.0232\n",
      "Epoch 120/150\n",
      "1/1 [==============================] - 0s 46ms/step - loss: 0.0135 - val_loss: 0.0231\n",
      "Epoch 121/150\n",
      "1/1 [==============================] - 0s 48ms/step - loss: 0.0135 - val_loss: 0.0231\n",
      "Epoch 122/150\n",
      "1/1 [==============================] - 0s 55ms/step - loss: 0.0134 - val_loss: 0.0232\n",
      "Epoch 123/150\n",
      "1/1 [==============================] - 0s 53ms/step - loss: 0.0133 - val_loss: 0.0232\n",
      "Epoch 124/150\n",
      "1/1 [==============================] - 0s 44ms/step - loss: 0.0133 - val_loss: 0.0232\n",
      "Epoch 125/150\n",
      "1/1 [==============================] - 0s 49ms/step - loss: 0.0132 - val_loss: 0.0230\n",
      "Epoch 126/150\n",
      "1/1 [==============================] - 0s 55ms/step - loss: 0.0131 - val_loss: 0.0229\n",
      "Epoch 127/150\n",
      "1/1 [==============================] - 0s 55ms/step - loss: 0.0130 - val_loss: 0.0228\n",
      "Epoch 128/150\n",
      "1/1 [==============================] - 0s 48ms/step - loss: 0.0129 - val_loss: 0.0227\n",
      "Epoch 129/150\n",
      "1/1 [==============================] - 0s 48ms/step - loss: 0.0129 - val_loss: 0.0227\n",
      "Epoch 130/150\n",
      "1/1 [==============================] - 0s 43ms/step - loss: 0.0128 - val_loss: 0.0227\n",
      "Epoch 131/150\n",
      "1/1 [==============================] - 0s 44ms/step - loss: 0.0127 - val_loss: 0.0227\n",
      "Epoch 132/150\n",
      "1/1 [==============================] - 0s 47ms/step - loss: 0.0126 - val_loss: 0.0227\n",
      "Epoch 133/150\n",
      "1/1 [==============================] - 0s 45ms/step - loss: 0.0125 - val_loss: 0.0226\n",
      "Epoch 134/150\n",
      "1/1 [==============================] - 0s 44ms/step - loss: 0.0124 - val_loss: 0.0225\n",
      "Epoch 135/150\n",
      "1/1 [==============================] - 0s 41ms/step - loss: 0.0123 - val_loss: 0.0225\n",
      "Epoch 136/150\n",
      "1/1 [==============================] - 0s 46ms/step - loss: 0.0122 - val_loss: 0.0225\n",
      "Epoch 137/150\n",
      "1/1 [==============================] - 0s 52ms/step - loss: 0.0121 - val_loss: 0.0224\n",
      "Epoch 138/150\n",
      "1/1 [==============================] - 0s 49ms/step - loss: 0.0120 - val_loss: 0.0223\n",
      "Epoch 139/150\n",
      "1/1 [==============================] - 0s 46ms/step - loss: 0.0119 - val_loss: 0.0222\n",
      "Epoch 140/150\n",
      "1/1 [==============================] - 0s 44ms/step - loss: 0.0118 - val_loss: 0.0221\n",
      "Epoch 141/150\n",
      "1/1 [==============================] - 0s 44ms/step - loss: 0.0117 - val_loss: 0.0220\n",
      "Epoch 142/150\n",
      "1/1 [==============================] - 0s 45ms/step - loss: 0.0115 - val_loss: 0.0219\n",
      "Epoch 143/150\n",
      "1/1 [==============================] - 0s 44ms/step - loss: 0.0114 - val_loss: 0.0217\n",
      "Epoch 144/150\n",
      "1/1 [==============================] - 0s 45ms/step - loss: 0.0113 - val_loss: 0.0216\n",
      "Epoch 145/150\n",
      "1/1 [==============================] - 0s 46ms/step - loss: 0.0112 - val_loss: 0.0214\n",
      "Epoch 146/150\n",
      "1/1 [==============================] - 0s 43ms/step - loss: 0.0111 - val_loss: 0.0213\n",
      "Epoch 147/150\n",
      "1/1 [==============================] - 0s 46ms/step - loss: 0.0110 - val_loss: 0.0212\n",
      "Epoch 148/150\n",
      "1/1 [==============================] - 0s 43ms/step - loss: 0.0109 - val_loss: 0.0211\n",
      "Epoch 149/150\n",
      "1/1 [==============================] - 0s 40ms/step - loss: 0.0109 - val_loss: 0.0211\n",
      "Epoch 150/150\n",
      "1/1 [==============================] - 0s 38ms/step - loss: 0.0108 - val_loss: 0.0210\n"
     ]
    },
    {
     "data": {
      "text/plain": [
       "<keras.callbacks.History at 0x25164221b50>"
      ]
     },
     "execution_count": 46,
     "metadata": {},
     "output_type": "execute_result"
    }
   ],
   "source": [
    "#dense = modelDense2(superParent, regulator_gene_matrix, NUM_TARGETS, NUM_TIME_STEPS, NUM_TARGETS, num_hidden_units=NUM_PARENTS)\n",
    "# dense = modelDense2(goldIm.astype(np.float32), goldIm.astype(np.float32), NUM_TARGETS, NUM_TIME_STEPS, NUM_TARGETS, num_hidden_units=NUM_PARENTS)\n",
    "dense = GRND_AutoEncoderModels.modelDense_AutoEncoder(superParent, superParent, NUM_TARGETS, NUM_TIME_STEPS, NUM_TARGETS, num_hidden_units=NUM_PARENTS, sparsity=0.99)\n",
    "dense.compile(optimizer='adam', loss=ignore_noParent_MSE)\n",
    "dense.fit(beanIntensities, beanIntensities, epochs=150,  verbose=True, validation_data=(validation, validation),\n",
    "          callbacks = [\n",
    "    tfmot.sparsity.keras.UpdatePruningStep()])"
   ]
  },
  {
   "cell_type": "code",
   "execution_count": 47,
   "metadata": {},
   "outputs": [
    {
     "name": "stdout",
     "output_type": "stream",
     "text": [
      "Model: \"model_1\"\n",
      "__________________________________________________________________________________________________\n",
      " Layer (type)                   Output Shape         Param #     Connected to                     \n",
      "==================================================================================================\n",
      " input_2 (InputLayer)           [(None, 21, 100)]    0           []                               \n",
      "                                                                                                  \n",
      " prune_low_magnitude_dae__encod  (None, 21, 100)     20002       ['input_2[0][0]']                \n",
      " er_mask (PruneLowMagnitude)                                                                      \n",
      "                                                                                                  \n",
      " conv1d_1 (Conv1D)              (None, 1, 100)       210100      ['prune_low_magnitude_dae__encode\n",
      "                                                                 r_mask[0][0]']                   \n",
      "                                                                                                  \n",
      " flatten_1 (Flatten)            (None, 100)          0           ['conv1d_1[0][0]']               \n",
      "                                                                                                  \n",
      " flatten_2 (Flatten)            (None, 2100)         0           ['prune_low_magnitude_dae__encode\n",
      "                                                                 r_mask[0][0]']                   \n",
      "                                                                                                  \n",
      " concatenate (Concatenate)      (None, 2200)         0           ['flatten_1[0][0]',              \n",
      "                                                                  'flatten_2[0][0]']              \n",
      "                                                                                                  \n",
      " dense_2 (Dense)                (None, 41)           90241       ['concatenate[0][0]']            \n",
      "                                                                                                  \n",
      " dense_3 (Dense)                (None, 100)          4200        ['dense_2[0][0]']                \n",
      "                                                                                                  \n",
      " reshape_1 (Reshape)            (None, 1, 100)       0           ['dense_3[0][0]']                \n",
      "                                                                                                  \n",
      " conv1d_transpose_1 (Conv1DTran  (None, 21, 100)     210100      ['reshape_1[0][0]']              \n",
      " spose)                                                                                           \n",
      "                                                                                                  \n",
      " dae__decoder_mask (DAE_Decoder  (None, 21, 100)     10000       ['conv1d_transpose_1[0][0]']     \n",
      " _MASK)                                                                                           \n",
      "                                                                                                  \n",
      "==================================================================================================\n",
      "Total params: 544,643\n",
      "Trainable params: 534,641\n",
      "Non-trainable params: 10,002\n",
      "__________________________________________________________________________________________________\n"
     ]
    }
   ],
   "source": [
    "dense.summary()"
   ]
  },
  {
   "cell_type": "code",
   "execution_count": 48,
   "metadata": {},
   "outputs": [],
   "source": [
    "mask = dense.get_layer(index =1)"
   ]
  },
  {
   "cell_type": "code",
   "execution_count": 49,
   "metadata": {},
   "outputs": [
    {
     "data": {
      "text/plain": [
       "(1, 100, 100)"
      ]
     },
     "execution_count": 49,
     "metadata": {},
     "output_type": "execute_result"
    }
   ],
   "source": [
    "np.array(mask.get_weights()).shape"
   ]
  },
  {
   "cell_type": "code",
   "execution_count": 50,
   "metadata": {},
   "outputs": [
    {
     "data": {
      "text/plain": [
       "<matplotlib.image.AxesImage at 0x251caa6f670>"
      ]
     },
     "execution_count": 50,
     "metadata": {},
     "output_type": "execute_result"
    },
    {
     "data": {
      "image/png": "[encoded data removed]",
      "text/plain": [
       "<Figure size 1080x360 with 1 Axes>"
      ]
     },
     "metadata": {
      "needs_background": "light"
     },
     "output_type": "display_data"
    }
   ],
   "source": [
    "plt.imshow(np.abs(mask.get_weights()[0]))"
   ]
  },
  {
   "cell_type": "code",
   "execution_count": 51,
   "metadata": {},
   "outputs": [
    {
     "data": {
      "text/plain": [
       "<matplotlib.image.AxesImage at 0x251caded310>"
      ]
     },
     "execution_count": 51,
     "metadata": {},
     "output_type": "execute_result"
    },
    {
     "data": {
      "image/png": "[encoded data removed]",
      "text/plain": [
       "<Figure size 1080x360 with 1 Axes>"
      ]
     },
     "metadata": {
      "needs_background": "light"
     },
     "output_type": "display_data"
    }
   ],
   "source": [
    "plt.imshow(goldIm)"
   ]
  },
  {
   "attachments": {},
   "cell_type": "markdown",
   "metadata": {},
   "source": [
    "# Reconstruction"
   ]
  },
  {
   "cell_type": "code",
   "execution_count": 52,
   "metadata": {},
   "outputs": [
    {
     "name": "stdout",
     "output_type": "stream",
     "text": [
      "1/1 [==============================] - 0s 149ms/step\n"
     ]
    },
    {
     "data": {
      "text/plain": [
       "(2, 21, 100)"
      ]
     },
     "execution_count": 52,
     "metadata": {},
     "output_type": "execute_result"
    }
   ],
   "source": [
    "o = dense.predict(validation)\n",
    "o.shape"
   ]
  },
  {
   "cell_type": "code",
   "execution_count": 53,
   "metadata": {},
   "outputs": [],
   "source": [
    "r = pd.DataFrame(o[0].reshape(NUM_TIME_STEPS,NUM_TARGETS))\n",
    "v = pd.DataFrame(validation[0].reshape(NUM_TIME_STEPS,NUM_TARGETS))"
   ]
  },
  {
   "cell_type": "code",
   "execution_count": 54,
   "metadata": {},
   "outputs": [
    {
     "data": {
      "text/plain": [
       "array([ 0,  4,  9, 14, 22, 24, 25, 35, 36, 37, 39, 41, 42, 43, 44, 45, 53,\n",
       "       54, 56, 61, 62, 63, 64, 65, 66, 68, 71, 72, 74, 81, 82, 84, 86, 89,\n",
       "       90, 91, 92, 95, 97, 98, 99])"
      ]
     },
     "execution_count": 54,
     "metadata": {},
     "output_type": "execute_result"
    }
   ],
   "source": [
    "parent_idx"
   ]
  },
  {
   "cell_type": "code",
   "execution_count": null,
   "metadata": {},
   "outputs": [],
   "source": [
    "plt.imshow(validation[1][:,parent_idx])"
   ]
  },
  {
   "cell_type": "code",
   "execution_count": null,
   "metadata": {},
   "outputs": [],
   "source": [
    "plt.imshow(o[1][:,parent_idx])"
   ]
  },
  {
   "cell_type": "code",
   "execution_count": null,
   "metadata": {},
   "outputs": [],
   "source": [
    "r[parent_idx].head(NUM_TIME_STEPS)"
   ]
  },
  {
   "cell_type": "code",
   "execution_count": null,
   "metadata": {},
   "outputs": [],
   "source": [
    "v[parent_idx].head(NUM_TIME_STEPS)"
   ]
  },
  {
   "cell_type": "code",
   "execution_count": null,
   "metadata": {},
   "outputs": [],
   "source": [
    "ignore_noParent_MSE(validation, o)"
   ]
  },
  {
   "attachments": {},
   "cell_type": "markdown",
   "metadata": {},
   "source": [
    "# Test OG SHAP\n",
    "\n",
    "ms shap sux"
   ]
  },
  {
   "cell_type": "code",
   "execution_count": null,
   "metadata": {},
   "outputs": [],
   "source": [
    "tf.executing_eagerly()"
   ]
  },
  {
   "cell_type": "code",
   "execution_count": null,
   "metadata": {},
   "outputs": [],
   "source": [
    "inp = Input(shape=(NUM_TIME_STEPS,NUM_TARGETS))\n",
    "re = tf.keras.layers.Reshape(target_shape=(NUM_TIME_STEPS, NUM_TARGETS))(inp)\n",
    "dout = dense(re)\n",
    "doutRe = tf.squeeze(tf.keras.layers.Reshape(target_shape=(NUM_TIME_STEPS*NUM_TARGETS,1))(dout), axis=-1)\n",
    "denseRE = tf.keras.Model(inputs=inp, outputs=doutRe)"
   ]
  },
  {
   "cell_type": "code",
   "execution_count": null,
   "metadata": {},
   "outputs": [],
   "source": [
    "denseRE.summary()"
   ]
  },
  {
   "cell_type": "code",
   "execution_count": null,
   "metadata": {},
   "outputs": [],
   "source": [
    "denseRE(validation)"
   ]
  },
  {
   "cell_type": "code",
   "execution_count": null,
   "metadata": {},
   "outputs": [],
   "source": [
    "\n",
    "model = denseRE\n",
    "# def map2layer(x, layer):1\n",
    "#     feed_dict = dict(zip([model.layers[0].input.ref()], [x.copy()]))\n",
    "#     return K.get_session().run(model.layers[layer].input, feed_dict)\n",
    "\n",
    "\n",
    "e = shap.GradientExplainer(model,\n",
    "    #(model.layers[0].input, model.layers[-1].output),\n",
    "    allData,\n",
    "    local_smoothing=0 # std dev of smoothing noise\n",
    ")\n",
    "sv = e.shap_values(allData)\n",
    "# shap_values,indexes = e.shap_values(map2layer(to_explain, 7), ranked_outputs=2)"
   ]
  },
  {
   "cell_type": "code",
   "execution_count": null,
   "metadata": {},
   "outputs": [],
   "source": [
    "sv= np.array(sv)"
   ]
  },
  {
   "cell_type": "code",
   "execution_count": null,
   "metadata": {},
   "outputs": [],
   "source": [
    "sv.shape"
   ]
  },
  {
   "cell_type": "code",
   "execution_count": null,
   "metadata": {},
   "outputs": [],
   "source": [
    "uv = np.copy(sv)"
   ]
  },
  {
   "cell_type": "code",
   "execution_count": null,
   "metadata": {},
   "outputs": [],
   "source": [
    "uv = np.reshape(uv, newshape=(21, 100, 10, 21, 100)) #should this be 100, 21... or 21, 100...?"
   ]
  },
  {
   "cell_type": "code",
   "execution_count": null,
   "metadata": {},
   "outputs": [],
   "source": [
    "# 21 time steps, 10 replicates, 100 protiens"
   ]
  },
  {
   "cell_type": "code",
   "execution_count": null,
   "metadata": {},
   "outputs": [],
   "source": [
    "uv.shape"
   ]
  },
  {
   "cell_type": "code",
   "execution_count": null,
   "metadata": {},
   "outputs": [],
   "source": [
    "av1 = np.average(uv, axis = 2)\n",
    "av2 = np.sum(uv, axis = 2)"
   ]
  },
  {
   "cell_type": "code",
   "execution_count": null,
   "metadata": {},
   "outputs": [],
   "source": [
    "av1.shape, av2.shape"
   ]
  },
  {
   "cell_type": "code",
   "execution_count": null,
   "metadata": {},
   "outputs": [],
   "source": [
    "av1 = np.average(av1, axis = 2)\n",
    "\n",
    "av2 = np.sum(av2, axis= 2)\n",
    "av1.shape, av2.shape"
   ]
  },
  {
   "cell_type": "code",
   "execution_count": null,
   "metadata": {},
   "outputs": [],
   "source": [
    "av1 = np.average(av1, axis = 0) #change this to fix axis order\n",
    "\n",
    "av2 = np.sum(av2, axis = 0) \n",
    "av1.shape, av2.shape\n"
   ]
  },
  {
   "cell_type": "code",
   "execution_count": null,
   "metadata": {},
   "outputs": [],
   "source": [
    "parent_idx"
   ]
  },
  {
   "cell_type": "code",
   "execution_count": null,
   "metadata": {},
   "outputs": [],
   "source": [
    "plt.imshow(np.clip(av2, a_min=0.0, a_max=None))"
   ]
  },
  {
   "cell_type": "code",
   "execution_count": null,
   "metadata": {},
   "outputs": [],
   "source": [
    "plt.imshow(np.clip(av1, a_min=0.0, a_max=None))"
   ]
  },
  {
   "cell_type": "code",
   "execution_count": null,
   "metadata": {},
   "outputs": [],
   "source": [
    "plt.imshow(goldIm)"
   ]
  },
  {
   "cell_type": "code",
   "execution_count": null,
   "metadata": {},
   "outputs": [],
   "source": []
  },
  {
   "cell_type": "code",
   "execution_count": null,
   "metadata": {},
   "outputs": [],
   "source": [
    "av1.min(), av1.max()"
   ]
  },
  {
   "cell_type": "code",
   "execution_count": null,
   "metadata": {},
   "outputs": [],
   "source": [
    "sv.argmax()\n",
    "np.unravel_index(8506244, sv.shape)"
   ]
  },
  {
   "cell_type": "code",
   "execution_count": null,
   "metadata": {},
   "outputs": [],
   "source": [
    "validation.shape"
   ]
  },
  {
   "cell_type": "code",
   "execution_count": null,
   "metadata": {},
   "outputs": [],
   "source": [
    "valR = validation.reshape(( validation.shape[0], validation.shape[1]*validation.shape[2]))\n",
    "valR.shape"
   ]
  },
  {
   "cell_type": "code",
   "execution_count": null,
   "metadata": {},
   "outputs": [],
   "source": [
    "valR.mean(axis=1).shape"
   ]
  },
  {
   "cell_type": "code",
   "execution_count": null,
   "metadata": {},
   "outputs": [],
   "source": [
    "bs = np.nonzero(valR >valR.mean())\n",
    "tmagIm = np.zeros(shape=valR.shape) \n",
    "tmagIm[bs] = 1\n",
    "plt.plot(tmagIm[0]);\n",
    "bs = tmagIm\n",
    "del tmagIm\n"
   ]
  },
  {
   "cell_type": "code",
   "execution_count": null,
   "metadata": {},
   "outputs": [],
   "source": [
    "# import numpy as np\n",
    "# from sklearn.datasets import load_breast_cancer\n",
    "# from sklearn.model_selection import train_test_split\n",
    "\n",
    "# from sklearn.ensemble import RandomForestClassifier\n",
    "# from sklearn.decomposition import PCA\n",
    "# from sklearn.pipeline import Pipeline\n",
    "\n",
    "# import warnings\n",
    "\n",
    "# from interpret import show\n",
    "# from interpret.blackbox import ShapKernel\n",
    "\n",
    "seed = 42\n",
    "np.random.seed(seed)\n",
    "# X, y = load_breast_cancer(return_X_y=True, as_frame=True)\n",
    "# X_train, X_test, y_train, y_test = train_test_split(X, y, test_size=0.20, random_state=seed)\n",
    "\n",
    "# pca = PCA()\n",
    "# rf = RandomForestClassifier(n_estimators=100, n_jobs=-1, random_state=seed)\n",
    "\n",
    "# blackbox_model = Pipeline([('pca', pca), ('rf', rf)])\n",
    "# blackbox_model.fit(X_train, y_train)\n",
    "\n",
    "blackbox_model = denseRE\n",
    "\n",
    "shap = ShapKernel(blackbox_model.predict, bs)\n",
    "with warnings.catch_warnings():\n",
    "    warnings.filterwarnings(\"ignore\")\n",
    "    shap_local = shap.explain_local(bs, bs)\n",
    "\n",
    "show(shap_local, 0)"
   ]
  },
  {
   "cell_type": "code",
   "execution_count": null,
   "metadata": {},
   "outputs": [],
   "source": []
  },
  {
   "attachments": {},
   "cell_type": "markdown",
   "metadata": {},
   "source": [
    "# Latent Space Size Experiment"
   ]
  },
  {
   "cell_type": "code",
   "execution_count": null,
   "metadata": {},
   "outputs": [],
   "source": [
    "# print(NUM_PARENTS, NUM_TARGETS)"
   ]
  },
  {
   "cell_type": "code",
   "execution_count": null,
   "metadata": {},
   "outputs": [],
   "source": [
    "# #to test on entire DS: \n",
    "# N = 50\n",
    "# hidden = np.arange(1,NUM_PARENTS+1, 1) #range(1,32)\n",
    "# lossMatrix = []\n",
    "# for i in tqdm(range(N)):\n",
    "    \n",
    "#     losses = []\n",
    "#     for value in (hidden):\n",
    "#         dense = modelDense2(superParent, regulator_gene_matrix, NUM_TARGETS, NUM_TIME_STEPS, NUM_TARGETS, value)\n",
    "#         dense.compile(optimizer='adam', loss=ignore_noParent_MSE)\n",
    "#         dense.fit(allData, allData, epochs=40,  verbose=0)\n",
    "#         test_hat = dense(allData) #, verbose = 0)\n",
    "#         loss = ignore_noParent_MSE(allData, test_hat)\n",
    "#         losses.append(loss)\n",
    "#         tf.keras.backend.clear_session()\n",
    "#     lossMatrix.append(losses)\n",
    "    \n",
    "# lossMatrix = np.array(lossMatrix)\n",
    "# #run 100 times \n",
    "\n",
    "\n",
    "#To test on Test set:\n",
    "# N = 40\n",
    "# hidden = np.arange(2,24, 1) #range(1,32)\n",
    "# lossMatrix = []\n",
    "# for i in tqdm(range(N)):\n",
    "    \n",
    "#     losses = []\n",
    "#     for value in (hidden):\n",
    "#         dense = modelDense2(superParent, regulator_gene_matrix, NUM_TARGETS, NUM_TIME_STEPS, NUM_TARGETS, value)\n",
    "#         dense.compile(optimizer='adam', loss=ignore_noParent_MSE)\n",
    "#         dense.fit(beanIntensities, beanIntensities, epochs=40,  verbose=0)\n",
    "#         test_hat = dense(validation) #, verbose = 0)\n",
    "#         loss = ignore_noParent_MSE(validation, test_hat)\n",
    "#         losses.append(loss)\n",
    "#         tf.keras.backend.clear_session()\n",
    "#     lossMatrix.append(losses)\n",
    "    \n",
    "# lossMatrix = np.array(lossMatrix)\n",
    "# #run 100 times "
   ]
  },
  {
   "cell_type": "code",
   "execution_count": null,
   "metadata": {},
   "outputs": [],
   "source": [
    "# avgMSE = np.average(lossMatrix, axis = 0)\n",
    "# plt.plot(hidden, avgMSE);\n",
    "# plt.xlabel(\"Latent Space Size\",fontsize=15);\n",
    "# plt.ylabel(\"MSE\",fontsize=15);\n",
    "# plt.title(\"Glycine Max: MSE with Respect to the Latent Space Size\", fontweight='bold', fontsize = 18);"
   ]
  },
  {
   "cell_type": "code",
   "execution_count": null,
   "metadata": {},
   "outputs": [],
   "source": [
    "# lm = pd.DataFrame(lossMatrix)\n",
    "# lm.to_csv(\"lossmatrix4lisa_dream4.csv\")"
   ]
  },
  {
   "cell_type": "code",
   "execution_count": null,
   "metadata": {},
   "outputs": [],
   "source": [
    "# temp = pd.read_csv(\"lossmatrix4lisa_dream4.csv\").to_numpy()\n",
    "# print(temp.shape)\n",
    "# avgMSE = np.average(lossMatrix, axis=0)"
   ]
  },
  {
   "cell_type": "code",
   "execution_count": null,
   "metadata": {},
   "outputs": [],
   "source": [
    "# plt.plot(hidden, avgMSE)"
   ]
  },
  {
   "attachments": {},
   "cell_type": "markdown",
   "metadata": {},
   "source": [
    "# Lazy Kernels"
   ]
  },
  {
   "cell_type": "code",
   "execution_count": null,
   "metadata": {},
   "outputs": [],
   "source": [
    "dense = modelSuperParent(superParent, regulator_gene_matrix, NUM_TARGETS, NUM_TIME_STEPS, NUM_TARGETS, NUM_PARENTS)\n",
    "dense.compile(optimizer=tf.keras.optimizers.Adam(), loss=ignore_noParent_MSE)"
   ]
  },
  {
   "cell_type": "code",
   "execution_count": null,
   "metadata": {},
   "outputs": [],
   "source": [
    "d = np.array(dense.get_weights())"
   ]
  },
  {
   "cell_type": "code",
   "execution_count": null,
   "metadata": {},
   "outputs": [],
   "source": [
    "d[0].shape"
   ]
  },
  {
   "cell_type": "code",
   "execution_count": null,
   "metadata": {},
   "outputs": [],
   "source": [
    "\n",
    "\n",
    "def do_lazy_train(epochs, hidden = NUM_PARENTS):\n",
    "\n",
    "    '''trains the auto encoder epoch by epoch and returns the weights of the first layer'''\n",
    "    ep = epochs\n",
    "    #hidden = [hidden,] #range(1,32)\n",
    "    lossMatrix = []\n",
    "    lazy_weights = []\n",
    "\n",
    "    dense = modelSuperParent(superParent, regulator_gene_matrix, NUM_TARGETS, NUM_TIME_STEPS, NUM_TARGETS, hidden)\n",
    "    dense.compile(optimizer=tf.keras.optimizers.Adam(), loss=ignore_noParent_MSE)\n",
    "    \n",
    "    # dense = modelDense2(superParent, regulator_gene_matrix, NUM_TARGETS, NUM_TIME_STEPS, NUM_TARGETS, num_hidden_units=hidden)\n",
    "    # dense.compile(optimizer=tf.keras.optimizers.Adam(), loss=ignore_noParent_MSE)\n",
    "\n",
    "    #for i in tqdm(range(ep)):\n",
    "    for i in range(ep):\n",
    "        dense.fit(allData, allData, validation_data=(validation, validation), epochs=1,  verbose=0, callbacks = [\n",
    "    tfmot.sparsity.keras.UpdatePruningStep()])\n",
    "        lazy_weights.append(dw := dense.get_weights()[0])\n",
    "        test = dense(validation) #, verbose = 0)\n",
    "        loss = ignore_noParent_MSE(validation, test)\n",
    "        lossMatrix.append(loss)\n",
    "        \n",
    "    lossMatrix = np.array(lossMatrix) #loss matrix no longer returns anything \n",
    "    lazy_weights = np.array(lazy_weights)\n",
    "    # print(\"lazy weights\", lazy_weights.shape)\n",
    "\n",
    "    return lossMatrix, lazy_weights #loss matrix no longer returns anything "
   ]
  },
  {
   "cell_type": "code",
   "execution_count": null,
   "metadata": {},
   "outputs": [],
   "source": [
    "#https://proceedings.mlr.press/v162/rachwan22a/rachwan22a.pdf Winning the Lottery Ticket Ahead of Time:\n",
    "def lazyKernelRegime(w, parent_idx=parent_idx):\n",
    "    '''compute when each weight enters lazy kernel regime'''\n",
    "    \n",
    "    # print(\"wshape\", w.shape)\n",
    "\n",
    "    firstLayer = [] \n",
    "    for i in range(len(w)):\n",
    "         firstLayer.append(w[i]) #firstLayer.append(w[i][parent_idx])\n",
    "\n",
    "    fL = np.array(firstLayer)    \n",
    "    # print(\"print fL\", fL.shape, fL.dtype, fL[0], fL[1],)\n",
    "    d0 = np.square(fL[1] - fL[0])\n",
    "    # print(\"do\", d0.shape, d0)\n",
    "    \n",
    "    kernelChange = []\n",
    "    for i in range(1,len(fL)):\n",
    "        dt = np.square(fL[i] - fL[0])\n",
    "        dt_minus1 = np.square(fL[i-1] - fL[0])   \n",
    "        d = np.abs(dt - dt_minus1)/d0                        #eq 11 from the paper\n",
    "        kernelChange.append(d)\n",
    "    \n",
    "    kernelChange = np.moveaxis(kernelChange, 0, 2)\n",
    "    # plt.plot(kernelChange[0][0]);\n",
    "    # plt.title(\"$|\\Delta W|$ vs Epoch\")\n",
    "    # plt.xlabel(\"Epoch\")\n",
    "    # plt.ylabel(\"$|\\Delta W|$\")\n",
    "\n",
    "    return np.array(kernelChange)"
   ]
  },
  {
   "cell_type": "code",
   "execution_count": null,
   "metadata": {},
   "outputs": [],
   "source": [
    "#TODO: try setting top parents to num epochs trained rather than culling process\n",
    "def compute_distrib(change, t, raw = False): #raw means return the unshaped indicies. \n",
    "    stop = []\n",
    "\n",
    "    z = np.zeros(shape=(NUM_TARGETS, NUM_TARGETS))\n",
    "\n",
    "\n",
    "    for parent in range(len(change)):\n",
    "        for child in range(len(change[0])):\n",
    "            try:\n",
    "                z[parent][child] = (np.min(np.argwhere(change[parent][child] < t)))\n",
    "            except ValueError:\n",
    "                stop.append(len(change))\n",
    "\n",
    "    return z \n",
    "    \n",
    "    stop = np.array(stop)\n",
    "    # print(\"stop shape\", stop.shape)\n",
    "    # print(stop.shape)\n",
    "    var = np.std(stop)\n",
    "    # print(var)\n",
    "    # assert(False)\n",
    "    mean = np.average(stop)\n",
    "   # print(\"mean, variance\", mean, var)\n",
    "    top_parents = np.argwhere(stop > (mean + 0.5*var)) #get the parents which take more than 2 stds to stop training\n",
    "    # print(\"top parents \", top_parents)\n",
    "    # assert(False)\n",
    "    top_parent_child = []\n",
    "    for tp in top_parents:\n",
    "        top_parent_child.append(np.unravel_index(tp, shape = (NUM_PARENTS, NUM_TARGETS)))\n",
    "\n",
    "    if raw == False:\n",
    "        plt.hist(stop)\n",
    "        plt.xlabel(\"Epoch where regulator-target-weight began changing by at most \"+ str(t));\n",
    "        plt.ylabel(\"Number of parent-child-weights\");\n",
    "        plt.title(\"Histogram of weight stops\");\n",
    "        print(\"average stop: \", mean);\n",
    "\n",
    "    if raw == True:\n",
    "        return np.array(top_parents)\n",
    "\n",
    "    return np.array(top_parent_child)"
   ]
  },
  {
   "cell_type": "code",
   "execution_count": null,
   "metadata": {},
   "outputs": [],
   "source": [
    "def compute_distrib_old(change, t, raw = False): #raw means return the unshaped indicies. \n",
    "    stop = []\n",
    "\n",
    "    for parent in range(len(change)):\n",
    "        for child in range(len(change[0])):\n",
    "            try:\n",
    "                stop.append(np.min(np.argwhere(change[parent][child] < t)))\n",
    "            except ValueError:\n",
    "                stop.append(len(change))\n",
    "                # print(parent, child)\n",
    "                # plt.plot(change[parent][child])\n",
    "                # assert(False)\n",
    "\n",
    "    \n",
    "    stop = np.array(stop).flatten()\n",
    "    # print(\"stop shape\", stop.shape)\n",
    "    # print(stop.shape)\n",
    "    var = np.std(stop)\n",
    "    # print(var)\n",
    "    # assert(False)\n",
    "    mean = np.average(stop)\n",
    "   # print(\"mean, variance\", mean, var)\n",
    "    top_parents = np.argwhere(stop > (mean + 0.5*var)) #get the parents which take more than 2 stds to stop training\n",
    "    # print(\"top parents \", top_parents)\n",
    "    # assert(False)\n",
    "    top_parent_child = []\n",
    "    for tp in top_parents:\n",
    "        top_parent_child.append(np.unravel_index(tp, shape = (NUM_PARENTS, NUM_TARGETS)))\n",
    "\n",
    "    if raw == False:\n",
    "        plt.hist(stop)\n",
    "        plt.xlabel(\"Epoch where regulator-target-weight began changing by at most \"+ str(t));\n",
    "        plt.ylabel(\"Number of parent-child-weights\");\n",
    "        plt.title(\"Histogram of weight stops\");\n",
    "        print(\"average stop: \", mean);\n",
    "\n",
    "    if raw == True:\n",
    "        return np.array(top_parents)\n",
    "\n",
    "    return np.array(top_parent_child)"
   ]
  },
  {
   "cell_type": "code",
   "execution_count": null,
   "metadata": {},
   "outputs": [],
   "source": [
    "def lazyKernels(N):\n",
    "\n",
    "    candidates = []\n",
    "    final_w = []\n",
    "    for i in tqdm(range(N)):\n",
    "        lm, lazy_weights = do_lazy_train(epochs=100)\n",
    "        # print(\"lm\", lm)\n",
    "        change = lazyKernelRegime(lazy_weights)\n",
    "        # print(\"change\",change.shape)\n",
    "        # assert(False)\n",
    "        top_pr = np.squeeze(compute_distrib(change, t = 0.2, raw=True))\n",
    "        candidates.append(top_pr)\n",
    "        final_w.append(lazy_weights[-1]) #final w is used for magntiude calculations at the end\n",
    "        tf.keras.backend.clear_session()\n",
    "    \n",
    "    final_w = np.array(final_w)\n",
    "    firstLayer = []\n",
    "    for i in range(len(final_w)):\n",
    "        firstLayer.append(np.abs(final_w[i])) #firstLayer.append(np.abs(final_w[i][parent_idx]))\n",
    "    fw = np.array(firstLayer)\n",
    "    candidates = np.array(candidates)\n",
    "\n",
    "    fw_avg = np.average(fw, axis = 0)\n",
    "    stop_avg = np.average(candidates, axis=0) \n",
    "\n",
    "    return stop_avg, fw_avg\n",
    "    #print(fw_avg.shape)\n",
    "    \n",
    "    candidates = np.hstack(candidates)\n",
    "    candidates = candidates.reshape(candidates.size)\n",
    "    #print(candidates.shape)\n",
    "\n",
    "    # plt.hist(candidates, bins=np.arange(0, NUM_PARENTS*NUM_TARGETS))\n",
    "    # plt.title(\"Parent-Child Regulator Histogram\")\n",
    "    # plt.xlabel(\"Parent-Child Weight\")\n",
    "    # plt.ylabel(\"Num-Times parent-child relationship trained for top 5% of time\")\n",
    "    return candidates, fw_avg\n",
    "\n",
    "\n"
   ]
  },
  {
   "cell_type": "code",
   "execution_count": null,
   "metadata": {},
   "outputs": [],
   "source": [
    "#TODO: test reshaping in other orientation"
   ]
  },
  {
   "cell_type": "code",
   "execution_count": null,
   "metadata": {},
   "outputs": [],
   "source": [
    "can, mag = lazyKernels(N = 5)"
   ]
  },
  {
   "cell_type": "code",
   "execution_count": null,
   "metadata": {},
   "outputs": [],
   "source": [
    "gold = pd.read_csv(\"DREAM4_GoldStandard_InSilico_Size100_1.csv\", header=None)\n",
    "\n",
    "def keep_numeric(df):\n",
    "\n",
    "    return df.applymap(lambda x: ''.join(filter(str.isdigit, str(x))) if isinstance(x, (int,float)) else ''.join(filter(str.isdigit, x)) )\n",
    "gold = keep_numeric(gold)\n",
    "goldnp = np.array(gold, dtype = 'int')\n",
    "#subtract 1 from each index to match python index\n",
    "goldnp[:,0] = goldnp[:,0] - 1\n",
    "goldnp[:,1] = goldnp[:,1] - 1\n",
    "\n",
    "goldIm = np.zeros(shape=(NUM_TARGETS,NUM_TARGETS))\n",
    "\n",
    "for g in goldnp:\n",
    "    reg = g[0]\n",
    "    tar = g[1]\n",
    "    connection = g[2]\n",
    "    goldIm[reg][tar] = connection\n",
    "\n"
   ]
  },
  {
   "cell_type": "code",
   "execution_count": null,
   "metadata": {},
   "outputs": [],
   "source": [
    "plt.imshow(can)"
   ]
  },
  {
   "cell_type": "code",
   "execution_count": null,
   "metadata": {},
   "outputs": [],
   "source": [
    "plt.imshow(mag)"
   ]
  },
  {
   "cell_type": "code",
   "execution_count": null,
   "metadata": {},
   "outputs": [],
   "source": [
    "score = np.multiply(can, mag)"
   ]
  },
  {
   "cell_type": "code",
   "execution_count": null,
   "metadata": {},
   "outputs": [],
   "source": [
    "plt.imshow(score)"
   ]
  },
  {
   "cell_type": "code",
   "execution_count": null,
   "metadata": {},
   "outputs": [],
   "source": [
    "plt.imshow(goldIm)\n",
    "plt.title('True RT Combos');\n",
    "print(sum(sum(goldIm)))"
   ]
  },
  {
   "cell_type": "code",
   "execution_count": null,
   "metadata": {},
   "outputs": [],
   "source": [
    "tscore = np.nonzero(score > score.mean() + 0.8*score.std())\n",
    "tscoreIm = np.zeros(shape=goldIm.shape) \n",
    "tscoreIm[tscore] = 1\n",
    "plt.imshow(tscoreIm);\n",
    "plt.title('Score Out');\n",
    "print(sum(sum(tscoreIm)))"
   ]
  },
  {
   "cell_type": "code",
   "execution_count": null,
   "metadata": {},
   "outputs": [],
   "source": [
    "plt.imshow(np.abs(goldIm-tscoreIm));\n",
    "plt.title(\"Difference between Gold and our score\")"
   ]
  },
  {
   "cell_type": "code",
   "execution_count": null,
   "metadata": {},
   "outputs": [],
   "source": [
    "sum(sum(np.abs(goldIm-tscoreIm)))"
   ]
  },
  {
   "cell_type": "code",
   "execution_count": null,
   "metadata": {},
   "outputs": [],
   "source": [
    "type(mag)"
   ]
  },
  {
   "cell_type": "code",
   "execution_count": null,
   "metadata": {},
   "outputs": [],
   "source": [
    "tmag = np.nonzero(mag > mag.mean() + 3.0*mag.std())\n",
    "tmagIm = np.zeros(shape=goldIm.shape) \n",
    "tmagIm[tmag] = 1\n",
    "plt.imshow(tmagIm);\n",
    "plt.title('Magnitude Out');"
   ]
  },
  {
   "cell_type": "code",
   "execution_count": null,
   "metadata": {},
   "outputs": [],
   "source": [
    "#TODO: do box plot of scores and compare with score of goldIM\n",
    "#TODO: Try shapley tf1 version\n",
    "plt.boxplot(score[np.nonzero(goldIm)])"
   ]
  },
  {
   "cell_type": "code",
   "execution_count": null,
   "metadata": {},
   "outputs": [],
   "source": []
  },
  {
   "attachments": {},
   "cell_type": "markdown",
   "metadata": {},
   "source": [
    "# load this with the gold IM mask after copying the weights of an old auto encoder. \n"
   ]
  },
  {
   "cell_type": "code",
   "execution_count": null,
   "metadata": {},
   "outputs": [],
   "source": [
    "looseParent = modelSuperParent(superParent, regulator_gene_matrix, NUM_TARGETS, NUM_TIME_STEPS, NUM_TARGETS, 32)\n",
    "looseParent.compile(optimizer='adam', loss=ignore_noParent_MSE)\n",
    "o = looseParent.fit(beanIntensities, beanIntensities, epochs=200, verbose = True,  validation_data=(validation, validation),\n",
    "                    callbacks = [\n",
    "    tfmot.sparsity.keras.UpdatePruningStep()])\n",
    "print(o.history['loss'][-1]) #the final loss "
   ]
  },
  {
   "cell_type": "code",
   "execution_count": null,
   "metadata": {},
   "outputs": [],
   "source": [
    "sparseParent = modelSuperParent(superParent, regulator_gene_matrix, NUM_TARGETS, NUM_TIME_STEPS, NUM_TARGETS, 32, sparsity=0.98)\n",
    "sparseParent.compile(optimizer='adam', loss=ignore_noParent_MSE)\n",
    "o = sparseParent.fit(beanIntensities, beanIntensities, epochs=200, verbose = False,  validation_data=(validation, validation),\n",
    "                    callbacks = [\n",
    "    tfmot.sparsity.keras.UpdatePruningStep()])\n",
    "print(ignore_noParent_MSE(validation, sparseParent.predict(validation)))\n",
    "\n",
    "\n",
    "plt.imshow(tfMag := sparseParent.get_weights()[0])\n",
    "tfmag = np.nonzero(tfMag > tfMag.mean() + 0.0*tfMag.std())\n",
    "tfmagIm = np.zeros(shape=goldIm.shape) \n",
    "tfmagIm[tfmag] = 1\n",
    "plt.imshow(tfmagIm);\n",
    "plt.title('TF Magnitude Mask');"
   ]
  },
  {
   "cell_type": "code",
   "execution_count": null,
   "metadata": {},
   "outputs": [],
   "source": [
    "# pruning_params = {\n",
    "#     'pruning_schedule': PolynomialDecay(initial_sparsity=0.5,\n",
    "#         final_sparsity=0.9824, begin_step=1000, end_step=2000),\n",
    "#     'block_size': (2, 3),\n",
    "#     'block_pooling_type': 'MAX'\n",
    "# }\n",
    "\n",
    "# model = keras.Sequential([\n",
    "#     Dense(10, activation='relu', input_shape=(100,)),\n",
    "#     prune_low_magnitude(layers.Dense(2, activation='tanh'), **pruning_params)\n",
    "# ])"
   ]
  },
  {
   "cell_type": "code",
   "execution_count": null,
   "metadata": {},
   "outputs": [],
   "source": [
    "goldMask = 1-goldIm\n",
    "goldMask = goldMask.astype(np.float32)\n",
    "plt.imshow(goldMask);\n",
    "plt.title(\"Mask created by true R-T\");\n",
    "sum(sum(goldMask))"
   ]
  },
  {
   "cell_type": "code",
   "execution_count": null,
   "metadata": {},
   "outputs": [],
   "source": [
    "tscoreMask = -1.0*tscoreIm + 1.0 \n",
    "tscoreMask = tscoreMask.astype(np.float32)\n",
    "plt.imshow(tscoreMask);\n",
    "plt.title(\"Mask created by our score\");\n",
    "sum(sum(tscoreMask))"
   ]
  },
  {
   "cell_type": "code",
   "execution_count": null,
   "metadata": {},
   "outputs": [],
   "source": [
    "tmagMask = -1.0*tmagIm + 1.0 \n",
    "tmagMask = tmagMask.astype(np.float32)\n",
    "plt.imshow(tmagMask);\n",
    "plt.title(\"Mask created by AE magntidue\");\n",
    "print(sum(sum(tmagMask)))"
   ]
  },
  {
   "cell_type": "code",
   "execution_count": null,
   "metadata": {},
   "outputs": [],
   "source": [
    "tmagAC = modelSuperParent(tmagMask, tmagMask, NUM_TARGETS, NUM_TIME_STEPS, NUM_TARGETS, 32)\n",
    "tmagAC.set_weights( looseParent.get_weights() )\n",
    "tmagACout = tmagAC(validation) #, verbose = 0)\n",
    "loss = ignore_noParent_MSE(validation, tmagACout)\n",
    "print(loss)"
   ]
  },
  {
   "cell_type": "code",
   "execution_count": null,
   "metadata": {},
   "outputs": [],
   "source": [
    "scoreAC = modelSuperParent(tscoreMask, tscoreMask, NUM_TARGETS, NUM_TIME_STEPS, NUM_TARGETS, 32)\n",
    "scoreAC.set_weights(looseParent.get_weights())\n",
    "scoreACout = scoreAC(validation) #, verbose = 0)\n",
    "loss = ignore_noParent_MSE(validation, scoreACout)\n",
    "print(loss)"
   ]
  },
  {
   "cell_type": "code",
   "execution_count": null,
   "metadata": {},
   "outputs": [],
   "source": [
    "goldAC = modelSuperParent(goldMask, goldMask, NUM_TARGETS, NUM_TIME_STEPS, NUM_TARGETS, 32)\n",
    "goldAC.set_weights(looseParent.get_weights())\n",
    "goldout = goldAC(validation) #, verbose = 0)\n",
    "loss = ignore_noParent_MSE(validation, goldout)\n",
    "print(loss)"
   ]
  },
  {
   "cell_type": "code",
   "execution_count": null,
   "metadata": {},
   "outputs": [],
   "source": [
    "print(ignore_noParent_MSE(validation, looseParent.predict(validation)))"
   ]
  },
  {
   "cell_type": "code",
   "execution_count": null,
   "metadata": {},
   "outputs": [],
   "source": [
    "from sklearn.metrics import roc_auc_score\n",
    "roc_auc_score(goldIm[parent_idx].flatten(), tscoreIm[parent_idx].flatten(), average='samples')"
   ]
  },
  {
   "cell_type": "code",
   "execution_count": null,
   "metadata": {},
   "outputs": [],
   "source": [
    "from sklearn.metrics import confusion_matrix\n",
    "print('true negative, false positive')\n",
    "print('false negative, true positive') \n",
    "print(confusion_matrix(goldIm[parent_idx].flatten(), tscoreIm[parent_idx].flatten())) "
   ]
  },
  {
   "cell_type": "code",
   "execution_count": null,
   "metadata": {},
   "outputs": [],
   "source": []
  },
  {
   "cell_type": "code",
   "execution_count": null,
   "metadata": {},
   "outputs": [],
   "source": [
    "# import numpy as np\n",
    "# import matplotlib.pyplot as plt\n",
    " \n",
    "# set width of bar\n",
    "barWidth = 0.15\n",
    "#fig = plt.subplots(figsize =(12, 8))\n",
    " \n",
    "# set height of bar\n",
    "IT = [0.019060984] #base\n",
    "score = [0.023739332]\n",
    "mag = [0.021395445]\n",
    "\n",
    "ECE = [0.024257105 ]  #gold\n",
    " \n",
    " \n",
    "# Set position of bar on X axis\n",
    "br1 = np.arange(len(IT))\n",
    "br2 = [x + barWidth for x in br1]\n",
    "br3 = [x + barWidth for x in br2]\n",
    "br4 = [x + barWidth for x in br3]\n",
    "\n",
    " \n",
    "# Make the plot\n",
    "plt.bar(br1, IT, color ='cyan', width = barWidth,\n",
    "        edgecolor ='grey', label ='Control')\n",
    "plt.bar(br2, score, color ='blue', width = barWidth,\n",
    "        edgecolor ='grey', label ='OBD (us)')\n",
    "plt.bar(br3, mag, color ='red', width = barWidth,\n",
    "        edgecolor ='grey', label ='Magnitude Pruning')\n",
    "plt.bar(br4, ECE, color ='green', width = barWidth,\n",
    "        edgecolor ='grey', label ='Gold Standard')\n",
    "# plt.bar(br3, CSE, color ='b', width = barWidth,\n",
    "#         edgecolor ='grey', label ='CSE')\n",
    " \n",
    "# Adding Xticks\n",
    "plt.xlabel('Mask', fontweight ='bold', fontsize = 15)\n",
    "plt.ylabel('MSE', fontweight ='bold', fontsize = 15)\n",
    "plt.xticks([r + barWidth for r in range(len(IT))],\n",
    "        [''])\n",
    " \n",
    "plt.title(\"MSE on the Validation Set\", fontweight='bold', fontsize = 18);\n",
    "plt.legend(loc = 'upper left');\n",
    "plt.ylim(0.018, 0.028)\n",
    "plt.show()"
   ]
  },
  {
   "cell_type": "code",
   "execution_count": null,
   "metadata": {},
   "outputs": [],
   "source": [
    "\n",
    "plt.imshow(tfMag := sparseParent.get_weights()[0])"
   ]
  },
  {
   "cell_type": "code",
   "execution_count": null,
   "metadata": {},
   "outputs": [],
   "source": [
    "\n",
    "\n",
    "tfmag = np.nonzero(np.abs(tfMag) > np.abs(tfMag)+0.01)\n",
    "tfmagIm = np.zeros(shape=goldIm.shape) \n",
    "tfmagIm[tmag] = 1\n",
    "plt.imshow(tfmagIm);\n",
    "plt.title('Mask created by AE Magnitude. TF Implementation');"
   ]
  },
  {
   "attachments": {},
   "cell_type": "markdown",
   "metadata": {},
   "source": [
    "# Trash Under"
   ]
  },
  {
   "cell_type": "code",
   "execution_count": null,
   "metadata": {},
   "outputs": [],
   "source": [
    "from scipy import signal\n",
    "import scipy\n",
    "from sklearn.decomposition import FactorAnalysis\n",
    "X = scipy.signal.resample_poly(allData[0], up = 5, down = 1, axis = 0)\n",
    "print(X.shape)\n",
    "transformer = FactorAnalysis(n_components=41, random_state=0)\n",
    "X_transformed = transformer.fit_transform(X.T)\n",
    "X_transformed.shape"
   ]
  },
  {
   "cell_type": "code",
   "execution_count": null,
   "metadata": {},
   "outputs": [],
   "source": [
    "plt.imshow(allData[0])"
   ]
  },
  {
   "cell_type": "code",
   "execution_count": null,
   "metadata": {},
   "outputs": [],
   "source": [
    "plt.imshow(X)"
   ]
  },
  {
   "cell_type": "code",
   "execution_count": null,
   "metadata": {},
   "outputs": [],
   "source": [
    "transformer.components_.shape"
   ]
  },
  {
   "cell_type": "code",
   "execution_count": null,
   "metadata": {},
   "outputs": [],
   "source": [
    "plt.imshow(transformer.components_)"
   ]
  },
  {
   "cell_type": "code",
   "execution_count": null,
   "metadata": {},
   "outputs": [],
   "source": [
    "#  val_loss: 0.0221"
   ]
  },
  {
   "cell_type": "code",
   "execution_count": null,
   "metadata": {},
   "outputs": [],
   "source": []
  },
  {
   "cell_type": "code",
   "execution_count": null,
   "metadata": {},
   "outputs": [],
   "source": [
    "plt.imshow(score)"
   ]
  },
  {
   "cell_type": "code",
   "execution_count": null,
   "metadata": {},
   "outputs": [],
   "source": [
    "tscore"
   ]
  },
  {
   "cell_type": "code",
   "execution_count": null,
   "metadata": {},
   "outputs": [],
   "source": [
    "plt.imshow(mag)"
   ]
  },
  {
   "cell_type": "code",
   "execution_count": null,
   "metadata": {},
   "outputs": [],
   "source": [
    "can[19]"
   ]
  },
  {
   "cell_type": "code",
   "execution_count": null,
   "metadata": {},
   "outputs": [],
   "source": [
    "goldIm[19]"
   ]
  },
  {
   "cell_type": "code",
   "execution_count": null,
   "metadata": {},
   "outputs": [],
   "source": [
    "mag.max()"
   ]
  },
  {
   "cell_type": "code",
   "execution_count": null,
   "metadata": {},
   "outputs": [],
   "source": [
    "mag[78]"
   ]
  },
  {
   "cell_type": "code",
   "execution_count": null,
   "metadata": {},
   "outputs": [],
   "source": [
    "can[4]"
   ]
  },
  {
   "cell_type": "code",
   "execution_count": null,
   "metadata": {},
   "outputs": [],
   "source": [
    "plt.imshow(can)"
   ]
  },
  {
   "cell_type": "code",
   "execution_count": null,
   "metadata": {},
   "outputs": [],
   "source": [
    "(np.cov(score, goldIm))\n"
   ]
  },
  {
   "cell_type": "code",
   "execution_count": null,
   "metadata": {},
   "outputs": [],
   "source": [
    "plt.imshow(np.cov(goldIm, score)[100:, 100:])\n",
    "#[100:, 100:]"
   ]
  },
  {
   "cell_type": "code",
   "execution_count": null,
   "metadata": {},
   "outputs": [],
   "source": [
    "u = np.vstack([goldIm.flatten(), score.flatten()])\n",
    "u.shape"
   ]
  },
  {
   "cell_type": "code",
   "execution_count": null,
   "metadata": {},
   "outputs": [],
   "source": [
    "np.cov(u)"
   ]
  },
  {
   "cell_type": "code",
   "execution_count": null,
   "metadata": {},
   "outputs": [],
   "source": [
    "plt.imshow(score);"
   ]
  },
  {
   "cell_type": "code",
   "execution_count": null,
   "metadata": {},
   "outputs": [],
   "source": []
  },
  {
   "cell_type": "code",
   "execution_count": null,
   "metadata": {},
   "outputs": [],
   "source": [
    "np.argmin(score)"
   ]
  },
  {
   "cell_type": "code",
   "execution_count": null,
   "metadata": {},
   "outputs": [],
   "source": [
    "score[score > score.mean() + score.var()]"
   ]
  },
  {
   "cell_type": "code",
   "execution_count": null,
   "metadata": {},
   "outputs": [],
   "source": []
  },
  {
   "cell_type": "code",
   "execution_count": null,
   "metadata": {},
   "outputs": [],
   "source": [
    "# pdf, bins = np.histogram(can, np.arange(NUM_PARENTS*NUM_TARGETS))\n",
    "# pdf"
   ]
  },
  {
   "cell_type": "code",
   "execution_count": null,
   "metadata": {},
   "outputs": [],
   "source": [
    "mag.shape"
   ]
  },
  {
   "attachments": {},
   "cell_type": "markdown",
   "metadata": {},
   "source": [
    "# Magnitudes After Training"
   ]
  },
  {
   "cell_type": "code",
   "execution_count": null,
   "metadata": {},
   "outputs": [],
   "source": [
    "NUM_PARENTS*NUM_TARGETS"
   ]
  },
  {
   "cell_type": "code",
   "execution_count": null,
   "metadata": {},
   "outputs": [],
   "source": [
    "#np.unravel_index(NUM_PARENTS*NUM_TARGETS, shape = (NUM_PARENTS, NUM_TARGETS))"
   ]
  },
  {
   "cell_type": "code",
   "execution_count": null,
   "metadata": {},
   "outputs": [],
   "source": [
    "pdf, bins = np.histogram(can, bins=NUM_PARENTS*NUM_TARGETS)"
   ]
  },
  {
   "cell_type": "code",
   "execution_count": null,
   "metadata": {},
   "outputs": [],
   "source": [
    "len(bins)"
   ]
  },
  {
   "cell_type": "code",
   "execution_count": null,
   "metadata": {},
   "outputs": [],
   "source": [
    "pdf, bins = np.histogram(can, np.arange(0, NUM_PARENTS*NUM_TARGETS))"
   ]
  },
  {
   "cell_type": "code",
   "execution_count": null,
   "metadata": {},
   "outputs": [],
   "source": [
    "bins"
   ]
  },
  {
   "cell_type": "code",
   "execution_count": null,
   "metadata": {},
   "outputs": [],
   "source": [
    "plt.plot(pdf)"
   ]
  },
  {
   "cell_type": "code",
   "execution_count": null,
   "metadata": {},
   "outputs": [],
   "source": [
    "# plt.hist(pdf, bins)"
   ]
  },
  {
   "cell_type": "code",
   "execution_count": null,
   "metadata": {},
   "outputs": [],
   "source": [
    "#TODO: CHECK ME\n",
    "def get_top_reg_targets(can, mag):\n",
    "    \n",
    "    pdf, bins = np.histogram(can, np.arange(0, NUM_PARENTS*NUM_TARGETS))\n",
    "    \n",
    "    pdf2d = np.zeros(shape = (NUM_PARENTS,NUM_TARGETS))\n",
    "\n",
    "    for i in bins:\n",
    "      idx2d = np.unravel_index(i, shape = (NUM_PARENTS, NUM_TARGETS))\n",
    "      try:\n",
    "        pdf2d[idx2d] = pdf[i]\n",
    "      except IndexError:\n",
    "        print(i, idx2d, len(pdf), len(bins), bins[-1])\n",
    "    \n",
    "\n",
    "    importance = np.multiply(pdf2d, mag)\n",
    "    return importance"
   ]
  },
  {
   "cell_type": "code",
   "execution_count": null,
   "metadata": {},
   "outputs": [],
   "source": [
    "top = get_top_reg_targets(can, mag)"
   ]
  },
  {
   "cell_type": "code",
   "execution_count": null,
   "metadata": {},
   "outputs": [],
   "source": []
  },
  {
   "cell_type": "code",
   "execution_count": null,
   "metadata": {},
   "outputs": [],
   "source": [
    "top.shape"
   ]
  },
  {
   "cell_type": "code",
   "execution_count": null,
   "metadata": {},
   "outputs": [],
   "source": [
    "plt.imshow(top)"
   ]
  },
  {
   "attachments": {},
   "cell_type": "markdown",
   "metadata": {},
   "source": [
    "#TODO: try factorial data, ordinary Auto encoder, treshold, tensorflow pruning, check average epoch of lazy kernel\n",
    "\n",
    "#TODO: Actually measure MSE "
   ]
  },
  {
   "cell_type": "code",
   "execution_count": null,
   "metadata": {},
   "outputs": [],
   "source": [
    "plt.imshow(mag)"
   ]
  },
  {
   "cell_type": "code",
   "execution_count": null,
   "metadata": {},
   "outputs": [],
   "source": [
    "# lm = pd.DataFrame(top)\n",
    "# lm.to_csv(\"top_r_t_HepG2.csv\")"
   ]
  },
  {
   "cell_type": "code",
   "execution_count": null,
   "metadata": {},
   "outputs": [],
   "source": [
    "# topdf = pd.read_csv('top_r_t_HepG2.csv')\n",
    "# topdf.head(5)\n"
   ]
  },
  {
   "cell_type": "code",
   "execution_count": null,
   "metadata": {},
   "outputs": [],
   "source": [
    "# top = np.array(topdf)\n",
    "# plt.imshow(top)"
   ]
  },
  {
   "cell_type": "code",
   "execution_count": null,
   "metadata": {},
   "outputs": [],
   "source": [
    "# top = top[:,1:]\n",
    "# plt.imshow(top)"
   ]
  },
  {
   "cell_type": "code",
   "execution_count": null,
   "metadata": {},
   "outputs": [],
   "source": [
    "# np.max(top)"
   ]
  },
  {
   "cell_type": "code",
   "execution_count": null,
   "metadata": {},
   "outputs": [],
   "source": [
    "np.array(non_zero).shape"
   ]
  },
  {
   "cell_type": "code",
   "execution_count": null,
   "metadata": {},
   "outputs": [],
   "source": [
    "top[non_zero].mean()"
   ]
  },
  {
   "cell_type": "code",
   "execution_count": null,
   "metadata": {},
   "outputs": [],
   "source": [
    "mag[non_zero].mean()\n"
   ]
  },
  {
   "cell_type": "code",
   "execution_count": null,
   "metadata": {},
   "outputs": [],
   "source": [
    "mag.mean()"
   ]
  },
  {
   "cell_type": "code",
   "execution_count": null,
   "metadata": {},
   "outputs": [],
   "source": [
    "top.mean()"
   ]
  },
  {
   "cell_type": "code",
   "execution_count": null,
   "metadata": {},
   "outputs": [],
   "source": [
    "no_connect = np.where(goldIm == 0)\n",
    "no_connect = np.array(no_connect)\n",
    "no_connect.shape"
   ]
  },
  {
   "cell_type": "code",
   "execution_count": null,
   "metadata": {},
   "outputs": [],
   "source": [
    "top[no_connect].mean()"
   ]
  },
  {
   "cell_type": "code",
   "execution_count": null,
   "metadata": {},
   "outputs": [],
   "source": [
    "mag[no_connect].mean()"
   ]
  },
  {
   "cell_type": "code",
   "execution_count": null,
   "metadata": {},
   "outputs": [],
   "source": [
    "mag01 = MinMaxScaler().fit_transform(mag.reshape((-1,1)))\n",
    "tff = mag01.flatten()\n",
    "std = np.std(tff)\n",
    "\n",
    "mu = np.mean(tff)\n",
    "mu, std\n",
    "magt = np.where(top > mu + 2*std, 1, 0)\n",
    "magt.dtype = 'int'\n",
    "plt.imshow(magt.reshape(100,100))"
   ]
  },
  {
   "cell_type": "code",
   "execution_count": null,
   "metadata": {},
   "outputs": [],
   "source": [
    "from sklearn.metrics import roc_auc_score\n",
    "roc_auc_score(goldIm.flatten(), magt.flatten(), average='samples')"
   ]
  },
  {
   "cell_type": "code",
   "execution_count": null,
   "metadata": {},
   "outputs": [],
   "source": [
    "top01 = MinMaxScaler().fit_transform(top.reshape((-1,1)))"
   ]
  },
  {
   "cell_type": "code",
   "execution_count": null,
   "metadata": {},
   "outputs": [],
   "source": [
    "plt.imshow(top01.reshape(100,100))"
   ]
  },
  {
   "cell_type": "code",
   "execution_count": null,
   "metadata": {},
   "outputs": [],
   "source": [
    "tff = top01.flatten()\n",
    "std = np.std(tff)\n",
    "\n",
    "mu = np.mean(tff)\n",
    "print(mu, std)\n",
    "yout = np.where(top01.flatten() > mu + 4*std, 1, 0)\n",
    "yout.dtype = 'int'"
   ]
  },
  {
   "cell_type": "code",
   "execution_count": null,
   "metadata": {},
   "outputs": [],
   "source": [
    "plt.imshow(yout.reshape(100,100))"
   ]
  },
  {
   "cell_type": "code",
   "execution_count": null,
   "metadata": {},
   "outputs": [],
   "source": [
    "plt.imshow(goldIm)"
   ]
  },
  {
   "cell_type": "code",
   "execution_count": null,
   "metadata": {},
   "outputs": [],
   "source": [
    "from sklearn.metrics import roc_auc_score\n",
    "roc_auc_score(goldIm.flatten(), (yout).flatten(), average='samples')"
   ]
  },
  {
   "cell_type": "code",
   "execution_count": null,
   "metadata": {},
   "outputs": [],
   "source": [
    "from sklearn.metrics import PrecisionRecallDisplay\n",
    "PrecisionRecallDisplay.from_predictions(goldIm.flatten(), yout.flatten());"
   ]
  },
  {
   "cell_type": "code",
   "execution_count": null,
   "metadata": {},
   "outputs": [],
   "source": []
  },
  {
   "cell_type": "code",
   "execution_count": null,
   "metadata": {},
   "outputs": [],
   "source": [
    "tff = top.flatten()\n",
    "std = np.std(tff)\n",
    "\n",
    "mu = np.mean(tff)\n",
    "mu, std\n",
    "yout = np.where(top > mu + 3*std, 1, 0)\n",
    "yout.dtype = 'int'"
   ]
  },
  {
   "cell_type": "code",
   "execution_count": null,
   "metadata": {},
   "outputs": [],
   "source": [
    "roc_auc_score(goldIm.flatten(), yout.flatten(), average='samples')"
   ]
  },
  {
   "cell_type": "code",
   "execution_count": null,
   "metadata": {},
   "outputs": [],
   "source": [
    "magX = StandardScaler().fit_transform(top.reshape((-1,1)))\n",
    "magX = MinMaxScaler().fit_transform(magX.reshape((-1,1)))\n",
    "you2 = np.where(magX > mu + 3*std, 1, 0)"
   ]
  },
  {
   "cell_type": "code",
   "execution_count": null,
   "metadata": {},
   "outputs": [],
   "source": [
    "roc_auc_score(goldIm.flatten(), you2.flatten(), average='samples')"
   ]
  },
  {
   "attachments": {},
   "cell_type": "markdown",
   "metadata": {},
   "source": [
    "# Draw old graphs; probably trash"
   ]
  },
  {
   "cell_type": "code",
   "execution_count": null,
   "metadata": {},
   "outputs": [],
   "source": [
    "u = plt.imshow(top, cmap = 'inferno', vmin = 0, vmax = np.max(top));\n",
    "plt.colorbar(u ,fraction=0.026, pad=0.1, orientation='horizontal');\n",
    "plt.title(\"HepG2: Regulator-Target Combination Importance\");"
   ]
  },
  {
   "cell_type": "code",
   "execution_count": null,
   "metadata": {},
   "outputs": [],
   "source": [
    "topID = np.array(np.unravel_index(np.argsort(top, axis=None), top.shape))\n",
    "topID = np.flip(topID, axis=1)\n",
    "topID[0] = parent_idx[topID[0]]\n",
    "topID = topID.T\n",
    "topID"
   ]
  },
  {
   "cell_type": "code",
   "execution_count": null,
   "metadata": {},
   "outputs": [],
   "source": [
    "topR_T = pd.DataFrame(topID)\n",
    "topR_T.to_csv(\"DREAM4_Top_reg_target_decendingOrder_firstColIsRegulator.csv\")"
   ]
  },
  {
   "cell_type": "code",
   "execution_count": null,
   "metadata": {},
   "outputs": [],
   "source": [
    "best = np.zeros(NUM_PARENTS)\n",
    "for i in range(NUM_PARENTS):\n",
    "    best[i] = np.sum(top[i])\n",
    "best"
   ]
  },
  {
   "cell_type": "code",
   "execution_count": null,
   "metadata": {},
   "outputs": [],
   "source": [
    "x = np.arange(0,NUM_PARENTS, dtype=int)\n",
    "plt.plot(x, best); "
   ]
  },
  {
   "cell_type": "code",
   "execution_count": null,
   "metadata": {},
   "outputs": [],
   "source": [
    "idx = np.flip(np.argsort(best))\n",
    "idx"
   ]
  },
  {
   "cell_type": "code",
   "execution_count": null,
   "metadata": {},
   "outputs": [],
   "source": [
    "parent_idx[idx] "
   ]
  },
  {
   "cell_type": "code",
   "execution_count": null,
   "metadata": {},
   "outputs": [],
   "source": [
    "np.unique(can).size"
   ]
  },
  {
   "attachments": {},
   "cell_type": "markdown",
   "metadata": {},
   "source": [
    "# Inference on Petal Len"
   ]
  },
  {
   "cell_type": "code",
   "execution_count": null,
   "metadata": {},
   "outputs": [],
   "source": [
    "petal = pd.read_excel(data_path_petal)"
   ]
  },
  {
   "cell_type": "code",
   "execution_count": null,
   "metadata": {},
   "outputs": [],
   "source": [
    "petal_train = petal[petal[\"Line\"] == \"WT\"]\n",
    "petal_train = petal_train.drop(columns=['Line', 'ID', \"Treatment\"])\n",
    "petal_train.head(12)\n",
    "petal_train = petal_train.groupby(['Plate']).mean()\n",
    "petal_train.head()\n",
    "petal_train = petal_train.to_numpy()\n",
    "print(petal_train.shape)\n",
    "scaler1 = StandardScaler()\n",
    "scaler1.fit(petal_train)\n",
    "petal_train = scaler1.transform(petal_train)\n",
    "mm = MinMaxScaler()\n",
    "mm.fit(petal_train)\n",
    "petal_train = mm.transform(petal_train)\n",
    "petal_train"
   ]
  },
  {
   "cell_type": "code",
   "execution_count": null,
   "metadata": {},
   "outputs": [],
   "source": [
    "petal_test = petal[petal[\"Line\"] != \"WT\"]\n",
    "petal_test = petal_test.drop(columns=['Line', 'ID', \"Treatment\"])\n",
    "petal_test = petal_test.groupby(['Plate']).mean()\n",
    "petal_test.head()\n",
    "petal_test = petal_test.to_numpy()\n",
    "print(petal_test.shape)\n",
    "petal_test = scaler1.transform(petal_test)\n",
    "petal_test = mm.transform(petal_test)\n",
    "petal_test"
   ]
  },
  {
   "cell_type": "code",
   "execution_count": null,
   "metadata": {},
   "outputs": [],
   "source": [
    "experiment1.shape\n",
    "testCandidate.shape"
   ]
  },
  {
   "cell_type": "code",
   "execution_count": null,
   "metadata": {},
   "outputs": [],
   "source": [
    "densePredictor = modelDense2(superParent, regulator_gene_matrix, NUM_TARGETS, 6, NUM_TARGETS, 22)\n",
    "densePredictor.compile(optimizer='adam', loss=ignore_noParent_MSE)\n",
    "densePredictor.fit(beanIntensities, beanIntensities,validation_data=(experiment1, experiment1),  epochs=100,  verbose=1)\n",
    "test = densePredictor(testCandidate) #, verbose = 0)\n",
    "loss = ignore_noParent_MSE(testCandidate, test)\n",
    "print(loss)"
   ]
  },
  {
   "cell_type": "code",
   "execution_count": null,
   "metadata": {},
   "outputs": [],
   "source": [
    "rgm = superParent\n",
    "time_steps = 6\n",
    "num_kinase_regulators = NUM_TARGETS\n",
    "num_hidden_units = 22\n",
    "\n",
    "inp = Input(shape=(time_steps, num_kinase_regulators))\n",
    "x = DenseEncoderLinear2(rgm, regulator_gene_matrix, NUM_TARGETS, NUM_TARGETS)(inp)\n",
    "enc = denseencoder2(x, inp, num_hidden_units)\n",
    "denseP = tf.keras.Model(inputs=inp, outputs=enc)\n",
    "#set the weights of the encoder to the weights of auto encoder\n",
    "dw = densePredictor.get_weights()\n",
    "enc_w = dw[0:5]\n",
    "denseP.set_weights(enc_w)\n",
    "#add a dense layer  because we are ouputing 1 number\n",
    "l = Dense(32, activation = 'swish', use_bias=True, kernel_regularizer='l1_l2')(denseP.layers[-1].output)\n",
    "l = Dense(1, activation = 'linear', use_bias = True)(l)\n",
    "denseP = tf.keras.Model(denseP.inputs, l)\n",
    "#denseP.summary()"
   ]
  },
  {
   "cell_type": "code",
   "execution_count": null,
   "metadata": {},
   "outputs": [],
   "source": [
    "bp = np.concatenate([experiment1, experiment1, experiment1, experiment1])\n",
    "bp.shape\n",
    "#bigexperiment1.shape"
   ]
  },
  {
   "cell_type": "code",
   "execution_count": null,
   "metadata": {},
   "outputs": [],
   "source": [
    "a = petal_train[0]\n",
    "b = petal_train[1]\n",
    "c = petal_train[2]\n",
    "d = petal_train[3]\n",
    "\n",
    "petal_train1 = np.array([a,a,a,a, b,b,b,b, c,c,c,c, d,d,d,d]) #does this make sense? we are training network to predict .5\n",
    "petal_train1.shape"
   ]
  },
  {
   "cell_type": "code",
   "execution_count": null,
   "metadata": {},
   "outputs": [],
   "source": [
    "denseP.compile(optimizer='adam', loss=tf.keras.losses.MeanSquaredError())\n",
    "denseP.fit(experiment1, petal_train, epochs=500, verbose = 1)"
   ]
  },
  {
   "cell_type": "code",
   "execution_count": null,
   "metadata": {},
   "outputs": [],
   "source": [
    "testCandidate.shape"
   ]
  },
  {
   "cell_type": "code",
   "execution_count": null,
   "metadata": {},
   "outputs": [],
   "source": [
    "denseP(experiment1) #experiment1 is part of the training set."
   ]
  },
  {
   "cell_type": "code",
   "execution_count": null,
   "metadata": {},
   "outputs": [],
   "source": [
    "petal_train"
   ]
  },
  {
   "cell_type": "code",
   "execution_count": null,
   "metadata": {},
   "outputs": [],
   "source": [
    "print(denseP(testCandidate)) #model output"
   ]
  },
  {
   "cell_type": "code",
   "execution_count": null,
   "metadata": {},
   "outputs": [],
   "source": [
    "petal_test #true label"
   ]
  },
  {
   "cell_type": "code",
   "execution_count": null,
   "metadata": {},
   "outputs": [],
   "source": [
    "petal_train"
   ]
  },
  {
   "cell_type": "code",
   "execution_count": null,
   "metadata": {},
   "outputs": [],
   "source": [
    "denseP.evaluate(testCandidate, petal_test) #eval gave 1.3999 before"
   ]
  },
  {
   "attachments": {},
   "cell_type": "markdown",
   "metadata": {},
   "source": [
    "# Junk"
   ]
  },
  {
   "attachments": {},
   "cell_type": "markdown",
   "metadata": {},
   "source": [
    "## Test SHAP"
   ]
  },
  {
   "cell_type": "code",
   "execution_count": null,
   "metadata": {},
   "outputs": [],
   "source": [
    "\n",
    "# !pip install shap"
   ]
  },
  {
   "cell_type": "code",
   "execution_count": null,
   "metadata": {},
   "outputs": [],
   "source": []
  },
  {
   "cell_type": "code",
   "execution_count": null,
   "metadata": {},
   "outputs": [],
   "source": [
    "from keras.applications.vgg16 import VGG16\n",
    "from keras.applications.vgg16 import preprocess_input\n",
    "import keras.backend as K\n",
    "import numpy as np\n",
    "import json\n",
    "import shap\n",
    "import tensorflow.compat.v1.keras.backend as K\n",
    "import tensorflow as tf\n",
    "from tensorflow import keras\n",
    "from keras import layers\n",
    "\n",
    "tf.compat.v1.disable_eager_execution()\n",
    "\n",
    "# load pre-trained model and choose two images to explain\n",
    "model = VGG16(weights='imagenet', include_top=True)\n",
    "\n",
    "encoder_input = keras.Input(shape=(28, 28, 1), name=\"img\")\n",
    "x = layers.Conv2D(16, 3, activation=\"relu\")(encoder_input)\n",
    "x = layers.Conv2D(32, 3, activation=\"relu\")(x)\n",
    "x = layers.MaxPooling2D(3)(x)\n",
    "x = layers.Conv2D(32, 3, activation=\"relu\")(x)\n",
    "x = layers.Conv2D(16, 3, activation=\"relu\")(x)\n",
    "encoder_output = layers.GlobalMaxPooling2D()(x)\n",
    "\n",
    "encoder = keras.Model(encoder_input, encoder_output, name=\"encoder\")\n",
    "# encoder.summary()\n",
    "\n",
    "x = layers.Reshape((4, 4, 1))(encoder_output)\n",
    "x = layers.Conv2DTranspose(16, 3, activation=\"relu\")(x)\n",
    "x = layers.Conv2DTranspose(32, 3, activation=\"relu\")(x)\n",
    "x = layers.UpSampling2D(3)(x)\n",
    "x = layers.Conv2DTranspose(16, 3, activation=\"relu\")(x)\n",
    "decoder_output = layers.Conv2DTranspose(1, 3, activation=\"relu\")(x)\n",
    "\n",
    "autoencoder = keras.Model(encoder_input, decoder_output, name=\"autoencoder\")\n",
    "autoencoder.summary()\n"
   ]
  },
  {
   "cell_type": "code",
   "execution_count": null,
   "metadata": {},
   "outputs": [],
   "source": [
    "model = autoencoder"
   ]
  },
  {
   "cell_type": "code",
   "execution_count": null,
   "metadata": {},
   "outputs": [],
   "source": [
    "\n",
    "X,y = shap.datasets.imagenet50()\n",
    "to_explain = X[[39,41]]\n",
    "\n",
    "# load the ImageNet class names\n",
    "url = \"https://s3.amazonaws.com/deep-learning-models/image-models/imagenet_class_index.json\"\n",
    "fname = shap.datasets.cache(url)\n",
    "with open(fname) as f:\n",
    "    class_names = json.load(f)\n",
    "\n",
    "# explain how the input to the 7th layer of the model explains the top two classes\n",
    "def map2layer(x, layer):\n",
    "    feed_dict = dict(zip([model.layers[0].input], [preprocess_input(x.copy())]))\n",
    "    return K.get_session().run(model.layers[layer].input, feed_dict)\n",
    "e = shap.GradientExplainer(\n",
    "    (model.layers[7].input, model.layers[-1].output),\n",
    "    map2layer(X, 7),\n",
    "    local_smoothing=0 # std dev of smoothing noise\n",
    ")\n",
    "shap_values,indexes = e.shap_values(map2layer(to_explain, 7), ranked_outputs=2)\n",
    "\n",
    "# get the names for the classes\n",
    "index_names = np.vectorize(lambda x: class_names[str(x)][1])(indexes)\n",
    "\n",
    "# plot the explanations\n",
    "shap.image_plot(shap_values, to_explain, index_names)"
   ]
  },
  {
   "cell_type": "code",
   "execution_count": null,
   "metadata": {},
   "outputs": [],
   "source": [
    "tf.__version__"
   ]
  },
  {
   "attachments": {},
   "cell_type": "markdown",
   "metadata": {},
   "source": [
    "# Load the test set and the synthetic dataset:\n"
   ]
  },
  {
   "cell_type": "code",
   "execution_count": null,
   "metadata": {},
   "outputs": [],
   "source": [
    "def loadTestSet(test_path):\n",
    "    testFiles = []\n",
    "    for np_name in glob(os.path.join(data_path_testSet,'*.np[yz]')):\n",
    "        k = np.load(os.path.join(data_path_testSet,np_name))\n",
    "        testFiles.append(k)\n",
    "#         print(np_name)\n",
    "#         print(k.shape)\n",
    "    return np.array(testFiles)"
   ]
  },
  {
   "cell_type": "code",
   "execution_count": null,
   "metadata": {
    "id": "_PKjzdFCMwFg"
   },
   "outputs": [],
   "source": [
    "def read_files(data_path):\n",
    "\n",
    "    #genes_intensities_data_matrix = pd.read_csv(file_path_intensities, index_col = 0)\n",
    "    #print(os.listdir(data_path))\n",
    "    replicate_files = os.listdir(data_path)\n",
    "    #print('replicate files:',replicate_files)\n",
    "    replicates = []\n",
    "    # i = 0\n",
    "    for file in replicate_files:\n",
    "        \n",
    "        try:\n",
    "            #print('file name:',file)\n",
    "            #print('value of i:',i)\n",
    "            genes_intensities_data_matrix = pd.read_csv(os.path.join(data_path , file), index_col = 0, on_bad_lines='skip')\n",
    "            #print('genes_intensities_data_matrix:',  genes_intensities_data_matrix.head())\n",
    "            replicates.append(np.array(genes_intensities_data_matrix.values, dtype = float))\n",
    "            # i+=1\n",
    "        except PermissionError:\n",
    "            print(\"Not a CSV: \", os.path.join(data_path , file))\n",
    "        \n",
    "    genes_intensities_data_matrix = genes_intensities_data_matrix.values\n",
    "    rgm = np.loadtxt(matrix_path)\n",
    "    rep = np.array(replicates).astype(np.float32)\n",
    "    \n",
    "    return rep, rgm.astype(np.float32)"
   ]
  },
  {
   "cell_type": "code",
   "execution_count": null,
   "metadata": {
    "id": "JCwo4LwlO_FF"
   },
   "outputs": [],
   "source": [
    "beanIntensities, regulator_gene_matrix= read_files(data_path_syn)\n",
    "matrix = regulator_gene_matrix\n",
    "replicates = beanIntensities"
   ]
  },
  {
   "cell_type": "code",
   "execution_count": null,
   "metadata": {},
   "outputs": [],
   "source": [
    "matrix.shape"
   ]
  },
  {
   "cell_type": "code",
   "execution_count": null,
   "metadata": {},
   "outputs": [],
   "source": [
    "replicates.shape"
   ]
  },
  {
   "cell_type": "code",
   "execution_count": null,
   "metadata": {},
   "outputs": [],
   "source": [
    "plt.imshow(matrix)"
   ]
  },
  {
   "cell_type": "code",
   "execution_count": null,
   "metadata": {},
   "outputs": [],
   "source": []
  },
  {
   "cell_type": "code",
   "execution_count": null,
   "metadata": {},
   "outputs": [],
   "source": [
    "d = np.zeros(shape = (3,6,8))\n",
    "id = np.unravel_index(3*6*8 - 1, shape = d.shape)\n",
    "d[id] = 1\n",
    "plt.imshow(d[2])"
   ]
  },
  {
   "cell_type": "code",
   "execution_count": null,
   "metadata": {},
   "outputs": [],
   "source": [
    "testCandidate[0][ : , parentIndex]"
   ]
  },
  {
   "cell_type": "code",
   "execution_count": null,
   "metadata": {},
   "outputs": [],
   "source": [
    "print(outSyn.shape)\n",
    "print(testCandidate.shape)\n",
    "syntheticLoss = ignore_noParent_MSE(np.array([testCandidate[0]]), np.array([outSyn[0]]) )\n",
    "syntheticLoss"
   ]
  },
  {
   "cell_type": "code",
   "execution_count": null,
   "metadata": {},
   "outputs": [],
   "source": [
    "dd"
   ]
  },
  {
   "cell_type": "code",
   "execution_count": null,
   "metadata": {},
   "outputs": [],
   "source": [
    "plt.plot(change[0][22])\n",
    "plt.xlabel(\"epoch\")\n",
    "plt.ylabel(\"change in weight\")"
   ]
  },
  {
   "cell_type": "code",
   "execution_count": null,
   "metadata": {},
   "outputs": [],
   "source": [
    "plt.plot(lossMatrix)\n",
    "plt.xlabel(\"epochs\")\n",
    "plt.ylabel(\"MSE\")"
   ]
  },
  {
   "cell_type": "code",
   "execution_count": null,
   "metadata": {},
   "outputs": [],
   "source": [
    "print(change.shape, lossMatrix.shape)"
   ]
  },
  {
   "cell_type": "code",
   "execution_count": null,
   "metadata": {},
   "outputs": [],
   "source": [
    "d = np.diff(change[0][22])\n",
    "plt.plot(d)\n",
    "d.shape"
   ]
  },
  {
   "cell_type": "code",
   "execution_count": null,
   "metadata": {},
   "outputs": [],
   "source": [
    "change[0][0].flatten()"
   ]
  },
  {
   "cell_type": "code",
   "execution_count": null,
   "metadata": {},
   "outputs": [],
   "source": [
    "top_pr.shape"
   ]
  },
  {
   "cell_type": "code",
   "execution_count": null,
   "metadata": {},
   "outputs": [],
   "source": [
    "plt.plot(d[0])"
   ]
  },
  {
   "cell_type": "code",
   "execution_count": null,
   "metadata": {},
   "outputs": [],
   "source": [
    "\n",
    "# def compute_tresh(change, stop = 0.05):\n",
    "#     diffs = []\n",
    "#     for parent in range(len(change)):\n",
    "#         for child in range(len(change[0])):\n",
    "#             diffs.append(np.diff(change[parent][child]))\n",
    "#     inflection = []\n",
    "\n",
    "\n",
    "#     try:\n",
    "#         for d in diffs:\n",
    "#             print(np.argwhere(np.abs(d) < stop))\n",
    "#             inflection.append(np.min(np.argwhere(np.abs(d) < stop))) #return where the second derivative is first 0. \n",
    "\n",
    "#     except ValueError:\n",
    "#         print(\"Stop value \", stop, \" is too high, trying stop = \", stop + 0.05)\n",
    "#         # s = stop + 0.05\n",
    "#         # return compute_tresh(change, stop = s)\n",
    "        \n",
    "\n",
    "#     return np.average(inflection)\n",
    "        \n",
    "# d = compute_tresh(change)\n",
    "# d.shape"
   ]
  },
  {
   "cell_type": "code",
   "execution_count": null,
   "metadata": {},
   "outputs": [],
   "source": [
    "#np.save(\"mse3.npy\", avgMSE) #mse2/3 is with -1 fix"
   ]
  },
  {
   "cell_type": "code",
   "execution_count": null,
   "metadata": {},
   "outputs": [],
   "source": [
    "#https://www.sciencedirect.com/science/article/pii/S0925231220314570?casa_token=lcEJANqO0JwAAAAA:uL3DGUZctPUZz_sPz1K1i2klMtb83TyKnc9CI3_N-uSOaM7VHL8GhM0jCGYfo25NmpDQQ9Cvlw"
   ]
  },
  {
   "cell_type": "code",
   "execution_count": null,
   "metadata": {},
   "outputs": [],
   "source": [
    "rshp = Flatten()(looseParent.layers[-1].output)\n",
    "\n",
    "modelTemp = tf.keras.Model(inputs=looseParent.input, outputs = [rshp])\n",
    "modelTemp.summary()\n",
    "type(modelTemp)\n",
    "explainer = shap.DeepExplainer(modelTemp, syntheticDataTrain)\n",
    "#shap.explainers._deep.deep_tf.op_handlers[\"AddV2\"] = shap.explainers._deep.deep_tf.passthrough #this solves the \"shap_ADDV2\" problem but another one will appear\n",
    "#shap.explainers._deep.deep_tf.op_handlers[\"FusedBatchNormV3\"] = shap.explainers._deep.deep_tf.passthrough #this solves the next problem which allows you to run the DeepExplainer.\n",
    "\n",
    "shap_values = explainer.shap_values(testCandidate[0:1])\n",
    "def f(x):\n",
    "    return modelTemp.predict(x)\n",
    "\n",
    "print(f(testCandidate))\n",
    "explainer = shap.KernelExplainer(f , testCandidate[0:1], link=\"logit\") #svm.predict_proba, X_train, link=\"logit\")\n",
    "shap_values = explainer.shap_values(testCandidate[0:1], nsamples=100)\n",
    "def map2layer(x, layer):\n",
    "    feed_dict = dict(zip([model.layers[0].input], [preprocess_input(x.copy())]))\n",
    "    return K.get_session().run(model.layers[layer].input, feed_dict)\n",
    "e = shap.GradientExplainer(\n",
    "    (model.layers[7].input, model.layers[-1].output),\n",
    "    map2layer(X, 7),\n",
    "    local_smoothing=0 # std dev of smoothing noise\n",
    ")\n",
    "from keras.applications.vgg16 import VGG16\n",
    "from keras.applications.vgg16 import preprocess_input\n",
    "import keras.backend as K\n",
    "import numpy as np\n",
    "import json\n",
    "import shap\n",
    "\n",
    "# load pre-trained model and choose two images to explain\n",
    "model = VGG16(weights='imagenet', include_top=True)\n",
    "X,y = shap.datasets.imagenet50()\n",
    "to_explain = X[[39,41]]\n",
    "\n",
    "# load the ImageNet class names\n",
    "url = \"https://s3.amazonaws.com/deep-learning-models/image-models/imagenet_class_index.json\"\n",
    "fname = shap.datasets.cache(url)\n",
    "with open(fname) as f:\n",
    "    class_names = json.load(f)\n",
    "\n",
    "# explain how the input to the 7th layer of the model explains the top two classes\n",
    "def map2layer(x, layer):\n",
    "    feed_dict = dict(zip([model.layers[0].input], [preprocess_input(x.copy())]))\n",
    "    return K.get_session().run(model.layers[layer].input, feed_dict)\n",
    "e = shap.GradientExplainer(\n",
    "    (model.layers[7].input, model.layers[-1].output),\n",
    "    map2layer(X, 7),\n",
    "    local_smoothing=0 # std dev of smoothing noise\n",
    ")\n",
    "shap_values,indexes = e.shap_values(map2layer(to_explain, 7), ranked_outputs=2)\n",
    "\n",
    "# get the names for the classes\n",
    "index_names = np.vectorize(lambda x: class_names[str(x)][1])(indexes)\n",
    "\n",
    "# plot the explanations\n",
    "shap.image_plot(shap_values, to_explain, index_names)"
   ]
  },
  {
   "cell_type": "code",
   "execution_count": null,
   "metadata": {},
   "outputs": [],
   "source": [
    "type(enc_dec_Synthetic)"
   ]
  },
  {
   "cell_type": "code",
   "execution_count": null,
   "metadata": {},
   "outputs": [],
   "source": [
    "a = [1,2,3]\n",
    "b = [5,6]\n",
    "u = tf.concat([a,b], axis = 0)\n",
    "u"
   ]
  },
  {
   "cell_type": "code",
   "execution_count": null,
   "metadata": {},
   "outputs": [],
   "source": [
    "newConnections = superParent - regulator_gene_matrix"
   ]
  },
  {
   "cell_type": "code",
   "execution_count": null,
   "metadata": {},
   "outputs": [],
   "source": [
    "plt.imshow(newConnections)"
   ]
  },
  {
   "cell_type": "code",
   "execution_count": null,
   "metadata": {},
   "outputs": [],
   "source": [
    "# nC = []\n",
    "# for i in range(len(newConnections[0])):\n",
    "#     for j in range(len(newConnections[1])):\n",
    "#         if newConnections[i][j] > 0:\n",
    "#             nC.append([i,j])\n",
    "# nC = np.array(nC)\n",
    "# nC = pd.DataFrame(nC)\n",
    "# nC.to_csv(\"new_connections_in_superParents.csv\")"
   ]
  },
  {
   "cell_type": "code",
   "execution_count": null,
   "metadata": {},
   "outputs": [],
   "source": []
  },
  {
   "cell_type": "code",
   "execution_count": null,
   "metadata": {},
   "outputs": [],
   "source": []
  },
  {
   "cell_type": "code",
   "execution_count": null,
   "metadata": {},
   "outputs": [],
   "source": [
    "###Code for testing loss function\n",
    "# print(outSyn.shape)\n",
    "# print(testCandidate.shape)\n",
    "# syntheticLoss = ignore_noParent_MSE(np.array([testCandidate[0]]), np.array([outSyn[0]]) )\n",
    "# syntheticLoss"
   ]
  },
  {
   "attachments": {},
   "cell_type": "markdown",
   "metadata": {},
   "source": [
    "# Synthetic Dataset Auto Encoder\n",
    "Autoencoder has not been trained on synthetic version of experiement 1. We test on the original experiment 1. "
   ]
  },
  {
   "cell_type": "code",
   "execution_count": null,
   "metadata": {
    "id": "WrRuJ_bsrHll"
   },
   "outputs": [],
   "source": [
    "enc_dec_Synthetic.compile(optimizer='adam', loss=ignore_noParent_MSE)"
   ]
  },
  {
   "cell_type": "code",
   "execution_count": null,
   "metadata": {
    "id": "yAOZEEvRRVU4"
   },
   "outputs": [],
   "source": [
    "# enc_dec_Synthetic.compile(optimizer='adam',loss = keras.losses.SparseCategoricalCrossentropy(from_logits=True))"
   ]
  },
  {
   "cell_type": "code",
   "execution_count": null,
   "metadata": {},
   "outputs": [],
   "source": [
    "syntheticDataTrain = beanIntensities[1:]"
   ]
  },
  {
   "cell_type": "code",
   "execution_count": null,
   "metadata": {
    "colab": {
     "base_uri": "https://localhost:8080/"
    },
    "executionInfo": {
     "elapsed": 726,
     "status": "ok",
     "timestamp": 1649273035573,
     "user": {
      "displayName": "Sahil Anish Palarpwar",
      "userId": "17757512684560375750"
     },
     "user_tz": 240
    },
    "id": "EuNDZx5Ov34I",
    "outputId": "74597aa1-c71c-4491-b8c9-4fefed309325"
   },
   "outputs": [],
   "source": [
    "enc_dec_Synthetic.fit(syntheticDataTrain,syntheticDataTrain,epochs=1000)"
   ]
  },
  {
   "cell_type": "code",
   "execution_count": null,
   "metadata": {},
   "outputs": [],
   "source": [
    "test = enc_dec_Synthetic(testCandidate) #, verbose = 0)\n",
    "loss = ignore_noParent_MSE(testCandidate, test)\n",
    "loss"
   ]
  },
  {
   "cell_type": "code",
   "execution_count": null,
   "metadata": {},
   "outputs": [],
   "source": [
    "w = enc_dec_Synthetic.get_weights()"
   ]
  },
  {
   "cell_type": "code",
   "execution_count": null,
   "metadata": {},
   "outputs": [],
   "source": [
    "plt.imshow(w[0], cmap = \"hot\", vmin=0,vmax=0.02)"
   ]
  },
  {
   "cell_type": "code",
   "execution_count": null,
   "metadata": {
    "id": "SBzDmjqJViEw",
    "scrolled": true
   },
   "outputs": [],
   "source": [
    "#we do not need to use this function for the testset\n",
    "def getCSVs(data_path_head):\n",
    "    PATH = data_path_head\n",
    "    EXT = \"*.csv\"\n",
    "    all_csv_files = [file\n",
    "                     for path, subdir, files in os.walk(PATH)\n",
    "                     for file in glob(os.path.join(path, EXT))]\n",
    "    actual = []\n",
    "    for p in all_csv_files:\n",
    "        actual.append(pd.read_csv(p, index_col = 0).to_numpy())\n",
    "    return np.array(actual)\n",
    "    \n",
    "experiment1 = getCSVs(data_path_og_exp1)"
   ]
  },
  {
   "cell_type": "code",
   "execution_count": null,
   "metadata": {},
   "outputs": [],
   "source": [
    "testCandidate = test.numpy().astype(np.float)"
   ]
  },
  {
   "cell_type": "code",
   "execution_count": null,
   "metadata": {},
   "outputs": [],
   "source": [
    "testCandidate.dtype"
   ]
  },
  {
   "cell_type": "code",
   "execution_count": null,
   "metadata": {},
   "outputs": [],
   "source": [
    "np.array([beanIntensities[0]]).shape"
   ]
  },
  {
   "cell_type": "code",
   "execution_count": null,
   "metadata": {},
   "outputs": [],
   "source": [
    "testCandidate[0].shape"
   ]
  },
  {
   "cell_type": "code",
   "execution_count": null,
   "metadata": {},
   "outputs": [],
   "source": [
    "np.array([beanIntensities[0]]).shape"
   ]
  },
  {
   "cell_type": "code",
   "execution_count": null,
   "metadata": {},
   "outputs": [],
   "source": [
    "outSyn = enc_dec_Synthetic.predict(testCandidate)"
   ]
  },
  {
   "cell_type": "code",
   "execution_count": null,
   "metadata": {},
   "outputs": [],
   "source": [
    "def mymagn(A, B):\n",
    "    mse = (np.square(A - B)).mean(axis=None)\n",
    "    return mse"
   ]
  },
  {
   "cell_type": "code",
   "execution_count": null,
   "metadata": {},
   "outputs": [],
   "source": [
    "print(outSyn.shape)"
   ]
  },
  {
   "cell_type": "code",
   "execution_count": null,
   "metadata": {},
   "outputs": [],
   "source": [
    "syntheticLoss = ignore_noParent_MSE(testCandidate, outSyn )\n",
    "syntheticLoss"
   ]
  },
  {
   "cell_type": "code",
   "execution_count": null,
   "metadata": {},
   "outputs": [],
   "source": [
    "(outSyn-testCandidate).shape"
   ]
  },
  {
   "cell_type": "code",
   "execution_count": null,
   "metadata": {},
   "outputs": [],
   "source": [
    "#!pip3 install keras-visualizer\n",
    "#!pip install pydot\n",
    "#data_path_og_exp1 = data_path_testSet \n",
    "# !pip install pydot\n",
    "# !pip install pydotplus\n",
    "# !pip install graphviz"
   ]
  },
  {
   "cell_type": "code",
   "execution_count": null,
   "metadata": {},
   "outputs": [],
   "source": [
    "# test = loadTestSet(data_path_testSet)\n",
    "# testCandidate = test.astype(np.float)\n"
   ]
  },
  {
   "cell_type": "code",
   "execution_count": null,
   "metadata": {
    "id": "nPRV0OAMpKPH"
   },
   "outputs": [],
   "source": [
    "enc_dec_Synthetic = model(regulator_gene_matrix, NUM_TARGETS, NUM_TIME_STEPS, NUM_TARGETS) #we can just change the time steps to something higher"
   ]
  },
  {
   "cell_type": "code",
   "execution_count": null,
   "metadata": {
    "colab": {
     "base_uri": "https://localhost:8080/"
    },
    "executionInfo": {
     "elapsed": 13,
     "status": "ok",
     "timestamp": 1649273028683,
     "user": {
      "displayName": "Sahil Anish Palarpwar",
      "userId": "17757512684560375750"
     },
     "user_tz": 240
    },
    "id": "D6aPT5_cpKK0",
    "outputId": "c261d824-0f38-4eee-b139-f03a80f093e1"
   },
   "outputs": [],
   "source": [
    "enc_dec_Synthetic.summary()"
   ]
  },
  {
   "attachments": {},
   "cell_type": "markdown",
   "metadata": {},
   "source": [
    "# Interpolated dataset Auto Encoder\n",
    "Once again, we do not train on any version of exp1"
   ]
  },
  {
   "cell_type": "code",
   "execution_count": null,
   "metadata": {},
   "outputs": [],
   "source": [
    "def read_filesV2(data_path):\n",
    "    '''\n",
    "    *Changed*\n",
    "    currently hardcoded for only one file. \n",
    "    change code a bit for reading multiple files.\n",
    "    '''\n",
    "    #genes_intensities_data_matrix = pd.read_csv(file_path_intensities, index_col = 0)\n",
    "    #print(os.listdir(data_path))\n",
    "    replicate_files = os.listdir(data_path)\n",
    "    #print('replicate files:',replicate_files)\n",
    "    replicates = []\n",
    "    # i = 0\n",
    "    for file in replicate_files:\n",
    "        \n",
    "        #print('file name:',file)\n",
    "        #print('value of i:',i)\n",
    "        genes_intensities_data_matrix = pd.read_csv(os.path.join(data_path , file), index_col = 0, on_bad_lines='skip')\n",
    "        #print('genes_intensities_data_matrix:',  genes_intensities_data_matrix.head())\n",
    "        replicates.append(genes_intensities_data_matrix.values)\n",
    "        # i+=1\n",
    "        \n",
    "    genes_intensities_data_matrix = genes_intensities_data_matrix.values\n",
    "    rgm = np.loadtxt(matrix_path)\n",
    "    \n",
    "    return np.asarray(replicates), rgm.astype(np.float32)"
   ]
  },
  {
   "cell_type": "code",
   "execution_count": null,
   "metadata": {},
   "outputs": [],
   "source": [
    "interpolated_genes, _ = read_filesV2(data_path_inter)"
   ]
  },
  {
   "cell_type": "code",
   "execution_count": null,
   "metadata": {},
   "outputs": [],
   "source": [
    "interpolated_genes.shape"
   ]
  },
  {
   "cell_type": "code",
   "execution_count": null,
   "metadata": {},
   "outputs": [],
   "source": [
    "pd.DataFrame(interpolated_genes[2]).head(5)"
   ]
  },
  {
   "cell_type": "code",
   "execution_count": null,
   "metadata": {},
   "outputs": [],
   "source": [
    "inter = []\n",
    "for k in range(len(interpolated_genes)):\n",
    "    #print(k)\n",
    "    if k == 2 or k == 3 or k == 4:\n",
    "        inter.append(np.reshape(interpolated_genes[k], (4,6,NUM_TARGETS)))\n",
    "    else: \n",
    "        inter.append(np.reshape(interpolated_genes[k], (5,6,NUM_TARGETS)))\n",
    "inter = np.vstack(inter)"
   ]
  },
  {
   "cell_type": "code",
   "execution_count": null,
   "metadata": {},
   "outputs": [],
   "source": [
    "inter.shape"
   ]
  },
  {
   "cell_type": "code",
   "execution_count": null,
   "metadata": {},
   "outputs": [],
   "source": [
    "beanIntensities[1:].shape"
   ]
  },
  {
   "cell_type": "code",
   "execution_count": null,
   "metadata": {},
   "outputs": [],
   "source": [
    "enc_dec_inter = model(regulator_gene_matrix, NUM_TARGETS, 6, NUM_TARGETS) \n",
    "enc_dec_inter.compile(optimizer='adam', loss=ignore_noParent_MSE)"
   ]
  },
  {
   "cell_type": "code",
   "execution_count": null,
   "metadata": {},
   "outputs": [],
   "source": [
    "enc_dec_inter.fit(inter, inter,epochs=1000);"
   ]
  },
  {
   "cell_type": "code",
   "execution_count": null,
   "metadata": {},
   "outputs": [],
   "source": [
    "outInter = enc_dec_inter.predict(testCandidate)\n",
    "interpolationLoss = ignore_noParent_MSE(testCandidate, outInter)"
   ]
  },
  {
   "cell_type": "code",
   "execution_count": null,
   "metadata": {},
   "outputs": [],
   "source": [
    "interpolationLoss #used to be 3.84 on broke ignore"
   ]
  },
  {
   "cell_type": "code",
   "execution_count": null,
   "metadata": {},
   "outputs": [],
   "source": [
    "outInter.shape"
   ]
  },
  {
   "cell_type": "code",
   "execution_count": null,
   "metadata": {},
   "outputs": [],
   "source": [
    "u = enc_dec_inter.history\n",
    "u"
   ]
  },
  {
   "attachments": {},
   "cell_type": "markdown",
   "metadata": {},
   "source": [
    "# Comparisons between various outputs:"
   ]
  },
  {
   "cell_type": "code",
   "execution_count": null,
   "metadata": {},
   "outputs": [],
   "source": [
    "u = plt.imshow(np.reshape((np.abs(outSyn)), (24,NUM_TARGETS)), cmap = \"hot\", vmin=0,vmax=1.0 );"
   ]
  },
  {
   "cell_type": "code",
   "execution_count": null,
   "metadata": {},
   "outputs": [],
   "source": [
    "u = pd.DataFrame(outSyn[0])\n",
    "u.head(10)"
   ]
  },
  {
   "cell_type": "code",
   "execution_count": null,
   "metadata": {},
   "outputs": [],
   "source": [
    "u = pd.DataFrame(testCandidate[0])\n",
    "u.head(10)"
   ]
  },
  {
   "cell_type": "code",
   "execution_count": null,
   "metadata": {
    "scrolled": true
   },
   "outputs": [],
   "source": [
    "plt.figure(figsize=(50, 50))\n",
    "u = plt.imshow(np.reshape((np.abs(outSyn-outInter)), (24,NUM_TARGETS)), cmap = \"hot\")#, vmin=0,vmax=1.0 );\n",
    "plt.title(\"Difference Between the Outputs of Both Autoencoders\", fontsize = 40);\n",
    "plt.xlabel(\"Phosphopeptide\", fontsize = 30);\n",
    "plt.ylabel(\"Times Concatenated\", fontsize = 30);\n",
    "plt.colorbar(u ,fraction=0.0046, pad=0.02);\n",
    "#plt.savefig(\"DiffBetweenOut.png\")"
   ]
  },
  {
   "cell_type": "code",
   "execution_count": null,
   "metadata": {},
   "outputs": [],
   "source": [
    "plt.figure(figsize=(50, 50))\n",
    "u = plt.imshow(np.reshape(np.abs(outInter-experiment1), (24,NUM_TARGETS)) , cmap = \"hot\") #, vmin=0,vmax=1.0 )\n",
    "plt.title(\"Difference Between the Input and Output of the Autoencoder Trained on Interpolated Data\", fontsize = 40);\n",
    "plt.xlabel(\"Phosphopeptide\", fontsize = 30)\n",
    "plt.ylabel(\"Times Concatenated\", fontsize = 30);\n",
    "plt.colorbar(u ,fraction=0.0046, pad=0.02);\n",
    "#plt.savefig(\"InterDiffImage.png\")"
   ]
  },
  {
   "cell_type": "code",
   "execution_count": null,
   "metadata": {},
   "outputs": [],
   "source": [
    "plt.figure(figsize=(50, 50))\n",
    "u = plt.imshow(np.reshape(np.abs(outSyn-experiment1), (24,NUM_TARGETS)), cmap = \"hot\")#, vmin=0,vmax=1.0 )\n",
    "plt.title(\"Difference Between the Input and Output of the Autoencoder Trained on Synthetic Data\", fontsize = 40);\n",
    "plt.xlabel(\"Phosphopeptide\", fontsize = 30);\n",
    "plt.ylabel(\"Times Concatenated\", fontsize = 30);\n",
    "plt.colorbar(u ,fraction=0.0046, pad=0.02);\n",
    "#plt.savefig(\"SynDiffImage.png\");"
   ]
  },
  {
   "cell_type": "code",
   "execution_count": null,
   "metadata": {},
   "outputs": [],
   "source": [
    "parent_idx = parentIndex.numpy()\n",
    "#print(parent_idx)\n",
    "oSyn = (np.reshape((outSyn), (24,NUM_TARGETS)).T)[parent_idx]\n",
    "oSyn = oSyn.T\n",
    "oSyn.shape\n",
    "\n",
    "exp1_col = (np.reshape((experiment1), (24,NUM_TARGETS)).T)[parent_idx]\n",
    "exp1_col = exp1_col.T\n",
    "print(exp1_col.shape)\n",
    "\n",
    "u = plt.imshow(np.abs(oSyn - exp1_col), cmap = 'hot') #TODO use TF loss function instead of difference.\n",
    "ddff = oSyn-exp1_col\n",
    "plt.colorbar(u)\n",
    "plt.title(\"Difference Between the Input and Output of the Autoencoder Trained on Synthetic Data. Only parents.\");"
   ]
  },
  {
   "cell_type": "code",
   "execution_count": null,
   "metadata": {},
   "outputs": [],
   "source": [
    "pd.DataFrame(oSyn).head(24)"
   ]
  },
  {
   "cell_type": "code",
   "execution_count": null,
   "metadata": {},
   "outputs": [],
   "source": [
    "pd.DataFrame(exp1_col).head(24)\n"
   ]
  },
  {
   "cell_type": "code",
   "execution_count": null,
   "metadata": {},
   "outputs": [],
   "source": [
    "pd.DataFrame(ddff).head(24)\n"
   ]
  },
  {
   "cell_type": "code",
   "execution_count": null,
   "metadata": {},
   "outputs": [],
   "source": [
    "# np.save(\"interpolated_v2.npy\", inter) #the interpolated dataset\n",
    "# np.save(\"synthetic_v2.npy\", beanIntensities[1:]) # the synthetic dataset\n",
    "# np.save(\"synOut_v2.npy\", outSyn) #the output of the encoder trained on synthetic data with the input being exp1\n",
    "# np.save(\"interOut_v2.npy\", outInter) #the output of the encoder trained on interpolated data with the input being exp1"
   ]
  },
  {
   "cell_type": "code",
   "execution_count": null,
   "metadata": {},
   "outputs": [],
   "source": []
  }
 ],
 "metadata": {
  "colab": {
   "authorship_tag": "ABX9TyM6J5QSynTTgZ+lFOhgOtAG",
   "collapsed_sections": [],
   "name": "cnn-third.ipynb",
   "provenance": [
    {
     "file_id": "1mmRxO5jnBc5CdzxXj8sMtPpG0BQ0ulSs",
     "timestamp": 1648921397876
    },
    {
     "file_id": "10758zFj2UnTnwpQaSFIr5r9MqZWdiMsf",
     "timestamp": 1648674775255
    }
   ]
  },
  "kernelspec": {
   "display_name": "Python 3.9.12 ('base')",
   "language": "python",
   "name": "python3"
  },
  "language_info": {
   "codemirror_mode": {
    "name": "ipython",
    "version": 3
   },
   "file_extension": ".py",
   "mimetype": "text/x-python",
   "name": "python",
   "nbconvert_exporter": "python",
   "pygments_lexer": "ipython3",
   "version": "3.9.12"
  },
  "vscode": {
   "interpreter": {
    "hash": "ad2bdc8ecc057115af97d19610ffacc2b4e99fae6737bb82f5d7fb13d2f2c186"
   }
  }
 },
 "nbformat": 4,
 "nbformat_minor": 1
}
