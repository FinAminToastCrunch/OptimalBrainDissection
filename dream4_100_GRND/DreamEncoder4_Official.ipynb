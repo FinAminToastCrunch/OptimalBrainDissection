{
 "cells": [
  {
   "cell_type": "code",
   "execution_count": 1,
   "metadata": {},
   "outputs": [],
   "source": [
    "#!pip install synapseclient"
   ]
  },
  {
   "cell_type": "code",
   "execution_count": 2,
   "metadata": {},
   "outputs": [],
   "source": [
    "#!pip install synapseutils"
   ]
  },
  {
   "cell_type": "code",
   "execution_count": 3,
   "metadata": {},
   "outputs": [],
   "source": [
    "#  import synapseclient \n",
    "#  import synapseutils \n",
    " \n",
    "#  syn = synapseclient.Synapse() \n",
    "#  syn.login('finamintoastcrunch','1Hjldria!') \n",
    "#  files = synapseutils.syncFromSynapse(syn, ' syn2825306 ') "
   ]
  },
  {
   "cell_type": "code",
   "execution_count": 4,
   "metadata": {},
   "outputs": [],
   "source": [
    "# !pip install -q tensorflow-model-optimization"
   ]
  },
  {
   "attachments": {},
   "cell_type": "markdown",
   "metadata": {},
   "source": [
    "# Import Libraries"
   ]
  },
  {
   "cell_type": "code",
   "execution_count": 5,
   "metadata": {
    "id": "qTo_HuQkGgAq"
   },
   "outputs": [],
   "source": [
    "import tensorflow as tf\n",
    "from tensorflow import keras\n",
    "from datetime import datetime\n",
    "import numpy as np\n",
    "import pandas as pd\n",
    "import matplotlib.pyplot as plt\n",
    "\n",
    "from tensorflow.keras.layers import*\n",
    "from keras.utils.vis_utils import plot_model\n",
    "import tensorflow.keras.backend as K\n",
    "# from keras.layers import Input\n",
    "# from keras.layers import Dense\n",
    "# from keras.layers import Conv1D\n",
    "# from keras.layers import Conv1DTranspose\n",
    "# from keras.layers import Flatten, Reshape\n",
    "\n",
    "import os\n",
    "from glob import glob\n",
    "from tqdm import tqdm\n",
    "from tensorflow.keras import losses\n",
    "from sklearn.preprocessing import StandardScaler\n",
    "import tensorflow_model_optimization as tfmot\n",
    "from sklearn.preprocessing import MinMaxScaler"
   ]
  },
  {
   "cell_type": "code",
   "execution_count": 6,
   "metadata": {},
   "outputs": [],
   "source": [
    "import numpy as np\n",
    "from sklearn.datasets import load_breast_cancer\n",
    "from sklearn.model_selection import train_test_split\n",
    "\n",
    "from sklearn.ensemble import RandomForestClassifier\n",
    "from sklearn.decomposition import PCA\n",
    "from sklearn.pipeline import Pipeline\n",
    "\n",
    "import warnings\n",
    "\n",
    "# from interpret import show\n",
    "# from interpret.blackbox import ShapKernel\n",
    "import shap\n",
    "\n",
    "seed = 42\n",
    "np.random.seed(seed)\n",
    "X, y = load_breast_cancer(return_X_y=True, as_frame=True)\n",
    "X_train, X_test, y_train, y_test = train_test_split(X, y, test_size=0.20, random_state=seed)\n"
   ]
  },
  {
   "cell_type": "code",
   "execution_count": 7,
   "metadata": {},
   "outputs": [
    {
     "data": {
      "text/plain": [
       "(455, 30)"
      ]
     },
     "execution_count": 7,
     "metadata": {},
     "output_type": "execute_result"
    }
   ],
   "source": [
    "X_train.shape"
   ]
  },
  {
   "cell_type": "code",
   "execution_count": 8,
   "metadata": {},
   "outputs": [
    {
     "data": {
      "text/plain": [
       "(455,)"
      ]
     },
     "execution_count": 8,
     "metadata": {},
     "output_type": "execute_result"
    }
   ],
   "source": [
    "y_train.shape"
   ]
  },
  {
   "cell_type": "code",
   "execution_count": 9,
   "metadata": {},
   "outputs": [],
   "source": [
    "\n",
    "# pca = PCA()\n",
    "# rf = RandomForestClassifier(n_estimators=100, n_jobs=-1, random_state=seed)\n",
    "\n",
    "# blackbox_model = Pipeline([('pca', pca), ('rf', rf)])\n",
    "# blackbox_model.fit(X_train, y_train)\n",
    "\n",
    "# shap = ShapKernel(blackbox_model.predict_proba, X_train)\n",
    "# with warnings.catch_warnings():\n",
    "#     warnings.filterwarnings(\"ignore\")\n",
    "#     shap_local = shap.explain_local(X_test[:5], y_test[:5])\n",
    "\n",
    "# show(shap_local, 0)"
   ]
  },
  {
   "cell_type": "code",
   "execution_count": 10,
   "metadata": {},
   "outputs": [],
   "source": [
    "df = pd.DataFrame"
   ]
  },
  {
   "cell_type": "code",
   "execution_count": 11,
   "metadata": {},
   "outputs": [
    {
     "data": {
      "text/plain": [
       "[PhysicalDevice(name='/physical_device:GPU:0', device_type='GPU')]"
      ]
     },
     "execution_count": 11,
     "metadata": {},
     "output_type": "execute_result"
    }
   ],
   "source": [
    "tf.config.list_physical_devices(\n",
    "    device_type=None\n",
    ")\n",
    "tf.config.list_physical_devices('GPU')"
   ]
  },
  {
   "cell_type": "code",
   "execution_count": 12,
   "metadata": {},
   "outputs": [
    {
     "data": {
      "text/plain": [
       "True"
      ]
     },
     "execution_count": 12,
     "metadata": {},
     "output_type": "execute_result"
    }
   ],
   "source": [
    "isEager = tf.executing_eagerly()\n",
    "isEager"
   ]
  },
  {
   "cell_type": "code",
   "execution_count": 13,
   "metadata": {},
   "outputs": [],
   "source": [
    "import warnings\n",
    "warnings.filterwarnings('ignore')"
   ]
  },
  {
   "cell_type": "code",
   "execution_count": 14,
   "metadata": {},
   "outputs": [],
   "source": [
    "import matplotlib.pylab as pylab\n",
    "params = {'legend.fontsize': 'x-large',\n",
    "          'figure.figsize': (15, 5),\n",
    "         'axes.labelsize': 'x-large',\n",
    "         'axes.titlesize':'x-large',\n",
    "         'xtick.labelsize':'x-large',\n",
    "         'ytick.labelsize':'x-large'}\n",
    "pylab.rcParams.update(params)"
   ]
  },
  {
   "cell_type": "code",
   "execution_count": 15,
   "metadata": {},
   "outputs": [
    {
     "name": "stdout",
     "output_type": "stream",
     "text": [
      "1 Physical GPUs, 1 Logical GPUs\n"
     ]
    }
   ],
   "source": [
    "gpus = tf.config.list_physical_devices('GPU')\n",
    "if gpus:\n",
    "  try:\n",
    "    # Currently, memory growth needs to be the same across GPUs\n",
    "    for gpu in gpus:\n",
    "      tf.config.experimental.set_memory_growth(gpu, True)\n",
    "    logical_gpus = tf.config.list_logical_devices('GPU')\n",
    "    print(len(gpus), \"Physical GPUs,\", len(logical_gpus), \"Logical GPUs\")\n",
    "  except RuntimeError as e:\n",
    "    # Memory growth must be set before GPUs have been initialized\n",
    "    print(e)"
   ]
  },
  {
   "cell_type": "code",
   "execution_count": 16,
   "metadata": {},
   "outputs": [],
   "source": [
    "NUM_PARENTS = 41\n",
    "NUM_TARGETS = 100\n",
    "NUM_TIME_STEPS = 21\n",
    "NUM_REPLICATES = 10 "
   ]
  },
  {
   "cell_type": "code",
   "execution_count": 17,
   "metadata": {
    "id": "gXpISOijEYqQ"
   },
   "outputs": [],
   "source": [
    "\n",
    "# matrix_path = \"regulator-gene-matrix.csv\"\n",
    "# data_path_syn = r\"C:\\Users\\Fin Amin\\Desktop\\StemCellResearch\\Fin_preProcessed\\synData\"\n",
    "# data_path_inter =  r\"C:\\Users\\Fin Amin\\Desktop\\StemCellResearch\\Fin_preProcessed\\interpolatedOnly\"\n",
    "# data_path_og_exp1 = r\"C:\\Users\\Fin Amin\\Desktop\\StemCellResearch\\Fin_preProcessed\\datasets\\exp1\"\n",
    "# data_path_testSet = r\"C:\\Users\\Fin Amin\\Desktop\\StemCellResearch\\testSetFixed\"\n",
    "# data_path_petal = r\"C:\\Users\\Fin Amin\\Desktop\\StemCellResearch\\petal_len.xlsx\""
   ]
  },
  {
   "cell_type": "code",
   "execution_count": 304,
   "metadata": {},
   "outputs": [],
   "source": [
    "# dirty_RGM = r'Regulations_Control_Altona.csv'\n",
    "dirty_regulations = r'insilico_size100_3_timeseries.csv'"
   ]
  },
  {
   "cell_type": "code",
   "execution_count": 305,
   "metadata": {},
   "outputs": [
    {
     "data": {
      "text/plain": [
       "(10, 21, 100)"
      ]
     },
     "execution_count": 305,
     "metadata": {},
     "output_type": "execute_result"
    }
   ],
   "source": [
    "dirtyReg = pd.read_csv(dirty_regulations,  index_col = 0,)# on_bad_lines='skip')\n",
    "dirtyReg = dirtyReg.dropna(axis=0)\n",
    "dirtyReg = dirtyReg.select_dtypes(include=np.number)\n",
    "dirtyReg = dirtyReg.to_numpy() #reshape would not work in this case. \n",
    "\n",
    "dRegs = np.zeros(shape=(NUM_REPLICATES, NUM_TIME_STEPS, NUM_TARGETS), dtype=np.float)\n",
    "for i in range(NUM_REPLICATES):\n",
    "    dRegs[i] = dirtyReg[NUM_TIME_STEPS*i : NUM_TIME_STEPS*(i+1)]\n",
    "dRegs.shape"
   ]
  },
  {
   "cell_type": "code",
   "execution_count": 306,
   "metadata": {},
   "outputs": [
    {
     "data": {
      "text/plain": [
       "(210, 100)"
      ]
     },
     "execution_count": 306,
     "metadata": {},
     "output_type": "execute_result"
    }
   ],
   "source": [
    "dirtyReg.shape"
   ]
  },
  {
   "cell_type": "code",
   "execution_count": 307,
   "metadata": {},
   "outputs": [
    {
     "data": {
      "text/plain": [
       "(10, 21, 100)"
      ]
     },
     "execution_count": 307,
     "metadata": {},
     "output_type": "execute_result"
    }
   ],
   "source": [
    "\n",
    "def fix_dataset(dirtyR):\n",
    "    ds = dirtyR\n",
    "    ret = np.zeros(shape=(NUM_REPLICATES,NUM_TIME_STEPS, NUM_TARGETS))\n",
    "\n",
    "    # for i in range(0,NUM_REPLICATES*NUM_TIME_STEPS, 4):\n",
    "    #     for j in range(0, NUM_REPLICATES):\n",
    "    #         dataset[j][:,i//NUM_REPLICATES] = dirtyR[:,(i+j)]\n",
    "    \n",
    "    ds[ds==0.0] = np.nan #we do this so the scaling ignores 0.0 #CHECKED\n",
    "\n",
    "\n",
    "    for i in range(NUM_REPLICATES):\n",
    "        regScaled = StandardScaler().fit_transform(ds[i].flatten().reshape((-1,1)))\n",
    "        regScaled = MinMaxScaler().fit_transform(ds[i].flatten().reshape((-1,1))) #ignores np.nan\n",
    "        regScaled = regScaled.reshape((NUM_TARGETS, NUM_TIME_STEPS))\n",
    "        regScaled = np.nan_to_num(regScaled, nan= 0.0)\n",
    "        ret[i] = regScaled.T\n",
    "    return ret\n",
    "\n",
    "dataset = fix_dataset(dirtyR=dRegs)\n",
    "dataset.shape"
   ]
  },
  {
   "cell_type": "code",
   "execution_count": 308,
   "metadata": {},
   "outputs": [
    {
     "data": {
      "text/plain": [
       "array([[4.33156924e-01, 7.93965599e-01, 3.43938064e-01, ...,\n",
       "        3.88739102e-02, 3.75947421e-01, 2.00072600e-01],\n",
       "       [1.08128090e-02, 7.51263040e-01, 9.00576867e-02, ...,\n",
       "        7.16814343e-01, 1.33042829e-01, 6.53617853e-01],\n",
       "       [7.05170501e-01, 3.67100721e-01, 3.72227536e-01, ...,\n",
       "        4.88404723e-01, 8.25771434e-02, 3.82763296e-04],\n",
       "       ...,\n",
       "       [7.16182202e-01, 3.69279501e-01, 1.29733604e-01, ...,\n",
       "        6.62706589e-01, 6.87492122e-01, 1.13770150e-01],\n",
       "       [3.49892862e-01, 8.40096200e-01, 4.04710688e-01, ...,\n",
       "        6.79690821e-01, 2.11940634e-02, 6.60427290e-01],\n",
       "       [7.01813614e-01, 5.94842849e-01, 6.85026241e-01, ...,\n",
       "        6.38615203e-01, 6.30712705e-01, 2.11717910e-01]])"
      ]
     },
     "execution_count": 308,
     "metadata": {},
     "output_type": "execute_result"
    }
   ],
   "source": [
    "dataset[0]"
   ]
  },
  {
   "cell_type": "code",
   "execution_count": 309,
   "metadata": {},
   "outputs": [
    {
     "name": "stdout",
     "output_type": "stream",
     "text": [
      "(8, 21, 100) (2, 21, 100) (10, 21, 100)\n"
     ]
    }
   ],
   "source": [
    "beanIntensities = dataset[0:8]\n",
    "validation = dataset[8:]\n",
    "allData = dataset\n",
    "print(beanIntensities.shape, validation.shape, allData.shape)"
   ]
  },
  {
   "cell_type": "code",
   "execution_count": 310,
   "metadata": {},
   "outputs": [],
   "source": [
    "#the third replicate is trash. we will not use it. \n",
    "# df(dataset[3]).head(11) "
   ]
  },
  {
   "cell_type": "code",
   "execution_count": 311,
   "metadata": {},
   "outputs": [],
   "source": [
    "# regulator_gene_matrix = np.load(\"soyBeanRGM.npy\")\n",
    "# regulator_gene_matrix = regulator_gene_matrix.astype('float32')\n",
    "# regulator_gene_matrix.shape"
   ]
  },
  {
   "attachments": {},
   "cell_type": "markdown",
   "metadata": {},
   "source": [
    "# Load and Compare Gold Standard"
   ]
  },
  {
   "cell_type": "code",
   "execution_count": 312,
   "metadata": {},
   "outputs": [
    {
     "data": {
      "text/html": [
       "<div>\n",
       "<style scoped>\n",
       "    .dataframe tbody tr th:only-of-type {\n",
       "        vertical-align: middle;\n",
       "    }\n",
       "\n",
       "    .dataframe tbody tr th {\n",
       "        vertical-align: top;\n",
       "    }\n",
       "\n",
       "    .dataframe thead th {\n",
       "        text-align: right;\n",
       "    }\n",
       "</style>\n",
       "<table border=\"1\" class=\"dataframe\">\n",
       "  <thead>\n",
       "    <tr style=\"text-align: right;\">\n",
       "      <th></th>\n",
       "      <th>0</th>\n",
       "      <th>1</th>\n",
       "      <th>2</th>\n",
       "    </tr>\n",
       "  </thead>\n",
       "  <tbody>\n",
       "    <tr>\n",
       "      <th>0</th>\n",
       "      <td>G1</td>\n",
       "      <td>G2</td>\n",
       "      <td>1</td>\n",
       "    </tr>\n",
       "    <tr>\n",
       "      <th>1</th>\n",
       "      <td>G1</td>\n",
       "      <td>G3</td>\n",
       "      <td>1</td>\n",
       "    </tr>\n",
       "    <tr>\n",
       "      <th>2</th>\n",
       "      <td>G1</td>\n",
       "      <td>G4</td>\n",
       "      <td>1</td>\n",
       "    </tr>\n",
       "    <tr>\n",
       "      <th>3</th>\n",
       "      <td>G1</td>\n",
       "      <td>G5</td>\n",
       "      <td>1</td>\n",
       "    </tr>\n",
       "    <tr>\n",
       "      <th>4</th>\n",
       "      <td>G1</td>\n",
       "      <td>G6</td>\n",
       "      <td>1</td>\n",
       "    </tr>\n",
       "  </tbody>\n",
       "</table>\n",
       "</div>"
      ],
      "text/plain": [
       "    0   1  2\n",
       "0  G1  G2  1\n",
       "1  G1  G3  1\n",
       "2  G1  G4  1\n",
       "3  G1  G5  1\n",
       "4  G1  G6  1"
      ]
     },
     "execution_count": 312,
     "metadata": {},
     "output_type": "execute_result"
    }
   ],
   "source": [
    "gold = pd.read_csv(\"DREAM4_GoldStandard_InSilico_Size100_3.csv\", header=None)\n",
    "gold.head(5)\n"
   ]
  },
  {
   "cell_type": "code",
   "execution_count": 313,
   "metadata": {},
   "outputs": [],
   "source": [
    "def keep_numeric(df):\n",
    "\n",
    "    return df.applymap(lambda x: ''.join(filter(str.isdigit, str(x))) if isinstance(x, (int,float)) else ''.join(filter(str.isdigit, x)) )\n",
    "gold = keep_numeric(gold)\n",
    "goldnp = np.array(gold, dtype = 'int')\n",
    "#subtract 1 from each index to match python index\n",
    "goldnp[:,0] = goldnp[:,0] - 1\n",
    "goldnp[:,1] = goldnp[:,1] - 1\n",
    "\n",
    "goldIm = np.zeros(shape=(NUM_TARGETS,NUM_TARGETS))\n",
    "\n",
    "for g in goldnp:\n",
    "    reg = g[0]\n",
    "    tar = g[1]\n",
    "    connection = g[2]\n",
    "    goldIm[reg][tar] = connection\n",
    "\n"
   ]
  },
  {
   "cell_type": "code",
   "execution_count": 314,
   "metadata": {},
   "outputs": [
    {
     "data": {
      "text/plain": [
       "<matplotlib.image.AxesImage at 0x1f9ab6471f0>"
      ]
     },
     "execution_count": 314,
     "metadata": {},
     "output_type": "execute_result"
    },
    {
     "data": {
      "image/png": "[encoded data removed]",
      "text/plain": [
       "<Figure size 1080x360 with 1 Axes>"
      ]
     },
     "metadata": {
      "needs_background": "light"
     },
     "output_type": "display_data"
    }
   ],
   "source": [
    "plt.imshow(goldIm)"
   ]
  },
  {
   "cell_type": "code",
   "execution_count": 315,
   "metadata": {},
   "outputs": [],
   "source": [
    "non_zero = np.nonzero(goldIm) #non-zero hold all the true connections\n",
    "#non_zero = np.array(np.unravel_index(non_zero, shape = (NUM_PARENTS, NUM_TARGETS)))"
   ]
  },
  {
   "attachments": {},
   "cell_type": "markdown",
   "metadata": {},
   "source": [
    "# RGM and RGM+"
   ]
  },
  {
   "cell_type": "code",
   "execution_count": 316,
   "metadata": {},
   "outputs": [
    {
     "name": "stdout",
     "output_type": "stream",
     "text": [
      "shape of parent index (44,)\n"
     ]
    }
   ],
   "source": [
    "regulator_gene_matrix = goldIm.astype(np.float32) #I set rgm to gold because I didnt not want ot re-write everything\n",
    "superParent = regulator_gene_matrix.copy()\n",
    "ones = np.ones((NUM_TARGETS))\n",
    "parentIndex = []\n",
    "not_parentIndex = []\n",
    "for i in range(len(regulator_gene_matrix)):\n",
    "    if (np.isin(regulator_gene_matrix[i], [1])).any():\n",
    "        #print(i)\n",
    "        superParent[i] = ones \n",
    "        parentIndex.append(i)\n",
    "    else:\n",
    "        not_parentIndex.append(i)\n",
    "\n",
    "parentIndex = np.array(parentIndex)\n",
    "parentIndex = tf.convert_to_tensor(parentIndex)\n",
    "parent_idx = parentIndex.numpy()\n",
    "not_parentIndex = np.array(not_parentIndex)\n",
    "not_parentIndex = tf.convert_to_tensor(not_parentIndex)\n",
    "print(\"shape of parent index\", parentIndex.shape)\n",
    "\n",
    "\n",
    "\n",
    "\n",
    "#the code below runs the experiment without any known regulators\n",
    "regulator_gene_matrix = np.ones((NUM_TARGETS,NUM_TARGETS), dtype='float32') #we keep this because we want to not mess with the weight init\n",
    "# superParent = np.ones((NUM_TARGETS, NUM_TARGETS), dtype = 'float32')\n",
    "# parentIndex = np.arange(stop=NUM_PARENTS)\n",
    "# parentIndex = tf.convert_to_tensor(parentIndex)\n",
    "# parent_idx = parentIndex.numpy()"
   ]
  },
  {
   "cell_type": "code",
   "execution_count": 317,
   "metadata": {},
   "outputs": [
    {
     "data": {
      "text/plain": [
       "44"
      ]
     },
     "execution_count": 317,
     "metadata": {},
     "output_type": "execute_result"
    }
   ],
   "source": [
    "NUM_PARENTS = parentIndex.shape[0]\n",
    "NUM_PARENTS"
   ]
  },
  {
   "cell_type": "code",
   "execution_count": 318,
   "metadata": {},
   "outputs": [
    {
     "data": {
      "text/plain": [
       "<tf.Tensor: shape=(44,), dtype=int32, numpy=\n",
       "array([ 0,  1,  3,  5,  8, 10, 11, 15, 17, 20, 21, 22, 23, 25, 28, 31, 32,\n",
       "       33, 36, 37, 38, 39, 40, 41, 43, 47, 48, 51, 52, 53, 54, 57, 64, 68,\n",
       "       69, 70, 72, 73, 77, 78, 89, 91, 95, 96])>"
      ]
     },
     "execution_count": 318,
     "metadata": {},
     "output_type": "execute_result"
    }
   ],
   "source": [
    "parentIndex"
   ]
  },
  {
   "cell_type": "code",
   "execution_count": 319,
   "metadata": {},
   "outputs": [
    {
     "data": {
      "image/png": "[encoded data removed]",
      "text/plain": [
       "<Figure size 1080x360 with 1 Axes>"
      ]
     },
     "metadata": {
      "needs_background": "light"
     },
     "output_type": "display_data"
    }
   ],
   "source": [
    "plt.imshow(superParent, cmap='hot');\n",
    "plt.xlabel(\"Substrate\");\n",
    "plt.ylabel(\"Regulator\");"
   ]
  },
  {
   "cell_type": "code",
   "execution_count": 320,
   "metadata": {},
   "outputs": [
    {
     "data": {
      "image/png": "[encoded data removed]",
      "text/plain": [
       "<Figure size 1080x360 with 1 Axes>"
      ]
     },
     "metadata": {
      "needs_background": "light"
     },
     "output_type": "display_data"
    }
   ],
   "source": [
    "plt.imshow(regulator_gene_matrix, cmap='hot');\n",
    "plt.xlabel(\"Substrate\");\n",
    "plt.ylabel(\"Regulator\");"
   ]
  },
  {
   "attachments": {},
   "cell_type": "markdown",
   "metadata": {},
   "source": [
    "# Custom Loss"
   ]
  },
  {
   "cell_type": "code",
   "execution_count": 321,
   "metadata": {},
   "outputs": [],
   "source": [
    "# superParent = regulator_gene_matrix.copy() #init the super parent with the ordinary RGM, and do forward passes with super parent\n",
    "# #print(superParent.shape)\n",
    "\n",
    "# ones = np.ones((NUM_TARGETS))\n",
    "# parentIndex = []\n",
    "# not_parentIndex = []\n",
    "# for i in range(len(regulator_gene_matrix)):\n",
    "#     if (np.isin(regulator_gene_matrix[i], [1])).any():\n",
    "#         #print(i)\n",
    "#         superParent[i] = ones \n",
    "#         parentIndex.append(i)\n",
    "#     else:\n",
    "#         not_parentIndex.append(i)\n",
    "\n",
    "# parentIndex = np.array(parentIndex)\n",
    "# parentIndex = tf.convert_to_tensor(parentIndex)\n",
    "# parent_idx = parentIndex.numpy()\n",
    "# not_parentIndex = np.array(not_parentIndex)\n",
    "# not_parentIndex = tf.convert_to_tensor(not_parentIndex)\n",
    "# print(\"shape of parent index\", parentIndex.shape)\n",
    "\n",
    "def ignore_noParent_MSE_old(y_true, y_pred): \n",
    "    l = tf.keras.losses.MeanSquaredError()\n",
    "    y_true_pruned = tf.gather(y_true,parentIndex, axis =2) \n",
    "    #print(y_true_pruned.shape\n",
    "    y_pred_pruned = tf.gather(y_pred, parentIndex, axis =2)   \n",
    "    return l(y_true_pruned, y_pred_pruned)\n",
    "\n",
    "#this will not work if the entire dataset is -1 (degenerate), or has only one actual value (also degen)\n",
    "def ignore_noParent_MSE(y_true, y_pred): \n",
    "    l = tf.keras.losses.MeanSquaredError()\n",
    "   # print(y_true.shape) #(None, 44, 372)\n",
    "\n",
    "    #get the parents and flatten them\n",
    "    y_true_pruned = tf.gather(y_true, parentIndex, axis = 2) #axis 2 because batch, time, gene\n",
    "    y_true_pruned = tf.reshape(y_true_pruned, shape=([tf.size(y_true_pruned)] ) )\n",
    "\n",
    "   # print(y_true_pruned.shape)\n",
    "   # print(\"tf size\", tf.size(y_true_pruned))\n",
    "\n",
    "    y_pred_pruned = tf.gather(y_pred, parentIndex, axis = 2) \n",
    "    y_pred_pruned = tf.reshape(y_pred_pruned, shape=([tf.size(y_pred_pruned)]) )\n",
    "\n",
    "    #get the index of the parents which are not -1\n",
    "    y_true_posID = tf.where(y_true_pruned >= 0) #gets args\n",
    "    y_true_posID = tf.squeeze(y_true_posID)\n",
    "    #get the idx of all the -1s \n",
    "    y_true_negID = tf.where(y_true_pruned < 0) \n",
    "    y_true_negID = tf.squeeze(y_true_negID)\n",
    "\n",
    "    #get all the -1s in the parents \n",
    "    y_true_neg = tf.gather(y_true_pruned, y_true_negID) #get all the -1s in y_true\n",
    "    y_pred_neg = tf.gather(y_pred_pruned, y_true_negID) #get the corresponding values for y_pred\n",
    "\n",
    "    #get the indexes where pred should be -1 but is not. get the corresponding index for ytrue\n",
    "    y_shouldBeNegButIsntID = tf.where(y_pred_neg >= 0)  \n",
    "    y_shouldBeNegButIsntID = tf.squeeze(y_shouldBeNegButIsntID) #get the idx which should be -1 for prediction but are not\n",
    "    y_true_wrong = tf.gather(y_true_pruned, y_shouldBeNegButIsntID) #get the same corresponding values from ytrue\n",
    "    y_shouldBeNegButIsnt = tf.gather(y_pred_pruned, y_shouldBeNegButIsntID) #this has all the wrongly predicted values which should be -1 but are not\n",
    "\n",
    "    y_true_pos = tf.gather(y_true_pruned, y_true_posID)\n",
    "    y_pred_pos = tf.gather(y_pred_pruned, y_true_posID)\n",
    "\n",
    "    if tf.size(y_shouldBeNegButIsnt) == 0: #we can not concatenate if the size is 0. \n",
    "        return l(y_true_pos, y_pred_pos)\n",
    "\n",
    "    if tf.size(y_shouldBeNegButIsnt) == 1: #dim goes away if size = 1. \n",
    "        y_shouldBeNegButIsnt = tf.expand_dims(y_shouldBeNegButIsnt, axis = 0) #should all be flattened\n",
    "        y_true_wrong = tf.expand_dims(y_true_wrong, axis=0)\n",
    "\n",
    "    #print(\"y_pred\", (y_pred_pos), \"y_true\", (y_shouldBeNegButIsnt))\n",
    "    try:\n",
    "        y_pred_total = tf.concat([y_pred_pos, y_shouldBeNegButIsnt], axis = 0) #concatenate for total mse\n",
    "        y_true_total = tf.concat([y_true_pos, y_true_wrong], axis = 0)\n",
    "    except Exception as e:\n",
    "        print(y_pred_pos.shape, y_shouldBeNegButIsnt.shape, tf.size(y_shouldBeNegButIsnt))\n",
    "        return l(y_true_pos, y_pred_pos)\n",
    "\n",
    "    return l(y_true_total, y_pred_total)"
   ]
  },
  {
   "cell_type": "code",
   "execution_count": 322,
   "metadata": {},
   "outputs": [
    {
     "data": {
      "text/plain": [
       "array([ 0,  1,  3,  5,  8, 10, 11, 15, 17, 20, 21, 22, 23, 25, 28, 31, 32,\n",
       "       33, 36, 37, 38, 39, 40, 41, 43, 47, 48, 51, 52, 53, 54, 57, 64, 68,\n",
       "       69, 70, 72, 73, 77, 78, 89, 91, 95, 96])"
      ]
     },
     "execution_count": 322,
     "metadata": {},
     "output_type": "execute_result"
    }
   ],
   "source": [
    "parent_idx"
   ]
  },
  {
   "attachments": {},
   "cell_type": "markdown",
   "metadata": {},
   "source": [
    "# Ordinary Auto Encoder"
   ]
  },
  {
   "cell_type": "code",
   "execution_count": 323,
   "metadata": {
    "id": "1yhzyikoFncq"
   },
   "outputs": [],
   "source": [
    "# class EncoderLinear(tf.keras.layers.Layer):\n",
    "#     def __init__(self, rgm, input_dim=32, units=32):\n",
    "#         super(EncoderLinear, self).__init__()\n",
    "#         self.rgm = rgm\n",
    "        \n",
    "#         def init_weights(shape, dtype=\"float32\"):\n",
    "\n",
    "#             w_init = tf.random_normal_initializer()(shape=shape, dtype=dtype) * tf.convert_to_tensor(self.rgm, dtype=dtype)\n",
    "\n",
    "#             return w_init\n",
    "        \n",
    "\n",
    "#         self.w = tf.Variable(\n",
    "#             initial_value=init_weights(shape=(input_dim, units), dtype=\"float32\"),\n",
    "#             trainable=True,\n",
    "#         )\n",
    "\n",
    "#     def call(self, inputs):\n",
    "#         X = inputs\n",
    "#         return tf.matmul(X, tf.multiply(self.rgm, self.w))\n",
    "    #tf.matmul(inputs, self.w)"
   ]
  },
  {
   "cell_type": "code",
   "execution_count": 324,
   "metadata": {
    "id": "4uchxU-bmBDe"
   },
   "outputs": [],
   "source": [
    "# class DecoderLinear(tf.keras.layers.Layer):\n",
    "#     def __init__(self, rgm, input_dim=32, units=32):\n",
    "#         super(DecoderLinear, self).__init__()\n",
    "#         self.rgm = rgm\n",
    "\n",
    "#         def init_weights(shape, dtype=\"float32\"):\n",
    "\n",
    "#             w_init = tf.random_normal_initializer()(shape=shape, dtype=dtype) * tf.transpose(tf.convert_to_tensor(self.rgm, dtype=dtype))\n",
    "\n",
    "#             return w_init\n",
    "    \n",
    "        \n",
    "#         self.w = tf.Variable(\n",
    "#             initial_value=init_weights(shape=(input_dim, units), dtype=\"float32\"),\n",
    "#             trainable=True,\n",
    "#         )\n",
    "\n",
    "#     def call(self, inputs):\n",
    "#         X = inputs\n",
    "#         #return tf.matmul(X, tf.multiply((self.rgm), self.w))\n",
    "#         X = tf.matmul(X, tf.multiply(tf.transpose(self.rgm), self.w)) \n",
    "#         #return tf.matmul(inputs, self.w)\n",
    "#         # v = tf.zeros_like(X)\n",
    "#         # u = tf.ones_like(X)\n",
    "#         # u = tf.math.scalar_mul(-3.0, u)\n",
    "        \n",
    "#         return X#tf.where(tf.math.less(X, v), u, X) #where X is less than 0, return -1 \n",
    "        \n",
    "        "
   ]
  },
  {
   "cell_type": "code",
   "execution_count": 325,
   "metadata": {
    "id": "PQVz4BCpmNMd"
   },
   "outputs": [],
   "source": [
    "# def encoder(parent_child_biological_association, num_hidden_units=21):\n",
    "#     '''\n",
    "#     Encoder structure\n",
    "#     '''\n",
    "#     '''\n",
    "#     The data is time-series. Therefore, CNN to learn the temporal relationship between \n",
    "#     the intensities for each gene.\n",
    "#     '''\n",
    "#     en_conv = Conv1D(490, 3, activation = \"relu\")(parent_child_biological_association) # 6*NUM_TARGETS Conv1D(32, 3, activation = \"relu\")(parent_child_biological_association)\n",
    "#     en_dense = Flatten()(en_conv)\n",
    "#     phenotype = Dense(num_hidden_units)(en_dense)\n",
    "#     return phenotype\n",
    "\n",
    "# def decoder(X, num_protein_gene, time_steps):\n",
    "#     '''\n",
    "#     Decoder structure\n",
    "#     '''\n",
    "#     de_dense = Dense(1024)(X)#Dense(128)(X)\n",
    "#     de_dense = Reshape((1, 1024))(de_dense) #tf.reshape(de_dense, (self.batch_size,1,128))\n",
    "#     de_deconv = Conv1DTranspose(num_protein_gene, time_steps, activation = \"relu\")(de_dense) #used to be transpose\n",
    "#     #de_deconv = Conv1D(num_protein_gene, time_steps, activation = \"relu\")(de_dense) \n",
    "#     # gene_reconstruction = self.decoder_biological_operation(de_deconv)\n",
    "#     return de_deconv\n",
    "\n",
    "# def model(rgm, num_protein_gene, time_steps, num_kinase_regulators, num_hidden_units = 32):\n",
    "#     inp = Input(shape=(time_steps, num_kinase_regulators))\n",
    "#     x = EncoderLinear(rgm, NUM_TARGETS, NUM_TARGETS)(inp)\n",
    "#     enc = encoder(x, num_hidden_units)\n",
    "#     dec = decoder(enc, num_protein_gene, time_steps)\n",
    "#     out = DecoderLinear(rgm, NUM_TARGETS, NUM_TARGETS)(dec)\n",
    "\n",
    "#     _model = tf.keras.Model(inputs=inp, outputs=out)\n",
    "\n",
    "#     return _model"
   ]
  },
  {
   "cell_type": "code",
   "execution_count": 326,
   "metadata": {},
   "outputs": [],
   "source": [
    "# ordinaryAE = model(regulator_gene_matrix, NUM_TARGETS, NUM_TIME_STEPS, NUM_TARGETS)\n",
    "# ordinaryAE.compile(optimizer='adam', loss=ignore_noParent_MSE)"
   ]
  },
  {
   "cell_type": "code",
   "execution_count": 327,
   "metadata": {},
   "outputs": [],
   "source": [
    "# o = ordinaryAE.fit(beanIntensities, beanIntensities, epochs=200, verbose = True, validation_data=(validation, validation))\n",
    "#print(o.history['loss'][-1]) #the final loss "
   ]
  },
  {
   "attachments": {},
   "cell_type": "markdown",
   "metadata": {},
   "source": [
    "# Super Parent AutoEncoder"
   ]
  },
  {
   "cell_type": "code",
   "execution_count": 328,
   "metadata": {},
   "outputs": [],
   "source": [
    "class EncoderLinearSuperParent(tf.keras.layers.Layer, tfmot.sparsity.keras.PrunableLayer):\n",
    "    def __init__(self, rgm, oldrgm, input_dim=32, units=32):\n",
    "        super(EncoderLinearSuperParent, self).__init__()\n",
    "        self.rgm = rgm\n",
    "        self.OGrgm = oldrgm\n",
    "\n",
    "        \n",
    "        def init_weights(shape, dtype=\"float32\"):\n",
    "\n",
    "            w_init = tf.random_normal_initializer()(shape=shape, dtype=dtype) * tf.convert_to_tensor(self.OGrgm, dtype=dtype)\n",
    "\n",
    "            return w_init\n",
    "        \n",
    "\n",
    "        self.w = tf.Variable(\n",
    "            initial_value=init_weights(shape=(input_dim, units), dtype=\"float32\"),\n",
    "            trainable=True,\n",
    "        )\n",
    "\n",
    "    def get_prunable_weights(self):\n",
    "        # Prune bias also, though that usually harms model accuracy too much.\n",
    "        return [self.w]\n",
    "\n",
    "    def call(self, inputs):\n",
    "        X = inputs\n",
    "        return tf.matmul(X, tf.multiply(self.rgm, self.w))\n",
    "    #tf.matmul(inputs, self.w)\n",
    "\n",
    "class DecoderLinearSuperParent(tf.keras.layers.Layer):\n",
    "    def __init__(self, rgm, oldrgm, input_dim=32, units=32):\n",
    "        super(DecoderLinearSuperParent, self).__init__()\n",
    "        self.rgm = rgm\n",
    "        self.OGrgm = oldrgm\n",
    "\n",
    "        def init_weights(shape, dtype=\"float32\"):\n",
    "\n",
    "            w_init = tf.random_normal_initializer()(shape=shape, dtype=dtype) * tf.transpose(tf.convert_to_tensor(self.rgm, dtype=dtype))\n",
    "\n",
    "            return w_init\n",
    "    \n",
    "        \n",
    "        self.w = tf.Variable(\n",
    "            initial_value=init_weights(shape=(input_dim, units), dtype=\"float32\"),\n",
    "            trainable=True,\n",
    "        )\n",
    "\n",
    "    def call(self, inputs):\n",
    "        X = inputs\n",
    "        #return tf.matmul(X, tf.multiply((self.rgm), self.w))\n",
    "        X = tf.matmul(X, tf.multiply(tf.transpose(self.rgm), self.w)) \n",
    "        #return tf.matmul(inputs, self.w)\n",
    "        # v = tf.zeros_like(X)\n",
    "        # u = tf.ones_like(X)\n",
    "        # u = tf.math.scalar_mul(-3.0, u)\n",
    "        \n",
    "        return X    #tf.where(tf.math.less(X, v), u, X) #where X is less than 0, return -1 \n",
    "        \n",
    "        \n",
    "def encoder(parent_child_biological_association, num_hidden_units=21):\n",
    "    '''\n",
    "    Encoder structure\n",
    "    '''\n",
    "    '''\n",
    "    The data is time-series. Therefore, CNN to learn the temporal relationship between \n",
    "    the intensities for each gene.\n",
    "    '''\n",
    "    #rnn = LSTM(units = num_hidden_units)(parent_child_biological_association)\n",
    "    en_conv = Conv1D(32, 3, activation = \"relu\")(parent_child_biological_association) # 6*NUM_TARGETS\n",
    "    en_dense = Flatten()(en_conv)\n",
    "    phenotype = Dense(num_hidden_units)(en_dense)\n",
    "    return phenotype\n",
    "\n",
    "def decoder(X, num_protein_gene, time_steps):\n",
    "    '''\n",
    "    Decoder structure\n",
    "    '''\n",
    "    de_dense = Dense(128)(X)\n",
    "    de_dense = Reshape((1, 128))(de_dense) #tf.reshape(de_dense, (self.batch_size,1,128))\n",
    "    de_deconv = Conv1DTranspose(num_protein_gene, time_steps, activation = \"relu\")(de_dense) #used to be transpose\n",
    "    #de_deconv = Conv1D(num_protein_gene, time_steps, activation = \"relu\")(de_dense) \n",
    "    # gene_reconstruction = self.decoder_biological_operation(de_deconv)\n",
    "    return de_deconv\n",
    "\n",
    "def modelSuperParent(rgm, oldRGM, num_protein_gene, time_steps, num_kinase_regulators, num_hidden_units = 21, sparsity = 0.0): #rgm is set to superparent, oldrgm is original rgm unmodified\n",
    "    inp = Input(shape=(time_steps, num_kinase_regulators))\n",
    "    x = tfmot.sparsity.keras.prune_low_magnitude(EncoderLinearSuperParent(rgm, oldRGM, NUM_TARGETS, NUM_TARGETS),\n",
    "                                                 pruning_schedule = tfmot.sparsity.keras.ConstantSparsity(sparsity, 0))(inp)\n",
    "    enc = encoder(x, num_hidden_units)\n",
    "    dec = decoder(enc, num_protein_gene, time_steps)\n",
    "    out = DecoderLinearSuperParent(rgm, oldRGM, NUM_TARGETS, NUM_TARGETS)(dec)\n",
    "\n",
    "    _model = tf.keras.Model(inputs=inp, outputs=out)\n",
    "\n",
    "    return _model"
   ]
  },
  {
   "cell_type": "code",
   "execution_count": 329,
   "metadata": {},
   "outputs": [],
   "source": [
    "def modelSuperParentSequential(rgm, oldRGM, num_protein_gene, time_steps, num_kinase_regulators, num_hidden_units = 21): #rgm is set to superparent, oldrgm is original rgm unmodified\n",
    "    m = tf.keras.Sequential()\n",
    "    inp = Input(shape=(time_steps, num_kinase_regulators))\n",
    "    x = EncoderLinearSuperParent(rgm, oldRGM, NUM_TARGETS, NUM_TARGETS)(inp)\n",
    "    enc = encoder(x, num_hidden_units)\n",
    "    dec = decoder(enc, num_protein_gene, time_steps)\n",
    "    out = DecoderLinearSuperParent(rgm, oldRGM, NUM_TARGETS, NUM_TARGETS)(dec)\n",
    "\n",
    "    _model = tf.keras.Model(inputs=inp, outputs=out)\n",
    "\n",
    "    return _model"
   ]
  },
  {
   "cell_type": "code",
   "execution_count": 348,
   "metadata": {},
   "outputs": [
    {
     "name": "stdout",
     "output_type": "stream",
     "text": [
      "Epoch 1/200\n",
      "1/1 [==============================] - 1s 646ms/step - loss: 0.2500 - val_loss: 0.2520\n",
      "Epoch 2/200\n",
      "1/1 [==============================] - 0s 35ms/step - loss: 0.2477 - val_loss: 0.2477\n",
      "Epoch 3/200\n",
      "1/1 [==============================] - 0s 30ms/step - loss: 0.2434 - val_loss: 0.2403\n",
      "Epoch 4/200\n",
      "1/1 [==============================] - 0s 31ms/step - loss: 0.2361 - val_loss: 0.2290\n",
      "Epoch 5/200\n",
      "1/1 [==============================] - 0s 26ms/step - loss: 0.2249 - val_loss: 0.2143\n",
      "Epoch 6/200\n",
      "1/1 [==============================] - 0s 31ms/step - loss: 0.2100 - val_loss: 0.1990\n",
      "Epoch 7/200\n",
      "1/1 [==============================] - 0s 30ms/step - loss: 0.1944 - val_loss: 0.1925\n",
      "Epoch 8/200\n",
      "1/1 [==============================] - 0s 29ms/step - loss: 0.1873 - val_loss: 0.1973\n",
      "Epoch 9/200\n",
      "1/1 [==============================] - 0s 26ms/step - loss: 0.1917 - val_loss: 0.1904\n",
      "Epoch 10/200\n",
      "1/1 [==============================] - 0s 29ms/step - loss: 0.1849 - val_loss: 0.1795\n",
      "Epoch 11/200\n",
      "1/1 [==============================] - 0s 30ms/step - loss: 0.1743 - val_loss: 0.1732\n",
      "Epoch 12/200\n",
      "1/1 [==============================] - 0s 27ms/step - loss: 0.1683 - val_loss: 0.1715\n",
      "Epoch 13/200\n",
      "1/1 [==============================] - 0s 26ms/step - loss: 0.1669 - val_loss: 0.1713\n",
      "Epoch 14/200\n",
      "1/1 [==============================] - 0s 28ms/step - loss: 0.1669 - val_loss: 0.1707\n",
      "Epoch 15/200\n",
      "1/1 [==============================] - 0s 28ms/step - loss: 0.1663 - val_loss: 0.1691\n",
      "Epoch 16/200\n",
      "1/1 [==============================] - 0s 29ms/step - loss: 0.1647 - val_loss: 0.1673\n",
      "Epoch 17/200\n",
      "1/1 [==============================] - 0s 30ms/step - loss: 0.1627 - val_loss: 0.1662\n",
      "Epoch 18/200\n",
      "1/1 [==============================] - 0s 30ms/step - loss: 0.1615 - val_loss: 0.1663\n",
      "Epoch 19/200\n",
      "1/1 [==============================] - 0s 26ms/step - loss: 0.1614 - val_loss: 0.1667\n",
      "Epoch 20/200\n",
      "1/1 [==============================] - 0s 28ms/step - loss: 0.1616 - val_loss: 0.1661\n",
      "Epoch 21/200\n",
      "1/1 [==============================] - 0s 29ms/step - loss: 0.1610 - val_loss: 0.1645\n",
      "Epoch 22/200\n",
      "1/1 [==============================] - 0s 26ms/step - loss: 0.1593 - val_loss: 0.1629\n",
      "Epoch 23/200\n",
      "1/1 [==============================] - 0s 33ms/step - loss: 0.1578 - val_loss: 0.1622\n",
      "Epoch 24/200\n",
      "1/1 [==============================] - 0s 28ms/step - loss: 0.1571 - val_loss: 0.1620\n",
      "Epoch 25/200\n",
      "1/1 [==============================] - 0s 27ms/step - loss: 0.1570 - val_loss: 0.1619\n",
      "Epoch 26/200\n",
      "1/1 [==============================] - 0s 27ms/step - loss: 0.1568 - val_loss: 0.1614\n",
      "Epoch 27/200\n",
      "1/1 [==============================] - 0s 26ms/step - loss: 0.1563 - val_loss: 0.1608\n",
      "Epoch 28/200\n",
      "1/1 [==============================] - 0s 26ms/step - loss: 0.1556 - val_loss: 0.1603\n",
      "Epoch 29/200\n",
      "1/1 [==============================] - 0s 26ms/step - loss: 0.1550 - val_loss: 0.1601\n",
      "Epoch 30/200\n",
      "1/1 [==============================] - 0s 27ms/step - loss: 0.1547 - val_loss: 0.1602\n",
      "Epoch 31/200\n",
      "1/1 [==============================] - 0s 29ms/step - loss: 0.1547 - val_loss: 0.1600\n",
      "Epoch 32/200\n",
      "1/1 [==============================] - 0s 27ms/step - loss: 0.1544 - val_loss: 0.1595\n",
      "Epoch 33/200\n",
      "1/1 [==============================] - 0s 26ms/step - loss: 0.1539 - val_loss: 0.1588\n",
      "Epoch 34/200\n",
      "1/1 [==============================] - 0s 26ms/step - loss: 0.1534 - val_loss: 0.1584\n",
      "Epoch 35/200\n",
      "1/1 [==============================] - 0s 27ms/step - loss: 0.1530 - val_loss: 0.1582\n",
      "Epoch 36/200\n",
      "1/1 [==============================] - 0s 26ms/step - loss: 0.1529 - val_loss: 0.1581\n",
      "Epoch 37/200\n",
      "1/1 [==============================] - 0s 29ms/step - loss: 0.1528 - val_loss: 0.1578\n",
      "Epoch 38/200\n",
      "1/1 [==============================] - 0s 28ms/step - loss: 0.1525 - val_loss: 0.1576\n",
      "Epoch 39/200\n",
      "1/1 [==============================] - 0s 25ms/step - loss: 0.1522 - val_loss: 0.1574\n",
      "Epoch 40/200\n",
      "1/1 [==============================] - 0s 25ms/step - loss: 0.1519 - val_loss: 0.1573\n",
      "Epoch 41/200\n",
      "1/1 [==============================] - 0s 26ms/step - loss: 0.1518 - val_loss: 0.1573\n",
      "Epoch 42/200\n",
      "1/1 [==============================] - 0s 26ms/step - loss: 0.1517 - val_loss: 0.1572\n",
      "Epoch 43/200\n",
      "1/1 [==============================] - 0s 26ms/step - loss: 0.1516 - val_loss: 0.1569\n",
      "Epoch 44/200\n",
      "1/1 [==============================] - 0s 24ms/step - loss: 0.1514 - val_loss: 0.1567\n",
      "Epoch 45/200\n",
      "1/1 [==============================] - 0s 26ms/step - loss: 0.1512 - val_loss: 0.1565\n",
      "Epoch 46/200\n",
      "1/1 [==============================] - 0s 27ms/step - loss: 0.1510 - val_loss: 0.1564\n",
      "Epoch 47/200\n",
      "1/1 [==============================] - 0s 28ms/step - loss: 0.1510 - val_loss: 0.1563\n",
      "Epoch 48/200\n",
      "1/1 [==============================] - 0s 25ms/step - loss: 0.1509 - val_loss: 0.1562\n",
      "Epoch 49/200\n",
      "1/1 [==============================] - 0s 27ms/step - loss: 0.1507 - val_loss: 0.1561\n",
      "Epoch 50/200\n",
      "1/1 [==============================] - 0s 31ms/step - loss: 0.1506 - val_loss: 0.1560\n",
      "Epoch 51/200\n",
      "1/1 [==============================] - 0s 33ms/step - loss: 0.1505 - val_loss: 0.1560\n",
      "Epoch 52/200\n",
      "1/1 [==============================] - 0s 29ms/step - loss: 0.1505 - val_loss: 0.1560\n",
      "Epoch 53/200\n",
      "1/1 [==============================] - 0s 26ms/step - loss: 0.1504 - val_loss: 0.1559\n",
      "Epoch 54/200\n",
      "1/1 [==============================] - 0s 26ms/step - loss: 0.1503 - val_loss: 0.1558\n",
      "Epoch 55/200\n",
      "1/1 [==============================] - 0s 25ms/step - loss: 0.1502 - val_loss: 0.1557\n",
      "Epoch 56/200\n",
      "1/1 [==============================] - 0s 25ms/step - loss: 0.1502 - val_loss: 0.1556\n",
      "Epoch 57/200\n",
      "1/1 [==============================] - 0s 28ms/step - loss: 0.1501 - val_loss: 0.1555\n",
      "Epoch 58/200\n",
      "1/1 [==============================] - 0s 24ms/step - loss: 0.1501 - val_loss: 0.1555\n",
      "Epoch 59/200\n",
      "1/1 [==============================] - 0s 23ms/step - loss: 0.1500 - val_loss: 0.1554\n",
      "Epoch 60/200\n",
      "1/1 [==============================] - 0s 26ms/step - loss: 0.1500 - val_loss: 0.1554\n",
      "Epoch 61/200\n",
      "1/1 [==============================] - 0s 27ms/step - loss: 0.1499 - val_loss: 0.1554\n",
      "Epoch 62/200\n",
      "1/1 [==============================] - 0s 23ms/step - loss: 0.1499 - val_loss: 0.1554\n",
      "Epoch 63/200\n",
      "1/1 [==============================] - 0s 26ms/step - loss: 0.1499 - val_loss: 0.1553\n",
      "Epoch 64/200\n",
      "1/1 [==============================] - 0s 26ms/step - loss: 0.1498 - val_loss: 0.1552\n",
      "Epoch 65/200\n",
      "1/1 [==============================] - 0s 29ms/step - loss: 0.1498 - val_loss: 0.1552\n",
      "Epoch 66/200\n",
      "1/1 [==============================] - 0s 34ms/step - loss: 0.1498 - val_loss: 0.1552\n",
      "Epoch 67/200\n",
      "1/1 [==============================] - 0s 32ms/step - loss: 0.1498 - val_loss: 0.1551\n",
      "Epoch 68/200\n",
      "1/1 [==============================] - 0s 25ms/step - loss: 0.1497 - val_loss: 0.1551\n",
      "Epoch 69/200\n",
      "1/1 [==============================] - 0s 23ms/step - loss: 0.1497 - val_loss: 0.1551\n",
      "Epoch 70/200\n",
      "1/1 [==============================] - 0s 28ms/step - loss: 0.1497 - val_loss: 0.1551\n",
      "Epoch 71/200\n",
      "1/1 [==============================] - 0s 29ms/step - loss: 0.1497 - val_loss: 0.1551\n",
      "Epoch 72/200\n",
      "1/1 [==============================] - 0s 26ms/step - loss: 0.1497 - val_loss: 0.1551\n",
      "Epoch 73/200\n",
      "1/1 [==============================] - 0s 25ms/step - loss: 0.1496 - val_loss: 0.1551\n",
      "Epoch 74/200\n",
      "1/1 [==============================] - 0s 26ms/step - loss: 0.1496 - val_loss: 0.1551\n",
      "Epoch 75/200\n",
      "1/1 [==============================] - 0s 25ms/step - loss: 0.1496 - val_loss: 0.1551\n",
      "Epoch 76/200\n",
      "1/1 [==============================] - 0s 26ms/step - loss: 0.1496 - val_loss: 0.1551\n",
      "Epoch 77/200\n",
      "1/1 [==============================] - 0s 25ms/step - loss: 0.1496 - val_loss: 0.1550\n",
      "Epoch 78/200\n",
      "1/1 [==============================] - 0s 27ms/step - loss: 0.1496 - val_loss: 0.1550\n",
      "Epoch 79/200\n",
      "1/1 [==============================] - 0s 27ms/step - loss: 0.1495 - val_loss: 0.1550\n",
      "Epoch 80/200\n",
      "1/1 [==============================] - 0s 28ms/step - loss: 0.1495 - val_loss: 0.1550\n",
      "Epoch 81/200\n",
      "1/1 [==============================] - 0s 28ms/step - loss: 0.1495 - val_loss: 0.1550\n",
      "Epoch 82/200\n",
      "1/1 [==============================] - 0s 29ms/step - loss: 0.1495 - val_loss: 0.1550\n",
      "Epoch 83/200\n",
      "1/1 [==============================] - 0s 29ms/step - loss: 0.1495 - val_loss: 0.1550\n",
      "Epoch 84/200\n",
      "1/1 [==============================] - 0s 27ms/step - loss: 0.1495 - val_loss: 0.1550\n",
      "Epoch 85/200\n",
      "1/1 [==============================] - 0s 30ms/step - loss: 0.1495 - val_loss: 0.1550\n",
      "Epoch 86/200\n",
      "1/1 [==============================] - 0s 34ms/step - loss: 0.1495 - val_loss: 0.1550\n",
      "Epoch 87/200\n",
      "1/1 [==============================] - 0s 32ms/step - loss: 0.1495 - val_loss: 0.1550\n",
      "Epoch 88/200\n",
      "1/1 [==============================] - 0s 26ms/step - loss: 0.1495 - val_loss: 0.1550\n",
      "Epoch 89/200\n",
      "1/1 [==============================] - 0s 29ms/step - loss: 0.1495 - val_loss: 0.1550\n",
      "Epoch 90/200\n",
      "1/1 [==============================] - 0s 30ms/step - loss: 0.1495 - val_loss: 0.1550\n",
      "Epoch 91/200\n",
      "1/1 [==============================] - 0s 28ms/step - loss: 0.1494 - val_loss: 0.1550\n",
      "Epoch 92/200\n",
      "1/1 [==============================] - 0s 28ms/step - loss: 0.1494 - val_loss: 0.1549\n",
      "Epoch 93/200\n",
      "1/1 [==============================] - 0s 27ms/step - loss: 0.1494 - val_loss: 0.1549\n",
      "Epoch 94/200\n",
      "1/1 [==============================] - 0s 25ms/step - loss: 0.1494 - val_loss: 0.1549\n",
      "Epoch 95/200\n",
      "1/1 [==============================] - 0s 25ms/step - loss: 0.1494 - val_loss: 0.1550\n",
      "Epoch 96/200\n",
      "1/1 [==============================] - 0s 28ms/step - loss: 0.1494 - val_loss: 0.1550\n",
      "Epoch 97/200\n",
      "1/1 [==============================] - 0s 29ms/step - loss: 0.1494 - val_loss: 0.1550\n",
      "Epoch 98/200\n",
      "1/1 [==============================] - 0s 27ms/step - loss: 0.1494 - val_loss: 0.1550\n",
      "Epoch 99/200\n",
      "1/1 [==============================] - 0s 30ms/step - loss: 0.1494 - val_loss: 0.1549\n",
      "Epoch 100/200\n",
      "1/1 [==============================] - 0s 30ms/step - loss: 0.2119 - val_loss: 0.2115\n",
      "Epoch 101/200\n",
      "1/1 [==============================] - 0s 27ms/step - loss: 0.2072 - val_loss: 0.2034\n",
      "Epoch 102/200\n",
      "1/1 [==============================] - 0s 28ms/step - loss: 0.1989 - val_loss: 0.1918\n",
      "Epoch 103/200\n",
      "1/1 [==============================] - 0s 29ms/step - loss: 0.1868 - val_loss: 0.1768\n",
      "Epoch 104/200\n",
      "1/1 [==============================] - 0s 29ms/step - loss: 0.1716 - val_loss: 0.1619\n",
      "Epoch 105/200\n",
      "1/1 [==============================] - 0s 31ms/step - loss: 0.1565 - val_loss: 0.1567\n",
      "Epoch 106/200\n",
      "1/1 [==============================] - 0s 29ms/step - loss: 0.1515 - val_loss: 0.1716\n",
      "Epoch 107/200\n",
      "1/1 [==============================] - 0s 30ms/step - loss: 0.1666 - val_loss: 0.1775\n",
      "Epoch 108/200\n",
      "1/1 [==============================] - 0s 29ms/step - loss: 0.1726 - val_loss: 0.1665\n",
      "Epoch 109/200\n",
      "1/1 [==============================] - 0s 29ms/step - loss: 0.1615 - val_loss: 0.1570\n",
      "Epoch 110/200\n",
      "1/1 [==============================] - 0s 30ms/step - loss: 0.1518 - val_loss: 0.1554\n",
      "Epoch 111/200\n",
      "1/1 [==============================] - 0s 37ms/step - loss: 0.1500 - val_loss: 0.1583\n",
      "Epoch 112/200\n",
      "1/1 [==============================] - 0s 33ms/step - loss: 0.1528 - val_loss: 0.1617\n",
      "Epoch 113/200\n",
      "1/1 [==============================] - 0s 29ms/step - loss: 0.1562 - val_loss: 0.1637\n",
      "Epoch 114/200\n",
      "1/1 [==============================] - 0s 31ms/step - loss: 0.1582 - val_loss: 0.1637\n",
      "Epoch 115/200\n",
      "1/1 [==============================] - 0s 30ms/step - loss: 0.1583 - val_loss: 0.1621\n",
      "Epoch 116/200\n",
      "1/1 [==============================] - 0s 30ms/step - loss: 0.1567 - val_loss: 0.1595\n",
      "Epoch 117/200\n",
      "1/1 [==============================] - 0s 35ms/step - loss: 0.1541 - val_loss: 0.1569\n",
      "Epoch 118/200\n",
      "1/1 [==============================] - 0s 31ms/step - loss: 0.1515 - val_loss: 0.1554\n",
      "Epoch 119/200\n",
      "1/1 [==============================] - 0s 31ms/step - loss: 0.1500 - val_loss: 0.1558\n",
      "Epoch 120/200\n",
      "1/1 [==============================] - 0s 28ms/step - loss: 0.1504 - val_loss: 0.1575\n",
      "Epoch 121/200\n",
      "1/1 [==============================] - 0s 30ms/step - loss: 0.1521 - val_loss: 0.1589\n",
      "Epoch 122/200\n",
      "1/1 [==============================] - 0s 28ms/step - loss: 0.1536 - val_loss: 0.1586\n",
      "Epoch 123/200\n",
      "1/1 [==============================] - 0s 29ms/step - loss: 0.1533 - val_loss: 0.1570\n",
      "Epoch 124/200\n",
      "1/1 [==============================] - 0s 27ms/step - loss: 0.1516 - val_loss: 0.1556\n",
      "Epoch 125/200\n",
      "1/1 [==============================] - 0s 24ms/step - loss: 0.1501 - val_loss: 0.1551\n",
      "Epoch 126/200\n",
      "1/1 [==============================] - 0s 29ms/step - loss: 0.1496 - val_loss: 0.1555\n",
      "Epoch 127/200\n",
      "1/1 [==============================] - 0s 32ms/step - loss: 0.1501 - val_loss: 0.1562\n",
      "Epoch 128/200\n",
      "1/1 [==============================] - 0s 29ms/step - loss: 0.1508 - val_loss: 0.1567\n",
      "Epoch 129/200\n",
      "1/1 [==============================] - 0s 28ms/step - loss: 0.1513 - val_loss: 0.1568\n",
      "Epoch 130/200\n",
      "1/1 [==============================] - 0s 31ms/step - loss: 0.1513 - val_loss: 0.1564\n",
      "Epoch 131/200\n",
      "1/1 [==============================] - 0s 31ms/step - loss: 0.1510 - val_loss: 0.1558\n",
      "Epoch 132/200\n",
      "1/1 [==============================] - 0s 25ms/step - loss: 0.1503 - val_loss: 0.1552\n",
      "Epoch 133/200\n",
      "1/1 [==============================] - 0s 25ms/step - loss: 0.1498 - val_loss: 0.1550\n",
      "Epoch 134/200\n",
      "1/1 [==============================] - 0s 27ms/step - loss: 0.1496 - val_loss: 0.1552\n",
      "Epoch 135/200\n",
      "1/1 [==============================] - 0s 28ms/step - loss: 0.1498 - val_loss: 0.1556\n",
      "Epoch 136/200\n",
      "1/1 [==============================] - 0s 26ms/step - loss: 0.1502 - val_loss: 0.1558\n",
      "Epoch 137/200\n",
      "1/1 [==============================] - 0s 26ms/step - loss: 0.1504 - val_loss: 0.1557\n",
      "Epoch 138/200\n",
      "1/1 [==============================] - 0s 28ms/step - loss: 0.1503 - val_loss: 0.1554\n",
      "Epoch 139/200\n",
      "1/1 [==============================] - 0s 29ms/step - loss: 0.1500 - val_loss: 0.1551\n",
      "Epoch 140/200\n",
      "1/1 [==============================] - 0s 26ms/step - loss: 0.1497 - val_loss: 0.1550\n",
      "Epoch 141/200\n",
      "1/1 [==============================] - 0s 26ms/step - loss: 0.1496 - val_loss: 0.1550\n",
      "Epoch 142/200\n",
      "1/1 [==============================] - 0s 27ms/step - loss: 0.1496 - val_loss: 0.1552\n",
      "Epoch 143/200\n",
      "1/1 [==============================] - 0s 27ms/step - loss: 0.1498 - val_loss: 0.1553\n",
      "Epoch 144/200\n",
      "1/1 [==============================] - 0s 29ms/step - loss: 0.1499 - val_loss: 0.1553\n",
      "Epoch 145/200\n",
      "1/1 [==============================] - 0s 28ms/step - loss: 0.1499 - val_loss: 0.1552\n",
      "Epoch 146/200\n",
      "1/1 [==============================] - 0s 27ms/step - loss: 0.1498 - val_loss: 0.1551\n",
      "Epoch 147/200\n",
      "1/1 [==============================] - 0s 23ms/step - loss: 0.1497 - val_loss: 0.1550\n",
      "Epoch 148/200\n",
      "1/1 [==============================] - 0s 26ms/step - loss: 0.1496 - val_loss: 0.1550\n",
      "Epoch 149/200\n",
      "1/1 [==============================] - 0s 27ms/step - loss: 0.1495 - val_loss: 0.1551\n",
      "Epoch 150/200\n",
      "1/1 [==============================] - 0s 32ms/step - loss: 0.1496 - val_loss: 0.1551\n",
      "Epoch 151/200\n",
      "1/1 [==============================] - 0s 33ms/step - loss: 0.1497 - val_loss: 0.1552\n",
      "Epoch 152/200\n",
      "1/1 [==============================] - 0s 27ms/step - loss: 0.1497 - val_loss: 0.1551\n",
      "Epoch 153/200\n",
      "1/1 [==============================] - 0s 29ms/step - loss: 0.1497 - val_loss: 0.1551\n",
      "Epoch 154/200\n",
      "1/1 [==============================] - 0s 29ms/step - loss: 0.1496 - val_loss: 0.1550\n",
      "Epoch 155/200\n",
      "1/1 [==============================] - 0s 29ms/step - loss: 0.1495 - val_loss: 0.1550\n",
      "Epoch 156/200\n",
      "1/1 [==============================] - 0s 28ms/step - loss: 0.1495 - val_loss: 0.1550\n",
      "Epoch 157/200\n",
      "1/1 [==============================] - 0s 28ms/step - loss: 0.1495 - val_loss: 0.1550\n",
      "Epoch 158/200\n",
      "1/1 [==============================] - 0s 30ms/step - loss: 0.1496 - val_loss: 0.1551\n",
      "Epoch 159/200\n",
      "1/1 [==============================] - 0s 26ms/step - loss: 0.1496 - val_loss: 0.1550\n",
      "Epoch 160/200\n",
      "1/1 [==============================] - 0s 25ms/step - loss: 0.1496 - val_loss: 0.1550\n",
      "Epoch 161/200\n",
      "1/1 [==============================] - 0s 29ms/step - loss: 0.1496 - val_loss: 0.1550\n",
      "Epoch 162/200\n",
      "1/1 [==============================] - 0s 26ms/step - loss: 0.1495 - val_loss: 0.1550\n",
      "Epoch 163/200\n",
      "1/1 [==============================] - 0s 29ms/step - loss: 0.1495 - val_loss: 0.1550\n",
      "Epoch 164/200\n",
      "1/1 [==============================] - 0s 26ms/step - loss: 0.1495 - val_loss: 0.1550\n",
      "Epoch 165/200\n",
      "1/1 [==============================] - 0s 26ms/step - loss: 0.1495 - val_loss: 0.1550\n",
      "Epoch 166/200\n",
      "1/1 [==============================] - 0s 25ms/step - loss: 0.1495 - val_loss: 0.1550\n",
      "Epoch 167/200\n",
      "1/1 [==============================] - 0s 26ms/step - loss: 0.1495 - val_loss: 0.1550\n",
      "Epoch 168/200\n",
      "1/1 [==============================] - 0s 28ms/step - loss: 0.1495 - val_loss: 0.1549\n",
      "Epoch 169/200\n",
      "1/1 [==============================] - 0s 25ms/step - loss: 0.1495 - val_loss: 0.1549\n",
      "Epoch 170/200\n",
      "1/1 [==============================] - 0s 27ms/step - loss: 0.1495 - val_loss: 0.1549\n",
      "Epoch 171/200\n",
      "1/1 [==============================] - 0s 31ms/step - loss: 0.1495 - val_loss: 0.1550\n",
      "Epoch 172/200\n",
      "1/1 [==============================] - 0s 33ms/step - loss: 0.1495 - val_loss: 0.1550\n",
      "Epoch 173/200\n",
      "1/1 [==============================] - 0s 29ms/step - loss: 0.1495 - val_loss: 0.1550\n",
      "Epoch 174/200\n",
      "1/1 [==============================] - 0s 29ms/step - loss: 0.1495 - val_loss: 0.1550\n",
      "Epoch 175/200\n",
      "1/1 [==============================] - 0s 28ms/step - loss: 0.1495 - val_loss: 0.1550\n",
      "Epoch 176/200\n",
      "1/1 [==============================] - 0s 28ms/step - loss: 0.1495 - val_loss: 0.1550\n",
      "Epoch 177/200\n",
      "1/1 [==============================] - 0s 29ms/step - loss: 0.1495 - val_loss: 0.1550\n",
      "Epoch 178/200\n",
      "1/1 [==============================] - 0s 29ms/step - loss: 0.1495 - val_loss: 0.1550\n",
      "Epoch 179/200\n",
      "1/1 [==============================] - 0s 29ms/step - loss: 0.1495 - val_loss: 0.1550\n",
      "Epoch 180/200\n",
      "1/1 [==============================] - 0s 33ms/step - loss: 0.1495 - val_loss: 0.1550\n",
      "Epoch 181/200\n",
      "1/1 [==============================] - 0s 29ms/step - loss: 0.1495 - val_loss: 0.1550\n",
      "Epoch 182/200\n",
      "1/1 [==============================] - 0s 28ms/step - loss: 0.1495 - val_loss: 0.1550\n",
      "Epoch 183/200\n",
      "1/1 [==============================] - 0s 29ms/step - loss: 0.1495 - val_loss: 0.1550\n",
      "Epoch 184/200\n",
      "1/1 [==============================] - 0s 30ms/step - loss: 0.1495 - val_loss: 0.1550\n",
      "Epoch 185/200\n",
      "1/1 [==============================] - 0s 28ms/step - loss: 0.1495 - val_loss: 0.1550\n",
      "Epoch 186/200\n",
      "1/1 [==============================] - 0s 28ms/step - loss: 0.1495 - val_loss: 0.1550\n",
      "Epoch 187/200\n",
      "1/1 [==============================] - 0s 29ms/step - loss: 0.1495 - val_loss: 0.1550\n",
      "Epoch 188/200\n",
      "1/1 [==============================] - 0s 29ms/step - loss: 0.1495 - val_loss: 0.1550\n",
      "Epoch 189/200\n",
      "1/1 [==============================] - 0s 29ms/step - loss: 0.1495 - val_loss: 0.1549\n",
      "Epoch 190/200\n",
      "1/1 [==============================] - 0s 29ms/step - loss: 0.1495 - val_loss: 0.1549\n",
      "Epoch 191/200\n",
      "1/1 [==============================] - 0s 28ms/step - loss: 0.1495 - val_loss: 0.1549\n",
      "Epoch 192/200\n",
      "1/1 [==============================] - 0s 38ms/step - loss: 0.1495 - val_loss: 0.1549\n",
      "Epoch 193/200\n",
      "1/1 [==============================] - 0s 31ms/step - loss: 0.1495 - val_loss: 0.1549\n",
      "Epoch 194/200\n",
      "1/1 [==============================] - 0s 28ms/step - loss: 0.1495 - val_loss: 0.1549\n",
      "Epoch 195/200\n",
      "1/1 [==============================] - 0s 28ms/step - loss: 0.1495 - val_loss: 0.1549\n",
      "Epoch 196/200\n",
      "1/1 [==============================] - 0s 28ms/step - loss: 0.1495 - val_loss: 0.1549\n",
      "Epoch 197/200\n",
      "1/1 [==============================] - 0s 30ms/step - loss: 0.1495 - val_loss: 0.1549\n",
      "Epoch 198/200\n",
      "1/1 [==============================] - 0s 27ms/step - loss: 0.1495 - val_loss: 0.1549\n",
      "Epoch 199/200\n",
      "1/1 [==============================] - 0s 33ms/step - loss: 0.1495 - val_loss: 0.1549\n",
      "Epoch 200/200\n",
      "1/1 [==============================] - 0s 30ms/step - loss: 0.1495 - val_loss: 0.1549\n",
      "0.14946724474430084\n"
     ]
    }
   ],
   "source": [
    "looseParent = modelSuperParent(superParent, superParent, NUM_TARGETS, NUM_TIME_STEPS, NUM_TARGETS, 32, sparsity=0.99)\n",
    "looseParent.compile(optimizer='adam', loss=ignore_noParent_MSE)\n",
    "o = looseParent.fit(beanIntensities, beanIntensities, epochs=200, verbose = True,  \n",
    "                    validation_data=(validation, validation), callbacks = [\n",
    "    tfmot.sparsity.keras.UpdatePruningStep()])\n",
    "print(o.history['loss'][-1]) #the final loss "
   ]
  },
  {
   "cell_type": "code",
   "execution_count": 349,
   "metadata": {},
   "outputs": [
    {
     "name": "stdout",
     "output_type": "stream",
     "text": [
      "Model: \"model_21\"\n",
      "_________________________________________________________________\n",
      " Layer (type)                Output Shape              Param #   \n",
      "=================================================================\n",
      " input_22 (InputLayer)       [(None, 21, 100)]         0         \n",
      "                                                                 \n",
      " prune_low_magnitude_encoder  (None, 21, 100)          20002     \n",
      " _linear_super_parent_11 (Pr                                     \n",
      " uneLowMagnitude)                                                \n",
      "                                                                 \n",
      " conv1d_20 (Conv1D)          (None, 19, 32)            9632      \n",
      "                                                                 \n",
      " flatten_29 (Flatten)        (None, 608)               0         \n",
      "                                                                 \n",
      " dense_40 (Dense)            (None, 32)                19488     \n",
      "                                                                 \n",
      " dense_41 (Dense)            (None, 128)               4224      \n",
      "                                                                 \n",
      " reshape_22 (Reshape)        (None, 1, 128)            0         \n",
      "                                                                 \n",
      " conv1d_transpose_20 (Conv1D  (None, 21, 100)          268900    \n",
      " Transpose)                                                      \n",
      "                                                                 \n",
      " decoder_linear_super_parent  (None, 21, 100)          10000     \n",
      " _11 (DecoderLinearSuperPare                                     \n",
      " nt)                                                             \n",
      "                                                                 \n",
      "=================================================================\n",
      "Total params: 332,246\n",
      "Trainable params: 322,244\n",
      "Non-trainable params: 10,002\n",
      "_________________________________________________________________\n"
     ]
    }
   ],
   "source": [
    "looseParent.summary()"
   ]
  },
  {
   "cell_type": "code",
   "execution_count": 350,
   "metadata": {},
   "outputs": [],
   "source": [
    "m = looseParent.get_layer(index=1).get_weights()"
   ]
  },
  {
   "cell_type": "code",
   "execution_count": 351,
   "metadata": {},
   "outputs": [
    {
     "data": {
      "text/plain": [
       "<matplotlib.image.AxesImage at 0x1f98e93a370>"
      ]
     },
     "execution_count": 351,
     "metadata": {},
     "output_type": "execute_result"
    },
    {
     "data": {
      "image/png": "[encoded data removed]",
      "text/plain": [
       "<Figure size 1080x360 with 1 Axes>"
      ]
     },
     "metadata": {
      "needs_background": "light"
     },
     "output_type": "display_data"
    }
   ],
   "source": [
    "plt.imshow(goldIm)"
   ]
  },
  {
   "cell_type": "code",
   "execution_count": 352,
   "metadata": {},
   "outputs": [
    {
     "data": {
      "text/plain": [
       "<matplotlib.image.AxesImage at 0x1f99cf5beb0>"
      ]
     },
     "execution_count": 352,
     "metadata": {},
     "output_type": "execute_result"
    },
    {
     "data": {
      "image/png": "[encoded data removed]",
      "text/plain": [
       "<Figure size 1080x360 with 1 Axes>"
      ]
     },
     "metadata": {
      "needs_background": "light"
     },
     "output_type": "display_data"
    }
   ],
   "source": [
    "plt.imshow(np.abs(m[0]))"
   ]
  },
  {
   "cell_type": "code",
   "execution_count": 335,
   "metadata": {},
   "outputs": [
    {
     "data": {
      "text/plain": [
       "(100, 100)"
      ]
     },
     "execution_count": 335,
     "metadata": {},
     "output_type": "execute_result"
    }
   ],
   "source": [
    "m[0].shape"
   ]
  },
  {
   "attachments": {},
   "cell_type": "markdown",
   "metadata": {},
   "source": [
    "# DenseNetAutoEncoder"
   ]
  },
  {
   "cell_type": "code",
   "execution_count": 336,
   "metadata": {},
   "outputs": [],
   "source": [
    "'''\n",
    "a second copy of the layers which will be modified to be a denseNET auto encoder\n",
    "'''\n",
    "\n",
    "class DAE_Encoder_MASK(tf.keras.layers.Layer): \n",
    "    def __init__(self, rgm, oldrgm, input_dim=32, units=32):\n",
    "        super(DAE_Encoder_MASK, self).__init__()\n",
    "        self.rgm = rgm\n",
    "        self.oldrgm = oldrgm\n",
    "        \n",
    "        def init_weights(shape, dtype=\"float32\"):\n",
    "\n",
    "            w_init = tf.random_normal_initializer()(shape=shape, dtype=dtype) * tf.convert_to_tensor(self.oldrgm, dtype=dtype)\n",
    "\n",
    "            return w_init\n",
    "        \n",
    "        self.w = tf.Variable(\n",
    "            initial_value=init_weights(shape=(input_dim, units), dtype=\"float32\"),\n",
    "            trainable=True,\n",
    "        )\n",
    "\n",
    "    def call(self, inputs):\n",
    "        X = inputs\n",
    "        return tf.matmul(X, tf.multiply(self.rgm, self.w))\n",
    "    #tf.matmul(inputs, self.w)\n",
    "\n",
    "    def get_config(self):\n",
    "        config = super().get_config()\n",
    "        config.update({\n",
    "            \"rgm\": self.rgm,\n",
    "            \"oldrgm\": self.oldrgm,\n",
    "            'input_dim': 32,\n",
    "            'units' : 32\n",
    "        })\n",
    "\n",
    "class DAE_Decoder_MASK(tf.keras.layers.Layer):\n",
    "    def __init__(self, rgm, oldrgm, input_dim=32, units=32):\n",
    "        super(DAE_Decoder_MASK, self).__init__()\n",
    "        self.rgm = rgm\n",
    "        self.oldrgm = oldrgm\n",
    "\n",
    "        def init_weights(shape, dtype=\"float32\"):\n",
    "\n",
    "            w_init = tf.random_normal_initializer()(shape=shape, dtype=dtype) * tf.transpose(tf.convert_to_tensor(self.oldrgm, dtype=dtype))\n",
    "\n",
    "            return w_init\n",
    "\n",
    "        self.w = tf.Variable(\n",
    "            initial_value=init_weights(shape=(input_dim, units), dtype=\"float32\"),\n",
    "            trainable=True,\n",
    "        )\n",
    "\n",
    "    def call(self, inputs):\n",
    "        X = inputs\n",
    "        return tf.matmul(X, tf.multiply(tf.transpose(self.rgm), self.w)) #used to have a transpose\n",
    "\n",
    "\n",
    "    def get_config(self):\n",
    "        config = super().get_config()\n",
    "        config.update({\n",
    "            \"rgm\": self.rgm,\n",
    "            \"oldrgm\": self.oldrgm,\n",
    "            'input_dim': 32,\n",
    "            'units' : 32\n",
    "        })\n",
    "        \n",
    "\n",
    "def denseencoder2(parent_child_biological_association, inp, num_hidden_units=21):\n",
    "    '''\n",
    "    Encoder structure\n",
    "    '''\n",
    "    '''\n",
    "    The data is time-series. Therefore, CNN to learn the temporal relationship between \n",
    "    the intensities for each gene.\n",
    "    '''\n",
    "    en_conv = Conv1D(NUM_TARGETS, 7, activation = \"tanh\")(parent_child_biological_association) # Conv1D(NUM_TARGETS, NUM_TIME_STEPS, activation = \"tanh\")(parent_child_biological_association)6*NUM_TARGETS\n",
    "    en_dense = Flatten()(en_conv)\n",
    "    inp = Flatten()(inp)\n",
    "    d = Concatenate()([en_dense, inp]) #dense layer\n",
    "    phenotype = Dense(num_hidden_units, activation=\"tanh\")(d)\n",
    "    return phenotype\n",
    "\n",
    "def densedecoder2(X, num_protein_gene, time_steps):\n",
    "    '''\n",
    "    Decoder structure\n",
    "    '''\n",
    "    de_dense = Dense(NUM_TARGETS, activation = 'tanh')(X)\n",
    "    de_dense = Reshape((1, NUM_TARGETS))(de_dense) #tf.reshape(de_dense, (self.batch_size,1,128))\n",
    "    de_deconv = Conv1DTranspose(num_protein_gene, time_steps, activation = \"tanh\")(de_dense) #used to be transpose\n",
    "    #de_deconv = Conv1D(num_protein_gene, time_steps, activation = \"relu\")(de_dense) \n",
    "    # gene_reconstruction = self.decoder_biological_operation(de_deconv)\n",
    "    return de_deconv\n",
    "\n",
    "def modelDense2(rgm, oldrgm, num_protein_gene, time_steps, num_kinase_regulators, num_hidden_units = 21):\n",
    "    inp = Input(shape=(time_steps, num_kinase_regulators))\n",
    "    \n",
    "    x = DAE_Encoder_MASK(rgm, oldrgm, NUM_TARGETS, NUM_TARGETS)(inp)\n",
    "    #x = EncoderLinear2(x)\n",
    "    enc = denseencoder2(x, inp, num_hidden_units)\n",
    "    dec = densedecoder2(enc, num_protein_gene, time_steps)\n",
    "    out = DAE_Decoder_MASK(rgm, oldrgm, NUM_TARGETS, NUM_TARGETS)(dec)\n",
    "\n",
    "    _model = tf.keras.Model(inputs=inp, outputs=out)\n",
    "\n",
    "    return _model"
   ]
  },
  {
   "cell_type": "code",
   "execution_count": 337,
   "metadata": {},
   "outputs": [
    {
     "name": "stdout",
     "output_type": "stream",
     "text": [
      "Epoch 1/150\n",
      "1/1 [==============================] - 2s 2s/step - loss: 0.2482 - val_loss: 0.2439\n",
      "Epoch 2/150\n",
      "1/1 [==============================] - 0s 29ms/step - loss: 0.2397 - val_loss: 0.2178\n",
      "Epoch 3/150\n",
      "1/1 [==============================] - 0s 27ms/step - loss: 0.2137 - val_loss: 0.1927\n",
      "Epoch 4/150\n",
      "1/1 [==============================] - 0s 29ms/step - loss: 0.1881 - val_loss: 0.1678\n",
      "Epoch 5/150\n",
      "1/1 [==============================] - 0s 28ms/step - loss: 0.1631 - val_loss: 0.1419\n",
      "Epoch 6/150\n",
      "1/1 [==============================] - 0s 29ms/step - loss: 0.1371 - val_loss: 0.1162\n",
      "Epoch 7/150\n",
      "1/1 [==============================] - 0s 33ms/step - loss: 0.1114 - val_loss: 0.0937\n",
      "Epoch 8/150\n",
      "1/1 [==============================] - 0s 35ms/step - loss: 0.0888 - val_loss: 0.0762\n",
      "Epoch 9/150\n",
      "1/1 [==============================] - 0s 28ms/step - loss: 0.0713 - val_loss: 0.0647\n",
      "Epoch 10/150\n",
      "1/1 [==============================] - 0s 34ms/step - loss: 0.0597 - val_loss: 0.0583\n",
      "Epoch 11/150\n",
      "1/1 [==============================] - 0s 34ms/step - loss: 0.0533 - val_loss: 0.0550\n",
      "Epoch 12/150\n",
      "1/1 [==============================] - 0s 34ms/step - loss: 0.0499 - val_loss: 0.0523\n",
      "Epoch 13/150\n",
      "1/1 [==============================] - 0s 26ms/step - loss: 0.0471 - val_loss: 0.0487\n",
      "Epoch 14/150\n",
      "1/1 [==============================] - 0s 28ms/step - loss: 0.0435 - val_loss: 0.0441\n",
      "Epoch 15/150\n",
      "1/1 [==============================] - 0s 28ms/step - loss: 0.0389 - val_loss: 0.0400\n",
      "Epoch 16/150\n",
      "1/1 [==============================] - 0s 26ms/step - loss: 0.0347 - val_loss: 0.0372\n",
      "Epoch 17/150\n",
      "1/1 [==============================] - 0s 26ms/step - loss: 0.0319 - val_loss: 0.0358\n",
      "Epoch 18/150\n",
      "1/1 [==============================] - 0s 28ms/step - loss: 0.0305 - val_loss: 0.0356\n",
      "Epoch 19/150\n",
      "1/1 [==============================] - 0s 25ms/step - loss: 0.0301 - val_loss: 0.0358\n",
      "Epoch 20/150\n",
      "1/1 [==============================] - 0s 25ms/step - loss: 0.0303 - val_loss: 0.0359\n",
      "Epoch 21/150\n",
      "1/1 [==============================] - 0s 29ms/step - loss: 0.0303 - val_loss: 0.0355\n",
      "Epoch 22/150\n",
      "1/1 [==============================] - 0s 28ms/step - loss: 0.0297 - val_loss: 0.0345\n",
      "Epoch 23/150\n",
      "1/1 [==============================] - 0s 29ms/step - loss: 0.0286 - val_loss: 0.0332\n",
      "Epoch 24/150\n",
      "1/1 [==============================] - 0s 28ms/step - loss: 0.0272 - val_loss: 0.0318\n",
      "Epoch 25/150\n",
      "1/1 [==============================] - 0s 31ms/step - loss: 0.0257 - val_loss: 0.0307\n",
      "Epoch 26/150\n",
      "1/1 [==============================] - 0s 26ms/step - loss: 0.0244 - val_loss: 0.0298\n",
      "Epoch 27/150\n",
      "1/1 [==============================] - 0s 25ms/step - loss: 0.0235 - val_loss: 0.0292\n",
      "Epoch 28/150\n",
      "1/1 [==============================] - 0s 25ms/step - loss: 0.0228 - val_loss: 0.0289\n",
      "Epoch 29/150\n",
      "1/1 [==============================] - 0s 26ms/step - loss: 0.0225 - val_loss: 0.0287\n",
      "Epoch 30/150\n",
      "1/1 [==============================] - 0s 25ms/step - loss: 0.0222 - val_loss: 0.0284\n",
      "Epoch 31/150\n",
      "1/1 [==============================] - 0s 26ms/step - loss: 0.0219 - val_loss: 0.0281\n",
      "Epoch 32/150\n",
      "1/1 [==============================] - 0s 25ms/step - loss: 0.0216 - val_loss: 0.0278\n",
      "Epoch 33/150\n",
      "1/1 [==============================] - 0s 26ms/step - loss: 0.0213 - val_loss: 0.0275\n",
      "Epoch 34/150\n",
      "1/1 [==============================] - 0s 26ms/step - loss: 0.0210 - val_loss: 0.0273\n",
      "Epoch 35/150\n",
      "1/1 [==============================] - 0s 24ms/step - loss: 0.0208 - val_loss: 0.0271\n",
      "Epoch 36/150\n",
      "1/1 [==============================] - 0s 25ms/step - loss: 0.0207 - val_loss: 0.0270\n",
      "Epoch 37/150\n",
      "1/1 [==============================] - 0s 34ms/step - loss: 0.0207 - val_loss: 0.0270\n",
      "Epoch 38/150\n",
      "1/1 [==============================] - 0s 30ms/step - loss: 0.0206 - val_loss: 0.0269\n",
      "Epoch 39/150\n",
      "1/1 [==============================] - 0s 28ms/step - loss: 0.0206 - val_loss: 0.0268\n",
      "Epoch 40/150\n",
      "1/1 [==============================] - 0s 27ms/step - loss: 0.0204 - val_loss: 0.0266\n",
      "Epoch 41/150\n",
      "1/1 [==============================] - 0s 26ms/step - loss: 0.0203 - val_loss: 0.0264\n",
      "Epoch 42/150\n",
      "1/1 [==============================] - 0s 25ms/step - loss: 0.0201 - val_loss: 0.0263\n",
      "Epoch 43/150\n",
      "1/1 [==============================] - 0s 26ms/step - loss: 0.0199 - val_loss: 0.0262\n",
      "Epoch 44/150\n",
      "1/1 [==============================] - 0s 28ms/step - loss: 0.0198 - val_loss: 0.0262\n",
      "Epoch 45/150\n",
      "1/1 [==============================] - 0s 30ms/step - loss: 0.0198 - val_loss: 0.0262\n",
      "Epoch 46/150\n",
      "1/1 [==============================] - 0s 28ms/step - loss: 0.0197 - val_loss: 0.0262\n",
      "Epoch 47/150\n",
      "1/1 [==============================] - 0s 27ms/step - loss: 0.0197 - val_loss: 0.0262\n",
      "Epoch 48/150\n",
      "1/1 [==============================] - 0s 29ms/step - loss: 0.0197 - val_loss: 0.0262\n",
      "Epoch 49/150\n",
      "1/1 [==============================] - 0s 28ms/step - loss: 0.0196 - val_loss: 0.0262\n",
      "Epoch 50/150\n",
      "1/1 [==============================] - 0s 28ms/step - loss: 0.0196 - val_loss: 0.0261\n",
      "Epoch 51/150\n",
      "1/1 [==============================] - 0s 29ms/step - loss: 0.0195 - val_loss: 0.0261\n",
      "Epoch 52/150\n",
      "1/1 [==============================] - 0s 28ms/step - loss: 0.0194 - val_loss: 0.0261\n",
      "Epoch 53/150\n",
      "1/1 [==============================] - 0s 29ms/step - loss: 0.0194 - val_loss: 0.0261\n",
      "Epoch 54/150\n",
      "1/1 [==============================] - 0s 28ms/step - loss: 0.0194 - val_loss: 0.0261\n",
      "Epoch 55/150\n",
      "1/1 [==============================] - 0s 30ms/step - loss: 0.0194 - val_loss: 0.0261\n",
      "Epoch 56/150\n",
      "1/1 [==============================] - 0s 28ms/step - loss: 0.0194 - val_loss: 0.0260\n",
      "Epoch 57/150\n",
      "1/1 [==============================] - 0s 30ms/step - loss: 0.0194 - val_loss: 0.0260\n",
      "Epoch 58/150\n",
      "1/1 [==============================] - 0s 28ms/step - loss: 0.0193 - val_loss: 0.0259\n",
      "Epoch 59/150\n",
      "1/1 [==============================] - 0s 25ms/step - loss: 0.0193 - val_loss: 0.0259\n",
      "Epoch 60/150\n",
      "1/1 [==============================] - 0s 27ms/step - loss: 0.0193 - val_loss: 0.0259\n",
      "Epoch 61/150\n",
      "1/1 [==============================] - 0s 27ms/step - loss: 0.0193 - val_loss: 0.0258\n",
      "Epoch 62/150\n",
      "1/1 [==============================] - 0s 26ms/step - loss: 0.0193 - val_loss: 0.0258\n",
      "Epoch 63/150\n",
      "1/1 [==============================] - 0s 27ms/step - loss: 0.0193 - val_loss: 0.0258\n",
      "Epoch 64/150\n",
      "1/1 [==============================] - 0s 25ms/step - loss: 0.0193 - val_loss: 0.0258\n",
      "Epoch 65/150\n",
      "1/1 [==============================] - 0s 26ms/step - loss: 0.0192 - val_loss: 0.0257\n",
      "Epoch 66/150\n",
      "1/1 [==============================] - 0s 26ms/step - loss: 0.0192 - val_loss: 0.0257\n",
      "Epoch 67/150\n",
      "1/1 [==============================] - 0s 26ms/step - loss: 0.0192 - val_loss: 0.0257\n",
      "Epoch 68/150\n",
      "1/1 [==============================] - 0s 26ms/step - loss: 0.0192 - val_loss: 0.0257\n",
      "Epoch 69/150\n",
      "1/1 [==============================] - 0s 28ms/step - loss: 0.0192 - val_loss: 0.0257\n",
      "Epoch 70/150\n",
      "1/1 [==============================] - 0s 28ms/step - loss: 0.0192 - val_loss: 0.0257\n",
      "Epoch 71/150\n",
      "1/1 [==============================] - 0s 29ms/step - loss: 0.0192 - val_loss: 0.0257\n",
      "Epoch 72/150\n",
      "1/1 [==============================] - 0s 27ms/step - loss: 0.0192 - val_loss: 0.0257\n",
      "Epoch 73/150\n",
      "1/1 [==============================] - 0s 32ms/step - loss: 0.0192 - val_loss: 0.0257\n",
      "Epoch 74/150\n",
      "1/1 [==============================] - 0s 26ms/step - loss: 0.0192 - val_loss: 0.0257\n",
      "Epoch 75/150\n",
      "1/1 [==============================] - 0s 25ms/step - loss: 0.0192 - val_loss: 0.0257\n",
      "Epoch 76/150\n",
      "1/1 [==============================] - 0s 25ms/step - loss: 0.0192 - val_loss: 0.0257\n",
      "Epoch 77/150\n",
      "1/1 [==============================] - 0s 27ms/step - loss: 0.0192 - val_loss: 0.0257\n",
      "Epoch 78/150\n",
      "1/1 [==============================] - 0s 27ms/step - loss: 0.0192 - val_loss: 0.0257\n",
      "Epoch 79/150\n",
      "1/1 [==============================] - 0s 25ms/step - loss: 0.0192 - val_loss: 0.0257\n",
      "Epoch 80/150\n",
      "1/1 [==============================] - 0s 31ms/step - loss: 0.0192 - val_loss: 0.0257\n",
      "Epoch 81/150\n",
      "1/1 [==============================] - 0s 33ms/step - loss: 0.0192 - val_loss: 0.0257\n",
      "Epoch 82/150\n",
      "1/1 [==============================] - 0s 35ms/step - loss: 0.0192 - val_loss: 0.0257\n",
      "Epoch 83/150\n",
      "1/1 [==============================] - 0s 35ms/step - loss: 0.0192 - val_loss: 0.0257\n",
      "Epoch 84/150\n",
      "1/1 [==============================] - 0s 29ms/step - loss: 0.0192 - val_loss: 0.0257\n",
      "Epoch 85/150\n",
      "1/1 [==============================] - 0s 35ms/step - loss: 0.0192 - val_loss: 0.0257\n",
      "Epoch 86/150\n",
      "1/1 [==============================] - 0s 31ms/step - loss: 0.0192 - val_loss: 0.0257\n",
      "Epoch 87/150\n",
      "1/1 [==============================] - 0s 38ms/step - loss: 0.0192 - val_loss: 0.0257\n",
      "Epoch 88/150\n",
      "1/1 [==============================] - 0s 31ms/step - loss: 0.0192 - val_loss: 0.0257\n",
      "Epoch 89/150\n",
      "1/1 [==============================] - 0s 27ms/step - loss: 0.0192 - val_loss: 0.0257\n",
      "Epoch 90/150\n",
      "1/1 [==============================] - 0s 29ms/step - loss: 0.0192 - val_loss: 0.0257\n",
      "Epoch 91/150\n",
      "1/1 [==============================] - 0s 27ms/step - loss: 0.0192 - val_loss: 0.0257\n",
      "Epoch 92/150\n",
      "1/1 [==============================] - 0s 26ms/step - loss: 0.0192 - val_loss: 0.0257\n",
      "Epoch 93/150\n",
      "1/1 [==============================] - 0s 25ms/step - loss: 0.0192 - val_loss: 0.0257\n",
      "Epoch 94/150\n",
      "1/1 [==============================] - 0s 25ms/step - loss: 0.0192 - val_loss: 0.0257\n",
      "Epoch 95/150\n",
      "1/1 [==============================] - 0s 25ms/step - loss: 0.0192 - val_loss: 0.0257\n",
      "Epoch 96/150\n",
      "1/1 [==============================] - 0s 26ms/step - loss: 0.0191 - val_loss: 0.0257\n",
      "Epoch 97/150\n",
      "1/1 [==============================] - 0s 26ms/step - loss: 0.0191 - val_loss: 0.0257\n",
      "Epoch 98/150\n",
      "1/1 [==============================] - 0s 27ms/step - loss: 0.0191 - val_loss: 0.0257\n",
      "Epoch 99/150\n",
      "1/1 [==============================] - 0s 28ms/step - loss: 0.0191 - val_loss: 0.0257\n",
      "Epoch 100/150\n",
      "1/1 [==============================] - 0s 27ms/step - loss: 0.0191 - val_loss: 0.0257\n",
      "Epoch 101/150\n",
      "1/1 [==============================] - 0s 28ms/step - loss: 0.0191 - val_loss: 0.0257\n",
      "Epoch 102/150\n",
      "1/1 [==============================] - 0s 29ms/step - loss: 0.0191 - val_loss: 0.0257\n",
      "Epoch 103/150\n",
      "1/1 [==============================] - 0s 25ms/step - loss: 0.0191 - val_loss: 0.0257\n",
      "Epoch 104/150\n",
      "1/1 [==============================] - 0s 25ms/step - loss: 0.0191 - val_loss: 0.0257\n",
      "Epoch 105/150\n",
      "1/1 [==============================] - 0s 26ms/step - loss: 0.0191 - val_loss: 0.0257\n",
      "Epoch 106/150\n",
      "1/1 [==============================] - 0s 28ms/step - loss: 0.0191 - val_loss: 0.0257\n",
      "Epoch 107/150\n",
      "1/1 [==============================] - 0s 26ms/step - loss: 0.0191 - val_loss: 0.0257\n",
      "Epoch 108/150\n",
      "1/1 [==============================] - 0s 27ms/step - loss: 0.0191 - val_loss: 0.0257\n",
      "Epoch 109/150\n",
      "1/1 [==============================] - 0s 26ms/step - loss: 0.0191 - val_loss: 0.0257\n",
      "Epoch 110/150\n",
      "1/1 [==============================] - 0s 29ms/step - loss: 0.0191 - val_loss: 0.0257\n",
      "Epoch 111/150\n",
      "1/1 [==============================] - 0s 29ms/step - loss: 0.0191 - val_loss: 0.0257\n",
      "Epoch 112/150\n",
      "1/1 [==============================] - 0s 26ms/step - loss: 0.0191 - val_loss: 0.0257\n",
      "Epoch 113/150\n",
      "1/1 [==============================] - 0s 26ms/step - loss: 0.0191 - val_loss: 0.0257\n",
      "Epoch 114/150\n",
      "1/1 [==============================] - 0s 31ms/step - loss: 0.0191 - val_loss: 0.0257\n",
      "Epoch 115/150\n",
      "1/1 [==============================] - 0s 25ms/step - loss: 0.0191 - val_loss: 0.0257\n",
      "Epoch 116/150\n",
      "1/1 [==============================] - 0s 29ms/step - loss: 0.0191 - val_loss: 0.0257\n",
      "Epoch 117/150\n",
      "1/1 [==============================] - 0s 29ms/step - loss: 0.0191 - val_loss: 0.0257\n",
      "Epoch 118/150\n",
      "1/1 [==============================] - 0s 28ms/step - loss: 0.0191 - val_loss: 0.0257\n",
      "Epoch 119/150\n",
      "1/1 [==============================] - 0s 30ms/step - loss: 0.0191 - val_loss: 0.0257\n",
      "Epoch 120/150\n",
      "1/1 [==============================] - 0s 31ms/step - loss: 0.0191 - val_loss: 0.0257\n",
      "Epoch 121/150\n",
      "1/1 [==============================] - 0s 27ms/step - loss: 0.0191 - val_loss: 0.0257\n",
      "Epoch 122/150\n",
      "1/1 [==============================] - 0s 27ms/step - loss: 0.0191 - val_loss: 0.0257\n",
      "Epoch 123/150\n",
      "1/1 [==============================] - 0s 25ms/step - loss: 0.0191 - val_loss: 0.0257\n",
      "Epoch 124/150\n",
      "1/1 [==============================] - 0s 28ms/step - loss: 0.0191 - val_loss: 0.0257\n",
      "Epoch 125/150\n",
      "1/1 [==============================] - 0s 35ms/step - loss: 0.0191 - val_loss: 0.0257\n",
      "Epoch 126/150\n",
      "1/1 [==============================] - 0s 30ms/step - loss: 0.0191 - val_loss: 0.0257\n",
      "Epoch 127/150\n",
      "1/1 [==============================] - 0s 39ms/step - loss: 0.0191 - val_loss: 0.0257\n",
      "Epoch 128/150\n",
      "1/1 [==============================] - 0s 35ms/step - loss: 0.0191 - val_loss: 0.0257\n",
      "Epoch 129/150\n",
      "1/1 [==============================] - 0s 30ms/step - loss: 0.0191 - val_loss: 0.0257\n",
      "Epoch 130/150\n",
      "1/1 [==============================] - 0s 28ms/step - loss: 0.0191 - val_loss: 0.0257\n",
      "Epoch 131/150\n",
      "1/1 [==============================] - 0s 29ms/step - loss: 0.0191 - val_loss: 0.0257\n",
      "Epoch 132/150\n",
      "1/1 [==============================] - 0s 28ms/step - loss: 0.0191 - val_loss: 0.0257\n",
      "Epoch 133/150\n",
      "1/1 [==============================] - 0s 31ms/step - loss: 0.0191 - val_loss: 0.0257\n",
      "Epoch 134/150\n",
      "1/1 [==============================] - 0s 27ms/step - loss: 0.0191 - val_loss: 0.0257\n",
      "Epoch 135/150\n",
      "1/1 [==============================] - 0s 37ms/step - loss: 0.0191 - val_loss: 0.0257\n",
      "Epoch 136/150\n",
      "1/1 [==============================] - 0s 32ms/step - loss: 0.0191 - val_loss: 0.0257\n",
      "Epoch 137/150\n",
      "1/1 [==============================] - 0s 28ms/step - loss: 0.0191 - val_loss: 0.0257\n",
      "Epoch 138/150\n",
      "1/1 [==============================] - 0s 31ms/step - loss: 0.0191 - val_loss: 0.0257\n",
      "Epoch 139/150\n",
      "1/1 [==============================] - 0s 25ms/step - loss: 0.0191 - val_loss: 0.0257\n",
      "Epoch 140/150\n",
      "1/1 [==============================] - 0s 28ms/step - loss: 0.0191 - val_loss: 0.0257\n",
      "Epoch 141/150\n",
      "1/1 [==============================] - 0s 27ms/step - loss: 0.0191 - val_loss: 0.0257\n",
      "Epoch 142/150\n",
      "1/1 [==============================] - 0s 33ms/step - loss: 0.0191 - val_loss: 0.0257\n",
      "Epoch 143/150\n",
      "1/1 [==============================] - 0s 33ms/step - loss: 0.0191 - val_loss: 0.0257\n",
      "Epoch 144/150\n",
      "1/1 [==============================] - 0s 33ms/step - loss: 0.0191 - val_loss: 0.0257\n",
      "Epoch 145/150\n",
      "1/1 [==============================] - 0s 33ms/step - loss: 0.0191 - val_loss: 0.0257\n",
      "Epoch 146/150\n",
      "1/1 [==============================] - 0s 29ms/step - loss: 0.0191 - val_loss: 0.0257\n",
      "Epoch 147/150\n",
      "1/1 [==============================] - 0s 28ms/step - loss: 0.0191 - val_loss: 0.0257\n",
      "Epoch 148/150\n",
      "1/1 [==============================] - 0s 27ms/step - loss: 0.0191 - val_loss: 0.0257\n",
      "Epoch 149/150\n",
      "1/1 [==============================] - 0s 28ms/step - loss: 0.0191 - val_loss: 0.0257\n",
      "Epoch 150/150\n",
      "1/1 [==============================] - 0s 28ms/step - loss: 0.0191 - val_loss: 0.0257\n"
     ]
    },
    {
     "data": {
      "text/plain": [
       "<keras.callbacks.History at 0x1f99cde9b50>"
      ]
     },
     "execution_count": 337,
     "metadata": {},
     "output_type": "execute_result"
    }
   ],
   "source": [
    "#dense = modelDense2(superParent, regulator_gene_matrix, NUM_TARGETS, NUM_TIME_STEPS, NUM_TARGETS, num_hidden_units=NUM_PARENTS)\n",
    "# dense = modelDense2(goldIm.astype(np.float32), goldIm.astype(np.float32), NUM_TARGETS, NUM_TIME_STEPS, NUM_TARGETS, num_hidden_units=NUM_PARENTS)\n",
    "dense = modelDense2(superParent, superParent, NUM_TARGETS, NUM_TIME_STEPS, NUM_TARGETS, num_hidden_units=NUM_PARENTS)\n",
    "dense.compile(optimizer='adam', loss=ignore_noParent_MSE)\n",
    "dense.fit(beanIntensities, beanIntensities, epochs=150,  verbose=True, validation_data=(validation, validation))"
   ]
  },
  {
   "cell_type": "code",
   "execution_count": 338,
   "metadata": {},
   "outputs": [
    {
     "name": "stdout",
     "output_type": "stream",
     "text": [
      "Model: \"model_20\"\n",
      "__________________________________________________________________________________________________\n",
      " Layer (type)                   Output Shape         Param #     Connected to                     \n",
      "==================================================================================================\n",
      " input_21 (InputLayer)          [(None, 21, 100)]    0           []                               \n",
      "                                                                                                  \n",
      " dae__encoder_mask_8 (DAE_Encod  (None, 21, 100)     10000       ['input_21[0][0]']               \n",
      " er_MASK)                                                                                         \n",
      "                                                                                                  \n",
      " conv1d_19 (Conv1D)             (None, 15, 100)      70100       ['dae__encoder_mask_8[0][0]']    \n",
      "                                                                                                  \n",
      " flatten_27 (Flatten)           (None, 1500)         0           ['conv1d_19[0][0]']              \n",
      "                                                                                                  \n",
      " flatten_28 (Flatten)           (None, 2100)         0           ['input_21[0][0]']               \n",
      "                                                                                                  \n",
      " concatenate_8 (Concatenate)    (None, 3600)         0           ['flatten_27[0][0]',             \n",
      "                                                                  'flatten_28[0][0]']             \n",
      "                                                                                                  \n",
      " dense_38 (Dense)               (None, 44)           158444      ['concatenate_8[0][0]']          \n",
      "                                                                                                  \n",
      " dense_39 (Dense)               (None, 100)          4500        ['dense_38[0][0]']               \n",
      "                                                                                                  \n",
      " reshape_21 (Reshape)           (None, 1, 100)       0           ['dense_39[0][0]']               \n",
      "                                                                                                  \n",
      " conv1d_transpose_19 (Conv1DTra  (None, 21, 100)     210100      ['reshape_21[0][0]']             \n",
      " nspose)                                                                                          \n",
      "                                                                                                  \n",
      " dae__decoder_mask_8 (DAE_Decod  (None, 21, 100)     10000       ['conv1d_transpose_19[0][0]']    \n",
      " er_MASK)                                                                                         \n",
      "                                                                                                  \n",
      "==================================================================================================\n",
      "Total params: 463,144\n",
      "Trainable params: 463,144\n",
      "Non-trainable params: 0\n",
      "__________________________________________________________________________________________________\n"
     ]
    }
   ],
   "source": [
    "dense.summary()"
   ]
  },
  {
   "cell_type": "code",
   "execution_count": 339,
   "metadata": {},
   "outputs": [],
   "source": [
    "mask = dense.get_layer(index = 1)"
   ]
  },
  {
   "cell_type": "code",
   "execution_count": 340,
   "metadata": {},
   "outputs": [
    {
     "data": {
      "text/plain": [
       "<matplotlib.image.AxesImage at 0x1f97f5ad790>"
      ]
     },
     "execution_count": 340,
     "metadata": {},
     "output_type": "execute_result"
    },
    {
     "data": {
      "image/png": "[encoded data removed]",
      "text/plain": [
       "<Figure size 1080x360 with 1 Axes>"
      ]
     },
     "metadata": {
      "needs_background": "light"
     },
     "output_type": "display_data"
    }
   ],
   "source": [
    "plt.imshow(np.abs(mask.get_weights()[0]))"
   ]
  },
  {
   "cell_type": "code",
   "execution_count": 341,
   "metadata": {},
   "outputs": [
    {
     "data": {
      "text/plain": [
       "<matplotlib.image.AxesImage at 0x1f98fbb40a0>"
      ]
     },
     "execution_count": 341,
     "metadata": {},
     "output_type": "execute_result"
    },
    {
     "data": {
      "image/png": "[encoded data removed]",
      "text/plain": [
       "<Figure size 1080x360 with 1 Axes>"
      ]
     },
     "metadata": {
      "needs_background": "light"
     },
     "output_type": "display_data"
    }
   ],
   "source": [
    "plt.imshow(goldIm)"
   ]
  },
  {
   "attachments": {},
   "cell_type": "markdown",
   "metadata": {},
   "source": [
    "# Reconstruction"
   ]
  },
  {
   "cell_type": "code",
   "execution_count": 342,
   "metadata": {},
   "outputs": [
    {
     "name": "stdout",
     "output_type": "stream",
     "text": [
      "1/1 [==============================] - 0s 82ms/step\n"
     ]
    },
    {
     "data": {
      "text/plain": [
       "(2, 21, 100)"
      ]
     },
     "execution_count": 342,
     "metadata": {},
     "output_type": "execute_result"
    }
   ],
   "source": [
    "o = dense.predict(validation)\n",
    "o.shape"
   ]
  },
  {
   "cell_type": "code",
   "execution_count": 343,
   "metadata": {},
   "outputs": [],
   "source": [
    "r = pd.DataFrame(o[0].reshape(NUM_TIME_STEPS,NUM_TARGETS))\n",
    "v = pd.DataFrame(validation[0].reshape(NUM_TIME_STEPS,NUM_TARGETS))"
   ]
  },
  {
   "cell_type": "code",
   "execution_count": 344,
   "metadata": {},
   "outputs": [
    {
     "data": {
      "text/plain": [
       "array([ 0,  1,  3,  5,  8, 10, 11, 15, 17, 20, 21, 22, 23, 25, 28, 31, 32,\n",
       "       33, 36, 37, 38, 39, 40, 41, 43, 47, 48, 51, 52, 53, 54, 57, 64, 68,\n",
       "       69, 70, 72, 73, 77, 78, 89, 91, 95, 96])"
      ]
     },
     "execution_count": 344,
     "metadata": {},
     "output_type": "execute_result"
    }
   ],
   "source": [
    "parent_idx"
   ]
  },
  {
   "cell_type": "code",
   "execution_count": 345,
   "metadata": {},
   "outputs": [
    {
     "data": {
      "text/plain": [
       "<matplotlib.image.AxesImage at 0x1f98e8b6e80>"
      ]
     },
     "execution_count": 345,
     "metadata": {},
     "output_type": "execute_result"
    },
    {
     "data": {
      "image/png": "[encoded data removed]",
      "text/plain": [
       "<Figure size 1080x360 with 1 Axes>"
      ]
     },
     "metadata": {
      "needs_background": "light"
     },
     "output_type": "display_data"
    }
   ],
   "source": [
    "plt.imshow(o[0])"
   ]
  },
  {
   "cell_type": "code",
   "execution_count": 346,
   "metadata": {},
   "outputs": [
    {
     "data": {
      "text/html": [
       "<div>\n",
       "<style scoped>\n",
       "    .dataframe tbody tr th:only-of-type {\n",
       "        vertical-align: middle;\n",
       "    }\n",
       "\n",
       "    .dataframe tbody tr th {\n",
       "        vertical-align: top;\n",
       "    }\n",
       "\n",
       "    .dataframe thead th {\n",
       "        text-align: right;\n",
       "    }\n",
       "</style>\n",
       "<table border=\"1\" class=\"dataframe\">\n",
       "  <thead>\n",
       "    <tr style=\"text-align: right;\">\n",
       "      <th></th>\n",
       "      <th>0</th>\n",
       "      <th>1</th>\n",
       "      <th>3</th>\n",
       "      <th>5</th>\n",
       "      <th>8</th>\n",
       "      <th>10</th>\n",
       "      <th>11</th>\n",
       "      <th>15</th>\n",
       "      <th>17</th>\n",
       "      <th>20</th>\n",
       "      <th>...</th>\n",
       "      <th>69</th>\n",
       "      <th>70</th>\n",
       "      <th>72</th>\n",
       "      <th>73</th>\n",
       "      <th>77</th>\n",
       "      <th>78</th>\n",
       "      <th>89</th>\n",
       "      <th>91</th>\n",
       "      <th>95</th>\n",
       "      <th>96</th>\n",
       "    </tr>\n",
       "  </thead>\n",
       "  <tbody>\n",
       "    <tr>\n",
       "      <th>0</th>\n",
       "      <td>0.398971</td>\n",
       "      <td>0.740750</td>\n",
       "      <td>0.115708</td>\n",
       "      <td>0.356516</td>\n",
       "      <td>0.651063</td>\n",
       "      <td>0.518578</td>\n",
       "      <td>0.095253</td>\n",
       "      <td>0.109241</td>\n",
       "      <td>0.656468</td>\n",
       "      <td>0.649434</td>\n",
       "      <td>...</td>\n",
       "      <td>0.547596</td>\n",
       "      <td>0.037883</td>\n",
       "      <td>0.440939</td>\n",
       "      <td>0.146569</td>\n",
       "      <td>0.269196</td>\n",
       "      <td>0.636431</td>\n",
       "      <td>0.764441</td>\n",
       "      <td>0.547155</td>\n",
       "      <td>0.751734</td>\n",
       "      <td>0.615370</td>\n",
       "    </tr>\n",
       "    <tr>\n",
       "      <th>1</th>\n",
       "      <td>0.026247</td>\n",
       "      <td>0.777710</td>\n",
       "      <td>0.727618</td>\n",
       "      <td>0.174345</td>\n",
       "      <td>0.783350</td>\n",
       "      <td>0.547656</td>\n",
       "      <td>0.192372</td>\n",
       "      <td>0.522254</td>\n",
       "      <td>0.474665</td>\n",
       "      <td>0.661990</td>\n",
       "      <td>...</td>\n",
       "      <td>0.589013</td>\n",
       "      <td>0.154890</td>\n",
       "      <td>0.394681</td>\n",
       "      <td>0.006433</td>\n",
       "      <td>0.714225</td>\n",
       "      <td>0.570565</td>\n",
       "      <td>0.052779</td>\n",
       "      <td>0.494836</td>\n",
       "      <td>0.727935</td>\n",
       "      <td>0.359981</td>\n",
       "    </tr>\n",
       "    <tr>\n",
       "      <th>2</th>\n",
       "      <td>0.741269</td>\n",
       "      <td>0.475639</td>\n",
       "      <td>0.535258</td>\n",
       "      <td>0.318427</td>\n",
       "      <td>0.042185</td>\n",
       "      <td>0.443363</td>\n",
       "      <td>0.113576</td>\n",
       "      <td>0.359677</td>\n",
       "      <td>0.132375</td>\n",
       "      <td>0.613005</td>\n",
       "      <td>...</td>\n",
       "      <td>0.461524</td>\n",
       "      <td>0.780487</td>\n",
       "      <td>0.343932</td>\n",
       "      <td>0.078966</td>\n",
       "      <td>0.161408</td>\n",
       "      <td>0.768595</td>\n",
       "      <td>0.148898</td>\n",
       "      <td>0.447557</td>\n",
       "      <td>0.113316</td>\n",
       "      <td>0.712289</td>\n",
       "    </tr>\n",
       "    <tr>\n",
       "      <th>3</th>\n",
       "      <td>0.309590</td>\n",
       "      <td>0.413043</td>\n",
       "      <td>0.760586</td>\n",
       "      <td>0.337405</td>\n",
       "      <td>0.187314</td>\n",
       "      <td>0.453058</td>\n",
       "      <td>0.005164</td>\n",
       "      <td>0.654569</td>\n",
       "      <td>0.069330</td>\n",
       "      <td>0.246968</td>\n",
       "      <td>...</td>\n",
       "      <td>0.470804</td>\n",
       "      <td>0.754506</td>\n",
       "      <td>0.137325</td>\n",
       "      <td>0.427699</td>\n",
       "      <td>0.649709</td>\n",
       "      <td>0.714464</td>\n",
       "      <td>0.739490</td>\n",
       "      <td>0.420131</td>\n",
       "      <td>0.783614</td>\n",
       "      <td>0.233120</td>\n",
       "    </tr>\n",
       "    <tr>\n",
       "      <th>4</th>\n",
       "      <td>0.226665</td>\n",
       "      <td>0.459657</td>\n",
       "      <td>0.724735</td>\n",
       "      <td>0.625734</td>\n",
       "      <td>0.682472</td>\n",
       "      <td>0.445498</td>\n",
       "      <td>0.310973</td>\n",
       "      <td>0.425443</td>\n",
       "      <td>0.210573</td>\n",
       "      <td>0.250640</td>\n",
       "      <td>...</td>\n",
       "      <td>0.726439</td>\n",
       "      <td>0.143724</td>\n",
       "      <td>0.623653</td>\n",
       "      <td>0.116794</td>\n",
       "      <td>0.720695</td>\n",
       "      <td>0.309004</td>\n",
       "      <td>0.726761</td>\n",
       "      <td>0.074754</td>\n",
       "      <td>0.231942</td>\n",
       "      <td>0.643629</td>\n",
       "    </tr>\n",
       "    <tr>\n",
       "      <th>5</th>\n",
       "      <td>0.483647</td>\n",
       "      <td>0.397827</td>\n",
       "      <td>0.757237</td>\n",
       "      <td>0.537623</td>\n",
       "      <td>0.692240</td>\n",
       "      <td>0.078793</td>\n",
       "      <td>0.180737</td>\n",
       "      <td>0.671182</td>\n",
       "      <td>0.726442</td>\n",
       "      <td>0.382313</td>\n",
       "      <td>...</td>\n",
       "      <td>0.142106</td>\n",
       "      <td>0.725432</td>\n",
       "      <td>0.254735</td>\n",
       "      <td>0.608080</td>\n",
       "      <td>0.721936</td>\n",
       "      <td>0.072492</td>\n",
       "      <td>0.148136</td>\n",
       "      <td>0.648778</td>\n",
       "      <td>0.481102</td>\n",
       "      <td>0.801699</td>\n",
       "    </tr>\n",
       "    <tr>\n",
       "      <th>6</th>\n",
       "      <td>0.171665</td>\n",
       "      <td>0.725443</td>\n",
       "      <td>0.756952</td>\n",
       "      <td>0.576212</td>\n",
       "      <td>0.313920</td>\n",
       "      <td>0.562318</td>\n",
       "      <td>0.174266</td>\n",
       "      <td>0.641076</td>\n",
       "      <td>0.087696</td>\n",
       "      <td>0.320634</td>\n",
       "      <td>...</td>\n",
       "      <td>0.656801</td>\n",
       "      <td>0.693083</td>\n",
       "      <td>0.699178</td>\n",
       "      <td>0.616190</td>\n",
       "      <td>0.698223</td>\n",
       "      <td>0.444083</td>\n",
       "      <td>0.765784</td>\n",
       "      <td>0.350687</td>\n",
       "      <td>0.012130</td>\n",
       "      <td>0.782536</td>\n",
       "    </tr>\n",
       "    <tr>\n",
       "      <th>7</th>\n",
       "      <td>0.282468</td>\n",
       "      <td>0.729422</td>\n",
       "      <td>0.050652</td>\n",
       "      <td>0.452118</td>\n",
       "      <td>0.760350</td>\n",
       "      <td>0.400795</td>\n",
       "      <td>0.662777</td>\n",
       "      <td>0.643205</td>\n",
       "      <td>0.682338</td>\n",
       "      <td>0.663864</td>\n",
       "      <td>...</td>\n",
       "      <td>0.734100</td>\n",
       "      <td>0.038884</td>\n",
       "      <td>0.142365</td>\n",
       "      <td>0.700432</td>\n",
       "      <td>0.446003</td>\n",
       "      <td>0.536135</td>\n",
       "      <td>0.743600</td>\n",
       "      <td>0.808876</td>\n",
       "      <td>0.726167</td>\n",
       "      <td>0.526324</td>\n",
       "    </tr>\n",
       "    <tr>\n",
       "      <th>8</th>\n",
       "      <td>0.372663</td>\n",
       "      <td>0.350829</td>\n",
       "      <td>0.178458</td>\n",
       "      <td>0.430433</td>\n",
       "      <td>0.731266</td>\n",
       "      <td>0.734120</td>\n",
       "      <td>0.495671</td>\n",
       "      <td>0.300123</td>\n",
       "      <td>0.625272</td>\n",
       "      <td>0.244124</td>\n",
       "      <td>...</td>\n",
       "      <td>0.618353</td>\n",
       "      <td>0.696289</td>\n",
       "      <td>0.679085</td>\n",
       "      <td>0.765858</td>\n",
       "      <td>0.297473</td>\n",
       "      <td>0.767526</td>\n",
       "      <td>0.021567</td>\n",
       "      <td>0.202459</td>\n",
       "      <td>0.442900</td>\n",
       "      <td>0.477612</td>\n",
       "    </tr>\n",
       "    <tr>\n",
       "      <th>9</th>\n",
       "      <td>0.555927</td>\n",
       "      <td>0.342302</td>\n",
       "      <td>0.756780</td>\n",
       "      <td>0.420759</td>\n",
       "      <td>0.012285</td>\n",
       "      <td>0.414052</td>\n",
       "      <td>0.680962</td>\n",
       "      <td>0.262546</td>\n",
       "      <td>0.793251</td>\n",
       "      <td>0.532256</td>\n",
       "      <td>...</td>\n",
       "      <td>0.412679</td>\n",
       "      <td>0.256963</td>\n",
       "      <td>0.715981</td>\n",
       "      <td>0.292861</td>\n",
       "      <td>0.367628</td>\n",
       "      <td>0.058629</td>\n",
       "      <td>0.720688</td>\n",
       "      <td>0.632897</td>\n",
       "      <td>0.182048</td>\n",
       "      <td>0.437299</td>\n",
       "    </tr>\n",
       "    <tr>\n",
       "      <th>10</th>\n",
       "      <td>0.572373</td>\n",
       "      <td>0.047878</td>\n",
       "      <td>0.734500</td>\n",
       "      <td>0.066400</td>\n",
       "      <td>0.716582</td>\n",
       "      <td>0.661545</td>\n",
       "      <td>0.744715</td>\n",
       "      <td>0.381803</td>\n",
       "      <td>0.682549</td>\n",
       "      <td>0.220062</td>\n",
       "      <td>...</td>\n",
       "      <td>0.199285</td>\n",
       "      <td>0.710518</td>\n",
       "      <td>0.753924</td>\n",
       "      <td>0.083090</td>\n",
       "      <td>0.488582</td>\n",
       "      <td>0.309720</td>\n",
       "      <td>0.268804</td>\n",
       "      <td>0.732258</td>\n",
       "      <td>0.405810</td>\n",
       "      <td>0.349610</td>\n",
       "    </tr>\n",
       "    <tr>\n",
       "      <th>11</th>\n",
       "      <td>0.539249</td>\n",
       "      <td>0.114779</td>\n",
       "      <td>0.166034</td>\n",
       "      <td>0.562779</td>\n",
       "      <td>0.215081</td>\n",
       "      <td>0.654257</td>\n",
       "      <td>0.182395</td>\n",
       "      <td>0.309616</td>\n",
       "      <td>0.734062</td>\n",
       "      <td>0.307116</td>\n",
       "      <td>...</td>\n",
       "      <td>0.102148</td>\n",
       "      <td>0.004702</td>\n",
       "      <td>0.650267</td>\n",
       "      <td>0.395357</td>\n",
       "      <td>0.746742</td>\n",
       "      <td>0.431008</td>\n",
       "      <td>0.727567</td>\n",
       "      <td>0.698094</td>\n",
       "      <td>0.169203</td>\n",
       "      <td>0.772639</td>\n",
       "    </tr>\n",
       "    <tr>\n",
       "      <th>12</th>\n",
       "      <td>0.509001</td>\n",
       "      <td>0.038452</td>\n",
       "      <td>0.760520</td>\n",
       "      <td>0.454248</td>\n",
       "      <td>0.763348</td>\n",
       "      <td>0.641580</td>\n",
       "      <td>0.055249</td>\n",
       "      <td>0.672978</td>\n",
       "      <td>0.760570</td>\n",
       "      <td>0.354546</td>\n",
       "      <td>...</td>\n",
       "      <td>0.194057</td>\n",
       "      <td>0.522221</td>\n",
       "      <td>0.422800</td>\n",
       "      <td>0.512741</td>\n",
       "      <td>0.390373</td>\n",
       "      <td>0.618254</td>\n",
       "      <td>0.001537</td>\n",
       "      <td>0.533464</td>\n",
       "      <td>0.176196</td>\n",
       "      <td>0.776605</td>\n",
       "    </tr>\n",
       "    <tr>\n",
       "      <th>13</th>\n",
       "      <td>0.437587</td>\n",
       "      <td>0.002628</td>\n",
       "      <td>0.716309</td>\n",
       "      <td>0.762623</td>\n",
       "      <td>0.002324</td>\n",
       "      <td>0.274520</td>\n",
       "      <td>0.421021</td>\n",
       "      <td>0.354354</td>\n",
       "      <td>0.036770</td>\n",
       "      <td>0.163197</td>\n",
       "      <td>...</td>\n",
       "      <td>0.736763</td>\n",
       "      <td>0.757100</td>\n",
       "      <td>0.253633</td>\n",
       "      <td>0.738582</td>\n",
       "      <td>0.249873</td>\n",
       "      <td>0.457972</td>\n",
       "      <td>0.528978</td>\n",
       "      <td>0.472656</td>\n",
       "      <td>0.378438</td>\n",
       "      <td>0.351028</td>\n",
       "    </tr>\n",
       "    <tr>\n",
       "      <th>14</th>\n",
       "      <td>0.406801</td>\n",
       "      <td>0.462022</td>\n",
       "      <td>0.014168</td>\n",
       "      <td>0.438993</td>\n",
       "      <td>0.413933</td>\n",
       "      <td>0.320899</td>\n",
       "      <td>0.602200</td>\n",
       "      <td>0.529459</td>\n",
       "      <td>0.201311</td>\n",
       "      <td>0.023007</td>\n",
       "      <td>...</td>\n",
       "      <td>0.136449</td>\n",
       "      <td>0.019482</td>\n",
       "      <td>0.343733</td>\n",
       "      <td>0.056677</td>\n",
       "      <td>0.038930</td>\n",
       "      <td>0.688307</td>\n",
       "      <td>0.726478</td>\n",
       "      <td>0.398928</td>\n",
       "      <td>0.622162</td>\n",
       "      <td>0.292786</td>\n",
       "    </tr>\n",
       "    <tr>\n",
       "      <th>15</th>\n",
       "      <td>0.042490</td>\n",
       "      <td>0.100820</td>\n",
       "      <td>0.796658</td>\n",
       "      <td>0.648967</td>\n",
       "      <td>0.775147</td>\n",
       "      <td>0.421790</td>\n",
       "      <td>0.720642</td>\n",
       "      <td>0.235366</td>\n",
       "      <td>0.702263</td>\n",
       "      <td>0.200989</td>\n",
       "      <td>...</td>\n",
       "      <td>0.746629</td>\n",
       "      <td>0.175855</td>\n",
       "      <td>0.409652</td>\n",
       "      <td>0.289425</td>\n",
       "      <td>0.231566</td>\n",
       "      <td>0.747212</td>\n",
       "      <td>0.010996</td>\n",
       "      <td>0.352361</td>\n",
       "      <td>0.613434</td>\n",
       "      <td>0.045202</td>\n",
       "    </tr>\n",
       "    <tr>\n",
       "      <th>16</th>\n",
       "      <td>0.541692</td>\n",
       "      <td>0.034060</td>\n",
       "      <td>0.215296</td>\n",
       "      <td>0.636761</td>\n",
       "      <td>0.123504</td>\n",
       "      <td>0.368609</td>\n",
       "      <td>0.078530</td>\n",
       "      <td>0.168006</td>\n",
       "      <td>0.696356</td>\n",
       "      <td>0.245143</td>\n",
       "      <td>...</td>\n",
       "      <td>0.555513</td>\n",
       "      <td>0.387081</td>\n",
       "      <td>0.697673</td>\n",
       "      <td>0.537353</td>\n",
       "      <td>0.101692</td>\n",
       "      <td>0.115013</td>\n",
       "      <td>0.169899</td>\n",
       "      <td>0.745125</td>\n",
       "      <td>0.530781</td>\n",
       "      <td>0.156854</td>\n",
       "    </tr>\n",
       "    <tr>\n",
       "      <th>17</th>\n",
       "      <td>0.535324</td>\n",
       "      <td>0.664023</td>\n",
       "      <td>0.743637</td>\n",
       "      <td>0.681465</td>\n",
       "      <td>0.235529</td>\n",
       "      <td>0.772846</td>\n",
       "      <td>0.267644</td>\n",
       "      <td>0.247566</td>\n",
       "      <td>0.374362</td>\n",
       "      <td>0.200887</td>\n",
       "      <td>...</td>\n",
       "      <td>0.750116</td>\n",
       "      <td>0.494843</td>\n",
       "      <td>0.411326</td>\n",
       "      <td>0.589076</td>\n",
       "      <td>0.006152</td>\n",
       "      <td>0.679216</td>\n",
       "      <td>0.325407</td>\n",
       "      <td>0.768536</td>\n",
       "      <td>0.519631</td>\n",
       "      <td>0.042564</td>\n",
       "    </tr>\n",
       "    <tr>\n",
       "      <th>18</th>\n",
       "      <td>0.768989</td>\n",
       "      <td>0.437079</td>\n",
       "      <td>0.000821</td>\n",
       "      <td>0.299294</td>\n",
       "      <td>0.342468</td>\n",
       "      <td>0.501408</td>\n",
       "      <td>0.410949</td>\n",
       "      <td>0.132720</td>\n",
       "      <td>0.745012</td>\n",
       "      <td>0.582043</td>\n",
       "      <td>...</td>\n",
       "      <td>0.281248</td>\n",
       "      <td>0.235331</td>\n",
       "      <td>0.227544</td>\n",
       "      <td>0.488250</td>\n",
       "      <td>0.095850</td>\n",
       "      <td>0.704080</td>\n",
       "      <td>0.436796</td>\n",
       "      <td>0.375578</td>\n",
       "      <td>0.440846</td>\n",
       "      <td>0.008188</td>\n",
       "    </tr>\n",
       "    <tr>\n",
       "      <th>19</th>\n",
       "      <td>0.338975</td>\n",
       "      <td>0.789469</td>\n",
       "      <td>0.484018</td>\n",
       "      <td>0.384746</td>\n",
       "      <td>0.284975</td>\n",
       "      <td>0.476123</td>\n",
       "      <td>0.629688</td>\n",
       "      <td>0.020891</td>\n",
       "      <td>0.709217</td>\n",
       "      <td>0.567177</td>\n",
       "      <td>...</td>\n",
       "      <td>0.784166</td>\n",
       "      <td>0.127708</td>\n",
       "      <td>0.068393</td>\n",
       "      <td>0.627367</td>\n",
       "      <td>0.357486</td>\n",
       "      <td>0.667531</td>\n",
       "      <td>0.266622</td>\n",
       "      <td>0.280951</td>\n",
       "      <td>0.402694</td>\n",
       "      <td>0.371588</td>\n",
       "    </tr>\n",
       "    <tr>\n",
       "      <th>20</th>\n",
       "      <td>0.666553</td>\n",
       "      <td>0.745876</td>\n",
       "      <td>0.712484</td>\n",
       "      <td>0.410353</td>\n",
       "      <td>0.588993</td>\n",
       "      <td>0.265208</td>\n",
       "      <td>0.664220</td>\n",
       "      <td>0.277888</td>\n",
       "      <td>0.024561</td>\n",
       "      <td>0.669517</td>\n",
       "      <td>...</td>\n",
       "      <td>0.754132</td>\n",
       "      <td>0.600999</td>\n",
       "      <td>0.303108</td>\n",
       "      <td>0.729278</td>\n",
       "      <td>0.107102</td>\n",
       "      <td>0.431200</td>\n",
       "      <td>0.074940</td>\n",
       "      <td>0.040677</td>\n",
       "      <td>0.048553</td>\n",
       "      <td>0.120237</td>\n",
       "    </tr>\n",
       "  </tbody>\n",
       "</table>\n",
       "<p>21 rows × 44 columns</p>\n",
       "</div>"
      ],
      "text/plain": [
       "          0         1         3         5         8         10        11  \\\n",
       "0   0.398971  0.740750  0.115708  0.356516  0.651063  0.518578  0.095253   \n",
       "1   0.026247  0.777710  0.727618  0.174345  0.783350  0.547656  0.192372   \n",
       "2   0.741269  0.475639  0.535258  0.318427  0.042185  0.443363  0.113576   \n",
       "3   0.309590  0.413043  0.760586  0.337405  0.187314  0.453058  0.005164   \n",
       "4   0.226665  0.459657  0.724735  0.625734  0.682472  0.445498  0.310973   \n",
       "5   0.483647  0.397827  0.757237  0.537623  0.692240  0.078793  0.180737   \n",
       "6   0.171665  0.725443  0.756952  0.576212  0.313920  0.562318  0.174266   \n",
       "7   0.282468  0.729422  0.050652  0.452118  0.760350  0.400795  0.662777   \n",
       "8   0.372663  0.350829  0.178458  0.430433  0.731266  0.734120  0.495671   \n",
       "9   0.555927  0.342302  0.756780  0.420759  0.012285  0.414052  0.680962   \n",
       "10  0.572373  0.047878  0.734500  0.066400  0.716582  0.661545  0.744715   \n",
       "11  0.539249  0.114779  0.166034  0.562779  0.215081  0.654257  0.182395   \n",
       "12  0.509001  0.038452  0.760520  0.454248  0.763348  0.641580  0.055249   \n",
       "13  0.437587  0.002628  0.716309  0.762623  0.002324  0.274520  0.421021   \n",
       "14  0.406801  0.462022  0.014168  0.438993  0.413933  0.320899  0.602200   \n",
       "15  0.042490  0.100820  0.796658  0.648967  0.775147  0.421790  0.720642   \n",
       "16  0.541692  0.034060  0.215296  0.636761  0.123504  0.368609  0.078530   \n",
       "17  0.535324  0.664023  0.743637  0.681465  0.235529  0.772846  0.267644   \n",
       "18  0.768989  0.437079  0.000821  0.299294  0.342468  0.501408  0.410949   \n",
       "19  0.338975  0.789469  0.484018  0.384746  0.284975  0.476123  0.629688   \n",
       "20  0.666553  0.745876  0.712484  0.410353  0.588993  0.265208  0.664220   \n",
       "\n",
       "          15        17        20  ...        69        70        72        73  \\\n",
       "0   0.109241  0.656468  0.649434  ...  0.547596  0.037883  0.440939  0.146569   \n",
       "1   0.522254  0.474665  0.661990  ...  0.589013  0.154890  0.394681  0.006433   \n",
       "2   0.359677  0.132375  0.613005  ...  0.461524  0.780487  0.343932  0.078966   \n",
       "3   0.654569  0.069330  0.246968  ...  0.470804  0.754506  0.137325  0.427699   \n",
       "4   0.425443  0.210573  0.250640  ...  0.726439  0.143724  0.623653  0.116794   \n",
       "5   0.671182  0.726442  0.382313  ...  0.142106  0.725432  0.254735  0.608080   \n",
       "6   0.641076  0.087696  0.320634  ...  0.656801  0.693083  0.699178  0.616190   \n",
       "7   0.643205  0.682338  0.663864  ...  0.734100  0.038884  0.142365  0.700432   \n",
       "8   0.300123  0.625272  0.244124  ...  0.618353  0.696289  0.679085  0.765858   \n",
       "9   0.262546  0.793251  0.532256  ...  0.412679  0.256963  0.715981  0.292861   \n",
       "10  0.381803  0.682549  0.220062  ...  0.199285  0.710518  0.753924  0.083090   \n",
       "11  0.309616  0.734062  0.307116  ...  0.102148  0.004702  0.650267  0.395357   \n",
       "12  0.672978  0.760570  0.354546  ...  0.194057  0.522221  0.422800  0.512741   \n",
       "13  0.354354  0.036770  0.163197  ...  0.736763  0.757100  0.253633  0.738582   \n",
       "14  0.529459  0.201311  0.023007  ...  0.136449  0.019482  0.343733  0.056677   \n",
       "15  0.235366  0.702263  0.200989  ...  0.746629  0.175855  0.409652  0.289425   \n",
       "16  0.168006  0.696356  0.245143  ...  0.555513  0.387081  0.697673  0.537353   \n",
       "17  0.247566  0.374362  0.200887  ...  0.750116  0.494843  0.411326  0.589076   \n",
       "18  0.132720  0.745012  0.582043  ...  0.281248  0.235331  0.227544  0.488250   \n",
       "19  0.020891  0.709217  0.567177  ...  0.784166  0.127708  0.068393  0.627367   \n",
       "20  0.277888  0.024561  0.669517  ...  0.754132  0.600999  0.303108  0.729278   \n",
       "\n",
       "          77        78        89        91        95        96  \n",
       "0   0.269196  0.636431  0.764441  0.547155  0.751734  0.615370  \n",
       "1   0.714225  0.570565  0.052779  0.494836  0.727935  0.359981  \n",
       "2   0.161408  0.768595  0.148898  0.447557  0.113316  0.712289  \n",
       "3   0.649709  0.714464  0.739490  0.420131  0.783614  0.233120  \n",
       "4   0.720695  0.309004  0.726761  0.074754  0.231942  0.643629  \n",
       "5   0.721936  0.072492  0.148136  0.648778  0.481102  0.801699  \n",
       "6   0.698223  0.444083  0.765784  0.350687  0.012130  0.782536  \n",
       "7   0.446003  0.536135  0.743600  0.808876  0.726167  0.526324  \n",
       "8   0.297473  0.767526  0.021567  0.202459  0.442900  0.477612  \n",
       "9   0.367628  0.058629  0.720688  0.632897  0.182048  0.437299  \n",
       "10  0.488582  0.309720  0.268804  0.732258  0.405810  0.349610  \n",
       "11  0.746742  0.431008  0.727567  0.698094  0.169203  0.772639  \n",
       "12  0.390373  0.618254  0.001537  0.533464  0.176196  0.776605  \n",
       "13  0.249873  0.457972  0.528978  0.472656  0.378438  0.351028  \n",
       "14  0.038930  0.688307  0.726478  0.398928  0.622162  0.292786  \n",
       "15  0.231566  0.747212  0.010996  0.352361  0.613434  0.045202  \n",
       "16  0.101692  0.115013  0.169899  0.745125  0.530781  0.156854  \n",
       "17  0.006152  0.679216  0.325407  0.768536  0.519631  0.042564  \n",
       "18  0.095850  0.704080  0.436796  0.375578  0.440846  0.008188  \n",
       "19  0.357486  0.667531  0.266622  0.280951  0.402694  0.371588  \n",
       "20  0.107102  0.431200  0.074940  0.040677  0.048553  0.120237  \n",
       "\n",
       "[21 rows x 44 columns]"
      ]
     },
     "execution_count": 346,
     "metadata": {},
     "output_type": "execute_result"
    }
   ],
   "source": [
    "r[parent_idx].head(NUM_TIME_STEPS)"
   ]
  },
  {
   "cell_type": "code",
   "execution_count": 347,
   "metadata": {},
   "outputs": [
    {
     "data": {
      "text/html": [
       "<div>\n",
       "<style scoped>\n",
       "    .dataframe tbody tr th:only-of-type {\n",
       "        vertical-align: middle;\n",
       "    }\n",
       "\n",
       "    .dataframe tbody tr th {\n",
       "        vertical-align: top;\n",
       "    }\n",
       "\n",
       "    .dataframe thead th {\n",
       "        text-align: right;\n",
       "    }\n",
       "</style>\n",
       "<table border=\"1\" class=\"dataframe\">\n",
       "  <thead>\n",
       "    <tr style=\"text-align: right;\">\n",
       "      <th></th>\n",
       "      <th>0</th>\n",
       "      <th>1</th>\n",
       "      <th>3</th>\n",
       "      <th>5</th>\n",
       "      <th>8</th>\n",
       "      <th>10</th>\n",
       "      <th>11</th>\n",
       "      <th>15</th>\n",
       "      <th>17</th>\n",
       "      <th>20</th>\n",
       "      <th>...</th>\n",
       "      <th>69</th>\n",
       "      <th>70</th>\n",
       "      <th>72</th>\n",
       "      <th>73</th>\n",
       "      <th>77</th>\n",
       "      <th>78</th>\n",
       "      <th>89</th>\n",
       "      <th>91</th>\n",
       "      <th>95</th>\n",
       "      <th>96</th>\n",
       "    </tr>\n",
       "  </thead>\n",
       "  <tbody>\n",
       "    <tr>\n",
       "      <th>0</th>\n",
       "      <td>0.545935</td>\n",
       "      <td>0.710499</td>\n",
       "      <td>0.058659</td>\n",
       "      <td>0.588553</td>\n",
       "      <td>0.831615</td>\n",
       "      <td>0.323658</td>\n",
       "      <td>0.267087</td>\n",
       "      <td>0.352055</td>\n",
       "      <td>0.628495</td>\n",
       "      <td>0.669252</td>\n",
       "      <td>...</td>\n",
       "      <td>0.490508</td>\n",
       "      <td>0.048563</td>\n",
       "      <td>0.562395</td>\n",
       "      <td>0.048150</td>\n",
       "      <td>0.248270</td>\n",
       "      <td>0.457813</td>\n",
       "      <td>0.724047</td>\n",
       "      <td>0.513204</td>\n",
       "      <td>0.791651</td>\n",
       "      <td>0.710363</td>\n",
       "    </tr>\n",
       "    <tr>\n",
       "      <th>1</th>\n",
       "      <td>0.002295</td>\n",
       "      <td>0.774138</td>\n",
       "      <td>0.748341</td>\n",
       "      <td>0.063697</td>\n",
       "      <td>0.713917</td>\n",
       "      <td>0.579350</td>\n",
       "      <td>0.375271</td>\n",
       "      <td>0.668673</td>\n",
       "      <td>0.399944</td>\n",
       "      <td>0.723785</td>\n",
       "      <td>...</td>\n",
       "      <td>0.608680</td>\n",
       "      <td>0.105620</td>\n",
       "      <td>0.432599</td>\n",
       "      <td>0.030994</td>\n",
       "      <td>0.637907</td>\n",
       "      <td>0.636979</td>\n",
       "      <td>0.093989</td>\n",
       "      <td>0.526851</td>\n",
       "      <td>0.721745</td>\n",
       "      <td>0.213651</td>\n",
       "    </tr>\n",
       "    <tr>\n",
       "      <th>2</th>\n",
       "      <td>0.720857</td>\n",
       "      <td>0.521267</td>\n",
       "      <td>0.594255</td>\n",
       "      <td>0.353715</td>\n",
       "      <td>0.046395</td>\n",
       "      <td>0.568129</td>\n",
       "      <td>0.142312</td>\n",
       "      <td>0.646255</td>\n",
       "      <td>0.243883</td>\n",
       "      <td>0.697401</td>\n",
       "      <td>...</td>\n",
       "      <td>0.469746</td>\n",
       "      <td>0.832928</td>\n",
       "      <td>0.316885</td>\n",
       "      <td>0.038244</td>\n",
       "      <td>0.124473</td>\n",
       "      <td>0.742598</td>\n",
       "      <td>0.091027</td>\n",
       "      <td>0.442666</td>\n",
       "      <td>0.123389</td>\n",
       "      <td>0.740694</td>\n",
       "    </tr>\n",
       "    <tr>\n",
       "      <th>3</th>\n",
       "      <td>0.425302</td>\n",
       "      <td>0.403147</td>\n",
       "      <td>0.745029</td>\n",
       "      <td>0.234416</td>\n",
       "      <td>0.130294</td>\n",
       "      <td>0.271903</td>\n",
       "      <td>0.013771</td>\n",
       "      <td>0.378277</td>\n",
       "      <td>0.000276</td>\n",
       "      <td>0.599330</td>\n",
       "      <td>...</td>\n",
       "      <td>0.634352</td>\n",
       "      <td>0.841279</td>\n",
       "      <td>0.049521</td>\n",
       "      <td>0.519893</td>\n",
       "      <td>0.603999</td>\n",
       "      <td>0.759624</td>\n",
       "      <td>0.928964</td>\n",
       "      <td>0.405382</td>\n",
       "      <td>0.663669</td>\n",
       "      <td>0.136052</td>\n",
       "    </tr>\n",
       "    <tr>\n",
       "      <th>4</th>\n",
       "      <td>0.181461</td>\n",
       "      <td>0.406657</td>\n",
       "      <td>0.696296</td>\n",
       "      <td>0.666926</td>\n",
       "      <td>0.778466</td>\n",
       "      <td>0.426579</td>\n",
       "      <td>0.356004</td>\n",
       "      <td>0.249753</td>\n",
       "      <td>0.053294</td>\n",
       "      <td>0.371119</td>\n",
       "      <td>...</td>\n",
       "      <td>0.728466</td>\n",
       "      <td>0.117193</td>\n",
       "      <td>0.719235</td>\n",
       "      <td>0.373022</td>\n",
       "      <td>0.855277</td>\n",
       "      <td>0.274801</td>\n",
       "      <td>0.655715</td>\n",
       "      <td>0.050410</td>\n",
       "      <td>0.264788</td>\n",
       "      <td>0.709345</td>\n",
       "    </tr>\n",
       "    <tr>\n",
       "      <th>5</th>\n",
       "      <td>0.516971</td>\n",
       "      <td>0.387804</td>\n",
       "      <td>0.812243</td>\n",
       "      <td>0.473849</td>\n",
       "      <td>0.786581</td>\n",
       "      <td>0.290306</td>\n",
       "      <td>0.124410</td>\n",
       "      <td>0.674130</td>\n",
       "      <td>0.770969</td>\n",
       "      <td>0.223658</td>\n",
       "      <td>...</td>\n",
       "      <td>0.021516</td>\n",
       "      <td>0.649750</td>\n",
       "      <td>0.186001</td>\n",
       "      <td>0.348463</td>\n",
       "      <td>0.779899</td>\n",
       "      <td>0.070124</td>\n",
       "      <td>0.069014</td>\n",
       "      <td>0.608809</td>\n",
       "      <td>0.562556</td>\n",
       "      <td>0.891655</td>\n",
       "    </tr>\n",
       "    <tr>\n",
       "      <th>6</th>\n",
       "      <td>0.140023</td>\n",
       "      <td>0.881335</td>\n",
       "      <td>0.835485</td>\n",
       "      <td>0.473360</td>\n",
       "      <td>0.138935</td>\n",
       "      <td>0.709329</td>\n",
       "      <td>0.062261</td>\n",
       "      <td>0.837304</td>\n",
       "      <td>0.130243</td>\n",
       "      <td>0.316641</td>\n",
       "      <td>...</td>\n",
       "      <td>0.792994</td>\n",
       "      <td>0.612798</td>\n",
       "      <td>0.742600</td>\n",
       "      <td>0.706865</td>\n",
       "      <td>0.805729</td>\n",
       "      <td>0.386813</td>\n",
       "      <td>0.836880</td>\n",
       "      <td>0.135903</td>\n",
       "      <td>0.013958</td>\n",
       "      <td>0.772159</td>\n",
       "    </tr>\n",
       "    <tr>\n",
       "      <th>7</th>\n",
       "      <td>0.219431</td>\n",
       "      <td>0.631697</td>\n",
       "      <td>0.059102</td>\n",
       "      <td>0.471136</td>\n",
       "      <td>0.688079</td>\n",
       "      <td>0.548993</td>\n",
       "      <td>0.648257</td>\n",
       "      <td>0.728391</td>\n",
       "      <td>0.715469</td>\n",
       "      <td>0.782193</td>\n",
       "      <td>...</td>\n",
       "      <td>0.790416</td>\n",
       "      <td>0.044160</td>\n",
       "      <td>0.108675</td>\n",
       "      <td>0.616817</td>\n",
       "      <td>0.530485</td>\n",
       "      <td>0.200352</td>\n",
       "      <td>0.760734</td>\n",
       "      <td>0.709719</td>\n",
       "      <td>0.661783</td>\n",
       "      <td>0.562500</td>\n",
       "    </tr>\n",
       "    <tr>\n",
       "      <th>8</th>\n",
       "      <td>0.446110</td>\n",
       "      <td>0.399715</td>\n",
       "      <td>0.106542</td>\n",
       "      <td>0.356221</td>\n",
       "      <td>0.684663</td>\n",
       "      <td>0.425813</td>\n",
       "      <td>0.426960</td>\n",
       "      <td>0.544846</td>\n",
       "      <td>0.635056</td>\n",
       "      <td>0.195971</td>\n",
       "      <td>...</td>\n",
       "      <td>0.609426</td>\n",
       "      <td>0.636623</td>\n",
       "      <td>0.625355</td>\n",
       "      <td>0.745148</td>\n",
       "      <td>0.201149</td>\n",
       "      <td>0.794848</td>\n",
       "      <td>0.012554</td>\n",
       "      <td>0.136630</td>\n",
       "      <td>0.530138</td>\n",
       "      <td>0.449112</td>\n",
       "    </tr>\n",
       "    <tr>\n",
       "      <th>9</th>\n",
       "      <td>0.570948</td>\n",
       "      <td>0.367740</td>\n",
       "      <td>0.690139</td>\n",
       "      <td>0.467342</td>\n",
       "      <td>0.008589</td>\n",
       "      <td>0.304939</td>\n",
       "      <td>0.782875</td>\n",
       "      <td>0.476357</td>\n",
       "      <td>0.610842</td>\n",
       "      <td>0.463090</td>\n",
       "      <td>...</td>\n",
       "      <td>0.466304</td>\n",
       "      <td>0.253049</td>\n",
       "      <td>0.753969</td>\n",
       "      <td>0.343970</td>\n",
       "      <td>0.250113</td>\n",
       "      <td>0.171039</td>\n",
       "      <td>0.729050</td>\n",
       "      <td>0.734968</td>\n",
       "      <td>0.216110</td>\n",
       "      <td>0.388177</td>\n",
       "    </tr>\n",
       "    <tr>\n",
       "      <th>10</th>\n",
       "      <td>0.612850</td>\n",
       "      <td>0.043335</td>\n",
       "      <td>0.799320</td>\n",
       "      <td>0.212413</td>\n",
       "      <td>0.758786</td>\n",
       "      <td>0.604538</td>\n",
       "      <td>0.061930</td>\n",
       "      <td>0.362897</td>\n",
       "      <td>0.503983</td>\n",
       "      <td>0.173322</td>\n",
       "      <td>...</td>\n",
       "      <td>0.177417</td>\n",
       "      <td>0.809263</td>\n",
       "      <td>0.819209</td>\n",
       "      <td>0.077181</td>\n",
       "      <td>0.396809</td>\n",
       "      <td>0.290151</td>\n",
       "      <td>0.242786</td>\n",
       "      <td>0.810082</td>\n",
       "      <td>0.444713</td>\n",
       "      <td>0.275344</td>\n",
       "    </tr>\n",
       "    <tr>\n",
       "      <th>11</th>\n",
       "      <td>0.472587</td>\n",
       "      <td>0.112499</td>\n",
       "      <td>0.147533</td>\n",
       "      <td>0.587378</td>\n",
       "      <td>0.145305</td>\n",
       "      <td>0.764467</td>\n",
       "      <td>0.376875</td>\n",
       "      <td>0.429557</td>\n",
       "      <td>0.645686</td>\n",
       "      <td>0.727817</td>\n",
       "      <td>...</td>\n",
       "      <td>0.102071</td>\n",
       "      <td>0.000410</td>\n",
       "      <td>0.768036</td>\n",
       "      <td>0.408279</td>\n",
       "      <td>0.836257</td>\n",
       "      <td>0.481287</td>\n",
       "      <td>0.796801</td>\n",
       "      <td>0.691460</td>\n",
       "      <td>0.216859</td>\n",
       "      <td>0.690986</td>\n",
       "    </tr>\n",
       "    <tr>\n",
       "      <th>12</th>\n",
       "      <td>0.575341</td>\n",
       "      <td>0.051860</td>\n",
       "      <td>0.874703</td>\n",
       "      <td>0.530503</td>\n",
       "      <td>0.748064</td>\n",
       "      <td>0.672810</td>\n",
       "      <td>0.099915</td>\n",
       "      <td>0.808678</td>\n",
       "      <td>0.750717</td>\n",
       "      <td>0.542668</td>\n",
       "      <td>...</td>\n",
       "      <td>0.087242</td>\n",
       "      <td>0.563315</td>\n",
       "      <td>0.406171</td>\n",
       "      <td>0.083812</td>\n",
       "      <td>0.297220</td>\n",
       "      <td>0.547868</td>\n",
       "      <td>0.000089</td>\n",
       "      <td>0.444105</td>\n",
       "      <td>0.187957</td>\n",
       "      <td>0.777669</td>\n",
       "    </tr>\n",
       "    <tr>\n",
       "      <th>13</th>\n",
       "      <td>0.387985</td>\n",
       "      <td>0.001787</td>\n",
       "      <td>0.819897</td>\n",
       "      <td>0.472206</td>\n",
       "      <td>0.000000</td>\n",
       "      <td>0.659435</td>\n",
       "      <td>0.322895</td>\n",
       "      <td>0.105168</td>\n",
       "      <td>0.074444</td>\n",
       "      <td>0.161643</td>\n",
       "      <td>...</td>\n",
       "      <td>0.820554</td>\n",
       "      <td>0.780775</td>\n",
       "      <td>0.136929</td>\n",
       "      <td>0.798204</td>\n",
       "      <td>0.293134</td>\n",
       "      <td>0.472948</td>\n",
       "      <td>0.496822</td>\n",
       "      <td>0.460656</td>\n",
       "      <td>0.388906</td>\n",
       "      <td>0.329319</td>\n",
       "    </tr>\n",
       "    <tr>\n",
       "      <th>14</th>\n",
       "      <td>0.444810</td>\n",
       "      <td>0.530821</td>\n",
       "      <td>0.006030</td>\n",
       "      <td>0.331551</td>\n",
       "      <td>0.227097</td>\n",
       "      <td>0.445267</td>\n",
       "      <td>0.658474</td>\n",
       "      <td>0.671307</td>\n",
       "      <td>0.221946</td>\n",
       "      <td>0.045210</td>\n",
       "      <td>...</td>\n",
       "      <td>0.202579</td>\n",
       "      <td>0.014859</td>\n",
       "      <td>0.346303</td>\n",
       "      <td>0.176701</td>\n",
       "      <td>0.048348</td>\n",
       "      <td>0.810157</td>\n",
       "      <td>0.712413</td>\n",
       "      <td>0.430644</td>\n",
       "      <td>0.825101</td>\n",
       "      <td>0.477136</td>\n",
       "    </tr>\n",
       "    <tr>\n",
       "      <th>15</th>\n",
       "      <td>0.071920</td>\n",
       "      <td>0.125657</td>\n",
       "      <td>0.769982</td>\n",
       "      <td>0.568478</td>\n",
       "      <td>0.652993</td>\n",
       "      <td>0.396761</td>\n",
       "      <td>0.831029</td>\n",
       "      <td>0.163638</td>\n",
       "      <td>0.735905</td>\n",
       "      <td>0.212159</td>\n",
       "      <td>...</td>\n",
       "      <td>0.820543</td>\n",
       "      <td>0.235810</td>\n",
       "      <td>0.065015</td>\n",
       "      <td>0.217821</td>\n",
       "      <td>0.224852</td>\n",
       "      <td>0.812744</td>\n",
       "      <td>0.020698</td>\n",
       "      <td>0.242219</td>\n",
       "      <td>0.559762</td>\n",
       "      <td>0.053065</td>\n",
       "    </tr>\n",
       "    <tr>\n",
       "      <th>16</th>\n",
       "      <td>0.589822</td>\n",
       "      <td>0.054164</td>\n",
       "      <td>0.294605</td>\n",
       "      <td>0.808413</td>\n",
       "      <td>0.289851</td>\n",
       "      <td>0.344880</td>\n",
       "      <td>0.037597</td>\n",
       "      <td>0.512259</td>\n",
       "      <td>0.753580</td>\n",
       "      <td>0.381180</td>\n",
       "      <td>...</td>\n",
       "      <td>0.634862</td>\n",
       "      <td>0.484191</td>\n",
       "      <td>0.778120</td>\n",
       "      <td>0.576853</td>\n",
       "      <td>0.060998</td>\n",
       "      <td>0.032521</td>\n",
       "      <td>0.111744</td>\n",
       "      <td>0.653751</td>\n",
       "      <td>0.511977</td>\n",
       "      <td>0.131589</td>\n",
       "    </tr>\n",
       "    <tr>\n",
       "      <th>17</th>\n",
       "      <td>0.487102</td>\n",
       "      <td>0.718181</td>\n",
       "      <td>0.759086</td>\n",
       "      <td>0.675049</td>\n",
       "      <td>0.380948</td>\n",
       "      <td>0.846572</td>\n",
       "      <td>0.439949</td>\n",
       "      <td>0.543917</td>\n",
       "      <td>0.124934</td>\n",
       "      <td>0.077576</td>\n",
       "      <td>...</td>\n",
       "      <td>0.655932</td>\n",
       "      <td>0.441108</td>\n",
       "      <td>0.411750</td>\n",
       "      <td>0.604416</td>\n",
       "      <td>0.006164</td>\n",
       "      <td>0.885014</td>\n",
       "      <td>0.418976</td>\n",
       "      <td>0.766491</td>\n",
       "      <td>0.415451</td>\n",
       "      <td>0.122167</td>\n",
       "    </tr>\n",
       "    <tr>\n",
       "      <th>18</th>\n",
       "      <td>0.786496</td>\n",
       "      <td>0.395107</td>\n",
       "      <td>0.000906</td>\n",
       "      <td>0.702330</td>\n",
       "      <td>0.348736</td>\n",
       "      <td>0.192456</td>\n",
       "      <td>0.388598</td>\n",
       "      <td>0.181790</td>\n",
       "      <td>0.676717</td>\n",
       "      <td>0.713024</td>\n",
       "      <td>...</td>\n",
       "      <td>0.408183</td>\n",
       "      <td>0.254017</td>\n",
       "      <td>0.299166</td>\n",
       "      <td>0.457826</td>\n",
       "      <td>0.112920</td>\n",
       "      <td>0.702232</td>\n",
       "      <td>0.381068</td>\n",
       "      <td>0.353373</td>\n",
       "      <td>0.437052</td>\n",
       "      <td>0.005946</td>\n",
       "    </tr>\n",
       "    <tr>\n",
       "      <th>19</th>\n",
       "      <td>0.322503</td>\n",
       "      <td>0.723853</td>\n",
       "      <td>0.582744</td>\n",
       "      <td>0.402657</td>\n",
       "      <td>0.314831</td>\n",
       "      <td>0.679070</td>\n",
       "      <td>0.691453</td>\n",
       "      <td>0.035198</td>\n",
       "      <td>0.771963</td>\n",
       "      <td>0.489198</td>\n",
       "      <td>...</td>\n",
       "      <td>0.818958</td>\n",
       "      <td>0.280858</td>\n",
       "      <td>0.078726</td>\n",
       "      <td>0.751250</td>\n",
       "      <td>0.396570</td>\n",
       "      <td>0.579331</td>\n",
       "      <td>0.311870</td>\n",
       "      <td>0.341459</td>\n",
       "      <td>0.363255</td>\n",
       "      <td>0.407712</td>\n",
       "    </tr>\n",
       "    <tr>\n",
       "      <th>20</th>\n",
       "      <td>0.744522</td>\n",
       "      <td>0.943255</td>\n",
       "      <td>0.732936</td>\n",
       "      <td>0.397100</td>\n",
       "      <td>0.636727</td>\n",
       "      <td>0.217574</td>\n",
       "      <td>0.589897</td>\n",
       "      <td>0.214106</td>\n",
       "      <td>0.054054</td>\n",
       "      <td>0.948536</td>\n",
       "      <td>...</td>\n",
       "      <td>0.745461</td>\n",
       "      <td>0.366174</td>\n",
       "      <td>0.206591</td>\n",
       "      <td>0.755292</td>\n",
       "      <td>0.267139</td>\n",
       "      <td>0.376839</td>\n",
       "      <td>0.117516</td>\n",
       "      <td>0.045751</td>\n",
       "      <td>0.053857</td>\n",
       "      <td>0.092888</td>\n",
       "    </tr>\n",
       "  </tbody>\n",
       "</table>\n",
       "<p>21 rows × 44 columns</p>\n",
       "</div>"
      ],
      "text/plain": [
       "          0         1         3         5         8         10        11  \\\n",
       "0   0.545935  0.710499  0.058659  0.588553  0.831615  0.323658  0.267087   \n",
       "1   0.002295  0.774138  0.748341  0.063697  0.713917  0.579350  0.375271   \n",
       "2   0.720857  0.521267  0.594255  0.353715  0.046395  0.568129  0.142312   \n",
       "3   0.425302  0.403147  0.745029  0.234416  0.130294  0.271903  0.013771   \n",
       "4   0.181461  0.406657  0.696296  0.666926  0.778466  0.426579  0.356004   \n",
       "5   0.516971  0.387804  0.812243  0.473849  0.786581  0.290306  0.124410   \n",
       "6   0.140023  0.881335  0.835485  0.473360  0.138935  0.709329  0.062261   \n",
       "7   0.219431  0.631697  0.059102  0.471136  0.688079  0.548993  0.648257   \n",
       "8   0.446110  0.399715  0.106542  0.356221  0.684663  0.425813  0.426960   \n",
       "9   0.570948  0.367740  0.690139  0.467342  0.008589  0.304939  0.782875   \n",
       "10  0.612850  0.043335  0.799320  0.212413  0.758786  0.604538  0.061930   \n",
       "11  0.472587  0.112499  0.147533  0.587378  0.145305  0.764467  0.376875   \n",
       "12  0.575341  0.051860  0.874703  0.530503  0.748064  0.672810  0.099915   \n",
       "13  0.387985  0.001787  0.819897  0.472206  0.000000  0.659435  0.322895   \n",
       "14  0.444810  0.530821  0.006030  0.331551  0.227097  0.445267  0.658474   \n",
       "15  0.071920  0.125657  0.769982  0.568478  0.652993  0.396761  0.831029   \n",
       "16  0.589822  0.054164  0.294605  0.808413  0.289851  0.344880  0.037597   \n",
       "17  0.487102  0.718181  0.759086  0.675049  0.380948  0.846572  0.439949   \n",
       "18  0.786496  0.395107  0.000906  0.702330  0.348736  0.192456  0.388598   \n",
       "19  0.322503  0.723853  0.582744  0.402657  0.314831  0.679070  0.691453   \n",
       "20  0.744522  0.943255  0.732936  0.397100  0.636727  0.217574  0.589897   \n",
       "\n",
       "          15        17        20  ...        69        70        72        73  \\\n",
       "0   0.352055  0.628495  0.669252  ...  0.490508  0.048563  0.562395  0.048150   \n",
       "1   0.668673  0.399944  0.723785  ...  0.608680  0.105620  0.432599  0.030994   \n",
       "2   0.646255  0.243883  0.697401  ...  0.469746  0.832928  0.316885  0.038244   \n",
       "3   0.378277  0.000276  0.599330  ...  0.634352  0.841279  0.049521  0.519893   \n",
       "4   0.249753  0.053294  0.371119  ...  0.728466  0.117193  0.719235  0.373022   \n",
       "5   0.674130  0.770969  0.223658  ...  0.021516  0.649750  0.186001  0.348463   \n",
       "6   0.837304  0.130243  0.316641  ...  0.792994  0.612798  0.742600  0.706865   \n",
       "7   0.728391  0.715469  0.782193  ...  0.790416  0.044160  0.108675  0.616817   \n",
       "8   0.544846  0.635056  0.195971  ...  0.609426  0.636623  0.625355  0.745148   \n",
       "9   0.476357  0.610842  0.463090  ...  0.466304  0.253049  0.753969  0.343970   \n",
       "10  0.362897  0.503983  0.173322  ...  0.177417  0.809263  0.819209  0.077181   \n",
       "11  0.429557  0.645686  0.727817  ...  0.102071  0.000410  0.768036  0.408279   \n",
       "12  0.808678  0.750717  0.542668  ...  0.087242  0.563315  0.406171  0.083812   \n",
       "13  0.105168  0.074444  0.161643  ...  0.820554  0.780775  0.136929  0.798204   \n",
       "14  0.671307  0.221946  0.045210  ...  0.202579  0.014859  0.346303  0.176701   \n",
       "15  0.163638  0.735905  0.212159  ...  0.820543  0.235810  0.065015  0.217821   \n",
       "16  0.512259  0.753580  0.381180  ...  0.634862  0.484191  0.778120  0.576853   \n",
       "17  0.543917  0.124934  0.077576  ...  0.655932  0.441108  0.411750  0.604416   \n",
       "18  0.181790  0.676717  0.713024  ...  0.408183  0.254017  0.299166  0.457826   \n",
       "19  0.035198  0.771963  0.489198  ...  0.818958  0.280858  0.078726  0.751250   \n",
       "20  0.214106  0.054054  0.948536  ...  0.745461  0.366174  0.206591  0.755292   \n",
       "\n",
       "          77        78        89        91        95        96  \n",
       "0   0.248270  0.457813  0.724047  0.513204  0.791651  0.710363  \n",
       "1   0.637907  0.636979  0.093989  0.526851  0.721745  0.213651  \n",
       "2   0.124473  0.742598  0.091027  0.442666  0.123389  0.740694  \n",
       "3   0.603999  0.759624  0.928964  0.405382  0.663669  0.136052  \n",
       "4   0.855277  0.274801  0.655715  0.050410  0.264788  0.709345  \n",
       "5   0.779899  0.070124  0.069014  0.608809  0.562556  0.891655  \n",
       "6   0.805729  0.386813  0.836880  0.135903  0.013958  0.772159  \n",
       "7   0.530485  0.200352  0.760734  0.709719  0.661783  0.562500  \n",
       "8   0.201149  0.794848  0.012554  0.136630  0.530138  0.449112  \n",
       "9   0.250113  0.171039  0.729050  0.734968  0.216110  0.388177  \n",
       "10  0.396809  0.290151  0.242786  0.810082  0.444713  0.275344  \n",
       "11  0.836257  0.481287  0.796801  0.691460  0.216859  0.690986  \n",
       "12  0.297220  0.547868  0.000089  0.444105  0.187957  0.777669  \n",
       "13  0.293134  0.472948  0.496822  0.460656  0.388906  0.329319  \n",
       "14  0.048348  0.810157  0.712413  0.430644  0.825101  0.477136  \n",
       "15  0.224852  0.812744  0.020698  0.242219  0.559762  0.053065  \n",
       "16  0.060998  0.032521  0.111744  0.653751  0.511977  0.131589  \n",
       "17  0.006164  0.885014  0.418976  0.766491  0.415451  0.122167  \n",
       "18  0.112920  0.702232  0.381068  0.353373  0.437052  0.005946  \n",
       "19  0.396570  0.579331  0.311870  0.341459  0.363255  0.407712  \n",
       "20  0.267139  0.376839  0.117516  0.045751  0.053857  0.092888  \n",
       "\n",
       "[21 rows x 44 columns]"
      ]
     },
     "execution_count": 347,
     "metadata": {},
     "output_type": "execute_result"
    }
   ],
   "source": [
    "v[parent_idx].head(NUM_TIME_STEPS)"
   ]
  },
  {
   "cell_type": "code",
   "execution_count": 53,
   "metadata": {},
   "outputs": [
    {
     "data": {
      "text/plain": [
       "<tf.Tensor: shape=(), dtype=float32, numpy=0.060546637>"
      ]
     },
     "execution_count": 53,
     "metadata": {},
     "output_type": "execute_result"
    }
   ],
   "source": [
    "ignore_noParent_MSE(validation, o)"
   ]
  },
  {
   "attachments": {},
   "cell_type": "markdown",
   "metadata": {},
   "source": [
    "# Test OG SHAP\n",
    "\n",
    "ms shap sux"
   ]
  },
  {
   "cell_type": "code",
   "execution_count": 54,
   "metadata": {},
   "outputs": [
    {
     "data": {
      "text/plain": [
       "True"
      ]
     },
     "execution_count": 54,
     "metadata": {},
     "output_type": "execute_result"
    }
   ],
   "source": [
    "tf.executing_eagerly()"
   ]
  },
  {
   "cell_type": "code",
   "execution_count": 55,
   "metadata": {},
   "outputs": [],
   "source": [
    "inp = Input(shape=(NUM_TIME_STEPS,NUM_TARGETS))\n",
    "re = tf.keras.layers.Reshape(target_shape=(NUM_TIME_STEPS, NUM_TARGETS))(inp)\n",
    "dout = dense(re)\n",
    "doutRe = tf.squeeze(tf.keras.layers.Reshape(target_shape=(NUM_TIME_STEPS*NUM_TARGETS,1))(dout), axis=-1)\n",
    "denseRE = tf.keras.Model(inputs=inp, outputs=doutRe)"
   ]
  },
  {
   "cell_type": "code",
   "execution_count": 56,
   "metadata": {},
   "outputs": [
    {
     "name": "stdout",
     "output_type": "stream",
     "text": [
      "Model: \"model_2\"\n",
      "_________________________________________________________________\n",
      " Layer (type)                Output Shape              Param #   \n",
      "=================================================================\n",
      " input_3 (InputLayer)        [(None, 21, 100)]         0         \n",
      "                                                                 \n",
      " reshape_2 (Reshape)         (None, 21, 100)           0         \n",
      "                                                                 \n",
      " model_1 (Functional)        (None, 21, 100)           452041    \n",
      "                                                                 \n",
      " reshape_3 (Reshape)         (None, 2100, 1)           0         \n",
      "                                                                 \n",
      " tf.compat.v1.squeeze (TFOpL  (None, 2100)             0         \n",
      " ambda)                                                          \n",
      "                                                                 \n",
      "=================================================================\n",
      "Total params: 452,041\n",
      "Trainable params: 452,041\n",
      "Non-trainable params: 0\n",
      "_________________________________________________________________\n"
     ]
    }
   ],
   "source": [
    "denseRE.summary()"
   ]
  },
  {
   "cell_type": "code",
   "execution_count": 57,
   "metadata": {},
   "outputs": [
    {
     "data": {
      "text/plain": [
       "<tf.Tensor: shape=(2, 2100), dtype=float32, numpy=\n",
       "array([[0.15411985, 0.        , 0.        , ..., 0.20993543, 0.18402278,\n",
       "        0.33675534],\n",
       "       [0.15411985, 0.        , 0.        , ..., 0.20993543, 0.18402278,\n",
       "        0.33675534]], dtype=float32)>"
      ]
     },
     "execution_count": 57,
     "metadata": {},
     "output_type": "execute_result"
    }
   ],
   "source": [
    "denseRE(validation)"
   ]
  },
  {
   "cell_type": "code",
   "execution_count": null,
   "metadata": {},
   "outputs": [
    {
     "name": "stdout",
     "output_type": "stream",
     "text": [
      "Number of features: 100\n"
     ]
    },
    {
     "name": "stderr",
     "output_type": "stream",
     "text": [
      "100%|██████████| 2100/2100 [20:24<00:00,  1.72it/s] \n"
     ]
    }
   ],
   "source": [
    "\n",
    "model = denseRE\n",
    "# def map2layer(x, layer):1\n",
    "#     feed_dict = dict(zip([model.layers[0].input.ref()], [x.copy()]))\n",
    "#     return K.get_session().run(model.layers[layer].input, feed_dict)\n",
    "\n",
    "\n",
    "e = shap.GradientExplainer(model,\n",
    "    #(model.layers[0].input, model.layers[-1].output),\n",
    "    allData,\n",
    "    local_smoothing=0 # std dev of smoothing noise\n",
    ")\n",
    "sv = e.shap_values(allData)\n",
    "# shap_values,indexes = e.shap_values(map2layer(to_explain, 7), ranked_outputs=2)"
   ]
  },
  {
   "cell_type": "code",
   "execution_count": 86,
   "metadata": {},
   "outputs": [],
   "source": [
    "sv= np.array(sv)"
   ]
  },
  {
   "cell_type": "code",
   "execution_count": 124,
   "metadata": {},
   "outputs": [
    {
     "data": {
      "text/plain": [
       "(2100, 10, 21, 100)"
      ]
     },
     "execution_count": 124,
     "metadata": {},
     "output_type": "execute_result"
    }
   ],
   "source": [
    "sv.shape"
   ]
  },
  {
   "cell_type": "code",
   "execution_count": 125,
   "metadata": {},
   "outputs": [],
   "source": [
    "uv = np.copy(sv)"
   ]
  },
  {
   "cell_type": "code",
   "execution_count": 143,
   "metadata": {},
   "outputs": [],
   "source": [
    "uv = np.reshape(uv, newshape=(21, 100, 10, 21, 100)) #should this be 100, 21... or 21, 100...?"
   ]
  },
  {
   "cell_type": "code",
   "execution_count": 144,
   "metadata": {},
   "outputs": [],
   "source": [
    "# 21 time steps, 10 replicates, 100 protiens"
   ]
  },
  {
   "cell_type": "code",
   "execution_count": 145,
   "metadata": {},
   "outputs": [
    {
     "data": {
      "text/plain": [
       "(21, 100, 10, 21, 100)"
      ]
     },
     "execution_count": 145,
     "metadata": {},
     "output_type": "execute_result"
    }
   ],
   "source": [
    "uv.shape"
   ]
  },
  {
   "cell_type": "code",
   "execution_count": 146,
   "metadata": {},
   "outputs": [],
   "source": [
    "av1 = np.average(uv, axis = 2)\n",
    "av2 = np.sum(uv, axis = 2)"
   ]
  },
  {
   "cell_type": "code",
   "execution_count": 147,
   "metadata": {},
   "outputs": [
    {
     "data": {
      "text/plain": [
       "((21, 100, 21, 100), (21, 100, 21, 100))"
      ]
     },
     "execution_count": 147,
     "metadata": {},
     "output_type": "execute_result"
    }
   ],
   "source": [
    "av1.shape, av2.shape"
   ]
  },
  {
   "cell_type": "code",
   "execution_count": 148,
   "metadata": {},
   "outputs": [
    {
     "data": {
      "text/plain": [
       "((21, 100, 100), (21, 100, 100))"
      ]
     },
     "execution_count": 148,
     "metadata": {},
     "output_type": "execute_result"
    }
   ],
   "source": [
    "av1 = np.average(av1, axis = 2)\n",
    "\n",
    "av2 = np.sum(av2, axis= 2)\n",
    "av1.shape, av2.shape"
   ]
  },
  {
   "cell_type": "code",
   "execution_count": 149,
   "metadata": {},
   "outputs": [
    {
     "data": {
      "text/plain": [
       "((100, 100), (100, 100))"
      ]
     },
     "execution_count": 149,
     "metadata": {},
     "output_type": "execute_result"
    }
   ],
   "source": [
    "av1 = np.average(av1, axis = 0) #change this to fix axis order\n",
    "\n",
    "av2 = np.sum(av2, axis = 0) \n",
    "av1.shape, av2.shape\n"
   ]
  },
  {
   "cell_type": "code",
   "execution_count": 174,
   "metadata": {},
   "outputs": [
    {
     "data": {
      "text/plain": [
       "array([ 0,  4,  9, 14, 22, 24, 25, 35, 36, 37, 39, 41, 42, 43, 44, 45, 53,\n",
       "       54, 56, 61, 62, 63, 64, 65, 66, 68, 71, 72, 74, 81, 82, 84, 86, 89,\n",
       "       90, 91, 92, 95, 97, 98, 99])"
      ]
     },
     "execution_count": 174,
     "metadata": {},
     "output_type": "execute_result"
    }
   ],
   "source": [
    "parent_idx"
   ]
  },
  {
   "cell_type": "code",
   "execution_count": 180,
   "metadata": {},
   "outputs": [
    {
     "data": {
      "text/plain": [
       "<matplotlib.image.AxesImage at 0x22d1d26efd0>"
      ]
     },
     "execution_count": 180,
     "metadata": {},
     "output_type": "execute_result"
    },
    {
     "data": {
      "image/png": "[encoded data removed]",
      "text/plain": [
       "<Figure size 1080x360 with 1 Axes>"
      ]
     },
     "metadata": {
      "needs_background": "light"
     },
     "output_type": "display_data"
    }
   ],
   "source": [
    "plt.imshow(np.clip(av2, a_min=0.0, a_max=None))"
   ]
  },
  {
   "cell_type": "code",
   "execution_count": 182,
   "metadata": {},
   "outputs": [
    {
     "data": {
      "text/plain": [
       "<matplotlib.image.AxesImage at 0x22d25c84bb0>"
      ]
     },
     "execution_count": 182,
     "metadata": {},
     "output_type": "execute_result"
    },
    {
     "data": {
      "image/png": "[encoded data removed]",
      "text/plain": [
       "<Figure size 1080x360 with 1 Axes>"
      ]
     },
     "metadata": {
      "needs_background": "light"
     },
     "output_type": "display_data"
    }
   ],
   "source": [
    "plt.imshow(np.clip(av1, a_min=0.0, a_max=None))"
   ]
  },
  {
   "cell_type": "code",
   "execution_count": 84,
   "metadata": {},
   "outputs": [
    {
     "data": {
      "text/plain": [
       "<matplotlib.image.AxesImage at 0x22bb381d4c0>"
      ]
     },
     "execution_count": 84,
     "metadata": {},
     "output_type": "execute_result"
    },
    {
     "data": {
      "image/png": "[encoded data removed]",
      "text/plain": [
       "<Figure size 1080x360 with 1 Axes>"
      ]
     },
     "metadata": {
      "needs_background": "light"
     },
     "output_type": "display_data"
    }
   ],
   "source": [
    "plt.imshow(goldIm)"
   ]
  },
  {
   "cell_type": "code",
   "execution_count": 57,
   "metadata": {},
   "outputs": [
    {
     "data": {
      "image/png": "[encoded data removed]",
      "text/plain": [
       "<Figure size 432x360 with 3 Axes>"
      ]
     },
     "metadata": {
      "needs_background": "light"
     },
     "output_type": "display_data"
    }
   ],
   "source": []
  },
  {
   "cell_type": "code",
   "execution_count": 72,
   "metadata": {},
   "outputs": [
    {
     "data": {
      "text/plain": [
       "(-5.361398619628737e-05, 1.6010203871349165e-05)"
      ]
     },
     "execution_count": 72,
     "metadata": {},
     "output_type": "execute_result"
    }
   ],
   "source": [
    "av1.min(), av1.max()"
   ]
  },
  {
   "cell_type": "code",
   "execution_count": 78,
   "metadata": {},
   "outputs": [
    {
     "data": {
      "text/plain": [
       "(2025, 0, 12, 44)"
      ]
     },
     "execution_count": 78,
     "metadata": {},
     "output_type": "execute_result"
    }
   ],
   "source": [
    "sv.argmax()\n",
    "np.unravel_index(8506244, sv.shape)"
   ]
  },
  {
   "cell_type": "code",
   "execution_count": 64,
   "metadata": {},
   "outputs": [
    {
     "data": {
      "text/plain": [
       "(2, 21, 100)"
      ]
     },
     "execution_count": 64,
     "metadata": {},
     "output_type": "execute_result"
    }
   ],
   "source": [
    "validation.shape"
   ]
  },
  {
   "cell_type": "code",
   "execution_count": 65,
   "metadata": {},
   "outputs": [
    {
     "data": {
      "text/plain": [
       "(2, 2100)"
      ]
     },
     "execution_count": 65,
     "metadata": {},
     "output_type": "execute_result"
    }
   ],
   "source": [
    "valR = validation.reshape(( validation.shape[0], validation.shape[1]*validation.shape[2]))\n",
    "valR.shape"
   ]
  },
  {
   "cell_type": "code",
   "execution_count": 80,
   "metadata": {},
   "outputs": [
    {
     "data": {
      "text/plain": [
       "(2,)"
      ]
     },
     "execution_count": 80,
     "metadata": {},
     "output_type": "execute_result"
    }
   ],
   "source": [
    "valR.mean(axis=1).shape"
   ]
  },
  {
   "cell_type": "code",
   "execution_count": 85,
   "metadata": {},
   "outputs": [
    {
     "data": {
      "text/plain": [
       "array([[0., 0., 1., ..., 0., 0., 1.],\n",
       "       [0., 0., 1., ..., 0., 0., 1.]])"
      ]
     },
     "execution_count": 85,
     "metadata": {},
     "output_type": "execute_result"
    },
    {
     "data": {
      "image/png": "[encoded data removed]",
      "text/plain": [
       "<Figure size 1080x360 with 1 Axes>"
      ]
     },
     "metadata": {
      "needs_background": "light"
     },
     "output_type": "display_data"
    }
   ],
   "source": [
    "bs = np.nonzero(valR >valR.mean())\n",
    "tmagIm = np.zeros(shape=valR.shape) \n",
    "tmagIm[bs] = 1\n",
    "plt.plot(tmagIm[0]);\n",
    "bs = tmagIm\n",
    "del tmagIm\n"
   ]
  },
  {
   "cell_type": "code",
   "execution_count": 86,
   "metadata": {},
   "outputs": [
    {
     "name": "stdout",
     "output_type": "stream",
     "text": [
      "1/1 [==============================] - 0s 16ms/step\n"
     ]
    },
    {
     "ename": "Exception",
     "evalue": "multiclass SHAP not supported",
     "output_type": "error",
     "traceback": [
      "\u001b[1;31m---------------------------------------------------------------------------\u001b[0m",
      "\u001b[1;31mException\u001b[0m                                 Traceback (most recent call last)",
      "\u001b[1;32mc:\\Users\\Fin Amin\\Desktop\\StemCellResearch\\dream4_100\\DreamEncoder4_TestNewShap.ipynb Cell 69\u001b[0m in \u001b[0;36m<cell line: 27>\u001b[1;34m()\u001b[0m\n\u001b[0;32m     <a href='vscode-notebook-cell:/c%3A/Users/Fin%20Amin/Desktop/StemCellResearch/dream4_100/DreamEncoder4_TestNewShap.ipynb#Y564sZmlsZQ%3D%3D?line=15'>16</a>\u001b[0m \u001b[39m# X, y = load_breast_cancer(return_X_y=True, as_frame=True)\u001b[39;00m\n\u001b[0;32m     <a href='vscode-notebook-cell:/c%3A/Users/Fin%20Amin/Desktop/StemCellResearch/dream4_100/DreamEncoder4_TestNewShap.ipynb#Y564sZmlsZQ%3D%3D?line=16'>17</a>\u001b[0m \u001b[39m# X_train, X_test, y_train, y_test = train_test_split(X, y, test_size=0.20, random_state=seed)\u001b[39;00m\n\u001b[0;32m     <a href='vscode-notebook-cell:/c%3A/Users/Fin%20Amin/Desktop/StemCellResearch/dream4_100/DreamEncoder4_TestNewShap.ipynb#Y564sZmlsZQ%3D%3D?line=17'>18</a>\u001b[0m \n\u001b[1;32m   (...)\u001b[0m\n\u001b[0;32m     <a href='vscode-notebook-cell:/c%3A/Users/Fin%20Amin/Desktop/StemCellResearch/dream4_100/DreamEncoder4_TestNewShap.ipynb#Y564sZmlsZQ%3D%3D?line=21'>22</a>\u001b[0m \u001b[39m# blackbox_model = Pipeline([('pca', pca), ('rf', rf)])\u001b[39;00m\n\u001b[0;32m     <a href='vscode-notebook-cell:/c%3A/Users/Fin%20Amin/Desktop/StemCellResearch/dream4_100/DreamEncoder4_TestNewShap.ipynb#Y564sZmlsZQ%3D%3D?line=22'>23</a>\u001b[0m \u001b[39m# blackbox_model.fit(X_train, y_train)\u001b[39;00m\n\u001b[0;32m     <a href='vscode-notebook-cell:/c%3A/Users/Fin%20Amin/Desktop/StemCellResearch/dream4_100/DreamEncoder4_TestNewShap.ipynb#Y564sZmlsZQ%3D%3D?line=24'>25</a>\u001b[0m blackbox_model \u001b[39m=\u001b[39m denseRE\n\u001b[1;32m---> <a href='vscode-notebook-cell:/c%3A/Users/Fin%20Amin/Desktop/StemCellResearch/dream4_100/DreamEncoder4_TestNewShap.ipynb#Y564sZmlsZQ%3D%3D?line=26'>27</a>\u001b[0m shap \u001b[39m=\u001b[39m ShapKernel(blackbox_model\u001b[39m.\u001b[39;49mpredict, bs)\n\u001b[0;32m     <a href='vscode-notebook-cell:/c%3A/Users/Fin%20Amin/Desktop/StemCellResearch/dream4_100/DreamEncoder4_TestNewShap.ipynb#Y564sZmlsZQ%3D%3D?line=27'>28</a>\u001b[0m \u001b[39mwith\u001b[39;00m warnings\u001b[39m.\u001b[39mcatch_warnings():\n\u001b[0;32m     <a href='vscode-notebook-cell:/c%3A/Users/Fin%20Amin/Desktop/StemCellResearch/dream4_100/DreamEncoder4_TestNewShap.ipynb#Y564sZmlsZQ%3D%3D?line=28'>29</a>\u001b[0m     warnings\u001b[39m.\u001b[39mfilterwarnings(\u001b[39m\"\u001b[39m\u001b[39mignore\u001b[39m\u001b[39m\"\u001b[39m)\n",
      "File \u001b[1;32m~\\AppData\\Roaming\\Python\\Python39\\site-packages\\interpret\\blackbox\\shap.py:46\u001b[0m, in \u001b[0;36mShapKernel.__init__\u001b[1;34m(self, model, data, feature_names, feature_types, **kwargs)\u001b[0m\n\u001b[0;32m     44\u001b[0m predict_fn, n_classes, _ \u001b[39m=\u001b[39m determine_classes(model, data, n_samples)\n\u001b[0;32m     45\u001b[0m \u001b[39mif\u001b[39;00m \u001b[39m3\u001b[39m \u001b[39m<\u001b[39m\u001b[39m=\u001b[39m n_classes:\n\u001b[1;32m---> 46\u001b[0m     \u001b[39mraise\u001b[39;00m \u001b[39mException\u001b[39;00m(\u001b[39m\"\u001b[39m\u001b[39mmulticlass SHAP not supported\u001b[39m\u001b[39m\"\u001b[39m)\n\u001b[0;32m     47\u001b[0m predict_fn \u001b[39m=\u001b[39m unify_predict_fn(predict_fn, data, \u001b[39m1\u001b[39m \u001b[39mif\u001b[39;00m n_classes \u001b[39m==\u001b[39m \u001b[39m2\u001b[39m \u001b[39melse\u001b[39;00m \u001b[39m-\u001b[39m\u001b[39m1\u001b[39m)\n\u001b[0;32m     49\u001b[0m data, \u001b[39mself\u001b[39m\u001b[39m.\u001b[39mfeature_names_in_, \u001b[39mself\u001b[39m\u001b[39m.\u001b[39mfeature_types_in_ \u001b[39m=\u001b[39m unify_data(\n\u001b[0;32m     50\u001b[0m     data, n_samples, feature_names, feature_types, \u001b[39mFalse\u001b[39;00m, \u001b[39m0\u001b[39m\n\u001b[0;32m     51\u001b[0m )\n",
      "\u001b[1;31mException\u001b[0m: multiclass SHAP not supported"
     ]
    }
   ],
   "source": [
    "# import numpy as np\n",
    "# from sklearn.datasets import load_breast_cancer\n",
    "# from sklearn.model_selection import train_test_split\n",
    "\n",
    "# from sklearn.ensemble import RandomForestClassifier\n",
    "# from sklearn.decomposition import PCA\n",
    "# from sklearn.pipeline import Pipeline\n",
    "\n",
    "# import warnings\n",
    "\n",
    "# from interpret import show\n",
    "# from interpret.blackbox import ShapKernel\n",
    "\n",
    "seed = 42\n",
    "np.random.seed(seed)\n",
    "# X, y = load_breast_cancer(return_X_y=True, as_frame=True)\n",
    "# X_train, X_test, y_train, y_test = train_test_split(X, y, test_size=0.20, random_state=seed)\n",
    "\n",
    "# pca = PCA()\n",
    "# rf = RandomForestClassifier(n_estimators=100, n_jobs=-1, random_state=seed)\n",
    "\n",
    "# blackbox_model = Pipeline([('pca', pca), ('rf', rf)])\n",
    "# blackbox_model.fit(X_train, y_train)\n",
    "\n",
    "blackbox_model = denseRE\n",
    "\n",
    "shap = ShapKernel(blackbox_model.predict, bs)\n",
    "with warnings.catch_warnings():\n",
    "    warnings.filterwarnings(\"ignore\")\n",
    "    shap_local = shap.explain_local(bs, bs)\n",
    "\n",
    "show(shap_local, 0)"
   ]
  },
  {
   "cell_type": "code",
   "execution_count": null,
   "metadata": {},
   "outputs": [],
   "source": []
  },
  {
   "attachments": {},
   "cell_type": "markdown",
   "metadata": {},
   "source": [
    "# Latent Space Size Experiment"
   ]
  },
  {
   "cell_type": "code",
   "execution_count": null,
   "metadata": {},
   "outputs": [],
   "source": [
    "# print(NUM_PARENTS, NUM_TARGETS)"
   ]
  },
  {
   "cell_type": "code",
   "execution_count": null,
   "metadata": {},
   "outputs": [],
   "source": [
    "# #to test on entire DS: \n",
    "# N = 50\n",
    "# hidden = np.arange(1,NUM_PARENTS+1, 1) #range(1,32)\n",
    "# lossMatrix = []\n",
    "# for i in tqdm(range(N)):\n",
    "    \n",
    "#     losses = []\n",
    "#     for value in (hidden):\n",
    "#         dense = modelDense2(superParent, regulator_gene_matrix, NUM_TARGETS, NUM_TIME_STEPS, NUM_TARGETS, value)\n",
    "#         dense.compile(optimizer='adam', loss=ignore_noParent_MSE)\n",
    "#         dense.fit(allData, allData, epochs=40,  verbose=0)\n",
    "#         test_hat = dense(allData) #, verbose = 0)\n",
    "#         loss = ignore_noParent_MSE(allData, test_hat)\n",
    "#         losses.append(loss)\n",
    "#         tf.keras.backend.clear_session()\n",
    "#     lossMatrix.append(losses)\n",
    "    \n",
    "# lossMatrix = np.array(lossMatrix)\n",
    "# #run 100 times \n",
    "\n",
    "\n",
    "#To test on Test set:\n",
    "# N = 40\n",
    "# hidden = np.arange(2,24, 1) #range(1,32)\n",
    "# lossMatrix = []\n",
    "# for i in tqdm(range(N)):\n",
    "    \n",
    "#     losses = []\n",
    "#     for value in (hidden):\n",
    "#         dense = modelDense2(superParent, regulator_gene_matrix, NUM_TARGETS, NUM_TIME_STEPS, NUM_TARGETS, value)\n",
    "#         dense.compile(optimizer='adam', loss=ignore_noParent_MSE)\n",
    "#         dense.fit(beanIntensities, beanIntensities, epochs=40,  verbose=0)\n",
    "#         test_hat = dense(validation) #, verbose = 0)\n",
    "#         loss = ignore_noParent_MSE(validation, test_hat)\n",
    "#         losses.append(loss)\n",
    "#         tf.keras.backend.clear_session()\n",
    "#     lossMatrix.append(losses)\n",
    "    \n",
    "# lossMatrix = np.array(lossMatrix)\n",
    "# #run 100 times "
   ]
  },
  {
   "cell_type": "code",
   "execution_count": null,
   "metadata": {},
   "outputs": [],
   "source": [
    "# avgMSE = np.average(lossMatrix, axis = 0)\n",
    "# plt.plot(hidden, avgMSE);\n",
    "# plt.xlabel(\"Latent Space Size\",fontsize=15);\n",
    "# plt.ylabel(\"MSE\",fontsize=15);\n",
    "# plt.title(\"Glycine Max: MSE with Respect to the Latent Space Size\", fontweight='bold', fontsize = 18);"
   ]
  },
  {
   "cell_type": "code",
   "execution_count": null,
   "metadata": {},
   "outputs": [],
   "source": [
    "# lm = pd.DataFrame(lossMatrix)\n",
    "# lm.to_csv(\"lossmatrix4lisa_dream4.csv\")"
   ]
  },
  {
   "cell_type": "code",
   "execution_count": null,
   "metadata": {},
   "outputs": [],
   "source": [
    "# temp = pd.read_csv(\"lossmatrix4lisa_dream4.csv\").to_numpy()\n",
    "# print(temp.shape)\n",
    "# avgMSE = np.average(lossMatrix, axis=0)"
   ]
  },
  {
   "cell_type": "code",
   "execution_count": null,
   "metadata": {},
   "outputs": [],
   "source": [
    "# plt.plot(hidden, avgMSE)"
   ]
  },
  {
   "attachments": {},
   "cell_type": "markdown",
   "metadata": {},
   "source": [
    "# Lazy Kernels"
   ]
  },
  {
   "cell_type": "code",
   "execution_count": null,
   "metadata": {},
   "outputs": [],
   "source": [
    "dense = modelSuperParent(superParent, regulator_gene_matrix, NUM_TARGETS, NUM_TIME_STEPS, NUM_TARGETS, NUM_PARENTS)\n",
    "dense.compile(optimizer=tf.keras.optimizers.Adam(), loss=ignore_noParent_MSE)"
   ]
  },
  {
   "cell_type": "code",
   "execution_count": null,
   "metadata": {},
   "outputs": [],
   "source": [
    "d = np.array(dense.get_weights())"
   ]
  },
  {
   "cell_type": "code",
   "execution_count": null,
   "metadata": {},
   "outputs": [],
   "source": [
    "d[0].shape"
   ]
  },
  {
   "cell_type": "code",
   "execution_count": null,
   "metadata": {},
   "outputs": [],
   "source": [
    "\n",
    "\n",
    "def do_lazy_train(epochs, hidden = NUM_PARENTS):\n",
    "\n",
    "    '''trains the auto encoder epoch by epoch and returns the weights of the first layer'''\n",
    "    ep = epochs\n",
    "    #hidden = [hidden,] #range(1,32)\n",
    "    lossMatrix = []\n",
    "    lazy_weights = []\n",
    "\n",
    "    dense = modelSuperParent(superParent, regulator_gene_matrix, NUM_TARGETS, NUM_TIME_STEPS, NUM_TARGETS, hidden)\n",
    "    dense.compile(optimizer=tf.keras.optimizers.Adam(), loss=ignore_noParent_MSE)\n",
    "    \n",
    "    # dense = modelDense2(superParent, regulator_gene_matrix, NUM_TARGETS, NUM_TIME_STEPS, NUM_TARGETS, num_hidden_units=hidden)\n",
    "    # dense.compile(optimizer=tf.keras.optimizers.Adam(), loss=ignore_noParent_MSE)\n",
    "\n",
    "    #for i in tqdm(range(ep)):\n",
    "    for i in range(ep):\n",
    "        dense.fit(allData, allData, validation_data=(validation, validation), epochs=1,  verbose=0, callbacks = [\n",
    "    tfmot.sparsity.keras.UpdatePruningStep()])\n",
    "        lazy_weights.append(dw := dense.get_weights()[0])\n",
    "        test = dense(validation) #, verbose = 0)\n",
    "        loss = ignore_noParent_MSE(validation, test)\n",
    "        lossMatrix.append(loss)\n",
    "        \n",
    "    lossMatrix = np.array(lossMatrix) #loss matrix no longer returns anything \n",
    "    lazy_weights = np.array(lazy_weights)\n",
    "    # print(\"lazy weights\", lazy_weights.shape)\n",
    "\n",
    "    return lossMatrix, lazy_weights #loss matrix no longer returns anything "
   ]
  },
  {
   "cell_type": "code",
   "execution_count": null,
   "metadata": {},
   "outputs": [],
   "source": [
    "#https://proceedings.mlr.press/v162/rachwan22a/rachwan22a.pdf Winning the Lottery Ticket Ahead of Time:\n",
    "def lazyKernelRegime(w, parent_idx=parent_idx):\n",
    "    '''compute when each weight enters lazy kernel regime'''\n",
    "    \n",
    "    # print(\"wshape\", w.shape)\n",
    "\n",
    "    firstLayer = [] \n",
    "    for i in range(len(w)):\n",
    "         firstLayer.append(w[i]) #firstLayer.append(w[i][parent_idx])\n",
    "\n",
    "    fL = np.array(firstLayer)    \n",
    "    # print(\"print fL\", fL.shape, fL.dtype, fL[0], fL[1],)\n",
    "    d0 = np.square(fL[1] - fL[0])\n",
    "    # print(\"do\", d0.shape, d0)\n",
    "    \n",
    "    kernelChange = []\n",
    "    for i in range(1,len(fL)):\n",
    "        dt = np.square(fL[i] - fL[0])\n",
    "        dt_minus1 = np.square(fL[i-1] - fL[0])   \n",
    "        d = np.abs(dt - dt_minus1)/d0                        #eq 11 from the paper\n",
    "        kernelChange.append(d)\n",
    "    \n",
    "    kernelChange = np.moveaxis(kernelChange, 0, 2)\n",
    "    # plt.plot(kernelChange[0][0]);\n",
    "    # plt.title(\"$|\\Delta W|$ vs Epoch\")\n",
    "    # plt.xlabel(\"Epoch\")\n",
    "    # plt.ylabel(\"$|\\Delta W|$\")\n",
    "\n",
    "    return np.array(kernelChange)"
   ]
  },
  {
   "cell_type": "code",
   "execution_count": null,
   "metadata": {},
   "outputs": [],
   "source": [
    "#TODO: try setting top parents to num epochs trained rather than culling process\n",
    "def compute_distrib(change, t, raw = False): #raw means return the unshaped indicies. \n",
    "    stop = []\n",
    "\n",
    "    z = np.zeros(shape=(NUM_TARGETS, NUM_TARGETS))\n",
    "\n",
    "\n",
    "    for parent in range(len(change)):\n",
    "        for child in range(len(change[0])):\n",
    "            try:\n",
    "                z[parent][child] = (np.min(np.argwhere(change[parent][child] < t)))\n",
    "            except ValueError:\n",
    "                stop.append(len(change))\n",
    "\n",
    "    return z \n",
    "    \n",
    "    stop = np.array(stop)\n",
    "    # print(\"stop shape\", stop.shape)\n",
    "    # print(stop.shape)\n",
    "    var = np.std(stop)\n",
    "    # print(var)\n",
    "    # assert(False)\n",
    "    mean = np.average(stop)\n",
    "   # print(\"mean, variance\", mean, var)\n",
    "    top_parents = np.argwhere(stop > (mean + 0.5*var)) #get the parents which take more than 2 stds to stop training\n",
    "    # print(\"top parents \", top_parents)\n",
    "    # assert(False)\n",
    "    top_parent_child = []\n",
    "    for tp in top_parents:\n",
    "        top_parent_child.append(np.unravel_index(tp, shape = (NUM_PARENTS, NUM_TARGETS)))\n",
    "\n",
    "    if raw == False:\n",
    "        plt.hist(stop)\n",
    "        plt.xlabel(\"Epoch where regulator-target-weight began changing by at most \"+ str(t));\n",
    "        plt.ylabel(\"Number of parent-child-weights\");\n",
    "        plt.title(\"Histogram of weight stops\");\n",
    "        print(\"average stop: \", mean);\n",
    "\n",
    "    if raw == True:\n",
    "        return np.array(top_parents)\n",
    "\n",
    "    return np.array(top_parent_child)"
   ]
  },
  {
   "cell_type": "code",
   "execution_count": null,
   "metadata": {},
   "outputs": [],
   "source": [
    "def compute_distrib_old(change, t, raw = False): #raw means return the unshaped indicies. \n",
    "    stop = []\n",
    "\n",
    "    for parent in range(len(change)):\n",
    "        for child in range(len(change[0])):\n",
    "            try:\n",
    "                stop.append(np.min(np.argwhere(change[parent][child] < t)))\n",
    "            except ValueError:\n",
    "                stop.append(len(change))\n",
    "                # print(parent, child)\n",
    "                # plt.plot(change[parent][child])\n",
    "                # assert(False)\n",
    "\n",
    "    \n",
    "    stop = np.array(stop).flatten()\n",
    "    # print(\"stop shape\", stop.shape)\n",
    "    # print(stop.shape)\n",
    "    var = np.std(stop)\n",
    "    # print(var)\n",
    "    # assert(False)\n",
    "    mean = np.average(stop)\n",
    "   # print(\"mean, variance\", mean, var)\n",
    "    top_parents = np.argwhere(stop > (mean + 0.5*var)) #get the parents which take more than 2 stds to stop training\n",
    "    # print(\"top parents \", top_parents)\n",
    "    # assert(False)\n",
    "    top_parent_child = []\n",
    "    for tp in top_parents:\n",
    "        top_parent_child.append(np.unravel_index(tp, shape = (NUM_PARENTS, NUM_TARGETS)))\n",
    "\n",
    "    if raw == False:\n",
    "        plt.hist(stop)\n",
    "        plt.xlabel(\"Epoch where regulator-target-weight began changing by at most \"+ str(t));\n",
    "        plt.ylabel(\"Number of parent-child-weights\");\n",
    "        plt.title(\"Histogram of weight stops\");\n",
    "        print(\"average stop: \", mean);\n",
    "\n",
    "    if raw == True:\n",
    "        return np.array(top_parents)\n",
    "\n",
    "    return np.array(top_parent_child)"
   ]
  },
  {
   "cell_type": "code",
   "execution_count": null,
   "metadata": {},
   "outputs": [],
   "source": [
    "def lazyKernels(N):\n",
    "\n",
    "    candidates = []\n",
    "    final_w = []\n",
    "    for i in tqdm(range(N)):\n",
    "        lm, lazy_weights = do_lazy_train(epochs=100)\n",
    "        # print(\"lm\", lm)\n",
    "        change = lazyKernelRegime(lazy_weights)\n",
    "        # print(\"change\",change.shape)\n",
    "        # assert(False)\n",
    "        top_pr = np.squeeze(compute_distrib(change, t = 0.2, raw=True))\n",
    "        candidates.append(top_pr)\n",
    "        final_w.append(lazy_weights[-1]) #final w is used for magntiude calculations at the end\n",
    "        tf.keras.backend.clear_session()\n",
    "    \n",
    "    final_w = np.array(final_w)\n",
    "    firstLayer = []\n",
    "    for i in range(len(final_w)):\n",
    "        firstLayer.append(np.abs(final_w[i])) #firstLayer.append(np.abs(final_w[i][parent_idx]))\n",
    "    fw = np.array(firstLayer)\n",
    "    candidates = np.array(candidates)\n",
    "\n",
    "    fw_avg = np.average(fw, axis = 0)\n",
    "    stop_avg = np.average(candidates, axis=0) \n",
    "\n",
    "    return stop_avg, fw_avg\n",
    "    #print(fw_avg.shape)\n",
    "    \n",
    "    candidates = np.hstack(candidates)\n",
    "    candidates = candidates.reshape(candidates.size)\n",
    "    #print(candidates.shape)\n",
    "\n",
    "    # plt.hist(candidates, bins=np.arange(0, NUM_PARENTS*NUM_TARGETS))\n",
    "    # plt.title(\"Parent-Child Regulator Histogram\")\n",
    "    # plt.xlabel(\"Parent-Child Weight\")\n",
    "    # plt.ylabel(\"Num-Times parent-child relationship trained for top 5% of time\")\n",
    "    return candidates, fw_avg\n",
    "\n",
    "\n"
   ]
  },
  {
   "cell_type": "code",
   "execution_count": 113,
   "metadata": {},
   "outputs": [],
   "source": [
    "#TODO: test reshaping in other orientation"
   ]
  },
  {
   "cell_type": "code",
   "execution_count": null,
   "metadata": {},
   "outputs": [],
   "source": [
    "can, mag = lazyKernels(N = 5)"
   ]
  },
  {
   "cell_type": "code",
   "execution_count": null,
   "metadata": {},
   "outputs": [],
   "source": [
    "gold = pd.read_csv(\"DREAM4_GoldStandard_InSilico_Size100_1.csv\", header=None)\n",
    "\n",
    "def keep_numeric(df):\n",
    "\n",
    "    return df.applymap(lambda x: ''.join(filter(str.isdigit, str(x))) if isinstance(x, (int,float)) else ''.join(filter(str.isdigit, x)) )\n",
    "gold = keep_numeric(gold)\n",
    "goldnp = np.array(gold, dtype = 'int')\n",
    "#subtract 1 from each index to match python index\n",
    "goldnp[:,0] = goldnp[:,0] - 1\n",
    "goldnp[:,1] = goldnp[:,1] - 1\n",
    "\n",
    "goldIm = np.zeros(shape=(NUM_TARGETS,NUM_TARGETS))\n",
    "\n",
    "for g in goldnp:\n",
    "    reg = g[0]\n",
    "    tar = g[1]\n",
    "    connection = g[2]\n",
    "    goldIm[reg][tar] = connection\n",
    "\n"
   ]
  },
  {
   "cell_type": "code",
   "execution_count": null,
   "metadata": {},
   "outputs": [],
   "source": [
    "plt.imshow(can)"
   ]
  },
  {
   "cell_type": "code",
   "execution_count": null,
   "metadata": {},
   "outputs": [],
   "source": [
    "plt.imshow(mag)"
   ]
  },
  {
   "cell_type": "code",
   "execution_count": null,
   "metadata": {},
   "outputs": [],
   "source": [
    "score = np.multiply(can, mag)"
   ]
  },
  {
   "cell_type": "code",
   "execution_count": null,
   "metadata": {},
   "outputs": [],
   "source": [
    "plt.imshow(score)"
   ]
  },
  {
   "cell_type": "code",
   "execution_count": null,
   "metadata": {},
   "outputs": [],
   "source": [
    "plt.imshow(goldIm)\n",
    "plt.title('True RT Combos');\n",
    "print(sum(sum(goldIm)))"
   ]
  },
  {
   "cell_type": "code",
   "execution_count": null,
   "metadata": {},
   "outputs": [],
   "source": [
    "tscore = np.nonzero(score > score.mean() + 0.8*score.std())\n",
    "tscoreIm = np.zeros(shape=goldIm.shape) \n",
    "tscoreIm[tscore] = 1\n",
    "plt.imshow(tscoreIm);\n",
    "plt.title('Score Out');\n",
    "print(sum(sum(tscoreIm)))"
   ]
  },
  {
   "cell_type": "code",
   "execution_count": null,
   "metadata": {},
   "outputs": [],
   "source": [
    "plt.imshow(np.abs(goldIm-tscoreIm));\n",
    "plt.title(\"Difference between Gold and our score\")"
   ]
  },
  {
   "cell_type": "code",
   "execution_count": null,
   "metadata": {},
   "outputs": [],
   "source": [
    "sum(sum(np.abs(goldIm-tscoreIm)))"
   ]
  },
  {
   "cell_type": "code",
   "execution_count": null,
   "metadata": {},
   "outputs": [],
   "source": [
    "type(mag)"
   ]
  },
  {
   "cell_type": "code",
   "execution_count": null,
   "metadata": {},
   "outputs": [],
   "source": [
    "tmag = np.nonzero(mag > mag.mean() + 3.0*mag.std())\n",
    "tmagIm = np.zeros(shape=goldIm.shape) \n",
    "tmagIm[tmag] = 1\n",
    "plt.imshow(tmagIm);\n",
    "plt.title('Magnitude Out');"
   ]
  },
  {
   "cell_type": "code",
   "execution_count": null,
   "metadata": {},
   "outputs": [],
   "source": [
    "#TODO: do box plot of scores and compare with score of goldIM\n",
    "#TODO: Try shapley tf1 version\n",
    "plt.boxplot(score[np.nonzero(goldIm)])"
   ]
  },
  {
   "cell_type": "code",
   "execution_count": null,
   "metadata": {},
   "outputs": [],
   "source": []
  },
  {
   "attachments": {},
   "cell_type": "markdown",
   "metadata": {},
   "source": [
    "# load this with the gold IM mask after copying the weights of an old auto encoder. \n"
   ]
  },
  {
   "cell_type": "code",
   "execution_count": null,
   "metadata": {},
   "outputs": [],
   "source": [
    "looseParent = modelSuperParent(superParent, regulator_gene_matrix, NUM_TARGETS, NUM_TIME_STEPS, NUM_TARGETS, 32)\n",
    "looseParent.compile(optimizer='adam', loss=ignore_noParent_MSE)\n",
    "o = looseParent.fit(beanIntensities, beanIntensities, epochs=200, verbose = True,  validation_data=(validation, validation),\n",
    "                    callbacks = [\n",
    "    tfmot.sparsity.keras.UpdatePruningStep()])\n",
    "print(o.history['loss'][-1]) #the final loss "
   ]
  },
  {
   "cell_type": "code",
   "execution_count": null,
   "metadata": {},
   "outputs": [],
   "source": [
    "sparseParent = modelSuperParent(superParent, regulator_gene_matrix, NUM_TARGETS, NUM_TIME_STEPS, NUM_TARGETS, 32, sparsity=0.98)\n",
    "sparseParent.compile(optimizer='adam', loss=ignore_noParent_MSE)\n",
    "o = sparseParent.fit(beanIntensities, beanIntensities, epochs=200, verbose = False,  validation_data=(validation, validation),\n",
    "                    callbacks = [\n",
    "    tfmot.sparsity.keras.UpdatePruningStep()])\n",
    "print(ignore_noParent_MSE(validation, sparseParent.predict(validation)))\n",
    "\n",
    "\n",
    "plt.imshow(tfMag := sparseParent.get_weights()[0])\n",
    "tfmag = np.nonzero(tfMag > tfMag.mean() + 0.0*tfMag.std())\n",
    "tfmagIm = np.zeros(shape=goldIm.shape) \n",
    "tfmagIm[tfmag] = 1\n",
    "plt.imshow(tfmagIm);\n",
    "plt.title('TF Magnitude Mask');"
   ]
  },
  {
   "cell_type": "code",
   "execution_count": null,
   "metadata": {},
   "outputs": [],
   "source": [
    "# pruning_params = {\n",
    "#     'pruning_schedule': PolynomialDecay(initial_sparsity=0.5,\n",
    "#         final_sparsity=0.9824, begin_step=1000, end_step=2000),\n",
    "#     'block_size': (2, 3),\n",
    "#     'block_pooling_type': 'MAX'\n",
    "# }\n",
    "\n",
    "# model = keras.Sequential([\n",
    "#     Dense(10, activation='relu', input_shape=(100,)),\n",
    "#     prune_low_magnitude(layers.Dense(2, activation='tanh'), **pruning_params)\n",
    "# ])"
   ]
  },
  {
   "cell_type": "code",
   "execution_count": null,
   "metadata": {},
   "outputs": [],
   "source": [
    "goldMask = 1-goldIm\n",
    "goldMask = goldMask.astype(np.float32)\n",
    "plt.imshow(goldMask);\n",
    "plt.title(\"Mask created by true R-T\");\n",
    "sum(sum(goldMask))"
   ]
  },
  {
   "cell_type": "code",
   "execution_count": null,
   "metadata": {},
   "outputs": [],
   "source": [
    "tscoreMask = -1.0*tscoreIm + 1.0 \n",
    "tscoreMask = tscoreMask.astype(np.float32)\n",
    "plt.imshow(tscoreMask);\n",
    "plt.title(\"Mask created by our score\");\n",
    "sum(sum(tscoreMask))"
   ]
  },
  {
   "cell_type": "code",
   "execution_count": null,
   "metadata": {},
   "outputs": [],
   "source": [
    "tmagMask = -1.0*tmagIm + 1.0 \n",
    "tmagMask = tmagMask.astype(np.float32)\n",
    "plt.imshow(tmagMask);\n",
    "plt.title(\"Mask created by AE magntidue\");\n",
    "print(sum(sum(tmagMask)))"
   ]
  },
  {
   "cell_type": "code",
   "execution_count": null,
   "metadata": {},
   "outputs": [],
   "source": [
    "tmagAC = modelSuperParent(tmagMask, tmagMask, NUM_TARGETS, NUM_TIME_STEPS, NUM_TARGETS, 32)\n",
    "tmagAC.set_weights( looseParent.get_weights() )\n",
    "tmagACout = tmagAC(validation) #, verbose = 0)\n",
    "loss = ignore_noParent_MSE(validation, tmagACout)\n",
    "print(loss)"
   ]
  },
  {
   "cell_type": "code",
   "execution_count": null,
   "metadata": {},
   "outputs": [],
   "source": [
    "scoreAC = modelSuperParent(tscoreMask, tscoreMask, NUM_TARGETS, NUM_TIME_STEPS, NUM_TARGETS, 32)\n",
    "scoreAC.set_weights(looseParent.get_weights())\n",
    "scoreACout = scoreAC(validation) #, verbose = 0)\n",
    "loss = ignore_noParent_MSE(validation, scoreACout)\n",
    "print(loss)"
   ]
  },
  {
   "cell_type": "code",
   "execution_count": null,
   "metadata": {},
   "outputs": [],
   "source": [
    "goldAC = modelSuperParent(goldMask, goldMask, NUM_TARGETS, NUM_TIME_STEPS, NUM_TARGETS, 32)\n",
    "goldAC.set_weights(looseParent.get_weights())\n",
    "goldout = goldAC(validation) #, verbose = 0)\n",
    "loss = ignore_noParent_MSE(validation, goldout)\n",
    "print(loss)"
   ]
  },
  {
   "cell_type": "code",
   "execution_count": null,
   "metadata": {},
   "outputs": [],
   "source": [
    "print(ignore_noParent_MSE(validation, looseParent.predict(validation)))"
   ]
  },
  {
   "cell_type": "code",
   "execution_count": null,
   "metadata": {},
   "outputs": [],
   "source": [
    "from sklearn.metrics import roc_auc_score\n",
    "roc_auc_score(goldIm[parent_idx].flatten(), tscoreIm[parent_idx].flatten(), average='samples')"
   ]
  },
  {
   "cell_type": "code",
   "execution_count": null,
   "metadata": {},
   "outputs": [],
   "source": [
    "from sklearn.metrics import confusion_matrix\n",
    "print('true negative, false positive')\n",
    "print('false negative, true positive') \n",
    "print(confusion_matrix(goldIm[parent_idx].flatten(), tscoreIm[parent_idx].flatten())) "
   ]
  },
  {
   "cell_type": "code",
   "execution_count": null,
   "metadata": {},
   "outputs": [],
   "source": []
  },
  {
   "cell_type": "code",
   "execution_count": null,
   "metadata": {},
   "outputs": [],
   "source": [
    "# import numpy as np\n",
    "# import matplotlib.pyplot as plt\n",
    " \n",
    "# set width of bar\n",
    "barWidth = 0.15\n",
    "#fig = plt.subplots(figsize =(12, 8))\n",
    " \n",
    "# set height of bar\n",
    "IT = [0.019060984] #base\n",
    "score = [0.023739332]\n",
    "mag = [0.021395445]\n",
    "\n",
    "ECE = [0.024257105 ]  #gold\n",
    " \n",
    " \n",
    "# Set position of bar on X axis\n",
    "br1 = np.arange(len(IT))\n",
    "br2 = [x + barWidth for x in br1]\n",
    "br3 = [x + barWidth for x in br2]\n",
    "br4 = [x + barWidth for x in br3]\n",
    "\n",
    " \n",
    "# Make the plot\n",
    "plt.bar(br1, IT, color ='cyan', width = barWidth,\n",
    "        edgecolor ='grey', label ='Control')\n",
    "plt.bar(br2, score, color ='blue', width = barWidth,\n",
    "        edgecolor ='grey', label ='OBD (us)')\n",
    "plt.bar(br3, mag, color ='red', width = barWidth,\n",
    "        edgecolor ='grey', label ='Magnitude Pruning')\n",
    "plt.bar(br4, ECE, color ='green', width = barWidth,\n",
    "        edgecolor ='grey', label ='Gold Standard')\n",
    "# plt.bar(br3, CSE, color ='b', width = barWidth,\n",
    "#         edgecolor ='grey', label ='CSE')\n",
    " \n",
    "# Adding Xticks\n",
    "plt.xlabel('Mask', fontweight ='bold', fontsize = 15)\n",
    "plt.ylabel('MSE', fontweight ='bold', fontsize = 15)\n",
    "plt.xticks([r + barWidth for r in range(len(IT))],\n",
    "        [''])\n",
    " \n",
    "plt.title(\"MSE on the Validation Set\", fontweight='bold', fontsize = 18);\n",
    "plt.legend(loc = 'upper left');\n",
    "plt.ylim(0.018, 0.028)\n",
    "plt.show()"
   ]
  },
  {
   "cell_type": "code",
   "execution_count": null,
   "metadata": {},
   "outputs": [],
   "source": [
    "\n",
    "plt.imshow(tfMag := sparseParent.get_weights()[0])"
   ]
  },
  {
   "cell_type": "code",
   "execution_count": null,
   "metadata": {},
   "outputs": [],
   "source": [
    "\n",
    "\n",
    "tfmag = np.nonzero(np.abs(tfMag) > np.abs(tfMag)+0.01)\n",
    "tfmagIm = np.zeros(shape=goldIm.shape) \n",
    "tfmagIm[tmag] = 1\n",
    "plt.imshow(tfmagIm);\n",
    "plt.title('Mask created by AE Magnitude. TF Implementation');"
   ]
  },
  {
   "attachments": {},
   "cell_type": "markdown",
   "metadata": {},
   "source": [
    "# Trash Under"
   ]
  },
  {
   "cell_type": "code",
   "execution_count": null,
   "metadata": {},
   "outputs": [],
   "source": [
    "from scipy import signal\n",
    "import scipy\n",
    "from sklearn.decomposition import FactorAnalysis\n",
    "X = scipy.signal.resample_poly(allData[0], up = 5, down = 1, axis = 0)\n",
    "print(X.shape)\n",
    "transformer = FactorAnalysis(n_components=41, random_state=0)\n",
    "X_transformed = transformer.fit_transform(X.T)\n",
    "X_transformed.shape"
   ]
  },
  {
   "cell_type": "code",
   "execution_count": null,
   "metadata": {},
   "outputs": [],
   "source": [
    "plt.imshow(allData[0])"
   ]
  },
  {
   "cell_type": "code",
   "execution_count": null,
   "metadata": {},
   "outputs": [],
   "source": [
    "plt.imshow(X)"
   ]
  },
  {
   "cell_type": "code",
   "execution_count": null,
   "metadata": {},
   "outputs": [],
   "source": [
    "transformer.components_.shape"
   ]
  },
  {
   "cell_type": "code",
   "execution_count": null,
   "metadata": {},
   "outputs": [],
   "source": [
    "plt.imshow(transformer.components_)"
   ]
  },
  {
   "cell_type": "code",
   "execution_count": null,
   "metadata": {},
   "outputs": [],
   "source": [
    "#  val_loss: 0.0221"
   ]
  },
  {
   "cell_type": "code",
   "execution_count": null,
   "metadata": {},
   "outputs": [],
   "source": []
  },
  {
   "cell_type": "code",
   "execution_count": null,
   "metadata": {},
   "outputs": [],
   "source": [
    "plt.imshow(score)"
   ]
  },
  {
   "cell_type": "code",
   "execution_count": null,
   "metadata": {},
   "outputs": [],
   "source": [
    "tscore"
   ]
  },
  {
   "cell_type": "code",
   "execution_count": null,
   "metadata": {},
   "outputs": [],
   "source": [
    "plt.imshow(mag)"
   ]
  },
  {
   "cell_type": "code",
   "execution_count": null,
   "metadata": {},
   "outputs": [],
   "source": [
    "can[19]"
   ]
  },
  {
   "cell_type": "code",
   "execution_count": null,
   "metadata": {},
   "outputs": [],
   "source": [
    "goldIm[19]"
   ]
  },
  {
   "cell_type": "code",
   "execution_count": null,
   "metadata": {},
   "outputs": [],
   "source": [
    "mag.max()"
   ]
  },
  {
   "cell_type": "code",
   "execution_count": null,
   "metadata": {},
   "outputs": [],
   "source": [
    "mag[78]"
   ]
  },
  {
   "cell_type": "code",
   "execution_count": null,
   "metadata": {},
   "outputs": [],
   "source": [
    "can[4]"
   ]
  },
  {
   "cell_type": "code",
   "execution_count": null,
   "metadata": {},
   "outputs": [],
   "source": [
    "plt.imshow(can)"
   ]
  },
  {
   "cell_type": "code",
   "execution_count": null,
   "metadata": {},
   "outputs": [],
   "source": [
    "(np.cov(score, goldIm))\n"
   ]
  },
  {
   "cell_type": "code",
   "execution_count": null,
   "metadata": {},
   "outputs": [],
   "source": [
    "plt.imshow(np.cov(goldIm, score)[100:, 100:])\n",
    "#[100:, 100:]"
   ]
  },
  {
   "cell_type": "code",
   "execution_count": null,
   "metadata": {},
   "outputs": [],
   "source": [
    "u = np.vstack([goldIm.flatten(), score.flatten()])\n",
    "u.shape"
   ]
  },
  {
   "cell_type": "code",
   "execution_count": null,
   "metadata": {},
   "outputs": [],
   "source": [
    "np.cov(u)"
   ]
  },
  {
   "cell_type": "code",
   "execution_count": null,
   "metadata": {},
   "outputs": [],
   "source": [
    "plt.imshow(score);"
   ]
  },
  {
   "cell_type": "code",
   "execution_count": null,
   "metadata": {},
   "outputs": [],
   "source": []
  },
  {
   "cell_type": "code",
   "execution_count": null,
   "metadata": {},
   "outputs": [],
   "source": [
    "np.argmin(score)"
   ]
  },
  {
   "cell_type": "code",
   "execution_count": null,
   "metadata": {},
   "outputs": [],
   "source": [
    "score[score > score.mean() + score.var()]"
   ]
  },
  {
   "cell_type": "code",
   "execution_count": null,
   "metadata": {},
   "outputs": [],
   "source": []
  },
  {
   "cell_type": "code",
   "execution_count": null,
   "metadata": {},
   "outputs": [],
   "source": [
    "# pdf, bins = np.histogram(can, np.arange(NUM_PARENTS*NUM_TARGETS))\n",
    "# pdf"
   ]
  },
  {
   "cell_type": "code",
   "execution_count": null,
   "metadata": {},
   "outputs": [],
   "source": [
    "mag.shape"
   ]
  },
  {
   "attachments": {},
   "cell_type": "markdown",
   "metadata": {},
   "source": [
    "# Magnitudes After Training"
   ]
  },
  {
   "cell_type": "code",
   "execution_count": null,
   "metadata": {},
   "outputs": [],
   "source": [
    "NUM_PARENTS*NUM_TARGETS"
   ]
  },
  {
   "cell_type": "code",
   "execution_count": null,
   "metadata": {},
   "outputs": [],
   "source": [
    "#np.unravel_index(NUM_PARENTS*NUM_TARGETS, shape = (NUM_PARENTS, NUM_TARGETS))"
   ]
  },
  {
   "cell_type": "code",
   "execution_count": null,
   "metadata": {},
   "outputs": [],
   "source": [
    "pdf, bins = np.histogram(can, bins=NUM_PARENTS*NUM_TARGETS)"
   ]
  },
  {
   "cell_type": "code",
   "execution_count": null,
   "metadata": {},
   "outputs": [],
   "source": [
    "len(bins)"
   ]
  },
  {
   "cell_type": "code",
   "execution_count": null,
   "metadata": {},
   "outputs": [],
   "source": [
    "pdf, bins = np.histogram(can, np.arange(0, NUM_PARENTS*NUM_TARGETS))"
   ]
  },
  {
   "cell_type": "code",
   "execution_count": null,
   "metadata": {},
   "outputs": [],
   "source": [
    "bins"
   ]
  },
  {
   "cell_type": "code",
   "execution_count": null,
   "metadata": {},
   "outputs": [],
   "source": [
    "plt.plot(pdf)"
   ]
  },
  {
   "cell_type": "code",
   "execution_count": null,
   "metadata": {},
   "outputs": [],
   "source": [
    "# plt.hist(pdf, bins)"
   ]
  },
  {
   "cell_type": "code",
   "execution_count": null,
   "metadata": {},
   "outputs": [],
   "source": [
    "#TODO: CHECK ME\n",
    "def get_top_reg_targets(can, mag):\n",
    "    \n",
    "    pdf, bins = np.histogram(can, np.arange(0, NUM_PARENTS*NUM_TARGETS))\n",
    "    \n",
    "    pdf2d = np.zeros(shape = (NUM_PARENTS,NUM_TARGETS))\n",
    "\n",
    "    for i in bins:\n",
    "      idx2d = np.unravel_index(i, shape = (NUM_PARENTS, NUM_TARGETS))\n",
    "      try:\n",
    "        pdf2d[idx2d] = pdf[i]\n",
    "      except IndexError:\n",
    "        print(i, idx2d, len(pdf), len(bins), bins[-1])\n",
    "    \n",
    "\n",
    "    importance = np.multiply(pdf2d, mag)\n",
    "    return importance"
   ]
  },
  {
   "cell_type": "code",
   "execution_count": null,
   "metadata": {},
   "outputs": [],
   "source": [
    "top = get_top_reg_targets(can, mag)"
   ]
  },
  {
   "cell_type": "code",
   "execution_count": null,
   "metadata": {},
   "outputs": [],
   "source": []
  },
  {
   "cell_type": "code",
   "execution_count": null,
   "metadata": {},
   "outputs": [],
   "source": [
    "top.shape"
   ]
  },
  {
   "cell_type": "code",
   "execution_count": null,
   "metadata": {},
   "outputs": [],
   "source": [
    "plt.imshow(top)"
   ]
  },
  {
   "attachments": {},
   "cell_type": "markdown",
   "metadata": {},
   "source": [
    "#TODO: try factorial data, ordinary Auto encoder, treshold, tensorflow pruning, check average epoch of lazy kernel\n",
    "\n",
    "#TODO: Actually measure MSE "
   ]
  },
  {
   "cell_type": "code",
   "execution_count": null,
   "metadata": {},
   "outputs": [],
   "source": [
    "plt.imshow(mag)"
   ]
  },
  {
   "cell_type": "code",
   "execution_count": null,
   "metadata": {},
   "outputs": [],
   "source": [
    "# lm = pd.DataFrame(top)\n",
    "# lm.to_csv(\"top_r_t_HepG2.csv\")"
   ]
  },
  {
   "cell_type": "code",
   "execution_count": null,
   "metadata": {},
   "outputs": [],
   "source": [
    "# topdf = pd.read_csv('top_r_t_HepG2.csv')\n",
    "# topdf.head(5)\n"
   ]
  },
  {
   "cell_type": "code",
   "execution_count": null,
   "metadata": {},
   "outputs": [],
   "source": [
    "# top = np.array(topdf)\n",
    "# plt.imshow(top)"
   ]
  },
  {
   "cell_type": "code",
   "execution_count": null,
   "metadata": {},
   "outputs": [],
   "source": [
    "# top = top[:,1:]\n",
    "# plt.imshow(top)"
   ]
  },
  {
   "cell_type": "code",
   "execution_count": null,
   "metadata": {},
   "outputs": [],
   "source": [
    "# np.max(top)"
   ]
  },
  {
   "cell_type": "code",
   "execution_count": null,
   "metadata": {},
   "outputs": [],
   "source": [
    "np.array(non_zero).shape"
   ]
  },
  {
   "cell_type": "code",
   "execution_count": null,
   "metadata": {},
   "outputs": [],
   "source": [
    "top[non_zero].mean()"
   ]
  },
  {
   "cell_type": "code",
   "execution_count": null,
   "metadata": {},
   "outputs": [],
   "source": [
    "mag[non_zero].mean()\n"
   ]
  },
  {
   "cell_type": "code",
   "execution_count": null,
   "metadata": {},
   "outputs": [],
   "source": [
    "mag.mean()"
   ]
  },
  {
   "cell_type": "code",
   "execution_count": null,
   "metadata": {},
   "outputs": [],
   "source": [
    "top.mean()"
   ]
  },
  {
   "cell_type": "code",
   "execution_count": null,
   "metadata": {},
   "outputs": [],
   "source": [
    "no_connect = np.where(goldIm == 0)\n",
    "no_connect = np.array(no_connect)\n",
    "no_connect.shape"
   ]
  },
  {
   "cell_type": "code",
   "execution_count": null,
   "metadata": {},
   "outputs": [],
   "source": [
    "top[no_connect].mean()"
   ]
  },
  {
   "cell_type": "code",
   "execution_count": null,
   "metadata": {},
   "outputs": [],
   "source": [
    "mag[no_connect].mean()"
   ]
  },
  {
   "cell_type": "code",
   "execution_count": null,
   "metadata": {},
   "outputs": [],
   "source": [
    "mag01 = MinMaxScaler().fit_transform(mag.reshape((-1,1)))\n",
    "tff = mag01.flatten()\n",
    "std = np.std(tff)\n",
    "\n",
    "mu = np.mean(tff)\n",
    "mu, std\n",
    "magt = np.where(top > mu + 2*std, 1, 0)\n",
    "magt.dtype = 'int'\n",
    "plt.imshow(magt.reshape(100,100))"
   ]
  },
  {
   "cell_type": "code",
   "execution_count": null,
   "metadata": {},
   "outputs": [],
   "source": [
    "from sklearn.metrics import roc_auc_score\n",
    "roc_auc_score(goldIm.flatten(), magt.flatten(), average='samples')"
   ]
  },
  {
   "cell_type": "code",
   "execution_count": null,
   "metadata": {},
   "outputs": [],
   "source": [
    "top01 = MinMaxScaler().fit_transform(top.reshape((-1,1)))"
   ]
  },
  {
   "cell_type": "code",
   "execution_count": null,
   "metadata": {},
   "outputs": [],
   "source": [
    "plt.imshow(top01.reshape(100,100))"
   ]
  },
  {
   "cell_type": "code",
   "execution_count": null,
   "metadata": {},
   "outputs": [],
   "source": [
    "tff = top01.flatten()\n",
    "std = np.std(tff)\n",
    "\n",
    "mu = np.mean(tff)\n",
    "print(mu, std)\n",
    "yout = np.where(top01.flatten() > mu + 4*std, 1, 0)\n",
    "yout.dtype = 'int'"
   ]
  },
  {
   "cell_type": "code",
   "execution_count": null,
   "metadata": {},
   "outputs": [],
   "source": [
    "plt.imshow(yout.reshape(100,100))"
   ]
  },
  {
   "cell_type": "code",
   "execution_count": null,
   "metadata": {},
   "outputs": [],
   "source": [
    "plt.imshow(goldIm)"
   ]
  },
  {
   "cell_type": "code",
   "execution_count": null,
   "metadata": {},
   "outputs": [],
   "source": [
    "from sklearn.metrics import roc_auc_score\n",
    "roc_auc_score(goldIm.flatten(), (yout).flatten(), average='samples')"
   ]
  },
  {
   "cell_type": "code",
   "execution_count": null,
   "metadata": {},
   "outputs": [],
   "source": [
    "from sklearn.metrics import PrecisionRecallDisplay\n",
    "PrecisionRecallDisplay.from_predictions(goldIm.flatten(), yout.flatten());"
   ]
  },
  {
   "cell_type": "code",
   "execution_count": null,
   "metadata": {},
   "outputs": [],
   "source": []
  },
  {
   "cell_type": "code",
   "execution_count": null,
   "metadata": {},
   "outputs": [],
   "source": [
    "tff = top.flatten()\n",
    "std = np.std(tff)\n",
    "\n",
    "mu = np.mean(tff)\n",
    "mu, std\n",
    "yout = np.where(top > mu + 3*std, 1, 0)\n",
    "yout.dtype = 'int'"
   ]
  },
  {
   "cell_type": "code",
   "execution_count": null,
   "metadata": {},
   "outputs": [],
   "source": [
    "roc_auc_score(goldIm.flatten(), yout.flatten(), average='samples')"
   ]
  },
  {
   "cell_type": "code",
   "execution_count": null,
   "metadata": {},
   "outputs": [],
   "source": [
    "magX = StandardScaler().fit_transform(top.reshape((-1,1)))\n",
    "magX = MinMaxScaler().fit_transform(magX.reshape((-1,1)))\n",
    "you2 = np.where(magX > mu + 3*std, 1, 0)"
   ]
  },
  {
   "cell_type": "code",
   "execution_count": null,
   "metadata": {},
   "outputs": [],
   "source": [
    "roc_auc_score(goldIm.flatten(), you2.flatten(), average='samples')"
   ]
  },
  {
   "attachments": {},
   "cell_type": "markdown",
   "metadata": {},
   "source": [
    "# Draw old graphs; probably trash"
   ]
  },
  {
   "cell_type": "code",
   "execution_count": null,
   "metadata": {},
   "outputs": [],
   "source": [
    "u = plt.imshow(top, cmap = 'inferno', vmin = 0, vmax = np.max(top));\n",
    "plt.colorbar(u ,fraction=0.026, pad=0.1, orientation='horizontal');\n",
    "plt.title(\"HepG2: Regulator-Target Combination Importance\");"
   ]
  },
  {
   "cell_type": "code",
   "execution_count": null,
   "metadata": {},
   "outputs": [],
   "source": [
    "topID = np.array(np.unravel_index(np.argsort(top, axis=None), top.shape))\n",
    "topID = np.flip(topID, axis=1)\n",
    "topID[0] = parent_idx[topID[0]]\n",
    "topID = topID.T\n",
    "topID"
   ]
  },
  {
   "cell_type": "code",
   "execution_count": null,
   "metadata": {},
   "outputs": [],
   "source": [
    "topR_T = pd.DataFrame(topID)\n",
    "topR_T.to_csv(\"DREAM4_Top_reg_target_decendingOrder_firstColIsRegulator.csv\")"
   ]
  },
  {
   "cell_type": "code",
   "execution_count": null,
   "metadata": {},
   "outputs": [],
   "source": [
    "best = np.zeros(NUM_PARENTS)\n",
    "for i in range(NUM_PARENTS):\n",
    "    best[i] = np.sum(top[i])\n",
    "best"
   ]
  },
  {
   "cell_type": "code",
   "execution_count": null,
   "metadata": {},
   "outputs": [],
   "source": [
    "x = np.arange(0,NUM_PARENTS, dtype=int)\n",
    "plt.plot(x, best); "
   ]
  },
  {
   "cell_type": "code",
   "execution_count": null,
   "metadata": {},
   "outputs": [],
   "source": [
    "idx = np.flip(np.argsort(best))\n",
    "idx"
   ]
  },
  {
   "cell_type": "code",
   "execution_count": null,
   "metadata": {},
   "outputs": [],
   "source": [
    "parent_idx[idx] "
   ]
  },
  {
   "cell_type": "code",
   "execution_count": null,
   "metadata": {},
   "outputs": [],
   "source": [
    "np.unique(can).size"
   ]
  },
  {
   "attachments": {},
   "cell_type": "markdown",
   "metadata": {},
   "source": [
    "# Inference on Petal Len"
   ]
  },
  {
   "cell_type": "code",
   "execution_count": null,
   "metadata": {},
   "outputs": [],
   "source": [
    "petal = pd.read_excel(data_path_petal)"
   ]
  },
  {
   "cell_type": "code",
   "execution_count": null,
   "metadata": {},
   "outputs": [],
   "source": [
    "petal_train = petal[petal[\"Line\"] == \"WT\"]\n",
    "petal_train = petal_train.drop(columns=['Line', 'ID', \"Treatment\"])\n",
    "petal_train.head(12)\n",
    "petal_train = petal_train.groupby(['Plate']).mean()\n",
    "petal_train.head()\n",
    "petal_train = petal_train.to_numpy()\n",
    "print(petal_train.shape)\n",
    "scaler1 = StandardScaler()\n",
    "scaler1.fit(petal_train)\n",
    "petal_train = scaler1.transform(petal_train)\n",
    "mm = MinMaxScaler()\n",
    "mm.fit(petal_train)\n",
    "petal_train = mm.transform(petal_train)\n",
    "petal_train"
   ]
  },
  {
   "cell_type": "code",
   "execution_count": null,
   "metadata": {},
   "outputs": [],
   "source": [
    "petal_test = petal[petal[\"Line\"] != \"WT\"]\n",
    "petal_test = petal_test.drop(columns=['Line', 'ID', \"Treatment\"])\n",
    "petal_test = petal_test.groupby(['Plate']).mean()\n",
    "petal_test.head()\n",
    "petal_test = petal_test.to_numpy()\n",
    "print(petal_test.shape)\n",
    "petal_test = scaler1.transform(petal_test)\n",
    "petal_test = mm.transform(petal_test)\n",
    "petal_test"
   ]
  },
  {
   "cell_type": "code",
   "execution_count": null,
   "metadata": {},
   "outputs": [],
   "source": [
    "experiment1.shape\n",
    "testCandidate.shape"
   ]
  },
  {
   "cell_type": "code",
   "execution_count": null,
   "metadata": {},
   "outputs": [],
   "source": [
    "densePredictor = modelDense2(superParent, regulator_gene_matrix, NUM_TARGETS, 6, NUM_TARGETS, 22)\n",
    "densePredictor.compile(optimizer='adam', loss=ignore_noParent_MSE)\n",
    "densePredictor.fit(beanIntensities, beanIntensities,validation_data=(experiment1, experiment1),  epochs=100,  verbose=1)\n",
    "test = densePredictor(testCandidate) #, verbose = 0)\n",
    "loss = ignore_noParent_MSE(testCandidate, test)\n",
    "print(loss)"
   ]
  },
  {
   "cell_type": "code",
   "execution_count": null,
   "metadata": {},
   "outputs": [],
   "source": [
    "rgm = superParent\n",
    "time_steps = 6\n",
    "num_kinase_regulators = NUM_TARGETS\n",
    "num_hidden_units = 22\n",
    "\n",
    "inp = Input(shape=(time_steps, num_kinase_regulators))\n",
    "x = DenseEncoderLinear2(rgm, regulator_gene_matrix, NUM_TARGETS, NUM_TARGETS)(inp)\n",
    "enc = denseencoder2(x, inp, num_hidden_units)\n",
    "denseP = tf.keras.Model(inputs=inp, outputs=enc)\n",
    "#set the weights of the encoder to the weights of auto encoder\n",
    "dw = densePredictor.get_weights()\n",
    "enc_w = dw[0:5]\n",
    "denseP.set_weights(enc_w)\n",
    "#add a dense layer  because we are ouputing 1 number\n",
    "l = Dense(32, activation = 'swish', use_bias=True, kernel_regularizer='l1_l2')(denseP.layers[-1].output)\n",
    "l = Dense(1, activation = 'linear', use_bias = True)(l)\n",
    "denseP = tf.keras.Model(denseP.inputs, l)\n",
    "#denseP.summary()"
   ]
  },
  {
   "cell_type": "code",
   "execution_count": null,
   "metadata": {},
   "outputs": [],
   "source": [
    "bp = np.concatenate([experiment1, experiment1, experiment1, experiment1])\n",
    "bp.shape\n",
    "#bigexperiment1.shape"
   ]
  },
  {
   "cell_type": "code",
   "execution_count": null,
   "metadata": {},
   "outputs": [],
   "source": [
    "a = petal_train[0]\n",
    "b = petal_train[1]\n",
    "c = petal_train[2]\n",
    "d = petal_train[3]\n",
    "\n",
    "petal_train1 = np.array([a,a,a,a, b,b,b,b, c,c,c,c, d,d,d,d]) #does this make sense? we are training network to predict .5\n",
    "petal_train1.shape"
   ]
  },
  {
   "cell_type": "code",
   "execution_count": null,
   "metadata": {},
   "outputs": [],
   "source": [
    "denseP.compile(optimizer='adam', loss=tf.keras.losses.MeanSquaredError())\n",
    "denseP.fit(experiment1, petal_train, epochs=500, verbose = 1)"
   ]
  },
  {
   "cell_type": "code",
   "execution_count": null,
   "metadata": {},
   "outputs": [],
   "source": [
    "testCandidate.shape"
   ]
  },
  {
   "cell_type": "code",
   "execution_count": null,
   "metadata": {},
   "outputs": [],
   "source": [
    "denseP(experiment1) #experiment1 is part of the training set."
   ]
  },
  {
   "cell_type": "code",
   "execution_count": null,
   "metadata": {},
   "outputs": [],
   "source": [
    "petal_train"
   ]
  },
  {
   "cell_type": "code",
   "execution_count": null,
   "metadata": {},
   "outputs": [],
   "source": [
    "print(denseP(testCandidate)) #model output"
   ]
  },
  {
   "cell_type": "code",
   "execution_count": null,
   "metadata": {},
   "outputs": [],
   "source": [
    "petal_test #true label"
   ]
  },
  {
   "cell_type": "code",
   "execution_count": null,
   "metadata": {},
   "outputs": [],
   "source": [
    "petal_train"
   ]
  },
  {
   "cell_type": "code",
   "execution_count": null,
   "metadata": {},
   "outputs": [],
   "source": [
    "denseP.evaluate(testCandidate, petal_test) #eval gave 1.3999 before"
   ]
  },
  {
   "attachments": {},
   "cell_type": "markdown",
   "metadata": {},
   "source": [
    "# Junk"
   ]
  },
  {
   "attachments": {},
   "cell_type": "markdown",
   "metadata": {},
   "source": [
    "## Test SHAP"
   ]
  },
  {
   "cell_type": "code",
   "execution_count": null,
   "metadata": {},
   "outputs": [],
   "source": [
    "\n",
    "# !pip install shap"
   ]
  },
  {
   "cell_type": "code",
   "execution_count": null,
   "metadata": {},
   "outputs": [],
   "source": []
  },
  {
   "cell_type": "code",
   "execution_count": 6,
   "metadata": {},
   "outputs": [
    {
     "name": "stdout",
     "output_type": "stream",
     "text": [
      "Model: \"autoencoder\"\n",
      "_________________________________________________________________\n",
      " Layer (type)                Output Shape              Param #   \n",
      "=================================================================\n",
      " img (InputLayer)            [(None, 28, 28, 1)]       0         \n",
      "                                                                 \n",
      " conv2d_4 (Conv2D)           (None, 26, 26, 16)        160       \n",
      "                                                                 \n",
      " conv2d_5 (Conv2D)           (None, 24, 24, 32)        4640      \n",
      "                                                                 \n",
      " max_pooling2d_1 (MaxPooling  (None, 8, 8, 32)         0         \n",
      " 2D)                                                             \n",
      "                                                                 \n",
      " conv2d_6 (Conv2D)           (None, 6, 6, 32)          9248      \n",
      "                                                                 \n",
      " conv2d_7 (Conv2D)           (None, 4, 4, 16)          4624      \n",
      "                                                                 \n",
      " global_max_pooling2d_1 (Glo  (None, 16)               0         \n",
      " balMaxPooling2D)                                                \n",
      "                                                                 \n",
      " reshape_1 (Reshape)         (None, 4, 4, 1)           0         \n",
      "                                                                 \n",
      " conv2d_transpose_4 (Conv2DT  (None, 6, 6, 16)         160       \n",
      " ranspose)                                                       \n",
      "                                                                 \n",
      " conv2d_transpose_5 (Conv2DT  (None, 8, 8, 32)         4640      \n",
      " ranspose)                                                       \n",
      "                                                                 \n",
      " up_sampling2d_1 (UpSampling  (None, 24, 24, 32)       0         \n",
      " 2D)                                                             \n",
      "                                                                 \n",
      " conv2d_transpose_6 (Conv2DT  (None, 26, 26, 16)       4624      \n",
      " ranspose)                                                       \n",
      "                                                                 \n",
      " conv2d_transpose_7 (Conv2DT  (None, 28, 28, 1)        145       \n",
      " ranspose)                                                       \n",
      "                                                                 \n",
      "=================================================================\n",
      "Total params: 28,241\n",
      "Trainable params: 28,241\n",
      "Non-trainable params: 0\n",
      "_________________________________________________________________\n"
     ]
    }
   ],
   "source": [
    "from keras.applications.vgg16 import VGG16\n",
    "from keras.applications.vgg16 import preprocess_input\n",
    "import keras.backend as K\n",
    "import numpy as np\n",
    "import json\n",
    "import shap\n",
    "import tensorflow.compat.v1.keras.backend as K\n",
    "import tensorflow as tf\n",
    "from tensorflow import keras\n",
    "from keras import layers\n",
    "\n",
    "tf.compat.v1.disable_eager_execution()\n",
    "\n",
    "# load pre-trained model and choose two images to explain\n",
    "model = VGG16(weights='imagenet', include_top=True)\n",
    "\n",
    "encoder_input = keras.Input(shape=(28, 28, 1), name=\"img\")\n",
    "x = layers.Conv2D(16, 3, activation=\"relu\")(encoder_input)\n",
    "x = layers.Conv2D(32, 3, activation=\"relu\")(x)\n",
    "x = layers.MaxPooling2D(3)(x)\n",
    "x = layers.Conv2D(32, 3, activation=\"relu\")(x)\n",
    "x = layers.Conv2D(16, 3, activation=\"relu\")(x)\n",
    "encoder_output = layers.GlobalMaxPooling2D()(x)\n",
    "\n",
    "encoder = keras.Model(encoder_input, encoder_output, name=\"encoder\")\n",
    "# encoder.summary()\n",
    "\n",
    "x = layers.Reshape((4, 4, 1))(encoder_output)\n",
    "x = layers.Conv2DTranspose(16, 3, activation=\"relu\")(x)\n",
    "x = layers.Conv2DTranspose(32, 3, activation=\"relu\")(x)\n",
    "x = layers.UpSampling2D(3)(x)\n",
    "x = layers.Conv2DTranspose(16, 3, activation=\"relu\")(x)\n",
    "decoder_output = layers.Conv2DTranspose(1, 3, activation=\"relu\")(x)\n",
    "\n",
    "autoencoder = keras.Model(encoder_input, decoder_output, name=\"autoencoder\")\n",
    "autoencoder.summary()\n"
   ]
  },
  {
   "cell_type": "code",
   "execution_count": 8,
   "metadata": {},
   "outputs": [],
   "source": [
    "model = autoencoder"
   ]
  },
  {
   "cell_type": "code",
   "execution_count": 9,
   "metadata": {},
   "outputs": [
    {
     "name": "stdout",
     "output_type": "stream",
     "text": [
      "WARNING:tensorflow:From C:\\Users\\Fin Amin\\AppData\\Local\\Temp\\ipykernel_16428\\1144032549.py:13: The name tf.keras.backend.get_session is deprecated. Please use tf.compat.v1.keras.backend.get_session instead.\n",
      "\n"
     ]
    },
    {
     "ename": "ValueError",
     "evalue": "Cannot feed value of shape (50, 224, 224, 3) for Tensor img_2:0, which has shape (None, 28, 28, 1)",
     "output_type": "error",
     "traceback": [
      "\u001b[1;31m---------------------------------------------------------------------------\u001b[0m",
      "\u001b[1;31mValueError\u001b[0m                                Traceback (most recent call last)",
      "\u001b[1;32mc:\\Users\\Fin Amin\\Desktop\\StemCellResearch\\dream4_100\\DreamEncoder4_100.ipynb Cell 207\u001b[0m in \u001b[0;36m<cell line: 14>\u001b[1;34m()\u001b[0m\n\u001b[0;32m     <a href='vscode-notebook-cell:/c%3A/Users/Fin%20Amin/Desktop/StemCellResearch/dream4_100/DreamEncoder4_100.ipynb#Y412sZmlsZQ%3D%3D?line=11'>12</a>\u001b[0m     feed_dict \u001b[39m=\u001b[39m \u001b[39mdict\u001b[39m(\u001b[39mzip\u001b[39m([model\u001b[39m.\u001b[39mlayers[\u001b[39m0\u001b[39m]\u001b[39m.\u001b[39minput], [preprocess_input(x\u001b[39m.\u001b[39mcopy())]))\n\u001b[0;32m     <a href='vscode-notebook-cell:/c%3A/Users/Fin%20Amin/Desktop/StemCellResearch/dream4_100/DreamEncoder4_100.ipynb#Y412sZmlsZQ%3D%3D?line=12'>13</a>\u001b[0m     \u001b[39mreturn\u001b[39;00m K\u001b[39m.\u001b[39mget_session()\u001b[39m.\u001b[39mrun(model\u001b[39m.\u001b[39mlayers[layer]\u001b[39m.\u001b[39minput, feed_dict)\n\u001b[0;32m     <a href='vscode-notebook-cell:/c%3A/Users/Fin%20Amin/Desktop/StemCellResearch/dream4_100/DreamEncoder4_100.ipynb#Y412sZmlsZQ%3D%3D?line=13'>14</a>\u001b[0m e \u001b[39m=\u001b[39m shap\u001b[39m.\u001b[39mGradientExplainer(\n\u001b[0;32m     <a href='vscode-notebook-cell:/c%3A/Users/Fin%20Amin/Desktop/StemCellResearch/dream4_100/DreamEncoder4_100.ipynb#Y412sZmlsZQ%3D%3D?line=14'>15</a>\u001b[0m     (model\u001b[39m.\u001b[39mlayers[\u001b[39m7\u001b[39m]\u001b[39m.\u001b[39minput, model\u001b[39m.\u001b[39mlayers[\u001b[39m-\u001b[39m\u001b[39m1\u001b[39m]\u001b[39m.\u001b[39moutput),\n\u001b[1;32m---> <a href='vscode-notebook-cell:/c%3A/Users/Fin%20Amin/Desktop/StemCellResearch/dream4_100/DreamEncoder4_100.ipynb#Y412sZmlsZQ%3D%3D?line=15'>16</a>\u001b[0m     map2layer(X, \u001b[39m7\u001b[39;49m),\n\u001b[0;32m     <a href='vscode-notebook-cell:/c%3A/Users/Fin%20Amin/Desktop/StemCellResearch/dream4_100/DreamEncoder4_100.ipynb#Y412sZmlsZQ%3D%3D?line=16'>17</a>\u001b[0m     local_smoothing\u001b[39m=\u001b[39m\u001b[39m0\u001b[39m \u001b[39m# std dev of smoothing noise\u001b[39;00m\n\u001b[0;32m     <a href='vscode-notebook-cell:/c%3A/Users/Fin%20Amin/Desktop/StemCellResearch/dream4_100/DreamEncoder4_100.ipynb#Y412sZmlsZQ%3D%3D?line=17'>18</a>\u001b[0m )\n\u001b[0;32m     <a href='vscode-notebook-cell:/c%3A/Users/Fin%20Amin/Desktop/StemCellResearch/dream4_100/DreamEncoder4_100.ipynb#Y412sZmlsZQ%3D%3D?line=18'>19</a>\u001b[0m shap_values,indexes \u001b[39m=\u001b[39m e\u001b[39m.\u001b[39mshap_values(map2layer(to_explain, \u001b[39m7\u001b[39m), ranked_outputs\u001b[39m=\u001b[39m\u001b[39m2\u001b[39m)\n\u001b[0;32m     <a href='vscode-notebook-cell:/c%3A/Users/Fin%20Amin/Desktop/StemCellResearch/dream4_100/DreamEncoder4_100.ipynb#Y412sZmlsZQ%3D%3D?line=20'>21</a>\u001b[0m \u001b[39m# get the names for the classes\u001b[39;00m\n",
      "\u001b[1;32mc:\\Users\\Fin Amin\\Desktop\\StemCellResearch\\dream4_100\\DreamEncoder4_100.ipynb Cell 207\u001b[0m in \u001b[0;36mmap2layer\u001b[1;34m(x, layer)\u001b[0m\n\u001b[0;32m     <a href='vscode-notebook-cell:/c%3A/Users/Fin%20Amin/Desktop/StemCellResearch/dream4_100/DreamEncoder4_100.ipynb#Y412sZmlsZQ%3D%3D?line=10'>11</a>\u001b[0m \u001b[39mdef\u001b[39;00m \u001b[39mmap2layer\u001b[39m(x, layer):\n\u001b[0;32m     <a href='vscode-notebook-cell:/c%3A/Users/Fin%20Amin/Desktop/StemCellResearch/dream4_100/DreamEncoder4_100.ipynb#Y412sZmlsZQ%3D%3D?line=11'>12</a>\u001b[0m     feed_dict \u001b[39m=\u001b[39m \u001b[39mdict\u001b[39m(\u001b[39mzip\u001b[39m([model\u001b[39m.\u001b[39mlayers[\u001b[39m0\u001b[39m]\u001b[39m.\u001b[39minput], [preprocess_input(x\u001b[39m.\u001b[39mcopy())]))\n\u001b[1;32m---> <a href='vscode-notebook-cell:/c%3A/Users/Fin%20Amin/Desktop/StemCellResearch/dream4_100/DreamEncoder4_100.ipynb#Y412sZmlsZQ%3D%3D?line=12'>13</a>\u001b[0m     \u001b[39mreturn\u001b[39;00m K\u001b[39m.\u001b[39;49mget_session()\u001b[39m.\u001b[39;49mrun(model\u001b[39m.\u001b[39;49mlayers[layer]\u001b[39m.\u001b[39;49minput, feed_dict)\n",
      "File \u001b[1;32m~\\AppData\\Roaming\\Python\\Python39\\site-packages\\tensorflow\\python\\client\\session.py:967\u001b[0m, in \u001b[0;36mBaseSession.run\u001b[1;34m(self, fetches, feed_dict, options, run_metadata)\u001b[0m\n\u001b[0;32m    964\u001b[0m run_metadata_ptr \u001b[39m=\u001b[39m tf_session\u001b[39m.\u001b[39mTF_NewBuffer() \u001b[39mif\u001b[39;00m run_metadata \u001b[39melse\u001b[39;00m \u001b[39mNone\u001b[39;00m\n\u001b[0;32m    966\u001b[0m \u001b[39mtry\u001b[39;00m:\n\u001b[1;32m--> 967\u001b[0m   result \u001b[39m=\u001b[39m \u001b[39mself\u001b[39;49m\u001b[39m.\u001b[39;49m_run(\u001b[39mNone\u001b[39;49;00m, fetches, feed_dict, options_ptr,\n\u001b[0;32m    968\u001b[0m                      run_metadata_ptr)\n\u001b[0;32m    969\u001b[0m   \u001b[39mif\u001b[39;00m run_metadata:\n\u001b[0;32m    970\u001b[0m     proto_data \u001b[39m=\u001b[39m tf_session\u001b[39m.\u001b[39mTF_GetBuffer(run_metadata_ptr)\n",
      "File \u001b[1;32m~\\AppData\\Roaming\\Python\\Python39\\site-packages\\tensorflow\\python\\client\\session.py:1164\u001b[0m, in \u001b[0;36mBaseSession._run\u001b[1;34m(self, handle, fetches, feed_dict, options, run_metadata)\u001b[0m\n\u001b[0;32m   1160\u001b[0m   np_val \u001b[39m=\u001b[39m np\u001b[39m.\u001b[39masarray(subfeed_val, dtype\u001b[39m=\u001b[39msubfeed_dtype)\n\u001b[0;32m   1162\u001b[0m \u001b[39mif\u001b[39;00m (\u001b[39mnot\u001b[39;00m is_tensor_handle_feed \u001b[39mand\u001b[39;00m\n\u001b[0;32m   1163\u001b[0m     \u001b[39mnot\u001b[39;00m subfeed_t\u001b[39m.\u001b[39mget_shape()\u001b[39m.\u001b[39mis_compatible_with(np_val\u001b[39m.\u001b[39mshape)):\n\u001b[1;32m-> 1164\u001b[0m   \u001b[39mraise\u001b[39;00m \u001b[39mValueError\u001b[39;00m(\n\u001b[0;32m   1165\u001b[0m       \u001b[39mf\u001b[39m\u001b[39m'\u001b[39m\u001b[39mCannot feed value of shape \u001b[39m\u001b[39m{\u001b[39;00m\u001b[39mstr\u001b[39m(np_val\u001b[39m.\u001b[39mshape)\u001b[39m}\u001b[39;00m\u001b[39m for Tensor \u001b[39m\u001b[39m'\u001b[39m\n\u001b[0;32m   1166\u001b[0m       \u001b[39mf\u001b[39m\u001b[39m'\u001b[39m\u001b[39m{\u001b[39;00msubfeed_t\u001b[39m.\u001b[39mname\u001b[39m}\u001b[39;00m\u001b[39m, which has shape \u001b[39m\u001b[39m'\u001b[39m\n\u001b[0;32m   1167\u001b[0m       \u001b[39mf\u001b[39m\u001b[39m'\u001b[39m\u001b[39m{\u001b[39;00m\u001b[39mstr\u001b[39m(subfeed_t\u001b[39m.\u001b[39mget_shape())\u001b[39m}\u001b[39;00m\u001b[39m'\u001b[39m)\n\u001b[0;32m   1168\u001b[0m \u001b[39mif\u001b[39;00m \u001b[39mnot\u001b[39;00m \u001b[39mself\u001b[39m\u001b[39m.\u001b[39mgraph\u001b[39m.\u001b[39mis_feedable(subfeed_t):\n\u001b[0;32m   1169\u001b[0m   \u001b[39mraise\u001b[39;00m \u001b[39mValueError\u001b[39;00m(\u001b[39mf\u001b[39m\u001b[39m'\u001b[39m\u001b[39mTensor \u001b[39m\u001b[39m{\u001b[39;00msubfeed_t\u001b[39m.\u001b[39mname\u001b[39m}\u001b[39;00m\u001b[39m may not be fed.\u001b[39m\u001b[39m'\u001b[39m)\n",
      "\u001b[1;31mValueError\u001b[0m: Cannot feed value of shape (50, 224, 224, 3) for Tensor img_2:0, which has shape (None, 28, 28, 1)"
     ]
    }
   ],
   "source": [
    "\n",
    "X,y = shap.datasets.imagenet50()\n",
    "to_explain = X[[39,41]]\n",
    "\n",
    "# load the ImageNet class names\n",
    "url = \"https://s3.amazonaws.com/deep-learning-models/image-models/imagenet_class_index.json\"\n",
    "fname = shap.datasets.cache(url)\n",
    "with open(fname) as f:\n",
    "    class_names = json.load(f)\n",
    "\n",
    "# explain how the input to the 7th layer of the model explains the top two classes\n",
    "def map2layer(x, layer):\n",
    "    feed_dict = dict(zip([model.layers[0].input], [preprocess_input(x.copy())]))\n",
    "    return K.get_session().run(model.layers[layer].input, feed_dict)\n",
    "e = shap.GradientExplainer(\n",
    "    (model.layers[7].input, model.layers[-1].output),\n",
    "    map2layer(X, 7),\n",
    "    local_smoothing=0 # std dev of smoothing noise\n",
    ")\n",
    "shap_values,indexes = e.shap_values(map2layer(to_explain, 7), ranked_outputs=2)\n",
    "\n",
    "# get the names for the classes\n",
    "index_names = np.vectorize(lambda x: class_names[str(x)][1])(indexes)\n",
    "\n",
    "# plot the explanations\n",
    "shap.image_plot(shap_values, to_explain, index_names)"
   ]
  },
  {
   "cell_type": "code",
   "execution_count": null,
   "metadata": {},
   "outputs": [],
   "source": [
    "tf.__version__"
   ]
  },
  {
   "attachments": {},
   "cell_type": "markdown",
   "metadata": {},
   "source": [
    "# Load the test set and the synthetic dataset:\n"
   ]
  },
  {
   "cell_type": "code",
   "execution_count": null,
   "metadata": {},
   "outputs": [],
   "source": [
    "def loadTestSet(test_path):\n",
    "    testFiles = []\n",
    "    for np_name in glob(os.path.join(data_path_testSet,'*.np[yz]')):\n",
    "        k = np.load(os.path.join(data_path_testSet,np_name))\n",
    "        testFiles.append(k)\n",
    "#         print(np_name)\n",
    "#         print(k.shape)\n",
    "    return np.array(testFiles)"
   ]
  },
  {
   "cell_type": "code",
   "execution_count": null,
   "metadata": {
    "id": "_PKjzdFCMwFg"
   },
   "outputs": [],
   "source": [
    "def read_files(data_path):\n",
    "\n",
    "    #genes_intensities_data_matrix = pd.read_csv(file_path_intensities, index_col = 0)\n",
    "    #print(os.listdir(data_path))\n",
    "    replicate_files = os.listdir(data_path)\n",
    "    #print('replicate files:',replicate_files)\n",
    "    replicates = []\n",
    "    # i = 0\n",
    "    for file in replicate_files:\n",
    "        \n",
    "        try:\n",
    "            #print('file name:',file)\n",
    "            #print('value of i:',i)\n",
    "            genes_intensities_data_matrix = pd.read_csv(os.path.join(data_path , file), index_col = 0, on_bad_lines='skip')\n",
    "            #print('genes_intensities_data_matrix:',  genes_intensities_data_matrix.head())\n",
    "            replicates.append(np.array(genes_intensities_data_matrix.values, dtype = float))\n",
    "            # i+=1\n",
    "        except PermissionError:\n",
    "            print(\"Not a CSV: \", os.path.join(data_path , file))\n",
    "        \n",
    "    genes_intensities_data_matrix = genes_intensities_data_matrix.values\n",
    "    rgm = np.loadtxt(matrix_path)\n",
    "    rep = np.array(replicates).astype(np.float32)\n",
    "    \n",
    "    return rep, rgm.astype(np.float32)"
   ]
  },
  {
   "cell_type": "code",
   "execution_count": null,
   "metadata": {
    "id": "JCwo4LwlO_FF"
   },
   "outputs": [],
   "source": [
    "beanIntensities, regulator_gene_matrix= read_files(data_path_syn)\n",
    "matrix = regulator_gene_matrix\n",
    "replicates = beanIntensities"
   ]
  },
  {
   "cell_type": "code",
   "execution_count": null,
   "metadata": {},
   "outputs": [],
   "source": [
    "matrix.shape"
   ]
  },
  {
   "cell_type": "code",
   "execution_count": null,
   "metadata": {},
   "outputs": [],
   "source": [
    "replicates.shape"
   ]
  },
  {
   "cell_type": "code",
   "execution_count": null,
   "metadata": {},
   "outputs": [],
   "source": [
    "plt.imshow(matrix)"
   ]
  },
  {
   "cell_type": "code",
   "execution_count": null,
   "metadata": {},
   "outputs": [],
   "source": []
  },
  {
   "cell_type": "code",
   "execution_count": null,
   "metadata": {},
   "outputs": [],
   "source": [
    "d = np.zeros(shape = (3,6,8))\n",
    "id = np.unravel_index(3*6*8 - 1, shape = d.shape)\n",
    "d[id] = 1\n",
    "plt.imshow(d[2])"
   ]
  },
  {
   "cell_type": "code",
   "execution_count": null,
   "metadata": {},
   "outputs": [],
   "source": [
    "testCandidate[0][ : , parentIndex]"
   ]
  },
  {
   "cell_type": "code",
   "execution_count": null,
   "metadata": {},
   "outputs": [],
   "source": [
    "print(outSyn.shape)\n",
    "print(testCandidate.shape)\n",
    "syntheticLoss = ignore_noParent_MSE(np.array([testCandidate[0]]), np.array([outSyn[0]]) )\n",
    "syntheticLoss"
   ]
  },
  {
   "cell_type": "code",
   "execution_count": null,
   "metadata": {},
   "outputs": [],
   "source": [
    "dd"
   ]
  },
  {
   "cell_type": "code",
   "execution_count": null,
   "metadata": {},
   "outputs": [],
   "source": [
    "plt.plot(change[0][22])\n",
    "plt.xlabel(\"epoch\")\n",
    "plt.ylabel(\"change in weight\")"
   ]
  },
  {
   "cell_type": "code",
   "execution_count": null,
   "metadata": {},
   "outputs": [],
   "source": [
    "plt.plot(lossMatrix)\n",
    "plt.xlabel(\"epochs\")\n",
    "plt.ylabel(\"MSE\")"
   ]
  },
  {
   "cell_type": "code",
   "execution_count": null,
   "metadata": {},
   "outputs": [],
   "source": [
    "print(change.shape, lossMatrix.shape)"
   ]
  },
  {
   "cell_type": "code",
   "execution_count": null,
   "metadata": {},
   "outputs": [],
   "source": [
    "d = np.diff(change[0][22])\n",
    "plt.plot(d)\n",
    "d.shape"
   ]
  },
  {
   "cell_type": "code",
   "execution_count": null,
   "metadata": {},
   "outputs": [],
   "source": [
    "change[0][0].flatten()"
   ]
  },
  {
   "cell_type": "code",
   "execution_count": null,
   "metadata": {},
   "outputs": [],
   "source": [
    "top_pr.shape"
   ]
  },
  {
   "cell_type": "code",
   "execution_count": null,
   "metadata": {},
   "outputs": [],
   "source": [
    "plt.plot(d[0])"
   ]
  },
  {
   "cell_type": "code",
   "execution_count": null,
   "metadata": {},
   "outputs": [],
   "source": [
    "\n",
    "# def compute_tresh(change, stop = 0.05):\n",
    "#     diffs = []\n",
    "#     for parent in range(len(change)):\n",
    "#         for child in range(len(change[0])):\n",
    "#             diffs.append(np.diff(change[parent][child]))\n",
    "#     inflection = []\n",
    "\n",
    "\n",
    "#     try:\n",
    "#         for d in diffs:\n",
    "#             print(np.argwhere(np.abs(d) < stop))\n",
    "#             inflection.append(np.min(np.argwhere(np.abs(d) < stop))) #return where the second derivative is first 0. \n",
    "\n",
    "#     except ValueError:\n",
    "#         print(\"Stop value \", stop, \" is too high, trying stop = \", stop + 0.05)\n",
    "#         # s = stop + 0.05\n",
    "#         # return compute_tresh(change, stop = s)\n",
    "        \n",
    "\n",
    "#     return np.average(inflection)\n",
    "        \n",
    "# d = compute_tresh(change)\n",
    "# d.shape"
   ]
  },
  {
   "cell_type": "code",
   "execution_count": null,
   "metadata": {},
   "outputs": [],
   "source": [
    "#np.save(\"mse3.npy\", avgMSE) #mse2/3 is with -1 fix"
   ]
  },
  {
   "cell_type": "code",
   "execution_count": null,
   "metadata": {},
   "outputs": [],
   "source": [
    "#https://www.sciencedirect.com/science/article/pii/S0925231220314570?casa_token=lcEJANqO0JwAAAAA:uL3DGUZctPUZz_sPz1K1i2klMtb83TyKnc9CI3_N-uSOaM7VHL8GhM0jCGYfo25NmpDQQ9Cvlw"
   ]
  },
  {
   "cell_type": "code",
   "execution_count": null,
   "metadata": {},
   "outputs": [],
   "source": [
    "rshp = Flatten()(looseParent.layers[-1].output)\n",
    "\n",
    "modelTemp = tf.keras.Model(inputs=looseParent.input, outputs = [rshp])\n",
    "modelTemp.summary()\n",
    "type(modelTemp)\n",
    "explainer = shap.DeepExplainer(modelTemp, syntheticDataTrain)\n",
    "#shap.explainers._deep.deep_tf.op_handlers[\"AddV2\"] = shap.explainers._deep.deep_tf.passthrough #this solves the \"shap_ADDV2\" problem but another one will appear\n",
    "#shap.explainers._deep.deep_tf.op_handlers[\"FusedBatchNormV3\"] = shap.explainers._deep.deep_tf.passthrough #this solves the next problem which allows you to run the DeepExplainer.\n",
    "\n",
    "shap_values = explainer.shap_values(testCandidate[0:1])\n",
    "def f(x):\n",
    "    return modelTemp.predict(x)\n",
    "\n",
    "print(f(testCandidate))\n",
    "explainer = shap.KernelExplainer(f , testCandidate[0:1], link=\"logit\") #svm.predict_proba, X_train, link=\"logit\")\n",
    "shap_values = explainer.shap_values(testCandidate[0:1], nsamples=100)\n",
    "def map2layer(x, layer):\n",
    "    feed_dict = dict(zip([model.layers[0].input], [preprocess_input(x.copy())]))\n",
    "    return K.get_session().run(model.layers[layer].input, feed_dict)\n",
    "e = shap.GradientExplainer(\n",
    "    (model.layers[7].input, model.layers[-1].output),\n",
    "    map2layer(X, 7),\n",
    "    local_smoothing=0 # std dev of smoothing noise\n",
    ")\n",
    "from keras.applications.vgg16 import VGG16\n",
    "from keras.applications.vgg16 import preprocess_input\n",
    "import keras.backend as K\n",
    "import numpy as np\n",
    "import json\n",
    "import shap\n",
    "\n",
    "# load pre-trained model and choose two images to explain\n",
    "model = VGG16(weights='imagenet', include_top=True)\n",
    "X,y = shap.datasets.imagenet50()\n",
    "to_explain = X[[39,41]]\n",
    "\n",
    "# load the ImageNet class names\n",
    "url = \"https://s3.amazonaws.com/deep-learning-models/image-models/imagenet_class_index.json\"\n",
    "fname = shap.datasets.cache(url)\n",
    "with open(fname) as f:\n",
    "    class_names = json.load(f)\n",
    "\n",
    "# explain how the input to the 7th layer of the model explains the top two classes\n",
    "def map2layer(x, layer):\n",
    "    feed_dict = dict(zip([model.layers[0].input], [preprocess_input(x.copy())]))\n",
    "    return K.get_session().run(model.layers[layer].input, feed_dict)\n",
    "e = shap.GradientExplainer(\n",
    "    (model.layers[7].input, model.layers[-1].output),\n",
    "    map2layer(X, 7),\n",
    "    local_smoothing=0 # std dev of smoothing noise\n",
    ")\n",
    "shap_values,indexes = e.shap_values(map2layer(to_explain, 7), ranked_outputs=2)\n",
    "\n",
    "# get the names for the classes\n",
    "index_names = np.vectorize(lambda x: class_names[str(x)][1])(indexes)\n",
    "\n",
    "# plot the explanations\n",
    "shap.image_plot(shap_values, to_explain, index_names)"
   ]
  },
  {
   "cell_type": "code",
   "execution_count": null,
   "metadata": {},
   "outputs": [],
   "source": [
    "type(enc_dec_Synthetic)"
   ]
  },
  {
   "cell_type": "code",
   "execution_count": null,
   "metadata": {},
   "outputs": [],
   "source": [
    "a = [1,2,3]\n",
    "b = [5,6]\n",
    "u = tf.concat([a,b], axis = 0)\n",
    "u"
   ]
  },
  {
   "cell_type": "code",
   "execution_count": null,
   "metadata": {},
   "outputs": [],
   "source": [
    "newConnections = superParent - regulator_gene_matrix"
   ]
  },
  {
   "cell_type": "code",
   "execution_count": null,
   "metadata": {},
   "outputs": [],
   "source": [
    "plt.imshow(newConnections)"
   ]
  },
  {
   "cell_type": "code",
   "execution_count": null,
   "metadata": {},
   "outputs": [],
   "source": [
    "# nC = []\n",
    "# for i in range(len(newConnections[0])):\n",
    "#     for j in range(len(newConnections[1])):\n",
    "#         if newConnections[i][j] > 0:\n",
    "#             nC.append([i,j])\n",
    "# nC = np.array(nC)\n",
    "# nC = pd.DataFrame(nC)\n",
    "# nC.to_csv(\"new_connections_in_superParents.csv\")"
   ]
  },
  {
   "cell_type": "code",
   "execution_count": null,
   "metadata": {},
   "outputs": [],
   "source": []
  },
  {
   "cell_type": "code",
   "execution_count": null,
   "metadata": {},
   "outputs": [],
   "source": []
  },
  {
   "cell_type": "code",
   "execution_count": null,
   "metadata": {},
   "outputs": [],
   "source": [
    "###Code for testing loss function\n",
    "# print(outSyn.shape)\n",
    "# print(testCandidate.shape)\n",
    "# syntheticLoss = ignore_noParent_MSE(np.array([testCandidate[0]]), np.array([outSyn[0]]) )\n",
    "# syntheticLoss"
   ]
  },
  {
   "attachments": {},
   "cell_type": "markdown",
   "metadata": {},
   "source": [
    "# Synthetic Dataset Auto Encoder\n",
    "Autoencoder has not been trained on synthetic version of experiement 1. We test on the original experiment 1. "
   ]
  },
  {
   "cell_type": "code",
   "execution_count": null,
   "metadata": {
    "id": "WrRuJ_bsrHll"
   },
   "outputs": [],
   "source": [
    "enc_dec_Synthetic.compile(optimizer='adam', loss=ignore_noParent_MSE)"
   ]
  },
  {
   "cell_type": "code",
   "execution_count": null,
   "metadata": {
    "id": "yAOZEEvRRVU4"
   },
   "outputs": [],
   "source": [
    "# enc_dec_Synthetic.compile(optimizer='adam',loss = keras.losses.SparseCategoricalCrossentropy(from_logits=True))"
   ]
  },
  {
   "cell_type": "code",
   "execution_count": null,
   "metadata": {},
   "outputs": [],
   "source": [
    "syntheticDataTrain = beanIntensities[1:]"
   ]
  },
  {
   "cell_type": "code",
   "execution_count": null,
   "metadata": {
    "colab": {
     "base_uri": "https://localhost:8080/"
    },
    "executionInfo": {
     "elapsed": 726,
     "status": "ok",
     "timestamp": 1649273035573,
     "user": {
      "displayName": "Sahil Anish Palarpwar",
      "userId": "17757512684560375750"
     },
     "user_tz": 240
    },
    "id": "EuNDZx5Ov34I",
    "outputId": "74597aa1-c71c-4491-b8c9-4fefed309325"
   },
   "outputs": [],
   "source": [
    "enc_dec_Synthetic.fit(syntheticDataTrain,syntheticDataTrain,epochs=1000)"
   ]
  },
  {
   "cell_type": "code",
   "execution_count": null,
   "metadata": {},
   "outputs": [],
   "source": [
    "test = enc_dec_Synthetic(testCandidate) #, verbose = 0)\n",
    "loss = ignore_noParent_MSE(testCandidate, test)\n",
    "loss"
   ]
  },
  {
   "cell_type": "code",
   "execution_count": null,
   "metadata": {},
   "outputs": [],
   "source": [
    "w = enc_dec_Synthetic.get_weights()"
   ]
  },
  {
   "cell_type": "code",
   "execution_count": null,
   "metadata": {},
   "outputs": [],
   "source": [
    "plt.imshow(w[0], cmap = \"hot\", vmin=0,vmax=0.02)"
   ]
  },
  {
   "cell_type": "code",
   "execution_count": null,
   "metadata": {
    "id": "SBzDmjqJViEw",
    "scrolled": true
   },
   "outputs": [],
   "source": [
    "#we do not need to use this function for the testset\n",
    "def getCSVs(data_path_head):\n",
    "    PATH = data_path_head\n",
    "    EXT = \"*.csv\"\n",
    "    all_csv_files = [file\n",
    "                     for path, subdir, files in os.walk(PATH)\n",
    "                     for file in glob(os.path.join(path, EXT))]\n",
    "    actual = []\n",
    "    for p in all_csv_files:\n",
    "        actual.append(pd.read_csv(p, index_col = 0).to_numpy())\n",
    "    return np.array(actual)\n",
    "    \n",
    "experiment1 = getCSVs(data_path_og_exp1)"
   ]
  },
  {
   "cell_type": "code",
   "execution_count": null,
   "metadata": {},
   "outputs": [],
   "source": [
    "testCandidate = test.numpy().astype(np.float)"
   ]
  },
  {
   "cell_type": "code",
   "execution_count": null,
   "metadata": {},
   "outputs": [],
   "source": [
    "testCandidate.dtype"
   ]
  },
  {
   "cell_type": "code",
   "execution_count": null,
   "metadata": {},
   "outputs": [],
   "source": [
    "np.array([beanIntensities[0]]).shape"
   ]
  },
  {
   "cell_type": "code",
   "execution_count": null,
   "metadata": {},
   "outputs": [],
   "source": [
    "testCandidate[0].shape"
   ]
  },
  {
   "cell_type": "code",
   "execution_count": null,
   "metadata": {},
   "outputs": [],
   "source": [
    "np.array([beanIntensities[0]]).shape"
   ]
  },
  {
   "cell_type": "code",
   "execution_count": null,
   "metadata": {},
   "outputs": [],
   "source": [
    "outSyn = enc_dec_Synthetic.predict(testCandidate)"
   ]
  },
  {
   "cell_type": "code",
   "execution_count": null,
   "metadata": {},
   "outputs": [],
   "source": [
    "def mymagn(A, B):\n",
    "    mse = (np.square(A - B)).mean(axis=None)\n",
    "    return mse"
   ]
  },
  {
   "cell_type": "code",
   "execution_count": null,
   "metadata": {},
   "outputs": [],
   "source": [
    "print(outSyn.shape)"
   ]
  },
  {
   "cell_type": "code",
   "execution_count": null,
   "metadata": {},
   "outputs": [],
   "source": [
    "syntheticLoss = ignore_noParent_MSE(testCandidate, outSyn )\n",
    "syntheticLoss"
   ]
  },
  {
   "cell_type": "code",
   "execution_count": null,
   "metadata": {},
   "outputs": [],
   "source": [
    "(outSyn-testCandidate).shape"
   ]
  },
  {
   "cell_type": "code",
   "execution_count": null,
   "metadata": {},
   "outputs": [],
   "source": [
    "#!pip3 install keras-visualizer\n",
    "#!pip install pydot\n",
    "#data_path_og_exp1 = data_path_testSet \n",
    "# !pip install pydot\n",
    "# !pip install pydotplus\n",
    "# !pip install graphviz"
   ]
  },
  {
   "cell_type": "code",
   "execution_count": null,
   "metadata": {},
   "outputs": [],
   "source": [
    "# test = loadTestSet(data_path_testSet)\n",
    "# testCandidate = test.astype(np.float)\n"
   ]
  },
  {
   "cell_type": "code",
   "execution_count": null,
   "metadata": {
    "id": "nPRV0OAMpKPH"
   },
   "outputs": [],
   "source": [
    "enc_dec_Synthetic = model(regulator_gene_matrix, NUM_TARGETS, NUM_TIME_STEPS, NUM_TARGETS) #we can just change the time steps to something higher"
   ]
  },
  {
   "cell_type": "code",
   "execution_count": null,
   "metadata": {
    "colab": {
     "base_uri": "https://localhost:8080/"
    },
    "executionInfo": {
     "elapsed": 13,
     "status": "ok",
     "timestamp": 1649273028683,
     "user": {
      "displayName": "Sahil Anish Palarpwar",
      "userId": "17757512684560375750"
     },
     "user_tz": 240
    },
    "id": "D6aPT5_cpKK0",
    "outputId": "c261d824-0f38-4eee-b139-f03a80f093e1"
   },
   "outputs": [],
   "source": [
    "enc_dec_Synthetic.summary()"
   ]
  },
  {
   "attachments": {},
   "cell_type": "markdown",
   "metadata": {},
   "source": [
    "# Interpolated dataset Auto Encoder\n",
    "Once again, we do not train on any version of exp1"
   ]
  },
  {
   "cell_type": "code",
   "execution_count": null,
   "metadata": {},
   "outputs": [],
   "source": [
    "def read_filesV2(data_path):\n",
    "    '''\n",
    "    *Changed*\n",
    "    currently hardcoded for only one file. \n",
    "    change code a bit for reading multiple files.\n",
    "    '''\n",
    "    #genes_intensities_data_matrix = pd.read_csv(file_path_intensities, index_col = 0)\n",
    "    #print(os.listdir(data_path))\n",
    "    replicate_files = os.listdir(data_path)\n",
    "    #print('replicate files:',replicate_files)\n",
    "    replicates = []\n",
    "    # i = 0\n",
    "    for file in replicate_files:\n",
    "        \n",
    "        #print('file name:',file)\n",
    "        #print('value of i:',i)\n",
    "        genes_intensities_data_matrix = pd.read_csv(os.path.join(data_path , file), index_col = 0, on_bad_lines='skip')\n",
    "        #print('genes_intensities_data_matrix:',  genes_intensities_data_matrix.head())\n",
    "        replicates.append(genes_intensities_data_matrix.values)\n",
    "        # i+=1\n",
    "        \n",
    "    genes_intensities_data_matrix = genes_intensities_data_matrix.values\n",
    "    rgm = np.loadtxt(matrix_path)\n",
    "    \n",
    "    return np.asarray(replicates), rgm.astype(np.float32)"
   ]
  },
  {
   "cell_type": "code",
   "execution_count": null,
   "metadata": {},
   "outputs": [],
   "source": [
    "interpolated_genes, _ = read_filesV2(data_path_inter)"
   ]
  },
  {
   "cell_type": "code",
   "execution_count": null,
   "metadata": {},
   "outputs": [],
   "source": [
    "interpolated_genes.shape"
   ]
  },
  {
   "cell_type": "code",
   "execution_count": null,
   "metadata": {},
   "outputs": [],
   "source": [
    "pd.DataFrame(interpolated_genes[2]).head(5)"
   ]
  },
  {
   "cell_type": "code",
   "execution_count": null,
   "metadata": {},
   "outputs": [],
   "source": [
    "inter = []\n",
    "for k in range(len(interpolated_genes)):\n",
    "    #print(k)\n",
    "    if k == 2 or k == 3 or k == 4:\n",
    "        inter.append(np.reshape(interpolated_genes[k], (4,6,NUM_TARGETS)))\n",
    "    else: \n",
    "        inter.append(np.reshape(interpolated_genes[k], (5,6,NUM_TARGETS)))\n",
    "inter = np.vstack(inter)"
   ]
  },
  {
   "cell_type": "code",
   "execution_count": null,
   "metadata": {},
   "outputs": [],
   "source": [
    "inter.shape"
   ]
  },
  {
   "cell_type": "code",
   "execution_count": null,
   "metadata": {},
   "outputs": [],
   "source": [
    "beanIntensities[1:].shape"
   ]
  },
  {
   "cell_type": "code",
   "execution_count": null,
   "metadata": {},
   "outputs": [],
   "source": [
    "enc_dec_inter = model(regulator_gene_matrix, NUM_TARGETS, 6, NUM_TARGETS) \n",
    "enc_dec_inter.compile(optimizer='adam', loss=ignore_noParent_MSE)"
   ]
  },
  {
   "cell_type": "code",
   "execution_count": null,
   "metadata": {},
   "outputs": [],
   "source": [
    "enc_dec_inter.fit(inter, inter,epochs=1000);"
   ]
  },
  {
   "cell_type": "code",
   "execution_count": null,
   "metadata": {},
   "outputs": [],
   "source": [
    "outInter = enc_dec_inter.predict(testCandidate)\n",
    "interpolationLoss = ignore_noParent_MSE(testCandidate, outInter)"
   ]
  },
  {
   "cell_type": "code",
   "execution_count": null,
   "metadata": {},
   "outputs": [],
   "source": [
    "interpolationLoss #used to be 3.84 on broke ignore"
   ]
  },
  {
   "cell_type": "code",
   "execution_count": null,
   "metadata": {},
   "outputs": [],
   "source": [
    "outInter.shape"
   ]
  },
  {
   "cell_type": "code",
   "execution_count": null,
   "metadata": {},
   "outputs": [],
   "source": [
    "u = enc_dec_inter.history\n",
    "u"
   ]
  },
  {
   "attachments": {},
   "cell_type": "markdown",
   "metadata": {},
   "source": [
    "# Comparisons between various outputs:"
   ]
  },
  {
   "cell_type": "code",
   "execution_count": null,
   "metadata": {},
   "outputs": [],
   "source": [
    "u = plt.imshow(np.reshape((np.abs(outSyn)), (24,NUM_TARGETS)), cmap = \"hot\", vmin=0,vmax=1.0 );"
   ]
  },
  {
   "cell_type": "code",
   "execution_count": null,
   "metadata": {},
   "outputs": [],
   "source": [
    "u = pd.DataFrame(outSyn[0])\n",
    "u.head(10)"
   ]
  },
  {
   "cell_type": "code",
   "execution_count": null,
   "metadata": {},
   "outputs": [],
   "source": [
    "u = pd.DataFrame(testCandidate[0])\n",
    "u.head(10)"
   ]
  },
  {
   "cell_type": "code",
   "execution_count": null,
   "metadata": {
    "scrolled": true
   },
   "outputs": [],
   "source": [
    "plt.figure(figsize=(50, 50))\n",
    "u = plt.imshow(np.reshape((np.abs(outSyn-outInter)), (24,NUM_TARGETS)), cmap = \"hot\")#, vmin=0,vmax=1.0 );\n",
    "plt.title(\"Difference Between the Outputs of Both Autoencoders\", fontsize = 40);\n",
    "plt.xlabel(\"Phosphopeptide\", fontsize = 30);\n",
    "plt.ylabel(\"Times Concatenated\", fontsize = 30);\n",
    "plt.colorbar(u ,fraction=0.0046, pad=0.02);\n",
    "#plt.savefig(\"DiffBetweenOut.png\")"
   ]
  },
  {
   "cell_type": "code",
   "execution_count": null,
   "metadata": {},
   "outputs": [],
   "source": [
    "plt.figure(figsize=(50, 50))\n",
    "u = plt.imshow(np.reshape(np.abs(outInter-experiment1), (24,NUM_TARGETS)) , cmap = \"hot\") #, vmin=0,vmax=1.0 )\n",
    "plt.title(\"Difference Between the Input and Output of the Autoencoder Trained on Interpolated Data\", fontsize = 40);\n",
    "plt.xlabel(\"Phosphopeptide\", fontsize = 30)\n",
    "plt.ylabel(\"Times Concatenated\", fontsize = 30);\n",
    "plt.colorbar(u ,fraction=0.0046, pad=0.02);\n",
    "#plt.savefig(\"InterDiffImage.png\")"
   ]
  },
  {
   "cell_type": "code",
   "execution_count": null,
   "metadata": {},
   "outputs": [],
   "source": [
    "plt.figure(figsize=(50, 50))\n",
    "u = plt.imshow(np.reshape(np.abs(outSyn-experiment1), (24,NUM_TARGETS)), cmap = \"hot\")#, vmin=0,vmax=1.0 )\n",
    "plt.title(\"Difference Between the Input and Output of the Autoencoder Trained on Synthetic Data\", fontsize = 40);\n",
    "plt.xlabel(\"Phosphopeptide\", fontsize = 30);\n",
    "plt.ylabel(\"Times Concatenated\", fontsize = 30);\n",
    "plt.colorbar(u ,fraction=0.0046, pad=0.02);\n",
    "#plt.savefig(\"SynDiffImage.png\");"
   ]
  },
  {
   "cell_type": "code",
   "execution_count": null,
   "metadata": {},
   "outputs": [],
   "source": [
    "parent_idx = parentIndex.numpy()\n",
    "#print(parent_idx)\n",
    "oSyn = (np.reshape((outSyn), (24,NUM_TARGETS)).T)[parent_idx]\n",
    "oSyn = oSyn.T\n",
    "oSyn.shape\n",
    "\n",
    "exp1_col = (np.reshape((experiment1), (24,NUM_TARGETS)).T)[parent_idx]\n",
    "exp1_col = exp1_col.T\n",
    "print(exp1_col.shape)\n",
    "\n",
    "u = plt.imshow(np.abs(oSyn - exp1_col), cmap = 'hot') #TODO use TF loss function instead of difference.\n",
    "ddff = oSyn-exp1_col\n",
    "plt.colorbar(u)\n",
    "plt.title(\"Difference Between the Input and Output of the Autoencoder Trained on Synthetic Data. Only parents.\");"
   ]
  },
  {
   "cell_type": "code",
   "execution_count": null,
   "metadata": {},
   "outputs": [],
   "source": [
    "pd.DataFrame(oSyn).head(24)"
   ]
  },
  {
   "cell_type": "code",
   "execution_count": null,
   "metadata": {},
   "outputs": [],
   "source": [
    "pd.DataFrame(exp1_col).head(24)\n"
   ]
  },
  {
   "cell_type": "code",
   "execution_count": null,
   "metadata": {},
   "outputs": [],
   "source": [
    "pd.DataFrame(ddff).head(24)\n"
   ]
  },
  {
   "cell_type": "code",
   "execution_count": null,
   "metadata": {},
   "outputs": [],
   "source": [
    "# np.save(\"interpolated_v2.npy\", inter) #the interpolated dataset\n",
    "# np.save(\"synthetic_v2.npy\", beanIntensities[1:]) # the synthetic dataset\n",
    "# np.save(\"synOut_v2.npy\", outSyn) #the output of the encoder trained on synthetic data with the input being exp1\n",
    "# np.save(\"interOut_v2.npy\", outInter) #the output of the encoder trained on interpolated data with the input being exp1"
   ]
  },
  {
   "cell_type": "code",
   "execution_count": null,
   "metadata": {},
   "outputs": [],
   "source": []
  }
 ],
 "metadata": {
  "colab": {
   "authorship_tag": "ABX9TyM6J5QSynTTgZ+lFOhgOtAG",
   "collapsed_sections": [],
   "name": "cnn-third.ipynb",
   "provenance": [
    {
     "file_id": "1mmRxO5jnBc5CdzxXj8sMtPpG0BQ0ulSs",
     "timestamp": 1648921397876
    },
    {
     "file_id": "10758zFj2UnTnwpQaSFIr5r9MqZWdiMsf",
     "timestamp": 1648674775255
    }
   ]
  },
  "kernelspec": {
   "display_name": "Python 3.9.12 ('base')",
   "language": "python",
   "name": "python3"
  },
  "language_info": {
   "codemirror_mode": {
    "name": "ipython",
    "version": 3
   },
   "file_extension": ".py",
   "mimetype": "text/x-python",
   "name": "python",
   "nbconvert_exporter": "python",
   "pygments_lexer": "ipython3",
   "version": "3.9.12"
  },
  "vscode": {
   "interpreter": {
    "hash": "ad2bdc8ecc057115af97d19610ffacc2b4e99fae6737bb82f5d7fb13d2f2c186"
   }
  }
 },
 "nbformat": 4,
 "nbformat_minor": 1
}
